{
 "cells": [
  {
   "cell_type": "markdown",
   "id": "58429f1d",
   "metadata": {},
   "source": [
    "# use trait image as extent and create extent shp file"
   ]
  },
  {
   "cell_type": "code",
   "execution_count": 1,
   "id": "fc9f27d6",
   "metadata": {},
   "outputs": [],
   "source": [
    "from osgeo import gdal,ogr,osr\n",
    "\n",
    "# Input raster file\n",
    "raster_file = r'F:\\wenqu\\trait_map\\trait_proj\\site2c_d13c_trait_project_to_aviris.tif'\n",
    "\n",
    "# Output polygon file\n",
    "polygon_file = r'F:\\wenqu\\Aviris\\site2c\\site2c_aviris_clip\\site2c_d13c_trait_project_to_aviris.shp'"
   ]
  },
  {
   "cell_type": "code",
   "execution_count": 2,
   "id": "ca71dd6d",
   "metadata": {},
   "outputs": [],
   "source": [
    "# Open the input raster file\n",
    "raster_ds = gdal.Open(raster_file)\n",
    "\n",
    "# Get the raster band and its data type\n",
    "band = raster_ds.GetRasterBand(1)\n",
    "data_type = band.DataType\n",
    "\n",
    "# Get the raster's geotransform and projection\n",
    "geotransform = raster_ds.GetGeoTransform()\n",
    "projection = raster_ds.GetProjection()\n",
    "# Create a memory layer to hold the polygon features\n",
    "driver = ogr.GetDriverByName(\"Memory\")\n",
    "mem_ds = driver.CreateDataSource(\"\")\n",
    "\n",
    "# Create a new layer in the memory dataset\n",
    "mem_layer = mem_ds.CreateLayer(\"polygon\", srs=osr.SpatialReference(wkt=projection), geom_type=ogr.wkbPolygon)\n",
    "\n",
    "# Use gdal.Polygonize() to convert the raster to polygons\n",
    "gdal.Polygonize(band, None, mem_layer, 0, [], callback=None)\n",
    "# Create the output shapefile\n",
    "driver = ogr.GetDriverByName(\"ESRI Shapefile\")\n",
    "out_ds = driver.CreateDataSource(polygon_file)\n",
    "\n",
    "# Copy the memory layer to the output shapefile\n",
    "out_layer = out_ds.CopyLayer(mem_layer, \"polygon\")\n",
    "# Clean up the memory layer\n",
    "mem_ds.Destroy()\n",
    "\n",
    "# Close the input and output files\n",
    "raster_ds = None\n",
    "out_ds = None"
   ]
  },
  {
   "cell_type": "markdown",
   "id": "b827df1f",
   "metadata": {},
   "source": [
    "# use the created shp file to clip the aviris brdf image directly"
   ]
  },
  {
   "cell_type": "code",
   "execution_count": 1,
   "id": "c32f9710",
   "metadata": {},
   "outputs": [],
   "source": [
    "import rasterio\n",
    "from rasterio.mask import mask\n",
    "from rasterio import Affine\n",
    "import geopandas as gpd\n",
    "from shapely.geometry import box\n",
    "import rasterio.plot as rplot\n",
    "import matplotlib.pyplot as plt\n",
    "import fiona\n",
    "from shapely.geometry import box\n",
    "from fiona.crs import from_epsg"
   ]
  },
  {
   "cell_type": "code",
   "execution_count": 4,
   "id": "64e33d42",
   "metadata": {},
   "outputs": [],
   "source": [
    "raster1 = rasterio.open(r'F:\\wenqu\\Aviris\\site2a\\output\\ang20170709t012605_corr_v2p9_img_brdf')\n",
    "\n",
    "shapefile = gpd.read_file( r'F:\\wenqu\\Aviris\\site2c\\site2c_shp\\site2c_d13c_trait_project_to_aviris.shp')\n",
    "geo = shapefile.geometry\n",
    "\n",
    "\n",
    "\n",
    "\n",
    "# Clip raster1 using the extent of raster2:\n",
    "out_img, out_transform = mask(raster1, shapes=geo.geometry, crop=True)\n",
    "\n",
    "# Update the metadata of the output image:\n",
    "out_meta = raster1.meta.copy()\n",
    "out_meta.update({\n",
    "    \"driver\": \"ENVI\",\n",
    "    \"height\": out_img.shape[1],\n",
    "    \"width\": out_img.shape[2],\n",
    "    \"count\":425,\n",
    "    \"transform\": out_transform\n",
    "})\n",
    "\n",
    "\n",
    "output = \"F:/wenqu/Aviris/site2c/site2c_aviris_clip/site2c_aviris\"\n",
    "with rasterio.open(output, \"w\", **out_meta) as dst:\n",
    "    # loop over the bands and write the pixel value for each band\n",
    "    for band in range(1, raster1.count + 1):\n",
    "        dst.write(out_img[band-1], indexes=band)"
   ]
  },
  {
   "cell_type": "markdown",
   "id": "502a3b6f",
   "metadata": {},
   "source": [
    "## create shp file for each aviris pixel"
   ]
  },
  {
   "cell_type": "code",
   "execution_count": 2,
   "id": "5028bb68",
   "metadata": {},
   "outputs": [],
   "source": [
    "import os\n",
    "from osgeo import gdal,ogr,osr\n",
    "folder_path = r\"F:\\wenqu\\Aviris\\site2c\\site2c_aviris_single_clip\"\n",
    "polygo_folder = r'F:\\wenqu\\Aviris\\site2c\\site2c_aviris_single_shp'\n",
    "extension = \".tif\"\n",
    "\n",
    "for filename in os.listdir(folder_path):\n",
    "    # Check if the current item is a file\n",
    "    if filename.endswith(extension) and os.path.isfile(os.path.join(folder_path, filename)):\n",
    "        # Do something with the file, e.g. print its name\n",
    "        shp_name = os.path.splitext(filename)[0] + '.shp'\n",
    "        raster_file = os.path.join(folder_path, filename)\n",
    "        polygon_file = os.path.join(polygo_folder, shp_name)\n",
    "        \n",
    "        # Open the input raster file\n",
    "        raster_ds = gdal.Open(raster_file)\n",
    "\n",
    "        # Get the raster band and its data type\n",
    "        band = raster_ds.GetRasterBand(1)\n",
    "        data_type = band.DataType\n",
    "\n",
    "        # Get the raster's geotransform and projection\n",
    "        geotransform = raster_ds.GetGeoTransform()\n",
    "        projection = raster_ds.GetProjection()\n",
    "        # Create a memory layer to hold the polygon features\n",
    "        driver = ogr.GetDriverByName(\"Memory\")\n",
    "        mem_ds = driver.CreateDataSource(\"\")\n",
    "\n",
    "        # Create a new layer in the memory dataset\n",
    "        mem_layer = mem_ds.CreateLayer(\"polygon\", srs=osr.SpatialReference(wkt=projection), geom_type=ogr.wkbPolygon)\n",
    "\n",
    "        # Use gdal.Polygonize() to convert the raster to polygons\n",
    "        gdal.Polygonize(band, None, mem_layer, 0, [], callback=None)\n",
    "        # Create the output shapefile\n",
    "        driver = ogr.GetDriverByName(\"ESRI Shapefile\")\n",
    "        out_ds = driver.CreateDataSource(polygon_file)\n",
    "\n",
    "        # Copy the memory layer to the output shapefile\n",
    "        out_layer = out_ds.CopyLayer(mem_layer, \"polygon\")\n",
    "        # Clean up the memory layer\n",
    "        mem_ds.Destroy()\n",
    "\n",
    "        # Close the input and output files\n",
    "        raster_ds = None\n",
    "        out_ds = None\n"
   ]
  },
  {
   "cell_type": "code",
   "execution_count": null,
   "id": "17399854",
   "metadata": {},
   "outputs": [],
   "source": []
  }
 ],
 "metadata": {
  "kernelspec": {
   "display_name": "wenqu_gdal",
   "language": "python",
   "name": "wenqu_gdal"
  },
  "language_info": {
   "codemirror_mode": {
    "name": "ipython",
    "version": 3
   },
   "file_extension": ".py",
   "mimetype": "text/x-python",
   "name": "python",
   "nbconvert_exporter": "python",
   "pygments_lexer": "ipython3",
   "version": "3.9.15"
  }
 },
 "nbformat": 4,
 "nbformat_minor": 5
}
