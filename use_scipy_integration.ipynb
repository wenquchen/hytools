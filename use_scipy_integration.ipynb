{
 "cells": [
  {
   "cell_type": "code",
   "execution_count": 1,
   "id": "298fb46b",
   "metadata": {},
   "outputs": [],
   "source": [
    "from scipy.integrate import dblquad\n",
    "import torch\n",
    "import numpy as np\n",
    "from arsf_envi_reader import envi_header\n",
    "import shutil\n",
    "import os\n",
    "\n",
    "import json\n",
    "import math\n",
    "import affine\n",
    "import pandas as pd\n",
    "import numpy as np\n",
    "import matplotlib.pyplot as plt\n",
    "# import matplotlib.gridspec as gridspec\n",
    "from osgeo import gdal,ogr,osr\n",
    "\n",
    "\n",
    "import numpy as np\n",
    "import matplotlib.pyplot as plt\n",
    "from scipy.optimize import curve_fit\n",
    "\n",
    "\n",
    "\n",
    "from tqdm import tqdm\n",
    "# import multiprocess as mp\n",
    "from numpy import trapz"
   ]
  },
  {
   "cell_type": "code",
   "execution_count": 2,
   "id": "b1852a1d",
   "metadata": {},
   "outputs": [
    {
     "data": {
      "text/plain": [
       "True"
      ]
     },
     "execution_count": 2,
     "metadata": {},
     "output_type": "execute_result"
    }
   ],
   "source": [
    "torch.cuda.is_available()"
   ]
  },
  {
   "cell_type": "code",
   "execution_count": 3,
   "id": "889881cf",
   "metadata": {},
   "outputs": [],
   "source": [
    "get_ipython().run_line_magic('config', 'Completer.use_jedi = False')"
   ]
  },
  {
   "cell_type": "code",
   "execution_count": 4,
   "id": "bea70bee",
   "metadata": {},
   "outputs": [],
   "source": [
    "in_header = envi_header.find_hdr_file(r\"D:\\wenqu\\aviris\\ang20190704t193319rfl\\ang20190704t193319_rfl_v2v2_img.hdr\")\n",
    "header_data = envi_header.read_hdr_file(in_header)"
   ]
  },
  {
   "cell_type": "code",
   "execution_count": 5,
   "id": "f2411682",
   "metadata": {},
   "outputs": [],
   "source": [
    "# Get wavelengths and convert to NumPy array\n",
    "low_res_wavelengths = header_data['wavelength'].split(',')\n",
    "low_res_wavelengths = [float(w) for w in low_res_wavelengths]\n",
    "low_res_wavelengths = np.array(low_res_wavelengths)\n",
    "\n",
    "\n",
    "low_res_fwhm = header_data['fwhm'].split(',')\n",
    "low_res_fwhm = [float(w) for w in low_res_fwhm]\n",
    "low_res_fwhm = np.array(low_res_fwhm)"
   ]
  },
  {
   "cell_type": "code",
   "execution_count": 6,
   "id": "cb303783",
   "metadata": {},
   "outputs": [
    {
     "data": {
      "text/plain": [
       "(273, 1022, 3256)"
      ]
     },
     "execution_count": 6,
     "metadata": {},
     "output_type": "execute_result"
    }
   ],
   "source": [
    "high_res_img = gdal.Open(r'D:\\wenqu\\site1b\\uav\\site1b_multi_or_radiance')\n",
    "high_res_radiance = gdal.Open(r'D:\\wenqu\\site1b\\uav\\site1b_multi_or_radiance').ReadAsArray() \n",
    "\n",
    "high_res_radiance.shape"
   ]
  },
  {
   "cell_type": "code",
   "execution_count": 7,
   "id": "feee2850",
   "metadata": {},
   "outputs": [],
   "source": [
    "high_res_wavelength = [float(b.split(\" \")[0]) for b in high_res_img.GetMetadata().values() if b != \"nm\"]\n",
    "high_res_wavelength.sort()\n",
    "high_res_wavelength = np.array(high_res_wavelength)"
   ]
  },
  {
   "cell_type": "code",
   "execution_count": 9,
   "id": "c9f39048",
   "metadata": {},
   "outputs": [
    {
     "data": {
      "text/plain": [
       "array([ 398.697,  400.912,  403.127,  405.341,  407.556,  409.771,\n",
       "        411.985,  414.2  ,  416.415,  418.63 ,  420.844,  423.059,\n",
       "        425.274,  427.488,  429.703,  431.918,  434.133,  436.347,\n",
       "        438.562,  440.777,  442.991,  445.206,  447.421,  449.636,\n",
       "        451.85 ,  454.065,  456.28 ,  458.494,  460.709,  462.924,\n",
       "        465.138,  467.353,  469.568,  471.783,  473.997,  476.212,\n",
       "        478.427,  480.641,  482.856,  485.071,  487.286,  489.5  ,\n",
       "        491.715,  493.93 ,  496.144,  498.359,  500.574,  502.789,\n",
       "        505.003,  507.218,  509.433,  511.647,  513.862,  516.077,\n",
       "        518.292,  520.506,  522.721,  524.936,  527.15 ,  529.365,\n",
       "        531.58 ,  533.794,  536.009,  538.224,  540.439,  542.653,\n",
       "        544.868,  547.083,  549.297,  551.512,  553.727,  555.942,\n",
       "        558.156,  560.371,  562.586,  564.8  ,  567.015,  569.23 ,\n",
       "        571.445,  573.659,  575.874,  578.089,  580.303,  582.518,\n",
       "        584.733,  586.947,  589.162,  591.377,  593.592,  595.806,\n",
       "        598.021,  600.236,  602.45 ,  604.665,  606.88 ,  609.095,\n",
       "        611.309,  613.524,  615.739,  617.953,  620.168,  622.383,\n",
       "        624.598,  626.812,  629.027,  631.242,  633.456,  635.671,\n",
       "        637.886,  640.101,  642.315,  644.53 ,  646.745,  648.959,\n",
       "        651.174,  653.389,  655.603,  657.818,  660.033,  662.248,\n",
       "        664.462,  666.677,  668.892,  671.106,  673.321,  675.536,\n",
       "        677.751,  679.965,  682.18 ,  684.395,  686.609,  688.824,\n",
       "        691.039,  693.254,  695.468,  697.683,  699.898,  702.112,\n",
       "        704.327,  706.542,  708.757,  710.971,  713.186,  715.401,\n",
       "        717.615,  719.83 ,  722.045,  724.259,  726.474,  728.689,\n",
       "        730.904,  733.118,  735.333,  737.548,  739.762,  741.977,\n",
       "        744.192,  746.407,  748.621,  750.836,  753.051,  755.265,\n",
       "        757.48 ,  759.695,  761.91 ,  764.124,  766.339,  768.554,\n",
       "        770.768,  772.983,  775.198,  777.412,  779.627,  781.842,\n",
       "        784.057,  786.271,  788.486,  790.701,  792.915,  795.13 ,\n",
       "        797.345,  799.56 ,  801.774,  803.989,  806.204,  808.418,\n",
       "        810.633,  812.848,  815.063,  817.277,  819.492,  821.707,\n",
       "        823.921,  826.136,  828.351,  830.566,  832.78 ,  834.995,\n",
       "        837.21 ,  839.424,  841.639,  843.854,  846.068,  848.283,\n",
       "        850.498,  852.713,  854.927,  857.142,  859.357,  861.571,\n",
       "        863.786,  866.001,  868.216,  870.43 ,  872.645,  874.86 ,\n",
       "        877.074,  879.289,  881.504,  883.719,  885.933,  888.148,\n",
       "        890.363,  892.577,  894.792,  897.007,  899.221,  901.436,\n",
       "        903.651,  905.866,  908.08 ,  910.295,  912.51 ,  914.724,\n",
       "        916.939,  919.154,  921.369,  923.583,  925.798,  928.013,\n",
       "        930.227,  932.442,  934.657,  936.872,  939.086,  941.301,\n",
       "        943.516,  945.73 ,  947.945,  950.16 ,  952.375,  954.589,\n",
       "        956.804,  959.019,  961.233,  963.448,  965.663,  967.877,\n",
       "        970.092,  972.307,  974.522,  976.736,  978.951,  981.166,\n",
       "        983.38 ,  985.595,  987.81 ,  990.025,  992.239,  994.454,\n",
       "        996.669,  998.883, 1001.1  ])"
      ]
     },
     "execution_count": 9,
     "metadata": {},
     "output_type": "execute_result"
    }
   ],
   "source": [
    "high_res_wavelength"
   ]
  },
  {
   "cell_type": "code",
   "execution_count": 10,
   "id": "dd9295be",
   "metadata": {},
   "outputs": [
    {
     "data": {
      "text/plain": [
       "(273,)"
      ]
     },
     "execution_count": 10,
     "metadata": {},
     "output_type": "execute_result"
    }
   ],
   "source": [
    "import pandas as pd\n",
    "high_res_irradiance = np.array(pd.read_csv('D:\\wenqu\\site1b\\white_panel_radiance.csv')['irradiance'])\n",
    "high_res_irradiance.shape"
   ]
  },
  {
   "cell_type": "code",
   "execution_count": 8,
   "id": "f66a1b93",
   "metadata": {},
   "outputs": [],
   "source": [
    "def gauss(x, f, w):\n",
    "    sigma = f/(2 * np.sqrt(2 *np.log(2)))\n",
    "    y = np.exp((-(x-w)**2) / (2 * sigma**2))\n",
    "    return y"
   ]
  },
  {
   "cell_type": "code",
   "execution_count": 11,
   "id": "5bb575da",
   "metadata": {},
   "outputs": [
    {
     "data": {
      "text/plain": [
       "(273, 3327632)"
      ]
     },
     "execution_count": 11,
     "metadata": {},
     "output_type": "execute_result"
    }
   ],
   "source": [
    "high_res_img_flatten = high_res_radiance.reshape(273, -1)\n",
    "high_res_img_flatten.shape"
   ]
  },
  {
   "cell_type": "code",
   "execution_count": null,
   "id": "e761e888",
   "metadata": {},
   "outputs": [],
   "source": [
    "batch_pixels = []\n",
    "\n",
    "with torch.no_grad():\n",
    "    for i in tqdm(range(high_res_img_flatten.shape[1])):\n",
    "        pixel_single = []\n",
    "        nomins_integrals = [[f, w, quad(guass * high_res_img_flatten_tensor[:, i][None, ],398.697, 1001.1, args = (f, w))[0]] for f in low_res_fwhm for w in low_res_wavelengths]\n",
    "        denomins_integrals = [[f, w, quad(guass * high_res_img_flatten_tensor[:, i][None, ],398.697, 1001.1, args = (f, w))[0]] for f in low_res_fwhm for w in low_res_wavelengths]"
   ]
  }
 ],
 "metadata": {
  "kernelspec": {
   "display_name": "wenqu_gpu",
   "language": "python",
   "name": "wenqu_gpu"
  },
  "language_info": {
   "codemirror_mode": {
    "name": "ipython",
    "version": 3
   },
   "file_extension": ".py",
   "mimetype": "text/x-python",
   "name": "python",
   "nbconvert_exporter": "python",
   "pygments_lexer": "ipython3",
   "version": "3.9.15"
  }
 },
 "nbformat": 4,
 "nbformat_minor": 5
}
