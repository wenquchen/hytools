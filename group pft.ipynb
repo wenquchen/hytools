{
 "cells": [
  {
   "cell_type": "code",
   "execution_count": 1,
   "id": "49c02dc4",
   "metadata": {},
   "outputs": [],
   "source": [
    "import pandas as pd\n",
    "\n"
   ]
  },
  {
   "cell_type": "code",
   "execution_count": 2,
   "id": "0277be40",
   "metadata": {},
   "outputs": [],
   "source": [
    "# Specify the path to the CSV file\n",
    "file_path = 'F:/wenqu/DOE_Arctic_project/PFTS/site2a_pft.csv'"
   ]
  },
  {
   "cell_type": "code",
   "execution_count": 3,
   "id": "94435adb",
   "metadata": {},
   "outputs": [
    {
     "data": {
      "text/html": [
       "<div>\n",
       "<style scoped>\n",
       "    .dataframe tbody tr th:only-of-type {\n",
       "        vertical-align: middle;\n",
       "    }\n",
       "\n",
       "    .dataframe tbody tr th {\n",
       "        vertical-align: top;\n",
       "    }\n",
       "\n",
       "    .dataframe thead th {\n",
       "        text-align: right;\n",
       "    }\n",
       "</style>\n",
       "<table border=\"1\" class=\"dataframe\">\n",
       "  <thead>\n",
       "    <tr style=\"text-align: right;\">\n",
       "      <th></th>\n",
       "      <th>Site</th>\n",
       "      <th>Quadrat</th>\n",
       "      <th>PFT</th>\n",
       "      <th>percent_cover</th>\n",
       "    </tr>\n",
       "  </thead>\n",
       "  <tbody>\n",
       "    <tr>\n",
       "      <th>0</th>\n",
       "      <td>S2A</td>\n",
       "      <td>8</td>\n",
       "      <td>baregrounnd</td>\n",
       "      <td>60.0</td>\n",
       "    </tr>\n",
       "    <tr>\n",
       "      <th>1</th>\n",
       "      <td>S2A</td>\n",
       "      <td>2</td>\n",
       "      <td>deciduous shrub</td>\n",
       "      <td>27.0</td>\n",
       "    </tr>\n",
       "    <tr>\n",
       "      <th>2</th>\n",
       "      <td>S2A</td>\n",
       "      <td>6</td>\n",
       "      <td>deciduous shrub</td>\n",
       "      <td>36.0</td>\n",
       "    </tr>\n",
       "    <tr>\n",
       "      <th>3</th>\n",
       "      <td>S2A</td>\n",
       "      <td>9</td>\n",
       "      <td>deciduous shrub</td>\n",
       "      <td>7.0</td>\n",
       "    </tr>\n",
       "    <tr>\n",
       "      <th>4</th>\n",
       "      <td>S2A</td>\n",
       "      <td>10</td>\n",
       "      <td>deciduous shrub</td>\n",
       "      <td>17.0</td>\n",
       "    </tr>\n",
       "    <tr>\n",
       "      <th>...</th>\n",
       "      <td>...</td>\n",
       "      <td>...</td>\n",
       "      <td>...</td>\n",
       "      <td>...</td>\n",
       "    </tr>\n",
       "    <tr>\n",
       "      <th>250</th>\n",
       "      <td>S2A</td>\n",
       "      <td>25</td>\n",
       "      <td>sedge</td>\n",
       "      <td>5.0</td>\n",
       "    </tr>\n",
       "    <tr>\n",
       "      <th>251</th>\n",
       "      <td>S2A</td>\n",
       "      <td>26</td>\n",
       "      <td>sedge</td>\n",
       "      <td>2.0</td>\n",
       "    </tr>\n",
       "    <tr>\n",
       "      <th>252</th>\n",
       "      <td>S2A</td>\n",
       "      <td>27</td>\n",
       "      <td>sedge</td>\n",
       "      <td>7.0</td>\n",
       "    </tr>\n",
       "    <tr>\n",
       "      <th>253</th>\n",
       "      <td>S2A</td>\n",
       "      <td>28</td>\n",
       "      <td>sedge</td>\n",
       "      <td>3.0</td>\n",
       "    </tr>\n",
       "    <tr>\n",
       "      <th>254</th>\n",
       "      <td>S2A</td>\n",
       "      <td>28</td>\n",
       "      <td>sedge</td>\n",
       "      <td>18.0</td>\n",
       "    </tr>\n",
       "  </tbody>\n",
       "</table>\n",
       "<p>255 rows × 4 columns</p>\n",
       "</div>"
      ],
      "text/plain": [
       "    Site  Quadrat              PFT  percent_cover\n",
       "0    S2A        8      baregrounnd           60.0\n",
       "1    S2A        2  deciduous shrub           27.0\n",
       "2    S2A        6  deciduous shrub           36.0\n",
       "3    S2A        9  deciduous shrub            7.0\n",
       "4    S2A       10  deciduous shrub           17.0\n",
       "..   ...      ...              ...            ...\n",
       "250  S2A       25            sedge            5.0\n",
       "251  S2A       26            sedge            2.0\n",
       "252  S2A       27            sedge            7.0\n",
       "253  S2A       28            sedge            3.0\n",
       "254  S2A       28            sedge           18.0\n",
       "\n",
       "[255 rows x 4 columns]"
      ]
     },
     "execution_count": 3,
     "metadata": {},
     "output_type": "execute_result"
    }
   ],
   "source": [
    "# Specify the columns you want to read\n",
    "columns_to_read = ['Site', 'Quadrat', 'PFT', 'percent_cover']\n",
    "# Read the CSV file into a DataFrame\n",
    "data_frame = pd.read_csv(file_path, usecols=columns_to_read)\n",
    "data_frame"
   ]
  },
  {
   "cell_type": "code",
   "execution_count": 4,
   "id": "9f4653af",
   "metadata": {},
   "outputs": [
    {
     "name": "stdout",
     "output_type": "stream",
     "text": [
      "                              percent_cover\n",
      "Site Quadrat PFT                           \n",
      "S2A  1       deciduous shrub           15.0\n",
      "             evergreen shrub            1.5\n",
      "             forb                       3.5\n",
      "             moss                      16.0\n",
      "     2       deciduous shrub           64.0\n",
      "...                                     ...\n",
      "     28      sedge                     21.0\n",
      "     29      deciduous shrub           34.0\n",
      "             evergreen shrub            8.0\n",
      "             lichen                    64.0\n",
      "             moss                      20.0\n",
      "\n",
      "[160 rows x 1 columns]\n"
     ]
    }
   ],
   "source": [
    "# Group by 'Category' and 'Subcategory', and calculate the sum of 'Value1' and 'Value2'\n",
    "grouped_df = data_frame.groupby(['Site', 'Quadrat', 'PFT']).sum()\n",
    "\n",
    "# Display the grouped DataFrame\n",
    "print(grouped_df)"
   ]
  },
  {
   "cell_type": "code",
   "execution_count": 5,
   "id": "d2ef95a5",
   "metadata": {},
   "outputs": [],
   "source": [
    "grouped_df = grouped_df.reset_index()\n",
    "\n",
    "# Specify the path and filename for the output CSV file\n",
    "output_file_path = 'F:/wenqu/DOE_Arctic_project/PFTS/site2a_group_pft.csv'\n",
    "\n",
    "# Write the DataFrame to a CSV file\n",
    "grouped_df.to_csv(output_file_path, index=False)"
   ]
  },
  {
   "cell_type": "code",
   "execution_count": null,
   "id": "9ff7a597",
   "metadata": {},
   "outputs": [],
   "source": []
  }
 ],
 "metadata": {
  "kernelspec": {
   "display_name": "wenqu_gdal",
   "language": "python",
   "name": "wenqu_gdal"
  },
  "language_info": {
   "codemirror_mode": {
    "name": "ipython",
    "version": 3
   },
   "file_extension": ".py",
   "mimetype": "text/x-python",
   "name": "python",
   "nbconvert_exporter": "python",
   "pygments_lexer": "ipython3",
   "version": "3.9.15"
  }
 },
 "nbformat": 4,
 "nbformat_minor": 5
}
