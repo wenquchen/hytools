{
 "cells": [
  {
   "cell_type": "code",
   "execution_count": 1,
   "id": "7938d4a5",
   "metadata": {},
   "outputs": [],
   "source": [
    "import numpy as np\n",
    "# from arsf_envi_reader import envi_header\n",
    "\n",
    "\n",
    "import json\n",
    "import math\n",
    "# import affine\n",
    "import pandas as pd\n",
    "import numpy as np\n",
    "import matplotlib.pyplot as plt\n",
    "import matplotlib.gridspec as gridspec\n",
    "from osgeo import gdal,ogr,osr\n",
    "\n",
    "\n",
    "import numpy as np\n",
    "import matplotlib.pyplot as plt\n",
    "from scipy.optimize import curve_fit\n",
    "%matplotlib inline\n",
    "import matplotlib.pyplot as plt\n",
    "import seaborn as sns; sns.set()\n",
    "import numpy as np\n",
    "\n",
    "\n",
    "# from tqdm import tqdm\n",
    "# import multiprocess as mp\n",
    "from numpy import trapz"
   ]
  },
  {
   "cell_type": "code",
   "execution_count": 2,
   "id": "a5503e2b",
   "metadata": {},
   "outputs": [],
   "source": [
    "# la_trait_img = gdal.Open(r'D:\\Wenqu_Mark_2022\\site1b_radiance\\multi_or_64736_radiant')\n",
    "la_trait_img = gdal.Open(r'F:\\wenqu\\trait_map\\site2a_la_trait_map.tiff').ReadAsArray() \n"
   ]
  },
  {
   "cell_type": "code",
   "execution_count": 3,
   "id": "2d71fd38",
   "metadata": {},
   "outputs": [
    {
     "data": {
      "text/plain": [
       "(-0.29392788, 0.47192937)"
      ]
     },
     "execution_count": 3,
     "metadata": {},
     "output_type": "execute_result"
    }
   ],
   "source": [
    "xmin = la_trait_img.min()\n",
    "xmax = la_trait_img.max()\n",
    "xmin, xmax"
   ]
  },
  {
   "cell_type": "code",
   "execution_count": 4,
   "id": "c74ab913",
   "metadata": {},
   "outputs": [],
   "source": [
    "eval_points = np.linspace(np.min(la_trait_img), np.max(la_trait_img))"
   ]
  },
  {
   "cell_type": "code",
   "execution_count": 5,
   "id": "7798d944",
   "metadata": {},
   "outputs": [
    {
     "data": {
      "text/plain": [
       "array([-0.29392788, -0.27829814, -0.2626684 , -0.24703866, -0.23140892,\n",
       "       -0.21577918, -0.20014944, -0.1845197 , -0.16888996, -0.15326022,\n",
       "       -0.13763048, -0.12200074, -0.106371  , -0.09074126, -0.07511152,\n",
       "       -0.05948178, -0.04385204, -0.0282223 , -0.01259256,  0.00303718,\n",
       "        0.01866692,  0.03429666,  0.0499264 ,  0.06555614,  0.08118588,\n",
       "        0.09681562,  0.11244536,  0.1280751 ,  0.14370484,  0.15933458,\n",
       "        0.17496432,  0.19059406,  0.2062238 ,  0.22185353,  0.23748327,\n",
       "        0.25311301,  0.26874275,  0.28437249,  0.30000223,  0.31563197,\n",
       "        0.33126171,  0.34689145,  0.36252119,  0.37815093,  0.39378067,\n",
       "        0.40941041,  0.42504015,  0.44066989,  0.45629963,  0.47192937])"
      ]
     },
     "execution_count": 5,
     "metadata": {},
     "output_type": "execute_result"
    }
   ],
   "source": [
    "eval_points"
   ]
  },
  {
   "cell_type": "code",
   "execution_count": 7,
   "id": "3fdeb785",
   "metadata": {},
   "outputs": [],
   "source": [
    "import matplotlib.pyplot as plt\n",
    "import numpy as np\n",
    "from scipy.stats import gaussian_kde\n",
    "import seaborn as sns\n",
    "from sklearn.neighbors import KernelDensity\n"
   ]
  },
  {
   "cell_type": "code",
   "execution_count": 9,
   "id": "0a9afdf3",
   "metadata": {},
   "outputs": [
    {
     "data": {
      "text/plain": [
       "(28798142, 1)"
      ]
     },
     "execution_count": 9,
     "metadata": {},
     "output_type": "execute_result"
    }
   ],
   "source": [
    "x = la_trait_img.reshape([-1,1])\n",
    "x.shape"
   ]
  },
  {
   "cell_type": "code",
   "execution_count": 12,
   "id": "4e0e49c8",
   "metadata": {},
   "outputs": [],
   "source": [
    "kde_sk = KernelDensity(bandwidth=0.001, kernel='gaussian')\n",
    "kde_sk.fit(la_trait_img.reshape([-1,1]))\n",
    "y_sk = np.exp(kde_sk.score_samples(eval_points.reshape(-1,1)))"
   ]
  },
  {
   "cell_type": "code",
   "execution_count": 13,
   "id": "b24f5d90",
   "metadata": {},
   "outputs": [
    {
     "data": {
      "text/plain": [
       "[<matplotlib.lines.Line2D at 0x2224da39df0>]"
      ]
     },
     "execution_count": 13,
     "metadata": {},
     "output_type": "execute_result"
    },
    {
     "data": {
      "image/png": "[encoded data removed]",
      "text/plain": [
       "<Figure size 640x480 with 1 Axes>"
      ]
     },
     "metadata": {},
     "output_type": "display_data"
    }
   ],
   "source": [
    "sns.kdeplot(x)\n",
    "plt.plot(eval_points, y_sk)"
   ]
  },
  {
   "cell_type": "code",
   "execution_count": 15,
   "id": "f51aa741",
   "metadata": {},
   "outputs": [
    {
     "ename": "ValueError",
     "evalue": "Number of dimensions is greater than number of samples. This results in a singular data covariance matrix, which cannot be treated using the algorithms implemented in `gaussian_kde`. Note that `gaussian_kde` interprets each *column* of `dataset` to be a point; consider transposing the input to `dataset`.",
     "output_type": "error",
     "traceback": [
      "\u001b[1;31m---------------------------------------------------------------------------\u001b[0m",
      "\u001b[1;31mValueError\u001b[0m                                Traceback (most recent call last)",
      "Cell \u001b[1;32mIn[15], line 1\u001b[0m\n\u001b[1;32m----> 1\u001b[0m kde_sp \u001b[38;5;241m=\u001b[39m \u001b[43mgaussian_kde\u001b[49m\u001b[43m(\u001b[49m\u001b[43mx\u001b[49m\u001b[43m,\u001b[49m\u001b[43m \u001b[49m\u001b[43mbw_method\u001b[49m\u001b[38;5;241;43m=\u001b[39;49m\u001b[38;5;241;43m0.001\u001b[39;49m\u001b[43m)\u001b[49m\n\u001b[0;32m      2\u001b[0m y_sp \u001b[38;5;241m=\u001b[39m kde_sp\u001b[38;5;241m.\u001b[39mpdf(eval_points)\n",
      "File \u001b[1;32m~\\anaconda3\\envs\\wenqu_gdal\\lib\\site-packages\\scipy\\stats\\_kde.py:220\u001b[0m, in \u001b[0;36mgaussian_kde.__init__\u001b[1;34m(self, dataset, bw_method, weights)\u001b[0m\n\u001b[0;32m    213\u001b[0m \u001b[38;5;28;01mif\u001b[39;00m \u001b[38;5;28mself\u001b[39m\u001b[38;5;241m.\u001b[39md \u001b[38;5;241m>\u001b[39m \u001b[38;5;28mself\u001b[39m\u001b[38;5;241m.\u001b[39mn:\n\u001b[0;32m    214\u001b[0m     msg \u001b[38;5;241m=\u001b[39m (\u001b[38;5;124m\"\u001b[39m\u001b[38;5;124mNumber of dimensions is greater than number of samples. \u001b[39m\u001b[38;5;124m\"\u001b[39m\n\u001b[0;32m    215\u001b[0m            \u001b[38;5;124m\"\u001b[39m\u001b[38;5;124mThis results in a singular data covariance matrix, which \u001b[39m\u001b[38;5;124m\"\u001b[39m\n\u001b[0;32m    216\u001b[0m            \u001b[38;5;124m\"\u001b[39m\u001b[38;5;124mcannot be treated using the algorithms implemented in \u001b[39m\u001b[38;5;124m\"\u001b[39m\n\u001b[0;32m    217\u001b[0m            \u001b[38;5;124m\"\u001b[39m\u001b[38;5;124m`gaussian_kde`. Note that `gaussian_kde` interprets each \u001b[39m\u001b[38;5;124m\"\u001b[39m\n\u001b[0;32m    218\u001b[0m            \u001b[38;5;124m\"\u001b[39m\u001b[38;5;124m*column* of `dataset` to be a point; consider transposing \u001b[39m\u001b[38;5;124m\"\u001b[39m\n\u001b[0;32m    219\u001b[0m            \u001b[38;5;124m\"\u001b[39m\u001b[38;5;124mthe input to `dataset`.\u001b[39m\u001b[38;5;124m\"\u001b[39m)\n\u001b[1;32m--> 220\u001b[0m     \u001b[38;5;28;01mraise\u001b[39;00m \u001b[38;5;167;01mValueError\u001b[39;00m(msg)\n\u001b[0;32m    222\u001b[0m \u001b[38;5;28;01mtry\u001b[39;00m:\n\u001b[0;32m    223\u001b[0m     \u001b[38;5;28mself\u001b[39m\u001b[38;5;241m.\u001b[39mset_bandwidth(bw_method\u001b[38;5;241m=\u001b[39mbw_method)\n",
      "\u001b[1;31mValueError\u001b[0m: Number of dimensions is greater than number of samples. This results in a singular data covariance matrix, which cannot be treated using the algorithms implemented in `gaussian_kde`. Note that `gaussian_kde` interprets each *column* of `dataset` to be a point; consider transposing the input to `dataset`."
     ]
    }
   ],
   "source": [
    "kde_sp = gaussian_kde(x, bw_method=0.001)\n",
    "y_sp = kde_sp.pdf(eval_points)"
   ]
  },
  {
   "cell_type": "code",
   "execution_count": null,
   "id": "8e3e29b6",
   "metadata": {},
   "outputs": [],
   "source": [
    "sns.kdeplot(la_trait_img)\n",
    "plt.plot(eval_points, y_sk)\n",
    "plt.plot(eval_points, y_sp)\n",
    "plt.legend(['seaborn','scikit','scipy'])"
   ]
  },
  {
   "cell_type": "code",
   "execution_count": 5,
   "id": "ced1c600",
   "metadata": {},
   "outputs": [],
   "source": [
    "from scipy.stats import gaussian_kde\n",
    "kde = gaussian_kde(la_trait_img)\n",
    "f = kde.covariance_factor()\n",
    "bw = f * la_trait_img.std()"
   ]
  },
  {
   "cell_type": "code",
   "execution_count": 6,
   "id": "3372f1e4",
   "metadata": {},
   "outputs": [],
   "source": [
    "x_grid  = np.linspace(np.min(la_trait_img), np.max(la_trait_img))"
   ]
  },
  {
   "cell_type": "code",
   "execution_count": 8,
   "id": "2a221ecf",
   "metadata": {},
   "outputs": [
    {
     "ename": "ValueError",
     "evalue": "points have dimension 1, dataset has dimension 5218",
     "output_type": "error",
     "traceback": [
      "\u001b[1;31m---------------------------------------------------------------------------\u001b[0m",
      "\u001b[1;31mValueError\u001b[0m                                Traceback (most recent call last)",
      "Cell \u001b[1;32mIn[8], line 2\u001b[0m\n\u001b[0;32m      1\u001b[0m \u001b[38;5;28;01mfrom\u001b[39;00m \u001b[38;5;21;01mpylab\u001b[39;00m \u001b[38;5;28;01mimport\u001b[39;00m plot\n\u001b[1;32m----> 2\u001b[0m plot(x_grid, \u001b[43mkde\u001b[49m\u001b[38;5;241;43m.\u001b[39;49m\u001b[43mevaluate\u001b[49m\u001b[43m(\u001b[49m\u001b[43mx_grid\u001b[49m\u001b[43m)\u001b[49m)\n",
      "File \u001b[1;32m~\\anaconda3\\envs\\wenqu_gdal\\lib\\site-packages\\scipy\\stats\\_kde.py:265\u001b[0m, in \u001b[0;36mgaussian_kde.evaluate\u001b[1;34m(self, points)\u001b[0m\n\u001b[0;32m    262\u001b[0m     \u001b[38;5;28;01melse\u001b[39;00m:\n\u001b[0;32m    263\u001b[0m         msg \u001b[38;5;241m=\u001b[39m \u001b[38;5;124m\"\u001b[39m\u001b[38;5;124mpoints have dimension \u001b[39m\u001b[38;5;132;01m%s\u001b[39;00m\u001b[38;5;124m, dataset has dimension \u001b[39m\u001b[38;5;132;01m%s\u001b[39;00m\u001b[38;5;124m\"\u001b[39m \u001b[38;5;241m%\u001b[39m (d,\n\u001b[0;32m    264\u001b[0m             \u001b[38;5;28mself\u001b[39m\u001b[38;5;241m.\u001b[39md)\n\u001b[1;32m--> 265\u001b[0m         \u001b[38;5;28;01mraise\u001b[39;00m \u001b[38;5;167;01mValueError\u001b[39;00m(msg)\n\u001b[0;32m    267\u001b[0m output_dtype, spec \u001b[38;5;241m=\u001b[39m _get_output_dtype(\u001b[38;5;28mself\u001b[39m\u001b[38;5;241m.\u001b[39mcovariance, points)\n\u001b[0;32m    268\u001b[0m result \u001b[38;5;241m=\u001b[39m gaussian_kernel_estimate[spec](\n\u001b[0;32m    269\u001b[0m     \u001b[38;5;28mself\u001b[39m\u001b[38;5;241m.\u001b[39mdataset\u001b[38;5;241m.\u001b[39mT, \u001b[38;5;28mself\u001b[39m\u001b[38;5;241m.\u001b[39mweights[:, \u001b[38;5;28;01mNone\u001b[39;00m],\n\u001b[0;32m    270\u001b[0m     points\u001b[38;5;241m.\u001b[39mT, \u001b[38;5;28mself\u001b[39m\u001b[38;5;241m.\u001b[39mcho_cov, output_dtype)\n",
      "\u001b[1;31mValueError\u001b[0m: points have dimension 1, dataset has dimension 5218"
     ]
    }
   ],
   "source": [
    "from pylab import plot\n",
    "plot(x_grid, kde.evaluate(x_grid))"
   ]
  },
  {
   "cell_type": "code",
   "execution_count": null,
   "id": "1e0f18e9",
   "metadata": {},
   "outputs": [],
   "source": []
  },
  {
   "cell_type": "code",
   "execution_count": null,
   "id": "be439031",
   "metadata": {},
   "outputs": [],
   "source": []
  },
  {
   "cell_type": "code",
   "execution_count": null,
   "id": "0c89516b",
   "metadata": {},
   "outputs": [],
   "source": []
  },
  {
   "cell_type": "code",
   "execution_count": null,
   "id": "1227157c",
   "metadata": {},
   "outputs": [],
   "source": []
  },
  {
   "cell_type": "code",
   "execution_count": null,
   "id": "3ea54e79",
   "metadata": {},
   "outputs": [],
   "source": []
  },
  {
   "cell_type": "code",
   "execution_count": null,
   "id": "696813b3",
   "metadata": {},
   "outputs": [],
   "source": []
  },
  {
   "cell_type": "code",
   "execution_count": null,
   "id": "5e50194d",
   "metadata": {},
   "outputs": [],
   "source": []
  },
  {
   "cell_type": "code",
   "execution_count": null,
   "id": "c59cbaac",
   "metadata": {},
   "outputs": [],
   "source": []
  },
  {
   "cell_type": "code",
   "execution_count": null,
   "id": "5bf34ee2",
   "metadata": {},
   "outputs": [],
   "source": []
  },
  {
   "cell_type": "code",
   "execution_count": null,
   "id": "64a4ac8d",
   "metadata": {},
   "outputs": [],
   "source": []
  },
  {
   "cell_type": "code",
   "execution_count": null,
   "id": "e7ce631d",
   "metadata": {},
   "outputs": [],
   "source": []
  },
  {
   "cell_type": "code",
   "execution_count": null,
   "id": "ba6e6532",
   "metadata": {},
   "outputs": [],
   "source": []
  },
  {
   "cell_type": "code",
   "execution_count": null,
   "id": "74503481",
   "metadata": {},
   "outputs": [],
   "source": []
  },
  {
   "cell_type": "code",
   "execution_count": null,
   "id": "aeb6c019",
   "metadata": {},
   "outputs": [],
   "source": []
  },
  {
   "cell_type": "code",
   "execution_count": null,
   "id": "fb3c3b1f",
   "metadata": {},
   "outputs": [],
   "source": []
  },
  {
   "cell_type": "code",
   "execution_count": null,
   "id": "1729cc4f",
   "metadata": {},
   "outputs": [],
   "source": []
  },
  {
   "cell_type": "code",
   "execution_count": null,
   "id": "ca3e75dc",
   "metadata": {},
   "outputs": [],
   "source": []
  },
  {
   "cell_type": "code",
   "execution_count": null,
   "id": "764ebde0",
   "metadata": {},
   "outputs": [],
   "source": []
  },
  {
   "cell_type": "code",
   "execution_count": null,
   "id": "f8ad772b",
   "metadata": {},
   "outputs": [],
   "source": []
  },
  {
   "cell_type": "code",
   "execution_count": null,
   "id": "97d289aa",
   "metadata": {},
   "outputs": [],
   "source": []
  },
  {
   "cell_type": "code",
   "execution_count": null,
   "id": "fc3f492d",
   "metadata": {},
   "outputs": [],
   "source": []
  },
  {
   "cell_type": "code",
   "execution_count": null,
   "id": "40ac63f1",
   "metadata": {},
   "outputs": [],
   "source": []
  },
  {
   "cell_type": "code",
   "execution_count": null,
   "id": "8e26d620",
   "metadata": {},
   "outputs": [],
   "source": []
  },
  {
   "cell_type": "code",
   "execution_count": 5,
   "id": "b16a2567",
   "metadata": {},
   "outputs": [
    {
     "data": {
      "text/plain": [
       "(28798142,)"
      ]
     },
     "execution_count": 5,
     "metadata": {},
     "output_type": "execute_result"
    }
   ],
   "source": [
    "d1, d2 = la_trait_img.shape\n",
    "la_trait_img_reshaped = la_trait_img.reshape((d1*d2))\n",
    "la_trait_img_reshaped.shape"
   ]
  },
  {
   "cell_type": "code",
   "execution_count": 6,
   "id": "d72c53cb",
   "metadata": {},
   "outputs": [
    {
     "data": {
      "text/plain": [
       "array([0., 0., 0., ..., 0., 0., 0.], dtype=float32)"
      ]
     },
     "execution_count": 6,
     "metadata": {},
     "output_type": "execute_result"
    }
   ],
   "source": [
    "la_trait_img_reshaped"
   ]
  },
  {
   "cell_type": "code",
   "execution_count": 13,
   "id": "c8a32f1b",
   "metadata": {},
   "outputs": [
    {
     "data": {
      "text/plain": [
       "(-0.29392788, 0.47192937)"
      ]
     },
     "execution_count": 13,
     "metadata": {},
     "output_type": "execute_result"
    }
   ],
   "source": [
    "xmin = la_trait_img_reshaped.min()\n",
    "xmax = la_trait_img_reshaped.max()\n",
    "xmin, xmax"
   ]
  },
  {
   "cell_type": "code",
   "execution_count": 15,
   "id": "f506a6f6",
   "metadata": {},
   "outputs": [],
   "source": [
    "from scipy import stats"
   ]
  },
  {
   "cell_type": "code",
   "execution_count": 16,
   "id": "9155808b",
   "metadata": {},
   "outputs": [
    {
     "data": {
      "image/png": "[encoded data removed]",
      "text/plain": [
       "<Figure size 640x480 with 1 Axes>"
      ]
     },
     "metadata": {},
     "output_type": "display_data"
    }
   ],
   "source": [
    "fig = plt.figure()\n",
    "ax = fig.add_subplot(111)\n",
    "prob = stats.yeojohnson_normplot(la_trait_img_reshaped, xmin, xmax, plot=ax)"
   ]
  },
  {
   "cell_type": "code",
   "execution_count": 18,
   "id": "b7131a47",
   "metadata": {},
   "outputs": [
    {
     "data": {
      "text/plain": [
       "<matplotlib.lines.Line2D at 0x1dec2d2c550>"
      ]
     },
     "execution_count": 18,
     "metadata": {},
     "output_type": "execute_result"
    }
   ],
   "source": [
    "_, maxlog = stats.yeojohnson(la_trait_img_reshaped)\n",
    "ax.axvline(maxlog, color='r')"
   ]
  },
  {
   "cell_type": "code",
   "execution_count": 19,
   "id": "d8f39780",
   "metadata": {},
   "outputs": [],
   "source": [
    "plt.show()"
   ]
  },
  {
   "cell_type": "code",
   "execution_count": 20,
   "id": "a8c82d7c",
   "metadata": {},
   "outputs": [],
   "source": [
    "import numpy as np\n",
    "import scipy.stats as stats\n",
    "\n",
    "kde = stats.gaussian_kde(la_trait_img_reshaped)\n",
    "xs = np.linspace(xmin, xmax, num=500)\n",
    "y1 = kde(xs)\n",
    "kde.set_bandwidth(bw_method='silverman')\n",
    "# y2 = kde(xs)\n",
    "# kde.set_bandwidth(bw_method=kde.factor / 3.)\n",
    "# y3 = kde(xs)"
   ]
  },
  {
   "cell_type": "code",
   "execution_count": 21,
   "id": "0b55a9fd",
   "metadata": {},
   "outputs": [
    {
     "data": {
      "text/plain": [
       "[<matplotlib.lines.Line2D at 0x1ded249f1c0>]"
      ]
     },
     "execution_count": 21,
     "metadata": {},
     "output_type": "execute_result"
    },
    {
     "data": {
      "image/png": "[encoded data removed]",
      "text/plain": [
       "<Figure size 640x480 with 1 Axes>"
      ]
     },
     "metadata": {},
     "output_type": "display_data"
    }
   ],
   "source": [
    "import matplotlib.pyplot as plt\n",
    "fig, ax = plt.subplots()\n",
    "# ax.plot(x1, np.full(x1.shape, 1 / (4. * x1.size)), 'bo',\n",
    "# #         label='Data points (rescaled)')\n",
    "ax.plot(xs, y1, label='Scott (default)')\n"
   ]
  },
  {
   "cell_type": "code",
   "execution_count": null,
   "id": "685a6610",
   "metadata": {},
   "outputs": [],
   "source": []
  }
 ],
 "metadata": {
  "kernelspec": {
   "display_name": "wenqu_gdal",
   "language": "python",
   "name": "wenqu_gdal"
  },
  "language_info": {
   "codemirror_mode": {
    "name": "ipython",
    "version": 3
   },
   "file_extension": ".py",
   "mimetype": "text/x-python",
   "name": "python",
   "nbconvert_exporter": "python",
   "pygments_lexer": "ipython3",
   "version": "3.9.15"
  }
 },
 "nbformat": 4,
 "nbformat_minor": 5
}
