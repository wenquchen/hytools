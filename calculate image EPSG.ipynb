{
 "cells": [
  {
   "cell_type": "code",
   "execution_count": 11,
   "id": "2607ed97",
   "metadata": {},
   "outputs": [],
   "source": [
    "from osgeo import gdal\n",
    "# import spectral.io.envi as envi\n",
    "# import spectral as spy\n",
    "import matplotlib.pyplot as plt\n",
    "# from spectral import *\n",
    "import os \n",
    "import pandas as pd\n",
    "import numpy as np\n",
    "import rasterio\n",
    "from rasterio.merge import merge\n",
    "import glob\n",
    "from osgeo import gdal, gdalconst \n",
    "from osgeo import osr\n",
    "from osgeo.gdalconst import * "
   ]
  },
  {
   "cell_type": "code",
   "execution_count": 9,
   "id": "bb1340a8",
   "metadata": {},
   "outputs": [],
   "source": [
    "def wkt2epsg(wkt):\n",
    "\n",
    "    \"\"\"\n",
    "    From https://gis.stackexchange.com/questions/20298/is-it-possible-to-get-the-epsg-value-from-an-osr-spatialreference-class-using-th\n",
    "    Transform a WKT string to an EPSG code\n",
    "\n",
    "    Arguments\n",
    "    ---------\n",
    "\n",
    "    wkt: WKT definition\n",
    "\n",
    "    Returns: EPSG code\n",
    "\n",
    "    \"\"\"\n",
    "\n",
    "    p_in = osr.SpatialReference()\n",
    "    s = p_in.ImportFromWkt(wkt)\n",
    "    if s == 5:  # invalid WKT\n",
    "        return None\n",
    "    if p_in.IsLocal() == 1:  # this is a local definition\n",
    "        return p_in.ExportToWkt()\n",
    "    if p_in.IsGeographic() == 1:  # this is a geographic srs\n",
    "        cstype = 'GEOGCS'\n",
    "    else:  # this is a projected srs\n",
    "        cstype = 'PROJCS'\n",
    "    an = p_in.GetAuthorityName(cstype)\n",
    "    ac = p_in.GetAuthorityCode(cstype)\n",
    "    if an is not None and ac is not None:  # return the EPSG code\n",
    "        return int(p_in.GetAuthorityCode(cstype))"
   ]
  },
  {
   "cell_type": "code",
   "execution_count": 2,
   "id": "9ce6ec6d",
   "metadata": {},
   "outputs": [],
   "source": [
    "# input_tif = r'F:/DOE_Dalton_2021/Nano_Velo/lidar/100183_site2a_dem.tif'\n",
    "inDs = gdal.Open('F:/wenqu/Aviris/site2a/clip/aviris_site2a_clip_update2.tif')"
   ]
  },
  {
   "cell_type": "code",
   "execution_count": 12,
   "id": "b9cd2190",
   "metadata": {},
   "outputs": [
    {
     "data": {
      "text/plain": [
       "32605"
      ]
     },
     "execution_count": 12,
     "metadata": {},
     "output_type": "execute_result"
    }
   ],
   "source": [
    "wkt = inDs.GetProjection()\n",
    "epsg = wkt2epsg(wkt)\n",
    "epsg"
   ]
  },
  {
   "cell_type": "code",
   "execution_count": 13,
   "id": "92225853",
   "metadata": {},
   "outputs": [],
   "source": [
    "input_tif = r'F:/wenqu/trait_map/site2a_la_trait_map.tiff'\n",
    "# input_raster = gdal.Open(filename)\n",
    "out_tif = r'F:/wenqu/trait_map/site2a_la_trait_map_proj.tif'"
   ]
  },
  {
   "cell_type": "code",
   "execution_count": 14,
   "id": "d316cae3",
   "metadata": {},
   "outputs": [],
   "source": [
    "intermediate_format = \"GTiff\"\n",
    "dst_proj = 'EPSG:32605'"
   ]
  },
  {
   "cell_type": "code",
   "execution_count": 15,
   "id": "5753c4ea",
   "metadata": {},
   "outputs": [],
   "source": [
    "dst1_ds = gdal.Warp(srcDSOrSrcDSTab = input_tif,destNameOrDestDS=out_tif, dstSRS=dst_proj,\n",
    "                        format=intermediate_format)"
   ]
  },
  {
   "cell_type": "code",
   "execution_count": null,
   "id": "7c88f005",
   "metadata": {},
   "outputs": [],
   "source": []
  }
 ],
 "metadata": {
  "kernelspec": {
   "display_name": "wenqu_gdal",
   "language": "python",
   "name": "wenqu_gdal"
  },
  "language_info": {
   "codemirror_mode": {
    "name": "ipython",
    "version": 3
   },
   "file_extension": ".py",
   "mimetype": "text/x-python",
   "name": "python",
   "nbconvert_exporter": "python",
   "pygments_lexer": "ipython3",
   "version": "3.9.15"
  }
 },
 "nbformat": 4,
 "nbformat_minor": 5
}
