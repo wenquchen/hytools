{
 "cells": [
  {
   "cell_type": "code",
   "execution_count": 1,
   "id": "6c86bbb7",
   "metadata": {},
   "outputs": [],
   "source": [
    "import os\n"
   ]
  },
  {
   "cell_type": "code",
   "execution_count": 2,
   "id": "7ea42b5f",
   "metadata": {},
   "outputs": [],
   "source": [
    "for filename in os.listdir('D:/wenqu/pixel_all/100205/site1b_pixel_100205_5'):\n",
    "    num = filename.split('.')[0]    \n",
    "    num_1 = num.zfill(10)\n",
    "    new_filename = num_1 + \".npy\"\n",
    "    os.rename(os.path.join('D:/wenqu/pixel_all/100205/site1b_pixel_100205_5', filename), os.path.join('D:/wenqu/pixel_all/100205/site1b_pixel_100205_5', new_filename))\n",
    "#     print(num)"
   ]
  },
  {
   "cell_type": "code",
   "execution_count": null,
   "id": "bfb5d371",
   "metadata": {},
   "outputs": [],
   "source": []
  }
 ],
 "metadata": {
  "kernelspec": {
   "display_name": "wenqu_gpu",
   "language": "python",
   "name": "wenqu_gpu"
  },
  "language_info": {
   "codemirror_mode": {
    "name": "ipython",
    "version": 3
   },
   "file_extension": ".py",
   "mimetype": "text/x-python",
   "name": "python",
   "nbconvert_exporter": "python",
   "pygments_lexer": "ipython3",
   "version": "3.9.15"
  }
 },
 "nbformat": 4,
 "nbformat_minor": 5
}
