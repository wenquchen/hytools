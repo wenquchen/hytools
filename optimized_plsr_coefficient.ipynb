{
 "cells": [
  {
   "cell_type": "code",
   "execution_count": 1,
   "id": "e0401c82",
   "metadata": {},
   "outputs": [],
   "source": [
    "import numpy as np\n",
    "import pandas as pd\n",
    "import matplotlib.pyplot as plt\n",
    "from sklearn.preprocessing import scale \n",
    "from sklearn import model_selection\n",
    "from sklearn.model_selection import RepeatedKFold\n",
    "from sklearn.model_selection import train_test_split\n",
    "from sklearn.cross_decomposition import PLSRegression\n",
    "from sklearn.metrics import mean_squared_error\n",
    "from sklearn import model_selection\n",
    "from sklearn.model_selection import train_test_split, cross_val_score, cross_val_predict\n",
    "from sys import stdout\n",
    "import numpy as np\n",
    "import pandas as pd\n",
    "import matplotlib.pyplot as plt\n",
    "from scipy.stats import linregress\n",
    "from scipy.signal import savgol_filter\n",
    "from scipy.stats import pearsonr\n",
    "from sklearn.cross_decomposition import PLSRegression\n",
    "from sklearn.model_selection import cross_val_predict\n",
    "from sklearn.metrics import mean_squared_error, r2_score"
   ]
  },
  {
   "cell_type": "code",
   "execution_count": 2,
   "id": "c5b6f47f",
   "metadata": {},
   "outputs": [],
   "source": [
    "df_LA = pd.read_csv(r\"F:\\wenqu\\DOE_Arctic_project\\spectral\\combine_LA.csv\")"
   ]
  },
  {
   "cell_type": "code",
   "execution_count": 3,
   "id": "641ba06a",
   "metadata": {},
   "outputs": [],
   "source": [
    "b_name_mean = []\n",
    "b_name_std = []\n",
    "for i in range(1, 123):\n",
    "    b_mean = 'b' + str(i) + '_mean'\n",
    "    b_name_mean.append(b_mean)\n",
    "    b_std = 'b' + str(i) + '_std'\n",
    "    b_name_std.append(b_std)\n",
    "band_name = b_name_mean + b_name_std"
   ]
  },
  {
   "cell_type": "code",
   "execution_count": 4,
   "id": "66f7fef2",
   "metadata": {},
   "outputs": [],
   "source": [
    "x_la = df_LA[band_name]\n",
    "y_weighted_la = df_LA['weighted_la']\n",
    "log_y_weighted_la = np.log(y_weighted_la)\n",
    "\n",
    "vol_mois_la = df_LA['vol_moisture']\n",
    "\n",
    "LA_n_2a = 28\n",
    "LA_n_1b = 52\n",
    "LA_n_2c = 57\n",
    "LA_n_6 = 65"
   ]
  },
  {
   "cell_type": "code",
   "execution_count": 5,
   "id": "908db876",
   "metadata": {},
   "outputs": [
    {
     "data": {
      "text/plain": [
       "(64, 244)"
      ]
     },
     "execution_count": 5,
     "metadata": {},
     "output_type": "execute_result"
    }
   ],
   "source": [
    "x_la = x_la.to_numpy()\n",
    "x_la.shape\n"
   ]
  },
  {
   "cell_type": "code",
   "execution_count": 6,
   "id": "837981e4",
   "metadata": {},
   "outputs": [],
   "source": [
    "band_name = np.array(band_name)"
   ]
  },
  {
   "cell_type": "code",
   "execution_count": 7,
   "id": "a7b9d513",
   "metadata": {},
   "outputs": [],
   "source": [
    "def pls_variable_selection(X, y, max_comp):\n",
    "    \n",
    "    # Define MSE array to be populated\n",
    "    mse = np.zeros((max_comp,X.shape[1]))\n",
    " \n",
    "    # Loop over the number of PLS components\n",
    "    for i in range(max_comp):\n",
    "        \n",
    "        # Regression with specified number of components, using full spectrum\n",
    "        pls1 = PLSRegression(n_components=i+1)\n",
    "        pls1.fit(X, y)\n",
    "        \n",
    "        # Indices of sort spectra according to ascending absolute value of PLS coefficients\n",
    "        sorted_ind = np.argsort(np.abs(pls1.coef_[:,0]))\n",
    " \n",
    "        # Sort spectra accordingly \n",
    "        Xc = X[:,sorted_ind]\n",
    " \n",
    "        # Discard one wavelength at a time of the sorted spectra,\n",
    "        # regress, and calculate the MSE cross-validation\n",
    "        for j in range(Xc.shape[1]-(i+1)):\n",
    " \n",
    "            pls2 = PLSRegression(n_components=i+1)\n",
    "            pls2.fit(Xc[:, j:], y)\n",
    "            \n",
    "            y_cv = cross_val_predict(pls2, Xc[:, j:], y, cv=5)\n",
    " \n",
    "            mse[i,j] = mean_squared_error(y, y_cv)\n",
    "    \n",
    "        comp = 100*(i+1)/(max_comp)\n",
    "        stdout.write(\"\\r%d%% completed\" % comp)\n",
    "        stdout.flush()\n",
    "    stdout.write(\"\\n\")\n",
    " \n",
    "    # # Calculate and print the position of minimum in MSE\n",
    "    mseminx,mseminy = np.where(mse==np.min(mse[np.nonzero(mse)]))\n",
    " \n",
    "    print(\"Optimised number of PLS components: \", mseminx[0]+1)\n",
    "    print(\"Wavelengths to be discarded \",mseminy[0])\n",
    "    print('Optimised MSEP ', mse[mseminx,mseminy][0])\n",
    "    stdout.write(\"\\n\")\n",
    "    plt.imshow(mse, interpolation=None)\n",
    "    plt.show()\n",
    " \n",
    " \n",
    "    # Calculate PLS with optimal components and export values\n",
    "    pls = PLSRegression(n_components=mseminx[0]+1)\n",
    "    pls.fit(X, y)\n",
    "        \n",
    "    sorted_ind = np.argsort(np.abs(pls.coef_[:,0]))\n",
    " \n",
    "    Xc = X[:,sorted_ind]\n",
    " \n",
    "    return(Xc[:,mseminy[0]:],mseminx[0]+1,mseminy[0], sorted_ind)"
   ]
  },
  {
   "cell_type": "code",
   "execution_count": 8,
   "id": "d47e5537",
   "metadata": {},
   "outputs": [],
   "source": [
    "def simple_pls_cv(X, y, n_comp, vol_mois, n_2a, n_1b, n_2c,n_6):\n",
    " \n",
    "    # Run PLS with suggested number of components\n",
    "    pls = PLSRegression(n_components=n_comp)\n",
    "    pls.fit(X, y)\n",
    "    y_c = pls.predict(X)\n",
    " \n",
    "    # Cross-validation\n",
    "    y_cv = cross_val_predict(pls, X, y, cv=10)    \n",
    " \n",
    "    # Calculate scores for calibration and cross-validation\n",
    "    score_c = r2_score(y, y_c)\n",
    "    score_cv = r2_score(y, y_cv)\n",
    " \n",
    "    # Calculate mean square error for calibration and cross validation\n",
    "    mse_c = mean_squared_error(y, y_c)\n",
    "    mse_cv = mean_squared_error(y, y_cv)\n",
    " \n",
    "    print('R2 calib: %5.3f'  % score_c)\n",
    "    print('R2 CV: %5.3f'  % score_cv)\n",
    "    print('MSE calib: %5.3f' % mse_c)\n",
    "    print('MSE CV: %5.3f' % mse_cv)\n",
    " \n",
    "    # Plot regression \n",
    " \n",
    "    z = np.polyfit(y, y_cv, 1)\n",
    "    with plt.style.context(('ggplot')):\n",
    "        fig, ax = plt.subplots(figsize=(9, 5))\n",
    "        \n",
    "#         ax.scatter(y_cv, y, c='red', edgecolors='k')\n",
    "        \n",
    "        ax.scatter(y_cv[0:n_2a, ], y[0:n_2a, ], c=vol_mois[0:n_2a, ],  cmap='Spectral', marker= '*',edgecolors='k')\n",
    "        ax.scatter(y_cv[n_2a:n_1b, ], y[n_2a:n_1b, ], c=vol_mois[n_2a:n_1b, ],  cmap='Spectral', marker= 'v',edgecolors='k')\n",
    "        ax.scatter(y_cv[n_1b:n_2c, ], y[n_1b:n_2c, ], c=vol_mois[n_1b:n_2c, ],  cmap='Spectral', marker= '.',edgecolors='k')\n",
    "        ax.scatter(y_cv[n_2c:n_6, ], y[n_2c:n_6, ], c=vol_mois[n_2c:n_6, ],  cmap='Spectral', marker= 'P',edgecolors='k')\n",
    "        \n",
    "        \n",
    "        ax.plot(z[1]+z[0]*y, y, c='blue', linewidth=1)\n",
    "        ax.plot(y, y, color='green', linewidth=1)\n",
    "        plt.title('$R^{2}$ (CV): '+str(score_cv))\n",
    "        plt.xlabel('Predicted $^{\\circ}$Brix')\n",
    "        plt.ylabel('Measured $^{\\circ}$Brix')\n",
    "        \n",
    "        plt.show()"
   ]
  },
  {
   "cell_type": "code",
   "execution_count": 9,
   "id": "e3ef4f3c",
   "metadata": {},
   "outputs": [
    {
     "name": "stderr",
     "output_type": "stream",
     "text": [
      "C:\\Users\\15086\\anaconda3\\envs\\wenqu_gdal\\lib\\site-packages\\sklearn\\cross_decomposition\\_pls.py:503: FutureWarning: The attribute `coef_` will be transposed in version 1.3 to be consistent with other linear models in scikit-learn. Currently, `coef_` has a shape of (n_features, n_targets) and in the future it will have a shape of (n_targets, n_features).\n",
      "  warnings.warn(\n"
     ]
    },
    {
     "name": "stdout",
     "output_type": "stream",
     "text": [
      "\r",
      "5% completed"
     ]
    },
    {
     "name": "stderr",
     "output_type": "stream",
     "text": [
      "C:\\Users\\15086\\anaconda3\\envs\\wenqu_gdal\\lib\\site-packages\\sklearn\\cross_decomposition\\_pls.py:503: FutureWarning: The attribute `coef_` will be transposed in version 1.3 to be consistent with other linear models in scikit-learn. Currently, `coef_` has a shape of (n_features, n_targets) and in the future it will have a shape of (n_targets, n_features).\n",
      "  warnings.warn(\n"
     ]
    },
    {
     "name": "stdout",
     "output_type": "stream",
     "text": [
      "\r",
      "10% completed"
     ]
    },
    {
     "name": "stderr",
     "output_type": "stream",
     "text": [
      "C:\\Users\\15086\\anaconda3\\envs\\wenqu_gdal\\lib\\site-packages\\sklearn\\cross_decomposition\\_pls.py:503: FutureWarning: The attribute `coef_` will be transposed in version 1.3 to be consistent with other linear models in scikit-learn. Currently, `coef_` has a shape of (n_features, n_targets) and in the future it will have a shape of (n_targets, n_features).\n",
      "  warnings.warn(\n"
     ]
    },
    {
     "name": "stdout",
     "output_type": "stream",
     "text": [
      "\r",
      "15% completed"
     ]
    },
    {
     "name": "stderr",
     "output_type": "stream",
     "text": [
      "C:\\Users\\15086\\anaconda3\\envs\\wenqu_gdal\\lib\\site-packages\\sklearn\\cross_decomposition\\_pls.py:503: FutureWarning: The attribute `coef_` will be transposed in version 1.3 to be consistent with other linear models in scikit-learn. Currently, `coef_` has a shape of (n_features, n_targets) and in the future it will have a shape of (n_targets, n_features).\n",
      "  warnings.warn(\n"
     ]
    },
    {
     "name": "stdout",
     "output_type": "stream",
     "text": [
      "\r",
      "20% completed"
     ]
    },
    {
     "name": "stderr",
     "output_type": "stream",
     "text": [
      "C:\\Users\\15086\\anaconda3\\envs\\wenqu_gdal\\lib\\site-packages\\sklearn\\cross_decomposition\\_pls.py:503: FutureWarning: The attribute `coef_` will be transposed in version 1.3 to be consistent with other linear models in scikit-learn. Currently, `coef_` has a shape of (n_features, n_targets) and in the future it will have a shape of (n_targets, n_features).\n",
      "  warnings.warn(\n"
     ]
    },
    {
     "name": "stdout",
     "output_type": "stream",
     "text": [
      "\r",
      "25% completed"
     ]
    },
    {
     "name": "stderr",
     "output_type": "stream",
     "text": [
      "C:\\Users\\15086\\anaconda3\\envs\\wenqu_gdal\\lib\\site-packages\\sklearn\\cross_decomposition\\_pls.py:503: FutureWarning: The attribute `coef_` will be transposed in version 1.3 to be consistent with other linear models in scikit-learn. Currently, `coef_` has a shape of (n_features, n_targets) and in the future it will have a shape of (n_targets, n_features).\n",
      "  warnings.warn(\n"
     ]
    },
    {
     "name": "stdout",
     "output_type": "stream",
     "text": [
      "\r",
      "30% completed"
     ]
    },
    {
     "name": "stderr",
     "output_type": "stream",
     "text": [
      "C:\\Users\\15086\\anaconda3\\envs\\wenqu_gdal\\lib\\site-packages\\sklearn\\cross_decomposition\\_pls.py:503: FutureWarning: The attribute `coef_` will be transposed in version 1.3 to be consistent with other linear models in scikit-learn. Currently, `coef_` has a shape of (n_features, n_targets) and in the future it will have a shape of (n_targets, n_features).\n",
      "  warnings.warn(\n"
     ]
    },
    {
     "name": "stdout",
     "output_type": "stream",
     "text": [
      "\r",
      "35% completed"
     ]
    },
    {
     "name": "stderr",
     "output_type": "stream",
     "text": [
      "C:\\Users\\15086\\anaconda3\\envs\\wenqu_gdal\\lib\\site-packages\\sklearn\\cross_decomposition\\_pls.py:503: FutureWarning: The attribute `coef_` will be transposed in version 1.3 to be consistent with other linear models in scikit-learn. Currently, `coef_` has a shape of (n_features, n_targets) and in the future it will have a shape of (n_targets, n_features).\n",
      "  warnings.warn(\n"
     ]
    },
    {
     "name": "stdout",
     "output_type": "stream",
     "text": [
      "\r",
      "40% completed"
     ]
    },
    {
     "name": "stderr",
     "output_type": "stream",
     "text": [
      "C:\\Users\\15086\\anaconda3\\envs\\wenqu_gdal\\lib\\site-packages\\sklearn\\cross_decomposition\\_pls.py:503: FutureWarning: The attribute `coef_` will be transposed in version 1.3 to be consistent with other linear models in scikit-learn. Currently, `coef_` has a shape of (n_features, n_targets) and in the future it will have a shape of (n_targets, n_features).\n",
      "  warnings.warn(\n"
     ]
    },
    {
     "name": "stdout",
     "output_type": "stream",
     "text": [
      "\r",
      "45% completed"
     ]
    },
    {
     "name": "stderr",
     "output_type": "stream",
     "text": [
      "C:\\Users\\15086\\anaconda3\\envs\\wenqu_gdal\\lib\\site-packages\\sklearn\\cross_decomposition\\_pls.py:503: FutureWarning: The attribute `coef_` will be transposed in version 1.3 to be consistent with other linear models in scikit-learn. Currently, `coef_` has a shape of (n_features, n_targets) and in the future it will have a shape of (n_targets, n_features).\n",
      "  warnings.warn(\n"
     ]
    },
    {
     "name": "stdout",
     "output_type": "stream",
     "text": [
      "\r",
      "50% completed"
     ]
    },
    {
     "name": "stderr",
     "output_type": "stream",
     "text": [
      "C:\\Users\\15086\\anaconda3\\envs\\wenqu_gdal\\lib\\site-packages\\sklearn\\cross_decomposition\\_pls.py:503: FutureWarning: The attribute `coef_` will be transposed in version 1.3 to be consistent with other linear models in scikit-learn. Currently, `coef_` has a shape of (n_features, n_targets) and in the future it will have a shape of (n_targets, n_features).\n",
      "  warnings.warn(\n"
     ]
    },
    {
     "name": "stdout",
     "output_type": "stream",
     "text": [
      "\r",
      "55% completed"
     ]
    },
    {
     "name": "stderr",
     "output_type": "stream",
     "text": [
      "C:\\Users\\15086\\anaconda3\\envs\\wenqu_gdal\\lib\\site-packages\\sklearn\\cross_decomposition\\_pls.py:503: FutureWarning: The attribute `coef_` will be transposed in version 1.3 to be consistent with other linear models in scikit-learn. Currently, `coef_` has a shape of (n_features, n_targets) and in the future it will have a shape of (n_targets, n_features).\n",
      "  warnings.warn(\n"
     ]
    },
    {
     "name": "stdout",
     "output_type": "stream",
     "text": [
      "\r",
      "60% completed"
     ]
    },
    {
     "name": "stderr",
     "output_type": "stream",
     "text": [
      "C:\\Users\\15086\\anaconda3\\envs\\wenqu_gdal\\lib\\site-packages\\sklearn\\cross_decomposition\\_pls.py:503: FutureWarning: The attribute `coef_` will be transposed in version 1.3 to be consistent with other linear models in scikit-learn. Currently, `coef_` has a shape of (n_features, n_targets) and in the future it will have a shape of (n_targets, n_features).\n",
      "  warnings.warn(\n"
     ]
    },
    {
     "name": "stdout",
     "output_type": "stream",
     "text": [
      "\r",
      "65% completed"
     ]
    },
    {
     "name": "stderr",
     "output_type": "stream",
     "text": [
      "C:\\Users\\15086\\anaconda3\\envs\\wenqu_gdal\\lib\\site-packages\\sklearn\\cross_decomposition\\_pls.py:503: FutureWarning: The attribute `coef_` will be transposed in version 1.3 to be consistent with other linear models in scikit-learn. Currently, `coef_` has a shape of (n_features, n_targets) and in the future it will have a shape of (n_targets, n_features).\n",
      "  warnings.warn(\n"
     ]
    },
    {
     "name": "stdout",
     "output_type": "stream",
     "text": [
      "\r",
      "70% completed"
     ]
    },
    {
     "name": "stderr",
     "output_type": "stream",
     "text": [
      "C:\\Users\\15086\\anaconda3\\envs\\wenqu_gdal\\lib\\site-packages\\sklearn\\cross_decomposition\\_pls.py:503: FutureWarning: The attribute `coef_` will be transposed in version 1.3 to be consistent with other linear models in scikit-learn. Currently, `coef_` has a shape of (n_features, n_targets) and in the future it will have a shape of (n_targets, n_features).\n",
      "  warnings.warn(\n"
     ]
    },
    {
     "name": "stdout",
     "output_type": "stream",
     "text": [
      "\r",
      "75% completed"
     ]
    },
    {
     "name": "stderr",
     "output_type": "stream",
     "text": [
      "C:\\Users\\15086\\anaconda3\\envs\\wenqu_gdal\\lib\\site-packages\\sklearn\\cross_decomposition\\_pls.py:503: FutureWarning: The attribute `coef_` will be transposed in version 1.3 to be consistent with other linear models in scikit-learn. Currently, `coef_` has a shape of (n_features, n_targets) and in the future it will have a shape of (n_targets, n_features).\n",
      "  warnings.warn(\n"
     ]
    },
    {
     "name": "stdout",
     "output_type": "stream",
     "text": [
      "\r",
      "80% completed"
     ]
    },
    {
     "name": "stderr",
     "output_type": "stream",
     "text": [
      "C:\\Users\\15086\\anaconda3\\envs\\wenqu_gdal\\lib\\site-packages\\sklearn\\cross_decomposition\\_pls.py:503: FutureWarning: The attribute `coef_` will be transposed in version 1.3 to be consistent with other linear models in scikit-learn. Currently, `coef_` has a shape of (n_features, n_targets) and in the future it will have a shape of (n_targets, n_features).\n",
      "  warnings.warn(\n"
     ]
    },
    {
     "name": "stdout",
     "output_type": "stream",
     "text": [
      "\r",
      "85% completed"
     ]
    },
    {
     "name": "stderr",
     "output_type": "stream",
     "text": [
      "C:\\Users\\15086\\anaconda3\\envs\\wenqu_gdal\\lib\\site-packages\\sklearn\\cross_decomposition\\_pls.py:503: FutureWarning: The attribute `coef_` will be transposed in version 1.3 to be consistent with other linear models in scikit-learn. Currently, `coef_` has a shape of (n_features, n_targets) and in the future it will have a shape of (n_targets, n_features).\n",
      "  warnings.warn(\n"
     ]
    },
    {
     "name": "stdout",
     "output_type": "stream",
     "text": [
      "\r",
      "90% completed"
     ]
    },
    {
     "name": "stderr",
     "output_type": "stream",
     "text": [
      "C:\\Users\\15086\\anaconda3\\envs\\wenqu_gdal\\lib\\site-packages\\sklearn\\cross_decomposition\\_pls.py:503: FutureWarning: The attribute `coef_` will be transposed in version 1.3 to be consistent with other linear models in scikit-learn. Currently, `coef_` has a shape of (n_features, n_targets) and in the future it will have a shape of (n_targets, n_features).\n",
      "  warnings.warn(\n"
     ]
    },
    {
     "name": "stdout",
     "output_type": "stream",
     "text": [
      "\r",
      "95% completed"
     ]
    },
    {
     "name": "stderr",
     "output_type": "stream",
     "text": [
      "C:\\Users\\15086\\anaconda3\\envs\\wenqu_gdal\\lib\\site-packages\\sklearn\\cross_decomposition\\_pls.py:503: FutureWarning: The attribute `coef_` will be transposed in version 1.3 to be consistent with other linear models in scikit-learn. Currently, `coef_` has a shape of (n_features, n_targets) and in the future it will have a shape of (n_targets, n_features).\n",
      "  warnings.warn(\n"
     ]
    },
    {
     "name": "stdout",
     "output_type": "stream",
     "text": [
      "100% completed\n",
      "Optimised number of PLS components:  12\n",
      "Wavelengths to be discarded  215\n",
      "Optimised MSEP  0.31097104339275405\n",
      "\n"
     ]
    },
    {
     "data": {
      "image/png": "[encoded data removed]",
      "text/plain": [
       "<Figure size 640x480 with 1 Axes>"
      ]
     },
     "metadata": {},
     "output_type": "display_data"
    },
    {
     "name": "stdout",
     "output_type": "stream",
     "text": [
      "R2 calib: 0.905\n",
      "R2 CV: 0.782\n",
      "MSE calib: 0.129\n",
      "MSE CV: 0.293\n"
     ]
    },
    {
     "name": "stderr",
     "output_type": "stream",
     "text": [
      "C:\\Users\\15086\\anaconda3\\envs\\wenqu_gdal\\lib\\site-packages\\sklearn\\cross_decomposition\\_pls.py:503: FutureWarning: The attribute `coef_` will be transposed in version 1.3 to be consistent with other linear models in scikit-learn. Currently, `coef_` has a shape of (n_features, n_targets) and in the future it will have a shape of (n_targets, n_features).\n",
      "  warnings.warn(\n"
     ]
    },
    {
     "data": {
      "image/png": "[encoded data removed]",
      "text/plain": [
       "<Figure size 900x500 with 1 Axes>"
      ]
     },
     "metadata": {},
     "output_type": "display_data"
    }
   ],
   "source": [
    "opt_Xc, ncomp, wav, sorted_ind = pls_variable_selection(x_la, log_y_weighted_la, 20)\n",
    "simple_pls_cv(opt_Xc, log_y_weighted_la, ncomp, vol_mois_la,LA_n_2a, LA_n_1b,  LA_n_2c, LA_n_6)"
   ]
  },
  {
   "cell_type": "code",
   "execution_count": 8,
   "id": "cca53729",
   "metadata": {},
   "outputs": [],
   "source": [
    "pls2 = PLSRegression(n_components = 12)\n",
    "pls2.fit(x_la, log_y_weighted_la)\n",
    "y_c = pls2.predict(x_la)\n",
    "score_c = r2_score(log_y_weighted_la, y_c)"
   ]
  },
  {
   "cell_type": "code",
   "execution_count": 9,
   "id": "c1e13555",
   "metadata": {},
   "outputs": [
    {
     "data": {
      "text/plain": [
       "0.8999292992542594"
      ]
     },
     "execution_count": 9,
     "metadata": {},
     "output_type": "execute_result"
    }
   ],
   "source": [
    "score_c"
   ]
  },
  {
   "cell_type": "code",
   "execution_count": 11,
   "id": "a115c48e",
   "metadata": {},
   "outputs": [
    {
     "data": {
      "text/plain": [
       "(244,)"
      ]
     },
     "execution_count": 11,
     "metadata": {},
     "output_type": "execute_result"
    }
   ],
   "source": [
    "sorted_ind = np.argsort(np.abs(pls2.coef_[:,0]))\n",
    "sorted_ind.shape\n",
    "# Sort spectra accordingly \n",
    "# Xc = x_la[:,sorted_ind]"
   ]
  },
  {
   "cell_type": "code",
   "execution_count": 25,
   "id": "eaf60255",
   "metadata": {},
   "outputs": [
    {
     "data": {
      "text/plain": [
       "array([[ 0.31556117],\n",
       "       [-0.31637021],\n",
       "       [ 0.31906054],\n",
       "       [-0.32124573],\n",
       "       [-0.34298296],\n",
       "       [ 0.35107985],\n",
       "       [ 0.35511357],\n",
       "       [-0.37369869],\n",
       "       [ 0.40436503],\n",
       "       [-0.42575138],\n",
       "       [ 0.42951007],\n",
       "       [-0.44072882],\n",
       "       [ 0.44077624],\n",
       "       [ 0.44462493],\n",
       "       [ 0.46096893],\n",
       "       [-0.47356007],\n",
       "       [-0.47666208],\n",
       "       [-0.49608825],\n",
       "       [-0.51741251],\n",
       "       [ 0.52290846],\n",
       "       [ 0.53326185],\n",
       "       [-0.62110612],\n",
       "       [-0.66670289],\n",
       "       [-0.6780343 ],\n",
       "       [ 0.6865758 ],\n",
       "       [ 0.78510398],\n",
       "       [ 0.89266821],\n",
       "       [ 0.94437587],\n",
       "       [-0.97321584]])"
      ]
     },
     "execution_count": 25,
     "metadata": {},
     "output_type": "execute_result"
    }
   ],
   "source": [
    "pls2.coef_[sorted_ind][-29:]"
   ]
  },
  {
   "cell_type": "code",
   "execution_count": 12,
   "id": "b208ab5d",
   "metadata": {},
   "outputs": [
    {
     "data": {
      "text/plain": [
       "array([ 85, 222,  35,  38,  92, 154, 165,  52, 213, 151, 157,  73,  43,\n",
       "       166,  13,  30, 201, 203, 141,  37,  91, 174,  68, 167, 142, 171,\n",
       "       223, 198,  80, 191, 176,   7,  19,  23, 232,  47,  48,  46, 144,\n",
       "        27, 240, 214, 102,  20,  24,  39, 208,  55, 170,  78,  18,  57,\n",
       "       180, 101, 114,  88,  67, 134,  95, 227, 237,  58,  45,  93,  42,\n",
       "        26, 135,  32, 209,  69, 220,  21, 193, 210,  49, 205, 161, 206,\n",
       "       192, 235, 136, 179, 218,  56,  96, 202,  31, 103,  94,  83,  54,\n",
       "        60, 215,  82, 199, 160, 217,  28,  51,  53, 189,  81,  98,   8,\n",
       "       181, 143, 121,  22,  44,  77,  84,  34, 200,  36,  97,  79,  72,\n",
       "        17, 140,  50, 216,  41,  70, 169, 137,  25, 168,  76,  89,  86,\n",
       "        16, 126,  33,  90, 158,  71,  66,   5, 207, 117, 195, 197,  61,\n",
       "       159,  99,  87, 211,   2,  15,  65, 230,  40, 138, 172, 190, 105,\n",
       "       150,  10, 132, 130,  59, 188, 163, 194, 239, 178, 221,  75, 164,\n",
       "       233, 183, 182, 212,  29, 116, 175, 128,  11, 204, 219, 152, 112,\n",
       "       127, 196, 184,   9, 148,  12, 139, 231,   6, 185, 110, 234, 100,\n",
       "        62, 111, 187, 122, 104, 146, 242, 236, 162, 113, 156,  63, 123,\n",
       "        64, 225, 145, 238, 149, 115, 177, 173, 155, 228, 129, 153, 118,\n",
       "       186,   1, 120,  74, 119,   0, 147, 131, 241, 125,  14, 224, 109,\n",
       "         4, 106, 226, 108, 124, 133, 107,   3, 229, 243], dtype=int64)"
      ]
     },
     "execution_count": 12,
     "metadata": {},
     "output_type": "execute_result"
    }
   ],
   "source": [
    "sorted_ind"
   ]
  },
  {
   "cell_type": "code",
   "execution_count": 16,
   "id": "173c19bd",
   "metadata": {},
   "outputs": [
    {
     "data": {
      "text/plain": [
       "array([[0.02513029, 0.02134852, 0.01770818, ..., 0.05316708, 0.05993119,\n",
       "        0.06688997],\n",
       "       [0.0371157 , 0.02813619, 0.02755567, ..., 0.14341609, 0.13250755,\n",
       "        0.15794219],\n",
       "       [0.00913065, 0.01448597, 0.0093588 , ..., 0.07574262, 0.07788602,\n",
       "        0.08915306],\n",
       "       ...,\n",
       "       [0.0004745 , 0.00355525, 0.00524099, ..., 0.02115562, 0.02188501,\n",
       "        0.0328268 ],\n",
       "       [0.0028907 , 0.00377008, 0.00597508, ..., 0.02170419, 0.02515271,\n",
       "        0.04609478],\n",
       "       [0.00512919, 0.00466271, 0.00570549, ..., 0.02414475, 0.02802827,\n",
       "        0.03947566]])"
      ]
     },
     "execution_count": 16,
     "metadata": {},
     "output_type": "execute_result"
    }
   ],
   "source": [
    "x_la"
   ]
  },
  {
   "cell_type": "code",
   "execution_count": 18,
   "id": "6b6b06ae",
   "metadata": {},
   "outputs": [
    {
     "data": {
      "text/plain": [
       "array(['b86_mean', 'b101_std', 'b36_mean', 'b39_mean', 'b93_mean',\n",
       "       'b33_std', 'b44_std', 'b53_mean', 'b92_std', 'b30_std', 'b36_std',\n",
       "       'b74_mean', 'b44_mean', 'b45_std', 'b14_mean', 'b31_mean',\n",
       "       'b80_std', 'b82_std', 'b20_std', 'b38_mean', 'b92_mean', 'b53_std',\n",
       "       'b69_mean', 'b46_std', 'b21_std', 'b50_std', 'b102_std', 'b77_std',\n",
       "       'b81_mean', 'b70_std', 'b55_std', 'b8_mean', 'b20_mean',\n",
       "       'b24_mean', 'b111_std', 'b48_mean', 'b49_mean', 'b47_mean',\n",
       "       'b23_std', 'b28_mean', 'b119_std', 'b93_std', 'b103_mean',\n",
       "       'b21_mean', 'b25_mean', 'b40_mean', 'b87_std', 'b56_mean',\n",
       "       'b49_std', 'b79_mean', 'b19_mean', 'b58_mean', 'b59_std',\n",
       "       'b102_mean', 'b115_mean', 'b89_mean', 'b68_mean', 'b13_std',\n",
       "       'b96_mean', 'b106_std', 'b116_std', 'b59_mean', 'b46_mean',\n",
       "       'b94_mean', 'b43_mean', 'b27_mean', 'b14_std', 'b33_mean',\n",
       "       'b88_std', 'b70_mean', 'b99_std', 'b22_mean', 'b72_std', 'b89_std',\n",
       "       'b50_mean', 'b84_std', 'b40_std', 'b85_std', 'b71_std', 'b114_std',\n",
       "       'b15_std', 'b58_std', 'b97_std', 'b57_mean', 'b97_mean', 'b81_std',\n",
       "       'b32_mean', 'b104_mean', 'b95_mean', 'b84_mean', 'b55_mean',\n",
       "       'b61_mean', 'b94_std', 'b83_mean', 'b78_std', 'b39_std', 'b96_std',\n",
       "       'b29_mean', 'b52_mean', 'b54_mean', 'b68_std', 'b82_mean',\n",
       "       'b99_mean', 'b9_mean', 'b60_std', 'b22_std', 'b122_mean',\n",
       "       'b23_mean', 'b45_mean', 'b78_mean', 'b85_mean', 'b35_mean',\n",
       "       'b79_std', 'b37_mean', 'b98_mean', 'b80_mean', 'b73_mean',\n",
       "       'b18_mean', 'b19_std', 'b51_mean', 'b95_std', 'b42_mean',\n",
       "       'b71_mean', 'b48_std', 'b16_std', 'b26_mean', 'b47_std',\n",
       "       'b77_mean', 'b90_mean', 'b87_mean', 'b17_mean', 'b5_std',\n",
       "       'b34_mean', 'b91_mean', 'b37_std', 'b72_mean', 'b67_mean',\n",
       "       'b6_mean', 'b86_std', 'b118_mean', 'b74_std', 'b76_std',\n",
       "       'b62_mean', 'b38_std', 'b100_mean', 'b88_mean', 'b90_std',\n",
       "       'b3_mean', 'b16_mean', 'b66_mean', 'b109_std', 'b41_mean',\n",
       "       'b17_std', 'b51_std', 'b69_std', 'b106_mean', 'b29_std',\n",
       "       'b11_mean', 'b11_std', 'b9_std', 'b60_mean', 'b67_std', 'b42_std',\n",
       "       'b73_std', 'b118_std', 'b57_std', 'b100_std', 'b76_mean',\n",
       "       'b43_std', 'b112_std', 'b62_std', 'b61_std', 'b91_std', 'b30_mean',\n",
       "       'b117_mean', 'b54_std', 'b7_std', 'b12_mean', 'b83_std', 'b98_std',\n",
       "       'b31_std', 'b113_mean', 'b6_std', 'b75_std', 'b63_std', 'b10_mean',\n",
       "       'b27_std', 'b13_mean', 'b18_std', 'b110_std', 'b7_mean', 'b64_std',\n",
       "       'b111_mean', 'b113_std', 'b101_mean', 'b63_mean', 'b112_mean',\n",
       "       'b66_std', 'b1_std', 'b105_mean', 'b25_std', 'b121_std',\n",
       "       'b115_std', 'b41_std', 'b114_mean', 'b35_std', 'b64_mean',\n",
       "       'b2_std', 'b65_mean', 'b104_std', 'b24_std', 'b117_std', 'b28_std',\n",
       "       'b116_mean', 'b56_std', 'b52_std', 'b34_std', 'b107_std', 'b8_std',\n",
       "       'b32_std', 'b119_mean', 'b65_std', 'b2_mean', 'b121_mean',\n",
       "       'b75_mean', 'b120_mean', 'b1_mean', 'b26_std', 'b10_std',\n",
       "       'b120_std', 'b4_std', 'b15_mean', 'b103_std', 'b110_mean',\n",
       "       'b5_mean', 'b107_mean', 'b105_std', 'b109_mean', 'b3_std',\n",
       "       'b12_std', 'b108_mean', 'b4_mean', 'b108_std', 'b122_std'],\n",
       "      dtype='<U9')"
      ]
     },
     "execution_count": 18,
     "metadata": {},
     "output_type": "execute_result"
    }
   ],
   "source": [
    "optimal_band = band_name[sorted_ind]\n",
    "optimal_band\n"
   ]
  },
  {
   "cell_type": "code",
   "execution_count": 19,
   "id": "588813ed",
   "metadata": {},
   "outputs": [
    {
     "data": {
      "text/plain": [
       "array(['b52_std', 'b34_std', 'b107_std', 'b8_std', 'b32_std', 'b119_mean',\n",
       "       'b65_std', 'b2_mean', 'b121_mean', 'b75_mean', 'b120_mean',\n",
       "       'b1_mean', 'b26_std', 'b10_std', 'b120_std', 'b4_std', 'b15_mean',\n",
       "       'b103_std', 'b110_mean', 'b5_mean', 'b107_mean', 'b105_std',\n",
       "       'b109_mean', 'b3_std', 'b12_std', 'b108_mean', 'b4_mean',\n",
       "       'b108_std', 'b122_std'], dtype='<U9')"
      ]
     },
     "execution_count": 19,
     "metadata": {},
     "output_type": "execute_result"
    }
   ],
   "source": [
    "optimal_band = band_name[sorted_ind][-29:]\n",
    "optimal_band"
   ]
  },
  {
   "cell_type": "code",
   "execution_count": 20,
   "id": "cbbedde8",
   "metadata": {},
   "outputs": [
    {
     "data": {
      "text/plain": [
       "(64, 29)"
      ]
     },
     "execution_count": 20,
     "metadata": {},
     "output_type": "execute_result"
    }
   ],
   "source": [
    "x_la_optimal = df_LA[optimal_band]\n",
    "x_la_optimal.shape"
   ]
  },
  {
   "cell_type": "code",
   "execution_count": 21,
   "id": "83e31785",
   "metadata": {},
   "outputs": [
    {
     "data": {
      "text/plain": [
       "0.9046593010426331"
      ]
     },
     "execution_count": 21,
     "metadata": {},
     "output_type": "execute_result"
    }
   ],
   "source": [
    "pls3 = PLSRegression(n_components = 12)\n",
    "pls3.fit(x_la_optimal, log_y_weighted_la)\n",
    "y_c = pls3.predict(x_la_optimal)\n",
    "score_c = r2_score(log_y_weighted_la, y_c)\n",
    "score_c"
   ]
  },
  {
   "cell_type": "code",
   "execution_count": 22,
   "id": "be191afa",
   "metadata": {},
   "outputs": [
    {
     "name": "stderr",
     "output_type": "stream",
     "text": [
      "C:\\Users\\15086\\anaconda3\\envs\\wenqu_gdal\\lib\\site-packages\\sklearn\\cross_decomposition\\_pls.py:503: FutureWarning: The attribute `coef_` will be transposed in version 1.3 to be consistent with other linear models in scikit-learn. Currently, `coef_` has a shape of (n_features, n_targets) and in the future it will have a shape of (n_targets, n_features).\n",
      "  warnings.warn(\n"
     ]
    },
    {
     "data": {
      "text/plain": [
       "(29, 1)"
      ]
     },
     "execution_count": 22,
     "metadata": {},
     "output_type": "execute_result"
    }
   ],
   "source": [
    "pls3.coef_.shape"
   ]
  },
  {
   "cell_type": "code",
   "execution_count": 24,
   "id": "5e535078",
   "metadata": {},
   "outputs": [
    {
     "data": {
      "text/plain": [
       "array([[-0.64570444],\n",
       "       [-0.83750744],\n",
       "       [ 0.83505827],\n",
       "       [-0.99145006],\n",
       "       [-0.62330507],\n",
       "       [ 0.06780459],\n",
       "       [ 1.56084937],\n",
       "       [-0.85337594],\n",
       "       [ 0.42475524],\n",
       "       [-0.64674977],\n",
       "       [ 0.78252502],\n",
       "       [-0.48933805],\n",
       "       [ 1.75513954],\n",
       "       [ 0.17894097],\n",
       "       [ 1.05435687],\n",
       "       [-0.53853918],\n",
       "       [-1.27749178],\n",
       "       [-1.17019249],\n",
       "       [-1.43608457],\n",
       "       [ 0.92612388],\n",
       "       [ 0.94560618],\n",
       "       [-1.25903758],\n",
       "       [-0.87856942],\n",
       "       [-0.42104026],\n",
       "       [ 1.35965638],\n",
       "       [ 1.48255907],\n",
       "       [ 1.17742143],\n",
       "       [-0.03216254],\n",
       "       [-0.73239041]])"
      ]
     },
     "execution_count": 24,
     "metadata": {},
     "output_type": "execute_result"
    }
   ],
   "source": [
    "pls3.coef_"
   ]
  },
  {
   "cell_type": "code",
   "execution_count": 23,
   "id": "a8499238",
   "metadata": {},
   "outputs": [
    {
     "data": {
      "text/plain": [
       "0.7822786793773869"
      ]
     },
     "execution_count": 23,
     "metadata": {},
     "output_type": "execute_result"
    }
   ],
   "source": [
    "pls4 = PLSRegression(n_components = 12)\n",
    "y_cv = cross_val_predict(pls4, x_la_optimal, log_y_weighted_la, cv=10) \n",
    "score_cv = r2_score(log_y_weighted_la, y_cv)\n",
    "score_cv"
   ]
  }
 ],
 "metadata": {
  "kernelspec": {
   "display_name": "wenqu_gdal",
   "language": "python",
   "name": "wenqu_gdal"
  },
  "language_info": {
   "codemirror_mode": {
    "name": "ipython",
    "version": 3
   },
   "file_extension": ".py",
   "mimetype": "text/x-python",
   "name": "python",
   "nbconvert_exporter": "python",
   "pygments_lexer": "ipython3",
   "version": "3.9.15"
  }
 },
 "nbformat": 4,
 "nbformat_minor": 5
}
