{
 "cells": [
  {
   "cell_type": "code",
   "execution_count": null,
   "id": "486202ee",
   "metadata": {},
   "outputs": [],
   "source": [
    "['b107_std' 'b8_std' 'b12_std' 'b25_std' 'b9_std' 'b7_std' 'b98_std'\n",
    " 'b3_mean' 'b17_std' 'b113_std' 'b121_mean' 'b5_std' 'b9_mean' 'b60_mean'\n",
    " 'b2_mean' 'b122_mean' 'b103_std' 'b16_std' 'b59_mean' 'b8_mean'\n",
    " 'b118_mean' 'b52_std' 'b10_std' 'b116_std' 'b97_std' 'b100_std'\n",
    " 'b61_mean' 'b119_mean' 'b4_std' 'b7_mean' 'b13_std' 'b59_std' 'b91_mean'\n",
    " 'b102_std' 'b91_std' 'b41_std' 'b1_mean']"
   ]
  },
  {
   "cell_type": "code",
   "execution_count": null,
   "id": "47b9d1c6",
   "metadata": {},
   "outputs": [],
   "source": [
    "site2a_la_traitmap = (-0.64570444*b52_std - 0.83750744*b34_std + 0.83505827*b107_std - 0.99145006*b8_std -0.62330507*b32_std\n",
    "                      + 0.06780459*b119_mean + 1.56084937*b65_std -0.85337594*b2_mean +0.42475524*b121_mean -0.64674977*b75_mean +0.78252502*b120_mean\n",
    "                      -0.48933805*b1_mean +1.75513954*b26_std+0.17894097*b10_std +1.05435687*b120_std \n",
    "                      -0.53853918*b4_std\n",
    "                      -1.27749178*b15_mean\n",
    "                      -1.17019249*b103_std\n",
    "                      -1.43608457*b110_mean\n",
    "                      +0.92612388*b5_mean\n",
    "                      +0.94560618*b107_mean\n",
    "                      -1.25903758*b105_std\n",
    "                      -0.87856942*b109_mean\n",
    "                      -0.42104026*b3_std\n",
    "                      +1.35965638*b12_std\n",
    "                      +1.48255907*b108_mean\n",
    "                      +1.17742143*b4_mean\n",
    "                      -0.03216254*b108_std\n",
    "                      -0.73239041*b122_std)"
   ]
  },
  {
   "cell_type": "code",
   "execution_count": 1,
   "id": "6490efda",
   "metadata": {},
   "outputs": [],
   "source": [
    "import numpy as np\n",
    "import torch\n",
    "# from arsf_envi_reader import envi_header\n",
    "import shutil\n",
    "import os\n",
    "import json\n",
    "import math\n",
    "import matplotlib.pyplot as plt\n",
    "import pandas as pd\n",
    "import matplotlib.pyplot as plt\n",
    "import matplotlib.gridspec as gridspec\n",
    "from osgeo import gdal,ogr,osr\n",
    "from scipy.optimize import curve_fit\n",
    "# from tqdm import tqdm\n",
    "# import multiprocess as mp\n",
    "from scipy import ndimage\n",
    "from numpy import trapz"
   ]
  },
  {
   "cell_type": "code",
   "execution_count": 3,
   "id": "18f00345",
   "metadata": {},
   "outputs": [
    {
     "data": {
      "text/plain": [
       "True"
      ]
     },
     "execution_count": 3,
     "metadata": {},
     "output_type": "execute_result"
    }
   ],
   "source": [
    "torch.cuda.is_available()"
   ]
  },
  {
   "cell_type": "code",
   "execution_count": 2,
   "id": "5391b84c",
   "metadata": {},
   "outputs": [
    {
     "data": {
      "text/plain": [
       "(122, 9106, 8882)"
      ]
     },
     "execution_count": 2,
     "metadata": {},
     "output_type": "execute_result"
    }
   ],
   "source": [
    "high_res_img = gdal.Open(r'D:\\wenqu\\mosaic\\site6\\site6_simulation_mosaic')\n",
    "high_res_radiance = gdal.Open(r'D:\\wenqu\\mosaic\\site6\\site6_simulation_mosaic').ReadAsArray() \n",
    "\n",
    "high_res_radiance.shape"
   ]
  },
  {
   "cell_type": "code",
   "execution_count": 5,
   "id": "e7766e4a",
   "metadata": {},
   "outputs": [],
   "source": [
    "b107_std = ndimage.generic_filter(high_res_radiance[106, :, :], np.nanstd, size=(10,10), mode='constant', cval=np.NaN)"
   ]
  },
  {
   "cell_type": "code",
   "execution_count": 6,
   "id": "67fd5006",
   "metadata": {},
   "outputs": [],
   "source": [
    "b8_std = ndimage.generic_filter(high_res_radiance[7, :, :], np.nanstd, size=(10,10), mode='constant', cval=np.NaN)"
   ]
  },
  {
   "cell_type": "code",
   "execution_count": 7,
   "id": "af34f820",
   "metadata": {},
   "outputs": [],
   "source": [
    "b12_std = ndimage.generic_filter(high_res_radiance[11, :, :], np.nanstd, size=(10,10), mode='constant', cval=np.NaN)"
   ]
  },
  {
   "cell_type": "code",
   "execution_count": 8,
   "id": "baf3f950",
   "metadata": {},
   "outputs": [],
   "source": [
    "b25_std = ndimage.generic_filter(high_res_radiance[24, :, :], np.nanstd, size=(10,10), mode='constant', cval=np.NaN)"
   ]
  },
  {
   "cell_type": "code",
   "execution_count": 9,
   "id": "f0fd8d34",
   "metadata": {},
   "outputs": [],
   "source": [
    "b9_std = ndimage.generic_filter(high_res_radiance[8, :, :], np.nanstd, size=(10,10), mode='constant', cval=np.NaN)"
   ]
  },
  {
   "cell_type": "code",
   "execution_count": 10,
   "id": "8a940e86",
   "metadata": {},
   "outputs": [],
   "source": [
    "b7_std = ndimage.generic_filter(high_res_radiance[6, :, :], np.nanstd, size=(10,10), mode='constant', cval=np.NaN)"
   ]
  },
  {
   "cell_type": "code",
   "execution_count": 11,
   "id": "80665eb3",
   "metadata": {},
   "outputs": [],
   "source": [
    "b98_std = ndimage.generic_filter(high_res_radiance[97, :, :], np.nanstd, size=(10,10), mode='constant', cval=np.NaN)"
   ]
  },
  {
   "cell_type": "code",
   "execution_count": 12,
   "id": "609ff290",
   "metadata": {},
   "outputs": [],
   "source": [
    "b3_mean = ndimage.generic_filter(high_res_radiance[2, :, :], np.nanmean, size=(10,10), mode='constant', cval=np.NaN)"
   ]
  },
  {
   "cell_type": "code",
   "execution_count": 13,
   "id": "2bb38431",
   "metadata": {},
   "outputs": [],
   "source": [
    "b17_std = ndimage.generic_filter(high_res_radiance[16, :, :], np.nanstd, size=(10,10), mode='constant', cval=np.NaN)"
   ]
  },
  {
   "cell_type": "code",
   "execution_count": 14,
   "id": "aa2f08a5",
   "metadata": {},
   "outputs": [],
   "source": [
    "b113_std = ndimage.generic_filter(high_res_radiance[112, :, :], np.nanstd, size=(10,10), mode='constant', cval=np.NaN)"
   ]
  },
  {
   "cell_type": "code",
   "execution_count": 15,
   "id": "91b872f0",
   "metadata": {},
   "outputs": [],
   "source": [
    "b121_mean = ndimage.generic_filter(high_res_radiance[120, :, :], np.nanmean, size=(10,10), mode='constant', cval=np.NaN)"
   ]
  },
  {
   "cell_type": "code",
   "execution_count": 16,
   "id": "73530ca2",
   "metadata": {},
   "outputs": [],
   "source": [
    "b5_std = ndimage.generic_filter(high_res_radiance[4, :, :], np.nanstd, size=(10,10), mode='constant', cval=np.NaN)"
   ]
  },
  {
   "cell_type": "code",
   "execution_count": 17,
   "id": "c852e145",
   "metadata": {},
   "outputs": [],
   "source": [
    "b9_mean = ndimage.generic_filter(high_res_radiance[8, :, :], np.nanmean, size=(10,10), mode='constant', cval=np.NaN)"
   ]
  },
  {
   "cell_type": "code",
   "execution_count": 18,
   "id": "962af231",
   "metadata": {},
   "outputs": [],
   "source": [
    "b60_mean = ndimage.generic_filter(high_res_radiance[59, :, :], np.nanmean, size=(10,10), mode='constant', cval=np.NaN)"
   ]
  },
  {
   "cell_type": "code",
   "execution_count": 19,
   "id": "6d6a0d31",
   "metadata": {},
   "outputs": [],
   "source": [
    "b2_mean = ndimage.generic_filter(high_res_radiance[1, :, :], np.nanmean, size=(10,10), mode='constant', cval=np.NaN)"
   ]
  },
  {
   "cell_type": "code",
   "execution_count": 20,
   "id": "30b7435b",
   "metadata": {},
   "outputs": [],
   "source": [
    "b122_mean = ndimage.generic_filter(high_res_radiance[121, :, :], np.nanmean, size=(10,10), mode='constant', cval=np.NaN)"
   ]
  },
  {
   "cell_type": "code",
   "execution_count": 21,
   "id": "8be328f2",
   "metadata": {},
   "outputs": [],
   "source": [
    "b103_std = ndimage.generic_filter(high_res_radiance[102, :, :], np.nanstd, size=(10,10), mode='constant', cval=np.NaN)"
   ]
  },
  {
   "cell_type": "code",
   "execution_count": 22,
   "id": "59865811",
   "metadata": {},
   "outputs": [],
   "source": [
    "b16_std = ndimage.generic_filter(high_res_radiance[15, :, :], np.nanstd, size=(10,10), mode='constant', cval=np.NaN)"
   ]
  },
  {
   "cell_type": "code",
   "execution_count": 23,
   "id": "1e413a8f",
   "metadata": {},
   "outputs": [],
   "source": [
    "b59_mean = ndimage.generic_filter(high_res_radiance[58, :, :], np.nanmean, size=(10,10), mode='constant', cval=np.NaN)"
   ]
  },
  {
   "cell_type": "code",
   "execution_count": 24,
   "id": "6499db3d",
   "metadata": {},
   "outputs": [],
   "source": [
    "b8_mean = ndimage.generic_filter(high_res_radiance[7, :, :], np.nanmean, size=(10,10), mode='constant', cval=np.NaN)"
   ]
  },
  {
   "cell_type": "code",
   "execution_count": 25,
   "id": "0a73bcbf",
   "metadata": {},
   "outputs": [],
   "source": [
    "b118_mean = ndimage.generic_filter(high_res_radiance[117, :, :], np.nanmean, size=(10,10), mode='constant', cval=np.NaN)"
   ]
  },
  {
   "cell_type": "code",
   "execution_count": 26,
   "id": "e1439580",
   "metadata": {},
   "outputs": [],
   "source": [
    "b52_std = ndimage.generic_filter(high_res_radiance[51, :, :], np.nanstd, size=(10,10), mode='constant', cval=np.NaN)"
   ]
  },
  {
   "cell_type": "code",
   "execution_count": 27,
   "id": "58b9b275",
   "metadata": {},
   "outputs": [],
   "source": [
    "b10_std = ndimage.generic_filter(high_res_radiance[9, :, :], np.nanstd, size=(10,10), mode='constant', cval=np.NaN)"
   ]
  },
  {
   "cell_type": "code",
   "execution_count": 28,
   "id": "969699d7",
   "metadata": {},
   "outputs": [],
   "source": [
    "b116_std = ndimage.generic_filter(high_res_radiance[115, :, :], np.nanstd, size=(10,10), mode='constant', cval=np.NaN)"
   ]
  },
  {
   "cell_type": "code",
   "execution_count": 29,
   "id": "eb5b90de",
   "metadata": {},
   "outputs": [],
   "source": [
    "b97_std = ndimage.generic_filter(high_res_radiance[96, :, :], np.nanstd, size=(10,10), mode='constant', cval=np.NaN)"
   ]
  },
  {
   "cell_type": "code",
   "execution_count": 30,
   "id": "97a8ad6b",
   "metadata": {},
   "outputs": [],
   "source": [
    "b100_std = ndimage.generic_filter(high_res_radiance[99, :, :], np.nanstd, size=(10,10), mode='constant', cval=np.NaN)"
   ]
  },
  {
   "cell_type": "code",
   "execution_count": 31,
   "id": "14059a26",
   "metadata": {},
   "outputs": [],
   "source": [
    "b61_mean = ndimage.generic_filter(high_res_radiance[60, :, :], np.nanmean, size=(10,10), mode='constant', cval=np.NaN)"
   ]
  },
  {
   "cell_type": "code",
   "execution_count": 32,
   "id": "21f2a6d9",
   "metadata": {},
   "outputs": [],
   "source": [
    "b119_mean = ndimage.generic_filter(high_res_radiance[118, :, :], np.nanmean, size=(10,10), mode='constant', cval=np.NaN)"
   ]
  },
  {
   "cell_type": "code",
   "execution_count": 33,
   "id": "550f42ed",
   "metadata": {},
   "outputs": [],
   "source": [
    "b4_std = ndimage.generic_filter(high_res_radiance[3, :, :], np.nanstd, size=(10,10), mode='constant', cval=np.NaN)"
   ]
  },
  {
   "cell_type": "code",
   "execution_count": 34,
   "id": "62984100",
   "metadata": {},
   "outputs": [],
   "source": [
    "b7_mean = ndimage.generic_filter(high_res_radiance[6, :, :], np.nanmean, size=(10,10), mode='constant', cval=np.NaN)"
   ]
  },
  {
   "cell_type": "code",
   "execution_count": 35,
   "id": "b743933e",
   "metadata": {},
   "outputs": [],
   "source": [
    "b13_std = ndimage.generic_filter(high_res_radiance[12, :, :], np.nanstd, size=(10,10), mode='constant', cval=np.NaN)"
   ]
  },
  {
   "cell_type": "code",
   "execution_count": 36,
   "id": "3269a550",
   "metadata": {},
   "outputs": [],
   "source": [
    "b59_std = ndimage.generic_filter(high_res_radiance[58, :, :], np.nanstd, size=(10,10), mode='constant', cval=np.NaN)"
   ]
  },
  {
   "cell_type": "code",
   "execution_count": 37,
   "id": "4157ad50",
   "metadata": {},
   "outputs": [],
   "source": [
    "b91_mean = ndimage.generic_filter(high_res_radiance[90, :, :], np.nanmean, size=(10,10), mode='constant', cval=np.NaN)"
   ]
  },
  {
   "cell_type": "code",
   "execution_count": 38,
   "id": "82565a9c",
   "metadata": {},
   "outputs": [],
   "source": [
    "b102_std = ndimage.generic_filter(high_res_radiance[101, :, :], np.nanstd, size=(10,10), mode='constant', cval=np.NaN)"
   ]
  },
  {
   "cell_type": "code",
   "execution_count": 39,
   "id": "0f020d54",
   "metadata": {},
   "outputs": [],
   "source": [
    "b91_std = ndimage.generic_filter(high_res_radiance[90, :, :], np.nanstd, size=(10,10), mode='constant', cval=np.NaN)"
   ]
  },
  {
   "cell_type": "code",
   "execution_count": 40,
   "id": "472b76be",
   "metadata": {},
   "outputs": [],
   "source": [
    "b41_std = ndimage.generic_filter(high_res_radiance[40, :, :], np.nanstd, size=(10,10), mode='constant', cval=np.NaN)"
   ]
  },
  {
   "cell_type": "code",
   "execution_count": 41,
   "id": "44aac54f",
   "metadata": {},
   "outputs": [],
   "source": [
    "b1_mean = ndimage.generic_filter(high_res_radiance[0, :, :], np.nanmean, size=(10,10), mode='constant', cval=np.NaN)"
   ]
  },
  {
   "cell_type": "code",
   "execution_count": 42,
   "id": "78f47620",
   "metadata": {},
   "outputs": [],
   "source": [
    "site6_sla_traitmap = (-0.37141252*b107_std\n",
    "       -0.34020232*b8_std\n",
    "       -0.30302519*b12_std\n",
    "       -0.27747774*b25_std\n",
    "       +0.27342114*b9_std\n",
    "       -0.26816383*b7_std\n",
    "       -0.25478467*b98_std\n",
    "       -0.2515928*b3_mean\n",
    "       +0.24547071*b17_std\n",
    "       +0.2326327*b113_std\n",
    "       -0.22971601*b121_mean\n",
    "       +0.2174161*b5_std\n",
    "       +0.21034471*b9_mean\n",
    "       +0.20926814*b60_mean\n",
    "       +0.20390816*b2_mean\n",
    "       -0.19568387*b122_mean\n",
    "       -0.19469165*b103_std\n",
    "       +0.18169573*b16_std\n",
    "       +0.18036744*b59_mean\n",
    "       -0.17123101*b8_mean\n",
    "       -0.16138079*b118_mean\n",
    "       +0.16018922*b52_std\n",
    "       -0.15041061*b10_std\n",
    "       +0.14754808*b116_std\n",
    "       +0.14546097*b97_std\n",
    "       -0.14544003*b100_std\n",
    "       +0.14381817*b61_mean\n",
    "       -0.14326747*b119_mean\n",
    "       +0.13979797*b4_std\n",
    "       +0.13367285*b7_mean\n",
    "       +0.13315349*b13_std\n",
    "       -0.13309515*b59_std\n",
    "       +0.13130012*b91_mean\n",
    "       -0.13088189*b102_std\n",
    "       +0.13062391*b91_std\n",
    "       -0.12923637*b41_std\n",
    "       -0.1271902*b1_mean)"
   ]
  },
  {
   "cell_type": "code",
   "execution_count": 43,
   "id": "3f50f36f",
   "metadata": {},
   "outputs": [],
   "source": [
    "pj = high_res_img.GetProjection()  ## projection \n",
    "gt = high_res_img.GetGeoTransform()  ## geotransform\n",
    "col = high_res_img.GetRasterBand(1).XSize\n",
    "row = high_res_img.GetRasterBand(1).YSize"
   ]
  },
  {
   "cell_type": "code",
   "execution_count": 44,
   "id": "1a7027e6",
   "metadata": {},
   "outputs": [],
   "source": [
    "driver = gdal.GetDriverByName('GTiff')  ## driver for output file type; \"GTiff\" for geotiff, \"RST\" for rst\n",
    "bands =1\n",
    "outName = \"site6_sla_trait_map.tif\"\n",
    "outPath ='D:/wenqu/image_aggregation'\n",
    "out_ds = driver.Create(os.path.join(outPath, outName),col,row,bands,gdal.GDT_Float32)"
   ]
  },
  {
   "cell_type": "code",
   "execution_count": 45,
   "id": "91530800",
   "metadata": {},
   "outputs": [],
   "source": [
    "out_ds.GetRasterBand(1).WriteArray(site6_sla_traitmap)\n",
    "out_ds.SetProjection(pj)\n",
    "out_ds.SetGeoTransform(gt)\n",
    "del out_ds"
   ]
  },
  {
   "cell_type": "code",
   "execution_count": null,
   "id": "7329b7cd",
   "metadata": {},
   "outputs": [],
   "source": []
  }
 ],
 "metadata": {
  "kernelspec": {
   "display_name": "wenqu_gpu",
   "language": "python",
   "name": "wenqu_gpu"
  },
  "language_info": {
   "codemirror_mode": {
    "name": "ipython",
    "version": 3
   },
   "file_extension": ".py",
   "mimetype": "text/x-python",
   "name": "python",
   "nbconvert_exporter": "python",
   "pygments_lexer": "ipython3",
   "version": "3.9.15"
  }
 },
 "nbformat": 4,
 "nbformat_minor": 5
}
