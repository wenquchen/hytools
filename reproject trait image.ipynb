{
 "cells": [
  {
   "cell_type": "code",
   "execution_count": 2,
   "id": "3124952d",
   "metadata": {},
   "outputs": [],
   "source": [
    "import os\n",
    "from osgeo import gdal, osr\n"
   ]
  },
  {
   "cell_type": "code",
   "execution_count": 3,
   "id": "0d6d5c21",
   "metadata": {},
   "outputs": [],
   "source": [
    "src_ds = gdal.Open('F:/wenqu/trait_map/site2a_la_trait_map.tiff')\n",
    "src_proj = osr.SpatialReference(wkt=src_ds.GetProjection())\n"
   ]
  },
  {
   "cell_type": "code",
   "execution_count": 4,
   "id": "3896271d",
   "metadata": {},
   "outputs": [],
   "source": [
    "# tgt_ds = gdal.Open('')\n",
    "tgt_ds = gdal.Open('F:/wenqu/Aviris/site2a/resample/aviris_spectral_resample')\n",
    "tgt_proj = osr.SpatialReference(wkt=tgt_ds.GetProjection())"
   ]
  },
  {
   "cell_type": "code",
   "execution_count": 5,
   "id": "f4c70926",
   "metadata": {},
   "outputs": [],
   "source": [
    "transform = osr.CoordinateTransformation(src_proj, tgt_proj)\n"
   ]
  },
  {
   "cell_type": "code",
   "execution_count": 6,
   "id": "46324099",
   "metadata": {},
   "outputs": [
    {
     "data": {
      "text/plain": [
       "0"
      ]
     },
     "execution_count": 6,
     "metadata": {},
     "output_type": "execute_result"
    }
   ],
   "source": [
    "output_file = 'F:/wenqu/trait_map/site2a_la_trait_map5.tiff'\n",
    "driver = gdal.GetDriverByName('GTiff')\n",
    "output_ds = driver.Create(output_file, tgt_ds.RasterXSize, tgt_ds.RasterYSize, src_ds.RasterCount, src_ds.GetRasterBand(1).DataType)\n",
    "output_ds.SetProjection(tgt_proj.ExportToWkt())\n",
    "output_ds.SetGeoTransform(tgt_ds.GetGeoTransform())\n"
   ]
  },
  {
   "cell_type": "code",
   "execution_count": null,
   "id": "2f75ce95",
   "metadata": {},
   "outputs": [],
   "source": [
    "tgt_band = output_ds.GetRasterBand(1)\n",
    "tgt_band.WriteArray(transform.TransformArray(src_band.ReadAsArray(), src_ds.GetGeoTransform()))"
   ]
  },
  {
   "cell_type": "code",
   "execution_count": null,
   "id": "017600dc",
   "metadata": {},
   "outputs": [],
   "source": []
  },
  {
   "cell_type": "code",
   "execution_count": 2,
   "id": "cb7d5aa6",
   "metadata": {},
   "outputs": [],
   "source": [
    "in_raster = \"'F:/wenqu/trait_map/site2a_la_trait_map.tiff'\"\n",
    "out_raster = \"'F:/wenqu/Aviris/mask/mask_final_proj.tiff'\"\n",
    "ref_raster = \"F:/wenqu/Aviris/site2a/resample/aviris_spectral_resample\"\n"
   ]
  },
  {
   "cell_type": "code",
   "execution_count": 3,
   "id": "731012cf",
   "metadata": {},
   "outputs": [],
   "source": [
    "# get reference image projection and geotransformation\n",
    "ref_ds = gdal.Open(ref_raster)\n",
    "ref_proj = ref_ds.GetProjection()\n",
    "ref_geotrans = ref_ds.GetGeoTransform()\n"
   ]
  },
  {
   "cell_type": "code",
   "execution_count": 5,
   "id": "2ac494a1",
   "metadata": {},
   "outputs": [],
   "source": [
    "# b1 = gdal.Open(in_raster).ReadAsArray()"
   ]
  },
  {
   "cell_type": "code",
   "execution_count": 6,
   "id": "202d7944",
   "metadata": {},
   "outputs": [
    {
     "ename": "AttributeError",
     "evalue": "'NoneType' object has no attribute 'RasterXSize'",
     "output_type": "error",
     "traceback": [
      "\u001b[1;31m---------------------------------------------------------------------------\u001b[0m",
      "\u001b[1;31mAttributeError\u001b[0m                            Traceback (most recent call last)",
      "Cell \u001b[1;32mIn[6], line 5\u001b[0m\n\u001b[0;32m      3\u001b[0m driver \u001b[38;5;241m=\u001b[39m gdal\u001b[38;5;241m.\u001b[39mGetDriverByName(\u001b[38;5;124m\"\u001b[39m\u001b[38;5;124mGTiff\u001b[39m\u001b[38;5;124m\"\u001b[39m)\n\u001b[0;32m      4\u001b[0m bands \u001b[38;5;241m=\u001b[39m\u001b[38;5;241m1\u001b[39m\n\u001b[1;32m----> 5\u001b[0m out_ds \u001b[38;5;241m=\u001b[39m driver\u001b[38;5;241m.\u001b[39mCreate(out_raster, \u001b[43min_ds\u001b[49m\u001b[38;5;241;43m.\u001b[39;49m\u001b[43mRasterXSize\u001b[49m, in_ds\u001b[38;5;241m.\u001b[39mRasterYSize, in_ds\u001b[38;5;241m.\u001b[39mRasterCount, in_ds\u001b[38;5;241m.\u001b[39mGetRasterBand(\u001b[38;5;241m1\u001b[39m)\u001b[38;5;241m.\u001b[39mDataType)\n",
      "\u001b[1;31mAttributeError\u001b[0m: 'NoneType' object has no attribute 'RasterXSize'"
     ]
    }
   ],
   "source": [
    "# create a new dataset for the output raster with same dimensions and datatype as the input raster\n",
    "in_ds = gdal.Open(in_raster)\n",
    "driver = gdal.GetDriverByName(\"GTiff\")\n",
    "bands =1\n",
    "out_ds = driver.Create(out_raster, in_ds.RasterXSize, in_ds.RasterYSize, in_ds.RasterCount, in_ds.GetRasterBand(1).DataType)\n",
    "\n"
   ]
  },
  {
   "cell_type": "code",
   "execution_count": 6,
   "id": "23a25647",
   "metadata": {},
   "outputs": [
    {
     "data": {
      "text/plain": [
       "0"
      ]
     },
     "execution_count": 6,
     "metadata": {},
     "output_type": "execute_result"
    }
   ],
   "source": [
    "out_ds.GetRasterBand(1).WriteArray(b1)"
   ]
  },
  {
   "cell_type": "code",
   "execution_count": 7,
   "id": "31dffa75",
   "metadata": {},
   "outputs": [
    {
     "data": {
      "text/plain": [
       "0"
      ]
     },
     "execution_count": 7,
     "metadata": {},
     "output_type": "execute_result"
    }
   ],
   "source": [
    "out_ds.SetProjection(ref_proj)\n",
    "# out_ds.SetGeoTransform(ref_geotrans)"
   ]
  },
  {
   "cell_type": "code",
   "execution_count": 6,
   "id": "9e87ea1f",
   "metadata": {},
   "outputs": [
    {
     "data": {
      "text/plain": [
       "0"
      ]
     },
     "execution_count": 6,
     "metadata": {},
     "output_type": "execute_result"
    }
   ],
   "source": [
    "gdal.ReprojectImage(in_ds, out_ds, in_ds.GetProjection(), ref_proj, gdal.GRA_NearestNeighbour)\n"
   ]
  },
  {
   "cell_type": "code",
   "execution_count": 8,
   "id": "cac3ccb2",
   "metadata": {},
   "outputs": [],
   "source": [
    "in_ds = None\n",
    "out_ds = None\n"
   ]
  },
  {
   "cell_type": "code",
   "execution_count": null,
   "id": "c0106acc",
   "metadata": {},
   "outputs": [],
   "source": []
  }
 ],
 "metadata": {
  "kernelspec": {
   "display_name": "wenqu_gdal",
   "language": "python",
   "name": "wenqu_gdal"
  },
  "language_info": {
   "codemirror_mode": {
    "name": "ipython",
    "version": 3
   },
   "file_extension": ".py",
   "mimetype": "text/x-python",
   "name": "python",
   "nbconvert_exporter": "python",
   "pygments_lexer": "ipython3",
   "version": "3.9.15"
  }
 },
 "nbformat": 4,
 "nbformat_minor": 5
}
