{
 "cells": [
  {
   "cell_type": "code",
   "execution_count": 1,
   "id": "db3e44db",
   "metadata": {},
   "outputs": [],
   "source": [
    "import torch\n",
    "import numpy as np\n",
    "from arsf_envi_reader import envi_header\n",
    "import shutil\n",
    "import os\n",
    "import json\n",
    "import math\n",
    "import affine\n",
    "import pandas as pd\n",
    "import matplotlib.pyplot as plt\n",
    "import matplotlib.gridspec as gridspec\n",
    "from osgeo import gdal,ogr,osr\n",
    "from scipy.optimize import curve_fit\n",
    "from tqdm import tqdm\n",
    "# import multiprocess as mp\n",
    "# from numpy import trapz"
   ]
  },
  {
   "cell_type": "code",
   "execution_count": 2,
   "id": "646ff74b",
   "metadata": {},
   "outputs": [],
   "source": [
    "aviris_img = gdal.Open(r'D:\\wenqu\\aviris\\2017\\output\\ang20170709t012605_corr_v2p9_img_brdf').ReadAsArray() "
   ]
  },
  {
   "cell_type": "code",
   "execution_count": 3,
   "id": "81f5a925",
   "metadata": {},
   "outputs": [
    {
     "name": "stdout",
     "output_type": "stream",
     "text": [
      "(425, 15250, 727)\n"
     ]
    }
   ],
   "source": [
    "print(aviris_img.shape)"
   ]
  },
  {
   "cell_type": "code",
   "execution_count": 22,
   "id": "099064d8",
   "metadata": {},
   "outputs": [
    {
     "data": {
      "text/plain": [
       "array([[-397.66357, -397.66357, -397.66357, ..., -397.66357, -397.66357,\n",
       "        -397.66357],\n",
       "       [-397.66357, -397.66357, -397.66357, ..., -397.66357, -397.66357,\n",
       "        -397.66357],\n",
       "       [-397.66357, -397.66357, -397.66357, ..., -397.66357, -397.66357,\n",
       "        -397.66357],\n",
       "       ...,\n",
       "       [-397.66357, -397.66357, -397.66357, ..., -397.66357, -397.66357,\n",
       "        -397.66357],\n",
       "       [-397.66357, -397.66357, -397.66357, ..., -397.66357, -397.66357,\n",
       "        -397.66357],\n",
       "       [-397.66357, -397.66357, -397.66357, ..., -397.66357, -397.66357,\n",
       "        -397.66357]], dtype=float32)"
      ]
     },
     "execution_count": 22,
     "metadata": {},
     "output_type": "execute_result"
    }
   ],
   "source": [
    "aviris_trait = 0.04072596686822171*aviris_img[15, :, :]+0.033158152843432216*aviris_img[16, :, :]\n",
    "+ 0.009605031808804317*aviris_img[17, :, :]\n",
    "+0.013903372935128002*aviris_img[18, :, :]\n",
    "+0.006039373583145315*aviris_img[19, :, :]\n",
    "+0.017382548354237463*aviris_img[15, :, :]\n",
    "-0.005823749338369135*aviris_img[21, :, :]\n",
    "-0.016543499660168152*aviris_img[22, :, :]\n",
    "-0.033726130805877774*aviris_img[23, :, :]\n",
    "-0.018173487436246662*aviris_img[24, :, :]\n",
    "-0.024889450196108276*aviris_img[25, :, :]\n",
    "+0.0037766844470388736*aviris_img[26, :, :]\n",
    "+0.03177611245261625*aviris_img[27, :, :]\n",
    "-0.028383581870833566*aviris_img[28, :, :]\n",
    "-0.02692754092014647*aviris_img[29, :, :]\n",
    "-0.022967046297265443*aviris_img[30, :, :]\n",
    "-0.036106243120844546*aviris_img[31, :, :]\n",
    "-0.01128197927676405*aviris_img[32, :, :]\n",
    "-0.019846927638281837*aviris_img[33, :, :]\n",
    "-0.017633581179067676*aviris_img[34, :, :]\n",
    "-0.0016604302489416326*aviris_img[35, :, :]\n",
    "+0.019415312320475855*aviris_img[36, :, :]\n",
    "+0.017755568072435033*aviris_img[37, :, :]\n",
    "+0.0028491289140057607*aviris_img[38, :, :]\n",
    "-0.006569716015655556*aviris_img[39, :, :]\n",
    "+0.024685702126916266*aviris_img[40, :, :]\n",
    "+0.010280686777384744*aviris_img[41, :, :]\n",
    "-0.009692779282552345*aviris_img[42, :, :]\n",
    "-0.011805679583280992*aviris_img[43, :, :]\n",
    "-0.01906574023235998*aviris_img[44, :, :]\n",
    "-0.0050047329070108115*aviris_img[45, :, :]\n",
    "-0.010253514050628703*aviris_img[46, :, :]\n",
    "-0.008642699503904405*aviris_img[47, :, :]\n",
    "+0.012787246865969546*aviris_img[48, :, :]\n",
    "+0.003418315291525778*aviris_img[49, :, :]\n",
    "+0.002051750322636834*aviris_img[50, :, :]\n",
    "-0.0005500103400382479*aviris_img[51, :, :]\n",
    "+0.026486367936068053*aviris_img[52, :, :]\n",
    "+0.0016762313813975223*aviris_img[53, :, :]\n",
    "-0.007181080197834094*aviris_img[54, :, :]\n",
    "-0.009874347515631696*aviris_img[55, :, :]\n",
    "-0.013740684050011493*aviris_img[56, :, :]\n",
    "+0.011414148901244361*aviris_img[57, :, :]\n",
    "-0.04536883363544475*aviris_img[58, :, :]\n",
    "-0.011964774656780142*aviris_img[59, :, :]\n",
    "+0.001998680757006244*aviris_img[60, :, :]\n",
    "+0.01787562386249898*aviris_img[61, :, :]\n",
    "+0.03092369148462816*aviris_img[62, :, :]\n",
    "+0.01289637602240937*aviris_img[63, :, :]\n",
    "+0.02393870503885639*aviris_img[64, :, :]\n",
    "+0.03250430396480287*aviris_img[65, :, :]\n",
    "+0.026153320047130786*aviris_img[66, :, :]\n",
    "-0.0035392335707617366*aviris_img[67, :, :]\n",
    "-0.01617734080237212*aviris_img[68, :, :]\n",
    "-0.0034220955139581677*aviris_img[69, :, :]\n",
    "-0.02760712276487363*aviris_img[70, :, :]\n",
    "-0.02120961446866896*aviris_img[71, :, :]\n",
    "-0.009725811100089451*aviris_img[76, :, :]\n",
    "+0.012334676063657148*aviris_img[111, :, :]\n",
    "+0.010226944747020461*aviris_img[112, :, :]\n",
    "-0.011221197870919169*aviris_img[138, :, :]\n",
    "+0.007443838235576731*aviris_img[139, :, :]\n",
    "-0.00935483860933132*aviris_img[140, :, :]\n",
    "-0.009865387922843416*aviris_img[141, :, :]\n",
    "-0.013935096318564748*aviris_img[142, :, :]\n",
    "+0.011559300693220951*aviris_img[146, :, :]\n",
    "+0.015722840608528077*aviris_img[147, :, :]\n",
    "-0.006390967626600077*aviris_img[149, :, :]\n",
    "-0.009564122711156677*aviris_img[150, :, :]\n",
    "-0.0014877037920327382*aviris_img[153, :, :]\n",
    "+0.007342409767630102*aviris_img[154, :, :]\n",
    "-0.0006990042909139007*aviris_img[155, :, :]\n",
    "-0.014444638147554135*aviris_img[156, :, :]\n",
    "+0.011674067709435576*aviris_img[157, :, :]\n",
    "-0.005294418593238684*aviris_img[158, :, :]\n",
    "+0.03165692090434445*aviris_img[163, :, :]\n",
    "-0.005232943290537641*aviris_img[173, :, :]\n",
    "-0.013093991454511946*aviris_img[174, :, :]\n",
    "+0.0008687081491376287*aviris_img[176, :, :]\n",
    "-0.006389582104671238*aviris_img[177, :, :]\n",
    "-0.00953848024886738*aviris_img[178, :, :]\n",
    "-0.018823727490958623*aviris_img[179, :, :]\n",
    "-0.015467531808777038*aviris_img[180, :, :]\n",
    "+0.007975344909750916*aviris_img[181, :, :]\n",
    "-0.032376196358271485*aviris_img[182, :, :]\n",
    "-0.011761087026569915*aviris_img[183, :, :]\n",
    "-0.0035511545404386755*aviris_img[184, :, :]\n",
    "-0.04448713625867596*aviris_img[218, :, :]\n",
    "+0.0054202291949452695*aviris_img[251, :, :]\n",
    "-0.017933976271256973*aviris_img[255, :, :]\n",
    "-0.0003830461300907997*aviris_img[256, :, :]\n",
    "+0.05150796234482064*aviris_img[268, :, :]\n",
    "+0.015221270901954454*aviris_img[283, :, :]\n",
    "+0.018535844617470282*aviris_img[284, :, :]\n",
    "-0.02068196065974966*aviris_img[325, :, :]\n",
    "-0.013583033199750651*aviris_img[326, :, :]\n",
    "-0.022326918524653648*aviris_img[327, :, :]\n",
    "+0.0015670893847526315*aviris_img[328, :, :]\n",
    "+0.03977033549720396*aviris_img[399, :, :]"
   ]
  },
  {
   "cell_type": "code",
   "execution_count": 23,
   "id": "a30393c5",
   "metadata": {},
   "outputs": [
    {
     "data": {
      "text/plain": [
       "(15250, 727)"
      ]
     },
     "execution_count": 23,
     "metadata": {},
     "output_type": "execute_result"
    }
   ],
   "source": [
    "aviris_trait.shape"
   ]
  },
  {
   "cell_type": "code",
   "execution_count": 25,
   "id": "3f1f4355",
   "metadata": {},
   "outputs": [],
   "source": [
    "inDs = gdal.Open(r'D:\\wenqu\\aviris\\2017\\output\\ang20170709t012605_corr_v2p9_img_brdf')"
   ]
  },
  {
   "cell_type": "code",
   "execution_count": 26,
   "id": "d1818877",
   "metadata": {},
   "outputs": [],
   "source": [
    "pj = inDs.GetProjection()  ## projection\n",
    "gt = inDs.GetGeoTransform()  ## geotransform\n",
    "col = inDs.GetRasterBand(1).XSize\n",
    "row = inDs.GetRasterBand(1).YSize"
   ]
  },
  {
   "cell_type": "code",
   "execution_count": 27,
   "id": "cb600b81",
   "metadata": {},
   "outputs": [],
   "source": [
    "driver = gdal.GetDriverByName('GTiff')  ## driver for output file type; \"GTiff\" for geotiff, \"RST\" for rst\n",
    "bands =1\n",
    "outName = \"d13c_std_site1b_2a_2c.tiff\"\n",
    "outPath ='E:/wenqu/aviris/trait_map'\n",
    "out_ds = driver.Create(os.path.join(outPath, outName),col,row,bands,gdal.GDT_Float32)"
   ]
  },
  {
   "cell_type": "code",
   "execution_count": 28,
   "id": "780329a3",
   "metadata": {},
   "outputs": [
    {
     "data": {
      "text/plain": [
       "0"
      ]
     },
     "execution_count": 28,
     "metadata": {},
     "output_type": "execute_result"
    }
   ],
   "source": [
    "out_ds.GetRasterBand(1).WriteArray(aviris_trait)"
   ]
  },
  {
   "cell_type": "code",
   "execution_count": 29,
   "id": "d514316b",
   "metadata": {},
   "outputs": [],
   "source": [
    "out_ds.SetProjection(pj)\n",
    "out_ds.SetGeoTransform(gt)\n",
    "del out_ds"
   ]
  },
  {
   "cell_type": "code",
   "execution_count": null,
   "id": "fcd152e9",
   "metadata": {},
   "outputs": [],
   "source": []
  }
 ],
 "metadata": {
  "kernelspec": {
   "display_name": "wenqu_gpu",
   "language": "python",
   "name": "wenqu_gpu"
  },
  "language_info": {
   "codemirror_mode": {
    "name": "ipython",
    "version": 3
   },
   "file_extension": ".py",
   "mimetype": "text/x-python",
   "name": "python",
   "nbconvert_exporter": "python",
   "pygments_lexer": "ipython3",
   "version": "3.9.15"
  }
 },
 "nbformat": 4,
 "nbformat_minor": 5
}
