{
 "cells": [
  {
   "cell_type": "code",
   "execution_count": 1,
   "id": "2101f0bc",
   "metadata": {},
   "outputs": [],
   "source": [
    "import rasterio\n",
    "from rasterio.mask import mask\n",
    "from rasterio import Affine\n",
    "import geopandas as gpd\n",
    "from shapely.geometry import box\n",
    "import rasterio.plot as rplot\n",
    "import matplotlib.pyplot as plt\n",
    "import fiona\n",
    "from shapely.geometry import box\n",
    "from fiona.crs import from_epsg"
   ]
  },
  {
   "cell_type": "markdown",
   "id": "f1aed62e",
   "metadata": {},
   "source": [
    "# use trait image as extent and clip brdf_corrected avirirs image directly"
   ]
  },
  {
   "cell_type": "markdown",
   "id": "48dd2ef9",
   "metadata": {},
   "source": [
    "## the trait image has been projected into a same projection system as aviris image before "
   ]
  },
  {
   "cell_type": "code",
   "execution_count": 2,
   "id": "975c7c12",
   "metadata": {},
   "outputs": [],
   "source": [
    "raster1 = rasterio.open(r'F:\\wenqu\\Aviris\\site2a\\output\\ang20170709t012605_corr_v2p9_img_brdf')\n",
    "raster2 = rasterio.open(r'F:\\wenqu\\trait_map\\trait_proj\\site2c_pc_trait_project_to_aviris.tif')"
   ]
  },
  {
   "cell_type": "code",
   "execution_count": 3,
   "id": "eb98cc59",
   "metadata": {},
   "outputs": [
    {
     "name": "stdout",
     "output_type": "stream",
     "text": [
      "POLYGON ((623502.6151804522 7474143.746850188, 623502.6151804522 7474302.864936455, 623362.8689653493 7474302.864936455, 623362.8689653493 7474143.746850188, 623502.6151804522 7474143.746850188))\n"
     ]
    }
   ],
   "source": [
    "# Define the extent of raster2 as a bounding box:\n",
    "xmin, ymin, xmax, ymax = raster2.bounds\n",
    "bbox = box(xmin, ymin, xmax, ymax)\n",
    "print(bbox)"
   ]
  },
  {
   "cell_type": "markdown",
   "id": "e408d19d",
   "metadata": {},
   "source": [
    "# write the bounding box into a shapefile"
   ]
  },
  {
   "cell_type": "code",
   "execution_count": 4,
   "id": "0f9509bf",
   "metadata": {},
   "outputs": [],
   "source": [
    "crs = from_epsg(raster2.crs.to_epsg())\n",
    "# Define the output shapefile\n",
    "output_file = 'F:/wenqu/Aviris/site2c/site2c_shp/site2c_bounding_box.shp'\n",
    "\n",
    "# Write the bounding box polygon to a shapefile with the same CRS as the input raster\n",
    "with fiona.open(output_file, 'w', driver='ESRI Shapefile', crs=crs, schema={'geometry': 'Polygon'}) as dst:\n",
    "    dst.write({'geometry': bbox.__geo_interface__, 'properties': {}})"
   ]
  },
  {
   "cell_type": "code",
   "execution_count": 5,
   "id": "16fad5c8",
   "metadata": {},
   "outputs": [
    {
     "data": {
      "text/plain": [
       "(CRS.from_epsg(32605), CRS.from_epsg(32605))"
      ]
     },
     "execution_count": 5,
     "metadata": {},
     "output_type": "execute_result"
    }
   ],
   "source": [
    "raster2.crs, raster1.crs"
   ]
  },
  {
   "cell_type": "code",
   "execution_count": 6,
   "id": "5e2b06d1",
   "metadata": {},
   "outputs": [],
   "source": [
    "# Reproject the bounding box of raster2 to the coordinate system of raster1:\n",
    "geo = gpd.GeoDataFrame({'geometry': bbox}, index=[0])\n",
    "# set raster2 crs as the coordinates reference system \n",
    "geo = geo.set_crs(raster2.crs)\n",
    "\n",
    "# reproject geo to the CRS of raster1\n",
    "# geo = geo.to_crs(raster1.crs)"
   ]
  },
  {
   "cell_type": "code",
   "execution_count": 7,
   "id": "bc102ab2",
   "metadata": {},
   "outputs": [],
   "source": [
    "# Clip raster1 using the extent of raster2:\n",
    "out_img, out_transform = mask(raster1, shapes=geo.geometry, crop=True)\n",
    "\n",
    "# Update the metadata of the output image:\n",
    "out_meta = raster1.meta.copy()\n",
    "out_meta.update({\n",
    "    \"driver\": \"ENVI\",\n",
    "    \"height\": out_img.shape[1],\n",
    "    \"width\": out_img.shape[2],\n",
    "    \"count\":425,\n",
    "    \"transform\": out_transform\n",
    "})"
   ]
  },
  {
   "cell_type": "code",
   "execution_count": 9,
   "id": "d1ebd14e",
   "metadata": {},
   "outputs": [],
   "source": [
    "output = \"F:/wenqu/Aviris/site2c/site2c_aviris_clip/site2c_aviris_clip\"\n",
    "with rasterio.open(output, \"w\", **out_meta) as dst:\n",
    "    # loop over the bands and write the pixel value for each band\n",
    "    for band in range(1, raster1.count + 1):\n",
    "        dst.write(out_img[band-1], indexes=band)"
   ]
  },
  {
   "cell_type": "code",
   "execution_count": null,
   "id": "ed312c49",
   "metadata": {},
   "outputs": [],
   "source": []
  },
  {
   "cell_type": "code",
   "execution_count": null,
   "id": "2ab2201c",
   "metadata": {},
   "outputs": [],
   "source": []
  },
  {
   "cell_type": "code",
   "execution_count": null,
   "id": "b896817e",
   "metadata": {},
   "outputs": [],
   "source": []
  },
  {
   "cell_type": "code",
   "execution_count": null,
   "id": "1f9b4e35",
   "metadata": {},
   "outputs": [],
   "source": []
  },
  {
   "cell_type": "code",
   "execution_count": null,
   "id": "3583fb79",
   "metadata": {},
   "outputs": [],
   "source": []
  },
  {
   "cell_type": "code",
   "execution_count": null,
   "id": "e4da0aa5",
   "metadata": {},
   "outputs": [],
   "source": []
  },
  {
   "cell_type": "code",
   "execution_count": null,
   "id": "45764a93",
   "metadata": {},
   "outputs": [],
   "source": []
  },
  {
   "cell_type": "code",
   "execution_count": null,
   "id": "9e0df74e",
   "metadata": {},
   "outputs": [],
   "source": []
  },
  {
   "cell_type": "code",
   "execution_count": null,
   "id": "5a6b6289",
   "metadata": {},
   "outputs": [],
   "source": []
  },
  {
   "cell_type": "code",
   "execution_count": null,
   "id": "4d808a31",
   "metadata": {},
   "outputs": [],
   "source": []
  },
  {
   "cell_type": "code",
   "execution_count": null,
   "id": "426405f1",
   "metadata": {},
   "outputs": [],
   "source": []
  }
 ],
 "metadata": {
  "kernelspec": {
   "display_name": "wenqu_gdal",
   "language": "python",
   "name": "wenqu_gdal"
  },
  "language_info": {
   "codemirror_mode": {
    "name": "ipython",
    "version": 3
   },
   "file_extension": ".py",
   "mimetype": "text/x-python",
   "name": "python",
   "nbconvert_exporter": "python",
   "pygments_lexer": "ipython3",
   "version": "3.9.15"
  }
 },
 "nbformat": 4,
 "nbformat_minor": 5
}
