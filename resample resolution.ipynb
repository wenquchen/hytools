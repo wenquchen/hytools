{
 "cells": [
  {
   "cell_type": "code",
   "execution_count": 1,
   "id": "8c8f4a1c",
   "metadata": {},
   "outputs": [],
   "source": [
    "from osgeo import gdal\n",
    "\n"
   ]
  },
  {
   "cell_type": "code",
   "execution_count": 2,
   "id": "85c41c6c",
   "metadata": {},
   "outputs": [],
   "source": [
    "# Open the input image\n",
    "input_file = r\"F:\\wenqu\\trait_map\\site2a_la_trait_map_project3.tif\"\n",
    "input_dataset = gdal.Open(input_file)\n",
    "\n",
    "# Define the output file name and resolution\n",
    "output_file = r\"F:\\wenqu\\trait_map\\site2a_la_trait_map_project3_resample.tif\"\n",
    "output_resolution = 5  # meters\n",
    "\n",
    "# Get the input image size and resolution\n",
    "cols = input_dataset.RasterXSize\n",
    "rows = input_dataset.RasterYSize\n",
    "input_geotransform = input_dataset.GetGeoTransform()\n",
    "x_res = input_geotransform[1]\n",
    "y_res = -input_geotransform[5]  # pixel size is negative, so flip it\n",
    "\n",
    "# Compute the new output image size and resolution\n",
    "x_scale = x_res / output_resolution\n",
    "y_scale = y_res / output_resolution\n",
    "new_cols = int(cols * x_scale)\n",
    "new_rows = int(rows * y_scale)\n",
    "\n",
    "# Create the output dataset\n",
    "driver = gdal.GetDriverByName(\"GTiff\")\n",
    "output_dataset = driver.Create(output_file, new_cols, new_rows, input_dataset.RasterCount, input_dataset.GetRasterBand(1).DataType)\n",
    "\n",
    "# Set the output geotransform\n",
    "output_geotransform = (input_geotransform[0], output_resolution, 0, input_geotransform[3], 0, -output_resolution) \n",
    "output_dataset.SetGeoTransform(output_geotransform)\n",
    "\n",
    "# Perform the resampling\n",
    "gdal.ReprojectImage(input_dataset, output_dataset, input_dataset.GetProjection(), output_dataset.GetProjection(), gdal.GRA_Bilinear)\n",
    "\n",
    "# Close the datasets\n",
    "input_dataset = None\n",
    "output_dataset = None\n"
   ]
  },
  {
   "cell_type": "code",
   "execution_count": null,
   "id": "0645e790",
   "metadata": {},
   "outputs": [],
   "source": []
  }
 ],
 "metadata": {
  "kernelspec": {
   "display_name": "wenqu_gdal",
   "language": "python",
   "name": "wenqu_gdal"
  },
  "language_info": {
   "codemirror_mode": {
    "name": "ipython",
    "version": 3
   },
   "file_extension": ".py",
   "mimetype": "text/x-python",
   "name": "python",
   "nbconvert_exporter": "python",
   "pygments_lexer": "ipython3",
   "version": "3.9.15"
  }
 },
 "nbformat": 4,
 "nbformat_minor": 5
}
