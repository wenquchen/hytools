{
 "cells": [
  {
   "cell_type": "code",
   "execution_count": 1,
   "id": "f5ec9c44",
   "metadata": {},
   "outputs": [],
   "source": [
    "from osgeo import gdal,ogr,osr\n",
    "\n",
    "\n"
   ]
  },
  {
   "cell_type": "code",
   "execution_count": 2,
   "id": "ada80a63",
   "metadata": {},
   "outputs": [],
   "source": [
    "# Set up input and output file paths\n",
    "input_file = 'F:/wenqu/trait_map/site2a_la_trait_map.tiff'\n",
    "output_file = 'F:/wenqu/trait_map/site2a_la_trait_fullmap_projection2.tif'"
   ]
  },
  {
   "cell_type": "code",
   "execution_count": 3,
   "id": "7f153ceb",
   "metadata": {},
   "outputs": [],
   "source": [
    "# Open input raster file\n",
    "input_raster = gdal.Open(input_file)\n",
    "b1 = input_raster.ReadAsArray()\n",
    "# Get input spatial reference\n",
    "input_spatial_ref = input_raster.GetProjectionRef()\n"
   ]
  },
  {
   "cell_type": "code",
   "execution_count": 4,
   "id": "de6b5cc2",
   "metadata": {},
   "outputs": [
    {
     "data": {
      "text/plain": [
       "(5218, 5519)"
      ]
     },
     "execution_count": 4,
     "metadata": {},
     "output_type": "execute_result"
    }
   ],
   "source": [
    "b1.shape"
   ]
  },
  {
   "cell_type": "code",
   "execution_count": 5,
   "id": "96bf326f",
   "metadata": {},
   "outputs": [
    {
     "data": {
      "text/plain": [
       "0"
      ]
     },
     "execution_count": 5,
     "metadata": {},
     "output_type": "execute_result"
    }
   ],
   "source": [
    "# Create output raster file with UTM_ZONE_5N projection\n",
    "driver = gdal.GetDriverByName('GTiff')\n",
    "output_raster = driver.Create(output_file, \n",
    "                              input_raster.RasterXSize, \n",
    "                              input_raster.RasterYSize, \n",
    "                              input_raster.RasterCount, \n",
    "                              input_raster.GetRasterBand(1).DataType)\n",
    "\n",
    "# Set output raster spatial reference to UTM_ZONE_5N\n",
    "output_spatial_ref = osr.SpatialReference()\n",
    "output_spatial_ref.SetUTM(5, 1)\n",
    "output_spatial_ref.SetWellKnownGeogCS('WGS84')\n",
    "output_raster.SetProjection(output_spatial_ref.ExportToWkt())\n"
   ]
  },
  {
   "cell_type": "code",
   "execution_count": 7,
   "id": "7ca53999",
   "metadata": {},
   "outputs": [
    {
     "data": {
      "text/plain": [
       "0"
      ]
     },
     "execution_count": 7,
     "metadata": {},
     "output_type": "execute_result"
    }
   ],
   "source": [
    "output_raster.GetRasterBand(1).WriteArray(b1)"
   ]
  },
  {
   "cell_type": "code",
   "execution_count": 8,
   "id": "6e923a8e",
   "metadata": {},
   "outputs": [
    {
     "data": {
      "text/plain": [
       "0"
      ]
     },
     "execution_count": 8,
     "metadata": {},
     "output_type": "execute_result"
    }
   ],
   "source": [
    "# Project input raster to UTM_ZONE_5N\n",
    "gdal.Warp(output_raster, input_raster, dstSRS=output_spatial_ref.ExportToWkt())\n"
   ]
  },
  {
   "cell_type": "code",
   "execution_count": 9,
   "id": "311411bf",
   "metadata": {},
   "outputs": [],
   "source": [
    "# Close input and output raster files\n",
    "input_raster = None\n",
    "output_raster = None\n"
   ]
  },
  {
   "cell_type": "code",
   "execution_count": 10,
   "id": "7f1654a6",
   "metadata": {},
   "outputs": [],
   "source": [
    "# Set up input and output file paths\n",
    "input_aviris_file = 'F:/wenqu/Aviris/site2a/resample/site2a_aviris_clip'\n",
    "output_aviris_file = 'F:/wenqu/Aviris/site2a/resample/site2a_aviris_clip_WGS_1984'"
   ]
  },
  {
   "cell_type": "code",
   "execution_count": 11,
   "id": "e549b11f",
   "metadata": {},
   "outputs": [],
   "source": [
    "# Open input raster file\n",
    "input_aviris_raster = gdal.Open(input_aviris_file)\n",
    "\n",
    "# Get input spatial reference\n",
    "input_aviris_spatial_ref = input_aviris_raster.GetProjectionRef()"
   ]
  },
  {
   "cell_type": "code",
   "execution_count": 15,
   "id": "97c6c089",
   "metadata": {},
   "outputs": [
    {
     "data": {
      "text/plain": [
       "425"
      ]
     },
     "execution_count": 15,
     "metadata": {},
     "output_type": "execute_result"
    }
   ],
   "source": [
    "input_aviris_raster.RasterCount"
   ]
  },
  {
   "cell_type": "code",
   "execution_count": 14,
   "id": "8c7d04a0",
   "metadata": {},
   "outputs": [
    {
     "data": {
      "text/plain": [
       "0"
      ]
     },
     "execution_count": 14,
     "metadata": {},
     "output_type": "execute_result"
    }
   ],
   "source": [
    "# Create output raster file with UTM_ZONE_5N projection\n",
    "driver = gdal.GetDriverByName('ENVI')\n",
    "output_raster_aviris = driver.Create(output_aviris_file, \n",
    "                              input_aviris_raster.RasterXSize, \n",
    "                              input_aviris_raster.RasterYSize, \n",
    "                              input_aviris_raster.RasterCount, \n",
    "                              input_aviris_raster.GetRasterBand(1).DataType)\n",
    "\n",
    "# Set output raster spatial reference to UTM_ZONE_5N\n",
    "output_spatial_ref = osr.SpatialReference()\n",
    "output_spatial_ref.SetUTM(5, 1)\n",
    "output_spatial_ref.SetWellKnownGeogCS('WGS84')\n",
    "output_raster_aviris.SetProjection(output_spatial_ref.ExportToWkt())"
   ]
  },
  {
   "cell_type": "code",
   "execution_count": 17,
   "id": "03a58007",
   "metadata": {},
   "outputs": [],
   "source": [
    "for i in range(input_aviris_raster.RasterCount):\n",
    "    band = input_aviris_raster.GetRasterBand(i + 1).ReadAsArray()\n",
    "\n",
    "    out_band = output_raster_aviris.GetRasterBand(i + 1)\n",
    "    out_band.WriteArray(band)"
   ]
  },
  {
   "cell_type": "code",
   "execution_count": 18,
   "id": "6c401dad",
   "metadata": {},
   "outputs": [],
   "source": [
    "# Close input and output raster files\n",
    "input_aviris_raster = None\n",
    "output_raster_aviris = None"
   ]
  },
  {
   "cell_type": "code",
   "execution_count": null,
   "id": "c2e8c1b2",
   "metadata": {},
   "outputs": [],
   "source": []
  }
 ],
 "metadata": {
  "kernelspec": {
   "display_name": "wenqu_gdal",
   "language": "python",
   "name": "wenqu_gdal"
  },
  "language_info": {
   "codemirror_mode": {
    "name": "ipython",
    "version": 3
   },
   "file_extension": ".py",
   "mimetype": "text/x-python",
   "name": "python",
   "nbconvert_exporter": "python",
   "pygments_lexer": "ipython3",
   "version": "3.9.15"
  }
 },
 "nbformat": 4,
 "nbformat_minor": 5
}
