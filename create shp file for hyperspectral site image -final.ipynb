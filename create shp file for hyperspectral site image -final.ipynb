{
 "cells": [
  {
   "cell_type": "markdown",
   "id": "58429f1d",
   "metadata": {},
   "source": [
    "# use trait image as extent and create extent shp file"
   ]
  },
  {
   "cell_type": "code",
   "execution_count": 1,
   "id": "fc9f27d6",
   "metadata": {},
   "outputs": [],
   "source": [
    "from osgeo import gdal,ogr,osr\n",
    "\n",
    "# Input raster file\n",
    "raster_file = r'F:\\wenqu\\Aviris\\2022\\projected_trait_image\\site2a_project_to_aviris.tif'\n",
    "\n",
    "# Output polygon file\n",
    "polygon_file = r'F:\\wenqu\\Aviris\\2022\\projected_trait_image\\Shp\\site2a_polygon.shp'"
   ]
  },
  {
   "cell_type": "code",
   "execution_count": 2,
   "id": "ca71dd6d",
   "metadata": {},
   "outputs": [],
   "source": [
    "# Open the input raster file\n",
    "raster_ds = gdal.Open(raster_file)\n",
    "\n",
    "# Get the raster band and its data type\n",
    "band = raster_ds.GetRasterBand(1)\n",
    "data_type = band.DataType\n",
    "\n",
    "# Get the raster's geotransform and projection\n",
    "geotransform = raster_ds.GetGeoTransform()\n",
    "projection = raster_ds.GetProjection()\n",
    "# Create a memory layer to hold the polygon features\n",
    "driver = ogr.GetDriverByName(\"Memory\")\n",
    "mem_ds = driver.CreateDataSource(\"\")\n",
    "\n",
    "# Create a new layer in the memory dataset\n",
    "mem_layer = mem_ds.CreateLayer(\"polygon\", srs=osr.SpatialReference(wkt=projection), geom_type=ogr.wkbPolygon)\n",
    "\n",
    "# Use gdal.Polygonize() to convert the raster to polygons\n",
    "gdal.Polygonize(band, None, mem_layer, 0, [], callback=None)\n",
    "# Create the output shapefile\n",
    "driver = ogr.GetDriverByName(\"ESRI Shapefile\")\n",
    "out_ds = driver.CreateDataSource(polygon_file)\n",
    "\n",
    "# Copy the memory layer to the output shapefile\n",
    "out_layer = out_ds.CopyLayer(mem_layer, \"polygon\")\n",
    "# Clean up the memory layer\n",
    "mem_ds.Destroy()\n",
    "\n",
    "# Close the input and output files\n",
    "raster_ds = None\n",
    "out_ds = None"
   ]
  },
  {
   "cell_type": "markdown",
   "id": "b827df1f",
   "metadata": {},
   "source": [
    "# use the created shp file to clip the aviris brdf image directly"
   ]
  },
  {
   "cell_type": "code",
   "execution_count": 4,
   "id": "c32f9710",
   "metadata": {},
   "outputs": [],
   "source": [
    "import rasterio\n",
    "from rasterio.mask import mask\n",
    "from rasterio import Affine\n",
    "import geopandas as gpd\n",
    "from shapely.geometry import box\n",
    "import rasterio.plot as rplot\n",
    "import matplotlib.pyplot as plt\n",
    "import fiona\n",
    "from shapely.geometry import box\n",
    "from fiona.crs import from_epsg"
   ]
  },
  {
   "cell_type": "code",
   "execution_count": 5,
   "id": "64e33d42",
   "metadata": {},
   "outputs": [],
   "source": [
    "raster1 = rasterio.open(r'F:\\wenqu\\Aviris\\2022\\output\\ang20220706t194511_rfl_v2aa2_img_brdf')\n",
    "\n",
    "shapefile = gpd.read_file( r'F:\\wenqu\\Aviris\\2022\\projected_trait_image\\Shp\\site2a_polygon.shp')\n",
    "geo = shapefile.geometry\n",
    "\n",
    "\n",
    "\n",
    "\n",
    "# Clip raster1 using the extent of raster2:\n",
    "out_img, out_transform = mask(raster1, shapes=geo.geometry, crop=True)\n",
    "\n",
    "# Update the metadata of the output image:\n",
    "out_meta = raster1.meta.copy()\n",
    "out_meta.update({\n",
    "    \"driver\": \"ENVI\",\n",
    "    \"height\": out_img.shape[1],\n",
    "    \"width\": out_img.shape[2],\n",
    "    \"count\":425,\n",
    "    \"transform\": out_transform\n",
    "})\n",
    "\n",
    "\n",
    "output = \"F:/wenqu/Aviris/2022/clip/clipped_site_image/site2a/site2a_aviris\"\n",
    "with rasterio.open(output, \"w\", **out_meta) as dst:\n",
    "    # loop over the bands and write the pixel value for each band\n",
    "    for band in range(1, raster1.count + 1):\n",
    "        dst.write(out_img[band-1], indexes=band)"
   ]
  },
  {
   "cell_type": "markdown",
   "id": "cd7872f4",
   "metadata": {},
   "source": [
    "# use pixel's shp file to clip aviris image into single tif data"
   ]
  },
  {
   "cell_type": "code",
   "execution_count": 8,
   "id": "f1a8ca3d",
   "metadata": {},
   "outputs": [
    {
     "name": "stdout",
     "output_type": "stream",
     "text": [
      "Clipping completed!\n"
     ]
    }
   ],
   "source": [
    "import rasterio\n",
    "from rasterio.mask import mask\n",
    "from shapely.geometry import shape\n",
    "import fiona\n",
    "import os\n",
    "\n",
    "# Directory containing the shapefiles\n",
    "SHAPEFILE_DIR=\"E:/wenqu/aviris/validation_shp1\"\n",
    "# Directory to save the output tifs\n",
    "OUTPUT_DIR='E:/wenqu/aviris/aviris_trait_clip/aviris_d15n_ymax'\n",
    "# Input raster\n",
    "RASTER_INPUT='E:/wenqu/aviris/trait_map/aviris_d15n_ymax.tif'\n",
    "\n",
    "# Get the list of shapefiles\n",
    "shapefiles = [f for f in os.listdir(SHAPEFILE_DIR) if f.endswith('.shp')]\n",
    "\n",
    "for shapefile in shapefiles:\n",
    "    with fiona.open(os.path.join(SHAPEFILE_DIR, shapefile), \"r\") as shapefile_data:\n",
    "        # Extract shapefile's geometry\n",
    "        shapes = [feature[\"geometry\"] for feature in shapefile_data]\n",
    "        \n",
    "        with rasterio.open(RASTER_INPUT) as src:\n",
    "            # Clip the raster with the shapefile's geometry\n",
    "            out_image, out_transform = mask(src, shapes, crop=True)\n",
    "            out_meta = src.meta.copy()\n",
    "            \n",
    "            # Update the metadata with the clipped raster's details\n",
    "            out_meta.update({\"driver\": \"GTiff\",\n",
    "                             \"height\": out_image.shape[1],\n",
    "                             \"width\": out_image.shape[2],\n",
    "                             \"transform\": out_transform})\n",
    "            \n",
    "            output_raster = os.path.join(OUTPUT_DIR, shapefile.replace('.shp', '_clipped.tif'))\n",
    "            with rasterio.open(output_raster, \"w\", **out_meta) as dest:\n",
    "                dest.write(out_image)\n",
    "\n",
    "print(\"Clipping completed!\")"
   ]
  },
  {
   "cell_type": "code",
   "execution_count": 1,
   "id": "8709db34",
   "metadata": {},
   "outputs": [
    {
     "ename": "KeyboardInterrupt",
     "evalue": "",
     "output_type": "error",
     "traceback": [
      "\u001b[1;31m---------------------------------------------------------------------------\u001b[0m",
      "\u001b[1;31mKeyboardInterrupt\u001b[0m                         Traceback (most recent call last)",
      "Cell \u001b[1;32mIn[1], line 22\u001b[0m\n\u001b[0;32m     18\u001b[0m \u001b[38;5;28;01mwith\u001b[39;00m fiona\u001b[38;5;241m.\u001b[39mopen(os\u001b[38;5;241m.\u001b[39mpath\u001b[38;5;241m.\u001b[39mjoin(SHAPEFILE_DIR, shapefile), \u001b[38;5;124m\"\u001b[39m\u001b[38;5;124mr\u001b[39m\u001b[38;5;124m\"\u001b[39m) \u001b[38;5;28;01mas\u001b[39;00m shapefile_data:\n\u001b[0;32m     19\u001b[0m     \u001b[38;5;66;03m# Extract shapefile's geometry\u001b[39;00m\n\u001b[0;32m     20\u001b[0m     shapes \u001b[38;5;241m=\u001b[39m [feature[\u001b[38;5;124m\"\u001b[39m\u001b[38;5;124mgeometry\u001b[39m\u001b[38;5;124m\"\u001b[39m] \u001b[38;5;28;01mfor\u001b[39;00m feature \u001b[38;5;129;01min\u001b[39;00m shapefile_data]\n\u001b[1;32m---> 22\u001b[0m     \u001b[38;5;28;01mwith\u001b[39;00m \u001b[43mrasterio\u001b[49m\u001b[38;5;241;43m.\u001b[39;49m\u001b[43mopen\u001b[49m\u001b[43m(\u001b[49m\u001b[43mRASTER_INPUT\u001b[49m\u001b[43m)\u001b[49m \u001b[38;5;28;01mas\u001b[39;00m src:\n\u001b[0;32m     23\u001b[0m         \u001b[38;5;66;03m# Clip the raster with the shapefile's geometry\u001b[39;00m\n\u001b[0;32m     24\u001b[0m         out_image, out_transform \u001b[38;5;241m=\u001b[39m mask(src, shapes, crop\u001b[38;5;241m=\u001b[39m\u001b[38;5;28;01mTrue\u001b[39;00m)\n\u001b[0;32m     25\u001b[0m         out_meta \u001b[38;5;241m=\u001b[39m src\u001b[38;5;241m.\u001b[39mmeta\u001b[38;5;241m.\u001b[39mcopy()\n",
      "File \u001b[1;32m~\\anaconda3\\envs\\wenqu_gdal\\lib\\site-packages\\rasterio\\env.py:451\u001b[0m, in \u001b[0;36mensure_env_with_credentials.<locals>.wrapper\u001b[1;34m(*args, **kwds)\u001b[0m\n\u001b[0;32m    448\u001b[0m     session \u001b[38;5;241m=\u001b[39m DummySession()\n\u001b[0;32m    450\u001b[0m \u001b[38;5;28;01mwith\u001b[39;00m env_ctor(session\u001b[38;5;241m=\u001b[39msession):\n\u001b[1;32m--> 451\u001b[0m     \u001b[38;5;28;01mreturn\u001b[39;00m f(\u001b[38;5;241m*\u001b[39margs, \u001b[38;5;241m*\u001b[39m\u001b[38;5;241m*\u001b[39mkwds)\n",
      "File \u001b[1;32m~\\anaconda3\\envs\\wenqu_gdal\\lib\\site-packages\\rasterio\\__init__.py:334\u001b[0m, in \u001b[0;36mopen\u001b[1;34m(fp, mode, driver, width, height, count, crs, transform, dtype, nodata, sharing, **kwargs)\u001b[0m\n\u001b[0;32m    331\u001b[0m path \u001b[38;5;241m=\u001b[39m _parse_path(raw_dataset_path)\n\u001b[0;32m    333\u001b[0m \u001b[38;5;28;01mif\u001b[39;00m mode \u001b[38;5;241m==\u001b[39m \u001b[38;5;124m\"\u001b[39m\u001b[38;5;124mr\u001b[39m\u001b[38;5;124m\"\u001b[39m:\n\u001b[1;32m--> 334\u001b[0m     dataset \u001b[38;5;241m=\u001b[39m DatasetReader(path, driver\u001b[38;5;241m=\u001b[39mdriver, sharing\u001b[38;5;241m=\u001b[39msharing, \u001b[38;5;241m*\u001b[39m\u001b[38;5;241m*\u001b[39mkwargs)\n\u001b[0;32m    335\u001b[0m \u001b[38;5;28;01melif\u001b[39;00m mode \u001b[38;5;241m==\u001b[39m \u001b[38;5;124m\"\u001b[39m\u001b[38;5;124mr+\u001b[39m\u001b[38;5;124m\"\u001b[39m:\n\u001b[0;32m    336\u001b[0m     dataset \u001b[38;5;241m=\u001b[39m get_writer_for_path(path, driver\u001b[38;5;241m=\u001b[39mdriver)(\n\u001b[0;32m    337\u001b[0m         path, mode, driver\u001b[38;5;241m=\u001b[39mdriver, sharing\u001b[38;5;241m=\u001b[39msharing, \u001b[38;5;241m*\u001b[39m\u001b[38;5;241m*\u001b[39mkwargs\n\u001b[0;32m    338\u001b[0m     )\n",
      "File \u001b[1;32mrasterio\\_base.pyx:312\u001b[0m, in \u001b[0;36mrasterio._base.DatasetBase.__init__\u001b[1;34m()\u001b[0m\n",
      "File \u001b[1;32m~\\anaconda3\\envs\\wenqu_gdal\\lib\\site-packages\\rasterio\\_path.py:81\u001b[0m, in \u001b[0;36m_ParsedPath.name\u001b[1;34m(self)\u001b[0m\n\u001b[0;32m     78\u001b[0m     archive \u001b[38;5;241m=\u001b[39m parts\u001b[38;5;241m.\u001b[39mpop() \u001b[38;5;28;01mif\u001b[39;00m parts \u001b[38;5;28;01melse\u001b[39;00m \u001b[38;5;28;01mNone\u001b[39;00m\n\u001b[0;32m     79\u001b[0m     \u001b[38;5;28;01mreturn\u001b[39;00m _ParsedPath(path, archive, scheme)\n\u001b[1;32m---> 81\u001b[0m \u001b[38;5;129m@property\u001b[39m\n\u001b[0;32m     82\u001b[0m \u001b[38;5;28;01mdef\u001b[39;00m \u001b[38;5;21mname\u001b[39m(\u001b[38;5;28mself\u001b[39m):\n\u001b[0;32m     83\u001b[0m \u001b[38;5;250m    \u001b[39m\u001b[38;5;124;03m\"\"\"The parsed path's original URI\"\"\"\u001b[39;00m\n\u001b[0;32m     84\u001b[0m     \u001b[38;5;28;01mif\u001b[39;00m \u001b[38;5;129;01mnot\u001b[39;00m \u001b[38;5;28mself\u001b[39m\u001b[38;5;241m.\u001b[39mscheme:\n",
      "\u001b[1;31mKeyboardInterrupt\u001b[0m: "
     ]
    }
   ],
   "source": [
    "import rasterio\n",
    "from rasterio.mask import mask\n",
    "from shapely.geometry import shape\n",
    "import fiona\n",
    "import os\n",
    "\n",
    "# Directory containing the shapefiles\n",
    "SHAPEFILE_DIR=\"F:/wenqu/Aviris/2022/pixel_shp/site1b_shp\"\n",
    "# Directory to save the output tifs\n",
    "OUTPUT_DIR='F:/wenqu/Aviris/2022/clip/site1b'\n",
    "# Input raster\n",
    "RASTER_INPUT='F:/wenqu/Aviris/2022/clip/clipped_site_image/site1b/site1b_aviris'\n",
    "\n",
    "# Get the list of shapefiles\n",
    "shapefiles = [f for f in os.listdir(SHAPEFILE_DIR) if f.endswith('.shp')]\n",
    "\n",
    "for shapefile in shapefiles:\n",
    "    with fiona.open(os.path.join(SHAPEFILE_DIR, shapefile), \"r\") as shapefile_data:\n",
    "        # Extract shapefile's geometry\n",
    "        shapes = [feature[\"geometry\"] for feature in shapefile_data]\n",
    "        \n",
    "        with rasterio.open(RASTER_INPUT) as src:\n",
    "            # Clip the raster with the shapefile's geometry\n",
    "            out_image, out_transform = mask(src, shapes, crop=True)\n",
    "            out_meta = src.meta.copy()\n",
    "            \n",
    "            # Update the metadata with the clipped raster's details\n",
    "            out_meta.update({\"driver\": \"GTiff\",\n",
    "                             \"height\": out_image.shape[1],\n",
    "                             \"width\": out_image.shape[2],\n",
    "                             \"transform\": out_transform})\n",
    "            \n",
    "            output_raster = os.path.join(OUTPUT_DIR, shapefile.replace('.shp', '_clipped.tif'))\n",
    "            with rasterio.open(output_raster, \"w\", **out_meta) as dest:\n",
    "                dest.write(out_image)\n",
    "\n",
    "print(\"Clipping completed!\")"
   ]
  },
  {
   "cell_type": "code",
   "execution_count": null,
   "id": "9f4128d4",
   "metadata": {},
   "outputs": [],
   "source": []
  }
 ],
 "metadata": {
  "kernelspec": {
   "display_name": "wenqu_gpu",
   "language": "python",
   "name": "wenqu_gpu"
  },
  "language_info": {
   "codemirror_mode": {
    "name": "ipython",
    "version": 3
   },
   "file_extension": ".py",
   "mimetype": "text/x-python",
   "name": "python",
   "nbconvert_exporter": "python",
   "pygments_lexer": "ipython3",
   "version": "3.9.15"
  }
 },
 "nbformat": 4,
 "nbformat_minor": 5
}
