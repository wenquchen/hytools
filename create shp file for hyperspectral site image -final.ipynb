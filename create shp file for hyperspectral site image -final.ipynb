{
 "cells": [
  {
   "cell_type": "markdown",
   "id": "58429f1d",
   "metadata": {},
   "source": [
    "# use trait image as extent and create extent shp file"
   ]
  },
  {
   "cell_type": "code",
   "execution_count": 1,
   "id": "fc9f27d6",
   "metadata": {},
   "outputs": [],
   "source": [
    "from osgeo import gdal,ogr,osr\n",
    "\n",
    "# Input raster file\n",
    "raster_file = r'F:\\wenqu\\Aviris\\2022\\projected_trait_image\\site2a_project_to_aviris.tif'\n",
    "\n",
    "# Output polygon file\n",
    "polygon_file = r'F:\\wenqu\\Aviris\\2022\\projected_trait_image\\Shp\\site2a_polygon.shp'"
   ]
  },
  {
   "cell_type": "code",
   "execution_count": 2,
   "id": "ca71dd6d",
   "metadata": {},
   "outputs": [],
   "source": [
    "# Open the input raster file\n",
    "raster_ds = gdal.Open(raster_file)\n",
    "\n",
    "# Get the raster band and its data type\n",
    "band = raster_ds.GetRasterBand(1)\n",
    "data_type = band.DataType\n",
    "\n",
    "# Get the raster's geotransform and projection\n",
    "geotransform = raster_ds.GetGeoTransform()\n",
    "projection = raster_ds.GetProjection()\n",
    "# Create a memory layer to hold the polygon features\n",
    "driver = ogr.GetDriverByName(\"Memory\")\n",
    "mem_ds = driver.CreateDataSource(\"\")\n",
    "\n",
    "# Create a new layer in the memory dataset\n",
    "mem_layer = mem_ds.CreateLayer(\"polygon\", srs=osr.SpatialReference(wkt=projection), geom_type=ogr.wkbPolygon)\n",
    "\n",
    "# Use gdal.Polygonize() to convert the raster to polygons\n",
    "gdal.Polygonize(band, None, mem_layer, 0, [], callback=None)\n",
    "# Create the output shapefile\n",
    "driver = ogr.GetDriverByName(\"ESRI Shapefile\")\n",
    "out_ds = driver.CreateDataSource(polygon_file)\n",
    "\n",
    "# Copy the memory layer to the output shapefile\n",
    "out_layer = out_ds.CopyLayer(mem_layer, \"polygon\")\n",
    "# Clean up the memory layer\n",
    "mem_ds.Destroy()\n",
    "\n",
    "# Close the input and output files\n",
    "raster_ds = None\n",
    "out_ds = None"
   ]
  },
  {
   "cell_type": "markdown",
   "id": "b827df1f",
   "metadata": {},
   "source": [
    "# use the created shp file to clip the aviris brdf image directly"
   ]
  },
  {
   "cell_type": "code",
   "execution_count": 4,
   "id": "c32f9710",
   "metadata": {},
   "outputs": [],
   "source": [
    "import rasterio\n",
    "from rasterio.mask import mask\n",
    "from rasterio import Affine\n",
    "import geopandas as gpd\n",
    "from shapely.geometry import box\n",
    "import rasterio.plot as rplot\n",
    "import matplotlib.pyplot as plt\n",
    "import fiona\n",
    "from shapely.geometry import box\n",
    "from fiona.crs import from_epsg"
   ]
  },
  {
   "cell_type": "code",
   "execution_count": 5,
   "id": "64e33d42",
   "metadata": {},
   "outputs": [],
   "source": [
    "raster1 = rasterio.open(r'F:\\wenqu\\Aviris\\2022\\output\\ang20220706t194511_rfl_v2aa2_img_brdf')\n",
    "\n",
    "shapefile = gpd.read_file( r'F:\\wenqu\\Aviris\\2022\\projected_trait_image\\Shp\\site2a_polygon.shp')\n",
    "geo = shapefile.geometry\n",
    "\n",
    "\n",
    "\n",
    "\n",
    "# Clip raster1 using the extent of raster2:\n",
    "out_img, out_transform = mask(raster1, shapes=geo.geometry, crop=True)\n",
    "\n",
    "# Update the metadata of the output image:\n",
    "out_meta = raster1.meta.copy()\n",
    "out_meta.update({\n",
    "    \"driver\": \"ENVI\",\n",
    "    \"height\": out_img.shape[1],\n",
    "    \"width\": out_img.shape[2],\n",
    "    \"count\":425,\n",
    "    \"transform\": out_transform\n",
    "})\n",
    "\n",
    "\n",
    "output = \"F:/wenqu/Aviris/2022/clip/clipped_site_image/site2a/site2a_aviris\"\n",
    "with rasterio.open(output, \"w\", **out_meta) as dst:\n",
    "    # loop over the bands and write the pixel value for each band\n",
    "    for band in range(1, raster1.count + 1):\n",
    "        dst.write(out_img[band-1], indexes=band)"
   ]
  },
  {
   "cell_type": "markdown",
   "id": "cd7872f4",
   "metadata": {},
   "source": [
    "# use pixel's shp file to clip aviris image into single tif data"
   ]
  },
  {
   "cell_type": "code",
   "execution_count": 4,
   "id": "f1a8ca3d",
   "metadata": {},
   "outputs": [
    {
     "name": "stdout",
     "output_type": "stream",
     "text": [
      "Clipping completed!\n"
     ]
    }
   ],
   "source": [
    "import rasterio\n",
    "from rasterio.mask import mask\n",
    "from shapely.geometry import shape\n",
    "import fiona\n",
    "import os\n",
    "\n",
    "# Directory containing the shapefiles\n",
    "SHAPEFILE_DIR=\"F:/wenqu/Aviris/site6/site6_aviris_single_pixel_shp\"\n",
    "# Directory to save the output tifs\n",
    "OUTPUT_DIR='F:/wenqu/Aviris/site6/site6_aviris_single_pixel1'\n",
    "# Input raster\n",
    "RASTER_INPUT='F:/wenqu/Aviris/site6/site6_aviris/site6_aviris_clip'\n",
    "\n",
    "# Get the list of shapefiles\n",
    "shapefiles = [f for f in os.listdir(SHAPEFILE_DIR) if f.endswith('.shp')]\n",
    "\n",
    "for shapefile in shapefiles:\n",
    "    with fiona.open(os.path.join(SHAPEFILE_DIR, shapefile), \"r\") as shapefile_data:\n",
    "        # Extract shapefile's geometry\n",
    "        shapes = [feature[\"geometry\"] for feature in shapefile_data]\n",
    "        \n",
    "        with rasterio.open(RASTER_INPUT) as src:\n",
    "            # Clip the raster with the shapefile's geometry\n",
    "            out_image, out_transform = mask(src, shapes, crop=True)\n",
    "            out_meta = src.meta.copy()\n",
    "            \n",
    "            # Update the metadata with the clipped raster's details\n",
    "            out_meta.update({\"driver\": \"GTiff\",\n",
    "                             \"height\": out_image.shape[1],\n",
    "                             \"width\": out_image.shape[2],\n",
    "                             \"transform\": out_transform})\n",
    "            \n",
    "            output_raster = os.path.join(OUTPUT_DIR, shapefile.replace('.shp', '.tif'))\n",
    "            with rasterio.open(output_raster, \"w\", **out_meta) as dest:\n",
    "                dest.write(out_image)\n",
    "\n",
    "print(\"Clipping completed!\")"
   ]
  },
  {
   "cell_type": "code",
   "execution_count": 5,
   "id": "c902f93d",
   "metadata": {},
   "outputs": [
    {
     "name": "stdout",
     "output_type": "stream",
     "text": [
      "Clipping completed!\n"
     ]
    }
   ],
   "source": [
    "import rasterio\n",
    "from rasterio.mask import mask\n",
    "from shapely.geometry import shape\n",
    "import fiona\n",
    "import os\n",
    "\n",
    "# Directory containing the shapefiles\n",
    "SHAPEFILE_DIR=\"F:/wenqu/Aviris/site1b/single_aviris_shp\"\n",
    "# Directory to save the output tifs\n",
    "OUTPUT_DIR='F:/wenqu/Aviris/site1b/aviris_single_pixel1'\n",
    "# Input raster\n",
    "RASTER_INPUT='F:/wenqu/Aviris/site1b/clipped_aviris/site1b_aviris_clip'\n",
    "\n",
    "# Get the list of shapefiles\n",
    "shapefiles = [f for f in os.listdir(SHAPEFILE_DIR) if f.endswith('.shp')]\n",
    "\n",
    "for shapefile in shapefiles:\n",
    "    with fiona.open(os.path.join(SHAPEFILE_DIR, shapefile), \"r\") as shapefile_data:\n",
    "        # Extract shapefile's geometry\n",
    "        shapes = [feature[\"geometry\"] for feature in shapefile_data]\n",
    "        \n",
    "        with rasterio.open(RASTER_INPUT) as src:\n",
    "            # Clip the raster with the shapefile's geometry\n",
    "            out_image, out_transform = mask(src, shapes, crop=True)\n",
    "            out_meta = src.meta.copy()\n",
    "            \n",
    "            # Update the metadata with the clipped raster's details\n",
    "            out_meta.update({\"driver\": \"GTiff\",\n",
    "                             \"height\": out_image.shape[1],\n",
    "                             \"width\": out_image.shape[2],\n",
    "                             \"transform\": out_transform})\n",
    "            \n",
    "            output_raster = os.path.join(OUTPUT_DIR, shapefile.replace('.shp', '.tif'))\n",
    "            with rasterio.open(output_raster, \"w\", **out_meta) as dest:\n",
    "                dest.write(out_image)\n",
    "\n",
    "print(\"Clipping completed!\")"
   ]
  },
  {
   "cell_type": "code",
   "execution_count": null,
   "id": "9f4128d4",
   "metadata": {},
   "outputs": [],
   "source": []
  }
 ],
 "metadata": {
  "kernelspec": {
   "display_name": "wenqu_gdal",
   "language": "python",
   "name": "wenqu_gdal"
  },
  "language_info": {
   "codemirror_mode": {
    "name": "ipython",
    "version": 3
   },
   "file_extension": ".py",
   "mimetype": "text/x-python",
   "name": "python",
   "nbconvert_exporter": "python",
   "pygments_lexer": "ipython3",
   "version": "3.9.15"
  }
 },
 "nbformat": 4,
 "nbformat_minor": 5
}
