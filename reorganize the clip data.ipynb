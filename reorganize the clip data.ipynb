{
 "cells": [
  {
   "cell_type": "code",
   "execution_count": 3,
   "id": "5ad40467",
   "metadata": {},
   "outputs": [],
   "source": [
    "from osgeo import gdal,ogr,osr\n",
    "import numpy as np\n",
    "from PIL import Image"
   ]
  },
  {
   "cell_type": "code",
   "execution_count": 2,
   "id": "21139e2c",
   "metadata": {},
   "outputs": [
    {
     "data": {
      "text/plain": [
       "(624240.223,\n",
       " 4.565071278216736,\n",
       " -1.4832815729997475,\n",
       " 7476923.018,\n",
       " -1.4832815729997475,\n",
       " -4.565071278216736)"
      ]
     },
     "execution_count": 2,
     "metadata": {},
     "output_type": "execute_result"
    }
   ],
   "source": [
    "aviris_img_org = gdal.Open( 'D:/wenqu/aviris/PLSR/site2a_aviris_no_shade/site2a_aviris_clip')\n",
    "aviris_org_geotransform = aviris_img_org.GetGeoTransform()\n",
    "# left corner x coordinates\n",
    "#pixel size in x direction\n",
    "# rotation\n",
    "#upper left y coordinates\n",
    "# rotation\n",
    "# pixle size in y direction\n",
    "aviris_org_geotransform"
   ]
  },
  {
   "cell_type": "code",
   "execution_count": 4,
   "id": "7096a5ff",
   "metadata": {},
   "outputs": [],
   "source": [
    "# UTM coordinates of top-left and bottom-right corners of the image\n",
    "utm_tl = aviris_org_geotransform[0]  # top left\n",
    "utm_br = aviris_org_geotransform[3]  # bottom right\n",
    "# Image size in pixels\n",
    "img_width = aviris_org_geotransform[1]\n",
    "img_height = aviris_org_geotransform[1]"
   ]
  },
  {
   "cell_type": "code",
   "execution_count": 6,
   "id": "b8a1bad0",
   "metadata": {},
   "outputs": [
    {
     "data": {
      "text/plain": [
       "(624209.236029903,\n",
       " 0.06508360075261613,\n",
       " 0.0,\n",
       " 7476912.778366254,\n",
       " 0.0,\n",
       " -0.02494949795068842)"
      ]
     },
     "execution_count": 6,
     "metadata": {},
     "output_type": "execute_result"
    }
   ],
   "source": [
    "trait_img = gdal.Open(r'D:\\wenqu\\image_aggregation\\site2a_la_trait_map_proj.tif')\n",
    "trait_img_geotransform = trait_img.GetGeoTransform()\n",
    "trait_img_geotransform"
   ]
  },
  {
   "cell_type": "code",
   "execution_count": 7,
   "id": "5e73ce47",
   "metadata": {},
   "outputs": [
    {
     "ename": "TypeError",
     "evalue": "'float' object is not subscriptable",
     "output_type": "error",
     "traceback": [
      "\u001b[1;31m---------------------------------------------------------------------------\u001b[0m",
      "\u001b[1;31mTypeError\u001b[0m                                 Traceback (most recent call last)",
      "Input \u001b[1;32mIn [7]\u001b[0m, in \u001b[0;36m<cell line: 2>\u001b[1;34m()\u001b[0m\n\u001b[0;32m      1\u001b[0m \u001b[38;5;66;03m# Calculate meters per pixel\u001b[39;00m\n\u001b[1;32m----> 2\u001b[0m utm_width \u001b[38;5;241m=\u001b[39m \u001b[43mutm_br\u001b[49m\u001b[43m[\u001b[49m\u001b[38;5;241;43m0\u001b[39;49m\u001b[43m]\u001b[49m \u001b[38;5;241m-\u001b[39m utm_tl[\u001b[38;5;241m0\u001b[39m]\n\u001b[0;32m      3\u001b[0m utm_height \u001b[38;5;241m=\u001b[39m utm_tl[\u001b[38;5;241m1\u001b[39m] \u001b[38;5;241m-\u001b[39m utm_br[\u001b[38;5;241m1\u001b[39m]\n\u001b[0;32m      4\u001b[0m mpp_x \u001b[38;5;241m=\u001b[39m utm_width \u001b[38;5;241m/\u001b[39m img_width\n",
      "\u001b[1;31mTypeError\u001b[0m: 'float' object is not subscriptable"
     ]
    },
    {
     "name": "stdout",
     "output_type": "stream",
     "text": [
      "The history saving thread hit an unexpected error (OperationalError('database or disk is full')).History will not be written to the database.\n"
     ]
    }
   ],
   "source": [
    "# Calculate meters per pixel\n",
    "utm_width = utm_br[0] - utm_tl[0]\n",
    "utm_height = utm_tl[1] - utm_br[1]\n",
    "mpp_x = utm_width / img_width\n",
    "mpp_y = utm_height / img_height"
   ]
  },
  {
   "cell_type": "code",
   "execution_count": null,
   "id": "a435d888",
   "metadata": {},
   "outputs": [],
   "source": []
  }
 ],
 "metadata": {
  "kernelspec": {
   "display_name": "wenqu_gpu",
   "language": "python",
   "name": "wenqu_gpu"
  },
  "language_info": {
   "codemirror_mode": {
    "name": "ipython",
    "version": 3
   },
   "file_extension": ".py",
   "mimetype": "text/x-python",
   "name": "python",
   "nbconvert_exporter": "python",
   "pygments_lexer": "ipython3",
   "version": "3.9.15"
  }
 },
 "nbformat": 4,
 "nbformat_minor": 5
}
