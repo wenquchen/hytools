{
 "cells": [
  {
   "cell_type": "code",
   "execution_count": 9,
   "id": "495b85da",
   "metadata": {},
   "outputs": [],
   "source": [
    "import rasterio\n",
    "import numpy as np\n",
    "import cv2\n",
    "import numpy as numpy\n",
    "import matplotlib.pyplot as plt\n",
    "from osgeo import gdal\n",
    "import argparse\n",
    "\n",
    "# %matplotlib inline\n",
    "\n",
    "# # import xarray as xr\n",
    "# import numpy as np\n",
    "# import geopandas as gpd\n",
    "import scipy\n",
    "# import matplotlib.pyplot as plt\n",
    "from osgeo import gdal\n",
    "# from datacube.utils.cog import write_cog\n",
    "# from datacube.utils.geometry import Geometry\n",
    "from skimage.segmentation import quickshift\n",
    "import rasterio\n",
    "from skimage.segmentation import felzenszwalb\n",
    "from skimage import img_as_float\n",
    "import numpy as np\n",
    "import matplotlib.pyplot as plt"
   ]
  },
  {
   "cell_type": "code",
   "execution_count": 10,
   "id": "3bf98909",
   "metadata": {},
   "outputs": [],
   "source": [
    "pixel_vals  = gdal.Open(r'E:\\wenqu\\segmentationn\\tasseled_cap_greeness\\MASKED\\site7_TP.tif').ReadAsArray().astype(np.float64)"
   ]
  },
  {
   "cell_type": "code",
   "execution_count": 11,
   "id": "824d1fce",
   "metadata": {},
   "outputs": [],
   "source": [
    "# # Define the no-data value from the band information\n",
    "# nodata_value = 0.0\n",
    "\n",
    "# # Mask the no-data value with np.nan (or another specified value)\n",
    "# pixel_vals[pixel_vals == nodata_value] = np.nan "
   ]
  },
  {
   "cell_type": "code",
   "execution_count": 15,
   "id": "0481d4de",
   "metadata": {},
   "outputs": [],
   "source": [
    "# Calculate the segments\n",
    "labels = quickshift(pixel_vals,\n",
    "                      kernel_size=5,\n",
    "                      convert2lab=False,\n",
    "                      max_dist=50,\n",
    "                      ratio=1.0)"
   ]
  },
  {
   "cell_type": "code",
   "execution_count": 16,
   "id": "948fcbf9",
   "metadata": {},
   "outputs": [
    {
     "name": "stdout",
     "output_type": "stream",
     "text": [
      "Number of segments: 2354\n"
     ]
    }
   ],
   "source": [
    "# Assuming 'segments' is the result from your 'quickshift' function call\n",
    "unique_segments = np.unique(labels)\n",
    "number_of_segments = len(unique_segments)\n",
    "\n",
    "print(\"Number of segments:\", number_of_segments)"
   ]
  },
  {
   "cell_type": "code",
   "execution_count": 6,
   "id": "c58ee11e",
   "metadata": {},
   "outputs": [],
   "source": [
    "# plt.imshow(segments)"
   ]
  },
  {
   "cell_type": "code",
   "execution_count": 17,
   "id": "0f26c77e",
   "metadata": {},
   "outputs": [
    {
     "name": "stdout",
     "output_type": "stream",
     "text": [
      "Shapefile saved to E:\\wenqu\\segmentationn\\site7_TP_segments.shp\n"
     ]
    }
   ],
   "source": [
    "import geopandas as gpd\n",
    "from shapely.geometry import shape\n",
    "import rasterio\n",
    "from rasterio.features import shapes\n",
    "import numpy as np\n",
    "\n",
    "# Load the original raster image to get its transform and CRS\n",
    "image_path = r'E:\\wenqu\\segmentationn\\tasseled_cap_greeness\\MASKED\\site7_TP.tif'\n",
    "with rasterio.open(image_path) as src:\n",
    "    transform = src.transform\n",
    "    crs = src.crs\n",
    "\n",
    "# Assuming 'labels' contains the result from the Watershed segmentation\n",
    "\n",
    "# Convert the segmented image to shapes (polygons)\n",
    "mask = labels > 0  # Assuming 0 is the background or non-segmented label\n",
    "\n",
    "# Extract polygons and values from the labeled matrix\n",
    "polygons = shapes(labels.astype(np.int16), mask=mask, transform=transform)\n",
    "\n",
    "# Prepare a list for storing geometry data\n",
    "geometry_list = []\n",
    "\n",
    "for polygon, value in polygons:\n",
    "    # Convert the polygon shapes to Shapely geometry\n",
    "    geom = shape(polygon)\n",
    "    geometry_list.append(geom)\n",
    "\n",
    "# Create a GeoDataFrame from the list of geometries\n",
    "gdf = gpd.GeoDataFrame(geometry=geometry_list)\n",
    "\n",
    "# Set the coordinate reference system (CRS) of the GeoDataFrame from the raster\n",
    "gdf.crs = crs\n",
    "\n",
    "# Write the GeoDataFrame to a shapefile\n",
    "output_shapefile = r'E:\\wenqu\\segmentationn\\site7_TP_segments.shp'\n",
    "gdf.to_file(output_shapefile)\n",
    "\n",
    "print(f'Shapefile saved to {output_shapefile}')\n",
    "\n"
   ]
  },
  {
   "cell_type": "code",
   "execution_count": null,
   "id": "c386304f",
   "metadata": {},
   "outputs": [],
   "source": []
  },
  {
   "cell_type": "code",
   "execution_count": 8,
   "id": "5bdc374a",
   "metadata": {},
   "outputs": [],
   "source": [
    "import rasterio\n",
    "\n",
    "# Path to the existing file from which to copy the transform and CRS\n",
    "input_file_path = r'E:\\wenqu\\segmentationn\\tasseled_cap_greeness\\MASKED\\site6ab_TP.tif'\n",
    "\n",
    "# Path to the new file\n",
    "output_file_path = r'E:\\wenqu\\segmentationn\\site6labels.tif'\n",
    "\n",
    "# Open the existing file to read its spatial metadata\n",
    "with rasterio.open(input_file_path) as src:\n",
    "    # Extract the metadata from the source file\n",
    "    out_meta = src.meta.copy()\n",
    "\n",
    "# Update the metadata for the new file based on your array's properties\n",
    "# Assume segments_zonal_mean_qs is your array to be saved\n",
    "out_meta.update({\n",
    "    'dtype': 'float32',  # Make sure to set this to the dtype of your segments_zonal_mean_qs array\n",
    "    'count': 1,  # Set the number of bands in your output file; adjust if necessary\n",
    "    'height': labels.shape[0],\n",
    "    'width': labels.shape[1],\n",
    "    # 'nodata': None, # Uncomment and set this if your array has a specific nodata value\n",
    "})\n",
    "\n",
    "# Write the array to a new TIFF file using the copied+updated metadata\n",
    "with rasterio.open(output_file_path, 'w', **out_meta) as dst:\n",
    "    dst.write(labels, 1)  # Writing your array as the first band"
   ]
  },
  {
   "cell_type": "code",
   "execution_count": null,
   "id": "3f212436",
   "metadata": {},
   "outputs": [],
   "source": []
  }
 ],
 "metadata": {
  "kernelspec": {
   "display_name": "wenqu_gpu",
   "language": "python",
   "name": "wenqu_gpu"
  },
  "language_info": {
   "codemirror_mode": {
    "name": "ipython",
    "version": 3
   },
   "file_extension": ".py",
   "mimetype": "text/x-python",
   "name": "python",
   "nbconvert_exporter": "python",
   "pygments_lexer": "ipython3",
   "version": "3.9.15"
  }
 },
 "nbformat": 4,
 "nbformat_minor": 5
}
