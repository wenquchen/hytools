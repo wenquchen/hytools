{
 "cells": [
  {
   "cell_type": "code",
   "execution_count": 1,
   "id": "d41f9f4a",
   "metadata": {},
   "outputs": [],
   "source": [
    "from osgeo import gdal"
   ]
  },
  {
   "cell_type": "code",
   "execution_count": 2,
   "id": "54f900d9",
   "metadata": {},
   "outputs": [],
   "source": [
    "input_tif = r'C:/Headwall/dem/site2c_dem_update1.tif'\n",
    "# input_raster = gdal.Open(filename)\n",
    "out_tif = r'C:/Headwall/dem/site2c_dem_update1_proj.tif'"
   ]
  },
  {
   "cell_type": "code",
   "execution_count": 3,
   "id": "fa100b9b",
   "metadata": {},
   "outputs": [],
   "source": [
    "intermediate_format = \"GTiff\"\n",
    "dst_proj = 'EPSG:4326'\n"
   ]
  },
  {
   "cell_type": "code",
   "execution_count": 4,
   "id": "ad0a765d",
   "metadata": {},
   "outputs": [],
   "source": [
    "dst1_ds = gdal.Warp(srcDSOrSrcDSTab = input_tif,destNameOrDestDS=out_tif, dstSRS=dst_proj,\n",
    "                        format=intermediate_format)"
   ]
  },
  {
   "cell_type": "code",
   "execution_count": null,
   "id": "df7b1c38",
   "metadata": {},
   "outputs": [],
   "source": []
  }
 ],
 "metadata": {
  "kernelspec": {
   "display_name": "wenqu_gdal",
   "language": "python",
   "name": "wenqu_gdal"
  },
  "language_info": {
   "codemirror_mode": {
    "name": "ipython",
    "version": 3
   },
   "file_extension": ".py",
   "mimetype": "text/x-python",
   "name": "python",
   "nbconvert_exporter": "python",
   "pygments_lexer": "ipython3",
   "version": "3.9.15"
  }
 },
 "nbformat": 4,
 "nbformat_minor": 5
}
