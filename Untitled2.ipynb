{
 "cells": [
  {
   "cell_type": "code",
   "execution_count": 20,
   "id": "e925b94d",
   "metadata": {},
   "outputs": [],
   "source": [
    "keep_file = ['site6_b123_mean_site6_10_45.tif', 'site6_b123_mean_site6_10_46.tif', 'site6_b123_mean_site6_10_47.tif', 'site6_b123_mean_site6_10_48.tif', 'site6_b123_mean_site6_10_49.tif', 'site6_b123_mean_site6_11_44.tif', 'site6_b123_mean_site6_11_45.tif', 'site6_b123_mean_site6_11_46.tif', 'site6_b123_mean_site6_11_47.tif', 'site6_b123_mean_site6_11_48.tif', 'site6_b123_mean_site6_12_43.tif', 'site6_b123_mean_site6_12_44.tif', 'site6_b123_mean_site6_12_45.tif', 'site6_b123_mean_site6_12_46.tif', 'site6_b123_mean_site6_12_47.tif', 'site6_b123_mean_site6_13_42.tif', 'site6_b123_mean_site6_13_43.tif', 'site6_b123_mean_site6_13_44.tif', 'site6_b123_mean_site6_13_45.tif', 'site6_b123_mean_site6_13_46.tif', 'site6_b123_mean_site6_14_41.tif', 'site6_b123_mean_site6_14_42.tif', 'site6_b123_mean_site6_14_43.tif', 'site6_b123_mean_site6_14_44.tif', 'site6_b123_mean_site6_14_45.tif', 'site6_b123_mean_site6_15_40.tif', 'site6_b123_mean_site6_15_41.tif', 'site6_b123_mean_site6_15_42.tif', 'site6_b123_mean_site6_15_43.tif', 'site6_b123_mean_site6_15_44.tif', 'site6_b123_mean_site6_16_40.tif', 'site6_b123_mean_site6_16_41.tif', 'site6_b123_mean_site6_16_42.tif', 'site6_b123_mean_site6_16_43.tif', 'site6_b123_mean_site6_17_41.tif', 'site6_b123_mean_site6_17_42.tif', 'site6_b123_mean_site6_18_37.tif', 'site6_b123_mean_site6_18_41.tif', 'site6_b123_mean_site6_19_36.tif', 'site6_b123_mean_site6_19_37.tif', 'site6_b123_mean_site6_1_53.tif', 'site6_b123_mean_site6_1_54.tif', 'site6_b123_mean_site6_20_35.tif', 'site6_b123_mean_site6_20_36.tif', 'site6_b123_mean_site6_20_37.tif', 'site6_b123_mean_site6_20_38.tif', 'site6_b123_mean_site6_21_34.tif', 'site6_b123_mean_site6_21_35.tif', 'site6_b123_mean_site6_21_36.tif', 'site6_b123_mean_site6_21_37.tif', 'site6_b123_mean_site6_21_38.tif', 'site6_b123_mean_site6_22_33.tif', 'site6_b123_mean_site6_22_34.tif', 'site6_b123_mean_site6_22_35.tif', 'site6_b123_mean_site6_22_36.tif', 'site6_b123_mean_site6_22_37.tif', 'site6_b123_mean_site6_22_38.tif', 'site6_b123_mean_site6_22_39.tif', 'site6_b123_mean_site6_23_32.tif', 'site6_b123_mean_site6_23_33.tif', 'site6_b123_mean_site6_23_34.tif', 'site6_b123_mean_site6_23_35.tif', 'site6_b123_mean_site6_23_36.tif', 'site6_b123_mean_site6_23_37.tif', 'site6_b123_mean_site6_23_38.tif', 'site6_b123_mean_site6_24_31.tif', 'site6_b123_mean_site6_24_32.tif', 'site6_b123_mean_site6_24_33.tif', 'site6_b123_mean_site6_24_34.tif', 'site6_b123_mean_site6_24_35.tif', 'site6_b123_mean_site6_24_36.tif', 'site6_b123_mean_site6_24_37.tif', 'site6_b123_mean_site6_25_31.tif', 'site6_b123_mean_site6_25_32.tif', 'site6_b123_mean_site6_25_33.tif', 'site6_b123_mean_site6_25_34.tif', 'site6_b123_mean_site6_25_35.tif', 'site6_b123_mean_site6_25_36.tif', 'site6_b123_mean_site6_25_37.tif', 'site6_b123_mean_site6_26_30.tif', 'site6_b123_mean_site6_26_31.tif', 'site6_b123_mean_site6_26_32.tif', 'site6_b123_mean_site6_26_33.tif', 'site6_b123_mean_site6_26_34.tif', 'site6_b123_mean_site6_26_35.tif', 'site6_b123_mean_site6_26_36.tif', 'site6_b123_mean_site6_27_30.tif', 'site6_b123_mean_site6_27_31.tif', 'site6_b123_mean_site6_27_32.tif', 'site6_b123_mean_site6_27_33.tif', 'site6_b123_mean_site6_27_34.tif', 'site6_b123_mean_site6_27_35.tif', 'site6_b123_mean_site6_28_30.tif', 'site6_b123_mean_site6_28_31.tif', 'site6_b123_mean_site6_28_32.tif', 'site6_b123_mean_site6_28_33.tif', 'site6_b123_mean_site6_28_34.tif', 'site6_b123_mean_site6_29_30.tif', 'site6_b123_mean_site6_29_31.tif', 'site6_b123_mean_site6_29_32.tif', 'site6_b123_mean_site6_2_53.tif', 'site6_b123_mean_site6_2_54.tif', 'site6_b123_mean_site6_30_28.tif', 'site6_b123_mean_site6_30_29.tif', 'site6_b123_mean_site6_30_30.tif', 'site6_b123_mean_site6_30_31.tif', 'site6_b123_mean_site6_30_32.tif', 'site6_b123_mean_site6_31_28.tif', 'site6_b123_mean_site6_31_29.tif', 'site6_b123_mean_site6_31_30.tif', 'site6_b123_mean_site6_31_31.tif', 'site6_b123_mean_site6_32_27.tif', 'site6_b123_mean_site6_32_28.tif', 'site6_b123_mean_site6_32_29.tif', 'site6_b123_mean_site6_32_30.tif', 'site6_b123_mean_site6_33_26.tif', 'site6_b123_mean_site6_33_27.tif', 'site6_b123_mean_site6_33_28.tif', 'site6_b123_mean_site6_33_29.tif', 'site6_b123_mean_site6_34_25.tif', 'site6_b123_mean_site6_34_26.tif', 'site6_b123_mean_site6_34_27.tif', 'site6_b123_mean_site6_34_28.tif', 'site6_b123_mean_site6_35_24.tif', 'site6_b123_mean_site6_35_25.tif', 'site6_b123_mean_site6_35_26.tif', 'site6_b123_mean_site6_35_27.tif', 'site6_b123_mean_site6_35_28.tif', 'site6_b123_mean_site6_36_23.tif', 'site6_b123_mean_site6_36_24.tif', 'site6_b123_mean_site6_36_25.tif', 'site6_b123_mean_site6_36_26.tif', 'site6_b123_mean_site6_36_27.tif', 'site6_b123_mean_site6_37_22.tif', 'site6_b123_mean_site6_37_23.tif', 'site6_b123_mean_site6_37_24.tif', 'site6_b123_mean_site6_37_25.tif', 'site6_b123_mean_site6_37_26.tif', 'site6_b123_mean_site6_38_21.tif', 'site6_b123_mean_site6_38_22.tif', 'site6_b123_mean_site6_38_23.tif', 'site6_b123_mean_site6_38_24.tif', 'site6_b123_mean_site6_38_25.tif', 'site6_b123_mean_site6_39_20.tif', 'site6_b123_mean_site6_39_21.tif', 'site6_b123_mean_site6_39_22.tif', 'site6_b123_mean_site6_39_23.tif', 'site6_b123_mean_site6_39_24.tif', 'site6_b123_mean_site6_3_52.tif', 'site6_b123_mean_site6_3_53.tif', 'site6_b123_mean_site6_3_54.tif', 'site6_b123_mean_site6_3_55.tif', 'site6_b123_mean_site6_40_19.tif', 'site6_b123_mean_site6_40_20.tif', 'site6_b123_mean_site6_40_21.tif', 'site6_b123_mean_site6_40_22.tif', 'site6_b123_mean_site6_40_23.tif', 'site6_b123_mean_site6_40_24.tif', 'site6_b123_mean_site6_41_18.tif', 'site6_b123_mean_site6_41_19.tif', 'site6_b123_mean_site6_41_20.tif', 'site6_b123_mean_site6_41_21.tif', 'site6_b123_mean_site6_41_22.tif', 'site6_b123_mean_site6_41_23.tif', 'site6_b123_mean_site6_41_24.tif', 'site6_b123_mean_site6_41_25.tif', 'site6_b123_mean_site6_42_18.tif', 'site6_b123_mean_site6_42_19.tif', 'site6_b123_mean_site6_42_20.tif', 'site6_b123_mean_site6_42_21.tif', 'site6_b123_mean_site6_42_22.tif', 'site6_b123_mean_site6_42_23.tif', 'site6_b123_mean_site6_42_24.tif', 'site6_b123_mean_site6_42_25.tif', 'site6_b123_mean_site6_43_16.tif', 'site6_b123_mean_site6_43_17.tif', 'site6_b123_mean_site6_43_18.tif', 'site6_b123_mean_site6_43_19.tif', 'site6_b123_mean_site6_43_20.tif', 'site6_b123_mean_site6_43_21.tif', 'site6_b123_mean_site6_43_22.tif', 'site6_b123_mean_site6_43_23.tif', 'site6_b123_mean_site6_43_24.tif', 'site6_b123_mean_site6_44_16.tif', 'site6_b123_mean_site6_44_17.tif', 'site6_b123_mean_site6_44_18.tif', 'site6_b123_mean_site6_44_19.tif', 'site6_b123_mean_site6_44_20.tif', 'site6_b123_mean_site6_44_21.tif', 'site6_b123_mean_site6_44_22.tif', 'site6_b123_mean_site6_44_23.tif', 'site6_b123_mean_site6_45_15.tif', 'site6_b123_mean_site6_45_16.tif', 'site6_b123_mean_site6_45_17.tif', 'site6_b123_mean_site6_45_18.tif', 'site6_b123_mean_site6_45_19.tif', 'site6_b123_mean_site6_45_20.tif', 'site6_b123_mean_site6_45_21.tif', 'site6_b123_mean_site6_45_22.tif', 'site6_b123_mean_site6_46_14.tif', 'site6_b123_mean_site6_46_15.tif', 'site6_b123_mean_site6_46_16.tif', 'site6_b123_mean_site6_46_17.tif', 'site6_b123_mean_site6_46_18.tif', 'site6_b123_mean_site6_46_19.tif', 'site6_b123_mean_site6_46_20.tif', 'site6_b123_mean_site6_46_21.tif', 'site6_b123_mean_site6_47_13.tif', 'site6_b123_mean_site6_47_14.tif', 'site6_b123_mean_site6_47_15.tif', 'site6_b123_mean_site6_47_16.tif', 'site6_b123_mean_site6_47_17.tif', 'site6_b123_mean_site6_47_18.tif', 'site6_b123_mean_site6_47_19.tif', 'site6_b123_mean_site6_47_20.tif', 'site6_b123_mean_site6_48_12.tif', 'site6_b123_mean_site6_48_13.tif', 'site6_b123_mean_site6_48_14.tif', 'site6_b123_mean_site6_48_15.tif', 'site6_b123_mean_site6_48_16.tif', 'site6_b123_mean_site6_48_17.tif', 'site6_b123_mean_site6_48_18.tif', 'site6_b123_mean_site6_48_19.tif', 'site6_b123_mean_site6_49_11.tif', 'site6_b123_mean_site6_49_12.tif', 'site6_b123_mean_site6_49_13.tif', 'site6_b123_mean_site6_49_14.tif', 'site6_b123_mean_site6_49_15.tif', 'site6_b123_mean_site6_49_16.tif', 'site6_b123_mean_site6_49_17.tif', 'site6_b123_mean_site6_49_18.tif', 'site6_b123_mean_site6_49_19.tif', 'site6_b123_mean_site6_4_51.tif', 'site6_b123_mean_site6_4_52.tif', 'site6_b123_mean_site6_4_53.tif', 'site6_b123_mean_site6_4_54.tif', 'site6_b123_mean_site6_50_10.tif', 'site6_b123_mean_site6_50_11.tif', 'site6_b123_mean_site6_50_12.tif', 'site6_b123_mean_site6_50_13.tif', 'site6_b123_mean_site6_50_14.tif', 'site6_b123_mean_site6_50_15.tif', 'site6_b123_mean_site6_50_16.tif', 'site6_b123_mean_site6_50_17.tif', 'site6_b123_mean_site6_50_18.tif', 'site6_b123_mean_site6_51_10.tif', 'site6_b123_mean_site6_51_11.tif', 'site6_b123_mean_site6_51_12.tif', 'site6_b123_mean_site6_51_13.tif', 'site6_b123_mean_site6_51_14.tif', 'site6_b123_mean_site6_51_15.tif', 'site6_b123_mean_site6_51_16.tif', 'site6_b123_mean_site6_51_17.tif', 'site6_b123_mean_site6_51_9.tif', 'site6_b123_mean_site6_52_10.tif', 'site6_b123_mean_site6_52_11.tif', 'site6_b123_mean_site6_52_12.tif', 'site6_b123_mean_site6_52_13.tif', 'site6_b123_mean_site6_52_14.tif', 'site6_b123_mean_site6_52_15.tif', 'site6_b123_mean_site6_52_16.tif', 'site6_b123_mean_site6_52_8.tif', 'site6_b123_mean_site6_52_9.tif', 'site6_b123_mean_site6_53_10.tif', 'site6_b123_mean_site6_53_11.tif', 'site6_b123_mean_site6_53_12.tif', 'site6_b123_mean_site6_53_13.tif', 'site6_b123_mean_site6_53_14.tif', 'site6_b123_mean_site6_53_15.tif', 'site6_b123_mean_site6_53_7.tif', 'site6_b123_mean_site6_53_8.tif', 'site6_b123_mean_site6_53_9.tif', 'site6_b123_mean_site6_54_10.tif', 'site6_b123_mean_site6_54_11.tif', 'site6_b123_mean_site6_54_12.tif', 'site6_b123_mean_site6_54_13.tif', 'site6_b123_mean_site6_54_14.tif', 'site6_b123_mean_site6_54_7.tif', 'site6_b123_mean_site6_54_8.tif', 'site6_b123_mean_site6_54_9.tif', 'site6_b123_mean_site6_55_10.tif', 'site6_b123_mean_site6_55_11.tif', 'site6_b123_mean_site6_55_12.tif', 'site6_b123_mean_site6_55_13.tif', 'site6_b123_mean_site6_55_7.tif', 'site6_b123_mean_site6_55_8.tif', 'site6_b123_mean_site6_55_9.tif', 'site6_b123_mean_site6_56_10.tif', 'site6_b123_mean_site6_56_11.tif', 'site6_b123_mean_site6_56_12.tif', 'site6_b123_mean_site6_56_8.tif', 'site6_b123_mean_site6_56_9.tif', 'site6_b123_mean_site6_57_10.tif', 'site6_b123_mean_site6_57_11.tif', 'site6_b123_mean_site6_57_9.tif', 'site6_b123_mean_site6_58_10.tif', 'site6_b123_mean_site6_5_50.tif', 'site6_b123_mean_site6_5_51.tif', 'site6_b123_mean_site6_5_52.tif', 'site6_b123_mean_site6_5_53.tif', 'site6_b123_mean_site6_6_49.tif', 'site6_b123_mean_site6_6_50.tif', 'site6_b123_mean_site6_6_51.tif', 'site6_b123_mean_site6_6_52.tif', 'site6_b123_mean_site6_7_48.tif', 'site6_b123_mean_site6_7_49.tif', 'site6_b123_mean_site6_7_50.tif', 'site6_b123_mean_site6_7_51.tif', 'site6_b123_mean_site6_8_47.tif', 'site6_b123_mean_site6_8_48.tif', 'site6_b123_mean_site6_8_49.tif', 'site6_b123_mean_site6_8_50.tif', 'site6_b123_mean_site6_8_51.tif', 'site6_b123_mean_site6_9_46.tif', 'site6_b123_mean_site6_9_47.tif', 'site6_b123_mean_site6_9_48.tif', 'site6_b123_mean_site6_9_49.tif', 'site6_b123_mean_site6_9_50.tif']\n"
   ]
  },
  {
   "cell_type": "code",
   "execution_count": 21,
   "id": "90bbc9f8",
   "metadata": {},
   "outputs": [
    {
     "name": "stdout",
     "output_type": "stream",
     "text": [
      "680 51 629\n"
     ]
    }
   ],
   "source": [
    "import os\n",
    "from osgeo import gdal,ogr,osr\n",
    "folder_path = r\"E:\\wenqu\\chm\\clipped\\site6_b123_mean\"\n",
    "extension = \".tif\"\n",
    "all_file = []\n",
    "keep_file_name1 = []\n",
    "del_file_name1 = []\n",
    "\n",
    "for filename in os.listdir(folder_path):\n",
    "    # Check if the current item is a file\n",
    "    if filename.endswith(extension) and os.path.isfile(os.path.join(folder_path, filename)):\n",
    "        all_file.append(filename)\n",
    "        if filename in keep_file:\n",
    "            keep_file_name1.append(filename)\n",
    "        else:\n",
    "            del_file_name1.append(filename)\n",
    "        \n",
    "    \n",
    "\n",
    "print(len(all_file), len(keep_file_name1), len(del_file_name1))"
   ]
  },
  {
   "cell_type": "code",
   "execution_count": 19,
   "id": "ca41be65",
   "metadata": {},
   "outputs": [],
   "source": [
    "for filename in os.listdir(folder_path):\n",
    "    # Check if the file has the desired extension\n",
    "    if filename in del_file_name1:\n",
    "        # Create the file path and remove the file\n",
    "        file_path = os.path.join(folder_path, filename)\n",
    "        os.remove(file_path) "
   ]
  },
  {
   "cell_type": "code",
   "execution_count": null,
   "id": "72b701a0",
   "metadata": {},
   "outputs": [],
   "source": []
  }
 ],
 "metadata": {
  "kernelspec": {
   "display_name": "Python 3 (ipykernel)",
   "language": "python",
   "name": "python3"
  },
  "language_info": {
   "codemirror_mode": {
    "name": "ipython",
    "version": 3
   },
   "file_extension": ".py",
   "mimetype": "text/x-python",
   "name": "python",
   "nbconvert_exporter": "python",
   "pygments_lexer": "ipython3",
   "version": "3.9.15"
  }
 },
 "nbformat": 4,
 "nbformat_minor": 5
}
