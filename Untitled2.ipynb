{
 "cells": [
  {
   "cell_type": "code",
<<<<<<< HEAD
   "execution_count": 20,
   "id": "e925b94d",
   "metadata": {},
   "outputs": [],
   "source": [
    "keep_file = ['site6_b123_mean_site6_10_45.tif', 'site6_b123_mean_site6_10_46.tif', 'site6_b123_mean_site6_10_47.tif', 'site6_b123_mean_site6_10_48.tif', 'site6_b123_mean_site6_10_49.tif', 'site6_b123_mean_site6_11_44.tif', 'site6_b123_mean_site6_11_45.tif', 'site6_b123_mean_site6_11_46.tif', 'site6_b123_mean_site6_11_47.tif', 'site6_b123_mean_site6_11_48.tif', 'site6_b123_mean_site6_12_43.tif', 'site6_b123_mean_site6_12_44.tif', 'site6_b123_mean_site6_12_45.tif', 'site6_b123_mean_site6_12_46.tif', 'site6_b123_mean_site6_12_47.tif', 'site6_b123_mean_site6_13_42.tif', 'site6_b123_mean_site6_13_43.tif', 'site6_b123_mean_site6_13_44.tif', 'site6_b123_mean_site6_13_45.tif', 'site6_b123_mean_site6_13_46.tif', 'site6_b123_mean_site6_14_41.tif', 'site6_b123_mean_site6_14_42.tif', 'site6_b123_mean_site6_14_43.tif', 'site6_b123_mean_site6_14_44.tif', 'site6_b123_mean_site6_14_45.tif', 'site6_b123_mean_site6_15_40.tif', 'site6_b123_mean_site6_15_41.tif', 'site6_b123_mean_site6_15_42.tif', 'site6_b123_mean_site6_15_43.tif', 'site6_b123_mean_site6_15_44.tif', 'site6_b123_mean_site6_16_40.tif', 'site6_b123_mean_site6_16_41.tif', 'site6_b123_mean_site6_16_42.tif', 'site6_b123_mean_site6_16_43.tif', 'site6_b123_mean_site6_17_41.tif', 'site6_b123_mean_site6_17_42.tif', 'site6_b123_mean_site6_18_37.tif', 'site6_b123_mean_site6_18_41.tif', 'site6_b123_mean_site6_19_36.tif', 'site6_b123_mean_site6_19_37.tif', 'site6_b123_mean_site6_1_53.tif', 'site6_b123_mean_site6_1_54.tif', 'site6_b123_mean_site6_20_35.tif', 'site6_b123_mean_site6_20_36.tif', 'site6_b123_mean_site6_20_37.tif', 'site6_b123_mean_site6_20_38.tif', 'site6_b123_mean_site6_21_34.tif', 'site6_b123_mean_site6_21_35.tif', 'site6_b123_mean_site6_21_36.tif', 'site6_b123_mean_site6_21_37.tif', 'site6_b123_mean_site6_21_38.tif', 'site6_b123_mean_site6_22_33.tif', 'site6_b123_mean_site6_22_34.tif', 'site6_b123_mean_site6_22_35.tif', 'site6_b123_mean_site6_22_36.tif', 'site6_b123_mean_site6_22_37.tif', 'site6_b123_mean_site6_22_38.tif', 'site6_b123_mean_site6_22_39.tif', 'site6_b123_mean_site6_23_32.tif', 'site6_b123_mean_site6_23_33.tif', 'site6_b123_mean_site6_23_34.tif', 'site6_b123_mean_site6_23_35.tif', 'site6_b123_mean_site6_23_36.tif', 'site6_b123_mean_site6_23_37.tif', 'site6_b123_mean_site6_23_38.tif', 'site6_b123_mean_site6_24_31.tif', 'site6_b123_mean_site6_24_32.tif', 'site6_b123_mean_site6_24_33.tif', 'site6_b123_mean_site6_24_34.tif', 'site6_b123_mean_site6_24_35.tif', 'site6_b123_mean_site6_24_36.tif', 'site6_b123_mean_site6_24_37.tif', 'site6_b123_mean_site6_25_31.tif', 'site6_b123_mean_site6_25_32.tif', 'site6_b123_mean_site6_25_33.tif', 'site6_b123_mean_site6_25_34.tif', 'site6_b123_mean_site6_25_35.tif', 'site6_b123_mean_site6_25_36.tif', 'site6_b123_mean_site6_25_37.tif', 'site6_b123_mean_site6_26_30.tif', 'site6_b123_mean_site6_26_31.tif', 'site6_b123_mean_site6_26_32.tif', 'site6_b123_mean_site6_26_33.tif', 'site6_b123_mean_site6_26_34.tif', 'site6_b123_mean_site6_26_35.tif', 'site6_b123_mean_site6_26_36.tif', 'site6_b123_mean_site6_27_30.tif', 'site6_b123_mean_site6_27_31.tif', 'site6_b123_mean_site6_27_32.tif', 'site6_b123_mean_site6_27_33.tif', 'site6_b123_mean_site6_27_34.tif', 'site6_b123_mean_site6_27_35.tif', 'site6_b123_mean_site6_28_30.tif', 'site6_b123_mean_site6_28_31.tif', 'site6_b123_mean_site6_28_32.tif', 'site6_b123_mean_site6_28_33.tif', 'site6_b123_mean_site6_28_34.tif', 'site6_b123_mean_site6_29_30.tif', 'site6_b123_mean_site6_29_31.tif', 'site6_b123_mean_site6_29_32.tif', 'site6_b123_mean_site6_2_53.tif', 'site6_b123_mean_site6_2_54.tif', 'site6_b123_mean_site6_30_28.tif', 'site6_b123_mean_site6_30_29.tif', 'site6_b123_mean_site6_30_30.tif', 'site6_b123_mean_site6_30_31.tif', 'site6_b123_mean_site6_30_32.tif', 'site6_b123_mean_site6_31_28.tif', 'site6_b123_mean_site6_31_29.tif', 'site6_b123_mean_site6_31_30.tif', 'site6_b123_mean_site6_31_31.tif', 'site6_b123_mean_site6_32_27.tif', 'site6_b123_mean_site6_32_28.tif', 'site6_b123_mean_site6_32_29.tif', 'site6_b123_mean_site6_32_30.tif', 'site6_b123_mean_site6_33_26.tif', 'site6_b123_mean_site6_33_27.tif', 'site6_b123_mean_site6_33_28.tif', 'site6_b123_mean_site6_33_29.tif', 'site6_b123_mean_site6_34_25.tif', 'site6_b123_mean_site6_34_26.tif', 'site6_b123_mean_site6_34_27.tif', 'site6_b123_mean_site6_34_28.tif', 'site6_b123_mean_site6_35_24.tif', 'site6_b123_mean_site6_35_25.tif', 'site6_b123_mean_site6_35_26.tif', 'site6_b123_mean_site6_35_27.tif', 'site6_b123_mean_site6_35_28.tif', 'site6_b123_mean_site6_36_23.tif', 'site6_b123_mean_site6_36_24.tif', 'site6_b123_mean_site6_36_25.tif', 'site6_b123_mean_site6_36_26.tif', 'site6_b123_mean_site6_36_27.tif', 'site6_b123_mean_site6_37_22.tif', 'site6_b123_mean_site6_37_23.tif', 'site6_b123_mean_site6_37_24.tif', 'site6_b123_mean_site6_37_25.tif', 'site6_b123_mean_site6_37_26.tif', 'site6_b123_mean_site6_38_21.tif', 'site6_b123_mean_site6_38_22.tif', 'site6_b123_mean_site6_38_23.tif', 'site6_b123_mean_site6_38_24.tif', 'site6_b123_mean_site6_38_25.tif', 'site6_b123_mean_site6_39_20.tif', 'site6_b123_mean_site6_39_21.tif', 'site6_b123_mean_site6_39_22.tif', 'site6_b123_mean_site6_39_23.tif', 'site6_b123_mean_site6_39_24.tif', 'site6_b123_mean_site6_3_52.tif', 'site6_b123_mean_site6_3_53.tif', 'site6_b123_mean_site6_3_54.tif', 'site6_b123_mean_site6_3_55.tif', 'site6_b123_mean_site6_40_19.tif', 'site6_b123_mean_site6_40_20.tif', 'site6_b123_mean_site6_40_21.tif', 'site6_b123_mean_site6_40_22.tif', 'site6_b123_mean_site6_40_23.tif', 'site6_b123_mean_site6_40_24.tif', 'site6_b123_mean_site6_41_18.tif', 'site6_b123_mean_site6_41_19.tif', 'site6_b123_mean_site6_41_20.tif', 'site6_b123_mean_site6_41_21.tif', 'site6_b123_mean_site6_41_22.tif', 'site6_b123_mean_site6_41_23.tif', 'site6_b123_mean_site6_41_24.tif', 'site6_b123_mean_site6_41_25.tif', 'site6_b123_mean_site6_42_18.tif', 'site6_b123_mean_site6_42_19.tif', 'site6_b123_mean_site6_42_20.tif', 'site6_b123_mean_site6_42_21.tif', 'site6_b123_mean_site6_42_22.tif', 'site6_b123_mean_site6_42_23.tif', 'site6_b123_mean_site6_42_24.tif', 'site6_b123_mean_site6_42_25.tif', 'site6_b123_mean_site6_43_16.tif', 'site6_b123_mean_site6_43_17.tif', 'site6_b123_mean_site6_43_18.tif', 'site6_b123_mean_site6_43_19.tif', 'site6_b123_mean_site6_43_20.tif', 'site6_b123_mean_site6_43_21.tif', 'site6_b123_mean_site6_43_22.tif', 'site6_b123_mean_site6_43_23.tif', 'site6_b123_mean_site6_43_24.tif', 'site6_b123_mean_site6_44_16.tif', 'site6_b123_mean_site6_44_17.tif', 'site6_b123_mean_site6_44_18.tif', 'site6_b123_mean_site6_44_19.tif', 'site6_b123_mean_site6_44_20.tif', 'site6_b123_mean_site6_44_21.tif', 'site6_b123_mean_site6_44_22.tif', 'site6_b123_mean_site6_44_23.tif', 'site6_b123_mean_site6_45_15.tif', 'site6_b123_mean_site6_45_16.tif', 'site6_b123_mean_site6_45_17.tif', 'site6_b123_mean_site6_45_18.tif', 'site6_b123_mean_site6_45_19.tif', 'site6_b123_mean_site6_45_20.tif', 'site6_b123_mean_site6_45_21.tif', 'site6_b123_mean_site6_45_22.tif', 'site6_b123_mean_site6_46_14.tif', 'site6_b123_mean_site6_46_15.tif', 'site6_b123_mean_site6_46_16.tif', 'site6_b123_mean_site6_46_17.tif', 'site6_b123_mean_site6_46_18.tif', 'site6_b123_mean_site6_46_19.tif', 'site6_b123_mean_site6_46_20.tif', 'site6_b123_mean_site6_46_21.tif', 'site6_b123_mean_site6_47_13.tif', 'site6_b123_mean_site6_47_14.tif', 'site6_b123_mean_site6_47_15.tif', 'site6_b123_mean_site6_47_16.tif', 'site6_b123_mean_site6_47_17.tif', 'site6_b123_mean_site6_47_18.tif', 'site6_b123_mean_site6_47_19.tif', 'site6_b123_mean_site6_47_20.tif', 'site6_b123_mean_site6_48_12.tif', 'site6_b123_mean_site6_48_13.tif', 'site6_b123_mean_site6_48_14.tif', 'site6_b123_mean_site6_48_15.tif', 'site6_b123_mean_site6_48_16.tif', 'site6_b123_mean_site6_48_17.tif', 'site6_b123_mean_site6_48_18.tif', 'site6_b123_mean_site6_48_19.tif', 'site6_b123_mean_site6_49_11.tif', 'site6_b123_mean_site6_49_12.tif', 'site6_b123_mean_site6_49_13.tif', 'site6_b123_mean_site6_49_14.tif', 'site6_b123_mean_site6_49_15.tif', 'site6_b123_mean_site6_49_16.tif', 'site6_b123_mean_site6_49_17.tif', 'site6_b123_mean_site6_49_18.tif', 'site6_b123_mean_site6_49_19.tif', 'site6_b123_mean_site6_4_51.tif', 'site6_b123_mean_site6_4_52.tif', 'site6_b123_mean_site6_4_53.tif', 'site6_b123_mean_site6_4_54.tif', 'site6_b123_mean_site6_50_10.tif', 'site6_b123_mean_site6_50_11.tif', 'site6_b123_mean_site6_50_12.tif', 'site6_b123_mean_site6_50_13.tif', 'site6_b123_mean_site6_50_14.tif', 'site6_b123_mean_site6_50_15.tif', 'site6_b123_mean_site6_50_16.tif', 'site6_b123_mean_site6_50_17.tif', 'site6_b123_mean_site6_50_18.tif', 'site6_b123_mean_site6_51_10.tif', 'site6_b123_mean_site6_51_11.tif', 'site6_b123_mean_site6_51_12.tif', 'site6_b123_mean_site6_51_13.tif', 'site6_b123_mean_site6_51_14.tif', 'site6_b123_mean_site6_51_15.tif', 'site6_b123_mean_site6_51_16.tif', 'site6_b123_mean_site6_51_17.tif', 'site6_b123_mean_site6_51_9.tif', 'site6_b123_mean_site6_52_10.tif', 'site6_b123_mean_site6_52_11.tif', 'site6_b123_mean_site6_52_12.tif', 'site6_b123_mean_site6_52_13.tif', 'site6_b123_mean_site6_52_14.tif', 'site6_b123_mean_site6_52_15.tif', 'site6_b123_mean_site6_52_16.tif', 'site6_b123_mean_site6_52_8.tif', 'site6_b123_mean_site6_52_9.tif', 'site6_b123_mean_site6_53_10.tif', 'site6_b123_mean_site6_53_11.tif', 'site6_b123_mean_site6_53_12.tif', 'site6_b123_mean_site6_53_13.tif', 'site6_b123_mean_site6_53_14.tif', 'site6_b123_mean_site6_53_15.tif', 'site6_b123_mean_site6_53_7.tif', 'site6_b123_mean_site6_53_8.tif', 'site6_b123_mean_site6_53_9.tif', 'site6_b123_mean_site6_54_10.tif', 'site6_b123_mean_site6_54_11.tif', 'site6_b123_mean_site6_54_12.tif', 'site6_b123_mean_site6_54_13.tif', 'site6_b123_mean_site6_54_14.tif', 'site6_b123_mean_site6_54_7.tif', 'site6_b123_mean_site6_54_8.tif', 'site6_b123_mean_site6_54_9.tif', 'site6_b123_mean_site6_55_10.tif', 'site6_b123_mean_site6_55_11.tif', 'site6_b123_mean_site6_55_12.tif', 'site6_b123_mean_site6_55_13.tif', 'site6_b123_mean_site6_55_7.tif', 'site6_b123_mean_site6_55_8.tif', 'site6_b123_mean_site6_55_9.tif', 'site6_b123_mean_site6_56_10.tif', 'site6_b123_mean_site6_56_11.tif', 'site6_b123_mean_site6_56_12.tif', 'site6_b123_mean_site6_56_8.tif', 'site6_b123_mean_site6_56_9.tif', 'site6_b123_mean_site6_57_10.tif', 'site6_b123_mean_site6_57_11.tif', 'site6_b123_mean_site6_57_9.tif', 'site6_b123_mean_site6_58_10.tif', 'site6_b123_mean_site6_5_50.tif', 'site6_b123_mean_site6_5_51.tif', 'site6_b123_mean_site6_5_52.tif', 'site6_b123_mean_site6_5_53.tif', 'site6_b123_mean_site6_6_49.tif', 'site6_b123_mean_site6_6_50.tif', 'site6_b123_mean_site6_6_51.tif', 'site6_b123_mean_site6_6_52.tif', 'site6_b123_mean_site6_7_48.tif', 'site6_b123_mean_site6_7_49.tif', 'site6_b123_mean_site6_7_50.tif', 'site6_b123_mean_site6_7_51.tif', 'site6_b123_mean_site6_8_47.tif', 'site6_b123_mean_site6_8_48.tif', 'site6_b123_mean_site6_8_49.tif', 'site6_b123_mean_site6_8_50.tif', 'site6_b123_mean_site6_8_51.tif', 'site6_b123_mean_site6_9_46.tif', 'site6_b123_mean_site6_9_47.tif', 'site6_b123_mean_site6_9_48.tif', 'site6_b123_mean_site6_9_49.tif', 'site6_b123_mean_site6_9_50.tif']\n"
=======
   "execution_count": 1,
   "id": "a95bfd6e",
   "metadata": {},
   "outputs": [],
   "source": [
    "import numpy as np\n",
    "import pandas as pd\n",
    "import matplotlib.pyplot as plt\n",
    "from sklearn.preprocessing import scale \n",
    "from sklearn import model_selection\n",
    "from sklearn.model_selection import RepeatedKFold\n",
    "from sklearn.model_selection import train_test_split\n",
    "from sklearn.cross_decomposition import PLSRegression\n",
    "from sklearn.metrics import mean_squared_error\n",
    "from sklearn import model_selection\n",
    "from sklearn.model_selection import train_test_split, cross_val_score, cross_val_predict\n",
    "from sys import stdout\n",
    "import numpy as np\n",
    "import pandas as pd\n",
    "import matplotlib.pyplot as plt\n",
    "from osgeo import gdal,ogr,osr\n",
    "from scipy.signal import savgol_filter\n",
    "from scipy.stats import pearsonr\n",
    "from sklearn.cross_decomposition import PLSRegression\n",
    "from sklearn.model_selection import cross_val_predict\n",
    "from sklearn.metrics import mean_squared_error, r2_score\n",
    "import numpy as np\n",
    "import matplotlib.pyplot as plt\n",
    "import seaborn as sns\n",
    "from scipy.optimize import curve_fit\n",
    "import pandas as pd\n",
    "from osgeo import gdal,ogr,osr\n",
    "from scipy import stats\n",
    "from scipy.optimize import curve_fit\n",
    "from scipy import asarray as ar,exp\n",
    "import numpy as np\n",
    "from scipy.stats import gaussian_kde\n",
    "import matplotlib.pyplot as plt\n",
    "\n",
    "import os"
>>>>>>> 06bdfaaeba5f3df270b026566152abb58b2f84a1
   ]
  },
  {
   "cell_type": "code",
<<<<<<< HEAD
   "execution_count": 21,
   "id": "90bbc9f8",
=======
   "execution_count": 2,
   "id": "03529062",
   "metadata": {},
   "outputs": [
    {
     "data": {
      "text/html": [
       "<div>\n",
       "<style scoped>\n",
       "    .dataframe tbody tr th:only-of-type {\n",
       "        vertical-align: middle;\n",
       "    }\n",
       "\n",
       "    .dataframe tbody tr th {\n",
       "        vertical-align: top;\n",
       "    }\n",
       "\n",
       "    .dataframe thead th {\n",
       "        text-align: right;\n",
       "    }\n",
       "</style>\n",
       "<table border=\"1\" class=\"dataframe\">\n",
       "  <thead>\n",
       "    <tr style=\"text-align: right;\">\n",
       "      <th></th>\n",
       "      <th>file_name</th>\n",
       "      <th>band_1</th>\n",
       "      <th>band_2</th>\n",
       "      <th>band_3</th>\n",
       "      <th>band_4</th>\n",
       "      <th>band_5</th>\n",
       "      <th>band_6</th>\n",
       "      <th>band_7</th>\n",
       "      <th>band_8</th>\n",
       "      <th>band_9</th>\n",
       "      <th>...</th>\n",
       "      <th>band_416</th>\n",
       "      <th>band_417</th>\n",
       "      <th>band_418</th>\n",
       "      <th>band_419</th>\n",
       "      <th>band_420</th>\n",
       "      <th>band_421</th>\n",
       "      <th>band_422</th>\n",
       "      <th>band_423</th>\n",
       "      <th>band_424</th>\n",
       "      <th>band_425</th>\n",
       "    </tr>\n",
       "  </thead>\n",
       "  <tbody>\n",
       "    <tr>\n",
       "      <th>0</th>\n",
       "      <td>site1b_10_21.tif</td>\n",
       "      <td>0.004095</td>\n",
       "      <td>0.008366</td>\n",
       "      <td>0.011143</td>\n",
       "      <td>0.012064</td>\n",
       "      <td>0.014178</td>\n",
       "      <td>0.016157</td>\n",
       "      <td>0.019465</td>\n",
       "      <td>0.019648</td>\n",
       "      <td>0.021816</td>\n",
       "      <td>...</td>\n",
       "      <td>0.032876</td>\n",
       "      <td>0.031840</td>\n",
       "      <td>0.031030</td>\n",
       "      <td>0.032435</td>\n",
       "      <td>0.039850</td>\n",
       "      <td>0.046477</td>\n",
       "      <td>0.122873</td>\n",
       "      <td>0.289441</td>\n",
       "      <td>0.113001</td>\n",
       "      <td>0.091605</td>\n",
       "    </tr>\n",
       "    <tr>\n",
       "      <th>1</th>\n",
       "      <td>site1b_10_24.tif</td>\n",
       "      <td>0.010162</td>\n",
       "      <td>0.017987</td>\n",
       "      <td>0.010830</td>\n",
       "      <td>0.017021</td>\n",
       "      <td>0.017567</td>\n",
       "      <td>0.016379</td>\n",
       "      <td>0.019352</td>\n",
       "      <td>0.020424</td>\n",
       "      <td>0.023193</td>\n",
       "      <td>...</td>\n",
       "      <td>0.026392</td>\n",
       "      <td>0.027079</td>\n",
       "      <td>0.032499</td>\n",
       "      <td>0.035687</td>\n",
       "      <td>0.030389</td>\n",
       "      <td>0.067178</td>\n",
       "      <td>0.088952</td>\n",
       "      <td>0.144447</td>\n",
       "      <td>0.125137</td>\n",
       "      <td>0.064748</td>\n",
       "    </tr>\n",
       "    <tr>\n",
       "      <th>2</th>\n",
       "      <td>site1b_10_25.tif</td>\n",
       "      <td>0.006902</td>\n",
       "      <td>0.009180</td>\n",
       "      <td>0.011334</td>\n",
       "      <td>0.013874</td>\n",
       "      <td>0.017388</td>\n",
       "      <td>0.015369</td>\n",
       "      <td>0.017985</td>\n",
       "      <td>0.020031</td>\n",
       "      <td>0.023258</td>\n",
       "      <td>...</td>\n",
       "      <td>0.036849</td>\n",
       "      <td>0.027824</td>\n",
       "      <td>0.032534</td>\n",
       "      <td>0.039909</td>\n",
       "      <td>0.032636</td>\n",
       "      <td>0.055107</td>\n",
       "      <td>0.040646</td>\n",
       "      <td>0.173911</td>\n",
       "      <td>0.154935</td>\n",
       "      <td>0.074669</td>\n",
       "    </tr>\n",
       "    <tr>\n",
       "      <th>3</th>\n",
       "      <td>site1b_10_26.tif</td>\n",
       "      <td>0.005427</td>\n",
       "      <td>0.008547</td>\n",
       "      <td>0.010773</td>\n",
       "      <td>0.014396</td>\n",
       "      <td>0.014228</td>\n",
       "      <td>0.014790</td>\n",
       "      <td>0.017349</td>\n",
       "      <td>0.020693</td>\n",
       "      <td>0.022823</td>\n",
       "      <td>...</td>\n",
       "      <td>0.031407</td>\n",
       "      <td>0.031854</td>\n",
       "      <td>0.035131</td>\n",
       "      <td>0.037115</td>\n",
       "      <td>0.037787</td>\n",
       "      <td>0.051414</td>\n",
       "      <td>0.072393</td>\n",
       "      <td>0.287284</td>\n",
       "      <td>0.121171</td>\n",
       "      <td>0.080450</td>\n",
       "    </tr>\n",
       "    <tr>\n",
       "      <th>4</th>\n",
       "      <td>site1b_10_27.tif</td>\n",
       "      <td>0.010331</td>\n",
       "      <td>0.012824</td>\n",
       "      <td>0.012874</td>\n",
       "      <td>0.013316</td>\n",
       "      <td>0.016856</td>\n",
       "      <td>0.018601</td>\n",
       "      <td>0.019378</td>\n",
       "      <td>0.022326</td>\n",
       "      <td>0.022935</td>\n",
       "      <td>...</td>\n",
       "      <td>0.030785</td>\n",
       "      <td>0.026421</td>\n",
       "      <td>0.027614</td>\n",
       "      <td>0.036539</td>\n",
       "      <td>0.034287</td>\n",
       "      <td>0.051169</td>\n",
       "      <td>0.111973</td>\n",
       "      <td>0.171473</td>\n",
       "      <td>0.108602</td>\n",
       "      <td>0.083328</td>\n",
       "    </tr>\n",
       "    <tr>\n",
       "      <th>...</th>\n",
       "      <td>...</td>\n",
       "      <td>...</td>\n",
       "      <td>...</td>\n",
       "      <td>...</td>\n",
       "      <td>...</td>\n",
       "      <td>...</td>\n",
       "      <td>...</td>\n",
       "      <td>...</td>\n",
       "      <td>...</td>\n",
       "      <td>...</td>\n",
       "      <td>...</td>\n",
       "      <td>...</td>\n",
       "      <td>...</td>\n",
       "      <td>...</td>\n",
       "      <td>...</td>\n",
       "      <td>...</td>\n",
       "      <td>...</td>\n",
       "      <td>...</td>\n",
       "      <td>...</td>\n",
       "      <td>...</td>\n",
       "      <td>...</td>\n",
       "    </tr>\n",
       "    <tr>\n",
       "      <th>3773</th>\n",
       "      <td>site6_9_46.tif</td>\n",
       "      <td>0.020958</td>\n",
       "      <td>0.028175</td>\n",
       "      <td>0.030020</td>\n",
       "      <td>0.027983</td>\n",
       "      <td>0.031116</td>\n",
       "      <td>0.034196</td>\n",
       "      <td>0.038520</td>\n",
       "      <td>0.039035</td>\n",
       "      <td>0.042405</td>\n",
       "      <td>...</td>\n",
       "      <td>0.051245</td>\n",
       "      <td>0.051572</td>\n",
       "      <td>0.051813</td>\n",
       "      <td>0.057562</td>\n",
       "      <td>0.056179</td>\n",
       "      <td>0.093329</td>\n",
       "      <td>0.155301</td>\n",
       "      <td>0.283692</td>\n",
       "      <td>0.180007</td>\n",
       "      <td>0.110812</td>\n",
       "    </tr>\n",
       "    <tr>\n",
       "      <th>3774</th>\n",
       "      <td>site6_9_47.tif</td>\n",
       "      <td>0.022712</td>\n",
       "      <td>0.006665</td>\n",
       "      <td>0.019463</td>\n",
       "      <td>0.022887</td>\n",
       "      <td>0.025820</td>\n",
       "      <td>0.022491</td>\n",
       "      <td>0.030423</td>\n",
       "      <td>0.033696</td>\n",
       "      <td>0.033015</td>\n",
       "      <td>...</td>\n",
       "      <td>0.051442</td>\n",
       "      <td>0.053151</td>\n",
       "      <td>0.045314</td>\n",
       "      <td>0.052819</td>\n",
       "      <td>0.055230</td>\n",
       "      <td>0.043774</td>\n",
       "      <td>0.181314</td>\n",
       "      <td>0.360806</td>\n",
       "      <td>0.173530</td>\n",
       "      <td>0.103716</td>\n",
       "    </tr>\n",
       "    <tr>\n",
       "      <th>3775</th>\n",
       "      <td>site6_9_48.tif</td>\n",
       "      <td>0.016615</td>\n",
       "      <td>0.020760</td>\n",
       "      <td>0.019618</td>\n",
       "      <td>0.030285</td>\n",
       "      <td>0.025423</td>\n",
       "      <td>0.025332</td>\n",
       "      <td>0.033006</td>\n",
       "      <td>0.035026</td>\n",
       "      <td>0.035339</td>\n",
       "      <td>...</td>\n",
       "      <td>0.046409</td>\n",
       "      <td>0.051305</td>\n",
       "      <td>0.047055</td>\n",
       "      <td>0.053254</td>\n",
       "      <td>0.056633</td>\n",
       "      <td>0.068974</td>\n",
       "      <td>0.301976</td>\n",
       "      <td>0.358733</td>\n",
       "      <td>0.087249</td>\n",
       "      <td>0.126770</td>\n",
       "    </tr>\n",
       "    <tr>\n",
       "      <th>3776</th>\n",
       "      <td>site6_9_49.tif</td>\n",
       "      <td>0.013209</td>\n",
       "      <td>0.015268</td>\n",
       "      <td>0.023017</td>\n",
       "      <td>0.024952</td>\n",
       "      <td>0.025642</td>\n",
       "      <td>0.024366</td>\n",
       "      <td>0.029840</td>\n",
       "      <td>0.032103</td>\n",
       "      <td>0.032674</td>\n",
       "      <td>...</td>\n",
       "      <td>0.047220</td>\n",
       "      <td>0.042169</td>\n",
       "      <td>0.039191</td>\n",
       "      <td>0.042309</td>\n",
       "      <td>0.048218</td>\n",
       "      <td>0.044921</td>\n",
       "      <td>0.251921</td>\n",
       "      <td>0.378305</td>\n",
       "      <td>0.092269</td>\n",
       "      <td>0.103659</td>\n",
       "    </tr>\n",
       "    <tr>\n",
       "      <th>3777</th>\n",
       "      <td>site6_9_50.tif</td>\n",
       "      <td>0.025320</td>\n",
       "      <td>0.021847</td>\n",
       "      <td>0.019391</td>\n",
       "      <td>0.026490</td>\n",
       "      <td>0.030433</td>\n",
       "      <td>0.025699</td>\n",
       "      <td>0.032435</td>\n",
       "      <td>0.034243</td>\n",
       "      <td>0.034677</td>\n",
       "      <td>...</td>\n",
       "      <td>0.044072</td>\n",
       "      <td>0.041116</td>\n",
       "      <td>0.038680</td>\n",
       "      <td>0.050727</td>\n",
       "      <td>0.048332</td>\n",
       "      <td>0.040529</td>\n",
       "      <td>0.193278</td>\n",
       "      <td>0.232876</td>\n",
       "      <td>0.153402</td>\n",
       "      <td>0.083771</td>\n",
       "    </tr>\n",
       "  </tbody>\n",
       "</table>\n",
       "<p>3778 rows × 426 columns</p>\n",
       "</div>"
      ],
      "text/plain": [
       "             file_name    band_1    band_2    band_3    band_4    band_5  \\\n",
       "0     site1b_10_21.tif  0.004095  0.008366  0.011143  0.012064  0.014178   \n",
       "1     site1b_10_24.tif  0.010162  0.017987  0.010830  0.017021  0.017567   \n",
       "2     site1b_10_25.tif  0.006902  0.009180  0.011334  0.013874  0.017388   \n",
       "3     site1b_10_26.tif  0.005427  0.008547  0.010773  0.014396  0.014228   \n",
       "4     site1b_10_27.tif  0.010331  0.012824  0.012874  0.013316  0.016856   \n",
       "...                ...       ...       ...       ...       ...       ...   \n",
       "3773    site6_9_46.tif  0.020958  0.028175  0.030020  0.027983  0.031116   \n",
       "3774    site6_9_47.tif  0.022712  0.006665  0.019463  0.022887  0.025820   \n",
       "3775    site6_9_48.tif  0.016615  0.020760  0.019618  0.030285  0.025423   \n",
       "3776    site6_9_49.tif  0.013209  0.015268  0.023017  0.024952  0.025642   \n",
       "3777    site6_9_50.tif  0.025320  0.021847  0.019391  0.026490  0.030433   \n",
       "\n",
       "        band_6    band_7    band_8    band_9  ...  band_416  band_417  \\\n",
       "0     0.016157  0.019465  0.019648  0.021816  ...  0.032876  0.031840   \n",
       "1     0.016379  0.019352  0.020424  0.023193  ...  0.026392  0.027079   \n",
       "2     0.015369  0.017985  0.020031  0.023258  ...  0.036849  0.027824   \n",
       "3     0.014790  0.017349  0.020693  0.022823  ...  0.031407  0.031854   \n",
       "4     0.018601  0.019378  0.022326  0.022935  ...  0.030785  0.026421   \n",
       "...        ...       ...       ...       ...  ...       ...       ...   \n",
       "3773  0.034196  0.038520  0.039035  0.042405  ...  0.051245  0.051572   \n",
       "3774  0.022491  0.030423  0.033696  0.033015  ...  0.051442  0.053151   \n",
       "3775  0.025332  0.033006  0.035026  0.035339  ...  0.046409  0.051305   \n",
       "3776  0.024366  0.029840  0.032103  0.032674  ...  0.047220  0.042169   \n",
       "3777  0.025699  0.032435  0.034243  0.034677  ...  0.044072  0.041116   \n",
       "\n",
       "      band_418  band_419  band_420  band_421  band_422  band_423  band_424  \\\n",
       "0     0.031030  0.032435  0.039850  0.046477  0.122873  0.289441  0.113001   \n",
       "1     0.032499  0.035687  0.030389  0.067178  0.088952  0.144447  0.125137   \n",
       "2     0.032534  0.039909  0.032636  0.055107  0.040646  0.173911  0.154935   \n",
       "3     0.035131  0.037115  0.037787  0.051414  0.072393  0.287284  0.121171   \n",
       "4     0.027614  0.036539  0.034287  0.051169  0.111973  0.171473  0.108602   \n",
       "...        ...       ...       ...       ...       ...       ...       ...   \n",
       "3773  0.051813  0.057562  0.056179  0.093329  0.155301  0.283692  0.180007   \n",
       "3774  0.045314  0.052819  0.055230  0.043774  0.181314  0.360806  0.173530   \n",
       "3775  0.047055  0.053254  0.056633  0.068974  0.301976  0.358733  0.087249   \n",
       "3776  0.039191  0.042309  0.048218  0.044921  0.251921  0.378305  0.092269   \n",
       "3777  0.038680  0.050727  0.048332  0.040529  0.193278  0.232876  0.153402   \n",
       "\n",
       "      band_425  \n",
       "0     0.091605  \n",
       "1     0.064748  \n",
       "2     0.074669  \n",
       "3     0.080450  \n",
       "4     0.083328  \n",
       "...        ...  \n",
       "3773  0.110812  \n",
       "3774  0.103716  \n",
       "3775  0.126770  \n",
       "3776  0.103659  \n",
       "3777  0.083771  \n",
       "\n",
       "[3778 rows x 426 columns]"
      ]
     },
     "execution_count": 2,
     "metadata": {},
     "output_type": "execute_result"
    }
   ],
   "source": [
    "df_spectral = pd.read_csv(r\"F:\\wenqu\\Aviris\\Aviris_csv\\aviris_spectra_combine.csv\")\n",
    "df_spectral"
   ]
  },
  {
   "cell_type": "code",
   "execution_count": 3,
   "id": "8204047f",
   "metadata": {},
   "outputs": [],
   "source": [
    "d13c_trait_pdf_ymax = np.load('F:/wenqu/Aviris/Aviris_csv/d13c_trait_pdf_ymax.npy',  allow_pickle=True)\n",
    "d13c_trait_pdf_std = np.load('F:/wenqu/Aviris/Aviris_csv/d13c_trait_pdf_std.npy',  allow_pickle=True)"
   ]
  },
  {
   "cell_type": "code",
   "execution_count": 4,
   "id": "5bede318",
   "metadata": {},
   "outputs": [],
   "source": [
    "band_name = []\n",
    "for i in range(16, 186):\n",
    "    b_name = 'band_' + str(i) \n",
    "    band_name.append(b_name)\n",
    "\n",
    "for i in range(216, 286):\n",
    "    b_name = 'band_' + str(i) \n",
    "    band_name.append(b_name)\n",
    "    \n",
    "for i in range(326, 405):\n",
    "    b_name = 'band_' + str(i) \n",
    "    band_name.append(b_name)"
   ]
  },
  {
   "cell_type": "code",
   "execution_count": 5,
   "id": "daf4255b",
   "metadata": {},
   "outputs": [],
   "source": [
    "x_spectra = df_spectral[band_name]\n",
    "x = x_spectra.to_numpy()"
   ]
  },
  {
   "cell_type": "code",
   "execution_count": 6,
   "id": "486c803a",
   "metadata": {},
   "outputs": [],
   "source": [
    "y = d13c_trait_pdf_ymax\n",
    "y = np.array(y)\n",
    "band_name = np.array(band_name)"
   ]
  },
  {
   "cell_type": "code",
   "execution_count": 7,
   "id": "5eaf559c",
   "metadata": {},
   "outputs": [],
   "source": [
    "labels = [] \n",
    "for i in range(len(y[:, 1])):\n",
    "    substrings = y[:, 1][i]\n",
    "    site_name = substrings.split(\"_\")[0]\n",
    "    labels.append(site_name)"
   ]
  },
  {
   "cell_type": "code",
   "execution_count": 8,
   "id": "ebca20e9",
   "metadata": {},
   "outputs": [
    {
     "data": {
      "text/plain": [
       "(30, 2)"
      ]
     },
     "execution_count": 8,
     "metadata": {},
     "output_type": "execute_result"
    }
   ],
   "source": [
    "y[0:30,:].shape"
   ]
  },
  {
   "cell_type": "code",
   "execution_count": 9,
   "id": "d285e0fa",
   "metadata": {},
   "outputs": [
    {
     "data": {
      "text/plain": [
       "(30, 319)"
      ]
     },
     "execution_count": 9,
     "metadata": {},
     "output_type": "execute_result"
    }
   ],
   "source": [
    "x[0:30,:].shape"
   ]
  },
  {
   "cell_type": "code",
   "execution_count": 74,
   "id": "a0fedc62",
>>>>>>> 06bdfaaeba5f3df270b026566152abb58b2f84a1
   "metadata": {},
   "outputs": [
    {
     "name": "stdout",
     "output_type": "stream",
     "text": [
<<<<<<< HEAD
      "680 51 629\n"
     ]
    }
   ],
   "source": [
    "import os\n",
    "from osgeo import gdal,ogr,osr\n",
    "folder_path = r\"E:\\wenqu\\chm\\clipped\\site6_b123_mean\"\n",
    "extension = \".tif\"\n",
    "all_file = []\n",
    "keep_file_name1 = []\n",
    "del_file_name1 = []\n",
    "\n",
    "for filename in os.listdir(folder_path):\n",
    "    # Check if the current item is a file\n",
    "    if filename.endswith(extension) and os.path.isfile(os.path.join(folder_path, filename)):\n",
    "        all_file.append(filename)\n",
    "        if filename in keep_file:\n",
    "            keep_file_name1.append(filename)\n",
    "        else:\n",
    "            del_file_name1.append(filename)\n",
    "        \n",
    "    \n",
    "\n",
    "print(len(all_file), len(keep_file_name1), len(del_file_name1))"
=======
      "0\n",
      "(319, 1)\n",
      "(100, 319) (100, 319)\n",
      "0 (100, 319) (100,)\n",
      "1 (100, 318) (100,)\n",
      "2 (100, 317) (100,)\n",
      "3 (100, 316) (100,)\n",
      "4 (100, 315) (100,)\n",
      "5 (100, 314) (100,)\n",
      "6 (100, 313) (100,)\n",
      "7 (100, 312) (100,)\n",
      "8 (100, 311) (100,)\n",
      "9 (100, 310) (100,)\n",
      "10 (100, 309) (100,)\n",
      "11 (100, 308) (100,)\n",
      "12 (100, 307) (100,)\n",
      "13 (100, 306) (100,)\n",
      "14 (100, 305) (100,)\n",
      "15 (100, 304) (100,)\n",
      "16 (100, 303) (100,)\n",
      "17 (100, 302) (100,)\n",
      "18 (100, 301) (100,)\n",
      "19 (100, 300) (100,)\n",
      "20 (100, 299) (100,)\n",
      "21 (100, 298) (100,)\n",
      "22 (100, 297) (100,)\n",
      "23 (100, 296) (100,)\n",
      "24 (100, 295) (100,)\n",
      "25 (100, 294) (100,)\n",
      "26 (100, 293) (100,)\n",
      "27 (100, 292) (100,)\n",
      "28 (100, 291) (100,)\n",
      "29 (100, 290) (100,)\n",
      "30 (100, 289) (100,)\n"
     ]
    },
    {
     "name": "stderr",
     "output_type": "stream",
     "text": [
      "C:\\Users\\15086\\anaconda3\\envs\\wenqu_gdal\\lib\\site-packages\\sklearn\\cross_decomposition\\_pls.py:503: FutureWarning: The attribute `coef_` will be transposed in version 1.3 to be consistent with other linear models in scikit-learn. Currently, `coef_` has a shape of (n_features, n_targets) and in the future it will have a shape of (n_targets, n_features).\n",
      "  warnings.warn(\n"
     ]
    },
    {
     "name": "stdout",
     "output_type": "stream",
     "text": [
      "31 (100, 288) (100,)\n",
      "32 (100, 287) (100,)\n",
      "33 (100, 286) (100,)\n",
      "34 (100, 285) (100,)\n",
      "35 (100, 284) (100,)\n",
      "36 (100, 283) (100,)\n",
      "37 (100, 282) (100,)\n",
      "38 (100, 281) (100,)\n",
      "39 (100, 280) (100,)\n",
      "40 (100, 279) (100,)\n",
      "41 (100, 278) (100,)\n",
      "42 (100, 277) (100,)\n",
      "43 (100, 276) (100,)\n",
      "44 (100, 275) (100,)\n",
      "45 (100, 274) (100,)\n",
      "46 (100, 273) (100,)\n",
      "47 (100, 272) (100,)\n",
      "48 (100, 271) (100,)\n",
      "49 (100, 270) (100,)\n",
      "50 (100, 269) (100,)\n",
      "51 (100, 268) (100,)\n",
      "52 (100, 267) (100,)\n",
      "53 (100, 266) (100,)\n",
      "54 (100, 265) (100,)\n",
      "55 (100, 264) (100,)\n",
      "56 (100, 263) (100,)\n",
      "57 (100, 262) (100,)\n",
      "58 (100, 261) (100,)\n",
      "59 (100, 260) (100,)\n",
      "60 (100, 259) (100,)\n",
      "61 (100, 258) (100,)\n",
      "62 (100, 257) (100,)\n",
      "63 (100, 256) (100,)\n",
      "64 (100, 255) (100,)\n",
      "65 (100, 254) (100,)\n",
      "66 (100, 253) (100,)\n",
      "67 (100, 252) (100,)\n",
      "68 (100, 251) (100,)\n",
      "69 (100, 250) (100,)\n",
      "70 (100, 249) (100,)\n",
      "71 (100, 248) (100,)\n",
      "72 (100, 247) (100,)\n",
      "73 (100, 246) (100,)\n",
      "74 (100, 245) (100,)\n",
      "75 (100, 244) (100,)\n",
      "76 (100, 243) (100,)\n",
      "77 (100, 242) (100,)\n",
      "78 (100, 241) (100,)\n",
      "79 (100, 240) (100,)\n",
      "80 (100, 239) (100,)\n",
      "81 (100, 238) (100,)\n",
      "82 (100, 237) (100,)\n",
      "83 (100, 236) (100,)\n",
      "84 (100, 235) (100,)\n",
      "85 (100, 234) (100,)\n",
      "86 (100, 233) (100,)\n",
      "87 (100, 232) (100,)\n",
      "88 (100, 231) (100,)\n",
      "89 (100, 230) (100,)\n",
      "90 (100, 229) (100,)\n",
      "91 (100, 228) (100,)\n",
      "92 (100, 227) (100,)\n",
      "93 (100, 226) (100,)\n",
      "94 (100, 225) (100,)\n",
      "95 (100, 224) (100,)\n",
      "96 (100, 223) (100,)\n",
      "97 (100, 222) (100,)\n",
      "98 (100, 221) (100,)\n",
      "99 (100, 220) (100,)\n",
      "100 (100, 219) (100,)\n",
      "101 (100, 218) (100,)\n",
      "102 (100, 217) (100,)\n",
      "103 (100, 216) (100,)\n",
      "104 (100, 215) (100,)\n",
      "105 (100, 214) (100,)\n",
      "106 (100, 213) (100,)\n",
      "107 (100, 212) (100,)\n",
      "108 (100, 211) (100,)\n",
      "109 (100, 210) (100,)\n",
      "110 (100, 209) (100,)\n",
      "111 (100, 208) (100,)\n",
      "112 (100, 207) (100,)\n",
      "113 (100, 206) (100,)\n",
      "114 (100, 205) (100,)\n",
      "115 (100, 204) (100,)\n",
      "116 (100, 203) (100,)\n",
      "117 (100, 202) (100,)\n",
      "118 (100, 201) (100,)\n",
      "119 (100, 200) (100,)\n",
      "120 (100, 199) (100,)\n",
      "121 (100, 198) (100,)\n",
      "122 (100, 197) (100,)\n",
      "123 (100, 196) (100,)\n",
      "124 (100, 195) (100,)\n",
      "125 (100, 194) (100,)\n",
      "126 (100, 193) (100,)\n",
      "127 (100, 192) (100,)\n",
      "128 (100, 191) (100,)\n",
      "129 (100, 190) (100,)\n",
      "130 (100, 189) (100,)\n",
      "131 (100, 188) (100,)\n",
      "132 (100, 187) (100,)\n",
      "133 (100, 186) (100,)\n",
      "134 (100, 185) (100,)\n",
      "135 (100, 184) (100,)\n",
      "136 (100, 183) (100,)\n",
      "137 (100, 182) (100,)\n",
      "138 (100, 181) (100,)\n",
      "139 (100, 180) (100,)\n",
      "140 (100, 179) (100,)\n",
      "141 (100, 178) (100,)\n",
      "142 (100, 177) (100,)\n",
      "143 (100, 176) (100,)\n",
      "144 (100, 175) (100,)\n",
      "145 (100, 174) (100,)\n",
      "146 (100, 173) (100,)\n",
      "147 (100, 172) (100,)\n",
      "148 (100, 171) (100,)\n",
      "149 (100, 170) (100,)\n",
      "150 (100, 169) (100,)\n",
      "151 (100, 168) (100,)\n",
      "152 (100, 167) (100,)\n",
      "153 (100, 166) (100,)\n",
      "154 (100, 165) (100,)\n",
      "155 (100, 164) (100,)\n",
      "156 (100, 163) (100,)\n",
      "157 (100, 162) (100,)\n",
      "158 (100, 161) (100,)\n",
      "159 (100, 160) (100,)\n",
      "160 (100, 159) (100,)\n",
      "161 (100, 158) (100,)\n",
      "162 (100, 157) (100,)\n",
      "163 (100, 156) (100,)\n",
      "164 (100, 155) (100,)\n",
      "165 (100, 154) (100,)\n",
      "166 (100, 153) (100,)\n",
      "167 (100, 152) (100,)\n",
      "168 (100, 151) (100,)\n",
      "169 (100, 150) (100,)\n",
      "170 (100, 149) (100,)\n",
      "171 (100, 148) (100,)\n",
      "172 (100, 147) (100,)\n",
      "173 (100, 146) (100,)\n",
      "174 (100, 145) (100,)\n",
      "175 (100, 144) (100,)\n",
      "176 (100, 143) (100,)\n",
      "177 (100, 142) (100,)\n",
      "178 (100, 141) (100,)\n",
      "179 (100, 140) (100,)\n",
      "180 (100, 139) (100,)\n",
      "181 (100, 138) (100,)\n",
      "182 (100, 137) (100,)\n",
      "183 (100, 136) (100,)\n",
      "184 (100, 135) (100,)\n",
      "185 (100, 134) (100,)\n",
      "186 (100, 133) (100,)\n",
      "187 (100, 132) (100,)\n",
      "188 (100, 131) (100,)\n",
      "189 (100, 130) (100,)\n",
      "190 (100, 129) (100,)\n",
      "191 (100, 128) (100,)\n",
      "192 (100, 127) (100,)\n",
      "193 (100, 126) (100,)\n",
      "194 (100, 125) (100,)\n",
      "195 (100, 124) (100,)\n",
      "196 (100, 123) (100,)\n",
      "197 (100, 122) (100,)\n",
      "198 (100, 121) (100,)\n",
      "199 (100, 120) (100,)\n",
      "200 (100, 119) (100,)\n",
      "201 (100, 118) (100,)\n",
      "202 (100, 117) (100,)\n",
      "203 (100, 116) (100,)\n",
      "204 (100, 115) (100,)\n",
      "205 (100, 114) (100,)\n",
      "206 (100, 113) (100,)\n",
      "207 (100, 112) (100,)\n",
      "208 (100, 111) (100,)\n",
      "209 (100, 110) (100,)\n",
      "210 (100, 109) (100,)\n",
      "211 (100, 108) (100,)\n",
      "212 (100, 107) (100,)\n",
      "213 (100, 106) (100,)\n",
      "214 (100, 105) (100,)\n",
      "215 (100, 104) (100,)\n",
      "216 (100, 103) (100,)\n",
      "217 (100, 102) (100,)\n",
      "218 (100, 101) (100,)\n",
      "219 (100, 100) (100,)\n",
      "220 (100, 99) (100,)\n",
      "221 (100, 98) (100,)\n",
      "222 (100, 97) (100,)\n",
      "223 (100, 96) (100,)\n",
      "224 (100, 95) (100,)\n",
      "225 (100, 94) (100,)\n",
      "226 (100, 93) (100,)\n",
      "227 (100, 92) (100,)\n",
      "228 (100, 91) (100,)\n",
      "229 (100, 90) (100,)\n",
      "230 (100, 89) (100,)\n",
      "231 (100, 88) (100,)\n",
      "232 (100, 87) (100,)\n",
      "233 (100, 86) (100,)\n",
      "234 (100, 85) (100,)\n",
      "235 (100, 84) (100,)\n",
      "236 (100, 83) (100,)\n",
      "237 (100, 82) (100,)\n",
      "238 (100, 81) (100,)\n",
      "239 (100, 80) (100,)\n",
      "240 (100, 79) (100,)\n",
      "241 (100, 78) (100,)\n",
      "242 (100, 77) (100,)\n",
      "243 (100, 76) (100,)\n",
      "244 (100, 75) (100,)\n",
      "245 (100, 74) (100,)\n",
      "246 (100, 73) (100,)\n",
      "247 (100, 72) (100,)\n",
      "248 (100, 71) (100,)\n",
      "249 (100, 70) (100,)\n",
      "250 (100, 69) (100,)\n",
      "251 (100, 68) (100,)\n",
      "252 (100, 67) (100,)\n",
      "253 (100, 66) (100,)\n",
      "254 (100, 65) (100,)\n",
      "255 (100, 64) (100,)\n",
      "256 (100, 63) (100,)\n",
      "257 (100, 62) (100,)\n",
      "258 (100, 61) (100,)\n",
      "259 (100, 60) (100,)\n",
      "260 (100, 59) (100,)\n",
      "261 (100, 58) (100,)\n",
      "262 (100, 57) (100,)\n",
      "263 (100, 56) (100,)\n",
      "264 (100, 55) (100,)\n",
      "265 (100, 54) (100,)\n",
      "266 (100, 53) (100,)\n",
      "267 (100, 52) (100,)\n",
      "268 (100, 51) (100,)\n",
      "269 (100, 50) (100,)\n",
      "270 (100, 49) (100,)\n",
      "271 (100, 48) (100,)\n",
      "272 (100, 47) (100,)\n",
      "273 (100, 46) (100,)\n",
      "274 (100, 45) (100,)\n",
      "275 (100, 44) (100,)\n",
      "276 (100, 43) (100,)\n",
      "277 (100, 42) (100,)\n",
      "278 (100, 41) (100,)\n",
      "279 (100, 40) (100,)\n",
      "280 (100, 39) (100,)\n",
      "281 (100, 38) (100,)\n",
      "282 (100, 37) (100,)\n",
      "283 (100, 36) (100,)\n",
      "284 (100, 35) (100,)\n",
      "285 (100, 34) (100,)\n",
      "286 (100, 33) (100,)\n",
      "287 (100, 32) (100,)\n",
      "288 (100, 31) (100,)\n",
      "289 (100, 30) (100,)\n",
      "290 (100, 29) (100,)\n",
      "291 (100, 28) (100,)\n",
      "292 (100, 27) (100,)\n",
      "293 (100, 26) (100,)\n",
      "294 (100, 25) (100,)\n",
      "295 (100, 24) (100,)\n",
      "296 (100, 23) (100,)\n",
      "297 (100, 22) (100,)\n",
      "298 (100, 21) (100,)\n",
      "299 (100, 20) (100,)\n",
      "300 (100, 19) (100,)\n",
      "301 (100, 18) (100,)\n",
      "302 (100, 17) (100,)\n",
      "303 (100, 16) (100,)\n",
      "304 (100, 15) (100,)\n",
      "305 (100, 14) (100,)\n",
      "306 (100, 13) (100,)\n",
      "307 (100, 12) (100,)\n",
      "308 (100, 11) (100,)\n",
      "309 (100, 10) (100,)\n",
      "310 (100, 9) (100,)\n",
      "311 (100, 8) (100,)\n",
      "312 (100, 7) (100,)\n",
      "313 (100, 6) (100,)\n",
      "314 (100, 5) (100,)\n",
      "315 (100, 4) (100,)\n",
      "316 (100, 3) (100,)\n",
      "317 (100, 2) (100,)\n",
      "10% completed1\n",
      "(319, 1)\n",
      "(100, 319) (100, 319)\n",
      "0 (100, 319) (100,)\n",
      "1 (100, 318) (100,)\n",
      "2 (100, 317) (100,)\n",
      "3 (100, 316) (100,)\n",
      "4 (100, 315) (100,)\n",
      "5 (100, 314) (100,)\n",
      "6 (100, 313) (100,)\n",
      "7 (100, 312) (100,)\n",
      "8 (100, 311) (100,)\n",
      "9 (100, 310) (100,)\n",
      "10 (100, 309) (100,)\n",
      "11 (100, 308) (100,)\n",
      "12 (100, 307) (100,)\n",
      "13 (100, 306) (100,)\n",
      "14 (100, 305) (100,)\n",
      "15 (100, 304) (100,)\n",
      "16 (100, 303) (100,)\n",
      "17 (100, 302) (100,)\n",
      "18 (100, 301) (100,)\n",
      "19 (100, 300) (100,)\n",
      "20 (100, 299) (100,)\n",
      "21 (100, 298) (100,)\n",
      "22 (100, 297) (100,)\n",
      "23 (100, 296) (100,)\n",
      "24 (100, 295) (100,)\n",
      "25 (100, 294) (100,)\n",
      "26 (100, 293) (100,)\n",
      "27 (100, 292) (100,)\n"
     ]
    },
    {
     "name": "stderr",
     "output_type": "stream",
     "text": [
      "C:\\Users\\15086\\anaconda3\\envs\\wenqu_gdal\\lib\\site-packages\\sklearn\\cross_decomposition\\_pls.py:503: FutureWarning: The attribute `coef_` will be transposed in version 1.3 to be consistent with other linear models in scikit-learn. Currently, `coef_` has a shape of (n_features, n_targets) and in the future it will have a shape of (n_targets, n_features).\n",
      "  warnings.warn(\n"
     ]
    },
    {
     "name": "stdout",
     "output_type": "stream",
     "text": [
      "28 (100, 291) (100,)\n",
      "29 (100, 290) (100,)\n",
      "30 (100, 289) (100,)\n",
      "31 (100, 288) (100,)\n",
      "32 (100, 287) (100,)\n",
      "33 (100, 286) (100,)\n",
      "34 (100, 285) (100,)\n",
      "35 (100, 284) (100,)\n",
      "36 (100, 283) (100,)\n",
      "37 (100, 282) (100,)\n",
      "38 (100, 281) (100,)\n",
      "39 (100, 280) (100,)\n",
      "40 (100, 279) (100,)\n",
      "41 (100, 278) (100,)\n",
      "42 (100, 277) (100,)\n",
      "43 (100, 276) (100,)\n",
      "44 (100, 275) (100,)\n",
      "45 (100, 274) (100,)\n",
      "46 (100, 273) (100,)\n",
      "47 (100, 272) (100,)\n",
      "48 (100, 271) (100,)\n",
      "49 (100, 270) (100,)\n",
      "50 (100, 269) (100,)\n",
      "51 (100, 268) (100,)\n",
      "52 (100, 267) (100,)\n",
      "53 (100, 266) (100,)\n",
      "54 (100, 265) (100,)\n",
      "55 (100, 264) (100,)\n",
      "56 (100, 263) (100,)\n",
      "57 (100, 262) (100,)\n",
      "58 (100, 261) (100,)\n",
      "59 (100, 260) (100,)\n",
      "60 (100, 259) (100,)\n",
      "61 (100, 258) (100,)\n",
      "62 (100, 257) (100,)\n",
      "63 (100, 256) (100,)\n",
      "64 (100, 255) (100,)\n",
      "65 (100, 254) (100,)\n",
      "66 (100, 253) (100,)\n",
      "67 (100, 252) (100,)\n",
      "68 (100, 251) (100,)\n",
      "69 (100, 250) (100,)\n",
      "70 (100, 249) (100,)\n",
      "71 (100, 248) (100,)\n",
      "72 (100, 247) (100,)\n",
      "73 (100, 246) (100,)\n",
      "74 (100, 245) (100,)\n",
      "75 (100, 244) (100,)\n",
      "76 (100, 243) (100,)\n",
      "77 (100, 242) (100,)\n",
      "78 (100, 241) (100,)\n",
      "79 (100, 240) (100,)\n",
      "80 (100, 239) (100,)\n",
      "81 (100, 238) (100,)\n",
      "82 (100, 237) (100,)\n",
      "83 (100, 236) (100,)\n",
      "84 (100, 235) (100,)\n",
      "85 (100, 234) (100,)\n",
      "86 (100, 233) (100,)\n",
      "87 (100, 232) (100,)\n",
      "88 (100, 231) (100,)\n",
      "89 (100, 230) (100,)\n",
      "90 (100, 229) (100,)\n",
      "91 (100, 228) (100,)\n",
      "92 (100, 227) (100,)\n",
      "93 (100, 226) (100,)\n",
      "94 (100, 225) (100,)\n",
      "95 (100, 224) (100,)\n",
      "96 (100, 223) (100,)\n",
      "97 (100, 222) (100,)\n",
      "98 (100, 221) (100,)\n",
      "99 (100, 220) (100,)\n",
      "100 (100, 219) (100,)\n",
      "101 (100, 218) (100,)\n",
      "102 (100, 217) (100,)\n",
      "103 (100, 216) (100,)\n",
      "104 (100, 215) (100,)\n",
      "105 (100, 214) (100,)\n",
      "106 (100, 213) (100,)\n",
      "107 (100, 212) (100,)\n",
      "108 (100, 211) (100,)\n",
      "109 (100, 210) (100,)\n",
      "110 (100, 209) (100,)\n",
      "111 (100, 208) (100,)\n",
      "112 (100, 207) (100,)\n",
      "113 (100, 206) (100,)\n",
      "114 (100, 205) (100,)\n",
      "115 (100, 204) (100,)\n",
      "116 (100, 203) (100,)\n",
      "117 (100, 202) (100,)\n",
      "118 (100, 201) (100,)\n",
      "119 (100, 200) (100,)\n",
      "120 (100, 199) (100,)\n",
      "121 (100, 198) (100,)\n",
      "122 (100, 197) (100,)\n",
      "123 (100, 196) (100,)\n",
      "124 (100, 195) (100,)\n",
      "125 (100, 194) (100,)\n",
      "126 (100, 193) (100,)\n",
      "127 (100, 192) (100,)\n",
      "128 (100, 191) (100,)\n",
      "129 (100, 190) (100,)\n",
      "130 (100, 189) (100,)\n",
      "131 (100, 188) (100,)\n",
      "132 (100, 187) (100,)\n",
      "133 (100, 186) (100,)\n",
      "134 (100, 185) (100,)\n",
      "135 (100, 184) (100,)\n",
      "136 (100, 183) (100,)\n",
      "137 (100, 182) (100,)\n",
      "138 (100, 181) (100,)\n",
      "139 (100, 180) (100,)\n",
      "140 (100, 179) (100,)\n",
      "141 (100, 178) (100,)\n",
      "142 (100, 177) (100,)\n",
      "143 (100, 176) (100,)\n",
      "144 (100, 175) (100,)\n",
      "145 (100, 174) (100,)\n",
      "146 (100, 173) (100,)\n",
      "147 (100, 172) (100,)\n",
      "148 (100, 171) (100,)\n",
      "149 (100, 170) (100,)\n",
      "150 (100, 169) (100,)\n",
      "151 (100, 168) (100,)\n",
      "152 (100, 167) (100,)\n",
      "153 (100, 166) (100,)\n",
      "154 (100, 165) (100,)\n",
      "155 (100, 164) (100,)\n",
      "156 (100, 163) (100,)\n",
      "157 (100, 162) (100,)\n",
      "158 (100, 161) (100,)\n",
      "159 (100, 160) (100,)\n",
      "160 (100, 159) (100,)\n",
      "161 (100, 158) (100,)\n",
      "162 (100, 157) (100,)\n",
      "163 (100, 156) (100,)\n",
      "164 (100, 155) (100,)\n",
      "165 (100, 154) (100,)\n",
      "166 (100, 153) (100,)\n",
      "167 (100, 152) (100,)\n",
      "168 (100, 151) (100,)\n",
      "169 (100, 150) (100,)\n",
      "170 (100, 149) (100,)\n",
      "171 (100, 148) (100,)\n",
      "172 (100, 147) (100,)\n",
      "173 (100, 146) (100,)\n",
      "174 (100, 145) (100,)\n",
      "175 (100, 144) (100,)\n",
      "176 (100, 143) (100,)\n",
      "177 (100, 142) (100,)\n",
      "178 (100, 141) (100,)\n",
      "179 (100, 140) (100,)\n",
      "180 (100, 139) (100,)\n",
      "181 (100, 138) (100,)\n",
      "182 (100, 137) (100,)\n",
      "183 (100, 136) (100,)\n",
      "184 (100, 135) (100,)\n",
      "185 (100, 134) (100,)\n",
      "186 (100, 133) (100,)\n",
      "187 (100, 132) (100,)\n",
      "188 (100, 131) (100,)\n",
      "189 (100, 130) (100,)\n",
      "190 (100, 129) (100,)\n",
      "191 (100, 128) (100,)\n",
      "192 (100, 127) (100,)\n",
      "193 (100, 126) (100,)\n",
      "194 (100, 125) (100,)\n",
      "195 (100, 124) (100,)\n",
      "196 (100, 123) (100,)\n",
      "197 (100, 122) (100,)\n",
      "198 (100, 121) (100,)\n",
      "199 (100, 120) (100,)\n",
      "200 (100, 119) (100,)\n",
      "201 (100, 118) (100,)\n",
      "202 (100, 117) (100,)\n",
      "203 (100, 116) (100,)\n",
      "204 (100, 115) (100,)\n",
      "205 (100, 114) (100,)\n",
      "206 (100, 113) (100,)\n",
      "207 (100, 112) (100,)\n",
      "208 (100, 111) (100,)\n",
      "209 (100, 110) (100,)\n",
      "210 (100, 109) (100,)\n",
      "211 (100, 108) (100,)\n",
      "212 (100, 107) (100,)\n",
      "213 (100, 106) (100,)\n",
      "214 (100, 105) (100,)\n",
      "215 (100, 104) (100,)\n",
      "216 (100, 103) (100,)\n",
      "217 (100, 102) (100,)\n",
      "218 (100, 101) (100,)\n",
      "219 (100, 100) (100,)\n",
      "220 (100, 99) (100,)\n",
      "221 (100, 98) (100,)\n",
      "222 (100, 97) (100,)\n",
      "223 (100, 96) (100,)\n",
      "224 (100, 95) (100,)\n",
      "225 (100, 94) (100,)\n",
      "226 (100, 93) (100,)\n",
      "227 (100, 92) (100,)\n",
      "228 (100, 91) (100,)\n",
      "229 (100, 90) (100,)\n",
      "230 (100, 89) (100,)\n",
      "231 (100, 88) (100,)\n",
      "232 (100, 87) (100,)\n",
      "233 (100, 86) (100,)\n",
      "234 (100, 85) (100,)\n",
      "235 (100, 84) (100,)\n",
      "236 (100, 83) (100,)\n",
      "237 (100, 82) (100,)\n",
      "238 (100, 81) (100,)\n",
      "239 (100, 80) (100,)\n",
      "240 (100, 79) (100,)\n",
      "241 (100, 78) (100,)\n",
      "242 (100, 77) (100,)\n",
      "243 (100, 76) (100,)\n",
      "244 (100, 75) (100,)\n",
      "245 (100, 74) (100,)\n",
      "246 (100, 73) (100,)\n",
      "247 (100, 72) (100,)\n",
      "248 (100, 71) (100,)\n",
      "249 (100, 70) (100,)\n",
      "250 (100, 69) (100,)\n",
      "251 (100, 68) (100,)\n",
      "252 (100, 67) (100,)\n",
      "253 (100, 66) (100,)\n",
      "254 (100, 65) (100,)\n",
      "255 (100, 64) (100,)\n",
      "256 (100, 63) (100,)\n",
      "257 (100, 62) (100,)\n",
      "258 (100, 61) (100,)\n",
      "259 (100, 60) (100,)\n",
      "260 (100, 59) (100,)\n",
      "261 (100, 58) (100,)\n",
      "262 (100, 57) (100,)\n",
      "263 (100, 56) (100,)\n",
      "264 (100, 55) (100,)\n",
      "265 (100, 54) (100,)\n",
      "266 (100, 53) (100,)\n",
      "267 (100, 52) (100,)\n",
      "268 (100, 51) (100,)\n",
      "269 (100, 50) (100,)\n",
      "270 (100, 49) (100,)\n",
      "271 (100, 48) (100,)\n",
      "272 (100, 47) (100,)\n",
      "273 (100, 46) (100,)\n",
      "274 (100, 45) (100,)\n",
      "275 (100, 44) (100,)\n",
      "276 (100, 43) (100,)\n",
      "277 (100, 42) (100,)\n",
      "278 (100, 41) (100,)\n",
      "279 (100, 40) (100,)\n",
      "280 (100, 39) (100,)\n",
      "281 (100, 38) (100,)\n",
      "282 (100, 37) (100,)\n",
      "283 (100, 36) (100,)\n",
      "284 (100, 35) (100,)\n",
      "285 (100, 34) (100,)\n",
      "286 (100, 33) (100,)\n",
      "287 (100, 32) (100,)\n",
      "288 (100, 31) (100,)\n",
      "289 (100, 30) (100,)\n",
      "290 (100, 29) (100,)\n",
      "291 (100, 28) (100,)\n",
      "292 (100, 27) (100,)\n",
      "293 (100, 26) (100,)\n",
      "294 (100, 25) (100,)\n",
      "295 (100, 24) (100,)\n",
      "296 (100, 23) (100,)\n",
      "297 (100, 22) (100,)\n",
      "298 (100, 21) (100,)\n",
      "299 (100, 20) (100,)\n",
      "300 (100, 19) (100,)\n",
      "301 (100, 18) (100,)\n",
      "302 (100, 17) (100,)\n",
      "303 (100, 16) (100,)\n",
      "304 (100, 15) (100,)\n",
      "305 (100, 14) (100,)\n",
      "306 (100, 13) (100,)\n",
      "307 (100, 12) (100,)\n",
      "308 (100, 11) (100,)\n",
      "309 (100, 10) (100,)\n",
      "310 (100, 9) (100,)\n",
      "311 (100, 8) (100,)\n",
      "312 (100, 7) (100,)\n",
      "313 (100, 6) (100,)\n",
      "314 (100, 5) (100,)\n",
      "315 (100, 4) (100,)\n",
      "316 (100, 3) (100,)\n",
      "20% completed2\n",
      "(319, 1)\n",
      "(100, 319) (100, 319)\n",
      "0 (100, 319) (100,)\n",
      "1 (100, 318) (100,)\n",
      "2 (100, 317) (100,)\n",
      "3 (100, 316) (100,)\n",
      "4 (100, 315) (100,)\n",
      "5 (100, 314) (100,)\n",
      "6 (100, 313) (100,)\n",
      "7 (100, 312) (100,)\n",
      "8 (100, 311) (100,)\n",
      "9 (100, 310) (100,)\n",
      "10 (100, 309) (100,)\n",
      "11 (100, 308) (100,)\n",
      "12 (100, 307) (100,)\n",
      "13 (100, 306) (100,)\n",
      "14 (100, 305) (100,)\n",
      "15 (100, 304) (100,)\n",
      "16 (100, 303) (100,)\n",
      "17 (100, 302) (100,)\n",
      "18 (100, 301) (100,)\n",
      "19 (100, 300) (100,)\n",
      "20 (100, 299) (100,)\n",
      "21 (100, 298) (100,)\n",
      "22 (100, 297) (100,)\n"
     ]
    },
    {
     "name": "stderr",
     "output_type": "stream",
     "text": [
      "C:\\Users\\15086\\anaconda3\\envs\\wenqu_gdal\\lib\\site-packages\\sklearn\\cross_decomposition\\_pls.py:503: FutureWarning: The attribute `coef_` will be transposed in version 1.3 to be consistent with other linear models in scikit-learn. Currently, `coef_` has a shape of (n_features, n_targets) and in the future it will have a shape of (n_targets, n_features).\n",
      "  warnings.warn(\n"
     ]
    },
    {
     "name": "stdout",
     "output_type": "stream",
     "text": [
      "23 (100, 296) (100,)\n",
      "24 (100, 295) (100,)\n",
      "25 (100, 294) (100,)\n",
      "26 (100, 293) (100,)\n",
      "27 (100, 292) (100,)\n",
      "28 (100, 291) (100,)\n",
      "29 (100, 290) (100,)\n",
      "30 (100, 289) (100,)\n",
      "31 (100, 288) (100,)\n",
      "32 (100, 287) (100,)\n",
      "33 (100, 286) (100,)\n",
      "34 (100, 285) (100,)\n",
      "35 (100, 284) (100,)\n",
      "36 (100, 283) (100,)\n",
      "37 (100, 282) (100,)\n",
      "38 (100, 281) (100,)\n",
      "39 (100, 280) (100,)\n",
      "40 (100, 279) (100,)\n",
      "41 (100, 278) (100,)\n",
      "42 (100, 277) (100,)\n",
      "43 (100, 276) (100,)\n",
      "44 (100, 275) (100,)\n",
      "45 (100, 274) (100,)\n",
      "46 (100, 273) (100,)\n",
      "47 (100, 272) (100,)\n",
      "48 (100, 271) (100,)\n",
      "49 (100, 270) (100,)\n",
      "50 (100, 269) (100,)\n",
      "51 (100, 268) (100,)\n",
      "52 (100, 267) (100,)\n",
      "53 (100, 266) (100,)\n",
      "54 (100, 265) (100,)\n",
      "55 (100, 264) (100,)\n",
      "56 (100, 263) (100,)\n",
      "57 (100, 262) (100,)\n",
      "58 (100, 261) (100,)\n",
      "59 (100, 260) (100,)\n",
      "60 (100, 259) (100,)\n",
      "61 (100, 258) (100,)\n",
      "62 (100, 257) (100,)\n",
      "63 (100, 256) (100,)\n",
      "64 (100, 255) (100,)\n",
      "65 (100, 254) (100,)\n",
      "66 (100, 253) (100,)\n",
      "67 (100, 252) (100,)\n",
      "68 (100, 251) (100,)\n",
      "69 (100, 250) (100,)\n",
      "70 (100, 249) (100,)\n",
      "71 (100, 248) (100,)\n",
      "72 (100, 247) (100,)\n",
      "73 (100, 246) (100,)\n",
      "74 (100, 245) (100,)\n",
      "75 (100, 244) (100,)\n",
      "76 (100, 243) (100,)\n",
      "77 (100, 242) (100,)\n",
      "78 (100, 241) (100,)\n",
      "79 (100, 240) (100,)\n",
      "80 (100, 239) (100,)\n",
      "81 (100, 238) (100,)\n",
      "82 (100, 237) (100,)\n",
      "83 (100, 236) (100,)\n",
      "84 (100, 235) (100,)\n",
      "85 (100, 234) (100,)\n",
      "86 (100, 233) (100,)\n",
      "87 (100, 232) (100,)\n",
      "88 (100, 231) (100,)\n",
      "89 (100, 230) (100,)\n",
      "90 (100, 229) (100,)\n",
      "91 (100, 228) (100,)\n",
      "92 (100, 227) (100,)\n",
      "93 (100, 226) (100,)\n",
      "94 (100, 225) (100,)\n",
      "95 (100, 224) (100,)\n",
      "96 (100, 223) (100,)\n",
      "97 (100, 222) (100,)\n",
      "98 (100, 221) (100,)\n",
      "99 (100, 220) (100,)\n",
      "100 (100, 219) (100,)\n",
      "101 (100, 218) (100,)\n",
      "102 (100, 217) (100,)\n",
      "103 (100, 216) (100,)\n",
      "104 (100, 215) (100,)\n",
      "105 (100, 214) (100,)\n",
      "106 (100, 213) (100,)\n",
      "107 (100, 212) (100,)\n",
      "108 (100, 211) (100,)\n",
      "109 (100, 210) (100,)\n",
      "110 (100, 209) (100,)\n",
      "111 (100, 208) (100,)\n",
      "112 (100, 207) (100,)\n",
      "113 (100, 206) (100,)\n",
      "114 (100, 205) (100,)\n",
      "115 (100, 204) (100,)\n",
      "116 (100, 203) (100,)\n",
      "117 (100, 202) (100,)\n",
      "118 (100, 201) (100,)\n",
      "119 (100, 200) (100,)\n",
      "120 (100, 199) (100,)\n",
      "121 (100, 198) (100,)\n",
      "122 (100, 197) (100,)\n",
      "123 (100, 196) (100,)\n",
      "124 (100, 195) (100,)\n",
      "125 (100, 194) (100,)\n",
      "126 (100, 193) (100,)\n",
      "127 (100, 192) (100,)\n",
      "128 (100, 191) (100,)\n",
      "129 (100, 190) (100,)\n",
      "130 (100, 189) (100,)\n",
      "131 (100, 188) (100,)\n",
      "132 (100, 187) (100,)\n",
      "133 (100, 186) (100,)\n",
      "134 (100, 185) (100,)\n",
      "135 (100, 184) (100,)\n",
      "136 (100, 183) (100,)\n",
      "137 (100, 182) (100,)\n",
      "138 (100, 181) (100,)\n",
      "139 (100, 180) (100,)\n",
      "140 (100, 179) (100,)\n",
      "141 (100, 178) (100,)\n",
      "142 (100, 177) (100,)\n",
      "143 (100, 176) (100,)\n",
      "144 (100, 175) (100,)\n",
      "145 (100, 174) (100,)\n",
      "146 (100, 173) (100,)\n",
      "147 (100, 172) (100,)\n",
      "148 (100, 171) (100,)\n",
      "149 (100, 170) (100,)\n",
      "150 (100, 169) (100,)\n",
      "151 (100, 168) (100,)\n",
      "152 (100, 167) (100,)\n",
      "153 (100, 166) (100,)\n",
      "154 (100, 165) (100,)\n",
      "155 (100, 164) (100,)\n",
      "156 (100, 163) (100,)\n",
      "157 (100, 162) (100,)\n",
      "158 (100, 161) (100,)\n",
      "159 (100, 160) (100,)\n",
      "160 (100, 159) (100,)\n",
      "161 (100, 158) (100,)\n",
      "162 (100, 157) (100,)\n",
      "163 (100, 156) (100,)\n",
      "164 (100, 155) (100,)\n",
      "165 (100, 154) (100,)\n",
      "166 (100, 153) (100,)\n",
      "167 (100, 152) (100,)\n",
      "168 (100, 151) (100,)\n",
      "169 (100, 150) (100,)\n",
      "170 (100, 149) (100,)\n",
      "171 (100, 148) (100,)\n",
      "172 (100, 147) (100,)\n",
      "173 (100, 146) (100,)\n",
      "174 (100, 145) (100,)\n",
      "175 (100, 144) (100,)\n",
      "176 (100, 143) (100,)\n",
      "177 (100, 142) (100,)\n",
      "178 (100, 141) (100,)\n",
      "179 (100, 140) (100,)\n",
      "180 (100, 139) (100,)\n",
      "181 (100, 138) (100,)\n",
      "182 (100, 137) (100,)\n",
      "183 (100, 136) (100,)\n",
      "184 (100, 135) (100,)\n",
      "185 (100, 134) (100,)\n",
      "186 (100, 133) (100,)\n",
      "187 (100, 132) (100,)\n",
      "188 (100, 131) (100,)\n",
      "189 (100, 130) (100,)\n",
      "190 (100, 129) (100,)\n",
      "191 (100, 128) (100,)\n",
      "192 (100, 127) (100,)\n",
      "193 (100, 126) (100,)\n",
      "194 (100, 125) (100,)\n",
      "195 (100, 124) (100,)\n",
      "196 (100, 123) (100,)\n",
      "197 (100, 122) (100,)\n",
      "198 (100, 121) (100,)\n",
      "199 (100, 120) (100,)\n",
      "200 (100, 119) (100,)\n",
      "201 (100, 118) (100,)\n",
      "202 (100, 117) (100,)\n",
      "203 (100, 116) (100,)\n",
      "204 (100, 115) (100,)\n",
      "205 (100, 114) (100,)\n",
      "206 (100, 113) (100,)\n",
      "207 (100, 112) (100,)\n",
      "208 (100, 111) (100,)\n",
      "209 (100, 110) (100,)\n",
      "210 (100, 109) (100,)\n",
      "211 (100, 108) (100,)\n",
      "212 (100, 107) (100,)\n",
      "213 (100, 106) (100,)\n",
      "214 (100, 105) (100,)\n",
      "215 (100, 104) (100,)\n",
      "216 (100, 103) (100,)\n",
      "217 (100, 102) (100,)\n",
      "218 (100, 101) (100,)\n",
      "219 (100, 100) (100,)\n",
      "220 (100, 99) (100,)\n",
      "221 (100, 98) (100,)\n",
      "222 (100, 97) (100,)\n",
      "223 (100, 96) (100,)\n",
      "224 (100, 95) (100,)\n",
      "225 (100, 94) (100,)\n",
      "226 (100, 93) (100,)\n",
      "227 (100, 92) (100,)\n",
      "228 (100, 91) (100,)\n",
      "229 (100, 90) (100,)\n",
      "230 (100, 89) (100,)\n",
      "231 (100, 88) (100,)\n",
      "232 (100, 87) (100,)\n",
      "233 (100, 86) (100,)\n",
      "234 (100, 85) (100,)\n",
      "235 (100, 84) (100,)\n",
      "236 (100, 83) (100,)\n",
      "237 (100, 82) (100,)\n",
      "238 (100, 81) (100,)\n",
      "239 (100, 80) (100,)\n",
      "240 (100, 79) (100,)\n",
      "241 (100, 78) (100,)\n",
      "242 (100, 77) (100,)\n",
      "243 (100, 76) (100,)\n",
      "244 (100, 75) (100,)\n",
      "245 (100, 74) (100,)\n",
      "246 (100, 73) (100,)\n",
      "247 (100, 72) (100,)\n",
      "248 (100, 71) (100,)\n",
      "249 (100, 70) (100,)\n",
      "250 (100, 69) (100,)\n",
      "251 (100, 68) (100,)\n",
      "252 (100, 67) (100,)\n",
      "253 (100, 66) (100,)\n",
      "254 (100, 65) (100,)\n",
      "255 (100, 64) (100,)\n",
      "256 (100, 63) (100,)\n",
      "257 (100, 62) (100,)\n",
      "258 (100, 61) (100,)\n",
      "259 (100, 60) (100,)\n",
      "260 (100, 59) (100,)\n",
      "261 (100, 58) (100,)\n",
      "262 (100, 57) (100,)\n",
      "263 (100, 56) (100,)\n",
      "264 (100, 55) (100,)\n",
      "265 (100, 54) (100,)\n",
      "266 (100, 53) (100,)\n",
      "267 (100, 52) (100,)\n",
      "268 (100, 51) (100,)\n",
      "269 (100, 50) (100,)\n",
      "270 (100, 49) (100,)\n",
      "271 (100, 48) (100,)\n",
      "272 (100, 47) (100,)\n",
      "273 (100, 46) (100,)\n",
      "274 (100, 45) (100,)\n",
      "275 (100, 44) (100,)\n",
      "276 (100, 43) (100,)\n",
      "277 (100, 42) (100,)\n",
      "278 (100, 41) (100,)\n",
      "279 (100, 40) (100,)\n",
      "280 (100, 39) (100,)\n",
      "281 (100, 38) (100,)\n",
      "282 (100, 37) (100,)\n",
      "283 (100, 36) (100,)\n",
      "284 (100, 35) (100,)\n",
      "285 (100, 34) (100,)\n",
      "286 (100, 33) (100,)\n",
      "287 (100, 32) (100,)\n",
      "288 (100, 31) (100,)\n",
      "289 (100, 30) (100,)\n",
      "290 (100, 29) (100,)\n",
      "291 (100, 28) (100,)\n",
      "292 (100, 27) (100,)\n",
      "293 (100, 26) (100,)\n",
      "294 (100, 25) (100,)\n",
      "295 (100, 24) (100,)\n",
      "296 (100, 23) (100,)\n",
      "297 (100, 22) (100,)\n",
      "298 (100, 21) (100,)\n",
      "299 (100, 20) (100,)\n",
      "300 (100, 19) (100,)\n",
      "301 (100, 18) (100,)\n",
      "302 (100, 17) (100,)\n",
      "303 (100, 16) (100,)\n",
      "304 (100, 15) (100,)\n",
      "305 (100, 14) (100,)\n",
      "306 (100, 13) (100,)\n",
      "307 (100, 12) (100,)\n",
      "308 (100, 11) (100,)\n",
      "309 (100, 10) (100,)\n",
      "310 (100, 9) (100,)\n",
      "311 (100, 8) (100,)\n",
      "312 (100, 7) (100,)\n",
      "313 (100, 6) (100,)\n",
      "314 (100, 5) (100,)\n",
      "315 (100, 4) (100,)\n",
      "30% completed3\n",
      "(319, 1)\n",
      "(100, 319) (100, 319)\n",
      "0 (100, 319) (100,)\n",
      "1 (100, 318) (100,)\n",
      "2 (100, 317) (100,)\n",
      "3 (100, 316) (100,)\n",
      "4 (100, 315) (100,)\n",
      "5 (100, 314) (100,)\n",
      "6 (100, 313) (100,)\n",
      "7 (100, 312) (100,)\n",
      "8 (100, 311) (100,)\n",
      "9 (100, 310) (100,)\n",
      "10 (100, 309) (100,)\n",
      "11 (100, 308) (100,)\n",
      "12 (100, 307) (100,)\n",
      "13 (100, 306) (100,)\n",
      "14 (100, 305) (100,)\n",
      "15 (100, 304) (100,)\n",
      "16 (100, 303) (100,)\n",
      "17 (100, 302) (100,)\n",
      "18 (100, 301) (100,)\n",
      "19 (100, 300) (100,)\n",
      "20 (100, 299) (100,)\n"
     ]
    },
    {
     "name": "stderr",
     "output_type": "stream",
     "text": [
      "C:\\Users\\15086\\anaconda3\\envs\\wenqu_gdal\\lib\\site-packages\\sklearn\\cross_decomposition\\_pls.py:503: FutureWarning: The attribute `coef_` will be transposed in version 1.3 to be consistent with other linear models in scikit-learn. Currently, `coef_` has a shape of (n_features, n_targets) and in the future it will have a shape of (n_targets, n_features).\n",
      "  warnings.warn(\n"
     ]
    },
    {
     "name": "stdout",
     "output_type": "stream",
     "text": [
      "21 (100, 298) (100,)\n",
      "22 (100, 297) (100,)\n",
      "23 (100, 296) (100,)\n",
      "24 (100, 295) (100,)\n",
      "25 (100, 294) (100,)\n",
      "26 (100, 293) (100,)\n",
      "27 (100, 292) (100,)\n",
      "28 (100, 291) (100,)\n",
      "29 (100, 290) (100,)\n",
      "30 (100, 289) (100,)\n",
      "31 (100, 288) (100,)\n",
      "32 (100, 287) (100,)\n",
      "33 (100, 286) (100,)\n",
      "34 (100, 285) (100,)\n",
      "35 (100, 284) (100,)\n",
      "36 (100, 283) (100,)\n",
      "37 (100, 282) (100,)\n",
      "38 (100, 281) (100,)\n",
      "39 (100, 280) (100,)\n",
      "40 (100, 279) (100,)\n",
      "41 (100, 278) (100,)\n",
      "42 (100, 277) (100,)\n",
      "43 (100, 276) (100,)\n",
      "44 (100, 275) (100,)\n",
      "45 (100, 274) (100,)\n",
      "46 (100, 273) (100,)\n",
      "47 (100, 272) (100,)\n",
      "48 (100, 271) (100,)\n",
      "49 (100, 270) (100,)\n",
      "50 (100, 269) (100,)\n",
      "51 (100, 268) (100,)\n",
      "52 (100, 267) (100,)\n",
      "53 (100, 266) (100,)\n",
      "54 (100, 265) (100,)\n",
      "55 (100, 264) (100,)\n",
      "56 (100, 263) (100,)\n",
      "57 (100, 262) (100,)\n",
      "58 (100, 261) (100,)\n",
      "59 (100, 260) (100,)\n",
      "60 (100, 259) (100,)\n",
      "61 (100, 258) (100,)\n",
      "62 (100, 257) (100,)\n",
      "63 (100, 256) (100,)\n",
      "64 (100, 255) (100,)\n",
      "65 (100, 254) (100,)\n",
      "66 (100, 253) (100,)\n",
      "67 (100, 252) (100,)\n",
      "68 (100, 251) (100,)\n",
      "69 (100, 250) (100,)\n",
      "70 (100, 249) (100,)\n",
      "71 (100, 248) (100,)\n",
      "72 (100, 247) (100,)\n",
      "73 (100, 246) (100,)\n",
      "74 (100, 245) (100,)\n",
      "75 (100, 244) (100,)\n",
      "76 (100, 243) (100,)\n",
      "77 (100, 242) (100,)\n",
      "78 (100, 241) (100,)\n",
      "79 (100, 240) (100,)\n",
      "80 (100, 239) (100,)\n",
      "81 (100, 238) (100,)\n",
      "82 (100, 237) (100,)\n",
      "83 (100, 236) (100,)\n",
      "84 (100, 235) (100,)\n",
      "85 (100, 234) (100,)\n",
      "86 (100, 233) (100,)\n",
      "87 (100, 232) (100,)\n",
      "88 (100, 231) (100,)\n",
      "89 (100, 230) (100,)\n",
      "90 (100, 229) (100,)\n",
      "91 (100, 228) (100,)\n",
      "92 (100, 227) (100,)\n",
      "93 (100, 226) (100,)\n",
      "94 (100, 225) (100,)\n",
      "95 (100, 224) (100,)\n",
      "96 (100, 223) (100,)\n",
      "97 (100, 222) (100,)\n",
      "98 (100, 221) (100,)\n",
      "99 (100, 220) (100,)\n",
      "100 (100, 219) (100,)\n",
      "101 (100, 218) (100,)\n",
      "102 (100, 217) (100,)\n",
      "103 (100, 216) (100,)\n",
      "104 (100, 215) (100,)\n",
      "105 (100, 214) (100,)\n",
      "106 (100, 213) (100,)\n",
      "107 (100, 212) (100,)\n",
      "108 (100, 211) (100,)\n",
      "109 (100, 210) (100,)\n",
      "110 (100, 209) (100,)\n",
      "111 (100, 208) (100,)\n",
      "112 (100, 207) (100,)\n",
      "113 (100, 206) (100,)\n",
      "114 (100, 205) (100,)\n",
      "115 (100, 204) (100,)\n",
      "116 (100, 203) (100,)\n",
      "117 (100, 202) (100,)\n",
      "118 (100, 201) (100,)\n",
      "119 (100, 200) (100,)\n",
      "120 (100, 199) (100,)\n",
      "121 (100, 198) (100,)\n",
      "122 (100, 197) (100,)\n",
      "123 (100, 196) (100,)\n",
      "124 (100, 195) (100,)\n",
      "125 (100, 194) (100,)\n",
      "126 (100, 193) (100,)\n",
      "127 (100, 192) (100,)\n",
      "128 (100, 191) (100,)\n",
      "129 (100, 190) (100,)\n",
      "130 (100, 189) (100,)\n",
      "131 (100, 188) (100,)\n",
      "132 (100, 187) (100,)\n",
      "133 (100, 186) (100,)\n",
      "134 (100, 185) (100,)\n",
      "135 (100, 184) (100,)\n",
      "136 (100, 183) (100,)\n",
      "137 (100, 182) (100,)\n",
      "138 (100, 181) (100,)\n",
      "139 (100, 180) (100,)\n",
      "140 (100, 179) (100,)\n",
      "141 (100, 178) (100,)\n",
      "142 (100, 177) (100,)\n",
      "143 (100, 176) (100,)\n",
      "144 (100, 175) (100,)\n",
      "145 (100, 174) (100,)\n",
      "146 (100, 173) (100,)\n",
      "147 (100, 172) (100,)\n",
      "148 (100, 171) (100,)\n",
      "149 (100, 170) (100,)\n",
      "150 (100, 169) (100,)\n",
      "151 (100, 168) (100,)\n",
      "152 (100, 167) (100,)\n",
      "153 (100, 166) (100,)\n",
      "154 (100, 165) (100,)\n",
      "155 (100, 164) (100,)\n",
      "156 (100, 163) (100,)\n",
      "157 (100, 162) (100,)\n",
      "158 (100, 161) (100,)\n",
      "159 (100, 160) (100,)\n",
      "160 (100, 159) (100,)\n",
      "161 (100, 158) (100,)\n",
      "162 (100, 157) (100,)\n",
      "163 (100, 156) (100,)\n",
      "164 (100, 155) (100,)\n",
      "165 (100, 154) (100,)\n",
      "166 (100, 153) (100,)\n",
      "167 (100, 152) (100,)\n",
      "168 (100, 151) (100,)\n",
      "169 (100, 150) (100,)\n",
      "170 (100, 149) (100,)\n",
      "171 (100, 148) (100,)\n",
      "172 (100, 147) (100,)\n",
      "173 (100, 146) (100,)\n",
      "174 (100, 145) (100,)\n",
      "175 (100, 144) (100,)\n",
      "176 (100, 143) (100,)\n",
      "177 (100, 142) (100,)\n",
      "178 (100, 141) (100,)\n",
      "179 (100, 140) (100,)\n",
      "180 (100, 139) (100,)\n",
      "181 (100, 138) (100,)\n",
      "182 (100, 137) (100,)\n",
      "183 (100, 136) (100,)\n",
      "184 (100, 135) (100,)\n",
      "185 (100, 134) (100,)\n",
      "186 (100, 133) (100,)\n",
      "187 (100, 132) (100,)\n",
      "188 (100, 131) (100,)\n",
      "189 (100, 130) (100,)\n",
      "190 (100, 129) (100,)\n",
      "191 (100, 128) (100,)\n",
      "192 (100, 127) (100,)\n",
      "193 (100, 126) (100,)\n",
      "194 (100, 125) (100,)\n",
      "195 (100, 124) (100,)\n",
      "196 (100, 123) (100,)\n",
      "197 (100, 122) (100,)\n",
      "198 (100, 121) (100,)\n",
      "199 (100, 120) (100,)\n",
      "200 (100, 119) (100,)\n",
      "201 (100, 118) (100,)\n",
      "202 (100, 117) (100,)\n",
      "203 (100, 116) (100,)\n",
      "204 (100, 115) (100,)\n",
      "205 (100, 114) (100,)\n",
      "206 (100, 113) (100,)\n",
      "207 (100, 112) (100,)\n",
      "208 (100, 111) (100,)\n",
      "209 (100, 110) (100,)\n",
      "210 (100, 109) (100,)\n",
      "211 (100, 108) (100,)\n",
      "212 (100, 107) (100,)\n",
      "213 (100, 106) (100,)\n",
      "214 (100, 105) (100,)\n",
      "215 (100, 104) (100,)\n",
      "216 (100, 103) (100,)\n",
      "217 (100, 102) (100,)\n",
      "218 (100, 101) (100,)\n",
      "219 (100, 100) (100,)\n",
      "220 (100, 99) (100,)\n",
      "221 (100, 98) (100,)\n",
      "222 (100, 97) (100,)\n",
      "223 (100, 96) (100,)\n",
      "224 (100, 95) (100,)\n",
      "225 (100, 94) (100,)\n",
      "226 (100, 93) (100,)\n",
      "227 (100, 92) (100,)\n",
      "228 (100, 91) (100,)\n",
      "229 (100, 90) (100,)\n",
      "230 (100, 89) (100,)\n",
      "231 (100, 88) (100,)\n",
      "232 (100, 87) (100,)\n",
      "233 (100, 86) (100,)\n",
      "234 (100, 85) (100,)\n",
      "235 (100, 84) (100,)\n",
      "236 (100, 83) (100,)\n",
      "237 (100, 82) (100,)\n",
      "238 (100, 81) (100,)\n",
      "239 (100, 80) (100,)\n",
      "240 (100, 79) (100,)\n",
      "241 (100, 78) (100,)\n",
      "242 (100, 77) (100,)\n",
      "243 (100, 76) (100,)\n",
      "244 (100, 75) (100,)\n",
      "245 (100, 74) (100,)\n",
      "246 (100, 73) (100,)\n",
      "247 (100, 72) (100,)\n",
      "248 (100, 71) (100,)\n",
      "249 (100, 70) (100,)\n",
      "250 (100, 69) (100,)\n",
      "251 (100, 68) (100,)\n",
      "252 (100, 67) (100,)\n",
      "253 (100, 66) (100,)\n",
      "254 (100, 65) (100,)\n",
      "255 (100, 64) (100,)\n",
      "256 (100, 63) (100,)\n",
      "257 (100, 62) (100,)\n",
      "258 (100, 61) (100,)\n",
      "259 (100, 60) (100,)\n",
      "260 (100, 59) (100,)\n",
      "261 (100, 58) (100,)\n",
      "262 (100, 57) (100,)\n",
      "263 (100, 56) (100,)\n",
      "264 (100, 55) (100,)\n",
      "265 (100, 54) (100,)\n",
      "266 (100, 53) (100,)\n",
      "267 (100, 52) (100,)\n",
      "268 (100, 51) (100,)\n",
      "269 (100, 50) (100,)\n",
      "270 (100, 49) (100,)\n",
      "271 (100, 48) (100,)\n",
      "272 (100, 47) (100,)\n",
      "273 (100, 46) (100,)\n",
      "274 (100, 45) (100,)\n",
      "275 (100, 44) (100,)\n",
      "276 (100, 43) (100,)\n",
      "277 (100, 42) (100,)\n",
      "278 (100, 41) (100,)\n",
      "279 (100, 40) (100,)\n",
      "280 (100, 39) (100,)\n",
      "281 (100, 38) (100,)\n",
      "282 (100, 37) (100,)\n",
      "283 (100, 36) (100,)\n",
      "284 (100, 35) (100,)\n",
      "285 (100, 34) (100,)\n",
      "286 (100, 33) (100,)\n",
      "287 (100, 32) (100,)\n",
      "288 (100, 31) (100,)\n",
      "289 (100, 30) (100,)\n",
      "290 (100, 29) (100,)\n",
      "291 (100, 28) (100,)\n",
      "292 (100, 27) (100,)\n",
      "293 (100, 26) (100,)\n",
      "294 (100, 25) (100,)\n",
      "295 (100, 24) (100,)\n",
      "296 (100, 23) (100,)\n",
      "297 (100, 22) (100,)\n",
      "298 (100, 21) (100,)\n",
      "299 (100, 20) (100,)\n",
      "300 (100, 19) (100,)\n",
      "301 (100, 18) (100,)\n",
      "302 (100, 17) (100,)\n",
      "303 (100, 16) (100,)\n",
      "304 (100, 15) (100,)\n",
      "305 (100, 14) (100,)\n",
      "306 (100, 13) (100,)\n",
      "307 (100, 12) (100,)\n",
      "308 (100, 11) (100,)\n",
      "309 (100, 10) (100,)\n",
      "310 (100, 9) (100,)\n",
      "311 (100, 8) (100,)\n",
      "312 (100, 7) (100,)\n",
      "313 (100, 6) (100,)\n",
      "314 (100, 5) (100,)\n",
      "40% completed4\n",
      "(319, 1)\n",
      "(100, 319) (100, 319)\n",
      "0 (100, 319) (100,)\n",
      "1 (100, 318) (100,)\n",
      "2 (100, 317) (100,)\n",
      "3 (100, 316) (100,)\n",
      "4 (100, 315) (100,)\n",
      "5 (100, 314) (100,)\n",
      "6 (100, 313) (100,)\n",
      "7 (100, 312) (100,)\n",
      "8 (100, 311) (100,)\n",
      "9 (100, 310) (100,)\n",
      "10 (100, 309) (100,)\n",
      "11 (100, 308) (100,)\n",
      "12 (100, 307) (100,)\n",
      "13 (100, 306) (100,)\n",
      "14 (100, 305) (100,)\n",
      "15 (100, 304) (100,)\n",
      "16 (100, 303) (100,)\n",
      "17 (100, 302) (100,)\n",
      "18 (100, 301) (100,)\n"
     ]
    },
    {
     "name": "stderr",
     "output_type": "stream",
     "text": [
      "C:\\Users\\15086\\anaconda3\\envs\\wenqu_gdal\\lib\\site-packages\\sklearn\\cross_decomposition\\_pls.py:503: FutureWarning: The attribute `coef_` will be transposed in version 1.3 to be consistent with other linear models in scikit-learn. Currently, `coef_` has a shape of (n_features, n_targets) and in the future it will have a shape of (n_targets, n_features).\n",
      "  warnings.warn(\n"
     ]
    },
    {
     "name": "stdout",
     "output_type": "stream",
     "text": [
      "19 (100, 300) (100,)\n",
      "20 (100, 299) (100,)\n",
      "21 (100, 298) (100,)\n",
      "22 (100, 297) (100,)\n",
      "23 (100, 296) (100,)\n",
      "24 (100, 295) (100,)\n",
      "25 (100, 294) (100,)\n",
      "26 (100, 293) (100,)\n",
      "27 (100, 292) (100,)\n",
      "28 (100, 291) (100,)\n",
      "29 (100, 290) (100,)\n",
      "30 (100, 289) (100,)\n",
      "31 (100, 288) (100,)\n",
      "32 (100, 287) (100,)\n",
      "33 (100, 286) (100,)\n",
      "34 (100, 285) (100,)\n",
      "35 (100, 284) (100,)\n",
      "36 (100, 283) (100,)\n",
      "37 (100, 282) (100,)\n",
      "38 (100, 281) (100,)\n",
      "39 (100, 280) (100,)\n",
      "40 (100, 279) (100,)\n",
      "41 (100, 278) (100,)\n",
      "42 (100, 277) (100,)\n",
      "43 (100, 276) (100,)\n",
      "44 (100, 275) (100,)\n",
      "45 (100, 274) (100,)\n",
      "46 (100, 273) (100,)\n",
      "47 (100, 272) (100,)\n",
      "48 (100, 271) (100,)\n",
      "49 (100, 270) (100,)\n",
      "50 (100, 269) (100,)\n",
      "51 (100, 268) (100,)\n",
      "52 (100, 267) (100,)\n",
      "53 (100, 266) (100,)\n",
      "54 (100, 265) (100,)\n",
      "55 (100, 264) (100,)\n",
      "56 (100, 263) (100,)\n",
      "57 (100, 262) (100,)\n",
      "58 (100, 261) (100,)\n",
      "59 (100, 260) (100,)\n",
      "60 (100, 259) (100,)\n",
      "61 (100, 258) (100,)\n",
      "62 (100, 257) (100,)\n",
      "63 (100, 256) (100,)\n",
      "64 (100, 255) (100,)\n",
      "65 (100, 254) (100,)\n",
      "66 (100, 253) (100,)\n",
      "67 (100, 252) (100,)\n",
      "68 (100, 251) (100,)\n",
      "69 (100, 250) (100,)\n",
      "70 (100, 249) (100,)\n",
      "71 (100, 248) (100,)\n",
      "72 (100, 247) (100,)\n",
      "73 (100, 246) (100,)\n",
      "74 (100, 245) (100,)\n",
      "75 (100, 244) (100,)\n",
      "76 (100, 243) (100,)\n",
      "77 (100, 242) (100,)\n",
      "78 (100, 241) (100,)\n",
      "79 (100, 240) (100,)\n",
      "80 (100, 239) (100,)\n",
      "81 (100, 238) (100,)\n",
      "82 (100, 237) (100,)\n",
      "83 (100, 236) (100,)\n",
      "84 (100, 235) (100,)\n",
      "85 (100, 234) (100,)\n",
      "86 (100, 233) (100,)\n",
      "87 (100, 232) (100,)\n",
      "88 (100, 231) (100,)\n",
      "89 (100, 230) (100,)\n",
      "90 (100, 229) (100,)\n",
      "91 (100, 228) (100,)\n",
      "92 (100, 227) (100,)\n",
      "93 (100, 226) (100,)\n",
      "94 (100, 225) (100,)\n",
      "95 (100, 224) (100,)\n",
      "96 (100, 223) (100,)\n",
      "97 (100, 222) (100,)\n",
      "98 (100, 221) (100,)\n",
      "99 (100, 220) (100,)\n",
      "100 (100, 219) (100,)\n",
      "101 (100, 218) (100,)\n",
      "102 (100, 217) (100,)\n",
      "103 (100, 216) (100,)\n",
      "104 (100, 215) (100,)\n",
      "105 (100, 214) (100,)\n",
      "106 (100, 213) (100,)\n",
      "107 (100, 212) (100,)\n",
      "108 (100, 211) (100,)\n",
      "109 (100, 210) (100,)\n",
      "110 (100, 209) (100,)\n",
      "111 (100, 208) (100,)\n",
      "112 (100, 207) (100,)\n",
      "113 (100, 206) (100,)\n",
      "114 (100, 205) (100,)\n",
      "115 (100, 204) (100,)\n",
      "116 (100, 203) (100,)\n",
      "117 (100, 202) (100,)\n",
      "118 (100, 201) (100,)\n",
      "119 (100, 200) (100,)\n",
      "120 (100, 199) (100,)\n",
      "121 (100, 198) (100,)\n",
      "122 (100, 197) (100,)\n",
      "123 (100, 196) (100,)\n",
      "124 (100, 195) (100,)\n",
      "125 (100, 194) (100,)\n",
      "126 (100, 193) (100,)\n",
      "127 (100, 192) (100,)\n",
      "128 (100, 191) (100,)\n",
      "129 (100, 190) (100,)\n",
      "130 (100, 189) (100,)\n",
      "131 (100, 188) (100,)\n",
      "132 (100, 187) (100,)\n",
      "133 (100, 186) (100,)\n",
      "134 (100, 185) (100,)\n",
      "135 (100, 184) (100,)\n",
      "136 (100, 183) (100,)\n",
      "137 (100, 182) (100,)\n",
      "138 (100, 181) (100,)\n",
      "139 (100, 180) (100,)\n",
      "140 (100, 179) (100,)\n",
      "141 (100, 178) (100,)\n",
      "142 (100, 177) (100,)\n",
      "143 (100, 176) (100,)\n",
      "144 (100, 175) (100,)\n",
      "145 (100, 174) (100,)\n",
      "146 (100, 173) (100,)\n",
      "147 (100, 172) (100,)\n",
      "148 (100, 171) (100,)\n",
      "149 (100, 170) (100,)\n",
      "150 (100, 169) (100,)\n",
      "151 (100, 168) (100,)\n",
      "152 (100, 167) (100,)\n",
      "153 (100, 166) (100,)\n",
      "154 (100, 165) (100,)\n",
      "155 (100, 164) (100,)\n",
      "156 (100, 163) (100,)\n",
      "157 (100, 162) (100,)\n",
      "158 (100, 161) (100,)\n",
      "159 (100, 160) (100,)\n",
      "160 (100, 159) (100,)\n",
      "161 (100, 158) (100,)\n",
      "162 (100, 157) (100,)\n",
      "163 (100, 156) (100,)\n",
      "164 (100, 155) (100,)\n",
      "165 (100, 154) (100,)\n",
      "166 (100, 153) (100,)\n",
      "167 (100, 152) (100,)\n",
      "168 (100, 151) (100,)\n",
      "169 (100, 150) (100,)\n",
      "170 (100, 149) (100,)\n",
      "171 (100, 148) (100,)\n",
      "172 (100, 147) (100,)\n",
      "173 (100, 146) (100,)\n",
      "174 (100, 145) (100,)\n",
      "175 (100, 144) (100,)\n",
      "176 (100, 143) (100,)\n",
      "177 (100, 142) (100,)\n",
      "178 (100, 141) (100,)\n",
      "179 (100, 140) (100,)\n",
      "180 (100, 139) (100,)\n",
      "181 (100, 138) (100,)\n",
      "182 (100, 137) (100,)\n",
      "183 (100, 136) (100,)\n",
      "184 (100, 135) (100,)\n",
      "185 (100, 134) (100,)\n",
      "186 (100, 133) (100,)\n",
      "187 (100, 132) (100,)\n",
      "188 (100, 131) (100,)\n",
      "189 (100, 130) (100,)\n",
      "190 (100, 129) (100,)\n",
      "191 (100, 128) (100,)\n",
      "192 (100, 127) (100,)\n",
      "193 (100, 126) (100,)\n",
      "194 (100, 125) (100,)\n",
      "195 (100, 124) (100,)\n",
      "196 (100, 123) (100,)\n",
      "197 (100, 122) (100,)\n",
      "198 (100, 121) (100,)\n",
      "199 (100, 120) (100,)\n",
      "200 (100, 119) (100,)\n",
      "201 (100, 118) (100,)\n",
      "202 (100, 117) (100,)\n",
      "203 (100, 116) (100,)\n",
      "204 (100, 115) (100,)\n",
      "205 (100, 114) (100,)\n",
      "206 (100, 113) (100,)\n",
      "207 (100, 112) (100,)\n",
      "208 (100, 111) (100,)\n",
      "209 (100, 110) (100,)\n",
      "210 (100, 109) (100,)\n",
      "211 (100, 108) (100,)\n",
      "212 (100, 107) (100,)\n",
      "213 (100, 106) (100,)\n",
      "214 (100, 105) (100,)\n",
      "215 (100, 104) (100,)\n",
      "216 (100, 103) (100,)\n",
      "217 (100, 102) (100,)\n",
      "218 (100, 101) (100,)\n",
      "219 (100, 100) (100,)\n",
      "220 (100, 99) (100,)\n",
      "221 (100, 98) (100,)\n",
      "222 (100, 97) (100,)\n",
      "223 (100, 96) (100,)\n",
      "224 (100, 95) (100,)\n",
      "225 (100, 94) (100,)\n",
      "226 (100, 93) (100,)\n",
      "227 (100, 92) (100,)\n",
      "228 (100, 91) (100,)\n",
      "229 (100, 90) (100,)\n",
      "230 (100, 89) (100,)\n",
      "231 (100, 88) (100,)\n",
      "232 (100, 87) (100,)\n",
      "233 (100, 86) (100,)\n",
      "234 (100, 85) (100,)\n",
      "235 (100, 84) (100,)\n",
      "236 (100, 83) (100,)\n",
      "237 (100, 82) (100,)\n",
      "238 (100, 81) (100,)\n",
      "239 (100, 80) (100,)\n",
      "240 (100, 79) (100,)\n",
      "241 (100, 78) (100,)\n",
      "242 (100, 77) (100,)\n",
      "243 (100, 76) (100,)\n",
      "244 (100, 75) (100,)\n",
      "245 (100, 74) (100,)\n",
      "246 (100, 73) (100,)\n",
      "247 (100, 72) (100,)\n",
      "248 (100, 71) (100,)\n",
      "249 (100, 70) (100,)\n",
      "250 (100, 69) (100,)\n",
      "251 (100, 68) (100,)\n",
      "252 (100, 67) (100,)\n",
      "253 (100, 66) (100,)\n",
      "254 (100, 65) (100,)\n",
      "255 (100, 64) (100,)\n",
      "256 (100, 63) (100,)\n",
      "257 (100, 62) (100,)\n",
      "258 (100, 61) (100,)\n",
      "259 (100, 60) (100,)\n",
      "260 (100, 59) (100,)\n",
      "261 (100, 58) (100,)\n",
      "262 (100, 57) (100,)\n",
      "263 (100, 56) (100,)\n",
      "264 (100, 55) (100,)\n",
      "265 (100, 54) (100,)\n",
      "266 (100, 53) (100,)\n",
      "267 (100, 52) (100,)\n",
      "268 (100, 51) (100,)\n",
      "269 (100, 50) (100,)\n",
      "270 (100, 49) (100,)\n",
      "271 (100, 48) (100,)\n",
      "272 (100, 47) (100,)\n",
      "273 (100, 46) (100,)\n",
      "274 (100, 45) (100,)\n",
      "275 (100, 44) (100,)\n",
      "276 (100, 43) (100,)\n",
      "277 (100, 42) (100,)\n",
      "278 (100, 41) (100,)\n",
      "279 (100, 40) (100,)\n",
      "280 (100, 39) (100,)\n",
      "281 (100, 38) (100,)\n",
      "282 (100, 37) (100,)\n",
      "283 (100, 36) (100,)\n",
      "284 (100, 35) (100,)\n",
      "285 (100, 34) (100,)\n",
      "286 (100, 33) (100,)\n",
      "287 (100, 32) (100,)\n",
      "288 (100, 31) (100,)\n",
      "289 (100, 30) (100,)\n",
      "290 (100, 29) (100,)\n",
      "291 (100, 28) (100,)\n",
      "292 (100, 27) (100,)\n",
      "293 (100, 26) (100,)\n",
      "294 (100, 25) (100,)\n",
      "295 (100, 24) (100,)\n",
      "296 (100, 23) (100,)\n",
      "297 (100, 22) (100,)\n",
      "298 (100, 21) (100,)\n",
      "299 (100, 20) (100,)\n",
      "300 (100, 19) (100,)\n",
      "301 (100, 18) (100,)\n",
      "302 (100, 17) (100,)\n",
      "303 (100, 16) (100,)\n",
      "304 (100, 15) (100,)\n",
      "305 (100, 14) (100,)\n",
      "306 (100, 13) (100,)\n",
      "307 (100, 12) (100,)\n",
      "308 (100, 11) (100,)\n",
      "309 (100, 10) (100,)\n",
      "310 (100, 9) (100,)\n",
      "311 (100, 8) (100,)\n",
      "312 (100, 7) (100,)\n",
      "313 (100, 6) (100,)\n",
      "50% completed5\n",
      "(319, 1)\n",
      "(100, 319) (100, 319)\n",
      "0 (100, 319) (100,)\n",
      "1 (100, 318) (100,)\n",
      "2 (100, 317) (100,)\n",
      "3 (100, 316) (100,)\n",
      "4 (100, 315) (100,)\n",
      "5 (100, 314) (100,)\n",
      "6 (100, 313) (100,)\n",
      "7 (100, 312) (100,)\n",
      "8 (100, 311) (100,)\n",
      "9 (100, 310) (100,)\n",
      "10 (100, 309) (100,)\n",
      "11 (100, 308) (100,)\n",
      "12 (100, 307) (100,)\n",
      "13 (100, 306) (100,)\n",
      "14 (100, 305) (100,)\n",
      "15 (100, 304) (100,)\n",
      "16 (100, 303) (100,)\n"
     ]
    },
    {
     "name": "stderr",
     "output_type": "stream",
     "text": [
      "C:\\Users\\15086\\anaconda3\\envs\\wenqu_gdal\\lib\\site-packages\\sklearn\\cross_decomposition\\_pls.py:503: FutureWarning: The attribute `coef_` will be transposed in version 1.3 to be consistent with other linear models in scikit-learn. Currently, `coef_` has a shape of (n_features, n_targets) and in the future it will have a shape of (n_targets, n_features).\n",
      "  warnings.warn(\n"
     ]
    },
    {
     "name": "stdout",
     "output_type": "stream",
     "text": [
      "17 (100, 302) (100,)\n",
      "18 (100, 301) (100,)\n",
      "19 (100, 300) (100,)\n",
      "20 (100, 299) (100,)\n",
      "21 (100, 298) (100,)\n",
      "22 (100, 297) (100,)\n",
      "23 (100, 296) (100,)\n",
      "24 (100, 295) (100,)\n",
      "25 (100, 294) (100,)\n",
      "26 (100, 293) (100,)\n",
      "27 (100, 292) (100,)\n",
      "28 (100, 291) (100,)\n",
      "29 (100, 290) (100,)\n",
      "30 (100, 289) (100,)\n",
      "31 (100, 288) (100,)\n",
      "32 (100, 287) (100,)\n",
      "33 (100, 286) (100,)\n",
      "34 (100, 285) (100,)\n",
      "35 (100, 284) (100,)\n",
      "36 (100, 283) (100,)\n",
      "37 (100, 282) (100,)\n",
      "38 (100, 281) (100,)\n",
      "39 (100, 280) (100,)\n",
      "40 (100, 279) (100,)\n",
      "41 (100, 278) (100,)\n",
      "42 (100, 277) (100,)\n",
      "43 (100, 276) (100,)\n",
      "44 (100, 275) (100,)\n",
      "45 (100, 274) (100,)\n",
      "46 (100, 273) (100,)\n",
      "47 (100, 272) (100,)\n",
      "48 (100, 271) (100,)\n",
      "49 (100, 270) (100,)\n",
      "50 (100, 269) (100,)\n",
      "51 (100, 268) (100,)\n",
      "52 (100, 267) (100,)\n",
      "53 (100, 266) (100,)\n",
      "54 (100, 265) (100,)\n",
      "55 (100, 264) (100,)\n",
      "56 (100, 263) (100,)\n",
      "57 (100, 262) (100,)\n",
      "58 (100, 261) (100,)\n",
      "59 (100, 260) (100,)\n",
      "60 (100, 259) (100,)\n",
      "61 (100, 258) (100,)\n",
      "62 (100, 257) (100,)\n",
      "63 (100, 256) (100,)\n",
      "64 (100, 255) (100,)\n",
      "65 (100, 254) (100,)\n",
      "66 (100, 253) (100,)\n",
      "67 (100, 252) (100,)\n",
      "68 (100, 251) (100,)\n",
      "69 (100, 250) (100,)\n",
      "70 (100, 249) (100,)\n",
      "71 (100, 248) (100,)\n",
      "72 (100, 247) (100,)\n",
      "73 (100, 246) (100,)\n",
      "74 (100, 245) (100,)\n",
      "75 (100, 244) (100,)\n",
      "76 (100, 243) (100,)\n",
      "77 (100, 242) (100,)\n",
      "78 (100, 241) (100,)\n",
      "79 (100, 240) (100,)\n",
      "80 (100, 239) (100,)\n",
      "81 (100, 238) (100,)\n",
      "82 (100, 237) (100,)\n",
      "83 (100, 236) (100,)\n",
      "84 (100, 235) (100,)\n",
      "85 (100, 234) (100,)\n",
      "86 (100, 233) (100,)\n",
      "87 (100, 232) (100,)\n",
      "88 (100, 231) (100,)\n",
      "89 (100, 230) (100,)\n",
      "90 (100, 229) (100,)\n",
      "91 (100, 228) (100,)\n",
      "92 (100, 227) (100,)\n",
      "93 (100, 226) (100,)\n",
      "94 (100, 225) (100,)\n",
      "95 (100, 224) (100,)\n",
      "96 (100, 223) (100,)\n",
      "97 (100, 222) (100,)\n",
      "98 (100, 221) (100,)\n",
      "99 (100, 220) (100,)\n",
      "100 (100, 219) (100,)\n",
      "101 (100, 218) (100,)\n",
      "102 (100, 217) (100,)\n",
      "103 (100, 216) (100,)\n",
      "104 (100, 215) (100,)\n",
      "105 (100, 214) (100,)\n",
      "106 (100, 213) (100,)\n",
      "107 (100, 212) (100,)\n",
      "108 (100, 211) (100,)\n",
      "109 (100, 210) (100,)\n",
      "110 (100, 209) (100,)\n",
      "111 (100, 208) (100,)\n",
      "112 (100, 207) (100,)\n",
      "113 (100, 206) (100,)\n",
      "114 (100, 205) (100,)\n",
      "115 (100, 204) (100,)\n",
      "116 (100, 203) (100,)\n",
      "117 (100, 202) (100,)\n",
      "118 (100, 201) (100,)\n",
      "119 (100, 200) (100,)\n",
      "120 (100, 199) (100,)\n",
      "121 (100, 198) (100,)\n",
      "122 (100, 197) (100,)\n",
      "123 (100, 196) (100,)\n",
      "124 (100, 195) (100,)\n",
      "125 (100, 194) (100,)\n",
      "126 (100, 193) (100,)\n",
      "127 (100, 192) (100,)\n",
      "128 (100, 191) (100,)\n",
      "129 (100, 190) (100,)\n",
      "130 (100, 189) (100,)\n",
      "131 (100, 188) (100,)\n",
      "132 (100, 187) (100,)\n",
      "133 (100, 186) (100,)\n",
      "134 (100, 185) (100,)\n",
      "135 (100, 184) (100,)\n",
      "136 (100, 183) (100,)\n",
      "137 (100, 182) (100,)\n",
      "138 (100, 181) (100,)\n",
      "139 (100, 180) (100,)\n",
      "140 (100, 179) (100,)\n",
      "141 (100, 178) (100,)\n",
      "142 (100, 177) (100,)\n",
      "143 (100, 176) (100,)\n",
      "144 (100, 175) (100,)\n",
      "145 (100, 174) (100,)\n",
      "146 (100, 173) (100,)\n",
      "147 (100, 172) (100,)\n",
      "148 (100, 171) (100,)\n",
      "149 (100, 170) (100,)\n",
      "150 (100, 169) (100,)\n",
      "151 (100, 168) (100,)\n",
      "152 (100, 167) (100,)\n",
      "153 (100, 166) (100,)\n",
      "154 (100, 165) (100,)\n",
      "155 (100, 164) (100,)\n",
      "156 (100, 163) (100,)\n",
      "157 (100, 162) (100,)\n",
      "158 (100, 161) (100,)\n",
      "159 (100, 160) (100,)\n",
      "160 (100, 159) (100,)\n",
      "161 (100, 158) (100,)\n",
      "162 (100, 157) (100,)\n",
      "163 (100, 156) (100,)\n",
      "164 (100, 155) (100,)\n",
      "165 (100, 154) (100,)\n",
      "166 (100, 153) (100,)\n",
      "167 (100, 152) (100,)\n",
      "168 (100, 151) (100,)\n",
      "169 (100, 150) (100,)\n",
      "170 (100, 149) (100,)\n",
      "171 (100, 148) (100,)\n",
      "172 (100, 147) (100,)\n",
      "173 (100, 146) (100,)\n",
      "174 (100, 145) (100,)\n",
      "175 (100, 144) (100,)\n",
      "176 (100, 143) (100,)\n",
      "177 (100, 142) (100,)\n",
      "178 (100, 141) (100,)\n",
      "179 (100, 140) (100,)\n",
      "180 (100, 139) (100,)\n",
      "181 (100, 138) (100,)\n",
      "182 (100, 137) (100,)\n",
      "183 (100, 136) (100,)\n",
      "184 (100, 135) (100,)\n",
      "185 (100, 134) (100,)\n",
      "186 (100, 133) (100,)\n",
      "187 (100, 132) (100,)\n",
      "188 (100, 131) (100,)\n",
      "189 (100, 130) (100,)\n",
      "190 (100, 129) (100,)\n",
      "191 (100, 128) (100,)\n",
      "192 (100, 127) (100,)\n",
      "193 (100, 126) (100,)\n",
      "194 (100, 125) (100,)\n",
      "195 (100, 124) (100,)\n",
      "196 (100, 123) (100,)\n",
      "197 (100, 122) (100,)\n",
      "198 (100, 121) (100,)\n",
      "199 (100, 120) (100,)\n",
      "200 (100, 119) (100,)\n",
      "201 (100, 118) (100,)\n",
      "202 (100, 117) (100,)\n",
      "203 (100, 116) (100,)\n",
      "204 (100, 115) (100,)\n",
      "205 (100, 114) (100,)\n",
      "206 (100, 113) (100,)\n",
      "207 (100, 112) (100,)\n",
      "208 (100, 111) (100,)\n",
      "209 (100, 110) (100,)\n",
      "210 (100, 109) (100,)\n",
      "211 (100, 108) (100,)\n",
      "212 (100, 107) (100,)\n",
      "213 (100, 106) (100,)\n",
      "214 (100, 105) (100,)\n",
      "215 (100, 104) (100,)\n",
      "216 (100, 103) (100,)\n",
      "217 (100, 102) (100,)\n",
      "218 (100, 101) (100,)\n",
      "219 (100, 100) (100,)\n",
      "220 (100, 99) (100,)\n",
      "221 (100, 98) (100,)\n",
      "222 (100, 97) (100,)\n",
      "223 (100, 96) (100,)\n",
      "224 (100, 95) (100,)\n",
      "225 (100, 94) (100,)\n",
      "226 (100, 93) (100,)\n",
      "227 (100, 92) (100,)\n",
      "228 (100, 91) (100,)\n",
      "229 (100, 90) (100,)\n",
      "230 (100, 89) (100,)\n",
      "231 (100, 88) (100,)\n",
      "232 (100, 87) (100,)\n",
      "233 (100, 86) (100,)\n",
      "234 (100, 85) (100,)\n",
      "235 (100, 84) (100,)\n",
      "236 (100, 83) (100,)\n",
      "237 (100, 82) (100,)\n",
      "238 (100, 81) (100,)\n",
      "239 (100, 80) (100,)\n",
      "240 (100, 79) (100,)\n",
      "241 (100, 78) (100,)\n",
      "242 (100, 77) (100,)\n",
      "243 (100, 76) (100,)\n",
      "244 (100, 75) (100,)\n",
      "245 (100, 74) (100,)\n",
      "246 (100, 73) (100,)\n",
      "247 (100, 72) (100,)\n",
      "248 (100, 71) (100,)\n",
      "249 (100, 70) (100,)\n",
      "250 (100, 69) (100,)\n",
      "251 (100, 68) (100,)\n",
      "252 (100, 67) (100,)\n",
      "253 (100, 66) (100,)\n",
      "254 (100, 65) (100,)\n",
      "255 (100, 64) (100,)\n",
      "256 (100, 63) (100,)\n",
      "257 (100, 62) (100,)\n",
      "258 (100, 61) (100,)\n",
      "259 (100, 60) (100,)\n",
      "260 (100, 59) (100,)\n",
      "261 (100, 58) (100,)\n",
      "262 (100, 57) (100,)\n",
      "263 (100, 56) (100,)\n",
      "264 (100, 55) (100,)\n",
      "265 (100, 54) (100,)\n",
      "266 (100, 53) (100,)\n",
      "267 (100, 52) (100,)\n",
      "268 (100, 51) (100,)\n",
      "269 (100, 50) (100,)\n",
      "270 (100, 49) (100,)\n",
      "271 (100, 48) (100,)\n",
      "272 (100, 47) (100,)\n",
      "273 (100, 46) (100,)\n",
      "274 (100, 45) (100,)\n",
      "275 (100, 44) (100,)\n",
      "276 (100, 43) (100,)\n",
      "277 (100, 42) (100,)\n",
      "278 (100, 41) (100,)\n",
      "279 (100, 40) (100,)\n",
      "280 (100, 39) (100,)\n",
      "281 (100, 38) (100,)\n",
      "282 (100, 37) (100,)\n",
      "283 (100, 36) (100,)\n",
      "284 (100, 35) (100,)\n",
      "285 (100, 34) (100,)\n",
      "286 (100, 33) (100,)\n",
      "287 (100, 32) (100,)\n",
      "288 (100, 31) (100,)\n",
      "289 (100, 30) (100,)\n",
      "290 (100, 29) (100,)\n",
      "291 (100, 28) (100,)\n",
      "292 (100, 27) (100,)\n",
      "293 (100, 26) (100,)\n",
      "294 (100, 25) (100,)\n",
      "295 (100, 24) (100,)\n",
      "296 (100, 23) (100,)\n",
      "297 (100, 22) (100,)\n",
      "298 (100, 21) (100,)\n",
      "299 (100, 20) (100,)\n",
      "300 (100, 19) (100,)\n",
      "301 (100, 18) (100,)\n",
      "302 (100, 17) (100,)\n",
      "303 (100, 16) (100,)\n",
      "304 (100, 15) (100,)\n",
      "305 (100, 14) (100,)\n",
      "306 (100, 13) (100,)\n",
      "307 (100, 12) (100,)\n",
      "308 (100, 11) (100,)\n",
      "309 (100, 10) (100,)\n",
      "310 (100, 9) (100,)\n",
      "311 (100, 8) (100,)\n",
      "312 (100, 7) (100,)\n",
      "60% completed6\n",
      "(319, 1)\n",
      "(100, 319) (100, 319)\n",
      "0 (100, 319) (100,)\n",
      "1 (100, 318) (100,)\n",
      "2 (100, 317) (100,)\n",
      "3 (100, 316) (100,)\n",
      "4 (100, 315) (100,)\n",
      "5 (100, 314) (100,)\n",
      "6 (100, 313) (100,)\n",
      "7 (100, 312) (100,)\n",
      "8 (100, 311) (100,)\n",
      "9 (100, 310) (100,)\n",
      "10 (100, 309) (100,)\n",
      "11 (100, 308) (100,)\n",
      "12 (100, 307) (100,)\n",
      "13 (100, 306) (100,)\n",
      "14 (100, 305) (100,)\n",
      "15 (100, 304) (100,)\n",
      "16 (100, 303) (100,)\n"
     ]
    },
    {
     "name": "stderr",
     "output_type": "stream",
     "text": [
      "C:\\Users\\15086\\anaconda3\\envs\\wenqu_gdal\\lib\\site-packages\\sklearn\\cross_decomposition\\_pls.py:503: FutureWarning: The attribute `coef_` will be transposed in version 1.3 to be consistent with other linear models in scikit-learn. Currently, `coef_` has a shape of (n_features, n_targets) and in the future it will have a shape of (n_targets, n_features).\n",
      "  warnings.warn(\n"
     ]
    },
    {
     "name": "stdout",
     "output_type": "stream",
     "text": [
      "17 (100, 302) (100,)\n",
      "18 (100, 301) (100,)\n",
      "19 (100, 300) (100,)\n",
      "20 (100, 299) (100,)\n",
      "21 (100, 298) (100,)\n",
      "22 (100, 297) (100,)\n",
      "23 (100, 296) (100,)\n",
      "24 (100, 295) (100,)\n",
      "25 (100, 294) (100,)\n",
      "26 (100, 293) (100,)\n",
      "27 (100, 292) (100,)\n",
      "28 (100, 291) (100,)\n",
      "29 (100, 290) (100,)\n",
      "30 (100, 289) (100,)\n",
      "31 (100, 288) (100,)\n",
      "32 (100, 287) (100,)\n",
      "33 (100, 286) (100,)\n",
      "34 (100, 285) (100,)\n",
      "35 (100, 284) (100,)\n",
      "36 (100, 283) (100,)\n",
      "37 (100, 282) (100,)\n",
      "38 (100, 281) (100,)\n",
      "39 (100, 280) (100,)\n",
      "40 (100, 279) (100,)\n",
      "41 (100, 278) (100,)\n",
      "42 (100, 277) (100,)\n",
      "43 (100, 276) (100,)\n",
      "44 (100, 275) (100,)\n",
      "45 (100, 274) (100,)\n",
      "46 (100, 273) (100,)\n",
      "47 (100, 272) (100,)\n",
      "48 (100, 271) (100,)\n",
      "49 (100, 270) (100,)\n",
      "50 (100, 269) (100,)\n",
      "51 (100, 268) (100,)\n",
      "52 (100, 267) (100,)\n",
      "53 (100, 266) (100,)\n",
      "54 (100, 265) (100,)\n",
      "55 (100, 264) (100,)\n",
      "56 (100, 263) (100,)\n",
      "57 (100, 262) (100,)\n",
      "58 (100, 261) (100,)\n",
      "59 (100, 260) (100,)\n",
      "60 (100, 259) (100,)\n",
      "61 (100, 258) (100,)\n",
      "62 (100, 257) (100,)\n",
      "63 (100, 256) (100,)\n",
      "64 (100, 255) (100,)\n",
      "65 (100, 254) (100,)\n",
      "66 (100, 253) (100,)\n",
      "67 (100, 252) (100,)\n",
      "68 (100, 251) (100,)\n",
      "69 (100, 250) (100,)\n",
      "70 (100, 249) (100,)\n",
      "71 (100, 248) (100,)\n",
      "72 (100, 247) (100,)\n",
      "73 (100, 246) (100,)\n",
      "74 (100, 245) (100,)\n",
      "75 (100, 244) (100,)\n",
      "76 (100, 243) (100,)\n",
      "77 (100, 242) (100,)\n",
      "78 (100, 241) (100,)\n",
      "79 (100, 240) (100,)\n",
      "80 (100, 239) (100,)\n",
      "81 (100, 238) (100,)\n",
      "82 (100, 237) (100,)\n",
      "83 (100, 236) (100,)\n",
      "84 (100, 235) (100,)\n",
      "85 (100, 234) (100,)\n",
      "86 (100, 233) (100,)\n",
      "87 (100, 232) (100,)\n",
      "88 (100, 231) (100,)\n",
      "89 (100, 230) (100,)\n",
      "90 (100, 229) (100,)\n",
      "91 (100, 228) (100,)\n",
      "92 (100, 227) (100,)\n",
      "93 (100, 226) (100,)\n",
      "94 (100, 225) (100,)\n",
      "95 (100, 224) (100,)\n",
      "96 (100, 223) (100,)\n",
      "97 (100, 222) (100,)\n",
      "98 (100, 221) (100,)\n",
      "99 (100, 220) (100,)\n",
      "100 (100, 219) (100,)\n",
      "101 (100, 218) (100,)\n",
      "102 (100, 217) (100,)\n",
      "103 (100, 216) (100,)\n",
      "104 (100, 215) (100,)\n",
      "105 (100, 214) (100,)\n",
      "106 (100, 213) (100,)\n",
      "107 (100, 212) (100,)\n",
      "108 (100, 211) (100,)\n",
      "109 (100, 210) (100,)\n",
      "110 (100, 209) (100,)\n",
      "111 (100, 208) (100,)\n",
      "112 (100, 207) (100,)\n",
      "113 (100, 206) (100,)\n",
      "114 (100, 205) (100,)\n",
      "115 (100, 204) (100,)\n",
      "116 (100, 203) (100,)\n",
      "117 (100, 202) (100,)\n",
      "118 (100, 201) (100,)\n",
      "119 (100, 200) (100,)\n",
      "120 (100, 199) (100,)\n",
      "121 (100, 198) (100,)\n",
      "122 (100, 197) (100,)\n",
      "123 (100, 196) (100,)\n",
      "124 (100, 195) (100,)\n",
      "125 (100, 194) (100,)\n",
      "126 (100, 193) (100,)\n",
      "127 (100, 192) (100,)\n",
      "128 (100, 191) (100,)\n",
      "129 (100, 190) (100,)\n",
      "130 (100, 189) (100,)\n",
      "131 (100, 188) (100,)\n",
      "132 (100, 187) (100,)\n",
      "133 (100, 186) (100,)\n",
      "134 (100, 185) (100,)\n",
      "135 (100, 184) (100,)\n",
      "136 (100, 183) (100,)\n",
      "137 (100, 182) (100,)\n",
      "138 (100, 181) (100,)\n",
      "139 (100, 180) (100,)\n",
      "140 (100, 179) (100,)\n",
      "141 (100, 178) (100,)\n",
      "142 (100, 177) (100,)\n",
      "143 (100, 176) (100,)\n",
      "144 (100, 175) (100,)\n",
      "145 (100, 174) (100,)\n",
      "146 (100, 173) (100,)\n",
      "147 (100, 172) (100,)\n",
      "148 (100, 171) (100,)\n",
      "149 (100, 170) (100,)\n",
      "150 (100, 169) (100,)\n",
      "151 (100, 168) (100,)\n",
      "152 (100, 167) (100,)\n",
      "153 (100, 166) (100,)\n",
      "154 (100, 165) (100,)\n",
      "155 (100, 164) (100,)\n",
      "156 (100, 163) (100,)\n",
      "157 (100, 162) (100,)\n",
      "158 (100, 161) (100,)\n",
      "159 (100, 160) (100,)\n",
      "160 (100, 159) (100,)\n",
      "161 (100, 158) (100,)\n",
      "162 (100, 157) (100,)\n",
      "163 (100, 156) (100,)\n",
      "164 (100, 155) (100,)\n",
      "165 (100, 154) (100,)\n",
      "166 (100, 153) (100,)\n",
      "167 (100, 152) (100,)\n",
      "168 (100, 151) (100,)\n",
      "169 (100, 150) (100,)\n",
      "170 (100, 149) (100,)\n",
      "171 (100, 148) (100,)\n",
      "172 (100, 147) (100,)\n",
      "173 (100, 146) (100,)\n",
      "174 (100, 145) (100,)\n",
      "175 (100, 144) (100,)\n",
      "176 (100, 143) (100,)\n",
      "177 (100, 142) (100,)\n",
      "178 (100, 141) (100,)\n",
      "179 (100, 140) (100,)\n",
      "180 (100, 139) (100,)\n",
      "181 (100, 138) (100,)\n",
      "182 (100, 137) (100,)\n",
      "183 (100, 136) (100,)\n",
      "184 (100, 135) (100,)\n",
      "185 (100, 134) (100,)\n",
      "186 (100, 133) (100,)\n",
      "187 (100, 132) (100,)\n",
      "188 (100, 131) (100,)\n",
      "189 (100, 130) (100,)\n",
      "190 (100, 129) (100,)\n",
      "191 (100, 128) (100,)\n",
      "192 (100, 127) (100,)\n",
      "193 (100, 126) (100,)\n",
      "194 (100, 125) (100,)\n",
      "195 (100, 124) (100,)\n",
      "196 (100, 123) (100,)\n",
      "197 (100, 122) (100,)\n",
      "198 (100, 121) (100,)\n",
      "199 (100, 120) (100,)\n",
      "200 (100, 119) (100,)\n",
      "201 (100, 118) (100,)\n",
      "202 (100, 117) (100,)\n",
      "203 (100, 116) (100,)\n",
      "204 (100, 115) (100,)\n",
      "205 (100, 114) (100,)\n",
      "206 (100, 113) (100,)\n",
      "207 (100, 112) (100,)\n",
      "208 (100, 111) (100,)\n",
      "209 (100, 110) (100,)\n",
      "210 (100, 109) (100,)\n",
      "211 (100, 108) (100,)\n",
      "212 (100, 107) (100,)\n",
      "213 (100, 106) (100,)\n",
      "214 (100, 105) (100,)\n",
      "215 (100, 104) (100,)\n",
      "216 (100, 103) (100,)\n",
      "217 (100, 102) (100,)\n",
      "218 (100, 101) (100,)\n",
      "219 (100, 100) (100,)\n",
      "220 (100, 99) (100,)\n",
      "221 (100, 98) (100,)\n",
      "222 (100, 97) (100,)\n",
      "223 (100, 96) (100,)\n",
      "224 (100, 95) (100,)\n",
      "225 (100, 94) (100,)\n",
      "226 (100, 93) (100,)\n",
      "227 (100, 92) (100,)\n",
      "228 (100, 91) (100,)\n",
      "229 (100, 90) (100,)\n",
      "230 (100, 89) (100,)\n",
      "231 (100, 88) (100,)\n",
      "232 (100, 87) (100,)\n",
      "233 (100, 86) (100,)\n",
      "234 (100, 85) (100,)\n",
      "235 (100, 84) (100,)\n",
      "236 (100, 83) (100,)\n",
      "237 (100, 82) (100,)\n",
      "238 (100, 81) (100,)\n",
      "239 (100, 80) (100,)\n",
      "240 (100, 79) (100,)\n",
      "241 (100, 78) (100,)\n",
      "242 (100, 77) (100,)\n",
      "243 (100, 76) (100,)\n",
      "244 (100, 75) (100,)\n",
      "245 (100, 74) (100,)\n",
      "246 (100, 73) (100,)\n",
      "247 (100, 72) (100,)\n",
      "248 (100, 71) (100,)\n",
      "249 (100, 70) (100,)\n",
      "250 (100, 69) (100,)\n",
      "251 (100, 68) (100,)\n",
      "252 (100, 67) (100,)\n",
      "253 (100, 66) (100,)\n",
      "254 (100, 65) (100,)\n",
      "255 (100, 64) (100,)\n",
      "256 (100, 63) (100,)\n",
      "257 (100, 62) (100,)\n",
      "258 (100, 61) (100,)\n",
      "259 (100, 60) (100,)\n",
      "260 (100, 59) (100,)\n",
      "261 (100, 58) (100,)\n",
      "262 (100, 57) (100,)\n",
      "263 (100, 56) (100,)\n",
      "264 (100, 55) (100,)\n",
      "265 (100, 54) (100,)\n",
      "266 (100, 53) (100,)\n",
      "267 (100, 52) (100,)\n",
      "268 (100, 51) (100,)\n",
      "269 (100, 50) (100,)\n",
      "270 (100, 49) (100,)\n",
      "271 (100, 48) (100,)\n",
      "272 (100, 47) (100,)\n",
      "273 (100, 46) (100,)\n",
      "274 (100, 45) (100,)\n",
      "275 (100, 44) (100,)\n",
      "276 (100, 43) (100,)\n",
      "277 (100, 42) (100,)\n",
      "278 (100, 41) (100,)\n",
      "279 (100, 40) (100,)\n",
      "280 (100, 39) (100,)\n",
      "281 (100, 38) (100,)\n",
      "282 (100, 37) (100,)\n",
      "283 (100, 36) (100,)\n",
      "284 (100, 35) (100,)\n",
      "285 (100, 34) (100,)\n",
      "286 (100, 33) (100,)\n",
      "287 (100, 32) (100,)\n",
      "288 (100, 31) (100,)\n",
      "289 (100, 30) (100,)\n",
      "290 (100, 29) (100,)\n",
      "291 (100, 28) (100,)\n",
      "292 (100, 27) (100,)\n",
      "293 (100, 26) (100,)\n",
      "294 (100, 25) (100,)\n",
      "295 (100, 24) (100,)\n",
      "296 (100, 23) (100,)\n",
      "297 (100, 22) (100,)\n",
      "298 (100, 21) (100,)\n",
      "299 (100, 20) (100,)\n",
      "300 (100, 19) (100,)\n",
      "301 (100, 18) (100,)\n",
      "302 (100, 17) (100,)\n",
      "303 (100, 16) (100,)\n",
      "304 (100, 15) (100,)\n",
      "305 (100, 14) (100,)\n",
      "306 (100, 13) (100,)\n",
      "307 (100, 12) (100,)\n",
      "308 (100, 11) (100,)\n",
      "309 (100, 10) (100,)\n",
      "310 (100, 9) (100,)\n",
      "311 (100, 8) (100,)\n",
      "70% completed7\n",
      "(319, 1)\n",
      "(100, 319) (100, 319)\n",
      "0 (100, 319) (100,)\n",
      "1 (100, 318) (100,)\n",
      "2 (100, 317) (100,)\n",
      "3 (100, 316) (100,)\n",
      "4 (100, 315) (100,)\n",
      "5 (100, 314) (100,)\n",
      "6 (100, 313) (100,)\n",
      "7 (100, 312) (100,)\n",
      "8 (100, 311) (100,)\n",
      "9 (100, 310) (100,)\n",
      "10 (100, 309) (100,)\n",
      "11 (100, 308) (100,)\n",
      "12 (100, 307) (100,)\n",
      "13 (100, 306) (100,)\n",
      "14 (100, 305) (100,)\n"
     ]
    },
    {
     "name": "stderr",
     "output_type": "stream",
     "text": [
      "C:\\Users\\15086\\anaconda3\\envs\\wenqu_gdal\\lib\\site-packages\\sklearn\\cross_decomposition\\_pls.py:503: FutureWarning: The attribute `coef_` will be transposed in version 1.3 to be consistent with other linear models in scikit-learn. Currently, `coef_` has a shape of (n_features, n_targets) and in the future it will have a shape of (n_targets, n_features).\n",
      "  warnings.warn(\n"
     ]
    },
    {
     "name": "stdout",
     "output_type": "stream",
     "text": [
      "15 (100, 304) (100,)\n",
      "16 (100, 303) (100,)\n",
      "17 (100, 302) (100,)\n",
      "18 (100, 301) (100,)\n",
      "19 (100, 300) (100,)\n",
      "20 (100, 299) (100,)\n",
      "21 (100, 298) (100,)\n",
      "22 (100, 297) (100,)\n",
      "23 (100, 296) (100,)\n",
      "24 (100, 295) (100,)\n",
      "25 (100, 294) (100,)\n",
      "26 (100, 293) (100,)\n",
      "27 (100, 292) (100,)\n",
      "28 (100, 291) (100,)\n",
      "29 (100, 290) (100,)\n",
      "30 (100, 289) (100,)\n",
      "31 (100, 288) (100,)\n",
      "32 (100, 287) (100,)\n",
      "33 (100, 286) (100,)\n",
      "34 (100, 285) (100,)\n",
      "35 (100, 284) (100,)\n",
      "36 (100, 283) (100,)\n",
      "37 (100, 282) (100,)\n",
      "38 (100, 281) (100,)\n",
      "39 (100, 280) (100,)\n",
      "40 (100, 279) (100,)\n",
      "41 (100, 278) (100,)\n",
      "42 (100, 277) (100,)\n",
      "43 (100, 276) (100,)\n",
      "44 (100, 275) (100,)\n",
      "45 (100, 274) (100,)\n",
      "46 (100, 273) (100,)\n",
      "47 (100, 272) (100,)\n",
      "48 (100, 271) (100,)\n",
      "49 (100, 270) (100,)\n",
      "50 (100, 269) (100,)\n",
      "51 (100, 268) (100,)\n",
      "52 (100, 267) (100,)\n",
      "53 (100, 266) (100,)\n",
      "54 (100, 265) (100,)\n",
      "55 (100, 264) (100,)\n",
      "56 (100, 263) (100,)\n",
      "57 (100, 262) (100,)\n",
      "58 (100, 261) (100,)\n",
      "59 (100, 260) (100,)\n",
      "60 (100, 259) (100,)\n",
      "61 (100, 258) (100,)\n",
      "62 (100, 257) (100,)\n",
      "63 (100, 256) (100,)\n",
      "64 (100, 255) (100,)\n",
      "65 (100, 254) (100,)\n",
      "66 (100, 253) (100,)\n",
      "67 (100, 252) (100,)\n",
      "68 (100, 251) (100,)\n",
      "69 (100, 250) (100,)\n",
      "70 (100, 249) (100,)\n",
      "71 (100, 248) (100,)\n",
      "72 (100, 247) (100,)\n",
      "73 (100, 246) (100,)\n",
      "74 (100, 245) (100,)\n",
      "75 (100, 244) (100,)\n",
      "76 (100, 243) (100,)\n",
      "77 (100, 242) (100,)\n",
      "78 (100, 241) (100,)\n",
      "79 (100, 240) (100,)\n",
      "80 (100, 239) (100,)\n",
      "81 (100, 238) (100,)\n",
      "82 (100, 237) (100,)\n",
      "83 (100, 236) (100,)\n",
      "84 (100, 235) (100,)\n",
      "85 (100, 234) (100,)\n",
      "86 (100, 233) (100,)\n",
      "87 (100, 232) (100,)\n",
      "88 (100, 231) (100,)\n",
      "89 (100, 230) (100,)\n",
      "90 (100, 229) (100,)\n",
      "91 (100, 228) (100,)\n",
      "92 (100, 227) (100,)\n",
      "93 (100, 226) (100,)\n",
      "94 (100, 225) (100,)\n",
      "95 (100, 224) (100,)\n",
      "96 (100, 223) (100,)\n",
      "97 (100, 222) (100,)\n",
      "98 (100, 221) (100,)\n",
      "99 (100, 220) (100,)\n",
      "100 (100, 219) (100,)\n",
      "101 (100, 218) (100,)\n",
      "102 (100, 217) (100,)\n",
      "103 (100, 216) (100,)\n",
      "104 (100, 215) (100,)\n",
      "105 (100, 214) (100,)\n",
      "106 (100, 213) (100,)\n",
      "107 (100, 212) (100,)\n",
      "108 (100, 211) (100,)\n",
      "109 (100, 210) (100,)\n",
      "110 (100, 209) (100,)\n",
      "111 (100, 208) (100,)\n",
      "112 (100, 207) (100,)\n",
      "113 (100, 206) (100,)\n",
      "114 (100, 205) (100,)\n",
      "115 (100, 204) (100,)\n",
      "116 (100, 203) (100,)\n",
      "117 (100, 202) (100,)\n",
      "118 (100, 201) (100,)\n",
      "119 (100, 200) (100,)\n",
      "120 (100, 199) (100,)\n",
      "121 (100, 198) (100,)\n",
      "122 (100, 197) (100,)\n",
      "123 (100, 196) (100,)\n",
      "124 (100, 195) (100,)\n",
      "125 (100, 194) (100,)\n",
      "126 (100, 193) (100,)\n",
      "127 (100, 192) (100,)\n",
      "128 (100, 191) (100,)\n",
      "129 (100, 190) (100,)\n",
      "130 (100, 189) (100,)\n",
      "131 (100, 188) (100,)\n",
      "132 (100, 187) (100,)\n",
      "133 (100, 186) (100,)\n",
      "134 (100, 185) (100,)\n",
      "135 (100, 184) (100,)\n",
      "136 (100, 183) (100,)\n",
      "137 (100, 182) (100,)\n",
      "138 (100, 181) (100,)\n",
      "139 (100, 180) (100,)\n",
      "140 (100, 179) (100,)\n",
      "141 (100, 178) (100,)\n",
      "142 (100, 177) (100,)\n",
      "143 (100, 176) (100,)\n",
      "144 (100, 175) (100,)\n",
      "145 (100, 174) (100,)\n",
      "146 (100, 173) (100,)\n",
      "147 (100, 172) (100,)\n",
      "148 (100, 171) (100,)\n",
      "149 (100, 170) (100,)\n",
      "150 (100, 169) (100,)\n",
      "151 (100, 168) (100,)\n",
      "152 (100, 167) (100,)\n",
      "153 (100, 166) (100,)\n",
      "154 (100, 165) (100,)\n",
      "155 (100, 164) (100,)\n",
      "156 (100, 163) (100,)\n",
      "157 (100, 162) (100,)\n",
      "158 (100, 161) (100,)\n",
      "159 (100, 160) (100,)\n",
      "160 (100, 159) (100,)\n",
      "161 (100, 158) (100,)\n",
      "162 (100, 157) (100,)\n",
      "163 (100, 156) (100,)\n",
      "164 (100, 155) (100,)\n",
      "165 (100, 154) (100,)\n",
      "166 (100, 153) (100,)\n",
      "167 (100, 152) (100,)\n",
      "168 (100, 151) (100,)\n",
      "169 (100, 150) (100,)\n",
      "170 (100, 149) (100,)\n",
      "171 (100, 148) (100,)\n",
      "172 (100, 147) (100,)\n",
      "173 (100, 146) (100,)\n",
      "174 (100, 145) (100,)\n",
      "175 (100, 144) (100,)\n",
      "176 (100, 143) (100,)\n",
      "177 (100, 142) (100,)\n",
      "178 (100, 141) (100,)\n",
      "179 (100, 140) (100,)\n",
      "180 (100, 139) (100,)\n",
      "181 (100, 138) (100,)\n",
      "182 (100, 137) (100,)\n",
      "183 (100, 136) (100,)\n",
      "184 (100, 135) (100,)\n",
      "185 (100, 134) (100,)\n",
      "186 (100, 133) (100,)\n",
      "187 (100, 132) (100,)\n",
      "188 (100, 131) (100,)\n",
      "189 (100, 130) (100,)\n",
      "190 (100, 129) (100,)\n",
      "191 (100, 128) (100,)\n",
      "192 (100, 127) (100,)\n",
      "193 (100, 126) (100,)\n",
      "194 (100, 125) (100,)\n",
      "195 (100, 124) (100,)\n",
      "196 (100, 123) (100,)\n",
      "197 (100, 122) (100,)\n",
      "198 (100, 121) (100,)\n",
      "199 (100, 120) (100,)\n",
      "200 (100, 119) (100,)\n",
      "201 (100, 118) (100,)\n",
      "202 (100, 117) (100,)\n",
      "203 (100, 116) (100,)\n",
      "204 (100, 115) (100,)\n",
      "205 (100, 114) (100,)\n",
      "206 (100, 113) (100,)\n",
      "207 (100, 112) (100,)\n",
      "208 (100, 111) (100,)\n",
      "209 (100, 110) (100,)\n",
      "210 (100, 109) (100,)\n",
      "211 (100, 108) (100,)\n",
      "212 (100, 107) (100,)\n",
      "213 (100, 106) (100,)\n",
      "214 (100, 105) (100,)\n",
      "215 (100, 104) (100,)\n",
      "216 (100, 103) (100,)\n",
      "217 (100, 102) (100,)\n",
      "218 (100, 101) (100,)\n",
      "219 (100, 100) (100,)\n",
      "220 (100, 99) (100,)\n",
      "221 (100, 98) (100,)\n",
      "222 (100, 97) (100,)\n",
      "223 (100, 96) (100,)\n",
      "224 (100, 95) (100,)\n",
      "225 (100, 94) (100,)\n",
      "226 (100, 93) (100,)\n",
      "227 (100, 92) (100,)\n",
      "228 (100, 91) (100,)\n",
      "229 (100, 90) (100,)\n",
      "230 (100, 89) (100,)\n",
      "231 (100, 88) (100,)\n",
      "232 (100, 87) (100,)\n",
      "233 (100, 86) (100,)\n",
      "234 (100, 85) (100,)\n",
      "235 (100, 84) (100,)\n",
      "236 (100, 83) (100,)\n",
      "237 (100, 82) (100,)\n",
      "238 (100, 81) (100,)\n",
      "239 (100, 80) (100,)\n",
      "240 (100, 79) (100,)\n",
      "241 (100, 78) (100,)\n",
      "242 (100, 77) (100,)\n",
      "243 (100, 76) (100,)\n",
      "244 (100, 75) (100,)\n",
      "245 (100, 74) (100,)\n",
      "246 (100, 73) (100,)\n",
      "247 (100, 72) (100,)\n",
      "248 (100, 71) (100,)\n",
      "249 (100, 70) (100,)\n",
      "250 (100, 69) (100,)\n",
      "251 (100, 68) (100,)\n",
      "252 (100, 67) (100,)\n",
      "253 (100, 66) (100,)\n",
      "254 (100, 65) (100,)\n",
      "255 (100, 64) (100,)\n",
      "256 (100, 63) (100,)\n",
      "257 (100, 62) (100,)\n",
      "258 (100, 61) (100,)\n",
      "259 (100, 60) (100,)\n",
      "260 (100, 59) (100,)\n",
      "261 (100, 58) (100,)\n",
      "262 (100, 57) (100,)\n",
      "263 (100, 56) (100,)\n",
      "264 (100, 55) (100,)\n",
      "265 (100, 54) (100,)\n",
      "266 (100, 53) (100,)\n",
      "267 (100, 52) (100,)\n",
      "268 (100, 51) (100,)\n",
      "269 (100, 50) (100,)\n",
      "270 (100, 49) (100,)\n",
      "271 (100, 48) (100,)\n",
      "272 (100, 47) (100,)\n",
      "273 (100, 46) (100,)\n",
      "274 (100, 45) (100,)\n",
      "275 (100, 44) (100,)\n",
      "276 (100, 43) (100,)\n",
      "277 (100, 42) (100,)\n",
      "278 (100, 41) (100,)\n",
      "279 (100, 40) (100,)\n",
      "280 (100, 39) (100,)\n",
      "281 (100, 38) (100,)\n",
      "282 (100, 37) (100,)\n",
      "283 (100, 36) (100,)\n",
      "284 (100, 35) (100,)\n",
      "285 (100, 34) (100,)\n",
      "286 (100, 33) (100,)\n",
      "287 (100, 32) (100,)\n",
      "288 (100, 31) (100,)\n",
      "289 (100, 30) (100,)\n",
      "290 (100, 29) (100,)\n",
      "291 (100, 28) (100,)\n",
      "292 (100, 27) (100,)\n",
      "293 (100, 26) (100,)\n",
      "294 (100, 25) (100,)\n",
      "295 (100, 24) (100,)\n",
      "296 (100, 23) (100,)\n",
      "297 (100, 22) (100,)\n",
      "298 (100, 21) (100,)\n",
      "299 (100, 20) (100,)\n",
      "300 (100, 19) (100,)\n",
      "301 (100, 18) (100,)\n",
      "302 (100, 17) (100,)\n",
      "303 (100, 16) (100,)\n",
      "304 (100, 15) (100,)\n",
      "305 (100, 14) (100,)\n",
      "306 (100, 13) (100,)\n",
      "307 (100, 12) (100,)\n",
      "308 (100, 11) (100,)\n",
      "309 (100, 10) (100,)\n",
      "310 (100, 9) (100,)\n",
      "80% completed8\n",
      "(319, 1)\n",
      "(100, 319) (100, 319)\n",
      "0 (100, 319) (100,)\n",
      "1 (100, 318) (100,)\n",
      "2 (100, 317) (100,)\n",
      "3 (100, 316) (100,)\n",
      "4 (100, 315) (100,)\n",
      "5 (100, 314) (100,)\n",
      "6 (100, 313) (100,)\n",
      "7 (100, 312) (100,)\n",
      "8 (100, 311) (100,)\n",
      "9 (100, 310) (100,)\n",
      "10 (100, 309) (100,)\n",
      "11 (100, 308) (100,)\n",
      "12 (100, 307) (100,)\n",
      "13 (100, 306) (100,)\n"
     ]
    },
    {
     "name": "stderr",
     "output_type": "stream",
     "text": [
      "C:\\Users\\15086\\anaconda3\\envs\\wenqu_gdal\\lib\\site-packages\\sklearn\\cross_decomposition\\_pls.py:503: FutureWarning: The attribute `coef_` will be transposed in version 1.3 to be consistent with other linear models in scikit-learn. Currently, `coef_` has a shape of (n_features, n_targets) and in the future it will have a shape of (n_targets, n_features).\n",
      "  warnings.warn(\n"
     ]
    },
    {
     "name": "stdout",
     "output_type": "stream",
     "text": [
      "14 (100, 305) (100,)\n",
      "15 (100, 304) (100,)\n",
      "16 (100, 303) (100,)\n",
      "17 (100, 302) (100,)\n",
      "18 (100, 301) (100,)\n",
      "19 (100, 300) (100,)\n",
      "20 (100, 299) (100,)\n",
      "21 (100, 298) (100,)\n",
      "22 (100, 297) (100,)\n",
      "23 (100, 296) (100,)\n",
      "24 (100, 295) (100,)\n",
      "25 (100, 294) (100,)\n",
      "26 (100, 293) (100,)\n",
      "27 (100, 292) (100,)\n",
      "28 (100, 291) (100,)\n",
      "29 (100, 290) (100,)\n",
      "30 (100, 289) (100,)\n",
      "31 (100, 288) (100,)\n",
      "32 (100, 287) (100,)\n",
      "33 (100, 286) (100,)\n",
      "34 (100, 285) (100,)\n",
      "35 (100, 284) (100,)\n",
      "36 (100, 283) (100,)\n",
      "37 (100, 282) (100,)\n",
      "38 (100, 281) (100,)\n",
      "39 (100, 280) (100,)\n",
      "40 (100, 279) (100,)\n",
      "41 (100, 278) (100,)\n",
      "42 (100, 277) (100,)\n",
      "43 (100, 276) (100,)\n",
      "44 (100, 275) (100,)\n",
      "45 (100, 274) (100,)\n",
      "46 (100, 273) (100,)\n",
      "47 (100, 272) (100,)\n",
      "48 (100, 271) (100,)\n",
      "49 (100, 270) (100,)\n",
      "50 (100, 269) (100,)\n",
      "51 (100, 268) (100,)\n",
      "52 (100, 267) (100,)\n",
      "53 (100, 266) (100,)\n",
      "54 (100, 265) (100,)\n",
      "55 (100, 264) (100,)\n",
      "56 (100, 263) (100,)\n",
      "57 (100, 262) (100,)\n",
      "58 (100, 261) (100,)\n",
      "59 (100, 260) (100,)\n",
      "60 (100, 259) (100,)\n",
      "61 (100, 258) (100,)\n",
      "62 (100, 257) (100,)\n",
      "63 (100, 256) (100,)\n",
      "64 (100, 255) (100,)\n",
      "65 (100, 254) (100,)\n",
      "66 (100, 253) (100,)\n",
      "67 (100, 252) (100,)\n",
      "68 (100, 251) (100,)\n",
      "69 (100, 250) (100,)\n",
      "70 (100, 249) (100,)\n",
      "71 (100, 248) (100,)\n",
      "72 (100, 247) (100,)\n",
      "73 (100, 246) (100,)\n",
      "74 (100, 245) (100,)\n",
      "75 (100, 244) (100,)\n",
      "76 (100, 243) (100,)\n",
      "77 (100, 242) (100,)\n",
      "78 (100, 241) (100,)\n",
      "79 (100, 240) (100,)\n",
      "80 (100, 239) (100,)\n",
      "81 (100, 238) (100,)\n",
      "82 (100, 237) (100,)\n",
      "83 (100, 236) (100,)\n",
      "84 (100, 235) (100,)\n",
      "85 (100, 234) (100,)\n",
      "86 (100, 233) (100,)\n",
      "87 (100, 232) (100,)\n",
      "88 (100, 231) (100,)\n",
      "89 (100, 230) (100,)\n",
      "90 (100, 229) (100,)\n",
      "91 (100, 228) (100,)\n",
      "92 (100, 227) (100,)\n",
      "93 (100, 226) (100,)\n",
      "94 (100, 225) (100,)\n",
      "95 (100, 224) (100,)\n",
      "96 (100, 223) (100,)\n",
      "97 (100, 222) (100,)\n",
      "98 (100, 221) (100,)\n",
      "99 (100, 220) (100,)\n",
      "100 (100, 219) (100,)\n",
      "101 (100, 218) (100,)\n",
      "102 (100, 217) (100,)\n",
      "103 (100, 216) (100,)\n",
      "104 (100, 215) (100,)\n",
      "105 (100, 214) (100,)\n",
      "106 (100, 213) (100,)\n",
      "107 (100, 212) (100,)\n",
      "108 (100, 211) (100,)\n",
      "109 (100, 210) (100,)\n",
      "110 (100, 209) (100,)\n",
      "111 (100, 208) (100,)\n",
      "112 (100, 207) (100,)\n",
      "113 (100, 206) (100,)\n",
      "114 (100, 205) (100,)\n",
      "115 (100, 204) (100,)\n",
      "116 (100, 203) (100,)\n",
      "117 (100, 202) (100,)\n",
      "118 (100, 201) (100,)\n",
      "119 (100, 200) (100,)\n",
      "120 (100, 199) (100,)\n",
      "121 (100, 198) (100,)\n",
      "122 (100, 197) (100,)\n",
      "123 (100, 196) (100,)\n",
      "124 (100, 195) (100,)\n",
      "125 (100, 194) (100,)\n",
      "126 (100, 193) (100,)\n",
      "127 (100, 192) (100,)\n",
      "128 (100, 191) (100,)\n",
      "129 (100, 190) (100,)\n",
      "130 (100, 189) (100,)\n",
      "131 (100, 188) (100,)\n",
      "132 (100, 187) (100,)\n",
      "133 (100, 186) (100,)\n",
      "134 (100, 185) (100,)\n",
      "135 (100, 184) (100,)\n",
      "136 (100, 183) (100,)\n",
      "137 (100, 182) (100,)\n",
      "138 (100, 181) (100,)\n",
      "139 (100, 180) (100,)\n",
      "140 (100, 179) (100,)\n",
      "141 (100, 178) (100,)\n",
      "142 (100, 177) (100,)\n",
      "143 (100, 176) (100,)\n",
      "144 (100, 175) (100,)\n",
      "145 (100, 174) (100,)\n",
      "146 (100, 173) (100,)\n",
      "147 (100, 172) (100,)\n",
      "148 (100, 171) (100,)\n",
      "149 (100, 170) (100,)\n",
      "150 (100, 169) (100,)\n",
      "151 (100, 168) (100,)\n",
      "152 (100, 167) (100,)\n",
      "153 (100, 166) (100,)\n",
      "154 (100, 165) (100,)\n",
      "155 (100, 164) (100,)\n",
      "156 (100, 163) (100,)\n",
      "157 (100, 162) (100,)\n",
      "158 (100, 161) (100,)\n",
      "159 (100, 160) (100,)\n",
      "160 (100, 159) (100,)\n",
      "161 (100, 158) (100,)\n",
      "162 (100, 157) (100,)\n",
      "163 (100, 156) (100,)\n",
      "164 (100, 155) (100,)\n",
      "165 (100, 154) (100,)\n",
      "166 (100, 153) (100,)\n",
      "167 (100, 152) (100,)\n",
      "168 (100, 151) (100,)\n",
      "169 (100, 150) (100,)\n",
      "170 (100, 149) (100,)\n",
      "171 (100, 148) (100,)\n",
      "172 (100, 147) (100,)\n",
      "173 (100, 146) (100,)\n",
      "174 (100, 145) (100,)\n",
      "175 (100, 144) (100,)\n",
      "176 (100, 143) (100,)\n",
      "177 (100, 142) (100,)\n",
      "178 (100, 141) (100,)\n",
      "179 (100, 140) (100,)\n",
      "180 (100, 139) (100,)\n",
      "181 (100, 138) (100,)\n",
      "182 (100, 137) (100,)\n",
      "183 (100, 136) (100,)\n",
      "184 (100, 135) (100,)\n",
      "185 (100, 134) (100,)\n",
      "186 (100, 133) (100,)\n",
      "187 (100, 132) (100,)\n",
      "188 (100, 131) (100,)\n",
      "189 (100, 130) (100,)\n",
      "190 (100, 129) (100,)\n",
      "191 (100, 128) (100,)\n",
      "192 (100, 127) (100,)\n",
      "193 (100, 126) (100,)\n",
      "194 (100, 125) (100,)\n",
      "195 (100, 124) (100,)\n",
      "196 (100, 123) (100,)\n",
      "197 (100, 122) (100,)\n",
      "198 (100, 121) (100,)\n",
      "199 (100, 120) (100,)\n",
      "200 (100, 119) (100,)\n",
      "201 (100, 118) (100,)\n",
      "202 (100, 117) (100,)\n",
      "203 (100, 116) (100,)\n",
      "204 (100, 115) (100,)\n",
      "205 (100, 114) (100,)\n",
      "206 (100, 113) (100,)\n",
      "207 (100, 112) (100,)\n",
      "208 (100, 111) (100,)\n",
      "209 (100, 110) (100,)\n",
      "210 (100, 109) (100,)\n",
      "211 (100, 108) (100,)\n",
      "212 (100, 107) (100,)\n",
      "213 (100, 106) (100,)\n",
      "214 (100, 105) (100,)\n",
      "215 (100, 104) (100,)\n",
      "216 (100, 103) (100,)\n",
      "217 (100, 102) (100,)\n",
      "218 (100, 101) (100,)\n",
      "219 (100, 100) (100,)\n",
      "220 (100, 99) (100,)\n",
      "221 (100, 98) (100,)\n",
      "222 (100, 97) (100,)\n",
      "223 (100, 96) (100,)\n",
      "224 (100, 95) (100,)\n",
      "225 (100, 94) (100,)\n",
      "226 (100, 93) (100,)\n",
      "227 (100, 92) (100,)\n",
      "228 (100, 91) (100,)\n",
      "229 (100, 90) (100,)\n",
      "230 (100, 89) (100,)\n",
      "231 (100, 88) (100,)\n",
      "232 (100, 87) (100,)\n",
      "233 (100, 86) (100,)\n",
      "234 (100, 85) (100,)\n",
      "235 (100, 84) (100,)\n",
      "236 (100, 83) (100,)\n",
      "237 (100, 82) (100,)\n",
      "238 (100, 81) (100,)\n",
      "239 (100, 80) (100,)\n",
      "240 (100, 79) (100,)\n",
      "241 (100, 78) (100,)\n",
      "242 (100, 77) (100,)\n",
      "243 (100, 76) (100,)\n",
      "244 (100, 75) (100,)\n",
      "245 (100, 74) (100,)\n",
      "246 (100, 73) (100,)\n",
      "247 (100, 72) (100,)\n",
      "248 (100, 71) (100,)\n",
      "249 (100, 70) (100,)\n",
      "250 (100, 69) (100,)\n",
      "251 (100, 68) (100,)\n",
      "252 (100, 67) (100,)\n",
      "253 (100, 66) (100,)\n",
      "254 (100, 65) (100,)\n",
      "255 (100, 64) (100,)\n",
      "256 (100, 63) (100,)\n",
      "257 (100, 62) (100,)\n",
      "258 (100, 61) (100,)\n",
      "259 (100, 60) (100,)\n",
      "260 (100, 59) (100,)\n",
      "261 (100, 58) (100,)\n",
      "262 (100, 57) (100,)\n",
      "263 (100, 56) (100,)\n",
      "264 (100, 55) (100,)\n",
      "265 (100, 54) (100,)\n",
      "266 (100, 53) (100,)\n",
      "267 (100, 52) (100,)\n",
      "268 (100, 51) (100,)\n",
      "269 (100, 50) (100,)\n",
      "270 (100, 49) (100,)\n",
      "271 (100, 48) (100,)\n",
      "272 (100, 47) (100,)\n",
      "273 (100, 46) (100,)\n",
      "274 (100, 45) (100,)\n",
      "275 (100, 44) (100,)\n",
      "276 (100, 43) (100,)\n",
      "277 (100, 42) (100,)\n",
      "278 (100, 41) (100,)\n",
      "279 (100, 40) (100,)\n",
      "280 (100, 39) (100,)\n",
      "281 (100, 38) (100,)\n",
      "282 (100, 37) (100,)\n",
      "283 (100, 36) (100,)\n",
      "284 (100, 35) (100,)\n",
      "285 (100, 34) (100,)\n",
      "286 (100, 33) (100,)\n",
      "287 (100, 32) (100,)\n",
      "288 (100, 31) (100,)\n",
      "289 (100, 30) (100,)\n",
      "290 (100, 29) (100,)\n",
      "291 (100, 28) (100,)\n",
      "292 (100, 27) (100,)\n",
      "293 (100, 26) (100,)\n",
      "294 (100, 25) (100,)\n",
      "295 (100, 24) (100,)\n",
      "296 (100, 23) (100,)\n",
      "297 (100, 22) (100,)\n",
      "298 (100, 21) (100,)\n",
      "299 (100, 20) (100,)\n",
      "300 (100, 19) (100,)\n",
      "301 (100, 18) (100,)\n",
      "302 (100, 17) (100,)\n",
      "303 (100, 16) (100,)\n",
      "304 (100, 15) (100,)\n",
      "305 (100, 14) (100,)\n",
      "306 (100, 13) (100,)\n",
      "307 (100, 12) (100,)\n",
      "308 (100, 11) (100,)\n",
      "309 (100, 10) (100,)\n",
      "90% completed9\n",
      "(319, 1)\n",
      "(100, 319) (100, 319)\n",
      "0 (100, 319) (100,)\n",
      "1 (100, 318) (100,)\n",
      "2 (100, 317) (100,)\n",
      "3 (100, 316) (100,)\n",
      "4 (100, 315) (100,)\n",
      "5 (100, 314) (100,)\n",
      "6 (100, 313) (100,)\n",
      "7 (100, 312) (100,)\n",
      "8 (100, 311) (100,)\n",
      "9 (100, 310) (100,)\n",
      "10 (100, 309) (100,)\n",
      "11 (100, 308) (100,)\n",
      "12 (100, 307) (100,)\n",
      "13 (100, 306) (100,)\n"
     ]
    },
    {
     "name": "stderr",
     "output_type": "stream",
     "text": [
      "C:\\Users\\15086\\anaconda3\\envs\\wenqu_gdal\\lib\\site-packages\\sklearn\\cross_decomposition\\_pls.py:503: FutureWarning: The attribute `coef_` will be transposed in version 1.3 to be consistent with other linear models in scikit-learn. Currently, `coef_` has a shape of (n_features, n_targets) and in the future it will have a shape of (n_targets, n_features).\n",
      "  warnings.warn(\n"
     ]
    },
    {
     "name": "stdout",
     "output_type": "stream",
     "text": [
      "14 (100, 305) (100,)\n",
      "15 (100, 304) (100,)\n",
      "16 (100, 303) (100,)\n",
      "17 (100, 302) (100,)\n",
      "18 (100, 301) (100,)\n",
      "19 (100, 300) (100,)\n",
      "20 (100, 299) (100,)\n",
      "21 (100, 298) (100,)\n",
      "22 (100, 297) (100,)\n",
      "23 (100, 296) (100,)\n",
      "24 (100, 295) (100,)\n",
      "25 (100, 294) (100,)\n",
      "26 (100, 293) (100,)\n",
      "27 (100, 292) (100,)\n",
      "28 (100, 291) (100,)\n",
      "29 (100, 290) (100,)\n",
      "30 (100, 289) (100,)\n",
      "31 (100, 288) (100,)\n",
      "32 (100, 287) (100,)\n",
      "33 (100, 286) (100,)\n",
      "34 (100, 285) (100,)\n",
      "35 (100, 284) (100,)\n",
      "36 (100, 283) (100,)\n",
      "37 (100, 282) (100,)\n",
      "38 (100, 281) (100,)\n",
      "39 (100, 280) (100,)\n",
      "40 (100, 279) (100,)\n",
      "41 (100, 278) (100,)\n",
      "42 (100, 277) (100,)\n",
      "43 (100, 276) (100,)\n",
      "44 (100, 275) (100,)\n",
      "45 (100, 274) (100,)\n",
      "46 (100, 273) (100,)\n",
      "47 (100, 272) (100,)\n",
      "48 (100, 271) (100,)\n",
      "49 (100, 270) (100,)\n",
      "50 (100, 269) (100,)\n",
      "51 (100, 268) (100,)\n",
      "52 (100, 267) (100,)\n",
      "53 (100, 266) (100,)\n",
      "54 (100, 265) (100,)\n",
      "55 (100, 264) (100,)\n",
      "56 (100, 263) (100,)\n",
      "57 (100, 262) (100,)\n",
      "58 (100, 261) (100,)\n",
      "59 (100, 260) (100,)\n",
      "60 (100, 259) (100,)\n",
      "61 (100, 258) (100,)\n",
      "62 (100, 257) (100,)\n",
      "63 (100, 256) (100,)\n",
      "64 (100, 255) (100,)\n",
      "65 (100, 254) (100,)\n",
      "66 (100, 253) (100,)\n",
      "67 (100, 252) (100,)\n",
      "68 (100, 251) (100,)\n",
      "69 (100, 250) (100,)\n",
      "70 (100, 249) (100,)\n",
      "71 (100, 248) (100,)\n",
      "72 (100, 247) (100,)\n",
      "73 (100, 246) (100,)\n",
      "74 (100, 245) (100,)\n",
      "75 (100, 244) (100,)\n",
      "76 (100, 243) (100,)\n",
      "77 (100, 242) (100,)\n",
      "78 (100, 241) (100,)\n",
      "79 (100, 240) (100,)\n",
      "80 (100, 239) (100,)\n",
      "81 (100, 238) (100,)\n",
      "82 (100, 237) (100,)\n",
      "83 (100, 236) (100,)\n",
      "84 (100, 235) (100,)\n",
      "85 (100, 234) (100,)\n",
      "86 (100, 233) (100,)\n",
      "87 (100, 232) (100,)\n",
      "88 (100, 231) (100,)\n",
      "89 (100, 230) (100,)\n",
      "90 (100, 229) (100,)\n",
      "91 (100, 228) (100,)\n",
      "92 (100, 227) (100,)\n",
      "93 (100, 226) (100,)\n",
      "94 (100, 225) (100,)\n",
      "95 (100, 224) (100,)\n",
      "96 (100, 223) (100,)\n",
      "97 (100, 222) (100,)\n",
      "98 (100, 221) (100,)\n",
      "99 (100, 220) (100,)\n",
      "100 (100, 219) (100,)\n",
      "101 (100, 218) (100,)\n",
      "102 (100, 217) (100,)\n",
      "103 (100, 216) (100,)\n",
      "104 (100, 215) (100,)\n",
      "105 (100, 214) (100,)\n",
      "106 (100, 213) (100,)\n",
      "107 (100, 212) (100,)\n",
      "108 (100, 211) (100,)\n",
      "109 (100, 210) (100,)\n",
      "110 (100, 209) (100,)\n",
      "111 (100, 208) (100,)\n",
      "112 (100, 207) (100,)\n",
      "113 (100, 206) (100,)\n",
      "114 (100, 205) (100,)\n",
      "115 (100, 204) (100,)\n",
      "116 (100, 203) (100,)\n",
      "117 (100, 202) (100,)\n",
      "118 (100, 201) (100,)\n",
      "119 (100, 200) (100,)\n",
      "120 (100, 199) (100,)\n",
      "121 (100, 198) (100,)\n",
      "122 (100, 197) (100,)\n",
      "123 (100, 196) (100,)\n",
      "124 (100, 195) (100,)\n",
      "125 (100, 194) (100,)\n",
      "126 (100, 193) (100,)\n",
      "127 (100, 192) (100,)\n",
      "128 (100, 191) (100,)\n",
      "129 (100, 190) (100,)\n",
      "130 (100, 189) (100,)\n",
      "131 (100, 188) (100,)\n",
      "132 (100, 187) (100,)\n",
      "133 (100, 186) (100,)\n",
      "134 (100, 185) (100,)\n",
      "135 (100, 184) (100,)\n",
      "136 (100, 183) (100,)\n",
      "137 (100, 182) (100,)\n",
      "138 (100, 181) (100,)\n",
      "139 (100, 180) (100,)\n",
      "140 (100, 179) (100,)\n",
      "141 (100, 178) (100,)\n",
      "142 (100, 177) (100,)\n",
      "143 (100, 176) (100,)\n",
      "144 (100, 175) (100,)\n",
      "145 (100, 174) (100,)\n",
      "146 (100, 173) (100,)\n",
      "147 (100, 172) (100,)\n",
      "148 (100, 171) (100,)\n",
      "149 (100, 170) (100,)\n",
      "150 (100, 169) (100,)\n",
      "151 (100, 168) (100,)\n",
      "152 (100, 167) (100,)\n",
      "153 (100, 166) (100,)\n",
      "154 (100, 165) (100,)\n",
      "155 (100, 164) (100,)\n",
      "156 (100, 163) (100,)\n",
      "157 (100, 162) (100,)\n",
      "158 (100, 161) (100,)\n",
      "159 (100, 160) (100,)\n",
      "160 (100, 159) (100,)\n",
      "161 (100, 158) (100,)\n",
      "162 (100, 157) (100,)\n",
      "163 (100, 156) (100,)\n",
      "164 (100, 155) (100,)\n",
      "165 (100, 154) (100,)\n",
      "166 (100, 153) (100,)\n",
      "167 (100, 152) (100,)\n",
      "168 (100, 151) (100,)\n",
      "169 (100, 150) (100,)\n",
      "170 (100, 149) (100,)\n",
      "171 (100, 148) (100,)\n",
      "172 (100, 147) (100,)\n",
      "173 (100, 146) (100,)\n",
      "174 (100, 145) (100,)\n",
      "175 (100, 144) (100,)\n",
      "176 (100, 143) (100,)\n",
      "177 (100, 142) (100,)\n",
      "178 (100, 141) (100,)\n",
      "179 (100, 140) (100,)\n",
      "180 (100, 139) (100,)\n",
      "181 (100, 138) (100,)\n",
      "182 (100, 137) (100,)\n",
      "183 (100, 136) (100,)\n",
      "184 (100, 135) (100,)\n",
      "185 (100, 134) (100,)\n",
      "186 (100, 133) (100,)\n",
      "187 (100, 132) (100,)\n",
      "188 (100, 131) (100,)\n",
      "189 (100, 130) (100,)\n",
      "190 (100, 129) (100,)\n",
      "191 (100, 128) (100,)\n",
      "192 (100, 127) (100,)\n",
      "193 (100, 126) (100,)\n",
      "194 (100, 125) (100,)\n",
      "195 (100, 124) (100,)\n",
      "196 (100, 123) (100,)\n",
      "197 (100, 122) (100,)\n",
      "198 (100, 121) (100,)\n",
      "199 (100, 120) (100,)\n",
      "200 (100, 119) (100,)\n",
      "201 (100, 118) (100,)\n",
      "202 (100, 117) (100,)\n",
      "203 (100, 116) (100,)\n",
      "204 (100, 115) (100,)\n",
      "205 (100, 114) (100,)\n",
      "206 (100, 113) (100,)\n",
      "207 (100, 112) (100,)\n",
      "208 (100, 111) (100,)\n",
      "209 (100, 110) (100,)\n",
      "210 (100, 109) (100,)\n",
      "211 (100, 108) (100,)\n",
      "212 (100, 107) (100,)\n",
      "213 (100, 106) (100,)\n",
      "214 (100, 105) (100,)\n",
      "215 (100, 104) (100,)\n",
      "216 (100, 103) (100,)\n",
      "217 (100, 102) (100,)\n",
      "218 (100, 101) (100,)\n",
      "219 (100, 100) (100,)\n",
      "220 (100, 99) (100,)\n",
      "221 (100, 98) (100,)\n",
      "222 (100, 97) (100,)\n",
      "223 (100, 96) (100,)\n",
      "224 (100, 95) (100,)\n",
      "225 (100, 94) (100,)\n",
      "226 (100, 93) (100,)\n",
      "227 (100, 92) (100,)\n",
      "228 (100, 91) (100,)\n",
      "229 (100, 90) (100,)\n",
      "230 (100, 89) (100,)\n",
      "231 (100, 88) (100,)\n",
      "232 (100, 87) (100,)\n",
      "233 (100, 86) (100,)\n",
      "234 (100, 85) (100,)\n",
      "235 (100, 84) (100,)\n",
      "236 (100, 83) (100,)\n",
      "237 (100, 82) (100,)\n",
      "238 (100, 81) (100,)\n",
      "239 (100, 80) (100,)\n",
      "240 (100, 79) (100,)\n",
      "241 (100, 78) (100,)\n",
      "242 (100, 77) (100,)\n",
      "243 (100, 76) (100,)\n",
      "244 (100, 75) (100,)\n",
      "245 (100, 74) (100,)\n",
      "246 (100, 73) (100,)\n",
      "247 (100, 72) (100,)\n",
      "248 (100, 71) (100,)\n",
      "249 (100, 70) (100,)\n",
      "250 (100, 69) (100,)\n",
      "251 (100, 68) (100,)\n",
      "252 (100, 67) (100,)\n",
      "253 (100, 66) (100,)\n",
      "254 (100, 65) (100,)\n",
      "255 (100, 64) (100,)\n",
      "256 (100, 63) (100,)\n",
      "257 (100, 62) (100,)\n",
      "258 (100, 61) (100,)\n",
      "259 (100, 60) (100,)\n",
      "260 (100, 59) (100,)\n",
      "261 (100, 58) (100,)\n",
      "262 (100, 57) (100,)\n",
      "263 (100, 56) (100,)\n",
      "264 (100, 55) (100,)\n",
      "265 (100, 54) (100,)\n",
      "266 (100, 53) (100,)\n",
      "267 (100, 52) (100,)\n",
      "268 (100, 51) (100,)\n",
      "269 (100, 50) (100,)\n",
      "270 (100, 49) (100,)\n",
      "271 (100, 48) (100,)\n",
      "272 (100, 47) (100,)\n",
      "273 (100, 46) (100,)\n",
      "274 (100, 45) (100,)\n",
      "275 (100, 44) (100,)\n",
      "276 (100, 43) (100,)\n",
      "277 (100, 42) (100,)\n",
      "278 (100, 41) (100,)\n",
      "279 (100, 40) (100,)\n",
      "280 (100, 39) (100,)\n",
      "281 (100, 38) (100,)\n",
      "282 (100, 37) (100,)\n",
      "283 (100, 36) (100,)\n",
      "284 (100, 35) (100,)\n",
      "285 (100, 34) (100,)\n",
      "286 (100, 33) (100,)\n",
      "287 (100, 32) (100,)\n",
      "288 (100, 31) (100,)\n",
      "289 (100, 30) (100,)\n",
      "290 (100, 29) (100,)\n",
      "291 (100, 28) (100,)\n",
      "292 (100, 27) (100,)\n",
      "293 (100, 26) (100,)\n",
      "294 (100, 25) (100,)\n",
      "295 (100, 24) (100,)\n",
      "296 (100, 23) (100,)\n",
      "297 (100, 22) (100,)\n",
      "298 (100, 21) (100,)\n",
      "299 (100, 20) (100,)\n",
      "300 (100, 19) (100,)\n",
      "301 (100, 18) (100,)\n",
      "302 (100, 17) (100,)\n",
      "303 (100, 16) (100,)\n",
      "304 (100, 15) (100,)\n",
      "305 (100, 14) (100,)\n",
      "306 (100, 13) (100,)\n",
      "307 (100, 12) (100,)\n",
      "308 (100, 11) (100,)\n",
      "100% completed\n",
      "(1,) (1,) (10, 319)\n",
      "Optimised number of PLS components:  10\n",
      "Wavelengths to be discarded  307\n",
      "Optimised MSEP  0.9705662974076061\n",
      "\n"
     ]
    },
    {
     "ename": "IndexError",
     "evalue": "index 9 is out of bounds for axis 0 with size 9",
     "output_type": "error",
     "traceback": [
      "\u001b[1;31m---------------------------------------------------------------------------\u001b[0m",
      "\u001b[1;31mIndexError\u001b[0m                                Traceback (most recent call last)",
      "Cell \u001b[1;32mIn[74], line 1\u001b[0m\n\u001b[1;32m----> 1\u001b[0m \u001b[43mplot_mse_vs_components\u001b[49m\u001b[43m(\u001b[49m\u001b[43mx\u001b[49m\u001b[43m[\u001b[49m\u001b[38;5;241;43m0\u001b[39;49m\u001b[43m:\u001b[49m\u001b[38;5;241;43m100\u001b[39;49m\u001b[43m,\u001b[49m\u001b[43m:\u001b[49m\u001b[43m]\u001b[49m\u001b[43m,\u001b[49m\u001b[43m \u001b[49m\u001b[43my\u001b[49m\u001b[43m[\u001b[49m\u001b[38;5;241;43m0\u001b[39;49m\u001b[43m:\u001b[49m\u001b[38;5;241;43m100\u001b[39;49m\u001b[43m,\u001b[49m\u001b[43m:\u001b[49m\u001b[43m]\u001b[49m\u001b[43m,\u001b[49m\u001b[43m \u001b[49m\u001b[38;5;241;43m10\u001b[39;49m\u001b[43m)\u001b[49m\n",
      "Cell \u001b[1;32mIn[73], line 80\u001b[0m, in \u001b[0;36mplot_mse_vs_components\u001b[1;34m(X, y, max_comp)\u001b[0m\n\u001b[0;32m     78\u001b[0m fig, ax \u001b[38;5;241m=\u001b[39m plt\u001b[38;5;241m.\u001b[39msubplots()\n\u001b[0;32m     79\u001b[0m ax\u001b[38;5;241m.\u001b[39mplot(\u001b[38;5;28mrange\u001b[39m(\u001b[38;5;241m1\u001b[39m, max_comp\u001b[38;5;241m+\u001b[39m\u001b[38;5;241m1\u001b[39m), mse[:, mseminy])\n\u001b[1;32m---> 80\u001b[0m ax\u001b[38;5;241m.\u001b[39mplot(\u001b[43mcomponent\u001b[49m\u001b[43m[\u001b[49m\u001b[43mmseminx\u001b[49m\u001b[43m]\u001b[49m, mse[:, mseminy], \u001b[38;5;124m'\u001b[39m\u001b[38;5;124mP\u001b[39m\u001b[38;5;124m'\u001b[39m, ms\u001b[38;5;241m=\u001b[39m\u001b[38;5;241m10\u001b[39m, mfc\u001b[38;5;241m=\u001b[39m\u001b[38;5;124m'\u001b[39m\u001b[38;5;124mred\u001b[39m\u001b[38;5;124m'\u001b[39m)\n\u001b[0;32m     81\u001b[0m ax\u001b[38;5;241m.\u001b[39mset_xlabel(\u001b[38;5;124m'\u001b[39m\u001b[38;5;124mNumber of PLS components\u001b[39m\u001b[38;5;124m'\u001b[39m)\n\u001b[0;32m     82\u001b[0m ax\u001b[38;5;241m.\u001b[39mset_ylabel(\u001b[38;5;124m'\u001b[39m\u001b[38;5;124mMSE\u001b[39m\u001b[38;5;124m'\u001b[39m)\n",
      "\u001b[1;31mIndexError\u001b[0m: index 9 is out of bounds for axis 0 with size 9"
     ]
    },
    {
     "data": {
      "image/png": "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\n",
      "text/plain": [
       "<Figure size 640x480 with 1 Axes>"
      ]
     },
     "metadata": {},
     "output_type": "display_data"
    }
   ],
   "source": [
    "plot_mse_vs_components(x[0:100,:], y[0:100,:], 10)"
>>>>>>> 06bdfaaeba5f3df270b026566152abb58b2f84a1
   ]
  },
  {
   "cell_type": "code",
<<<<<<< HEAD
   "execution_count": 19,
   "id": "ca41be65",
   "metadata": {},
   "outputs": [],
   "source": [
    "for filename in os.listdir(folder_path):\n",
    "    # Check if the file has the desired extension\n",
    "    if filename in del_file_name1:\n",
    "        # Create the file path and remove the file\n",
    "        file_path = os.path.join(folder_path, filename)\n",
    "        os.remove(file_path) "
=======
   "execution_count": 25,
   "id": "fd4047a6",
   "metadata": {},
   "outputs": [],
   "source": [
    "\n",
    "def simple_pls_cv_label_category(X, y, n_comp):\n",
    "\n",
    "    # Run PLS with suggested number of components\n",
    "    pls = PLSRegression(n_components=n_comp)\n",
    "    pls.fit(X, y[:, 0].astype(np.float64))\n",
    "    y_c = pls.predict(X)\n",
    "    \n",
    "#     y_c_site1b = pls.predict(x1)\n",
    "#     y_c_site2a = pls.predict(x2)\n",
    "#     y_c_site2c = pls.predict(x3)\n",
    "#     y_c_site6 = pls.predict(x4)\n",
    "\n",
    "    # Cross-validation\n",
    "    y_cv = cross_val_predict(pls, X, y[:, 0].astype(np.float64), cv=10)\n",
    "    print(y_cv)\n",
    "    \n",
    "#     y_cv_site1b = cross_val_predict(pls, x1, y1[:, 0].astype(np.float64), cv=10)\n",
    "#     y_cv_site2a = cross_val_predict(pls, x2, y2[:, 0].astype(np.float64), cv=10)\n",
    "#     y_cv_site2c = cross_val_predict(pls, x3, y3[:, 0].astype(np.float64), cv=10)\n",
    "#     y_cv_site6 = cross_val_predict(pls, x4, y4[:, 0].astype(np.float64), cv=10)\n",
    "\n",
    "    # Calculate scores for calibration and cross-validation\n",
    "    score_c = r2_score(y[:, 0].astype(np.float64), y_c)\n",
    "    score_cv = r2_score(y[:, 0].astype(np.float64), y_cv)\n",
    "    \n",
    "\n",
    "    \n",
    "\n",
    "\n",
    "    # Calculate mean square error for calibration and cross validation\n",
    "    mse_c = mean_squared_error(y[:, 0].astype(np.float64), y_c)\n",
    "    mse_cv = mean_squared_error(y[:, 0].astype(np.float64), y_cv)\n",
    "\n",
    "    print('R2 calib: %5.3f'  % score_c)\n",
    "    print('R2 CV: %5.3f'  % score_cv)\n",
    "    print('MSE calib: %5.3f' % mse_c)\n",
    "    print('MSE CV: %5.3f' % mse_cv)\n",
    "\n",
    "    # Plot regression \n",
    "    z = np.polyfit(y[:, 0].astype(np.float64), y_cv, 1)\n",
    "#     z1 = np.polyfit(y1[:, 0].astype(np.float64), y_cv_site1b, 1)\n",
    "#     z2 = np.polyfit(y2[:, 0].astype(np.float64), y_cv_site2a, 1)\n",
    "#     z3 = np.polyfit(y3[:, 0].astype(np.float64), y_cv_site2c, 1)\n",
    "#     z4 = np.polyfit(y4[:, 0].astype(np.float64), y_cv_site6, 1)\n",
    " \n",
    "#     with plt.style.context(('ggplot')):\n",
    "#         fig, ax = plt.subplots(figsize=(9, 5))\n",
    "\n",
    "#         # Define a dictionary of labels and their corresponding markers and colors\n",
    "#         label_dict = {\n",
    "#             'site1b': {'marker': 'o', 'color': 'purple'},\n",
    "#             'site2a': {'marker': 's', 'color': 'blue'},\n",
    "#             'site2c': {'marker': 'p', 'color': 'yellow'},\n",
    "#             'site6': {'marker': '^', 'color': 'green'}\n",
    "#         }\n",
    "\n",
    "#         # Loop over data points to add labels and build a list of scatter plot objects\n",
    "#         scatter_objs = []\n",
    "# # enumerate() method adds a counter to an iterable and returns it in a form of enumerating object\n",
    "# # marker style; color map and edge color\n",
    "#         for i, label in enumerate(labels):\n",
    "#             scatter_obj = ax.scatter(y_cv[i], y[i,0].astype(np.float64), marker=label_dict.get(label)['marker'],\n",
    "#                                      c=label_dict.get(label)['color'], edgecolors='k')\n",
    "#             scatter_objs.append(scatter_obj)\n",
    "\n",
    "#         # Create a legend using the dictionary of labels and their markers/colors\n",
    "#         legend_handles = []\n",
    "#         for label, props in label_dict.items():\n",
    "#             legend_handles.append(plt.Line2D([], [], marker=props['marker'], color=props['color'], linestyle='None', label=label))\n",
    "#         ax.legend(handles=legend_handles)\n",
    "\n",
    "\n",
    "#         ax.plot(z[1]+z[0]*y[:, 0].astype(np.float64), y[:, 0].astype(np.float64), c='red', linewidth=1)\n",
    "#         ax.plot(z1[1]+z1[0]*y1[:, 0].astype(np.float64), y1[:, 0].astype(np.float64), c='purple', linewidth=1)\n",
    "#         ax.plot(z2[1]+z2[0]*y2[:, 0].astype(np.float64), y2[:, 0].astype(np.float64), c='blue', linewidth=1)\n",
    "#         ax.plot(z3[1]+z3[0]*y3[:, 0].astype(np.float64), y3[:, 0].astype(np.float64), c='yellow', linewidth=1)\n",
    "#         ax.plot(z4[1]+z4[0]*y4[:, 0].astype(np.float64), y4[:, 0].astype(np.float64), c='green', linewidth=1)\n",
    "#         ax.plot(y[:, 0].astype(np.float64), y[:, 0].astype(np.float64), color='black', linewidth=1)\n",
    "#         plt.title('$R^{2}$ (CV): '+str(score_cv))\n",
    "#         plt.xlabel('Predicted $^{\\circ}$Brix')\n",
    "#         plt.ylabel('Measured $^{\\circ}$Brix')\n",
    "#         plt.show()\n",
    "\n",
    "\n",
    "\n",
    "\n",
    "\n",
    "\n",
    "\n",
    "\n",
    "\n",
    "#     trend_line = z[1]+z[0]*y[:, 0].astype(np.float64)\n",
    "#     center_line = y[:, 0].astype(np.float64)\n",
    "#     y = y[:, 0].astype(np.float64)\n",
    "#     return (trend_line, center_line, y, score_cv)\n"
   ]
  },
  {
   "cell_type": "code",
   "execution_count": 26,
   "id": "9e5c7b87",
   "metadata": {},
   "outputs": [
    {
     "name": "stdout",
     "output_type": "stream",
     "text": [
      "6.680403438494835\n",
      "9.659498027796731\n",
      "8.600336221097034\n",
      "9.270818430466548\n",
      "9.140277600549211\n",
      "7.878233782613312\n",
      "5.9228543863739755\n",
      "6.150607247579823\n",
      "8.637650554031975\n",
      "9.386411464550118\n",
      "8.767852049685509\n",
      "7.74684689179278\n",
      "5.738985302336633\n",
      "6.880330230720007\n",
      "8.50280740181856\n",
      "7.95984624966295\n",
      "11.573127020473619\n",
      "9.930787713142717\n",
      "8.76690107509119\n",
      "9.4050841228028\n",
      "8.862678554470667\n",
      "8.741887109019231\n",
      "9.005585791601574\n",
      "9.358096236562867\n",
      "7.798726218460811\n",
      "11.329693133439378\n",
      "9.679638883092272\n",
      "9.166744332191614\n",
      "9.442690778409206\n",
      "10.378838132457641\n",
      "11.398290019698404\n",
      "9.472376551685118\n",
      "8.02318088207694\n",
      "9.1932233022963\n",
      "8.709546392296172\n",
      "10.370191571822476\n",
      "11.366849549118882\n",
      "9.343638177914482\n",
      "11.270265535746837\n",
      "10.608002035103553\n",
      "8.49148522654009\n",
      "6.741312643719725\n",
      "6.044083894864799\n",
      "9.162790878084909\n",
      "9.012664700608504\n",
      "9.95869728385537\n",
      "9.687320465184822\n",
      "10.294467943326788\n",
      "8.792465264925408\n",
      "8.622452045132617\n",
      "8.301182481520957\n",
      "7.810090149926708\n",
      "9.800118015003125\n",
      "8.501747334483246\n",
      "7.51603102153736\n",
      "6.732388889154717\n",
      "9.35360846187322\n",
      "9.183399165587478\n",
      "10.478114047107987\n",
      "9.74251645710921\n",
      "8.31341796486554\n",
      "7.081664605230214\n",
      "8.390959125623132\n",
      "9.436127599612407\n",
      "11.136111621161369\n",
      "9.171003153017702\n",
      "9.73749972659578\n",
      "9.361294337816094\n",
      "8.704087037137787\n",
      "8.387776857582882\n",
      "8.314837561119958\n",
      "7.49943638355062\n",
      "7.240080739515545\n",
      "7.060247607594881\n",
      "7.589237886753784\n",
      "6.595196791764028\n",
      "7.616576931610377\n",
      "9.519713582187174\n",
      "8.203579472958982\n",
      "8.435624432379962\n",
      "8.021037599474983\n",
      "7.1436226442563635\n",
      "6.705739841575355\n",
      "6.544771528447991\n",
      "7.6176701269461224\n",
      "9.853083678431856\n",
      "10.28537746812333\n",
      "9.299070053136669\n",
      "8.620636780804602\n",
      "7.259231157669899\n",
      "8.937540512653225\n",
      "9.565557524617251\n",
      "9.37963767842104\n",
      "10.472032257960912\n",
      "10.020648194988425\n",
      "9.198196655327234\n",
      "9.908148175813395\n",
      "8.716185566047495\n",
      "7.315503390430398\n",
      "7.906486727686543\n"
     ]
    }
   ],
   "source": [
    "for i in range(100):\n",
    "    \n",
    "    print(y[i,0])"
   ]
  },
  {
   "cell_type": "code",
   "execution_count": 27,
   "id": "3408359b",
   "metadata": {},
   "outputs": [
    {
     "name": "stdout",
     "output_type": "stream",
     "text": [
      "[[10.82614762]\n",
      " [ 9.24565711]\n",
      " [10.41307157]\n",
      " [ 9.52678745]\n",
      " [ 9.9155402 ]\n",
      " [10.11853912]\n",
      " [ 6.68895986]\n",
      " [ 8.25192312]\n",
      " [ 8.85316547]\n",
      " [ 9.61849305]\n",
      " [10.07354048]\n",
      " [ 8.98926194]\n",
      " [ 7.49124108]\n",
      " [ 8.24289679]\n",
      " [ 9.75138434]\n",
      " [ 7.52488   ]\n",
      " [ 7.69062189]\n",
      " [ 9.71166116]\n",
      " [10.09680945]\n",
      " [ 7.57177902]\n",
      " [ 6.58580712]\n",
      " [ 8.99394116]\n",
      " [ 9.23604821]\n",
      " [11.12731153]\n",
      " [ 5.84420972]\n",
      " [ 8.39791551]\n",
      " [ 9.33334525]\n",
      " [11.18616862]\n",
      " [11.03660777]\n",
      " [ 9.68258999]\n",
      " [ 8.10368982]\n",
      " [ 8.77104814]\n",
      " [ 8.12645129]\n",
      " [ 7.22122227]\n",
      " [ 7.97547787]\n",
      " [ 5.36555127]\n",
      " [ 9.43193719]\n",
      " [ 8.93370111]\n",
      " [ 8.19608823]\n",
      " [ 8.68647848]\n",
      " [ 8.56819513]\n",
      " [ 7.5827366 ]\n",
      " [ 7.91323598]\n",
      " [ 8.3734825 ]\n",
      " [11.08177724]\n",
      " [10.41895713]\n",
      " [10.1769805 ]\n",
      " [ 9.68642842]\n",
      " [ 9.66533173]\n",
      " [ 8.56498067]\n",
      " [ 8.9267496 ]\n",
      " [ 9.6634429 ]\n",
      " [ 9.43940876]\n",
      " [ 8.5501445 ]\n",
      " [ 9.27041191]\n",
      " [ 9.98851853]\n",
      " [ 9.63963061]\n",
      " [10.13011403]\n",
      " [ 9.32063546]\n",
      " [ 9.68612602]\n",
      " [ 8.42613411]\n",
      " [ 9.47990401]\n",
      " [ 8.8942477 ]\n",
      " [10.31388078]\n",
      " [ 9.72806278]\n",
      " [ 9.14477715]\n",
      " [ 8.96863391]\n",
      " [ 7.75542491]\n",
      " [ 8.11657287]\n",
      " [ 8.39991316]\n",
      " [ 8.94304431]\n",
      " [ 9.01572642]\n",
      " [ 9.46345719]\n",
      " [ 8.2804483 ]\n",
      " [ 9.01419293]\n",
      " [ 8.18606487]\n",
      " [ 6.68032372]\n",
      " [ 6.68032372]\n",
      " [ 6.50639273]\n",
      " [ 6.50639273]\n",
      " [ 8.54549209]\n",
      " [ 8.24152467]\n",
      " [ 8.24152467]\n",
      " [ 7.08704692]\n",
      " [ 6.60415113]\n",
      " [ 7.67622089]\n",
      " [ 6.27617251]\n",
      " [ 8.61852201]\n",
      " [ 6.87888914]\n",
      " [ 6.40276771]\n",
      " [10.57540768]\n",
      " [11.18092726]\n",
      " [11.07375199]\n",
      " [ 9.68210149]\n",
      " [10.58976706]\n",
      " [ 8.94736273]\n",
      " [ 8.47839459]\n",
      " [ 8.56515122]\n",
      " [ 8.21600335]\n",
      " [ 8.26962843]]\n",
      "R2 calib: 0.791\n",
      "R2 CV: -0.542\n",
      "MSE calib: 0.356\n",
      "MSE CV: 2.621\n"
     ]
    }
   ],
   "source": [
    "simple_pls_cv_label_category(x[0:100,:], y[0:100,:], 10)"
>>>>>>> 06bdfaaeba5f3df270b026566152abb58b2f84a1
   ]
  },
  {
   "cell_type": "code",
   "execution_count": null,
<<<<<<< HEAD
   "id": "72b701a0",
=======
   "id": "5f48474c",
   "metadata": {},
   "outputs": [],
   "source": [
    "def plot_mse_vs_components(X, y, max_comp):\n",
    "    \"\"\"\n",
    "    Plot the number of PLS components vs. MSE.\n",
    "    \n",
    "    Parameters:\n",
    "    X (numpy.ndarray): Array of predictor variables.\n",
    "    y (numpy.ndarray): Array of response variable.\n",
    "    max_comp (int): Maximum number of PLS components to use.\n",
    "    \n",
    "    Returns:\n",
    "    None\n",
    "    \"\"\"\n",
    "    \n",
    "    # Define MSE array to be populated\n",
    "    mse = np.zeros((max_comp, X.shape[1]))\n",
    "    component = np.arange(1, max_comp)\n",
    "\n",
    "    # Loop over the number of PLS components\n",
    "    for i in range(max_comp):\n",
    "        # Regression with specified number of components, using full spectrum\n",
    "        pls1 = PLSRegression(n_components=i+1)\n",
    "        pls1.fit(X, y[:, 0].astype(np.float64))\n",
    "#         print(pls1.coef_.shape)\n",
    "        \n",
    "\n",
    "#         # Indices of sort spectra according to ascending absolute value of PLS coefficients\n",
    "        sorted_ind = np.argsort(np.abs(pls1.coef_[:, 0]))\n",
    "        \n",
    "        \n",
    "    \n",
    "\n",
    "#         # Sort spectra accordingly\n",
    "        Xc = X[:, sorted_ind]\n",
    "        print(Xc.shape)\n",
    "#         break\n",
    "\n",
    "        # Discard one wavelength at a time of the sorted spectra,\n",
    "        # regress, and calculate the MSE cross-validation\n",
    "        for j in range(Xc.shape[1]-(i+1)):\n",
    "            pls2 = PLSRegression(n_components=i+1)\n",
    "            pls2.fit(Xc[:, j:], y[:, 0].astype(np.float64))\n",
    "            y_cv = cross_val_predict(pls2, Xc[:, j:], y[:, 0].astype(np.float64), cv=5)\n",
    "            mse[i, j] = mean_squared_error(y[:, 0].astype(np.float64), y_cv)\n",
    "\n",
    "        comp = 100 * (i+1) / max_comp\n",
    "        stdout.write(\"\\r%d%% completed\" % comp)\n",
    "        stdout.flush()\n",
    "    stdout.write(\"\\n\")\n",
    "\n",
    "    # Calculate and print the position of minimum in MSE\n",
    "    mseminx, mseminy = np.where(mse == np.min(mse[np.nonzero(mse)]))\n",
    "    print(\"Optimised number of PLS components: \", mseminx[0]+1)\n",
    "    print(\"Wavelengths to be discarded \", mseminy[0])\n",
    "    print('Optimised MSEP ', mse[mseminx, mseminy][0])\n",
    "    stdout.write(\"\\n\")\n",
    "\n",
    "    # Create plot of number of components vs. MSE\n",
    "    fig, ax = plt.subplots()\n",
    "    ax.plot(range(1, max_comp+1), mse[:, mseminy])\n",
    "    ax.set_xlabel('Number of PLS components')\n",
    "    ax.set_ylabel('MSE')\n",
    "    ax.set_title('Number of PLS components vs. MSE')\n",
    "    plt.show()\n",
    "    \n",
    "    pls = PLSRegression(n_components=mseminx[0]+1)\n",
    "    pls.fit(X, y[:, 0].astype(np.float64))\n",
    "        \n",
    "    sorted_ind = np.argsort(np.abs(pls.coef_[:,0]))\n",
    " \n",
    "    Xc = X[:,sorted_ind]\n",
    " \n",
    "    return(Xc[:,mseminy[0]:],mseminx[0]+1,mseminy[0], sorted_ind)"
   ]
  },
  {
   "cell_type": "code",
   "execution_count": 22,
   "id": "c44f5f37",
   "metadata": {},
   "outputs": [
    {
     "name": "stdout",
     "output_type": "stream",
     "text": [
      "R2 calib: 0.791\n",
      "R2 CV: -0.542\n",
      "MSE calib: 0.356\n",
      "MSE CV: 2.621\n",
      "[[0.21774783]\n",
      " [6.8762991 ]] [6.680403438494835 9.659498027796731 8.600336221097034 9.270818430466548\n",
      " 9.140277600549211 7.878233782613312 5.9228543863739755 6.150607247579823\n",
      " 8.637650554031975 9.386411464550118 8.767852049685509 7.74684689179278\n",
      " 5.738985302336633 6.880330230720007 8.50280740181856 7.95984624966295\n",
      " 11.573127020473619 9.930787713142717 8.76690107509119 9.4050841228028\n",
      " 8.862678554470667 8.741887109019231 9.005585791601574 9.358096236562867\n",
      " 7.798726218460811 11.329693133439378 9.679638883092272 9.166744332191614\n",
      " 9.442690778409206 10.378838132457641 11.398290019698404 9.472376551685118\n",
      " 8.02318088207694 9.1932233022963 8.709546392296172 10.370191571822476\n",
      " 11.366849549118882 9.343638177914482 11.270265535746837\n",
      " 10.608002035103553 8.49148522654009 6.741312643719725 6.044083894864799\n",
      " 9.162790878084909 9.012664700608504 9.95869728385537 9.687320465184822\n",
      " 10.294467943326788 8.792465264925408 8.622452045132617 8.301182481520957\n",
      " 7.810090149926708 9.800118015003125 8.501747334483246 7.51603102153736\n",
      " 6.732388889154717 9.35360846187322 9.183399165587478 10.478114047107987\n",
      " 9.74251645710921 8.31341796486554 7.081664605230214 8.390959125623132\n",
      " 9.436127599612407 11.136111621161369 9.171003153017702 9.73749972659578\n",
      " 9.361294337816094 8.704087037137787 8.387776857582882 8.314837561119958\n",
      " 7.49943638355062 7.240080739515545 7.060247607594881 7.589237886753784\n",
      " 6.595196791764028 7.616576931610377 9.519713582187174 8.203579472958982\n",
      " 8.435624432379962 8.021037599474983 7.1436226442563635 6.705739841575355\n",
      " 6.544771528447991 7.6176701269461224 9.853083678431856 10.28537746812333\n",
      " 9.299070053136669 8.620636780804602 7.259231157669899 8.937540512653225\n",
      " 9.565557524617251 9.37963767842104 10.472032257960912 10.020648194988425\n",
      " 9.198196655327234 9.908148175813395 8.716185566047495 7.315503390430398\n",
      " 7.906486727686543] [[10.82614762]\n",
      " [ 9.24565711]\n",
      " [10.41307157]\n",
      " [ 9.52678745]\n",
      " [ 9.9155402 ]\n",
      " [10.11853912]\n",
      " [ 6.68895986]\n",
      " [ 8.25192312]\n",
      " [ 8.85316547]\n",
      " [ 9.61849305]\n",
      " [10.07354048]\n",
      " [ 8.98926194]\n",
      " [ 7.49124108]\n",
      " [ 8.24289679]\n",
      " [ 9.75138434]\n",
      " [ 7.52488   ]\n",
      " [ 7.69062189]\n",
      " [ 9.71166116]\n",
      " [10.09680945]\n",
      " [ 7.57177902]\n",
      " [ 6.58580712]\n",
      " [ 8.99394116]\n",
      " [ 9.23604821]\n",
      " [11.12731153]\n",
      " [ 5.84420972]\n",
      " [ 8.39791551]\n",
      " [ 9.33334525]\n",
      " [11.18616862]\n",
      " [11.03660777]\n",
      " [ 9.68258999]\n",
      " [ 8.10368982]\n",
      " [ 8.77104814]\n",
      " [ 8.12645129]\n",
      " [ 7.22122227]\n",
      " [ 7.97547787]\n",
      " [ 5.36555127]\n",
      " [ 9.43193719]\n",
      " [ 8.93370111]\n",
      " [ 8.19608823]\n",
      " [ 8.68647848]\n",
      " [ 8.56819513]\n",
      " [ 7.5827366 ]\n",
      " [ 7.91323598]\n",
      " [ 8.3734825 ]\n",
      " [11.08177724]\n",
      " [10.41895713]\n",
      " [10.1769805 ]\n",
      " [ 9.68642842]\n",
      " [ 9.66533173]\n",
      " [ 8.56498067]\n",
      " [ 8.9267496 ]\n",
      " [ 9.6634429 ]\n",
      " [ 9.43940876]\n",
      " [ 8.5501445 ]\n",
      " [ 9.27041191]\n",
      " [ 9.98851853]\n",
      " [ 9.63963061]\n",
      " [10.13011403]\n",
      " [ 9.32063546]\n",
      " [ 9.68612602]\n",
      " [ 8.42613411]\n",
      " [ 9.47990401]\n",
      " [ 8.8942477 ]\n",
      " [10.31388078]\n",
      " [ 9.72806278]\n",
      " [ 9.14477715]\n",
      " [ 8.96863391]\n",
      " [ 7.75542491]\n",
      " [ 8.11657287]\n",
      " [ 8.39991316]\n",
      " [ 8.94304431]\n",
      " [ 9.01572642]\n",
      " [ 9.46345719]\n",
      " [ 8.2804483 ]\n",
      " [ 9.01419293]\n",
      " [ 8.18606487]\n",
      " [ 6.68032372]\n",
      " [ 6.68032372]\n",
      " [ 6.50639273]\n",
      " [ 6.50639273]\n",
      " [ 8.54549209]\n",
      " [ 8.24152467]\n",
      " [ 8.24152467]\n",
      " [ 7.08704692]\n",
      " [ 6.60415113]\n",
      " [ 7.67622089]\n",
      " [ 6.27617251]\n",
      " [ 8.61852201]\n",
      " [ 6.87888914]\n",
      " [ 6.40276771]\n",
      " [10.57540768]\n",
      " [11.18092726]\n",
      " [11.07375199]\n",
      " [ 9.68210149]\n",
      " [10.58976706]\n",
      " [ 8.94736273]\n",
      " [ 8.47839459]\n",
      " [ 8.56515122]\n",
      " [ 8.21600335]\n",
      " [ 8.26962843]]\n"
     ]
    },
    {
     "ename": "TypeError",
     "evalue": "cannot unpack non-iterable NoneType object",
     "output_type": "error",
     "traceback": [
      "\u001b[1;31m---------------------------------------------------------------------------\u001b[0m",
      "\u001b[1;31mTypeError\u001b[0m                                 Traceback (most recent call last)",
      "Cell \u001b[1;32mIn[22], line 1\u001b[0m\n\u001b[1;32m----> 1\u001b[0m opt_Xc1, ncomp1, wav1, sorted_ind1 \u001b[38;5;241m=\u001b[39m simple_pls_cv_label_category(x[\u001b[38;5;241m0\u001b[39m:\u001b[38;5;241m100\u001b[39m,:], y[\u001b[38;5;241m0\u001b[39m:\u001b[38;5;241m100\u001b[39m,:], \u001b[38;5;241m10\u001b[39m)\n",
      "\u001b[1;31mTypeError\u001b[0m: cannot unpack non-iterable NoneType object"
     ]
    }
   ],
   "source": [
    "opt_Xc1, ncomp1, wav1, sorted_ind1 = simple_pls_cv_label_category(x[0:100,:], y[0:100,:], 10)"
   ]
  },
  {
   "cell_type": "code",
   "execution_count": 13,
   "id": "567b89e2",
   "metadata": {},
   "outputs": [
    {
     "data": {
      "text/plain": [
       "(100, 12)"
      ]
     },
     "execution_count": 13,
     "metadata": {},
     "output_type": "execute_result"
    }
   ],
   "source": [
    "opt_Xc1.shape"
   ]
  },
  {
   "cell_type": "code",
   "execution_count": null,
   "id": "bd6718ac",
   "metadata": {},
   "outputs": [],
   "source": []
  },
  {
   "cell_type": "code",
   "execution_count": null,
   "id": "e63f8e38",
   "metadata": {},
   "outputs": [],
   "source": []
  },
  {
   "cell_type": "code",
   "execution_count": null,
   "id": "8748da0c",
   "metadata": {},
   "outputs": [],
   "source": []
  },
  {
   "cell_type": "code",
   "execution_count": null,
   "id": "99146c75",
   "metadata": {},
   "outputs": [],
   "source": []
  },
  {
   "cell_type": "code",
   "execution_count": null,
   "id": "aa0620ed",
   "metadata": {},
   "outputs": [],
   "source": []
  },
  {
   "cell_type": "code",
   "execution_count": null,
   "id": "98f722de",
   "metadata": {},
   "outputs": [],
   "source": []
  },
  {
   "cell_type": "code",
   "execution_count": null,
   "id": "94b9196f",
   "metadata": {},
   "outputs": [],
   "source": []
  },
  {
   "cell_type": "code",
   "execution_count": null,
   "id": "339aa85b",
   "metadata": {},
   "outputs": [],
   "source": []
  },
  {
   "cell_type": "code",
   "execution_count": null,
   "id": "ef26ed46",
   "metadata": {},
   "outputs": [],
   "source": []
  },
  {
   "cell_type": "code",
   "execution_count": 11,
   "id": "a52ad146",
   "metadata": {},
   "outputs": [
    {
     "name": "stderr",
     "output_type": "stream",
     "text": [
      "C:\\Users\\15086\\anaconda3\\envs\\wenqu_gdal\\lib\\site-packages\\sklearn\\cross_decomposition\\_pls.py:503: FutureWarning: The attribute `coef_` will be transposed in version 1.3 to be consistent with other linear models in scikit-learn. Currently, `coef_` has a shape of (n_features, n_targets) and in the future it will have a shape of (n_targets, n_features).\n",
      "  warnings.warn(\n"
     ]
    },
    {
     "name": "stdout",
     "output_type": "stream",
     "text": [
      "(3778, 319)\n",
      "3% completed(3778, 319)\n"
     ]
    },
    {
     "name": "stderr",
     "output_type": "stream",
     "text": [
      "C:\\Users\\15086\\anaconda3\\envs\\wenqu_gdal\\lib\\site-packages\\sklearn\\cross_decomposition\\_pls.py:503: FutureWarning: The attribute `coef_` will be transposed in version 1.3 to be consistent with other linear models in scikit-learn. Currently, `coef_` has a shape of (n_features, n_targets) and in the future it will have a shape of (n_targets, n_features).\n",
      "  warnings.warn(\n"
     ]
    },
    {
     "name": "stdout",
     "output_type": "stream",
     "text": [
      "6% completed(3778, 319)\n"
     ]
    },
    {
     "name": "stderr",
     "output_type": "stream",
     "text": [
      "C:\\Users\\15086\\anaconda3\\envs\\wenqu_gdal\\lib\\site-packages\\sklearn\\cross_decomposition\\_pls.py:503: FutureWarning: The attribute `coef_` will be transposed in version 1.3 to be consistent with other linear models in scikit-learn. Currently, `coef_` has a shape of (n_features, n_targets) and in the future it will have a shape of (n_targets, n_features).\n",
      "  warnings.warn(\n"
     ]
    },
    {
     "name": "stdout",
     "output_type": "stream",
     "text": [
      "10% completed(3778, 319)\n"
     ]
    },
    {
     "name": "stderr",
     "output_type": "stream",
     "text": [
      "C:\\Users\\15086\\anaconda3\\envs\\wenqu_gdal\\lib\\site-packages\\sklearn\\cross_decomposition\\_pls.py:503: FutureWarning: The attribute `coef_` will be transposed in version 1.3 to be consistent with other linear models in scikit-learn. Currently, `coef_` has a shape of (n_features, n_targets) and in the future it will have a shape of (n_targets, n_features).\n",
      "  warnings.warn(\n"
     ]
    },
    {
     "name": "stdout",
     "output_type": "stream",
     "text": [
      "13% completed(3778, 319)\n"
     ]
    },
    {
     "name": "stderr",
     "output_type": "stream",
     "text": [
      "C:\\Users\\15086\\anaconda3\\envs\\wenqu_gdal\\lib\\site-packages\\sklearn\\cross_decomposition\\_pls.py:503: FutureWarning: The attribute `coef_` will be transposed in version 1.3 to be consistent with other linear models in scikit-learn. Currently, `coef_` has a shape of (n_features, n_targets) and in the future it will have a shape of (n_targets, n_features).\n",
      "  warnings.warn(\n"
     ]
    },
    {
     "name": "stdout",
     "output_type": "stream",
     "text": [
      "16% completed(3778, 319)\n"
     ]
    },
    {
     "name": "stderr",
     "output_type": "stream",
     "text": [
      "C:\\Users\\15086\\anaconda3\\envs\\wenqu_gdal\\lib\\site-packages\\sklearn\\cross_decomposition\\_pls.py:503: FutureWarning: The attribute `coef_` will be transposed in version 1.3 to be consistent with other linear models in scikit-learn. Currently, `coef_` has a shape of (n_features, n_targets) and in the future it will have a shape of (n_targets, n_features).\n",
      "  warnings.warn(\n"
     ]
    },
    {
     "name": "stdout",
     "output_type": "stream",
     "text": [
      "20% completed(3778, 319)\n"
     ]
    },
    {
     "name": "stderr",
     "output_type": "stream",
     "text": [
      "C:\\Users\\15086\\anaconda3\\envs\\wenqu_gdal\\lib\\site-packages\\sklearn\\cross_decomposition\\_pls.py:503: FutureWarning: The attribute `coef_` will be transposed in version 1.3 to be consistent with other linear models in scikit-learn. Currently, `coef_` has a shape of (n_features, n_targets) and in the future it will have a shape of (n_targets, n_features).\n",
      "  warnings.warn(\n"
     ]
    },
    {
     "name": "stdout",
     "output_type": "stream",
     "text": [
      "23% completed(3778, 319)\n"
     ]
    },
    {
     "name": "stderr",
     "output_type": "stream",
     "text": [
      "C:\\Users\\15086\\anaconda3\\envs\\wenqu_gdal\\lib\\site-packages\\sklearn\\cross_decomposition\\_pls.py:503: FutureWarning: The attribute `coef_` will be transposed in version 1.3 to be consistent with other linear models in scikit-learn. Currently, `coef_` has a shape of (n_features, n_targets) and in the future it will have a shape of (n_targets, n_features).\n",
      "  warnings.warn(\n"
     ]
    },
    {
     "name": "stdout",
     "output_type": "stream",
     "text": [
      "26% completed(3778, 319)\n"
     ]
    },
    {
     "name": "stderr",
     "output_type": "stream",
     "text": [
      "C:\\Users\\15086\\anaconda3\\envs\\wenqu_gdal\\lib\\site-packages\\sklearn\\cross_decomposition\\_pls.py:503: FutureWarning: The attribute `coef_` will be transposed in version 1.3 to be consistent with other linear models in scikit-learn. Currently, `coef_` has a shape of (n_features, n_targets) and in the future it will have a shape of (n_targets, n_features).\n",
      "  warnings.warn(\n"
     ]
    },
    {
     "name": "stdout",
     "output_type": "stream",
     "text": [
      "30% completed(3778, 319)\n"
     ]
    },
    {
     "name": "stderr",
     "output_type": "stream",
     "text": [
      "C:\\Users\\15086\\anaconda3\\envs\\wenqu_gdal\\lib\\site-packages\\sklearn\\cross_decomposition\\_pls.py:503: FutureWarning: The attribute `coef_` will be transposed in version 1.3 to be consistent with other linear models in scikit-learn. Currently, `coef_` has a shape of (n_features, n_targets) and in the future it will have a shape of (n_targets, n_features).\n",
      "  warnings.warn(\n"
     ]
    },
    {
     "name": "stdout",
     "output_type": "stream",
     "text": [
      "33% completed(3778, 319)\n"
     ]
    },
    {
     "name": "stderr",
     "output_type": "stream",
     "text": [
      "C:\\Users\\15086\\anaconda3\\envs\\wenqu_gdal\\lib\\site-packages\\sklearn\\cross_decomposition\\_pls.py:503: FutureWarning: The attribute `coef_` will be transposed in version 1.3 to be consistent with other linear models in scikit-learn. Currently, `coef_` has a shape of (n_features, n_targets) and in the future it will have a shape of (n_targets, n_features).\n",
      "  warnings.warn(\n"
     ]
    },
    {
     "name": "stdout",
     "output_type": "stream",
     "text": [
      "36% completed(3778, 319)\n"
     ]
    },
    {
     "name": "stderr",
     "output_type": "stream",
     "text": [
      "C:\\Users\\15086\\anaconda3\\envs\\wenqu_gdal\\lib\\site-packages\\sklearn\\cross_decomposition\\_pls.py:503: FutureWarning: The attribute `coef_` will be transposed in version 1.3 to be consistent with other linear models in scikit-learn. Currently, `coef_` has a shape of (n_features, n_targets) and in the future it will have a shape of (n_targets, n_features).\n",
      "  warnings.warn(\n"
     ]
    },
    {
     "name": "stdout",
     "output_type": "stream",
     "text": [
      "40% completed(3778, 319)\n"
     ]
    },
    {
     "name": "stderr",
     "output_type": "stream",
     "text": [
      "C:\\Users\\15086\\anaconda3\\envs\\wenqu_gdal\\lib\\site-packages\\sklearn\\cross_decomposition\\_pls.py:503: FutureWarning: The attribute `coef_` will be transposed in version 1.3 to be consistent with other linear models in scikit-learn. Currently, `coef_` has a shape of (n_features, n_targets) and in the future it will have a shape of (n_targets, n_features).\n",
      "  warnings.warn(\n"
     ]
    },
    {
     "name": "stdout",
     "output_type": "stream",
     "text": [
      "43% completed(3778, 319)\n"
     ]
    },
    {
     "name": "stderr",
     "output_type": "stream",
     "text": [
      "C:\\Users\\15086\\anaconda3\\envs\\wenqu_gdal\\lib\\site-packages\\sklearn\\cross_decomposition\\_pls.py:503: FutureWarning: The attribute `coef_` will be transposed in version 1.3 to be consistent with other linear models in scikit-learn. Currently, `coef_` has a shape of (n_features, n_targets) and in the future it will have a shape of (n_targets, n_features).\n",
      "  warnings.warn(\n"
     ]
    },
    {
     "name": "stdout",
     "output_type": "stream",
     "text": [
      "46% completed(3778, 319)\n"
     ]
    },
    {
     "name": "stderr",
     "output_type": "stream",
     "text": [
      "C:\\Users\\15086\\anaconda3\\envs\\wenqu_gdal\\lib\\site-packages\\sklearn\\cross_decomposition\\_pls.py:503: FutureWarning: The attribute `coef_` will be transposed in version 1.3 to be consistent with other linear models in scikit-learn. Currently, `coef_` has a shape of (n_features, n_targets) and in the future it will have a shape of (n_targets, n_features).\n",
      "  warnings.warn(\n"
     ]
    },
    {
     "name": "stdout",
     "output_type": "stream",
     "text": [
      "50% completed(3778, 319)\n"
     ]
    },
    {
     "name": "stderr",
     "output_type": "stream",
     "text": [
      "C:\\Users\\15086\\anaconda3\\envs\\wenqu_gdal\\lib\\site-packages\\sklearn\\cross_decomposition\\_pls.py:503: FutureWarning: The attribute `coef_` will be transposed in version 1.3 to be consistent with other linear models in scikit-learn. Currently, `coef_` has a shape of (n_features, n_targets) and in the future it will have a shape of (n_targets, n_features).\n",
      "  warnings.warn(\n"
     ]
    },
    {
     "name": "stdout",
     "output_type": "stream",
     "text": [
      "53% completed(3778, 319)\n"
     ]
    },
    {
     "name": "stderr",
     "output_type": "stream",
     "text": [
      "C:\\Users\\15086\\anaconda3\\envs\\wenqu_gdal\\lib\\site-packages\\sklearn\\cross_decomposition\\_pls.py:503: FutureWarning: The attribute `coef_` will be transposed in version 1.3 to be consistent with other linear models in scikit-learn. Currently, `coef_` has a shape of (n_features, n_targets) and in the future it will have a shape of (n_targets, n_features).\n",
      "  warnings.warn(\n"
     ]
    },
    {
     "name": "stdout",
     "output_type": "stream",
     "text": [
      "56% completed(3778, 319)\n"
     ]
    },
    {
     "name": "stderr",
     "output_type": "stream",
     "text": [
      "C:\\Users\\15086\\anaconda3\\envs\\wenqu_gdal\\lib\\site-packages\\sklearn\\cross_decomposition\\_pls.py:503: FutureWarning: The attribute `coef_` will be transposed in version 1.3 to be consistent with other linear models in scikit-learn. Currently, `coef_` has a shape of (n_features, n_targets) and in the future it will have a shape of (n_targets, n_features).\n",
      "  warnings.warn(\n"
     ]
    },
    {
     "name": "stdout",
     "output_type": "stream",
     "text": [
      "60% completed(3778, 319)\n"
     ]
    },
    {
     "name": "stderr",
     "output_type": "stream",
     "text": [
      "C:\\Users\\15086\\anaconda3\\envs\\wenqu_gdal\\lib\\site-packages\\sklearn\\cross_decomposition\\_pls.py:503: FutureWarning: The attribute `coef_` will be transposed in version 1.3 to be consistent with other linear models in scikit-learn. Currently, `coef_` has a shape of (n_features, n_targets) and in the future it will have a shape of (n_targets, n_features).\n",
      "  warnings.warn(\n"
     ]
    },
    {
     "name": "stdout",
     "output_type": "stream",
     "text": [
      "63% completed(3778, 319)\n"
     ]
    },
    {
     "name": "stderr",
     "output_type": "stream",
     "text": [
      "C:\\Users\\15086\\anaconda3\\envs\\wenqu_gdal\\lib\\site-packages\\sklearn\\cross_decomposition\\_pls.py:503: FutureWarning: The attribute `coef_` will be transposed in version 1.3 to be consistent with other linear models in scikit-learn. Currently, `coef_` has a shape of (n_features, n_targets) and in the future it will have a shape of (n_targets, n_features).\n",
      "  warnings.warn(\n"
     ]
    },
    {
     "name": "stdout",
     "output_type": "stream",
     "text": [
      "66% completed(3778, 319)\n"
     ]
    },
    {
     "name": "stderr",
     "output_type": "stream",
     "text": [
      "C:\\Users\\15086\\anaconda3\\envs\\wenqu_gdal\\lib\\site-packages\\sklearn\\cross_decomposition\\_pls.py:503: FutureWarning: The attribute `coef_` will be transposed in version 1.3 to be consistent with other linear models in scikit-learn. Currently, `coef_` has a shape of (n_features, n_targets) and in the future it will have a shape of (n_targets, n_features).\n",
      "  warnings.warn(\n"
     ]
    },
    {
     "name": "stdout",
     "output_type": "stream",
     "text": [
      "70% completed(3778, 319)\n"
     ]
    },
    {
     "name": "stderr",
     "output_type": "stream",
     "text": [
      "C:\\Users\\15086\\anaconda3\\envs\\wenqu_gdal\\lib\\site-packages\\sklearn\\cross_decomposition\\_pls.py:503: FutureWarning: The attribute `coef_` will be transposed in version 1.3 to be consistent with other linear models in scikit-learn. Currently, `coef_` has a shape of (n_features, n_targets) and in the future it will have a shape of (n_targets, n_features).\n",
      "  warnings.warn(\n"
     ]
    },
    {
     "name": "stdout",
     "output_type": "stream",
     "text": [
      "73% completed(3778, 319)\n"
     ]
    },
    {
     "name": "stderr",
     "output_type": "stream",
     "text": [
      "C:\\Users\\15086\\anaconda3\\envs\\wenqu_gdal\\lib\\site-packages\\sklearn\\cross_decomposition\\_pls.py:503: FutureWarning: The attribute `coef_` will be transposed in version 1.3 to be consistent with other linear models in scikit-learn. Currently, `coef_` has a shape of (n_features, n_targets) and in the future it will have a shape of (n_targets, n_features).\n",
      "  warnings.warn(\n"
     ]
    },
    {
     "name": "stdout",
     "output_type": "stream",
     "text": [
      "\r",
      "76% completed"
     ]
    },
    {
     "name": "stderr",
     "output_type": "stream",
     "text": [
      "C:\\Users\\15086\\anaconda3\\envs\\wenqu_gdal\\lib\\site-packages\\sklearn\\cross_decomposition\\_pls.py:503: FutureWarning: The attribute `coef_` will be transposed in version 1.3 to be consistent with other linear models in scikit-learn. Currently, `coef_` has a shape of (n_features, n_targets) and in the future it will have a shape of (n_targets, n_features).\n",
      "  warnings.warn(\n"
     ]
    },
    {
     "name": "stdout",
     "output_type": "stream",
     "text": [
      "(3778, 319)\n",
      "80% completed"
     ]
    },
    {
     "name": "stderr",
     "output_type": "stream",
     "text": [
      "C:\\Users\\15086\\anaconda3\\envs\\wenqu_gdal\\lib\\site-packages\\sklearn\\cross_decomposition\\_pls.py:503: FutureWarning: The attribute `coef_` will be transposed in version 1.3 to be consistent with other linear models in scikit-learn. Currently, `coef_` has a shape of (n_features, n_targets) and in the future it will have a shape of (n_targets, n_features).\n",
      "  warnings.warn(\n"
     ]
    },
    {
     "name": "stdout",
     "output_type": "stream",
     "text": [
      "(3778, 319)\n",
      "83% completed"
     ]
    },
    {
     "name": "stderr",
     "output_type": "stream",
     "text": [
      "C:\\Users\\15086\\anaconda3\\envs\\wenqu_gdal\\lib\\site-packages\\sklearn\\cross_decomposition\\_pls.py:503: FutureWarning: The attribute `coef_` will be transposed in version 1.3 to be consistent with other linear models in scikit-learn. Currently, `coef_` has a shape of (n_features, n_targets) and in the future it will have a shape of (n_targets, n_features).\n",
      "  warnings.warn(\n"
     ]
    },
    {
     "name": "stdout",
     "output_type": "stream",
     "text": [
      "(3778, 319)\n",
      "86% completed"
     ]
    },
    {
     "name": "stderr",
     "output_type": "stream",
     "text": [
      "C:\\Users\\15086\\anaconda3\\envs\\wenqu_gdal\\lib\\site-packages\\sklearn\\cross_decomposition\\_pls.py:503: FutureWarning: The attribute `coef_` will be transposed in version 1.3 to be consistent with other linear models in scikit-learn. Currently, `coef_` has a shape of (n_features, n_targets) and in the future it will have a shape of (n_targets, n_features).\n",
      "  warnings.warn(\n"
     ]
    },
    {
     "name": "stdout",
     "output_type": "stream",
     "text": [
      "(3778, 319)\n",
      "90% completed"
     ]
    },
    {
     "name": "stderr",
     "output_type": "stream",
     "text": [
      "C:\\Users\\15086\\anaconda3\\envs\\wenqu_gdal\\lib\\site-packages\\sklearn\\cross_decomposition\\_pls.py:503: FutureWarning: The attribute `coef_` will be transposed in version 1.3 to be consistent with other linear models in scikit-learn. Currently, `coef_` has a shape of (n_features, n_targets) and in the future it will have a shape of (n_targets, n_features).\n",
      "  warnings.warn(\n"
     ]
    },
    {
     "name": "stdout",
     "output_type": "stream",
     "text": [
      "(3778, 319)\n",
      "93% completed"
     ]
    },
    {
     "name": "stderr",
     "output_type": "stream",
     "text": [
      "C:\\Users\\15086\\anaconda3\\envs\\wenqu_gdal\\lib\\site-packages\\sklearn\\cross_decomposition\\_pls.py:503: FutureWarning: The attribute `coef_` will be transposed in version 1.3 to be consistent with other linear models in scikit-learn. Currently, `coef_` has a shape of (n_features, n_targets) and in the future it will have a shape of (n_targets, n_features).\n",
      "  warnings.warn(\n"
     ]
    },
    {
     "name": "stdout",
     "output_type": "stream",
     "text": [
      "(3778, 319)\n",
      "96% completed"
     ]
    },
    {
     "name": "stderr",
     "output_type": "stream",
     "text": [
      "C:\\Users\\15086\\anaconda3\\envs\\wenqu_gdal\\lib\\site-packages\\sklearn\\cross_decomposition\\_pls.py:503: FutureWarning: The attribute `coef_` will be transposed in version 1.3 to be consistent with other linear models in scikit-learn. Currently, `coef_` has a shape of (n_features, n_targets) and in the future it will have a shape of (n_targets, n_features).\n",
      "  warnings.warn(\n"
     ]
    },
    {
     "name": "stdout",
     "output_type": "stream",
     "text": [
      "(3778, 319)\n",
      "100% completed\n",
      "Optimised number of PLS components:  9\n",
      "Wavelengths to be discarded  309\n",
      "Optimised MSEP  16.200253322540263\n",
      "\n"
     ]
    },
    {
     "data": {
      "image/png": "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\n",
      "text/plain": [
       "<Figure size 640x480 with 1 Axes>"
      ]
     },
     "metadata": {},
     "output_type": "display_data"
    },
    {
     "name": "stderr",
     "output_type": "stream",
     "text": [
      "C:\\Users\\15086\\anaconda3\\envs\\wenqu_gdal\\lib\\site-packages\\sklearn\\cross_decomposition\\_pls.py:503: FutureWarning: The attribute `coef_` will be transposed in version 1.3 to be consistent with other linear models in scikit-learn. Currently, `coef_` has a shape of (n_features, n_targets) and in the future it will have a shape of (n_targets, n_features).\n",
      "  warnings.warn(\n"
     ]
    }
   ],
   "source": [
    "opt_Xc, ncomp, wav, sorted_ind = plot_mse_vs_components(x, y, 30)"
   ]
  },
  {
   "cell_type": "code",
   "execution_count": 17,
   "id": "94dbc6b1",
   "metadata": {
    "scrolled": true
   },
   "outputs": [
    {
     "name": "stderr",
     "output_type": "stream",
     "text": [
      "C:\\Users\\15086\\anaconda3\\envs\\wenqu_gdal\\lib\\site-packages\\sklearn\\cross_decomposition\\_pls.py:503: FutureWarning: The attribute `coef_` will be transposed in version 1.3 to be consistent with other linear models in scikit-learn. Currently, `coef_` has a shape of (n_features, n_targets) and in the future it will have a shape of (n_targets, n_features).\n",
      "  warnings.warn(\n"
     ]
    },
    {
     "name": "stdout",
     "output_type": "stream",
     "text": [
      "(2555, 319)\n",
      "3% completed(2555, 319)\n"
     ]
    },
    {
     "name": "stderr",
     "output_type": "stream",
     "text": [
      "C:\\Users\\15086\\anaconda3\\envs\\wenqu_gdal\\lib\\site-packages\\sklearn\\cross_decomposition\\_pls.py:503: FutureWarning: The attribute `coef_` will be transposed in version 1.3 to be consistent with other linear models in scikit-learn. Currently, `coef_` has a shape of (n_features, n_targets) and in the future it will have a shape of (n_targets, n_features).\n",
      "  warnings.warn(\n"
     ]
    },
    {
     "name": "stdout",
     "output_type": "stream",
     "text": [
      "6% completed(2555, 319)\n"
     ]
    },
    {
     "name": "stderr",
     "output_type": "stream",
     "text": [
      "C:\\Users\\15086\\anaconda3\\envs\\wenqu_gdal\\lib\\site-packages\\sklearn\\cross_decomposition\\_pls.py:503: FutureWarning: The attribute `coef_` will be transposed in version 1.3 to be consistent with other linear models in scikit-learn. Currently, `coef_` has a shape of (n_features, n_targets) and in the future it will have a shape of (n_targets, n_features).\n",
      "  warnings.warn(\n"
     ]
    },
    {
     "name": "stdout",
     "output_type": "stream",
     "text": [
      "10% completed(2555, 319)\n"
     ]
    },
    {
     "name": "stderr",
     "output_type": "stream",
     "text": [
      "C:\\Users\\15086\\anaconda3\\envs\\wenqu_gdal\\lib\\site-packages\\sklearn\\cross_decomposition\\_pls.py:503: FutureWarning: The attribute `coef_` will be transposed in version 1.3 to be consistent with other linear models in scikit-learn. Currently, `coef_` has a shape of (n_features, n_targets) and in the future it will have a shape of (n_targets, n_features).\n",
      "  warnings.warn(\n"
     ]
    },
    {
     "name": "stdout",
     "output_type": "stream",
     "text": [
      "13% completed(2555, 319)\n"
     ]
    },
    {
     "name": "stderr",
     "output_type": "stream",
     "text": [
      "C:\\Users\\15086\\anaconda3\\envs\\wenqu_gdal\\lib\\site-packages\\sklearn\\cross_decomposition\\_pls.py:503: FutureWarning: The attribute `coef_` will be transposed in version 1.3 to be consistent with other linear models in scikit-learn. Currently, `coef_` has a shape of (n_features, n_targets) and in the future it will have a shape of (n_targets, n_features).\n",
      "  warnings.warn(\n"
     ]
    },
    {
     "name": "stdout",
     "output_type": "stream",
     "text": [
      "16% completed(2555, 319)\n"
     ]
    },
    {
     "name": "stderr",
     "output_type": "stream",
     "text": [
      "C:\\Users\\15086\\anaconda3\\envs\\wenqu_gdal\\lib\\site-packages\\sklearn\\cross_decomposition\\_pls.py:503: FutureWarning: The attribute `coef_` will be transposed in version 1.3 to be consistent with other linear models in scikit-learn. Currently, `coef_` has a shape of (n_features, n_targets) and in the future it will have a shape of (n_targets, n_features).\n",
      "  warnings.warn(\n"
     ]
    },
    {
     "name": "stdout",
     "output_type": "stream",
     "text": [
      "20% completed(2555, 319)\n"
     ]
    },
    {
     "name": "stderr",
     "output_type": "stream",
     "text": [
      "C:\\Users\\15086\\anaconda3\\envs\\wenqu_gdal\\lib\\site-packages\\sklearn\\cross_decomposition\\_pls.py:503: FutureWarning: The attribute `coef_` will be transposed in version 1.3 to be consistent with other linear models in scikit-learn. Currently, `coef_` has a shape of (n_features, n_targets) and in the future it will have a shape of (n_targets, n_features).\n",
      "  warnings.warn(\n"
     ]
    },
    {
     "name": "stdout",
     "output_type": "stream",
     "text": [
      "23% completed(2555, 319)\n"
     ]
    },
    {
     "name": "stderr",
     "output_type": "stream",
     "text": [
      "C:\\Users\\15086\\anaconda3\\envs\\wenqu_gdal\\lib\\site-packages\\sklearn\\cross_decomposition\\_pls.py:503: FutureWarning: The attribute `coef_` will be transposed in version 1.3 to be consistent with other linear models in scikit-learn. Currently, `coef_` has a shape of (n_features, n_targets) and in the future it will have a shape of (n_targets, n_features).\n",
      "  warnings.warn(\n"
     ]
    },
    {
     "name": "stdout",
     "output_type": "stream",
     "text": [
      "26% completed(2555, 319)\n"
     ]
    },
    {
     "name": "stderr",
     "output_type": "stream",
     "text": [
      "C:\\Users\\15086\\anaconda3\\envs\\wenqu_gdal\\lib\\site-packages\\sklearn\\cross_decomposition\\_pls.py:503: FutureWarning: The attribute `coef_` will be transposed in version 1.3 to be consistent with other linear models in scikit-learn. Currently, `coef_` has a shape of (n_features, n_targets) and in the future it will have a shape of (n_targets, n_features).\n",
      "  warnings.warn(\n"
     ]
    },
    {
     "name": "stdout",
     "output_type": "stream",
     "text": [
      "30% completed(2555, 319)\n"
     ]
    },
    {
     "name": "stderr",
     "output_type": "stream",
     "text": [
      "C:\\Users\\15086\\anaconda3\\envs\\wenqu_gdal\\lib\\site-packages\\sklearn\\cross_decomposition\\_pls.py:503: FutureWarning: The attribute `coef_` will be transposed in version 1.3 to be consistent with other linear models in scikit-learn. Currently, `coef_` has a shape of (n_features, n_targets) and in the future it will have a shape of (n_targets, n_features).\n",
      "  warnings.warn(\n"
     ]
    },
    {
     "name": "stdout",
     "output_type": "stream",
     "text": [
      "33% completed(2555, 319)\n"
     ]
    },
    {
     "name": "stderr",
     "output_type": "stream",
     "text": [
      "C:\\Users\\15086\\anaconda3\\envs\\wenqu_gdal\\lib\\site-packages\\sklearn\\cross_decomposition\\_pls.py:503: FutureWarning: The attribute `coef_` will be transposed in version 1.3 to be consistent with other linear models in scikit-learn. Currently, `coef_` has a shape of (n_features, n_targets) and in the future it will have a shape of (n_targets, n_features).\n",
      "  warnings.warn(\n"
     ]
    },
    {
     "name": "stdout",
     "output_type": "stream",
     "text": [
      "36% completed(2555, 319)\n"
     ]
    },
    {
     "name": "stderr",
     "output_type": "stream",
     "text": [
      "C:\\Users\\15086\\anaconda3\\envs\\wenqu_gdal\\lib\\site-packages\\sklearn\\cross_decomposition\\_pls.py:503: FutureWarning: The attribute `coef_` will be transposed in version 1.3 to be consistent with other linear models in scikit-learn. Currently, `coef_` has a shape of (n_features, n_targets) and in the future it will have a shape of (n_targets, n_features).\n",
      "  warnings.warn(\n"
     ]
    },
    {
     "name": "stdout",
     "output_type": "stream",
     "text": [
      "40% completed(2555, 319)\n"
     ]
    },
    {
     "name": "stderr",
     "output_type": "stream",
     "text": [
      "C:\\Users\\15086\\anaconda3\\envs\\wenqu_gdal\\lib\\site-packages\\sklearn\\cross_decomposition\\_pls.py:503: FutureWarning: The attribute `coef_` will be transposed in version 1.3 to be consistent with other linear models in scikit-learn. Currently, `coef_` has a shape of (n_features, n_targets) and in the future it will have a shape of (n_targets, n_features).\n",
      "  warnings.warn(\n"
     ]
    },
    {
     "name": "stdout",
     "output_type": "stream",
     "text": [
      "43% completed(2555, 319)\n"
     ]
    },
    {
     "name": "stderr",
     "output_type": "stream",
     "text": [
      "C:\\Users\\15086\\anaconda3\\envs\\wenqu_gdal\\lib\\site-packages\\sklearn\\cross_decomposition\\_pls.py:503: FutureWarning: The attribute `coef_` will be transposed in version 1.3 to be consistent with other linear models in scikit-learn. Currently, `coef_` has a shape of (n_features, n_targets) and in the future it will have a shape of (n_targets, n_features).\n",
      "  warnings.warn(\n"
     ]
    },
    {
     "name": "stdout",
     "output_type": "stream",
     "text": [
      "46% completed(2555, 319)\n"
     ]
    },
    {
     "name": "stderr",
     "output_type": "stream",
     "text": [
      "C:\\Users\\15086\\anaconda3\\envs\\wenqu_gdal\\lib\\site-packages\\sklearn\\cross_decomposition\\_pls.py:503: FutureWarning: The attribute `coef_` will be transposed in version 1.3 to be consistent with other linear models in scikit-learn. Currently, `coef_` has a shape of (n_features, n_targets) and in the future it will have a shape of (n_targets, n_features).\n",
      "  warnings.warn(\n"
     ]
    },
    {
     "name": "stdout",
     "output_type": "stream",
     "text": [
      "50% completed(2555, 319)\n"
     ]
    },
    {
     "name": "stderr",
     "output_type": "stream",
     "text": [
      "C:\\Users\\15086\\anaconda3\\envs\\wenqu_gdal\\lib\\site-packages\\sklearn\\cross_decomposition\\_pls.py:503: FutureWarning: The attribute `coef_` will be transposed in version 1.3 to be consistent with other linear models in scikit-learn. Currently, `coef_` has a shape of (n_features, n_targets) and in the future it will have a shape of (n_targets, n_features).\n",
      "  warnings.warn(\n"
     ]
    },
    {
     "name": "stdout",
     "output_type": "stream",
     "text": [
      "53% completed(2555, 319)\n"
     ]
    },
    {
     "name": "stderr",
     "output_type": "stream",
     "text": [
      "C:\\Users\\15086\\anaconda3\\envs\\wenqu_gdal\\lib\\site-packages\\sklearn\\cross_decomposition\\_pls.py:503: FutureWarning: The attribute `coef_` will be transposed in version 1.3 to be consistent with other linear models in scikit-learn. Currently, `coef_` has a shape of (n_features, n_targets) and in the future it will have a shape of (n_targets, n_features).\n",
      "  warnings.warn(\n"
     ]
    },
    {
     "name": "stdout",
     "output_type": "stream",
     "text": [
      "56% completed(2555, 319)\n"
     ]
    },
    {
     "name": "stderr",
     "output_type": "stream",
     "text": [
      "C:\\Users\\15086\\anaconda3\\envs\\wenqu_gdal\\lib\\site-packages\\sklearn\\cross_decomposition\\_pls.py:503: FutureWarning: The attribute `coef_` will be transposed in version 1.3 to be consistent with other linear models in scikit-learn. Currently, `coef_` has a shape of (n_features, n_targets) and in the future it will have a shape of (n_targets, n_features).\n",
      "  warnings.warn(\n"
     ]
    },
    {
     "name": "stdout",
     "output_type": "stream",
     "text": [
      "60% completed(2555, 319)\n"
     ]
    },
    {
     "name": "stderr",
     "output_type": "stream",
     "text": [
      "C:\\Users\\15086\\anaconda3\\envs\\wenqu_gdal\\lib\\site-packages\\sklearn\\cross_decomposition\\_pls.py:503: FutureWarning: The attribute `coef_` will be transposed in version 1.3 to be consistent with other linear models in scikit-learn. Currently, `coef_` has a shape of (n_features, n_targets) and in the future it will have a shape of (n_targets, n_features).\n",
      "  warnings.warn(\n"
     ]
    },
    {
     "name": "stdout",
     "output_type": "stream",
     "text": [
      "63% completed(2555, 319)\n"
     ]
    },
    {
     "name": "stderr",
     "output_type": "stream",
     "text": [
      "C:\\Users\\15086\\anaconda3\\envs\\wenqu_gdal\\lib\\site-packages\\sklearn\\cross_decomposition\\_pls.py:503: FutureWarning: The attribute `coef_` will be transposed in version 1.3 to be consistent with other linear models in scikit-learn. Currently, `coef_` has a shape of (n_features, n_targets) and in the future it will have a shape of (n_targets, n_features).\n",
      "  warnings.warn(\n"
     ]
    },
    {
     "name": "stdout",
     "output_type": "stream",
     "text": [
      "66% completed(2555, 319)\n"
     ]
    },
    {
     "name": "stderr",
     "output_type": "stream",
     "text": [
      "C:\\Users\\15086\\anaconda3\\envs\\wenqu_gdal\\lib\\site-packages\\sklearn\\cross_decomposition\\_pls.py:503: FutureWarning: The attribute `coef_` will be transposed in version 1.3 to be consistent with other linear models in scikit-learn. Currently, `coef_` has a shape of (n_features, n_targets) and in the future it will have a shape of (n_targets, n_features).\n",
      "  warnings.warn(\n"
     ]
    },
    {
     "name": "stdout",
     "output_type": "stream",
     "text": [
      "70% completed(2555, 319)\n"
     ]
    },
    {
     "name": "stderr",
     "output_type": "stream",
     "text": [
      "C:\\Users\\15086\\anaconda3\\envs\\wenqu_gdal\\lib\\site-packages\\sklearn\\cross_decomposition\\_pls.py:503: FutureWarning: The attribute `coef_` will be transposed in version 1.3 to be consistent with other linear models in scikit-learn. Currently, `coef_` has a shape of (n_features, n_targets) and in the future it will have a shape of (n_targets, n_features).\n",
      "  warnings.warn(\n"
     ]
    },
    {
     "name": "stdout",
     "output_type": "stream",
     "text": [
      "73% completed(2555, 319)\n"
     ]
    },
    {
     "name": "stderr",
     "output_type": "stream",
     "text": [
      "C:\\Users\\15086\\anaconda3\\envs\\wenqu_gdal\\lib\\site-packages\\sklearn\\cross_decomposition\\_pls.py:503: FutureWarning: The attribute `coef_` will be transposed in version 1.3 to be consistent with other linear models in scikit-learn. Currently, `coef_` has a shape of (n_features, n_targets) and in the future it will have a shape of (n_targets, n_features).\n",
      "  warnings.warn(\n"
     ]
    },
    {
     "name": "stdout",
     "output_type": "stream",
     "text": [
      "76% completed(2555, 319)\n"
     ]
    },
    {
     "name": "stderr",
     "output_type": "stream",
     "text": [
      "C:\\Users\\15086\\anaconda3\\envs\\wenqu_gdal\\lib\\site-packages\\sklearn\\cross_decomposition\\_pls.py:503: FutureWarning: The attribute `coef_` will be transposed in version 1.3 to be consistent with other linear models in scikit-learn. Currently, `coef_` has a shape of (n_features, n_targets) and in the future it will have a shape of (n_targets, n_features).\n",
      "  warnings.warn(\n"
     ]
    },
    {
     "name": "stdout",
     "output_type": "stream",
     "text": [
      "80% completed(2555, 319)\n"
     ]
    },
    {
     "name": "stderr",
     "output_type": "stream",
     "text": [
      "C:\\Users\\15086\\anaconda3\\envs\\wenqu_gdal\\lib\\site-packages\\sklearn\\cross_decomposition\\_pls.py:503: FutureWarning: The attribute `coef_` will be transposed in version 1.3 to be consistent with other linear models in scikit-learn. Currently, `coef_` has a shape of (n_features, n_targets) and in the future it will have a shape of (n_targets, n_features).\n",
      "  warnings.warn(\n"
     ]
    },
    {
     "name": "stdout",
     "output_type": "stream",
     "text": [
      "83% completed(2555, 319)\n"
     ]
    },
    {
     "name": "stderr",
     "output_type": "stream",
     "text": [
      "C:\\Users\\15086\\anaconda3\\envs\\wenqu_gdal\\lib\\site-packages\\sklearn\\cross_decomposition\\_pls.py:503: FutureWarning: The attribute `coef_` will be transposed in version 1.3 to be consistent with other linear models in scikit-learn. Currently, `coef_` has a shape of (n_features, n_targets) and in the future it will have a shape of (n_targets, n_features).\n",
      "  warnings.warn(\n"
     ]
    },
    {
     "name": "stdout",
     "output_type": "stream",
     "text": [
      "86% completed(2555, 319)\n"
     ]
    },
    {
     "name": "stderr",
     "output_type": "stream",
     "text": [
      "C:\\Users\\15086\\anaconda3\\envs\\wenqu_gdal\\lib\\site-packages\\sklearn\\cross_decomposition\\_pls.py:503: FutureWarning: The attribute `coef_` will be transposed in version 1.3 to be consistent with other linear models in scikit-learn. Currently, `coef_` has a shape of (n_features, n_targets) and in the future it will have a shape of (n_targets, n_features).\n",
      "  warnings.warn(\n"
     ]
    },
    {
     "name": "stdout",
     "output_type": "stream",
     "text": [
      "90% completed(2555, 319)\n"
     ]
    },
    {
     "name": "stderr",
     "output_type": "stream",
     "text": [
      "C:\\Users\\15086\\anaconda3\\envs\\wenqu_gdal\\lib\\site-packages\\sklearn\\cross_decomposition\\_pls.py:503: FutureWarning: The attribute `coef_` will be transposed in version 1.3 to be consistent with other linear models in scikit-learn. Currently, `coef_` has a shape of (n_features, n_targets) and in the future it will have a shape of (n_targets, n_features).\n",
      "  warnings.warn(\n"
     ]
    },
    {
     "name": "stdout",
     "output_type": "stream",
     "text": [
      "93% completed(2555, 319)\n"
     ]
    },
    {
     "name": "stderr",
     "output_type": "stream",
     "text": [
      "C:\\Users\\15086\\anaconda3\\envs\\wenqu_gdal\\lib\\site-packages\\sklearn\\cross_decomposition\\_pls.py:503: FutureWarning: The attribute `coef_` will be transposed in version 1.3 to be consistent with other linear models in scikit-learn. Currently, `coef_` has a shape of (n_features, n_targets) and in the future it will have a shape of (n_targets, n_features).\n",
      "  warnings.warn(\n"
     ]
    },
    {
     "name": "stdout",
     "output_type": "stream",
     "text": [
      "96% completed(2555, 319)\n"
     ]
    },
    {
     "name": "stderr",
     "output_type": "stream",
     "text": [
      "C:\\Users\\15086\\anaconda3\\envs\\wenqu_gdal\\lib\\site-packages\\sklearn\\cross_decomposition\\_pls.py:503: FutureWarning: The attribute `coef_` will be transposed in version 1.3 to be consistent with other linear models in scikit-learn. Currently, `coef_` has a shape of (n_features, n_targets) and in the future it will have a shape of (n_targets, n_features).\n",
      "  warnings.warn(\n"
     ]
    },
    {
     "name": "stdout",
     "output_type": "stream",
     "text": [
      "100% completed\n",
      "Optimised number of PLS components:  12\n",
      "Wavelengths to be discarded  227\n",
      "Optimised MSEP  1.1850148096112096\n",
      "\n"
     ]
    },
    {
     "data": {
      "image/png": "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\n",
      "text/plain": [
       "<Figure size 640x480 with 1 Axes>"
      ]
     },
     "metadata": {},
     "output_type": "display_data"
    },
    {
     "name": "stderr",
     "output_type": "stream",
     "text": [
      "C:\\Users\\15086\\anaconda3\\envs\\wenqu_gdal\\lib\\site-packages\\sklearn\\cross_decomposition\\_pls.py:503: FutureWarning: The attribute `coef_` will be transposed in version 1.3 to be consistent with other linear models in scikit-learn. Currently, `coef_` has a shape of (n_features, n_targets) and in the future it will have a shape of (n_targets, n_features).\n",
      "  warnings.warn(\n",
      "C:\\Users\\15086\\anaconda3\\envs\\wenqu_gdal\\lib\\site-packages\\sklearn\\cross_decomposition\\_pls.py:503: FutureWarning: The attribute `coef_` will be transposed in version 1.3 to be consistent with other linear models in scikit-learn. Currently, `coef_` has a shape of (n_features, n_targets) and in the future it will have a shape of (n_targets, n_features).\n",
      "  warnings.warn(\n"
     ]
    },
    {
     "name": "stdout",
     "output_type": "stream",
     "text": [
      "(543, 319)\n",
      "3% completed(543, 319)\n"
     ]
    },
    {
     "name": "stderr",
     "output_type": "stream",
     "text": [
      "C:\\Users\\15086\\anaconda3\\envs\\wenqu_gdal\\lib\\site-packages\\sklearn\\cross_decomposition\\_pls.py:503: FutureWarning: The attribute `coef_` will be transposed in version 1.3 to be consistent with other linear models in scikit-learn. Currently, `coef_` has a shape of (n_features, n_targets) and in the future it will have a shape of (n_targets, n_features).\n",
      "  warnings.warn(\n"
     ]
    },
    {
     "name": "stdout",
     "output_type": "stream",
     "text": [
      "6% completed(543, 319)\n"
     ]
    },
    {
     "name": "stderr",
     "output_type": "stream",
     "text": [
      "C:\\Users\\15086\\anaconda3\\envs\\wenqu_gdal\\lib\\site-packages\\sklearn\\cross_decomposition\\_pls.py:503: FutureWarning: The attribute `coef_` will be transposed in version 1.3 to be consistent with other linear models in scikit-learn. Currently, `coef_` has a shape of (n_features, n_targets) and in the future it will have a shape of (n_targets, n_features).\n",
      "  warnings.warn(\n"
     ]
    },
    {
     "name": "stdout",
     "output_type": "stream",
     "text": [
      "10% completed(543, 319)\n"
     ]
    },
    {
     "name": "stderr",
     "output_type": "stream",
     "text": [
      "C:\\Users\\15086\\anaconda3\\envs\\wenqu_gdal\\lib\\site-packages\\sklearn\\cross_decomposition\\_pls.py:503: FutureWarning: The attribute `coef_` will be transposed in version 1.3 to be consistent with other linear models in scikit-learn. Currently, `coef_` has a shape of (n_features, n_targets) and in the future it will have a shape of (n_targets, n_features).\n",
      "  warnings.warn(\n"
     ]
    },
    {
     "name": "stdout",
     "output_type": "stream",
     "text": [
      "13% completed(543, 319)\n"
     ]
    },
    {
     "name": "stderr",
     "output_type": "stream",
     "text": [
      "C:\\Users\\15086\\anaconda3\\envs\\wenqu_gdal\\lib\\site-packages\\sklearn\\cross_decomposition\\_pls.py:503: FutureWarning: The attribute `coef_` will be transposed in version 1.3 to be consistent with other linear models in scikit-learn. Currently, `coef_` has a shape of (n_features, n_targets) and in the future it will have a shape of (n_targets, n_features).\n",
      "  warnings.warn(\n"
     ]
    },
    {
     "name": "stdout",
     "output_type": "stream",
     "text": [
      "16% completed(543, 319)\n"
     ]
    },
    {
     "name": "stderr",
     "output_type": "stream",
     "text": [
      "C:\\Users\\15086\\anaconda3\\envs\\wenqu_gdal\\lib\\site-packages\\sklearn\\cross_decomposition\\_pls.py:503: FutureWarning: The attribute `coef_` will be transposed in version 1.3 to be consistent with other linear models in scikit-learn. Currently, `coef_` has a shape of (n_features, n_targets) and in the future it will have a shape of (n_targets, n_features).\n",
      "  warnings.warn(\n"
     ]
    },
    {
     "name": "stdout",
     "output_type": "stream",
     "text": [
      "20% completed(543, 319)\n"
     ]
    },
    {
     "name": "stderr",
     "output_type": "stream",
     "text": [
      "C:\\Users\\15086\\anaconda3\\envs\\wenqu_gdal\\lib\\site-packages\\sklearn\\cross_decomposition\\_pls.py:503: FutureWarning: The attribute `coef_` will be transposed in version 1.3 to be consistent with other linear models in scikit-learn. Currently, `coef_` has a shape of (n_features, n_targets) and in the future it will have a shape of (n_targets, n_features).\n",
      "  warnings.warn(\n"
     ]
    },
    {
     "name": "stdout",
     "output_type": "stream",
     "text": [
      "23% completed(543, 319)\n"
     ]
    },
    {
     "name": "stderr",
     "output_type": "stream",
     "text": [
      "C:\\Users\\15086\\anaconda3\\envs\\wenqu_gdal\\lib\\site-packages\\sklearn\\cross_decomposition\\_pls.py:503: FutureWarning: The attribute `coef_` will be transposed in version 1.3 to be consistent with other linear models in scikit-learn. Currently, `coef_` has a shape of (n_features, n_targets) and in the future it will have a shape of (n_targets, n_features).\n",
      "  warnings.warn(\n"
     ]
    },
    {
     "name": "stdout",
     "output_type": "stream",
     "text": [
      "26% completed(543, 319)\n"
     ]
    },
    {
     "name": "stderr",
     "output_type": "stream",
     "text": [
      "C:\\Users\\15086\\anaconda3\\envs\\wenqu_gdal\\lib\\site-packages\\sklearn\\cross_decomposition\\_pls.py:503: FutureWarning: The attribute `coef_` will be transposed in version 1.3 to be consistent with other linear models in scikit-learn. Currently, `coef_` has a shape of (n_features, n_targets) and in the future it will have a shape of (n_targets, n_features).\n",
      "  warnings.warn(\n"
     ]
    },
    {
     "name": "stdout",
     "output_type": "stream",
     "text": [
      "30% completed(543, 319)\n"
     ]
    },
    {
     "name": "stderr",
     "output_type": "stream",
     "text": [
      "C:\\Users\\15086\\anaconda3\\envs\\wenqu_gdal\\lib\\site-packages\\sklearn\\cross_decomposition\\_pls.py:503: FutureWarning: The attribute `coef_` will be transposed in version 1.3 to be consistent with other linear models in scikit-learn. Currently, `coef_` has a shape of (n_features, n_targets) and in the future it will have a shape of (n_targets, n_features).\n",
      "  warnings.warn(\n"
     ]
    },
    {
     "name": "stdout",
     "output_type": "stream",
     "text": [
      "33% completed(543, 319)\n"
     ]
    },
    {
     "name": "stderr",
     "output_type": "stream",
     "text": [
      "C:\\Users\\15086\\anaconda3\\envs\\wenqu_gdal\\lib\\site-packages\\sklearn\\cross_decomposition\\_pls.py:503: FutureWarning: The attribute `coef_` will be transposed in version 1.3 to be consistent with other linear models in scikit-learn. Currently, `coef_` has a shape of (n_features, n_targets) and in the future it will have a shape of (n_targets, n_features).\n",
      "  warnings.warn(\n"
     ]
    },
    {
     "name": "stdout",
     "output_type": "stream",
     "text": [
      "36% completed(543, 319)\n"
     ]
    },
    {
     "name": "stderr",
     "output_type": "stream",
     "text": [
      "C:\\Users\\15086\\anaconda3\\envs\\wenqu_gdal\\lib\\site-packages\\sklearn\\cross_decomposition\\_pls.py:503: FutureWarning: The attribute `coef_` will be transposed in version 1.3 to be consistent with other linear models in scikit-learn. Currently, `coef_` has a shape of (n_features, n_targets) and in the future it will have a shape of (n_targets, n_features).\n",
      "  warnings.warn(\n"
     ]
    },
    {
     "name": "stdout",
     "output_type": "stream",
     "text": [
      "40% completed(543, 319)\n"
     ]
    },
    {
     "name": "stderr",
     "output_type": "stream",
     "text": [
      "C:\\Users\\15086\\anaconda3\\envs\\wenqu_gdal\\lib\\site-packages\\sklearn\\cross_decomposition\\_pls.py:503: FutureWarning: The attribute `coef_` will be transposed in version 1.3 to be consistent with other linear models in scikit-learn. Currently, `coef_` has a shape of (n_features, n_targets) and in the future it will have a shape of (n_targets, n_features).\n",
      "  warnings.warn(\n"
     ]
    },
    {
     "name": "stdout",
     "output_type": "stream",
     "text": [
      "43% completed(543, 319)\n"
     ]
    },
    {
     "name": "stderr",
     "output_type": "stream",
     "text": [
      "C:\\Users\\15086\\anaconda3\\envs\\wenqu_gdal\\lib\\site-packages\\sklearn\\cross_decomposition\\_pls.py:503: FutureWarning: The attribute `coef_` will be transposed in version 1.3 to be consistent with other linear models in scikit-learn. Currently, `coef_` has a shape of (n_features, n_targets) and in the future it will have a shape of (n_targets, n_features).\n",
      "  warnings.warn(\n"
     ]
    },
    {
     "name": "stdout",
     "output_type": "stream",
     "text": [
      "46% completed(543, 319)\n"
     ]
    },
    {
     "name": "stderr",
     "output_type": "stream",
     "text": [
      "C:\\Users\\15086\\anaconda3\\envs\\wenqu_gdal\\lib\\site-packages\\sklearn\\cross_decomposition\\_pls.py:503: FutureWarning: The attribute `coef_` will be transposed in version 1.3 to be consistent with other linear models in scikit-learn. Currently, `coef_` has a shape of (n_features, n_targets) and in the future it will have a shape of (n_targets, n_features).\n",
      "  warnings.warn(\n"
     ]
    },
    {
     "name": "stdout",
     "output_type": "stream",
     "text": [
      "50% completed(543, 319)\n"
     ]
    },
    {
     "name": "stderr",
     "output_type": "stream",
     "text": [
      "C:\\Users\\15086\\anaconda3\\envs\\wenqu_gdal\\lib\\site-packages\\sklearn\\cross_decomposition\\_pls.py:503: FutureWarning: The attribute `coef_` will be transposed in version 1.3 to be consistent with other linear models in scikit-learn. Currently, `coef_` has a shape of (n_features, n_targets) and in the future it will have a shape of (n_targets, n_features).\n",
      "  warnings.warn(\n"
     ]
    },
    {
     "name": "stdout",
     "output_type": "stream",
     "text": [
      "53% completed(543, 319)\n"
     ]
    },
    {
     "name": "stderr",
     "output_type": "stream",
     "text": [
      "C:\\Users\\15086\\anaconda3\\envs\\wenqu_gdal\\lib\\site-packages\\sklearn\\cross_decomposition\\_pls.py:503: FutureWarning: The attribute `coef_` will be transposed in version 1.3 to be consistent with other linear models in scikit-learn. Currently, `coef_` has a shape of (n_features, n_targets) and in the future it will have a shape of (n_targets, n_features).\n",
      "  warnings.warn(\n"
     ]
    },
    {
     "name": "stdout",
     "output_type": "stream",
     "text": [
      "56% completed(543, 319)\n"
     ]
    },
    {
     "name": "stderr",
     "output_type": "stream",
     "text": [
      "C:\\Users\\15086\\anaconda3\\envs\\wenqu_gdal\\lib\\site-packages\\sklearn\\cross_decomposition\\_pls.py:503: FutureWarning: The attribute `coef_` will be transposed in version 1.3 to be consistent with other linear models in scikit-learn. Currently, `coef_` has a shape of (n_features, n_targets) and in the future it will have a shape of (n_targets, n_features).\n",
      "  warnings.warn(\n"
     ]
    },
    {
     "name": "stdout",
     "output_type": "stream",
     "text": [
      "60% completed(543, 319)\n"
     ]
    },
    {
     "name": "stderr",
     "output_type": "stream",
     "text": [
      "C:\\Users\\15086\\anaconda3\\envs\\wenqu_gdal\\lib\\site-packages\\sklearn\\cross_decomposition\\_pls.py:503: FutureWarning: The attribute `coef_` will be transposed in version 1.3 to be consistent with other linear models in scikit-learn. Currently, `coef_` has a shape of (n_features, n_targets) and in the future it will have a shape of (n_targets, n_features).\n",
      "  warnings.warn(\n"
     ]
    },
    {
     "name": "stdout",
     "output_type": "stream",
     "text": [
      "63% completed(543, 319)\n"
     ]
    },
    {
     "name": "stderr",
     "output_type": "stream",
     "text": [
      "C:\\Users\\15086\\anaconda3\\envs\\wenqu_gdal\\lib\\site-packages\\sklearn\\cross_decomposition\\_pls.py:503: FutureWarning: The attribute `coef_` will be transposed in version 1.3 to be consistent with other linear models in scikit-learn. Currently, `coef_` has a shape of (n_features, n_targets) and in the future it will have a shape of (n_targets, n_features).\n",
      "  warnings.warn(\n"
     ]
    },
    {
     "name": "stdout",
     "output_type": "stream",
     "text": [
      "66% completed(543, 319)\n"
     ]
    },
    {
     "name": "stderr",
     "output_type": "stream",
     "text": [
      "C:\\Users\\15086\\anaconda3\\envs\\wenqu_gdal\\lib\\site-packages\\sklearn\\cross_decomposition\\_pls.py:503: FutureWarning: The attribute `coef_` will be transposed in version 1.3 to be consistent with other linear models in scikit-learn. Currently, `coef_` has a shape of (n_features, n_targets) and in the future it will have a shape of (n_targets, n_features).\n",
      "  warnings.warn(\n"
     ]
    },
    {
     "name": "stdout",
     "output_type": "stream",
     "text": [
      "70% completed(543, 319)\n"
     ]
    },
    {
     "name": "stderr",
     "output_type": "stream",
     "text": [
      "C:\\Users\\15086\\anaconda3\\envs\\wenqu_gdal\\lib\\site-packages\\sklearn\\cross_decomposition\\_pls.py:503: FutureWarning: The attribute `coef_` will be transposed in version 1.3 to be consistent with other linear models in scikit-learn. Currently, `coef_` has a shape of (n_features, n_targets) and in the future it will have a shape of (n_targets, n_features).\n",
      "  warnings.warn(\n"
     ]
    },
    {
     "name": "stdout",
     "output_type": "stream",
     "text": [
      "73% completed(543, 319)\n"
     ]
    },
    {
     "name": "stderr",
     "output_type": "stream",
     "text": [
      "C:\\Users\\15086\\anaconda3\\envs\\wenqu_gdal\\lib\\site-packages\\sklearn\\cross_decomposition\\_pls.py:503: FutureWarning: The attribute `coef_` will be transposed in version 1.3 to be consistent with other linear models in scikit-learn. Currently, `coef_` has a shape of (n_features, n_targets) and in the future it will have a shape of (n_targets, n_features).\n",
      "  warnings.warn(\n"
     ]
    },
    {
     "name": "stdout",
     "output_type": "stream",
     "text": [
      "76% completed(543, 319)\n"
     ]
    },
    {
     "name": "stderr",
     "output_type": "stream",
     "text": [
      "C:\\Users\\15086\\anaconda3\\envs\\wenqu_gdal\\lib\\site-packages\\sklearn\\cross_decomposition\\_pls.py:503: FutureWarning: The attribute `coef_` will be transposed in version 1.3 to be consistent with other linear models in scikit-learn. Currently, `coef_` has a shape of (n_features, n_targets) and in the future it will have a shape of (n_targets, n_features).\n",
      "  warnings.warn(\n"
     ]
    },
    {
     "name": "stdout",
     "output_type": "stream",
     "text": [
      "80% completed(543, 319)\n"
     ]
    },
    {
     "name": "stderr",
     "output_type": "stream",
     "text": [
      "C:\\Users\\15086\\anaconda3\\envs\\wenqu_gdal\\lib\\site-packages\\sklearn\\cross_decomposition\\_pls.py:503: FutureWarning: The attribute `coef_` will be transposed in version 1.3 to be consistent with other linear models in scikit-learn. Currently, `coef_` has a shape of (n_features, n_targets) and in the future it will have a shape of (n_targets, n_features).\n",
      "  warnings.warn(\n"
     ]
    },
    {
     "name": "stdout",
     "output_type": "stream",
     "text": [
      "83% completed(543, 319)\n"
     ]
    },
    {
     "name": "stderr",
     "output_type": "stream",
     "text": [
      "C:\\Users\\15086\\anaconda3\\envs\\wenqu_gdal\\lib\\site-packages\\sklearn\\cross_decomposition\\_pls.py:503: FutureWarning: The attribute `coef_` will be transposed in version 1.3 to be consistent with other linear models in scikit-learn. Currently, `coef_` has a shape of (n_features, n_targets) and in the future it will have a shape of (n_targets, n_features).\n",
      "  warnings.warn(\n"
     ]
    },
    {
     "name": "stdout",
     "output_type": "stream",
     "text": [
      "86% completed(543, 319)\n"
     ]
    },
    {
     "name": "stderr",
     "output_type": "stream",
     "text": [
      "C:\\Users\\15086\\anaconda3\\envs\\wenqu_gdal\\lib\\site-packages\\sklearn\\cross_decomposition\\_pls.py:503: FutureWarning: The attribute `coef_` will be transposed in version 1.3 to be consistent with other linear models in scikit-learn. Currently, `coef_` has a shape of (n_features, n_targets) and in the future it will have a shape of (n_targets, n_features).\n",
      "  warnings.warn(\n"
     ]
    },
    {
     "name": "stdout",
     "output_type": "stream",
     "text": [
      "90% completed(543, 319)\n"
     ]
    },
    {
     "name": "stderr",
     "output_type": "stream",
     "text": [
      "C:\\Users\\15086\\anaconda3\\envs\\wenqu_gdal\\lib\\site-packages\\sklearn\\cross_decomposition\\_pls.py:503: FutureWarning: The attribute `coef_` will be transposed in version 1.3 to be consistent with other linear models in scikit-learn. Currently, `coef_` has a shape of (n_features, n_targets) and in the future it will have a shape of (n_targets, n_features).\n",
      "  warnings.warn(\n"
     ]
    },
    {
     "name": "stdout",
     "output_type": "stream",
     "text": [
      "93% completed(543, 319)\n"
     ]
    },
    {
     "name": "stderr",
     "output_type": "stream",
     "text": [
      "C:\\Users\\15086\\anaconda3\\envs\\wenqu_gdal\\lib\\site-packages\\sklearn\\cross_decomposition\\_pls.py:503: FutureWarning: The attribute `coef_` will be transposed in version 1.3 to be consistent with other linear models in scikit-learn. Currently, `coef_` has a shape of (n_features, n_targets) and in the future it will have a shape of (n_targets, n_features).\n",
      "  warnings.warn(\n"
     ]
    },
    {
     "name": "stdout",
     "output_type": "stream",
     "text": [
      "96% completed(543, 319)\n"
     ]
    },
    {
     "name": "stderr",
     "output_type": "stream",
     "text": [
      "C:\\Users\\15086\\anaconda3\\envs\\wenqu_gdal\\lib\\site-packages\\sklearn\\cross_decomposition\\_pls.py:503: FutureWarning: The attribute `coef_` will be transposed in version 1.3 to be consistent with other linear models in scikit-learn. Currently, `coef_` has a shape of (n_features, n_targets) and in the future it will have a shape of (n_targets, n_features).\n",
      "  warnings.warn(\n"
     ]
    },
    {
     "name": "stdout",
     "output_type": "stream",
     "text": [
      "100% completed\n",
      "Optimised number of PLS components:  5\n",
      "Wavelengths to be discarded  302\n",
      "Optimised MSEP  6.5586036821541684\n",
      "\n"
     ]
    },
    {
     "data": {
      "image/png": "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\n",
      "text/plain": [
       "<Figure size 640x480 with 1 Axes>"
      ]
     },
     "metadata": {},
     "output_type": "display_data"
    },
    {
     "name": "stdout",
     "output_type": "stream",
     "text": [
      "(359, 319)\n"
     ]
    },
    {
     "name": "stderr",
     "output_type": "stream",
     "text": [
      "C:\\Users\\15086\\anaconda3\\envs\\wenqu_gdal\\lib\\site-packages\\sklearn\\cross_decomposition\\_pls.py:503: FutureWarning: The attribute `coef_` will be transposed in version 1.3 to be consistent with other linear models in scikit-learn. Currently, `coef_` has a shape of (n_features, n_targets) and in the future it will have a shape of (n_targets, n_features).\n",
      "  warnings.warn(\n",
      "C:\\Users\\15086\\anaconda3\\envs\\wenqu_gdal\\lib\\site-packages\\sklearn\\cross_decomposition\\_pls.py:503: FutureWarning: The attribute `coef_` will be transposed in version 1.3 to be consistent with other linear models in scikit-learn. Currently, `coef_` has a shape of (n_features, n_targets) and in the future it will have a shape of (n_targets, n_features).\n",
      "  warnings.warn(\n"
     ]
    },
    {
     "name": "stdout",
     "output_type": "stream",
     "text": [
      "3% completed(359, 319)\n"
     ]
    },
    {
     "name": "stderr",
     "output_type": "stream",
     "text": [
      "C:\\Users\\15086\\anaconda3\\envs\\wenqu_gdal\\lib\\site-packages\\sklearn\\cross_decomposition\\_pls.py:503: FutureWarning: The attribute `coef_` will be transposed in version 1.3 to be consistent with other linear models in scikit-learn. Currently, `coef_` has a shape of (n_features, n_targets) and in the future it will have a shape of (n_targets, n_features).\n",
      "  warnings.warn(\n"
     ]
    },
    {
     "name": "stdout",
     "output_type": "stream",
     "text": [
      "6% completed(359, 319)\n"
     ]
    },
    {
     "name": "stderr",
     "output_type": "stream",
     "text": [
      "C:\\Users\\15086\\anaconda3\\envs\\wenqu_gdal\\lib\\site-packages\\sklearn\\cross_decomposition\\_pls.py:503: FutureWarning: The attribute `coef_` will be transposed in version 1.3 to be consistent with other linear models in scikit-learn. Currently, `coef_` has a shape of (n_features, n_targets) and in the future it will have a shape of (n_targets, n_features).\n",
      "  warnings.warn(\n"
     ]
    },
    {
     "name": "stdout",
     "output_type": "stream",
     "text": [
      "10% completed(359, 319)\n"
     ]
    },
    {
     "name": "stderr",
     "output_type": "stream",
     "text": [
      "C:\\Users\\15086\\anaconda3\\envs\\wenqu_gdal\\lib\\site-packages\\sklearn\\cross_decomposition\\_pls.py:503: FutureWarning: The attribute `coef_` will be transposed in version 1.3 to be consistent with other linear models in scikit-learn. Currently, `coef_` has a shape of (n_features, n_targets) and in the future it will have a shape of (n_targets, n_features).\n",
      "  warnings.warn(\n"
     ]
    },
    {
     "name": "stdout",
     "output_type": "stream",
     "text": [
      "13% completed(359, 319)\n"
     ]
    },
    {
     "name": "stderr",
     "output_type": "stream",
     "text": [
      "C:\\Users\\15086\\anaconda3\\envs\\wenqu_gdal\\lib\\site-packages\\sklearn\\cross_decomposition\\_pls.py:503: FutureWarning: The attribute `coef_` will be transposed in version 1.3 to be consistent with other linear models in scikit-learn. Currently, `coef_` has a shape of (n_features, n_targets) and in the future it will have a shape of (n_targets, n_features).\n",
      "  warnings.warn(\n"
     ]
    },
    {
     "name": "stdout",
     "output_type": "stream",
     "text": [
      "16% completed(359, 319)\n"
     ]
    },
    {
     "name": "stderr",
     "output_type": "stream",
     "text": [
      "C:\\Users\\15086\\anaconda3\\envs\\wenqu_gdal\\lib\\site-packages\\sklearn\\cross_decomposition\\_pls.py:503: FutureWarning: The attribute `coef_` will be transposed in version 1.3 to be consistent with other linear models in scikit-learn. Currently, `coef_` has a shape of (n_features, n_targets) and in the future it will have a shape of (n_targets, n_features).\n",
      "  warnings.warn(\n"
     ]
    },
    {
     "name": "stdout",
     "output_type": "stream",
     "text": [
      "20% completed(359, 319)\n"
     ]
    },
    {
     "name": "stderr",
     "output_type": "stream",
     "text": [
      "C:\\Users\\15086\\anaconda3\\envs\\wenqu_gdal\\lib\\site-packages\\sklearn\\cross_decomposition\\_pls.py:503: FutureWarning: The attribute `coef_` will be transposed in version 1.3 to be consistent with other linear models in scikit-learn. Currently, `coef_` has a shape of (n_features, n_targets) and in the future it will have a shape of (n_targets, n_features).\n",
      "  warnings.warn(\n"
     ]
    },
    {
     "name": "stdout",
     "output_type": "stream",
     "text": [
      "23% completed(359, 319)\n"
     ]
    },
    {
     "name": "stderr",
     "output_type": "stream",
     "text": [
      "C:\\Users\\15086\\anaconda3\\envs\\wenqu_gdal\\lib\\site-packages\\sklearn\\cross_decomposition\\_pls.py:503: FutureWarning: The attribute `coef_` will be transposed in version 1.3 to be consistent with other linear models in scikit-learn. Currently, `coef_` has a shape of (n_features, n_targets) and in the future it will have a shape of (n_targets, n_features).\n",
      "  warnings.warn(\n"
     ]
    },
    {
     "name": "stdout",
     "output_type": "stream",
     "text": [
      "26% completed(359, 319)\n"
     ]
    },
    {
     "name": "stderr",
     "output_type": "stream",
     "text": [
      "C:\\Users\\15086\\anaconda3\\envs\\wenqu_gdal\\lib\\site-packages\\sklearn\\cross_decomposition\\_pls.py:503: FutureWarning: The attribute `coef_` will be transposed in version 1.3 to be consistent with other linear models in scikit-learn. Currently, `coef_` has a shape of (n_features, n_targets) and in the future it will have a shape of (n_targets, n_features).\n",
      "  warnings.warn(\n"
     ]
    },
    {
     "name": "stdout",
     "output_type": "stream",
     "text": [
      "30% completed(359, 319)\n"
     ]
    },
    {
     "name": "stderr",
     "output_type": "stream",
     "text": [
      "C:\\Users\\15086\\anaconda3\\envs\\wenqu_gdal\\lib\\site-packages\\sklearn\\cross_decomposition\\_pls.py:503: FutureWarning: The attribute `coef_` will be transposed in version 1.3 to be consistent with other linear models in scikit-learn. Currently, `coef_` has a shape of (n_features, n_targets) and in the future it will have a shape of (n_targets, n_features).\n",
      "  warnings.warn(\n"
     ]
    },
    {
     "name": "stdout",
     "output_type": "stream",
     "text": [
      "33% completed(359, 319)\n"
     ]
    },
    {
     "name": "stderr",
     "output_type": "stream",
     "text": [
      "C:\\Users\\15086\\anaconda3\\envs\\wenqu_gdal\\lib\\site-packages\\sklearn\\cross_decomposition\\_pls.py:503: FutureWarning: The attribute `coef_` will be transposed in version 1.3 to be consistent with other linear models in scikit-learn. Currently, `coef_` has a shape of (n_features, n_targets) and in the future it will have a shape of (n_targets, n_features).\n",
      "  warnings.warn(\n"
     ]
    },
    {
     "name": "stdout",
     "output_type": "stream",
     "text": [
      "36% completed(359, 319)\n"
     ]
    },
    {
     "name": "stderr",
     "output_type": "stream",
     "text": [
      "C:\\Users\\15086\\anaconda3\\envs\\wenqu_gdal\\lib\\site-packages\\sklearn\\cross_decomposition\\_pls.py:503: FutureWarning: The attribute `coef_` will be transposed in version 1.3 to be consistent with other linear models in scikit-learn. Currently, `coef_` has a shape of (n_features, n_targets) and in the future it will have a shape of (n_targets, n_features).\n",
      "  warnings.warn(\n"
     ]
    },
    {
     "name": "stdout",
     "output_type": "stream",
     "text": [
      "40% completed(359, 319)\n"
     ]
    },
    {
     "name": "stderr",
     "output_type": "stream",
     "text": [
      "C:\\Users\\15086\\anaconda3\\envs\\wenqu_gdal\\lib\\site-packages\\sklearn\\cross_decomposition\\_pls.py:503: FutureWarning: The attribute `coef_` will be transposed in version 1.3 to be consistent with other linear models in scikit-learn. Currently, `coef_` has a shape of (n_features, n_targets) and in the future it will have a shape of (n_targets, n_features).\n",
      "  warnings.warn(\n"
     ]
    },
    {
     "name": "stdout",
     "output_type": "stream",
     "text": [
      "43% completed(359, 319)\n"
     ]
    },
    {
     "name": "stderr",
     "output_type": "stream",
     "text": [
      "C:\\Users\\15086\\anaconda3\\envs\\wenqu_gdal\\lib\\site-packages\\sklearn\\cross_decomposition\\_pls.py:503: FutureWarning: The attribute `coef_` will be transposed in version 1.3 to be consistent with other linear models in scikit-learn. Currently, `coef_` has a shape of (n_features, n_targets) and in the future it will have a shape of (n_targets, n_features).\n",
      "  warnings.warn(\n"
     ]
    },
    {
     "name": "stdout",
     "output_type": "stream",
     "text": [
      "46% completed(359, 319)\n"
     ]
    },
    {
     "name": "stderr",
     "output_type": "stream",
     "text": [
      "C:\\Users\\15086\\anaconda3\\envs\\wenqu_gdal\\lib\\site-packages\\sklearn\\cross_decomposition\\_pls.py:503: FutureWarning: The attribute `coef_` will be transposed in version 1.3 to be consistent with other linear models in scikit-learn. Currently, `coef_` has a shape of (n_features, n_targets) and in the future it will have a shape of (n_targets, n_features).\n",
      "  warnings.warn(\n"
     ]
    },
    {
     "name": "stdout",
     "output_type": "stream",
     "text": [
      "50% completed(359, 319)\n"
     ]
    },
    {
     "name": "stderr",
     "output_type": "stream",
     "text": [
      "C:\\Users\\15086\\anaconda3\\envs\\wenqu_gdal\\lib\\site-packages\\sklearn\\cross_decomposition\\_pls.py:503: FutureWarning: The attribute `coef_` will be transposed in version 1.3 to be consistent with other linear models in scikit-learn. Currently, `coef_` has a shape of (n_features, n_targets) and in the future it will have a shape of (n_targets, n_features).\n",
      "  warnings.warn(\n"
     ]
    },
    {
     "name": "stdout",
     "output_type": "stream",
     "text": [
      "53% completed(359, 319)\n"
     ]
    },
    {
     "name": "stderr",
     "output_type": "stream",
     "text": [
      "C:\\Users\\15086\\anaconda3\\envs\\wenqu_gdal\\lib\\site-packages\\sklearn\\cross_decomposition\\_pls.py:503: FutureWarning: The attribute `coef_` will be transposed in version 1.3 to be consistent with other linear models in scikit-learn. Currently, `coef_` has a shape of (n_features, n_targets) and in the future it will have a shape of (n_targets, n_features).\n",
      "  warnings.warn(\n"
     ]
    },
    {
     "name": "stdout",
     "output_type": "stream",
     "text": [
      "56% completed(359, 319)\n"
     ]
    },
    {
     "name": "stderr",
     "output_type": "stream",
     "text": [
      "C:\\Users\\15086\\anaconda3\\envs\\wenqu_gdal\\lib\\site-packages\\sklearn\\cross_decomposition\\_pls.py:503: FutureWarning: The attribute `coef_` will be transposed in version 1.3 to be consistent with other linear models in scikit-learn. Currently, `coef_` has a shape of (n_features, n_targets) and in the future it will have a shape of (n_targets, n_features).\n",
      "  warnings.warn(\n"
     ]
    },
    {
     "name": "stdout",
     "output_type": "stream",
     "text": [
      "60% completed(359, 319)\n"
     ]
    },
    {
     "name": "stderr",
     "output_type": "stream",
     "text": [
      "C:\\Users\\15086\\anaconda3\\envs\\wenqu_gdal\\lib\\site-packages\\sklearn\\cross_decomposition\\_pls.py:503: FutureWarning: The attribute `coef_` will be transposed in version 1.3 to be consistent with other linear models in scikit-learn. Currently, `coef_` has a shape of (n_features, n_targets) and in the future it will have a shape of (n_targets, n_features).\n",
      "  warnings.warn(\n"
     ]
    },
    {
     "name": "stdout",
     "output_type": "stream",
     "text": [
      "63% completed(359, 319)\n"
     ]
    },
    {
     "name": "stderr",
     "output_type": "stream",
     "text": [
      "C:\\Users\\15086\\anaconda3\\envs\\wenqu_gdal\\lib\\site-packages\\sklearn\\cross_decomposition\\_pls.py:503: FutureWarning: The attribute `coef_` will be transposed in version 1.3 to be consistent with other linear models in scikit-learn. Currently, `coef_` has a shape of (n_features, n_targets) and in the future it will have a shape of (n_targets, n_features).\n",
      "  warnings.warn(\n"
     ]
    },
    {
     "name": "stdout",
     "output_type": "stream",
     "text": [
      "66% completed(359, 319)\n"
     ]
    },
    {
     "name": "stderr",
     "output_type": "stream",
     "text": [
      "C:\\Users\\15086\\anaconda3\\envs\\wenqu_gdal\\lib\\site-packages\\sklearn\\cross_decomposition\\_pls.py:503: FutureWarning: The attribute `coef_` will be transposed in version 1.3 to be consistent with other linear models in scikit-learn. Currently, `coef_` has a shape of (n_features, n_targets) and in the future it will have a shape of (n_targets, n_features).\n",
      "  warnings.warn(\n"
     ]
    },
    {
     "name": "stdout",
     "output_type": "stream",
     "text": [
      "70% completed(359, 319)\n"
     ]
    },
    {
     "name": "stderr",
     "output_type": "stream",
     "text": [
      "C:\\Users\\15086\\anaconda3\\envs\\wenqu_gdal\\lib\\site-packages\\sklearn\\cross_decomposition\\_pls.py:503: FutureWarning: The attribute `coef_` will be transposed in version 1.3 to be consistent with other linear models in scikit-learn. Currently, `coef_` has a shape of (n_features, n_targets) and in the future it will have a shape of (n_targets, n_features).\n",
      "  warnings.warn(\n"
     ]
    },
    {
     "name": "stdout",
     "output_type": "stream",
     "text": [
      "73% completed(359, 319)\n"
     ]
    },
    {
     "name": "stderr",
     "output_type": "stream",
     "text": [
      "C:\\Users\\15086\\anaconda3\\envs\\wenqu_gdal\\lib\\site-packages\\sklearn\\cross_decomposition\\_pls.py:503: FutureWarning: The attribute `coef_` will be transposed in version 1.3 to be consistent with other linear models in scikit-learn. Currently, `coef_` has a shape of (n_features, n_targets) and in the future it will have a shape of (n_targets, n_features).\n",
      "  warnings.warn(\n"
     ]
    },
    {
     "name": "stdout",
     "output_type": "stream",
     "text": [
      "76% completed(359, 319)\n"
     ]
    },
    {
     "name": "stderr",
     "output_type": "stream",
     "text": [
      "C:\\Users\\15086\\anaconda3\\envs\\wenqu_gdal\\lib\\site-packages\\sklearn\\cross_decomposition\\_pls.py:503: FutureWarning: The attribute `coef_` will be transposed in version 1.3 to be consistent with other linear models in scikit-learn. Currently, `coef_` has a shape of (n_features, n_targets) and in the future it will have a shape of (n_targets, n_features).\n",
      "  warnings.warn(\n"
     ]
    },
    {
     "name": "stdout",
     "output_type": "stream",
     "text": [
      "80% completed(359, 319)\n"
     ]
    },
    {
     "name": "stderr",
     "output_type": "stream",
     "text": [
      "C:\\Users\\15086\\anaconda3\\envs\\wenqu_gdal\\lib\\site-packages\\sklearn\\cross_decomposition\\_pls.py:503: FutureWarning: The attribute `coef_` will be transposed in version 1.3 to be consistent with other linear models in scikit-learn. Currently, `coef_` has a shape of (n_features, n_targets) and in the future it will have a shape of (n_targets, n_features).\n",
      "  warnings.warn(\n"
     ]
    },
    {
     "name": "stdout",
     "output_type": "stream",
     "text": [
      "83% completed(359, 319)\n"
     ]
    },
    {
     "name": "stderr",
     "output_type": "stream",
     "text": [
      "C:\\Users\\15086\\anaconda3\\envs\\wenqu_gdal\\lib\\site-packages\\sklearn\\cross_decomposition\\_pls.py:503: FutureWarning: The attribute `coef_` will be transposed in version 1.3 to be consistent with other linear models in scikit-learn. Currently, `coef_` has a shape of (n_features, n_targets) and in the future it will have a shape of (n_targets, n_features).\n",
      "  warnings.warn(\n"
     ]
    },
    {
     "name": "stdout",
     "output_type": "stream",
     "text": [
      "86% completed(359, 319)\n"
     ]
    },
    {
     "name": "stderr",
     "output_type": "stream",
     "text": [
      "C:\\Users\\15086\\anaconda3\\envs\\wenqu_gdal\\lib\\site-packages\\sklearn\\cross_decomposition\\_pls.py:503: FutureWarning: The attribute `coef_` will be transposed in version 1.3 to be consistent with other linear models in scikit-learn. Currently, `coef_` has a shape of (n_features, n_targets) and in the future it will have a shape of (n_targets, n_features).\n",
      "  warnings.warn(\n"
     ]
    },
    {
     "name": "stdout",
     "output_type": "stream",
     "text": [
      "90% completed(359, 319)\n"
     ]
    },
    {
     "name": "stderr",
     "output_type": "stream",
     "text": [
      "C:\\Users\\15086\\anaconda3\\envs\\wenqu_gdal\\lib\\site-packages\\sklearn\\cross_decomposition\\_pls.py:503: FutureWarning: The attribute `coef_` will be transposed in version 1.3 to be consistent with other linear models in scikit-learn. Currently, `coef_` has a shape of (n_features, n_targets) and in the future it will have a shape of (n_targets, n_features).\n",
      "  warnings.warn(\n"
     ]
    },
    {
     "name": "stdout",
     "output_type": "stream",
     "text": [
      "93% completed(359, 319)\n"
     ]
    },
    {
     "name": "stderr",
     "output_type": "stream",
     "text": [
      "C:\\Users\\15086\\anaconda3\\envs\\wenqu_gdal\\lib\\site-packages\\sklearn\\cross_decomposition\\_pls.py:503: FutureWarning: The attribute `coef_` will be transposed in version 1.3 to be consistent with other linear models in scikit-learn. Currently, `coef_` has a shape of (n_features, n_targets) and in the future it will have a shape of (n_targets, n_features).\n",
      "  warnings.warn(\n"
     ]
    },
    {
     "name": "stdout",
     "output_type": "stream",
     "text": [
      "96% completed(359, 319)\n"
     ]
    },
    {
     "name": "stderr",
     "output_type": "stream",
     "text": [
      "C:\\Users\\15086\\anaconda3\\envs\\wenqu_gdal\\lib\\site-packages\\sklearn\\cross_decomposition\\_pls.py:503: FutureWarning: The attribute `coef_` will be transposed in version 1.3 to be consistent with other linear models in scikit-learn. Currently, `coef_` has a shape of (n_features, n_targets) and in the future it will have a shape of (n_targets, n_features).\n",
      "  warnings.warn(\n"
     ]
    },
    {
     "name": "stdout",
     "output_type": "stream",
     "text": [
      "100% completed\n",
      "Optimised number of PLS components:  11\n",
      "Wavelengths to be discarded  256\n",
      "Optimised MSEP  5.14378811843595\n",
      "\n"
     ]
    },
    {
     "data": {
      "image/png": "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\n",
      "text/plain": [
       "<Figure size 640x480 with 1 Axes>"
      ]
     },
     "metadata": {},
     "output_type": "display_data"
    },
    {
     "name": "stdout",
     "output_type": "stream",
     "text": [
      "(317, 319)\n"
     ]
    },
    {
     "name": "stderr",
     "output_type": "stream",
     "text": [
      "C:\\Users\\15086\\anaconda3\\envs\\wenqu_gdal\\lib\\site-packages\\sklearn\\cross_decomposition\\_pls.py:503: FutureWarning: The attribute `coef_` will be transposed in version 1.3 to be consistent with other linear models in scikit-learn. Currently, `coef_` has a shape of (n_features, n_targets) and in the future it will have a shape of (n_targets, n_features).\n",
      "  warnings.warn(\n",
      "C:\\Users\\15086\\anaconda3\\envs\\wenqu_gdal\\lib\\site-packages\\sklearn\\cross_decomposition\\_pls.py:503: FutureWarning: The attribute `coef_` will be transposed in version 1.3 to be consistent with other linear models in scikit-learn. Currently, `coef_` has a shape of (n_features, n_targets) and in the future it will have a shape of (n_targets, n_features).\n",
      "  warnings.warn(\n"
     ]
    },
    {
     "name": "stdout",
     "output_type": "stream",
     "text": [
      "3% completed(317, 319)\n"
     ]
    },
    {
     "name": "stderr",
     "output_type": "stream",
     "text": [
      "C:\\Users\\15086\\anaconda3\\envs\\wenqu_gdal\\lib\\site-packages\\sklearn\\cross_decomposition\\_pls.py:503: FutureWarning: The attribute `coef_` will be transposed in version 1.3 to be consistent with other linear models in scikit-learn. Currently, `coef_` has a shape of (n_features, n_targets) and in the future it will have a shape of (n_targets, n_features).\n",
      "  warnings.warn(\n"
     ]
    },
    {
     "name": "stdout",
     "output_type": "stream",
     "text": [
      "6% completed(317, 319)\n"
     ]
    },
    {
     "name": "stderr",
     "output_type": "stream",
     "text": [
      "C:\\Users\\15086\\anaconda3\\envs\\wenqu_gdal\\lib\\site-packages\\sklearn\\cross_decomposition\\_pls.py:503: FutureWarning: The attribute `coef_` will be transposed in version 1.3 to be consistent with other linear models in scikit-learn. Currently, `coef_` has a shape of (n_features, n_targets) and in the future it will have a shape of (n_targets, n_features).\n",
      "  warnings.warn(\n"
     ]
    },
    {
     "name": "stdout",
     "output_type": "stream",
     "text": [
      "10% completed(317, 319)\n"
     ]
    },
    {
     "name": "stderr",
     "output_type": "stream",
     "text": [
      "C:\\Users\\15086\\anaconda3\\envs\\wenqu_gdal\\lib\\site-packages\\sklearn\\cross_decomposition\\_pls.py:503: FutureWarning: The attribute `coef_` will be transposed in version 1.3 to be consistent with other linear models in scikit-learn. Currently, `coef_` has a shape of (n_features, n_targets) and in the future it will have a shape of (n_targets, n_features).\n",
      "  warnings.warn(\n"
     ]
    },
    {
     "name": "stdout",
     "output_type": "stream",
     "text": [
      "13% completed(317, 319)\n"
     ]
    },
    {
     "name": "stderr",
     "output_type": "stream",
     "text": [
      "C:\\Users\\15086\\anaconda3\\envs\\wenqu_gdal\\lib\\site-packages\\sklearn\\cross_decomposition\\_pls.py:503: FutureWarning: The attribute `coef_` will be transposed in version 1.3 to be consistent with other linear models in scikit-learn. Currently, `coef_` has a shape of (n_features, n_targets) and in the future it will have a shape of (n_targets, n_features).\n",
      "  warnings.warn(\n"
     ]
    },
    {
     "name": "stdout",
     "output_type": "stream",
     "text": [
      "16% completed(317, 319)\n"
     ]
    },
    {
     "name": "stderr",
     "output_type": "stream",
     "text": [
      "C:\\Users\\15086\\anaconda3\\envs\\wenqu_gdal\\lib\\site-packages\\sklearn\\cross_decomposition\\_pls.py:503: FutureWarning: The attribute `coef_` will be transposed in version 1.3 to be consistent with other linear models in scikit-learn. Currently, `coef_` has a shape of (n_features, n_targets) and in the future it will have a shape of (n_targets, n_features).\n",
      "  warnings.warn(\n"
     ]
    },
    {
     "name": "stdout",
     "output_type": "stream",
     "text": [
      "20% completed(317, 319)\n"
     ]
    },
    {
     "name": "stderr",
     "output_type": "stream",
     "text": [
      "C:\\Users\\15086\\anaconda3\\envs\\wenqu_gdal\\lib\\site-packages\\sklearn\\cross_decomposition\\_pls.py:503: FutureWarning: The attribute `coef_` will be transposed in version 1.3 to be consistent with other linear models in scikit-learn. Currently, `coef_` has a shape of (n_features, n_targets) and in the future it will have a shape of (n_targets, n_features).\n",
      "  warnings.warn(\n"
     ]
    },
    {
     "name": "stdout",
     "output_type": "stream",
     "text": [
      "23% completed(317, 319)\n"
     ]
    },
    {
     "name": "stderr",
     "output_type": "stream",
     "text": [
      "C:\\Users\\15086\\anaconda3\\envs\\wenqu_gdal\\lib\\site-packages\\sklearn\\cross_decomposition\\_pls.py:503: FutureWarning: The attribute `coef_` will be transposed in version 1.3 to be consistent with other linear models in scikit-learn. Currently, `coef_` has a shape of (n_features, n_targets) and in the future it will have a shape of (n_targets, n_features).\n",
      "  warnings.warn(\n"
     ]
    },
    {
     "name": "stdout",
     "output_type": "stream",
     "text": [
      "26% completed(317, 319)\n"
     ]
    },
    {
     "name": "stderr",
     "output_type": "stream",
     "text": [
      "C:\\Users\\15086\\anaconda3\\envs\\wenqu_gdal\\lib\\site-packages\\sklearn\\cross_decomposition\\_pls.py:503: FutureWarning: The attribute `coef_` will be transposed in version 1.3 to be consistent with other linear models in scikit-learn. Currently, `coef_` has a shape of (n_features, n_targets) and in the future it will have a shape of (n_targets, n_features).\n",
      "  warnings.warn(\n"
     ]
    },
    {
     "name": "stdout",
     "output_type": "stream",
     "text": [
      "30% completed(317, 319)\n"
     ]
    },
    {
     "name": "stderr",
     "output_type": "stream",
     "text": [
      "C:\\Users\\15086\\anaconda3\\envs\\wenqu_gdal\\lib\\site-packages\\sklearn\\cross_decomposition\\_pls.py:503: FutureWarning: The attribute `coef_` will be transposed in version 1.3 to be consistent with other linear models in scikit-learn. Currently, `coef_` has a shape of (n_features, n_targets) and in the future it will have a shape of (n_targets, n_features).\n",
      "  warnings.warn(\n"
     ]
    },
    {
     "name": "stdout",
     "output_type": "stream",
     "text": [
      "33% completed(317, 319)\n"
     ]
    },
    {
     "name": "stderr",
     "output_type": "stream",
     "text": [
      "C:\\Users\\15086\\anaconda3\\envs\\wenqu_gdal\\lib\\site-packages\\sklearn\\cross_decomposition\\_pls.py:503: FutureWarning: The attribute `coef_` will be transposed in version 1.3 to be consistent with other linear models in scikit-learn. Currently, `coef_` has a shape of (n_features, n_targets) and in the future it will have a shape of (n_targets, n_features).\n",
      "  warnings.warn(\n"
     ]
    },
    {
     "name": "stdout",
     "output_type": "stream",
     "text": [
      "36% completed(317, 319)\n"
     ]
    },
    {
     "name": "stderr",
     "output_type": "stream",
     "text": [
      "C:\\Users\\15086\\anaconda3\\envs\\wenqu_gdal\\lib\\site-packages\\sklearn\\cross_decomposition\\_pls.py:503: FutureWarning: The attribute `coef_` will be transposed in version 1.3 to be consistent with other linear models in scikit-learn. Currently, `coef_` has a shape of (n_features, n_targets) and in the future it will have a shape of (n_targets, n_features).\n",
      "  warnings.warn(\n"
     ]
    },
    {
     "name": "stdout",
     "output_type": "stream",
     "text": [
      "40% completed(317, 319)\n"
     ]
    },
    {
     "name": "stderr",
     "output_type": "stream",
     "text": [
      "C:\\Users\\15086\\anaconda3\\envs\\wenqu_gdal\\lib\\site-packages\\sklearn\\cross_decomposition\\_pls.py:503: FutureWarning: The attribute `coef_` will be transposed in version 1.3 to be consistent with other linear models in scikit-learn. Currently, `coef_` has a shape of (n_features, n_targets) and in the future it will have a shape of (n_targets, n_features).\n",
      "  warnings.warn(\n"
     ]
    },
    {
     "name": "stdout",
     "output_type": "stream",
     "text": [
      "43% completed(317, 319)\n"
     ]
    },
    {
     "name": "stderr",
     "output_type": "stream",
     "text": [
      "C:\\Users\\15086\\anaconda3\\envs\\wenqu_gdal\\lib\\site-packages\\sklearn\\cross_decomposition\\_pls.py:503: FutureWarning: The attribute `coef_` will be transposed in version 1.3 to be consistent with other linear models in scikit-learn. Currently, `coef_` has a shape of (n_features, n_targets) and in the future it will have a shape of (n_targets, n_features).\n",
      "  warnings.warn(\n"
     ]
    },
    {
     "name": "stdout",
     "output_type": "stream",
     "text": [
      "46% completed(317, 319)\n"
     ]
    },
    {
     "name": "stderr",
     "output_type": "stream",
     "text": [
      "C:\\Users\\15086\\anaconda3\\envs\\wenqu_gdal\\lib\\site-packages\\sklearn\\cross_decomposition\\_pls.py:503: FutureWarning: The attribute `coef_` will be transposed in version 1.3 to be consistent with other linear models in scikit-learn. Currently, `coef_` has a shape of (n_features, n_targets) and in the future it will have a shape of (n_targets, n_features).\n",
      "  warnings.warn(\n"
     ]
    },
    {
     "name": "stdout",
     "output_type": "stream",
     "text": [
      "50% completed(317, 319)\n"
     ]
    },
    {
     "name": "stderr",
     "output_type": "stream",
     "text": [
      "C:\\Users\\15086\\anaconda3\\envs\\wenqu_gdal\\lib\\site-packages\\sklearn\\cross_decomposition\\_pls.py:503: FutureWarning: The attribute `coef_` will be transposed in version 1.3 to be consistent with other linear models in scikit-learn. Currently, `coef_` has a shape of (n_features, n_targets) and in the future it will have a shape of (n_targets, n_features).\n",
      "  warnings.warn(\n"
     ]
    },
    {
     "name": "stdout",
     "output_type": "stream",
     "text": [
      "53% completed(317, 319)\n"
     ]
    },
    {
     "name": "stderr",
     "output_type": "stream",
     "text": [
      "C:\\Users\\15086\\anaconda3\\envs\\wenqu_gdal\\lib\\site-packages\\sklearn\\cross_decomposition\\_pls.py:503: FutureWarning: The attribute `coef_` will be transposed in version 1.3 to be consistent with other linear models in scikit-learn. Currently, `coef_` has a shape of (n_features, n_targets) and in the future it will have a shape of (n_targets, n_features).\n",
      "  warnings.warn(\n"
     ]
    },
    {
     "name": "stdout",
     "output_type": "stream",
     "text": [
      "56% completed(317, 319)\n"
     ]
    },
    {
     "name": "stderr",
     "output_type": "stream",
     "text": [
      "C:\\Users\\15086\\anaconda3\\envs\\wenqu_gdal\\lib\\site-packages\\sklearn\\cross_decomposition\\_pls.py:503: FutureWarning: The attribute `coef_` will be transposed in version 1.3 to be consistent with other linear models in scikit-learn. Currently, `coef_` has a shape of (n_features, n_targets) and in the future it will have a shape of (n_targets, n_features).\n",
      "  warnings.warn(\n"
     ]
    },
    {
     "name": "stdout",
     "output_type": "stream",
     "text": [
      "60% completed(317, 319)\n"
     ]
    },
    {
     "name": "stderr",
     "output_type": "stream",
     "text": [
      "C:\\Users\\15086\\anaconda3\\envs\\wenqu_gdal\\lib\\site-packages\\sklearn\\cross_decomposition\\_pls.py:503: FutureWarning: The attribute `coef_` will be transposed in version 1.3 to be consistent with other linear models in scikit-learn. Currently, `coef_` has a shape of (n_features, n_targets) and in the future it will have a shape of (n_targets, n_features).\n",
      "  warnings.warn(\n"
     ]
    },
    {
     "name": "stdout",
     "output_type": "stream",
     "text": [
      "63% completed(317, 319)\n"
     ]
    },
    {
     "name": "stderr",
     "output_type": "stream",
     "text": [
      "C:\\Users\\15086\\anaconda3\\envs\\wenqu_gdal\\lib\\site-packages\\sklearn\\cross_decomposition\\_pls.py:503: FutureWarning: The attribute `coef_` will be transposed in version 1.3 to be consistent with other linear models in scikit-learn. Currently, `coef_` has a shape of (n_features, n_targets) and in the future it will have a shape of (n_targets, n_features).\n",
      "  warnings.warn(\n"
     ]
    },
    {
     "name": "stdout",
     "output_type": "stream",
     "text": [
      "66% completed(317, 319)\n"
     ]
    },
    {
     "name": "stderr",
     "output_type": "stream",
     "text": [
      "C:\\Users\\15086\\anaconda3\\envs\\wenqu_gdal\\lib\\site-packages\\sklearn\\cross_decomposition\\_pls.py:503: FutureWarning: The attribute `coef_` will be transposed in version 1.3 to be consistent with other linear models in scikit-learn. Currently, `coef_` has a shape of (n_features, n_targets) and in the future it will have a shape of (n_targets, n_features).\n",
      "  warnings.warn(\n"
     ]
    },
    {
     "name": "stdout",
     "output_type": "stream",
     "text": [
      "70% completed(317, 319)\n"
     ]
    },
    {
     "name": "stderr",
     "output_type": "stream",
     "text": [
      "C:\\Users\\15086\\anaconda3\\envs\\wenqu_gdal\\lib\\site-packages\\sklearn\\cross_decomposition\\_pls.py:503: FutureWarning: The attribute `coef_` will be transposed in version 1.3 to be consistent with other linear models in scikit-learn. Currently, `coef_` has a shape of (n_features, n_targets) and in the future it will have a shape of (n_targets, n_features).\n",
      "  warnings.warn(\n"
     ]
    },
    {
     "name": "stdout",
     "output_type": "stream",
     "text": [
      "73% completed(317, 319)\n"
     ]
    },
    {
     "name": "stderr",
     "output_type": "stream",
     "text": [
      "C:\\Users\\15086\\anaconda3\\envs\\wenqu_gdal\\lib\\site-packages\\sklearn\\cross_decomposition\\_pls.py:503: FutureWarning: The attribute `coef_` will be transposed in version 1.3 to be consistent with other linear models in scikit-learn. Currently, `coef_` has a shape of (n_features, n_targets) and in the future it will have a shape of (n_targets, n_features).\n",
      "  warnings.warn(\n"
     ]
    },
    {
     "name": "stdout",
     "output_type": "stream",
     "text": [
      "76% completed(317, 319)\n"
     ]
    },
    {
     "name": "stderr",
     "output_type": "stream",
     "text": [
      "C:\\Users\\15086\\anaconda3\\envs\\wenqu_gdal\\lib\\site-packages\\sklearn\\cross_decomposition\\_pls.py:503: FutureWarning: The attribute `coef_` will be transposed in version 1.3 to be consistent with other linear models in scikit-learn. Currently, `coef_` has a shape of (n_features, n_targets) and in the future it will have a shape of (n_targets, n_features).\n",
      "  warnings.warn(\n"
     ]
    },
    {
     "name": "stdout",
     "output_type": "stream",
     "text": [
      "80% completed(317, 319)\n"
     ]
    },
    {
     "name": "stderr",
     "output_type": "stream",
     "text": [
      "C:\\Users\\15086\\anaconda3\\envs\\wenqu_gdal\\lib\\site-packages\\sklearn\\cross_decomposition\\_pls.py:503: FutureWarning: The attribute `coef_` will be transposed in version 1.3 to be consistent with other linear models in scikit-learn. Currently, `coef_` has a shape of (n_features, n_targets) and in the future it will have a shape of (n_targets, n_features).\n",
      "  warnings.warn(\n"
     ]
    },
    {
     "name": "stdout",
     "output_type": "stream",
     "text": [
      "83% completed(317, 319)\n"
     ]
    },
    {
     "name": "stderr",
     "output_type": "stream",
     "text": [
      "C:\\Users\\15086\\anaconda3\\envs\\wenqu_gdal\\lib\\site-packages\\sklearn\\cross_decomposition\\_pls.py:503: FutureWarning: The attribute `coef_` will be transposed in version 1.3 to be consistent with other linear models in scikit-learn. Currently, `coef_` has a shape of (n_features, n_targets) and in the future it will have a shape of (n_targets, n_features).\n",
      "  warnings.warn(\n"
     ]
    },
    {
     "name": "stdout",
     "output_type": "stream",
     "text": [
      "86% completed(317, 319)\n"
     ]
    },
    {
     "name": "stderr",
     "output_type": "stream",
     "text": [
      "C:\\Users\\15086\\anaconda3\\envs\\wenqu_gdal\\lib\\site-packages\\sklearn\\cross_decomposition\\_pls.py:503: FutureWarning: The attribute `coef_` will be transposed in version 1.3 to be consistent with other linear models in scikit-learn. Currently, `coef_` has a shape of (n_features, n_targets) and in the future it will have a shape of (n_targets, n_features).\n",
      "  warnings.warn(\n"
     ]
    },
    {
     "name": "stdout",
     "output_type": "stream",
     "text": [
      "90% completed(317, 319)\n"
     ]
    },
    {
     "name": "stderr",
     "output_type": "stream",
     "text": [
      "C:\\Users\\15086\\anaconda3\\envs\\wenqu_gdal\\lib\\site-packages\\sklearn\\cross_decomposition\\_pls.py:503: FutureWarning: The attribute `coef_` will be transposed in version 1.3 to be consistent with other linear models in scikit-learn. Currently, `coef_` has a shape of (n_features, n_targets) and in the future it will have a shape of (n_targets, n_features).\n",
      "  warnings.warn(\n"
     ]
    },
    {
     "name": "stdout",
     "output_type": "stream",
     "text": [
      "93% completed(317, 319)\n"
     ]
    },
    {
     "name": "stderr",
     "output_type": "stream",
     "text": [
      "C:\\Users\\15086\\anaconda3\\envs\\wenqu_gdal\\lib\\site-packages\\sklearn\\cross_decomposition\\_pls.py:503: FutureWarning: The attribute `coef_` will be transposed in version 1.3 to be consistent with other linear models in scikit-learn. Currently, `coef_` has a shape of (n_features, n_targets) and in the future it will have a shape of (n_targets, n_features).\n",
      "  warnings.warn(\n"
     ]
    },
    {
     "name": "stdout",
     "output_type": "stream",
     "text": [
      "96% completed(317, 319)\n"
     ]
    },
    {
     "name": "stderr",
     "output_type": "stream",
     "text": [
      "C:\\Users\\15086\\anaconda3\\envs\\wenqu_gdal\\lib\\site-packages\\sklearn\\cross_decomposition\\_pls.py:503: FutureWarning: The attribute `coef_` will be transposed in version 1.3 to be consistent with other linear models in scikit-learn. Currently, `coef_` has a shape of (n_features, n_targets) and in the future it will have a shape of (n_targets, n_features).\n",
      "  warnings.warn(\n"
     ]
    },
    {
     "name": "stdout",
     "output_type": "stream",
     "text": [
      "100% completed\n",
      "Optimised number of PLS components:  7\n",
      "Wavelengths to be discarded  273\n",
      "Optimised MSEP  3.1678408303461034\n",
      "\n"
     ]
    },
    {
     "data": {
      "image/png": "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\n",
      "text/plain": [
       "<Figure size 640x480 with 1 Axes>"
      ]
     },
     "metadata": {},
     "output_type": "display_data"
    },
    {
     "name": "stderr",
     "output_type": "stream",
     "text": [
      "C:\\Users\\15086\\anaconda3\\envs\\wenqu_gdal\\lib\\site-packages\\sklearn\\cross_decomposition\\_pls.py:503: FutureWarning: The attribute `coef_` will be transposed in version 1.3 to be consistent with other linear models in scikit-learn. Currently, `coef_` has a shape of (n_features, n_targets) and in the future it will have a shape of (n_targets, n_features).\n",
      "  warnings.warn(\n"
     ]
    }
   ],
   "source": [
    "opt_Xc1, ncomp1, wav1, sorted_ind1 = plot_mse_vs_components(x[0:2555,:], y[0:2555,:], 30)\n",
    "opt_Xc2, ncomp2, wav2, sorted_ind2 = plot_mse_vs_components(x[2556:3099,:], y[2556:3099,:], 30)\n",
    "opt_Xc3, ncomp3, wav3, sorted_ind3 = plot_mse_vs_components(x[3100:3459,:], y[3100:3459,:], 30)\n",
    "opt_Xc4, ncomp4, wav4, sorted_ind4 = plot_mse_vs_components(x[3460:3777,:], y[3460:3777,:], 30)"
   ]
  },
  {
   "cell_type": "code",
   "execution_count": 42,
   "id": "92beab72",
   "metadata": {},
   "outputs": [],
   "source": [
    "\n",
    "def simple_pls_cv_label_category(X,x1,x2,x3,x4, y,y1,y2,y3,y4, n_comp,labels):\n",
    "\n",
    "    # Run PLS with suggested number of components\n",
    "    pls = PLSRegression(n_components=n_comp)\n",
    "    pls.fit(X, y[:, 0].astype(np.float64))\n",
    "    y_c = pls.predict(X)\n",
    "    \n",
    "    y_c_site1b = pls.predict(x1)\n",
    "    y_c_site2a = pls.predict(x2)\n",
    "    y_c_site2c = pls.predict(x3)\n",
    "    y_c_site6 = pls.predict(x4)\n",
    "\n",
    "    # Cross-validation\n",
    "    y_cv = cross_val_predict(pls, X, y[:, 0].astype(np.float64), cv=10)\n",
    "    \n",
    "    y_cv_site1b = cross_val_predict(pls, x1, y1[:, 0].astype(np.float64), cv=10)\n",
    "    y_cv_site2a = cross_val_predict(pls, x2, y2[:, 0].astype(np.float64), cv=10)\n",
    "    y_cv_site2c = cross_val_predict(pls, x3, y3[:, 0].astype(np.float64), cv=10)\n",
    "    y_cv_site6 = cross_val_predict(pls, x4, y4[:, 0].astype(np.float64), cv=10)\n",
    "\n",
    "    # Calculate scores for calibration and cross-validation\n",
    "    score_c = r2_score(y[:, 0].astype(np.float64), y_c)\n",
    "    score_cv = r2_score(y[:, 0].astype(np.float64), y_cv)\n",
    "    \n",
    "\n",
    "    \n",
    "\n",
    "\n",
    "    # Calculate mean square error for calibration and cross validation\n",
    "    mse_c = mean_squared_error(y[:, 0].astype(np.float64), y_c)\n",
    "    mse_cv = mean_squared_error(y[:, 0].astype(np.float64), y_cv)\n",
    "\n",
    "    print('R2 calib: %5.3f'  % score_c, ';Site1b R2 calib: %5.3f'  % score_c_1b)\n",
    "    print('R2 CV: %5.3f'  % score_cv, 'Site1b R2 CV: %5.3f'  % score_cv_1b)\n",
    "    print('MSE calib: %5.3f' % mse_c)\n",
    "    print('MSE CV: %5.3f' % mse_cv)\n",
    "\n",
    "    # Plot regression \n",
    "    z = np.polyfit(y[:, 0].astype(np.float64), y_cv, 1)\n",
    "    z1 = np.polyfit(y1[:, 0].astype(np.float64), y_cv_site1b, 1)\n",
    "    z2 = np.polyfit(y2[:, 0].astype(np.float64), y_cv_site2a, 1)\n",
    "    z3 = np.polyfit(y3[:, 0].astype(np.float64), y_cv_site2c, 1)\n",
    "    z4 = np.polyfit(y4[:, 0].astype(np.float64), y_cv_site6, 1)\n",
    "    with plt.style.context(('ggplot')):\n",
    "        fig, ax = plt.subplots(figsize=(9, 5))\n",
    "\n",
    "        # Define a dictionary of labels and their corresponding markers and colors\n",
    "        label_dict = {\n",
    "            'site1b': {'marker': 'o', 'color': 'purple'},\n",
    "            'site2a': {'marker': 's', 'color': 'blue'},\n",
    "            'site2c': {'marker': 'p', 'color': 'yellow'},\n",
    "            'site6': {'marker': '^', 'color': 'green'}\n",
    "        }\n",
    "\n",
    "        # Loop over data points to add labels and build a list of scatter plot objects\n",
    "        scatter_objs = []\n",
    "# enumerate() method adds a counter to an iterable and returns it in a form of enumerating object\n",
    "# marker style; color map and edge color\n",
    "        for i, label in enumerate(labels):\n",
    "            scatter_obj = ax.scatter(y_cv[i], y[i,0].astype(np.float64), marker=label_dict.get(label)['marker'],\n",
    "                                     c=label_dict.get(label)['color'], edgecolors='k')\n",
    "            scatter_objs.append(scatter_obj)\n",
    "\n",
    "        # Create a legend using the dictionary of labels and their markers/colors\n",
    "        legend_handles = []\n",
    "        for label, props in label_dict.items():\n",
    "            legend_handles.append(plt.Line2D([], [], marker=props['marker'], color=props['color'], linestyle='None', label=label))\n",
    "        ax.legend(handles=legend_handles)\n",
    "\n",
    "\n",
    "        ax.plot(z[1]+z[0]*y[:, 0].astype(np.float64), y[:, 0].astype(np.float64), c='red', linewidth=1)\n",
    "        ax.plot(z1[1]+z1[0]*y1[:, 0].astype(np.float64), y1[:, 0].astype(np.float64), c='purple', linewidth=1)\n",
    "        ax.plot(z2[1]+z2[0]*y2[:, 0].astype(np.float64), y2[:, 0].astype(np.float64), c='blue', linewidth=1)\n",
    "        ax.plot(z3[1]+z3[0]*y3[:, 0].astype(np.float64), y3[:, 0].astype(np.float64), c='yellow', linewidth=1)\n",
    "        ax.plot(z4[1]+z4[0]*y4[:, 0].astype(np.float64), y4[:, 0].astype(np.float64), c='green', linewidth=1)\n",
    "        ax.plot(y[:, 0].astype(np.float64), y[:, 0].astype(np.float64), color='black', linewidth=1)\n",
    "        plt.title('$R^{2}$ (CV): '+str(score_cv))\n",
    "        plt.xlabel('Predicted $^{\\circ}$Brix')\n",
    "        plt.ylabel('Measured $^{\\circ}$Brix')\n",
    "        plt.show()\n",
    "\n",
    "\n",
    "\n",
    "\n",
    "\n",
    "\n",
    "\n",
    "\n",
    "\n",
    "#     trend_line = z[1]+z[0]*y[:, 0].astype(np.float64)\n",
    "#     center_line = y[:, 0].astype(np.float64)\n",
    "#     y = y[:, 0].astype(np.float64)\n",
    "#     return (trend_line, center_line, y, score_cv)\n"
   ]
  },
  {
   "cell_type": "code",
   "execution_count": 22,
   "id": "4aa5a602",
   "metadata": {},
   "outputs": [
    {
     "data": {
      "text/plain": [
       "(3778, 10)"
      ]
     },
     "execution_count": 22,
     "metadata": {},
     "output_type": "execute_result"
    }
   ],
   "source": [
    "opt_Xc.shape"
   ]
  },
  {
   "cell_type": "code",
   "execution_count": 25,
   "id": "279a35cd",
   "metadata": {},
   "outputs": [
    {
     "data": {
      "text/plain": [
       "(2555, 10)"
      ]
     },
     "execution_count": 25,
     "metadata": {},
     "output_type": "execute_result"
    }
   ],
   "source": [
    "opt_Xc[0:2555,:].shape"
   ]
  },
  {
   "cell_type": "code",
   "execution_count": 23,
   "id": "b2c7fd0a",
   "metadata": {},
   "outputs": [
    {
     "data": {
      "text/plain": [
       "(2555, 319)"
      ]
     },
     "execution_count": 23,
     "metadata": {},
     "output_type": "execute_result"
    }
   ],
   "source": [
    "x[0:2555,:].shape"
   ]
  },
  {
   "cell_type": "code",
   "execution_count": 24,
   "id": "14e544a6",
   "metadata": {},
   "outputs": [
    {
     "data": {
      "text/plain": [
       "(3778, 319)"
      ]
     },
     "execution_count": 24,
     "metadata": {},
     "output_type": "execute_result"
    }
   ],
   "source": [
    "x.shape"
   ]
  },
  {
   "cell_type": "code",
   "execution_count": 28,
   "id": "d9d023ed",
   "metadata": {},
   "outputs": [],
   "source": [
    "\n",
    "x1 = opt_Xc[0:2555,:]\n",
    "y1 = y[0:2555,:]\n",
    "x2 = opt_Xc[2556:3099,:]\n",
    "y2 = y[2556:3099,:]\n",
    "x3 = opt_Xc[3100:3459,:]\n",
    "y3 = y[3100:3459,:]\n",
    "x4 = opt_Xc[3460:3777,:]\n",
    "y4 = y[3460:3777,:]"
   ]
  },
  {
   "cell_type": "code",
   "execution_count": 43,
   "id": "2cd31278",
   "metadata": {},
   "outputs": [
    {
     "name": "stdout",
     "output_type": "stream",
     "text": [
      "R2 calib: 0.090 Site1b R2 calib: -0.393\n",
      "R2 CV: -0.341 Site1b R2 CV: 0.029\n",
      "MSE calib: 9.157\n",
      "MSE CV: 13.490\n"
     ]
    },
    {
     "data": {
      "image/png": "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\n",
      "text/plain": [
       "<Figure size 900x500 with 1 Axes>"
      ]
     },
     "metadata": {},
     "output_type": "display_data"
    }
   ],
   "source": [
    "simple_pls_cv_label_category(opt_Xc,x1,x2,x3,x4, y,y1,y2,y3,y4, ncomp, labels)"
   ]
  },
  {
   "cell_type": "code",
   "execution_count": 35,
   "id": "9e464654",
   "metadata": {},
   "outputs": [
    {
     "name": "stdout",
     "output_type": "stream",
     "text": [
      "R2 calib: 0.090 Site1b R2 calib: -0.393\n",
      "R2 CV: -0.341 Site1b R2 CV: 0.029\n",
      "MSE calib: 9.157\n",
      "MSE CV: 13.490\n"
     ]
    },
    {
     "data": {
      "image/png": "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\n",
      "text/plain": [
       "<Figure size 900x500 with 1 Axes>"
      ]
     },
     "metadata": {},
     "output_type": "display_data"
    }
   ],
   "source": [
    "simple_pls_cv_label_category(opt_Xc,x1,x2,x3,x4, y,y1,y2,y3,y4, ncomp, labels)"
   ]
  },
  {
   "cell_type": "code",
   "execution_count": 64,
   "id": "e47887e8",
   "metadata": {},
   "outputs": [],
   "source": [
    "def simple_pls_cv(X, y, n_comp, color, M):\n",
    "    # Run PLS with suggested number of components\n",
    "    pls = PLSRegression(n_components=n_comp)\n",
    "    pls.fit(X, y)\n",
    "    y_c = pls.predict(X)\n",
    " \n",
    "    # Cross-validation\n",
    "    y_cv = cross_val_predict(pls, X, y, cv=10)    \n",
    " \n",
    "    # Calculate scores for calibration and cross-validation\n",
    "    score_c = r2_score(y, y_c)\n",
    "    score_cv = r2_score(y, y_cv)\n",
    " \n",
    "    # Calculate mean square error for calibration and cross validation\n",
    "    mse_c = mean_squared_error(y, y_c)\n",
    "    mse_cv = mean_squared_error(y, y_cv)\n",
    " \n",
    "    print('R2 calib: %5.3f'  % score_c)\n",
    "    print('R2 CV: %5.3f'  % score_cv)\n",
    "    print('MSE calib: %5.3f' % mse_c)\n",
    "    print('MSE CV: %5.3f' % mse_cv)\n",
    "        # Plot regression \n",
    " \n",
    "    z = np.polyfit(y, y_cv, 1)\n",
    "    with plt.style.context(('ggplot')):\n",
    "        fig, ax = plt.subplots(figsize=(9, 5))\n",
    "        ax.scatter(y_cv, y, c=color, marker=M, edgecolors='k')\n",
    "        ax.plot(z[1]+z[0]*y, y, c=color, linewidth=1)\n",
    "        ax.plot(y, y, color='black', linewidth=1)\n",
    "        plt.title('$R^{2}$ (CV): '+str(score_cv))\n",
    "        plt.xlabel('Predicted $^{\\circ}$Brix')\n",
    "        plt.ylabel('Measured $^{\\circ}$Brix')\n",
    "        \n",
    "        plt.show()"
   ]
  },
  {
   "cell_type": "code",
   "execution_count": 48,
   "id": "e197d0f6",
   "metadata": {},
   "outputs": [
    {
     "name": "stdout",
     "output_type": "stream",
     "text": [
      "(2555, 92) (2555, 2)\n"
     ]
    }
   ],
   "source": [
    "print(opt_Xc1.shape,y[0:2555,:].shape)"
   ]
  },
  {
   "cell_type": "code",
   "execution_count": 59,
   "id": "9765f831",
   "metadata": {},
   "outputs": [
    {
     "data": {
      "text/plain": [
       "dtype('float64')"
      ]
     },
     "execution_count": 59,
     "metadata": {},
     "output_type": "execute_result"
    }
   ],
   "source": [
    "y[0:2555,0].astype('float64').dtype"
   ]
  },
  {
   "cell_type": "code",
   "execution_count": 56,
   "id": "cfc6cfcd",
   "metadata": {},
   "outputs": [
    {
     "data": {
      "text/plain": [
       "array([6.680403438494835, 'site1b_d13c_site1b_10_21.tif'], dtype=object)"
      ]
     },
     "execution_count": 56,
     "metadata": {},
     "output_type": "execute_result"
    }
   ],
   "source": [
    "y[0,:]"
   ]
  },
  {
   "cell_type": "code",
   "execution_count": 53,
   "id": "413ec18f",
   "metadata": {},
   "outputs": [
    {
     "data": {
      "text/plain": [
       "dtype('float64')"
      ]
     },
     "execution_count": 53,
     "metadata": {},
     "output_type": "execute_result"
    }
   ],
   "source": [
    "opt_Xc1.dtype"
   ]
  },
  {
   "cell_type": "code",
   "execution_count": null,
   "id": "c4cfd197",
   "metadata": {},
   "outputs": [],
   "source": [
    "            'site1b': {'marker': 'o', 'color': 'purple'},\n",
    "            'site2a': {'marker': 's', 'color': 'blue'},\n",
    "            'site2c': {'marker': 'p', 'color': 'yellow'},\n",
    "            'site6': {'marker': '^', 'color': 'green'}"
   ]
  },
  {
   "cell_type": "code",
   "execution_count": 65,
   "id": "76093d88",
   "metadata": {},
   "outputs": [
    {
     "name": "stdout",
     "output_type": "stream",
     "text": [
      "R2 calib: 0.303\n",
      "R2 CV: 0.213\n",
      "MSE calib: 1.022\n",
      "MSE CV: 1.154\n"
     ]
    },
    {
     "data": {
      "image/png": "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\n",
      "text/plain": [
       "<Figure size 900x500 with 1 Axes>"
      ]
     },
     "metadata": {},
     "output_type": "display_data"
    },
    {
     "name": "stdout",
     "output_type": "stream",
     "text": [
      "R2 calib: 0.172\n",
      "R2 CV: 0.018\n",
      "MSE calib: 5.153\n",
      "MSE CV: 6.116\n"
     ]
    },
    {
     "data": {
      "image/png": "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\n",
      "text/plain": [
       "<Figure size 900x500 with 1 Axes>"
      ]
     },
     "metadata": {},
     "output_type": "display_data"
    },
    {
     "name": "stdout",
     "output_type": "stream",
     "text": [
      "R2 calib: 0.546\n",
      "R2 CV: 0.320\n",
      "MSE calib: 3.766\n",
      "MSE CV: 5.638\n"
     ]
    },
    {
     "data": {
      "image/png": "iVBORw0KGgoAAAANSUhEUgAAAxMAAAHfCAYAAAAr74W2AAAAOXRFWHRTb2Z0d2FyZQBNYXRwbG90bGliIHZlcnNpb24zLjYuMywgaHR0cHM6Ly9tYXRwbG90bGliLm9yZy/P9b71AAAACXBIWXMAAA9hAAAPYQGoP6dpAADy9klEQVR4nOzdd3hT5dvA8W+6aEsZhdIByBaRvRSUsldBVimIyBQLSKEslQ3KngqIiExBkL1ERQVE2ZuiKAg/lkChtIwOWrrP+0fepE2TtmlImrTcn+vqpTkr93kS2nOf8zzPrVIURUEIIYQQQgghcsjO2gEIIYQQQggh8iZJJoQQQgghhBAmkWRCCCGEEEIIYRJJJoQQQgghhBAmkWRCCCGEEEIIYRJJJoQQQgghhBAmkWRCCCGEEEIIYRJJJoQQQgghhBAmkWRCCCGEEEIIYRJJJoQQQgghhBAmkWRCCCGEEEIIYRJJJoQQuWr27Nm89tprFC5cmBIlStCxY0f+/vtva4clhBBCCBNIMiGEyFV//PEHQUFBHD9+nIMHD+Lg4ECrVq14/PixtUMTQgghRA6pFEVRrB2EEOLF9fTpU4oUKcLu3bvp2LFjjvbt168fP//8Mzdv3qRgwYIWijBz586do379+qxcuZLAwMBcf38hhBDC2uTJhBDCZG3atEGlUun8eHp64uvry7Zt24w6RkxMDKmpqbi7u+fovc+cOcP69esZN26cwUTi33//JTg4mOrVq1OkSBGcnJwoWbIkb731FqtXryYhIQGAXr16oVKp+Oqrr4w+3127dgFQr149unTpwuTJk3n69GmO4s/O3bt3GTBgACVLlqRAgQKUK1eOkSNH8uTJkxwdZ+zYsbRs2ZKXXnoJFxcXihUrRp06dZg6dSqPHj3S2/7Ro0esWrUKf39/KlWqhIuLC0WKFMHX15fVq1eTmppqlnhzGld6v/32G/7+/nh7e1OgQAFKlixJ27Zt2bt3r962iqKwcuVKGjRogJubGwULFqR+/fp8/fXXmZ5Lehs2bNB+t1etWmW29jLlXH766SfatGlD6dKlcXFxoUKFCnTv3p0TJ04YPLYpbbx9+3aCg4Np3LgxhQsXRqVS0bt37yzPIadtbMpnYso+z/MdE0LkgCKEECYqVqyYolKplClTpiiffPKJMnHiRCUgIECxt7dXAOXzzz/P9hjdu3dXateurSQnJ+fovVu3bq0UKVJEiYuL01s3depUxc7OTgGUN954QwkODlbGjx+vDBgwQKlQoYICKPXq1VMURVF+//13BVDq1KmT5fvdvHlTUalUio+Pj5KUlKRdfurUKQVQZs6cmaP4s3Lt2jXF09NTAZTOnTsrY8eOVZo3b64AyiuvvKI8fPjQ6GM5OjoqDRo0UN577z1l7NixyrBhw5T69esrgFKyZEnl9u3bOtsvW7ZMARQfHx/l3XffVcaNG6e89957SpEiRRRACQgIUFJTU5873pzGpfHxxx8rgFK6dGll4MCByvjx45XAwEClTp06yscff6y3/bvvvqsAiqenpxIYGKgMHz5cefXVVxVA6dOnT5Ztd/v2baVIkSKKm5ubAigrV67U28aU9jLlXMaMGaMASvHixZX3339fGTt2rBIQEKA4OjoqKpVKWb9+vVnauFatWgqguLm5KVWqVFEApVevXlm2U07b2JTPxJR9TP2OCSFyRpIJIYRJrl+/rr1YzEhzgVW2bNksjzFq1CjFx8dHuX79eo7e+8qVK4pKpVIGDhyot27mzJkKoLz00kvKyZMnDe7/ww8/KM2aNdO+rly5sgIo586dy/Q9J02apADKhAkT9NZVqVJFKVOmjJKSkpKj88hMmzZtFED54osvdJaPGjVKAZTBgwcbfaxnz54ZXD5hwgQFUIYMGaKz/LffflP27Nmjdy73799XXnrpJQVQtm/f/tzx5jQuRVGUFStWKIDSr18/JSEhQW99YmKizuudO3cqgFK+fHklIiJCuzwhIUHp0KGDAig7duwwGEdqaqrSsmVLpUKFCspHH32UaTJhSnvl9Fzu37+v2NnZKV5eXsqDBw90tjt48KD2HDMypY0PHjyoXL16VUlNTdUm2lklEzltY1M+E1M/R1POXwiRc5JMCCFMsmXLFgVQ3n33Xb11N2/eVADFxcUl0/1HjhypeHt7K5cvX87xe48dO1YBlAMHDui9r6Ojo+Lo6KhcvHgxy2PEx8dr/3/+/PkKoHzwwQcGt01OTlZKlSqlqFQq5caNG3rrP/30UwVQfvnllxyfS0bXrl1TAKVcuXJ6F6jR0dFKwYIFFVdXV+Xp06fP9T4XLlxQAKVVq1ZG76NJ1IYNG2axeDOLKz4+XilRooRSpkwZgxffhvTp00cBlC+//FJvXUhIiAIozZs3N7jvokWLFJVKpRw6dEj55JNPMk0msmKovUw5l5MnTyqA0qlTJ4PrCxUqpLi5uRkdl7GfvTHJRE7b2JTP5Hk+R0NM+e4LITInYyaEECY5e/YsoB43kNG1a9cAePXVVw3uO2LECDZt2sTBgwepUqVKjt/7wIED2Nvb07BhQ53l33zzDUlJSQQEBFC9evUsj1GgQAHt//fr1w8nJyc2bdpEXFyc3rY///wzoaGhtGrVivLly+utb9SoEQD79+/XW9e/f39UKhVr16415tT4/fffAfX4DDs73V/RhQoVolGjRsTFxXHy5EmjjpeZH374AYCaNWsavY+joyMADg4OFos3s7j2799PREQEXbt2xc7Ojp9++om5c+eyePHiTMcMhIWFAVChQgW9dZplR44cITExUWfd5cuXGTduHCNGjKBJkyZGxW2IofYy5VxefvllnJycOH36NA8fPtRZd/jwYWJiYmjVqpXRcZny2Wcmp21symdi6ueYGXOevxACHLLfRAgh9GmSifr16+ssf/jwIR999BEA48aN09tv6NChrF+/nt27d+Pu7q69UHBzc8PNzS3b942NjeXChQu8+uqregOvjx49CkDLli1zdC4lSpSgS5cubN26la1bt9K/f3+d9StXrgRg0KBBBvd/7bXXAPWF3fO6cuUKAJUrVza4/uWXX2bfvn1cvXo1R+e5YMECnj59SlRUFGfPnuXo0aPUrFnT4GdkSHJyMt9++y0Afn5+ZovX2LjOnDkDgLOzM3Xq1NGrTdKkSRO2b99OiRIltMs8PDwAuHnzpt773rhxQ3teN27c0Ca1ycnJ9OnThzJlyjBr1qwsWiRrmbWXKedSrFgx5s6dy+jRo6latSpdunShePHiXL9+nT179tC6dWuWL1+eaSzP+9lnJadtbMpnYso+6Vny/IUQyABsIUTOpaamageYfvjhh8onn3yiTJo0SenTp49SpEgRpVChQspXX31lcF/A4M8nn3xi1HtfuXJFAZTWrVvrrdMMyPz5559zfE4HDhxQAKVRo0Y6y+/du6c4ODgonp6een3y03N2dla8vLz0lt+7d0+5fPmyEhkZaVQcAwcOzLJLjaa/96xZs4w6noaXl5dOe/v5+SlhYWFG7//hhx8qgNK+fXuzxmtsXB988IECKPb29kqNGjWUI0eOKDExMcpff/2lHbPRtGlTnX02bNigAErFihWVR48eaZcnJiYqnTp10r7n8ePHtesmT56s2NnZ6SwzpZtTZu1l6rkoiqLs2rVLcXd312mvSpUqKd99912WsZj62RvTzSmnbWzKZ2LKPuY4fyGEcSSZEELkmOaC3tBPwYIFTbqYN9bx48cVQHn77bf11j1PMpGamqpUrFhRAZRLly5pl2v6vY8ZMybL/UuWLKnY29vn+H0zslQyoREWFqbs3LlTqVy5suLj45PloHONxYsXK4BSpUoVnYs5c8abXVyDBg1SAKVAgQLKzZs3ddbFxsYqpUuX1rugTE5OVtq2basAipeXlzJo0CBl+PDhStWqVRV3d3elTJkyCqAdqH/y5EnF3t5ebyalnCYTWbWXqecyd+5cxd7eXhk1apRy/fp1JTY2Vjl37pw2+TA0k1VGOf3sjUkmctrGOd3e1H3Mcf5CCOPImAkhRI5puji99957KOqbEjx69IjPP/+c2NhYevbsSWRkpEXe28XFBYD4+Hi9dT4+PgCEhobm+LgqlUpbeE5TT0BRFFavXo1KpWLgwIFZ7v/s2TNtbM+jSJEiAERFRRlcr1letGhRk47v5eWFv78/+/bt49GjR/Tt2zfL7b/88ktGjBhB1apV+f333ylWrJhF4s0uLs3+derUoVy5cjrrXF1dadu2LQCnT5/WLre3t+eHH35gzpw5lChRgnXr1rFu3Tpefvlljh8/TqFChQDw9PQkOTmZvn37UrlyZaZPn55lrFnJrr1MOZc//viDsWPH0qlTJz7//HMqVKiAq6srdevWZdeuXZQqVYrPPvtM2+UnMzn97I2RkzY2ZXtT98mt8xdCIN2chBA5p5nyc+nSpXrrunfvrmBgmlBzCQ0NNdgdSVEUZcqUKQqg9OzZ06Rjh4WFKY6OjoqHh4eSkJCg7frUokWLLPdLSUlRVCqVUqFCBZPeN72VK1cqgDJo0CCD6zV3ojPOZGWK2rVrK4DOdJvpLVy4UAGU6tWr601Jasl4DcW1evVqbRcVQzTTt86ePduo93j27Jni5OSkeHh4KIqiKE+ePMn0aVvGnxEjRhg8pjHtZcq5aLpMZfZvyt/fXwHDU9BmJrvPXlGMezKRlYxtbO7tTd1HUYw7fyGEcWQAthAix7KaySkwMJBt27axadMmgoODzf7ePj4+lChRQjvwN7333nuP2bNns2PHDi5dukTVqlUzPU5CQoLOjE6gvnPZqVMnduzYwe7du7WVrjMbeK1x5coVFEWhdu3aOT+hDJo3bw7Avn37SE1N1ZkhKSYmhmPHjuHq6qo3k5Up7t27B6jv/GY0d+5cxo0bR+3atdm/f792EGxuxGsorpYtW6JSqbh06ZLe+wDaQcyGZtsyZPPmzSQmJtKzZ09APbvX+++/b3Db8+fPExISgq+vL6+88gpvvPGG3jbGtpcp56Kp1h4REWHweJrlTk5OWZ2yjqw+e3PJ2Mbm3t7UfSB3zl+IF4a1sxkhRN6SkpKiuLm5KQ4ODgaLQiUmJipFixZVVCqVEhoaapEYAgICFED53//+p7dOM8ahXLlyypkzZwzu//PPP2c6L/0vv/yiAMrrr7+uFChQQPuUIitr1qxRAGXJkiV663I6AFtRTCsCd+3aNeXy5cs6g8SvXLli8H1TUlK0YxnefPNNvfXTpk1TQF0l3FCf/+eN19S4NINtM1ZW//XXXxWVSqUULVpU77hRUVF6xwkJCVE8PDwUd3d3o76j2Y2ZyGl75fRcNDVdvLy8lLt37+psv3fvXkWlUinOzs46lcZNbeP0jH0ykdM2NuUzyek+5jh/IYRx5MmEECJH/v33X54+fUqtWrVwdnbWW+/o6Ej79u3ZuHEju3btYujQoWaPISAggB07dvDrr79SqVIlnXUTJkwgOTmZqVOn8tprr/Hmm29Sv3593NzcePDgAYcPH+Z///uf3pS2Gm3atKFcuXLa/urDhg3L9o7vvn37sLe3p3Pnznrrxo8fz7p16/jmm2/0ppzNzFdffcWbb77J8OHD+e2333j11Vc5deoUv//+O5UrV2bmzJl6+7Rs2ZL//vuPmzdvavvh7927l/Hjx+Pr60v58uUpXrw4Dx484NChQ9y4cQNvb2/ttLca69atY8qUKdjb29O4cWO++OILvfcqV66czrnkNF5T4gJYunQpISEhjB49mp9++ok6depw8+ZNdu/ejb29PatWrdKO4dBo3bo1Li4uVK9enUKFCnH58mV++uknXFxc+OGHHyhZsqRRn0lmTGmvnJ5Lt27daNWqFQcOHODVV1/F398fb29vLl++zI8//oiiKMyZM4fixYs/dxvv3r2b3bt3A2n1HU6cOKGN38PDgwULFujsk9M2NuUzyek+pp6/EMIE1s5mhBB5y7p16xRAGTBgQKbbbNu2TYGcVaXNiYSEBMXT01N5/fXXM93m0qVLyrBhw5Rq1aophQoVUhwdHRVvb2/Fz89PWbVqlU4F7IxmzJih7R//77//ZhlLZGSk4uzsrHTu3Nng+n79+imA8s033xhzalq3b99W+vfvr3h7eyuOjo5KmTJllBEjRiiPHz82uH3ZsmUVQGd2oIsXLypDhw5VatWqpRQvXlyxt7dXChcurNSvX1/55JNPDN5F19yFz+rH0LSlOYnXlLg0wsPDlWHDhillypRRHB0dleLFiytdunRRTp06ZXD7efPmKXXr1lWKFCmiODk5KeXLl1eCgoKUO3fuZPoembWJoScTprZXTs8lMTFRWbhwodKgQQOlUKFCir29vVKiRAnlrbfeUn799Ve97U1t4+zOp2zZsnr75LSNTflMcrrP83zHhBA5o1IURcmNpEUIIcxp9uzZTJgwgfPnz1OnTh2rxbFkyRKGDx/OkSNH8PX1tVocQgghhDVIMiGEyJPi4+N55ZVXqFmzJj/88INVYnj27BkVK1bkzTffZPv27VaJQQghhLAmqTMhhMiTnJ2dWb9+PfXr1yc2NtYqMdy6dYtBgwbp9SEXQgghXhTyZEIIIYQQQghhEnkyIYQQQgghhDCJJBNCCCGEEEIIk0gyIYQQQgghhDCJJBNCCCGEEEIIk0gyIYQQQgghhDCJg7UDSG/Xrl2cPn2a0NBQnJycqFy5Mr1796ZkyZIAhIeHM2zYMIP7jho1ijfeeMPguqVLl3Lo0CGdZbVq1WLixIk5iu/JkyckJyfnaB+hVqJECSIiIqwdRr4kbWs50raWI21rGdKuliNtaznStpZjTNs6ODjg7u5u8nvYVDJx6dIl2rZtS8WKFUlJSWHTpk3MmDGDzz//HGdnZzw8PFixYoXOPgcOHGDPnj3ZVsCtXbs2QUFB2tcODjk/9eTkZJKSknK834tOpVIB6vaTmYjNS9rWcqRtLUfa1jKkXS1H2tZypG0tJ7fa1qaSiYxPCoYOHUpgYCA3btygatWq2NnZUbRoUZ1tTp8+zRtvvIGzs3OWx3ZwcNDbVwghhBBCCGE6m0omMoqLiwPAzc3N4PobN25w69Yt3n///WyPdenSJQIDAylYsCDVq1fnnXfeoVChQga3TUpK0nkCoVKpcHFx0f6/yBlNm0nbmZ+0reVI21qOtK1lSLtajrSt5UjbWk5uta3NVsBOTU1l3rx5xMbGMn36dIPbrFq1in/++YeFCxdmeaxjx45RoEABPD09CQsLY9OmTTg7OzNz5kzs7PTHoG/dupXt27drX5cvX565c+c+3wkJIYQQQgiRz9jsk4nVq1dz584dpk2bZnB9YmIiR48eJSAgINtjNWrUSPv/ZcqUoWzZsgQHB/PPP/9Qo0YNve39/f3p0KGD9rUmo4uIiJAB2CZQqVR4e3sTFhYm/SHNTNrWcqRtLUfa1jKkXS1H2tZypG0tx9i2dXBwoESJEia/j00mE6tXr+b8+fNMnTqV4sWLG9zm5MmTJCQk0LRp0xwf38vLi0KFChEWFmYwmXB0dMTR0dHgvvJFN52iKNJ+FiJtaznStpYjbWsZ0q6WI21rOdK2lmPptrWpOhOKorB69WpOnz7NlClT8PT0zHTbgwcPUr9+fQoXLpzj93n06BFPnz59rmmwhBBCCCGEeNHZVDKxevVqjhw5wogRI3BxcSEyMpLIyEgSExN1tgsLC+Py5cu0bNnS4HFGjhzJ6dOnAYiPj2f9+vVcvXqV8PBwLl68yLx58/D29qZWrVoWPychhBBCCCHyK5vq5rRv3z4APv30U53lQUFBNGvWTPv64MGDFCtWjJo1axo8zr1797QzQdnZ2XH79m0OHTpEbGysdr8ePXpk2pVJCCGEEEIIkT2bnc3JFkVEREjROhOoVCp8fHy4f/++9Ic0M2lby5G2tRxpW8uQdrUcaVvLkba1HGPb1tHR8bkGYNtUNychhBBCCCFE3iHJhBBCCCGEAYqisHXrWvz8arNu3TK5cy6EAZJMCCGEEEJkEB0dzejRvYmOnsOZM+Hcvj2eUaN6ExMTY+3QhLApkkwIIYQQQqQTEnKOQYPaEBx8mClTYnBygsmTowgOPsTAga0JCTln7RCFsBmSTAghhBDCRqXg4rIVlepZrr7rkiUT2bz5Dr6+qTrLfX1T2bTpDl9+OSlX4xHZS+uSVodt29blmS5pCQkJLFy4kHv37lk7FJNJMiGEEEIIm+TjUx5391HY29/M1fdt2rQLJ07YG1x34oQ9TZt2ydV4RNbSd0k7ezacyMg5jB7dx6a7pCmKwvjx46lQoQILFizQ1kfLiySZEEIIIYTNKVJkLCpVCoriSHJy1Vx9bz8/f3bs8DC4bscOD/z8/HM1HpE5Q13SPvkk2qa7pG3cuJHSpUvz7bffAjBnzhy6dOli3aCegyQTQgghhLApBQocoGDBDQDcv38919/fy8uLiIiiJCToLo+Ph0eP3PH09Mz1mIRhealL2unTpylVqhQff/wxAL169eLu3bv06dPHypE9H5uqgC2EEEKIF5ud3QOKF+8HQFjYacBwdyNLa9y4E8HByyhTxv7/41Jx61Yyvr6drBKPMEzdJe0SAQEpeutspUva3bt3adCggfZ1jRo12L17N87OzlaMynwkmRBCCCGEjUjF27suAI8fryI1tZTVIunbN4iLFxsD6krCHh4ePHz4kOrVq1stJqHPz8+f+fNXEBDwQG/djh0ejB1rvS5pcXFxtG7dmlu3bmmXnT9/Hi8vL6vFZAmSTAghhBDCJnh7qy/U4+K6ER/fzqqxODk5Ua9ePUCdTPj4+HD//n2rzRKkKArbtq1jzZrFvP/+SLp164tKpbJKLLYkrUvaAwoUSFtuzS5pqampDBs2jO+//167bO/evdSqVSvXY8kNkkwIIYQQwuoKF56KnV0UAJGRi60cjW2Jjo7mk0+GUK3aOc6ejWH27DmMHr2fadOWUahQIWuHZ3UZu6QB3L6dYpUuacuXL2fatGna119++SX+/vl7wL4kE0IIIYSwKienI7i5rQDg3r1b1g3GxoSEnGPu3KHMmhWqHWT8ySfRHD2qnq1o7Nil1KlTz8pRWlf6LmkatWqpxybklj/++INevXppXwcFBTFx4sRce39rkmRCCCGEEFZjZ/cID493AHjw4ATgaN2AbIxmtqKSJXWXa2YrCgycxOrVP1snOBuRvktabrt27RpNmzbVvm7UqBHfffcdjo4vzvdYpoYVQgghhJUoeHvXBODJky9JSSlj5Xien7krMUsBPdsUFRVF9erVtYmEm5sbf//9N1u3bn2hEgmQZEIIIYQQVuLp+ToAz56159mzvN+v3BKVmKWAnm1JTk6md+/eVK1alSdPngBw8OBBrly5gru7u5Wjsw5JJoQQQgiR6woVmo+Dwz0AnjxZaeVonp+lKjFLAT3bsWDBAsqWLcvvv/8OwDfffENoaCivvPKKlSOzLhkzIYQQQohc5eR0mkKFFgFw794N6wZjJpYc22BLsxW9iH788UcGDx6sfT1u3DiCg4OtGJFtkWRCCCGEELlGpYrEw0PdNefBg0NAgax3yCMsWYnZFmYrehH9/ffftG3bVvu6ffv2LF++HDs76diTniQTQgghhMglCj4+1QB48uQzUlIqWTke87FkJWZrzlb0Inr48CF16tQhNVU9FW+pUqU4ePAgbm5uVo7MNkkyIYQQQohcUaJECwDi45vx7Nk7Vo7GvGyxErPImcTERAICAjh//rx22fHjxylbtqwVo7J9kkwIIYQQwuLc3L7E0fEqAI8ff2flaCxDxjbkTYqiMGXKFNasWaNdtmXLFnx9fa0YVd4hyYQQQgghLMrR8QKFC88G4N69a1aOxnJkbEPes2XLFkaPHq19PXPmTPr372+9gPIgSSaEEEIIYTEq1VNKlHgLgPDwA4CLdQOyIBnbkHecOXOGLl26aF+/++67zJs3D5VKZb2g8ihJJoQQQghhMT4+6jn4IyNnkpz8qpWjES+60NBQXn/9de3rV199lR9++AEXl/yb5FqaJBNCCCGEsAgPjw4AJCS8Rlxcf+sGI15oz549o23btly/fl277OzZs/j4+FgxqvxBJsoVQgghhNkVLLgaJ6cQAB492m3dYMQLS1EUhg8fTqVKlbSJxA8//EBoaKgkEmYiyYQQQgghzMrB4R+KFJkCwP37V60cjXhRrVq1itKlS7Njxw4AFi9eTGhoKHXr1rVyZPmLdHMSQgghhNmoVM/w9GwDQETEzyhKQStHJF40hw8fpmfPntrXgwcPZsqUKVaMKH+TZEIIIYQQZuPjo65qHRU1iaSkmlaORrxIbty4QePGaVPzvvHGG2zatAlHR0crRpX/STIhhBBCCLMoXrwHAElJrxIbO8TK0YgXRXR0NE2aNCEiIgIAZ2dnzpw5Q7Fixawc2YtBkgkhhBBCPDdX1+8oUOAoABER+60cjXgRpKSkMGDAAA4cOKBdduDAAV59VaYgzk0yAFsIIYQQz8XB4X8ULToGgPv3LwNS+EtY1sKFCylTpow2kVizZg2hoaGSSFiBPJkQQgghxHOIx9OzGQAREd+jKIWtG47I137++WcCAwO1rz/++GNGjhxpvYCEJBNCCCGEMF3JkhUBiI7+iKSk+laORuRXly5donXr1trXbdu2ZeXKldjb21sxKgGSTAghhBDCRO7u7wGQnFyGp09HWTkakR89evSI+vXrk5iYCIC3tzd//PEHhQoVsnJkQkOSCSGEEELkmIvLDlxc9gEQHn7cytGI/CYxMZEePXpw+vRp7bKjR49Svnx5K0YlDLGpZGLXrl2cPn2a0NBQnJycqFy5Mr1796ZkyZLabT799FMuXbqks1+rVq0YNGhQpsdVFIWtW7fy22+/ERsbS5UqVQgMDJQy6kIIIYQJ7O1v4e4+HID79y8iA66FOX366aesXLlS+3rTpk00adLEihGJrNhUMnHp0iXatm1LxYoVSUlJYdOmTcyYMYPPP/8cZ2dn7XYtW7akR48e2tdOTk5ZHvf777/n559/ZujQoXh6erJlyxZmzpzJ559/nu2+QgghhEgvCS+vRgA8fLgNRZG5/IV5bNu2TWcw9fTp0xkwYID1AhJGsalkYuLEiTqvhw4dSmBgIDdu3KBq1ara5QUKFKBo0aJGHVNRFPbu3UvXrl157bXXABg2bBgDBw7kzJkzNGrUyGzxCyGEEPldyZLlAIiJCSIx8U3rBiPyhZMnT/LGG29oX7/99tt8/vnnqFTyxCsvsKlkIqO4uDgA3NzcdJYfOXKEI0eOULRoUerVq0dAQAAFChQweIzw8HAiIyOpWbOmdpmrqyuVKlXi6tWrBpOJpKQkkpKStK9VKhUuLi7a/xc5o2kzaTvzk7a1HGlby5G2tYzcaNeiRYcBkJJSjKdPJ/GifITynbWM+/fvU69ePe3rypUrs3fvXlxdXa0YVf6RW99bm00mUlNTWbt2La+88gplypTRLvf19cXDw4NixYrx33//8d1333Hv3j0++ugjg8eJjIwEoEiRIjrLixQpol2X0a5du9i+fbv2dfny5Zk7dy4lSpR4vpN6wXl7e1s7hHxL2tZypG0tR9rWMizXrtuBnQDY20fg4/Pi1b2V76x5PHv2jNdff52///5bu+zOnTuULl3ailHlX5b+3tpsMrF69Wru3LnDtGnTdJa3atVK+/9lypTB3d2dadOmERYWZrbG8vf3p0OHDtrXmowuIiKC5ORks7zHi0SlUuHt7U1YWBiKolg7nHxF2tZypG0tR9rWMizZrnZ2d/Hy6g7Agwd/kpr6wKzHt3XynTUPRVEYNWoUW7du1S774Ycf6NChA2FhYdy/f9+K0eU/xn5vHRwcnuuGuU0mE6tXr+b8+fNMnTqV4sWLZ7ltpUqVADJNJjRjK6KionB3d9cuj4qKoly5cgaP6ejoiKOjo8F18kvEdIqiSPtZiLSt5UjbWo60rWWYv12T8fJ6HYBHjzaQkuIBvJifm3xnTbdmzRomT56sfb1w4ULefvtt7Q1baVvLsXTb2tQzSkVRWL16NadPn2bKlCl4enpmu8+tW7cAdBKF9Dw9PSlatCgXL17ULouLi+PatWtUrlzZLHELIYQQ+ZWPTzkAYmP7k5DQ3LrBiDznyJEjlCpVSptIBAYGcvfuXd5++20rRybMxaaeTKxevZqjR48yZswYXFxctGMaXF1dcXJyIiwsjKNHj1K3bl3c3Ny4ffs269at49VXX6Vs2bLa44wcOZJ3332X119/HZVKRfv27dm5cyc+Pj54enqyefNm3N3dtbM7CSGEEEJfkSJjUKkUFKUAUVEzrR2OyENu3bqlM8lN/fr12bZtm0zJnw/ZVDKxb5+6kuann36qszwoKIhmzZrh4ODAxYsX2bt3LwkJCRQvXpwGDRrQtWtXne3v3bunnQkKoHPnziQkJLB8+XLi4uKoUqUKEyZMkC+0EEIIkYkCBfZTsOB3ANy//z8rRyPyipiYGJo1a0ZYWBigrgV29uzZbLuti7xLpUgHNaNFREToTBkrjKNSqfDx8eH+/fvSH9LMpG0tR9rWcqRtLcOc7Wpn9wBv77oAhIWdITW1pDlCzLPkO5u91NRUBg4cyC+//KJdtm/fPqpVq5blftK2lmNs2zo6Oj7XAGybGjMhhBBCCGtL1SYSjx+vfuETCZG9xYsX89JLL2kTiZUrVxIaGpptIiHyB5vq5iSEEEII6/L2rgpAXNzbxMf7WTkaYcv27dvHe++9p309evRoPvzwQytGJKxBkgkhhBBCAFC48KfY2cUAEBm50MrRCFt15coVWrRooX3dsmVLvvnmG+zt7a0YlbAWSSaEEEIIgZPTYdzcVgJw794t6wYjbNLjx495/fXXefbsGQAeHh4cOXKEwoULWzkyYU2STAghhBAvODu7R3h49ATgwYMTgOHCreLFlJSURM+ePTlx4oR22eHDh6lYsaIVoxK2QgZgCyGEEC80BW/vmgA8fvwVKSllrByPsCXTp0+nXLly2kRi48aNhIaGSiIhtCSZEEIIkacoisLWrWvx86vDtm3rjJ5O0tT98jsvr/oAPHv2FvHxna0cjbAVO3fupFSpUnz99deAugZYaGgoTZs2tXJkwtZIMiGEECLPiI6OZvTo3kRHz+Hs2XAiI+cwenQfYmJiLLJffleo0Dzs7dXFxZ48WWHlaIQtCAkJoVSpUgQHBwPQtWtX7t69y8CBA60cmbBVMmZCCCFEnhASco65c4cya1Yovr6pAHzySTRHjx5i4MDWjB27lDp16pltv/zOyekUhQotBuDevRtWjkZYW1hYGPXqpf07qFChAr/++iuurq5WjErkBfJkQgghRJ6wZMlENm++o00INHx9U9m06Q5ffjnJ5P1etC5QKlUkHh5dAXjw4DBQwLoBCauJj4+nVatWOonE6dOnOXLkiCQSwiiSTAghhMgTmjbtwokThuexP3HCnqZNu5i0X4MGfi9YFygFHx91ZeInTz4nJUUG0r6IFEXh448/pmLFily+fBmA3bt3ExoaSqlSpawcnchLJJkQQgiRJ/j5+bNjh4fBdTt2eODn55/j/VauLMyBAxsIDj7MlCkxODmpu0AFB6u7QIWEnDNb/LaiRIlmAMTHN+fZsx7WDUZYxbfffkvp0qXZuHEjAJ999hmhoaG89tprVo5M5EWSTAghhMgTvLy8iIgoSkKC7vL4eHj0yB1PT88c73frVhxbt97LcdepvMrNbQmOjtcAePx4g5WjEbnt+PHjlCpVivHjxwPw3nvvcffuXd555x0rRybyMhmALYQQIs9o3LgTwcHLKFMmrdvS7dsp+Pp2Mmm/V1+tz4kTRwgISNHbJ6uuU3mRo2MIhQvPAeDevWtWjkbkptu3b/PGG29oX9epU4cdO3ZQoICMlRHPT5IJIYQQeUbfvkFcvNhYZ1mtWlCjRg2T9vPy8mLRok4EBDzQ22fHDg/GjjXcdSqvUaliKFGiAwDh4b8BLtYNSOSKp0+f0qJFC0JDQwGws7Pj/PnzlChRwsqRifxEkgkhhBB5hpOTk86sM+bYT90F6gHpb9Jm13Uqr/HxqQJAZORMkpOrWDkaYWmpqakMHjyYvXv3apf9+uuvVK9e3YpRifxKkgkhhBAvNFO7TuUVHh5vAZCQ8Dpxcf2tG4ywuKVLlzJr1izt66+//pqOHTtaMSKR30kyIYQQ4oVmatepvKBgwZU4OV0A4NGjXdYNRljUgQMH6Nevn/b1iBEjGDNmjBUjEi8KSSaEEEK80EztOmXrHBz+oUiRTwG4f/+qycdRFIVt29axZs1i3n9/JN269UWlUpkpSvG8rl69SvPmzbWvmzdvztq1a3FwkEs8kTtkalghhBAin1Gp4vD0bANARMQvKEpBk44THR39ghX0yzuePHlClSpVtIlE0aJF+eeff9iwYYMkEiJXSTIhhBBC5DM+Pi8DEBU1maQk07prhYScY9CgNi9UQb+8IDk5mR49elC9enVtUnfo0CH++ecfihYtat3gxAtJkgkhhBDCRimKwtata/Hzq8O2betQFCXbfYoV6w5AUlJVYmM/MPm9lyyZyObNd16Ygn55wezZsylbtixHjx4FYP369YSGhlKpUiUrRyZeZJJMCCGEEDbItC5GKyhQ4BgAERH7nuv9mzbtwokT9gbX5beCfrbu+++/p1SpUnz55ZcATJ48mdDQUFq0aGHlyISQZEIIIYSwOaZ0MXJw+B8wGID79y8DzzdI2s/Pnx07PAyu27HDAz+//FHQz5b99ddflCpViqCgIAA6d+7MnTt3+OAD0584CWFuMkJHCCGEsDGaLkYlS+ou13QxCgycxOrVP6dbE0+JEk0BePhwD4pS+Llj8PLyeiEK+tmi8PBw6tSpo31drlw59u/fj6urqxWjEsIwSSaEEEIIG6PuYnSJgIAUvXWGuhiVLFnx//9vGklJ9YHsx1YYI78X9LM1CQkJdOnShb/++ku77NSpU5QuXdqKUQmRNUkmhBBCCBvj5+fP/PkrCAh4oLduxw4Pxo5N62Lk7v4eAMnJZXFwmAzcN1sc+bmgny1RFIXx48ezfv167bKdO3fSoEEDK0YlhHEkmRBCCCFsjLFdjFxctuPioh5oHRFxHB8f88aRXwv62ZINGzYwduxY7et58+bRq1cvK0YkRM5IMiGEEELYoOy6GNnb38TdfQQA9+9f5HkHXIvcdfLkSQICArSv+/bty6xZs6S6uMhzJJkQQgghbFDWXYwS8fLyBeDhw20oSjHkGjRvuHPnDg0bNtS+rlWrFrt27aJA+kdQQuQhkkwIIYQQNiirLkYlS5YCICZmKImJb+ZmWMJEsbGxtG7dmv/++0+7LCQkRGbFEnme1JkQQggh8pCiRYcBkJJSnJiYCVaORmQnNTWVoKAgKleurE0kfv75Z0JDQyWREPmCJBNCCCFEHuHs/COurrsAePDggnWDEdn6+uuveemll/j+++8B+OqrrwgNDaVmzZpWjkwI85FkQgghhMhFiqKwdeta/PzqsG3bOhTFuJoQ9vZ3KVZMXeE6LOwC8ifcdh08eJBSpUoxffp0AIYNG0ZoaCidO3e2cmRCmJ/8JhJCCCFySXR0NKNH9yY6eg5nz4YTGTmH0aP7EBMTk82eyXh5qWsOPHr0HampJSwfrMixa9euUapUKfr06QNA48aN+e+//xg/fryVIxPCcmQAthBCCJELQkLOMXfuUGbNCsXXNxWATz6J5ujRQwwc2JqxY5dSp05mA67LAvD06XskJDTLrZCFkSIjI2nUqBGRkZEAFC5cmOPHj+Pu7m7dwITIBfJkQgghRJ5iajcha1uyZCKbN9/RJhIavr6pbNp0hy+/nGRwvyJFxgCgKM5ER8+weJzCeMnJyfTq1Ytq1appE4nff/+dy5cvSyIhXhg29WRi165dnD59mtDQUJycnKhcuTK9e/emZMmSADx9+pStW7fy559/8vDhQwoXLsxrr73GO++8g6ura6bHXbp0KYcOHdJZVqtWLSZOnGjR8xFCCGFe0dHRfPLJEKpVO8fZszHMnj2H0aP3M23aMgoVKmTt8LLUtGkXTpy4REBAit66Eyfsadq0i97yAgX2U7DgdwDcv3/V0iGKHJg3bx6LFy/Wvl63bh2tWrWyYkRCWIdNJROXLl2ibdu2VKxYkZSUFDZt2sSMGTP4/PPPcXZ25vHjxzx+/Jg+ffpQunRpHj58yMqVK3ny5AkffvhhlseuXbs2QUFB2tcODjZ16kIIIbLxPN2EbIGfnz/z568gIOCB3rodOzwYO9ZfZ5mdXRjFi/cHICzsLGCvt5/IfT/88AMffPCB9vWECRMYOnSoFSMSwrps6oo645OCoUOHEhgYyI0bN6hatSplypTho48+0q739vbmnXfeYcmSJaSkpGBvn/kvWgcHB4oWLWqp0IUQQliYppvQ/z+s1tJ0EwoMnMTq1T9bJzgjeHl5ERFRlISEB6QvdhwfD48euWeoOZCKt7c6MXr8eA2pqT65G6zQExISQt26dbWvO3TowLJly7Czkx7j4sVmU8lERnFxcQC4ublluY2Li0uWiQSon3oEBgZSsGBBqlevzjvvvJPpI/GkpCSSkpK0r1UqFS4uLtr/FzmjaTNpO/OTtrUcaVvLMbVtmzXLuptQs2ZdbPbzUhSFbdvWcfPmXYYMKUCFCs7adbdvp+Dr20kndi+vVwGIi+tBQoIfxpyWfGctIyIigtq1a2vH5pQuXZqDBw9meW0ijCffW8vJrbZVKTY6ci01NZV58+YRGxurnac5o+joaMaNG0fjxo3p2bNnpsc6duwYBQoUwNPTk7CwMDZt2oSzszMzZ840eEdh69atbN++Xfu6fPnyzJ079/lPSgghhMnu37/PmDH1WL/+vt66tm3taN9+JsOHj7W5i5KoqCiCg3tQufJJRo6MYvTogty9W4MPP5xBwYIFAahbty5OTk7/v8coYNH//79N/ol+LoqisG7dMhYvns7IkVPo2/cDm/vMABISEmjSpAmnT5/WLrtx4wbly5e3YlRC2B6bTSZWrlzJhQsXmDZtGsWLF9dbHxcXx4wZM3Bzc2PMmDE5GgPx4MEDgoODmTx5MjVq1NBbn9mTiYiICJKTk007oReYSqXC29ubsLCwPDPrSl4hbWs50rZpNHfV16xZxPvvj6Jbt77PdfH3PG3bt28LfvzxX71uQl27QoMGhbl0qR7Tp39tM4OxNeM8Zs68qzOL09GjdkyYUIpx477SGefh5HSI4sXVN8fu379NTjoQ5IXvbHR0NFOmfEC1aucYNy6G2bNt7zNTFIVJkybxzTffaJft2LGDrl272nTb5lV54XubVxnbtg4ODpQoYXrtGpvs5rR69WrOnz/P1KlTDSYSz549Y9asWbi4uPDRRx/leDC1l5cXhQoVIiwszGAy4ejoiKOjo8F95YtuOkVRpP0sRNrWcl70tk0/e9KZMzHMnj2bUaP2mWX2JFPatnHjjgQH36VUKYX4+DhcXBTu3YM2bWDkSPVg7MDAVjYzGPuLLyawadPtLMZ5TNSO87Cze6RNJB48OImi2GPKkwlb/c5mNYDeVj6zzZs360zoMnv2bPr2TUuebbVt8wNpW8uxdNva1KghRVFYvXo1p0+fZsqUKRkGo6lpnkg4ODgwZsyYdI+Fjffo0SOePn0qc0ALIUQWQkLOMWhQG4KDDzNlSgxOTuqLv+Bg9exJISHncj2mvn2D6NhxIz//7M2bbyq0aQP9+4Nmsr7sajbkNvV0sIbH9OlOB6vg7V0TgMePvyIl5aXcCTAXmVpnIzecOXOGUqVKaROJXr16cffuXfr27Wu1mITIK2wqmVi9ejVHjhxhxIgRuLi4EBkZSWRkJImJiYA6kZg5cyYJCQl88MEHPHv2TLtNamraL6eRI0dq+zjGx8ezfv16rl69Snh4OBcvXmTevHl4e3tTq1Ytq5ynEML25NVCaJZkixd/Tk5O1KtXj86d3yUx0Z6GDaFhQ0h/Xymzmg3W4Ofnz44dHgbX7djhgZ+fejpYL6/6ADx71oH4+M65Fl9uMj6xyj2hoaGUKlWKLl3U712tWjWuX7/OvHnzbHIchxC2yKa6Oe3btw+ATz/9VGd5UFAQzZo14+bNm/zvf/8DYPjw4TrbfPnll9onGffu3dPOBGVnZ8ft27c5dOgQsbGxFCtWjJo1a9KjR49MuzIJIV4shgqhjRq1n5Urd1s7NKsypchabslpzQZrMWY62EKF5mJvHwbAkyfLrRSp5dnSZxYXF0fbtm25ceOGdtm5c+fw9vbOtRiEyC9sKpnYunVrluurVauW7TYZj+Pk5CSVroUQmcqqH3fnzrX4+OMl1K5dN5uj5E+2dPGXUc5qNlhX48adCA5eRpkyaXflNdPBOjmdolChLwC4d++mtULMFbbwmSmKQnBwMLt27dIu++mnn6hdu7bF31uI/MqmkgkhhMhtWRVC27Dhls4A2ReNLVz8ZSWri3Rb0rdvEBcvNtZZVqsW1Kr1Eh4edQB48OAwkPMxgHmNNT+zlStX6vR8+PLLL/H3t40nWELkZZJMCCFeaFl15Tl5Ul0I7UVmyxfsGS/SFUXh8eO9bN/+DUWKFH3uKWzNRTPOQ5dCyZKlAXjy5HNSUirmfmBWkFliZWhmRXM5dOgQ7777rvb1kCFDmDTJNgboC5EfSDIhhHihZdWVZ9cuTz7+uKsVorId1rj4M1b6i3RD415Gj95vlilsLaFEiaYAxMe34NmzHlaOJvcYTqws4/r16zRp0kT7+o033mDTpk0yXlIIM5NkQgjxQsuqK8+TJx54enrm6sxOaQXiFvP++yOtfnc9Ny/+TJXVuJeBA1vbRP2C9NzcvsDR8ToAjx+vt3I0+U90dDS+vr48evQIAFdXV06dOkWxYsWsHJkQ+ZMkE0KIF15mXXlat347V+PIa3fXbUVW417UheEm2cy4F0fHEAoXngvAvXvXrBxN/pKSkkL//v05ePCgdtnBgwd55ZVXrBiVEPmfJBNCiBeeoa48tWuraNOmjfbupqXltbvrtsSWp7BNT6WKoUSJDgCEhx8EXKwbUCZs7emYMT777DM+//xz7etvvvmGNm3aWDEiIV4cNlW0TgghrEHTlSfjj5NT7s2uYysF4vJi8T5jC8NZm49PFQAiI2eRnGybd8ujo6MZPbo30dFzOHs2nMjIOYwe3YeYmBhrh2bQ3r17KVWqlDaRGDt2LKGhoZJICJGLJJkQQggbYO3qwIqisG7d1zRpUp5Hj6bniQtJjbRxL7rLbWUKWwAPj/YAJCQ0IC6un5WjMSwk5ByDBrUhOPgwU6bE4OSkfjoWHKx+OhYScs7aIWr9888/lCpVioEDBwLQrl077ty5o1fQVghhedLNSQghbIA1C8RFR0cTHPwuDx9eYN06BV/fJCBvdbN63ilsLdm1p2DBlTg5/QnAo0c7zXJMS8gLY08ePnxIvXr1SE5OBsDHx4fff/9dxhQJYUXyZEIIIWyAte6ua+5GJyeH8NNPCr6+uutzu5uVqfr2DaJjx43UqrVe+9Ox40b69h2S7b6W7Nrj4PA3RYp8CsD9+1ef+3iWZO2nY1lJTEykc+fO1KpVS5tIHDt2jLNnz0oiIYSVyZMJIYSwEdYoEKe5G717N5w8CV0NlNWw9oWkMUydwtaSA99Vqjg8PdsCEBHxC4pS0KTj5BZrPR3L6qmQoih88sknrF69Wrv9li1b8M2Y9QohrEaeTAghhI14nrvrptLcjfb3h127DG9jS4OYzc2SA999fF4GICpqMklJ1i/yl56hgfbWeDqW1VOhrVu3Urp0aW0iMWPGDEJDQyWREMLGyJMJIYSwEdYoEJf+bvSjR5CQgF7xPlsZxGwJlppWtnjxbgAkJVUjNvaD5wnR7LKqZ5KbT8cyeyq0fPkfVKlSRbtdjx49+Oyzz2x+elohXlSSTAghxAssfQXwNm1gxAgoUwYUBZ4+tePRI1eLdrOyNkt07XF1XU+BAicAiIj49bljNKfsunWNHr2YOnV0a67UqgU1apj/yUrGAd9378JLLwGopyN2c3PmwoW/cXGxzXocQgg1SSaEEOIFp7kbXbKkHYqSwn//QVhYKp6eAXTq9LZFLiRtRfpkyhxPZBwcrlK06DgA7t+/DNjW3fTsZ2z6NNdmbNI8FWrXLoX69eHy5bR1X39tx5MnYySRECIPkGRCCCFecIYqgIP6bnROCvflxcrJYM6B7/F4ejYHICLiexSlsBmjNA9ju3XlxmfZtm0XAgLm061bWiwnT0KDBtCzZwmLTocshDAfGYAthBAvOHNUAM9rlZPTM9fA95IlKwIQHf0RSUn1DW5j7QrjxlQLz43Pcs2aNdSrV49bt+IBWLdO3bWuQYP8P05HiPxGnkwIIYR4LpacXjU3mGPge7Fi/QFITi7H06ejDG6T1cDn3KqVkF23rtDQOxb9LA8fPkzPnj21r994oz7Vq//L7dv2zJihXmbp6ZCFEOYlyYQQQojnYo7KyXm1ixSAi8s2nJ33AxAeftTgNraUcGXVrctSVbBv3rypM6VrgwYN2Lx5MwAXL17U2dZSA76FEJYhyYQQQojn8rzTq9rCHXtT2dvfxN19JAD3718kswHXplykWyrBMjRGRnMB7+hYwKxT5cbExNC0aVMePFDPluXs7MyZM2coVqyYdpvcng5ZCGFeMmZCCCHEczGmH35mQkLOMWhQG4KDDzNlSgxOTuo79sHB6jv2ISHnLBW2GSTi5aW+2/7w4XYUpVimW2qKAxpi6CLdkuMWMo6RqVu3LtevX6RTpwYkJSWxY0dxg/vlpHhhSkoK7733HlWqVNEmEgcOHOD69es6iYQQIu+TZEIIIfKp3Brs+zyVky1ZgVrDUu1QsmR5AGJihpGY+EaW2+Yk4crNBCtj0qIoX/HXX7HPVQV70aJFlClThn379gGwevVqQkNDefXVV80WtxDCdkgyIYQQ+VBWd7YtcXGt7ofvxowZRbQ/w4e7ZTuQNqd37HMqfTucORPO0aPT8PWtwPr1y5/rvIsWHQpASooHMTHjs90+JwlXbiRYkHnS0qpVLIGBKqZOLZijz/KXX36hVKlSzJ8/H4CPPvqI0NBQ/Pz8zBKvEMI2mTRmQlGUbPttxsXF4erqalJQQgghTJfVYN/33mtJkSKevPHGNbOOT8iqH76hvv9r137FwoVT6d79fbZvL05AQLjeMU2tQK2Rvh1q1Ehl4ECoVSue776DSZOmExj4I4sWbczxeTs7/4Cr624AHjy4YPR+xtazeN4xKMbKbBzHvHnwyy8Ks2d7M2HCQiDrQdH//vsvLVu21L5u3bo1q1evxt7ecJIohMhfTHoyMWXKFMLCwjJdHxISwocffmhyUEIIIUyX2Z1tJ6dUHBxCGT8+xOzdZzKrVREfH6/zhOTJk9m0a1eTa9fGc+ZMOCkpS7lwIZaICN3jmaPWgKYdnJxS8feHwYNh0iRwcoJ58xTGjz+f4/O2t79LsWIfABAW9ic5qXBtbD2L5xmDkhOZPRVycoLERHs6d+6VZd2Rx48fU7FiRW0i4eXlxeXLl1m7dm22iYS1620IIczHpGTiwYMHfPzxx/zyyy86y589e8bXX3/NnDlzcHd3N0uAQgghciazi8Tp02HzZmjSRHe5ubvPaBjqRvPppzF89dVjjh2L5sIFdTKzYkUsLVqo+OCDnHWryY6mHaZPhw0boFEj3fVNmpDD807Gy6sBAI8efUdqquEL/swYWxzwecag5ISpSUtKSgoBAQHUqFGD+Hh10bmjR49y/vx5ChfOvup3Xi5wKITQZ1Iy8fnnn1OvXj2++eYbpk2bRkREBH/99RcfffQRR44coUePHszQVJ8RQgiRqzK7SGzXDo4dM7yPObvPaGTe9199ca/5M9G4sbpbzaVLPs9VgTojTTv4+cHx44a3ycl5Fy06BoCnT98nIaGZwW3Mdcfd1DEoOWFK0nLo0CHatm3LyZMnAdi0aROhoaGUL1/eqPfM27N3CSEMMWnMhJubGyNHjqRhw4asXr2a0aNHk5iYSPny5Rk7dixlypQxd5xCCCGMlFmV43btYOhQe7p31++L/7zjEwzJqu//yZPqeDROnLCnfft3zVZzQFEUDh36mSNHIvjvPyhRArp109/O2PMuUGAfrq5biIkZQUzMGIPbGFMvw9jaEVmNQTEnY8dxXLp0iRkzZnDo0CFee+01duzYQcOGDXP8fpYqiieEsJ7nKlpXtGhRnJ2diY6OBqBcuXJme/wqhBDCdJldJIaHO5OQ8FAnyTB39xkNPz9/5s9fQUDAA711u3bBggVpr82ZzGgu6osUOUWlSqlMnQpz5kBCAgbPu0SJEmzdujbTC3x7+2u4uw/n2TM/YmI+MviexlS4rljxZZ1kY9as2fTo8Q1RUZEEBo7SeV9NlyhLyy5puXfvHvPnz2fbtm2UK1eOVatW4efnZ3LxvNwaXC6EyD0mJRNJSUls2rSJn3/+mdKlSzN79mwuXLjAjh07+OeffxgyZAhVq1Y1d6xCiBeQpaoA53eZXST6+PxBcPCKbO9Em0NmT0ji4+HJE/D2TnttrmQm/UX93LmpfPcdlCwJ58/DiBGgeXCemgpXr9pRv35bRo/unenTBJXqKcWKBZKS4kVk5CIy6x2c3R33nj1HAwnaZCMqCm7ciKFVqxgmTIAZM2Zapep3ZklLTEwMCxcuZMWKFbi6ujJjxgx69eqFo6Pjc71fVgmmJZ6OCSEsz6RkYsyYMYSFhdGpUye6d++Og4MDFSpUoF69enz11VdMmzYNPz8/+vfvb+ZwhRAvEmO6jQjDMrtIrFGjBhcvNtNZZonuMxoZn5AkJMRz+3YCjo4FmDHDGTBvMpP+ov6vv9Tdqbp2haAgdUKhcfCgHXFx7Tl6dGcWTxOW0KLFcuzt7xMR8ROKkvl3Lrs77jExT/nppzBKloTTp2HcOPWAeM2g8GnTYnWeYtSpY/mnEoYkJSWxceNGPvvsM2JjYwkMDGTo0KFGDaw2RlYJpjmfjslNCCFyj0oxYXTYqFGjGDp0KJUqVdJbl5KSwo4dO9i9ezcbN240S5C2IiIigqSkJGuHkeeoVCp8fHy4f/++TP9nZvm5bQ11GwE4etSOCRNKWfyCKz+3bW5KTEzk4sWL2tfJyclcv36dBg0aEBUVpW3bGjVq6M1qZIp1676mcuVZBASkcP8+jBkD69frb9ezpxfh4cVYv/6y3tMEgNBQ2L/fm/79w3j8eA3x8W2zfN8HDx4wf347Nm7Uv+Pes6cX5cu/S716XxAQkELHjrB8OZm+b2BgTZPGDTzPd1ZRFPbt28fMmTO5ceMGAQEBjBkzhlKlSuU4juysWrWIu3f1u+CVLh1EYOCI5z5++psQ48bFMHt2YS5dqvdcNyHk94HlSNtajrFt6+joSIkSJUx/H1OSicTExGx/6d+8edPo2R3yCkkmTCO/KCwnP7ftgAF+rFlz0ewXXMbKz21rbZZs24wX9e3bq8dnZLwL3qlTFZo3765NPDI6csQOX99Unj4dSUzMx0a9d79+LfjxxysG32vu3I3auL76St3Fq2tX/WNs327PtWsT6dt3cI7OW2Pfvt0sXDiVAQOMvxt/4cIFpk+fzsmTJ/H19WXy5MlUr17dpPc3RsYEU8McCaWlbkLI7wPLkba1nNxKJozq5vTw4UMAPDzUUw1qBlxnRbogCCGehwzUFMYw1J0lfTeaNm3UYyVeegmePrWjYMFC2m5VWfXfr1NHITral9hY4wuwZjUzUvruPf7+6icmhpIJU8cNaO7G16gRwpkzUUZ1Cbx9+zZz5szh+++/p0qVKqxfv57mzZtbvDuQJQeXy2xRQuQ+o5KJoUOHAvDdd9/h4OCgfZ2dLVu2mB6ZEOKFJgM1rSMv9TXPbEzN66/7ERwcSpky9iQnKyhKCqdPp+LpGcCbb76tHSPi5ORksP9+aipERTlgZ7eCnJRjym5mpPTJxuXLMSQkpGY5bsDYz8KYmaTS342PjIzkiy++4JtvvsHd3Z0FCxbw9ttvZ1u1Oi+QmxBC5D6jkokhQ9SFgzS/aDSvhRDCUnJroKZIk5cGvGd1AT1u3P/w959C5cpVdPYx1I1G92mCgr//MypWTGLPnt507lwkRzFld8c9fbJx9+4WgoJ2UqaMHXZ29qhUKp2B6Dn5LIy9G5+QkMDatWv54osvSExMZPjw4QwePBhXV9ccnactk5sQQuQ+k8ZMvKhkzIRppD+k5eT3trX0QM2s5Pe2zciUvuamPsUwR9uaa0xN+v77FSrsolq1bzh7dgweHkOM7r9vSjto3ldRFP74Yy+//LKVdu16MGzYGC5d+jtHn0X6QecZbd9uz9Wr47ly5X9s2rSN5GSFd999l48++ijfJuRZjV1Zu/a3TPfL6nN80X4f5CZpW8uxqTET6SUkJDBlyhRatmxJmzZtTH5jQ3bt2sXp06cJDQ3FycmJypUr07t3b0qm+2uRmJjIt99+y/Hjx0lKSqJWrVoEBgZStGjRTI+rKApbt27lt99+IzY2lipVqhAYGIiPj49Z4xdCmFduVQEWOe9rbu2nGObqzqJ5muDkdITixdcREzOUkiWNT1RNbQcnJydefjmtiN2FCzHMnr2RceOu8OjRgxx9FlndjV+yxI2//lpEZORT2reHcuUK8vDhPZydnbMs1JeXGVvVOz1rf5+FyMuM7wz6/woUKEB4eLhFfulcunSJtm3bMnPmTCZNmkRKSgozZswgPj5eu826des4d+4co0ePZurUqTx58oTPPvssy+N+//33/PzzzwwcOJBZs2ZRoEABZs6cSWJiotnPQQhhPpoLvYw/5phCVOhSX5wb7jOf8eI8JOQcgwa1ITj4MFOmxODkpO5iFBys7qMfEnLO5DjUN3/W4udXh23b1mV6N83Pz58dOzwMrtuxwwM/P+O7s9jb38XdfQgJCb7ExIw1er/naYes9n30KJRvvzX8N9ZQopTWJTBt2ZUr0KQJHD4chafnUw4ehJ9+gqVLYwkOPkRAQB0uXZrB2bPhREbOYfToPnz77dfZtnte0LdvEB07bqRWrfXan44dN9K3r+Eu2pb8PgvxIshxMgFQu3Zt/vzzT3PHwsSJE2nWrBkvvfQS5cqVY+jQoTx8+JAbN24AEBcXx8GDB+nXrx/Vq1enQoUKBAUFceXKFa5evWrwmIqisHfvXrp27cprr71G2bJlGTZsGE+ePOHMmTNmPwchxIvN2IthW5OTi3PNU4z0XXAg7c75l19OMimG6OhoRo/uTXT0HJ2L3JiYGL1tDV1Agyljap7h7v4+iuLGkydLAeMHIT9PO2S1748/RrFhg+E4MkuU1Hfj3ZgwoTANGjhRtaq6YN+SJXD5MjRvrvse+/bFExb2THvhPHTo72zZMoNly7Ju97wgpzchLPV9FuJFYVIyERAQwP3791myZAn//vsvjx8/5unTp3o/zysuLg4ANzc3AG7cuEFKSopOF4dSpUrh4eGRaTIRHh5OZGQkNWvW1C5zdXWlUqVKme6TlJREXFyc9ufZs2fadSqVSn5M+JG2k7bNiz85bduYmBiDF8NPnz61+rlk9+Pt7U1EhHumF+deXl7abZs168Lx43asXQt16sC6daDJmU6csKdZsy45btsLF84zeHDbTO8OX7hwXu8YTZp0JjjYjRkzimh/hg93w9e3k5HnDUWLjsfB4RpbtnTGz68l27d/a/Tn3qxZ1k9zsmqH7Pa1tzfus9D8vP32ABISurJ4cTL//ONIv37vMWBAH3x87LEz8Jf+5Elo1y7tdZMm8OOPCnPnZt/u+e3H2M9Rftda7kfa1rpt+7xyPGYC4MMP1fNu3717l6NHj2a63fNMDZuamsratWt55ZVXKFOmDKCezs7BwYGCBQvqbFukSBEiIyMNHkezvEgR3Vk5stpn165dbN++Xfu6fPnyzJ0797kGpwjw9va2dgj5lrSt5RjbtqdPn2TcuHeZPv0/GjVKm13o2LFDDB7clrlzN/H66w0tGepze+utXowYMU+vr3n79r10xpj5+/eiR4+5dOuWyKlTMHcu9O+vvgu+e7cnCxYMMard0m8zaNCnbNp0O9NxAkOGfMqePWd11o0dO53z5/Xv0tetW9fIrnBLgG0sW1aDR4/Wc+ZMFHPnzmHcuD94443WrFixgJEjp9C37wfaP7iKorBu3TIWL55O//4j2L3bk4CA+3pHzq4d+vUbwpgxqzLdNyCgDyNG6Pf7z/hZpKSksGHDBiZNmkRYWBhDhw5l0qRJeHh4cP/+fcaMOWDwPXbtggULdJelTzCyavf8JrvPIv3nKL9rLUfa1nIs3bYmJRMBAQFmyWSysnr1au7cucO0adMs+j6G+Pv706FDB+1rzblGRESQnJyc6/HkdSqV+q5nWFhYnunykVdI21pOTtt2ypTBbNhwU+9iuFGjVDZsuEVg4GDWrPnFQtGah79/Hy5erK2zrEYNhatXL1Crlhfvvz+KihWrMW/eML74IpEmTdTbTJ4MR45Ap04QH++Ioijcv69/YaZhqG0bNWrPiRMXMh1Q3ajRW9y7d+//Z9tZxPvvj6Jbt76ULVtWb/tHjx5le65OTidxdx/F9u2FqFHjH20Xl+HDo+jd+1du3drHqVMKs2eP4513tjF9+tcoisKUKR9Qrdo5Tp2KYfbs2YSEpJCQoF9hOzy8SLbtEBZWhISE+wb3nTlTf/KBmjXVkw9ojnno0CGmT5/OpUuX6NChAxMmTOCNN94gLCxMu01m7/HkiboKd3oZEwxNu2d1DvlFVp+FoiiEhYXJ71oLkb9jlmNs2zo4OOTubE4Ab7/9tslvaIzVq1dz/vx5pk6dSvHixbXLixYtSnJyMrGxsTpPJ6KiojKdzUmzPCoqCnd3d519ypUrZ3AfR0dHHB0dDa6TL7rpFEWR9rMQaVvLMbZtmzbtzIkT/2Q5u5Ctf0aOjo7UrVtX+zr9DDdnzqgvnj/+OJVdu57yyiu6+zZuDN99B506xRt9nunbtm3brOsDBAW1YtSoXjqxjBz5K/XqNeG7777Wm5Eoq2k+7ezuUbToIC5edMbXN0abAJ4+DePGwfTp0KiROi5N7Yo+fRqTmAhLljzUqWvx5AkEBqqoVMkVe3v1n1TNzEHZtUPjxh0JDr5rcNahjJ9FepcuXWLmzJn8/vvv1K9fn++//5769evrnLvmvQ29x5UrMTRvrjs+wFCCoanLYOvfW3PI6rNIf/7yu9ZypG0tx9Jta1IyYSmKorBmzRpOnz7Np59+qjeArkKFCtjb23Px4kUaNlR3F7h37x4PHz6kcuXKBo/p6elJ0aJFuXjxojZ5iIuL49q1a2af2lYI8eLKb8WyMisK16IF9OkDX34Jr7+uu8/x4+pxagsWTOfDDyfl6Al2VkUKb94swMSJvXRiGTkymt69/+Dx40OcPavoTOWpKEoW03w6UazYIMCRP/7oS+nSi7UJ4PTpsGEDBrta7dwZTmAg+Prqrps3D375RWH2bG8mTFgIGD99cU6nPg4LC2P+/Pls3bqVMmXKsGLFCtq3b59lOxt6j//+28Lly7uZMUN9CRAbG8Pjx6m0bp22zYtWHFKmoRbCdGZJJlJSUrh//z7x8fGULl0aZ2dnk46zevVqjh49ypgxY3BxcdGOaXB1dcXJyQlXV1datGjBt99+i5ubG66urqxZs4bKlSvrJBMjR47k3Xff5fXXX0elUtG+fXt27tyJj48Pnp6ebN68GXd3d1577TVznL4QQuS7it2Z152Anj3h7bdh6lTo2xc017Lffw979sDAgSsIDb2S4zn6M6sPkJSUwM6dD4x6gtC3bxODTxCOHlUPKN6w4VUcHS/x8OFOmjTxYf7877QJYLt26nEDXbvqx3b8uAr1/Sjdu3tOTpCYaE/nzr2yrH5tSHYVszWePn3KsmXLWL58Oc7OzkydOpXevXsbNS7E0HvUqFGDixd7aF/v2bOF8PCd+Pg4MmOG+sPMri5DfmPsZyGE0JejZOL8+fMcO3YMe3t7mjRpQvXq1Tl9+jRr1qzhyZMn6gM6ONCxY0feeeedHAezb98+AD799FOd5UFBQTRr1gyAfv36oVKp+Oyzz0hOTtYWrUvv3r172pmgADp37kxCQgLLly8nLi6OKlWqMGHCBJmrXghhVqYUy7JVhorCRUVBcDCUKwdXr+oOvHZyUneTuXED3n8/lRo11BfvhipnZyazu8NlypzkxIm5z/UEwdc3le+/v4O7+x2ePPmcpKTaeHmhkwD6+8OYMYaTie3bi6MuTfRQb52lnjwlJyezadMmPvvsM6KjowkMDGTo0KF6E4rkVMYL54zJBchdeSGE8VSKkZ2oLly4wOzZs7G3t8fJyYmEhASGDBnCsmXLKF26NNWqVSM1NZU///yTsLAwBg4cSKtWrSwdf66KiIggKSnJ2mHkOSqVceXcRc5J21qOKW2bmJjIxYsX9ZbXqFEjz928ePDgAfPnt2PjRvVde92nAWnbHTkCw4dD+fLq6UXPnlUP4vX2htBQCAysqa3WnJqayoQJQfz++0+89VZ3Jk/+zKiuUBlj+eor9fENXfRv26bi4EFYtkz/M0tNhZCQ+vj4fK9dtmrVIu7eTUsAd++O4dixVL2nS506VUFRFH788YrBdWvX/pbteRhLURT279/PrFmz+N///kfXrl0ZO3YspUuXznI/+X1gOdK2liNtaznGtq2jo2PuDMD+/vvveemll5g6dSoFCxZkxYoVrFixgpo1azJu3DjtH4SUlBQmTpzI/v37810yIYQQWclPXSUydtvK7GlA48bw44/qcRQDBsD+/WmDeNNXaw4NDeX999vSqdMTrl+HqVO30K7dfr75Zp/OVKfGxGLqE4SrVx1xcPhKZ1nGpyF3724hKGgn5co5av+upT1dUggOXoa3dzKJiQk4ORUgLMzBrE+e/vzzT6ZPn86JEydo1KgRS5YskScEQgibZnTRurt379KsWTPtLErt27cnKSmJxo0b69xZsre3x9fXl3v37pk/WiGEyIPyalVsTVXlGTOK4ODgzPHjhrc7dgzc3dUX+OkH8WqqNW/e/B19+rzBV189YcYMdZeomTPhq68e06tXAzZv/i5HsaxeXYTLl+0MFnV78sSDp0+L661TFPj007KUKFFKZ3nGasnjxs2gS5ct1K69gVq11lOr1no6dtxI375D6NKlNzduvMz9+3a89ZbCvXt23LhRGX//3pnGbexnf+fOHYYNG0b79u159OgR3377LVu2bJFEQghh84x+MhEdHa3TT7Nw4cIABqdkLVKkCInqW0NCCPFCSz+9qv7MQsYPTraG9HftX3rpMVu2jKJbtyd6261ebccHH6Ti4wOa2UzTDzxfsWIKBw+mGBzM/dtvKbRq9QnvvNPL6FjAuCcIZcrY07btM+rWTWT+fBeqVu2a5ZSxkPnTJUOzWzVuHMfRoxcYOvQt7diQ9Mfv1esDzp07RPXq5zP97KOioliyZAlr1qyhSJEizJs3jx49euDgkPbnObuYhRDCmnI0ADv9Ly/5RSaEEIZpLv5WrFiAg4PC0qVRNG6sO+tQTgcnW0PGC+sNGzxJSHiiN2bg8eNi/PxzPGXK2HPggHp5+oHn1ar5cvz4Abp103+P48fV63MaS3aDhi9ebEzp0r9Rp85i/voriGrV/ChbtiyjR/c2KbHLfHYrdaXowMBJLFy4RSdxnDRpOs+eKYwcqX4ak/6zHz16EX/+eZFFixaRkJDA0KFD+eCDD3RqKEHeTkbzIknchMi5HCUT4eHh3LhxA0A7W9L9+/dxdXXV204IIV5E6S/+LlyIYfZsWLVKfaH7/w90dS5ANYOT84LMZqtq374f9es31dk2/YX94MEf88UXB+nWTbdQGsDatXaMGjUmx7FkNz6lYUMHPDy+Jja2Jx4eE7hz5zzDhnXQq5thbGJnaHYrjRMn7KlQoT6DBrXROf68eQrHjkHnzuqZr15/XV0RvVevO7z7bk8SEpLp2bMnH374IV5eXnrHzazWR15JRvOarBI3TW8MIYS+HCUTW7ZsYcuWLTrLVq1aZdaAhBAirzJ88YfeBSXoDk7OCxRFwdXVjYMHHenYsQfNm7dDpVJpk4asZquqXr061687kJCQaKAgnSNVq1Y1a6x2dg9xdw8kKakqUVEzAJVRTxaySuyyK0oYHn7C4PEbNVIPXB8yBMaOhY8+UteyeOWVMixbtoJXMpYST+d5YxbGyy5xGzfuK3x8Olg5SiFsk9HJxJAhQywZhxBC5HmZXfylv6Dcs0e9LC9VxU5/x/bSpRhmz97Id9/pFqXLrntI5cqvM2jQUcqU0SxRcfu2QqVK5i4emoy7+weoVIk8frwCUBdRbdDAj2PHLtK9u/4exiR22RUlbNkygOPHZxl8+rJrF9y5ox4jUqcONG/uzuefb8u2kGF2T0PyUjJq67JP3CbSvr0kE0IYYnQyoSkaJ4QQwrCsLv5OnlRXWAbbq4qdVSJgTFebihVfzrZf//z5q/n+e3V9B5VKRdGiRSlSJJJOnZ5/WtX08a9d+zI+Pmd49GgLqakltefw66/f8e+/GEwmNm8uzKRJ2Sd2mXXzql+/LSdP/sbp04rOuJCICJg2DZYuBR8f+PZbCAiALl28jPrss3sakleS0bwgu8StWbMuuR+UEHlEjro5CSGEyFxWF3/ffquiShU3Zsyws6mq2NkN8M3ujm3PnqOBhGz79bu5udGrl3rGJnMWqUof//nzMTg4hPPNNy/z5pvV0IxPXrJkIjt33iMwEBIS0HuycOlSnFEX94YqdLu4/Mv33y9h1qxQZs1SSEhQF8dbvBhmz1ZvU7KkivffL8R//6kYOdL4zz67pyG2kozmB9klbuPGGShqIoQAcphMnD59mqdPn+Lr65vnqrkKIYSlZXXx9/hxGXx9lwC6g5OtyZinDtndsY2JecpPP4VZpV//+fNnmTChHykpkfTqBfb//8Dg5Zev6SQyTZp05vjxf2jTJpURI0jX1QquX4eKFY3ramVo0PfSpWnJVqtW6qdP589DTIx6fEzp0lC8eC/q138byPlnn9nTEFtJRvMLSdyEMJ3RycTWrVtJTU3F29ubzz//nHHjxlkyLiGEeC7WmuIxs4u/1q172Fx1bGMG+M6atVZ7x1ZRYN069V33kSPh55+L065dT06c+CLX+/VHR0czZkwv3nnnKePGQWws/PcfFCsGvr6KznStJ0/+xqlTqWzbpr7QT+/AAXj69DohIedMmhlJk2wVLZrC+vVw4QI0awZBQXD1qoqvvirA6NGVqVu3rknfP0NPQ2wlGc1vJHETwjRGJxNXrlxh9OjRFCxYkF9//dWSMQkhxHOx5tz8eeniz5gBvpo7tuHhD/joI6hcGU6dgjlz4K+/Yhk61J9lyzbmar9+zROV5cuf0vj/m9rJSf2U4b331LNm3b6tO13rrFnqKtgNG6YdJz4eXFxg/fr7Jj9BqVSpBsHB9ty/n0LDhnD0qHrAPahn8DpxIp5vvlnA6NG/m/T9y24KXGE+eenfrhC2xOhk4q233mLevHm4uLjILzYhhM2y9tz8eeniz9gBvuXL16dVq6ssXapoL96nTIHmzWOZOLEXCQlOBscimNI9xJgnSpk9UalfP23WrIIFdadrbdMGnS5Oqalw9Sq0bm3aE5QHDx6wYMECNm/eTIEC9mzcCO+8A5pQ4+MhOVmhTBmpDZFX5KV/u0LYEjtjN6xbty6TJk1i+PDhdDNUxlQIIWyA5kJTk0hoaLrufPnlJCtFZnvS+onrLs+YCNy69Se//JKWSGg0bgybNt0hJSWR4GA3pk8vTI8ezrz8sopOnZxo1KijzvaKorB161r8/Gqzbt0y7eBrzfLWrWvRs2dzoqPncPZsOJGRcxg9ug8xMTE6x1E/UbHHkJMn1WMXHj1yp1WrbtrtgoKgf39o0UL9Y28PXl7g5gYff6yQnJykNxg8Ld46bNu2DkVRiI2N5bPPPqNRo0bs3buXTz75hI8+Cub3392YObMI48fbMWOGuhtY69Zpx7Ll75+h83wR3lsIYR5GJxMAjo6OetWuhRDClmR1oZnX5ubPjQstdT9xN2bMKKL9GT7cTaefePPm/lm2qb9/IC1arOTYsYpUqWLHP/8oNGzoyD//nNYmAtHR0Ywa1Ytjx6ahUoWzd+9oRo7sxb179xg9ujeXLs3A0/MhM2f+jylTYnByUt/RDw5W39EPCTmnfU8/P39OnixqMJ5vv1Vx+rQrvr6d8PPzZ8cOD0DdDaphw7Sfixfh1i24fx+uXEklJWWpTuISHR3N6NG9tYnNo0ez6dy5JY0aNWLp0qX079+f48ePExgYyIABwXTsuJFatdYTGdkPe3s7+vdXJzAZ28rWvn8ZzzOzBC6/vbcQwnxUitwGMFpERARJSUnWDiPPMec0kEKXtK2+Bw8eMH9+OzZu1O+607OnF2PH/mJU1xtrt236cR/jxsUwe3ZhLl2qZ/ZxH4mJiVy8eFFvefqq1tm16VtvzWPFikk6XcsAjh61Y8KEUnTpEsz27YspXjyUBg1gzBj1uIbTp+Hff+34+ONUfvgBli9Hr+sSQGgoBAbW1I5pUKmiSE2thY9PEnbpbonFx0Pr1mUZM2aJNv5+/Vrw449X9Lpg1awJq1ej87Qlfby7d6une23UKJW9e9UxX7oEJUq4MnfuF7Rt285ge5rr+6eRk4kEcvqdNdQlENLawZJdsqz53qaw9u+D/Eza1nKMbVtHR0dKlChh8vtInQkhRL6SH6Z4zM1xH8b0E8+uTTdsWJDlrFDNmk3CxyeRcePSBidPngzHjsH48als2KAeb3DyJHQ1MJ3/8eN2NGnS+f9fpeLuHoyi2DF5sisuLo7a7QzNmpV+hh5FUUhNTeHatTh699bvtqWJt2XLKRw8GE9YGLRsCb//rp6had068PGJIzAw82TCnN8/S08kYMxsXpaa1tea7y2EMC9JJoQQ+U5en+LRFi+0smpTR8cCWc4KpVI5sXlzIiVLoje97MaN0K0b+Pur7/4bSiY2bFBQlN/o2rUXJUsup0CBg4SHr6Fhw+I62xmaecfQDD1hYbuoXHkdoE7U0sfUpImK8uXr07PnMQ4fVqhSBX74Ad56S73viBEqrl27wbZt6zJ9SmCO719uJJTGzOZlKdZ8byGEeeVozIQQQuQFffsGafuwa346dtxI375DTDpebg8SNWXchykx5mSfrNo0/diEjHbs8KBdu54cOwZRUdCvH9y9q55e9vZtGDBAXejNxwcePcLgYPDkZIUxY06ydq0vhQot5MsvXdm8+T5169alXr16Oj+arlmac+vUqQE3bvyts+2gQcHs2aN+pJ8+pl9/hVOnFPbtO8apU/D11+qxFR06QHS0eruCBeGff55m2b/fHN+/3JhIILvPzc/P/NP62sJ7CyHMS5IJIUS+o+m6k9mFZk5YY5BoTi+0TIkxp/tk1abZzQrVv/8QFi1S4e8PgwfDpEnqAdGTJ6v//8AB9fiJNm1g4ECYMQNmzVL/aGZF8vVNZebMhxw8CIMHx2YZb3bnpon36FH1E5EBA6BwYahaVZ089OmjUKaMHdWqgYODOjZ/fxg0CGbPVrIcHJ5dWxkrNyYS0LRDfDysXQt16qif0Dx7ZvkugcbOJCaEsH2STAgh8pTcfEpw+vRJBg1qQ3Dw4WxnGDJnjDm50AoJOZfjGE3ZJztZzQrl5eXFgwd2bNiQNmZCo0kT2LwZgoLsefKkEOfPqy+gNVO4pp8V6elTdWG6rOI19twaN+7EkCEq3nkHevRQ16CoVk1de2LtWvj99xSCguyYMaMIQUHq2H19dWO35HSvuXXn/rXX2vLmm/Zcu6Z+WnT1KjRqZE/9+m3NcvysGDOTmBDC9slsTjkgszmZRmZqsJwXrW1za4YjULftoEEdWb78nFEzDJk7xlWrFnH3rn6/+9KlgwgMHKFdNmCAH2vWXMxRjKbsk53sZoUaMqQnvXsfpnt3/X23bbNj//6e3L59iapV/yU8/BkbNuhvFxQEDx/CqlXqJwmG4jX23E6ePMmQIYMJD3/Iyy+rE5qffoJr12DJEti3z54//uhL27b+/PLLLpo3X0e3bql6x9y+3Z5r1ybSt+/gHLWXMTKbiapTpyqsXfub3vamzuY0c+ZdGjdO2/7IERUTJpRi3LivLDqjkjEzidmKF+13bW6StrUcm5rNqUePHiYdfMuWLSbtJ4QQGZkyIDUn02oa0q7dO5w4ccHoQaLmHDRraOCwoQHGxgxkzdgOTZp0Nnrwq7FtmN2sUBMnzmf+fD+6d3+it27LliLcvfs7CxaE4eubSvv26FXUTkyE//6D8ePV07mmpMDHH4OLi0onXkPtoRlgPXcueHsXoGvXrpw6dQpXVwcWLIAPP1RvV7eueoapzp3Byakwc+cOx9PTk9KlSzN//l66dcu6Uri5WXoigcwG+jdurLB5812LD/SXitNC5A9GdXMKCAigW7duOj9lypTBzs6OOnXq8NZbb/HWW29Ru3Zt7OzsKFu2rFTJFkKYVU4HpJpjrIO/f68cdTUx56BZY/vdt23bhQ0bDBcT3bHDg0aNWum1w5kzB9m8uVi252XO8SKlS5cmMtLTYNetS5fi2Lnznrbd2rRRdzs6c0a9TUQEDB+u7ma0YgUEBMD58+oB3J9+Cr6+aaWmM3YP0gywDgmBf/+FP/44w6lTp6hatRT//pusTSQ0GjWCDRvgv//itN3JrNW/39wTCWSUnwo8CiGsx6gnE2+//bbO6wMHDhAdHc1nn31GyQy3NO7evcu0adNwd3c3X5RCiBdeTqaSNNcTAh8fHyIi3I2uGZDb011GR0czd+6H3LkTq3cnPz4ebt4swMSJvQy0w0kGDrTj6FHdcQDpz8sSU5Omv9NuZ6ciNVXh9u0UXnmlPidOHNG2W1CQemzEq6+q9/vsM3jtNfVF/owZurUqmjRRmDDhXW086es8/Pmn+qnDxYvqpAKgUCHYvFnFxx8/5dQpO156Sb/r0rFj8Oqrb2Qau0ZWTwme96kYWP7OvZ+fP/PnryAgIHefuAgh8heT6kzs2bOHtm3b6iUSoL775Ofnx549e2jVqtVzByiEEJCzCx9z1mlo0qQTwcF3jbqIzM2Ls/QX+2fPpjJiBJQpA8nJ8OyZivBwZ5KSEti584HBdjhwIJV27ex4++20cRzpz+t529DQxbSm65ZKpcLDw4OHDx9Sq5aCl5cXixZ10rabk1NaIjFihLpr08CB8N13+hWymzZFL57GjTsxdOhXbNsWS3R02rZ//60eZA0K3t5RTJrkYHAcxNat7kyYME9nmbHdzsDyxebMJT8UeBRCWJ9JycSjR49wcMh8V3t7ex49emRyUEIIkVFOLnzM+YSgb98g/vpLdxqfzC4ic/PiLP3F/uuvq7v9aISHK8yeXRJ//x6cODE303Zo0qQvtWqlJTjpz+t52jCri+l69eoZHBRoqN0SE+F//wNvb3UtiswqZGeM5+HDeFavjtW+/uEHda2I9G7csCc8vCgJCQ/1PqvIyBKUKlVKZ3tjnxLkZvVyc8jrBR6FENZnUjJRpkwZfv31V3x9fSlWTLff7aNHj9i3bx9lypQxS4BCCKFh7IWPOZ8Q5LSriTkvzrLqKpP+Yt/JCRo2TNtv+3Z7OnfuRdu2XZg/f7XBdtiwwZUrV/bw8ssvG+yCY2obGnMxXbdufb39NO322WexFCqk8M8/jixYoCIuDiZPVhEdncCvvxpOJnbs8GDMmC5MmPAR69Zt0i4fNmwYjx5to0MH/XNYubIwz57FM3QoVKiQtvzGDbh/P4yQkHMmXfTn5ImOZgrhr76ag0oFQUHj6d69X467Qz2PnDxxEUIIQ0xKJvr168fMmTMZMWIEr732Gt7e3gCEhYVx5swZFEUhODjYrIEKIYSxFz7W7L5hrouz7LrKGHOx7+npmWk7hIbG8uefmXfBMbUNjbmYXrPmF739+vYNIinpBoUK7QDgxo0ddOqUTGpqKocO/coPP2zGzQ0SEmL04rlxowB169bVLnv1VQeqV/dl2LBhDBu23+A53LoVx6+/JhAWphtHixYwcWI0QUGmzWRk7BOd6Ohoxo8fyIMHJ+jbN4WxY2HKlE8YPvwXZs1amWvdoWRGJSHE8zIpmahSpQozZ85ky5YtnDlzhsTERED9S6lWrVq8/fbb8mRCCGF2ObnwsVb3DXNcnBnbVcaYi/307ZCSkkx8fBwREQq9eqVqC7pl1gXHlDY0tXuUm9s5PDzUicS9ezepV8+JqKgoBg7sxIMH15k0SWH3bicGDrSnbFlHkpISSEpyYuHCBBTlNqAeM/L331CoUDJHjx5m4MDWVKnShODgUL1zePXV+pw7d8RgnNu3mz5Y3pgkLyTkHJMmBeLiEs78+WkDyufMSebQoSP07duEKVNW2VR3KCGEyMxzF61LTU0l+v9HuBUuXBg7u/xbVFuK1plGCtJYjrRt5p63IJY129bYwmvGFLZL3w4zZ45i4sTrlCihrqng6Kiuv7B4sXr61F9+qaHz1MCUNnzw4AHz57dj40b9i+mePb0YO/YXvLy8dNpWpXqCj0/1/9//KCkp5Tl69DCTJ79Hz57xTJigrhFx8SLcuQPly8Nff8E//6Qd+/p13e5KmrYaMKAGw4bN1ItFM+g7qzhNfYKVXbG5AQP8gIusWaM/oFwTtymFA+X3geVI21qOtK3l2FTRuqzY2dlRtGjR5z2MEEKYVV7tvqEoCkWLluLo0YtkmJUb0L27b0yXqvTt0LnzuyQmzqJhwxSioiAwECpXhlOnYPp0ePo0jpiYGG0XG1PaMGP3KE3BuEWLwN4eA3+wFG0i8eTJIlJSyhMSco5PP+3L6tVJ2qlr27aFvXvVF9+b0oZFsGiRepanhw/1k4kTJ+xp3tw/03OwVFe47J7oNG3ahf/++5uTJxWDY0COH1dJjQchRJ7xXMlEUlISN2/eJCoqildeeYXChQubKy4hhHjhaMZJlClzhj17MJhMpB/8nNOLfU0XnJdeesC4ceoEQtPFZvp0OHr0pllmHNJcTHt62vH773E0b57M6dMwdWoko0f3Yfr0r/Hx8QHA01OdDMXHt+LZs+6AetzFgQNJOnftBw2CP/9Me710qboeBUC3bjBkCOzZoxtHVgPFo6OjiYlJ4IMPoFIldRKRkuJARESB5+4Kl12S5+fnz7Rpy9i166HBZGL79uKMHy81HoQQeYPJfZL27t3LoEGDmDx5MgsWLOD2bXWf1ejoaN5//30OHjxotiCFECK/Cwk5x6BBbQgOPsz8+bE8fozZKy5rnhpMnaouAKdJJDSMqdStmYHIz68O27atM/jovG/fIF55ZQoHDrgwZ04KM2aoa0fMnJlAcPAhAgNbcfr0SdzcFuHgcBOAx4/Xafdv2rQLx4+r/zwdPw4qVVoiERgIqalpiQTA0aPQOq0INpB1W2naevbs/xg8GFq2hLfegrJlUzhzpiA1azbIqhmzlV31ci8vL54+Lc7Dh4Y/4ydPPKTGgxAizzDpycTvv//OunXrePPNN6lVqxbLli3TritcuDDVqlXj+PHjtGjRwmyBCiFEfpZxFqQ2bdAWoktNhdhYOx49cn3uu+aNG3fi998Xc/x4It266a/PapC0scXYnJyc2L9/faYF8zZtusOiRf2ZP/8KAPfuXdfZxs/Pn08/XUb37g+1y5yd1VWwV6xQJxfpbdxYkEKFFKKiHFEUhb//TuTMmQTq13/p/8dk6O6Q2YxTDRsqdOgQTmDgVF5/PeczOeVE48adOHhwMR98kEjp0uplqalw756T3mdsjmraQghhKSY9mfjxxx+pX78+I0aMMPiIvUKFCty5c+e5gxNCiBeFehaktD72QUHQv796qlI7OzuiovrTseNG+vYd8lzv07dvEP37r2DLFneD69esscfXt7Xe8vRPTqZMidHOBBUcrJ4JKiTkXJbnk96ZM3baRCI8/HfAWbvu2bNndO/enT170hKJjz+GqCh44w3o2xeio9VjMdauhdq14c6dgnTvvpGwsK6sWhVHamoKly8rVKt2ktGj+xATE2N0bDktamiqvn2DGD58E1WrzqNwYfVP0aLz6NRps85nHB0dzejRvYmOnsPZs+FERs4xeE5CCGEtJiUTYWFh1KlTJ9P1bm5uPH361OSghBDiRePn58+OHR7a15pCdA0bwsWLJRg0KFinq4ypnJycaN26NWFhhQx2sYmLS2TChHf1kgPN3XzNVLUamXWNyng+6XXpoj5GVNRckpMrA+q778OHD6dSpUpcv65+UlGxIhw+DPPmqdtj7lwYOBCaNFFRu7Yd167B6dPQvHkk48f3oWDBtfzvf8nUrJnEoEEwalSMtlvVZ59N03bNatu2S6ax7djhgZ+f5ccrODk50bBhQ3r16sW7776Lo2MS69cv4Pbtf3F0dARynsAJIYQ1mNTNydXVVTsdrCF37941aYanS5cusWfPHm7evMmTJ0/46KOPeP3117Xr3zY0GhHo3bs3nToZfvS/detWtm/frrOsZMmSLFq0KMfxCSGEpeR2ob2nTxMIDoZy5dKW3b4NXbpA9+66lZoh5/UjMjuf1FRQzyDejLi4PoDCqlWr+OSTT7TbLF68mB9/XMnatX/rdUVq0gR++kmhTx+FGTPUyURISCIrViRqZ36aPBmOHYPOnWHy5FR8fO7i6LiSs2dTmT17DnPn7ic8vJBRbW2uLkaZHSerrmM5qaYthBDWYlIyUadOHX777Tfatm2rt+7OnTv89ttvNG/ePMfHTUhIoFy5crRo0YIFCxborV+xYoXO65CQEL7++msaNMh6sNxLL73E5MmTta/zcy0MIUTelZuF9rp2fR8Hhzk0b677pKFuXdizRz85MKYYW8YL5ozn06BBAq1bxwOgKAeZPv19li37RnucwYMHM2XKFBRF4fjxX2jZ8m/GjVN3bUp//X7iBHRXT/zE9OnqweQZL7gbNVIvb9ECVq2Cxo11i/8FB7vxzjvO1KuXlk1kbGtjx4hkJ7PjdOs2mCVLPs60OGH16q1MKgCYH8m4ESFsl0nJxDvvvMPEiRP58MMPtWMm/vjjDw4ePMipU6dwd3enm6GRfdmoU6dOlt2nMj7tOHPmDNWqVcPLyyvL40otDCFEXmBM3Yis5OSCq0OHbsyfv5rx4zNPDtLL7smJs7Mzo0f31rlgvnixDt27r8LV1ZXCha/TtOkoAH76aSsdOqTd1Clb1p7XXvNl1KhR2gvvqlXP8u236q5N/fvDkiWgmX180yb11LAA7drByZMYnGL16FF47z1orNuk+Pqm8uOP0fTsWYlatT7XLk/f1umrkDdqlMq6dbB7dzQdOvxOYGArxo37yqjpc7OqZj5gwFH++CMp0ycP/fqdJDLSI8sE7kVgrqROCGEZJiUTxYoVY86cOWzatInjx48DcOTIEZydnWnUqBG9evWyeM2JyMhIQkJCGDp0aLbbhoWFMXjwYBwdHalcuTLvvvsuHh6G+8uCun5G+krXKpUKFxcX7f+LnNG0mbSd+UnbWk7Gtk27UF/E+++Pssid0QIFClC/fn2T9o2OjmbKlA/0LrimT/+aQoUKGYw/IsI90+TA0E2aJk06Exz8ld6TEyhE587VWLVKoXFj9VSx6gvmI0yYcIOJEz+nadNRREVB+fJuPHmi7rLq4qLuWuXhkcLRo0d4550mFCigYsGCCO2Fd/ouS3PnQs2acPWqPd7e6rv1/v4wZozhZGLzZvWUr4acOGHPW2+9m2l7L1kyic2b71CwoLo6uKa439y5ULLkXRYtGs+33+7P7mPRHsdQwtC/fypHjxquJ3LihD2tW3fnwIGtRn9G+fH3gSYZmznzrsGnN8Ymdc8rP7atrZC2tZxca1vFDKKiopQnT54oKSkp5jicoiiK0r17d+XUqVOZrt+9e7fSv39/JSEhIcvjnD9/Xjl+/Lhy69YtJSQkRJk4caIyZMgQJS4uLtN9tmzZonTv3l37M2bMGJPPQwiRvdTUVOWbb5YqtWt7K2vXfqWkpqZaOyQdkZGRSp8+bZXp04so8fEo3bs7K+XKFVCWLfvMJmI9efK4Ur9+ceWPP1AUJe3n6FE7pVmzcspvv+3Xxp+QgDJtWhGlb18/ZfbsicrgwYWUmTOLan8GDy6kLFw4Xe89UlNTlZUrFyvVqhVXpkz5SDl+/Liyf/9+xc+vgVKnjkoJDdV9b83P3bsoyckoHTqgQNrPX3/pb9umDVkep1o1lTJokJtSu7anEh+ftq5dO3ReKwrKs2codevaKR06qAwer1cvH+X+/fuZtunSpfOVOXNUSvPmKEeP6u57+DBK3bruyqlTJ7L9bJYuna/s2GFvMIaVK+0Uf//CWca3cOF0oz+j/KhDh3pZfic6dqxn1fiEEIqS4ycTCQkJTJkyhZYtW9KmTRsAq1S+/v3332ncuHG2M5uk7zZVtmxZXn75ZYKCgjhx4kSmdTD8/f3p0KGD9rUmo4uIiCA5OdkM0b9YVCoV3t7ehIWFGSxwJUyXH9o2/R31U6dimD17HO+8s017R91aNG37888/MWdOEDNn3qVGjVQGDoSaNePZsAEmTfqI9u03snjxRqvFGh0dzYABbdi//6mBcQOpfPjhLYYNa8+KFSnp7vZHcfToPsaP/xt//ylUrlwFRVH444+9HD68hcqV4d69e9rffek/o/PnY5g9ewXTpv1OVFQYLVqEsnmzuricod6tX3yhno1Jo3fvt+nSZQc1auiPAyhXTvX/x9H/Lp84ARUrOhAS4k5U1EM6dnSicWNnVCoVTk7xDBqUQJkyBXBwUP9Zu307lddeC+Cff46QkPCf3p398PAiKIrC/fv3Dbbrm2+2olcve/bvT9Zr18aNYc+eJwQGDmbNml8M7p/+OPPmedC1q35Xpd9+K0FkZCESEqIzjc/fvw8XL9bW2a9mTXV3rIyx54ffBxk1atSeEycuZDpupFGjtzL9DM0pP7atrZC2tRxj29bBwYESJUqY/D45TiYKFChAeHi4VR9HXb58mXv37jFy5Mgc71uwYEFKlixJWFhYpts4Ojpqp+bLSL7oplP+/3aSML+82rZZ9ScPDGzF2LFLc6ULQ1YWL57Apk23uXtX3aVm+vS0ytHz5ikcPnzOarFq2q9du6eZjhuYMwcOHDDcL3/z5rsEBq6nffst2j7pFy7EMHv2fEaNOsi0acu4du2qwc/o8OFzDBkCDx/Cb7+pC+ylTyZ27dKN59NPAQpz7txdtm8vRkBAhF6sDx4UZ/t2Fd266a/bvRuWL0/if/+7w+TJUKZMAY4fr0T//mOoWtWR69evU6lSJW0yUbeu+oL722+/ynRQe1b/Zjw9PXFwcOfEiQi6doV162DxYhg5Uj0gXDMAOrt/d56enlmONWnWrGOW8Tk6OlK3bl2Dx87svfPq7wND2rY1buB/bslPbWtrpG0tx9Jta9KYidq1a/Pnn3/SurV+YaPccPDgQSpUqEC59HMaGik+Pp6wsDAaZxyRJ4TIdXlh6stmzTpz4sQ/rF2bYnDWoCZNsFqsmvZTqTIfN5Ca6sbx43F065aqt+7ECXsqVarHoEFtMp1RCJwMfkZNmsC+fTBkCJQtC4mJkJAAV66oBzJrdOkC27eDvT1ANEePniQw0I6EBPQuruPiPIiNVUhIiNBb9+QJeHurf777DoYMSWDixAtMmPAxY8cupVevXgbbyNhB7YqBwett2nRj5cplfP+97piJ/v0hNrYYkyYZNwA6q1m6+vYd8lyD7vO73J4yWQiRcyYlEwEBASxcuJAlS5bQunVrPD09DXY3cnNzy9FxNRf6GuHh4dy6dQs3NzftgOm4uDhOnjxJnz59DB5j2rRpvP766/j5+QHw7bffUr9+fTw8PHjy5Albt27Fzs4OX82E5EIIq8lp7QJr8PPryrx5K2jX7kGmd/+tFWv69nv0CIMX6I6O3uzcGUO3bobv7IaFncgyoevQwYcTJ+wNfkYnT6pnUwJ4801wdVXXkQB10nX5Muzdq0kk0o777rupDBxoR+XKaV3D0qZlVfjggy/w9EzAxUVdrO72bUh/70rzvsYknU5OTtpZBzOT2WxBnTsP4IcfVjBpUopODYujR2HgwEhCQ+8YdTGbPqFRFIWDB/dy8OBWhgxxw9HRMdv4XnS5OWWyECLnTEomPvzwQ0BdnO7o0aOZbrdly5YcHff69etMnTpV+/rbb78FoGnTptpZm44fP46iKJkmAw8ePNApqPf48WMWL15MTEwMhQsXpkqVKsycOdMq4zyEELqMqV1gbZo7o+3bP2DyZMPJRHaxGrrrbY6uounbr00bdVejMmXU654+VRER4UrLll05cuT7TO/sNmnSkWPH/tXWbUjv+HE7ypatwsqVDwgI0F+/axfMmgW+vuoZlzT+9z+oVAkOHTLcXi+/bMfTp0OpXbuN9tF7rVrqcW3TpgXj7m5Pw4awcGHaeIv0PX127QJNKaLnTeSyn7o1xUCipe46ZuzTKE1Ckz5puXQphtmzFzB69O8yxWk2nnfKZCGEZZn8ZMISYyaqVavG1q1bs9ymVatWtGrVKtP1SzWTj/8/U8ZVCCFyh610YcjuYr9x407MmrWMy5fjSEhIzVGsGe96z5o1mx49viEqKpLAwLQpZo1JOAxto2m/oCA4f169XUICfPxxGSZPXvL/F1yKwTu7FSrU59dfv+Pff9FLJqKiYNo0O7p1O8PJk6kGn3ocO6bu4qSxf7+6FkSlSpCcrC4W17Spfpvs2VOChQsn6PTjDQk5x7BhHXQu6leuhDp19N9X0+UJnj/pzKqrXXZTt+YkickqaRk4sLVNjA+yVcY8XRJCWI9JycTbhn6zCiGECazdhSGzLi7Tp3+Nj48PkHZn1M5uC0FBOylTRl1wzc7Onjt3UjONNeMFZFQU3LgRQ6tWMUyYADNmzGT06P18/PE85s//OMuiXJnF+dprbQkODtVrvw4demgvwDK7s7tkyXh27rxHYKBuF6nTp2HsWPjyy2SaNn3KokXqpx4lS0JcHBw8aM+ZM2ndnr74AoKDISkJNHNXODiQaderR4/c8fb21pmFx9BFveZpS+nSEBOjTlTu3Enr8hQfD+fOPeTQoZ9NftqTvquYougOtPbwULFpU0Hefvup3n45TWLywvggIYQwhUqRofNGi4iI0ClmJ4yjUqnw8fHh/v37MlODmeWHtk1MTOTixYt6y2vUqJHt1M/Py9DdYoCjR+2YMKEUCxZs5aWXymrbNqexDhjgx5o1FylZUn2BPm6c7mxQAEeOqBg40I7Ro1MYNChtuSaGsWPVT1vnzAmiadO7/PRT2oxCx47ZMX58Sbp0GU7lylWMiim9deu+pnLlWdy5k8K//6Z1kdq5E/bsAR8f9cX1woXQqROUKKG+uE97D3Bzs6dFi4L4+KQydKj6onvBgkLEx9tx9mw8RYqop2wtUMAZgOvX4zl82IEpU+bTunVn7bHWrl3GgwczOXxY0Z5fUpL6acvBg3b8+mstihb9F29vO7y97UhKesb9+8lUqwaxsYW5dKmeSd2FHjx4wPz57Vi27AHBweqB1mPGqAdab9/uRNGipdi376ZeQtSpUxXWrv3N6PfRtLWhsSfbt9tz7dpE+vYdnKPYM8oPvw9slbSt5UjbWo6xbevo6PhcU8OalEz06NHDqO1yOmbC1kkyYRr5RWE5L3rbPu9YhPQX+xmFhsKQIfVYvvwHk9s2/QVkx46wfLn+bFBp76W+gM+4PDCwJomJyXh4XKJGjbQL3WvXYMkS9R37wMCaJt3V1lxIr137gHPn1IOlt2yBKlXUYx0OHlRfXL/7LlSsmLZftWpw5oy6gvWRIyrGjfPg2DH1dK6HDk0nOlo9nVNSUpJ2ytaEhARWrpyLnd0/REQk8corzihKQ6ZP/xpFURg3bgCvvnqSqVMVnfMrXBh69vRi9OgfCAsL4+rVf1m/fgFDhkRQq5ZC3brqQdrpk6+cdhfy92+Iq+sdZsxIS/QUBSZNgrVroXVrRypVctVuf/t2CqVLBxEYOMLwAbNo640b9ccH9ezpxdixvzx3t7689vvAUmOJLCGvtW1eIm1rObmVTNiZslNAQADdunXT+enatSuNGzfG2dmZChUq0M1Q9SIhhDCT6OhoRo/uTXT0HM6eDScycg6jR/chJibG6GOou7jYG1x34oQ97dr1zPYYiqKwdeta/PzqsG3bOp1f2H5+/uzYoZ6Jrl079SxEhhw/njYrUsYYKlSoz5Mn9xg2TH1x6+SknlFo0CDo3Bm+/VZl8gBkzZiVyEhYtkzdHenvv6FIEfXA5/79YfNm3UTizh31Ni4u6teNGyvaRCImJpiXXx5AvXr1qFevHg0bNqRXr144OTnwxRcf4ep6gaZNkzh9GqpXj+fZsz/o3t2X/v2b8dFHp5g9W9E7vyNH1N2iSpUqRb169di/fz0//RROgQIKQ4bApk3qC39Nd6Evv5xk1Lmn/9xiYiL57ru0RCIqCvr1U5/jlSuQkpLMH39U5OWXl1Or1no6dtxI375DjD7+tm3r0tWb0N3uRZ3i1Bz/foUQtsGkZOLtt9+me/fuOj89evRg2LBhLFq0iKioKG1fYyGEMLeQkHMMGtSG4ODDTJkSg5OTejBrcLB6MGtIyDmjjpP+Yj+jHTs88Pc3XLtAI7sLorQB5uqCd7t2GT7O2rV2+Bvofr9jhwf//nuCH3+MJGNpnEaNYMMG+O47e/z8TB+AXL58fVq1UjFwYFqy8uSJugtTy5bwzz/q7T78EHbsUI9fMCQmxo2YmHEG182YMRIHh1DGjdNNiMaNg6Skh0ye/ECnm1n68xs61E5nTEqDBn689x7cvauu+3D7tjrpiY42flB0xs+tUqVENBMTnjqlHjR+7hy89BIULAjr1yt8+ukFli79GDs7qFevXpZdyDL7XqjHt7gxY0YR7c/w4W4655dVcppfmOvfrxDCNpiUTGTF3d2d1q1bs2PHDnMfWgghgLTBrBkvQHN6dzr9xX566QcJZ8bYCyL1AHM3Vq8uwuXLdgbf699/U/nxR/Ud9owxtGrVLYunJ+Dg8Hx3tW/d+pNfflG0ycqSJfDTT6CZWG/tWnVcH36YeTIEcP364UzXJSXFsXmz7lgRUL8+cEBdpduQ48ftaNKkn/YpQEjIOQ4c+I5Jkww/pVm5snC2iZWhz2358gR27FA/kRgwQN3FKyREN1Ex9ruV1ffiyJGdvPLKFGrVWq/90TzlUBSFb7/9Gl/fChw/Po0zZ/Lv3Xpz/fsVQtgGk2Zzyk6BAgUIDw+3xKGFEMKsxe5MnU3K2Nl50s+kdPdu2mxQdnZ2PHumHkQ8ZAhcvw6+vg40b+6Ks7NKG0NWtTjWrlXRurWBAhE50Ly5PydOXKZo0RTSz7pdpQpcugSaLuw+PoZnZwJo3dqDdeu8tK8z9oVv0+Ydjh1bZLCWxdGjkJJSEIjVW7dzZwnGjh2Oo6MjW7Z8wxdfTOHYsVS9Ntc8xWjZMi7bxMrQ5+bjo37S0aULfP012sRq8mT19LedO6vHqdy+nf13K6vvxebNdwkM3EDPnrrjW6KjoxkypCs1a17gyhX1mJFBg2DJkmj++iv/TR2bF4pVCiGMZ/YnE7dv3+bnn3+mpKFRhkIIYQbZdU/KSbefvn2D6Nhxo97d4n79gjLdR1EUihYtTcuW6tmOMvZESX9BpJkjv169eowbN4MuXbbg5vYJO3a4ULZsCoMHw/DhMHs2zJmTwv79zri4TNTesc7q6UlUVBmGDv3Y6HM1pFq1+nTrlpZINGqkThjKl4fERN1tmzeHgQPVsWrMmwd16qRNF26oi8/ff59mzRrDT1fWrrXHwcGbhAR1O65dq64tsWoVPHxYFGdnZ4YNe4dt2z6hdu1UTpwwfB7HjsGrr76R7flmNk4mKQm++45Mu5PNmAHbtxcnOTkpyy5I2Y3DyXihrHmSMX58CHPn6o8ZcXLKf3frzfnvVwhhfSY9mRg6dKjBGRdiY2OJi4ujQIECDEo/x6EQQpiROYvdZVYQK7NZZTT1HqpWPcu336rvWPfvr+4eVKiQOrmYOlXh/feTUBRF5zia91q6dCJ794br3b1u3Fhh585wvbvXmT09ad26h8nT58bExNCsWTPCwsL+Pzb13XnNhB7Nm0NgoB2vvKKeajU2NoaIiFSKFYPx49Xb3L0L27eXZetWdUKTeWG2kwwYYLjmxMOH7nTs2JXBg7/if/9LoHnzZE6dgk8+gcePY3j77ca4uT1k/nyoUEE9m5Whatxbt7ozYYK6XHZWswRl9qSnd28yLVB38qQ6qVi79ilVq36ZaS2QrI4PhmtTZPYkQ5PEDBkCffvaU7RoKfz86tj8rEfGsJVilUII8zApmahatarBX2Rubm54eXnRqFEj3Nzcnjs4IYTIjDWK3Rm6WNZ0henYEdzcoGFDuHIlldmzlzJ69EmDtQ9y2s0js6Jz6urWOZOamsrAgQP55ZdftMuGDOlHcvIOli9Pa8ubN5NxdvanVi311fWePVuIiNhJUFAykERCAkyb5kaHDmkJTVZdfHr3hsBAlXaKVZXKjv/+S6Z9+37UrPkGe/d+y/z5cdonA7NnQ7t29xg8GCZOTBtvkVkhvOhoL0qVKpVpcT/N55DZhWzHjjB0qD1vv63/mXzxBTx6pGLFirT4MqtendML5ay+CydPqmf5WrPGnmrVDrNuXWymSUxeY+1ilUII85GidTkgdSZMI3NIW44tt62l55A3R7G7rGI01LbZ1aXo00ddm0Ejs9oHxtYcMHcbLl68mHnz5mlfr1y5kvbt2xvVlomJiYSHr+T112cB8MMPuwE7nW2yKsy2aZMdhw/3o0ABJ378cSs9ewby+uuNqVGjBh980CnLdn3nHfUUsQCLFqEtsJeYCCkpzjx44EDp0kHUq+ebZRFCzeewatUi7t7Vv5A9f96ZY8ce6iUBNWs68scfSZnGl7HOx8qVCzl69Atu3Uqibt0CVK/uxJ07qQZrU2T1XejdW929qn9/+OOPtOWZfa9s+fdBRtYsVmmKvNS2eY20reXYdJ0JIYTISm7MIZ9+LEL6H2MvREyJMev+8OgNMM5sdprsZpHy9PQ0axvu27ePUqVKaROJ0aNHExoaSvv27QHj2tLZ+ZE2kQgLO0e9eq/pbZNVX/jt24tz//4VihXbyKVLT3ByWsGGDQtJSEjIsl01U7ZqBAWpL65btICjR4vw8svLteNLjJ0lyNA4mQ4dvqNcuZq8/z5MmeKsM3Vr1aqNjB4HER0dzd9/n+bNNx345x+FV16x59ixStjbd2fr1m/0xlpk9V24fBlmzVIPDM/qfPKi5/33K4SwHSZ1c7p16xZ3797F19dXu+zChQvs2rWLpKQkfH19tX+khBAvlsz7zdvOrDTGxFi3bn29/bLqD79pEyxdqv9emc1Ok1U3D3O14ZUrV2jRooX2datWrVizZg329oYvjDOXgre3uj0ePVpLaqrhKXMz6+Jz5AhcvhzJihUnteczaVIUkyf/TuvWVXnrrV789VdxAgL0ZwFcu9YeR8cUbdcmJyd1V7L4eLCz86FVuimojO0+lnGcTPpxMK1bw7p1dty6VZGBA8dQq5YrXl5eLFrUKdtxEIY+t2nTYjl8+DwjRoSwfLnCgQP63ZQ034WXXrIjNVUd++3bqRQuXIXy5f8kKChV732zmvVIU6siL1SWFkLkfSZ1c5oxYwZOTk6MGTMGgPDwcEaPHk2hQoVwd3fn+vXrDBw4UOeXfH4g3ZxMI48wLccW2za7rkAZu4RYgzExrlnzCz4+Pty7d0/nwuyHH9by009X9brCvPaaPRcv6l/Epu+2lF7Gbh6KovDHH3s5cGAnzs6O7N59z+Q2fPz4MfXq1SUxUf37ysPDg8OHD1OkSJFsWsYwb++K2NnFExvbi6ioeVluq+lC9NJLdvz9dyLnzycACn/8AaVKqbeJioLgYKhcWT2gevJkO/bsceHw4VjSP2mPj4fGjT0oWDCa8uUTtQXzUlPh3j0nypcfqdNtSNNl6LvvHrBuHSxeDCNHQt++8O67hj8HQwkApHUlGjPmS65d+5ulS6fw998pep97p05VWLv2NyD779WQIbBnj343pcy6/Hh6evLxx62JiYlhxAj1bFdffKE+p59/9mTcuF91zkelUuHq6sqgQV2oVu0c48bFMHt2YS5dqpfnx1hYmy3+rs0vpG0tJ7e6OZn0ZOK///6jY8eO2teHDh3Czs6OuXPnUrhwYRYuXMj+/fvzXTIhhMheXphD3tgYo6KiGDWql85g3mfPijN4cEEqVUr79Xn7dgp2dgVISHhk9Ow06e+OZxw03L17AY4d0+82lTG+jJKSkujevTtnzpzRLhs2rCDh4TWwszOtV2vhwpOxs4sHyDaRAHUXopMn67J27TwaNLjC+vUKn3zixIABiWzbph7vMG4cTJ+eNqh67txUOnSIpUULFY0auVK6tLptb99OoX37ftSq9SbXr1/XeZ/69StRp04dnWVeXl7cv1+IPn0eUKWKupr13LnqsSwPHhQ2+DlkNWh8+fI7BAT04p13VAwenMIHH4CPjwMuLq6oVCq9AcPGDKbWHDt9LRJDM4ppvhNvvhnLtGkwZYr6Cc/+/fDVV/DXX7G4uLjo7BMSco4FC4Yzbdp/NvtUUAiR/5j01yUuLk7nDkdISAg1a9akcOHCANSsWVM73aAQ4sVijTnkNd06spr/P6cxhoScw9+/jl4l47lz/+Py5YK4uEzUqUvRuXM/hg0ryIQJDkyeDDNnqu9ER0cnGBznoIm5adNq9Or1ps77fP11Atu3G449szacPn065cqV0yYSv/6qvpO9ZEmsXlXuzNpMURS2bPmGZs1eoWnTVzh1aiJubmsAuHfvvyzbVOOffy7y1VdjmDjxAuXLx9GgAVSpksiECeq6CePGqac8zVgNu3Fj+OUXhUuXfHTa9b33htGwYUN69eql89OgQQO9/vUhIeeIjIxg0CD9CtlPnoTrnL9GZuM1Tp9Wj81YvvwpU6bEMHw4DB4MZcumsGOHbi0Qjay+V7t2gX+6jy2rpDB9Fe05c1JxclJXCZ83T51g+vnB8uWxep/pF19MZP36m1y7lkqdOmk1UPLDGAshhO0yKZkoWrQooaGhADx58oQbN25Qs2ZN7fr4+HjpnynECyq7wcV//LHX6It+Y5gyUNmYAdBffDGRDRtuGhzMu3NnOAcObNAZOFq3biPOnClI2bIpvPUWtGypvvicPfsWgYGt+OyzadrzjoqK0sZcuXIkP/zwROd9fHwgJoYs49PYuXMnpUqV4uuvvwbg00/VF5Bt2ujGnP5i0lCbDRvWk6Cg7oSHf8Lffz/lgw+e4u+/FoDr13/D2AfZS5ZMZMWKO6xcqXD3rvrpwO3bsGYNLFsG0dHqu/SGnDhhT/v275o8IHfJkon89FMUTZroLm/SBH78McrgxXRmCcD06eoEQDMVrGasxuDBCj/9lPb5p48vq+/VkyfgnW6oSVaJdWYDydMX0GvcGL0EoWHDtrz3Hjrt3r+/us1t5amgECL/Mamb02uvvcbPP/9MYmIi165dw9HRkddff127/r///sPLy8tsQQoh8hZDg4v/+y+Z6Oj4/7+AzbzoV048z0Dl7Oa5b9asMydP/kPXrsZ11/r6608NFqKLilLw8bmLo+NKzp5NZcaMmXTpMo0vvkigbVuFr75SX1x37aq7X5s26pmLSpZ0psD/951KH19ISAgdOnTQbt+1a1fq1avKK6/MBjKP2VCbtWsXza+/HmH2bGjaVL39hx+q/ztxIuzd25MZM1bptaWhqWsrVKhPv34X+fzztKcPmlocfftCgQIOfPttCl276ieShoq65YQpXewyGzTeqlXmReyyujDP+L2KjY3h8eNUWrdO2ya74mzGdpdKH0dIyDkOHPiOWbPQJlOadldX0i7M3LlSWVoIYX4mDcCOj49nxYoVhISE4OrqSu/evXnjjTcAdReoDz74gLZt29KrVy+zB2xNMgDbNDK4ynJstW0zDii9evVf1q9fwMKFETRvnhZnZvPlGyu7Aa8DBtTAy6scBw/+RIsWb1GnTgO++eYL3n9/JJ06vcPff/+tt59mnvvw8HA++6w969ff19vG0KBqQzUWTp9Wd+uZOjXtDrf6vNUXenP/r717j2/x7B84/klPtKpaqlpFzcxsQ5U5bE4bY7VhmGFmtod25jxmGMOcD8NmZps9mwczrBSPmZ1ttjofypiNxzBUj2hTrR6T3x/5JZo2SZM0aZL2+369vF677yR3rlzu3a7vdfougfr1NYuQP/9c/zvy8uDppwN48cX3CAgI0J0PCgqiffv2uuNGjRrx3Xff4ePjY1b+imnThpWos969Yc0ajNbjiBGgULTg00/36IKHIUNe5cSJX2nWTH+hb0pKAl98cd7otQYObIibm5off/zH5GJma5ibv6M4Q3kn/vorn9u3FezcmWXRtYrf+7t2fUlKynYiIjzx8NCM2F+5Umgw54Q5v2PoUFi2TDPKUbQcpf2/0K1bFfbuvWjw+0TpnPVZWxFI3dqPUy/Arlq1KuPHjzf62scffyx7RQtRiRVfULp69QyDvfbFF6KaYqgX3FQP7o8/unHp0gXatDlNfDz07v0VwcG7OXZMzaJFi5k2zfSoSJ06dbhxoxa5uYlmLaouum2sWq2Zrz5vnmbRbMnfrZmuot3dx1BWZ5UKFIo6uo0scnJy6NWrF3/++afuPUeOHCFUu0USpWdfrl27Nv7+ocTFndbrce/Z0/DoCGjON2yoIDg4kkmThvLQQ8f56KNMxo6dx8qVal0vuHZEaOTI6kZ79OPioHfvYeTn5zBhwkfUq3d3pm1p2Y/NSeBnafZpLWMZxleunExubsmdu0xdq/i937x5c06fHlTi2qayl5v6HdrpUsXLYer/hf374YEHHjH6fUIIURZWBROmuLm54ePjY+vLCiFcWFl3eCq+25F2itTYsXP46KOSeR+OHNHsEPTZZ3eoUgUGDYLly6FDB03PjLlToXr0GMS4cZeNToUqStsATElJZvJkzbanEybAgQMwYEDJaxedrtKjh+a9NWsqqFrVFzc3N933qNVqpkyZwqZNm3Sf3blzJ23atDFYZmPTt9q0eZJJk4bSoMFRdu3Sb+z366cZHTEUTOzYAdeu+XHmzEYWL06iY0cVvXvD11+rDQaHn3+ewfTpbgwcWDI3wqZN1Zgzpx8BAQEkJvYjLS1N11tmqoFt7O/fUDBY2vQ1QwztpgTQufMzFl9Lq6zZy4v+jtzcHFSqXK5fBw+PKsyfX7VEOUzlQImJCWD69NJ34hJCCGtYHUzk5eVx+PBhLl26RHZ2NiqV/j8cCoWCUaNGGfm0EKIyMdXQKW2evKl1EdOnv0BurleJXv05c+DHHzUjAr17a0YBrBkVGT16Ct9/31JveNhUo/eeex7miSfOs3q1mk6dIDFR00g3FExs364JcDTfo8mg/cYbDZg5c5Xue06dOkU9bXIFYPny5QwePNhoXYHhXnZv77/YseN9Fi++TseOKp56Sn8kJCSk5GJv0PR+37wJiYk5/Pxzhq4OTY1kXLzoTlpaTXJzU0v0qmdn1yMoKAiFQkH79u1L5PBo1apVietZui7G2CiDqZEAY6y9VmnBjzmBRtHvLigo4MKFC/j7w7333ounp2eJcmiC2QCDoxlKZR29ESwhhLAlq4KJ1NRU5syZQ2pqKj4+PmRnZ+Pr66sLKqpXr07VqlVtXVYhhIuydvoJmM4DsHnzVZ55pg7jxvnq9R5nZmayf7+K554z3fAtbVRE22Nt7jzey5dP8e23d3vsQ0IMT2HKyYE//nDj00/v9qpfuVJIr16DaN26NQcOHOC5Ikkmhg8fzty5c83q2TbUy7569QxiYq7pyqUdCWnQAPLzITsbYmI0r+3aBWfOQEEBnD8PqanuPPDAIxw8+JtuZEk7ktGvHyWSw8XGBtK167OMG7ehRI9+p07P6I4N5fAwNNpQ2t9/8WDQ2CiDNYr+/Rdt/BsKerTi44+zePFounS5xo4dEBYGs2Yp2b9fE/yMHbuU2Ng1pf7u4r+jXbt2pZa3c+c+TJiQYNH0MSGEKCurgonPP/+c7OxsFixYQFBQENHR0UycOJH777+fb775hm+//ZYZM2bYuqxCCBdmzfQTKH2KVL9+UbRood/Qql79IuvXT+K551Qmp/CUdfeg4h5/vB8HD/6pV1Ztwz04GAoLNTszXblSSPv2fQkPvzvXKDxcs+120R7kiIgIYmNjdbs5Watz52c4cOAPBgzQ9OyPHg0nTmhee+UVzagIaAKfoCDo2lVz3LIlLF3akD59hvLpp7/y7LOa8yEhkJSkSQZnKDncokVvcPp0pF4ZivakW5JczZIpcmWdWmSIJVOsAFasmEbduteoWvVuvbz8MqxapWLKlKtMmTKMTz4ptEtSuWHDRls0fUwIIWzBqmDijz/+oEePHjRu3Jjbt28Dmoe4p6cnffr04dq1a6xbt44333zTpoUVQrgua6eMlD5FakCJkY3WrVvz8cdTyM3NMzk6UNqoiKUMlVXbcJ858+7OTNrfrd2o4vbt23Tt2lWXv8fNzY0TJ06YtbtGaQ1opVLJoUM/ceSIWjfdSpszAWDsWKhWTfPftWpp/mh9+SX06vUCMTErKSxU6erwyBHN9KeZM/W3If31V5gwIYU//jhtcnRAm8PDnNEGQwvbtSMh33xTi2nT+ul+pyWNfnNYOsUqPv44t25d5+237+7eVXR71lu34Mcf88u0EYEpXl5etG/fXnbFEUKUK6uS1uXm5ur+Afb29gY0W8JqNWnShL/++ssGxRNCVBTaaRvF/5S285s5CeYMadKkLa+8omnMubnBq69qciZMn+7O/Pk1GD/e1+bTPwyV1ctL08Ov3Zmp6O9WqVRER0dz//336wKJ7777jqtXr5oVSBRNPnf0aApxcXPp2LERn3++BpVKxfLlc+nR4yHCww+Sm6smN1eT0G7dOoiI0ExpeuUV49fftMmXyMh+dOnSl7AwBRMmaDJ7v/oqfPUVFiWHK0qTw6Nk1mkoOdpwd2E7vPTS3YRs//wDv/+ehbe3t17G6KLZyg1l/raEseRx2sb/+PH99ZIvrlo1g9270/W2AYa7yeays904cMDwP7uSVE4I4aqsCiYCAwO5ceMGAO7u7tSsWZP//e9/utevXbsmW8MKIWxGM0XKl/nza+j+lBYMvPPOZzRrthQ/v6V06LCQatXGkJExhpYtNxEe/jm9e29i2DDbbxJhbllXr15N/fr12bNnDwAff/wxCQkJNGvWzKzvKdqAnjAhk+hoCA/P4dy5PG7cmEf37g+iUn3ChQsqvLw06yJGjNBsS3vhgqZB3uf/izRihOFs2xkZQQQFBREZ2Y/MzNq0aaNZOB4Sotnm1ZC4OGjc2PRUncjI/uzYYTgINJQZWrOwXUF0NLz1liZAmzUL1qzJIjq6O0uWTDTZ6C8tuDGmXbtI9u83/NqBA/DaawV6Gdc1U7KMBUng5RXA9u2Gg8Tiv1utVhMTs86m2eKFEMIerJrm1KxZM44dO6ZbIPjYY4+xc+dObt++jVqt5tdff6WLNo2qEEKUkTVTpHx9fR2SOLO0sv7444+89NJLutdq1/Zhxoy39LJZG1J8OtOePZvZsuUq165pFkLPm3c34/TSpWp69cpk9mw4eVIzOlOnDqxYAf/+t34CvfPnIT4enn8eHn5Y+13w11+QmppGfPxxIiJac/NmANu3p/DVV5oRgp07DeeS2LkTkpMPmfwtlubwKL6wXatTJ9i8+Sq9eoVw8KC71VsPGxIff5zvvvuCv/6CImvhdf77X23yuLvTnqKj5xEbG2hwSt66dQp69hzEyZM/lboRgT2mbAkhhL1YFUz07duXCxcukJ+fj6enJ/369ePWrVscPnwYNzc3OnbsyLBhw2xdViFEJWXLHXrszVhZz58/z+OPP6477tEDWrWCa9eySUpaZLKxaKhxqVTW5uBBd9atKzS49W3nzvqJ8b76CvbuLfm+Jk00rz31lGbxNUBysmYXot27lYwerZnH36lTH37+eSUHDuTRrx9s2mR4HcrVq9Crl4HWdzGW5PAwtLBd6+BBd3r2HExs7Carth42ZtWqGWzffp2oKMO/U5s8DoqueVhBQYHhXcsyMhowZswbbNhQzeRGBJau0xBCCEdTqGXs1Gypqank5+c7uhgux9x07sJyUrf2Y6u6vXXrFo888giZmZkA+PnB5csQEKB5ff9+zdSd55+HjRvrG1zUW7xxCbBzp4I1axT07q0iONjYblWQkqIJKD78UBMsGMp5sXUrHDumGeHQatUKdu1y58KFGQwbNpK8vDz27dvH7t0Tef/9WwwYAM2ba7aX1bpyBU6dqsZHH8WZXNiuUCioVasW33//fYm6LbowXSs5OZl33unJpk0lg4Xnn6/D1Knf8sYbg9m9+1yJRnyfPk1Zt+4no2UxZv36j2nSZCFXrxby11+a35mTo1l/k5Sk2cXqtdfuvn/bNk1d5eXd4dq1ksFCvXqjiYqaQF5eHqdPny7xfdrfPXx4JGvXni4R9AEkJEBUVAuji7TleWA/Urf2I3VrP+bWraenp1nr9IwpUwbs/Px8Ll26REZGBvfffz9+fn5luZwQQlQYBQUFDBkyhP1FJt3v21dy0bJ2ce6oURjc0cdYnoW+fdWsXq3mqac005iMZa9etkzz3/36waJFhoOJdevc+Owzla6nXator76Xlxfdu3dn48Ygata8RfXqMGSIZv2CVm4uXLhQz6wdsizJ4WFOnhJrtx42RruL1Lp1ybptdNPS4IMP4O23NcFWUdq68vf3NznNrbRRtrJmixdCiPJmdTCxZ88etm7dqtvFaebMmTRr1gylUsnEiRN54YUX6KrdrFwIISqRRYsW8cEHH+iON27cyJUr50hNXQiUbCQeOqRJrmeosWiqcalJiAZ//FH6VJyAAHj//ZJlzcmBS5c8CAjIK3He0PoFbaO9atV8/vOfXOrVA5UK3NyqkJzsSefOz2APpQULtsx8DXcDGLU6WbeNLsDq1ZqdsIoGUcXrqixT8sqSLV4IIRzBqmDi559/Zv369Tz66KOEh4fz0Ucf6V7z8/PjoYce4sCBAxJMCFHJ2SOJmDP773//y+jRo3XHM2fO5NVXXwUgOflBo41E7QjCxIklG4umGpdZWTB0qCZb9YgR0KhRVdzd3SkoKODKlVw8PKowf35VAN56KwPQrHW4dEnTAC4s9CA1tQqNG0cwbtxJs3r1tY32/Px8/v77b935xo0b4+HhYZMEaYbum9KCBXusqzEUwNy5c4dXX4V77/XWnbNllumyZIsXQghHsCqY2L17Nw8//DATJkzQzQMuqlGjRnzzjfWJd4QQrq8y7Ujz+++/07NnT93xM888wwcffICb293dt001Em/dAn9/w41FU59TKuHpp6F7d/j2W1i0KJTp09+loKAAP78L3HvvvXh6ehIRMR7IICMDGjXS/AE4daqQPXuqMWPGOKpW9db73qINdUONe4ArV/7SnWvbtq1NAkVT9015L8I3FMA8+GA+CoUCD4+7/3zaOsu0radsCSGEPVkVTCQlJen9w1mcr6+vLjO2EKLyqSw70qSkpBAREaE7btiwIT/88AM+Pj4G369tJNapk49KlYubmyYJm4dHFcaP9zTaWLz7uQLc3XPw8tIsdu7eXfO6lxfk5bnzzDMv6Brc7dq1A8DHZx3+/pcBqFEDvSk77dur6dUrhaioBUYX9Rpq3I8d+w1ubmrCw0/ZNFAsft+o1RAWpiQm5meee649Cxeup1Wrh62+vqUctYuYradsCSGEPVmVtM7HxwelUmn09WvXruHv729tmYQQLq60zMHWJhFzFrm5uURGRuoFEocPH2b//v1GAwnQNBJ7995Eq1ab8ffXJNR78MGlvPTSJpNJ9LSfa9z4Yw4cCKBrV3j5ZSgyo8pgsjcPj7/w958BwH//a3nmZUOZpXv2VJKc/Bvjx8fZNNs06N83GRl3M17Hx8Ozz6YzZcoLBkfDS+NqCeC0QUyrVq34++/TzJgRxcWLZ/D09HR00YQQogSrgomIiAh++uknsrKySrx29epVfvrpJ5fZE14IYXumMwG77o40arWaadOm0ahRI932ntu3bychIYF69eqV+nltI7Fdu3a88MILuj/t27endevWJbZELf657t27o1YHERGhGWHQvt3wfPo7BAV1A+DcuQ18+aV5mZeLMhQUzpsH27ZB8byktggUtffNkSOa3adGjryb8Xr2bFiz5rbFAYtSqWTSpKEolYs5dixFL2O1M3PVcgshKh+rpjkNHjyYGTNm8Prrr+uChl9++YW9e/dy+PBhAgICGGBo/8FSnD17ll27dnHp0iVu3brF5MmTadu2re711atXs2/fPr3PhIeHM2PGDJPX/fbbb/nqq69IT08nLCyM4cOH07hxY4vLJ4Qwj713pHHEwu6NGzcydepU3fHSpUsdkmHb3Pn0detqnnErV1YDrpGSUsPiRb2GdpLq2VOz+5ShrWjLGihq75vMzGSDifi0Ga+Lb59rjKtOt3PVcgshKiergomaNWuyePFiNm/ezIEDBwD47bffqFq1Kh06dOCFF16wKudEbm4uDRs2pGvXrizTbo5eTMuWLfV2Sym6CM6QAwcOsGHDBqKjo7nvvvv4+uuvWbBgAe+99x41atSwuIxCiNLZc0ea8l7YfejQIfoXaTkPGzaMhQsXOmxXKnPm0/v5DQYgLc2NUaOyWLRoMXfu1GLkyGo0bnz3mVnaol5DQWG/fjBlirEkeZYHisUDw5SUGvTpk2yTgMVYjo67GavNC0rKm6uWWwhROVmdZ6JGjRq8+uqrvPrqqyiVSlQqFX5+fnq7l1gqIiJCbw6yIR4eHhatx9i9ezfdunXj8ccfByA6OpoTJ07w888/07dvX6vLKoQplW1LVEPssSNNefbYXr16lbpFWnPh4eHs2LGDKkWjIwcobVFwauoS6tb9DYDAwLt11K3bbV5/PZDmzSfTpElToPRFvYaCwpAQTfI2Q3ktLA0UlUols2a9qhcY3rlTi/37vcnNzaF//5JrGywJWJwlAZylzwNnKbcQQpijTBmwtcoz8/XZs2eJioqiWrVqNGvWjMGDBxvtjSwoKODixYt6QYObmxvNmzfn/PnzRr8jPz+f/Px83bFCocDb21v338Iy2jqrLHVnqIE0adIPzJv3sc17zp25bl96aQynT+une27ZUtN4tba8q1a9VWqP7dq13xr9/N1G3XuMGDHRYKMuKyuLJ554gn/++Ud37uTJky6xv7+7+9+EhxvITIemjrZvTyEqaiNDhhivo+I6d36GceM+NDvXgjl/twqFgiNHDvHGG4NYsOCaXmCoCXpqk5fnZ3Rkq06dOmaVvWfP/ixdany63bRp/e3+/441zwNry+3MzwNXJ3VrP1K39lNedWt2MLFkyRKLLqxQKJgyZYrFBTKlZcuWtGvXjqCgIJKSkti8eTMLFy5kwYIFBkdEtCMmxUcy/P39uX79utHv2bFjB9u2bdMd33PPPSxZsoTatQ0vYBTmCdam4q3Ajhw5xLRpQ5g37x86dLjbQNq/fx8jRz7JkiWbadu2fSlXsZyz1m1YWJhNr9enz4scOjSN/v0NZZF2p0+fYYSEhBj8bEZGBuPGDaJJk0McPZrBkiWLefPNfaxa9SV+fn6oVCqGDBnCl19+qfvMsWPHnGYzCbVazfr1H7Fy5Txee20Ww4a9WuwfiFxAE2Xt2+dGly6qEtcorY4MmTp1HidO6I8EdOmi6WwpvrtQq1atjC4iLy46uhebN18xGBhu355M//51mTCheomRraeeesHs8oeEhJCeXttIjo4gwsPDzbqOtax9HpS13M76PKgIpG7tR+rWfuxdt2YHEydOnMDT0xN/f3+zttWzRxTUoUMH3X83aNCAsLAwxo0bxx9//GHT/bf79etHr169dMfa35KamkpBQYHNvqcy+e67Hbz77hyjvcEVxaxZI9m48VKJBlKHDio2brxMVNRIkz3nllIoFAQHB5OUlOT0213awqOPPsHSpYH071+yx3bbtkCmTXuCxMTEEq9pp0cV7QWfOTODuLjv6dWrGffd9wRr1/5H9/4PP/yQfv36OU3dFu3dPnw4k0WLpjF48Fa93u2QEM1Nl5QUxZo1X9Gli2V1ZIq5QeGNGzfMep9CoaBnz8EcPHjS6FSePn3+RXi4fkO7RQvNyJYl5X/kkacYN+5yiaCkXbueFteDpcryPLCm3JXteVCepG7tR+rWfsytWw8PjzJ1mJsdTNSsWZObN29SvXp1OnbsSIcOHRyeS6JOnTpUr16dpKQkg8GEdg1Henq63vn09HSTZff09DS6n7fc6JbRLpZt3jyeo0czWLRoERMnfl8hsyADdOnyDAcP/mFyrrM97iG1Wl0p7s2goCCTC7tr165tsB7ef3+6wV7wzEwVv/12ld9+0wQSY8eO5c033wTu/r9elrq1xdoZU+tEoqKeYOrU1XTtugaAwsJgVKo5pKb+ZnEdlbd+/V7g9deXmdjxa4DRqWWWlP/FF0dx+nRHvXPatSL2roeyPA/KUu7K8jxwBKlb+5G6tR97163ZwcRHH33E2bNniYuLIzY2lo0bN/Lggw/SsWNH2rdvr1tTUJ5u3LjB7du3CQgIMPi6h4cHjRo14syZM7otZlUqFWfOnCEyMrI8i1opVcbtDe29JaqwbmF38QWtf/0FDzxw9/XGje/hp59+KXV3OEvYatep0nb2+fzzsTz99BUAkpOPAfZZ/G5rISEhpKYG2GXHr6IclcUayvY8cGS5hRDCEhb9y/nggw/y4IMPMnz4cOLj44mLi2Pt2rV8+umnRERE0LFjR1q3bm11ls6cnBySkpJ0xykpKVy+fBlfX198fX3ZunUr7dq1w9/fn+TkZDZu3EhwcLDe/NG5c+fStm1bXbDQq1cvVq9eTaNGjWjcuDF79uwhNzeXxx57zKoyCvNVxu0N7bklqtAwZ2vU4rSNuq5dk7n3Xrh1S3Pe3x8ef7w2s2Ztt2kgYctA2tTOPqdOuTFtmiaQSEr6HdCMelhTR+VNrVYTEFCPESP+olGjqnh5af6Hcbagx5TSRp7keSCEqAys+tfTw8ODNm3a0KZNG3Jycjh8+DA//PAD7777Ls8995xVCesA/v77b+bMmaM73rBhAwBdunQhOjqaK1eusG/fPrKysqhZsyYtWrRg0KBBesFLcnIySqVSd/zoo4+iVCqJiYkhPT2dhg0bMn36dIdP0aoMKuv2hq7QK+xoZZn+Y02Pba1atfj++0xq1rx77uxZuOce6NOnls0bdbYMpE31bj/1lCZQSUvbjEpVS3fe2Xu1lUolU6f+i6ZND9G9O6xf78bly/cSHT2F8HAfpwp6jDF35EmeB0KIik6hLsMkqvz8fI4fP05cXBzx8fG4ubkRHR1N586dS/+wC0pNTdXbMlaYlpyczDvv9GTTppKNoOefr8PUqd9WyJ65vLw8Tp8+XeJ88+bNzd7pxlwKhYKQkBASExNdZq5p0UbYtGmZLFrkx9mzre22jmbp0qWsXLlSdzx0qA/336/pgLhypZB69UYTFTWhxOfKUrfr139MkyYLDQbS27a5c+HCDIYNG2n29V56qSu7d5/DUIqL27ejUSrfdpncJvHxx1m6dCwLF17T7XAEEBfnxvTpoS4x/dHQyBMY/g3yPKgYpG7tR+rWfsytW09PzzItwLY4mFCpVPz+++/s37+fo0ePkpubS4sWLejQoQNt27alatWqVhfG2UkwYTlDjaCcHOjTpynr1v3kuIJVEK72EDbVCHvzzbq0bfs0P/ywg4iIdpw4cYioKOt3/9q1axejRo3SHU+dOlVvRzgtY406S+q2eEO+U6cnWbbsKZsF0p9++h7Xrt3t3e7dO5vw8Hxyc724ceMSGRkZREf3ITn5b6ZNU3P1anX+/PNhp9zoYPjwSNauPV1i1AYgIQGiolo4/fRHZ/0NrvY8cCVSt/YjdWs/5RVMmD3N6dy5c8TFxXHo0CEyMzO57777eP7553nkkUfKNWmdcC3aIf6GDT1QqTQ3sgzxV17Gpv80b64iJOQanp7/5tgxFdOnf0Xt2pCUtNDg1BFTvfBnzpzhySef1L23V69efPTRRwZz0diCoekuS5b8QFqa8aRrlo7IFV0DERx8iPDwhQAkJv7JkSO/MnPmv3j++RymT4clS+DSpUyGD//F4vUZ5TG6URGmP1aE3yCEELZi9sjEoEGD8PLyIiIigg4dOpgVwTRq1KjMBXQmMjJhuby8PM6cOUNgYCBpaWm6yNgeQ/yVkav16Bia/nPkCEybBm+/DUVnSP72G4waBa+8Atu21dc1iotPk5oxQ8GRI/exYMFndO7cWVcP9evX58cff8TX19eqsppTt6ZGWkaO9KV9+3zuuefufW5qWpU53NyuExzcBoCkpBMcP36NN954lk8+yadjkV1E9++Ht96C11+H1avN6yW35fQzU0FJWac/OsN0LmedwulqzwNXInVrP1K39uN0IxOgaRgePnyYw4cPm/X+oplkReWkXQgqDwoBhhcTz5sHGzdSYrSiUyf47jvo2hWWL7/KBx+8xdix80s03ufPVxMRcZ5One7uXnTw4EEaNGhg999jaqH17t1Khgy5l75939WdL9uOSoW6QOLGjXWoVHVYteolfvwx30BSNE2dDh4MTz/dt9Qr23L3qdIWJmt2OLJuS1hbbbdbVrJLkxBC3GV2MFF07rEQQljDUCOsZ0+Ii4OBA0u+/9AhePllzdSdp5/uq9d4V6th/Hj44IO77w8NdWfNmh3lEkiA4ekuajWsX68pc0TE/bRq1comPechIU0AyMp6gdzc7rrvP3DgDwYMUJV4/6FDUFjoS2Rk6blNbLX7lLlBSefOfZgwIYF69e5OPStt+qOz5a2RXZqEEEKjTLs5VTYyzck6MoRpP65Yt8UXE2dmqvj990y+MdBWHToUHnsM1q715cMPf+Obb7Zz773zyMyEqKi77/voI6hdG86fh19/tc3iV3Pqtvh0l4wMGDcOmjSBKVNg4UJf/vyzTZl7zmvUmEG1ausAuH49wej3F/XCC3DtWmM2b95X6vVL233qf/+bjrd31VKnFpm7MDk/P5/ExES9qY9gevqjsy16Ls9dmszlis8DVyF1az9St/ZTXtOc7LMiUQghjBg2bDS9e28iPPxzwsM/p2PHL0hPDyU3V/99OTma5HI//wyensEEBQURHHwPgwbdDSReeQVUKnj1VdixAwID3cp18evdkRbN2o9+/WDkSM16BS8vePvt24wbp+k5j48/btV3VKnyc5FA4h+j319UTg788Ycb3br1N+s7IiP7ERsbaPC1bdtqcvDgjyiVizl2LIX09MVMmvQimZmZJd6rGalxN3AV/YXJXl5etG/fntatW+v9MdUIN/fa5UU7hdOS31CUWq0mJmYdkZERbN26XhpRQgiXZbuUr0IIYQZDCdV69hxCVNRymjZVoe3wvnJFMyrxxRdudO36BKGhobr3h4drpvFod6LWBh5799Zm6tTSp/XYkna6y4kT2ezapbJpxnc3t1Rq1RoKQHLyEQw9srXfHxp6tzF65YqK9u2fZdgw86anmloDcPLkLT799LBZU4tMJdiLjQ0s09+Nra/tyIXczrL2QwghbEGCCSGEww0bNpoFC65z5Mh2ate+2yg+eVLN5ctevPvux7pzkyePIilpDcuXlww8fvih/Be/ardt9fTcwYED6w2uXyjec25eQ1ZFcHBLAG7eXENhYSiGFN02VqtVK8un2xhaA3DuXCZDhhTo7RQFxgMkey5MtuW1HdmYd7a1H0IIUVYSTAghHM7Ly4sZM+Zz+vQgQNPYXrFiBfv27QM0c3i+/vprWrZsSV5eHgsWKDlyZDvBwXdnav71Fw5Z/KodaalXrx5Ll+5mwIDUEu/Ztq0m06Zpes7NbcjWqdMSgOzsfuTk9Cr1+8vKUFCSkLCDJk3WAyUDpAMH3Dh//m+2bl2vFwzZc2GyLa7t6Ma8rRa7CyGEs5AF2BaQBdjWkcVV9qFWq9m2bQPr1r3Pv/41gWeffbHc99u3h08++YQ5c+bojletWkX//vpz/8tj8aul9218/HFef70/p04VlOg5b9nSg+XLtwMYzEuxbx9MmhTAnDnradWqNdWrL6B69Q8B/QXXtlbaCImpBd7PPKNg1So1//mPfj4Kc/5urH0m2OLv3dELuUtb7H7hwgyGDRtp1bXlWWs/Urf2I3VrP06ZZ0II4RyK9m4fPpzJokWLmDTpe5eec71v3z6GDBmiOx41ahRvvfWWwffaqjfellatmsGQIQVMmABFd6a9cgWGDCnggw/eQq1WG+yV7tIFdu26RY8eL/DNN6uKBBKX7VZec0ZITE0tKihQ06CB4V59e/3d2OLv3dHZq+25rkQIIRxBggkhXIyjp2nY2t9//03nIqmvH330UTZt2oSnp6cDS2W5Ll36cs89f9CjR8kpQZcuueHl1Re1Wm20IXvoEAwYkEmDBi8DkJy8H7BdHRQdhXjiif4cO/a1WfdQ0alFWVmZVKum4to16N797rVdaYqOoxvzkvBOCFHRSDAhhIupKHOulUolHTt25MaNGwBUq1aNQ4cOUbNmTQeXzDraRqqhKUErV2p2mVKr1UYbsjt2aLJWAyxdWp+hQxvarGzFRyEeeeQTvvqq9J2n1Go11apVJy7Ok549B5GVlYOf3wZefllFq1b6n3XE9qzWcIbGvCS8E0JUJBJMCOEkzN2q0tHTNMqqsLCQl19+mb179+rO/fTTTzRt2tSBpSo7cxupxt7zzjua/75+HVSqf1lVBkP30MmTJ0qMZI0YoeLAARgwoOQ1tPdQ0QDk5MlMFi3axMWLzbhxoxZvvllykbkrTdFxdGPe0GL38HDN2g8hhHA1EkwI4QQs2aqyrNM0HLm//rJly3j33Xd1x//5z3/o0aNHuXx3eTCnkdqpUx/Gjv2Q2rWz8fXVLIhr1gz6/P9bXn+9jlWNcmP30M2bKSVGsvr102ToNhRMxMYG8vTT9/LKKz0MTIM6RHS0G3Fx6G0X62pTdBzdmHfGNT9CCGEtCSaEcDBL10CUZZqGo/bX37NnD9HR0brjqVOnMn78eLt9n6OY00jVvmfevLEsW3aFmjU1wQRY3yg3dQ+NHFmdAwfc9PJfhITAjRuQm4vBe2jjxmVGp9L9+KOKnj3dGDjw7v3ialN0TDXmHRlsCyGEK5JgQggHs2YNRNEecDc3BSqVutQGnSMWbv/xxx96Iw89e/bkk08+wc3NzcSnXJc5Pc7a9/TqNYjY2A9ZuTILgI8+8iU+/m6uDGONWkPnTd1Dn3+ewVtveZRIptejB7zyioJ77/XV/X1o7yFPzyomp9J17jyM8PC7oycVZYqOpcG2BB5CCAEV8190IVyIZg2Eu8HXjK2BGDZsNL17b6Jly4107foNLVtupHfvTQwbNsro92gbnEXzG8DdoOWDDwxvw2qNtLQ0wsLCdIFESEgIf/31F59++qnJQEKtVhMTs47IyAi2bl1fofccHzZslC6QOHVqDPXqbaJXry+oVs2XJ58MZ/Dgx8nIWMSxYymkpy9m0qQXuX79OpMmDUWpXKx3vl27nkbvoYsX3UlNDSA3V//88OHw558NiIj4gvDwzwkP/1x3D0VG9iM2NtDg9WJjA4mKGk/r1q31/tgqv4ctWXI/xccf55VXejBu3K/MmpWJl5cm2B43ThNsx8cf13u/Uqk0+HeRmZlp758lhBBORYIJIRystIZbZGTJ+fPa3u3WrVvTvn17sxp01gQtlsrLy+OZZ54hPDycgoICAPbv38+xY8dKnUZV2RpnoaGarNa5uR2oXXs69913H1988S5K5WKOH0+ja9f/cfHibXJyNI3abt1+ZujQ9owdu69EY/eHHzbyySd+Br8nNjaQxx9/jnHjfJk/v4buz+TJvvTqNchgUHB3Kp3+tVxpbYSl95MlwbalgYe5KlMwLYSoOCSYEMLByqvhZk3QYi61Ws2sWbO45557OHbsGABffvklCQkJNGzYsNTP26tx5qyqVfsYT8+zANy4EaP3++fMycbLC+bMgVdegWeegSNH4KuvYO/eQjp10m9gduyoYuvW6/zzT7bRe2j06Dfo3XuTbgSi6CiEMZqpdPoByPjxvi6xNsKa+8mSYNseo3yVLZgWQlQcsmZCCCdQHltV2mt//ZiYGCZOnKg7nj9/Pi+//DJbt64nMnKcWXPJK0ruDHN4ev5OjRrzAEhMvAAY//0dOmhyT4waBT17YnI71wceeIRx444ZvIes2T3I0TselWU9gjX3kyW7pNl6e+aKlohSCFG5SDAhhBMor4abLYOW48eP06fP3c8NHjyYZcuWkZmZyaRJQy3aMcpVc2dY2uBVKLKoXbsnACkp36NWewOmf/+hQ5pAom9fiI52K7GQGjSN3enTl5KUlKR3viz3kCO3LzV3IbSx+rfmfrIk2LZ1Fu3KFEwLISoeCSaEcALl1XCzRdBy/fp12rRpoztu2rQpu3fvxtvb2+oeVls3zsqDNdvshoQ0ASAjYw4FBQ/pzpv6/Tt2wLJl4O8Pf//tQW5unsHGbmhoKKGhoXqfdcXdhsy9h0zVv7X3k7nBtq1H+Vw1mBZCCJBgQohKpSxBy507d+jZsyf/+9//dOeOHTtGSEiI7tjaHlZbNc7Kq/FsTdBUq1ZfAPLyIsjKitJ7zdTvP3fOjU8/rc6VK4U0adKSceNOmjWy5KicImVlzj00duz8UuvfmvvJkmDblqN8rhhMCyGElgQTQgiT1Go1r732Gtu2bdOd++qrr2jVqlWJ95alh7WsjbPybDxbGjT5+KyjSpWjAKSl7TZ4zaK/X61Wo1IVcuWKitatnyU8fCDh4XD//fdz7tw5vc8Zauy68hx8c+4hc+rfmvvJkmDbllMT7bWeSQghyoMEE0IIo9auXcvMmTN1xytXrmSAoRXA/890D2stHnggj8jICIOjBmVpnJV349mSoMnD4y/8/WcAkJh4rsT7tQz9/latNL+/6Ja/5jR2XXkOvjm99Gq1utT6Hzz4X3Zdh2TrqYnmBD+uOG1NCFHxSTAhhCjh119/5fnnn9cdv/LKK8yePbvUz5nqYT1zJosHHlhtdNSgLI2z8m48mz8t5Q5BQd0ASE3djVrta/SatmycuvIcfHN66c2pf0cuILdGacG0q05bE0JUfBJMCCF0Ll26RMeOHXXHbdu25csvv7Qou3HxHtbCwgIuXMimW7csZs3SvMfWowbl3Xg2d1pK3bqNAVAqp5GfH2HTMpjiinPwi/a6N23agrFjrxEWdvefqKK99BVxWpCp4MeVp60JISo+CSaEECiVSrp06UJKSgoAVatW5ciRI9SqVcviaxXvYV2wYCIzZvzNk0/qv8+Wowb2bjwbml5S2rSUmjVfACA/vzG3b48r0/dbytUa2yV73Q9z6ND9PPHEFHx8fICSU5TKIzeLs3DlaWtCiIpPggkhKrHCwkKioqL4/vvvded++OEHHnzwQauvWbyH9ZlnhpCXtxAvL/uNGljSeLZ03rlSqWTWrFdLTC95662VXL5seFqKt/eXVK36CwCpqb+U+fdZw1Ua24Z73TOJizvJ9OlvGO11d3RSvfLkytPWhBAVn0KtVqsdXQhXkZqaSn5+vqOL4XIUCgUhISEkJiYit5ttlaVu33vvPd555x3d8WeffUZkZKSti0hycjLvvNOTTZtKjho8/3wdpk791iY95Z9++h7XrpVsPNerN5qoqAmAfg/4tGmZLFrkx9mzrQ3OO1coFFy9+g9vvDGIBQuu6Rq6AHFxbkyfHmqwoevufoE6dboAkJj4B2q1f5l/mzXy8vI4ffp0ifPFF3Q7QtH79l//epK1a0+X6HUHSEiAqKgWlb7X3dz/h+RZaz9St/YjdWs/5tatp6cntWvXtvp7ZGRCiErm22+/ZcSIEbrjyZMnM3HiRLt9X3lNuSmtp9qaeefz5o1l8+YrFkwvydUFEmlpOxwWSIBjM1hbQnrdS+dq09aEEJWLBBNCVBJ//vknTzzxhO64e/fufPbZZ7i7u5v4VNkplUoyM3N59VVo3FjTACos9CA1tYpNp9yU1ni2Zt55z56DOXjwpNkN3bp1GwGQmTmBvLy21v2QSsYVF4s7gqtMWxNCVD4STAhRwd28eZM2bdqQk5MDQFBQEPv27cPPz8/u360dDVi06Bre3nfPnzpVyJ491Xj66XZ2L4OWNT3g/fq9wOuvLzOroRsQ8AoAhYXBZGZOsV3BKzjpdTdPZVojIoRwLRJMCFFB5efnM3jwYA4dOqQ799tvv9GoUaNyK4Ox0YD27dX06pVCVNQc2rYtn/nw1vSAh4SEkJoaUGpD19t7J97eXwOQnHzMPj+gApNe99K5yrQ1IUTlI8GEEBXQ3LlzWbNmje548+bNdO7cudzL4Uzz4a3tAe/cuQ/jxl0z2tB1d79CQMAYAJKSfgckI7GlpNddCCFcl1MFE2fPnmXXrl1cunSJW7duMXnyZNq21cw7LigoYMuWLcTHx5OSkoKPjw/NmzdnyJAh1KxZ0+g1Y2Ji2LZtm965unXr8t5779nzpwhRrtRqNTEx61i+fAnXril15+fOnau32Lq8Odt8eGt6wIcNG83vv3fUO3e3oZtPnTqPAJCWtgWVyvK8HEJ63YUQwpU5VTCRm5tLw4YN6dq1K8uWLdN7LS8vj0uXLvHss8/SsGFDbt++zbp161i6dCmLFy82ed369eszc+ZM3bGbm5tdyi+EI2RkZDBsWG9++umE7lxYWDDffvtzuayLMMXZ5sNb0wNuqqFbt24oALdvR5OX18nge4QQQoiKzKmCiYiICCIiIgy+5uPjoxcQAAwfPpzp06eTlpZGYGCg0eu6ubnh7+9vy6IK4RR++OF7XnrpZd3xAw/AsWNw4kQKr7zSw2jCr/LkTPPhbdkD7u+v2U5XpaqOUvm2Ta4phBBCuBqnCiYslZ2djUKhwMfHx+T7kpKSGDlyJJ6enjRp0oQhQ4aYDD7y8/P1ktMpFAq8/38rGlOZcoVh2jqTurOdO3fu0KtXL/7880/duStXoH59zX8X3e507dpvHVRKjZdeGsPp0/rrNVq21IwGOPM9Yeq+rVLlG3x8YgBITv7TYb/jbjbv9xgxYmKp2bydhTwT7EPq1X6kbu1H6tZ+yqtunTYD9sCBA/XWTBSXl5fHzJkzCQ0NZfz48UavEx8fT05ODnXr1uXWrVts27aNmzdvsnz5cl2AUFzxdRb33HMPS5YsKdsPEsIG1Go1UVFRrF27Vndu4UI33nxTVeK9sbHupKQsYdSo18uziJXANeD/ozauAyEOKUVGRgbjxg2iSZNDTJmSwZIlNbhw4RFWrfrS4dPbhBBCVB4uOTJRUFDAu+++C0BUVJTJ9xadNhUWFsZ9993H6NGjOXjwIF27djX4mX79+tGrVy/dsTaiS01NpaCgoKzFr3QUCgXBwcEkJSWZTOcuTFu3bh3Tp0/XHb/77rs8/vjjLFvWE0gs8f5t2wKZNu0JEhNLviZKZ/i+LSQkRBNI3Ly5gdxcMFT39qbN37FgwTVdNu+ZMzOIi/ueXr2aMW3ah2Wa3mbvEQ95JtiH1Kv9SN3aj9St/Zhbtx4eHtSuXdvq73G5YEIbSKSlpTFr1qxSpzgVV61aNerWrUtSUpLR93h6euLp6WnwNbnRradWq6X+rLB//34GDhyoOx4xYgRz5sxBoVCgUCi4caMWubmJBhc4165dW+q8jIretyEhjQHIyhpKTk43wDF1+/7709m8+YqJbN4zSmTzNpdSqWT27FE89NBxjh7NZNGiRUyc+D1z535E9erVbVD6u+SZYB9Sr/YjdWs/Urf2Y++6dalgQhtIJCUlMXv2bKv+YcvJySEpKYlOnWTnFeHc/vnnHx599FHd8cMPP8zWrVvx8vLSe1+PHoMYN+6yUyxwdjZ3e9hXMmLEa2XqYa9RYwYKRS5qtYKMDMdOe7RX/g7tiMfChQm6EY/Zs5XExe0jOrq7UyzoF0II4Vycao/UnJwcLl++zOXLlwFISUnh8uXLpKWlUVBQwIoVK7h48SLjxo1DpVKRnp5Oenq63tSjuXPn8u23dxecbtiwgbNnz5KSksK5c+d45513cHNzo2PHjsW/XgincPv2bR5++GFdIOHh4cGpU6fYuXMnO3duIjIygq1b1+t6GUaPnkKfPpsJD/9c96d3700MGzbKkT/D4ZRKJZMmDUWpXMyxYymkpy9m0qQXyczMtPhaVar8TLVq6wBITLxs24JaITKyH7GxhjeRiI0NJDLSuvwd2ozl2kBCSzviMX58f717TwghhHCqkYm///6bOXPm6I43bNgAQJcuXXjuuec4duwYAFOmTNH73OzZs3nooYcASE5ORqm8m7Tr5s2brFy5kszMTPz8/GjatCkLFiyQBYrC6ahUKkaOHMmePXt0577//nseeughXcP4oYeOc+xYJosWLWbSpB+YN+9jQkJCaN26tTTwirBlD7ubWyq1ag0FIDn5CM7w2LRX/g5TIx4HDsBrrxVw86bm3rPHtCchhBCux2l3c3JGqampelvGCvMoFApCQkJITEx0mgavLae/2MKqVav0ki9+8sknPP3004DhhjFAXJwb06eHsmxZDPXrhzlN3TqD4cMjWbv2dIk1BQAJCRAV1aLUNQWa+7YOoJk+dvPmJ+TkPG2H0lrn00/f49q1kvk76tUbTVTUBKuumZyczDvv9GTTppIZy4cOhWXLIDj47r1n7bQnZ3wmVARSr/YjdWs/Urf2Y27denp6lmkBtlNNcxKiPNhy+ktZff/994SGhuoCiddee42EhARdIAGlTz2ZP39suZbZFWh62N0NvmZqTYFarSYmZl2RqWR1AMjO7u9UgQRosnn37r3JptPb7o546J/PyYFbtzSBBNy99z744K0y/AIhhBAVgePH64UoR86ywPTcuXN6WxN37dqVdevW4e6u3wBWq9X4+4cSF3eaIhs66Rw86E7Pns/bu7guJzKyH++88wnPPluyhz02NpCpU0uuKSi6i9GxY5kcPTobhSIPgPT0VXYvs6Vsmc27qKIZy3Nzc3F3zyEpCbp3139fWRZ6CyGEqDhkZEJUKqX18tu7p/XmzZs0adJEF0jUqlWLs2fP8vnnn5cIJLQjKPXr/8auXYavFxsbSL9+L9i1zCV7640PlVryXnsy1cNuaE1BfPxxXnmlB+PG/cqsWZl4eUGHDppA4vHH6xEff9xpfpshtixb0RGPxo0/5sCBAF5+GUaP1n9fWRZ6CyGEqDgkmBCVirXTX8oqPz+fgQMH0rx5c7KysgD49ddf+f3336lRo0aJ9xdt3L7zThY3b2K0YRysnXtiQFkbmZZMCXOm6WOg7WH3Zf78Gro/48f7Gtwy11iQCbBx4zVWrnzTqX5bUbaud+2IR+vWrenevTtqdRAREVB0R+KyLvQWQghRccg0J1GpWDP9pawWLFjAhx9+qDv+4osveOyxx0x+Rtu41S4g7tEDJkyABg1ApYKsLDdu3PAxmUui+LQd7Q5Q5u7CY8mUMGeZPlbUsGGjOX1aP59MeDg0b968xHtN72LkRkLCNWbN+tNpfptWedR70WlPWpLHRAghhJbs5mQB2c3JOs62U8NLL3Vl9+5zJbbU7NOnKevW/WSz79m5cydjxozRHc+aNYuRI0ea9dn16z+mSZOFusZtXh6cOKF5be9eN65de5mePfvSokULwsLCStRtaTtAmdPItGRHJFvsnuRIpnYx6tnTg0WLCmjZsuTnHP3byqPe8/LyOH36dInzzZs3L5FA0VzO9kyoKKRe7Ufq1n6kbu2nvHZzkpEJUenYu6f11KlTPPXUU7rjfv368f777+PmZv6swuIjKF5e0L695rWVK2szdeo4goKCjG5nW3xkQ0u7NiQq6q1SG5mWZFm2V0bm8lKnTh2efLKgxPmcHEhLq8nff9+gZUvn+23lUe/2WugthBCiYpBgQlQ6lkx/sURycjKtWrXSHTdq1IjvvvsOHx8fi69V1qRktmhkWjIlzBHTx2zJ0/MoL710A4BFi/woLNQEadeuqXj88QHExsY65W9z9XoXQgjh+iSYEJWOrXtac3JyeOaZZzhz5ozu3JEjRwgNDS3TdcsygmKLRqYlAY29MjKXB4Uig9q1+wLw88+radas/v+fV/DEE4GEhIQQFfWTU/42V653IYQQFYMEE0JYSa1WM3XqVL744gvduR07dtC2bVubXL8sIyi2amRaEtC45kJdNSEhDwKQnr6U++/vq3ul6FxTZ/5tzlw2IYQQFZ8EE0JYYcOGDbz55pu643feeYchQ4bY9DvKOoJii0amJQGNvaaP2VPt2ppMbLm5HcnONp6vw5l/mzOXTQghRMUnwYQQFjh48CADBgzQHb/88svMnz/f6EJoR7JFI9OSgMZW08fUajVbt65n7dqVjBjxGgMGDLNL/Var9hGenn8CcOPGlybf68yLkJ25bEIIISo+CSaEMMPVq1dpr91OCYiIiCA2NpYqRecQORlXbGSWNTeGuTw9f6dGjfkAJCZesNl1hRBCiMpGMmALYUJWVhbt27fXBRIKhYKTJ0+ye/fucgskyprF2lUUzfo9a1YmXl6aBGzjxmkSsMXHH7fJ9ygUWdSu3ROAlJTvUau9bXJde6ksf/9CCCFckwQTQhigUqkYOXIkTZo04erVqwB8++23XLt2rUyJXSylVCqZNGkoSuVijh1LIT19MZMmvUhmZma5laG8aHNjFE2yB3dzY3zwwVs2+Z6QkCYAZGTMpaDgIZtc014q09+/EEII1yTBhBDFfPjhh9SvX5/du3cD8NFHH5GQkFDuC1rLq6feWWhyY7gbfM1WCdgCA58BIC8vgqysEWW+nj1Vtr9/IYQQrkmCCSH+308//URoaCgLFiwAYPz48SQkJNCnj2O22CyvnnpnERnZj9jYQIOvxcYGEhlZtgRsPj7r8PI6BkBa2u4yXas8VLa/fyGEEK5JgglR6f3vf/8jNDSUYcOGAdClSxf++ecfpk6d6tBylUdPvTO5mxtD/7wtErB5ePyJv/8MABITz5WlmOWmsv39CyGEcE2ym5OotNLT03n00UfJyMgAwN/fn/379+Pv7+/Ygv0/W2SxdjX2ScB2h6CgJwBITf0atdq3jKUsH5Xx718IIYTrkWBCVDoFBQUMHTqU3377TXful19+4b777nNgqUqyVRZrV2KPBGx16zYGQKl8k/z8lmUpXrmqjH//QgghXI8EE6JSWbx4MatWrdIdb9iwgW7dujmwRKbZp6feedk6N0bNmpqs1vn593H79libXbe8VLa/fyGEEK5HgglRKezatYtRo0bpjt966y29Y2dlq5768soq7Uy8vbdQteovAKSm/uzYwljJHiM1QgghhC1JMCEqtNOnTxMZGak77tOnD6tXr8bNzTX2HrBFT315ZZV2Ju7uFwgIeB2AxMQ/ANcMnFwxi7kQQojKxTVaVEJYKDU1ldDQUF0gERYWxvnz5/noo49cJpAozppMyJUzV0Eudep0ASAtbQdqtb9jiyOEEEJUYK7ZqhLCiNzcXJ566ilatmypO3fo0CEOHDhAtWrVHFewMrI2E3JlzFVQt24jADIzXyMvr62DSyOEEEJUbBJMiApBrVYzffp0GjVqxKlTpwCIjY0lISGB+vXrO7h0ZWNqdCEq6gmOHDlk9LOVLVdBQEA0AIWFIWRmvuHg0gghhBAVnwQTwuVt2rSJevXqsX79ekCzY1NCQgLt27d3cMlso7TRhfnzje9SZO+s0s7E23sn3t57AEhOPurg0gghhBCVgwQTwmUdOXKE0NBQ3nhD0wP94osvcu3aNV588UUHl8y2Shtd6NnzeaOftWdWaWfi7n6FgIAxACQlncZVF1wLIYQQrkZ2cxIu59q1a7Rr10533Lx5c3bu3EnVqlUdWCr7KS0T8rvvvmByMXbFz1WQT506jwCQlrYFlaqmg8sjhBBCVB4STAiXkZ2dTffu3bl8+bLu3IkTJ6hTp47jClUOSsuEHBwcTGJiotHPV/RcBXXrNgTg9u1XyMvrZPrNQgghhLApCSaE01Or1YwdO5adO3fqzu3Zs4fw8HDHFaqclWV0oSLnKvD3fw0AlcoPpXK2YwsjhBBCVEISTAintmbNGubOnas7Xr16NX379nVcgRzE2OhCixYtHFQix6ta9Rt8fLYCkJT0h4NLI4QQQlROEkwIp/TLL7/wwgsv6I7HjBnD9OnTHVgixzI2uqBQVM6Fxm5u16lZMwqApKQTyF4SQgghhGNIMCGcyoULF+jSpYvuuGPHjnzxxRd4eMitKrQKCQ5uA8CNG+tRqSr2mhkhhBDCmUkLTTiFjIwMOnTowK1btwDw9fXl0KFDBAQEOLhkwtmEhDQGICtrKLm5Tzi4NEIIIUTlJsGEcKjCwkJefvll9u7dqzu3d+9e7r//fgeWSjirGjWmo1DkoVa7kZGxxNHFEUIIISo9mWgsHGbZsmU0aNBAF0isW7eOhIQECSSEQVWq7KVaNU2W88TESw4ujRBCCCHAyUYmzp49y65du7h06RK3bt1i8uTJtG3bVve6Wq0mJiaGn376iaysLJo2bUpUVBQhISEmr/vtt9/y1VdfkZ6eTlhYGMOHD6dx48b2/jnCiN27dzNy5Ejd8ZtvvsnYsWMdWCLh7NzcUqhVS5PZPDn5CE726BJCCCEqLacamcjNzaVhw4aMGDHC4Ov//e9/+eabb4iOjmbhwoVUqVKFBQsWkJeXZ/SaBw4cYMOGDQwYMIAlS5YQFhbGggULyMjIsNfPEEacOXOG0NBQXSDx1FNPcfXqVQkkRClUBAdHAHDz5icUFoY6uDxCCCGE0HKqYCIiIoLBgwfrjUZoqdVq9uzZQ//+/WnTpg1hYWGMHTuWW7ducfToUaPX3L17N926dePxxx+nXr16REdH4+Xlxc8//2zPnyKKSEtLw93dnR49egAQGhrKuXPn+Pe//42bm1PdgsIJ1amjyaWRnd2fnJynHVwaIYQQQhTlMnMFUlJSSE9P10vS5ePjQ+PGjTl//jwdOnQo8ZmCggIuXryol+TMzc2N5s2bc/78eaPflZ+fT35+vu5YoVDg7e2t+29hnry8PJ599lmOHz+uO3fw4EHCwsIcWKqKRXs/VtT7snr1ebi7a3b4ysj4gPL8mRW9bh1J6tY+pF7tR+rWfqRu7ae86tZlgon09HQAatSooXe+Ro0auteKUyqVqFQq/P399c77+/tz/fp1o9+1Y8cOtm3bpju+5557WLJkCbVr17aq7JWNWq3mtdde4/3339ed27t3L48//rgDS1WxBQcHO7oIdrAX+Oj//zuPkBBPh5SiYtatc5C6tQ+pV/uRurUfqVv7sXfdukwwUZ769etHr169dMfaiC41NZWCggJHFcslbNmyhUmTJumOFy1axMsvv0xwcDBJSUmo1WoHlq7iUSgUFbJuFYobBAd3AyAl5QCFhWkOKEPFrFtnIHVrH1Kv9iN1az9St/Zjbt16eHiUqcPcZYIJ7ehCRkaGXiKzjIwMGjZsaPAzfn5+uLm5lRi5SE9PLzFaUZSnpyeenoZ7QeVGN+zo0aN608mGDBnC0qVLUSgUujpTq9VSf3ZSsepWTUhIcwBu3VpFQUEY4LjfVrHq1rlI3dqH1Kv9SN3aj9St/di7bl1m9WtQUBD+/v6cPn1ady47O5sLFy7QpEkTg5/x8PCgUaNGnDlzRndOpVJx5swZo58RlklISCA0NFQXSDzwwANcuHCBd955R+Y/CqsEBT0CwJ07kdy509/BpRFCCCGEKU41MpGTk0NSUpLuOCUlhcuXL+Pr60tgYCBPPfUU27dvJyQkhKCgILZs2UJAQABt2rTRfWbu3Lm0bduWyMhIAHr16sXq1atp1KgRjRs3Zs+ePeTm5vLYY4+V98+rUO7cuUNkZCQXLlzQnTt+/LjMeRRlUr36cjw8rgJw69ZnDi6NEEIIIUrjVMHE33//zZw5c3THGzZsAKBLly6MGTOGZ555htzcXNasWUN2djZNmzZl+vTpeHl56T6TnJyMUqnUHT/66KMolUpiYmJIT0+nYcOGTJ8+3eQ0J2GcWq1mwoQJxMbG6s7t3r2biIgIB5ZKVASenkepXn0FANevX3RwaYQQQghhDoVaJqiZLTU1VW/L2Mrm008/Zfbs2brjVatW0b9/6dNQFAoFISEhJCYmynxIG6sodatQZBAS8iAAKSn7KChwfIb6ilK3zkjq1j6kXu1H6tZ+pG7tx9y69fT0rBwLsIXj/Prrrzz//PO641dffZWZM2c6sESiYlHrAon09HecIpAQQgghhHkkmBBGXbx4kU6dOumOH3nkETZv3mx0pyshrFG7dncAcnM7kZ09xMGlEUIIIYQlJJgQJSiVSrp06UJKSgoA3t7eHDlyhJo1azq4ZKKi8fX9EE/PPwG4cWOLg0sjhBBCCEtJMCF0CgsLGT58OD/++KPu3E8//UTTpk0dWCpRUXl6/o6f3wIAEhMvlPJuIYQQQjgjl8kzIezr3XffpUGDBrpAYu3atSQkJFTaQEKtVhMTs47IyAi2bl0vi8JsTKHIonbtngCkpPyAWu3t4BIJIYQQwhoSTFRy33zzDaGhoSxbtgyAN954g4SEBJ588kkHl8xxlEolkyYNRalczLFjKaSnL2bSpBfJzMx0dNEqjJAQTdLIjIx5FBQ86ODSCCGEEMJaMs2pkvrzzz954okndMeRkZF88sknuLu7O7BUjhcff5wlS8awcGECHTuqAJg9W0lc3D6io7szdepqIiJaO7iUri0wsA8AeXkRZGUNd3BphBBCCFEWEkxUMjdv3uThhx8mNzcXgODgYH755ReqV6/u4JI5h1WrZrBly1Xq1tU/37Gjis2brxIV9RafffaNYwpXAfj4/Acvr+MApKXtdnBphBBCCFFWMs2pksjLy6Nfv340b95cF0js37+f48ePSyBRRJcufTl40PDozMGD7nTp0rd8C1SBeHj8ib//WwAkJp5zcGmEEEIIYQsSTFQCb7/9Nvfccw9HjhwBYMuWLSQkJNCwYUPHFswJRUb2IzY20OBrsbGBREb2K+cSVQwKxR2CgjTT6lJT96BW+zq4REIIIYSwBQkmKrCtW7cSGhrKv//9bwDmzZtHQkKCXiI6oa9OnTqkpvrz/4M3Ojk5cONGAEFBQY4pmIsLCdFktVYqp5OfH+7g0gghhBDCVmTNRAV04sQJevfurTseOHAgK1asQKFQOLBUrqNTpz6MG/cRDRrcne505UohHTv2cWCpXFfNmpqs1vn5Tbh9e4yDSyOEEEIIW5JgogJJTEzk4Ycf1h3ff//9fP3113h7yx7+lhg2bDSnT+uP3oSHQ/PmzR1UItfl47OZqlX3AZCautfBpRFCCCGErUkwUQHcuXOHXr168ddff+nOHT16lLrFtyQSZvHy8qJ1a9n+tazc3S/g7z8ZgMTEs4CMjAkhhBAVjayZcGFqtZqJEyfSuHFjXSCxa9cuEhISJJAQDpZLnTpdAEhL24FaXcPB5RFCCCGEPUgw4aLWrVtHvXr1iImJAeDdd98lISFBetQrGLVaTUzMOiIjI9i6dT1qtdrRRTJL3bqNAMjMfI28vLYOLo0QQggh7EWCCRcTFxdHaGgoM2bMACAqKopr164xcOBAB5dM2JpSqWTSpKEolYs5diyF9PTFTJr0IpmZmY4umkkBAdEAFBTUJTPzDQeXRgghhBD2JGsmXMTly5fp0KGD7rht27Z8+eWXeHl5ObBUwl7i44+zZMkYFi5MoGNHFQCzZyuJi9tHdHR3pk5dTUSE841CeXvvwNt7DwApKUccXBohhBBC2JuMTLiA6OhoXSDh5eXF77//zo4dOySQqMBWrZrBli1XdYGEVseOKjZvvsoHH7zloJIZ5+Z2k4CAsQAkJZ1GFlwLIYQQFZ8EEy7g8uXLAPzwww9cunSJWrVqObZAwu66dOnLwYPuBl87eNCdLl36lm+BzKBQaKZfpaVtQaWq6eDSCCGEEKI8SDDhAn744QcSEhJ48MEHHV0UUU4iI/sRGxto8LXY2EAiI/uVc4lKV1gYxvXrCeTlSYZ1IYQQorKQYEIIJ1SnTh1SU/3JzdU/n5MDN24EEBQU5JiCCSGEEEIUIQuwhXBSnTr1Ydy4j2jQ4O50pytXCunYsY8DSyWEEEIIcZcEE0I4qWHDRnP6tP6UofBwaN68uYNKJIQQQgihT4IJIZyUl5eXJCEUQgghhFOTNRNCCCGEEEIIq0gwIYQQQgghhLCKBBNCCCGEEEIIq0gwIYQQQgghhLCKBBNCCCGEEEIIq0gwIYQQQgghhLCKBBNCCCGEEEIIq0gwIYQQQgghhLCKBBNCCCGEEEIIq0gwIYQQQgghhLCKBBNCCCGEEEIIq3g4ugCuxMNDqqsspP7sR+rWfqRu7Ufq1j6kXu1H6tZ+pG7tp7S6LWvdK9RqtbpMVxBCCCGEEEJUSjLNSdjdnTt3mDp1Knfu3HF0USocqVv7kbq1H6lb+5B6tR+pW/uRurWf8qpbCSaE3anVai5duoQMgtme1K39SN3aj9StfUi92o/Urf1I3dpPedWtBBNCCCGEEEIIq0gwIYQQQgghhLCKBBPC7jw9PRkwYACenp6OLkqFI3VrP1K39iN1ax9Sr/YjdWs/Urf2U151K7s5CSGEEEIIIawiIxNCCCGEEEIIq0gwIYQQQgghhLCKBBNCCCGEEEIIq0gwIYQQQgghhLCKh6MLIFzL2bNn2bVrF5cuXeLWrVtMnjyZtm3b6l5Xq9XExMTw008/kZWVRdOmTYmKiiIkJMTkdb/99lu++uor0tPTCQsLY/jw4TRu3NjeP8epmKrbgoICtmzZQnx8PCkpKfj4+NC8eXOGDBlCzZo1jV4zJiaGbdu26Z2rW7cu7733nj1/itMp7b5dvXo1+/bt0/tMeHg4M2bMMHlduW9Lr9uBAwca/NzQoUPp06ePwdfkvoUdO3Zw5MgREhIS8PLyokmTJgwdOpS6devq3pOXl8eGDRs4cOAA+fn5hIeHExUVhb+/v9HrWvuMrkhKq9vbt28TExPDqVOnSEtLw8/PjzZt2jB48GB8fHyMXtfa50hFYs59+/bbb3P27Fm9zz3xxBO88sorRq8r923pdZuSksLYsWMNfnbixIk88sgjBl+zxX0rwYSwSG5uLg0bNqRr164sW7asxOv//e9/+eabbxgzZgxBQUF8+eWXLFiwgBUrVuDl5WXwmgcOHGDDhg1ER0dz33338fXXX7NgwQLee+89atSoYe+f5DRM1W1eXh6XLl3i2WefpWHDhty+fZt169axdOlSFi9ebPK69evXZ+bMmbpjN7fKNyBZ2n0L0LJlS0aPHq079vAw/XiU+1ajtLr95JNP9I7j4+P5+OOPadeuncnrVvb79uzZszz55JPce++9FBYWsnnzZubPn8+KFSuoWrUqAOvXr+fEiRNMmjQJHx8fPvvsM5YvX868efOMXteaZ3RFU1rd3rx5k5s3b/Liiy9Sr1490tLS+Pe//82tW7d4/fXXTV7b0udIRWPOfQvQrVs3Bg0apDsu7d6T+7b0ug0MDCzxvP3xxx/ZtWsXERERJq9d1vu2ct3loswiIiKM3pRqtZo9e/bQv39/2rRpA8DYsWOJjo7m6NGjdOjQweDndu/eTbdu3Xj88ccBiI6O5sSJE/z888/07dvXLr/DGZmqWx8fH72GFcDw4cOZPn06aWlpBAYGGr2um5ubyZ7KysBU3Wp5eHhYVE9y32qUVrfF6/To0aM89NBD1KlTx+R1K/t9W7xXcMyYMURFRXHx4kUefPBBsrOz2bt3LxMmTKBZs2YAjB49mokTJ3L+/HmaNGlS4prWPqMrmtLqtkGDBkyePFn3enBwMIMHD2bVqlUUFhbi7u5u9NqWPkcqmtLqVqtKlSpm15Pctxql1a2hZ+aRI0d45JFH9AI5Q8p630owIWwmJSWF9PR0WrRooTvn4+ND48aNOX/+vMH/4QsKCrh48aJe48vNzY3mzZtz/vz58ii2y8rOzkahUJgcdgdISkpi5MiReHp60qRJE4YMGWIy+Kiszp49S1RUFNWqVaNZs2YMHjyY6tWrG3yv3LfWSU9PJz4+njFjxpT6Xrlv9WVnZwPg6+sLwMWLFyksLKR58+a694SGhhIYGGg0mLDmGV0ZFK9bY+/x9vY2GUiAZc+RysBY3f7222/89ttv+Pv707p1a5599lmqVKli8Bpy3xpW2n178eJFLl++zIgRI0q9VlnvWwkmhM2kp6cDlJjiUaNGDd1rxSmVSlQqVYmI2N/fn+vXr9uhlBVDXl4eX3zxBR06dDAZTNx3332MHj2aunXrcuvWLbZt28asWbNYvnw53t7e5Vhi59ayZUvatWtHUFAQSUlJbN68mYULF7JgwQKD02vkvrXOvn37qFq1qt6aCkPkvtWnUqlYt24d999/Pw0aNAA0z1sPDw+qVaum915Tz1trntEVnaG6LU6pVBIbG8sTTzxh8lqWPkcqOmN127FjRwIDA6lZsyb//PMPX3zxBdevX9cbDSpK7tuSzLlv9+7dS2hoKPfff7/Ja9nivpVgQggXU1BQwLvvvgtAVFSUyfcWnX4SFhama6QdPHiQrl272rWcrqRoz1aDBg0ICwtj3Lhx/PHHH3o9v6Jsfv75Zzp16lTqHGe5b/V99tlnXL16lblz5zq6KBVOaXWbnZ3N4sWLqVevHs8995zJa8lzRJ+xui0alDVo0ICAgADmzp1LUlISwcHB5V1Ml1TafZuXl0dcXBzPPvtsqdeyxX1b+UJlYTfaXtqMjAy98xkZGUbn4vn5+eHm5laidyE9Pb1Szzs1RhtIpKWl8dZbb5U6xam4atWqUbduXZKSkuxUwoqhTp06VK9e3Wg9yX1ruT///JPr169bFQxU5vv2s88+48SJE8yePZtatWrpzvv7+1NQUEBWVpbe+009b615RldkxupW686dOyxcuBBvb28mT55s8aLU0p4jFVlpdVuUdgc8Y/Uk960+c+r20KFD5Obm0qVLF4uvb819K8GEsJmgoCD8/f05ffq07lx2djYXLlwwOH8XNIt+GjVqxJkzZ3TnVCoVZ86cMfqZykobSCQlJTFz5kyr5uHm5OSQlJRUKR/Alrhx4wa3b98mICDA4Oty31pu7969NGrUiIYNG1r82cp436rVaj777DOOHDnCrFmzCAoK0nu9UaNGuLu76z1vr1+/TlpamtF70JpndEVUWt2Cpl7mz5+Ph4cHU6ZMsWrHoNKeIxWROXVb3OXLlwGM1pPctxqW1O3evXt5+OGH8fPzs/h7rLlvZZqTsIj2H3WtlJQULl++jK+vL4GBgTz11FNs376dkJAQgoKC2LJlCwEBAbodGADmzp1L27ZtiYyMBKBXr16sXr2aRo0a0bhxY/bs2UNubi6PPfZYef88hzJVt/7+/qxYsYJLly4xdepUVCqVrlfc19dX12NWvG43bNjAww8/TGBgILdu3SImJgY3Nzc6duxY7r/PkUzVra+vL1u3bqVdu3b4+/uTnJzMxo0bCQ4OJjw8XPcZuW8NK+2ZAJp/+A8dOsSLL75o8Bpy35b02WefERcXx5QpU/D29tb9/+7j44OXlxc+Pj507dqVDRs24Ovri4+PD2vXrqVJkyZ6DazXXnuNIUOG0LZtWxQKhVnP6IqutLrNzs5mwYIF5ObmMm7cOO7cucOdO3eAu6OSoF+3OTk5Zj1HKrrS6jYpKYm4uDhatWqFr68vV65cYf369TzwwAOEhYXpriP3bUml1a1WUlISf/75J2+++abB69jjvpVgQljk77//Zs6cObrjDRs2ANClSxfGjBnDM888Q25uLmvWrCE7O5umTZsyffp0vRs9OTkZpVKpO3700UdRKpXExMSQnp5Ow4YNmT59eqXqhQTTdfvcc89x7NgxAKZMmaL3udmzZ/PQQw8BJev25s2brFy5kszMTPz8/GjatCkLFiywqrfClZmq2+joaK5cucK+ffvIysqiZs2atGjRgkGDBuHp6an7jNy3hpX2TABNTg61Wm00GJD7tqTvv/8e0CT4Kmr06NG6gPWll15CoVCwfPlyCgoKdEnrirp+/bpu1xfArGd0RVda3V66dIn//e9/AIwfP17vPR988IGuR7ho3bq5uZn1HKnoSqtbDw8PTp8+ret8qVWrFu3ataN///5675f7tiRzngmgGZXQ3n+G2OO+VajVarVlP0cIIYQQQgghZM2EEEIIIYQQwkoSTAghhBBCCCGsIsGEEEIIIYQQwioSTAghhBBCCCGsIsGEEEIIIYQQwioSTAghhBBCCCGsIsGEEEIIIYQQwioSTAghhBBCCCGsIsGEEEKIUsXExDBw4EDd8S+//MLAgQNJSUlxYKn0FS+jozljHQkhhK15OLoAQgghTPvll1/48MMPdceenp4EBgbSokULnn32Wfz9/R1XOAudO3eOU6dO8fTTT1OtWjWHlePEiRN8/fXXNGnShIEDB6JQKICSdQ3g5+dH/fr16dOnDxEREY4orhBCOC0JJoQQwkUMHDiQoKAg8vPz+euvv/j++++Jj49n+fLlVKlSpVzL0rlzZx599FE8PT0t+ty5c+fYtm0bjz32mMOCiby8PHbu3MmUKVPYvXs3hw8fpn379nrv0dY1QHp6Ovv27WPRokVMnTqV1q1bm/U91taREEK4EgkmhBDCRURERHDvvfcC0K1bN6pXr87u3bs5evQoHTt2NPiZnJwcqlatavOyuLm54eXlZfPrloeCggK8vb3x9fUlODiYrKysEu8pWtcAXbt2JTo6mv3795caTGjr3JXrSAghzCXBhBBCuKhmzZqxe/du3Zz8mJgYtm3bxooVK4iNjeXkyZPUrl2bpUuXcvPmTbZs2UJ8fDxZWVkEBwfTq1cvunbtWuK6f/31F+vXr+fKlSvUrFmTPn36lHiPdjrQBx98oOvBB7h58yZffvklJ0+eJDMzk4CAAFq2bMm//vUvtm/fzrZt2wAYO3as7jPaa9i6jMb4+Phw3333MW3aNGrUqMHEiRNL/Uy1atXw8vLCzU1/qaGpOi9aR/7+/kyZMgWApUuX6oKM27dvM2nSJIKCgpg7d26J6wshhLOTYEIIIVxUUlISANWrV9c7v2LFCoKDg3n++edRq9Wkp6czY8YMAJ588kn8/Pw4efIkH3/8MXfu3OHpp5/WffbKlSvMnz8fPz8/nnvuOQoLC4mJiTFrXcbNmzd58803yc7Oplu3boSGhnLz5k0OHTpEbm4u7dq1IzExkf379/PSSy/pyu3n51duZdQaMGAAAwYMMPp6dnY2SqUSgIyMDL755htycnLo3LmzwfcXr/PivLy8GDNmDDNnzmTz5s289NJLAHz66adkZ2czevRoCSSEEC5JggkhhHAR2gZufn4+586dIzY2Fi8vrxLTbsLCwpgwYYLu+OOPP0alUrFs2TJdA75Hjx689957bN26le7du+t6yr/88kvUajVz584lMDAQgHbt2jF58uRSy7dp0ybS09NZuHCh3hShQYMGoVarCQsL45577mH//v20adNGb0Rj3bp15VJGc82bN0/v2NPTk1GjRtGiRQuD7y9e54bcd9999OnTh//+97+0bduWjIwMDhw4wMsvv0zdunVtVnYhhChPEkwIIYSLKN7ArV27NuPGjaNmzZp657t37677b7VazeHDh3nkkUdQq9W63naAli1bcuDAAS5evEjTpk1RqVScOnWKNm3a6BrpAPXq1SM8PJz4+HijZVOpVBw9epTWrVvrBRJa2t2SDCmvMlpixIgRhISEAJqRid9++401a9bg7e1Nu3btSry/aJ2bMnDgQE6cOMHq1avJycnhwQcfpGfPnjYpsxBCOIIEE0II4SK0DVx3d3dq1KhB3bp1DU6NKdrjr1QqycrK4scff+THH380eF1t412pVJKXl6drRBdVt25dkw11pVLJnTt3aNCggaU/q9zKaInGjRvrBUUdOnRg6tSprF27ltatW+Phof/PZ9E6N8XDw4NRo0bx5ptv4unpyejRo00GWkII4ewkmBBCCBdRvIFrTNEdhLTz9zt16kSXLl0Mvj8sLMw2BbSSK5TRzc2Nhx56iD179pCYmEj9+vX1Xrdk16ZTp04BkJ+fT2JiotmBiBBCOCMJJoQQogLz8/PD29sblUpldL5/0fd6eXmRmJhY4rXr16+b9T1Xrlwx+T5DvfDlVcayKiwsBDRbv1rrn3/+0eXZ+Oeff/j4449Zvnw5Pj4+tiqmEEKUK9k6QgghKjA3NzfatWvH4cOHDTb0i65PcHNzIzw8nKNHj5KWlqY7f+3aNV1vuqnvadOmDcePH+fvv/8u8bp29EGbXC87O7vcy1gWBQUF/P7773h4eBAaGmr1NT788EMCAgL417/+xejRo8nIyGDdunW2LawQQpQjGZkQQogKbsiQIfzxxx/MmDGDbt26Ua9ePW7fvs3Fixc5ffo0//nPf3TvHThwICdPnmTWrFn06NEDlUrFN998Q/369fnnn39K/Z7ff/+dt99+W/c9t27d4tChQ8ydO5dq1arRqFEjADZv3kyHDh1wd3endevW5VZGc8XHx5OQkABogpm4uDgSExPp27ev1aMI27dv5/Lly8ycORNvb2/CwsIYMGAAW7ZsoX379rRq1comZRdCiPIkwYQQQlRw/v7+LFy4kG3btnH48GG+++47qlevTv369XnhhRf03hsWFsaMGTPYsGEDMTEx1KpVi4EDB3Lr1q1SG+o1a9Zk4cKFbNmyhbi4OO7cuUPNmjVp2bKlbkSicePGDBo0iB9++IGTJ0+iVqt1SevKo4zmiomJ0f23p6cnoaGhREVFmb1rU3EXL15kx44dPPnkkzRr1kx3vm/fvhw9epQ1a9awYsUKqlWrVuayCyFEeVKoDWXXEUIIIYQQQohSyJoJIYQQQgghhFUkmBBCCCGEEEJYRYIJIYQQQgghhFUkmBBCCCGEEEJYRYIJIYQQQgghhFUkmBBCCCGEEEJYRYIJIYQQQgghhFUkmBBCCCGEEEJYRYIJIYQQQgghhFUkmBBCCCGEEEJYRYIJIYQQQgghhFUkmBBCCCGEEEJY5f8AmnRs1T/vqb4AAAAASUVORK5CYII=\n",
      "text/plain": [
       "<Figure size 900x500 with 1 Axes>"
      ]
     },
     "metadata": {},
     "output_type": "display_data"
    },
    {
     "name": "stdout",
     "output_type": "stream",
     "text": [
      "R2 calib: 0.460\n",
      "R2 CV: 0.302\n",
      "MSE calib: 2.322\n",
      "MSE CV: 2.997\n"
     ]
    },
    {
     "data": {
      "image/png": "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\n",
      "text/plain": [
       "<Figure size 900x500 with 1 Axes>"
      ]
     },
     "metadata": {},
     "output_type": "display_data"
    }
   ],
   "source": [
    "simple_pls_cv(opt_Xc1, y[0:2555,0].astype('float64'), ncomp1, 'purple','o')\n",
    "simple_pls_cv(opt_Xc2, y[2556:3099,0].astype('float64'), ncomp2, 'blue', 's')\n",
    "simple_pls_cv(opt_Xc3, y[3100:3459,0].astype('float64'), ncomp3, 'yellow', 'p')\n",
    "simple_pls_cv(opt_Xc4, y[3460:3777,0].astype('float64'), ncomp4, 'green', '^')\n",
    "# opt_Xc1, ncomp1, wav1, sorted_ind1"
   ]
  },
  {
   "cell_type": "code",
   "execution_count": null,
   "id": "d89a694b",
>>>>>>> 06bdfaaeba5f3df270b026566152abb58b2f84a1
   "metadata": {},
   "outputs": [],
   "source": []
  }
 ],
 "metadata": {
  "kernelspec": {
<<<<<<< HEAD
   "display_name": "Python 3 (ipykernel)",
   "language": "python",
   "name": "python3"
=======
   "display_name": "wenqu_gdal",
   "language": "python",
   "name": "wenqu_gdal"
>>>>>>> 06bdfaaeba5f3df270b026566152abb58b2f84a1
  },
  "language_info": {
   "codemirror_mode": {
    "name": "ipython",
    "version": 3
   },
   "file_extension": ".py",
   "mimetype": "text/x-python",
   "name": "python",
   "nbconvert_exporter": "python",
   "pygments_lexer": "ipython3",
   "version": "3.9.15"
  }
 },
 "nbformat": 4,
 "nbformat_minor": 5
}
