{
 "cells": [
  {
   "cell_type": "code",
   "execution_count": 1,
   "id": "339a3834",
   "metadata": {},
   "outputs": [],
   "source": [
    "import numpy as np\n",
    "import torch\n",
    "# from arsf_envi_reader import envi_header\n",
    "import shutil\n",
    "import os\n",
    "import json\n",
    "import math\n",
    "import matplotlib.pyplot as plt\n",
    "import pandas as pd\n",
    "import matplotlib.pyplot as plt\n",
    "import matplotlib.gridspec as gridspec\n",
    "from osgeo import gdal,ogr,osr\n",
    "from scipy.optimize import curve_fit\n",
    "# from tqdm import tqdm\n",
    "# import multiprocess as mp\n",
    "from scipy import ndimage\n",
    "from numpy import trapz"
   ]
  },
  {
   "cell_type": "code",
   "execution_count": 2,
   "id": "1fee43f7",
   "metadata": {},
   "outputs": [
    {
     "data": {
      "text/plain": [
       "True"
      ]
     },
     "execution_count": 2,
     "metadata": {},
     "output_type": "execute_result"
    }
   ],
   "source": [
    "torch.cuda.is_available()"
   ]
  },
  {
   "cell_type": "code",
   "execution_count": null,
   "id": "6e7f42bd",
   "metadata": {},
   "outputs": [],
   "source": [
    "high_res_img = gdal.Open(r'D:\\wenqu\\simulation\\site2c\\site2c_simulation_update1')\n",
    "high_res_radiance = gdal.Open(r'D:\\wenqu\\simulation\\site2c\\site2c_simulation_update1').ReadAsArray() \n",
    "\n",
    "high_res_radiance.shape"
   ]
  },
  {
   "cell_type": "code",
   "execution_count": null,
   "id": "812e7068",
   "metadata": {},
   "outputs": [],
   "source": [
    "fig = plt.figure(figsize = (10,10))\n",
    "plt.imshow(high_res_radiance[121,:,:], interpolation='nearest')\n",
    "plt.show()"
   ]
  },
  {
   "cell_type": "code",
   "execution_count": null,
   "id": "af2f3b6b",
   "metadata": {},
   "outputs": [],
   "source": []
  },
  {
   "cell_type": "code",
   "execution_count": null,
   "id": "6bbc6833",
   "metadata": {},
   "outputs": [],
   "source": []
  },
  {
   "cell_type": "code",
   "execution_count": null,
   "id": "e38e6105",
   "metadata": {},
   "outputs": [],
   "source": [
    "b121 = high_res_radiance[120, :, :]\n",
    "b121_std = ndimage.generic_filter(b121, np.nanstd, size=9, mode='constant', cval=np.NaN)\n",
    "\n",
    "np.save('D:/wenqu/simulation/npy_file/site2c/b121_std.npy', b121_std)"
   ]
  },
  {
   "cell_type": "code",
   "execution_count": null,
   "id": "5c9a3e0d",
   "metadata": {},
   "outputs": [],
   "source": [
    "b109 = high_res_radiance[108, :, :]\n",
    "b109_std = ndimage.generic_filter(b109, np.nanstd, size=9, mode='constant', cval=np.NaN)\n",
    "\n",
    "np.save('D:/wenqu/simulation/npy_file/site2c/b109_std.npy', b109_std)"
   ]
  },
  {
   "cell_type": "code",
   "execution_count": null,
   "id": "cd0161bf",
   "metadata": {},
   "outputs": [],
   "source": [
    "b14 = high_res_radiance[13, :, :]\n",
    "b14_std = ndimage.generic_filter(b14, np.nanstd, size=9, mode='constant', cval=np.NaN)\n",
    "\n",
    "np.save('D:/wenqu/simulation/npy_file/site2c/b14_std.npy', b14_std)"
   ]
  },
  {
   "cell_type": "code",
   "execution_count": null,
   "id": "d3ae59a8",
   "metadata": {},
   "outputs": [],
   "source": [
    "b9 = high_res_radiance[8, :, :]\n",
    "b9_mean = ndimage.generic_filter(b9, np.nanmean, size=9, mode='constant', cval=np.NaN)\n",
    "\n",
    "np.save('D:/wenqu/simulation/npy_file/site2c/b9_mean.npy', b9_mean)"
   ]
  },
  {
   "cell_type": "code",
   "execution_count": null,
   "id": "d6e9e11f",
   "metadata": {},
   "outputs": [],
   "source": [
    "b53= high_res_radiance[52, :, :]\n",
    "b53_std = ndimage.generic_filter(b53, np.nanstd, size=9, mode='constant', cval=np.NaN)\n",
    "\n",
    "np.save('D:/wenqu/simulation/npy_file/site2c/b53_std.npy', b53_std)"
   ]
  },
  {
   "cell_type": "code",
   "execution_count": null,
   "id": "04b542b9",
   "metadata": {},
   "outputs": [],
   "source": [
    "b89= high_res_radiance[88, :, :]\n",
    "b89_std = ndimage.generic_filter(b89, np.nanstd, size=9, mode='constant', cval=np.NaN)\n",
    "\n",
    "np.save('D:/wenqu/simulation/npy_file/site2c/b89_std.npy', b89_std)"
   ]
  },
  {
   "cell_type": "code",
   "execution_count": null,
   "id": "2aefb9ad",
   "metadata": {},
   "outputs": [],
   "source": [
    "b117 = high_res_radiance[116, :, :]\n",
    "b117_mean = ndimage.generic_filter(b117, np.nanmean, size=9, mode='constant', cval=np.NaN)\n",
    "\n",
    "np.save('D:/wenqu/simulation/npy_file/site2c/b117_mean.npy', b117_mean)"
   ]
  },
  {
   "cell_type": "code",
   "execution_count": null,
   "id": "c1d35564",
   "metadata": {},
   "outputs": [],
   "source": [
    "b93 = high_res_radiance[92, :, :]\n",
    "b93_std = ndimage.generic_filter(b93, np.nanstd, size=9, mode='constant', cval=np.NaN)\n",
    "\n",
    "np.save('D:/wenqu/simulation/npy_file/site2c/b93_std.npy', b93_std)"
   ]
  },
  {
   "cell_type": "code",
   "execution_count": null,
   "id": "f2747a15",
   "metadata": {},
   "outputs": [],
   "source": [
    "b16 = high_res_radiance[15, :, :]\n",
    "b16_std = ndimage.generic_filter(b16, np.nanstd, size=9, mode='constant', cval=np.NaN)\n",
    "\n",
    "np.save('D:/wenqu/simulation/npy_file/site2c/b16_std.npy', b16_std)"
   ]
  },
  {
   "cell_type": "code",
   "execution_count": null,
   "id": "20489c63",
   "metadata": {},
   "outputs": [],
   "source": [
    "b96 = high_res_radiance[95, :, :]\n",
    "b96_std = ndimage.generic_filter(b96, np.nanstd, size=9, mode='constant', cval=np.NaN)\n",
    "\n",
    "np.save('D:/wenqu/simulation/npy_file/site2c/b96_std.npy', b96_std)"
   ]
  },
  {
   "cell_type": "code",
   "execution_count": null,
   "id": "afa13aec",
   "metadata": {},
   "outputs": [],
   "source": [
    "b35 = high_res_radiance[34, :, :]\n",
    "b35_std = ndimage.generic_filter(b35, np.nanstd, size=9, mode='constant', cval=np.NaN)\n",
    "\n",
    "np.save('D:/wenqu/simulation/npy_file/site2c/b35_std.npy', b35_std)"
   ]
  },
  {
   "cell_type": "code",
   "execution_count": null,
   "id": "ac04eb9e",
   "metadata": {},
   "outputs": [],
   "source": [
    "b41 = high_res_radiance[40, :, :]\n",
    "b41_std = ndimage.generic_filter(b41, np.nanstd, size=9, mode='constant', cval=np.NaN)\n",
    "\n",
    "np.save('D:/wenqu/simulation/npy_file/site2c/b41_std.npy', b41_std)"
   ]
  },
  {
   "cell_type": "code",
   "execution_count": null,
   "id": "3a826274",
   "metadata": {},
   "outputs": [],
   "source": [
    "b19 = high_res_radiance[18, :, :]\n",
    "b19_mean = ndimage.generic_filter(b19, np.nanmean, size=9, mode='constant', cval=np.NaN)\n",
    "\n",
    "np.save('D:/wenqu/simulation/npy_file/site2c/b19_mean.npy', b19_mean)"
   ]
  },
  {
   "cell_type": "code",
   "execution_count": null,
   "id": "a44ea72f",
   "metadata": {},
   "outputs": [],
   "source": [
    "b98 = high_res_radiance[97, :, :]\n",
    "b98_std = ndimage.generic_filter(b98, np.nanstd, size=9, mode='constant', cval=np.NaN)\n",
    "\n",
    "np.save('D:/wenqu/simulation/npy_file/site2c/b98_std.npy', b98_std)"
   ]
  },
  {
   "cell_type": "code",
   "execution_count": null,
   "id": "087f93a7",
   "metadata": {},
   "outputs": [],
   "source": [
    "b33 = high_res_radiance[32, :, :]\n",
    "b33_std = ndimage.generic_filter(b33, np.nanstd, size=9, mode='constant', cval=np.NaN)\n",
    "\n",
    "np.save('D:/wenqu/simulation/npy_file/site2c/b33_std.npy', b33_std)"
   ]
  },
  {
   "cell_type": "code",
   "execution_count": null,
   "id": "aaf3660b",
   "metadata": {},
   "outputs": [],
   "source": [
    "b105 = high_res_radiance[104, :, :]\n",
    "b105_std = ndimage.generic_filter(b105, np.nanstd, size=9, mode='constant', cval=np.NaN)\n",
    "\n",
    "np.save('D:/wenqu/simulation/npy_file/site2c/b105_std.npy', b105_std)"
   ]
  },
  {
   "cell_type": "code",
   "execution_count": null,
   "id": "9636b9f8",
   "metadata": {},
   "outputs": [],
   "source": [
    "b85 = high_res_radiance[84, :, :]\n",
    "b85_std = ndimage.generic_filter(b85, np.nanstd, size=9, mode='constant', cval=np.NaN)\n",
    "\n",
    "np.save('D:/wenqu/simulation/npy_file/site2c/b85_std.npy', b85_std)"
   ]
  },
  {
   "cell_type": "code",
   "execution_count": null,
   "id": "a30456d7",
   "metadata": {},
   "outputs": [],
   "source": [
    "b75 = high_res_radiance[74, :, :]\n",
    "b75_std = ndimage.generic_filter(b75, np.nanstd, size=9, mode='constant', cval=np.NaN)\n",
    "\n",
    "np.save('D:/wenqu/simulation/npy_file/site2c/b75_std.npy', b75_std)"
   ]
  },
  {
   "cell_type": "code",
   "execution_count": null,
   "id": "34e65039",
   "metadata": {},
   "outputs": [],
   "source": [
    "b21 = high_res_radiance[20, :, :]\n",
    "b21_std = ndimage.generic_filter(b21, np.nanstd, size=9, mode='constant', cval=np.NaN)\n",
    "\n",
    "np.save('D:/wenqu/simulation/npy_file/site2c/b21_std.npy', b21_std)"
   ]
  },
  {
   "cell_type": "code",
   "execution_count": null,
   "id": "b91acd44",
   "metadata": {},
   "outputs": [],
   "source": [
    "b101 = high_res_radiance[100, :, :]\n",
    "b101_mean = ndimage.generic_filter(b101, np.nanmean, size=9, mode='constant', cval=np.NaN)\n",
    "\n",
    "np.save('D:/wenqu/simulation/npy_file/site2c/b101_mean.npy', b101_mean)"
   ]
  },
  {
   "cell_type": "code",
   "execution_count": null,
   "id": "043f23d1",
   "metadata": {},
   "outputs": [],
   "source": [
    "b25 = high_res_radiance[24, :, :]\n",
    "b25_std = ndimage.generic_filter(b25, np.nanstd, size=9, mode='constant', cval=np.NaN)\n",
    "\n",
    "np.save('D:/wenqu/simulation/npy_file/site2c/b25_std.npy', b25_std)"
   ]
  },
  {
   "cell_type": "code",
   "execution_count": null,
   "id": "52978649",
   "metadata": {},
   "outputs": [],
   "source": [
    "b49 = high_res_radiance[48, :, :]\n",
    "b49_mean = ndimage.generic_filter(b49, np.nanmean, size=9, mode='constant', cval=np.NaN)\n",
    "\n",
    "np.save('D:/wenqu/simulation/npy_file/site2c/b49_mean.npy', b49_mean)"
   ]
  },
  {
   "cell_type": "code",
   "execution_count": null,
   "id": "38cb2c25",
   "metadata": {},
   "outputs": [],
   "source": [
    "b68 = high_res_radiance[67, :, :]\n",
    "b68_mean = ndimage.generic_filter(b68, np.nanmean, size=9, mode='constant', cval=np.NaN)\n",
    "\n",
    "np.save('D:/wenqu/simulation/npy_file/site2c/b68_mean.npy', b68_mean)"
   ]
  },
  {
   "cell_type": "code",
   "execution_count": null,
   "id": "7659e236",
   "metadata": {},
   "outputs": [],
   "source": []
  },
  {
   "cell_type": "code",
   "execution_count": null,
   "id": "8fe3c5af",
   "metadata": {},
   "outputs": [],
   "source": []
  },
  {
   "cell_type": "code",
   "execution_count": null,
   "id": "bfebf82b",
   "metadata": {},
   "outputs": [],
   "source": []
  },
  {
   "cell_type": "code",
   "execution_count": null,
   "id": "c2e123f3",
   "metadata": {},
   "outputs": [],
   "source": []
  },
  {
   "cell_type": "code",
   "execution_count": null,
   "id": "05bd8808",
   "metadata": {},
   "outputs": [],
   "source": []
  },
  {
   "cell_type": "code",
   "execution_count": null,
   "id": "b04d4257",
   "metadata": {},
   "outputs": [],
   "source": [
    "site6_logpc_traitmap = (-0.11896496*b119_std \n",
    "                        +0.10664171*b107_std\n",
    "                        -0.086348*b117_std\n",
    "                        +0.07304101*b108_std\n",
    "                        -0.07094559*b17_std\n",
    "                        +0.06625993*b122_mean \n",
    "                        -0.06341419*b97_std\n",
    "                        -0.06157008*b9_std \n",
    "                        -0.06129507*b46_std \n",
    "                        -0.05904957*b110_mean\n",
    "                        +0.05886772*b15_std \n",
    "                        -0.05829401*b42_std  \n",
    "                        +0.05618142*b37_std  \n",
    "                        +0.05422837*b113_std  \n",
    "                        +0.0535395*b111_std\n",
    "                        +0.05329481*b86_std  \n",
    "                        +0.05109891*b6_mean \n",
    "                        -0.04969719*b10_mean  \n",
    "                        +0.04969354*b20_mean  \n",
    "                        +0.04917988*b114_mean\n",
    "                        +0.04828722*b113_mean \n",
    "                        -0.04732767*b48_mean  \n",
    "                        +0.04654021*b6_std\n",
    "                        -0.04487358*b91_std  \n",
    "                        +0.04483862*b39_std\n",
    "                        +0.04398*b23_std)"
   ]
  },
  {
   "cell_type": "code",
   "execution_count": null,
   "id": "7bc7dd70",
   "metadata": {},
   "outputs": [],
   "source": [
    "# site6_logpc_traitmap_array2 = np.asarray(site6_logpc_traitmap)\n",
    "print(site6_logpc_traitmap.shape)"
   ]
  },
  {
   "cell_type": "code",
   "execution_count": null,
   "id": "c26027de",
   "metadata": {},
   "outputs": [],
   "source": [
    "pj = high_res_img.GetProjection()  ## projection \n",
    "gt = high_res_img.GetGeoTransform()  ## geotransform\n",
    "col = high_res_img.GetRasterBand(1).XSize\n",
    "row = high_res_img.GetRasterBand(1).YSize"
   ]
  },
  {
   "cell_type": "code",
   "execution_count": null,
   "id": "249e4487",
   "metadata": {},
   "outputs": [],
   "source": [
    "driver = gdal.GetDriverByName('GTiff')  ## driver for output file type; \"GTiff\" for geotiff, \"RST\" for rst\n",
    "bands =1\n",
    "outName = \"site1b_logpc_trait_map.tif\"\n",
    "outPath ='D:/wenqu/image_aggregation'\n",
    "out_ds = driver.Create(os.path.join(outPath, outName),col,row,bands,gdal.GDT_Float32)"
   ]
  },
  {
   "cell_type": "code",
   "execution_count": null,
   "id": "f4e90adf",
   "metadata": {},
   "outputs": [],
   "source": [
    "out_ds.GetRasterBand(1).WriteArray(site6_logpc_traitmap)\n",
    "out_ds.SetProjection(pj)\n",
    "out_ds.SetGeoTransform(gt)\n",
    "del out_ds"
   ]
  },
  {
   "cell_type": "code",
   "execution_count": null,
   "id": "678f79cf",
   "metadata": {},
   "outputs": [],
   "source": []
  },
  {
   "cell_type": "code",
   "execution_count": null,
   "id": "78e6a629",
   "metadata": {},
   "outputs": [],
   "source": []
  }
 ],
 "metadata": {
  "kernelspec": {
   "display_name": "wenqu_gpu",
   "language": "python",
   "name": "wenqu_gpu"
  },
  "language_info": {
   "codemirror_mode": {
    "name": "ipython",
    "version": 3
   },
   "file_extension": ".py",
   "mimetype": "text/x-python",
   "name": "python",
   "nbconvert_exporter": "python",
   "pygments_lexer": "ipython3",
   "version": "3.9.15"
  }
 },
 "nbformat": 4,
 "nbformat_minor": 5
}
