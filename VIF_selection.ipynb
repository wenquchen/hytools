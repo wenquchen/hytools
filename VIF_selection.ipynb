{
 "cells": [
  {
   "cell_type": "code",
   "execution_count": 1,
   "id": "2720a8d5",
   "metadata": {},
   "outputs": [
    {
     "name": "stderr",
     "output_type": "stream",
     "text": [
      "C:\\Users\\laral\\AppData\\Roaming\\Python\\Python39\\site-packages\\pandas\\core\\arrays\\masked.py:60: UserWarning: Pandas requires version '1.3.6' or newer of 'bottleneck' (version '1.3.5' currently installed).\n",
      "  from pandas.core import (\n"
     ]
    }
   ],
   "source": [
    "import numpy as np\n",
    "import pandas as pd\n",
    "from sklearn.datasets import fetch_california_housing\n",
    "from sklearn.model_selection import train_test_split\n",
    "from sklearn.feature_selection import SelectKBest, f_regression\n",
    "from sklearn.impute import SimpleImputer\n",
    "from sklearn.model_selection import train_test_split\n",
    "from sklearn.feature_selection import SequentialFeatureSelector\n",
    "from sklearn.linear_model import LinearRegression\n",
    "# Importing the libraries\n",
    "import numpy as np # for array operations\n",
    "import pandas as pd # for working with DataFrames\n",
    "import requests, io # for HTTP requests and I/O commands\n",
    "import matplotlib.pyplot as plt # for data visualization\n",
    "%matplotlib inline\n",
    "from sklearn.metrics import r2_score\n",
    "# scikit-learn modules\n",
    "from sklearn.model_selection import train_test_split # for splitting the data\n",
    "from sklearn.metrics import mean_squared_error # for calculating the cost function\n",
    "from sklearn.ensemble import RandomForestRegressor # for building the model\n",
    "from sklearn.model_selection import train_test_split\n",
    "from sklearn.ensemble import RandomForestRegressor\n",
    "from sklearn import datasets\n",
    "from sklearn.model_selection import train_test_split\n",
    "from sklearn.ensemble import RandomForestClassifier\n",
    "from sklearn import metrics\n",
    "import statsmodels.api as sm\n",
    "from sklearn.preprocessing import StandardScaler\n",
    "from sklearn.ensemble import RandomForestRegressor\n",
    "from sklearn.model_selection import train_test_split, RandomizedSearchCV\n",
    "from sklearn.metrics import mean_squared_error\n",
    "from statsmodels.stats.outliers_influence import variance_inflation_factor\n",
    "import pandas as pd\n",
    "from sklearn.decomposition import PCA"
   ]
  },
  {
   "cell_type": "code",
   "execution_count": 2,
   "id": "bf5b32ff",
   "metadata": {},
   "outputs": [
    {
     "data": {
      "text/html": [
       "<div>\n",
       "<style scoped>\n",
       "    .dataframe tbody tr th:only-of-type {\n",
       "        vertical-align: middle;\n",
       "    }\n",
       "\n",
       "    .dataframe tbody tr th {\n",
       "        vertical-align: top;\n",
       "    }\n",
       "\n",
       "    .dataframe thead th {\n",
       "        text-align: right;\n",
       "    }\n",
       "</style>\n",
       "<table border=\"1\" class=\"dataframe\">\n",
       "  <thead>\n",
       "    <tr style=\"text-align: right;\">\n",
       "      <th></th>\n",
       "      <th>la_ymax</th>\n",
       "      <th>la_std_value</th>\n",
       "      <th>sla_ymax_value</th>\n",
       "      <th>sla_std_mean_value</th>\n",
       "      <th>d13c_ymax_value</th>\n",
       "      <th>d13c_std_value</th>\n",
       "      <th>d15n_ymax_value</th>\n",
       "      <th>d15n_std_value</th>\n",
       "      <th>ldmc_ymax_value</th>\n",
       "      <th>ldmc_std_value</th>\n",
       "      <th>...</th>\n",
       "      <th>mean_temp_driest_quarter_value</th>\n",
       "      <th>mean_temp_wettest_quarter_value</th>\n",
       "      <th>PET_value</th>\n",
       "      <th>precp_coldest_value</th>\n",
       "      <th>precp_warmest_value</th>\n",
       "      <th>precp_seasonality_value</th>\n",
       "      <th>soil_ph_value</th>\n",
       "      <th>voil_water_value</th>\n",
       "      <th>soil_carbon_value</th>\n",
       "      <th>soil_nitrogen_value</th>\n",
       "    </tr>\n",
       "  </thead>\n",
       "  <tbody>\n",
       "    <tr>\n",
       "      <th>0</th>\n",
       "      <td>1.138349</td>\n",
       "      <td>2.851361</td>\n",
       "      <td>4.515089</td>\n",
       "      <td>0.534770</td>\n",
       "      <td>-28.100536</td>\n",
       "      <td>2.812606</td>\n",
       "      <td>0.870116</td>\n",
       "      <td>5.093642</td>\n",
       "      <td>-1.235871</td>\n",
       "      <td>0.756113</td>\n",
       "      <td>...</td>\n",
       "      <td>-205.0</td>\n",
       "      <td>93.0</td>\n",
       "      <td>-0.001099</td>\n",
       "      <td>41.0</td>\n",
       "      <td>139.0</td>\n",
       "      <td>61.0</td>\n",
       "      <td>54.000000</td>\n",
       "      <td>448.000000</td>\n",
       "      <td>2851.000000</td>\n",
       "      <td>1063.000000</td>\n",
       "    </tr>\n",
       "    <tr>\n",
       "      <th>1</th>\n",
       "      <td>0.855036</td>\n",
       "      <td>2.900618</td>\n",
       "      <td>4.462237</td>\n",
       "      <td>0.539418</td>\n",
       "      <td>-28.148775</td>\n",
       "      <td>2.863813</td>\n",
       "      <td>1.521652</td>\n",
       "      <td>5.082226</td>\n",
       "      <td>-1.314599</td>\n",
       "      <td>0.810716</td>\n",
       "      <td>...</td>\n",
       "      <td>-196.0</td>\n",
       "      <td>101.0</td>\n",
       "      <td>-0.001099</td>\n",
       "      <td>40.0</td>\n",
       "      <td>136.0</td>\n",
       "      <td>59.0</td>\n",
       "      <td>53.666667</td>\n",
       "      <td>451.333333</td>\n",
       "      <td>2821.333333</td>\n",
       "      <td>1085.333333</td>\n",
       "    </tr>\n",
       "    <tr>\n",
       "      <th>2</th>\n",
       "      <td>1.062939</td>\n",
       "      <td>2.792950</td>\n",
       "      <td>4.468578</td>\n",
       "      <td>0.473788</td>\n",
       "      <td>-29.094899</td>\n",
       "      <td>2.764642</td>\n",
       "      <td>0.063880</td>\n",
       "      <td>4.382208</td>\n",
       "      <td>-0.699813</td>\n",
       "      <td>0.799816</td>\n",
       "      <td>...</td>\n",
       "      <td>-196.0</td>\n",
       "      <td>101.0</td>\n",
       "      <td>-0.001099</td>\n",
       "      <td>40.0</td>\n",
       "      <td>136.0</td>\n",
       "      <td>59.0</td>\n",
       "      <td>53.000000</td>\n",
       "      <td>450.000000</td>\n",
       "      <td>2908.000000</td>\n",
       "      <td>1148.000000</td>\n",
       "    </tr>\n",
       "    <tr>\n",
       "      <th>3</th>\n",
       "      <td>-0.109422</td>\n",
       "      <td>2.755855</td>\n",
       "      <td>4.463972</td>\n",
       "      <td>0.481723</td>\n",
       "      <td>-29.055893</td>\n",
       "      <td>2.374191</td>\n",
       "      <td>-0.979734</td>\n",
       "      <td>4.523654</td>\n",
       "      <td>-0.948795</td>\n",
       "      <td>0.915393</td>\n",
       "      <td>...</td>\n",
       "      <td>-203.0</td>\n",
       "      <td>93.0</td>\n",
       "      <td>-0.001096</td>\n",
       "      <td>41.0</td>\n",
       "      <td>139.0</td>\n",
       "      <td>61.0</td>\n",
       "      <td>53.000000</td>\n",
       "      <td>450.000000</td>\n",
       "      <td>2840.000000</td>\n",
       "      <td>1128.000000</td>\n",
       "    </tr>\n",
       "    <tr>\n",
       "      <th>4</th>\n",
       "      <td>3.991212</td>\n",
       "      <td>3.187670</td>\n",
       "      <td>4.778846</td>\n",
       "      <td>0.627437</td>\n",
       "      <td>-28.741293</td>\n",
       "      <td>2.802890</td>\n",
       "      <td>-6.886267</td>\n",
       "      <td>5.133915</td>\n",
       "      <td>0.399368</td>\n",
       "      <td>1.177771</td>\n",
       "      <td>...</td>\n",
       "      <td>-207.5</td>\n",
       "      <td>91.0</td>\n",
       "      <td>-0.001099</td>\n",
       "      <td>41.0</td>\n",
       "      <td>139.5</td>\n",
       "      <td>61.0</td>\n",
       "      <td>52.250000</td>\n",
       "      <td>448.500000</td>\n",
       "      <td>2920.500000</td>\n",
       "      <td>1133.250000</td>\n",
       "    </tr>\n",
       "  </tbody>\n",
       "</table>\n",
       "<p>5 rows × 34 columns</p>\n",
       "</div>"
      ],
      "text/plain": [
       "    la_ymax  la_std_value  sla_ymax_value  sla_std_mean_value  \\\n",
       "0  1.138349      2.851361        4.515089            0.534770   \n",
       "1  0.855036      2.900618        4.462237            0.539418   \n",
       "2  1.062939      2.792950        4.468578            0.473788   \n",
       "3 -0.109422      2.755855        4.463972            0.481723   \n",
       "4  3.991212      3.187670        4.778846            0.627437   \n",
       "\n",
       "   d13c_ymax_value  d13c_std_value  d15n_ymax_value  d15n_std_value  \\\n",
       "0       -28.100536        2.812606         0.870116        5.093642   \n",
       "1       -28.148775        2.863813         1.521652        5.082226   \n",
       "2       -29.094899        2.764642         0.063880        4.382208   \n",
       "3       -29.055893        2.374191        -0.979734        4.523654   \n",
       "4       -28.741293        2.802890        -6.886267        5.133915   \n",
       "\n",
       "   ldmc_ymax_value  ldmc_std_value  ...  mean_temp_driest_quarter_value  \\\n",
       "0        -1.235871        0.756113  ...                          -205.0   \n",
       "1        -1.314599        0.810716  ...                          -196.0   \n",
       "2        -0.699813        0.799816  ...                          -196.0   \n",
       "3        -0.948795        0.915393  ...                          -203.0   \n",
       "4         0.399368        1.177771  ...                          -207.5   \n",
       "\n",
       "   mean_temp_wettest_quarter_value  PET_value  precp_coldest_value  \\\n",
       "0                             93.0  -0.001099                 41.0   \n",
       "1                            101.0  -0.001099                 40.0   \n",
       "2                            101.0  -0.001099                 40.0   \n",
       "3                             93.0  -0.001096                 41.0   \n",
       "4                             91.0  -0.001099                 41.0   \n",
       "\n",
       "   precp_warmest_value  precp_seasonality_value  soil_ph_value  \\\n",
       "0                139.0                     61.0      54.000000   \n",
       "1                136.0                     59.0      53.666667   \n",
       "2                136.0                     59.0      53.000000   \n",
       "3                139.0                     61.0      53.000000   \n",
       "4                139.5                     61.0      52.250000   \n",
       "\n",
       "   voil_water_value  soil_carbon_value  soil_nitrogen_value  \n",
       "0        448.000000        2851.000000          1063.000000  \n",
       "1        451.333333        2821.333333          1085.333333  \n",
       "2        450.000000        2908.000000          1148.000000  \n",
       "3        450.000000        2840.000000          1128.000000  \n",
       "4        448.500000        2920.500000          1133.250000  \n",
       "\n",
       "[5 rows x 34 columns]"
      ]
     },
     "execution_count": 2,
     "metadata": {},
     "output_type": "execute_result"
    }
   ],
   "source": [
    "# Reading the data\n",
    "dataset = pd.read_csv(r'E:\\wenqu\\zonal_statistics\\combined_update1.csv')\n",
    "# Remove rows with NaN values\n",
    "dataset = dataset.dropna(axis=0)\n",
    "\n",
    "# Now 'dataset_without_nan' contains the dataset with rows containing NaN values removed.\n",
    "\n",
    "dataset.head()"
   ]
  },
  {
   "cell_type": "code",
   "execution_count": 3,
   "id": "8bc26408",
   "metadata": {},
   "outputs": [
    {
     "data": {
      "text/plain": [
       "(17120, 34)"
      ]
     },
     "execution_count": 3,
     "metadata": {},
     "output_type": "execute_result"
    }
   ],
   "source": [
    "dataset.shape"
   ]
  },
  {
   "cell_type": "markdown",
   "id": "65480d88",
   "metadata": {},
   "source": [
    "# VIF"
   ]
  },
  {
   "cell_type": "code",
   "execution_count": 3,
   "id": "535b91fa",
   "metadata": {},
   "outputs": [],
   "source": [
    "sla_ymax_labels = dataset['sla_ymax_value']\n",
    "sla_ymax_features = dataset.drop(['la_ymax','la_std_value', \n",
    "                         'sla_ymax_value','sla_std_mean_value',\n",
    "                         'd13c_ymax_value', 'd13c_std_value', \n",
    "                         'd15n_ymax_value', 'd15n_std_value',\n",
    "                        'ldmc_ymax_value', 'ldmc_std_value',\n",
    "                        'pc_ymax_value', 'pc_std_value'], axis=1) # Features"
   ]
  },
  {
   "cell_type": "code",
   "execution_count": 4,
   "id": "27ac4497",
   "metadata": {},
   "outputs": [
    {
     "name": "stdout",
     "output_type": "stream",
     "text": [
      "Dropping 'annual_precp_value' with VIF=88843.14\n",
      "Dropping 'mean_temp_coldest_quarter_value' with VIF=42349.80\n",
      "Dropping 'annual_diurnal_temp_value' with VIF=10744.76\n",
      "Dropping 'SWI_value' with VIF=4002.57\n",
      "Dropping 'precp_warmest_value' with VIF=3610.75\n",
      "Dropping 'precp_seasonality_value' with VIF=2200.74\n",
      "Dropping 'isothremality_value' with VIF=2146.94\n",
      "Dropping 'voil_water_value' with VIF=809.40\n",
      "Dropping 'snow_value' with VIF=555.11\n",
      "Dropping 'mean_temp_driest_quarter_value' with VIF=349.86\n",
      "Dropping 'soil_nitrogen_value' with VIF=249.23\n",
      "Dropping 'mean_temp_wettest_quarter_value' with VIF=113.35\n",
      "Dropping 'soil_ph_value' with VIF=68.60\n",
      "Dropping 'soil_carbon_value' with VIF=37.00\n",
      "Dropping 'precp_coldest_value' with VIF=24.90\n",
      "\n",
      "Variables removed due to VIF > threshold: ['annual_precp_value', 'mean_temp_coldest_quarter_value', 'annual_diurnal_temp_value', 'SWI_value', 'precp_warmest_value', 'precp_seasonality_value', 'isothremality_value', 'voil_water_value', 'snow_value', 'mean_temp_driest_quarter_value', 'soil_nitrogen_value', 'mean_temp_wettest_quarter_value', 'soil_ph_value', 'soil_carbon_value', 'precp_coldest_value']\n"
     ]
    }
   ],
   "source": [
    "def calculate_vif_and_print_dropped(data, threshold=5.0):\n",
    "    data_vif = data.copy()\n",
    "    vif_data = pd.DataFrame()\n",
    "    vif_data[\"Feature\"] = data_vif.columns\n",
    "    vif_data[\"VIF\"] = [variance_inflation_factor(data_vif.values, i) for i in range(data_vif.shape[1])]\n",
    "    \n",
    "    # Keep track of variables removed\n",
    "    variables_removed = []\n",
    "\n",
    "    while vif_data[\"VIF\"].max() > threshold:\n",
    "        # Identify the feature with the maximum VIF\n",
    "        max_vif_feature = vif_data.loc[vif_data[\"VIF\"].idxmax(), \"Feature\"]\n",
    "        # Drop the feature with the maximum VIF\n",
    "        data_vif.drop(columns=[max_vif_feature], inplace=True)\n",
    "        variables_removed.append(max_vif_feature)  # Keep track of the removed variable\n",
    "        print(f\"Dropping '{max_vif_feature}' with VIF={vif_data.loc[vif_data['Feature'] == max_vif_feature, 'VIF'].values[0]:.2f}\")\n",
    "        # Recalculate VIF\n",
    "        vif_data = pd.DataFrame()\n",
    "        vif_data[\"Feature\"] = data_vif.columns\n",
    "        vif_data[\"VIF\"] = [variance_inflation_factor(data_vif.values, i) for i in range(data_vif.shape[1])]\n",
    "\n",
    "    print(\"\\nVariables removed due to VIF > threshold:\", variables_removed)\n",
    "    return data_vif\n",
    "\n",
    "# Assuming `data` is your DataFrame of predictors\n",
    "reduced_data = calculate_vif_and_print_dropped(sla_ymax_features, threshold=20)\n",
    "\n"
   ]
  },
  {
   "cell_type": "code",
   "execution_count": 7,
   "id": "45b7df4f",
   "metadata": {},
   "outputs": [
    {
     "data": {
      "text/html": [
       "<div>\n",
       "<style scoped>\n",
       "    .dataframe tbody tr th:only-of-type {\n",
       "        vertical-align: middle;\n",
       "    }\n",
       "\n",
       "    .dataframe tbody tr th {\n",
       "        vertical-align: top;\n",
       "    }\n",
       "\n",
       "    .dataframe thead th {\n",
       "        text-align: right;\n",
       "    }\n",
       "</style>\n",
       "<table border=\"1\" class=\"dataframe\">\n",
       "  <thead>\n",
       "    <tr style=\"text-align: right;\">\n",
       "      <th></th>\n",
       "      <th>slope_value</th>\n",
       "      <th>RAD_value</th>\n",
       "      <th>TWI_value</th>\n",
       "      <th>AET_value</th>\n",
       "      <th>annual_mean_temp_value</th>\n",
       "      <th>defict_value</th>\n",
       "      <th>PET_value</th>\n",
       "    </tr>\n",
       "  </thead>\n",
       "  <tbody>\n",
       "    <tr>\n",
       "      <th>0</th>\n",
       "      <td>32.042071</td>\n",
       "      <td>2.144406</td>\n",
       "      <td>3.179301</td>\n",
       "      <td>0.271357</td>\n",
       "      <td>-99.0</td>\n",
       "      <td>0.632308</td>\n",
       "      <td>-0.001099</td>\n",
       "    </tr>\n",
       "    <tr>\n",
       "      <th>1</th>\n",
       "      <td>23.670947</td>\n",
       "      <td>1.808392</td>\n",
       "      <td>3.981742</td>\n",
       "      <td>0.271583</td>\n",
       "      <td>-92.0</td>\n",
       "      <td>0.871800</td>\n",
       "      <td>-0.001099</td>\n",
       "    </tr>\n",
       "    <tr>\n",
       "      <th>2</th>\n",
       "      <td>12.429877</td>\n",
       "      <td>1.252402</td>\n",
       "      <td>3.278767</td>\n",
       "      <td>0.312500</td>\n",
       "      <td>-92.0</td>\n",
       "      <td>0.946000</td>\n",
       "      <td>-0.001099</td>\n",
       "    </tr>\n",
       "    <tr>\n",
       "      <th>3</th>\n",
       "      <td>14.317726</td>\n",
       "      <td>0.014420</td>\n",
       "      <td>3.171807</td>\n",
       "      <td>0.265000</td>\n",
       "      <td>-98.0</td>\n",
       "      <td>0.725000</td>\n",
       "      <td>-0.001096</td>\n",
       "    </tr>\n",
       "    <tr>\n",
       "      <th>4</th>\n",
       "      <td>6.083298</td>\n",
       "      <td>1.353919</td>\n",
       "      <td>5.094476</td>\n",
       "      <td>0.250429</td>\n",
       "      <td>-101.5</td>\n",
       "      <td>0.616722</td>\n",
       "      <td>-0.001099</td>\n",
       "    </tr>\n",
       "    <tr>\n",
       "      <th>...</th>\n",
       "      <td>...</td>\n",
       "      <td>...</td>\n",
       "      <td>...</td>\n",
       "      <td>...</td>\n",
       "      <td>...</td>\n",
       "      <td>...</td>\n",
       "      <td>...</td>\n",
       "    </tr>\n",
       "    <tr>\n",
       "      <th>17752</th>\n",
       "      <td>0.677610</td>\n",
       "      <td>0.967326</td>\n",
       "      <td>2.075386</td>\n",
       "      <td>5.744848</td>\n",
       "      <td>-109.0</td>\n",
       "      <td>0.358413</td>\n",
       "      <td>-0.000957</td>\n",
       "    </tr>\n",
       "    <tr>\n",
       "      <th>17753</th>\n",
       "      <td>0.594112</td>\n",
       "      <td>0.960732</td>\n",
       "      <td>1.650930</td>\n",
       "      <td>5.682712</td>\n",
       "      <td>-109.0</td>\n",
       "      <td>0.349846</td>\n",
       "      <td>-0.000955</td>\n",
       "    </tr>\n",
       "    <tr>\n",
       "      <th>17754</th>\n",
       "      <td>0.865812</td>\n",
       "      <td>0.971890</td>\n",
       "      <td>2.322327</td>\n",
       "      <td>5.642167</td>\n",
       "      <td>-109.0</td>\n",
       "      <td>0.344333</td>\n",
       "      <td>-0.000953</td>\n",
       "    </tr>\n",
       "    <tr>\n",
       "      <th>17755</th>\n",
       "      <td>0.628140</td>\n",
       "      <td>0.961394</td>\n",
       "      <td>1.741513</td>\n",
       "      <td>5.734682</td>\n",
       "      <td>-109.0</td>\n",
       "      <td>0.356273</td>\n",
       "      <td>-0.000957</td>\n",
       "    </tr>\n",
       "    <tr>\n",
       "      <th>17756</th>\n",
       "      <td>0.772990</td>\n",
       "      <td>0.967230</td>\n",
       "      <td>2.037875</td>\n",
       "      <td>5.606273</td>\n",
       "      <td>-109.0</td>\n",
       "      <td>0.381727</td>\n",
       "      <td>-0.000953</td>\n",
       "    </tr>\n",
       "  </tbody>\n",
       "</table>\n",
       "<p>17120 rows × 7 columns</p>\n",
       "</div>"
      ],
      "text/plain": [
       "       slope_value  RAD_value  TWI_value  AET_value  annual_mean_temp_value  \\\n",
       "0        32.042071   2.144406   3.179301   0.271357                   -99.0   \n",
       "1        23.670947   1.808392   3.981742   0.271583                   -92.0   \n",
       "2        12.429877   1.252402   3.278767   0.312500                   -92.0   \n",
       "3        14.317726   0.014420   3.171807   0.265000                   -98.0   \n",
       "4         6.083298   1.353919   5.094476   0.250429                  -101.5   \n",
       "...            ...        ...        ...        ...                     ...   \n",
       "17752     0.677610   0.967326   2.075386   5.744848                  -109.0   \n",
       "17753     0.594112   0.960732   1.650930   5.682712                  -109.0   \n",
       "17754     0.865812   0.971890   2.322327   5.642167                  -109.0   \n",
       "17755     0.628140   0.961394   1.741513   5.734682                  -109.0   \n",
       "17756     0.772990   0.967230   2.037875   5.606273                  -109.0   \n",
       "\n",
       "       defict_value  PET_value  \n",
       "0          0.632308  -0.001099  \n",
       "1          0.871800  -0.001099  \n",
       "2          0.946000  -0.001099  \n",
       "3          0.725000  -0.001096  \n",
       "4          0.616722  -0.001099  \n",
       "...             ...        ...  \n",
       "17752      0.358413  -0.000957  \n",
       "17753      0.349846  -0.000955  \n",
       "17754      0.344333  -0.000953  \n",
       "17755      0.356273  -0.000957  \n",
       "17756      0.381727  -0.000953  \n",
       "\n",
       "[17120 rows x 7 columns]"
      ]
     },
     "execution_count": 7,
     "metadata": {},
     "output_type": "execute_result"
    }
   ],
   "source": [
    "reduced_data"
   ]
  },
  {
   "cell_type": "code",
   "execution_count": 4,
   "id": "f5abda19",
   "metadata": {},
   "outputs": [],
   "source": [
    "sla_ymax_labels = dataset['sla_ymax_value']\n",
    "sla_ymax_features = dataset.drop(['la_ymax','la_std_value', \n",
    "                         'sla_ymax_value','sla_std_mean_value',\n",
    "                         'd13c_ymax_value', 'd13c_std_value', \n",
    "                         'd15n_ymax_value', 'd15n_std_value',\n",
    "                        'ldmc_ymax_value', 'ldmc_std_value',\n",
    "                        'pc_ymax_value', 'pc_std_value',\n",
    "                        'annual_precp_value', \n",
    "                        'annual_diurnal_temp_value', \n",
    "                        'SWI_value', 'precp_warmest_value',\n",
    "                        'precp_seasonality_value', 'isothremality_value',\n",
    "                        'mean_temp_driest_quarter_value',\n",
    "                        'mean_temp_wettest_quarter_value', \n",
    "                        'precp_coldest_value'\n",
    "                        ], axis=1) # Features"
   ]
  },
  {
   "cell_type": "code",
   "execution_count": 5,
   "id": "b4bbe3d8",
   "metadata": {},
   "outputs": [
    {
     "data": {
      "text/plain": [
       "(17120, 13)"
      ]
     },
     "execution_count": 5,
     "metadata": {},
     "output_type": "execute_result"
    }
   ],
   "source": [
    "sla_ymax_features.shape"
   ]
  },
  {
   "cell_type": "code",
   "execution_count": 6,
   "id": "9f048365",
   "metadata": {},
   "outputs": [],
   "source": [
    "best_params = {'n_estimators': 500, 'min_samples_split': 10, 'min_samples_leaf': 2, 'max_features': 'sqrt', 'max_depth': 50, 'bootstrap': False}"
   ]
  },
  {
   "cell_type": "code",
   "execution_count": 7,
   "id": "38f2c416",
   "metadata": {},
   "outputs": [
    {
     "data": {
      "text/html": [
       "<style>#sk-container-id-1 {color: black;background-color: white;}#sk-container-id-1 pre{padding: 0;}#sk-container-id-1 div.sk-toggleable {background-color: white;}#sk-container-id-1 label.sk-toggleable__label {cursor: pointer;display: block;width: 100%;margin-bottom: 0;padding: 0.3em;box-sizing: border-box;text-align: center;}#sk-container-id-1 label.sk-toggleable__label-arrow:before {content: \"▸\";float: left;margin-right: 0.25em;color: #696969;}#sk-container-id-1 label.sk-toggleable__label-arrow:hover:before {color: black;}#sk-container-id-1 div.sk-estimator:hover label.sk-toggleable__label-arrow:before {color: black;}#sk-container-id-1 div.sk-toggleable__content {max-height: 0;max-width: 0;overflow: hidden;text-align: left;background-color: #f0f8ff;}#sk-container-id-1 div.sk-toggleable__content pre {margin: 0.2em;color: black;border-radius: 0.25em;background-color: #f0f8ff;}#sk-container-id-1 input.sk-toggleable__control:checked~div.sk-toggleable__content {max-height: 200px;max-width: 100%;overflow: auto;}#sk-container-id-1 input.sk-toggleable__control:checked~label.sk-toggleable__label-arrow:before {content: \"▾\";}#sk-container-id-1 div.sk-estimator input.sk-toggleable__control:checked~label.sk-toggleable__label {background-color: #d4ebff;}#sk-container-id-1 div.sk-label input.sk-toggleable__control:checked~label.sk-toggleable__label {background-color: #d4ebff;}#sk-container-id-1 input.sk-hidden--visually {border: 0;clip: rect(1px 1px 1px 1px);clip: rect(1px, 1px, 1px, 1px);height: 1px;margin: -1px;overflow: hidden;padding: 0;position: absolute;width: 1px;}#sk-container-id-1 div.sk-estimator {font-family: monospace;background-color: #f0f8ff;border: 1px dotted black;border-radius: 0.25em;box-sizing: border-box;margin-bottom: 0.5em;}#sk-container-id-1 div.sk-estimator:hover {background-color: #d4ebff;}#sk-container-id-1 div.sk-parallel-item::after {content: \"\";width: 100%;border-bottom: 1px solid gray;flex-grow: 1;}#sk-container-id-1 div.sk-label:hover label.sk-toggleable__label {background-color: #d4ebff;}#sk-container-id-1 div.sk-serial::before {content: \"\";position: absolute;border-left: 1px solid gray;box-sizing: border-box;top: 0;bottom: 0;left: 50%;z-index: 0;}#sk-container-id-1 div.sk-serial {display: flex;flex-direction: column;align-items: center;background-color: white;padding-right: 0.2em;padding-left: 0.2em;position: relative;}#sk-container-id-1 div.sk-item {position: relative;z-index: 1;}#sk-container-id-1 div.sk-parallel {display: flex;align-items: stretch;justify-content: center;background-color: white;position: relative;}#sk-container-id-1 div.sk-item::before, #sk-container-id-1 div.sk-parallel-item::before {content: \"\";position: absolute;border-left: 1px solid gray;box-sizing: border-box;top: 0;bottom: 0;left: 50%;z-index: -1;}#sk-container-id-1 div.sk-parallel-item {display: flex;flex-direction: column;z-index: 1;position: relative;background-color: white;}#sk-container-id-1 div.sk-parallel-item:first-child::after {align-self: flex-end;width: 50%;}#sk-container-id-1 div.sk-parallel-item:last-child::after {align-self: flex-start;width: 50%;}#sk-container-id-1 div.sk-parallel-item:only-child::after {width: 0;}#sk-container-id-1 div.sk-dashed-wrapped {border: 1px dashed gray;margin: 0 0.4em 0.5em 0.4em;box-sizing: border-box;padding-bottom: 0.4em;background-color: white;}#sk-container-id-1 div.sk-label label {font-family: monospace;font-weight: bold;display: inline-block;line-height: 1.2em;}#sk-container-id-1 div.sk-label-container {text-align: center;}#sk-container-id-1 div.sk-container {/* jupyter's `normalize.less` sets `[hidden] { display: none; }` but bootstrap.min.css set `[hidden] { display: none !important; }` so we also need the `!important` here to be able to override the default hidden behavior on the sphinx rendered scikit-learn.org. See: https://github.com/scikit-learn/scikit-learn/issues/21755 */display: inline-block !important;position: relative;}#sk-container-id-1 div.sk-text-repr-fallback {display: none;}</style><div id=\"sk-container-id-1\" class=\"sk-top-container\"><div class=\"sk-text-repr-fallback\"><pre>RandomForestRegressor(bootstrap=False, max_depth=50, max_features=&#x27;sqrt&#x27;,\n",
       "                      min_samples_leaf=2, min_samples_split=10,\n",
       "                      n_estimators=500)</pre><b>In a Jupyter environment, please rerun this cell to show the HTML representation or trust the notebook. <br />On GitHub, the HTML representation is unable to render, please try loading this page with nbviewer.org.</b></div><div class=\"sk-container\" hidden><div class=\"sk-item\"><div class=\"sk-estimator sk-toggleable\"><input class=\"sk-toggleable__control sk-hidden--visually\" id=\"sk-estimator-id-1\" type=\"checkbox\" checked><label for=\"sk-estimator-id-1\" class=\"sk-toggleable__label sk-toggleable__label-arrow\">RandomForestRegressor</label><div class=\"sk-toggleable__content\"><pre>RandomForestRegressor(bootstrap=False, max_depth=50, max_features=&#x27;sqrt&#x27;,\n",
       "                      min_samples_leaf=2, min_samples_split=10,\n",
       "                      n_estimators=500)</pre></div></div></div></div></div>"
      ],
      "text/plain": [
       "RandomForestRegressor(bootstrap=False, max_depth=50, max_features='sqrt',\n",
       "                      min_samples_leaf=2, min_samples_split=10,\n",
       "                      n_estimators=500)"
      ]
     },
     "execution_count": 7,
     "metadata": {},
     "output_type": "execute_result"
    }
   ],
   "source": [
    "sla_ymax_train_features, sla_ymax_test_features, sla_ymax_train_labels, sla_ymax_test_labels = train_test_split(\n",
    "    sla_ymax_features, sla_ymax_labels, test_size = 0.25, random_state = 42)\n",
    "\n",
    "\n",
    "rf_ymax = RandomForestRegressor(**best_params)\n",
    "# Train the Random Forest model with the best parameters\n",
    "rf_ymax.fit(sla_ymax_train_features, sla_ymax_train_labels)"
   ]
  },
  {
   "cell_type": "code",
   "execution_count": 8,
   "id": "284e8e4b",
   "metadata": {},
   "outputs": [
    {
     "name": "stdout",
     "output_type": "stream",
     "text": [
      "Feature: slope_value, Importance: 0.11139908073066992\n",
      "Feature: PET_value, Importance: 0.09740369813867922\n",
      "Feature: AET_value, Importance: 0.08559249450423331\n",
      "Feature: mean_temp_coldest_quarter_value, Importance: 0.08220399495286362\n",
      "Feature: soil_carbon_value, Importance: 0.07982586906608631\n",
      "Feature: RAD_value, Importance: 0.07712815273795091\n",
      "Feature: defict_value, Importance: 0.07680314933343521\n",
      "Feature: TWI_value, Importance: 0.07526683646825155\n",
      "Feature: annual_mean_temp_value, Importance: 0.06945699762197416\n",
      "Feature: voil_water_value, Importance: 0.0654491262675943\n",
      "Feature: soil_nitrogen_value, Importance: 0.06396303814798061\n",
      "Feature: soil_ph_value, Importance: 0.058596954608901866\n",
      "Feature: snow_value, Importance: 0.056910607421379086\n"
     ]
    }
   ],
   "source": [
    "# Assuming rf_ymax is your trained Random Forest model\n",
    "feature_importances = rf_ymax.feature_importances_\n",
    "\n",
    "# Get the names of the features\n",
    "feature_names = sla_ymax_features.columns\n",
    "\n",
    "# Combine feature names with their importance scores\n",
    "feature_importance_dict = dict(zip(feature_names, feature_importances))\n",
    "\n",
    "# Sort the dictionary by importance scores in descending order\n",
    "sorted_feature_importance = sorted(feature_importance_dict.items(), key=lambda x: x[1], reverse=True)\n",
    "\n",
    "# Print or inspect the sorted feature importance\n",
    "for feature, importance in sorted_feature_importance:\n",
    "    print(f\"Feature: {feature}, Importance: {importance}\")"
   ]
  },
  {
   "cell_type": "code",
   "execution_count": 9,
   "id": "e04be726",
   "metadata": {},
   "outputs": [
    {
     "name": "stdout",
     "output_type": "stream",
     "text": [
      "Mean Squared Error: 0.003352012080625817\n",
      "R-squared: 0.5564930396931572\n"
     ]
    },
    {
     "data": {
      "image/png": "[encoded data removed]",
      "text/plain": [
       "<Figure size 720x432 with 1 Axes>"
      ]
     },
     "metadata": {
      "needs_background": "light"
     },
     "output_type": "display_data"
    }
   ],
   "source": [
    "# Make predictions on the test set\n",
    "predictions = rf_ymax.predict(sla_ymax_test_features)\n",
    "# Calculate mean squared error and R-squared\n",
    "mse = mean_squared_error(sla_ymax_test_labels, predictions)\n",
    "r2 = r2_score(sla_ymax_test_labels, predictions)\n",
    "print('Mean Squared Error:', mse)\n",
    "print('R-squared:', r2)\n",
    "# Plot the observation values against the predicted values\n",
    "plt.figure(figsize=(10, 6))\n",
    "plt.scatter(sla_ymax_test_labels, predictions, color='blue', label='Observation vs Prediction')\n",
    "# Plot the trend line (perfect predictions)\n",
    "max_val = max(sla_ymax_test_labels.max(), predictions.max())\n",
    "min_val = min(sla_ymax_test_labels.min(), predictions.min())\n",
    "plt.plot([min_val, max_val], [min_val, max_val], color='red', linestyle='-', linewidth=2, label='1:1 Line')\n",
    "# Add labels, title, and legend\n",
    "plt.title(' SLA ymaxObservation vs Prediction with Random Forest')\n",
    "plt.xlabel('Observation Value')\n",
    "plt.ylabel('Prediction Value')\n",
    "plt.legend()\n",
    "# Show plot\n",
    "plt.grid()\n",
    "plt.show()"
   ]
  },
  {
   "cell_type": "markdown",
   "id": "bbcd1fc1",
   "metadata": {},
   "source": [
    "### SLA STD"
   ]
  },
  {
   "cell_type": "code",
   "execution_count": 12,
   "id": "ff1bcd6a",
   "metadata": {},
   "outputs": [],
   "source": [
    "sla_std_labels = dataset['sla_std_mean_value']\n",
    "sla_std_features = dataset.drop(['la_ymax','la_std_value', \n",
    "                         'sla_ymax_value','sla_std_mean_value',\n",
    "                         'd13c_ymax_value', 'd13c_std_value', \n",
    "                         'd15n_ymax_value', 'd15n_std_value',\n",
    "                        'ldmc_ymax_value', 'ldmc_std_value',\n",
    "                        'pc_ymax_value', 'pc_std_value',\n",
    "                        'annual_precp_value', \n",
    "                        'annual_diurnal_temp_value', \n",
    "                        'SWI_value', 'precp_warmest_value',\n",
    "                        'precp_seasonality_value', 'isothremality_value',\n",
    "                        'mean_temp_driest_quarter_value',\n",
    "                        'mean_temp_wettest_quarter_value', \n",
    "                        'precp_coldest_value'\n",
    "                        ], axis=1) # Features"
   ]
  },
  {
   "cell_type": "code",
   "execution_count": 13,
   "id": "43c7a067",
   "metadata": {},
   "outputs": [],
   "source": [
    "# Assuming `data` is your DataFrame of predictors\n",
    "# reduced_data = calculate_vif_and_print_dropped(sla_std_features, threshold=20)"
   ]
  },
  {
   "cell_type": "code",
   "execution_count": 14,
   "id": "31299c59",
   "metadata": {},
   "outputs": [
    {
     "data": {
      "text/html": [
       "<style>#sk-container-id-2 {color: black;background-color: white;}#sk-container-id-2 pre{padding: 0;}#sk-container-id-2 div.sk-toggleable {background-color: white;}#sk-container-id-2 label.sk-toggleable__label {cursor: pointer;display: block;width: 100%;margin-bottom: 0;padding: 0.3em;box-sizing: border-box;text-align: center;}#sk-container-id-2 label.sk-toggleable__label-arrow:before {content: \"▸\";float: left;margin-right: 0.25em;color: #696969;}#sk-container-id-2 label.sk-toggleable__label-arrow:hover:before {color: black;}#sk-container-id-2 div.sk-estimator:hover label.sk-toggleable__label-arrow:before {color: black;}#sk-container-id-2 div.sk-toggleable__content {max-height: 0;max-width: 0;overflow: hidden;text-align: left;background-color: #f0f8ff;}#sk-container-id-2 div.sk-toggleable__content pre {margin: 0.2em;color: black;border-radius: 0.25em;background-color: #f0f8ff;}#sk-container-id-2 input.sk-toggleable__control:checked~div.sk-toggleable__content {max-height: 200px;max-width: 100%;overflow: auto;}#sk-container-id-2 input.sk-toggleable__control:checked~label.sk-toggleable__label-arrow:before {content: \"▾\";}#sk-container-id-2 div.sk-estimator input.sk-toggleable__control:checked~label.sk-toggleable__label {background-color: #d4ebff;}#sk-container-id-2 div.sk-label input.sk-toggleable__control:checked~label.sk-toggleable__label {background-color: #d4ebff;}#sk-container-id-2 input.sk-hidden--visually {border: 0;clip: rect(1px 1px 1px 1px);clip: rect(1px, 1px, 1px, 1px);height: 1px;margin: -1px;overflow: hidden;padding: 0;position: absolute;width: 1px;}#sk-container-id-2 div.sk-estimator {font-family: monospace;background-color: #f0f8ff;border: 1px dotted black;border-radius: 0.25em;box-sizing: border-box;margin-bottom: 0.5em;}#sk-container-id-2 div.sk-estimator:hover {background-color: #d4ebff;}#sk-container-id-2 div.sk-parallel-item::after {content: \"\";width: 100%;border-bottom: 1px solid gray;flex-grow: 1;}#sk-container-id-2 div.sk-label:hover label.sk-toggleable__label {background-color: #d4ebff;}#sk-container-id-2 div.sk-serial::before {content: \"\";position: absolute;border-left: 1px solid gray;box-sizing: border-box;top: 0;bottom: 0;left: 50%;z-index: 0;}#sk-container-id-2 div.sk-serial {display: flex;flex-direction: column;align-items: center;background-color: white;padding-right: 0.2em;padding-left: 0.2em;position: relative;}#sk-container-id-2 div.sk-item {position: relative;z-index: 1;}#sk-container-id-2 div.sk-parallel {display: flex;align-items: stretch;justify-content: center;background-color: white;position: relative;}#sk-container-id-2 div.sk-item::before, #sk-container-id-2 div.sk-parallel-item::before {content: \"\";position: absolute;border-left: 1px solid gray;box-sizing: border-box;top: 0;bottom: 0;left: 50%;z-index: -1;}#sk-container-id-2 div.sk-parallel-item {display: flex;flex-direction: column;z-index: 1;position: relative;background-color: white;}#sk-container-id-2 div.sk-parallel-item:first-child::after {align-self: flex-end;width: 50%;}#sk-container-id-2 div.sk-parallel-item:last-child::after {align-self: flex-start;width: 50%;}#sk-container-id-2 div.sk-parallel-item:only-child::after {width: 0;}#sk-container-id-2 div.sk-dashed-wrapped {border: 1px dashed gray;margin: 0 0.4em 0.5em 0.4em;box-sizing: border-box;padding-bottom: 0.4em;background-color: white;}#sk-container-id-2 div.sk-label label {font-family: monospace;font-weight: bold;display: inline-block;line-height: 1.2em;}#sk-container-id-2 div.sk-label-container {text-align: center;}#sk-container-id-2 div.sk-container {/* jupyter's `normalize.less` sets `[hidden] { display: none; }` but bootstrap.min.css set `[hidden] { display: none !important; }` so we also need the `!important` here to be able to override the default hidden behavior on the sphinx rendered scikit-learn.org. See: https://github.com/scikit-learn/scikit-learn/issues/21755 */display: inline-block !important;position: relative;}#sk-container-id-2 div.sk-text-repr-fallback {display: none;}</style><div id=\"sk-container-id-2\" class=\"sk-top-container\"><div class=\"sk-text-repr-fallback\"><pre>RandomForestRegressor(bootstrap=False, max_depth=50, max_features=&#x27;sqrt&#x27;,\n",
       "                      min_samples_leaf=2, min_samples_split=10,\n",
       "                      n_estimators=500)</pre><b>In a Jupyter environment, please rerun this cell to show the HTML representation or trust the notebook. <br />On GitHub, the HTML representation is unable to render, please try loading this page with nbviewer.org.</b></div><div class=\"sk-container\" hidden><div class=\"sk-item\"><div class=\"sk-estimator sk-toggleable\"><input class=\"sk-toggleable__control sk-hidden--visually\" id=\"sk-estimator-id-2\" type=\"checkbox\" checked><label for=\"sk-estimator-id-2\" class=\"sk-toggleable__label sk-toggleable__label-arrow\">RandomForestRegressor</label><div class=\"sk-toggleable__content\"><pre>RandomForestRegressor(bootstrap=False, max_depth=50, max_features=&#x27;sqrt&#x27;,\n",
       "                      min_samples_leaf=2, min_samples_split=10,\n",
       "                      n_estimators=500)</pre></div></div></div></div></div>"
      ],
      "text/plain": [
       "RandomForestRegressor(bootstrap=False, max_depth=50, max_features='sqrt',\n",
       "                      min_samples_leaf=2, min_samples_split=10,\n",
       "                      n_estimators=500)"
      ]
     },
     "execution_count": 14,
     "metadata": {},
     "output_type": "execute_result"
    }
   ],
   "source": [
    "# sla_std_labels = dataset['sla_std_mean_value']\n",
    "# sla_std_features = dataset.drop(['la_ymax','la_std_value', \n",
    "#                          'sla_ymax_value','sla_std_mean_value',\n",
    "#                          'd13c_ymax_value', 'd13c_std_value', \n",
    "#                          'd15n_ymax_value', 'd15n_std_value',\n",
    "#                         'ldmc_ymax_value', 'ldmc_std_value',\n",
    "#                         'pc_ymax_value', 'pc_std_value',\n",
    "#                         'annual_precp_value', 'mean_temp_coldest_quarter_value',\n",
    "#                         'annual_diurnal_temp_value', 'SWI_value',\n",
    "#                         'precp_warmest_value', 'isothremality_value',\n",
    "#                         'precp_seasonality_value', 'snow_value',\n",
    "#                         'mean_temp_driest_quarter_value',\n",
    "#                         'mean_temp_wettest_quarter_value',\n",
    "#                         'precp_coldest_value'], axis=1) # Features\n",
    "sla_std_train_features, sla_std_test_features, sla_std_train_labels, sla_std_test_labels = train_test_split(\n",
    "    sla_std_features, sla_std_labels, test_size = 0.25, random_state = 42)\n",
    "\n",
    "\n",
    "rf_std = RandomForestRegressor(**best_params)\n",
    "# Train the Random Forest model with the best parameters\n",
    "rf_std.fit(sla_std_train_features, sla_std_train_labels)"
   ]
  },
  {
   "cell_type": "code",
   "execution_count": 15,
   "id": "e7d93af3",
   "metadata": {},
   "outputs": [
    {
     "name": "stdout",
     "output_type": "stream",
     "text": [
      "Feature: PET_value, Importance: 0.11686706833356277\n",
      "Feature: RAD_value, Importance: 0.0949384689766082\n",
      "Feature: slope_value, Importance: 0.09287703423662476\n",
      "Feature: snow_value, Importance: 0.08512840118642594\n",
      "Feature: soil_carbon_value, Importance: 0.08501527305143447\n",
      "Feature: defict_value, Importance: 0.07376516965362032\n",
      "Feature: AET_value, Importance: 0.0733487530849505\n",
      "Feature: mean_temp_coldest_quarter_value, Importance: 0.0690128082636682\n",
      "Feature: annual_mean_temp_value, Importance: 0.06631128480444126\n",
      "Feature: voil_water_value, Importance: 0.06623566410778053\n",
      "Feature: soil_nitrogen_value, Importance: 0.06239157614934317\n",
      "Feature: TWI_value, Importance: 0.05877630337647463\n",
      "Feature: soil_ph_value, Importance: 0.0553321947750654\n"
     ]
    }
   ],
   "source": [
    "# Assuming rf_ymax is your trained Random Forest model\n",
    "feature_importances = rf_std.feature_importances_\n",
    "\n",
    "# Get the names of the features\n",
    "feature_names = sla_std_features.columns\n",
    "\n",
    "# Combine feature names with their importance scores\n",
    "feature_importance_dict = dict(zip(feature_names, feature_importances))\n",
    "\n",
    "# Sort the dictionary by importance scores in descending order\n",
    "sorted_feature_importance = sorted(feature_importance_dict.items(), key=lambda x: x[1], reverse=True)\n",
    "\n",
    "# Print or inspect the sorted feature importance\n",
    "for feature, importance in sorted_feature_importance:\n",
    "    print(f\"Feature: {feature}, Importance: {importance}\")"
   ]
  },
  {
   "cell_type": "code",
   "execution_count": 16,
   "id": "79e4709a",
   "metadata": {},
   "outputs": [
    {
     "name": "stdout",
     "output_type": "stream",
     "text": [
      "Mean Squared Error: 0.0022514653963202377\n",
      "R-squared: 0.5260232880710698\n"
     ]
    },
    {
     "data": {
      "image/png": "[encoded data removed]",
      "text/plain": [
       "<Figure size 720x432 with 1 Axes>"
      ]
     },
     "metadata": {
      "needs_background": "light"
     },
     "output_type": "display_data"
    }
   ],
   "source": [
    "# Make predictions on the test set\n",
    "predictions = rf_std.predict(sla_std_test_features)\n",
    "# Calculate mean squared error and R-squared\n",
    "mse = mean_squared_error(sla_std_test_labels, predictions)\n",
    "r2 = r2_score(sla_std_test_labels, predictions)\n",
    "print('Mean Squared Error:', mse)\n",
    "print('R-squared:', r2)\n",
    "# Plot the observation values against the predicted values\n",
    "plt.figure(figsize=(10, 6))\n",
    "plt.scatter(sla_std_test_labels, predictions, color='blue', label='Observation vs Prediction')\n",
    "# Plot the trend line (perfect predictions)\n",
    "max_val = max(sla_std_test_labels.max(), predictions.max())\n",
    "min_val = min(sla_std_test_labels.min(), predictions.min())\n",
    "plt.plot([min_val, max_val], [min_val, max_val], color='red', linestyle='-', linewidth=2, label='1:1 Line')\n",
    "# Add labels, title, and legend\n",
    "plt.title(' SLA STD Observation vs Prediction with Random Forest')\n",
    "plt.xlabel('Observation Value')\n",
    "plt.ylabel('Prediction Value')\n",
    "plt.legend()\n",
    "# Show plot\n",
    "plt.grid()\n",
    "plt.show()"
   ]
  },
  {
   "cell_type": "markdown",
   "id": "51507fef",
   "metadata": {},
   "source": [
    "# Variable Importance"
   ]
  },
  {
   "cell_type": "code",
   "execution_count": 21,
   "id": "0b691eee",
   "metadata": {},
   "outputs": [
    {
     "data": {
      "text/html": [
       "<style>#sk-container-id-3 {color: black;background-color: white;}#sk-container-id-3 pre{padding: 0;}#sk-container-id-3 div.sk-toggleable {background-color: white;}#sk-container-id-3 label.sk-toggleable__label {cursor: pointer;display: block;width: 100%;margin-bottom: 0;padding: 0.3em;box-sizing: border-box;text-align: center;}#sk-container-id-3 label.sk-toggleable__label-arrow:before {content: \"▸\";float: left;margin-right: 0.25em;color: #696969;}#sk-container-id-3 label.sk-toggleable__label-arrow:hover:before {color: black;}#sk-container-id-3 div.sk-estimator:hover label.sk-toggleable__label-arrow:before {color: black;}#sk-container-id-3 div.sk-toggleable__content {max-height: 0;max-width: 0;overflow: hidden;text-align: left;background-color: #f0f8ff;}#sk-container-id-3 div.sk-toggleable__content pre {margin: 0.2em;color: black;border-radius: 0.25em;background-color: #f0f8ff;}#sk-container-id-3 input.sk-toggleable__control:checked~div.sk-toggleable__content {max-height: 200px;max-width: 100%;overflow: auto;}#sk-container-id-3 input.sk-toggleable__control:checked~label.sk-toggleable__label-arrow:before {content: \"▾\";}#sk-container-id-3 div.sk-estimator input.sk-toggleable__control:checked~label.sk-toggleable__label {background-color: #d4ebff;}#sk-container-id-3 div.sk-label input.sk-toggleable__control:checked~label.sk-toggleable__label {background-color: #d4ebff;}#sk-container-id-3 input.sk-hidden--visually {border: 0;clip: rect(1px 1px 1px 1px);clip: rect(1px, 1px, 1px, 1px);height: 1px;margin: -1px;overflow: hidden;padding: 0;position: absolute;width: 1px;}#sk-container-id-3 div.sk-estimator {font-family: monospace;background-color: #f0f8ff;border: 1px dotted black;border-radius: 0.25em;box-sizing: border-box;margin-bottom: 0.5em;}#sk-container-id-3 div.sk-estimator:hover {background-color: #d4ebff;}#sk-container-id-3 div.sk-parallel-item::after {content: \"\";width: 100%;border-bottom: 1px solid gray;flex-grow: 1;}#sk-container-id-3 div.sk-label:hover label.sk-toggleable__label {background-color: #d4ebff;}#sk-container-id-3 div.sk-serial::before {content: \"\";position: absolute;border-left: 1px solid gray;box-sizing: border-box;top: 0;bottom: 0;left: 50%;z-index: 0;}#sk-container-id-3 div.sk-serial {display: flex;flex-direction: column;align-items: center;background-color: white;padding-right: 0.2em;padding-left: 0.2em;position: relative;}#sk-container-id-3 div.sk-item {position: relative;z-index: 1;}#sk-container-id-3 div.sk-parallel {display: flex;align-items: stretch;justify-content: center;background-color: white;position: relative;}#sk-container-id-3 div.sk-item::before, #sk-container-id-3 div.sk-parallel-item::before {content: \"\";position: absolute;border-left: 1px solid gray;box-sizing: border-box;top: 0;bottom: 0;left: 50%;z-index: -1;}#sk-container-id-3 div.sk-parallel-item {display: flex;flex-direction: column;z-index: 1;position: relative;background-color: white;}#sk-container-id-3 div.sk-parallel-item:first-child::after {align-self: flex-end;width: 50%;}#sk-container-id-3 div.sk-parallel-item:last-child::after {align-self: flex-start;width: 50%;}#sk-container-id-3 div.sk-parallel-item:only-child::after {width: 0;}#sk-container-id-3 div.sk-dashed-wrapped {border: 1px dashed gray;margin: 0 0.4em 0.5em 0.4em;box-sizing: border-box;padding-bottom: 0.4em;background-color: white;}#sk-container-id-3 div.sk-label label {font-family: monospace;font-weight: bold;display: inline-block;line-height: 1.2em;}#sk-container-id-3 div.sk-label-container {text-align: center;}#sk-container-id-3 div.sk-container {/* jupyter's `normalize.less` sets `[hidden] { display: none; }` but bootstrap.min.css set `[hidden] { display: none !important; }` so we also need the `!important` here to be able to override the default hidden behavior on the sphinx rendered scikit-learn.org. See: https://github.com/scikit-learn/scikit-learn/issues/21755 */display: inline-block !important;position: relative;}#sk-container-id-3 div.sk-text-repr-fallback {display: none;}</style><div id=\"sk-container-id-3\" class=\"sk-top-container\"><div class=\"sk-text-repr-fallback\"><pre>RandomForestRegressor(bootstrap=False, max_depth=50, max_features=&#x27;sqrt&#x27;,\n",
       "                      min_samples_leaf=2, min_samples_split=10,\n",
       "                      n_estimators=500)</pre><b>In a Jupyter environment, please rerun this cell to show the HTML representation or trust the notebook. <br />On GitHub, the HTML representation is unable to render, please try loading this page with nbviewer.org.</b></div><div class=\"sk-container\" hidden><div class=\"sk-item\"><div class=\"sk-estimator sk-toggleable\"><input class=\"sk-toggleable__control sk-hidden--visually\" id=\"sk-estimator-id-3\" type=\"checkbox\" checked><label for=\"sk-estimator-id-3\" class=\"sk-toggleable__label sk-toggleable__label-arrow\">RandomForestRegressor</label><div class=\"sk-toggleable__content\"><pre>RandomForestRegressor(bootstrap=False, max_depth=50, max_features=&#x27;sqrt&#x27;,\n",
       "                      min_samples_leaf=2, min_samples_split=10,\n",
       "                      n_estimators=500)</pre></div></div></div></div></div>"
      ],
      "text/plain": [
       "RandomForestRegressor(bootstrap=False, max_depth=50, max_features='sqrt',\n",
       "                      min_samples_leaf=2, min_samples_split=10,\n",
       "                      n_estimators=500)"
      ]
     },
     "execution_count": 21,
     "metadata": {},
     "output_type": "execute_result"
    }
   ],
   "source": [
    "sla_ymax_labels = dataset['sla_ymax_value']\n",
    "sla_ymax_features = dataset.drop(['la_ymax','la_std_value', \n",
    "                         'sla_ymax_value','sla_std_mean_value',\n",
    "                         'd13c_ymax_value', 'd13c_std_value', \n",
    "                         'd15n_ymax_value', 'd15n_std_value',\n",
    "                        'ldmc_ymax_value', 'ldmc_std_value',\n",
    "                        'pc_ymax_value', 'pc_std_value','annual_precp_value', \n",
    "                        'snow_value', 'precp_warmest_value' , 'mean_temp_coldest_quarter_value', \n",
    "                        'mean_temp_driest_quarter_value','annual_mean_temp_value', 'precp_coldest_value', \n",
    "                        'annual_diurnal_temp_value','mean_temp_wettest_quarter_value','precp_seasonality_value',\n",
    "                        'isothremality_value' ], axis=1) # Features\n",
    "sla_ymax_train_features, sla_ymax_test_features, sla_ymax_train_labels, sla_ymax_test_labels = train_test_split(\n",
    "    sla_ymax_features, sla_ymax_labels, test_size = 0.25, random_state = 42)\n",
    "\n",
    "\n",
    "rf_ymax = RandomForestRegressor(**best_params)\n",
    "# Train the Random Forest model with the best parameters\n",
    "rf_ymax.fit(sla_ymax_train_features, sla_ymax_train_labels)"
   ]
  },
  {
   "cell_type": "code",
   "execution_count": 22,
   "id": "90d99d57",
   "metadata": {},
   "outputs": [
    {
     "name": "stdout",
     "output_type": "stream",
     "text": [
      "Feature: SWI_value, Importance: 0.17223788542162896\n",
      "Feature: slope_value, Importance: 0.16935273964857914\n",
      "Feature: PET_value, Importance: 0.15743438228423937\n",
      "Feature: AET_value, Importance: 0.13644027735412026\n",
      "Feature: defict_value, Importance: 0.12570789057317833\n",
      "Feature: TWI_value, Importance: 0.12299697258944967\n",
      "Feature: RAD_value, Importance: 0.11582985212880421\n"
     ]
    }
   ],
   "source": [
    "# Assuming rf_ymax is your trained Random Forest model\n",
    "feature_importances = rf_ymax.feature_importances_\n",
    "\n",
    "# Get the names of the features\n",
    "feature_names = sla_ymax_features.columns\n",
    "\n",
    "# Combine feature names with their importance scores\n",
    "feature_importance_dict = dict(zip(feature_names, feature_importances))\n",
    "\n",
    "# Sort the dictionary by importance scores in descending order\n",
    "sorted_feature_importance = sorted(feature_importance_dict.items(), key=lambda x: x[1], reverse=True)\n",
    "\n",
    "# Print or inspect the sorted feature importance\n",
    "for feature, importance in sorted_feature_importance:\n",
    "    print(f\"Feature: {feature}, Importance: {importance}\")"
   ]
  },
  {
   "cell_type": "code",
   "execution_count": 23,
   "id": "f2e11cef",
   "metadata": {},
   "outputs": [
    {
     "name": "stdout",
     "output_type": "stream",
     "text": [
      "Mean Squared Error: 0.003777097278988306\n",
      "R-squared: 0.5002497327889706\n"
     ]
    },
    {
     "data": {
      "image/png": "[encoded data removed]",
      "text/plain": [
       "<Figure size 720x432 with 1 Axes>"
      ]
     },
     "metadata": {
      "needs_background": "light"
     },
     "output_type": "display_data"
    }
   ],
   "source": [
    "# Make predictions on the test set\n",
    "predictions = rf_ymax.predict(sla_ymax_test_features)\n",
    "# Calculate mean squared error and R-squared\n",
    "mse = mean_squared_error(sla_ymax_test_labels, predictions)\n",
    "r2 = r2_score(sla_ymax_test_labels, predictions)\n",
    "print('Mean Squared Error:', mse)\n",
    "print('R-squared:', r2)\n",
    "# Plot the observation values against the predicted values\n",
    "plt.figure(figsize=(10, 6))\n",
    "plt.scatter(sla_ymax_test_labels, predictions, color='blue', label='Observation vs Prediction')\n",
    "# Plot the trend line (perfect predictions)\n",
    "max_val = max(sla_ymax_test_labels.max(), predictions.max())\n",
    "min_val = min(sla_ymax_test_labels.min(), predictions.min())\n",
    "plt.plot([min_val, max_val], [min_val, max_val], color='red', linestyle='-', linewidth=2, label='1:1 Line')\n",
    "# Add labels, title, and legend\n",
    "plt.title(' SLA ymaxObservation vs Prediction with Random Forest')\n",
    "plt.xlabel('Observation Value')\n",
    "plt.ylabel('Prediction Value')\n",
    "plt.legend()\n",
    "# Show plot\n",
    "plt.grid()\n",
    "plt.show()"
   ]
  },
  {
   "cell_type": "markdown",
   "id": "b8639bff",
   "metadata": {},
   "source": [
    "### SLA STD"
   ]
  },
  {
   "cell_type": "code",
   "execution_count": 24,
   "id": "30c6abf1",
   "metadata": {},
   "outputs": [
    {
     "data": {
      "text/html": [
       "<style>#sk-container-id-4 {color: black;background-color: white;}#sk-container-id-4 pre{padding: 0;}#sk-container-id-4 div.sk-toggleable {background-color: white;}#sk-container-id-4 label.sk-toggleable__label {cursor: pointer;display: block;width: 100%;margin-bottom: 0;padding: 0.3em;box-sizing: border-box;text-align: center;}#sk-container-id-4 label.sk-toggleable__label-arrow:before {content: \"▸\";float: left;margin-right: 0.25em;color: #696969;}#sk-container-id-4 label.sk-toggleable__label-arrow:hover:before {color: black;}#sk-container-id-4 div.sk-estimator:hover label.sk-toggleable__label-arrow:before {color: black;}#sk-container-id-4 div.sk-toggleable__content {max-height: 0;max-width: 0;overflow: hidden;text-align: left;background-color: #f0f8ff;}#sk-container-id-4 div.sk-toggleable__content pre {margin: 0.2em;color: black;border-radius: 0.25em;background-color: #f0f8ff;}#sk-container-id-4 input.sk-toggleable__control:checked~div.sk-toggleable__content {max-height: 200px;max-width: 100%;overflow: auto;}#sk-container-id-4 input.sk-toggleable__control:checked~label.sk-toggleable__label-arrow:before {content: \"▾\";}#sk-container-id-4 div.sk-estimator input.sk-toggleable__control:checked~label.sk-toggleable__label {background-color: #d4ebff;}#sk-container-id-4 div.sk-label input.sk-toggleable__control:checked~label.sk-toggleable__label {background-color: #d4ebff;}#sk-container-id-4 input.sk-hidden--visually {border: 0;clip: rect(1px 1px 1px 1px);clip: rect(1px, 1px, 1px, 1px);height: 1px;margin: -1px;overflow: hidden;padding: 0;position: absolute;width: 1px;}#sk-container-id-4 div.sk-estimator {font-family: monospace;background-color: #f0f8ff;border: 1px dotted black;border-radius: 0.25em;box-sizing: border-box;margin-bottom: 0.5em;}#sk-container-id-4 div.sk-estimator:hover {background-color: #d4ebff;}#sk-container-id-4 div.sk-parallel-item::after {content: \"\";width: 100%;border-bottom: 1px solid gray;flex-grow: 1;}#sk-container-id-4 div.sk-label:hover label.sk-toggleable__label {background-color: #d4ebff;}#sk-container-id-4 div.sk-serial::before {content: \"\";position: absolute;border-left: 1px solid gray;box-sizing: border-box;top: 0;bottom: 0;left: 50%;z-index: 0;}#sk-container-id-4 div.sk-serial {display: flex;flex-direction: column;align-items: center;background-color: white;padding-right: 0.2em;padding-left: 0.2em;position: relative;}#sk-container-id-4 div.sk-item {position: relative;z-index: 1;}#sk-container-id-4 div.sk-parallel {display: flex;align-items: stretch;justify-content: center;background-color: white;position: relative;}#sk-container-id-4 div.sk-item::before, #sk-container-id-4 div.sk-parallel-item::before {content: \"\";position: absolute;border-left: 1px solid gray;box-sizing: border-box;top: 0;bottom: 0;left: 50%;z-index: -1;}#sk-container-id-4 div.sk-parallel-item {display: flex;flex-direction: column;z-index: 1;position: relative;background-color: white;}#sk-container-id-4 div.sk-parallel-item:first-child::after {align-self: flex-end;width: 50%;}#sk-container-id-4 div.sk-parallel-item:last-child::after {align-self: flex-start;width: 50%;}#sk-container-id-4 div.sk-parallel-item:only-child::after {width: 0;}#sk-container-id-4 div.sk-dashed-wrapped {border: 1px dashed gray;margin: 0 0.4em 0.5em 0.4em;box-sizing: border-box;padding-bottom: 0.4em;background-color: white;}#sk-container-id-4 div.sk-label label {font-family: monospace;font-weight: bold;display: inline-block;line-height: 1.2em;}#sk-container-id-4 div.sk-label-container {text-align: center;}#sk-container-id-4 div.sk-container {/* jupyter's `normalize.less` sets `[hidden] { display: none; }` but bootstrap.min.css set `[hidden] { display: none !important; }` so we also need the `!important` here to be able to override the default hidden behavior on the sphinx rendered scikit-learn.org. See: https://github.com/scikit-learn/scikit-learn/issues/21755 */display: inline-block !important;position: relative;}#sk-container-id-4 div.sk-text-repr-fallback {display: none;}</style><div id=\"sk-container-id-4\" class=\"sk-top-container\"><div class=\"sk-text-repr-fallback\"><pre>RandomForestRegressor(bootstrap=False, max_depth=50, max_features=&#x27;sqrt&#x27;,\n",
       "                      min_samples_leaf=2, min_samples_split=10,\n",
       "                      n_estimators=500)</pre><b>In a Jupyter environment, please rerun this cell to show the HTML representation or trust the notebook. <br />On GitHub, the HTML representation is unable to render, please try loading this page with nbviewer.org.</b></div><div class=\"sk-container\" hidden><div class=\"sk-item\"><div class=\"sk-estimator sk-toggleable\"><input class=\"sk-toggleable__control sk-hidden--visually\" id=\"sk-estimator-id-4\" type=\"checkbox\" checked><label for=\"sk-estimator-id-4\" class=\"sk-toggleable__label sk-toggleable__label-arrow\">RandomForestRegressor</label><div class=\"sk-toggleable__content\"><pre>RandomForestRegressor(bootstrap=False, max_depth=50, max_features=&#x27;sqrt&#x27;,\n",
       "                      min_samples_leaf=2, min_samples_split=10,\n",
       "                      n_estimators=500)</pre></div></div></div></div></div>"
      ],
      "text/plain": [
       "RandomForestRegressor(bootstrap=False, max_depth=50, max_features='sqrt',\n",
       "                      min_samples_leaf=2, min_samples_split=10,\n",
       "                      n_estimators=500)"
      ]
     },
     "execution_count": 24,
     "metadata": {},
     "output_type": "execute_result"
    }
   ],
   "source": [
    "sla_std_labels = dataset['sla_std_mean_value']\n",
    "sla_std_features = dataset.drop(['la_ymax','la_std_value', \n",
    "                         'sla_ymax_value','sla_std_mean_value',\n",
    "                         'd13c_ymax_value', 'd13c_std_value', \n",
    "                         'd15n_ymax_value', 'd15n_std_value',\n",
    "                        'ldmc_ymax_value', 'ldmc_std_value',\n",
    "                        'pc_ymax_value', 'pc_std_value',\n",
    "                        'precp_warmest_value', 'mean_temp_driest_quarter_value', \n",
    "                        'mean_temp_wettest_quarter_value', 'mean_temp_coldest_quarter_value', \n",
    "                        'annual_diurnal_temp_value', 'annual_mean_temp_value', \n",
    "                        'precp_coldest_value', 'precp_seasonality_value', 'isothremality_value',\n",
    "                        ], axis=1) # Features\n",
    "sla_std_train_features, sla_std_test_features, sla_std_train_labels, sla_std_test_labels = train_test_split(\n",
    "    sla_std_features, sla_std_labels, test_size = 0.25, random_state = 42)\n",
    "\n",
    "\n",
    "rf_std = RandomForestRegressor(**best_params)\n",
    "# Train the Random Forest model with the best parameters\n",
    "rf_std.fit(sla_std_train_features, sla_std_train_labels)"
   ]
  },
  {
   "cell_type": "code",
   "execution_count": 25,
   "id": "6e502f20",
   "metadata": {},
   "outputs": [
    {
     "name": "stdout",
     "output_type": "stream",
     "text": [
      "Feature: SWI_value, Importance: 0.13767962178499865\n",
      "Feature: annual_precp_value, Importance: 0.13451284410553094\n",
      "Feature: PET_value, Importance: 0.12229895756085239\n",
      "Feature: slope_value, Importance: 0.11946852758275237\n",
      "Feature: RAD_value, Importance: 0.11938808313681297\n",
      "Feature: snow_value, Importance: 0.1088725654344895\n",
      "Feature: AET_value, Importance: 0.08997256383549411\n",
      "Feature: defict_value, Importance: 0.08718073905309452\n",
      "Feature: TWI_value, Importance: 0.08062609750597455\n"
     ]
    }
   ],
   "source": [
    "# Assuming rf_ymax is your trained Random Forest model\n",
    "feature_importances = rf_std.feature_importances_\n",
    "\n",
    "# Get the names of the features\n",
    "feature_names = sla_std_features.columns\n",
    "\n",
    "# Combine feature names with their importance scores\n",
    "feature_importance_dict = dict(zip(feature_names, feature_importances))\n",
    "\n",
    "# Sort the dictionary by importance scores in descending order\n",
    "sorted_feature_importance = sorted(feature_importance_dict.items(), key=lambda x: x[1], reverse=True)\n",
    "\n",
    "# Print or inspect the sorted feature importance\n",
    "for feature, importance in sorted_feature_importance:\n",
    "    print(f\"Feature: {feature}, Importance: {importance}\")"
   ]
  },
  {
   "cell_type": "code",
   "execution_count": 26,
   "id": "a7e1a156",
   "metadata": {},
   "outputs": [
    {
     "name": "stdout",
     "output_type": "stream",
     "text": [
      "Mean Squared Error: 0.0023701968926656512\n",
      "R-squared: 0.5010280275033625\n"
     ]
    },
    {
     "data": {
      "image/png": "[encoded data removed]",
      "text/plain": [
       "<Figure size 720x432 with 1 Axes>"
      ]
     },
     "metadata": {
      "needs_background": "light"
     },
     "output_type": "display_data"
    }
   ],
   "source": [
    "# Make predictions on the test set\n",
    "predictions = rf_std.predict(sla_std_test_features)\n",
    "# Calculate mean squared error and R-squared\n",
    "mse = mean_squared_error(sla_std_test_labels, predictions)\n",
    "r2 = r2_score(sla_std_test_labels, predictions)\n",
    "print('Mean Squared Error:', mse)\n",
    "print('R-squared:', r2)\n",
    "# Plot the observation values against the predicted values\n",
    "plt.figure(figsize=(10, 6))\n",
    "plt.scatter(sla_std_test_labels, predictions, color='blue', label='Observation vs Prediction')\n",
    "# Plot the trend line (perfect predictions)\n",
    "max_val = max(sla_std_test_labels.max(), predictions.max())\n",
    "min_val = min(sla_std_test_labels.min(), predictions.min())\n",
    "plt.plot([min_val, max_val], [min_val, max_val], color='red', linestyle='-', linewidth=2, label='1:1 Line')\n",
    "# Add labels, title, and legend\n",
    "plt.title(' SLA STD Observation vs Prediction with Random Forest')\n",
    "plt.xlabel('Observation Value')\n",
    "plt.ylabel('Prediction Value')\n",
    "plt.legend()\n",
    "# Show plot\n",
    "plt.grid()\n",
    "plt.show()"
   ]
  },
  {
   "cell_type": "code",
   "execution_count": null,
   "id": "16853a67",
   "metadata": {},
   "outputs": [],
   "source": []
  },
  {
   "cell_type": "code",
   "execution_count": null,
   "id": "18cd4ad3",
   "metadata": {},
   "outputs": [],
   "source": []
  },
  {
   "cell_type": "code",
   "execution_count": null,
   "id": "aad1d309",
   "metadata": {},
   "outputs": [],
   "source": []
  }
 ],
 "metadata": {
  "kernelspec": {
   "display_name": "wenqu_gpu",
   "language": "python",
   "name": "wenqu_gpu"
  },
  "language_info": {
   "codemirror_mode": {
    "name": "ipython",
    "version": 3
   },
   "file_extension": ".py",
   "mimetype": "text/x-python",
   "name": "python",
   "nbconvert_exporter": "python",
   "pygments_lexer": "ipython3",
   "version": "3.9.15"
  }
 },
 "nbformat": 4,
 "nbformat_minor": 5
}
