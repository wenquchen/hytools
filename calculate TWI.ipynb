{
 "cells": [
  {
   "cell_type": "code",
   "execution_count": 9,
   "id": "49114f37",
   "metadata": {},
   "outputs": [
    {
     "name": "stderr",
     "output_type": "stream",
     "text": [
      "C:\\Users\\15086\\AppData\\Local\\Temp\\ipykernel_24840\\1383044786.py:19: RuntimeWarning: overflow encountered in divide\n",
      "  twi = np.log(np.maximum(flow_accumulation / tan_slope, 1e-6))\n"
     ]
    },
    {
     "name": "stdout",
     "output_type": "stream",
     "text": [
      "TWI calculation complete. File saved to F:\\wenqu\\environment_factors\\TWI\\site7_twi.tif\n"
     ]
    }
   ],
   "source": [
    "import rasterio\n",
    "import numpy as np\n",
    "\n",
    "def read_raster(raster_path):\n",
    "    \"\"\"Read a raster file and return the data array and profile.\"\"\"\n",
    "    with rasterio.open(raster_path) as src:\n",
    "        data = src.read(1)  # Read the first band\n",
    "        profile = src.profile\n",
    "    return data, profile\n",
    "\n",
    "def calculate_twi(flow_accumulation, slope_degrees):\n",
    "    \"\"\"Calculate the Topographic Wetness Index (TWI).\"\"\"\n",
    "    # Convert slope from degrees to radians\n",
    "    slope_radians = np.radians(slope_degrees)\n",
    "\n",
    "    # Adding a small value to slope to avoid division by zero\n",
    "    slope_radians = np.where(slope_radians > 0, slope_radians, 1e-6)\n",
    "    tan_slope = np.tan(slope_radians)\n",
    "    twi = np.log(np.maximum(flow_accumulation / tan_slope, 1e-6))\n",
    "    return twi\n",
    "\n",
    "def save_raster(data, profile, output_path):\n",
    "    \"\"\"Save a raster file using the provided data and profile.\"\"\"\n",
    "    with rasterio.open(output_path, 'w', **profile) as dst:\n",
    "        dst.write(data, 1)\n",
    "\n",
    "# Define file paths\n",
    "dem_path = r'F:\\wenqu\\environment_factors\\site7\\site7_dem.tif'\n",
    "slope_path = r'F:\\wenqu\\environment_factors\\site7\\site7_slope.tif'\n",
    "flow_accumulation_path = r'F:\\wenqu\\environment_factors\\flow_accumulation\\site7_accumulation.tif'\n",
    "twi_output_path = r'F:\\wenqu\\environment_factors\\TWI\\site7_twi.tif'\n",
    "\n",
    "# Read the slope and flow accumulation data\n",
    "slope_degrees, _ = read_raster(slope_path)  # Assuming slope is in degrees\n",
    "flow_accumulation, profile = read_raster(flow_accumulation_path)\n",
    "\n",
    "# Calculate TWI\n",
    "twi = calculate_twi(flow_accumulation, slope_degrees)\n",
    "\n",
    "# Save the TWI raster\n",
    "save_raster(twi, profile, twi_output_path)\n",
    "\n",
    "print(f\"TWI calculation complete. File saved to {twi_output_path}\")\n"
   ]
  },
  {
   "cell_type": "code",
   "execution_count": null,
   "id": "e9d0d6ba",
   "metadata": {},
   "outputs": [],
   "source": []
  }
 ],
 "metadata": {
  "kernelspec": {
   "display_name": "wenqu_gdal",
   "language": "python",
   "name": "wenqu_gdal"
  },
  "language_info": {
   "codemirror_mode": {
    "name": "ipython",
    "version": 3
   },
   "file_extension": ".py",
   "mimetype": "text/x-python",
   "name": "python",
   "nbconvert_exporter": "python",
   "pygments_lexer": "ipython3",
   "version": "3.9.15"
  }
 },
 "nbformat": 4,
 "nbformat_minor": 5
}
