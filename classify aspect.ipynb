{
 "cells": [
  {
   "cell_type": "code",
   "execution_count": 1,
   "id": "65d9965b",
   "metadata": {},
   "outputs": [],
   "source": [
    "import rasterio\n",
    "import numpy as np\n",
    "import os\n",
    "\n",
    "def classify_aspect(aspect_data):\n",
    "    \"\"\"Classify aspect data into eight directional categories based on provided ranges.\"\"\"\n",
    "    categories = {\n",
    "        'N': (aspect_data > 337.5) | (aspect_data <= 22.5),\n",
    "        'NE': (aspect_data > 22.5) & (aspect_data <= 67.5),\n",
    "        'E': (aspect_data > 67.5) & (aspect_data <= 112.5),\n",
    "        'SE': (aspect_data > 112.5) & (aspect_data <= 157.5),\n",
    "        'S': (aspect_data > 157.5) & (aspect_data <= 202.5),\n",
    "        'SW': (aspect_data > 202.5) & (aspect_data <= 247.5),\n",
    "        'W': (aspect_data > 247.5) & (aspect_data <= 292.5),\n",
    "        'NW': (aspect_data > 292.5) & (aspect_data <= 337.5)\n",
    "    }\n",
    "    \n",
    "    classified_data = np.zeros(aspect_data.shape, dtype=np.uint8)\n",
    "    for value, (key, mask) in enumerate(categories.items(), 1):\n",
    "        classified_data[mask] = value\n",
    "    \n",
    "    return classified_data\n",
    "\n",
    "def process_files(input_folder, output_folder):\n",
    "    \"\"\"Process all TIFF files in the input folder and save classified files to the output folder.\"\"\"\n",
    "    os.makedirs(output_folder, exist_ok=True)\n",
    "    \n",
    "    for filename in os.listdir(input_folder):\n",
    "        if filename.endswith(\".tif\"):\n",
    "            file_path = os.path.join(input_folder, filename)\n",
    "            output_path = os.path.join(output_folder, f\"classified_{filename}\")\n",
    "            \n",
    "            with rasterio.open(file_path) as src:\n",
    "                aspect_data = src.read(1)  # Read the first band\n",
    "                classified_data = classify_aspect(aspect_data)\n",
    "                \n",
    "                out_meta = src.meta.copy()\n",
    "                out_meta.update({\n",
    "                    \"dtype\": 'uint8',\n",
    "                    \"count\": 1,\n",
    "                    \"nodata\": 255  # Set a valid nodata value for uint8\n",
    "                })\n",
    "                \n",
    "                with rasterio.open(output_path, 'w', **out_meta) as dst:\n",
    "                    dst.write(classified_data, 1)\n",
    "\n",
    "            print(f\"Processed {filename} -> {output_path}\")\n",
    "\n"
   ]
  },
  {
   "cell_type": "code",
   "execution_count": 2,
   "id": "46ae8d1f",
   "metadata": {},
   "outputs": [
    {
     "name": "stdout",
     "output_type": "stream",
     "text": [
      "Processed site2a_aspect.tif -> E:\\wenqu\\environmental_factors\\aspect\\classify\\classified_site2a_aspect.tif\n",
      "Processed site3b_aspect.tif -> E:\\wenqu\\environmental_factors\\aspect\\classify\\classified_site3b_aspect.tif\n",
      "Processed site4a_aspect.tif -> E:\\wenqu\\environmental_factors\\aspect\\classify\\classified_site4a_aspect.tif\n",
      "Processed site4bc_aspect.tif -> E:\\wenqu\\environmental_factors\\aspect\\classify\\classified_site4bc_aspect.tif\n",
      "Processed site6ab_aspect.tif -> E:\\wenqu\\environmental_factors\\aspect\\classify\\classified_site6ab_aspect.tif\n",
      "Processed site6c_aspect.tif -> E:\\wenqu\\environmental_factors\\aspect\\classify\\classified_site6c_aspect.tif\n",
      "Processed site7_aspect.tif -> E:\\wenqu\\environmental_factors\\aspect\\classify\\classified_site7_aspect.tif\n",
      "All files have been processed and saved in the specified output folder.\n"
     ]
    }
   ],
   "source": [
    "# Specify the input and output directories\n",
    "input_folder = r'E:\\wenqu\\environmental_factors\\aspect'\n",
    "output_folder = r'E:\\wenqu\\environmental_factors\\aspect\\classify'\n",
    "\n",
    "# Process all files\n",
    "process_files(input_folder, output_folder)\n",
    "\n",
    "print(\"All files have been processed and saved in the specified output folder.\")\n"
   ]
  },
  {
   "cell_type": "code",
   "execution_count": null,
   "id": "769f79e5",
   "metadata": {},
   "outputs": [],
   "source": []
  }
 ],
 "metadata": {
  "kernelspec": {
   "display_name": "wenqu_gpu",
   "language": "python",
   "name": "wenqu_gpu"
  },
  "language_info": {
   "codemirror_mode": {
    "name": "ipython",
    "version": 3
   },
   "file_extension": ".py",
   "mimetype": "text/x-python",
   "name": "python",
   "nbconvert_exporter": "python",
   "pygments_lexer": "ipython3",
   "version": "3.9.15"
  }
 },
 "nbformat": 4,
 "nbformat_minor": 5
}
