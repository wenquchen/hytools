{
 "cells": [
  {
   "cell_type": "code",
   "execution_count": 4,
   "id": "44788c5d",
   "metadata": {},
   "outputs": [
    {
     "name": "stdout",
     "output_type": "stream",
     "text": [
      "No projection system found in the binary file.\n",
      "\n",
      "GeoTransform:\n",
      "(0.0, 1.0, 0.0, 0.0, 0.0, 1.0)\n"
     ]
    }
   ],
   "source": [
    "from osgeo import gdal\n",
    "\n",
    "# File without an extension\n",
    "data_file = r\"D:\\wenqu\\2024_data\\site6\\site6_Hyper\\100221_site6_flight3_2024_07_18_19_21_56\\raw_34000_rd\"\n",
    "\n",
    "# Open the dataset\n",
    "dataset = gdal.Open(data_file)\n",
    "\n",
    "# Get projection information\n",
    "projection = dataset.GetProjection()\n",
    "\n",
    "# Print results\n",
    "if projection:\n",
    "    print(\"Projection system (WKT):\")\n",
    "    print(projection)\n",
    "else:\n",
    "    print(\"No projection system found in the binary file.\")\n",
    "\n",
    "# Get geotransform information (spatial resolution, origin)\n",
    "geo_transform = dataset.GetGeoTransform()\n",
    "if geo_transform:\n",
    "    print(\"\\nGeoTransform:\")\n",
    "    print(geo_transform)\n",
    "else:\n",
    "    print(\"No GeoTransform information found.\")\n",
    "\n",
    "# Close the dataset\n",
    "dataset = None\n"
   ]
  },
  {
   "cell_type": "code",
   "execution_count": null,
   "id": "e4d34120",
   "metadata": {},
   "outputs": [],
   "source": []
  },
  {
   "cell_type": "code",
   "execution_count": null,
   "id": "27aa1ed3",
   "metadata": {},
   "outputs": [],
   "source": []
  },
  {
   "cell_type": "code",
   "execution_count": 2,
   "id": "ec4f4b67",
   "metadata": {},
   "outputs": [
    {
     "ename": "KeyError",
     "evalue": "'Wavelength'",
     "output_type": "error",
     "traceback": [
      "\u001b[1;31m---------------------------------------------------------------------------\u001b[0m",
      "\u001b[1;31mKeyError\u001b[0m                                  Traceback (most recent call last)",
      "Input \u001b[1;32mIn [2]\u001b[0m, in \u001b[0;36m<cell line: 5>\u001b[1;34m()\u001b[0m\n\u001b[0;32m      5\u001b[0m \u001b[38;5;28;01mwith\u001b[39;00m rasterio\u001b[38;5;241m.\u001b[39mopen(\u001b[38;5;124mr\u001b[39m\u001b[38;5;124m\"\u001b[39m\u001b[38;5;124mD:\u001b[39m\u001b[38;5;124m\\\u001b[39m\u001b[38;5;124mwenqu\u001b[39m\u001b[38;5;124m\\\u001b[39m\u001b[38;5;124mchapter1_2\u001b[39m\u001b[38;5;124m\\\u001b[39m\u001b[38;5;124mupdated_aviris\u001b[39m\u001b[38;5;124m\\\u001b[39m\u001b[38;5;124msite2a\u001b[39m\u001b[38;5;124m\\\u001b[39m\u001b[38;5;124mang20190707t023526_rfl_v2v2\u001b[39m\u001b[38;5;124m\\\u001b[39m\u001b[38;5;124mang20190707t023526_rfl_v2v2_img\u001b[39m\u001b[38;5;124m\"\u001b[39m) \u001b[38;5;28;01mas\u001b[39;00m src:\n\u001b[0;32m      6\u001b[0m     meta \u001b[38;5;241m=\u001b[39m src\u001b[38;5;241m.\u001b[39mmeta\n\u001b[1;32m----> 7\u001b[0m     wavelengths \u001b[38;5;241m=\u001b[39m \u001b[43msrc\u001b[49m\u001b[38;5;241;43m.\u001b[39;49m\u001b[43mtags\u001b[49m\u001b[43m(\u001b[49m\u001b[43m)\u001b[49m\u001b[43m[\u001b[49m\u001b[38;5;124;43m'\u001b[39;49m\u001b[38;5;124;43mWavelength\u001b[39;49m\u001b[38;5;124;43m'\u001b[39;49m\u001b[43m]\u001b[49m\u001b[38;5;241m.\u001b[39mstrip(\u001b[38;5;124m'\u001b[39m\u001b[38;5;124m[]\u001b[39m\u001b[38;5;124m'\u001b[39m)\u001b[38;5;241m.\u001b[39msplit(\u001b[38;5;124m'\u001b[39m\u001b[38;5;124m,\u001b[39m\u001b[38;5;124m'\u001b[39m)  \u001b[38;5;66;03m# Optional, depends on image tags\u001b[39;00m\n\u001b[0;32m      8\u001b[0m     wavelengths \u001b[38;5;241m=\u001b[39m np\u001b[38;5;241m.\u001b[39marray(wavelengths, dtype\u001b[38;5;241m=\u001b[39m\u001b[38;5;28mfloat\u001b[39m)  \u001b[38;5;66;03m# Convert to numeric if available\u001b[39;00m\n\u001b[0;32m     10\u001b[0m     \u001b[38;5;66;03m# You can use band index if wavelengths are not available\u001b[39;00m\n",
      "\u001b[1;31mKeyError\u001b[0m: 'Wavelength'"
     ]
    }
   ],
   "source": [
    "import rasterio\n",
    "import numpy as np\n",
    "\n",
    "# Open AVIRIS-NG hyperspectral image\n",
    "with rasterio.open(r\"D:\\wenqu\\chapter1_2\\updated_aviris\\site2a\\ang20190707t023526_rfl_v2v2\\ang20190707t023526_rfl_v2v2_img\") as src:\n",
    "    meta = src.meta\n",
    "    wavelengths = src.tags()['Wavelength'].strip('[]').split(',')  # Optional, depends on image tags\n",
    "    wavelengths = np.array(wavelengths, dtype=float)  # Convert to numeric if available\n",
    "\n",
    "    # You can use band index if wavelengths are not available\n",
    "red_idx = np.argmin(np.abs(wavelengths - 670)) + 1  # rasterio bands are 1-indexed\n",
    "nir_idx = np.argmin(np.abs(wavelengths - 850)) + 1\n",
    "red = src.read(red_idx).astype(float)\n",
    "nir = src.read(nir_idx).astype(float)\n",
    "ndvi = (nir - red) / (nir + red)"
   ]
  },
  {
   "cell_type": "code",
   "execution_count": null,
   "id": "0d16ed12",
   "metadata": {},
   "outputs": [],
   "source": [
    "meta.update(dtype=rasterio.float32, count=1)\n",
    "\n",
    "with rasterio.open(\"D:\\wenqu\\chapter1_2\\updated_aviris\\NDVI\\site2a_ndvi_output.tif\", \"w\", **meta) as dst:\n",
    "    dst.write(ndvi.astype(rasterio.float32), 1)\n"
   ]
  },
  {
   "cell_type": "code",
   "execution_count": null,
   "id": "b5aaff4b",
   "metadata": {},
   "outputs": [],
   "source": []
  },
  {
   "cell_type": "code",
   "execution_count": null,
   "id": "ee44d269",
   "metadata": {},
   "outputs": [],
   "source": []
  },
  {
   "cell_type": "code",
   "execution_count": null,
   "id": "81399a60",
   "metadata": {},
   "outputs": [],
   "source": []
  },
  {
   "cell_type": "code",
   "execution_count": 1,
   "id": "521d7992",
   "metadata": {},
   "outputs": [
    {
     "name": "stdout",
     "output_type": "stream",
     "text": [
      "NDVI saved to: D:\\wenqu\\chapter1_2\\updated_aviris\\NDVI\\site3b_ndvi_output.tif\n"
     ]
    }
   ],
   "source": [
    "from osgeo import gdal\n",
    "import numpy as np\n",
    "\n",
    "# Open AVIRIS-NG image\n",
    "img_path = r\"D:\\wenqu\\chapter1_2\\updated_aviris\\site3b\\ang20220709t184317rfl\\ang20220709t184317_rfl_v2aa2_img\"\n",
    "ds = gdal.Open(img_path)\n",
    "\n",
    "# RED ≈ band 59, NIR ≈ band 95\n",
    "red_band = ds.GetRasterBand(59).ReadAsArray().astype(float)\n",
    "nir_band = ds.GetRasterBand(95).ReadAsArray().astype(float)\n",
    "\n",
    "# NDVI calculation\n",
    "ndvi = (nir_band - red_band) / (nir_band + red_band)\n",
    "ndvi = np.clip(ndvi, -1, 1)\n",
    "\n",
    "# Save NDVI\n",
    "driver = gdal.GetDriverByName('GTiff')\n",
    "out_path = r\"D:\\wenqu\\chapter1_2\\updated_aviris\\NDVI\\site3b_ndvi_output.tif\"\n",
    "out_ds = driver.Create(out_path, ds.RasterXSize, ds.RasterYSize, 1, gdal.GDT_Float32)\n",
    "\n",
    "# Set geotransform & projection\n",
    "out_ds.SetGeoTransform(ds.GetGeoTransform())\n",
    "out_ds.SetProjection(ds.GetProjection())\n",
    "\n",
    "# Write NDVI band\n",
    "out_ds.GetRasterBand(1).WriteArray(ndvi)\n",
    "out_ds.GetRasterBand(1).SetNoDataValue(-9999)\n",
    "out_ds.FlushCache()\n",
    "\n",
    "print(\"NDVI saved to:\", out_path)\n"
   ]
  },
  {
   "cell_type": "code",
   "execution_count": 3,
   "id": "dd59c2ce",
   "metadata": {},
   "outputs": [
    {
     "name": "stdout",
     "output_type": "stream",
     "text": [
      "Binary NDVI mask saved to: D:\\wenqu\\chapter1_2\\updated_aviris\\NDVI\\site3b_ndvi_mask.tif\n"
     ]
    }
   ],
   "source": [
    "from osgeo import gdal\n",
    "import numpy as np\n",
    "\n",
    "# Open NDVI image\n",
    "ndvi_path = r\"D:\\wenqu\\chapter1_2\\updated_aviris\\NDVI\\site3b_ndvi_output.tif\"\n",
    "ds = gdal.Open(ndvi_path)\n",
    "\n",
    "# Read NDVI and NoData value\n",
    "ndvi = ds.GetRasterBand(1).ReadAsArray().astype(float)\n",
    "nodata = ds.GetRasterBand(1).GetNoDataValue()\n",
    "if nodata is None:\n",
    "    nodata = -9999\n",
    "\n",
    "# Mask NoData first\n",
    "ndvi_masked = np.where(ndvi == nodata, np.nan, ndvi)\n",
    "\n",
    "# Create binary mask: 1 if NDVI > 0.1, else 0\n",
    "binary_mask = np.where(ndvi_masked > 0.3, 1, 0).astype(np.uint8)\n",
    "\n",
    "# Save binary mask\n",
    "driver = gdal.GetDriverByName('GTiff')\n",
    "out_path = r\"D:\\wenqu\\chapter1_2\\updated_aviris\\NDVI\\site3b_ndvi_mask.tif\"\n",
    "out_ds = driver.Create(out_path, ds.RasterXSize, ds.RasterYSize, 1, gdal.GDT_Byte)\n",
    "\n",
    "# Copy spatial reference\n",
    "out_ds.SetGeoTransform(ds.GetGeoTransform())\n",
    "out_ds.SetProjection(ds.GetProjection())\n",
    "\n",
    "# Write binary band\n",
    "out_band = out_ds.GetRasterBand(1)\n",
    "out_band.WriteArray(binary_mask)\n",
    "out_band.SetNoDataValue(0)  # You can set NoData to 0 if you want to treat it as background\n",
    "\n",
    "out_ds.FlushCache()\n",
    "out_ds = None\n",
    "\n",
    "print(\"Binary NDVI mask saved to:\", out_path)\n"
   ]
  },
  {
   "cell_type": "code",
   "execution_count": null,
   "id": "10feb802",
   "metadata": {},
   "outputs": [],
   "source": []
  },
  {
   "cell_type": "code",
   "execution_count": 69,
   "id": "c63f9219",
   "metadata": {},
   "outputs": [
    {
     "name": "stdout",
     "output_type": "stream",
     "text": [
      "Masked image saved to: D:\\wenqu\\chapter1_2\\updated_aviris\\AVIRIS_trait_map3\\mask\\site6ab_d15n_std_masked.tif\n"
     ]
    }
   ],
   "source": [
    "from osgeo import gdal\n",
    "import numpy as np\n",
    "\n",
    "# Load image and mask\n",
    "image_path  = r\"D:\\wenqu\\chapter1_2\\updated_aviris\\AVIRIS_trait_map3\\site6ab_d15n_std.tif\"\n",
    "mask_path  = r\"D:\\wenqu\\chapter1_2\\updated_aviris\\NDVI\\site6ab_ndvi_mask.tif\"\n",
    "\n",
    "# Open datasets\n",
    "image_ds = gdal.Open(image_path)\n",
    "mask_ds = gdal.Open(mask_path)\n",
    "\n",
    "# Read bands\n",
    "image = image_ds.GetRasterBand(1).ReadAsArray().astype(float)\n",
    "mask = mask_ds.GetRasterBand(1).ReadAsArray().astype(float)\n",
    "\n",
    "# Get NoData values\n",
    "image_nodata = image_ds.GetRasterBand(1).GetNoDataValue()\n",
    "mask_nodata = mask_ds.GetRasterBand(1).GetNoDataValue()\n",
    "\n",
    "# Default NoData if not set\n",
    "if image_nodata is None:\n",
    "    image_nodata = -9999\n",
    "if mask_nodata is None:\n",
    "    mask_nodata = 0  # Binary mask often uses 0 as background\n",
    "\n",
    "# Create a combined mask\n",
    "combined_mask = (image == image_nodata) | (mask == mask_nodata)\n",
    "\n",
    "# Multiply while preserving NoData\n",
    "output = np.where(combined_mask, image_nodata, image * mask)\n",
    "\n",
    "# Save output as GeoTIFF\n",
    "driver = gdal.GetDriverByName('GTiff')\n",
    "out_path = r'D:\\wenqu\\chapter1_2\\updated_aviris\\AVIRIS_trait_map3\\mask\\site6ab_d15n_std_masked.tif'\n",
    "out_ds = driver.Create(out_path, image_ds.RasterXSize, image_ds.RasterYSize, 1, gdal.GDT_Float32)\n",
    "\n",
    "# Copy spatial reference\n",
    "out_ds.SetGeoTransform(image_ds.GetGeoTransform())\n",
    "out_ds.SetProjection(image_ds.GetProjection())\n",
    "\n",
    "# Write the result\n",
    "out_band = out_ds.GetRasterBand(1)\n",
    "out_band.WriteArray(output)\n",
    "out_band.SetNoDataValue(image_nodata)\n",
    "\n",
    "out_ds.FlushCache()\n",
    "out_ds = None\n",
    "\n",
    "print(\"Masked image saved to:\", out_path)"
   ]
  },
  {
   "cell_type": "code",
   "execution_count": null,
   "id": "abbf9de8",
   "metadata": {},
   "outputs": [],
   "source": []
  },
  {
   "cell_type": "code",
   "execution_count": null,
   "id": "14fe2c76",
   "metadata": {},
   "outputs": [],
   "source": []
  },
  {
   "cell_type": "code",
   "execution_count": null,
   "id": "43041839",
   "metadata": {},
   "outputs": [],
   "source": []
  },
  {
   "cell_type": "code",
   "execution_count": null,
   "id": "f1fb719b",
   "metadata": {},
   "outputs": [],
   "source": []
  },
  {
   "cell_type": "code",
   "execution_count": null,
   "id": "f277db71",
   "metadata": {},
   "outputs": [],
   "source": []
  },
  {
   "cell_type": "code",
   "execution_count": null,
   "id": "9d425184",
   "metadata": {},
   "outputs": [],
   "source": []
  },
  {
   "cell_type": "code",
   "execution_count": null,
   "id": "8636ab65",
   "metadata": {},
   "outputs": [],
   "source": []
  }
 ],
 "metadata": {
  "kernelspec": {
   "display_name": "WChen_2025",
   "language": "python",
   "name": "wchen_2025"
  },
  "language_info": {
   "codemirror_mode": {
    "name": "ipython",
    "version": 3
   },
   "file_extension": ".py",
   "mimetype": "text/x-python",
   "name": "python",
   "nbconvert_exporter": "python",
   "pygments_lexer": "ipython3",
   "version": "3.9.15"
  }
 },
 "nbformat": 4,
 "nbformat_minor": 5
}
