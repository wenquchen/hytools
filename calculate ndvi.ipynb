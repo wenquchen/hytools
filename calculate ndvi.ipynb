{
 "cells": [
  {
   "cell_type": "code",
   "execution_count": 1,
   "id": "f8a3d1f3",
   "metadata": {},
   "outputs": [],
   "source": [
    "from osgeo import gdal, ogr, osr\n",
    "from osgeo import gdal\n",
    "import numpy as np"
   ]
  },
  {
   "cell_type": "code",
   "execution_count": 7,
   "id": "a625845b",
   "metadata": {},
   "outputs": [],
   "source": [
    "\n",
    "\n",
    "# Open the TIF file\n",
    "dataset = gdal.Open(r'E:\\wenqu\\aviris\\arctic_region\\site7\\output\\ang20190713t023324_rfl_v2v2_img_brdf')\n",
    "\n",
    "# Select the bands\n",
    "red_band = dataset.GetRasterBand(55)\n",
    "nir_band = dataset.GetRasterBand(81)\n",
    "\n",
    "# Read the bands as arrays\n",
    "red = red_band.ReadAsArray()\n",
    "nir = nir_band.ReadAsArray()\n",
    "\n",
    "# Calculate NDVI\n",
    "ndvi = (nir.astype(float) - red.astype(float)) / (nir + red)\n",
    "\n",
    "# Handle division by zero\n",
    "ndvi[np.isnan(ndvi)] = 0\n",
    "\n",
    "# Create a new TIF file for output\n",
    "driver = gdal.GetDriverByName('GTiff')\n",
    "out_dataset = driver.Create('E:/wenqu/aviris/arctic_region/NDVI/site7_ndvi.tif', dataset.RasterXSize, dataset.RasterYSize, 1, gdal.GDT_Float32)\n",
    "\n",
    "# Write NDVI to the new TIF file\n",
    "out_band = out_dataset.GetRasterBand(1)\n",
    "out_band.WriteArray(ndvi)\n",
    "\n",
    "# Set georeference and projection from the original file\n",
    "out_dataset.SetGeoTransform(dataset.GetGeoTransform())\n",
    "out_dataset.SetProjection(dataset.GetProjection())\n",
    "\n",
    "# Save and close the datasets\n",
    "out_band.FlushCache()\n",
    "out_dataset.FlushCache()\n"
   ]
  },
  {
   "cell_type": "code",
   "execution_count": 2,
   "id": "54230e08",
   "metadata": {},
   "outputs": [],
   "source": [
    "# 打开 TIF 文件\n",
    "dataset = gdal.Open('E:/wenqu/aviris/arctic_region/NDVI/site4bc_ndvi.tif', gdal.GA_ReadOnly)\n",
    "\n",
    "# 获取第一个波段（通常 TIF 文件至少包含一个波段）\n",
    "band = dataset.GetRasterBand(1)\n",
    "\n",
    "# 将波段读为数组\n",
    "array = band.ReadAsArray()\n",
    "\n",
    "# 重新分类：小于 0 的设置为 0，大于等于 0 的设置为 1\n",
    "array = np.where(array < 0.15, 0, 1)\n",
    "\n",
    "# 创建新的 TIF 文件\n",
    "driver = gdal.GetDriverByName('GTiff')\n",
    "out_dataset = driver.Create('E:/wenqu/aviris/arctic_region/NDVI/mask/site4bc_ndvi_mask_update.tif', band.XSize, band.YSize, 1, gdal.GDT_Byte)\n",
    "\n",
    "# 写入重新分类后的数组\n",
    "out_band = out_dataset.GetRasterBand(1)\n",
    "out_band.WriteArray(array)\n",
    "\n",
    "# 设置地理变换和投影\n",
    "out_dataset.SetGeoTransform(dataset.GetGeoTransform())\n",
    "out_dataset.SetProjection(dataset.GetProjection())\n",
    "\n",
    "# 清除缓存并关闭文件\n",
    "out_band.FlushCache()\n",
    "out_dataset.FlushCache()"
   ]
  },
  {
   "cell_type": "code",
   "execution_count": null,
   "id": "2868a3c4",
   "metadata": {},
   "outputs": [],
   "source": []
  }
 ],
 "metadata": {
  "kernelspec": {
   "display_name": "wenqu_gpu",
   "language": "python",
   "name": "wenqu_gpu"
  },
  "language_info": {
   "codemirror_mode": {
    "name": "ipython",
    "version": 3
   },
   "file_extension": ".py",
   "mimetype": "text/x-python",
   "name": "python",
   "nbconvert_exporter": "python",
   "pygments_lexer": "ipython3",
   "version": "3.9.15"
  }
 },
 "nbformat": 4,
 "nbformat_minor": 5
}
