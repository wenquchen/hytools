{
 "cells": [
  {
   "cell_type": "code",
   "execution_count": 3,
   "id": "a911a9fe",
   "metadata": {},
   "outputs": [],
   "source": [
    "import numpy as np\n",
    "# import torch\n",
    "# from arsf_envi_reader import envi_header\n",
    "import shutil\n",
    "import os\n",
    "import json\n",
    "import math\n",
    "import matplotlib.pyplot as plt\n",
    "import pandas as pd\n",
    "import matplotlib.pyplot as plt\n",
    "import matplotlib.gridspec as gridspec\n",
    "from osgeo import gdal,ogr,osr\n",
    "from scipy.optimize import curve_fit\n",
    "# from tqdm import tqdm\n",
    "# import multiprocess as mp\n",
    "from scipy import ndimage\n",
    "from numpy import trapz\n",
    "\n"
   ]
  },
  {
   "cell_type": "code",
   "execution_count": 5,
   "id": "664d3242",
   "metadata": {},
   "outputs": [
    {
     "data": {
      "text/plain": [
       "(19347, 10637)"
      ]
     },
     "execution_count": 5,
     "metadata": {},
     "output_type": "execute_result"
    }
   ],
   "source": [
    "site1b = gdal.Open(r'D:\\wenqu\\chm\\site1b_CHM_resampled.tif').ReadAsArray()\n",
    "site1b.shape"
   ]
  },
  {
   "cell_type": "code",
   "execution_count": null,
   "id": "c02d2de2",
   "metadata": {},
   "outputs": [],
   "source": [
    "b123_std = ndimage.generic_filter(site1b, np.nanstd, size=19, mode='constant', cval=np.NaN)\n",
    "\n",
    "np.save('D:/wenqu/chm/site1b_b123_std.npy', b123_std)"
   ]
  },
  {
   "cell_type": "code",
   "execution_count": null,
   "id": "437ac7f8",
   "metadata": {},
   "outputs": [],
   "source": [
    "site1b_b123_mean = ndimage.generic_filter(site1b, np.nanmean, size=19, mode='constant', cval=np.NaN)\n",
    "np.save('D:/wenqu/chm/site1b_b123_mean.npy', site1b_b123_mean)"
   ]
  },
  {
   "cell_type": "markdown",
   "id": "9913f618",
   "metadata": {},
   "source": [
    "# site2a"
   ]
  },
  {
   "cell_type": "code",
   "execution_count": null,
   "id": "139b5de4",
   "metadata": {},
   "outputs": [],
   "source": [
    "site2a = gdal.Open(r'D:\\wenqu\\chm\\site2a_CHM_resampled.tif').ReadAsArray()\n",
    "site2a_b123_std = ndimage.generic_filter(site2a, np.nanstd, size=9, mode='constant', cval=np.NaN)\n",
    "np.save('D:/wenqu/chm/site2a_b123_std.npy', site2a_b123_std)"
   ]
  },
  {
   "cell_type": "code",
   "execution_count": null,
   "id": "cd9f721a",
   "metadata": {},
   "outputs": [],
   "source": [
    "site2a_b123_mean = ndimage.generic_filter(site2a, np.nanmean, size=9, mode='constant', cval=np.NaN)\n",
    "np.save('D:/wenqu/chm/site2a_b123_mean.npy', site2a_b123_mean)"
   ]
  },
  {
   "cell_type": "markdown",
   "id": "56c502a1",
   "metadata": {},
   "source": [
    "## site2c"
   ]
  },
  {
   "cell_type": "code",
   "execution_count": null,
   "id": "1f00565f",
   "metadata": {},
   "outputs": [],
   "source": [
    "site2c = gdal.Open(r'D:\\wenqu\\chm\\site2c_CHM_resampled.tif').ReadAsArray()\n",
    "site2c_b123_std = ndimage.generic_filter(site2c, np.nanstd, size=9, mode='constant', cval=np.NaN)\n",
    "np.save('D:/wenqu/chm/site2c_b123_std.npy', site2c_b123_std)"
   ]
  },
  {
   "cell_type": "code",
   "execution_count": null,
   "id": "c9925943",
   "metadata": {},
   "outputs": [],
   "source": [
    "site2c_b123_mean = ndimage.generic_filter(site2c, np.nanmean, size=9, mode='constant', cval=np.NaN)\n",
    "np.save('D:/wenqu/chm/site2c_b123_mean.npy', site2c_b123_mean)"
   ]
  },
  {
   "cell_type": "markdown",
   "id": "bedabf4e",
   "metadata": {},
   "source": [
    "## site6"
   ]
  },
  {
   "cell_type": "code",
   "execution_count": null,
   "id": "0931e968",
   "metadata": {},
   "outputs": [],
   "source": [
    "site6 = gdal.Open(r'D:\\wenqu\\chm\\site6_CHM_resampled.tif').ReadAsArray()\n",
    "site6_b123_std = ndimage.generic_filter(site6, np.nanstd, size=11, mode='constant', cval=np.NaN)\n",
    "np.save('D:/wenqu/chm/site6_b123_std.npy', site6_b123_std)"
   ]
  },
  {
   "cell_type": "code",
   "execution_count": null,
   "id": "99f80637",
   "metadata": {},
   "outputs": [],
   "source": [
    "site6_b123_mean = ndimage.generic_filter(site6, np.nanmean, size=11, mode='constant', cval=np.NaN)\n",
    "np.save('D:/wenqu/chm/site6_b123_mean.npy', site6_b123_mean)"
   ]
  },
  {
   "cell_type": "code",
   "execution_count": null,
   "id": "06160ce7",
   "metadata": {},
   "outputs": [],
   "source": []
  },
  {
   "cell_type": "code",
   "execution_count": null,
   "id": "9edf9d24",
   "metadata": {},
   "outputs": [],
   "source": []
  },
  {
   "cell_type": "code",
   "execution_count": null,
   "id": "a8db2d3c",
   "metadata": {},
   "outputs": [],
   "source": []
  },
  {
   "cell_type": "code",
   "execution_count": null,
   "id": "6e554f17",
   "metadata": {},
   "outputs": [],
   "source": []
  },
  {
   "cell_type": "code",
   "execution_count": 2,
   "id": "ee855e75",
   "metadata": {},
   "outputs": [
    {
     "data": {
      "text/plain": [
       "(122, 9106, 8882)"
      ]
     },
     "execution_count": 2,
     "metadata": {},
     "output_type": "execute_result"
    }
   ],
   "source": [
    "high_res_img = gdal.Open(r'D:\\wenqu\\mosaic\\site6\\site6_simulation_mosaic')\n",
    "high_res_radiance = gdal.Open(r'D:\\wenqu\\mosaic\\site6\\site6_simulation_mosaic').ReadAsArray() \n",
    "\n",
    "high_res_radiance.shape"
   ]
  },
  {
   "cell_type": "code",
   "execution_count": 3,
   "id": "bb36c312",
   "metadata": {},
   "outputs": [
    {
     "ename": "TypeError",
     "evalue": "Implicit conversion to a NumPy array is not allowed. Please use `.get()` to construct a NumPy array explicitly.",
     "output_type": "error",
     "traceback": [
      "\u001b[1;31m---------------------------------------------------------------------------\u001b[0m",
      "\u001b[1;31mTypeError\u001b[0m                                 Traceback (most recent call last)",
      "Cell \u001b[1;32mIn[3], line 12\u001b[0m\n\u001b[0;32m     10\u001b[0m b119 \u001b[38;5;241m=\u001b[39m high_res_radiance[\u001b[38;5;241m118\u001b[39m, :, :]\n\u001b[0;32m     11\u001b[0m b119 \u001b[38;5;241m=\u001b[39m cp\u001b[38;5;241m.\u001b[39masarray(b119)  \u001b[38;5;66;03m# Convert NumPy array to CuPy array\u001b[39;00m\n\u001b[1;32m---> 12\u001b[0m b119_std \u001b[38;5;241m=\u001b[39m \u001b[43mgeneric_filter\u001b[49m\u001b[43m(\u001b[49m\u001b[43mb119\u001b[49m\u001b[43m,\u001b[49m\u001b[43m \u001b[49m\u001b[43mcp\u001b[49m\u001b[38;5;241;43m.\u001b[39;49m\u001b[43mnanstd\u001b[49m\u001b[43m,\u001b[49m\u001b[43m \u001b[49m\u001b[43msize\u001b[49m\u001b[38;5;241;43m=\u001b[39;49m\u001b[43m(\u001b[49m\u001b[38;5;241;43m11\u001b[39;49m\u001b[43m,\u001b[49m\u001b[43m \u001b[49m\u001b[38;5;241;43m11\u001b[39;49m\u001b[43m)\u001b[49m\u001b[43m,\u001b[49m\u001b[43m \u001b[49m\u001b[43mmode\u001b[49m\u001b[38;5;241;43m=\u001b[39;49m\u001b[38;5;124;43m'\u001b[39;49m\u001b[38;5;124;43mconstant\u001b[39;49m\u001b[38;5;124;43m'\u001b[39;49m\u001b[43m,\u001b[49m\u001b[43m \u001b[49m\u001b[43mcval\u001b[49m\u001b[38;5;241;43m=\u001b[39;49m\u001b[43mcp\u001b[49m\u001b[38;5;241;43m.\u001b[39;49m\u001b[43mNaN\u001b[49m\u001b[43m)\u001b[49m\n",
      "File \u001b[1;32m~\\Anaconda3\\envs\\cupu1\\lib\\site-packages\\scipy\\ndimage\\_filters.py:1580\u001b[0m, in \u001b[0;36mgeneric_filter\u001b[1;34m(input, function, size, footprint, output, mode, cval, origin, extra_arguments, extra_keywords)\u001b[0m\n\u001b[0;32m   1578\u001b[0m \u001b[38;5;28;01mif\u001b[39;00m extra_keywords \u001b[38;5;129;01mis\u001b[39;00m \u001b[38;5;28;01mNone\u001b[39;00m:\n\u001b[0;32m   1579\u001b[0m     extra_keywords \u001b[38;5;241m=\u001b[39m {}\n\u001b[1;32m-> 1580\u001b[0m \u001b[38;5;28minput\u001b[39m \u001b[38;5;241m=\u001b[39m \u001b[43mnumpy\u001b[49m\u001b[38;5;241;43m.\u001b[39;49m\u001b[43masarray\u001b[49m\u001b[43m(\u001b[49m\u001b[38;5;28;43minput\u001b[39;49m\u001b[43m)\u001b[49m\n\u001b[0;32m   1581\u001b[0m \u001b[38;5;28;01mif\u001b[39;00m numpy\u001b[38;5;241m.\u001b[39miscomplexobj(\u001b[38;5;28minput\u001b[39m):\n\u001b[0;32m   1582\u001b[0m     \u001b[38;5;28;01mraise\u001b[39;00m \u001b[38;5;167;01mTypeError\u001b[39;00m(\u001b[38;5;124m'\u001b[39m\u001b[38;5;124mComplex type not supported\u001b[39m\u001b[38;5;124m'\u001b[39m)\n",
      "File \u001b[1;32mcupy\\_core\\core.pyx:1480\u001b[0m, in \u001b[0;36mcupy._core.core._ndarray_base.__array__\u001b[1;34m()\u001b[0m\n",
      "\u001b[1;31mTypeError\u001b[0m: Implicit conversion to a NumPy array is not allowed. Please use `.get()` to construct a NumPy array explicitly."
     ]
    }
   ],
   "source": [
    "import cupy as cp\n",
    "from scipy.ndimage import generic_filter\n",
    "import time\n",
    "\n",
    "# start_time = time.time()\n",
    "\n",
    "\n",
    "\n",
    "# Use CuPy functions instead of NumPy functions\n",
    "b119 = high_res_radiance[118, :, :]\n",
    "b119 = cp.asarray(b119)  # Convert NumPy array to CuPy array\n",
    "b119_std = generic_filter(b119, cp.nanstd, size=(11, 11), mode='constant', cval=cp.NaN)\n",
    "\n",
    "# Convert the result back to a CuPy array\n",
    "# b119_std = cp.asarray(b119_std)\n",
    "\n",
    "\n",
    "\n",
    "# end_time = time.time()\n",
    "# runtime = end_time - start_time\n",
    "\n",
    "# print(\"Runtime:\", runtime, \"seconds\")"
   ]
  },
  {
   "cell_type": "code",
   "execution_count": null,
   "id": "0e3f5627",
   "metadata": {},
   "outputs": [],
   "source": [
    "start_time = time.time()\n",
    "b119 = high_res_radiance[118, :, :]\n",
    "b119_std = ndimage.generic_filter(b119, np.nanstd, size=(11,11), mode='constant', cval=np.NaN)\n",
    "end_time = time.time()\n",
    "runtime = end_time - start_time\n",
    "\n",
    "print(\"Runtime:\", runtime, \"seconds\")"
   ]
  },
  {
   "cell_type": "code",
   "execution_count": null,
   "id": "a380d199",
   "metadata": {},
   "outputs": [],
   "source": []
  }
 ],
 "metadata": {
  "kernelspec": {
   "display_name": "wenqu_gpu",
   "language": "python",
   "name": "wenqu_gpu"
  },
  "language_info": {
   "codemirror_mode": {
    "name": "ipython",
    "version": 3
   },
   "file_extension": ".py",
   "mimetype": "text/x-python",
   "name": "python",
   "nbconvert_exporter": "python",
   "pygments_lexer": "ipython3",
   "version": "3.9.15"
  }
 },
 "nbformat": 4,
 "nbformat_minor": 5
}
