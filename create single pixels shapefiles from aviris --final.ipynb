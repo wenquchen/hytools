{
 "cells": [
  {
   "cell_type": "code",
   "execution_count": 14,
   "id": "5ad40467",
   "metadata": {},
   "outputs": [],
   "source": [
    "from osgeo import gdal,ogr,osr\n",
    "import numpy as np\n",
    "from PIL import Image\n",
    "import math\n",
    "import rasterio\n",
    "\n",
    "from rasterio.plot import show\n",
    "\n",
    "from rasterio.plot import show_hist\n",
    "\n",
    "from rasterio.mask import mask\n",
    "from affine import Affine\n",
    "\n",
    "from shapely.geometry import box\n",
    "import geopandas as gpd\n",
    "from fiona.crs import from_epsg\n",
    "from rasterio.windows import Window\n",
    "# import pycrs"
   ]
  },
  {
   "cell_type": "code",
   "execution_count": 15,
   "id": "bb96c646",
   "metadata": {},
   "outputs": [],
   "source": [
    "import rasterio\n",
    "import geopandas as gpd\n",
    "from shapely.geometry import Polygon\n",
    "\n",
    "# Open the raster file\n",
    "with rasterio.open(r'F:\\wenqu\\Aviris\\2022\\clip\\clipped_site_image\\site2a\\site2a_aviris') as src:\n",
    "    # Get the raster's transform, including rotation\n",
    "    transform = src.transform\n",
    "    output_crs = src.crs\n",
    "\n",
    "    # Create a directory to save the shapefiles\n",
    "    import os\n",
    "    output_dir = 'F:/wenqu/Aviris/2022/pixel_shp/site2a_shp/'\n",
    "#     os.makedirs(output_dir, exist_ok=True)\n",
    "\n",
    "    # Iterate through each pixel in the raster\n",
    "    for row in range(src.height):\n",
    "        for col in range(src.width):\n",
    "            # Calculate the coordinates for each corner of the pixel\n",
    "            x1, y1 = transform * (col, row)           # Top-left corner\n",
    "            x2, y2 = transform * (col + 1, row)       # Top-right corner\n",
    "            x3, y3 = transform * (col + 1, row + 1)   # Bottom-right corner\n",
    "            x4, y4 = transform * (col, row + 1)       # Bottom-left corner\n",
    "\n",
    "            # Create a Polygon with the calculated corner coordinates\n",
    "            polygon = Polygon([(x1, y1), (x2, y2), (x3, y3), (x4, y4)])\n",
    "\n",
    "            # Create a GeoDataFrame with the Polygon\n",
    "            gdf = gpd.GeoDataFrame({'geometry': [polygon]}, crs=output_crs)\n",
    "\n",
    "            # Save the GeoDataFrame as a shapefile\n",
    "            output_filename = os.path.join(output_dir, f'site2a_{row}_{col}.shp')\n",
    "            gdf.to_file(output_filename)\n"
   ]
  },
  {
   "cell_type": "code",
   "execution_count": null,
   "id": "eaae4eb5",
   "metadata": {},
   "outputs": [],
   "source": []
  }
 ],
 "metadata": {
  "kernelspec": {
   "display_name": "wenqu_gdal",
   "language": "python",
   "name": "wenqu_gdal"
  },
  "language_info": {
   "codemirror_mode": {
    "name": "ipython",
    "version": 3
   },
   "file_extension": ".py",
   "mimetype": "text/x-python",
   "name": "python",
   "nbconvert_exporter": "python",
   "pygments_lexer": "ipython3",
   "version": "3.9.15"
  }
 },
 "nbformat": 4,
 "nbformat_minor": 5
}
