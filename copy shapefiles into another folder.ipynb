{
 "cells": [
  {
   "cell_type": "code",
   "execution_count": 52,
   "id": "e8567a4c",
   "metadata": {},
   "outputs": [
    {
     "name": "stdout",
     "output_type": "stream",
     "text": [
      "Clipping completed!\n"
     ]
    }
   ],
   "source": [
    "import rasterio\n",
    "from rasterio.mask import mask\n",
    "from shapely.geometry import shape\n",
    "import fiona\n",
    "import os\n",
    "\n",
    "# Directory containing the shapefiles\n",
    "SHAPEFILE_DIR=r\"E:\\wenqu\\trait_map\\trait_map_without_chm\\validation\\shapefiles\\site2c\"\n",
    "# Directory to save the output tifs\n",
    "OUTPUT_DIR=r'E:\\wenqu\\trait_map\\trait_map_without_chm\\validation\\clipped_from_aviris_trait_map\\sla_ymax'\n",
    "# Input raster\n",
    "RASTER_INPUT=r'E:\\wenqu\\aviris\\arctic_region\\trait_map\\site1b_sla_trait_ymax.tif'\n",
    "\n",
    "# Get the list of shapefiles\n",
    "shapefiles = [f for f in os.listdir(SHAPEFILE_DIR) if f.endswith('.shp')]\n",
    "\n",
    "for shapefile in shapefiles:\n",
    "    with fiona.open(os.path.join(SHAPEFILE_DIR, shapefile), \"r\") as shapefile_data:\n",
    "        # Extract shapefile's geometry\n",
    "        shapes = [feature[\"geometry\"] for feature in shapefile_data]\n",
    "        \n",
    "        with rasterio.open(RASTER_INPUT) as src:\n",
    "            # Clip the raster with the shapefile's geometry\n",
    "            out_image, out_transform = mask(src, shapes, crop=True)\n",
    "            out_meta = src.meta.copy()\n",
    "            \n",
    "            # Update the metadata with the clipped raster's details\n",
    "            out_meta.update({\"driver\": \"GTiff\",\n",
    "                             \"height\": out_image.shape[1],\n",
    "                             \"width\": out_image.shape[2],\n",
    "                             \"transform\": out_transform})\n",
    "            output_name = 'sla_ymax_' + shapefile.replace('.shp', '.tif')\n",
    "            \n",
    "            output_raster = os.path.join(OUTPUT_DIR, output_name)\n",
    "            with rasterio.open(output_raster, \"w\", **out_meta) as dest:\n",
    "                dest.write(out_image)\n",
    "\n",
    "print(\"Clipping completed!\")"
   ]
  },
  {
   "cell_type": "code",
   "execution_count": null,
   "id": "8c9d21d3",
   "metadata": {},
   "outputs": [],
   "source": []
  },
  {
   "cell_type": "code",
   "execution_count": null,
   "id": "e9036065",
   "metadata": {},
   "outputs": [],
   "source": []
  }
 ],
 "metadata": {
  "kernelspec": {
   "display_name": "wenqu_gpu",
   "language": "python",
   "name": "wenqu_gpu"
  },
  "language_info": {
   "codemirror_mode": {
    "name": "ipython",
    "version": 3
   },
   "file_extension": ".py",
   "mimetype": "text/x-python",
   "name": "python",
   "nbconvert_exporter": "python",
   "pygments_lexer": "ipython3",
   "version": "3.9.15"
  }
 },
 "nbformat": 4,
 "nbformat_minor": 5
}
