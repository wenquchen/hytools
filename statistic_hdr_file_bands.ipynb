{
 "cells": [
  {
   "cell_type": "code",
   "execution_count": 2,
   "id": "3b11928a",
   "metadata": {},
   "outputs": [],
   "source": [
    "import numpy as np\n",
    "import matplotlib.pyplot as plt\n",
    "from osgeo import gdal,ogr,osr\n",
    "import os\n",
    "import pandas as pd"
   ]
  },
  {
   "cell_type": "code",
   "execution_count": 3,
   "id": "4d4e32f0",
   "metadata": {},
   "outputs": [
    {
     "data": {
      "text/plain": [
       "(122, 19, 19)"
      ]
     },
     "execution_count": 3,
     "metadata": {},
     "output_type": "execute_result"
    }
   ],
   "source": [
    "src1 = gdal.Open(r'F:\\wenqu\\Hyperspectral_site\\simulation_clip\\site1b\\site1b_Q1.tif').ReadAsArray() \n",
    "src1.shape"
   ]
  },
  {
   "cell_type": "code",
   "execution_count": 5,
   "id": "70a406fc",
   "metadata": {},
   "outputs": [
    {
     "data": {
      "image/png": "[encoded data removed]",
      "text/plain": [
       "<Figure size 1000x1000 with 1 Axes>"
      ]
     },
     "metadata": {},
     "output_type": "display_data"
    }
   ],
   "source": [
    "fig = plt.figure(figsize = (10,10))\n",
    "plt.imshow(src1[121,:,:], interpolation='nearest')\n",
    "plt.show()"
   ]
  },
  {
   "cell_type": "code",
   "execution_count": 3,
   "id": "86b1e153",
   "metadata": {},
   "outputs": [
    {
     "data": {
      "text/plain": [
       "0.020106755"
      ]
     },
     "execution_count": 3,
     "metadata": {},
     "output_type": "execute_result"
    }
   ],
   "source": [
    "src1_b0_std = np.std(src1[0,:,:])\n",
    "src1_b0_std"
   ]
  },
  {
   "cell_type": "code",
   "execution_count": 4,
   "id": "405c1f89",
   "metadata": {},
   "outputs": [
    {
     "data": {
      "text/plain": [
       "array([0.02010676, 0.00957666, 0.00827534, 0.00521105, 0.0049274 ,\n",
       "       0.00637387, 0.00479852, 0.00418239, 0.0057014 , 0.00679681,\n",
       "       0.00563477, 0.00611625, 0.00595376, 0.00659649, 0.00721384,\n",
       "       0.00673172, 0.00725387, 0.00736156, 0.007505  , 0.00757179,\n",
       "       0.00788951, 0.00796321, 0.00839807, 0.00912791, 0.00993638,\n",
       "       0.01077774, 0.01207027, 0.01308284, 0.01388561, 0.01456901,\n",
       "       0.01531084, 0.01551817, 0.01588481, 0.01533329, 0.01491374,\n",
       "       0.01469262, 0.01413819, 0.01367964, 0.01376675, 0.01367127,\n",
       "       0.01368369, 0.01378629, 0.01346735, 0.01293275, 0.01291211,\n",
       "       0.01308188, 0.0131544 , 0.01332732, 0.01328844, 0.01270533,\n",
       "       0.0125134 , 0.01241023, 0.01177115, 0.01104561, 0.01048738,\n",
       "       0.01037553, 0.0103719 , 0.01149029, 0.01362715, 0.0159339 ,\n",
       "       0.0204096 , 0.02427199, 0.02755131, 0.02972867, 0.03297065,\n",
       "       0.03490528, 0.03658747, 0.03803453, 0.03887855, 0.03908953,\n",
       "       0.03908749, 0.03993152, 0.04097294, 0.03957321, 0.04003098,\n",
       "       0.04086616, 0.04149821, 0.04087658, 0.04054895, 0.04136654,\n",
       "       0.04162879, 0.04054522, 0.04221975, 0.04218969, 0.04174591,\n",
       "       0.04250266, 0.04239658, 0.04275989, 0.04211436, 0.04310943,\n",
       "       0.04411149, 0.04384964, 0.04276735, 0.04287473, 0.04370782,\n",
       "       0.04376208, 0.04432519, 0.04189877, 0.04394567, 0.04348715,\n",
       "       0.04096328, 0.04317781, 0.04028885, 0.04304185, 0.04315514,\n",
       "       0.04446451, 0.04016222, 0.03691209, 0.04173719, 0.03995022,\n",
       "       0.03983175, 0.04291597, 0.04160869, 0.04357242, 0.03852399,\n",
       "       0.04129122, 0.04024683, 0.03995398, 0.03650487, 0.03406712,\n",
       "       0.03720465, 0.04224313], dtype=float32)"
      ]
     },
     "execution_count": 4,
     "metadata": {},
     "output_type": "execute_result"
    }
   ],
   "source": [
    "band_std = np.std(src1, axis=(1,2))\n",
    "band_std"
   ]
  },
  {
   "cell_type": "code",
   "execution_count": 5,
   "id": "083eb51c",
   "metadata": {},
   "outputs": [],
   "source": [
    "path = 'F:/wenqu/Hyperspectral_site/simulation_clip/site1b'\n",
    "hdr_files = []\n",
    "for f in os.listdir(path):\n",
    "    if f.endswith('.tif'):\n",
    "        hdr_files.append(f.replace('.tif', ''))\n",
    "        \n",
    "\n",
    "# hdr_files"
   ]
  },
  {
   "cell_type": "code",
   "execution_count": 6,
   "id": "503f7fed",
   "metadata": {},
   "outputs": [
    {
     "data": {
      "text/plain": [
       "'site1b_Q1'"
      ]
     },
     "execution_count": 6,
     "metadata": {},
     "output_type": "execute_result"
    }
   ],
   "source": [
    "hdr_files[0]"
   ]
  },
  {
   "cell_type": "code",
   "execution_count": 7,
   "id": "c025b7c2",
   "metadata": {},
   "outputs": [],
   "source": [
    "file_band_mean = []\n",
    "file_band_std = []\n",
    "for i in range(len(hdr_files)):\n",
    "    dst_hdr = gdal.Open('F:/wenqu/Hyperspectral_site/simulation_clip/site1b/'+ hdr_files[i]+'.tif').ReadAsArray() \n",
    "#     print(dst_hdr.shape)\n",
    "    band_mean = np.mean(dst_hdr, axis=(1,2))\n",
    "    file_band_mean.append(band_mean)\n",
    "    band_std = np.std(dst_hdr, axis=(1,2))\n",
    "    file_band_std.append(band_std)\n",
    "\n",
    "\n",
    "#        "
   ]
  },
  {
   "cell_type": "code",
   "execution_count": 8,
   "id": "9c226297",
   "metadata": {},
   "outputs": [
    {
     "name": "stdout",
     "output_type": "stream",
     "text": [
      "(26, 122)\n"
     ]
    }
   ],
   "source": [
    "file_band_mean = np.array(file_band_mean)\n",
    "file_band_std = np.array(file_band_std)\n",
    "print(file_band_mean.shape)"
   ]
  },
  {
   "cell_type": "code",
   "execution_count": 9,
   "id": "b886bebe",
   "metadata": {},
   "outputs": [],
   "source": [
    "file_band_statistic = np.concatenate((file_band_mean, file_band_std), axis=1)"
   ]
  },
  {
   "cell_type": "code",
   "execution_count": 14,
   "id": "49b344a6",
   "metadata": {},
   "outputs": [],
   "source": [
    "b_name_mean = []\n",
    "b_name_std = []\n",
    "for i in range(1, 123):\n",
    "    b_mean = 'b' + str(i) + '_mean'\n",
    "    b_name_mean.append(b_mean)\n",
    "    b_std = 'b' + str(i) + '_std'\n",
    "    b_name_std.append(b_std)\n"
   ]
  },
  {
   "cell_type": "code",
   "execution_count": 15,
   "id": "01e1b870",
   "metadata": {},
   "outputs": [
    {
     "data": {
      "text/plain": [
       "['b1_mean',\n",
       " 'b2_mean',\n",
       " 'b3_mean',\n",
       " 'b4_mean',\n",
       " 'b5_mean',\n",
       " 'b6_mean',\n",
       " 'b7_mean',\n",
       " 'b8_mean',\n",
       " 'b9_mean',\n",
       " 'b10_mean',\n",
       " 'b11_mean',\n",
       " 'b12_mean',\n",
       " 'b13_mean',\n",
       " 'b14_mean',\n",
       " 'b15_mean',\n",
       " 'b16_mean',\n",
       " 'b17_mean',\n",
       " 'b18_mean',\n",
       " 'b19_mean',\n",
       " 'b20_mean',\n",
       " 'b21_mean',\n",
       " 'b22_mean',\n",
       " 'b23_mean',\n",
       " 'b24_mean',\n",
       " 'b25_mean',\n",
       " 'b26_mean',\n",
       " 'b27_mean',\n",
       " 'b28_mean',\n",
       " 'b29_mean',\n",
       " 'b30_mean',\n",
       " 'b31_mean',\n",
       " 'b32_mean',\n",
       " 'b33_mean',\n",
       " 'b34_mean',\n",
       " 'b35_mean',\n",
       " 'b36_mean',\n",
       " 'b37_mean',\n",
       " 'b38_mean',\n",
       " 'b39_mean',\n",
       " 'b40_mean',\n",
       " 'b41_mean',\n",
       " 'b42_mean',\n",
       " 'b43_mean',\n",
       " 'b44_mean',\n",
       " 'b45_mean',\n",
       " 'b46_mean',\n",
       " 'b47_mean',\n",
       " 'b48_mean',\n",
       " 'b49_mean',\n",
       " 'b50_mean',\n",
       " 'b51_mean',\n",
       " 'b52_mean',\n",
       " 'b53_mean',\n",
       " 'b54_mean',\n",
       " 'b55_mean',\n",
       " 'b56_mean',\n",
       " 'b57_mean',\n",
       " 'b58_mean',\n",
       " 'b59_mean',\n",
       " 'b60_mean',\n",
       " 'b61_mean',\n",
       " 'b62_mean',\n",
       " 'b63_mean',\n",
       " 'b64_mean',\n",
       " 'b65_mean',\n",
       " 'b66_mean',\n",
       " 'b67_mean',\n",
       " 'b68_mean',\n",
       " 'b69_mean',\n",
       " 'b70_mean',\n",
       " 'b71_mean',\n",
       " 'b72_mean',\n",
       " 'b73_mean',\n",
       " 'b74_mean',\n",
       " 'b75_mean',\n",
       " 'b76_mean',\n",
       " 'b77_mean',\n",
       " 'b78_mean',\n",
       " 'b79_mean',\n",
       " 'b80_mean',\n",
       " 'b81_mean',\n",
       " 'b82_mean',\n",
       " 'b83_mean',\n",
       " 'b84_mean',\n",
       " 'b85_mean',\n",
       " 'b86_mean',\n",
       " 'b87_mean',\n",
       " 'b88_mean',\n",
       " 'b89_mean',\n",
       " 'b90_mean',\n",
       " 'b91_mean',\n",
       " 'b92_mean',\n",
       " 'b93_mean',\n",
       " 'b94_mean',\n",
       " 'b95_mean',\n",
       " 'b96_mean',\n",
       " 'b97_mean',\n",
       " 'b98_mean',\n",
       " 'b99_mean',\n",
       " 'b100_mean',\n",
       " 'b101_mean',\n",
       " 'b102_mean',\n",
       " 'b103_mean',\n",
       " 'b104_mean',\n",
       " 'b105_mean',\n",
       " 'b106_mean',\n",
       " 'b107_mean',\n",
       " 'b108_mean',\n",
       " 'b109_mean',\n",
       " 'b110_mean',\n",
       " 'b111_mean',\n",
       " 'b112_mean',\n",
       " 'b113_mean',\n",
       " 'b114_mean',\n",
       " 'b115_mean',\n",
       " 'b116_mean',\n",
       " 'b117_mean',\n",
       " 'b118_mean',\n",
       " 'b119_mean',\n",
       " 'b120_mean',\n",
       " 'b121_mean',\n",
       " 'b122_mean',\n",
       " 'b1_std',\n",
       " 'b2_std',\n",
       " 'b3_std',\n",
       " 'b4_std',\n",
       " 'b5_std',\n",
       " 'b6_std',\n",
       " 'b7_std',\n",
       " 'b8_std',\n",
       " 'b9_std',\n",
       " 'b10_std',\n",
       " 'b11_std',\n",
       " 'b12_std',\n",
       " 'b13_std',\n",
       " 'b14_std',\n",
       " 'b15_std',\n",
       " 'b16_std',\n",
       " 'b17_std',\n",
       " 'b18_std',\n",
       " 'b19_std',\n",
       " 'b20_std',\n",
       " 'b21_std',\n",
       " 'b22_std',\n",
       " 'b23_std',\n",
       " 'b24_std',\n",
       " 'b25_std',\n",
       " 'b26_std',\n",
       " 'b27_std',\n",
       " 'b28_std',\n",
       " 'b29_std',\n",
       " 'b30_std',\n",
       " 'b31_std',\n",
       " 'b32_std',\n",
       " 'b33_std',\n",
       " 'b34_std',\n",
       " 'b35_std',\n",
       " 'b36_std',\n",
       " 'b37_std',\n",
       " 'b38_std',\n",
       " 'b39_std',\n",
       " 'b40_std',\n",
       " 'b41_std',\n",
       " 'b42_std',\n",
       " 'b43_std',\n",
       " 'b44_std',\n",
       " 'b45_std',\n",
       " 'b46_std',\n",
       " 'b47_std',\n",
       " 'b48_std',\n",
       " 'b49_std',\n",
       " 'b50_std',\n",
       " 'b51_std',\n",
       " 'b52_std',\n",
       " 'b53_std',\n",
       " 'b54_std',\n",
       " 'b55_std',\n",
       " 'b56_std',\n",
       " 'b57_std',\n",
       " 'b58_std',\n",
       " 'b59_std',\n",
       " 'b60_std',\n",
       " 'b61_std',\n",
       " 'b62_std',\n",
       " 'b63_std',\n",
       " 'b64_std',\n",
       " 'b65_std',\n",
       " 'b66_std',\n",
       " 'b67_std',\n",
       " 'b68_std',\n",
       " 'b69_std',\n",
       " 'b70_std',\n",
       " 'b71_std',\n",
       " 'b72_std',\n",
       " 'b73_std',\n",
       " 'b74_std',\n",
       " 'b75_std',\n",
       " 'b76_std',\n",
       " 'b77_std',\n",
       " 'b78_std',\n",
       " 'b79_std',\n",
       " 'b80_std',\n",
       " 'b81_std',\n",
       " 'b82_std',\n",
       " 'b83_std',\n",
       " 'b84_std',\n",
       " 'b85_std',\n",
       " 'b86_std',\n",
       " 'b87_std',\n",
       " 'b88_std',\n",
       " 'b89_std',\n",
       " 'b90_std',\n",
       " 'b91_std',\n",
       " 'b92_std',\n",
       " 'b93_std',\n",
       " 'b94_std',\n",
       " 'b95_std',\n",
       " 'b96_std',\n",
       " 'b97_std',\n",
       " 'b98_std',\n",
       " 'b99_std',\n",
       " 'b100_std',\n",
       " 'b101_std',\n",
       " 'b102_std',\n",
       " 'b103_std',\n",
       " 'b104_std',\n",
       " 'b105_std',\n",
       " 'b106_std',\n",
       " 'b107_std',\n",
       " 'b108_std',\n",
       " 'b109_std',\n",
       " 'b110_std',\n",
       " 'b111_std',\n",
       " 'b112_std',\n",
       " 'b113_std',\n",
       " 'b114_std',\n",
       " 'b115_std',\n",
       " 'b116_std',\n",
       " 'b117_std',\n",
       " 'b118_std',\n",
       " 'b119_std',\n",
       " 'b120_std',\n",
       " 'b121_std',\n",
       " 'b122_std']"
      ]
     },
     "execution_count": 15,
     "metadata": {},
     "output_type": "execute_result"
    }
   ],
   "source": [
    "band_name = b_name_mean + b_name_std\n",
    "band_name"
   ]
  },
  {
   "cell_type": "code",
   "execution_count": 16,
   "id": "4adccf4a",
   "metadata": {},
   "outputs": [
    {
     "data": {
      "text/plain": [
       "['site1b_Q1',\n",
       " 'site1b_Q10',\n",
       " 'site1b_Q11',\n",
       " 'site1b_Q12',\n",
       " 'site1b_Q14',\n",
       " 'site1b_Q15',\n",
       " 'site1b_Q17',\n",
       " 'site1b_Q19',\n",
       " 'site1b_Q2',\n",
       " 'site1b_Q20',\n",
       " 'site1b_Q21',\n",
       " 'site1b_Q22',\n",
       " 'site1b_Q23',\n",
       " 'site1b_Q24',\n",
       " 'site1b_Q26',\n",
       " 'site1b_Q27',\n",
       " 'site1b_Q28',\n",
       " 'site1b_Q29',\n",
       " 'site1b_Q3',\n",
       " 'site1b_Q31',\n",
       " 'site1b_Q32',\n",
       " 'site1b_Q4',\n",
       " 'site1b_Q5',\n",
       " 'site1b_Q6',\n",
       " 'site1b_Q8',\n",
       " 'site1b_Q9']"
      ]
     },
     "execution_count": 16,
     "metadata": {},
     "output_type": "execute_result"
    }
   ],
   "source": [
    "hdr_files"
   ]
  },
  {
   "cell_type": "code",
   "execution_count": 17,
   "id": "ffcaac98",
   "metadata": {},
   "outputs": [
    {
     "name": "stdout",
     "output_type": "stream",
     "text": [
      "             b1_mean   b2_mean   b3_mean   b4_mean   b5_mean   b6_mean  \\\n",
      "site1b_Q1   0.008066  0.005356  0.005069  0.003740  0.003234  0.004096   \n",
      "site1b_Q10  0.009731  0.006944  0.006660  0.004985  0.005775  0.005698   \n",
      "site1b_Q11  0.009178  0.006943  0.004953  0.004245  0.004165  0.004981   \n",
      "site1b_Q12  0.015963  0.009181  0.009470  0.006101  0.006833  0.007718   \n",
      "site1b_Q14  0.013563  0.009756  0.007837  0.006729  0.006789  0.006688   \n",
      "site1b_Q15  0.017786  0.012587  0.014262  0.014220  0.013599  0.013348   \n",
      "site1b_Q17  0.012683  0.011679  0.009746  0.009392  0.010329  0.011217   \n",
      "site1b_Q19  0.000000  0.000000  0.000000  0.000000  0.000000  0.000000   \n",
      "site1b_Q2   0.007073  0.005461  0.006265  0.004865  0.004999  0.004671   \n",
      "site1b_Q20  0.010889  0.008047  0.008364  0.007148  0.007000  0.009132   \n",
      "site1b_Q21  0.009929  0.007659  0.007783  0.004877  0.004342  0.005454   \n",
      "site1b_Q22  0.008476  0.007736  0.005443  0.005107  0.005158  0.006117   \n",
      "site1b_Q23  0.019044  0.014451  0.011187  0.010370  0.010382  0.012876   \n",
      "site1b_Q24  0.015023  0.009089  0.008105  0.006745  0.006388  0.006816   \n",
      "site1b_Q26  0.017074  0.008246  0.007960  0.007001  0.007799  0.007576   \n",
      "site1b_Q27  0.014590  0.012865  0.011148  0.010977  0.012043  0.012390   \n",
      "site1b_Q28  0.014310  0.017784  0.013216  0.011432  0.012868  0.014276   \n",
      "site1b_Q29  0.019754  0.013452  0.013773  0.013497  0.013124  0.014368   \n",
      "site1b_Q3   0.007469  0.007563  0.005852  0.008872  0.007166  0.008688   \n",
      "site1b_Q31  0.012518  0.009862  0.010717  0.009620  0.010428  0.010994   \n",
      "site1b_Q32  0.008917  0.007457  0.007834  0.005389  0.005905  0.006688   \n",
      "site1b_Q4   0.007599  0.007815  0.005624  0.005231  0.005647  0.006165   \n",
      "site1b_Q5   0.012442  0.004747  0.003768  0.004511  0.003534  0.003922   \n",
      "site1b_Q6   0.013019  0.009587  0.010217  0.009804  0.008983  0.009972   \n",
      "site1b_Q8   0.009560  0.005217  0.004406  0.004180  0.004491  0.004933   \n",
      "site1b_Q9   0.015077  0.008629  0.008274  0.008792  0.008029  0.008785   \n",
      "\n",
      "             b7_mean   b8_mean   b9_mean  b10_mean  ...  b113_std  b114_std  \\\n",
      "site1b_Q1   0.003448  0.003047  0.004150  0.005283  ...  0.041609  0.043572   \n",
      "site1b_Q10  0.006839  0.006917  0.009124  0.011083  ...  0.083011  0.078096   \n",
      "site1b_Q11  0.004887  0.005557  0.006763  0.009055  ...  0.074817  0.073934   \n",
      "site1b_Q12  0.005744  0.008082  0.008617  0.011952  ...  0.138250  0.147516   \n",
      "site1b_Q14  0.005570  0.006667  0.009677  0.012084  ...  0.082741  0.080296   \n",
      "site1b_Q15  0.015746  0.016972  0.019202  0.023077  ...  0.091094  0.093772   \n",
      "site1b_Q17  0.011849  0.013575  0.016483  0.019280  ...  0.081493  0.075748   \n",
      "site1b_Q19  0.000000  0.000000  0.000000  0.000000  ...  0.000000  0.000000   \n",
      "site1b_Q2   0.004856  0.005320  0.005986  0.008588  ...  0.072257  0.075493   \n",
      "site1b_Q20  0.007772  0.009720  0.011046  0.013672  ...  0.094004  0.094601   \n",
      "site1b_Q21  0.005280  0.005693  0.006960  0.008758  ...  0.092735  0.092637   \n",
      "site1b_Q22  0.006090  0.006914  0.008355  0.010860  ...  0.075137  0.069641   \n",
      "site1b_Q23  0.012032  0.011784  0.014185  0.018686  ...  0.085808  0.085969   \n",
      "site1b_Q24  0.006145  0.007513  0.008337  0.010112  ...  0.114906  0.111862   \n",
      "site1b_Q26  0.008457  0.008674  0.009802  0.014172  ...  0.074787  0.066614   \n",
      "site1b_Q27  0.012148  0.012746  0.015780  0.019569  ...  0.096590  0.098964   \n",
      "site1b_Q28  0.012670  0.015094  0.017362  0.020306  ...  0.064791  0.057588   \n",
      "site1b_Q29  0.015486  0.016532  0.018527  0.024929  ...  0.087697  0.080719   \n",
      "site1b_Q3   0.008907  0.009449  0.010657  0.015514  ...  0.073458  0.073482   \n",
      "site1b_Q31  0.012269  0.014386  0.016195  0.021846  ...  0.094031  0.108785   \n",
      "site1b_Q32  0.006295  0.007530  0.009291  0.012227  ...  0.071273  0.068599   \n",
      "site1b_Q4   0.005041  0.007822  0.008959  0.011291  ...  0.105415  0.108488   \n",
      "site1b_Q5   0.003383  0.004010  0.005151  0.006090  ...  0.118789  0.107213   \n",
      "site1b_Q6   0.010341  0.012254  0.014557  0.019611  ...  0.071753  0.071114   \n",
      "site1b_Q8   0.004617  0.005614  0.006243  0.008626  ...  0.092260  0.086733   \n",
      "site1b_Q9   0.007826  0.009504  0.010725  0.014684  ...  0.082134  0.074957   \n",
      "\n",
      "            b115_std  b116_std  b117_std  b118_std  b119_std  b120_std  \\\n",
      "site1b_Q1   0.038524  0.041291  0.040247  0.039954  0.036505  0.034067   \n",
      "site1b_Q10  0.082652  0.070200  0.079887  0.074142  0.078799  0.080803   \n",
      "site1b_Q11  0.075564  0.070180  0.075976  0.070316  0.071065  0.073488   \n",
      "site1b_Q12  0.145039  0.133949  0.140592  0.138326  0.134143  0.137214   \n",
      "site1b_Q14  0.077248  0.074408  0.085448  0.073635  0.073669  0.075640   \n",
      "site1b_Q15  0.093006  0.090727  0.089232  0.087097  0.088697  0.092787   \n",
      "site1b_Q17  0.077120  0.070996  0.078398  0.069547  0.075256  0.082958   \n",
      "site1b_Q19  0.000000  0.000000  0.000000  0.000000  0.000000  0.000000   \n",
      "site1b_Q2   0.069805  0.067690  0.075395  0.067074  0.066255  0.067615   \n",
      "site1b_Q20  0.095509  0.090805  0.093016  0.092107  0.086991  0.086440   \n",
      "site1b_Q21  0.092306  0.089185  0.091416  0.081525  0.077663  0.083903   \n",
      "site1b_Q22  0.063310  0.064979  0.062476  0.064974  0.063290  0.064732   \n",
      "site1b_Q23  0.079459  0.078201  0.077000  0.079997  0.077250  0.075351   \n",
      "site1b_Q24  0.107536  0.103953  0.105153  0.104499  0.102955  0.105431   \n",
      "site1b_Q26  0.068092  0.066267  0.068165  0.065702  0.066183  0.070725   \n",
      "site1b_Q27  0.094608  0.091143  0.096560  0.094533  0.089016  0.091961   \n",
      "site1b_Q28  0.051131  0.049367  0.056058  0.054991  0.055410  0.060697   \n",
      "site1b_Q29  0.079510  0.083822  0.088037  0.086871  0.080459  0.081784   \n",
      "site1b_Q3   0.068208  0.066982  0.075305  0.071986  0.065947  0.071657   \n",
      "site1b_Q31  0.093720  0.092339  0.098919  0.088914  0.086810  0.091124   \n",
      "site1b_Q32  0.061035  0.061785  0.066831  0.071272  0.061311  0.067115   \n",
      "site1b_Q4   0.112840  0.104882  0.108871  0.105052  0.105640  0.101807   \n",
      "site1b_Q5   0.116077  0.109012  0.116640  0.108828  0.115047  0.114928   \n",
      "site1b_Q6   0.070022  0.066585  0.067130  0.063679  0.068098  0.068896   \n",
      "site1b_Q8   0.084757  0.079991  0.087949  0.082367  0.085009  0.083780   \n",
      "site1b_Q9   0.071745  0.074409  0.077037  0.071356  0.072356  0.070620   \n",
      "\n",
      "            b121_std  b122_std  \n",
      "site1b_Q1   0.037205  0.042243  \n",
      "site1b_Q10  0.084301  0.079994  \n",
      "site1b_Q11  0.078000  0.081847  \n",
      "site1b_Q12  0.149233  0.140250  \n",
      "site1b_Q14  0.080912  0.088266  \n",
      "site1b_Q15  0.097216  0.101517  \n",
      "site1b_Q17  0.084701  0.102723  \n",
      "site1b_Q19  0.000000  0.000000  \n",
      "site1b_Q2   0.064345  0.071650  \n",
      "site1b_Q20  0.102773  0.093985  \n",
      "site1b_Q21  0.092927  0.086872  \n",
      "site1b_Q22  0.068934  0.090873  \n",
      "site1b_Q23  0.077396  0.106467  \n",
      "site1b_Q24  0.102916  0.127808  \n",
      "site1b_Q26  0.081087  0.090497  \n",
      "site1b_Q27  0.099845  0.099165  \n",
      "site1b_Q28  0.058521  0.071824  \n",
      "site1b_Q29  0.092348  0.095412  \n",
      "site1b_Q3   0.076951  0.080836  \n",
      "site1b_Q31  0.105945  0.103089  \n",
      "site1b_Q32  0.077332  0.086806  \n",
      "site1b_Q4   0.108830  0.106154  \n",
      "site1b_Q5   0.112759  0.109147  \n",
      "site1b_Q6   0.075916  0.079351  \n",
      "site1b_Q8   0.092286  0.090650  \n",
      "site1b_Q9   0.083389  0.084606  \n",
      "\n",
      "[26 rows x 244 columns]\n"
     ]
    }
   ],
   "source": [
    "df = pd.DataFrame(file_band_statistic, columns = band_name, index = hdr_files)\n",
    "\n",
    "print(df)"
   ]
  },
  {
   "cell_type": "code",
   "execution_count": 18,
   "id": "4e46ebc3",
   "metadata": {},
   "outputs": [],
   "source": [
    "df.to_csv(r'F:\\wenqu\\csv_corrected\\simulated_file_csv\\site1b_update1\\site1b_quadrant_simulation_band_statistic.csv')"
   ]
  },
  {
   "cell_type": "code",
   "execution_count": null,
   "id": "ba0012b7",
   "metadata": {},
   "outputs": [],
   "source": []
  }
 ],
 "metadata": {
  "kernelspec": {
   "display_name": "wenqu_gdal",
   "language": "python",
   "name": "wenqu_gdal"
  },
  "language_info": {
   "codemirror_mode": {
    "name": "ipython",
    "version": 3
   },
   "file_extension": ".py",
   "mimetype": "text/x-python",
   "name": "python",
   "nbconvert_exporter": "python",
   "pygments_lexer": "ipython3",
   "version": "3.9.15"
  }
 },
 "nbformat": 4,
 "nbformat_minor": 5
}
