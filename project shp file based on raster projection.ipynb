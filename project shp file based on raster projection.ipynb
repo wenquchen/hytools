{
 "cells": [
  {
   "cell_type": "code",
   "execution_count": 2,
   "id": "74af868a",
   "metadata": {},
   "outputs": [],
   "source": [
    "import rasterio\n",
    "\n",
    "# Open the raster file and retrieve its CRS\n",
    "with rasterio.open(r'E:\\wenqu\\aviris\\arctic_region\\trait_map\\site1b_d13c_trait_std.tif') as rast:\n",
    "    raster_projection_wkt = rast.crs.to_wkt()\n"
   ]
  },
  {
   "cell_type": "code",
   "execution_count": 3,
   "id": "aa2b2ebf",
   "metadata": {},
   "outputs": [],
   "source": [
    "import geopandas as gpd\n",
    "from fiona.crs import from_epsg\n",
    "\n",
    "# Load the original shapefile\n",
    "original_shp = gpd.read_file(r'E:\\wenqu\\environmental_factors\\Northern_Alaska_Veg_Maps_1359\\Northern_Alaska_Veg_Maps_1359\\data\\NoAk_Landscapes_2014\\NoAk_Landscapes_2014\\NoAk_Landscapes_2014.shp')\n",
    "\n",
    "# Load the raster data to get its projection, assuming you have the raster file\n",
    "# For this example, let's assume you have extracted the projection information into a string in WKT format\n",
    "# raster_projection_wkt = 'your_raster_projection_as_wkt_string'\n",
    "\n",
    "# Set the CRS for the shapefile to match the raster's projection\n",
    "projected_shp = original_shp.to_crs(raster_projection_wkt)\n",
    "\n",
    "# Save the reprojected shapefile\n",
    "projected_shp.to_file(r'E:\\wenqu\\environmental_factors\\Northern_Alaska_Veg_Maps_1359\\Northern_Alaska_Veg_Maps_1359\\data\\NoAk_Landscapes_2014\\projected\\NoAk_Landscapes_2014_proj.shp')\n"
   ]
  },
  {
   "cell_type": "code",
   "execution_count": null,
   "id": "b7aa0a62",
   "metadata": {},
   "outputs": [],
   "source": []
  }
 ],
 "metadata": {
  "kernelspec": {
   "display_name": "wenqu_gpu",
   "language": "python",
   "name": "wenqu_gpu"
  },
  "language_info": {
   "codemirror_mode": {
    "name": "ipython",
    "version": 3
   },
   "file_extension": ".py",
   "mimetype": "text/x-python",
   "name": "python",
   "nbconvert_exporter": "python",
   "pygments_lexer": "ipython3",
   "version": "3.9.15"
  }
 },
 "nbformat": 4,
 "nbformat_minor": 5
}
