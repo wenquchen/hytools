{
 "cells": [
  {
   "cell_type": "code",
   "execution_count": 1,
   "id": "e7415949",
   "metadata": {},
   "outputs": [],
   "source": [
    "import numpy as np\n",
    "import pandas as pd\n",
    "import matplotlib.pyplot as plt\n",
    "from sklearn.preprocessing import scale \n",
    "from sklearn import model_selection\n",
    "from sklearn.model_selection import RepeatedKFold\n",
    "from sklearn.model_selection import train_test_split\n",
    "from sklearn.cross_decomposition import PLSRegression\n",
    "from sklearn.metrics import mean_squared_error\n",
    "from sklearn import model_selection\n",
    "from sklearn.model_selection import train_test_split, cross_val_score, cross_val_predict\n",
    "from sys import stdout\n",
    "import numpy as np\n",
    "import pandas as pd\n",
    "import matplotlib.pyplot as plt\n",
    "\n",
    "from scipy.signal import savgol_filter\n",
    "from scipy.stats import pearsonr\n",
    "from sklearn.cross_decomposition import PLSRegression\n",
    "from sklearn.model_selection import cross_val_predict\n",
    "from sklearn.metrics import mean_squared_error, r2_score"
   ]
  },
  {
   "cell_type": "code",
   "execution_count": 2,
   "id": "dc40a5ab",
   "metadata": {},
   "outputs": [],
   "source": [
    "df_LA = pd.read_csv(r\"F:\\wenqu\\DOE_Arctic_project\\spectral\\combine_LA.csv\")\n",
    "df_SLA = pd.read_csv(r\"F:\\wenqu\\DOE_Arctic_project\\spectral\\combine_SLA.csv\")\n",
    "df_LDMC = pd.read_csv(r\"F:\\wenqu\\DOE_Arctic_project\\spectral\\combine_LDMC.csv\")\n",
    "\n",
    "df_new = pd.read_csv(r\"F:\\wenqu\\DOE_Arctic_project\\spectral\\new_traits.csv\")\n",
    "df_pc = pd.read_csv(r\"F:\\wenqu\\DOE_Arctic_project\\spectral\\new_traits_delete_outlier.csv\")"
   ]
  },
  {
   "cell_type": "code",
   "execution_count": 3,
   "id": "5769b9bd",
   "metadata": {},
   "outputs": [],
   "source": [
    "b_name_mean = []\n",
    "b_name_std = []\n",
    "for i in range(1, 124):\n",
    "    b_mean = 'b' + str(i) + '_mean'\n",
    "    b_name_mean.append(b_mean)\n",
    "    b_std = 'b' + str(i) + '_std'\n",
    "    b_name_std.append(b_std)\n",
    "band_name = b_name_mean + b_name_std\n",
    "band_name = np.array(band_name)"
   ]
  },
  {
   "cell_type": "code",
   "execution_count": 4,
   "id": "0d08d56d",
   "metadata": {},
   "outputs": [
    {
     "data": {
      "text/html": [
       "<div>\n",
       "<style scoped>\n",
       "    .dataframe tbody tr th:only-of-type {\n",
       "        vertical-align: middle;\n",
       "    }\n",
       "\n",
       "    .dataframe tbody tr th {\n",
       "        vertical-align: top;\n",
       "    }\n",
       "\n",
       "    .dataframe thead th {\n",
       "        text-align: right;\n",
       "    }\n",
       "</style>\n",
       "<table border=\"1\" class=\"dataframe\">\n",
       "  <thead>\n",
       "    <tr style=\"text-align: right;\">\n",
       "      <th></th>\n",
       "      <th>site</th>\n",
       "      <th>weighted_pc</th>\n",
       "      <th>weighted_d13c</th>\n",
       "      <th>weighted_pn</th>\n",
       "      <th>weighted_d15n</th>\n",
       "      <th>b123_mean</th>\n",
       "      <th>b123_std</th>\n",
       "      <th>b1_mean</th>\n",
       "      <th>b2_mean</th>\n",
       "      <th>b3_mean</th>\n",
       "      <th>...</th>\n",
       "      <th>b113_std</th>\n",
       "      <th>b114_std</th>\n",
       "      <th>b115_std</th>\n",
       "      <th>b116_std</th>\n",
       "      <th>b117_std</th>\n",
       "      <th>b118_std</th>\n",
       "      <th>b119_std</th>\n",
       "      <th>b120_std</th>\n",
       "      <th>b121_std</th>\n",
       "      <th>b122_std</th>\n",
       "    </tr>\n",
       "  </thead>\n",
       "  <tbody>\n",
       "    <tr>\n",
       "      <th>0</th>\n",
       "      <td>site1b_Q1</td>\n",
       "      <td>43.312469</td>\n",
       "      <td>-28.492351</td>\n",
       "      <td>1.599822</td>\n",
       "      <td>-2.674121</td>\n",
       "      <td>0.583706</td>\n",
       "      <td>0.148356</td>\n",
       "      <td>0.008066</td>\n",
       "      <td>0.005356</td>\n",
       "      <td>0.005069</td>\n",
       "      <td>...</td>\n",
       "      <td>0.041609</td>\n",
       "      <td>0.043572</td>\n",
       "      <td>0.038524</td>\n",
       "      <td>0.041291</td>\n",
       "      <td>0.040247</td>\n",
       "      <td>0.039954</td>\n",
       "      <td>0.036505</td>\n",
       "      <td>0.034067</td>\n",
       "      <td>0.037205</td>\n",
       "      <td>0.042243</td>\n",
       "    </tr>\n",
       "    <tr>\n",
       "      <th>1</th>\n",
       "      <td>site1b_Q10</td>\n",
       "      <td>39.021692</td>\n",
       "      <td>-28.543685</td>\n",
       "      <td>1.793593</td>\n",
       "      <td>1.831298</td>\n",
       "      <td>0.809827</td>\n",
       "      <td>0.164389</td>\n",
       "      <td>0.009731</td>\n",
       "      <td>0.006944</td>\n",
       "      <td>0.006660</td>\n",
       "      <td>...</td>\n",
       "      <td>0.083011</td>\n",
       "      <td>0.078096</td>\n",
       "      <td>0.082652</td>\n",
       "      <td>0.070200</td>\n",
       "      <td>0.079887</td>\n",
       "      <td>0.074142</td>\n",
       "      <td>0.078799</td>\n",
       "      <td>0.080803</td>\n",
       "      <td>0.084301</td>\n",
       "      <td>0.079994</td>\n",
       "    </tr>\n",
       "    <tr>\n",
       "      <th>2</th>\n",
       "      <td>site1b_Q11</td>\n",
       "      <td>28.722149</td>\n",
       "      <td>-26.496804</td>\n",
       "      <td>1.220057</td>\n",
       "      <td>2.088882</td>\n",
       "      <td>0.700839</td>\n",
       "      <td>0.229487</td>\n",
       "      <td>0.009178</td>\n",
       "      <td>0.006943</td>\n",
       "      <td>0.004953</td>\n",
       "      <td>...</td>\n",
       "      <td>0.074817</td>\n",
       "      <td>0.073934</td>\n",
       "      <td>0.075564</td>\n",
       "      <td>0.070180</td>\n",
       "      <td>0.075976</td>\n",
       "      <td>0.070316</td>\n",
       "      <td>0.071065</td>\n",
       "      <td>0.073488</td>\n",
       "      <td>0.078000</td>\n",
       "      <td>0.081847</td>\n",
       "    </tr>\n",
       "    <tr>\n",
       "      <th>3</th>\n",
       "      <td>site1b_Q12</td>\n",
       "      <td>49.725401</td>\n",
       "      <td>-27.295808</td>\n",
       "      <td>1.669954</td>\n",
       "      <td>-1.259432</td>\n",
       "      <td>1.611038</td>\n",
       "      <td>0.148850</td>\n",
       "      <td>0.015963</td>\n",
       "      <td>0.009181</td>\n",
       "      <td>0.009470</td>\n",
       "      <td>...</td>\n",
       "      <td>0.138250</td>\n",
       "      <td>0.147516</td>\n",
       "      <td>0.145039</td>\n",
       "      <td>0.133949</td>\n",
       "      <td>0.140592</td>\n",
       "      <td>0.138326</td>\n",
       "      <td>0.134143</td>\n",
       "      <td>0.137214</td>\n",
       "      <td>0.149233</td>\n",
       "      <td>0.140250</td>\n",
       "    </tr>\n",
       "    <tr>\n",
       "      <th>4</th>\n",
       "      <td>site1b_Q14</td>\n",
       "      <td>46.145474</td>\n",
       "      <td>-27.755471</td>\n",
       "      <td>1.496956</td>\n",
       "      <td>-1.321241</td>\n",
       "      <td>0.433677</td>\n",
       "      <td>0.065860</td>\n",
       "      <td>0.013563</td>\n",
       "      <td>0.009756</td>\n",
       "      <td>0.007837</td>\n",
       "      <td>...</td>\n",
       "      <td>0.082741</td>\n",
       "      <td>0.080296</td>\n",
       "      <td>0.077248</td>\n",
       "      <td>0.074408</td>\n",
       "      <td>0.085448</td>\n",
       "      <td>0.073635</td>\n",
       "      <td>0.073669</td>\n",
       "      <td>0.075640</td>\n",
       "      <td>0.080911</td>\n",
       "      <td>0.088266</td>\n",
       "    </tr>\n",
       "    <tr>\n",
       "      <th>...</th>\n",
       "      <td>...</td>\n",
       "      <td>...</td>\n",
       "      <td>...</td>\n",
       "      <td>...</td>\n",
       "      <td>...</td>\n",
       "      <td>...</td>\n",
       "      <td>...</td>\n",
       "      <td>...</td>\n",
       "      <td>...</td>\n",
       "      <td>...</td>\n",
       "      <td>...</td>\n",
       "      <td>...</td>\n",
       "      <td>...</td>\n",
       "      <td>...</td>\n",
       "      <td>...</td>\n",
       "      <td>...</td>\n",
       "      <td>...</td>\n",
       "      <td>...</td>\n",
       "      <td>...</td>\n",
       "      <td>...</td>\n",
       "      <td>...</td>\n",
       "    </tr>\n",
       "    <tr>\n",
       "      <th>60</th>\n",
       "      <td>site6_q_2</td>\n",
       "      <td>42.729909</td>\n",
       "      <td>-28.139459</td>\n",
       "      <td>1.385140</td>\n",
       "      <td>-2.243014</td>\n",
       "      <td>0.955476</td>\n",
       "      <td>0.208851</td>\n",
       "      <td>0.001883</td>\n",
       "      <td>0.004552</td>\n",
       "      <td>0.005339</td>\n",
       "      <td>...</td>\n",
       "      <td>0.040810</td>\n",
       "      <td>0.036970</td>\n",
       "      <td>0.024927</td>\n",
       "      <td>0.026767</td>\n",
       "      <td>0.024191</td>\n",
       "      <td>0.051995</td>\n",
       "      <td>0.027982</td>\n",
       "      <td>0.026825</td>\n",
       "      <td>0.031034</td>\n",
       "      <td>0.045559</td>\n",
       "    </tr>\n",
       "    <tr>\n",
       "      <th>61</th>\n",
       "      <td>site6_q_3</td>\n",
       "      <td>43.400001</td>\n",
       "      <td>-27.593925</td>\n",
       "      <td>1.288065</td>\n",
       "      <td>-1.346010</td>\n",
       "      <td>0.492774</td>\n",
       "      <td>0.291051</td>\n",
       "      <td>0.002346</td>\n",
       "      <td>0.003304</td>\n",
       "      <td>0.004541</td>\n",
       "      <td>...</td>\n",
       "      <td>0.039503</td>\n",
       "      <td>0.033722</td>\n",
       "      <td>0.023706</td>\n",
       "      <td>0.025587</td>\n",
       "      <td>0.030969</td>\n",
       "      <td>0.028866</td>\n",
       "      <td>0.022222</td>\n",
       "      <td>0.018224</td>\n",
       "      <td>0.027983</td>\n",
       "      <td>0.041257</td>\n",
       "    </tr>\n",
       "    <tr>\n",
       "      <th>62</th>\n",
       "      <td>site6_q_6</td>\n",
       "      <td>44.540391</td>\n",
       "      <td>-27.258837</td>\n",
       "      <td>1.788022</td>\n",
       "      <td>0.446420</td>\n",
       "      <td>0.316320</td>\n",
       "      <td>0.204361</td>\n",
       "      <td>0.000474</td>\n",
       "      <td>0.003555</td>\n",
       "      <td>0.005241</td>\n",
       "      <td>...</td>\n",
       "      <td>0.028041</td>\n",
       "      <td>0.027656</td>\n",
       "      <td>0.021054</td>\n",
       "      <td>0.019241</td>\n",
       "      <td>0.022796</td>\n",
       "      <td>0.018238</td>\n",
       "      <td>0.017797</td>\n",
       "      <td>0.021156</td>\n",
       "      <td>0.021885</td>\n",
       "      <td>0.032827</td>\n",
       "    </tr>\n",
       "    <tr>\n",
       "      <th>63</th>\n",
       "      <td>site6_q_8</td>\n",
       "      <td>46.424599</td>\n",
       "      <td>-28.257001</td>\n",
       "      <td>1.683267</td>\n",
       "      <td>-1.987239</td>\n",
       "      <td>0.669774</td>\n",
       "      <td>0.398461</td>\n",
       "      <td>0.002891</td>\n",
       "      <td>0.003770</td>\n",
       "      <td>0.005975</td>\n",
       "      <td>...</td>\n",
       "      <td>0.029016</td>\n",
       "      <td>0.025141</td>\n",
       "      <td>0.021974</td>\n",
       "      <td>0.022875</td>\n",
       "      <td>0.023644</td>\n",
       "      <td>0.026692</td>\n",
       "      <td>0.022467</td>\n",
       "      <td>0.021704</td>\n",
       "      <td>0.025153</td>\n",
       "      <td>0.046095</td>\n",
       "    </tr>\n",
       "    <tr>\n",
       "      <th>64</th>\n",
       "      <td>site6_q_9</td>\n",
       "      <td>44.022145</td>\n",
       "      <td>-27.506124</td>\n",
       "      <td>1.066788</td>\n",
       "      <td>-1.670330</td>\n",
       "      <td>1.129568</td>\n",
       "      <td>0.034550</td>\n",
       "      <td>0.005129</td>\n",
       "      <td>0.004663</td>\n",
       "      <td>0.005705</td>\n",
       "      <td>...</td>\n",
       "      <td>0.030676</td>\n",
       "      <td>0.031721</td>\n",
       "      <td>0.026197</td>\n",
       "      <td>0.023230</td>\n",
       "      <td>0.031742</td>\n",
       "      <td>0.023222</td>\n",
       "      <td>0.025916</td>\n",
       "      <td>0.024145</td>\n",
       "      <td>0.028028</td>\n",
       "      <td>0.039476</td>\n",
       "    </tr>\n",
       "  </tbody>\n",
       "</table>\n",
       "<p>65 rows × 251 columns</p>\n",
       "</div>"
      ],
      "text/plain": [
       "          site  weighted_pc  weighted_d13c  weighted_pn  weighted_d15n  \\\n",
       "0    site1b_Q1    43.312469     -28.492351     1.599822      -2.674121   \n",
       "1   site1b_Q10    39.021692     -28.543685     1.793593       1.831298   \n",
       "2   site1b_Q11    28.722149     -26.496804     1.220057       2.088882   \n",
       "3   site1b_Q12    49.725401     -27.295808     1.669954      -1.259432   \n",
       "4   site1b_Q14    46.145474     -27.755471     1.496956      -1.321241   \n",
       "..         ...          ...            ...          ...            ...   \n",
       "60   site6_q_2    42.729909     -28.139459     1.385140      -2.243014   \n",
       "61   site6_q_3    43.400001     -27.593925     1.288065      -1.346010   \n",
       "62   site6_q_6    44.540391     -27.258837     1.788022       0.446420   \n",
       "63   site6_q_8    46.424599     -28.257001     1.683267      -1.987239   \n",
       "64   site6_q_9    44.022145     -27.506124     1.066788      -1.670330   \n",
       "\n",
       "    b123_mean  b123_std   b1_mean   b2_mean   b3_mean  ...  b113_std  \\\n",
       "0    0.583706  0.148356  0.008066  0.005356  0.005069  ...  0.041609   \n",
       "1    0.809827  0.164389  0.009731  0.006944  0.006660  ...  0.083011   \n",
       "2    0.700839  0.229487  0.009178  0.006943  0.004953  ...  0.074817   \n",
       "3    1.611038  0.148850  0.015963  0.009181  0.009470  ...  0.138250   \n",
       "4    0.433677  0.065860  0.013563  0.009756  0.007837  ...  0.082741   \n",
       "..        ...       ...       ...       ...       ...  ...       ...   \n",
       "60   0.955476  0.208851  0.001883  0.004552  0.005339  ...  0.040810   \n",
       "61   0.492774  0.291051  0.002346  0.003304  0.004541  ...  0.039503   \n",
       "62   0.316320  0.204361  0.000474  0.003555  0.005241  ...  0.028041   \n",
       "63   0.669774  0.398461  0.002891  0.003770  0.005975  ...  0.029016   \n",
       "64   1.129568  0.034550  0.005129  0.004663  0.005705  ...  0.030676   \n",
       "\n",
       "    b114_std  b115_std  b116_std  b117_std  b118_std  b119_std  b120_std  \\\n",
       "0   0.043572  0.038524  0.041291  0.040247  0.039954  0.036505  0.034067   \n",
       "1   0.078096  0.082652  0.070200  0.079887  0.074142  0.078799  0.080803   \n",
       "2   0.073934  0.075564  0.070180  0.075976  0.070316  0.071065  0.073488   \n",
       "3   0.147516  0.145039  0.133949  0.140592  0.138326  0.134143  0.137214   \n",
       "4   0.080296  0.077248  0.074408  0.085448  0.073635  0.073669  0.075640   \n",
       "..       ...       ...       ...       ...       ...       ...       ...   \n",
       "60  0.036970  0.024927  0.026767  0.024191  0.051995  0.027982  0.026825   \n",
       "61  0.033722  0.023706  0.025587  0.030969  0.028866  0.022222  0.018224   \n",
       "62  0.027656  0.021054  0.019241  0.022796  0.018238  0.017797  0.021156   \n",
       "63  0.025141  0.021974  0.022875  0.023644  0.026692  0.022467  0.021704   \n",
       "64  0.031721  0.026197  0.023230  0.031742  0.023222  0.025916  0.024145   \n",
       "\n",
       "    b121_std  b122_std  \n",
       "0   0.037205  0.042243  \n",
       "1   0.084301  0.079994  \n",
       "2   0.078000  0.081847  \n",
       "3   0.149233  0.140250  \n",
       "4   0.080911  0.088266  \n",
       "..       ...       ...  \n",
       "60  0.031034  0.045559  \n",
       "61  0.027983  0.041257  \n",
       "62  0.021885  0.032827  \n",
       "63  0.025153  0.046095  \n",
       "64  0.028028  0.039476  \n",
       "\n",
       "[65 rows x 251 columns]"
      ]
     },
     "execution_count": 4,
     "metadata": {},
     "output_type": "execute_result"
    }
   ],
   "source": [
    "df_new"
   ]
  },
  {
   "cell_type": "code",
   "execution_count": 5,
   "id": "9b100ff3",
   "metadata": {},
   "outputs": [],
   "source": [
    "y_weighted_sla = df_SLA['weighted_sla'].to_numpy()\n",
    "y_weighted_la = df_LA['weighted_la'].to_numpy()\n",
    "y_weighted_LDMC = df_LDMC['weighted_LDMC'].to_numpy()\n",
    "\n",
    "vol_mois_sla = np.array(df_SLA['vol_moisture'])\n",
    "vol_mois_la = np.array(df_LA['vol_moisture'])\n",
    "vol_mois_LDMC = np.array(df_LDMC['vol_moisture'])\n",
    "\n",
    "\n",
    "x_sla = np.array(df_SLA[band_name])\n",
    "x_la = np.array(df_LA[band_name])\n",
    "x_ldmc = np.array(df_LDMC[band_name])\n",
    "\n",
    "\n"
   ]
  },
  {
   "cell_type": "code",
   "execution_count": 6,
   "id": "56f0eb70",
   "metadata": {},
   "outputs": [],
   "source": [
    "y_weighted_pc = df_pc['weighted_pc'].to_numpy()\n",
    "y_weighted_d13c = df_new['weighted_d13c'].to_numpy()\n",
    "y_weighted_pn = df_new['weighted_pn'].to_numpy()\n",
    "y_weighted_d15n = df_new['weighted_d15n'].to_numpy()\n",
    "\n",
    "x_pc = np.array(df_pc[band_name])\n",
    "x_new_traits = np.array(df_new[band_name])"
   ]
  },
  {
   "cell_type": "code",
   "execution_count": 7,
   "id": "0a0036a3",
   "metadata": {},
   "outputs": [],
   "source": [
    "labels_sla = [] \n",
    "for i in range(len(df_SLA['site'])):\n",
    "    \n",
    "    site_name = df_SLA['site'][i].split(\"_\")[0]\n",
    "\n",
    "    labels_sla.append(site_name)\n",
    "    "
   ]
  },
  {
   "cell_type": "code",
   "execution_count": 8,
   "id": "e9e5601b",
   "metadata": {},
   "outputs": [],
   "source": [
    "labels_la = [] \n",
    "for i in range(len(df_LA['site'])):    \n",
    "    site_name = df_LA['site'][i].split(\"_\")[0]\n",
    "    labels_la.append(site_name)"
   ]
  },
  {
   "cell_type": "code",
   "execution_count": 9,
   "id": "989dcb4a",
   "metadata": {},
   "outputs": [],
   "source": [
    "labels_ldmc = [] \n",
    "for i in range(len(df_LDMC['site'])):    \n",
    "    site_name = df_LDMC['site'][i].split(\"_\")[0]\n",
    "    labels_ldmc.append(site_name)"
   ]
  },
  {
   "cell_type": "code",
   "execution_count": 10,
   "id": "e469b274",
   "metadata": {},
   "outputs": [],
   "source": [
    "labels_pc = [] \n",
    "for i in range(len(df_pc['site'])):\n",
    "    \n",
    "    site_name = df_pc['site'][i].split(\"_\")[0]\n",
    "\n",
    "    labels_pc.append(site_name)"
   ]
  },
  {
   "cell_type": "code",
   "execution_count": 11,
   "id": "50c0023b",
   "metadata": {},
   "outputs": [],
   "source": [
    "labels_d13c = [] \n",
    "for i in range(len(df_new['site'])):\n",
    "    \n",
    "    site_name = df_new['site'][i].split(\"_\")[0]\n",
    "\n",
    "    labels_d13c.append(site_name)"
   ]
  },
  {
   "cell_type": "code",
   "execution_count": 12,
   "id": "240eee3c",
   "metadata": {},
   "outputs": [],
   "source": [
    "labels_pn = [] \n",
    "for i in range(len(df_new['site'])):\n",
    "    \n",
    "    site_name = df_new['site'][i].split(\"_\")[0]\n",
    "\n",
    "    labels_pn.append(site_name)"
   ]
  },
  {
   "cell_type": "code",
   "execution_count": 13,
   "id": "52f51202",
   "metadata": {},
   "outputs": [],
   "source": [
    "labels_d15n = [] \n",
    "for i in range(len(df_new['site'])):\n",
    "    \n",
    "    site_name = df_new['site'][i].split(\"_\")[0]\n",
    "\n",
    "    labels_d15n.append(site_name)"
   ]
  },
  {
   "cell_type": "code",
   "execution_count": 14,
   "id": "e2281290",
   "metadata": {},
   "outputs": [
    {
     "name": "stdout",
     "output_type": "stream",
     "text": [
      "63 64 61 63 65\n"
     ]
    }
   ],
   "source": [
    "print(len(labels_sla), len(labels_la), len(labels_ldmc), len(labels_pc), len(labels_d15n))"
   ]
  },
  {
   "cell_type": "code",
   "execution_count": 15,
   "id": "27f87413",
   "metadata": {},
   "outputs": [],
   "source": [
    "log_y_weighted_sla = np.log(y_weighted_sla)\n",
    "log_y_weighted_la = np.log(y_weighted_la)\n",
    "log_y_weighted_LDMC = np.log(y_weighted_LDMC)"
   ]
  },
  {
   "cell_type": "code",
   "execution_count": 16,
   "id": "f2315e45",
   "metadata": {},
   "outputs": [
    {
     "name": "stderr",
     "output_type": "stream",
     "text": [
      "C:\\Users\\15086\\AppData\\Local\\Temp\\ipykernel_21960\\2364378705.py:2: RuntimeWarning: invalid value encountered in log\n",
      "  log_y_weighted_d13c = np.log(y_weighted_d13c)\n",
      "C:\\Users\\15086\\AppData\\Local\\Temp\\ipykernel_21960\\2364378705.py:4: RuntimeWarning: invalid value encountered in log\n",
      "  log_y_weighted_d15n = np.log(y_weighted_d15n)\n"
     ]
    }
   ],
   "source": [
    "log_y_weighted_pc = np.log(y_weighted_pc)\n",
    "log_y_weighted_d13c = np.log(y_weighted_d13c)\n",
    "log_y_weighted_pn = np.log(y_weighted_pn)\n",
    "log_y_weighted_d15n = np.log(y_weighted_d15n)"
   ]
  },
  {
   "cell_type": "code",
   "execution_count": 17,
   "id": "0657bcda",
   "metadata": {},
   "outputs": [],
   "source": [
    "def pls_variable_selection(X, y, max_comp):\n",
    "    \n",
    "    # Define MSE array to be populated\n",
    "    mse = np.zeros((max_comp,X.shape[1]))\n",
    " \n",
    "    # Loop over the number of PLS components\n",
    "    for i in range(max_comp):\n",
    "        \n",
    "        # Regression with specified number of components, using full spectrum\n",
    "        pls1 = PLSRegression(n_components=i+1)\n",
    "        pls1.fit(X, y)\n",
    "        \n",
    "        # Indices of sort spectra according to ascending absolute value of PLS coefficients\n",
    "        sorted_ind = np.argsort(np.abs(pls1.coef_[:,0]))\n",
    " \n",
    "        # Sort spectra accordingly \n",
    "        Xc = X[:,sorted_ind]\n",
    " \n",
    "        # Discard one wavelength at a time of the sorted spectra,\n",
    "        # regress, and calculate the MSE cross-validation\n",
    "        for j in range(Xc.shape[1]-(i+1)):\n",
    " \n",
    "            pls2 = PLSRegression(n_components=i+1)\n",
    "            pls2.fit(Xc[:, j:], y)\n",
    "            \n",
    "            y_cv = cross_val_predict(pls2, Xc[:, j:], y, cv=5)\n",
    " \n",
    "            mse[i,j] = np.sqrt(mean_squared_error(y, y_cv))\n",
    "    \n",
    "        comp = 100*(i+1)/(max_comp)\n",
    "        stdout.write(\"\\r%d%% completed\" % comp)\n",
    "        stdout.flush()\n",
    "    stdout.write(\"\\n\")\n",
    " \n",
    "    # # Calculate and print the position of minimum in MSE\n",
    "    mseminx,mseminy = np.where(mse==np.min(mse[np.nonzero(mse)]))\n",
    " \n",
    "    print(\"Optimised number of PLS components: \", mseminx[0]+1)\n",
    "    print(\"Wavelengths to be keeped \",(X.shape[1]-mseminy[0]))\n",
    "    print('Optimised MSEP ', mse[mseminx,mseminy][0])\n",
    "    stdout.write(\"\\n\")\n",
    "#     plt.imshow(mse, interpolation=None)\n",
    "#     plt.show()\n",
    " \n",
    " \n",
    "    # Calculate PLS with optimal components and export values\n",
    "    optimal_pls  = PLSRegression(n_components=mseminx[0]+1)\n",
    "    optimal_pls .fit(X, y)\n",
    "#     important_coefficients = optimal_pls.coef_\n",
    "        \n",
    "    sorted_ind = np.argsort(np.abs(optimal_pls.coef_[:,0]))\n",
    " \n",
    "    Xc = X[:,sorted_ind]\n",
    " \n",
    "    return(Xc[:,mseminy[0]:],mseminx[0]+1,mseminy[0], sorted_ind)"
   ]
  },
  {
   "cell_type": "code",
   "execution_count": 18,
   "id": "86f2eab8",
   "metadata": {},
   "outputs": [],
   "source": [
    "import numpy as np\n",
    "import matplotlib.pyplot as plt\n",
    "from sklearn.cross_decomposition import PLSRegression\n",
    "from sklearn.metrics import r2_score, mean_squared_error\n",
    "from sklearn.model_selection import cross_val_predict\n",
    "import csv\n",
    "\n",
    "def simple_pls_cv(X, y, n_comp, labels, filename):\n",
    "    \n",
    "\n",
    "\n",
    "    # Run PLS with suggested number of components\n",
    "    pls = PLSRegression(n_components=n_comp)\n",
    "    pls.fit(X, y)\n",
    "    y_c = pls.predict(X)\n",
    "\n",
    "    # Cross-validation\n",
    "    y_cv = cross_val_predict(pls, X, y, cv=10)\n",
    "\n",
    "\n",
    "    # Calculate scores for calibration and cross-validation\n",
    "    score_c = r2_score(y, y_c)\n",
    "    score_cv = r2_score(y, y_cv)\n",
    "\n",
    "    # Calculate mean square error for calibration and cross validation\n",
    "#     mse_c = mean_squared_error(y, y_c)\n",
    "#     mse_cv = mean_squared_error(y, y_cv)\n",
    "    rmse_c = mean_squared_error(y, y_c, squared=False)\n",
    "    rmse_cv = mean_squared_error(y, y_cv, squared=False)\n",
    "\n",
    "    print('R2 calib: %5.3f'  % score_c)\n",
    "    print('R2 CV: %5.3f'  % score_cv)\n",
    "#     print('MSE calib: %5.3f' % mse_c)\n",
    "#     print('MSE CV: %5.3f' % mse_cv)\n",
    "    print('RMSE calib: %5.3f' % rmse_c)\n",
    "    print('RMSE CV: %5.3f' % rmse_cv)\n",
    "\n",
    "    # Plot regression \n",
    "    z = np.polyfit(y, y_cv, 1)\n",
    "    print(z[1],z[0])\n",
    "    with plt.style.context(('ggplot')):\n",
    "        fig, ax = plt.subplots(figsize=(9, 5))\n",
    "\n",
    "        # Define a dictionary of labels and their corresponding markers and colors\n",
    "        label_dict = {\n",
    "            'site1b': {'marker': 'o', 'color': 'red'},\n",
    "            'site2a': {'marker': 's', 'color': 'blue'},\n",
    "            'site2c': {'marker': 'P', 'color': 'yellow'},\n",
    "            'site6': {'marker': '^', 'color': 'green'}\n",
    "        }\n",
    "\n",
    "        # Loop over data points to add labels and build a list of scatter plot objects\n",
    "        scatter_objs = []\n",
    "        with open(filename, 'w', newline='') as csvfile:\n",
    "            csvwriter = csv.writer(csvfile)\n",
    "            for i, label in enumerate(labels):\n",
    "                print(i, label, y_cv[i], y[i])\n",
    "                csvwriter.writerow([i, label, y_cv[i], y[i]])\n",
    "            \n",
    "            \n",
    "        for i, label in enumerate(labels):\n",
    "            \n",
    "            \n",
    "            scatter_obj = ax.scatter(y_cv[i], y[i], marker=label_dict.get(label, label_dict['site6'])['marker'],\n",
    "                                     c=label_dict.get(label, label_dict['site6'])['color'], edgecolors='k')\n",
    "            scatter_objs.append(scatter_obj)\n",
    "\n",
    "        # Create a legend using the dictionary of labels and their markers/colors\n",
    "        legend_handles = []\n",
    "        for label, props in label_dict.items():\n",
    "            legend_handles.append(plt.Line2D([], [], marker=props['marker'], color=props['color'], linestyle='None', label=label))\n",
    "        ax.legend(handles=legend_handles)\n",
    "\n",
    "        ax.plot(z[1]+z[0]*y, y, c='blue', linewidth=1)\n",
    "        ax.plot(y, y, color='green', linewidth=1)\n",
    "        plt.title('$R^{2}$ (CV): '+str(score_cv))\n",
    "        plt.xlabel('Predicted $^{\\circ}$Brix')\n",
    "        plt.ylabel('Measured $^{\\circ}$Brix')\n",
    "        plt.show()\n"
   ]
  },
  {
   "cell_type": "markdown",
   "id": "250346a1",
   "metadata": {},
   "source": [
    "# sla - b123mean"
   ]
  },
  {
   "cell_type": "code",
   "execution_count": 30,
   "id": "9c218fec",
   "metadata": {
    "scrolled": true
   },
   "outputs": [
    {
     "name": "stderr",
     "output_type": "stream",
     "text": [
      "C:\\Users\\15086\\anaconda3\\envs\\wenqu_gdal\\lib\\site-packages\\sklearn\\cross_decomposition\\_pls.py:503: FutureWarning: The attribute `coef_` will be transposed in version 1.3 to be consistent with other linear models in scikit-learn. Currently, `coef_` has a shape of (n_features, n_targets) and in the future it will have a shape of (n_targets, n_features).\n",
      "  warnings.warn(\n"
     ]
    },
    {
     "name": "stdout",
     "output_type": "stream",
     "text": [
      "\r",
      "2% completed"
     ]
    },
    {
     "name": "stderr",
     "output_type": "stream",
     "text": [
      "C:\\Users\\15086\\anaconda3\\envs\\wenqu_gdal\\lib\\site-packages\\sklearn\\cross_decomposition\\_pls.py:503: FutureWarning: The attribute `coef_` will be transposed in version 1.3 to be consistent with other linear models in scikit-learn. Currently, `coef_` has a shape of (n_features, n_targets) and in the future it will have a shape of (n_targets, n_features).\n",
      "  warnings.warn(\n"
     ]
    },
    {
     "name": "stdout",
     "output_type": "stream",
     "text": [
      "\r",
      "4% completed"
     ]
    },
    {
     "name": "stderr",
     "output_type": "stream",
     "text": [
      "C:\\Users\\15086\\anaconda3\\envs\\wenqu_gdal\\lib\\site-packages\\sklearn\\cross_decomposition\\_pls.py:503: FutureWarning: The attribute `coef_` will be transposed in version 1.3 to be consistent with other linear models in scikit-learn. Currently, `coef_` has a shape of (n_features, n_targets) and in the future it will have a shape of (n_targets, n_features).\n",
      "  warnings.warn(\n"
     ]
    },
    {
     "name": "stdout",
     "output_type": "stream",
     "text": [
      "\r",
      "6% completed"
     ]
    },
    {
     "name": "stderr",
     "output_type": "stream",
     "text": [
      "C:\\Users\\15086\\anaconda3\\envs\\wenqu_gdal\\lib\\site-packages\\sklearn\\cross_decomposition\\_pls.py:503: FutureWarning: The attribute `coef_` will be transposed in version 1.3 to be consistent with other linear models in scikit-learn. Currently, `coef_` has a shape of (n_features, n_targets) and in the future it will have a shape of (n_targets, n_features).\n",
      "  warnings.warn(\n"
     ]
    },
    {
     "name": "stdout",
     "output_type": "stream",
     "text": [
      "\r",
      "8% completed"
     ]
    },
    {
     "name": "stderr",
     "output_type": "stream",
     "text": [
      "C:\\Users\\15086\\anaconda3\\envs\\wenqu_gdal\\lib\\site-packages\\sklearn\\cross_decomposition\\_pls.py:503: FutureWarning: The attribute `coef_` will be transposed in version 1.3 to be consistent with other linear models in scikit-learn. Currently, `coef_` has a shape of (n_features, n_targets) and in the future it will have a shape of (n_targets, n_features).\n",
      "  warnings.warn(\n"
     ]
    },
    {
     "name": "stdout",
     "output_type": "stream",
     "text": [
      "\r",
      "10% completed"
     ]
    },
    {
     "name": "stderr",
     "output_type": "stream",
     "text": [
      "C:\\Users\\15086\\anaconda3\\envs\\wenqu_gdal\\lib\\site-packages\\sklearn\\cross_decomposition\\_pls.py:503: FutureWarning: The attribute `coef_` will be transposed in version 1.3 to be consistent with other linear models in scikit-learn. Currently, `coef_` has a shape of (n_features, n_targets) and in the future it will have a shape of (n_targets, n_features).\n",
      "  warnings.warn(\n"
     ]
    },
    {
     "name": "stdout",
     "output_type": "stream",
     "text": [
      "\r",
      "12% completed"
     ]
    },
    {
     "name": "stderr",
     "output_type": "stream",
     "text": [
      "C:\\Users\\15086\\anaconda3\\envs\\wenqu_gdal\\lib\\site-packages\\sklearn\\cross_decomposition\\_pls.py:503: FutureWarning: The attribute `coef_` will be transposed in version 1.3 to be consistent with other linear models in scikit-learn. Currently, `coef_` has a shape of (n_features, n_targets) and in the future it will have a shape of (n_targets, n_features).\n",
      "  warnings.warn(\n"
     ]
    },
    {
     "name": "stdout",
     "output_type": "stream",
     "text": [
      "\r",
      "14% completed"
     ]
    },
    {
     "name": "stderr",
     "output_type": "stream",
     "text": [
      "C:\\Users\\15086\\anaconda3\\envs\\wenqu_gdal\\lib\\site-packages\\sklearn\\cross_decomposition\\_pls.py:503: FutureWarning: The attribute `coef_` will be transposed in version 1.3 to be consistent with other linear models in scikit-learn. Currently, `coef_` has a shape of (n_features, n_targets) and in the future it will have a shape of (n_targets, n_features).\n",
      "  warnings.warn(\n"
     ]
    },
    {
     "name": "stdout",
     "output_type": "stream",
     "text": [
      "\r",
      "16% completed"
     ]
    },
    {
     "name": "stderr",
     "output_type": "stream",
     "text": [
      "C:\\Users\\15086\\anaconda3\\envs\\wenqu_gdal\\lib\\site-packages\\sklearn\\cross_decomposition\\_pls.py:503: FutureWarning: The attribute `coef_` will be transposed in version 1.3 to be consistent with other linear models in scikit-learn. Currently, `coef_` has a shape of (n_features, n_targets) and in the future it will have a shape of (n_targets, n_features).\n",
      "  warnings.warn(\n"
     ]
    },
    {
     "name": "stdout",
     "output_type": "stream",
     "text": [
      "\r",
      "18% completed"
     ]
    },
    {
     "name": "stderr",
     "output_type": "stream",
     "text": [
      "C:\\Users\\15086\\anaconda3\\envs\\wenqu_gdal\\lib\\site-packages\\sklearn\\cross_decomposition\\_pls.py:503: FutureWarning: The attribute `coef_` will be transposed in version 1.3 to be consistent with other linear models in scikit-learn. Currently, `coef_` has a shape of (n_features, n_targets) and in the future it will have a shape of (n_targets, n_features).\n",
      "  warnings.warn(\n"
     ]
    },
    {
     "name": "stdout",
     "output_type": "stream",
     "text": [
      "\r",
      "20% completed"
     ]
    },
    {
     "name": "stderr",
     "output_type": "stream",
     "text": [
      "C:\\Users\\15086\\anaconda3\\envs\\wenqu_gdal\\lib\\site-packages\\sklearn\\cross_decomposition\\_pls.py:503: FutureWarning: The attribute `coef_` will be transposed in version 1.3 to be consistent with other linear models in scikit-learn. Currently, `coef_` has a shape of (n_features, n_targets) and in the future it will have a shape of (n_targets, n_features).\n",
      "  warnings.warn(\n"
     ]
    },
    {
     "name": "stdout",
     "output_type": "stream",
     "text": [
      "\r",
      "22% completed"
     ]
    },
    {
     "name": "stderr",
     "output_type": "stream",
     "text": [
      "C:\\Users\\15086\\anaconda3\\envs\\wenqu_gdal\\lib\\site-packages\\sklearn\\cross_decomposition\\_pls.py:503: FutureWarning: The attribute `coef_` will be transposed in version 1.3 to be consistent with other linear models in scikit-learn. Currently, `coef_` has a shape of (n_features, n_targets) and in the future it will have a shape of (n_targets, n_features).\n",
      "  warnings.warn(\n"
     ]
    },
    {
     "name": "stdout",
     "output_type": "stream",
     "text": [
      "\r",
      "24% completed"
     ]
    },
    {
     "name": "stderr",
     "output_type": "stream",
     "text": [
      "C:\\Users\\15086\\anaconda3\\envs\\wenqu_gdal\\lib\\site-packages\\sklearn\\cross_decomposition\\_pls.py:503: FutureWarning: The attribute `coef_` will be transposed in version 1.3 to be consistent with other linear models in scikit-learn. Currently, `coef_` has a shape of (n_features, n_targets) and in the future it will have a shape of (n_targets, n_features).\n",
      "  warnings.warn(\n"
     ]
    },
    {
     "name": "stdout",
     "output_type": "stream",
     "text": [
      "\r",
      "26% completed"
     ]
    },
    {
     "name": "stderr",
     "output_type": "stream",
     "text": [
      "C:\\Users\\15086\\anaconda3\\envs\\wenqu_gdal\\lib\\site-packages\\sklearn\\cross_decomposition\\_pls.py:503: FutureWarning: The attribute `coef_` will be transposed in version 1.3 to be consistent with other linear models in scikit-learn. Currently, `coef_` has a shape of (n_features, n_targets) and in the future it will have a shape of (n_targets, n_features).\n",
      "  warnings.warn(\n"
     ]
    },
    {
     "name": "stdout",
     "output_type": "stream",
     "text": [
      "\r",
      "28% completed"
     ]
    },
    {
     "name": "stderr",
     "output_type": "stream",
     "text": [
      "C:\\Users\\15086\\anaconda3\\envs\\wenqu_gdal\\lib\\site-packages\\sklearn\\cross_decomposition\\_pls.py:503: FutureWarning: The attribute `coef_` will be transposed in version 1.3 to be consistent with other linear models in scikit-learn. Currently, `coef_` has a shape of (n_features, n_targets) and in the future it will have a shape of (n_targets, n_features).\n",
      "  warnings.warn(\n"
     ]
    },
    {
     "name": "stdout",
     "output_type": "stream",
     "text": [
      "\r",
      "30% completed"
     ]
    },
    {
     "name": "stderr",
     "output_type": "stream",
     "text": [
      "C:\\Users\\15086\\anaconda3\\envs\\wenqu_gdal\\lib\\site-packages\\sklearn\\cross_decomposition\\_pls.py:503: FutureWarning: The attribute `coef_` will be transposed in version 1.3 to be consistent with other linear models in scikit-learn. Currently, `coef_` has a shape of (n_features, n_targets) and in the future it will have a shape of (n_targets, n_features).\n",
      "  warnings.warn(\n"
     ]
    },
    {
     "name": "stdout",
     "output_type": "stream",
     "text": [
      "\r",
      "32% completed"
     ]
    },
    {
     "name": "stderr",
     "output_type": "stream",
     "text": [
      "C:\\Users\\15086\\anaconda3\\envs\\wenqu_gdal\\lib\\site-packages\\sklearn\\cross_decomposition\\_pls.py:503: FutureWarning: The attribute `coef_` will be transposed in version 1.3 to be consistent with other linear models in scikit-learn. Currently, `coef_` has a shape of (n_features, n_targets) and in the future it will have a shape of (n_targets, n_features).\n",
      "  warnings.warn(\n"
     ]
    },
    {
     "name": "stdout",
     "output_type": "stream",
     "text": [
      "\r",
      "34% completed"
     ]
    },
    {
     "name": "stderr",
     "output_type": "stream",
     "text": [
      "C:\\Users\\15086\\anaconda3\\envs\\wenqu_gdal\\lib\\site-packages\\sklearn\\cross_decomposition\\_pls.py:503: FutureWarning: The attribute `coef_` will be transposed in version 1.3 to be consistent with other linear models in scikit-learn. Currently, `coef_` has a shape of (n_features, n_targets) and in the future it will have a shape of (n_targets, n_features).\n",
      "  warnings.warn(\n"
     ]
    },
    {
     "name": "stdout",
     "output_type": "stream",
     "text": [
      "\r",
      "36% completed"
     ]
    },
    {
     "name": "stderr",
     "output_type": "stream",
     "text": [
      "C:\\Users\\15086\\anaconda3\\envs\\wenqu_gdal\\lib\\site-packages\\sklearn\\cross_decomposition\\_pls.py:503: FutureWarning: The attribute `coef_` will be transposed in version 1.3 to be consistent with other linear models in scikit-learn. Currently, `coef_` has a shape of (n_features, n_targets) and in the future it will have a shape of (n_targets, n_features).\n",
      "  warnings.warn(\n"
     ]
    },
    {
     "name": "stdout",
     "output_type": "stream",
     "text": [
      "\r",
      "38% completed"
     ]
    },
    {
     "name": "stderr",
     "output_type": "stream",
     "text": [
      "C:\\Users\\15086\\anaconda3\\envs\\wenqu_gdal\\lib\\site-packages\\sklearn\\cross_decomposition\\_pls.py:503: FutureWarning: The attribute `coef_` will be transposed in version 1.3 to be consistent with other linear models in scikit-learn. Currently, `coef_` has a shape of (n_features, n_targets) and in the future it will have a shape of (n_targets, n_features).\n",
      "  warnings.warn(\n"
     ]
    },
    {
     "name": "stdout",
     "output_type": "stream",
     "text": [
      "\r",
      "40% completed"
     ]
    },
    {
     "name": "stderr",
     "output_type": "stream",
     "text": [
      "C:\\Users\\15086\\anaconda3\\envs\\wenqu_gdal\\lib\\site-packages\\sklearn\\cross_decomposition\\_pls.py:503: FutureWarning: The attribute `coef_` will be transposed in version 1.3 to be consistent with other linear models in scikit-learn. Currently, `coef_` has a shape of (n_features, n_targets) and in the future it will have a shape of (n_targets, n_features).\n",
      "  warnings.warn(\n"
     ]
    },
    {
     "name": "stdout",
     "output_type": "stream",
     "text": [
      "\r",
      "42% completed"
     ]
    },
    {
     "name": "stderr",
     "output_type": "stream",
     "text": [
      "C:\\Users\\15086\\anaconda3\\envs\\wenqu_gdal\\lib\\site-packages\\sklearn\\cross_decomposition\\_pls.py:503: FutureWarning: The attribute `coef_` will be transposed in version 1.3 to be consistent with other linear models in scikit-learn. Currently, `coef_` has a shape of (n_features, n_targets) and in the future it will have a shape of (n_targets, n_features).\n",
      "  warnings.warn(\n"
     ]
    },
    {
     "name": "stdout",
     "output_type": "stream",
     "text": [
      "\r",
      "44% completed"
     ]
    },
    {
     "name": "stderr",
     "output_type": "stream",
     "text": [
      "C:\\Users\\15086\\anaconda3\\envs\\wenqu_gdal\\lib\\site-packages\\sklearn\\cross_decomposition\\_pls.py:503: FutureWarning: The attribute `coef_` will be transposed in version 1.3 to be consistent with other linear models in scikit-learn. Currently, `coef_` has a shape of (n_features, n_targets) and in the future it will have a shape of (n_targets, n_features).\n",
      "  warnings.warn(\n"
     ]
    },
    {
     "name": "stdout",
     "output_type": "stream",
     "text": [
      "\r",
      "46% completed"
     ]
    },
    {
     "name": "stderr",
     "output_type": "stream",
     "text": [
      "C:\\Users\\15086\\anaconda3\\envs\\wenqu_gdal\\lib\\site-packages\\sklearn\\cross_decomposition\\_pls.py:503: FutureWarning: The attribute `coef_` will be transposed in version 1.3 to be consistent with other linear models in scikit-learn. Currently, `coef_` has a shape of (n_features, n_targets) and in the future it will have a shape of (n_targets, n_features).\n",
      "  warnings.warn(\n"
     ]
    },
    {
     "name": "stdout",
     "output_type": "stream",
     "text": [
      "\r",
      "48% completed"
     ]
    },
    {
     "name": "stderr",
     "output_type": "stream",
     "text": [
      "C:\\Users\\15086\\anaconda3\\envs\\wenqu_gdal\\lib\\site-packages\\sklearn\\cross_decomposition\\_pls.py:503: FutureWarning: The attribute `coef_` will be transposed in version 1.3 to be consistent with other linear models in scikit-learn. Currently, `coef_` has a shape of (n_features, n_targets) and in the future it will have a shape of (n_targets, n_features).\n",
      "  warnings.warn(\n"
     ]
    },
    {
     "name": "stdout",
     "output_type": "stream",
     "text": [
      "\r",
      "50% completed"
     ]
    },
    {
     "name": "stderr",
     "output_type": "stream",
     "text": [
      "C:\\Users\\15086\\anaconda3\\envs\\wenqu_gdal\\lib\\site-packages\\sklearn\\cross_decomposition\\_pls.py:503: FutureWarning: The attribute `coef_` will be transposed in version 1.3 to be consistent with other linear models in scikit-learn. Currently, `coef_` has a shape of (n_features, n_targets) and in the future it will have a shape of (n_targets, n_features).\n",
      "  warnings.warn(\n"
     ]
    },
    {
     "name": "stdout",
     "output_type": "stream",
     "text": [
      "\r",
      "52% completed"
     ]
    },
    {
     "name": "stderr",
     "output_type": "stream",
     "text": [
      "C:\\Users\\15086\\anaconda3\\envs\\wenqu_gdal\\lib\\site-packages\\sklearn\\cross_decomposition\\_pls.py:503: FutureWarning: The attribute `coef_` will be transposed in version 1.3 to be consistent with other linear models in scikit-learn. Currently, `coef_` has a shape of (n_features, n_targets) and in the future it will have a shape of (n_targets, n_features).\n",
      "  warnings.warn(\n"
     ]
    },
    {
     "name": "stdout",
     "output_type": "stream",
     "text": [
      "\r",
      "54% completed"
     ]
    },
    {
     "name": "stderr",
     "output_type": "stream",
     "text": [
      "C:\\Users\\15086\\anaconda3\\envs\\wenqu_gdal\\lib\\site-packages\\sklearn\\cross_decomposition\\_pls.py:503: FutureWarning: The attribute `coef_` will be transposed in version 1.3 to be consistent with other linear models in scikit-learn. Currently, `coef_` has a shape of (n_features, n_targets) and in the future it will have a shape of (n_targets, n_features).\n",
      "  warnings.warn(\n"
     ]
    },
    {
     "name": "stdout",
     "output_type": "stream",
     "text": [
      "\r",
      "56% completed"
     ]
    },
    {
     "name": "stderr",
     "output_type": "stream",
     "text": [
      "C:\\Users\\15086\\anaconda3\\envs\\wenqu_gdal\\lib\\site-packages\\sklearn\\cross_decomposition\\_pls.py:503: FutureWarning: The attribute `coef_` will be transposed in version 1.3 to be consistent with other linear models in scikit-learn. Currently, `coef_` has a shape of (n_features, n_targets) and in the future it will have a shape of (n_targets, n_features).\n",
      "  warnings.warn(\n"
     ]
    },
    {
     "name": "stdout",
     "output_type": "stream",
     "text": [
      "\r",
      "58% completed"
     ]
    },
    {
     "name": "stderr",
     "output_type": "stream",
     "text": [
      "C:\\Users\\15086\\anaconda3\\envs\\wenqu_gdal\\lib\\site-packages\\sklearn\\cross_decomposition\\_pls.py:503: FutureWarning: The attribute `coef_` will be transposed in version 1.3 to be consistent with other linear models in scikit-learn. Currently, `coef_` has a shape of (n_features, n_targets) and in the future it will have a shape of (n_targets, n_features).\n",
      "  warnings.warn(\n"
     ]
    },
    {
     "name": "stdout",
     "output_type": "stream",
     "text": [
      "\r",
      "60% completed"
     ]
    },
    {
     "name": "stderr",
     "output_type": "stream",
     "text": [
      "C:\\Users\\15086\\anaconda3\\envs\\wenqu_gdal\\lib\\site-packages\\sklearn\\cross_decomposition\\_pls.py:503: FutureWarning: The attribute `coef_` will be transposed in version 1.3 to be consistent with other linear models in scikit-learn. Currently, `coef_` has a shape of (n_features, n_targets) and in the future it will have a shape of (n_targets, n_features).\n",
      "  warnings.warn(\n"
     ]
    },
    {
     "name": "stdout",
     "output_type": "stream",
     "text": [
      "\r",
      "62% completed"
     ]
    },
    {
     "name": "stderr",
     "output_type": "stream",
     "text": [
      "C:\\Users\\15086\\anaconda3\\envs\\wenqu_gdal\\lib\\site-packages\\sklearn\\cross_decomposition\\_pls.py:503: FutureWarning: The attribute `coef_` will be transposed in version 1.3 to be consistent with other linear models in scikit-learn. Currently, `coef_` has a shape of (n_features, n_targets) and in the future it will have a shape of (n_targets, n_features).\n",
      "  warnings.warn(\n"
     ]
    },
    {
     "name": "stdout",
     "output_type": "stream",
     "text": [
      "\r",
      "64% completed"
     ]
    },
    {
     "name": "stderr",
     "output_type": "stream",
     "text": [
      "C:\\Users\\15086\\anaconda3\\envs\\wenqu_gdal\\lib\\site-packages\\sklearn\\cross_decomposition\\_pls.py:503: FutureWarning: The attribute `coef_` will be transposed in version 1.3 to be consistent with other linear models in scikit-learn. Currently, `coef_` has a shape of (n_features, n_targets) and in the future it will have a shape of (n_targets, n_features).\n",
      "  warnings.warn(\n"
     ]
    },
    {
     "name": "stdout",
     "output_type": "stream",
     "text": [
      "\r",
      "66% completed"
     ]
    },
    {
     "name": "stderr",
     "output_type": "stream",
     "text": [
      "C:\\Users\\15086\\anaconda3\\envs\\wenqu_gdal\\lib\\site-packages\\sklearn\\cross_decomposition\\_pls.py:503: FutureWarning: The attribute `coef_` will be transposed in version 1.3 to be consistent with other linear models in scikit-learn. Currently, `coef_` has a shape of (n_features, n_targets) and in the future it will have a shape of (n_targets, n_features).\n",
      "  warnings.warn(\n"
     ]
    },
    {
     "name": "stdout",
     "output_type": "stream",
     "text": [
      "\r",
      "68% completed"
     ]
    },
    {
     "name": "stderr",
     "output_type": "stream",
     "text": [
      "C:\\Users\\15086\\anaconda3\\envs\\wenqu_gdal\\lib\\site-packages\\sklearn\\cross_decomposition\\_pls.py:503: FutureWarning: The attribute `coef_` will be transposed in version 1.3 to be consistent with other linear models in scikit-learn. Currently, `coef_` has a shape of (n_features, n_targets) and in the future it will have a shape of (n_targets, n_features).\n",
      "  warnings.warn(\n"
     ]
    },
    {
     "name": "stdout",
     "output_type": "stream",
     "text": [
      "\r",
      "70% completed"
     ]
    },
    {
     "name": "stderr",
     "output_type": "stream",
     "text": [
      "C:\\Users\\15086\\anaconda3\\envs\\wenqu_gdal\\lib\\site-packages\\sklearn\\cross_decomposition\\_pls.py:503: FutureWarning: The attribute `coef_` will be transposed in version 1.3 to be consistent with other linear models in scikit-learn. Currently, `coef_` has a shape of (n_features, n_targets) and in the future it will have a shape of (n_targets, n_features).\n",
      "  warnings.warn(\n"
     ]
    },
    {
     "name": "stdout",
     "output_type": "stream",
     "text": [
      "\r",
      "72% completed"
     ]
    },
    {
     "name": "stderr",
     "output_type": "stream",
     "text": [
      "C:\\Users\\15086\\anaconda3\\envs\\wenqu_gdal\\lib\\site-packages\\sklearn\\cross_decomposition\\_pls.py:503: FutureWarning: The attribute `coef_` will be transposed in version 1.3 to be consistent with other linear models in scikit-learn. Currently, `coef_` has a shape of (n_features, n_targets) and in the future it will have a shape of (n_targets, n_features).\n",
      "  warnings.warn(\n"
     ]
    },
    {
     "name": "stdout",
     "output_type": "stream",
     "text": [
      "\r",
      "74% completed"
     ]
    },
    {
     "name": "stderr",
     "output_type": "stream",
     "text": [
      "C:\\Users\\15086\\anaconda3\\envs\\wenqu_gdal\\lib\\site-packages\\sklearn\\cross_decomposition\\_pls.py:503: FutureWarning: The attribute `coef_` will be transposed in version 1.3 to be consistent with other linear models in scikit-learn. Currently, `coef_` has a shape of (n_features, n_targets) and in the future it will have a shape of (n_targets, n_features).\n",
      "  warnings.warn(\n"
     ]
    },
    {
     "name": "stdout",
     "output_type": "stream",
     "text": [
      "\r",
      "76% completed"
     ]
    },
    {
     "name": "stderr",
     "output_type": "stream",
     "text": [
      "C:\\Users\\15086\\anaconda3\\envs\\wenqu_gdal\\lib\\site-packages\\sklearn\\cross_decomposition\\_pls.py:503: FutureWarning: The attribute `coef_` will be transposed in version 1.3 to be consistent with other linear models in scikit-learn. Currently, `coef_` has a shape of (n_features, n_targets) and in the future it will have a shape of (n_targets, n_features).\n",
      "  warnings.warn(\n"
     ]
    },
    {
     "name": "stdout",
     "output_type": "stream",
     "text": [
      "\r",
      "78% completed"
     ]
    },
    {
     "name": "stderr",
     "output_type": "stream",
     "text": [
      "C:\\Users\\15086\\anaconda3\\envs\\wenqu_gdal\\lib\\site-packages\\sklearn\\cross_decomposition\\_pls.py:503: FutureWarning: The attribute `coef_` will be transposed in version 1.3 to be consistent with other linear models in scikit-learn. Currently, `coef_` has a shape of (n_features, n_targets) and in the future it will have a shape of (n_targets, n_features).\n",
      "  warnings.warn(\n"
     ]
    },
    {
     "name": "stdout",
     "output_type": "stream",
     "text": [
      "\r",
      "80% completed"
     ]
    },
    {
     "name": "stderr",
     "output_type": "stream",
     "text": [
      "C:\\Users\\15086\\anaconda3\\envs\\wenqu_gdal\\lib\\site-packages\\sklearn\\cross_decomposition\\_pls.py:503: FutureWarning: The attribute `coef_` will be transposed in version 1.3 to be consistent with other linear models in scikit-learn. Currently, `coef_` has a shape of (n_features, n_targets) and in the future it will have a shape of (n_targets, n_features).\n",
      "  warnings.warn(\n"
     ]
    },
    {
     "name": "stdout",
     "output_type": "stream",
     "text": [
      "\r",
      "82% completed"
     ]
    },
    {
     "name": "stderr",
     "output_type": "stream",
     "text": [
      "C:\\Users\\15086\\anaconda3\\envs\\wenqu_gdal\\lib\\site-packages\\sklearn\\cross_decomposition\\_pls.py:503: FutureWarning: The attribute `coef_` will be transposed in version 1.3 to be consistent with other linear models in scikit-learn. Currently, `coef_` has a shape of (n_features, n_targets) and in the future it will have a shape of (n_targets, n_features).\n",
      "  warnings.warn(\n"
     ]
    },
    {
     "name": "stdout",
     "output_type": "stream",
     "text": [
      "\r",
      "84% completed"
     ]
    },
    {
     "name": "stderr",
     "output_type": "stream",
     "text": [
      "C:\\Users\\15086\\anaconda3\\envs\\wenqu_gdal\\lib\\site-packages\\sklearn\\cross_decomposition\\_pls.py:503: FutureWarning: The attribute `coef_` will be transposed in version 1.3 to be consistent with other linear models in scikit-learn. Currently, `coef_` has a shape of (n_features, n_targets) and in the future it will have a shape of (n_targets, n_features).\n",
      "  warnings.warn(\n"
     ]
    },
    {
     "name": "stdout",
     "output_type": "stream",
     "text": [
      "\r",
      "86% completed"
     ]
    },
    {
     "name": "stderr",
     "output_type": "stream",
     "text": [
      "C:\\Users\\15086\\anaconda3\\envs\\wenqu_gdal\\lib\\site-packages\\sklearn\\cross_decomposition\\_pls.py:503: FutureWarning: The attribute `coef_` will be transposed in version 1.3 to be consistent with other linear models in scikit-learn. Currently, `coef_` has a shape of (n_features, n_targets) and in the future it will have a shape of (n_targets, n_features).\n",
      "  warnings.warn(\n"
     ]
    },
    {
     "name": "stdout",
     "output_type": "stream",
     "text": [
      "\r",
      "88% completed"
     ]
    },
    {
     "name": "stderr",
     "output_type": "stream",
     "text": [
      "C:\\Users\\15086\\anaconda3\\envs\\wenqu_gdal\\lib\\site-packages\\sklearn\\cross_decomposition\\_pls.py:503: FutureWarning: The attribute `coef_` will be transposed in version 1.3 to be consistent with other linear models in scikit-learn. Currently, `coef_` has a shape of (n_features, n_targets) and in the future it will have a shape of (n_targets, n_features).\n",
      "  warnings.warn(\n"
     ]
    },
    {
     "name": "stdout",
     "output_type": "stream",
     "text": [
      "\r",
      "90% completed"
     ]
    },
    {
     "name": "stderr",
     "output_type": "stream",
     "text": [
      "C:\\Users\\15086\\anaconda3\\envs\\wenqu_gdal\\lib\\site-packages\\sklearn\\cross_decomposition\\_pls.py:503: FutureWarning: The attribute `coef_` will be transposed in version 1.3 to be consistent with other linear models in scikit-learn. Currently, `coef_` has a shape of (n_features, n_targets) and in the future it will have a shape of (n_targets, n_features).\n",
      "  warnings.warn(\n"
     ]
    },
    {
     "name": "stdout",
     "output_type": "stream",
     "text": [
      "\r",
      "92% completed"
     ]
    },
    {
     "name": "stderr",
     "output_type": "stream",
     "text": [
      "C:\\Users\\15086\\anaconda3\\envs\\wenqu_gdal\\lib\\site-packages\\sklearn\\cross_decomposition\\_pls.py:503: FutureWarning: The attribute `coef_` will be transposed in version 1.3 to be consistent with other linear models in scikit-learn. Currently, `coef_` has a shape of (n_features, n_targets) and in the future it will have a shape of (n_targets, n_features).\n",
      "  warnings.warn(\n"
     ]
    },
    {
     "name": "stdout",
     "output_type": "stream",
     "text": [
      "\r",
      "94% completed"
     ]
    },
    {
     "name": "stderr",
     "output_type": "stream",
     "text": [
      "C:\\Users\\15086\\anaconda3\\envs\\wenqu_gdal\\lib\\site-packages\\sklearn\\cross_decomposition\\_pls.py:503: FutureWarning: The attribute `coef_` will be transposed in version 1.3 to be consistent with other linear models in scikit-learn. Currently, `coef_` has a shape of (n_features, n_targets) and in the future it will have a shape of (n_targets, n_features).\n",
      "  warnings.warn(\n"
     ]
    },
    {
     "name": "stdout",
     "output_type": "stream",
     "text": [
      "\r",
      "96% completed"
     ]
    },
    {
     "name": "stderr",
     "output_type": "stream",
     "text": [
      "C:\\Users\\15086\\anaconda3\\envs\\wenqu_gdal\\lib\\site-packages\\sklearn\\cross_decomposition\\_pls.py:503: FutureWarning: The attribute `coef_` will be transposed in version 1.3 to be consistent with other linear models in scikit-learn. Currently, `coef_` has a shape of (n_features, n_targets) and in the future it will have a shape of (n_targets, n_features).\n",
      "  warnings.warn(\n"
     ]
    },
    {
     "name": "stdout",
     "output_type": "stream",
     "text": [
      "\r",
      "98% completed"
     ]
    },
    {
     "name": "stderr",
     "output_type": "stream",
     "text": [
      "C:\\Users\\15086\\anaconda3\\envs\\wenqu_gdal\\lib\\site-packages\\sklearn\\cross_decomposition\\_pls.py:503: FutureWarning: The attribute `coef_` will be transposed in version 1.3 to be consistent with other linear models in scikit-learn. Currently, `coef_` has a shape of (n_features, n_targets) and in the future it will have a shape of (n_targets, n_features).\n",
      "  warnings.warn(\n",
      "C:\\Users\\15086\\anaconda3\\envs\\wenqu_gdal\\lib\\site-packages\\sklearn\\cross_decomposition\\_pls.py:300: UserWarning: Y residual is constant at iteration 49\n",
      "  warnings.warn(f\"Y residual is constant at iteration {k}\")\n",
      "C:\\Users\\15086\\anaconda3\\envs\\wenqu_gdal\\lib\\site-packages\\sklearn\\cross_decomposition\\_pls.py:300: UserWarning: Y residual is constant at iteration 49\n",
      "  warnings.warn(f\"Y residual is constant at iteration {k}\")\n",
      "C:\\Users\\15086\\anaconda3\\envs\\wenqu_gdal\\lib\\site-packages\\sklearn\\cross_decomposition\\_pls.py:300: UserWarning: Y residual is constant at iteration 49\n",
      "  warnings.warn(f\"Y residual is constant at iteration {k}\")\n",
      "C:\\Users\\15086\\anaconda3\\envs\\wenqu_gdal\\lib\\site-packages\\sklearn\\cross_decomposition\\_pls.py:300: UserWarning: Y residual is constant at iteration 49\n",
      "  warnings.warn(f\"Y residual is constant at iteration {k}\")\n",
      "C:\\Users\\15086\\anaconda3\\envs\\wenqu_gdal\\lib\\site-packages\\sklearn\\cross_decomposition\\_pls.py:300: UserWarning: Y residual is constant at iteration 49\n",
      "  warnings.warn(f\"Y residual is constant at iteration {k}\")\n",
      "C:\\Users\\15086\\anaconda3\\envs\\wenqu_gdal\\lib\\site-packages\\sklearn\\cross_decomposition\\_pls.py:300: UserWarning: Y residual is constant at iteration 49\n",
      "  warnings.warn(f\"Y residual is constant at iteration {k}\")\n",
      "C:\\Users\\15086\\anaconda3\\envs\\wenqu_gdal\\lib\\site-packages\\sklearn\\cross_decomposition\\_pls.py:300: UserWarning: Y residual is constant at iteration 49\n",
      "  warnings.warn(f\"Y residual is constant at iteration {k}\")\n",
      "C:\\Users\\15086\\anaconda3\\envs\\wenqu_gdal\\lib\\site-packages\\sklearn\\cross_decomposition\\_pls.py:300: UserWarning: Y residual is constant at iteration 49\n",
      "  warnings.warn(f\"Y residual is constant at iteration {k}\")\n",
      "C:\\Users\\15086\\anaconda3\\envs\\wenqu_gdal\\lib\\site-packages\\sklearn\\cross_decomposition\\_pls.py:300: UserWarning: Y residual is constant at iteration 49\n",
      "  warnings.warn(f\"Y residual is constant at iteration {k}\")\n",
      "C:\\Users\\15086\\anaconda3\\envs\\wenqu_gdal\\lib\\site-packages\\sklearn\\cross_decomposition\\_pls.py:300: UserWarning: Y residual is constant at iteration 49\n",
      "  warnings.warn(f\"Y residual is constant at iteration {k}\")\n",
      "C:\\Users\\15086\\anaconda3\\envs\\wenqu_gdal\\lib\\site-packages\\sklearn\\cross_decomposition\\_pls.py:300: UserWarning: Y residual is constant at iteration 49\n",
      "  warnings.warn(f\"Y residual is constant at iteration {k}\")\n"
     ]
    },
    {
     "name": "stdout",
     "output_type": "stream",
     "text": [
      "100% completed\n",
      "Optimised number of PLS components:  26\n",
      "Wavelengths to be keeped  93\n",
      "Optimised MSEP  0.23903927804181743\n",
      "\n"
     ]
    },
    {
     "name": "stderr",
     "output_type": "stream",
     "text": [
      "C:\\Users\\15086\\anaconda3\\envs\\wenqu_gdal\\lib\\site-packages\\sklearn\\cross_decomposition\\_pls.py:503: FutureWarning: The attribute `coef_` will be transposed in version 1.3 to be consistent with other linear models in scikit-learn. Currently, `coef_` has a shape of (n_features, n_targets) and in the future it will have a shape of (n_targets, n_features).\n",
      "  warnings.warn(\n"
     ]
    }
   ],
   "source": [
    "opt_Xc_SLA, ncomp_SLA, wav_SLA, sorted_ind_SLA= pls_variable_selection(x_sla, log_y_weighted_sla, 50)"
   ]
  },
  {
   "cell_type": "code",
   "execution_count": 31,
   "id": "10f77609",
   "metadata": {},
   "outputs": [
    {
     "data": {
      "text/plain": [
       "(63, 93)"
      ]
     },
     "execution_count": 31,
     "metadata": {},
     "output_type": "execute_result"
    }
   ],
   "source": [
    "opt_Xc_SLA.shape"
   ]
  },
  {
   "cell_type": "code",
   "execution_count": 32,
   "id": "291d768c",
   "metadata": {
    "scrolled": true
   },
   "outputs": [
    {
     "name": "stdout",
     "output_type": "stream",
     "text": [
      "R2 calib: 0.998\n",
      "R2 CV: 0.638\n",
      "RMSE calib: 0.015\n",
      "RMSE CV: 0.204\n",
      "[1.0066731] [0.77759469]\n",
      "0 site2a [4.42415619] 4.63739271405887\n",
      "1 site2a [4.48406585] 4.390364687916616\n",
      "2 site2a [4.90680721] 4.6330618799590635\n",
      "3 site2a [4.49748151] 4.417840158236678\n",
      "4 site2a [3.7669238] 3.422942036707019\n",
      "5 site2a [4.03410033] 4.492419192680928\n",
      "6 site2a [4.72043082] 4.58277372363843\n",
      "7 site2a [4.2714568] 4.4182618337126796\n",
      "8 site2a [3.80681172] 3.692226771092372\n",
      "9 site2a [4.25289357] 4.122434239063453\n",
      "10 site2a [4.51225416] 4.671022879472786\n",
      "11 site2a [4.0768709] 4.71285548264726\n",
      "12 site2a [4.60051238] 4.205053269871151\n",
      "13 site2a [3.91509647] 3.6385116479089965\n",
      "14 site2a [3.83775665] 3.8936344937070633\n",
      "15 site2a [4.21579922] 4.549239866566686\n",
      "16 site2a [4.36719522] 4.584492431363669\n",
      "17 site2a [3.7115141] 4.0258103667772085\n",
      "18 site2a [4.30001666] 4.461291843365711\n",
      "19 site2a [4.53182746] 4.882614200422213\n",
      "20 site2a [4.60664491] 4.723406294991244\n",
      "21 site2a [4.73659477] 4.421653614808786\n",
      "22 site2a [4.27436632] 4.392250913767131\n",
      "23 site2a [4.51151943] 4.246533659832882\n",
      "24 site2a [4.61023529] 4.5850376282508485\n",
      "25 site1b [4.85797452] 4.955948567824229\n",
      "26 site1b [4.91408612] 4.922298299226996\n",
      "27 site1b [4.91220113] 4.665497998584557\n",
      "28 site1b [4.68603842] 4.68484223235983\n",
      "29 site1b [4.74466641] 4.859719497720403\n",
      "30 site1b [4.92070529] 4.81533775703286\n",
      "31 site1b [4.98686242] 5.006246583780022\n",
      "32 site1b [4.66027634] 4.773997164991083\n",
      "33 site1b [4.53638293] 4.544735888908755\n",
      "34 site1b [4.79505958] 4.692155258048416\n",
      "35 site1b [4.57340821] 4.549450435598952\n",
      "36 site1b [4.65785874] 4.489234027728227\n",
      "37 site1b [4.96005309] 4.641577195348432\n",
      "38 site1b [4.48403609] 4.733111537907882\n",
      "39 site1b [4.95621142] 4.910632570174882\n",
      "40 site1b [4.78490196] 4.661362096191615\n",
      "41 site1b [4.79636546] 4.68341207870572\n",
      "42 site1b [4.95114606] 4.948718691657172\n",
      "43 site1b [4.68664839] 4.571956817528976\n",
      "44 site1b [4.70141774] 4.656390419906791\n",
      "45 site1b [4.63134609] 4.7674859412473785\n",
      "46 site1b [4.8496492] 5.001067968174001\n",
      "47 site1b [4.62180954] 4.916288305540939\n",
      "48 site1b [4.90596748] 4.845531976963387\n",
      "49 site1b [4.58192173] 4.739598766019601\n",
      "50 site2c [4.19534836] 4.0110658974406395\n",
      "51 site2c [3.92468804] 4.116060533398095\n",
      "52 site2c [4.29404714] 4.0332881866613475\n",
      "53 site2c [4.08046682] 3.9100045196556956\n",
      "54 site2c [4.34725862] 4.264383950902086\n",
      "55 site6 [4.42097343] 4.584898977344817\n",
      "56 site6 [4.24326748] 4.21137190382105\n",
      "57 site6 [4.73366662] 4.692793636622425\n",
      "58 site6 [4.71125742] 4.577986918808548\n",
      "59 site6 [4.72492365] 4.539537965005495\n",
      "60 site6 [4.58110164] 4.575537598717498\n",
      "61 site6 [4.40368625] 4.429199922522054\n",
      "62 site6 [4.57360044] 4.3521558908661255\n"
     ]
    },
    {
     "data": {
      "image/png": "[encoded data removed]",
      "text/plain": [
       "<Figure size 900x500 with 1 Axes>"
      ]
     },
     "metadata": {},
     "output_type": "display_data"
    }
   ],
   "source": [
    "file_name_sla = 'F:/wenqu/result/sla.csv'\n",
    "simple_pls_cv(opt_Xc_SLA, log_y_weighted_sla, ncomp_SLA, labels_sla,file_name_sla)"
   ]
  },
  {
   "cell_type": "code",
   "execution_count": 33,
   "id": "3d5bf297",
   "metadata": {
    "scrolled": true
   },
   "outputs": [
    {
     "name": "stdout",
     "output_type": "stream",
     "text": [
      "(93,) (93,)\n"
     ]
    },
    {
     "name": "stderr",
     "output_type": "stream",
     "text": [
      "C:\\Users\\15086\\anaconda3\\envs\\wenqu_gdal\\lib\\site-packages\\sklearn\\cross_decomposition\\_pls.py:503: FutureWarning: The attribute `coef_` will be transposed in version 1.3 to be consistent with other linear models in scikit-learn. Currently, `coef_` has a shape of (n_features, n_targets) and in the future it will have a shape of (n_targets, n_features).\n",
      "  warnings.warn(\n"
     ]
    }
   ],
   "source": [
    "optimal_pls_sla  = PLSRegression(n_components=26)\n",
    "optimal_pls_sla.fit(opt_Xc_SLA, log_y_weighted_sla)\n",
    "\n",
    "coefficients = optimal_pls_sla.coef_[:,0]\n",
    "bands = band_name[sorted_ind_SLA][wav_SLA:]\n",
    "\n",
    "print(coefficients.shape, bands.shape)\n",
    "\n"
   ]
  },
  {
   "cell_type": "code",
   "execution_count": 34,
   "id": "a4e392af",
   "metadata": {},
   "outputs": [
    {
     "name": "stdout",
     "output_type": "stream",
     "text": [
      "sla_trait = 0.219792*data_dict['b36_std'] + 0.150814*data_dict['b123_mean'] + -0.093699*data_dict['b66_std'] + 0.199008*data_dict['b64_std'] + -0.588889*data_dict['b102_std'] + -0.221419*data_dict['b34_std'] + 0.252131*data_dict['b109_mean'] + 0.078076*data_dict['b6_mean'] + 0.331060*data_dict['b91_mean'] + 0.087495*data_dict['b39_std'] + 0.515332*data_dict['b21_std'] + -0.331420*data_dict['b75_mean'] + 0.252356*data_dict['b17_std'] + -0.176426*data_dict['b35_std'] + 0.346296*data_dict['b45_std'] + 0.298782*data_dict['b40_std'] + -0.101041*data_dict['b73_mean'] + 0.271761*data_dict['b13_mean'] + 0.139634*data_dict['b101_std'] + -0.022854*data_dict['b31_std'] + 0.517783*data_dict['b49_std'] + -0.239468*data_dict['b7_std'] + -0.561350*data_dict['b53_mean'] + 0.146141*data_dict['b88_std'] + -0.057821*data_dict['b63_mean'] + -0.034535*data_dict['b41_mean'] + 0.330716*data_dict['b22_std'] + 0.321396*data_dict['b60_mean'] + -0.253976*data_dict['b102_mean'] + -0.003751*data_dict['b98_mean'] + -0.290756*data_dict['b1_std'] + 0.327980*data_dict['b6_std'] + 0.212259*data_dict['b113_std'] + -0.133372*data_dict['b22_mean'] + -0.184879*data_dict['b62_std'] + 0.111643*data_dict['b21_mean'] + 0.514728*data_dict['b90_mean'] + 0.252161*data_dict['b57_std'] + -0.172279*data_dict['b8_std'] + -0.310862*data_dict['b111_std'] + -0.462581*data_dict['b20_std'] + -0.273131*data_dict['b26_std'] + 0.057266*data_dict['b92_std'] + 0.262786*data_dict['b85_std'] + 0.323769*data_dict['b83_std'] + 0.332541*data_dict['b16_mean'] + -0.109225*data_dict['b7_mean'] + -0.656834*data_dict['b78_std'] + 0.058296*data_dict['b105_mean'] + 0.210296*data_dict['b115_std'] + -0.289476*data_dict['b121_std'] + -0.203681*data_dict['b56_std'] + 0.345728*data_dict['b89_std'] + 0.043517*data_dict['b68_std'] + 0.735007*data_dict['b16_std'] + -0.203404*data_dict['b114_std'] + 0.185724*data_dict['b95_std'] + -0.144544*data_dict['b42_std'] + 0.472189*data_dict['b104_mean'] + 0.275887*data_dict['b91_std'] + 0.466831*data_dict['b113_mean'] + -0.415193*data_dict['b98_std'] + 0.387708*data_dict['b97_std'] + 0.370087*data_dict['b67_std'] + -0.648415*data_dict['b41_std'] + -0.113365*data_dict['b11_std'] + 0.173359*data_dict['b96_std'] + -0.331871*data_dict['b82_std'] + -0.001173*data_dict['b119_std'] + 0.163000*data_dict['b65_std'] + -0.364424*data_dict['b19_mean'] + 0.032240*data_dict['b46_std'] + 0.358455*data_dict['b59_mean'] + -0.385762*data_dict['b44_std'] + -0.311821*data_dict['b60_std'] + 0.430645*data_dict['b48_std'] + 0.217593*data_dict['b2_mean'] + 0.081219*data_dict['b9_std'] + -0.426938*data_dict['b59_std'] + 0.160901*data_dict['b117_std'] + 0.317743*data_dict['b52_std'] + -0.465368*data_dict['b118_mean'] + -0.132119*data_dict['b61_std'] + -0.873601*data_dict['b25_std'] + -0.455091*data_dict['b86_std'] + -0.358108*data_dict['b107_std'] + 0.417056*data_dict['b108_std'] + 0.558898*data_dict['b116_std'] + -0.560055*data_dict['b12_std'] + 0.774772*data_dict['b29_std'] + -0.387424*data_dict['b8_mean'] + -0.876086*data_dict['b112_mean'] + -0.720364*data_dict['b103_std'] + 4.382242\n"
     ]
    }
   ],
   "source": [
    "\n",
    "\n",
    "# Assuming generic names for the predictors\n",
    "# predictor_names = ['X{}'.format(i) for i in range(1, opt_Xc_la.shape[1] + 1)]\n",
    "\n",
    "# Compute the intercept using means of X and y\n",
    "x_mean = opt_Xc_SLA.mean(axis=0)\n",
    "y_mean = log_y_weighted_sla.mean()\n",
    "\n",
    "intercept_sla = y_mean - np.dot(x_mean, coefficients)\n",
    "\n",
    "linear_equation = \"sla_trait = \"\n",
    "\n",
    "for coef, predictor in zip(coefficients, bands):\n",
    "    linear_equation += \"{:.6f}*data_dict['{}'] + \".format(coef, predictor)\n",
    "\n",
    "# Adding the intercept to the end\n",
    "linear_equation += \"{:.6f}\".format(intercept_sla)\n",
    "\n",
    "print(linear_equation)"
   ]
  },
  {
   "cell_type": "markdown",
   "id": "1a4cd8aa",
   "metadata": {},
   "source": [
    "# pc"
   ]
  },
  {
   "cell_type": "code",
   "execution_count": 35,
   "id": "d571a3d9",
   "metadata": {
    "scrolled": true
   },
   "outputs": [
    {
     "name": "stderr",
     "output_type": "stream",
     "text": [
      "C:\\Users\\15086\\anaconda3\\envs\\wenqu_gdal\\lib\\site-packages\\sklearn\\cross_decomposition\\_pls.py:503: FutureWarning: The attribute `coef_` will be transposed in version 1.3 to be consistent with other linear models in scikit-learn. Currently, `coef_` has a shape of (n_features, n_targets) and in the future it will have a shape of (n_targets, n_features).\n",
      "  warnings.warn(\n"
     ]
    },
    {
     "name": "stdout",
     "output_type": "stream",
     "text": [
      "\r",
      "2% completed"
     ]
    },
    {
     "name": "stderr",
     "output_type": "stream",
     "text": [
      "C:\\Users\\15086\\anaconda3\\envs\\wenqu_gdal\\lib\\site-packages\\sklearn\\cross_decomposition\\_pls.py:503: FutureWarning: The attribute `coef_` will be transposed in version 1.3 to be consistent with other linear models in scikit-learn. Currently, `coef_` has a shape of (n_features, n_targets) and in the future it will have a shape of (n_targets, n_features).\n",
      "  warnings.warn(\n"
     ]
    },
    {
     "name": "stdout",
     "output_type": "stream",
     "text": [
      "\r",
      "4% completed"
     ]
    },
    {
     "name": "stderr",
     "output_type": "stream",
     "text": [
      "C:\\Users\\15086\\anaconda3\\envs\\wenqu_gdal\\lib\\site-packages\\sklearn\\cross_decomposition\\_pls.py:503: FutureWarning: The attribute `coef_` will be transposed in version 1.3 to be consistent with other linear models in scikit-learn. Currently, `coef_` has a shape of (n_features, n_targets) and in the future it will have a shape of (n_targets, n_features).\n",
      "  warnings.warn(\n"
     ]
    },
    {
     "name": "stdout",
     "output_type": "stream",
     "text": [
      "\r",
      "6% completed"
     ]
    },
    {
     "name": "stderr",
     "output_type": "stream",
     "text": [
      "C:\\Users\\15086\\anaconda3\\envs\\wenqu_gdal\\lib\\site-packages\\sklearn\\cross_decomposition\\_pls.py:503: FutureWarning: The attribute `coef_` will be transposed in version 1.3 to be consistent with other linear models in scikit-learn. Currently, `coef_` has a shape of (n_features, n_targets) and in the future it will have a shape of (n_targets, n_features).\n",
      "  warnings.warn(\n"
     ]
    },
    {
     "name": "stdout",
     "output_type": "stream",
     "text": [
      "\r",
      "8% completed"
     ]
    },
    {
     "name": "stderr",
     "output_type": "stream",
     "text": [
      "C:\\Users\\15086\\anaconda3\\envs\\wenqu_gdal\\lib\\site-packages\\sklearn\\cross_decomposition\\_pls.py:503: FutureWarning: The attribute `coef_` will be transposed in version 1.3 to be consistent with other linear models in scikit-learn. Currently, `coef_` has a shape of (n_features, n_targets) and in the future it will have a shape of (n_targets, n_features).\n",
      "  warnings.warn(\n"
     ]
    },
    {
     "name": "stdout",
     "output_type": "stream",
     "text": [
      "\r",
      "10% completed"
     ]
    },
    {
     "name": "stderr",
     "output_type": "stream",
     "text": [
      "C:\\Users\\15086\\anaconda3\\envs\\wenqu_gdal\\lib\\site-packages\\sklearn\\cross_decomposition\\_pls.py:503: FutureWarning: The attribute `coef_` will be transposed in version 1.3 to be consistent with other linear models in scikit-learn. Currently, `coef_` has a shape of (n_features, n_targets) and in the future it will have a shape of (n_targets, n_features).\n",
      "  warnings.warn(\n"
     ]
    },
    {
     "name": "stdout",
     "output_type": "stream",
     "text": [
      "\r",
      "12% completed"
     ]
    },
    {
     "name": "stderr",
     "output_type": "stream",
     "text": [
      "C:\\Users\\15086\\anaconda3\\envs\\wenqu_gdal\\lib\\site-packages\\sklearn\\cross_decomposition\\_pls.py:503: FutureWarning: The attribute `coef_` will be transposed in version 1.3 to be consistent with other linear models in scikit-learn. Currently, `coef_` has a shape of (n_features, n_targets) and in the future it will have a shape of (n_targets, n_features).\n",
      "  warnings.warn(\n"
     ]
    },
    {
     "name": "stdout",
     "output_type": "stream",
     "text": [
      "\r",
      "14% completed"
     ]
    },
    {
     "name": "stderr",
     "output_type": "stream",
     "text": [
      "C:\\Users\\15086\\anaconda3\\envs\\wenqu_gdal\\lib\\site-packages\\sklearn\\cross_decomposition\\_pls.py:503: FutureWarning: The attribute `coef_` will be transposed in version 1.3 to be consistent with other linear models in scikit-learn. Currently, `coef_` has a shape of (n_features, n_targets) and in the future it will have a shape of (n_targets, n_features).\n",
      "  warnings.warn(\n"
     ]
    },
    {
     "name": "stdout",
     "output_type": "stream",
     "text": [
      "\r",
      "16% completed"
     ]
    },
    {
     "name": "stderr",
     "output_type": "stream",
     "text": [
      "C:\\Users\\15086\\anaconda3\\envs\\wenqu_gdal\\lib\\site-packages\\sklearn\\cross_decomposition\\_pls.py:503: FutureWarning: The attribute `coef_` will be transposed in version 1.3 to be consistent with other linear models in scikit-learn. Currently, `coef_` has a shape of (n_features, n_targets) and in the future it will have a shape of (n_targets, n_features).\n",
      "  warnings.warn(\n"
     ]
    },
    {
     "name": "stdout",
     "output_type": "stream",
     "text": [
      "\r",
      "18% completed"
     ]
    },
    {
     "name": "stderr",
     "output_type": "stream",
     "text": [
      "C:\\Users\\15086\\anaconda3\\envs\\wenqu_gdal\\lib\\site-packages\\sklearn\\cross_decomposition\\_pls.py:503: FutureWarning: The attribute `coef_` will be transposed in version 1.3 to be consistent with other linear models in scikit-learn. Currently, `coef_` has a shape of (n_features, n_targets) and in the future it will have a shape of (n_targets, n_features).\n",
      "  warnings.warn(\n"
     ]
    },
    {
     "name": "stdout",
     "output_type": "stream",
     "text": [
      "\r",
      "20% completed"
     ]
    },
    {
     "name": "stderr",
     "output_type": "stream",
     "text": [
      "C:\\Users\\15086\\anaconda3\\envs\\wenqu_gdal\\lib\\site-packages\\sklearn\\cross_decomposition\\_pls.py:503: FutureWarning: The attribute `coef_` will be transposed in version 1.3 to be consistent with other linear models in scikit-learn. Currently, `coef_` has a shape of (n_features, n_targets) and in the future it will have a shape of (n_targets, n_features).\n",
      "  warnings.warn(\n"
     ]
    },
    {
     "name": "stdout",
     "output_type": "stream",
     "text": [
      "\r",
      "22% completed"
     ]
    },
    {
     "name": "stderr",
     "output_type": "stream",
     "text": [
      "C:\\Users\\15086\\anaconda3\\envs\\wenqu_gdal\\lib\\site-packages\\sklearn\\cross_decomposition\\_pls.py:503: FutureWarning: The attribute `coef_` will be transposed in version 1.3 to be consistent with other linear models in scikit-learn. Currently, `coef_` has a shape of (n_features, n_targets) and in the future it will have a shape of (n_targets, n_features).\n",
      "  warnings.warn(\n"
     ]
    },
    {
     "name": "stdout",
     "output_type": "stream",
     "text": [
      "\r",
      "24% completed"
     ]
    },
    {
     "name": "stderr",
     "output_type": "stream",
     "text": [
      "C:\\Users\\15086\\anaconda3\\envs\\wenqu_gdal\\lib\\site-packages\\sklearn\\cross_decomposition\\_pls.py:503: FutureWarning: The attribute `coef_` will be transposed in version 1.3 to be consistent with other linear models in scikit-learn. Currently, `coef_` has a shape of (n_features, n_targets) and in the future it will have a shape of (n_targets, n_features).\n",
      "  warnings.warn(\n"
     ]
    },
    {
     "name": "stdout",
     "output_type": "stream",
     "text": [
      "\r",
      "26% completed"
     ]
    },
    {
     "name": "stderr",
     "output_type": "stream",
     "text": [
      "C:\\Users\\15086\\anaconda3\\envs\\wenqu_gdal\\lib\\site-packages\\sklearn\\cross_decomposition\\_pls.py:503: FutureWarning: The attribute `coef_` will be transposed in version 1.3 to be consistent with other linear models in scikit-learn. Currently, `coef_` has a shape of (n_features, n_targets) and in the future it will have a shape of (n_targets, n_features).\n",
      "  warnings.warn(\n"
     ]
    },
    {
     "name": "stdout",
     "output_type": "stream",
     "text": [
      "\r",
      "28% completed"
     ]
    },
    {
     "name": "stderr",
     "output_type": "stream",
     "text": [
      "C:\\Users\\15086\\anaconda3\\envs\\wenqu_gdal\\lib\\site-packages\\sklearn\\cross_decomposition\\_pls.py:503: FutureWarning: The attribute `coef_` will be transposed in version 1.3 to be consistent with other linear models in scikit-learn. Currently, `coef_` has a shape of (n_features, n_targets) and in the future it will have a shape of (n_targets, n_features).\n",
      "  warnings.warn(\n"
     ]
    },
    {
     "name": "stdout",
     "output_type": "stream",
     "text": [
      "\r",
      "30% completed"
     ]
    },
    {
     "name": "stderr",
     "output_type": "stream",
     "text": [
      "C:\\Users\\15086\\anaconda3\\envs\\wenqu_gdal\\lib\\site-packages\\sklearn\\cross_decomposition\\_pls.py:503: FutureWarning: The attribute `coef_` will be transposed in version 1.3 to be consistent with other linear models in scikit-learn. Currently, `coef_` has a shape of (n_features, n_targets) and in the future it will have a shape of (n_targets, n_features).\n",
      "  warnings.warn(\n"
     ]
    },
    {
     "name": "stdout",
     "output_type": "stream",
     "text": [
      "\r",
      "32% completed"
     ]
    },
    {
     "name": "stderr",
     "output_type": "stream",
     "text": [
      "C:\\Users\\15086\\anaconda3\\envs\\wenqu_gdal\\lib\\site-packages\\sklearn\\cross_decomposition\\_pls.py:503: FutureWarning: The attribute `coef_` will be transposed in version 1.3 to be consistent with other linear models in scikit-learn. Currently, `coef_` has a shape of (n_features, n_targets) and in the future it will have a shape of (n_targets, n_features).\n",
      "  warnings.warn(\n"
     ]
    },
    {
     "name": "stdout",
     "output_type": "stream",
     "text": [
      "\r",
      "34% completed"
     ]
    },
    {
     "name": "stderr",
     "output_type": "stream",
     "text": [
      "C:\\Users\\15086\\anaconda3\\envs\\wenqu_gdal\\lib\\site-packages\\sklearn\\cross_decomposition\\_pls.py:503: FutureWarning: The attribute `coef_` will be transposed in version 1.3 to be consistent with other linear models in scikit-learn. Currently, `coef_` has a shape of (n_features, n_targets) and in the future it will have a shape of (n_targets, n_features).\n",
      "  warnings.warn(\n"
     ]
    },
    {
     "name": "stdout",
     "output_type": "stream",
     "text": [
      "\r",
      "36% completed"
     ]
    },
    {
     "name": "stderr",
     "output_type": "stream",
     "text": [
      "C:\\Users\\15086\\anaconda3\\envs\\wenqu_gdal\\lib\\site-packages\\sklearn\\cross_decomposition\\_pls.py:503: FutureWarning: The attribute `coef_` will be transposed in version 1.3 to be consistent with other linear models in scikit-learn. Currently, `coef_` has a shape of (n_features, n_targets) and in the future it will have a shape of (n_targets, n_features).\n",
      "  warnings.warn(\n"
     ]
    },
    {
     "name": "stdout",
     "output_type": "stream",
     "text": [
      "\r",
      "38% completed"
     ]
    },
    {
     "name": "stderr",
     "output_type": "stream",
     "text": [
      "C:\\Users\\15086\\anaconda3\\envs\\wenqu_gdal\\lib\\site-packages\\sklearn\\cross_decomposition\\_pls.py:503: FutureWarning: The attribute `coef_` will be transposed in version 1.3 to be consistent with other linear models in scikit-learn. Currently, `coef_` has a shape of (n_features, n_targets) and in the future it will have a shape of (n_targets, n_features).\n",
      "  warnings.warn(\n"
     ]
    },
    {
     "name": "stdout",
     "output_type": "stream",
     "text": [
      "\r",
      "40% completed"
     ]
    },
    {
     "name": "stderr",
     "output_type": "stream",
     "text": [
      "C:\\Users\\15086\\anaconda3\\envs\\wenqu_gdal\\lib\\site-packages\\sklearn\\cross_decomposition\\_pls.py:503: FutureWarning: The attribute `coef_` will be transposed in version 1.3 to be consistent with other linear models in scikit-learn. Currently, `coef_` has a shape of (n_features, n_targets) and in the future it will have a shape of (n_targets, n_features).\n",
      "  warnings.warn(\n"
     ]
    },
    {
     "name": "stdout",
     "output_type": "stream",
     "text": [
      "\r",
      "42% completed"
     ]
    },
    {
     "name": "stderr",
     "output_type": "stream",
     "text": [
      "C:\\Users\\15086\\anaconda3\\envs\\wenqu_gdal\\lib\\site-packages\\sklearn\\cross_decomposition\\_pls.py:503: FutureWarning: The attribute `coef_` will be transposed in version 1.3 to be consistent with other linear models in scikit-learn. Currently, `coef_` has a shape of (n_features, n_targets) and in the future it will have a shape of (n_targets, n_features).\n",
      "  warnings.warn(\n"
     ]
    },
    {
     "name": "stdout",
     "output_type": "stream",
     "text": [
      "\r",
      "44% completed"
     ]
    },
    {
     "name": "stderr",
     "output_type": "stream",
     "text": [
      "C:\\Users\\15086\\anaconda3\\envs\\wenqu_gdal\\lib\\site-packages\\sklearn\\cross_decomposition\\_pls.py:503: FutureWarning: The attribute `coef_` will be transposed in version 1.3 to be consistent with other linear models in scikit-learn. Currently, `coef_` has a shape of (n_features, n_targets) and in the future it will have a shape of (n_targets, n_features).\n",
      "  warnings.warn(\n"
     ]
    },
    {
     "name": "stdout",
     "output_type": "stream",
     "text": [
      "\r",
      "46% completed"
     ]
    },
    {
     "name": "stderr",
     "output_type": "stream",
     "text": [
      "C:\\Users\\15086\\anaconda3\\envs\\wenqu_gdal\\lib\\site-packages\\sklearn\\cross_decomposition\\_pls.py:503: FutureWarning: The attribute `coef_` will be transposed in version 1.3 to be consistent with other linear models in scikit-learn. Currently, `coef_` has a shape of (n_features, n_targets) and in the future it will have a shape of (n_targets, n_features).\n",
      "  warnings.warn(\n"
     ]
    },
    {
     "name": "stdout",
     "output_type": "stream",
     "text": [
      "\r",
      "48% completed"
     ]
    },
    {
     "name": "stderr",
     "output_type": "stream",
     "text": [
      "C:\\Users\\15086\\anaconda3\\envs\\wenqu_gdal\\lib\\site-packages\\sklearn\\cross_decomposition\\_pls.py:503: FutureWarning: The attribute `coef_` will be transposed in version 1.3 to be consistent with other linear models in scikit-learn. Currently, `coef_` has a shape of (n_features, n_targets) and in the future it will have a shape of (n_targets, n_features).\n",
      "  warnings.warn(\n"
     ]
    },
    {
     "name": "stdout",
     "output_type": "stream",
     "text": [
      "\r",
      "50% completed"
     ]
    },
    {
     "name": "stderr",
     "output_type": "stream",
     "text": [
      "C:\\Users\\15086\\anaconda3\\envs\\wenqu_gdal\\lib\\site-packages\\sklearn\\cross_decomposition\\_pls.py:503: FutureWarning: The attribute `coef_` will be transposed in version 1.3 to be consistent with other linear models in scikit-learn. Currently, `coef_` has a shape of (n_features, n_targets) and in the future it will have a shape of (n_targets, n_features).\n",
      "  warnings.warn(\n"
     ]
    },
    {
     "name": "stdout",
     "output_type": "stream",
     "text": [
      "\r",
      "52% completed"
     ]
    },
    {
     "name": "stderr",
     "output_type": "stream",
     "text": [
      "C:\\Users\\15086\\anaconda3\\envs\\wenqu_gdal\\lib\\site-packages\\sklearn\\cross_decomposition\\_pls.py:503: FutureWarning: The attribute `coef_` will be transposed in version 1.3 to be consistent with other linear models in scikit-learn. Currently, `coef_` has a shape of (n_features, n_targets) and in the future it will have a shape of (n_targets, n_features).\n",
      "  warnings.warn(\n"
     ]
    },
    {
     "name": "stdout",
     "output_type": "stream",
     "text": [
      "\r",
      "54% completed"
     ]
    },
    {
     "name": "stderr",
     "output_type": "stream",
     "text": [
      "C:\\Users\\15086\\anaconda3\\envs\\wenqu_gdal\\lib\\site-packages\\sklearn\\cross_decomposition\\_pls.py:503: FutureWarning: The attribute `coef_` will be transposed in version 1.3 to be consistent with other linear models in scikit-learn. Currently, `coef_` has a shape of (n_features, n_targets) and in the future it will have a shape of (n_targets, n_features).\n",
      "  warnings.warn(\n"
     ]
    },
    {
     "name": "stdout",
     "output_type": "stream",
     "text": [
      "\r",
      "56% completed"
     ]
    },
    {
     "name": "stderr",
     "output_type": "stream",
     "text": [
      "C:\\Users\\15086\\anaconda3\\envs\\wenqu_gdal\\lib\\site-packages\\sklearn\\cross_decomposition\\_pls.py:503: FutureWarning: The attribute `coef_` will be transposed in version 1.3 to be consistent with other linear models in scikit-learn. Currently, `coef_` has a shape of (n_features, n_targets) and in the future it will have a shape of (n_targets, n_features).\n",
      "  warnings.warn(\n"
     ]
    },
    {
     "name": "stdout",
     "output_type": "stream",
     "text": [
      "\r",
      "58% completed"
     ]
    },
    {
     "name": "stderr",
     "output_type": "stream",
     "text": [
      "C:\\Users\\15086\\anaconda3\\envs\\wenqu_gdal\\lib\\site-packages\\sklearn\\cross_decomposition\\_pls.py:503: FutureWarning: The attribute `coef_` will be transposed in version 1.3 to be consistent with other linear models in scikit-learn. Currently, `coef_` has a shape of (n_features, n_targets) and in the future it will have a shape of (n_targets, n_features).\n",
      "  warnings.warn(\n"
     ]
    },
    {
     "name": "stdout",
     "output_type": "stream",
     "text": [
      "\r",
      "60% completed"
     ]
    },
    {
     "name": "stderr",
     "output_type": "stream",
     "text": [
      "C:\\Users\\15086\\anaconda3\\envs\\wenqu_gdal\\lib\\site-packages\\sklearn\\cross_decomposition\\_pls.py:503: FutureWarning: The attribute `coef_` will be transposed in version 1.3 to be consistent with other linear models in scikit-learn. Currently, `coef_` has a shape of (n_features, n_targets) and in the future it will have a shape of (n_targets, n_features).\n",
      "  warnings.warn(\n"
     ]
    },
    {
     "name": "stdout",
     "output_type": "stream",
     "text": [
      "\r",
      "62% completed"
     ]
    },
    {
     "name": "stderr",
     "output_type": "stream",
     "text": [
      "C:\\Users\\15086\\anaconda3\\envs\\wenqu_gdal\\lib\\site-packages\\sklearn\\cross_decomposition\\_pls.py:503: FutureWarning: The attribute `coef_` will be transposed in version 1.3 to be consistent with other linear models in scikit-learn. Currently, `coef_` has a shape of (n_features, n_targets) and in the future it will have a shape of (n_targets, n_features).\n",
      "  warnings.warn(\n"
     ]
    },
    {
     "name": "stdout",
     "output_type": "stream",
     "text": [
      "\r",
      "64% completed"
     ]
    },
    {
     "name": "stderr",
     "output_type": "stream",
     "text": [
      "C:\\Users\\15086\\anaconda3\\envs\\wenqu_gdal\\lib\\site-packages\\sklearn\\cross_decomposition\\_pls.py:503: FutureWarning: The attribute `coef_` will be transposed in version 1.3 to be consistent with other linear models in scikit-learn. Currently, `coef_` has a shape of (n_features, n_targets) and in the future it will have a shape of (n_targets, n_features).\n",
      "  warnings.warn(\n"
     ]
    },
    {
     "name": "stdout",
     "output_type": "stream",
     "text": [
      "\r",
      "66% completed"
     ]
    },
    {
     "name": "stderr",
     "output_type": "stream",
     "text": [
      "C:\\Users\\15086\\anaconda3\\envs\\wenqu_gdal\\lib\\site-packages\\sklearn\\cross_decomposition\\_pls.py:503: FutureWarning: The attribute `coef_` will be transposed in version 1.3 to be consistent with other linear models in scikit-learn. Currently, `coef_` has a shape of (n_features, n_targets) and in the future it will have a shape of (n_targets, n_features).\n",
      "  warnings.warn(\n"
     ]
    },
    {
     "name": "stdout",
     "output_type": "stream",
     "text": [
      "\r",
      "68% completed"
     ]
    },
    {
     "name": "stderr",
     "output_type": "stream",
     "text": [
      "C:\\Users\\15086\\anaconda3\\envs\\wenqu_gdal\\lib\\site-packages\\sklearn\\cross_decomposition\\_pls.py:503: FutureWarning: The attribute `coef_` will be transposed in version 1.3 to be consistent with other linear models in scikit-learn. Currently, `coef_` has a shape of (n_features, n_targets) and in the future it will have a shape of (n_targets, n_features).\n",
      "  warnings.warn(\n"
     ]
    },
    {
     "name": "stdout",
     "output_type": "stream",
     "text": [
      "\r",
      "70% completed"
     ]
    },
    {
     "name": "stderr",
     "output_type": "stream",
     "text": [
      "C:\\Users\\15086\\anaconda3\\envs\\wenqu_gdal\\lib\\site-packages\\sklearn\\cross_decomposition\\_pls.py:503: FutureWarning: The attribute `coef_` will be transposed in version 1.3 to be consistent with other linear models in scikit-learn. Currently, `coef_` has a shape of (n_features, n_targets) and in the future it will have a shape of (n_targets, n_features).\n",
      "  warnings.warn(\n"
     ]
    },
    {
     "name": "stdout",
     "output_type": "stream",
     "text": [
      "\r",
      "72% completed"
     ]
    },
    {
     "name": "stderr",
     "output_type": "stream",
     "text": [
      "C:\\Users\\15086\\anaconda3\\envs\\wenqu_gdal\\lib\\site-packages\\sklearn\\cross_decomposition\\_pls.py:503: FutureWarning: The attribute `coef_` will be transposed in version 1.3 to be consistent with other linear models in scikit-learn. Currently, `coef_` has a shape of (n_features, n_targets) and in the future it will have a shape of (n_targets, n_features).\n",
      "  warnings.warn(\n"
     ]
    },
    {
     "name": "stdout",
     "output_type": "stream",
     "text": [
      "\r",
      "74% completed"
     ]
    },
    {
     "name": "stderr",
     "output_type": "stream",
     "text": [
      "C:\\Users\\15086\\anaconda3\\envs\\wenqu_gdal\\lib\\site-packages\\sklearn\\cross_decomposition\\_pls.py:503: FutureWarning: The attribute `coef_` will be transposed in version 1.3 to be consistent with other linear models in scikit-learn. Currently, `coef_` has a shape of (n_features, n_targets) and in the future it will have a shape of (n_targets, n_features).\n",
      "  warnings.warn(\n"
     ]
    },
    {
     "name": "stdout",
     "output_type": "stream",
     "text": [
      "\r",
      "76% completed"
     ]
    },
    {
     "name": "stderr",
     "output_type": "stream",
     "text": [
      "C:\\Users\\15086\\anaconda3\\envs\\wenqu_gdal\\lib\\site-packages\\sklearn\\cross_decomposition\\_pls.py:503: FutureWarning: The attribute `coef_` will be transposed in version 1.3 to be consistent with other linear models in scikit-learn. Currently, `coef_` has a shape of (n_features, n_targets) and in the future it will have a shape of (n_targets, n_features).\n",
      "  warnings.warn(\n"
     ]
    },
    {
     "name": "stdout",
     "output_type": "stream",
     "text": [
      "\r",
      "78% completed"
     ]
    },
    {
     "name": "stderr",
     "output_type": "stream",
     "text": [
      "C:\\Users\\15086\\anaconda3\\envs\\wenqu_gdal\\lib\\site-packages\\sklearn\\cross_decomposition\\_pls.py:503: FutureWarning: The attribute `coef_` will be transposed in version 1.3 to be consistent with other linear models in scikit-learn. Currently, `coef_` has a shape of (n_features, n_targets) and in the future it will have a shape of (n_targets, n_features).\n",
      "  warnings.warn(\n"
     ]
    },
    {
     "name": "stdout",
     "output_type": "stream",
     "text": [
      "\r",
      "80% completed"
     ]
    },
    {
     "name": "stderr",
     "output_type": "stream",
     "text": [
      "C:\\Users\\15086\\anaconda3\\envs\\wenqu_gdal\\lib\\site-packages\\sklearn\\cross_decomposition\\_pls.py:503: FutureWarning: The attribute `coef_` will be transposed in version 1.3 to be consistent with other linear models in scikit-learn. Currently, `coef_` has a shape of (n_features, n_targets) and in the future it will have a shape of (n_targets, n_features).\n",
      "  warnings.warn(\n"
     ]
    },
    {
     "name": "stdout",
     "output_type": "stream",
     "text": [
      "\r",
      "82% completed"
     ]
    },
    {
     "name": "stderr",
     "output_type": "stream",
     "text": [
      "C:\\Users\\15086\\anaconda3\\envs\\wenqu_gdal\\lib\\site-packages\\sklearn\\cross_decomposition\\_pls.py:503: FutureWarning: The attribute `coef_` will be transposed in version 1.3 to be consistent with other linear models in scikit-learn. Currently, `coef_` has a shape of (n_features, n_targets) and in the future it will have a shape of (n_targets, n_features).\n",
      "  warnings.warn(\n"
     ]
    },
    {
     "name": "stdout",
     "output_type": "stream",
     "text": [
      "\r",
      "84% completed"
     ]
    },
    {
     "name": "stderr",
     "output_type": "stream",
     "text": [
      "C:\\Users\\15086\\anaconda3\\envs\\wenqu_gdal\\lib\\site-packages\\sklearn\\cross_decomposition\\_pls.py:503: FutureWarning: The attribute `coef_` will be transposed in version 1.3 to be consistent with other linear models in scikit-learn. Currently, `coef_` has a shape of (n_features, n_targets) and in the future it will have a shape of (n_targets, n_features).\n",
      "  warnings.warn(\n"
     ]
    },
    {
     "name": "stdout",
     "output_type": "stream",
     "text": [
      "\r",
      "86% completed"
     ]
    },
    {
     "name": "stderr",
     "output_type": "stream",
     "text": [
      "C:\\Users\\15086\\anaconda3\\envs\\wenqu_gdal\\lib\\site-packages\\sklearn\\cross_decomposition\\_pls.py:503: FutureWarning: The attribute `coef_` will be transposed in version 1.3 to be consistent with other linear models in scikit-learn. Currently, `coef_` has a shape of (n_features, n_targets) and in the future it will have a shape of (n_targets, n_features).\n",
      "  warnings.warn(\n"
     ]
    },
    {
     "name": "stdout",
     "output_type": "stream",
     "text": [
      "\r",
      "88% completed"
     ]
    },
    {
     "name": "stderr",
     "output_type": "stream",
     "text": [
      "C:\\Users\\15086\\anaconda3\\envs\\wenqu_gdal\\lib\\site-packages\\sklearn\\cross_decomposition\\_pls.py:503: FutureWarning: The attribute `coef_` will be transposed in version 1.3 to be consistent with other linear models in scikit-learn. Currently, `coef_` has a shape of (n_features, n_targets) and in the future it will have a shape of (n_targets, n_features).\n",
      "  warnings.warn(\n"
     ]
    },
    {
     "name": "stdout",
     "output_type": "stream",
     "text": [
      "\r",
      "90% completed"
     ]
    },
    {
     "name": "stderr",
     "output_type": "stream",
     "text": [
      "C:\\Users\\15086\\anaconda3\\envs\\wenqu_gdal\\lib\\site-packages\\sklearn\\cross_decomposition\\_pls.py:503: FutureWarning: The attribute `coef_` will be transposed in version 1.3 to be consistent with other linear models in scikit-learn. Currently, `coef_` has a shape of (n_features, n_targets) and in the future it will have a shape of (n_targets, n_features).\n",
      "  warnings.warn(\n"
     ]
    },
    {
     "name": "stdout",
     "output_type": "stream",
     "text": [
      "\r",
      "92% completed"
     ]
    },
    {
     "name": "stderr",
     "output_type": "stream",
     "text": [
      "C:\\Users\\15086\\anaconda3\\envs\\wenqu_gdal\\lib\\site-packages\\sklearn\\cross_decomposition\\_pls.py:503: FutureWarning: The attribute `coef_` will be transposed in version 1.3 to be consistent with other linear models in scikit-learn. Currently, `coef_` has a shape of (n_features, n_targets) and in the future it will have a shape of (n_targets, n_features).\n",
      "  warnings.warn(\n"
     ]
    },
    {
     "name": "stdout",
     "output_type": "stream",
     "text": [
      "\r",
      "94% completed"
     ]
    },
    {
     "name": "stderr",
     "output_type": "stream",
     "text": [
      "C:\\Users\\15086\\anaconda3\\envs\\wenqu_gdal\\lib\\site-packages\\sklearn\\cross_decomposition\\_pls.py:503: FutureWarning: The attribute `coef_` will be transposed in version 1.3 to be consistent with other linear models in scikit-learn. Currently, `coef_` has a shape of (n_features, n_targets) and in the future it will have a shape of (n_targets, n_features).\n",
      "  warnings.warn(\n"
     ]
    },
    {
     "name": "stdout",
     "output_type": "stream",
     "text": [
      "\r",
      "96% completed"
     ]
    },
    {
     "name": "stderr",
     "output_type": "stream",
     "text": [
      "C:\\Users\\15086\\anaconda3\\envs\\wenqu_gdal\\lib\\site-packages\\sklearn\\cross_decomposition\\_pls.py:503: FutureWarning: The attribute `coef_` will be transposed in version 1.3 to be consistent with other linear models in scikit-learn. Currently, `coef_` has a shape of (n_features, n_targets) and in the future it will have a shape of (n_targets, n_features).\n",
      "  warnings.warn(\n"
     ]
    },
    {
     "name": "stdout",
     "output_type": "stream",
     "text": [
      "\r",
      "98% completed"
     ]
    },
    {
     "name": "stderr",
     "output_type": "stream",
     "text": [
      "C:\\Users\\15086\\anaconda3\\envs\\wenqu_gdal\\lib\\site-packages\\sklearn\\cross_decomposition\\_pls.py:503: FutureWarning: The attribute `coef_` will be transposed in version 1.3 to be consistent with other linear models in scikit-learn. Currently, `coef_` has a shape of (n_features, n_targets) and in the future it will have a shape of (n_targets, n_features).\n",
      "  warnings.warn(\n",
      "C:\\Users\\15086\\anaconda3\\envs\\wenqu_gdal\\lib\\site-packages\\sklearn\\cross_decomposition\\_pls.py:300: UserWarning: Y residual is constant at iteration 49\n",
      "  warnings.warn(f\"Y residual is constant at iteration {k}\")\n"
     ]
    },
    {
     "name": "stdout",
     "output_type": "stream",
     "text": [
      "100% completed\n",
      "Optimised number of PLS components:  24\n",
      "Wavelengths to be keeped  68\n",
      "Optimised MSEP  0.03515508113329058\n",
      "\n"
     ]
    },
    {
     "name": "stderr",
     "output_type": "stream",
     "text": [
      "C:\\Users\\15086\\anaconda3\\envs\\wenqu_gdal\\lib\\site-packages\\sklearn\\cross_decomposition\\_pls.py:503: FutureWarning: The attribute `coef_` will be transposed in version 1.3 to be consistent with other linear models in scikit-learn. Currently, `coef_` has a shape of (n_features, n_targets) and in the future it will have a shape of (n_targets, n_features).\n",
      "  warnings.warn(\n"
     ]
    }
   ],
   "source": [
    "opt_Xc_pc, ncomp_pc, wav_pc, sorted_ind_pc = pls_variable_selection(x_pc, log_y_weighted_pc, 50)"
   ]
  },
  {
   "cell_type": "code",
   "execution_count": 36,
   "id": "645d6340",
   "metadata": {
    "scrolled": true
   },
   "outputs": [
    {
     "name": "stdout",
     "output_type": "stream",
     "text": [
      "R2 calib: 0.994\n",
      "R2 CV: 0.638\n",
      "RMSE calib: 0.004\n",
      "RMSE CV: 0.030\n",
      "[0.92885082] [0.75682654]\n",
      "0 site1b [3.72347787] 3.768440552909456\n",
      "1 site1b [3.69059386] 3.6641177043211433\n",
      "2 site1b [3.87396779] 3.906515899116689\n",
      "3 site1b [3.81387946] 3.8317988766154567\n",
      "4 site1b [3.80380817] 3.793884463862024\n",
      "5 site1b [3.82758945] 3.8146278285072004\n",
      "6 site1b [3.76868402] 3.8050286635806776\n",
      "7 site1b [3.86381055] 3.8819079416058115\n",
      "8 site1b [3.84473631] 3.8644394221771052\n",
      "9 site1b [3.83916963] 3.8591480085980128\n",
      "10 site1b [3.83672317] 3.8485616943980485\n",
      "11 site1b [3.84644074] 3.8681115429961737\n",
      "12 site1b [3.79225694] 3.831202929482173\n",
      "13 site1b [3.82625359] 3.8452963151403616\n",
      "14 site1b [3.82462843] 3.837860041947044\n",
      "15 site1b [3.79207368] 3.8329096934659193\n",
      "16 site1b [3.80519781] 3.7940074992025736\n",
      "17 site1b [3.82991496] 3.8210019790002216\n",
      "18 site1b [3.8476049] 3.883400616968332\n",
      "19 site1b [3.77405718] 3.700152974512112\n",
      "20 site1b [3.82925943] 3.7984467803977133\n",
      "21 site1b [3.79440928] 3.8176941205164616\n",
      "22 site1b [3.80365] 3.8195773928905496\n",
      "23 site1b [3.84804212] 3.8712286388595687\n",
      "24 site2a [3.84958701] 3.837619941492973\n",
      "25 site2a [3.76940305] 3.8304436195525424\n",
      "26 site2a [3.87124465] 3.80033042583396\n",
      "27 site2a [3.84558993] 3.868561794989431\n",
      "28 site2a [3.79047773] 3.7569093827201723\n",
      "29 site2a [3.80128887] 3.8344564884124863\n",
      "30 site2a [3.77585799] 3.7908408384901158\n",
      "31 site2a [3.86862275] 3.82029786890977\n",
      "32 site2a [3.83625843] 3.8259628430177224\n",
      "33 site2a [3.86953804] 3.901453023470881\n",
      "34 site2a [3.75840177] 3.7585868671552567\n",
      "35 site2a [3.82523324] 3.8123617293185585\n",
      "36 site2a [3.79614525] 3.740813431795108\n",
      "37 site2a [3.83885761] 3.8615538334636677\n",
      "38 site2a [3.83592822] 3.8503151229967334\n",
      "39 site2a [3.90424146] 3.872990694094127\n",
      "40 site2a [3.80321168] 3.80846153873306\n",
      "41 site2a [3.85551314] 3.837357974761522\n",
      "42 site2a [3.95362413] 3.882526216731722\n",
      "43 site2a [3.86357412] 3.854214199964706\n",
      "44 site2a [3.74011626] 3.756384058714257\n",
      "45 site2a [3.81910475] 3.82816270128065\n",
      "46 site2a [3.74461111] 3.7489329674672094\n",
      "47 site2a [3.80536683] 3.8042036221203577\n",
      "48 site2a [3.82082052] 3.8007741130357084\n",
      "49 site2a [3.69445019] 3.6855318187801798\n",
      "50 site2a [3.8174701] 3.8338137872350324\n",
      "51 site2c [3.8209479] 3.8330432887128136\n",
      "52 site2c [3.83838234] 3.8318819660368715\n",
      "53 site2c [3.85879209] 3.855523918913571\n",
      "54 site2c [3.86537751] 3.8822876651666824\n",
      "55 site2c [3.82753776] 3.813735853115061\n",
      "56 site6 [3.79425396] 3.8187355556853606\n",
      "57 site6 [3.78860934] 3.755052850848189\n",
      "58 site6 [3.75271773] 3.7548991293634915\n",
      "59 site6 [3.79397568] 3.7704594576962207\n",
      "60 site6 [3.83457021] 3.7963964509688637\n",
      "61 site6 [3.874951] 3.8378294678907343\n",
      "62 site6 [3.82780647] 3.7846927943572686\n"
     ]
    },
    {
     "data": {
      "image/png": "[encoded data removed]",
      "text/plain": [
       "<Figure size 900x500 with 1 Axes>"
      ]
     },
     "metadata": {},
     "output_type": "display_data"
    }
   ],
   "source": [
    "file_name_pc = 'F:/wenqu/result/pc1.csv'\n",
    "simple_pls_cv(opt_Xc_pc, log_y_weighted_pc, ncomp_pc, labels_pc,file_name_pc)"
   ]
  },
  {
   "cell_type": "code",
   "execution_count": 37,
   "id": "12299ec0",
   "metadata": {},
   "outputs": [
    {
     "name": "stdout",
     "output_type": "stream",
     "text": [
      "(68,) (68,)\n"
     ]
    },
    {
     "name": "stderr",
     "output_type": "stream",
     "text": [
      "C:\\Users\\15086\\anaconda3\\envs\\wenqu_gdal\\lib\\site-packages\\sklearn\\cross_decomposition\\_pls.py:503: FutureWarning: The attribute `coef_` will be transposed in version 1.3 to be consistent with other linear models in scikit-learn. Currently, `coef_` has a shape of (n_features, n_targets) and in the future it will have a shape of (n_targets, n_features).\n",
      "  warnings.warn(\n"
     ]
    }
   ],
   "source": [
    "optimal_pls_pc  = PLSRegression(n_components=24)\n",
    "optimal_pls_pc.fit(opt_Xc_pc, log_y_weighted_pc)\n",
    "\n",
    "coefficients = optimal_pls_pc.coef_[:,0]\n",
    "bands = band_name[sorted_ind_pc][wav_pc:]\n",
    "\n",
    "print(coefficients.shape, bands.shape)"
   ]
  },
  {
   "cell_type": "code",
   "execution_count": 39,
   "id": "167ff29c",
   "metadata": {},
   "outputs": [
    {
     "name": "stdout",
     "output_type": "stream",
     "text": [
      "pc_trait = 0.029148*data_dict['b52_std'] + 0.046455*data_dict['b22_mean'] + 0.088721*data_dict['b60_mean'] + 0.064071*data_dict['b113_std'] + -0.035357*data_dict['b9_mean'] + -0.032452*data_dict['b122_std'] + 0.008260*data_dict['b51_std'] + -0.038128*data_dict['b11_std'] + -0.042183*data_dict['b47_std'] + -0.030874*data_dict['b123_mean'] + -0.085464*data_dict['b103_mean'] + -0.005733*data_dict['b29_std'] + -0.001956*data_dict['b4_mean'] + 0.028279*data_dict['b14_mean'] + 0.080359*data_dict['b60_std'] + -0.049529*data_dict['b56_std'] + -0.077376*data_dict['b94_std'] + 0.056507*data_dict['b109_std'] + 0.026119*data_dict['b19_std'] + 0.047157*data_dict['b7_mean'] + 0.018890*data_dict['b19_mean'] + -0.065580*data_dict['b104_std'] + -0.063295*data_dict['b118_mean'] + 0.101895*data_dict['b24_mean'] + -0.025674*data_dict['b67_std'] + -0.037672*data_dict['b68_std'] + -0.078852*data_dict['b16_mean'] + 0.014859*data_dict['b17_std'] + -0.045272*data_dict['b98_std'] + 0.054691*data_dict['b84_std'] + -0.023603*data_dict['b122_mean'] + 0.046197*data_dict['b63_std'] + -0.071121*data_dict['b45_std'] + 0.007617*data_dict['b12_std'] + -0.054991*data_dict['b1_mean'] + -0.021436*data_dict['b97_std'] + -0.035490*data_dict['b8_std'] + -0.114794*data_dict['b46_mean'] + 0.089735*data_dict['b86_std'] + 0.088469*data_dict['b39_std'] + -0.021379*data_dict['b32_std'] + 0.070591*data_dict['b121_std'] + 0.070782*data_dict['b11_mean'] + -0.085963*data_dict['b48_mean'] + 0.017870*data_dict['b20_std'] + -0.046962*data_dict['b10_mean'] + 0.032653*data_dict['b24_std'] + 0.011998*data_dict['b108_std'] + 0.162864*data_dict['b114_mean'] + -0.016603*data_dict['b108_mean'] + 0.037134*data_dict['b1_std'] + 0.037771*data_dict['b85_std'] + 0.035977*data_dict['b20_mean'] + 0.066059*data_dict['b6_mean'] + 0.073350*data_dict['b37_std'] + 0.017827*data_dict['b25_std'] + -0.106598*data_dict['b8_mean'] + 0.015172*data_dict['b23_std'] + -0.126571*data_dict['b31_std'] + -0.067696*data_dict['b42_std'] + 0.031788*data_dict['b5_mean'] + -0.060664*data_dict['b46_std'] + -0.056598*data_dict['b9_std'] + 0.041397*data_dict['b111_std'] + 0.090556*data_dict['b15_std'] + 0.203113*data_dict['b107_std'] + -0.101972*data_dict['b119_std'] + -0.185983*data_dict['b117_std'] + 3.843167\n"
     ]
    }
   ],
   "source": [
    "\n",
    "# Compute the intercept using means of X and y\n",
    "x_mean = opt_Xc_pc.mean(axis=0)\n",
    "y_mean = log_y_weighted_pc.mean()\n",
    "\n",
    "intercept_pc = y_mean - np.dot(x_mean, coefficients)\n",
    "\n",
    "linear_equation = \"pc_trait = \"\n",
    "\n",
    "for coef, predictor in zip(coefficients, bands):\n",
    "    linear_equation += \"{:.6f}*data_dict['{}'] + \".format(coef, predictor)\n",
    "\n",
    "# Adding the intercept to the end\n",
    "linear_equation += \"{:.6f}\".format(intercept_pc)\n",
    "\n",
    "print(linear_equation)"
   ]
  },
  {
   "cell_type": "code",
   "execution_count": null,
   "id": "b57c11f1",
   "metadata": {},
   "outputs": [],
   "source": []
  },
  {
   "cell_type": "code",
   "execution_count": null,
   "id": "3e35efef",
   "metadata": {},
   "outputs": [],
   "source": []
  },
  {
   "cell_type": "markdown",
   "id": "655301f2",
   "metadata": {},
   "source": [
    "# d13c"
   ]
  },
  {
   "cell_type": "code",
   "execution_count": 25,
   "id": "efd43d62",
   "metadata": {
    "scrolled": true
   },
   "outputs": [
    {
     "name": "stderr",
     "output_type": "stream",
     "text": [
      "C:\\Users\\15086\\anaconda3\\envs\\wenqu_gdal\\lib\\site-packages\\sklearn\\cross_decomposition\\_pls.py:503: FutureWarning: The attribute `coef_` will be transposed in version 1.3 to be consistent with other linear models in scikit-learn. Currently, `coef_` has a shape of (n_features, n_targets) and in the future it will have a shape of (n_targets, n_features).\n",
      "  warnings.warn(\n"
     ]
    },
    {
     "name": "stdout",
     "output_type": "stream",
     "text": [
      "\r",
      "2% completed"
     ]
    },
    {
     "name": "stderr",
     "output_type": "stream",
     "text": [
      "C:\\Users\\15086\\anaconda3\\envs\\wenqu_gdal\\lib\\site-packages\\sklearn\\cross_decomposition\\_pls.py:503: FutureWarning: The attribute `coef_` will be transposed in version 1.3 to be consistent with other linear models in scikit-learn. Currently, `coef_` has a shape of (n_features, n_targets) and in the future it will have a shape of (n_targets, n_features).\n",
      "  warnings.warn(\n"
     ]
    },
    {
     "name": "stdout",
     "output_type": "stream",
     "text": [
      "\r",
      "4% completed"
     ]
    },
    {
     "name": "stderr",
     "output_type": "stream",
     "text": [
      "C:\\Users\\15086\\anaconda3\\envs\\wenqu_gdal\\lib\\site-packages\\sklearn\\cross_decomposition\\_pls.py:503: FutureWarning: The attribute `coef_` will be transposed in version 1.3 to be consistent with other linear models in scikit-learn. Currently, `coef_` has a shape of (n_features, n_targets) and in the future it will have a shape of (n_targets, n_features).\n",
      "  warnings.warn(\n"
     ]
    },
    {
     "name": "stdout",
     "output_type": "stream",
     "text": [
      "\r",
      "6% completed"
     ]
    },
    {
     "name": "stderr",
     "output_type": "stream",
     "text": [
      "C:\\Users\\15086\\anaconda3\\envs\\wenqu_gdal\\lib\\site-packages\\sklearn\\cross_decomposition\\_pls.py:503: FutureWarning: The attribute `coef_` will be transposed in version 1.3 to be consistent with other linear models in scikit-learn. Currently, `coef_` has a shape of (n_features, n_targets) and in the future it will have a shape of (n_targets, n_features).\n",
      "  warnings.warn(\n"
     ]
    },
    {
     "name": "stdout",
     "output_type": "stream",
     "text": [
      "\r",
      "8% completed"
     ]
    },
    {
     "name": "stderr",
     "output_type": "stream",
     "text": [
      "C:\\Users\\15086\\anaconda3\\envs\\wenqu_gdal\\lib\\site-packages\\sklearn\\cross_decomposition\\_pls.py:503: FutureWarning: The attribute `coef_` will be transposed in version 1.3 to be consistent with other linear models in scikit-learn. Currently, `coef_` has a shape of (n_features, n_targets) and in the future it will have a shape of (n_targets, n_features).\n",
      "  warnings.warn(\n"
     ]
    },
    {
     "name": "stdout",
     "output_type": "stream",
     "text": [
      "\r",
      "10% completed"
     ]
    },
    {
     "name": "stderr",
     "output_type": "stream",
     "text": [
      "C:\\Users\\15086\\anaconda3\\envs\\wenqu_gdal\\lib\\site-packages\\sklearn\\cross_decomposition\\_pls.py:503: FutureWarning: The attribute `coef_` will be transposed in version 1.3 to be consistent with other linear models in scikit-learn. Currently, `coef_` has a shape of (n_features, n_targets) and in the future it will have a shape of (n_targets, n_features).\n",
      "  warnings.warn(\n"
     ]
    },
    {
     "name": "stdout",
     "output_type": "stream",
     "text": [
      "\r",
      "12% completed"
     ]
    },
    {
     "name": "stderr",
     "output_type": "stream",
     "text": [
      "C:\\Users\\15086\\anaconda3\\envs\\wenqu_gdal\\lib\\site-packages\\sklearn\\cross_decomposition\\_pls.py:503: FutureWarning: The attribute `coef_` will be transposed in version 1.3 to be consistent with other linear models in scikit-learn. Currently, `coef_` has a shape of (n_features, n_targets) and in the future it will have a shape of (n_targets, n_features).\n",
      "  warnings.warn(\n"
     ]
    },
    {
     "name": "stdout",
     "output_type": "stream",
     "text": [
      "\r",
      "14% completed"
     ]
    },
    {
     "name": "stderr",
     "output_type": "stream",
     "text": [
      "C:\\Users\\15086\\anaconda3\\envs\\wenqu_gdal\\lib\\site-packages\\sklearn\\cross_decomposition\\_pls.py:503: FutureWarning: The attribute `coef_` will be transposed in version 1.3 to be consistent with other linear models in scikit-learn. Currently, `coef_` has a shape of (n_features, n_targets) and in the future it will have a shape of (n_targets, n_features).\n",
      "  warnings.warn(\n"
     ]
    },
    {
     "name": "stdout",
     "output_type": "stream",
     "text": [
      "\r",
      "16% completed"
     ]
    },
    {
     "name": "stderr",
     "output_type": "stream",
     "text": [
      "C:\\Users\\15086\\anaconda3\\envs\\wenqu_gdal\\lib\\site-packages\\sklearn\\cross_decomposition\\_pls.py:503: FutureWarning: The attribute `coef_` will be transposed in version 1.3 to be consistent with other linear models in scikit-learn. Currently, `coef_` has a shape of (n_features, n_targets) and in the future it will have a shape of (n_targets, n_features).\n",
      "  warnings.warn(\n"
     ]
    },
    {
     "name": "stdout",
     "output_type": "stream",
     "text": [
      "\r",
      "18% completed"
     ]
    },
    {
     "name": "stderr",
     "output_type": "stream",
     "text": [
      "C:\\Users\\15086\\anaconda3\\envs\\wenqu_gdal\\lib\\site-packages\\sklearn\\cross_decomposition\\_pls.py:503: FutureWarning: The attribute `coef_` will be transposed in version 1.3 to be consistent with other linear models in scikit-learn. Currently, `coef_` has a shape of (n_features, n_targets) and in the future it will have a shape of (n_targets, n_features).\n",
      "  warnings.warn(\n"
     ]
    },
    {
     "name": "stdout",
     "output_type": "stream",
     "text": [
      "\r",
      "20% completed"
     ]
    },
    {
     "name": "stderr",
     "output_type": "stream",
     "text": [
      "C:\\Users\\15086\\anaconda3\\envs\\wenqu_gdal\\lib\\site-packages\\sklearn\\cross_decomposition\\_pls.py:503: FutureWarning: The attribute `coef_` will be transposed in version 1.3 to be consistent with other linear models in scikit-learn. Currently, `coef_` has a shape of (n_features, n_targets) and in the future it will have a shape of (n_targets, n_features).\n",
      "  warnings.warn(\n"
     ]
    },
    {
     "name": "stdout",
     "output_type": "stream",
     "text": [
      "\r",
      "22% completed"
     ]
    },
    {
     "name": "stderr",
     "output_type": "stream",
     "text": [
      "C:\\Users\\15086\\anaconda3\\envs\\wenqu_gdal\\lib\\site-packages\\sklearn\\cross_decomposition\\_pls.py:503: FutureWarning: The attribute `coef_` will be transposed in version 1.3 to be consistent with other linear models in scikit-learn. Currently, `coef_` has a shape of (n_features, n_targets) and in the future it will have a shape of (n_targets, n_features).\n",
      "  warnings.warn(\n"
     ]
    },
    {
     "name": "stdout",
     "output_type": "stream",
     "text": [
      "\r",
      "24% completed"
     ]
    },
    {
     "name": "stderr",
     "output_type": "stream",
     "text": [
      "C:\\Users\\15086\\anaconda3\\envs\\wenqu_gdal\\lib\\site-packages\\sklearn\\cross_decomposition\\_pls.py:503: FutureWarning: The attribute `coef_` will be transposed in version 1.3 to be consistent with other linear models in scikit-learn. Currently, `coef_` has a shape of (n_features, n_targets) and in the future it will have a shape of (n_targets, n_features).\n",
      "  warnings.warn(\n"
     ]
    },
    {
     "name": "stdout",
     "output_type": "stream",
     "text": [
      "\r",
      "26% completed"
     ]
    },
    {
     "name": "stderr",
     "output_type": "stream",
     "text": [
      "C:\\Users\\15086\\anaconda3\\envs\\wenqu_gdal\\lib\\site-packages\\sklearn\\cross_decomposition\\_pls.py:503: FutureWarning: The attribute `coef_` will be transposed in version 1.3 to be consistent with other linear models in scikit-learn. Currently, `coef_` has a shape of (n_features, n_targets) and in the future it will have a shape of (n_targets, n_features).\n",
      "  warnings.warn(\n"
     ]
    },
    {
     "name": "stdout",
     "output_type": "stream",
     "text": [
      "\r",
      "28% completed"
     ]
    },
    {
     "name": "stderr",
     "output_type": "stream",
     "text": [
      "C:\\Users\\15086\\anaconda3\\envs\\wenqu_gdal\\lib\\site-packages\\sklearn\\cross_decomposition\\_pls.py:503: FutureWarning: The attribute `coef_` will be transposed in version 1.3 to be consistent with other linear models in scikit-learn. Currently, `coef_` has a shape of (n_features, n_targets) and in the future it will have a shape of (n_targets, n_features).\n",
      "  warnings.warn(\n"
     ]
    },
    {
     "name": "stdout",
     "output_type": "stream",
     "text": [
      "\r",
      "30% completed"
     ]
    },
    {
     "name": "stderr",
     "output_type": "stream",
     "text": [
      "C:\\Users\\15086\\anaconda3\\envs\\wenqu_gdal\\lib\\site-packages\\sklearn\\cross_decomposition\\_pls.py:503: FutureWarning: The attribute `coef_` will be transposed in version 1.3 to be consistent with other linear models in scikit-learn. Currently, `coef_` has a shape of (n_features, n_targets) and in the future it will have a shape of (n_targets, n_features).\n",
      "  warnings.warn(\n"
     ]
    },
    {
     "name": "stdout",
     "output_type": "stream",
     "text": [
      "\r",
      "32% completed"
     ]
    },
    {
     "name": "stderr",
     "output_type": "stream",
     "text": [
      "C:\\Users\\15086\\anaconda3\\envs\\wenqu_gdal\\lib\\site-packages\\sklearn\\cross_decomposition\\_pls.py:503: FutureWarning: The attribute `coef_` will be transposed in version 1.3 to be consistent with other linear models in scikit-learn. Currently, `coef_` has a shape of (n_features, n_targets) and in the future it will have a shape of (n_targets, n_features).\n",
      "  warnings.warn(\n"
     ]
    },
    {
     "name": "stdout",
     "output_type": "stream",
     "text": [
      "\r",
      "34% completed"
     ]
    },
    {
     "name": "stderr",
     "output_type": "stream",
     "text": [
      "C:\\Users\\15086\\anaconda3\\envs\\wenqu_gdal\\lib\\site-packages\\sklearn\\cross_decomposition\\_pls.py:503: FutureWarning: The attribute `coef_` will be transposed in version 1.3 to be consistent with other linear models in scikit-learn. Currently, `coef_` has a shape of (n_features, n_targets) and in the future it will have a shape of (n_targets, n_features).\n",
      "  warnings.warn(\n"
     ]
    },
    {
     "name": "stdout",
     "output_type": "stream",
     "text": [
      "\r",
      "36% completed"
     ]
    },
    {
     "name": "stderr",
     "output_type": "stream",
     "text": [
      "C:\\Users\\15086\\anaconda3\\envs\\wenqu_gdal\\lib\\site-packages\\sklearn\\cross_decomposition\\_pls.py:503: FutureWarning: The attribute `coef_` will be transposed in version 1.3 to be consistent with other linear models in scikit-learn. Currently, `coef_` has a shape of (n_features, n_targets) and in the future it will have a shape of (n_targets, n_features).\n",
      "  warnings.warn(\n"
     ]
    },
    {
     "name": "stdout",
     "output_type": "stream",
     "text": [
      "\r",
      "38% completed"
     ]
    },
    {
     "name": "stderr",
     "output_type": "stream",
     "text": [
      "C:\\Users\\15086\\anaconda3\\envs\\wenqu_gdal\\lib\\site-packages\\sklearn\\cross_decomposition\\_pls.py:503: FutureWarning: The attribute `coef_` will be transposed in version 1.3 to be consistent with other linear models in scikit-learn. Currently, `coef_` has a shape of (n_features, n_targets) and in the future it will have a shape of (n_targets, n_features).\n",
      "  warnings.warn(\n"
     ]
    },
    {
     "name": "stdout",
     "output_type": "stream",
     "text": [
      "\r",
      "40% completed"
     ]
    },
    {
     "name": "stderr",
     "output_type": "stream",
     "text": [
      "C:\\Users\\15086\\anaconda3\\envs\\wenqu_gdal\\lib\\site-packages\\sklearn\\cross_decomposition\\_pls.py:503: FutureWarning: The attribute `coef_` will be transposed in version 1.3 to be consistent with other linear models in scikit-learn. Currently, `coef_` has a shape of (n_features, n_targets) and in the future it will have a shape of (n_targets, n_features).\n",
      "  warnings.warn(\n"
     ]
    },
    {
     "name": "stdout",
     "output_type": "stream",
     "text": [
      "\r",
      "42% completed"
     ]
    },
    {
     "name": "stderr",
     "output_type": "stream",
     "text": [
      "C:\\Users\\15086\\anaconda3\\envs\\wenqu_gdal\\lib\\site-packages\\sklearn\\cross_decomposition\\_pls.py:503: FutureWarning: The attribute `coef_` will be transposed in version 1.3 to be consistent with other linear models in scikit-learn. Currently, `coef_` has a shape of (n_features, n_targets) and in the future it will have a shape of (n_targets, n_features).\n",
      "  warnings.warn(\n"
     ]
    },
    {
     "name": "stdout",
     "output_type": "stream",
     "text": [
      "\r",
      "44% completed"
     ]
    },
    {
     "name": "stderr",
     "output_type": "stream",
     "text": [
      "C:\\Users\\15086\\anaconda3\\envs\\wenqu_gdal\\lib\\site-packages\\sklearn\\cross_decomposition\\_pls.py:503: FutureWarning: The attribute `coef_` will be transposed in version 1.3 to be consistent with other linear models in scikit-learn. Currently, `coef_` has a shape of (n_features, n_targets) and in the future it will have a shape of (n_targets, n_features).\n",
      "  warnings.warn(\n"
     ]
    },
    {
     "name": "stdout",
     "output_type": "stream",
     "text": [
      "\r",
      "46% completed"
     ]
    },
    {
     "name": "stderr",
     "output_type": "stream",
     "text": [
      "C:\\Users\\15086\\anaconda3\\envs\\wenqu_gdal\\lib\\site-packages\\sklearn\\cross_decomposition\\_pls.py:503: FutureWarning: The attribute `coef_` will be transposed in version 1.3 to be consistent with other linear models in scikit-learn. Currently, `coef_` has a shape of (n_features, n_targets) and in the future it will have a shape of (n_targets, n_features).\n",
      "  warnings.warn(\n"
     ]
    },
    {
     "name": "stdout",
     "output_type": "stream",
     "text": [
      "\r",
      "48% completed"
     ]
    },
    {
     "name": "stderr",
     "output_type": "stream",
     "text": [
      "C:\\Users\\15086\\anaconda3\\envs\\wenqu_gdal\\lib\\site-packages\\sklearn\\cross_decomposition\\_pls.py:503: FutureWarning: The attribute `coef_` will be transposed in version 1.3 to be consistent with other linear models in scikit-learn. Currently, `coef_` has a shape of (n_features, n_targets) and in the future it will have a shape of (n_targets, n_features).\n",
      "  warnings.warn(\n"
     ]
    },
    {
     "name": "stdout",
     "output_type": "stream",
     "text": [
      "\r",
      "50% completed"
     ]
    },
    {
     "name": "stderr",
     "output_type": "stream",
     "text": [
      "C:\\Users\\15086\\anaconda3\\envs\\wenqu_gdal\\lib\\site-packages\\sklearn\\cross_decomposition\\_pls.py:503: FutureWarning: The attribute `coef_` will be transposed in version 1.3 to be consistent with other linear models in scikit-learn. Currently, `coef_` has a shape of (n_features, n_targets) and in the future it will have a shape of (n_targets, n_features).\n",
      "  warnings.warn(\n"
     ]
    },
    {
     "name": "stdout",
     "output_type": "stream",
     "text": [
      "\r",
      "52% completed"
     ]
    },
    {
     "name": "stderr",
     "output_type": "stream",
     "text": [
      "C:\\Users\\15086\\anaconda3\\envs\\wenqu_gdal\\lib\\site-packages\\sklearn\\cross_decomposition\\_pls.py:503: FutureWarning: The attribute `coef_` will be transposed in version 1.3 to be consistent with other linear models in scikit-learn. Currently, `coef_` has a shape of (n_features, n_targets) and in the future it will have a shape of (n_targets, n_features).\n",
      "  warnings.warn(\n"
     ]
    },
    {
     "name": "stdout",
     "output_type": "stream",
     "text": [
      "\r",
      "54% completed"
     ]
    },
    {
     "name": "stderr",
     "output_type": "stream",
     "text": [
      "C:\\Users\\15086\\anaconda3\\envs\\wenqu_gdal\\lib\\site-packages\\sklearn\\cross_decomposition\\_pls.py:503: FutureWarning: The attribute `coef_` will be transposed in version 1.3 to be consistent with other linear models in scikit-learn. Currently, `coef_` has a shape of (n_features, n_targets) and in the future it will have a shape of (n_targets, n_features).\n",
      "  warnings.warn(\n"
     ]
    },
    {
     "name": "stdout",
     "output_type": "stream",
     "text": [
      "\r",
      "56% completed"
     ]
    },
    {
     "name": "stderr",
     "output_type": "stream",
     "text": [
      "C:\\Users\\15086\\anaconda3\\envs\\wenqu_gdal\\lib\\site-packages\\sklearn\\cross_decomposition\\_pls.py:503: FutureWarning: The attribute `coef_` will be transposed in version 1.3 to be consistent with other linear models in scikit-learn. Currently, `coef_` has a shape of (n_features, n_targets) and in the future it will have a shape of (n_targets, n_features).\n",
      "  warnings.warn(\n"
     ]
    },
    {
     "name": "stdout",
     "output_type": "stream",
     "text": [
      "\r",
      "58% completed"
     ]
    },
    {
     "name": "stderr",
     "output_type": "stream",
     "text": [
      "C:\\Users\\15086\\anaconda3\\envs\\wenqu_gdal\\lib\\site-packages\\sklearn\\cross_decomposition\\_pls.py:503: FutureWarning: The attribute `coef_` will be transposed in version 1.3 to be consistent with other linear models in scikit-learn. Currently, `coef_` has a shape of (n_features, n_targets) and in the future it will have a shape of (n_targets, n_features).\n",
      "  warnings.warn(\n"
     ]
    },
    {
     "name": "stdout",
     "output_type": "stream",
     "text": [
      "\r",
      "60% completed"
     ]
    },
    {
     "name": "stderr",
     "output_type": "stream",
     "text": [
      "C:\\Users\\15086\\anaconda3\\envs\\wenqu_gdal\\lib\\site-packages\\sklearn\\cross_decomposition\\_pls.py:503: FutureWarning: The attribute `coef_` will be transposed in version 1.3 to be consistent with other linear models in scikit-learn. Currently, `coef_` has a shape of (n_features, n_targets) and in the future it will have a shape of (n_targets, n_features).\n",
      "  warnings.warn(\n"
     ]
    },
    {
     "name": "stdout",
     "output_type": "stream",
     "text": [
      "\r",
      "62% completed"
     ]
    },
    {
     "name": "stderr",
     "output_type": "stream",
     "text": [
      "C:\\Users\\15086\\anaconda3\\envs\\wenqu_gdal\\lib\\site-packages\\sklearn\\cross_decomposition\\_pls.py:503: FutureWarning: The attribute `coef_` will be transposed in version 1.3 to be consistent with other linear models in scikit-learn. Currently, `coef_` has a shape of (n_features, n_targets) and in the future it will have a shape of (n_targets, n_features).\n",
      "  warnings.warn(\n"
     ]
    },
    {
     "name": "stdout",
     "output_type": "stream",
     "text": [
      "\r",
      "64% completed"
     ]
    },
    {
     "name": "stderr",
     "output_type": "stream",
     "text": [
      "C:\\Users\\15086\\anaconda3\\envs\\wenqu_gdal\\lib\\site-packages\\sklearn\\cross_decomposition\\_pls.py:503: FutureWarning: The attribute `coef_` will be transposed in version 1.3 to be consistent with other linear models in scikit-learn. Currently, `coef_` has a shape of (n_features, n_targets) and in the future it will have a shape of (n_targets, n_features).\n",
      "  warnings.warn(\n"
     ]
    },
    {
     "name": "stdout",
     "output_type": "stream",
     "text": [
      "\r",
      "66% completed"
     ]
    },
    {
     "name": "stderr",
     "output_type": "stream",
     "text": [
      "C:\\Users\\15086\\anaconda3\\envs\\wenqu_gdal\\lib\\site-packages\\sklearn\\cross_decomposition\\_pls.py:503: FutureWarning: The attribute `coef_` will be transposed in version 1.3 to be consistent with other linear models in scikit-learn. Currently, `coef_` has a shape of (n_features, n_targets) and in the future it will have a shape of (n_targets, n_features).\n",
      "  warnings.warn(\n"
     ]
    },
    {
     "name": "stdout",
     "output_type": "stream",
     "text": [
      "\r",
      "68% completed"
     ]
    },
    {
     "name": "stderr",
     "output_type": "stream",
     "text": [
      "C:\\Users\\15086\\anaconda3\\envs\\wenqu_gdal\\lib\\site-packages\\sklearn\\cross_decomposition\\_pls.py:503: FutureWarning: The attribute `coef_` will be transposed in version 1.3 to be consistent with other linear models in scikit-learn. Currently, `coef_` has a shape of (n_features, n_targets) and in the future it will have a shape of (n_targets, n_features).\n",
      "  warnings.warn(\n"
     ]
    },
    {
     "name": "stdout",
     "output_type": "stream",
     "text": [
      "\r",
      "70% completed"
     ]
    },
    {
     "name": "stderr",
     "output_type": "stream",
     "text": [
      "C:\\Users\\15086\\anaconda3\\envs\\wenqu_gdal\\lib\\site-packages\\sklearn\\cross_decomposition\\_pls.py:503: FutureWarning: The attribute `coef_` will be transposed in version 1.3 to be consistent with other linear models in scikit-learn. Currently, `coef_` has a shape of (n_features, n_targets) and in the future it will have a shape of (n_targets, n_features).\n",
      "  warnings.warn(\n"
     ]
    },
    {
     "name": "stdout",
     "output_type": "stream",
     "text": [
      "\r",
      "72% completed"
     ]
    },
    {
     "name": "stderr",
     "output_type": "stream",
     "text": [
      "C:\\Users\\15086\\anaconda3\\envs\\wenqu_gdal\\lib\\site-packages\\sklearn\\cross_decomposition\\_pls.py:503: FutureWarning: The attribute `coef_` will be transposed in version 1.3 to be consistent with other linear models in scikit-learn. Currently, `coef_` has a shape of (n_features, n_targets) and in the future it will have a shape of (n_targets, n_features).\n",
      "  warnings.warn(\n"
     ]
    },
    {
     "name": "stdout",
     "output_type": "stream",
     "text": [
      "\r",
      "74% completed"
     ]
    },
    {
     "name": "stderr",
     "output_type": "stream",
     "text": [
      "C:\\Users\\15086\\anaconda3\\envs\\wenqu_gdal\\lib\\site-packages\\sklearn\\cross_decomposition\\_pls.py:503: FutureWarning: The attribute `coef_` will be transposed in version 1.3 to be consistent with other linear models in scikit-learn. Currently, `coef_` has a shape of (n_features, n_targets) and in the future it will have a shape of (n_targets, n_features).\n",
      "  warnings.warn(\n"
     ]
    },
    {
     "name": "stdout",
     "output_type": "stream",
     "text": [
      "\r",
      "76% completed"
     ]
    },
    {
     "name": "stderr",
     "output_type": "stream",
     "text": [
      "C:\\Users\\15086\\anaconda3\\envs\\wenqu_gdal\\lib\\site-packages\\sklearn\\cross_decomposition\\_pls.py:503: FutureWarning: The attribute `coef_` will be transposed in version 1.3 to be consistent with other linear models in scikit-learn. Currently, `coef_` has a shape of (n_features, n_targets) and in the future it will have a shape of (n_targets, n_features).\n",
      "  warnings.warn(\n"
     ]
    },
    {
     "name": "stdout",
     "output_type": "stream",
     "text": [
      "\r",
      "78% completed"
     ]
    },
    {
     "name": "stderr",
     "output_type": "stream",
     "text": [
      "C:\\Users\\15086\\anaconda3\\envs\\wenqu_gdal\\lib\\site-packages\\sklearn\\cross_decomposition\\_pls.py:503: FutureWarning: The attribute `coef_` will be transposed in version 1.3 to be consistent with other linear models in scikit-learn. Currently, `coef_` has a shape of (n_features, n_targets) and in the future it will have a shape of (n_targets, n_features).\n",
      "  warnings.warn(\n"
     ]
    },
    {
     "name": "stdout",
     "output_type": "stream",
     "text": [
      "\r",
      "80% completed"
     ]
    },
    {
     "name": "stderr",
     "output_type": "stream",
     "text": [
      "C:\\Users\\15086\\anaconda3\\envs\\wenqu_gdal\\lib\\site-packages\\sklearn\\cross_decomposition\\_pls.py:503: FutureWarning: The attribute `coef_` will be transposed in version 1.3 to be consistent with other linear models in scikit-learn. Currently, `coef_` has a shape of (n_features, n_targets) and in the future it will have a shape of (n_targets, n_features).\n",
      "  warnings.warn(\n"
     ]
    },
    {
     "name": "stdout",
     "output_type": "stream",
     "text": [
      "\r",
      "82% completed"
     ]
    },
    {
     "name": "stderr",
     "output_type": "stream",
     "text": [
      "C:\\Users\\15086\\anaconda3\\envs\\wenqu_gdal\\lib\\site-packages\\sklearn\\cross_decomposition\\_pls.py:503: FutureWarning: The attribute `coef_` will be transposed in version 1.3 to be consistent with other linear models in scikit-learn. Currently, `coef_` has a shape of (n_features, n_targets) and in the future it will have a shape of (n_targets, n_features).\n",
      "  warnings.warn(\n"
     ]
    },
    {
     "name": "stdout",
     "output_type": "stream",
     "text": [
      "\r",
      "84% completed"
     ]
    },
    {
     "name": "stderr",
     "output_type": "stream",
     "text": [
      "C:\\Users\\15086\\anaconda3\\envs\\wenqu_gdal\\lib\\site-packages\\sklearn\\cross_decomposition\\_pls.py:503: FutureWarning: The attribute `coef_` will be transposed in version 1.3 to be consistent with other linear models in scikit-learn. Currently, `coef_` has a shape of (n_features, n_targets) and in the future it will have a shape of (n_targets, n_features).\n",
      "  warnings.warn(\n"
     ]
    },
    {
     "name": "stdout",
     "output_type": "stream",
     "text": [
      "\r",
      "86% completed"
     ]
    },
    {
     "name": "stderr",
     "output_type": "stream",
     "text": [
      "C:\\Users\\15086\\anaconda3\\envs\\wenqu_gdal\\lib\\site-packages\\sklearn\\cross_decomposition\\_pls.py:503: FutureWarning: The attribute `coef_` will be transposed in version 1.3 to be consistent with other linear models in scikit-learn. Currently, `coef_` has a shape of (n_features, n_targets) and in the future it will have a shape of (n_targets, n_features).\n",
      "  warnings.warn(\n"
     ]
    },
    {
     "name": "stdout",
     "output_type": "stream",
     "text": [
      "\r",
      "88% completed"
     ]
    },
    {
     "name": "stderr",
     "output_type": "stream",
     "text": [
      "C:\\Users\\15086\\anaconda3\\envs\\wenqu_gdal\\lib\\site-packages\\sklearn\\cross_decomposition\\_pls.py:503: FutureWarning: The attribute `coef_` will be transposed in version 1.3 to be consistent with other linear models in scikit-learn. Currently, `coef_` has a shape of (n_features, n_targets) and in the future it will have a shape of (n_targets, n_features).\n",
      "  warnings.warn(\n"
     ]
    },
    {
     "name": "stdout",
     "output_type": "stream",
     "text": [
      "\r",
      "90% completed"
     ]
    },
    {
     "name": "stderr",
     "output_type": "stream",
     "text": [
      "C:\\Users\\15086\\anaconda3\\envs\\wenqu_gdal\\lib\\site-packages\\sklearn\\cross_decomposition\\_pls.py:503: FutureWarning: The attribute `coef_` will be transposed in version 1.3 to be consistent with other linear models in scikit-learn. Currently, `coef_` has a shape of (n_features, n_targets) and in the future it will have a shape of (n_targets, n_features).\n",
      "  warnings.warn(\n"
     ]
    },
    {
     "name": "stdout",
     "output_type": "stream",
     "text": [
      "\r",
      "92% completed"
     ]
    },
    {
     "name": "stderr",
     "output_type": "stream",
     "text": [
      "C:\\Users\\15086\\anaconda3\\envs\\wenqu_gdal\\lib\\site-packages\\sklearn\\cross_decomposition\\_pls.py:503: FutureWarning: The attribute `coef_` will be transposed in version 1.3 to be consistent with other linear models in scikit-learn. Currently, `coef_` has a shape of (n_features, n_targets) and in the future it will have a shape of (n_targets, n_features).\n",
      "  warnings.warn(\n"
     ]
    },
    {
     "name": "stdout",
     "output_type": "stream",
     "text": [
      "\r",
      "94% completed"
     ]
    },
    {
     "name": "stderr",
     "output_type": "stream",
     "text": [
      "C:\\Users\\15086\\anaconda3\\envs\\wenqu_gdal\\lib\\site-packages\\sklearn\\cross_decomposition\\_pls.py:503: FutureWarning: The attribute `coef_` will be transposed in version 1.3 to be consistent with other linear models in scikit-learn. Currently, `coef_` has a shape of (n_features, n_targets) and in the future it will have a shape of (n_targets, n_features).\n",
      "  warnings.warn(\n"
     ]
    },
    {
     "name": "stdout",
     "output_type": "stream",
     "text": [
      "\r",
      "96% completed"
     ]
    },
    {
     "name": "stderr",
     "output_type": "stream",
     "text": [
      "C:\\Users\\15086\\anaconda3\\envs\\wenqu_gdal\\lib\\site-packages\\sklearn\\cross_decomposition\\_pls.py:503: FutureWarning: The attribute `coef_` will be transposed in version 1.3 to be consistent with other linear models in scikit-learn. Currently, `coef_` has a shape of (n_features, n_targets) and in the future it will have a shape of (n_targets, n_features).\n",
      "  warnings.warn(\n"
     ]
    },
    {
     "name": "stdout",
     "output_type": "stream",
     "text": [
      "\r",
      "98% completed"
     ]
    },
    {
     "name": "stderr",
     "output_type": "stream",
     "text": [
      "C:\\Users\\15086\\anaconda3\\envs\\wenqu_gdal\\lib\\site-packages\\sklearn\\cross_decomposition\\_pls.py:503: FutureWarning: The attribute `coef_` will be transposed in version 1.3 to be consistent with other linear models in scikit-learn. Currently, `coef_` has a shape of (n_features, n_targets) and in the future it will have a shape of (n_targets, n_features).\n",
      "  warnings.warn(\n"
     ]
    },
    {
     "name": "stdout",
     "output_type": "stream",
     "text": [
      "100% completed\n",
      "Optimised number of PLS components:  24\n",
      "Wavelengths to be keeped  90\n",
      "Optimised MSEP  0.5438409007349124\n",
      "\n",
      "R2 calib: 0.998\n",
      "R2 CV: 0.872\n",
      "RMSE calib: 0.051\n",
      "RMSE CV: 0.425\n",
      "[-1.84683168] [0.93268803]\n",
      "0 site1b [-28.34320377] -28.49235106\n",
      "1 site1b [-28.35792884] -28.54368527\n",
      "2 site1b [-26.80711672] -26.49680372\n",
      "3 site1b [-26.64204407] -27.29580842\n",
      "4 site1b [-28.1348628] -27.75547098\n",
      "5 site1b [-28.4874601] -28.97319202\n",
      "6 site1b [-26.28173368] -25.73567494\n",
      "7 site1b [-28.4676696] -28.6815368\n",
      "8 site1b [-27.40920438] -27.20402389\n",
      "9 site1b [-29.34473399] -28.96674046\n",
      "10 site1b [-26.83368563] -27.38240162\n",
      "11 site1b [-26.44689946] -27.15925765\n",
      "12 site1b [-27.38862319] -27.27176191\n",
      "13 site1b [-28.60616047] -28.729117\n",
      "14 site1b [-28.52625297] -28.43561468\n",
      "15 site1b [-26.60459566] -26.69813342\n",
      "16 site1b [-27.14224982] -27.25219021\n",
      "17 site1b [-28.69418875] -28.65229353\n",
      "18 site1b [-27.80738995] -27.46525833\n",
      "19 site1b [-27.78769995] -27.741047\n",
      "20 site1b [-29.36335807] -28.88539209\n",
      "21 site1b [-27.79250771] -28.20457812\n",
      "22 site1b [-26.94780261] -27.34799251\n",
      "23 site1b [-27.78067914] -27.71653005\n",
      "24 site2a [-27.2431739] -27.35140639\n",
      "25 site2a [-30.35260344] -30.1956777\n",
      "26 site2a [-28.84894619] -29.41902791\n",
      "27 site2a [-29.81089827] -29.4062208\n",
      "28 site2a [-30.34743416] -29.9640705\n",
      "29 site2a [-29.09901422] -29.02625371\n",
      "30 site2a [-28.71025998] -28.8108069\n",
      "31 site2a [-29.64722405] -30.24014231\n",
      "32 site2a [-27.86287506] -27.02399242\n",
      "33 site2a [-29.423046] -29.25866344\n",
      "34 site2a [-27.91511378] -28.00801404\n",
      "35 site2a [-29.15775339] -28.29449726\n",
      "36 site2a [-29.30331056] -29.6669239\n",
      "37 site2a [-29.5599282] -29.55750099\n",
      "38 site2a [-26.75316647] -27.35339504\n",
      "39 site2a [-29.12254777] -29.4329258\n",
      "40 site2a [-29.3147844] -29.27018103\n",
      "41 site2a [-27.39200151] -28.25102775\n",
      "42 site2a [-27.87415923] -29.23460551\n",
      "43 site2a [-28.44071234] -28.66285843\n",
      "44 site2a [-27.63879996] -27.80934434\n",
      "45 site2a [-29.62683908] -30.13098589\n",
      "46 site2a [-28.7394853] -29.05882139\n",
      "47 site2a [-29.253302] -29.47247885\n",
      "48 site2a [-30.40841431] -29.43396904\n",
      "49 site2a [-29.8128012] -29.66237234\n",
      "50 site2a [-28.27545473] -28.07881061\n",
      "51 site2c [-29.99217607] -30.23365466\n",
      "52 site2c [-28.35240669] -27.99706588\n",
      "53 site2c [-26.76021335] -26.6803219\n",
      "54 site2c [-27.85280246] -27.62591355\n",
      "55 site2c [-30.51817061] -30.77921881\n",
      "56 site6 [-27.30071369] -26.80913564\n",
      "57 site6 [-26.21577615] -26.27528943\n",
      "58 site6 [-25.12307625] -24.79758623\n",
      "59 site6 [-26.94937457] -27.18947987\n",
      "60 site6 [-27.65269357] -28.13945899\n",
      "61 site6 [-27.42064083] -27.5939252\n",
      "62 site6 [-27.23809548] -27.25883714\n"
     ]
    },
    {
     "name": "stderr",
     "output_type": "stream",
     "text": [
      "C:\\Users\\15086\\anaconda3\\envs\\wenqu_gdal\\lib\\site-packages\\sklearn\\cross_decomposition\\_pls.py:503: FutureWarning: The attribute `coef_` will be transposed in version 1.3 to be consistent with other linear models in scikit-learn. Currently, `coef_` has a shape of (n_features, n_targets) and in the future it will have a shape of (n_targets, n_features).\n",
      "  warnings.warn(\n"
     ]
    },
    {
     "data": {
      "image/png": "[encoded data removed]",
      "text/plain": [
       "<Figure size 900x500 with 1 Axes>"
      ]
     },
     "metadata": {},
     "output_type": "display_data"
    }
   ],
   "source": [
    "opt_Xc_d13c, ncomp_d13c, wav_d13c, sorted_ind_d13c = pls_variable_selection(x_new_traits, y_weighted_d13c, 50)\n",
    "file_name = 'F:/wenqu/result/d13c.csv'\n",
    "simple_pls_cv(opt_Xc_d13c, y_weighted_d13c, ncomp_d13c, labels_pc,file_name)"
   ]
  },
  {
   "cell_type": "code",
   "execution_count": 26,
   "id": "45a6a277",
   "metadata": {},
   "outputs": [
    {
     "name": "stdout",
     "output_type": "stream",
     "text": [
      "(90,) (90,)\n"
     ]
    },
    {
     "name": "stderr",
     "output_type": "stream",
     "text": [
      "C:\\Users\\15086\\anaconda3\\envs\\wenqu_gdal\\lib\\site-packages\\sklearn\\cross_decomposition\\_pls.py:503: FutureWarning: The attribute `coef_` will be transposed in version 1.3 to be consistent with other linear models in scikit-learn. Currently, `coef_` has a shape of (n_features, n_targets) and in the future it will have a shape of (n_targets, n_features).\n",
      "  warnings.warn(\n"
     ]
    }
   ],
   "source": [
    "optimal_pls_d13c  = PLSRegression(n_components=24)\n",
    "optimal_pls_d13c.fit(opt_Xc_d13c, y_weighted_d13c)\n",
    "\n",
    "coefficients = optimal_pls_d13c.coef_[:,0]\n",
    "bands = band_name[sorted_ind_d13c][wav_d13c:]\n",
    "\n",
    "print(coefficients.shape, bands.shape)"
   ]
  },
  {
   "cell_type": "code",
   "execution_count": 29,
   "id": "2e1abc53",
   "metadata": {},
   "outputs": [
    {
     "name": "stdout",
     "output_type": "stream",
     "text": [
      "d13c_trait = 0.679224*data_dict['b66_mean'] + 0.244812*data_dict['b101_std'] + 0.604574*data_dict['b108_std'] + 0.302539*data_dict['b70_mean'] + -0.342554*data_dict['b120_mean'] + 1.146822*data_dict['b113_std'] + -0.981041*data_dict['b112_std'] + 0.465572*data_dict['b15_mean'] + 0.200134*data_dict['b24_mean'] + -0.896901*data_dict['b62_mean'] + 1.036698*data_dict['b43_std'] + 0.873505*data_dict['b46_std'] + 0.720548*data_dict['b10_std'] + 0.246233*data_dict['b56_std'] + -0.021765*data_dict['b96_std'] + 0.534687*data_dict['b47_std'] + 0.436283*data_dict['b9_std'] + -0.129455*data_dict['b115_mean'] + 0.952789*data_dict['b30_mean'] + -0.450441*data_dict['b114_mean'] + -0.598146*data_dict['b43_mean'] + -0.892185*data_dict['b28_std'] + 0.225799*data_dict['b31_mean'] + -0.113071*data_dict['b106_mean'] + 0.068214*data_dict['b103_std'] + -0.786089*data_dict['b14_mean'] + -0.842322*data_dict['b49_mean'] + 0.281033*data_dict['b122_std'] + -0.562307*data_dict['b53_std'] + 0.893843*data_dict['b5_mean'] + 0.632236*data_dict['b25_mean'] + -0.327208*data_dict['b4_std'] + 0.514063*data_dict['b20_std'] + 0.400990*data_dict['b69_mean'] + 1.590403*data_dict['b69_std'] + 1.191795*data_dict['b79_std'] + 0.735782*data_dict['b67_mean'] + 0.885514*data_dict['b19_mean'] + 0.472572*data_dict['b85_std'] + 0.874570*data_dict['b33_std'] + -1.252330*data_dict['b41_mean'] + 0.174820*data_dict['b105_std'] + 0.426879*data_dict['b5_std'] + -1.738419*data_dict['b99_mean'] + 0.752275*data_dict['b68_mean'] + -0.461629*data_dict['b34_std'] + 0.540349*data_dict['b57_mean'] + -0.144979*data_dict['b12_std'] + 0.274539*data_dict['b27_mean'] + 0.612449*data_dict['b33_mean'] + -0.342596*data_dict['b16_mean'] + 0.739982*data_dict['b115_std'] + 1.008842*data_dict['b56_mean'] + 0.503051*data_dict['b42_std'] + -1.272789*data_dict['b89_std'] + -1.409402*data_dict['b47_mean'] + -0.758422*data_dict['b59_std'] + -1.075739*data_dict['b4_mean'] + 0.580433*data_dict['b61_std'] + -0.473251*data_dict['b7_std'] + -0.649555*data_dict['b37_std'] + -0.816863*data_dict['b117_mean'] + 0.378137*data_dict['b40_std'] + 0.409229*data_dict['b13_std'] + -1.573106*data_dict['b50_mean'] + 1.092584*data_dict['b55_mean'] + -0.778997*data_dict['b45_std'] + -0.642762*data_dict['b99_std'] + 1.106677*data_dict['b54_mean'] + 0.547848*data_dict['b8_mean'] + -0.518972*data_dict['b93_std'] + -1.429950*data_dict['b29_std'] + -1.093281*data_dict['b32_std'] + -0.990265*data_dict['b119_std'] + 0.278076*data_dict['b14_std'] + -0.296030*data_dict['b9_mean'] + 0.933654*data_dict['b107_std'] + 1.261640*data_dict['b1_mean'] + -1.032086*data_dict['b118_std'] + -0.895489*data_dict['b121_std'] + -1.197961*data_dict['b3_mean'] + 0.412321*data_dict['b6_mean'] + -1.691802*data_dict['b122_mean'] + 1.525564*data_dict['b109_std'] + -1.783648*data_dict['b10_mean'] + 1.777564*data_dict['b26_mean'] + -1.914578*data_dict['b17_std'] + 1.371245*data_dict['b108_mean'] + 1.624347*data_dict['b26_std'] + -2.382204*data_dict['b111_std'] + -27.829342\n"
     ]
    }
   ],
   "source": [
    "\n",
    "\n",
    "# Compute the intercept using means of X and y\n",
    "x_mean = opt_Xc_d13c.mean(axis=0)\n",
    "y_mean = y_weighted_d13c.mean()\n",
    "\n",
    "intercept_d13c = y_mean - np.dot(x_mean, coefficients)\n",
    "\n",
    "linear_equation = \"d13c_trait = \"\n",
    "\n",
    "for coef, predictor in zip(coefficients.flatten(), bands):\n",
    "    linear_equation += \"{:.6f}*data_dict['{}'] + \".format(coef, predictor)\n",
    "\n",
    "# Adding the intercept to the end\n",
    "linear_equation += \"{:.6f}\".format(intercept_d13c)\n",
    "\n",
    "print(linear_equation)"
   ]
  },
  {
   "cell_type": "markdown",
   "id": "ecd316c8",
   "metadata": {},
   "source": [
    "# PN"
   ]
  },
  {
   "cell_type": "code",
   "execution_count": 43,
   "id": "f49db4bb",
   "metadata": {
    "scrolled": true
   },
   "outputs": [
    {
     "name": "stderr",
     "output_type": "stream",
     "text": [
      "C:\\Users\\15086\\anaconda3\\envs\\wenqu_gdal\\lib\\site-packages\\sklearn\\cross_decomposition\\_pls.py:503: FutureWarning: The attribute `coef_` will be transposed in version 1.3 to be consistent with other linear models in scikit-learn. Currently, `coef_` has a shape of (n_features, n_targets) and in the future it will have a shape of (n_targets, n_features).\n",
      "  warnings.warn(\n"
     ]
    },
    {
     "name": "stdout",
     "output_type": "stream",
     "text": [
      "\r",
      "2% completed"
     ]
    },
    {
     "name": "stderr",
     "output_type": "stream",
     "text": [
      "C:\\Users\\15086\\anaconda3\\envs\\wenqu_gdal\\lib\\site-packages\\sklearn\\cross_decomposition\\_pls.py:503: FutureWarning: The attribute `coef_` will be transposed in version 1.3 to be consistent with other linear models in scikit-learn. Currently, `coef_` has a shape of (n_features, n_targets) and in the future it will have a shape of (n_targets, n_features).\n",
      "  warnings.warn(\n"
     ]
    },
    {
     "name": "stdout",
     "output_type": "stream",
     "text": [
      "\r",
      "4% completed"
     ]
    },
    {
     "name": "stderr",
     "output_type": "stream",
     "text": [
      "C:\\Users\\15086\\anaconda3\\envs\\wenqu_gdal\\lib\\site-packages\\sklearn\\cross_decomposition\\_pls.py:503: FutureWarning: The attribute `coef_` will be transposed in version 1.3 to be consistent with other linear models in scikit-learn. Currently, `coef_` has a shape of (n_features, n_targets) and in the future it will have a shape of (n_targets, n_features).\n",
      "  warnings.warn(\n"
     ]
    },
    {
     "name": "stdout",
     "output_type": "stream",
     "text": [
      "\r",
      "6% completed"
     ]
    },
    {
     "name": "stderr",
     "output_type": "stream",
     "text": [
      "C:\\Users\\15086\\anaconda3\\envs\\wenqu_gdal\\lib\\site-packages\\sklearn\\cross_decomposition\\_pls.py:503: FutureWarning: The attribute `coef_` will be transposed in version 1.3 to be consistent with other linear models in scikit-learn. Currently, `coef_` has a shape of (n_features, n_targets) and in the future it will have a shape of (n_targets, n_features).\n",
      "  warnings.warn(\n"
     ]
    },
    {
     "name": "stdout",
     "output_type": "stream",
     "text": [
      "\r",
      "8% completed"
     ]
    },
    {
     "name": "stderr",
     "output_type": "stream",
     "text": [
      "C:\\Users\\15086\\anaconda3\\envs\\wenqu_gdal\\lib\\site-packages\\sklearn\\cross_decomposition\\_pls.py:503: FutureWarning: The attribute `coef_` will be transposed in version 1.3 to be consistent with other linear models in scikit-learn. Currently, `coef_` has a shape of (n_features, n_targets) and in the future it will have a shape of (n_targets, n_features).\n",
      "  warnings.warn(\n"
     ]
    },
    {
     "name": "stdout",
     "output_type": "stream",
     "text": [
      "\r",
      "10% completed"
     ]
    },
    {
     "name": "stderr",
     "output_type": "stream",
     "text": [
      "C:\\Users\\15086\\anaconda3\\envs\\wenqu_gdal\\lib\\site-packages\\sklearn\\cross_decomposition\\_pls.py:503: FutureWarning: The attribute `coef_` will be transposed in version 1.3 to be consistent with other linear models in scikit-learn. Currently, `coef_` has a shape of (n_features, n_targets) and in the future it will have a shape of (n_targets, n_features).\n",
      "  warnings.warn(\n"
     ]
    },
    {
     "name": "stdout",
     "output_type": "stream",
     "text": [
      "\r",
      "12% completed"
     ]
    },
    {
     "name": "stderr",
     "output_type": "stream",
     "text": [
      "C:\\Users\\15086\\anaconda3\\envs\\wenqu_gdal\\lib\\site-packages\\sklearn\\cross_decomposition\\_pls.py:503: FutureWarning: The attribute `coef_` will be transposed in version 1.3 to be consistent with other linear models in scikit-learn. Currently, `coef_` has a shape of (n_features, n_targets) and in the future it will have a shape of (n_targets, n_features).\n",
      "  warnings.warn(\n"
     ]
    },
    {
     "name": "stdout",
     "output_type": "stream",
     "text": [
      "\r",
      "14% completed"
     ]
    },
    {
     "name": "stderr",
     "output_type": "stream",
     "text": [
      "C:\\Users\\15086\\anaconda3\\envs\\wenqu_gdal\\lib\\site-packages\\sklearn\\cross_decomposition\\_pls.py:503: FutureWarning: The attribute `coef_` will be transposed in version 1.3 to be consistent with other linear models in scikit-learn. Currently, `coef_` has a shape of (n_features, n_targets) and in the future it will have a shape of (n_targets, n_features).\n",
      "  warnings.warn(\n"
     ]
    },
    {
     "name": "stdout",
     "output_type": "stream",
     "text": [
      "\r",
      "16% completed"
     ]
    },
    {
     "name": "stderr",
     "output_type": "stream",
     "text": [
      "C:\\Users\\15086\\anaconda3\\envs\\wenqu_gdal\\lib\\site-packages\\sklearn\\cross_decomposition\\_pls.py:503: FutureWarning: The attribute `coef_` will be transposed in version 1.3 to be consistent with other linear models in scikit-learn. Currently, `coef_` has a shape of (n_features, n_targets) and in the future it will have a shape of (n_targets, n_features).\n",
      "  warnings.warn(\n"
     ]
    },
    {
     "name": "stdout",
     "output_type": "stream",
     "text": [
      "\r",
      "18% completed"
     ]
    },
    {
     "name": "stderr",
     "output_type": "stream",
     "text": [
      "C:\\Users\\15086\\anaconda3\\envs\\wenqu_gdal\\lib\\site-packages\\sklearn\\cross_decomposition\\_pls.py:503: FutureWarning: The attribute `coef_` will be transposed in version 1.3 to be consistent with other linear models in scikit-learn. Currently, `coef_` has a shape of (n_features, n_targets) and in the future it will have a shape of (n_targets, n_features).\n",
      "  warnings.warn(\n"
     ]
    },
    {
     "name": "stdout",
     "output_type": "stream",
     "text": [
      "\r",
      "20% completed"
     ]
    },
    {
     "name": "stderr",
     "output_type": "stream",
     "text": [
      "C:\\Users\\15086\\anaconda3\\envs\\wenqu_gdal\\lib\\site-packages\\sklearn\\cross_decomposition\\_pls.py:503: FutureWarning: The attribute `coef_` will be transposed in version 1.3 to be consistent with other linear models in scikit-learn. Currently, `coef_` has a shape of (n_features, n_targets) and in the future it will have a shape of (n_targets, n_features).\n",
      "  warnings.warn(\n"
     ]
    },
    {
     "name": "stdout",
     "output_type": "stream",
     "text": [
      "\r",
      "22% completed"
     ]
    },
    {
     "name": "stderr",
     "output_type": "stream",
     "text": [
      "C:\\Users\\15086\\anaconda3\\envs\\wenqu_gdal\\lib\\site-packages\\sklearn\\cross_decomposition\\_pls.py:503: FutureWarning: The attribute `coef_` will be transposed in version 1.3 to be consistent with other linear models in scikit-learn. Currently, `coef_` has a shape of (n_features, n_targets) and in the future it will have a shape of (n_targets, n_features).\n",
      "  warnings.warn(\n"
     ]
    },
    {
     "name": "stdout",
     "output_type": "stream",
     "text": [
      "\r",
      "24% completed"
     ]
    },
    {
     "name": "stderr",
     "output_type": "stream",
     "text": [
      "C:\\Users\\15086\\anaconda3\\envs\\wenqu_gdal\\lib\\site-packages\\sklearn\\cross_decomposition\\_pls.py:503: FutureWarning: The attribute `coef_` will be transposed in version 1.3 to be consistent with other linear models in scikit-learn. Currently, `coef_` has a shape of (n_features, n_targets) and in the future it will have a shape of (n_targets, n_features).\n",
      "  warnings.warn(\n"
     ]
    },
    {
     "name": "stdout",
     "output_type": "stream",
     "text": [
      "\r",
      "26% completed"
     ]
    },
    {
     "name": "stderr",
     "output_type": "stream",
     "text": [
      "C:\\Users\\15086\\anaconda3\\envs\\wenqu_gdal\\lib\\site-packages\\sklearn\\cross_decomposition\\_pls.py:503: FutureWarning: The attribute `coef_` will be transposed in version 1.3 to be consistent with other linear models in scikit-learn. Currently, `coef_` has a shape of (n_features, n_targets) and in the future it will have a shape of (n_targets, n_features).\n",
      "  warnings.warn(\n"
     ]
    },
    {
     "name": "stdout",
     "output_type": "stream",
     "text": [
      "\r",
      "28% completed"
     ]
    },
    {
     "name": "stderr",
     "output_type": "stream",
     "text": [
      "C:\\Users\\15086\\anaconda3\\envs\\wenqu_gdal\\lib\\site-packages\\sklearn\\cross_decomposition\\_pls.py:503: FutureWarning: The attribute `coef_` will be transposed in version 1.3 to be consistent with other linear models in scikit-learn. Currently, `coef_` has a shape of (n_features, n_targets) and in the future it will have a shape of (n_targets, n_features).\n",
      "  warnings.warn(\n"
     ]
    },
    {
     "name": "stdout",
     "output_type": "stream",
     "text": [
      "\r",
      "30% completed"
     ]
    },
    {
     "name": "stderr",
     "output_type": "stream",
     "text": [
      "C:\\Users\\15086\\anaconda3\\envs\\wenqu_gdal\\lib\\site-packages\\sklearn\\cross_decomposition\\_pls.py:503: FutureWarning: The attribute `coef_` will be transposed in version 1.3 to be consistent with other linear models in scikit-learn. Currently, `coef_` has a shape of (n_features, n_targets) and in the future it will have a shape of (n_targets, n_features).\n",
      "  warnings.warn(\n"
     ]
    },
    {
     "name": "stdout",
     "output_type": "stream",
     "text": [
      "\r",
      "32% completed"
     ]
    },
    {
     "name": "stderr",
     "output_type": "stream",
     "text": [
      "C:\\Users\\15086\\anaconda3\\envs\\wenqu_gdal\\lib\\site-packages\\sklearn\\cross_decomposition\\_pls.py:503: FutureWarning: The attribute `coef_` will be transposed in version 1.3 to be consistent with other linear models in scikit-learn. Currently, `coef_` has a shape of (n_features, n_targets) and in the future it will have a shape of (n_targets, n_features).\n",
      "  warnings.warn(\n"
     ]
    },
    {
     "name": "stdout",
     "output_type": "stream",
     "text": [
      "\r",
      "34% completed"
     ]
    },
    {
     "name": "stderr",
     "output_type": "stream",
     "text": [
      "C:\\Users\\15086\\anaconda3\\envs\\wenqu_gdal\\lib\\site-packages\\sklearn\\cross_decomposition\\_pls.py:503: FutureWarning: The attribute `coef_` will be transposed in version 1.3 to be consistent with other linear models in scikit-learn. Currently, `coef_` has a shape of (n_features, n_targets) and in the future it will have a shape of (n_targets, n_features).\n",
      "  warnings.warn(\n"
     ]
    },
    {
     "name": "stdout",
     "output_type": "stream",
     "text": [
      "\r",
      "36% completed"
     ]
    },
    {
     "name": "stderr",
     "output_type": "stream",
     "text": [
      "C:\\Users\\15086\\anaconda3\\envs\\wenqu_gdal\\lib\\site-packages\\sklearn\\cross_decomposition\\_pls.py:503: FutureWarning: The attribute `coef_` will be transposed in version 1.3 to be consistent with other linear models in scikit-learn. Currently, `coef_` has a shape of (n_features, n_targets) and in the future it will have a shape of (n_targets, n_features).\n",
      "  warnings.warn(\n"
     ]
    },
    {
     "name": "stdout",
     "output_type": "stream",
     "text": [
      "\r",
      "38% completed"
     ]
    },
    {
     "name": "stderr",
     "output_type": "stream",
     "text": [
      "C:\\Users\\15086\\anaconda3\\envs\\wenqu_gdal\\lib\\site-packages\\sklearn\\cross_decomposition\\_pls.py:503: FutureWarning: The attribute `coef_` will be transposed in version 1.3 to be consistent with other linear models in scikit-learn. Currently, `coef_` has a shape of (n_features, n_targets) and in the future it will have a shape of (n_targets, n_features).\n",
      "  warnings.warn(\n"
     ]
    },
    {
     "name": "stdout",
     "output_type": "stream",
     "text": [
      "\r",
      "40% completed"
     ]
    },
    {
     "name": "stderr",
     "output_type": "stream",
     "text": [
      "C:\\Users\\15086\\anaconda3\\envs\\wenqu_gdal\\lib\\site-packages\\sklearn\\cross_decomposition\\_pls.py:503: FutureWarning: The attribute `coef_` will be transposed in version 1.3 to be consistent with other linear models in scikit-learn. Currently, `coef_` has a shape of (n_features, n_targets) and in the future it will have a shape of (n_targets, n_features).\n",
      "  warnings.warn(\n"
     ]
    },
    {
     "name": "stdout",
     "output_type": "stream",
     "text": [
      "\r",
      "42% completed"
     ]
    },
    {
     "name": "stderr",
     "output_type": "stream",
     "text": [
      "C:\\Users\\15086\\anaconda3\\envs\\wenqu_gdal\\lib\\site-packages\\sklearn\\cross_decomposition\\_pls.py:503: FutureWarning: The attribute `coef_` will be transposed in version 1.3 to be consistent with other linear models in scikit-learn. Currently, `coef_` has a shape of (n_features, n_targets) and in the future it will have a shape of (n_targets, n_features).\n",
      "  warnings.warn(\n"
     ]
    },
    {
     "name": "stdout",
     "output_type": "stream",
     "text": [
      "\r",
      "44% completed"
     ]
    },
    {
     "name": "stderr",
     "output_type": "stream",
     "text": [
      "C:\\Users\\15086\\anaconda3\\envs\\wenqu_gdal\\lib\\site-packages\\sklearn\\cross_decomposition\\_pls.py:503: FutureWarning: The attribute `coef_` will be transposed in version 1.3 to be consistent with other linear models in scikit-learn. Currently, `coef_` has a shape of (n_features, n_targets) and in the future it will have a shape of (n_targets, n_features).\n",
      "  warnings.warn(\n"
     ]
    },
    {
     "name": "stdout",
     "output_type": "stream",
     "text": [
      "\r",
      "46% completed"
     ]
    },
    {
     "name": "stderr",
     "output_type": "stream",
     "text": [
      "C:\\Users\\15086\\anaconda3\\envs\\wenqu_gdal\\lib\\site-packages\\sklearn\\cross_decomposition\\_pls.py:503: FutureWarning: The attribute `coef_` will be transposed in version 1.3 to be consistent with other linear models in scikit-learn. Currently, `coef_` has a shape of (n_features, n_targets) and in the future it will have a shape of (n_targets, n_features).\n",
      "  warnings.warn(\n"
     ]
    },
    {
     "name": "stdout",
     "output_type": "stream",
     "text": [
      "\r",
      "48% completed"
     ]
    },
    {
     "name": "stderr",
     "output_type": "stream",
     "text": [
      "C:\\Users\\15086\\anaconda3\\envs\\wenqu_gdal\\lib\\site-packages\\sklearn\\cross_decomposition\\_pls.py:503: FutureWarning: The attribute `coef_` will be transposed in version 1.3 to be consistent with other linear models in scikit-learn. Currently, `coef_` has a shape of (n_features, n_targets) and in the future it will have a shape of (n_targets, n_features).\n",
      "  warnings.warn(\n"
     ]
    },
    {
     "name": "stdout",
     "output_type": "stream",
     "text": [
      "\r",
      "50% completed"
     ]
    },
    {
     "name": "stderr",
     "output_type": "stream",
     "text": [
      "C:\\Users\\15086\\anaconda3\\envs\\wenqu_gdal\\lib\\site-packages\\sklearn\\cross_decomposition\\_pls.py:503: FutureWarning: The attribute `coef_` will be transposed in version 1.3 to be consistent with other linear models in scikit-learn. Currently, `coef_` has a shape of (n_features, n_targets) and in the future it will have a shape of (n_targets, n_features).\n",
      "  warnings.warn(\n"
     ]
    },
    {
     "name": "stdout",
     "output_type": "stream",
     "text": [
      "\r",
      "52% completed"
     ]
    },
    {
     "name": "stderr",
     "output_type": "stream",
     "text": [
      "C:\\Users\\15086\\anaconda3\\envs\\wenqu_gdal\\lib\\site-packages\\sklearn\\cross_decomposition\\_pls.py:503: FutureWarning: The attribute `coef_` will be transposed in version 1.3 to be consistent with other linear models in scikit-learn. Currently, `coef_` has a shape of (n_features, n_targets) and in the future it will have a shape of (n_targets, n_features).\n",
      "  warnings.warn(\n"
     ]
    },
    {
     "name": "stdout",
     "output_type": "stream",
     "text": [
      "\r",
      "54% completed"
     ]
    },
    {
     "name": "stderr",
     "output_type": "stream",
     "text": [
      "C:\\Users\\15086\\anaconda3\\envs\\wenqu_gdal\\lib\\site-packages\\sklearn\\cross_decomposition\\_pls.py:503: FutureWarning: The attribute `coef_` will be transposed in version 1.3 to be consistent with other linear models in scikit-learn. Currently, `coef_` has a shape of (n_features, n_targets) and in the future it will have a shape of (n_targets, n_features).\n",
      "  warnings.warn(\n"
     ]
    },
    {
     "name": "stdout",
     "output_type": "stream",
     "text": [
      "\r",
      "56% completed"
     ]
    },
    {
     "name": "stderr",
     "output_type": "stream",
     "text": [
      "C:\\Users\\15086\\anaconda3\\envs\\wenqu_gdal\\lib\\site-packages\\sklearn\\cross_decomposition\\_pls.py:503: FutureWarning: The attribute `coef_` will be transposed in version 1.3 to be consistent with other linear models in scikit-learn. Currently, `coef_` has a shape of (n_features, n_targets) and in the future it will have a shape of (n_targets, n_features).\n",
      "  warnings.warn(\n"
     ]
    },
    {
     "name": "stdout",
     "output_type": "stream",
     "text": [
      "\r",
      "58% completed"
     ]
    },
    {
     "name": "stderr",
     "output_type": "stream",
     "text": [
      "C:\\Users\\15086\\anaconda3\\envs\\wenqu_gdal\\lib\\site-packages\\sklearn\\cross_decomposition\\_pls.py:503: FutureWarning: The attribute `coef_` will be transposed in version 1.3 to be consistent with other linear models in scikit-learn. Currently, `coef_` has a shape of (n_features, n_targets) and in the future it will have a shape of (n_targets, n_features).\n",
      "  warnings.warn(\n"
     ]
    },
    {
     "name": "stdout",
     "output_type": "stream",
     "text": [
      "\r",
      "60% completed"
     ]
    },
    {
     "name": "stderr",
     "output_type": "stream",
     "text": [
      "C:\\Users\\15086\\anaconda3\\envs\\wenqu_gdal\\lib\\site-packages\\sklearn\\cross_decomposition\\_pls.py:503: FutureWarning: The attribute `coef_` will be transposed in version 1.3 to be consistent with other linear models in scikit-learn. Currently, `coef_` has a shape of (n_features, n_targets) and in the future it will have a shape of (n_targets, n_features).\n",
      "  warnings.warn(\n"
     ]
    },
    {
     "name": "stdout",
     "output_type": "stream",
     "text": [
      "\r",
      "62% completed"
     ]
    },
    {
     "name": "stderr",
     "output_type": "stream",
     "text": [
      "C:\\Users\\15086\\anaconda3\\envs\\wenqu_gdal\\lib\\site-packages\\sklearn\\cross_decomposition\\_pls.py:503: FutureWarning: The attribute `coef_` will be transposed in version 1.3 to be consistent with other linear models in scikit-learn. Currently, `coef_` has a shape of (n_features, n_targets) and in the future it will have a shape of (n_targets, n_features).\n",
      "  warnings.warn(\n"
     ]
    },
    {
     "name": "stdout",
     "output_type": "stream",
     "text": [
      "\r",
      "64% completed"
     ]
    },
    {
     "name": "stderr",
     "output_type": "stream",
     "text": [
      "C:\\Users\\15086\\anaconda3\\envs\\wenqu_gdal\\lib\\site-packages\\sklearn\\cross_decomposition\\_pls.py:503: FutureWarning: The attribute `coef_` will be transposed in version 1.3 to be consistent with other linear models in scikit-learn. Currently, `coef_` has a shape of (n_features, n_targets) and in the future it will have a shape of (n_targets, n_features).\n",
      "  warnings.warn(\n"
     ]
    },
    {
     "name": "stdout",
     "output_type": "stream",
     "text": [
      "\r",
      "66% completed"
     ]
    },
    {
     "name": "stderr",
     "output_type": "stream",
     "text": [
      "C:\\Users\\15086\\anaconda3\\envs\\wenqu_gdal\\lib\\site-packages\\sklearn\\cross_decomposition\\_pls.py:503: FutureWarning: The attribute `coef_` will be transposed in version 1.3 to be consistent with other linear models in scikit-learn. Currently, `coef_` has a shape of (n_features, n_targets) and in the future it will have a shape of (n_targets, n_features).\n",
      "  warnings.warn(\n"
     ]
    },
    {
     "name": "stdout",
     "output_type": "stream",
     "text": [
      "\r",
      "68% completed"
     ]
    },
    {
     "name": "stderr",
     "output_type": "stream",
     "text": [
      "C:\\Users\\15086\\anaconda3\\envs\\wenqu_gdal\\lib\\site-packages\\sklearn\\cross_decomposition\\_pls.py:503: FutureWarning: The attribute `coef_` will be transposed in version 1.3 to be consistent with other linear models in scikit-learn. Currently, `coef_` has a shape of (n_features, n_targets) and in the future it will have a shape of (n_targets, n_features).\n",
      "  warnings.warn(\n"
     ]
    },
    {
     "name": "stdout",
     "output_type": "stream",
     "text": [
      "\r",
      "70% completed"
     ]
    },
    {
     "name": "stderr",
     "output_type": "stream",
     "text": [
      "C:\\Users\\15086\\anaconda3\\envs\\wenqu_gdal\\lib\\site-packages\\sklearn\\cross_decomposition\\_pls.py:503: FutureWarning: The attribute `coef_` will be transposed in version 1.3 to be consistent with other linear models in scikit-learn. Currently, `coef_` has a shape of (n_features, n_targets) and in the future it will have a shape of (n_targets, n_features).\n",
      "  warnings.warn(\n"
     ]
    },
    {
     "name": "stdout",
     "output_type": "stream",
     "text": [
      "\r",
      "72% completed"
     ]
    },
    {
     "name": "stderr",
     "output_type": "stream",
     "text": [
      "C:\\Users\\15086\\anaconda3\\envs\\wenqu_gdal\\lib\\site-packages\\sklearn\\cross_decomposition\\_pls.py:503: FutureWarning: The attribute `coef_` will be transposed in version 1.3 to be consistent with other linear models in scikit-learn. Currently, `coef_` has a shape of (n_features, n_targets) and in the future it will have a shape of (n_targets, n_features).\n",
      "  warnings.warn(\n"
     ]
    },
    {
     "name": "stdout",
     "output_type": "stream",
     "text": [
      "\r",
      "74% completed"
     ]
    },
    {
     "name": "stderr",
     "output_type": "stream",
     "text": [
      "C:\\Users\\15086\\anaconda3\\envs\\wenqu_gdal\\lib\\site-packages\\sklearn\\cross_decomposition\\_pls.py:503: FutureWarning: The attribute `coef_` will be transposed in version 1.3 to be consistent with other linear models in scikit-learn. Currently, `coef_` has a shape of (n_features, n_targets) and in the future it will have a shape of (n_targets, n_features).\n",
      "  warnings.warn(\n"
     ]
    },
    {
     "name": "stdout",
     "output_type": "stream",
     "text": [
      "\r",
      "76% completed"
     ]
    },
    {
     "name": "stderr",
     "output_type": "stream",
     "text": [
      "C:\\Users\\15086\\anaconda3\\envs\\wenqu_gdal\\lib\\site-packages\\sklearn\\cross_decomposition\\_pls.py:503: FutureWarning: The attribute `coef_` will be transposed in version 1.3 to be consistent with other linear models in scikit-learn. Currently, `coef_` has a shape of (n_features, n_targets) and in the future it will have a shape of (n_targets, n_features).\n",
      "  warnings.warn(\n"
     ]
    },
    {
     "name": "stdout",
     "output_type": "stream",
     "text": [
      "\r",
      "78% completed"
     ]
    },
    {
     "name": "stderr",
     "output_type": "stream",
     "text": [
      "C:\\Users\\15086\\anaconda3\\envs\\wenqu_gdal\\lib\\site-packages\\sklearn\\cross_decomposition\\_pls.py:503: FutureWarning: The attribute `coef_` will be transposed in version 1.3 to be consistent with other linear models in scikit-learn. Currently, `coef_` has a shape of (n_features, n_targets) and in the future it will have a shape of (n_targets, n_features).\n",
      "  warnings.warn(\n"
     ]
    },
    {
     "name": "stdout",
     "output_type": "stream",
     "text": [
      "\r",
      "80% completed"
     ]
    },
    {
     "name": "stderr",
     "output_type": "stream",
     "text": [
      "C:\\Users\\15086\\anaconda3\\envs\\wenqu_gdal\\lib\\site-packages\\sklearn\\cross_decomposition\\_pls.py:503: FutureWarning: The attribute `coef_` will be transposed in version 1.3 to be consistent with other linear models in scikit-learn. Currently, `coef_` has a shape of (n_features, n_targets) and in the future it will have a shape of (n_targets, n_features).\n",
      "  warnings.warn(\n"
     ]
    },
    {
     "name": "stdout",
     "output_type": "stream",
     "text": [
      "\r",
      "82% completed"
     ]
    },
    {
     "name": "stderr",
     "output_type": "stream",
     "text": [
      "C:\\Users\\15086\\anaconda3\\envs\\wenqu_gdal\\lib\\site-packages\\sklearn\\cross_decomposition\\_pls.py:503: FutureWarning: The attribute `coef_` will be transposed in version 1.3 to be consistent with other linear models in scikit-learn. Currently, `coef_` has a shape of (n_features, n_targets) and in the future it will have a shape of (n_targets, n_features).\n",
      "  warnings.warn(\n"
     ]
    },
    {
     "name": "stdout",
     "output_type": "stream",
     "text": [
      "\r",
      "84% completed"
     ]
    },
    {
     "name": "stderr",
     "output_type": "stream",
     "text": [
      "C:\\Users\\15086\\anaconda3\\envs\\wenqu_gdal\\lib\\site-packages\\sklearn\\cross_decomposition\\_pls.py:503: FutureWarning: The attribute `coef_` will be transposed in version 1.3 to be consistent with other linear models in scikit-learn. Currently, `coef_` has a shape of (n_features, n_targets) and in the future it will have a shape of (n_targets, n_features).\n",
      "  warnings.warn(\n"
     ]
    },
    {
     "name": "stdout",
     "output_type": "stream",
     "text": [
      "\r",
      "86% completed"
     ]
    },
    {
     "name": "stderr",
     "output_type": "stream",
     "text": [
      "C:\\Users\\15086\\anaconda3\\envs\\wenqu_gdal\\lib\\site-packages\\sklearn\\cross_decomposition\\_pls.py:503: FutureWarning: The attribute `coef_` will be transposed in version 1.3 to be consistent with other linear models in scikit-learn. Currently, `coef_` has a shape of (n_features, n_targets) and in the future it will have a shape of (n_targets, n_features).\n",
      "  warnings.warn(\n"
     ]
    },
    {
     "name": "stdout",
     "output_type": "stream",
     "text": [
      "\r",
      "88% completed"
     ]
    },
    {
     "name": "stderr",
     "output_type": "stream",
     "text": [
      "C:\\Users\\15086\\anaconda3\\envs\\wenqu_gdal\\lib\\site-packages\\sklearn\\cross_decomposition\\_pls.py:503: FutureWarning: The attribute `coef_` will be transposed in version 1.3 to be consistent with other linear models in scikit-learn. Currently, `coef_` has a shape of (n_features, n_targets) and in the future it will have a shape of (n_targets, n_features).\n",
      "  warnings.warn(\n"
     ]
    },
    {
     "name": "stdout",
     "output_type": "stream",
     "text": [
      "\r",
      "90% completed"
     ]
    },
    {
     "name": "stderr",
     "output_type": "stream",
     "text": [
      "C:\\Users\\15086\\anaconda3\\envs\\wenqu_gdal\\lib\\site-packages\\sklearn\\cross_decomposition\\_pls.py:503: FutureWarning: The attribute `coef_` will be transposed in version 1.3 to be consistent with other linear models in scikit-learn. Currently, `coef_` has a shape of (n_features, n_targets) and in the future it will have a shape of (n_targets, n_features).\n",
      "  warnings.warn(\n"
     ]
    },
    {
     "name": "stdout",
     "output_type": "stream",
     "text": [
      "\r",
      "92% completed"
     ]
    },
    {
     "name": "stderr",
     "output_type": "stream",
     "text": [
      "C:\\Users\\15086\\anaconda3\\envs\\wenqu_gdal\\lib\\site-packages\\sklearn\\cross_decomposition\\_pls.py:503: FutureWarning: The attribute `coef_` will be transposed in version 1.3 to be consistent with other linear models in scikit-learn. Currently, `coef_` has a shape of (n_features, n_targets) and in the future it will have a shape of (n_targets, n_features).\n",
      "  warnings.warn(\n"
     ]
    },
    {
     "name": "stdout",
     "output_type": "stream",
     "text": [
      "\r",
      "94% completed"
     ]
    },
    {
     "name": "stderr",
     "output_type": "stream",
     "text": [
      "C:\\Users\\15086\\anaconda3\\envs\\wenqu_gdal\\lib\\site-packages\\sklearn\\cross_decomposition\\_pls.py:503: FutureWarning: The attribute `coef_` will be transposed in version 1.3 to be consistent with other linear models in scikit-learn. Currently, `coef_` has a shape of (n_features, n_targets) and in the future it will have a shape of (n_targets, n_features).\n",
      "  warnings.warn(\n"
     ]
    },
    {
     "name": "stdout",
     "output_type": "stream",
     "text": [
      "\r",
      "96% completed"
     ]
    },
    {
     "name": "stderr",
     "output_type": "stream",
     "text": [
      "C:\\Users\\15086\\anaconda3\\envs\\wenqu_gdal\\lib\\site-packages\\sklearn\\cross_decomposition\\_pls.py:503: FutureWarning: The attribute `coef_` will be transposed in version 1.3 to be consistent with other linear models in scikit-learn. Currently, `coef_` has a shape of (n_features, n_targets) and in the future it will have a shape of (n_targets, n_features).\n",
      "  warnings.warn(\n"
     ]
    },
    {
     "name": "stdout",
     "output_type": "stream",
     "text": [
      "\r",
      "98% completed"
     ]
    },
    {
     "name": "stderr",
     "output_type": "stream",
     "text": [
      "C:\\Users\\15086\\anaconda3\\envs\\wenqu_gdal\\lib\\site-packages\\sklearn\\cross_decomposition\\_pls.py:503: FutureWarning: The attribute `coef_` will be transposed in version 1.3 to be consistent with other linear models in scikit-learn. Currently, `coef_` has a shape of (n_features, n_targets) and in the future it will have a shape of (n_targets, n_features).\n",
      "  warnings.warn(\n"
     ]
    },
    {
     "name": "stdout",
     "output_type": "stream",
     "text": [
      "100% completed\n",
      "Optimised number of PLS components:  23\n",
      "Wavelengths to be keeped  84\n",
      "Optimised MSEP  0.20376983545251814\n",
      "\n",
      "R2 calib: 0.996\n",
      "R2 CV: 0.581\n",
      "RMSE calib: 0.018\n",
      "RMSE CV: 0.180\n",
      "[0.16738016] [0.60931498]\n",
      "0 site1b [0.21321234] 0.4698925987070734\n",
      "1 site1b [0.66990576] 0.5842210573386667\n",
      "2 site1b [0.48562591] 0.19889733307505286\n",
      "3 site1b [0.68077058] 0.5127960697615571\n",
      "4 site1b [0.54775526] 0.4034339186388153\n",
      "5 site1b [0.4333437] 0.026225597943274455\n",
      "6 site1b [0.58753165] 0.43226677637704264\n",
      "7 site1b [0.67349116] 0.6586663699392942\n",
      "8 site1b [0.57129173] 0.39272768918414447\n",
      "9 site1b [0.35132896] 0.2223562806980066\n",
      "10 site1b [0.45134317] 0.4545871384737593\n",
      "11 site1b [0.32509439] 0.3576893637409396\n",
      "12 site1b [0.91665373] 0.7422890833382898\n",
      "13 site1b [0.45392756] 0.38851749721129836\n",
      "14 site1b [0.23357594] 0.25715636301359845\n",
      "15 site1b [0.26101439] 0.30882683544547823\n",
      "16 site1b [0.1108074] 0.2577943189241944\n",
      "17 site1b [0.59562633] 0.6128983235557623\n",
      "18 site1b [0.37223836] 0.5715587228985487\n",
      "19 site1b [0.63023969] 0.8057516961300425\n",
      "20 site1b [0.18053544] 0.3909873973260747\n",
      "21 site1b [0.90604067] 1.0549953387714628\n",
      "22 site1b [0.68544499] 0.8320361328596951\n",
      "23 site1b [0.70005341] 1.0644116864191937\n",
      "24 site2a [0.46938764] 0.7428826411292516\n",
      "25 site2a [0.57037287] 0.8332128802744326\n",
      "26 site2a [0.46490648] 0.4938441288909688\n",
      "27 site2a [0.16592281] 0.34125674188568306\n",
      "28 site2a [0.19877136] 0.4382332906970071\n",
      "29 site2a [0.3644023] 0.19255706727657612\n",
      "30 site2a [0.1141353] -0.12267094140310514\n",
      "31 site2a [-0.14790865] 0.015363015217917522\n",
      "32 site2a [0.37721028] 0.2619491321581502\n",
      "33 site2a [0.41896016] 0.2667569930618797\n",
      "34 site2a [0.24996559] 0.20599887935504124\n",
      "35 site2a [-0.07300961] -0.21862086285548687\n",
      "36 site2a [0.73127521] 0.9348626759157546\n",
      "37 site2a [0.38553738] 0.1283061538107178\n",
      "38 site2a [0.33229097] 0.396538896419233\n",
      "39 site2a [0.35374616] 0.13298371767797432\n",
      "40 site2a [0.5181547] 0.5478029023006402\n",
      "41 site2a [0.38781544] 0.13826456360204092\n",
      "42 site2a [0.42572426] 0.11899329233356687\n",
      "43 site2a [0.38271041] 0.7246021649791972\n",
      "44 site2a [0.65114201] 0.4753403056975999\n",
      "45 site2a [0.24594571] 0.15097294531568187\n",
      "46 site2a [0.34490735] 0.8346287956239836\n",
      "47 site2a [-0.07872179] -0.21847255119064232\n",
      "48 site2a [0.79494745] 0.8350664373016826\n",
      "49 site2a [0.094305] 0.16820182337441694\n",
      "50 site2a [0.37581503] 0.5338388544959093\n",
      "51 site2c [0.71590838] 0.6054421936239971\n",
      "52 site2c [0.3550443] 0.4533723988499975\n",
      "53 site2c [0.33773226] 0.3643497406971796\n",
      "54 site2c [0.5598399] 0.47410169257687773\n",
      "55 site2c [0.7030274] 0.6260766635579058\n",
      "56 site6 [0.48289047] 0.49390821435082066\n",
      "57 site6 [0.45113803] 0.6283871655610864\n",
      "58 site6 [0.158092] 0.1520489324169993\n",
      "59 site6 [0.4596828] 0.4680485073649187\n",
      "60 site6 [0.38909419] 0.32580124355339957\n",
      "61 site6 [0.39563996] 0.25314123664995375\n",
      "62 site6 [0.73861467] 0.581110194570066\n"
     ]
    },
    {
     "name": "stderr",
     "output_type": "stream",
     "text": [
      "C:\\Users\\15086\\anaconda3\\envs\\wenqu_gdal\\lib\\site-packages\\sklearn\\cross_decomposition\\_pls.py:503: FutureWarning: The attribute `coef_` will be transposed in version 1.3 to be consistent with other linear models in scikit-learn. Currently, `coef_` has a shape of (n_features, n_targets) and in the future it will have a shape of (n_targets, n_features).\n",
      "  warnings.warn(\n"
     ]
    },
    {
     "data": {
      "image/png": "[encoded data removed]",
      "text/plain": [
       "<Figure size 900x500 with 1 Axes>"
      ]
     },
     "metadata": {},
     "output_type": "display_data"
    }
   ],
   "source": [
    "opt_Xc_PN, ncomp_PN, wav_PN, sorted_ind_PN = pls_variable_selection(x_new_traits, log_y_weighted_pn, 50)\n",
    "file_name = 'F:/wenqu/result/pn.csv'\n",
    "simple_pls_cv(opt_Xc_PN, log_y_weighted_pn, ncomp_PN, labels_pc, file_name)"
   ]
  },
  {
   "cell_type": "code",
   "execution_count": 45,
   "id": "e29ea981",
   "metadata": {},
   "outputs": [
    {
     "name": "stdout",
     "output_type": "stream",
     "text": [
      "(84,) (84,)\n"
     ]
    },
    {
     "name": "stderr",
     "output_type": "stream",
     "text": [
      "C:\\Users\\15086\\anaconda3\\envs\\wenqu_gdal\\lib\\site-packages\\sklearn\\cross_decomposition\\_pls.py:503: FutureWarning: The attribute `coef_` will be transposed in version 1.3 to be consistent with other linear models in scikit-learn. Currently, `coef_` has a shape of (n_features, n_targets) and in the future it will have a shape of (n_targets, n_features).\n",
      "  warnings.warn(\n"
     ]
    }
   ],
   "source": [
    "optimal_pls_pn  = PLSRegression(n_components=23)\n",
    "optimal_pls_pn.fit(opt_Xc_PN, log_y_weighted_pn)\n",
    "\n",
    "coefficients = optimal_pls_pn.coef_[:,0]\n",
    "bands = band_name[sorted_ind_PN][wav_PN:]\n",
    "\n",
    "print(coefficients.shape, bands.shape)"
   ]
  },
  {
   "cell_type": "code",
   "execution_count": 50,
   "id": "1a212d7d",
   "metadata": {},
   "outputs": [
    {
     "name": "stdout",
     "output_type": "stream",
     "text": [
      "[0.42099776]\n",
      "pn_trait = -0.471892*data_dict['b31_std'] + -0.145564*data_dict['b77_std'] + 0.253938*data_dict['b4_mean'] + -0.244795*data_dict['b60_mean'] + 0.039178*data_dict['b66_mean'] + -0.383809*data_dict['b99_std'] + 0.119511*data_dict['b89_std'] + 0.114502*data_dict['b37_mean'] + -0.100906*data_dict['b116_std'] + 0.184131*data_dict['b110_std'] + 0.055991*data_dict['b83_std'] + 0.049773*data_dict['b2_mean'] + 0.131370*data_dict['b16_mean'] + -0.080691*data_dict['b120_mean'] + -0.127242*data_dict['b98_std'] + 0.274960*data_dict['b13_std'] + -0.419343*data_dict['b61_mean'] + 0.443399*data_dict['b117_mean'] + -0.368409*data_dict['b117_std'] + 0.378961*data_dict['b109_mean'] + -0.577079*data_dict['b41_std'] + 0.165141*data_dict['b85_std'] + 0.155005*data_dict['b105_mean'] + 0.224987*data_dict['b67_std'] + -0.152193*data_dict['b1_mean'] + -0.156851*data_dict['b8_std'] + 0.091369*data_dict['b36_std'] + 0.296147*data_dict['b104_mean'] + 0.534717*data_dict['b21_mean'] + 0.115821*data_dict['b102_std'] + 0.406421*data_dict['b27_std'] + -0.255300*data_dict['b72_std'] + -0.314192*data_dict['b56_std'] + 0.141900*data_dict['b20_mean'] + -0.126806*data_dict['b9_mean'] + 0.393314*data_dict['b101_mean'] + -0.457711*data_dict['b78_std'] + 0.431784*data_dict['b16_std'] + -0.370999*data_dict['b11_std'] + 0.258875*data_dict['b66_std'] + 0.228040*data_dict['b113_mean'] + 0.322698*data_dict['b50_std'] + -0.076015*data_dict['b108_mean'] + -0.388571*data_dict['b32_std'] + -0.088049*data_dict['b5_std'] + -0.346596*data_dict['b22_std'] + 0.024236*data_dict['b26_std'] + -0.435907*data_dict['b15_mean'] + 0.300780*data_dict['b56_mean'] + 0.445026*data_dict['b24_std'] + 0.310980*data_dict['b9_std'] + 0.045946*data_dict['b3_mean'] + -0.469175*data_dict['b103_std'] + -0.297326*data_dict['b8_mean'] + 0.014616*data_dict['b64_std'] + -0.292109*data_dict['b28_std'] + 0.454748*data_dict['b93_std'] + -0.379786*data_dict['b7_std'] + -0.367010*data_dict['b118_std'] + 0.426287*data_dict['b57_mean'] + 0.412460*data_dict['b63_std'] + -0.345386*data_dict['b111_mean'] + 0.533680*data_dict['b37_std'] + 0.357646*data_dict['b15_std'] + 0.267326*data_dict['b65_std'] + 0.465768*data_dict['b58_std'] + -0.402457*data_dict['b2_std'] + 0.404001*data_dict['b101_std'] + -0.540402*data_dict['b122_mean'] + -0.450793*data_dict['b34_std'] + -0.621249*data_dict['b17_std'] + 0.412065*data_dict['b6_std'] + 0.409500*data_dict['b109_std'] + 0.174326*data_dict['b111_std'] + -0.404582*data_dict['b60_std'] + 0.594532*data_dict['b7_mean'] + 0.643422*data_dict['b29_std'] + -0.156878*data_dict['b114_std'] + 0.559793*data_dict['b52_std'] + -0.651896*data_dict['b118_mean'] + -0.476769*data_dict['b61_std'] + -0.908025*data_dict['b13_mean'] + 0.231748*data_dict['b120_std'] + -0.441109*data_dict['b59_std'] + 0.420998\n"
     ]
    }
   ],
   "source": [
    "\n",
    "\n",
    "x_mean = opt_Xc_PN.mean(axis=0)\n",
    "y_mean = log_y_weighted_pn.mean()\n",
    "\n",
    "intercept_pn = optimal_pls_pn.intercept_\n",
    "print(intercept_pn)\n",
    "\n",
    "linear_equation = \"pn_trait = \"\n",
    "\n",
    "for coef, predictor in zip(coefficients, bands):\n",
    "    linear_equation += \"{:.6f}*data_dict['{}'] + \".format(coef, predictor)\n",
    "\n",
    "# Adding the intercept to the end\n",
    "linear_equation += \"{:.6f}\".format(intercept_pn[0])\n",
    "\n",
    "print(linear_equation)"
   ]
  },
  {
   "cell_type": "code",
   "execution_count": null,
   "id": "1a2ce75b",
   "metadata": {},
   "outputs": [],
   "source": []
  },
  {
   "cell_type": "code",
   "execution_count": null,
   "id": "1272182b",
   "metadata": {},
   "outputs": [],
   "source": []
  },
  {
   "cell_type": "markdown",
   "id": "de7639bc",
   "metadata": {},
   "source": [
    "# d15n"
   ]
  },
  {
   "cell_type": "code",
   "execution_count": 51,
   "id": "6379e94d",
   "metadata": {
    "scrolled": true
   },
   "outputs": [
    {
     "name": "stderr",
     "output_type": "stream",
     "text": [
      "C:\\Users\\15086\\anaconda3\\envs\\wenqu_gdal\\lib\\site-packages\\sklearn\\cross_decomposition\\_pls.py:503: FutureWarning: The attribute `coef_` will be transposed in version 1.3 to be consistent with other linear models in scikit-learn. Currently, `coef_` has a shape of (n_features, n_targets) and in the future it will have a shape of (n_targets, n_features).\n",
      "  warnings.warn(\n"
     ]
    },
    {
     "name": "stdout",
     "output_type": "stream",
     "text": [
      "\r",
      "2% completed"
     ]
    },
    {
     "name": "stderr",
     "output_type": "stream",
     "text": [
      "C:\\Users\\15086\\anaconda3\\envs\\wenqu_gdal\\lib\\site-packages\\sklearn\\cross_decomposition\\_pls.py:503: FutureWarning: The attribute `coef_` will be transposed in version 1.3 to be consistent with other linear models in scikit-learn. Currently, `coef_` has a shape of (n_features, n_targets) and in the future it will have a shape of (n_targets, n_features).\n",
      "  warnings.warn(\n"
     ]
    },
    {
     "name": "stdout",
     "output_type": "stream",
     "text": [
      "\r",
      "4% completed"
     ]
    },
    {
     "name": "stderr",
     "output_type": "stream",
     "text": [
      "C:\\Users\\15086\\anaconda3\\envs\\wenqu_gdal\\lib\\site-packages\\sklearn\\cross_decomposition\\_pls.py:503: FutureWarning: The attribute `coef_` will be transposed in version 1.3 to be consistent with other linear models in scikit-learn. Currently, `coef_` has a shape of (n_features, n_targets) and in the future it will have a shape of (n_targets, n_features).\n",
      "  warnings.warn(\n"
     ]
    },
    {
     "name": "stdout",
     "output_type": "stream",
     "text": [
      "\r",
      "6% completed"
     ]
    },
    {
     "name": "stderr",
     "output_type": "stream",
     "text": [
      "C:\\Users\\15086\\anaconda3\\envs\\wenqu_gdal\\lib\\site-packages\\sklearn\\cross_decomposition\\_pls.py:503: FutureWarning: The attribute `coef_` will be transposed in version 1.3 to be consistent with other linear models in scikit-learn. Currently, `coef_` has a shape of (n_features, n_targets) and in the future it will have a shape of (n_targets, n_features).\n",
      "  warnings.warn(\n"
     ]
    },
    {
     "name": "stdout",
     "output_type": "stream",
     "text": [
      "\r",
      "8% completed"
     ]
    },
    {
     "name": "stderr",
     "output_type": "stream",
     "text": [
      "C:\\Users\\15086\\anaconda3\\envs\\wenqu_gdal\\lib\\site-packages\\sklearn\\cross_decomposition\\_pls.py:503: FutureWarning: The attribute `coef_` will be transposed in version 1.3 to be consistent with other linear models in scikit-learn. Currently, `coef_` has a shape of (n_features, n_targets) and in the future it will have a shape of (n_targets, n_features).\n",
      "  warnings.warn(\n"
     ]
    },
    {
     "name": "stdout",
     "output_type": "stream",
     "text": [
      "\r",
      "10% completed"
     ]
    },
    {
     "name": "stderr",
     "output_type": "stream",
     "text": [
      "C:\\Users\\15086\\anaconda3\\envs\\wenqu_gdal\\lib\\site-packages\\sklearn\\cross_decomposition\\_pls.py:503: FutureWarning: The attribute `coef_` will be transposed in version 1.3 to be consistent with other linear models in scikit-learn. Currently, `coef_` has a shape of (n_features, n_targets) and in the future it will have a shape of (n_targets, n_features).\n",
      "  warnings.warn(\n"
     ]
    },
    {
     "name": "stdout",
     "output_type": "stream",
     "text": [
      "\r",
      "12% completed"
     ]
    },
    {
     "name": "stderr",
     "output_type": "stream",
     "text": [
      "C:\\Users\\15086\\anaconda3\\envs\\wenqu_gdal\\lib\\site-packages\\sklearn\\cross_decomposition\\_pls.py:503: FutureWarning: The attribute `coef_` will be transposed in version 1.3 to be consistent with other linear models in scikit-learn. Currently, `coef_` has a shape of (n_features, n_targets) and in the future it will have a shape of (n_targets, n_features).\n",
      "  warnings.warn(\n"
     ]
    },
    {
     "name": "stdout",
     "output_type": "stream",
     "text": [
      "\r",
      "14% completed"
     ]
    },
    {
     "name": "stderr",
     "output_type": "stream",
     "text": [
      "C:\\Users\\15086\\anaconda3\\envs\\wenqu_gdal\\lib\\site-packages\\sklearn\\cross_decomposition\\_pls.py:503: FutureWarning: The attribute `coef_` will be transposed in version 1.3 to be consistent with other linear models in scikit-learn. Currently, `coef_` has a shape of (n_features, n_targets) and in the future it will have a shape of (n_targets, n_features).\n",
      "  warnings.warn(\n"
     ]
    },
    {
     "name": "stdout",
     "output_type": "stream",
     "text": [
      "\r",
      "16% completed"
     ]
    },
    {
     "name": "stderr",
     "output_type": "stream",
     "text": [
      "C:\\Users\\15086\\anaconda3\\envs\\wenqu_gdal\\lib\\site-packages\\sklearn\\cross_decomposition\\_pls.py:503: FutureWarning: The attribute `coef_` will be transposed in version 1.3 to be consistent with other linear models in scikit-learn. Currently, `coef_` has a shape of (n_features, n_targets) and in the future it will have a shape of (n_targets, n_features).\n",
      "  warnings.warn(\n"
     ]
    },
    {
     "name": "stdout",
     "output_type": "stream",
     "text": [
      "\r",
      "18% completed"
     ]
    },
    {
     "name": "stderr",
     "output_type": "stream",
     "text": [
      "C:\\Users\\15086\\anaconda3\\envs\\wenqu_gdal\\lib\\site-packages\\sklearn\\cross_decomposition\\_pls.py:503: FutureWarning: The attribute `coef_` will be transposed in version 1.3 to be consistent with other linear models in scikit-learn. Currently, `coef_` has a shape of (n_features, n_targets) and in the future it will have a shape of (n_targets, n_features).\n",
      "  warnings.warn(\n"
     ]
    },
    {
     "name": "stdout",
     "output_type": "stream",
     "text": [
      "\r",
      "20% completed"
     ]
    },
    {
     "name": "stderr",
     "output_type": "stream",
     "text": [
      "C:\\Users\\15086\\anaconda3\\envs\\wenqu_gdal\\lib\\site-packages\\sklearn\\cross_decomposition\\_pls.py:503: FutureWarning: The attribute `coef_` will be transposed in version 1.3 to be consistent with other linear models in scikit-learn. Currently, `coef_` has a shape of (n_features, n_targets) and in the future it will have a shape of (n_targets, n_features).\n",
      "  warnings.warn(\n"
     ]
    },
    {
     "name": "stdout",
     "output_type": "stream",
     "text": [
      "\r",
      "22% completed"
     ]
    },
    {
     "name": "stderr",
     "output_type": "stream",
     "text": [
      "C:\\Users\\15086\\anaconda3\\envs\\wenqu_gdal\\lib\\site-packages\\sklearn\\cross_decomposition\\_pls.py:503: FutureWarning: The attribute `coef_` will be transposed in version 1.3 to be consistent with other linear models in scikit-learn. Currently, `coef_` has a shape of (n_features, n_targets) and in the future it will have a shape of (n_targets, n_features).\n",
      "  warnings.warn(\n"
     ]
    },
    {
     "name": "stdout",
     "output_type": "stream",
     "text": [
      "\r",
      "24% completed"
     ]
    },
    {
     "name": "stderr",
     "output_type": "stream",
     "text": [
      "C:\\Users\\15086\\anaconda3\\envs\\wenqu_gdal\\lib\\site-packages\\sklearn\\cross_decomposition\\_pls.py:503: FutureWarning: The attribute `coef_` will be transposed in version 1.3 to be consistent with other linear models in scikit-learn. Currently, `coef_` has a shape of (n_features, n_targets) and in the future it will have a shape of (n_targets, n_features).\n",
      "  warnings.warn(\n"
     ]
    },
    {
     "name": "stdout",
     "output_type": "stream",
     "text": [
      "\r",
      "26% completed"
     ]
    },
    {
     "name": "stderr",
     "output_type": "stream",
     "text": [
      "C:\\Users\\15086\\anaconda3\\envs\\wenqu_gdal\\lib\\site-packages\\sklearn\\cross_decomposition\\_pls.py:503: FutureWarning: The attribute `coef_` will be transposed in version 1.3 to be consistent with other linear models in scikit-learn. Currently, `coef_` has a shape of (n_features, n_targets) and in the future it will have a shape of (n_targets, n_features).\n",
      "  warnings.warn(\n"
     ]
    },
    {
     "name": "stdout",
     "output_type": "stream",
     "text": [
      "\r",
      "28% completed"
     ]
    },
    {
     "name": "stderr",
     "output_type": "stream",
     "text": [
      "C:\\Users\\15086\\anaconda3\\envs\\wenqu_gdal\\lib\\site-packages\\sklearn\\cross_decomposition\\_pls.py:503: FutureWarning: The attribute `coef_` will be transposed in version 1.3 to be consistent with other linear models in scikit-learn. Currently, `coef_` has a shape of (n_features, n_targets) and in the future it will have a shape of (n_targets, n_features).\n",
      "  warnings.warn(\n"
     ]
    },
    {
     "name": "stdout",
     "output_type": "stream",
     "text": [
      "\r",
      "30% completed"
     ]
    },
    {
     "name": "stderr",
     "output_type": "stream",
     "text": [
      "C:\\Users\\15086\\anaconda3\\envs\\wenqu_gdal\\lib\\site-packages\\sklearn\\cross_decomposition\\_pls.py:503: FutureWarning: The attribute `coef_` will be transposed in version 1.3 to be consistent with other linear models in scikit-learn. Currently, `coef_` has a shape of (n_features, n_targets) and in the future it will have a shape of (n_targets, n_features).\n",
      "  warnings.warn(\n"
     ]
    },
    {
     "name": "stdout",
     "output_type": "stream",
     "text": [
      "\r",
      "32% completed"
     ]
    },
    {
     "name": "stderr",
     "output_type": "stream",
     "text": [
      "C:\\Users\\15086\\anaconda3\\envs\\wenqu_gdal\\lib\\site-packages\\sklearn\\cross_decomposition\\_pls.py:503: FutureWarning: The attribute `coef_` will be transposed in version 1.3 to be consistent with other linear models in scikit-learn. Currently, `coef_` has a shape of (n_features, n_targets) and in the future it will have a shape of (n_targets, n_features).\n",
      "  warnings.warn(\n"
     ]
    },
    {
     "name": "stdout",
     "output_type": "stream",
     "text": [
      "\r",
      "34% completed"
     ]
    },
    {
     "name": "stderr",
     "output_type": "stream",
     "text": [
      "C:\\Users\\15086\\anaconda3\\envs\\wenqu_gdal\\lib\\site-packages\\sklearn\\cross_decomposition\\_pls.py:503: FutureWarning: The attribute `coef_` will be transposed in version 1.3 to be consistent with other linear models in scikit-learn. Currently, `coef_` has a shape of (n_features, n_targets) and in the future it will have a shape of (n_targets, n_features).\n",
      "  warnings.warn(\n"
     ]
    },
    {
     "name": "stdout",
     "output_type": "stream",
     "text": [
      "\r",
      "36% completed"
     ]
    },
    {
     "name": "stderr",
     "output_type": "stream",
     "text": [
      "C:\\Users\\15086\\anaconda3\\envs\\wenqu_gdal\\lib\\site-packages\\sklearn\\cross_decomposition\\_pls.py:503: FutureWarning: The attribute `coef_` will be transposed in version 1.3 to be consistent with other linear models in scikit-learn. Currently, `coef_` has a shape of (n_features, n_targets) and in the future it will have a shape of (n_targets, n_features).\n",
      "  warnings.warn(\n"
     ]
    },
    {
     "name": "stdout",
     "output_type": "stream",
     "text": [
      "\r",
      "38% completed"
     ]
    },
    {
     "name": "stderr",
     "output_type": "stream",
     "text": [
      "C:\\Users\\15086\\anaconda3\\envs\\wenqu_gdal\\lib\\site-packages\\sklearn\\cross_decomposition\\_pls.py:503: FutureWarning: The attribute `coef_` will be transposed in version 1.3 to be consistent with other linear models in scikit-learn. Currently, `coef_` has a shape of (n_features, n_targets) and in the future it will have a shape of (n_targets, n_features).\n",
      "  warnings.warn(\n"
     ]
    },
    {
     "name": "stdout",
     "output_type": "stream",
     "text": [
      "\r",
      "40% completed"
     ]
    },
    {
     "name": "stderr",
     "output_type": "stream",
     "text": [
      "C:\\Users\\15086\\anaconda3\\envs\\wenqu_gdal\\lib\\site-packages\\sklearn\\cross_decomposition\\_pls.py:503: FutureWarning: The attribute `coef_` will be transposed in version 1.3 to be consistent with other linear models in scikit-learn. Currently, `coef_` has a shape of (n_features, n_targets) and in the future it will have a shape of (n_targets, n_features).\n",
      "  warnings.warn(\n"
     ]
    },
    {
     "name": "stdout",
     "output_type": "stream",
     "text": [
      "\r",
      "42% completed"
     ]
    },
    {
     "name": "stderr",
     "output_type": "stream",
     "text": [
      "C:\\Users\\15086\\anaconda3\\envs\\wenqu_gdal\\lib\\site-packages\\sklearn\\cross_decomposition\\_pls.py:503: FutureWarning: The attribute `coef_` will be transposed in version 1.3 to be consistent with other linear models in scikit-learn. Currently, `coef_` has a shape of (n_features, n_targets) and in the future it will have a shape of (n_targets, n_features).\n",
      "  warnings.warn(\n"
     ]
    },
    {
     "name": "stdout",
     "output_type": "stream",
     "text": [
      "\r",
      "44% completed"
     ]
    },
    {
     "name": "stderr",
     "output_type": "stream",
     "text": [
      "C:\\Users\\15086\\anaconda3\\envs\\wenqu_gdal\\lib\\site-packages\\sklearn\\cross_decomposition\\_pls.py:503: FutureWarning: The attribute `coef_` will be transposed in version 1.3 to be consistent with other linear models in scikit-learn. Currently, `coef_` has a shape of (n_features, n_targets) and in the future it will have a shape of (n_targets, n_features).\n",
      "  warnings.warn(\n"
     ]
    },
    {
     "name": "stdout",
     "output_type": "stream",
     "text": [
      "\r",
      "46% completed"
     ]
    },
    {
     "name": "stderr",
     "output_type": "stream",
     "text": [
      "C:\\Users\\15086\\anaconda3\\envs\\wenqu_gdal\\lib\\site-packages\\sklearn\\cross_decomposition\\_pls.py:503: FutureWarning: The attribute `coef_` will be transposed in version 1.3 to be consistent with other linear models in scikit-learn. Currently, `coef_` has a shape of (n_features, n_targets) and in the future it will have a shape of (n_targets, n_features).\n",
      "  warnings.warn(\n"
     ]
    },
    {
     "name": "stdout",
     "output_type": "stream",
     "text": [
      "\r",
      "48% completed"
     ]
    },
    {
     "name": "stderr",
     "output_type": "stream",
     "text": [
      "C:\\Users\\15086\\anaconda3\\envs\\wenqu_gdal\\lib\\site-packages\\sklearn\\cross_decomposition\\_pls.py:503: FutureWarning: The attribute `coef_` will be transposed in version 1.3 to be consistent with other linear models in scikit-learn. Currently, `coef_` has a shape of (n_features, n_targets) and in the future it will have a shape of (n_targets, n_features).\n",
      "  warnings.warn(\n"
     ]
    },
    {
     "name": "stdout",
     "output_type": "stream",
     "text": [
      "\r",
      "50% completed"
     ]
    },
    {
     "name": "stderr",
     "output_type": "stream",
     "text": [
      "C:\\Users\\15086\\anaconda3\\envs\\wenqu_gdal\\lib\\site-packages\\sklearn\\cross_decomposition\\_pls.py:503: FutureWarning: The attribute `coef_` will be transposed in version 1.3 to be consistent with other linear models in scikit-learn. Currently, `coef_` has a shape of (n_features, n_targets) and in the future it will have a shape of (n_targets, n_features).\n",
      "  warnings.warn(\n"
     ]
    },
    {
     "name": "stdout",
     "output_type": "stream",
     "text": [
      "\r",
      "52% completed"
     ]
    },
    {
     "name": "stderr",
     "output_type": "stream",
     "text": [
      "C:\\Users\\15086\\anaconda3\\envs\\wenqu_gdal\\lib\\site-packages\\sklearn\\cross_decomposition\\_pls.py:503: FutureWarning: The attribute `coef_` will be transposed in version 1.3 to be consistent with other linear models in scikit-learn. Currently, `coef_` has a shape of (n_features, n_targets) and in the future it will have a shape of (n_targets, n_features).\n",
      "  warnings.warn(\n"
     ]
    },
    {
     "name": "stdout",
     "output_type": "stream",
     "text": [
      "\r",
      "54% completed"
     ]
    },
    {
     "name": "stderr",
     "output_type": "stream",
     "text": [
      "C:\\Users\\15086\\anaconda3\\envs\\wenqu_gdal\\lib\\site-packages\\sklearn\\cross_decomposition\\_pls.py:503: FutureWarning: The attribute `coef_` will be transposed in version 1.3 to be consistent with other linear models in scikit-learn. Currently, `coef_` has a shape of (n_features, n_targets) and in the future it will have a shape of (n_targets, n_features).\n",
      "  warnings.warn(\n"
     ]
    },
    {
     "name": "stdout",
     "output_type": "stream",
     "text": [
      "\r",
      "56% completed"
     ]
    },
    {
     "name": "stderr",
     "output_type": "stream",
     "text": [
      "C:\\Users\\15086\\anaconda3\\envs\\wenqu_gdal\\lib\\site-packages\\sklearn\\cross_decomposition\\_pls.py:503: FutureWarning: The attribute `coef_` will be transposed in version 1.3 to be consistent with other linear models in scikit-learn. Currently, `coef_` has a shape of (n_features, n_targets) and in the future it will have a shape of (n_targets, n_features).\n",
      "  warnings.warn(\n"
     ]
    },
    {
     "name": "stdout",
     "output_type": "stream",
     "text": [
      "\r",
      "58% completed"
     ]
    },
    {
     "name": "stderr",
     "output_type": "stream",
     "text": [
      "C:\\Users\\15086\\anaconda3\\envs\\wenqu_gdal\\lib\\site-packages\\sklearn\\cross_decomposition\\_pls.py:503: FutureWarning: The attribute `coef_` will be transposed in version 1.3 to be consistent with other linear models in scikit-learn. Currently, `coef_` has a shape of (n_features, n_targets) and in the future it will have a shape of (n_targets, n_features).\n",
      "  warnings.warn(\n"
     ]
    },
    {
     "name": "stdout",
     "output_type": "stream",
     "text": [
      "\r",
      "60% completed"
     ]
    },
    {
     "name": "stderr",
     "output_type": "stream",
     "text": [
      "C:\\Users\\15086\\anaconda3\\envs\\wenqu_gdal\\lib\\site-packages\\sklearn\\cross_decomposition\\_pls.py:503: FutureWarning: The attribute `coef_` will be transposed in version 1.3 to be consistent with other linear models in scikit-learn. Currently, `coef_` has a shape of (n_features, n_targets) and in the future it will have a shape of (n_targets, n_features).\n",
      "  warnings.warn(\n"
     ]
    },
    {
     "name": "stdout",
     "output_type": "stream",
     "text": [
      "\r",
      "62% completed"
     ]
    },
    {
     "name": "stderr",
     "output_type": "stream",
     "text": [
      "C:\\Users\\15086\\anaconda3\\envs\\wenqu_gdal\\lib\\site-packages\\sklearn\\cross_decomposition\\_pls.py:503: FutureWarning: The attribute `coef_` will be transposed in version 1.3 to be consistent with other linear models in scikit-learn. Currently, `coef_` has a shape of (n_features, n_targets) and in the future it will have a shape of (n_targets, n_features).\n",
      "  warnings.warn(\n"
     ]
    },
    {
     "name": "stdout",
     "output_type": "stream",
     "text": [
      "\r",
      "64% completed"
     ]
    },
    {
     "name": "stderr",
     "output_type": "stream",
     "text": [
      "C:\\Users\\15086\\anaconda3\\envs\\wenqu_gdal\\lib\\site-packages\\sklearn\\cross_decomposition\\_pls.py:503: FutureWarning: The attribute `coef_` will be transposed in version 1.3 to be consistent with other linear models in scikit-learn. Currently, `coef_` has a shape of (n_features, n_targets) and in the future it will have a shape of (n_targets, n_features).\n",
      "  warnings.warn(\n"
     ]
    },
    {
     "name": "stdout",
     "output_type": "stream",
     "text": [
      "\r",
      "66% completed"
     ]
    },
    {
     "name": "stderr",
     "output_type": "stream",
     "text": [
      "C:\\Users\\15086\\anaconda3\\envs\\wenqu_gdal\\lib\\site-packages\\sklearn\\cross_decomposition\\_pls.py:503: FutureWarning: The attribute `coef_` will be transposed in version 1.3 to be consistent with other linear models in scikit-learn. Currently, `coef_` has a shape of (n_features, n_targets) and in the future it will have a shape of (n_targets, n_features).\n",
      "  warnings.warn(\n"
     ]
    },
    {
     "name": "stdout",
     "output_type": "stream",
     "text": [
      "\r",
      "68% completed"
     ]
    },
    {
     "name": "stderr",
     "output_type": "stream",
     "text": [
      "C:\\Users\\15086\\anaconda3\\envs\\wenqu_gdal\\lib\\site-packages\\sklearn\\cross_decomposition\\_pls.py:503: FutureWarning: The attribute `coef_` will be transposed in version 1.3 to be consistent with other linear models in scikit-learn. Currently, `coef_` has a shape of (n_features, n_targets) and in the future it will have a shape of (n_targets, n_features).\n",
      "  warnings.warn(\n"
     ]
    },
    {
     "name": "stdout",
     "output_type": "stream",
     "text": [
      "\r",
      "70% completed"
     ]
    },
    {
     "name": "stderr",
     "output_type": "stream",
     "text": [
      "C:\\Users\\15086\\anaconda3\\envs\\wenqu_gdal\\lib\\site-packages\\sklearn\\cross_decomposition\\_pls.py:503: FutureWarning: The attribute `coef_` will be transposed in version 1.3 to be consistent with other linear models in scikit-learn. Currently, `coef_` has a shape of (n_features, n_targets) and in the future it will have a shape of (n_targets, n_features).\n",
      "  warnings.warn(\n"
     ]
    },
    {
     "name": "stdout",
     "output_type": "stream",
     "text": [
      "\r",
      "72% completed"
     ]
    },
    {
     "name": "stderr",
     "output_type": "stream",
     "text": [
      "C:\\Users\\15086\\anaconda3\\envs\\wenqu_gdal\\lib\\site-packages\\sklearn\\cross_decomposition\\_pls.py:503: FutureWarning: The attribute `coef_` will be transposed in version 1.3 to be consistent with other linear models in scikit-learn. Currently, `coef_` has a shape of (n_features, n_targets) and in the future it will have a shape of (n_targets, n_features).\n",
      "  warnings.warn(\n"
     ]
    },
    {
     "name": "stdout",
     "output_type": "stream",
     "text": [
      "\r",
      "74% completed"
     ]
    },
    {
     "name": "stderr",
     "output_type": "stream",
     "text": [
      "C:\\Users\\15086\\anaconda3\\envs\\wenqu_gdal\\lib\\site-packages\\sklearn\\cross_decomposition\\_pls.py:503: FutureWarning: The attribute `coef_` will be transposed in version 1.3 to be consistent with other linear models in scikit-learn. Currently, `coef_` has a shape of (n_features, n_targets) and in the future it will have a shape of (n_targets, n_features).\n",
      "  warnings.warn(\n"
     ]
    },
    {
     "name": "stdout",
     "output_type": "stream",
     "text": [
      "\r",
      "76% completed"
     ]
    },
    {
     "name": "stderr",
     "output_type": "stream",
     "text": [
      "C:\\Users\\15086\\anaconda3\\envs\\wenqu_gdal\\lib\\site-packages\\sklearn\\cross_decomposition\\_pls.py:503: FutureWarning: The attribute `coef_` will be transposed in version 1.3 to be consistent with other linear models in scikit-learn. Currently, `coef_` has a shape of (n_features, n_targets) and in the future it will have a shape of (n_targets, n_features).\n",
      "  warnings.warn(\n"
     ]
    },
    {
     "name": "stdout",
     "output_type": "stream",
     "text": [
      "\r",
      "78% completed"
     ]
    },
    {
     "name": "stderr",
     "output_type": "stream",
     "text": [
      "C:\\Users\\15086\\anaconda3\\envs\\wenqu_gdal\\lib\\site-packages\\sklearn\\cross_decomposition\\_pls.py:503: FutureWarning: The attribute `coef_` will be transposed in version 1.3 to be consistent with other linear models in scikit-learn. Currently, `coef_` has a shape of (n_features, n_targets) and in the future it will have a shape of (n_targets, n_features).\n",
      "  warnings.warn(\n"
     ]
    },
    {
     "name": "stdout",
     "output_type": "stream",
     "text": [
      "\r",
      "80% completed"
     ]
    },
    {
     "name": "stderr",
     "output_type": "stream",
     "text": [
      "C:\\Users\\15086\\anaconda3\\envs\\wenqu_gdal\\lib\\site-packages\\sklearn\\cross_decomposition\\_pls.py:503: FutureWarning: The attribute `coef_` will be transposed in version 1.3 to be consistent with other linear models in scikit-learn. Currently, `coef_` has a shape of (n_features, n_targets) and in the future it will have a shape of (n_targets, n_features).\n",
      "  warnings.warn(\n"
     ]
    },
    {
     "name": "stdout",
     "output_type": "stream",
     "text": [
      "\r",
      "82% completed"
     ]
    },
    {
     "name": "stderr",
     "output_type": "stream",
     "text": [
      "C:\\Users\\15086\\anaconda3\\envs\\wenqu_gdal\\lib\\site-packages\\sklearn\\cross_decomposition\\_pls.py:503: FutureWarning: The attribute `coef_` will be transposed in version 1.3 to be consistent with other linear models in scikit-learn. Currently, `coef_` has a shape of (n_features, n_targets) and in the future it will have a shape of (n_targets, n_features).\n",
      "  warnings.warn(\n"
     ]
    },
    {
     "name": "stdout",
     "output_type": "stream",
     "text": [
      "\r",
      "84% completed"
     ]
    },
    {
     "name": "stderr",
     "output_type": "stream",
     "text": [
      "C:\\Users\\15086\\anaconda3\\envs\\wenqu_gdal\\lib\\site-packages\\sklearn\\cross_decomposition\\_pls.py:503: FutureWarning: The attribute `coef_` will be transposed in version 1.3 to be consistent with other linear models in scikit-learn. Currently, `coef_` has a shape of (n_features, n_targets) and in the future it will have a shape of (n_targets, n_features).\n",
      "  warnings.warn(\n"
     ]
    },
    {
     "name": "stdout",
     "output_type": "stream",
     "text": [
      "\r",
      "86% completed"
     ]
    },
    {
     "name": "stderr",
     "output_type": "stream",
     "text": [
      "C:\\Users\\15086\\anaconda3\\envs\\wenqu_gdal\\lib\\site-packages\\sklearn\\cross_decomposition\\_pls.py:503: FutureWarning: The attribute `coef_` will be transposed in version 1.3 to be consistent with other linear models in scikit-learn. Currently, `coef_` has a shape of (n_features, n_targets) and in the future it will have a shape of (n_targets, n_features).\n",
      "  warnings.warn(\n"
     ]
    },
    {
     "name": "stdout",
     "output_type": "stream",
     "text": [
      "\r",
      "88% completed"
     ]
    },
    {
     "name": "stderr",
     "output_type": "stream",
     "text": [
      "C:\\Users\\15086\\anaconda3\\envs\\wenqu_gdal\\lib\\site-packages\\sklearn\\cross_decomposition\\_pls.py:503: FutureWarning: The attribute `coef_` will be transposed in version 1.3 to be consistent with other linear models in scikit-learn. Currently, `coef_` has a shape of (n_features, n_targets) and in the future it will have a shape of (n_targets, n_features).\n",
      "  warnings.warn(\n"
     ]
    },
    {
     "name": "stdout",
     "output_type": "stream",
     "text": [
      "\r",
      "90% completed"
     ]
    },
    {
     "name": "stderr",
     "output_type": "stream",
     "text": [
      "C:\\Users\\15086\\anaconda3\\envs\\wenqu_gdal\\lib\\site-packages\\sklearn\\cross_decomposition\\_pls.py:503: FutureWarning: The attribute `coef_` will be transposed in version 1.3 to be consistent with other linear models in scikit-learn. Currently, `coef_` has a shape of (n_features, n_targets) and in the future it will have a shape of (n_targets, n_features).\n",
      "  warnings.warn(\n"
     ]
    },
    {
     "name": "stdout",
     "output_type": "stream",
     "text": [
      "\r",
      "92% completed"
     ]
    },
    {
     "name": "stderr",
     "output_type": "stream",
     "text": [
      "C:\\Users\\15086\\anaconda3\\envs\\wenqu_gdal\\lib\\site-packages\\sklearn\\cross_decomposition\\_pls.py:503: FutureWarning: The attribute `coef_` will be transposed in version 1.3 to be consistent with other linear models in scikit-learn. Currently, `coef_` has a shape of (n_features, n_targets) and in the future it will have a shape of (n_targets, n_features).\n",
      "  warnings.warn(\n"
     ]
    },
    {
     "name": "stdout",
     "output_type": "stream",
     "text": [
      "\r",
      "94% completed"
     ]
    },
    {
     "name": "stderr",
     "output_type": "stream",
     "text": [
      "C:\\Users\\15086\\anaconda3\\envs\\wenqu_gdal\\lib\\site-packages\\sklearn\\cross_decomposition\\_pls.py:503: FutureWarning: The attribute `coef_` will be transposed in version 1.3 to be consistent with other linear models in scikit-learn. Currently, `coef_` has a shape of (n_features, n_targets) and in the future it will have a shape of (n_targets, n_features).\n",
      "  warnings.warn(\n"
     ]
    },
    {
     "name": "stdout",
     "output_type": "stream",
     "text": [
      "\r",
      "96% completed"
     ]
    },
    {
     "name": "stderr",
     "output_type": "stream",
     "text": [
      "C:\\Users\\15086\\anaconda3\\envs\\wenqu_gdal\\lib\\site-packages\\sklearn\\cross_decomposition\\_pls.py:503: FutureWarning: The attribute `coef_` will be transposed in version 1.3 to be consistent with other linear models in scikit-learn. Currently, `coef_` has a shape of (n_features, n_targets) and in the future it will have a shape of (n_targets, n_features).\n",
      "  warnings.warn(\n"
     ]
    },
    {
     "name": "stdout",
     "output_type": "stream",
     "text": [
      "\r",
      "98% completed"
     ]
    },
    {
     "name": "stderr",
     "output_type": "stream",
     "text": [
      "C:\\Users\\15086\\anaconda3\\envs\\wenqu_gdal\\lib\\site-packages\\sklearn\\cross_decomposition\\_pls.py:503: FutureWarning: The attribute `coef_` will be transposed in version 1.3 to be consistent with other linear models in scikit-learn. Currently, `coef_` has a shape of (n_features, n_targets) and in the future it will have a shape of (n_targets, n_features).\n",
      "  warnings.warn(\n"
     ]
    },
    {
     "name": "stdout",
     "output_type": "stream",
     "text": [
      "100% completed\n",
      "Optimised number of PLS components:  14\n",
      "Wavelengths to be keeped  27\n",
      "Optimised MSEP  2.077459735178264\n",
      "\n",
      "R2 calib: 0.788\n",
      "R2 CV: 0.429\n",
      "RMSE calib: 1.149\n",
      "RMSE CV: 1.885\n",
      "[-0.26005786] [0.66672457]\n",
      "0 site1b [-3.39740976] -2.674120998\n",
      "1 site1b [1.86084973] 1.831297519\n",
      "2 site1b [2.30845048] 2.088882277\n",
      "3 site1b [-2.65124947] -1.259432228\n",
      "4 site1b [-0.10502048] -1.321240785\n",
      "5 site1b [1.96849747] -1.05676545\n",
      "6 site1b [0.08499779] 2.243227495\n",
      "7 site1b [-2.64427196] -4.042904221\n",
      "8 site1b [-1.13832941] -1.73009192\n",
      "9 site1b [-2.43325313] -2.647368389\n",
      "10 site1b [1.08241441] 1.36352194\n",
      "11 site1b [0.92423966] -1.414529963\n",
      "12 site1b [-0.21716066] -0.782025641\n",
      "13 site1b [0.35133775] -0.002255068\n",
      "14 site1b [-0.58924193] -0.722110205\n",
      "15 site1b [-0.62321606] 0.847306639\n",
      "16 site1b [-1.64981728] -2.601431106\n",
      "17 site1b [-4.11569726] -3.065337528\n",
      "18 site1b [-1.44087406] 0.007594137\n",
      "19 site1b [-1.49133252] -0.975922671\n",
      "20 site1b [-3.28189128] -0.647548399\n",
      "21 site1b [-1.08621492] -1.924507133\n",
      "22 site1b [4.75117581] 1.835286065\n",
      "23 site1b [1.43400031] 4.177666307\n",
      "24 site2a [-0.59085276] -3.236060485\n",
      "25 site2a [-1.56975443] -1.591296633\n",
      "26 site2a [-1.05156604] -0.851441381\n",
      "27 site2a [-0.83785492] -0.632417485\n",
      "28 site2a [-2.92879475] -4.190787721\n",
      "29 site2a [-3.44498269] 1.664091002\n",
      "30 site2a [-3.42782533] -5.134578025\n",
      "31 site2a [-1.41117937] -2.563673724\n",
      "32 site2a [-2.08164093] -2.680839838\n",
      "33 site2a [-5.31150762] -4.312780974\n",
      "34 site2a [-4.53566855] -6.699336446\n",
      "35 site2a [-3.87159092] -3.268373377\n",
      "36 site2a [0.38068937] 0.390757401\n",
      "37 site2a [-0.19609388] -0.635673937\n",
      "38 site2a [-1.72166304] -4.954065641\n",
      "39 site2a [-5.21537364] -3.887971727\n",
      "40 site2a [-2.52683089] -2.788241178\n",
      "41 site2a [-0.32514335] 0.122263414\n",
      "42 site2a [-3.09563546] -3.531048528\n",
      "43 site2a [-0.25406078] -3.218857584\n",
      "44 site2a [-2.03963005] 0.845991644\n",
      "45 site2a [2.6555691] -2.496183981\n",
      "46 site2a [-1.54496975] -0.807910037\n",
      "47 site2a [-1.34438615] -1.129394724\n",
      "48 site2a [-2.56188402] -0.152282164\n",
      "49 site2a [-2.16989311] -1.383475835\n",
      "50 site2a [2.53800284] 4.122433095\n",
      "51 site2c [-3.58442173] -0.548885079\n",
      "52 site2c [4.36081878] 2.215617616\n",
      "53 site2c [4.67264987] 3.39447971\n",
      "54 site2c [0.82330858] 2.49764395\n",
      "55 site2c [1.40168009] -3.215454502\n",
      "56 site6 [3.37983853] 5.415815715\n",
      "57 site6 [1.57190949] 3.372182563\n",
      "58 site6 [3.80770583] 1.42727768\n",
      "59 site6 [1.66811369] 3.717564319\n",
      "60 site6 [-2.85187223] -2.243013533\n",
      "61 site6 [-2.06947485] -1.346010196\n",
      "62 site6 [-0.96056844] 0.446420151\n"
     ]
    },
    {
     "name": "stderr",
     "output_type": "stream",
     "text": [
      "C:\\Users\\15086\\anaconda3\\envs\\wenqu_gdal\\lib\\site-packages\\sklearn\\cross_decomposition\\_pls.py:503: FutureWarning: The attribute `coef_` will be transposed in version 1.3 to be consistent with other linear models in scikit-learn. Currently, `coef_` has a shape of (n_features, n_targets) and in the future it will have a shape of (n_targets, n_features).\n",
      "  warnings.warn(\n"
     ]
    },
    {
     "data": {
      "image/png": "[encoded data removed]",
      "text/plain": [
       "<Figure size 900x500 with 1 Axes>"
      ]
     },
     "metadata": {},
     "output_type": "display_data"
    }
   ],
   "source": [
    "opt_Xc_D15N, ncomp_D15N, wav_D15N, sorted_ind_D15N = pls_variable_selection(x_new_traits, y_weighted_d15n, 50)\n",
    "file_name = 'F:/wenqu/result/d15n.csv'\n",
    "simple_pls_cv(opt_Xc_D15N, y_weighted_d15n, ncomp_D15N, labels_pc, file_name)"
   ]
  },
  {
   "cell_type": "code",
   "execution_count": 53,
   "id": "339fb742",
   "metadata": {},
   "outputs": [
    {
     "name": "stdout",
     "output_type": "stream",
     "text": [
      "(27,) (27,)\n"
     ]
    },
    {
     "name": "stderr",
     "output_type": "stream",
     "text": [
      "C:\\Users\\15086\\anaconda3\\envs\\wenqu_gdal\\lib\\site-packages\\sklearn\\cross_decomposition\\_pls.py:503: FutureWarning: The attribute `coef_` will be transposed in version 1.3 to be consistent with other linear models in scikit-learn. Currently, `coef_` has a shape of (n_features, n_targets) and in the future it will have a shape of (n_targets, n_features).\n",
      "  warnings.warn(\n"
     ]
    }
   ],
   "source": [
    "optimal_pls_D15N  = PLSRegression(n_components=14)\n",
    "optimal_pls_D15N.fit(opt_Xc_D15N, y_weighted_d15n)\n",
    "\n",
    "coefficients = optimal_pls_D15N.coef_[:,0]\n",
    "bands = band_name[sorted_ind_D15N][wav_D15N:]\n",
    "\n",
    "print(coefficients.shape, bands.shape)"
   ]
  },
  {
   "cell_type": "code",
   "execution_count": 54,
   "id": "c45d439a",
   "metadata": {},
   "outputs": [
    {
     "name": "stdout",
     "output_type": "stream",
     "text": [
      "d15n_trait = 2.809115*data_dict['b38_std'] + -1.909639*data_dict['b10_std'] + 0.184910*data_dict['b26_mean'] + -3.623139*data_dict['b111_mean'] + -4.173436*data_dict['b122_mean'] + -2.454805*data_dict['b14_mean'] + -0.505939*data_dict['b13_std'] + -4.897085*data_dict['b91_std'] + -1.218791*data_dict['b25_std'] + 2.450543*data_dict['b14_std'] + -1.993648*data_dict['b23_std'] + 1.738747*data_dict['b107_mean'] + 3.594383*data_dict['b109_std'] + -2.811000*data_dict['b18_std'] + 5.137335*data_dict['b11_std'] + 4.702200*data_dict['b98_std'] + 1.730385*data_dict['b9_std'] + 0.905407*data_dict['b7_mean'] + 4.957392*data_dict['b101_std'] + -2.775233*data_dict['b15_std'] + -2.339718*data_dict['b3_mean'] + 1.676857*data_dict['b8_mean'] + -5.663423*data_dict['b99_std'] + -4.132440*data_dict['b113_std'] + 5.365407*data_dict['b120_std'] + 6.620330*data_dict['b108_mean'] + -5.018915*data_dict['b118_std'] + -0.830737\n"
     ]
    }
   ],
   "source": [
    "\n",
    "intercept_d15n = optimal_pls_D15N.intercept_\n",
    "\n",
    "linear_equation = \"d15n_trait = \"\n",
    "\n",
    "for coef, predictor in zip(coefficients, bands):\n",
    "    linear_equation += \"{:.6f}*data_dict['{}'] + \".format(coef, predictor)\n",
    "\n",
    "# Adding the intercept to the end\n",
    "linear_equation += \"{:.6f}\".format(intercept_d15n[0])\n",
    "\n",
    "print(linear_equation)"
   ]
  },
  {
   "cell_type": "markdown",
   "id": "19058a7d",
   "metadata": {},
   "source": [
    "# LA"
   ]
  },
  {
   "cell_type": "code",
   "execution_count": 55,
   "id": "bacbf2d3",
   "metadata": {
    "scrolled": true
   },
   "outputs": [
    {
     "name": "stderr",
     "output_type": "stream",
     "text": [
      "C:\\Users\\15086\\anaconda3\\envs\\wenqu_gdal\\lib\\site-packages\\sklearn\\cross_decomposition\\_pls.py:503: FutureWarning: The attribute `coef_` will be transposed in version 1.3 to be consistent with other linear models in scikit-learn. Currently, `coef_` has a shape of (n_features, n_targets) and in the future it will have a shape of (n_targets, n_features).\n",
      "  warnings.warn(\n"
     ]
    },
    {
     "name": "stdout",
     "output_type": "stream",
     "text": [
      "\r",
      "2% completed"
     ]
    },
    {
     "name": "stderr",
     "output_type": "stream",
     "text": [
      "C:\\Users\\15086\\anaconda3\\envs\\wenqu_gdal\\lib\\site-packages\\sklearn\\cross_decomposition\\_pls.py:503: FutureWarning: The attribute `coef_` will be transposed in version 1.3 to be consistent with other linear models in scikit-learn. Currently, `coef_` has a shape of (n_features, n_targets) and in the future it will have a shape of (n_targets, n_features).\n",
      "  warnings.warn(\n"
     ]
    },
    {
     "name": "stdout",
     "output_type": "stream",
     "text": [
      "\r",
      "4% completed"
     ]
    },
    {
     "name": "stderr",
     "output_type": "stream",
     "text": [
      "C:\\Users\\15086\\anaconda3\\envs\\wenqu_gdal\\lib\\site-packages\\sklearn\\cross_decomposition\\_pls.py:503: FutureWarning: The attribute `coef_` will be transposed in version 1.3 to be consistent with other linear models in scikit-learn. Currently, `coef_` has a shape of (n_features, n_targets) and in the future it will have a shape of (n_targets, n_features).\n",
      "  warnings.warn(\n"
     ]
    },
    {
     "name": "stdout",
     "output_type": "stream",
     "text": [
      "\r",
      "6% completed"
     ]
    },
    {
     "name": "stderr",
     "output_type": "stream",
     "text": [
      "C:\\Users\\15086\\anaconda3\\envs\\wenqu_gdal\\lib\\site-packages\\sklearn\\cross_decomposition\\_pls.py:503: FutureWarning: The attribute `coef_` will be transposed in version 1.3 to be consistent with other linear models in scikit-learn. Currently, `coef_` has a shape of (n_features, n_targets) and in the future it will have a shape of (n_targets, n_features).\n",
      "  warnings.warn(\n"
     ]
    },
    {
     "name": "stdout",
     "output_type": "stream",
     "text": [
      "\r",
      "8% completed"
     ]
    },
    {
     "name": "stderr",
     "output_type": "stream",
     "text": [
      "C:\\Users\\15086\\anaconda3\\envs\\wenqu_gdal\\lib\\site-packages\\sklearn\\cross_decomposition\\_pls.py:503: FutureWarning: The attribute `coef_` will be transposed in version 1.3 to be consistent with other linear models in scikit-learn. Currently, `coef_` has a shape of (n_features, n_targets) and in the future it will have a shape of (n_targets, n_features).\n",
      "  warnings.warn(\n"
     ]
    },
    {
     "name": "stdout",
     "output_type": "stream",
     "text": [
      "\r",
      "10% completed"
     ]
    },
    {
     "name": "stderr",
     "output_type": "stream",
     "text": [
      "C:\\Users\\15086\\anaconda3\\envs\\wenqu_gdal\\lib\\site-packages\\sklearn\\cross_decomposition\\_pls.py:503: FutureWarning: The attribute `coef_` will be transposed in version 1.3 to be consistent with other linear models in scikit-learn. Currently, `coef_` has a shape of (n_features, n_targets) and in the future it will have a shape of (n_targets, n_features).\n",
      "  warnings.warn(\n"
     ]
    },
    {
     "name": "stdout",
     "output_type": "stream",
     "text": [
      "\r",
      "12% completed"
     ]
    },
    {
     "name": "stderr",
     "output_type": "stream",
     "text": [
      "C:\\Users\\15086\\anaconda3\\envs\\wenqu_gdal\\lib\\site-packages\\sklearn\\cross_decomposition\\_pls.py:503: FutureWarning: The attribute `coef_` will be transposed in version 1.3 to be consistent with other linear models in scikit-learn. Currently, `coef_` has a shape of (n_features, n_targets) and in the future it will have a shape of (n_targets, n_features).\n",
      "  warnings.warn(\n"
     ]
    },
    {
     "name": "stdout",
     "output_type": "stream",
     "text": [
      "\r",
      "14% completed"
     ]
    },
    {
     "name": "stderr",
     "output_type": "stream",
     "text": [
      "C:\\Users\\15086\\anaconda3\\envs\\wenqu_gdal\\lib\\site-packages\\sklearn\\cross_decomposition\\_pls.py:503: FutureWarning: The attribute `coef_` will be transposed in version 1.3 to be consistent with other linear models in scikit-learn. Currently, `coef_` has a shape of (n_features, n_targets) and in the future it will have a shape of (n_targets, n_features).\n",
      "  warnings.warn(\n"
     ]
    },
    {
     "name": "stdout",
     "output_type": "stream",
     "text": [
      "\r",
      "16% completed"
     ]
    },
    {
     "name": "stderr",
     "output_type": "stream",
     "text": [
      "C:\\Users\\15086\\anaconda3\\envs\\wenqu_gdal\\lib\\site-packages\\sklearn\\cross_decomposition\\_pls.py:503: FutureWarning: The attribute `coef_` will be transposed in version 1.3 to be consistent with other linear models in scikit-learn. Currently, `coef_` has a shape of (n_features, n_targets) and in the future it will have a shape of (n_targets, n_features).\n",
      "  warnings.warn(\n"
     ]
    },
    {
     "name": "stdout",
     "output_type": "stream",
     "text": [
      "\r",
      "18% completed"
     ]
    },
    {
     "name": "stderr",
     "output_type": "stream",
     "text": [
      "C:\\Users\\15086\\anaconda3\\envs\\wenqu_gdal\\lib\\site-packages\\sklearn\\cross_decomposition\\_pls.py:503: FutureWarning: The attribute `coef_` will be transposed in version 1.3 to be consistent with other linear models in scikit-learn. Currently, `coef_` has a shape of (n_features, n_targets) and in the future it will have a shape of (n_targets, n_features).\n",
      "  warnings.warn(\n"
     ]
    },
    {
     "name": "stdout",
     "output_type": "stream",
     "text": [
      "\r",
      "20% completed"
     ]
    },
    {
     "name": "stderr",
     "output_type": "stream",
     "text": [
      "C:\\Users\\15086\\anaconda3\\envs\\wenqu_gdal\\lib\\site-packages\\sklearn\\cross_decomposition\\_pls.py:503: FutureWarning: The attribute `coef_` will be transposed in version 1.3 to be consistent with other linear models in scikit-learn. Currently, `coef_` has a shape of (n_features, n_targets) and in the future it will have a shape of (n_targets, n_features).\n",
      "  warnings.warn(\n"
     ]
    },
    {
     "name": "stdout",
     "output_type": "stream",
     "text": [
      "\r",
      "22% completed"
     ]
    },
    {
     "name": "stderr",
     "output_type": "stream",
     "text": [
      "C:\\Users\\15086\\anaconda3\\envs\\wenqu_gdal\\lib\\site-packages\\sklearn\\cross_decomposition\\_pls.py:503: FutureWarning: The attribute `coef_` will be transposed in version 1.3 to be consistent with other linear models in scikit-learn. Currently, `coef_` has a shape of (n_features, n_targets) and in the future it will have a shape of (n_targets, n_features).\n",
      "  warnings.warn(\n"
     ]
    },
    {
     "name": "stdout",
     "output_type": "stream",
     "text": [
      "\r",
      "24% completed"
     ]
    },
    {
     "name": "stderr",
     "output_type": "stream",
     "text": [
      "C:\\Users\\15086\\anaconda3\\envs\\wenqu_gdal\\lib\\site-packages\\sklearn\\cross_decomposition\\_pls.py:503: FutureWarning: The attribute `coef_` will be transposed in version 1.3 to be consistent with other linear models in scikit-learn. Currently, `coef_` has a shape of (n_features, n_targets) and in the future it will have a shape of (n_targets, n_features).\n",
      "  warnings.warn(\n"
     ]
    },
    {
     "name": "stdout",
     "output_type": "stream",
     "text": [
      "\r",
      "26% completed"
     ]
    },
    {
     "name": "stderr",
     "output_type": "stream",
     "text": [
      "C:\\Users\\15086\\anaconda3\\envs\\wenqu_gdal\\lib\\site-packages\\sklearn\\cross_decomposition\\_pls.py:503: FutureWarning: The attribute `coef_` will be transposed in version 1.3 to be consistent with other linear models in scikit-learn. Currently, `coef_` has a shape of (n_features, n_targets) and in the future it will have a shape of (n_targets, n_features).\n",
      "  warnings.warn(\n"
     ]
    },
    {
     "name": "stdout",
     "output_type": "stream",
     "text": [
      "\r",
      "28% completed"
     ]
    },
    {
     "name": "stderr",
     "output_type": "stream",
     "text": [
      "C:\\Users\\15086\\anaconda3\\envs\\wenqu_gdal\\lib\\site-packages\\sklearn\\cross_decomposition\\_pls.py:503: FutureWarning: The attribute `coef_` will be transposed in version 1.3 to be consistent with other linear models in scikit-learn. Currently, `coef_` has a shape of (n_features, n_targets) and in the future it will have a shape of (n_targets, n_features).\n",
      "  warnings.warn(\n"
     ]
    },
    {
     "name": "stdout",
     "output_type": "stream",
     "text": [
      "\r",
      "30% completed"
     ]
    },
    {
     "name": "stderr",
     "output_type": "stream",
     "text": [
      "C:\\Users\\15086\\anaconda3\\envs\\wenqu_gdal\\lib\\site-packages\\sklearn\\cross_decomposition\\_pls.py:503: FutureWarning: The attribute `coef_` will be transposed in version 1.3 to be consistent with other linear models in scikit-learn. Currently, `coef_` has a shape of (n_features, n_targets) and in the future it will have a shape of (n_targets, n_features).\n",
      "  warnings.warn(\n"
     ]
    },
    {
     "name": "stdout",
     "output_type": "stream",
     "text": [
      "\r",
      "32% completed"
     ]
    },
    {
     "name": "stderr",
     "output_type": "stream",
     "text": [
      "C:\\Users\\15086\\anaconda3\\envs\\wenqu_gdal\\lib\\site-packages\\sklearn\\cross_decomposition\\_pls.py:503: FutureWarning: The attribute `coef_` will be transposed in version 1.3 to be consistent with other linear models in scikit-learn. Currently, `coef_` has a shape of (n_features, n_targets) and in the future it will have a shape of (n_targets, n_features).\n",
      "  warnings.warn(\n"
     ]
    },
    {
     "name": "stdout",
     "output_type": "stream",
     "text": [
      "\r",
      "34% completed"
     ]
    },
    {
     "name": "stderr",
     "output_type": "stream",
     "text": [
      "C:\\Users\\15086\\anaconda3\\envs\\wenqu_gdal\\lib\\site-packages\\sklearn\\cross_decomposition\\_pls.py:503: FutureWarning: The attribute `coef_` will be transposed in version 1.3 to be consistent with other linear models in scikit-learn. Currently, `coef_` has a shape of (n_features, n_targets) and in the future it will have a shape of (n_targets, n_features).\n",
      "  warnings.warn(\n"
     ]
    },
    {
     "name": "stdout",
     "output_type": "stream",
     "text": [
      "\r",
      "36% completed"
     ]
    },
    {
     "name": "stderr",
     "output_type": "stream",
     "text": [
      "C:\\Users\\15086\\anaconda3\\envs\\wenqu_gdal\\lib\\site-packages\\sklearn\\cross_decomposition\\_pls.py:503: FutureWarning: The attribute `coef_` will be transposed in version 1.3 to be consistent with other linear models in scikit-learn. Currently, `coef_` has a shape of (n_features, n_targets) and in the future it will have a shape of (n_targets, n_features).\n",
      "  warnings.warn(\n"
     ]
    },
    {
     "name": "stdout",
     "output_type": "stream",
     "text": [
      "\r",
      "38% completed"
     ]
    },
    {
     "name": "stderr",
     "output_type": "stream",
     "text": [
      "C:\\Users\\15086\\anaconda3\\envs\\wenqu_gdal\\lib\\site-packages\\sklearn\\cross_decomposition\\_pls.py:503: FutureWarning: The attribute `coef_` will be transposed in version 1.3 to be consistent with other linear models in scikit-learn. Currently, `coef_` has a shape of (n_features, n_targets) and in the future it will have a shape of (n_targets, n_features).\n",
      "  warnings.warn(\n"
     ]
    },
    {
     "name": "stdout",
     "output_type": "stream",
     "text": [
      "\r",
      "40% completed"
     ]
    },
    {
     "name": "stderr",
     "output_type": "stream",
     "text": [
      "C:\\Users\\15086\\anaconda3\\envs\\wenqu_gdal\\lib\\site-packages\\sklearn\\cross_decomposition\\_pls.py:503: FutureWarning: The attribute `coef_` will be transposed in version 1.3 to be consistent with other linear models in scikit-learn. Currently, `coef_` has a shape of (n_features, n_targets) and in the future it will have a shape of (n_targets, n_features).\n",
      "  warnings.warn(\n"
     ]
    },
    {
     "name": "stdout",
     "output_type": "stream",
     "text": [
      "\r",
      "42% completed"
     ]
    },
    {
     "name": "stderr",
     "output_type": "stream",
     "text": [
      "C:\\Users\\15086\\anaconda3\\envs\\wenqu_gdal\\lib\\site-packages\\sklearn\\cross_decomposition\\_pls.py:503: FutureWarning: The attribute `coef_` will be transposed in version 1.3 to be consistent with other linear models in scikit-learn. Currently, `coef_` has a shape of (n_features, n_targets) and in the future it will have a shape of (n_targets, n_features).\n",
      "  warnings.warn(\n"
     ]
    },
    {
     "name": "stdout",
     "output_type": "stream",
     "text": [
      "\r",
      "44% completed"
     ]
    },
    {
     "name": "stderr",
     "output_type": "stream",
     "text": [
      "C:\\Users\\15086\\anaconda3\\envs\\wenqu_gdal\\lib\\site-packages\\sklearn\\cross_decomposition\\_pls.py:503: FutureWarning: The attribute `coef_` will be transposed in version 1.3 to be consistent with other linear models in scikit-learn. Currently, `coef_` has a shape of (n_features, n_targets) and in the future it will have a shape of (n_targets, n_features).\n",
      "  warnings.warn(\n"
     ]
    },
    {
     "name": "stdout",
     "output_type": "stream",
     "text": [
      "\r",
      "46% completed"
     ]
    },
    {
     "name": "stderr",
     "output_type": "stream",
     "text": [
      "C:\\Users\\15086\\anaconda3\\envs\\wenqu_gdal\\lib\\site-packages\\sklearn\\cross_decomposition\\_pls.py:503: FutureWarning: The attribute `coef_` will be transposed in version 1.3 to be consistent with other linear models in scikit-learn. Currently, `coef_` has a shape of (n_features, n_targets) and in the future it will have a shape of (n_targets, n_features).\n",
      "  warnings.warn(\n"
     ]
    },
    {
     "name": "stdout",
     "output_type": "stream",
     "text": [
      "\r",
      "48% completed"
     ]
    },
    {
     "name": "stderr",
     "output_type": "stream",
     "text": [
      "C:\\Users\\15086\\anaconda3\\envs\\wenqu_gdal\\lib\\site-packages\\sklearn\\cross_decomposition\\_pls.py:503: FutureWarning: The attribute `coef_` will be transposed in version 1.3 to be consistent with other linear models in scikit-learn. Currently, `coef_` has a shape of (n_features, n_targets) and in the future it will have a shape of (n_targets, n_features).\n",
      "  warnings.warn(\n"
     ]
    },
    {
     "name": "stdout",
     "output_type": "stream",
     "text": [
      "\r",
      "50% completed"
     ]
    },
    {
     "name": "stderr",
     "output_type": "stream",
     "text": [
      "C:\\Users\\15086\\anaconda3\\envs\\wenqu_gdal\\lib\\site-packages\\sklearn\\cross_decomposition\\_pls.py:503: FutureWarning: The attribute `coef_` will be transposed in version 1.3 to be consistent with other linear models in scikit-learn. Currently, `coef_` has a shape of (n_features, n_targets) and in the future it will have a shape of (n_targets, n_features).\n",
      "  warnings.warn(\n"
     ]
    },
    {
     "name": "stdout",
     "output_type": "stream",
     "text": [
      "\r",
      "52% completed"
     ]
    },
    {
     "name": "stderr",
     "output_type": "stream",
     "text": [
      "C:\\Users\\15086\\anaconda3\\envs\\wenqu_gdal\\lib\\site-packages\\sklearn\\cross_decomposition\\_pls.py:503: FutureWarning: The attribute `coef_` will be transposed in version 1.3 to be consistent with other linear models in scikit-learn. Currently, `coef_` has a shape of (n_features, n_targets) and in the future it will have a shape of (n_targets, n_features).\n",
      "  warnings.warn(\n"
     ]
    },
    {
     "name": "stdout",
     "output_type": "stream",
     "text": [
      "\r",
      "54% completed"
     ]
    },
    {
     "name": "stderr",
     "output_type": "stream",
     "text": [
      "C:\\Users\\15086\\anaconda3\\envs\\wenqu_gdal\\lib\\site-packages\\sklearn\\cross_decomposition\\_pls.py:503: FutureWarning: The attribute `coef_` will be transposed in version 1.3 to be consistent with other linear models in scikit-learn. Currently, `coef_` has a shape of (n_features, n_targets) and in the future it will have a shape of (n_targets, n_features).\n",
      "  warnings.warn(\n"
     ]
    },
    {
     "name": "stdout",
     "output_type": "stream",
     "text": [
      "\r",
      "56% completed"
     ]
    },
    {
     "name": "stderr",
     "output_type": "stream",
     "text": [
      "C:\\Users\\15086\\anaconda3\\envs\\wenqu_gdal\\lib\\site-packages\\sklearn\\cross_decomposition\\_pls.py:503: FutureWarning: The attribute `coef_` will be transposed in version 1.3 to be consistent with other linear models in scikit-learn. Currently, `coef_` has a shape of (n_features, n_targets) and in the future it will have a shape of (n_targets, n_features).\n",
      "  warnings.warn(\n"
     ]
    },
    {
     "name": "stdout",
     "output_type": "stream",
     "text": [
      "\r",
      "58% completed"
     ]
    },
    {
     "name": "stderr",
     "output_type": "stream",
     "text": [
      "C:\\Users\\15086\\anaconda3\\envs\\wenqu_gdal\\lib\\site-packages\\sklearn\\cross_decomposition\\_pls.py:503: FutureWarning: The attribute `coef_` will be transposed in version 1.3 to be consistent with other linear models in scikit-learn. Currently, `coef_` has a shape of (n_features, n_targets) and in the future it will have a shape of (n_targets, n_features).\n",
      "  warnings.warn(\n"
     ]
    },
    {
     "name": "stdout",
     "output_type": "stream",
     "text": [
      "\r",
      "60% completed"
     ]
    },
    {
     "name": "stderr",
     "output_type": "stream",
     "text": [
      "C:\\Users\\15086\\anaconda3\\envs\\wenqu_gdal\\lib\\site-packages\\sklearn\\cross_decomposition\\_pls.py:503: FutureWarning: The attribute `coef_` will be transposed in version 1.3 to be consistent with other linear models in scikit-learn. Currently, `coef_` has a shape of (n_features, n_targets) and in the future it will have a shape of (n_targets, n_features).\n",
      "  warnings.warn(\n"
     ]
    },
    {
     "name": "stdout",
     "output_type": "stream",
     "text": [
      "\r",
      "62% completed"
     ]
    },
    {
     "name": "stderr",
     "output_type": "stream",
     "text": [
      "C:\\Users\\15086\\anaconda3\\envs\\wenqu_gdal\\lib\\site-packages\\sklearn\\cross_decomposition\\_pls.py:503: FutureWarning: The attribute `coef_` will be transposed in version 1.3 to be consistent with other linear models in scikit-learn. Currently, `coef_` has a shape of (n_features, n_targets) and in the future it will have a shape of (n_targets, n_features).\n",
      "  warnings.warn(\n"
     ]
    },
    {
     "name": "stdout",
     "output_type": "stream",
     "text": [
      "\r",
      "64% completed"
     ]
    },
    {
     "name": "stderr",
     "output_type": "stream",
     "text": [
      "C:\\Users\\15086\\anaconda3\\envs\\wenqu_gdal\\lib\\site-packages\\sklearn\\cross_decomposition\\_pls.py:503: FutureWarning: The attribute `coef_` will be transposed in version 1.3 to be consistent with other linear models in scikit-learn. Currently, `coef_` has a shape of (n_features, n_targets) and in the future it will have a shape of (n_targets, n_features).\n",
      "  warnings.warn(\n"
     ]
    },
    {
     "name": "stdout",
     "output_type": "stream",
     "text": [
      "\r",
      "66% completed"
     ]
    },
    {
     "name": "stderr",
     "output_type": "stream",
     "text": [
      "C:\\Users\\15086\\anaconda3\\envs\\wenqu_gdal\\lib\\site-packages\\sklearn\\cross_decomposition\\_pls.py:503: FutureWarning: The attribute `coef_` will be transposed in version 1.3 to be consistent with other linear models in scikit-learn. Currently, `coef_` has a shape of (n_features, n_targets) and in the future it will have a shape of (n_targets, n_features).\n",
      "  warnings.warn(\n"
     ]
    },
    {
     "name": "stdout",
     "output_type": "stream",
     "text": [
      "\r",
      "68% completed"
     ]
    },
    {
     "name": "stderr",
     "output_type": "stream",
     "text": [
      "C:\\Users\\15086\\anaconda3\\envs\\wenqu_gdal\\lib\\site-packages\\sklearn\\cross_decomposition\\_pls.py:503: FutureWarning: The attribute `coef_` will be transposed in version 1.3 to be consistent with other linear models in scikit-learn. Currently, `coef_` has a shape of (n_features, n_targets) and in the future it will have a shape of (n_targets, n_features).\n",
      "  warnings.warn(\n"
     ]
    },
    {
     "name": "stdout",
     "output_type": "stream",
     "text": [
      "\r",
      "70% completed"
     ]
    },
    {
     "name": "stderr",
     "output_type": "stream",
     "text": [
      "C:\\Users\\15086\\anaconda3\\envs\\wenqu_gdal\\lib\\site-packages\\sklearn\\cross_decomposition\\_pls.py:503: FutureWarning: The attribute `coef_` will be transposed in version 1.3 to be consistent with other linear models in scikit-learn. Currently, `coef_` has a shape of (n_features, n_targets) and in the future it will have a shape of (n_targets, n_features).\n",
      "  warnings.warn(\n"
     ]
    },
    {
     "name": "stdout",
     "output_type": "stream",
     "text": [
      "\r",
      "72% completed"
     ]
    },
    {
     "name": "stderr",
     "output_type": "stream",
     "text": [
      "C:\\Users\\15086\\anaconda3\\envs\\wenqu_gdal\\lib\\site-packages\\sklearn\\cross_decomposition\\_pls.py:503: FutureWarning: The attribute `coef_` will be transposed in version 1.3 to be consistent with other linear models in scikit-learn. Currently, `coef_` has a shape of (n_features, n_targets) and in the future it will have a shape of (n_targets, n_features).\n",
      "  warnings.warn(\n"
     ]
    },
    {
     "name": "stdout",
     "output_type": "stream",
     "text": [
      "\r",
      "74% completed"
     ]
    },
    {
     "name": "stderr",
     "output_type": "stream",
     "text": [
      "C:\\Users\\15086\\anaconda3\\envs\\wenqu_gdal\\lib\\site-packages\\sklearn\\cross_decomposition\\_pls.py:503: FutureWarning: The attribute `coef_` will be transposed in version 1.3 to be consistent with other linear models in scikit-learn. Currently, `coef_` has a shape of (n_features, n_targets) and in the future it will have a shape of (n_targets, n_features).\n",
      "  warnings.warn(\n"
     ]
    },
    {
     "name": "stdout",
     "output_type": "stream",
     "text": [
      "\r",
      "76% completed"
     ]
    },
    {
     "name": "stderr",
     "output_type": "stream",
     "text": [
      "C:\\Users\\15086\\anaconda3\\envs\\wenqu_gdal\\lib\\site-packages\\sklearn\\cross_decomposition\\_pls.py:503: FutureWarning: The attribute `coef_` will be transposed in version 1.3 to be consistent with other linear models in scikit-learn. Currently, `coef_` has a shape of (n_features, n_targets) and in the future it will have a shape of (n_targets, n_features).\n",
      "  warnings.warn(\n"
     ]
    },
    {
     "name": "stdout",
     "output_type": "stream",
     "text": [
      "\r",
      "78% completed"
     ]
    },
    {
     "name": "stderr",
     "output_type": "stream",
     "text": [
      "C:\\Users\\15086\\anaconda3\\envs\\wenqu_gdal\\lib\\site-packages\\sklearn\\cross_decomposition\\_pls.py:503: FutureWarning: The attribute `coef_` will be transposed in version 1.3 to be consistent with other linear models in scikit-learn. Currently, `coef_` has a shape of (n_features, n_targets) and in the future it will have a shape of (n_targets, n_features).\n",
      "  warnings.warn(\n"
     ]
    },
    {
     "name": "stdout",
     "output_type": "stream",
     "text": [
      "\r",
      "80% completed"
     ]
    },
    {
     "name": "stderr",
     "output_type": "stream",
     "text": [
      "C:\\Users\\15086\\anaconda3\\envs\\wenqu_gdal\\lib\\site-packages\\sklearn\\cross_decomposition\\_pls.py:503: FutureWarning: The attribute `coef_` will be transposed in version 1.3 to be consistent with other linear models in scikit-learn. Currently, `coef_` has a shape of (n_features, n_targets) and in the future it will have a shape of (n_targets, n_features).\n",
      "  warnings.warn(\n"
     ]
    },
    {
     "name": "stdout",
     "output_type": "stream",
     "text": [
      "\r",
      "82% completed"
     ]
    },
    {
     "name": "stderr",
     "output_type": "stream",
     "text": [
      "C:\\Users\\15086\\anaconda3\\envs\\wenqu_gdal\\lib\\site-packages\\sklearn\\cross_decomposition\\_pls.py:503: FutureWarning: The attribute `coef_` will be transposed in version 1.3 to be consistent with other linear models in scikit-learn. Currently, `coef_` has a shape of (n_features, n_targets) and in the future it will have a shape of (n_targets, n_features).\n",
      "  warnings.warn(\n"
     ]
    },
    {
     "name": "stdout",
     "output_type": "stream",
     "text": [
      "\r",
      "84% completed"
     ]
    },
    {
     "name": "stderr",
     "output_type": "stream",
     "text": [
      "C:\\Users\\15086\\anaconda3\\envs\\wenqu_gdal\\lib\\site-packages\\sklearn\\cross_decomposition\\_pls.py:503: FutureWarning: The attribute `coef_` will be transposed in version 1.3 to be consistent with other linear models in scikit-learn. Currently, `coef_` has a shape of (n_features, n_targets) and in the future it will have a shape of (n_targets, n_features).\n",
      "  warnings.warn(\n"
     ]
    },
    {
     "name": "stdout",
     "output_type": "stream",
     "text": [
      "\r",
      "86% completed"
     ]
    },
    {
     "name": "stderr",
     "output_type": "stream",
     "text": [
      "C:\\Users\\15086\\anaconda3\\envs\\wenqu_gdal\\lib\\site-packages\\sklearn\\cross_decomposition\\_pls.py:503: FutureWarning: The attribute `coef_` will be transposed in version 1.3 to be consistent with other linear models in scikit-learn. Currently, `coef_` has a shape of (n_features, n_targets) and in the future it will have a shape of (n_targets, n_features).\n",
      "  warnings.warn(\n"
     ]
    },
    {
     "name": "stdout",
     "output_type": "stream",
     "text": [
      "\r",
      "88% completed"
     ]
    },
    {
     "name": "stderr",
     "output_type": "stream",
     "text": [
      "C:\\Users\\15086\\anaconda3\\envs\\wenqu_gdal\\lib\\site-packages\\sklearn\\cross_decomposition\\_pls.py:503: FutureWarning: The attribute `coef_` will be transposed in version 1.3 to be consistent with other linear models in scikit-learn. Currently, `coef_` has a shape of (n_features, n_targets) and in the future it will have a shape of (n_targets, n_features).\n",
      "  warnings.warn(\n"
     ]
    },
    {
     "name": "stdout",
     "output_type": "stream",
     "text": [
      "\r",
      "90% completed"
     ]
    },
    {
     "name": "stderr",
     "output_type": "stream",
     "text": [
      "C:\\Users\\15086\\anaconda3\\envs\\wenqu_gdal\\lib\\site-packages\\sklearn\\cross_decomposition\\_pls.py:503: FutureWarning: The attribute `coef_` will be transposed in version 1.3 to be consistent with other linear models in scikit-learn. Currently, `coef_` has a shape of (n_features, n_targets) and in the future it will have a shape of (n_targets, n_features).\n",
      "  warnings.warn(\n"
     ]
    },
    {
     "name": "stdout",
     "output_type": "stream",
     "text": [
      "\r",
      "92% completed"
     ]
    },
    {
     "name": "stderr",
     "output_type": "stream",
     "text": [
      "C:\\Users\\15086\\anaconda3\\envs\\wenqu_gdal\\lib\\site-packages\\sklearn\\cross_decomposition\\_pls.py:503: FutureWarning: The attribute `coef_` will be transposed in version 1.3 to be consistent with other linear models in scikit-learn. Currently, `coef_` has a shape of (n_features, n_targets) and in the future it will have a shape of (n_targets, n_features).\n",
      "  warnings.warn(\n"
     ]
    },
    {
     "name": "stdout",
     "output_type": "stream",
     "text": [
      "\r",
      "94% completed"
     ]
    },
    {
     "name": "stderr",
     "output_type": "stream",
     "text": [
      "C:\\Users\\15086\\anaconda3\\envs\\wenqu_gdal\\lib\\site-packages\\sklearn\\cross_decomposition\\_pls.py:503: FutureWarning: The attribute `coef_` will be transposed in version 1.3 to be consistent with other linear models in scikit-learn. Currently, `coef_` has a shape of (n_features, n_targets) and in the future it will have a shape of (n_targets, n_features).\n",
      "  warnings.warn(\n"
     ]
    },
    {
     "name": "stdout",
     "output_type": "stream",
     "text": [
      "\r",
      "96% completed"
     ]
    },
    {
     "name": "stderr",
     "output_type": "stream",
     "text": [
      "C:\\Users\\15086\\anaconda3\\envs\\wenqu_gdal\\lib\\site-packages\\sklearn\\cross_decomposition\\_pls.py:503: FutureWarning: The attribute `coef_` will be transposed in version 1.3 to be consistent with other linear models in scikit-learn. Currently, `coef_` has a shape of (n_features, n_targets) and in the future it will have a shape of (n_targets, n_features).\n",
      "  warnings.warn(\n"
     ]
    },
    {
     "name": "stdout",
     "output_type": "stream",
     "text": [
      "\r",
      "98% completed"
     ]
    },
    {
     "name": "stderr",
     "output_type": "stream",
     "text": [
      "C:\\Users\\15086\\anaconda3\\envs\\wenqu_gdal\\lib\\site-packages\\sklearn\\cross_decomposition\\_pls.py:503: FutureWarning: The attribute `coef_` will be transposed in version 1.3 to be consistent with other linear models in scikit-learn. Currently, `coef_` has a shape of (n_features, n_targets) and in the future it will have a shape of (n_targets, n_features).\n",
      "  warnings.warn(\n"
     ]
    },
    {
     "name": "stdout",
     "output_type": "stream",
     "text": [
      "100% completed\n",
      "Optimised number of PLS components:  22\n",
      "Wavelengths to be keeped  40\n",
      "Optimised MSEP  0.5643381624825353\n",
      "\n",
      "R2 calib: 0.951\n",
      "R2 CV: 0.685\n",
      "RMSE calib: 0.257\n",
      "RMSE CV: 0.652\n",
      "[0.44371285] [0.7856185]\n",
      "0 site2a [2.43648721] 2.03933806110202\n",
      "1 site2a [1.44172111] 0.6395845072894734\n",
      "2 site2a [0.60106518] 0.5745683736115578\n",
      "3 site2a [1.14459495] 0.34365992178293403\n",
      "4 site2a [0.67806297] 1.0043016091968684\n",
      "5 site2a [2.49583635] 3.3856366879307305\n",
      "6 site2a [1.34219347] 1.4142337297280947\n",
      "7 site2a [1.81112091] 1.523410666446841\n",
      "8 site2a [0.77560951] 1.3283067266597688\n",
      "9 site2a [1.22986164] 0.5730959494921153\n",
      "10 site2a [1.79957008] 1.6203124030507472\n",
      "11 site2a [1.52859247] 0.8304286552040054\n",
      "12 site2a [1.4337582] 0.8854470368753472\n",
      "13 site2a [1.43004821] 0.9573733110632762\n",
      "14 site2a [-0.07644277] 0.8908330540059648\n",
      "15 site2a [1.29412743] 0.8911149257045661\n",
      "16 site2a [0.09620566] 0.7441858972203359\n",
      "17 site2a [1.90485644] 1.3263563525774782\n",
      "18 site2a [-0.16767803] 0.6257108477521713\n",
      "19 site2a [-0.10490163] 0.6529760158706686\n",
      "20 site2a [1.54759266] 2.45833000706859\n",
      "21 site2a [0.51471775] -0.9617662586536878\n",
      "22 site2a [2.57656059] 1.471474352020285\n",
      "23 site2a [1.74684517] 1.3155940379451718\n",
      "24 site2a [0.47514466] -0.5454035368811312\n",
      "25 site2a [1.2066974] 1.4534610047006407\n",
      "26 site1b [2.62346296] 2.831109109942947\n",
      "27 site1b [3.00512529] 2.958748532152706\n",
      "28 site1b [3.950613] 3.0732160687711336\n",
      "29 site1b [2.58543591] 2.562750070031675\n",
      "30 site1b [2.42232992] 2.600265635734333\n",
      "31 site1b [3.49911036] 3.049529660632822\n",
      "32 site1b [3.91877113] 2.929740220817672\n",
      "33 site1b [1.85697035] 3.209371340414754\n",
      "34 site1b [1.93125574] 2.43062644287493\n",
      "35 site1b [2.77238783] 2.0829113215253754\n",
      "36 site1b [1.95559028] 2.56605131393058\n",
      "37 site1b [0.83870339] 1.4157694637422147\n",
      "38 site1b [3.80832876] 4.029073107843459\n",
      "39 site1b [1.88927285] 2.389451864612156\n",
      "40 site1b [2.05360566] 2.5537944840920734\n",
      "41 site1b [1.95114218] 2.3578955319909185\n",
      "42 site1b [1.87679184] 1.9087718376263287\n",
      "43 site1b [3.01435145] 2.63916089568068\n",
      "44 site1b [2.92234652] 2.6849790804163383\n",
      "45 site1b [3.20309179] 4.130112305506272\n",
      "46 site1b [2.17285324] 2.4188378579387773\n",
      "47 site1b [3.84153662] 4.173871752423952\n",
      "48 site1b [3.4268384] 3.0947641977043077\n",
      "49 site1b [3.65117043] 3.464127123157445\n",
      "50 site1b [1.28566791] 2.2724258866900495\n",
      "51 site2c [2.94936329] 3.211975884535671\n",
      "52 site2c [2.89410655] 2.761316848314364\n",
      "53 site2c [2.00849758] 2.5312474699365226\n",
      "54 site2c [3.40005349] 3.2653870861193197\n",
      "55 site2c [2.55422339] 3.359475283211539\n",
      "56 site6 [0.86853386] 1.650185279657808\n",
      "57 site6 [-0.26204455] -0.947407119171746\n",
      "58 site6 [2.39077555] 3.5506018328015214\n",
      "59 site6 [3.8286691] 2.9171172450946465\n",
      "60 site6 [2.23956494] 1.95120332146841\n",
      "61 site6 [3.06099672] 2.481008034219348\n",
      "62 site6 [2.67106471] 1.8139039127883296\n",
      "63 site6 [1.85257711] 1.062138092302233\n"
     ]
    },
    {
     "name": "stderr",
     "output_type": "stream",
     "text": [
      "C:\\Users\\15086\\anaconda3\\envs\\wenqu_gdal\\lib\\site-packages\\sklearn\\cross_decomposition\\_pls.py:503: FutureWarning: The attribute `coef_` will be transposed in version 1.3 to be consistent with other linear models in scikit-learn. Currently, `coef_` has a shape of (n_features, n_targets) and in the future it will have a shape of (n_targets, n_features).\n",
      "  warnings.warn(\n"
     ]
    },
    {
     "data": {
      "image/png": "[encoded data removed]",
      "text/plain": [
       "<Figure size 900x500 with 1 Axes>"
      ]
     },
     "metadata": {},
     "output_type": "display_data"
    }
   ],
   "source": [
    "opt_Xc_la, ncomp_la, wav_la, sorted_ind_la = pls_variable_selection(x_la, log_y_weighted_la, 50)\n",
    "file_name = 'F:/wenqu/result/la.csv'\n",
    "simple_pls_cv(opt_Xc_la, log_y_weighted_la, ncomp_la, labels_la, file_name)"
   ]
  },
  {
   "cell_type": "code",
   "execution_count": 57,
   "id": "e689eda5",
   "metadata": {},
   "outputs": [
    {
     "name": "stdout",
     "output_type": "stream",
     "text": [
      "(40,) (40,)\n"
     ]
    },
    {
     "name": "stderr",
     "output_type": "stream",
     "text": [
      "C:\\Users\\15086\\anaconda3\\envs\\wenqu_gdal\\lib\\site-packages\\sklearn\\cross_decomposition\\_pls.py:503: FutureWarning: The attribute `coef_` will be transposed in version 1.3 to be consistent with other linear models in scikit-learn. Currently, `coef_` has a shape of (n_features, n_targets) and in the future it will have a shape of (n_targets, n_features).\n",
      "  warnings.warn(\n"
     ]
    }
   ],
   "source": [
    "optimal_pls_la  = PLSRegression(n_components=22)\n",
    "optimal_pls_la.fit(opt_Xc_la, log_y_weighted_la)\n",
    "\n",
    "coefficients = optimal_pls_la.coef_[:,0]\n",
    "bands = band_name[sorted_ind_la][wav_la:]\n",
    "print(coefficients.shape, bands.shape)\n"
   ]
  },
  {
   "cell_type": "code",
   "execution_count": 59,
   "id": "6073056d",
   "metadata": {},
   "outputs": [
    {
     "name": "stdout",
     "output_type": "stream",
     "text": [
      "la_trait = 2.201685*data_dict['b101_mean'] + -0.170884*data_dict['b17_std'] + -0.082837*data_dict['b121_std'] + -1.896503*data_dict['b75_mean'] + 1.311870*data_dict['b66_std'] + 1.739439*data_dict['b23_std'] + 1.451408*data_dict['b57_std'] + -2.114254*data_dict['b110_mean'] + 1.519255*data_dict['b19_std'] + 0.023512*data_dict['b117_mean'] + -0.629382*data_dict['b64_std'] + 0.522930*data_dict['b34_std'] + -0.879081*data_dict['b41_std'] + -0.506991*data_dict['b112_std'] + 0.383416*data_dict['b7_mean'] + 0.413619*data_dict['b2_std'] + -0.775592*data_dict['b32_std'] + 1.832194*data_dict['b65_std'] + 0.256767*data_dict['b1_std'] + -1.498697*data_dict['b2_mean'] + -0.842960*data_dict['b15_mean'] + -0.362585*data_dict['b24_std'] + -0.531978*data_dict['b116_std'] + -2.029120*data_dict['b105_std'] + -1.769319*data_dict['b56_std'] + 2.359022*data_dict['b108_mean'] + 0.642263*data_dict['b108_std'] + -0.611124*data_dict['b11_std'] + -0.119731*data_dict['b52_std'] + -0.595128*data_dict['b1_mean'] + -0.950195*data_dict['b7_std'] + -1.043655*data_dict['b122_std'] + 1.991969*data_dict['b107_std'] + 0.882944*data_dict['b5_mean'] + 0.493942*data_dict['b10_std'] + -1.672546*data_dict['b8_std'] + 0.870916*data_dict['b4_mean'] + 0.989937*data_dict['b12_std'] + -2.351188*data_dict['b103_std'] + 1.669566*data_dict['b120_std'] + 1.982470\n"
     ]
    }
   ],
   "source": [
    "\n",
    "x_mean = opt_Xc_la.mean(axis=0)\n",
    "y_mean = log_y_weighted_la.mean()\n",
    "intercept_la = optimal_pls_la.intercept_\n",
    "\n",
    "linear_equation = \"la_trait = \"\n",
    "\n",
    "for coef, predictor in zip(coefficients, bands):\n",
    "    linear_equation += \"{:.6f}*data_dict['{}'] + \".format(coef, predictor)\n",
    "\n",
    "# Adding the intercept to the end\n",
    "linear_equation += \"{:.6f}\".format(intercept_la[0])\n",
    "\n",
    "print(linear_equation)\n",
    "\n"
   ]
  },
  {
   "cell_type": "markdown",
   "id": "4fa32076",
   "metadata": {},
   "source": [
    "# LDMC"
   ]
  },
  {
   "cell_type": "code",
   "execution_count": 60,
   "id": "c7ea43f6",
   "metadata": {
    "scrolled": true
   },
   "outputs": [
    {
     "name": "stderr",
     "output_type": "stream",
     "text": [
      "C:\\Users\\15086\\anaconda3\\envs\\wenqu_gdal\\lib\\site-packages\\sklearn\\cross_decomposition\\_pls.py:503: FutureWarning: The attribute `coef_` will be transposed in version 1.3 to be consistent with other linear models in scikit-learn. Currently, `coef_` has a shape of (n_features, n_targets) and in the future it will have a shape of (n_targets, n_features).\n",
      "  warnings.warn(\n"
     ]
    },
    {
     "name": "stdout",
     "output_type": "stream",
     "text": [
      "\r",
      "2% completed"
     ]
    },
    {
     "name": "stderr",
     "output_type": "stream",
     "text": [
      "C:\\Users\\15086\\anaconda3\\envs\\wenqu_gdal\\lib\\site-packages\\sklearn\\cross_decomposition\\_pls.py:503: FutureWarning: The attribute `coef_` will be transposed in version 1.3 to be consistent with other linear models in scikit-learn. Currently, `coef_` has a shape of (n_features, n_targets) and in the future it will have a shape of (n_targets, n_features).\n",
      "  warnings.warn(\n"
     ]
    },
    {
     "name": "stdout",
     "output_type": "stream",
     "text": [
      "\r",
      "4% completed"
     ]
    },
    {
     "name": "stderr",
     "output_type": "stream",
     "text": [
      "C:\\Users\\15086\\anaconda3\\envs\\wenqu_gdal\\lib\\site-packages\\sklearn\\cross_decomposition\\_pls.py:503: FutureWarning: The attribute `coef_` will be transposed in version 1.3 to be consistent with other linear models in scikit-learn. Currently, `coef_` has a shape of (n_features, n_targets) and in the future it will have a shape of (n_targets, n_features).\n",
      "  warnings.warn(\n"
     ]
    },
    {
     "name": "stdout",
     "output_type": "stream",
     "text": [
      "\r",
      "6% completed"
     ]
    },
    {
     "name": "stderr",
     "output_type": "stream",
     "text": [
      "C:\\Users\\15086\\anaconda3\\envs\\wenqu_gdal\\lib\\site-packages\\sklearn\\cross_decomposition\\_pls.py:503: FutureWarning: The attribute `coef_` will be transposed in version 1.3 to be consistent with other linear models in scikit-learn. Currently, `coef_` has a shape of (n_features, n_targets) and in the future it will have a shape of (n_targets, n_features).\n",
      "  warnings.warn(\n"
     ]
    },
    {
     "name": "stdout",
     "output_type": "stream",
     "text": [
      "\r",
      "8% completed"
     ]
    },
    {
     "name": "stderr",
     "output_type": "stream",
     "text": [
      "C:\\Users\\15086\\anaconda3\\envs\\wenqu_gdal\\lib\\site-packages\\sklearn\\cross_decomposition\\_pls.py:503: FutureWarning: The attribute `coef_` will be transposed in version 1.3 to be consistent with other linear models in scikit-learn. Currently, `coef_` has a shape of (n_features, n_targets) and in the future it will have a shape of (n_targets, n_features).\n",
      "  warnings.warn(\n"
     ]
    },
    {
     "name": "stdout",
     "output_type": "stream",
     "text": [
      "\r",
      "10% completed"
     ]
    },
    {
     "name": "stderr",
     "output_type": "stream",
     "text": [
      "C:\\Users\\15086\\anaconda3\\envs\\wenqu_gdal\\lib\\site-packages\\sklearn\\cross_decomposition\\_pls.py:503: FutureWarning: The attribute `coef_` will be transposed in version 1.3 to be consistent with other linear models in scikit-learn. Currently, `coef_` has a shape of (n_features, n_targets) and in the future it will have a shape of (n_targets, n_features).\n",
      "  warnings.warn(\n"
     ]
    },
    {
     "name": "stdout",
     "output_type": "stream",
     "text": [
      "\r",
      "12% completed"
     ]
    },
    {
     "name": "stderr",
     "output_type": "stream",
     "text": [
      "C:\\Users\\15086\\anaconda3\\envs\\wenqu_gdal\\lib\\site-packages\\sklearn\\cross_decomposition\\_pls.py:503: FutureWarning: The attribute `coef_` will be transposed in version 1.3 to be consistent with other linear models in scikit-learn. Currently, `coef_` has a shape of (n_features, n_targets) and in the future it will have a shape of (n_targets, n_features).\n",
      "  warnings.warn(\n"
     ]
    },
    {
     "name": "stdout",
     "output_type": "stream",
     "text": [
      "\r",
      "14% completed"
     ]
    },
    {
     "name": "stderr",
     "output_type": "stream",
     "text": [
      "C:\\Users\\15086\\anaconda3\\envs\\wenqu_gdal\\lib\\site-packages\\sklearn\\cross_decomposition\\_pls.py:503: FutureWarning: The attribute `coef_` will be transposed in version 1.3 to be consistent with other linear models in scikit-learn. Currently, `coef_` has a shape of (n_features, n_targets) and in the future it will have a shape of (n_targets, n_features).\n",
      "  warnings.warn(\n"
     ]
    },
    {
     "name": "stdout",
     "output_type": "stream",
     "text": [
      "\r",
      "16% completed"
     ]
    },
    {
     "name": "stderr",
     "output_type": "stream",
     "text": [
      "C:\\Users\\15086\\anaconda3\\envs\\wenqu_gdal\\lib\\site-packages\\sklearn\\cross_decomposition\\_pls.py:503: FutureWarning: The attribute `coef_` will be transposed in version 1.3 to be consistent with other linear models in scikit-learn. Currently, `coef_` has a shape of (n_features, n_targets) and in the future it will have a shape of (n_targets, n_features).\n",
      "  warnings.warn(\n"
     ]
    },
    {
     "name": "stdout",
     "output_type": "stream",
     "text": [
      "\r",
      "18% completed"
     ]
    },
    {
     "name": "stderr",
     "output_type": "stream",
     "text": [
      "C:\\Users\\15086\\anaconda3\\envs\\wenqu_gdal\\lib\\site-packages\\sklearn\\cross_decomposition\\_pls.py:503: FutureWarning: The attribute `coef_` will be transposed in version 1.3 to be consistent with other linear models in scikit-learn. Currently, `coef_` has a shape of (n_features, n_targets) and in the future it will have a shape of (n_targets, n_features).\n",
      "  warnings.warn(\n"
     ]
    },
    {
     "name": "stdout",
     "output_type": "stream",
     "text": [
      "\r",
      "20% completed"
     ]
    },
    {
     "name": "stderr",
     "output_type": "stream",
     "text": [
      "C:\\Users\\15086\\anaconda3\\envs\\wenqu_gdal\\lib\\site-packages\\sklearn\\cross_decomposition\\_pls.py:503: FutureWarning: The attribute `coef_` will be transposed in version 1.3 to be consistent with other linear models in scikit-learn. Currently, `coef_` has a shape of (n_features, n_targets) and in the future it will have a shape of (n_targets, n_features).\n",
      "  warnings.warn(\n"
     ]
    },
    {
     "name": "stdout",
     "output_type": "stream",
     "text": [
      "\r",
      "22% completed"
     ]
    },
    {
     "name": "stderr",
     "output_type": "stream",
     "text": [
      "C:\\Users\\15086\\anaconda3\\envs\\wenqu_gdal\\lib\\site-packages\\sklearn\\cross_decomposition\\_pls.py:503: FutureWarning: The attribute `coef_` will be transposed in version 1.3 to be consistent with other linear models in scikit-learn. Currently, `coef_` has a shape of (n_features, n_targets) and in the future it will have a shape of (n_targets, n_features).\n",
      "  warnings.warn(\n"
     ]
    },
    {
     "name": "stdout",
     "output_type": "stream",
     "text": [
      "\r",
      "24% completed"
     ]
    },
    {
     "name": "stderr",
     "output_type": "stream",
     "text": [
      "C:\\Users\\15086\\anaconda3\\envs\\wenqu_gdal\\lib\\site-packages\\sklearn\\cross_decomposition\\_pls.py:503: FutureWarning: The attribute `coef_` will be transposed in version 1.3 to be consistent with other linear models in scikit-learn. Currently, `coef_` has a shape of (n_features, n_targets) and in the future it will have a shape of (n_targets, n_features).\n",
      "  warnings.warn(\n"
     ]
    },
    {
     "name": "stdout",
     "output_type": "stream",
     "text": [
      "\r",
      "26% completed"
     ]
    },
    {
     "name": "stderr",
     "output_type": "stream",
     "text": [
      "C:\\Users\\15086\\anaconda3\\envs\\wenqu_gdal\\lib\\site-packages\\sklearn\\cross_decomposition\\_pls.py:503: FutureWarning: The attribute `coef_` will be transposed in version 1.3 to be consistent with other linear models in scikit-learn. Currently, `coef_` has a shape of (n_features, n_targets) and in the future it will have a shape of (n_targets, n_features).\n",
      "  warnings.warn(\n"
     ]
    },
    {
     "name": "stdout",
     "output_type": "stream",
     "text": [
      "\r",
      "28% completed"
     ]
    },
    {
     "name": "stderr",
     "output_type": "stream",
     "text": [
      "C:\\Users\\15086\\anaconda3\\envs\\wenqu_gdal\\lib\\site-packages\\sklearn\\cross_decomposition\\_pls.py:503: FutureWarning: The attribute `coef_` will be transposed in version 1.3 to be consistent with other linear models in scikit-learn. Currently, `coef_` has a shape of (n_features, n_targets) and in the future it will have a shape of (n_targets, n_features).\n",
      "  warnings.warn(\n"
     ]
    },
    {
     "name": "stdout",
     "output_type": "stream",
     "text": [
      "\r",
      "30% completed"
     ]
    },
    {
     "name": "stderr",
     "output_type": "stream",
     "text": [
      "C:\\Users\\15086\\anaconda3\\envs\\wenqu_gdal\\lib\\site-packages\\sklearn\\cross_decomposition\\_pls.py:503: FutureWarning: The attribute `coef_` will be transposed in version 1.3 to be consistent with other linear models in scikit-learn. Currently, `coef_` has a shape of (n_features, n_targets) and in the future it will have a shape of (n_targets, n_features).\n",
      "  warnings.warn(\n"
     ]
    },
    {
     "name": "stdout",
     "output_type": "stream",
     "text": [
      "\r",
      "32% completed"
     ]
    },
    {
     "name": "stderr",
     "output_type": "stream",
     "text": [
      "C:\\Users\\15086\\anaconda3\\envs\\wenqu_gdal\\lib\\site-packages\\sklearn\\cross_decomposition\\_pls.py:503: FutureWarning: The attribute `coef_` will be transposed in version 1.3 to be consistent with other linear models in scikit-learn. Currently, `coef_` has a shape of (n_features, n_targets) and in the future it will have a shape of (n_targets, n_features).\n",
      "  warnings.warn(\n"
     ]
    },
    {
     "name": "stdout",
     "output_type": "stream",
     "text": [
      "\r",
      "34% completed"
     ]
    },
    {
     "name": "stderr",
     "output_type": "stream",
     "text": [
      "C:\\Users\\15086\\anaconda3\\envs\\wenqu_gdal\\lib\\site-packages\\sklearn\\cross_decomposition\\_pls.py:503: FutureWarning: The attribute `coef_` will be transposed in version 1.3 to be consistent with other linear models in scikit-learn. Currently, `coef_` has a shape of (n_features, n_targets) and in the future it will have a shape of (n_targets, n_features).\n",
      "  warnings.warn(\n"
     ]
    },
    {
     "name": "stdout",
     "output_type": "stream",
     "text": [
      "\r",
      "36% completed"
     ]
    },
    {
     "name": "stderr",
     "output_type": "stream",
     "text": [
      "C:\\Users\\15086\\anaconda3\\envs\\wenqu_gdal\\lib\\site-packages\\sklearn\\cross_decomposition\\_pls.py:503: FutureWarning: The attribute `coef_` will be transposed in version 1.3 to be consistent with other linear models in scikit-learn. Currently, `coef_` has a shape of (n_features, n_targets) and in the future it will have a shape of (n_targets, n_features).\n",
      "  warnings.warn(\n"
     ]
    },
    {
     "name": "stdout",
     "output_type": "stream",
     "text": [
      "\r",
      "38% completed"
     ]
    },
    {
     "name": "stderr",
     "output_type": "stream",
     "text": [
      "C:\\Users\\15086\\anaconda3\\envs\\wenqu_gdal\\lib\\site-packages\\sklearn\\cross_decomposition\\_pls.py:503: FutureWarning: The attribute `coef_` will be transposed in version 1.3 to be consistent with other linear models in scikit-learn. Currently, `coef_` has a shape of (n_features, n_targets) and in the future it will have a shape of (n_targets, n_features).\n",
      "  warnings.warn(\n"
     ]
    },
    {
     "name": "stdout",
     "output_type": "stream",
     "text": [
      "\r",
      "40% completed"
     ]
    },
    {
     "name": "stderr",
     "output_type": "stream",
     "text": [
      "C:\\Users\\15086\\anaconda3\\envs\\wenqu_gdal\\lib\\site-packages\\sklearn\\cross_decomposition\\_pls.py:503: FutureWarning: The attribute `coef_` will be transposed in version 1.3 to be consistent with other linear models in scikit-learn. Currently, `coef_` has a shape of (n_features, n_targets) and in the future it will have a shape of (n_targets, n_features).\n",
      "  warnings.warn(\n"
     ]
    },
    {
     "name": "stdout",
     "output_type": "stream",
     "text": [
      "\r",
      "42% completed"
     ]
    },
    {
     "name": "stderr",
     "output_type": "stream",
     "text": [
      "C:\\Users\\15086\\anaconda3\\envs\\wenqu_gdal\\lib\\site-packages\\sklearn\\cross_decomposition\\_pls.py:503: FutureWarning: The attribute `coef_` will be transposed in version 1.3 to be consistent with other linear models in scikit-learn. Currently, `coef_` has a shape of (n_features, n_targets) and in the future it will have a shape of (n_targets, n_features).\n",
      "  warnings.warn(\n"
     ]
    },
    {
     "name": "stdout",
     "output_type": "stream",
     "text": [
      "\r",
      "44% completed"
     ]
    },
    {
     "name": "stderr",
     "output_type": "stream",
     "text": [
      "C:\\Users\\15086\\anaconda3\\envs\\wenqu_gdal\\lib\\site-packages\\sklearn\\cross_decomposition\\_pls.py:503: FutureWarning: The attribute `coef_` will be transposed in version 1.3 to be consistent with other linear models in scikit-learn. Currently, `coef_` has a shape of (n_features, n_targets) and in the future it will have a shape of (n_targets, n_features).\n",
      "  warnings.warn(\n"
     ]
    },
    {
     "name": "stdout",
     "output_type": "stream",
     "text": [
      "\r",
      "46% completed"
     ]
    },
    {
     "name": "stderr",
     "output_type": "stream",
     "text": [
      "C:\\Users\\15086\\anaconda3\\envs\\wenqu_gdal\\lib\\site-packages\\sklearn\\cross_decomposition\\_pls.py:503: FutureWarning: The attribute `coef_` will be transposed in version 1.3 to be consistent with other linear models in scikit-learn. Currently, `coef_` has a shape of (n_features, n_targets) and in the future it will have a shape of (n_targets, n_features).\n",
      "  warnings.warn(\n"
     ]
    },
    {
     "name": "stdout",
     "output_type": "stream",
     "text": [
      "\r",
      "48% completed"
     ]
    },
    {
     "name": "stderr",
     "output_type": "stream",
     "text": [
      "C:\\Users\\15086\\anaconda3\\envs\\wenqu_gdal\\lib\\site-packages\\sklearn\\cross_decomposition\\_pls.py:503: FutureWarning: The attribute `coef_` will be transposed in version 1.3 to be consistent with other linear models in scikit-learn. Currently, `coef_` has a shape of (n_features, n_targets) and in the future it will have a shape of (n_targets, n_features).\n",
      "  warnings.warn(\n"
     ]
    },
    {
     "name": "stdout",
     "output_type": "stream",
     "text": [
      "\r",
      "50% completed"
     ]
    },
    {
     "name": "stderr",
     "output_type": "stream",
     "text": [
      "C:\\Users\\15086\\anaconda3\\envs\\wenqu_gdal\\lib\\site-packages\\sklearn\\cross_decomposition\\_pls.py:503: FutureWarning: The attribute `coef_` will be transposed in version 1.3 to be consistent with other linear models in scikit-learn. Currently, `coef_` has a shape of (n_features, n_targets) and in the future it will have a shape of (n_targets, n_features).\n",
      "  warnings.warn(\n"
     ]
    },
    {
     "name": "stdout",
     "output_type": "stream",
     "text": [
      "\r",
      "52% completed"
     ]
    },
    {
     "name": "stderr",
     "output_type": "stream",
     "text": [
      "C:\\Users\\15086\\anaconda3\\envs\\wenqu_gdal\\lib\\site-packages\\sklearn\\cross_decomposition\\_pls.py:503: FutureWarning: The attribute `coef_` will be transposed in version 1.3 to be consistent with other linear models in scikit-learn. Currently, `coef_` has a shape of (n_features, n_targets) and in the future it will have a shape of (n_targets, n_features).\n",
      "  warnings.warn(\n"
     ]
    },
    {
     "name": "stdout",
     "output_type": "stream",
     "text": [
      "\r",
      "54% completed"
     ]
    },
    {
     "name": "stderr",
     "output_type": "stream",
     "text": [
      "C:\\Users\\15086\\anaconda3\\envs\\wenqu_gdal\\lib\\site-packages\\sklearn\\cross_decomposition\\_pls.py:503: FutureWarning: The attribute `coef_` will be transposed in version 1.3 to be consistent with other linear models in scikit-learn. Currently, `coef_` has a shape of (n_features, n_targets) and in the future it will have a shape of (n_targets, n_features).\n",
      "  warnings.warn(\n"
     ]
    },
    {
     "name": "stdout",
     "output_type": "stream",
     "text": [
      "\r",
      "56% completed"
     ]
    },
    {
     "name": "stderr",
     "output_type": "stream",
     "text": [
      "C:\\Users\\15086\\anaconda3\\envs\\wenqu_gdal\\lib\\site-packages\\sklearn\\cross_decomposition\\_pls.py:503: FutureWarning: The attribute `coef_` will be transposed in version 1.3 to be consistent with other linear models in scikit-learn. Currently, `coef_` has a shape of (n_features, n_targets) and in the future it will have a shape of (n_targets, n_features).\n",
      "  warnings.warn(\n"
     ]
    },
    {
     "name": "stdout",
     "output_type": "stream",
     "text": [
      "\r",
      "58% completed"
     ]
    },
    {
     "name": "stderr",
     "output_type": "stream",
     "text": [
      "C:\\Users\\15086\\anaconda3\\envs\\wenqu_gdal\\lib\\site-packages\\sklearn\\cross_decomposition\\_pls.py:503: FutureWarning: The attribute `coef_` will be transposed in version 1.3 to be consistent with other linear models in scikit-learn. Currently, `coef_` has a shape of (n_features, n_targets) and in the future it will have a shape of (n_targets, n_features).\n",
      "  warnings.warn(\n"
     ]
    },
    {
     "name": "stdout",
     "output_type": "stream",
     "text": [
      "\r",
      "60% completed"
     ]
    },
    {
     "name": "stderr",
     "output_type": "stream",
     "text": [
      "C:\\Users\\15086\\anaconda3\\envs\\wenqu_gdal\\lib\\site-packages\\sklearn\\cross_decomposition\\_pls.py:503: FutureWarning: The attribute `coef_` will be transposed in version 1.3 to be consistent with other linear models in scikit-learn. Currently, `coef_` has a shape of (n_features, n_targets) and in the future it will have a shape of (n_targets, n_features).\n",
      "  warnings.warn(\n"
     ]
    },
    {
     "name": "stdout",
     "output_type": "stream",
     "text": [
      "\r",
      "62% completed"
     ]
    },
    {
     "name": "stderr",
     "output_type": "stream",
     "text": [
      "C:\\Users\\15086\\anaconda3\\envs\\wenqu_gdal\\lib\\site-packages\\sklearn\\cross_decomposition\\_pls.py:503: FutureWarning: The attribute `coef_` will be transposed in version 1.3 to be consistent with other linear models in scikit-learn. Currently, `coef_` has a shape of (n_features, n_targets) and in the future it will have a shape of (n_targets, n_features).\n",
      "  warnings.warn(\n"
     ]
    },
    {
     "name": "stdout",
     "output_type": "stream",
     "text": [
      "\r",
      "64% completed"
     ]
    },
    {
     "name": "stderr",
     "output_type": "stream",
     "text": [
      "C:\\Users\\15086\\anaconda3\\envs\\wenqu_gdal\\lib\\site-packages\\sklearn\\cross_decomposition\\_pls.py:503: FutureWarning: The attribute `coef_` will be transposed in version 1.3 to be consistent with other linear models in scikit-learn. Currently, `coef_` has a shape of (n_features, n_targets) and in the future it will have a shape of (n_targets, n_features).\n",
      "  warnings.warn(\n"
     ]
    },
    {
     "name": "stdout",
     "output_type": "stream",
     "text": [
      "\r",
      "66% completed"
     ]
    },
    {
     "name": "stderr",
     "output_type": "stream",
     "text": [
      "C:\\Users\\15086\\anaconda3\\envs\\wenqu_gdal\\lib\\site-packages\\sklearn\\cross_decomposition\\_pls.py:503: FutureWarning: The attribute `coef_` will be transposed in version 1.3 to be consistent with other linear models in scikit-learn. Currently, `coef_` has a shape of (n_features, n_targets) and in the future it will have a shape of (n_targets, n_features).\n",
      "  warnings.warn(\n"
     ]
    },
    {
     "name": "stdout",
     "output_type": "stream",
     "text": [
      "\r",
      "68% completed"
     ]
    },
    {
     "name": "stderr",
     "output_type": "stream",
     "text": [
      "C:\\Users\\15086\\anaconda3\\envs\\wenqu_gdal\\lib\\site-packages\\sklearn\\cross_decomposition\\_pls.py:503: FutureWarning: The attribute `coef_` will be transposed in version 1.3 to be consistent with other linear models in scikit-learn. Currently, `coef_` has a shape of (n_features, n_targets) and in the future it will have a shape of (n_targets, n_features).\n",
      "  warnings.warn(\n"
     ]
    },
    {
     "name": "stdout",
     "output_type": "stream",
     "text": [
      "\r",
      "70% completed"
     ]
    },
    {
     "name": "stderr",
     "output_type": "stream",
     "text": [
      "C:\\Users\\15086\\anaconda3\\envs\\wenqu_gdal\\lib\\site-packages\\sklearn\\cross_decomposition\\_pls.py:503: FutureWarning: The attribute `coef_` will be transposed in version 1.3 to be consistent with other linear models in scikit-learn. Currently, `coef_` has a shape of (n_features, n_targets) and in the future it will have a shape of (n_targets, n_features).\n",
      "  warnings.warn(\n"
     ]
    },
    {
     "name": "stdout",
     "output_type": "stream",
     "text": [
      "\r",
      "72% completed"
     ]
    },
    {
     "name": "stderr",
     "output_type": "stream",
     "text": [
      "C:\\Users\\15086\\anaconda3\\envs\\wenqu_gdal\\lib\\site-packages\\sklearn\\cross_decomposition\\_pls.py:503: FutureWarning: The attribute `coef_` will be transposed in version 1.3 to be consistent with other linear models in scikit-learn. Currently, `coef_` has a shape of (n_features, n_targets) and in the future it will have a shape of (n_targets, n_features).\n",
      "  warnings.warn(\n"
     ]
    },
    {
     "name": "stdout",
     "output_type": "stream",
     "text": [
      "\r",
      "74% completed"
     ]
    },
    {
     "name": "stderr",
     "output_type": "stream",
     "text": [
      "C:\\Users\\15086\\anaconda3\\envs\\wenqu_gdal\\lib\\site-packages\\sklearn\\cross_decomposition\\_pls.py:503: FutureWarning: The attribute `coef_` will be transposed in version 1.3 to be consistent with other linear models in scikit-learn. Currently, `coef_` has a shape of (n_features, n_targets) and in the future it will have a shape of (n_targets, n_features).\n",
      "  warnings.warn(\n"
     ]
    },
    {
     "name": "stdout",
     "output_type": "stream",
     "text": [
      "\r",
      "76% completed"
     ]
    },
    {
     "name": "stderr",
     "output_type": "stream",
     "text": [
      "C:\\Users\\15086\\anaconda3\\envs\\wenqu_gdal\\lib\\site-packages\\sklearn\\cross_decomposition\\_pls.py:503: FutureWarning: The attribute `coef_` will be transposed in version 1.3 to be consistent with other linear models in scikit-learn. Currently, `coef_` has a shape of (n_features, n_targets) and in the future it will have a shape of (n_targets, n_features).\n",
      "  warnings.warn(\n"
     ]
    },
    {
     "name": "stdout",
     "output_type": "stream",
     "text": [
      "\r",
      "78% completed"
     ]
    },
    {
     "name": "stderr",
     "output_type": "stream",
     "text": [
      "C:\\Users\\15086\\anaconda3\\envs\\wenqu_gdal\\lib\\site-packages\\sklearn\\cross_decomposition\\_pls.py:503: FutureWarning: The attribute `coef_` will be transposed in version 1.3 to be consistent with other linear models in scikit-learn. Currently, `coef_` has a shape of (n_features, n_targets) and in the future it will have a shape of (n_targets, n_features).\n",
      "  warnings.warn(\n"
     ]
    },
    {
     "name": "stdout",
     "output_type": "stream",
     "text": [
      "\r",
      "80% completed"
     ]
    },
    {
     "name": "stderr",
     "output_type": "stream",
     "text": [
      "C:\\Users\\15086\\anaconda3\\envs\\wenqu_gdal\\lib\\site-packages\\sklearn\\cross_decomposition\\_pls.py:503: FutureWarning: The attribute `coef_` will be transposed in version 1.3 to be consistent with other linear models in scikit-learn. Currently, `coef_` has a shape of (n_features, n_targets) and in the future it will have a shape of (n_targets, n_features).\n",
      "  warnings.warn(\n"
     ]
    },
    {
     "name": "stdout",
     "output_type": "stream",
     "text": [
      "\r",
      "82% completed"
     ]
    },
    {
     "name": "stderr",
     "output_type": "stream",
     "text": [
      "C:\\Users\\15086\\anaconda3\\envs\\wenqu_gdal\\lib\\site-packages\\sklearn\\cross_decomposition\\_pls.py:503: FutureWarning: The attribute `coef_` will be transposed in version 1.3 to be consistent with other linear models in scikit-learn. Currently, `coef_` has a shape of (n_features, n_targets) and in the future it will have a shape of (n_targets, n_features).\n",
      "  warnings.warn(\n"
     ]
    },
    {
     "name": "stdout",
     "output_type": "stream",
     "text": [
      "\r",
      "84% completed"
     ]
    },
    {
     "name": "stderr",
     "output_type": "stream",
     "text": [
      "C:\\Users\\15086\\anaconda3\\envs\\wenqu_gdal\\lib\\site-packages\\sklearn\\cross_decomposition\\_pls.py:503: FutureWarning: The attribute `coef_` will be transposed in version 1.3 to be consistent with other linear models in scikit-learn. Currently, `coef_` has a shape of (n_features, n_targets) and in the future it will have a shape of (n_targets, n_features).\n",
      "  warnings.warn(\n"
     ]
    },
    {
     "name": "stdout",
     "output_type": "stream",
     "text": [
      "\r",
      "86% completed"
     ]
    },
    {
     "name": "stderr",
     "output_type": "stream",
     "text": [
      "C:\\Users\\15086\\anaconda3\\envs\\wenqu_gdal\\lib\\site-packages\\sklearn\\cross_decomposition\\_pls.py:503: FutureWarning: The attribute `coef_` will be transposed in version 1.3 to be consistent with other linear models in scikit-learn. Currently, `coef_` has a shape of (n_features, n_targets) and in the future it will have a shape of (n_targets, n_features).\n",
      "  warnings.warn(\n"
     ]
    },
    {
     "name": "stdout",
     "output_type": "stream",
     "text": [
      "\r",
      "88% completed"
     ]
    },
    {
     "name": "stderr",
     "output_type": "stream",
     "text": [
      "C:\\Users\\15086\\anaconda3\\envs\\wenqu_gdal\\lib\\site-packages\\sklearn\\cross_decomposition\\_pls.py:503: FutureWarning: The attribute `coef_` will be transposed in version 1.3 to be consistent with other linear models in scikit-learn. Currently, `coef_` has a shape of (n_features, n_targets) and in the future it will have a shape of (n_targets, n_features).\n",
      "  warnings.warn(\n"
     ]
    },
    {
     "name": "stdout",
     "output_type": "stream",
     "text": [
      "\r",
      "90% completed"
     ]
    },
    {
     "name": "stderr",
     "output_type": "stream",
     "text": [
      "C:\\Users\\15086\\anaconda3\\envs\\wenqu_gdal\\lib\\site-packages\\sklearn\\cross_decomposition\\_pls.py:503: FutureWarning: The attribute `coef_` will be transposed in version 1.3 to be consistent with other linear models in scikit-learn. Currently, `coef_` has a shape of (n_features, n_targets) and in the future it will have a shape of (n_targets, n_features).\n",
      "  warnings.warn(\n"
     ]
    },
    {
     "name": "stdout",
     "output_type": "stream",
     "text": [
      "\r",
      "92% completed"
     ]
    },
    {
     "name": "stderr",
     "output_type": "stream",
     "text": [
      "C:\\Users\\15086\\anaconda3\\envs\\wenqu_gdal\\lib\\site-packages\\sklearn\\cross_decomposition\\_pls.py:503: FutureWarning: The attribute `coef_` will be transposed in version 1.3 to be consistent with other linear models in scikit-learn. Currently, `coef_` has a shape of (n_features, n_targets) and in the future it will have a shape of (n_targets, n_features).\n",
      "  warnings.warn(\n"
     ]
    },
    {
     "name": "stdout",
     "output_type": "stream",
     "text": [
      "\r",
      "94% completed"
     ]
    },
    {
     "name": "stderr",
     "output_type": "stream",
     "text": [
      "C:\\Users\\15086\\anaconda3\\envs\\wenqu_gdal\\lib\\site-packages\\sklearn\\cross_decomposition\\_pls.py:503: FutureWarning: The attribute `coef_` will be transposed in version 1.3 to be consistent with other linear models in scikit-learn. Currently, `coef_` has a shape of (n_features, n_targets) and in the future it will have a shape of (n_targets, n_features).\n",
      "  warnings.warn(\n",
      "C:\\Users\\15086\\anaconda3\\envs\\wenqu_gdal\\lib\\site-packages\\sklearn\\cross_decomposition\\_pls.py:300: UserWarning: Y residual is constant at iteration 47\n",
      "  warnings.warn(f\"Y residual is constant at iteration {k}\")\n",
      "C:\\Users\\15086\\anaconda3\\envs\\wenqu_gdal\\lib\\site-packages\\sklearn\\cross_decomposition\\_pls.py:300: UserWarning: Y residual is constant at iteration 47\n",
      "  warnings.warn(f\"Y residual is constant at iteration {k}\")\n",
      "C:\\Users\\15086\\anaconda3\\envs\\wenqu_gdal\\lib\\site-packages\\sklearn\\cross_decomposition\\_pls.py:300: UserWarning: Y residual is constant at iteration 47\n",
      "  warnings.warn(f\"Y residual is constant at iteration {k}\")\n",
      "C:\\Users\\15086\\anaconda3\\envs\\wenqu_gdal\\lib\\site-packages\\sklearn\\cross_decomposition\\_pls.py:300: UserWarning: Y residual is constant at iteration 47\n",
      "  warnings.warn(f\"Y residual is constant at iteration {k}\")\n",
      "C:\\Users\\15086\\anaconda3\\envs\\wenqu_gdal\\lib\\site-packages\\sklearn\\cross_decomposition\\_pls.py:300: UserWarning: Y residual is constant at iteration 47\n",
      "  warnings.warn(f\"Y residual is constant at iteration {k}\")\n",
      "C:\\Users\\15086\\anaconda3\\envs\\wenqu_gdal\\lib\\site-packages\\sklearn\\cross_decomposition\\_pls.py:300: UserWarning: Y residual is constant at iteration 47\n",
      "  warnings.warn(f\"Y residual is constant at iteration {k}\")\n",
      "C:\\Users\\15086\\anaconda3\\envs\\wenqu_gdal\\lib\\site-packages\\sklearn\\cross_decomposition\\_pls.py:300: UserWarning: Y residual is constant at iteration 47\n",
      "  warnings.warn(f\"Y residual is constant at iteration {k}\")\n",
      "C:\\Users\\15086\\anaconda3\\envs\\wenqu_gdal\\lib\\site-packages\\sklearn\\cross_decomposition\\_pls.py:300: UserWarning: Y residual is constant at iteration 47\n",
      "  warnings.warn(f\"Y residual is constant at iteration {k}\")\n"
     ]
    },
    {
     "name": "stdout",
     "output_type": "stream",
     "text": [
      "\r",
      "96% completed"
     ]
    },
    {
     "name": "stderr",
     "output_type": "stream",
     "text": [
      "C:\\Users\\15086\\anaconda3\\envs\\wenqu_gdal\\lib\\site-packages\\sklearn\\cross_decomposition\\_pls.py:503: FutureWarning: The attribute `coef_` will be transposed in version 1.3 to be consistent with other linear models in scikit-learn. Currently, `coef_` has a shape of (n_features, n_targets) and in the future it will have a shape of (n_targets, n_features).\n",
      "  warnings.warn(\n",
      "C:\\Users\\15086\\anaconda3\\envs\\wenqu_gdal\\lib\\site-packages\\sklearn\\cross_decomposition\\_pls.py:300: UserWarning: Y residual is constant at iteration 47\n",
      "  warnings.warn(f\"Y residual is constant at iteration {k}\")\n",
      "C:\\Users\\15086\\anaconda3\\envs\\wenqu_gdal\\lib\\site-packages\\sklearn\\cross_decomposition\\_pls.py:300: UserWarning: Y residual is constant at iteration 48\n",
      "  warnings.warn(f\"Y residual is constant at iteration {k}\")\n",
      "C:\\Users\\15086\\anaconda3\\envs\\wenqu_gdal\\lib\\site-packages\\sklearn\\cross_decomposition\\_pls.py:300: UserWarning: Y residual is constant at iteration 48\n",
      "  warnings.warn(f\"Y residual is constant at iteration {k}\")\n",
      "C:\\Users\\15086\\anaconda3\\envs\\wenqu_gdal\\lib\\site-packages\\sklearn\\cross_decomposition\\_pls.py:300: UserWarning: Y residual is constant at iteration 48\n",
      "  warnings.warn(f\"Y residual is constant at iteration {k}\")\n",
      "C:\\Users\\15086\\anaconda3\\envs\\wenqu_gdal\\lib\\site-packages\\sklearn\\cross_decomposition\\_pls.py:300: UserWarning: Y residual is constant at iteration 48\n",
      "  warnings.warn(f\"Y residual is constant at iteration {k}\")\n",
      "C:\\Users\\15086\\anaconda3\\envs\\wenqu_gdal\\lib\\site-packages\\sklearn\\cross_decomposition\\_pls.py:300: UserWarning: Y residual is constant at iteration 48\n",
      "  warnings.warn(f\"Y residual is constant at iteration {k}\")\n",
      "C:\\Users\\15086\\anaconda3\\envs\\wenqu_gdal\\lib\\site-packages\\sklearn\\cross_decomposition\\_pls.py:300: UserWarning: Y residual is constant at iteration 48\n",
      "  warnings.warn(f\"Y residual is constant at iteration {k}\")\n",
      "C:\\Users\\15086\\anaconda3\\envs\\wenqu_gdal\\lib\\site-packages\\sklearn\\cross_decomposition\\_pls.py:300: UserWarning: Y residual is constant at iteration 48\n",
      "  warnings.warn(f\"Y residual is constant at iteration {k}\")\n",
      "C:\\Users\\15086\\anaconda3\\envs\\wenqu_gdal\\lib\\site-packages\\sklearn\\cross_decomposition\\_pls.py:300: UserWarning: Y residual is constant at iteration 48\n",
      "  warnings.warn(f\"Y residual is constant at iteration {k}\")\n",
      "C:\\Users\\15086\\anaconda3\\envs\\wenqu_gdal\\lib\\site-packages\\sklearn\\cross_decomposition\\_pls.py:300: UserWarning: Y residual is constant at iteration 48\n",
      "  warnings.warn(f\"Y residual is constant at iteration {k}\")\n",
      "C:\\Users\\15086\\anaconda3\\envs\\wenqu_gdal\\lib\\site-packages\\sklearn\\cross_decomposition\\_pls.py:300: UserWarning: Y residual is constant at iteration 47\n",
      "  warnings.warn(f\"Y residual is constant at iteration {k}\")\n",
      "C:\\Users\\15086\\anaconda3\\envs\\wenqu_gdal\\lib\\site-packages\\sklearn\\cross_decomposition\\_pls.py:300: UserWarning: Y residual is constant at iteration 47\n",
      "  warnings.warn(f\"Y residual is constant at iteration {k}\")\n",
      "C:\\Users\\15086\\anaconda3\\envs\\wenqu_gdal\\lib\\site-packages\\sklearn\\cross_decomposition\\_pls.py:300: UserWarning: Y residual is constant at iteration 48\n",
      "  warnings.warn(f\"Y residual is constant at iteration {k}\")\n",
      "C:\\Users\\15086\\anaconda3\\envs\\wenqu_gdal\\lib\\site-packages\\sklearn\\cross_decomposition\\_pls.py:300: UserWarning: Y residual is constant at iteration 47\n",
      "  warnings.warn(f\"Y residual is constant at iteration {k}\")\n",
      "C:\\Users\\15086\\anaconda3\\envs\\wenqu_gdal\\lib\\site-packages\\sklearn\\cross_decomposition\\_pls.py:300: UserWarning: Y residual is constant at iteration 48\n",
      "  warnings.warn(f\"Y residual is constant at iteration {k}\")\n",
      "C:\\Users\\15086\\anaconda3\\envs\\wenqu_gdal\\lib\\site-packages\\sklearn\\cross_decomposition\\_pls.py:300: UserWarning: Y residual is constant at iteration 48\n",
      "  warnings.warn(f\"Y residual is constant at iteration {k}\")\n",
      "C:\\Users\\15086\\anaconda3\\envs\\wenqu_gdal\\lib\\site-packages\\sklearn\\cross_decomposition\\_pls.py:300: UserWarning: Y residual is constant at iteration 47\n",
      "  warnings.warn(f\"Y residual is constant at iteration {k}\")\n",
      "C:\\Users\\15086\\anaconda3\\envs\\wenqu_gdal\\lib\\site-packages\\sklearn\\cross_decomposition\\_pls.py:300: UserWarning: Y residual is constant at iteration 48\n",
      "  warnings.warn(f\"Y residual is constant at iteration {k}\")\n",
      "C:\\Users\\15086\\anaconda3\\envs\\wenqu_gdal\\lib\\site-packages\\sklearn\\cross_decomposition\\_pls.py:300: UserWarning: Y residual is constant at iteration 48\n",
      "  warnings.warn(f\"Y residual is constant at iteration {k}\")\n",
      "C:\\Users\\15086\\anaconda3\\envs\\wenqu_gdal\\lib\\site-packages\\sklearn\\cross_decomposition\\_pls.py:300: UserWarning: Y residual is constant at iteration 48\n",
      "  warnings.warn(f\"Y residual is constant at iteration {k}\")\n",
      "C:\\Users\\15086\\anaconda3\\envs\\wenqu_gdal\\lib\\site-packages\\sklearn\\cross_decomposition\\_pls.py:300: UserWarning: Y residual is constant at iteration 48\n",
      "  warnings.warn(f\"Y residual is constant at iteration {k}\")\n",
      "C:\\Users\\15086\\anaconda3\\envs\\wenqu_gdal\\lib\\site-packages\\sklearn\\cross_decomposition\\_pls.py:300: UserWarning: Y residual is constant at iteration 48\n",
      "  warnings.warn(f\"Y residual is constant at iteration {k}\")\n",
      "C:\\Users\\15086\\anaconda3\\envs\\wenqu_gdal\\lib\\site-packages\\sklearn\\cross_decomposition\\_pls.py:300: UserWarning: Y residual is constant at iteration 47\n",
      "  warnings.warn(f\"Y residual is constant at iteration {k}\")\n",
      "C:\\Users\\15086\\anaconda3\\envs\\wenqu_gdal\\lib\\site-packages\\sklearn\\cross_decomposition\\_pls.py:300: UserWarning: Y residual is constant at iteration 48\n",
      "  warnings.warn(f\"Y residual is constant at iteration {k}\")\n",
      "C:\\Users\\15086\\anaconda3\\envs\\wenqu_gdal\\lib\\site-packages\\sklearn\\cross_decomposition\\_pls.py:300: UserWarning: Y residual is constant at iteration 48\n",
      "  warnings.warn(f\"Y residual is constant at iteration {k}\")\n",
      "C:\\Users\\15086\\anaconda3\\envs\\wenqu_gdal\\lib\\site-packages\\sklearn\\cross_decomposition\\_pls.py:300: UserWarning: Y residual is constant at iteration 48\n",
      "  warnings.warn(f\"Y residual is constant at iteration {k}\")\n",
      "C:\\Users\\15086\\anaconda3\\envs\\wenqu_gdal\\lib\\site-packages\\sklearn\\cross_decomposition\\_pls.py:300: UserWarning: Y residual is constant at iteration 47\n",
      "  warnings.warn(f\"Y residual is constant at iteration {k}\")\n",
      "C:\\Users\\15086\\anaconda3\\envs\\wenqu_gdal\\lib\\site-packages\\sklearn\\cross_decomposition\\_pls.py:300: UserWarning: Y residual is constant at iteration 48\n",
      "  warnings.warn(f\"Y residual is constant at iteration {k}\")\n",
      "C:\\Users\\15086\\anaconda3\\envs\\wenqu_gdal\\lib\\site-packages\\sklearn\\cross_decomposition\\_pls.py:300: UserWarning: Y residual is constant at iteration 48\n",
      "  warnings.warn(f\"Y residual is constant at iteration {k}\")\n",
      "C:\\Users\\15086\\anaconda3\\envs\\wenqu_gdal\\lib\\site-packages\\sklearn\\cross_decomposition\\_pls.py:300: UserWarning: Y residual is constant at iteration 48\n",
      "  warnings.warn(f\"Y residual is constant at iteration {k}\")\n",
      "C:\\Users\\15086\\anaconda3\\envs\\wenqu_gdal\\lib\\site-packages\\sklearn\\cross_decomposition\\_pls.py:300: UserWarning: Y residual is constant at iteration 48\n",
      "  warnings.warn(f\"Y residual is constant at iteration {k}\")\n",
      "C:\\Users\\15086\\anaconda3\\envs\\wenqu_gdal\\lib\\site-packages\\sklearn\\cross_decomposition\\_pls.py:300: UserWarning: Y residual is constant at iteration 48\n",
      "  warnings.warn(f\"Y residual is constant at iteration {k}\")\n",
      "C:\\Users\\15086\\anaconda3\\envs\\wenqu_gdal\\lib\\site-packages\\sklearn\\cross_decomposition\\_pls.py:300: UserWarning: Y residual is constant at iteration 48\n",
      "  warnings.warn(f\"Y residual is constant at iteration {k}\")\n",
      "C:\\Users\\15086\\anaconda3\\envs\\wenqu_gdal\\lib\\site-packages\\sklearn\\cross_decomposition\\_pls.py:300: UserWarning: Y residual is constant at iteration 47\n",
      "  warnings.warn(f\"Y residual is constant at iteration {k}\")\n"
     ]
    },
    {
     "name": "stdout",
     "output_type": "stream",
     "text": [
      "\r",
      "98% completed"
     ]
    },
    {
     "name": "stderr",
     "output_type": "stream",
     "text": [
      "C:\\Users\\15086\\anaconda3\\envs\\wenqu_gdal\\lib\\site-packages\\sklearn\\cross_decomposition\\_pls.py:503: FutureWarning: The attribute `coef_` will be transposed in version 1.3 to be consistent with other linear models in scikit-learn. Currently, `coef_` has a shape of (n_features, n_targets) and in the future it will have a shape of (n_targets, n_features).\n",
      "  warnings.warn(\n",
      "C:\\Users\\15086\\anaconda3\\envs\\wenqu_gdal\\lib\\site-packages\\sklearn\\cross_decomposition\\_pls.py:300: UserWarning: Y residual is constant at iteration 47\n",
      "  warnings.warn(f\"Y residual is constant at iteration {k}\")\n",
      "C:\\Users\\15086\\anaconda3\\envs\\wenqu_gdal\\lib\\site-packages\\sklearn\\cross_decomposition\\_pls.py:300: UserWarning: Y residual is constant at iteration 49\n",
      "  warnings.warn(f\"Y residual is constant at iteration {k}\")\n",
      "C:\\Users\\15086\\anaconda3\\envs\\wenqu_gdal\\lib\\site-packages\\sklearn\\cross_decomposition\\_pls.py:300: UserWarning: Y residual is constant at iteration 49\n",
      "  warnings.warn(f\"Y residual is constant at iteration {k}\")\n",
      "C:\\Users\\15086\\anaconda3\\envs\\wenqu_gdal\\lib\\site-packages\\sklearn\\cross_decomposition\\_pls.py:300: UserWarning: Y residual is constant at iteration 48\n",
      "  warnings.warn(f\"Y residual is constant at iteration {k}\")\n",
      "C:\\Users\\15086\\anaconda3\\envs\\wenqu_gdal\\lib\\site-packages\\sklearn\\cross_decomposition\\_pls.py:300: UserWarning: Y residual is constant at iteration 48\n",
      "  warnings.warn(f\"Y residual is constant at iteration {k}\")\n",
      "C:\\Users\\15086\\anaconda3\\envs\\wenqu_gdal\\lib\\site-packages\\sklearn\\cross_decomposition\\_pls.py:300: UserWarning: Y residual is constant at iteration 49\n",
      "  warnings.warn(f\"Y residual is constant at iteration {k}\")\n",
      "C:\\Users\\15086\\anaconda3\\envs\\wenqu_gdal\\lib\\site-packages\\sklearn\\cross_decomposition\\_pls.py:300: UserWarning: Y residual is constant at iteration 49\n",
      "  warnings.warn(f\"Y residual is constant at iteration {k}\")\n",
      "C:\\Users\\15086\\anaconda3\\envs\\wenqu_gdal\\lib\\site-packages\\sklearn\\cross_decomposition\\_pls.py:300: UserWarning: Y residual is constant at iteration 49\n",
      "  warnings.warn(f\"Y residual is constant at iteration {k}\")\n",
      "C:\\Users\\15086\\anaconda3\\envs\\wenqu_gdal\\lib\\site-packages\\sklearn\\cross_decomposition\\_pls.py:300: UserWarning: Y residual is constant at iteration 48\n",
      "  warnings.warn(f\"Y residual is constant at iteration {k}\")\n",
      "C:\\Users\\15086\\anaconda3\\envs\\wenqu_gdal\\lib\\site-packages\\sklearn\\cross_decomposition\\_pls.py:300: UserWarning: Y residual is constant at iteration 48\n",
      "  warnings.warn(f\"Y residual is constant at iteration {k}\")\n",
      "C:\\Users\\15086\\anaconda3\\envs\\wenqu_gdal\\lib\\site-packages\\sklearn\\cross_decomposition\\_pls.py:300: UserWarning: Y residual is constant at iteration 49\n",
      "  warnings.warn(f\"Y residual is constant at iteration {k}\")\n",
      "C:\\Users\\15086\\anaconda3\\envs\\wenqu_gdal\\lib\\site-packages\\sklearn\\cross_decomposition\\_pls.py:300: UserWarning: Y residual is constant at iteration 49\n",
      "  warnings.warn(f\"Y residual is constant at iteration {k}\")\n",
      "C:\\Users\\15086\\anaconda3\\envs\\wenqu_gdal\\lib\\site-packages\\sklearn\\cross_decomposition\\_pls.py:300: UserWarning: Y residual is constant at iteration 49\n",
      "  warnings.warn(f\"Y residual is constant at iteration {k}\")\n",
      "C:\\Users\\15086\\anaconda3\\envs\\wenqu_gdal\\lib\\site-packages\\sklearn\\cross_decomposition\\_pls.py:300: UserWarning: Y residual is constant at iteration 49\n",
      "  warnings.warn(f\"Y residual is constant at iteration {k}\")\n",
      "C:\\Users\\15086\\anaconda3\\envs\\wenqu_gdal\\lib\\site-packages\\sklearn\\cross_decomposition\\_pls.py:300: UserWarning: Y residual is constant at iteration 49\n",
      "  warnings.warn(f\"Y residual is constant at iteration {k}\")\n",
      "C:\\Users\\15086\\anaconda3\\envs\\wenqu_gdal\\lib\\site-packages\\sklearn\\cross_decomposition\\_pls.py:300: UserWarning: Y residual is constant at iteration 49\n",
      "  warnings.warn(f\"Y residual is constant at iteration {k}\")\n",
      "C:\\Users\\15086\\anaconda3\\envs\\wenqu_gdal\\lib\\site-packages\\sklearn\\cross_decomposition\\_pls.py:300: UserWarning: Y residual is constant at iteration 49\n",
      "  warnings.warn(f\"Y residual is constant at iteration {k}\")\n",
      "C:\\Users\\15086\\anaconda3\\envs\\wenqu_gdal\\lib\\site-packages\\sklearn\\cross_decomposition\\_pls.py:300: UserWarning: Y residual is constant at iteration 49\n",
      "  warnings.warn(f\"Y residual is constant at iteration {k}\")\n",
      "C:\\Users\\15086\\anaconda3\\envs\\wenqu_gdal\\lib\\site-packages\\sklearn\\cross_decomposition\\_pls.py:300: UserWarning: Y residual is constant at iteration 49\n",
      "  warnings.warn(f\"Y residual is constant at iteration {k}\")\n",
      "C:\\Users\\15086\\anaconda3\\envs\\wenqu_gdal\\lib\\site-packages\\sklearn\\cross_decomposition\\_pls.py:300: UserWarning: Y residual is constant at iteration 49\n",
      "  warnings.warn(f\"Y residual is constant at iteration {k}\")\n",
      "C:\\Users\\15086\\anaconda3\\envs\\wenqu_gdal\\lib\\site-packages\\sklearn\\cross_decomposition\\_pls.py:300: UserWarning: Y residual is constant at iteration 49\n",
      "  warnings.warn(f\"Y residual is constant at iteration {k}\")\n",
      "C:\\Users\\15086\\anaconda3\\envs\\wenqu_gdal\\lib\\site-packages\\sklearn\\cross_decomposition\\_pls.py:300: UserWarning: Y residual is constant at iteration 49\n",
      "  warnings.warn(f\"Y residual is constant at iteration {k}\")\n",
      "C:\\Users\\15086\\anaconda3\\envs\\wenqu_gdal\\lib\\site-packages\\sklearn\\cross_decomposition\\_pls.py:300: UserWarning: Y residual is constant at iteration 49\n",
      "  warnings.warn(f\"Y residual is constant at iteration {k}\")\n",
      "C:\\Users\\15086\\anaconda3\\envs\\wenqu_gdal\\lib\\site-packages\\sklearn\\cross_decomposition\\_pls.py:300: UserWarning: Y residual is constant at iteration 49\n",
      "  warnings.warn(f\"Y residual is constant at iteration {k}\")\n",
      "C:\\Users\\15086\\anaconda3\\envs\\wenqu_gdal\\lib\\site-packages\\sklearn\\cross_decomposition\\_pls.py:300: UserWarning: Y residual is constant at iteration 49\n",
      "  warnings.warn(f\"Y residual is constant at iteration {k}\")\n",
      "C:\\Users\\15086\\anaconda3\\envs\\wenqu_gdal\\lib\\site-packages\\sklearn\\cross_decomposition\\_pls.py:300: UserWarning: Y residual is constant at iteration 49\n",
      "  warnings.warn(f\"Y residual is constant at iteration {k}\")\n",
      "C:\\Users\\15086\\anaconda3\\envs\\wenqu_gdal\\lib\\site-packages\\sklearn\\cross_decomposition\\_pls.py:300: UserWarning: Y residual is constant at iteration 49\n",
      "  warnings.warn(f\"Y residual is constant at iteration {k}\")\n",
      "C:\\Users\\15086\\anaconda3\\envs\\wenqu_gdal\\lib\\site-packages\\sklearn\\cross_decomposition\\_pls.py:300: UserWarning: Y residual is constant at iteration 49\n",
      "  warnings.warn(f\"Y residual is constant at iteration {k}\")\n",
      "C:\\Users\\15086\\anaconda3\\envs\\wenqu_gdal\\lib\\site-packages\\sklearn\\cross_decomposition\\_pls.py:300: UserWarning: Y residual is constant at iteration 49\n",
      "  warnings.warn(f\"Y residual is constant at iteration {k}\")\n",
      "C:\\Users\\15086\\anaconda3\\envs\\wenqu_gdal\\lib\\site-packages\\sklearn\\cross_decomposition\\_pls.py:300: UserWarning: Y residual is constant at iteration 49\n",
      "  warnings.warn(f\"Y residual is constant at iteration {k}\")\n",
      "C:\\Users\\15086\\anaconda3\\envs\\wenqu_gdal\\lib\\site-packages\\sklearn\\cross_decomposition\\_pls.py:300: UserWarning: Y residual is constant at iteration 48\n",
      "  warnings.warn(f\"Y residual is constant at iteration {k}\")\n",
      "C:\\Users\\15086\\anaconda3\\envs\\wenqu_gdal\\lib\\site-packages\\sklearn\\cross_decomposition\\_pls.py:300: UserWarning: Y residual is constant at iteration 49\n",
      "  warnings.warn(f\"Y residual is constant at iteration {k}\")\n",
      "C:\\Users\\15086\\anaconda3\\envs\\wenqu_gdal\\lib\\site-packages\\sklearn\\cross_decomposition\\_pls.py:300: UserWarning: Y residual is constant at iteration 49\n",
      "  warnings.warn(f\"Y residual is constant at iteration {k}\")\n",
      "C:\\Users\\15086\\anaconda3\\envs\\wenqu_gdal\\lib\\site-packages\\sklearn\\cross_decomposition\\_pls.py:300: UserWarning: Y residual is constant at iteration 49\n",
      "  warnings.warn(f\"Y residual is constant at iteration {k}\")\n",
      "C:\\Users\\15086\\anaconda3\\envs\\wenqu_gdal\\lib\\site-packages\\sklearn\\cross_decomposition\\_pls.py:300: UserWarning: Y residual is constant at iteration 49\n",
      "  warnings.warn(f\"Y residual is constant at iteration {k}\")\n",
      "C:\\Users\\15086\\anaconda3\\envs\\wenqu_gdal\\lib\\site-packages\\sklearn\\cross_decomposition\\_pls.py:300: UserWarning: Y residual is constant at iteration 49\n",
      "  warnings.warn(f\"Y residual is constant at iteration {k}\")\n",
      "C:\\Users\\15086\\anaconda3\\envs\\wenqu_gdal\\lib\\site-packages\\sklearn\\cross_decomposition\\_pls.py:300: UserWarning: Y residual is constant at iteration 49\n",
      "  warnings.warn(f\"Y residual is constant at iteration {k}\")\n",
      "C:\\Users\\15086\\anaconda3\\envs\\wenqu_gdal\\lib\\site-packages\\sklearn\\cross_decomposition\\_pls.py:300: UserWarning: Y residual is constant at iteration 49\n",
      "  warnings.warn(f\"Y residual is constant at iteration {k}\")\n"
     ]
    },
    {
     "name": "stderr",
     "output_type": "stream",
     "text": [
      "C:\\Users\\15086\\anaconda3\\envs\\wenqu_gdal\\lib\\site-packages\\sklearn\\cross_decomposition\\_pls.py:300: UserWarning: Y residual is constant at iteration 49\n",
      "  warnings.warn(f\"Y residual is constant at iteration {k}\")\n",
      "C:\\Users\\15086\\anaconda3\\envs\\wenqu_gdal\\lib\\site-packages\\sklearn\\cross_decomposition\\_pls.py:300: UserWarning: Y residual is constant at iteration 49\n",
      "  warnings.warn(f\"Y residual is constant at iteration {k}\")\n",
      "C:\\Users\\15086\\anaconda3\\envs\\wenqu_gdal\\lib\\site-packages\\sklearn\\cross_decomposition\\_pls.py:300: UserWarning: Y residual is constant at iteration 49\n",
      "  warnings.warn(f\"Y residual is constant at iteration {k}\")\n",
      "C:\\Users\\15086\\anaconda3\\envs\\wenqu_gdal\\lib\\site-packages\\sklearn\\cross_decomposition\\_pls.py:300: UserWarning: Y residual is constant at iteration 48\n",
      "  warnings.warn(f\"Y residual is constant at iteration {k}\")\n",
      "C:\\Users\\15086\\anaconda3\\envs\\wenqu_gdal\\lib\\site-packages\\sklearn\\cross_decomposition\\_pls.py:300: UserWarning: Y residual is constant at iteration 49\n",
      "  warnings.warn(f\"Y residual is constant at iteration {k}\")\n",
      "C:\\Users\\15086\\anaconda3\\envs\\wenqu_gdal\\lib\\site-packages\\sklearn\\cross_decomposition\\_pls.py:300: UserWarning: Y residual is constant at iteration 49\n",
      "  warnings.warn(f\"Y residual is constant at iteration {k}\")\n",
      "C:\\Users\\15086\\anaconda3\\envs\\wenqu_gdal\\lib\\site-packages\\sklearn\\cross_decomposition\\_pls.py:300: UserWarning: Y residual is constant at iteration 49\n",
      "  warnings.warn(f\"Y residual is constant at iteration {k}\")\n",
      "C:\\Users\\15086\\anaconda3\\envs\\wenqu_gdal\\lib\\site-packages\\sklearn\\cross_decomposition\\_pls.py:300: UserWarning: Y residual is constant at iteration 48\n",
      "  warnings.warn(f\"Y residual is constant at iteration {k}\")\n",
      "C:\\Users\\15086\\anaconda3\\envs\\wenqu_gdal\\lib\\site-packages\\sklearn\\cross_decomposition\\_pls.py:300: UserWarning: Y residual is constant at iteration 49\n",
      "  warnings.warn(f\"Y residual is constant at iteration {k}\")\n",
      "C:\\Users\\15086\\anaconda3\\envs\\wenqu_gdal\\lib\\site-packages\\sklearn\\cross_decomposition\\_pls.py:300: UserWarning: Y residual is constant at iteration 48\n",
      "  warnings.warn(f\"Y residual is constant at iteration {k}\")\n",
      "C:\\Users\\15086\\anaconda3\\envs\\wenqu_gdal\\lib\\site-packages\\sklearn\\cross_decomposition\\_pls.py:300: UserWarning: Y residual is constant at iteration 48\n",
      "  warnings.warn(f\"Y residual is constant at iteration {k}\")\n",
      "C:\\Users\\15086\\anaconda3\\envs\\wenqu_gdal\\lib\\site-packages\\sklearn\\cross_decomposition\\_pls.py:300: UserWarning: Y residual is constant at iteration 49\n",
      "  warnings.warn(f\"Y residual is constant at iteration {k}\")\n",
      "C:\\Users\\15086\\anaconda3\\envs\\wenqu_gdal\\lib\\site-packages\\sklearn\\cross_decomposition\\_pls.py:300: UserWarning: Y residual is constant at iteration 49\n",
      "  warnings.warn(f\"Y residual is constant at iteration {k}\")\n",
      "C:\\Users\\15086\\anaconda3\\envs\\wenqu_gdal\\lib\\site-packages\\sklearn\\cross_decomposition\\_pls.py:300: UserWarning: Y residual is constant at iteration 47\n",
      "  warnings.warn(f\"Y residual is constant at iteration {k}\")\n",
      "C:\\Users\\15086\\anaconda3\\envs\\wenqu_gdal\\lib\\site-packages\\sklearn\\cross_decomposition\\_pls.py:300: UserWarning: Y residual is constant at iteration 49\n",
      "  warnings.warn(f\"Y residual is constant at iteration {k}\")\n",
      "C:\\Users\\15086\\anaconda3\\envs\\wenqu_gdal\\lib\\site-packages\\sklearn\\cross_decomposition\\_pls.py:300: UserWarning: Y residual is constant at iteration 49\n",
      "  warnings.warn(f\"Y residual is constant at iteration {k}\")\n",
      "C:\\Users\\15086\\anaconda3\\envs\\wenqu_gdal\\lib\\site-packages\\sklearn\\cross_decomposition\\_pls.py:300: UserWarning: Y residual is constant at iteration 49\n",
      "  warnings.warn(f\"Y residual is constant at iteration {k}\")\n",
      "C:\\Users\\15086\\anaconda3\\envs\\wenqu_gdal\\lib\\site-packages\\sklearn\\cross_decomposition\\_pls.py:300: UserWarning: Y residual is constant at iteration 49\n",
      "  warnings.warn(f\"Y residual is constant at iteration {k}\")\n",
      "C:\\Users\\15086\\anaconda3\\envs\\wenqu_gdal\\lib\\site-packages\\sklearn\\cross_decomposition\\_pls.py:300: UserWarning: Y residual is constant at iteration 49\n",
      "  warnings.warn(f\"Y residual is constant at iteration {k}\")\n",
      "C:\\Users\\15086\\anaconda3\\envs\\wenqu_gdal\\lib\\site-packages\\sklearn\\cross_decomposition\\_pls.py:300: UserWarning: Y residual is constant at iteration 47\n",
      "  warnings.warn(f\"Y residual is constant at iteration {k}\")\n",
      "C:\\Users\\15086\\anaconda3\\envs\\wenqu_gdal\\lib\\site-packages\\sklearn\\cross_decomposition\\_pls.py:300: UserWarning: Y residual is constant at iteration 49\n",
      "  warnings.warn(f\"Y residual is constant at iteration {k}\")\n",
      "C:\\Users\\15086\\anaconda3\\envs\\wenqu_gdal\\lib\\site-packages\\sklearn\\cross_decomposition\\_pls.py:300: UserWarning: Y residual is constant at iteration 49\n",
      "  warnings.warn(f\"Y residual is constant at iteration {k}\")\n",
      "C:\\Users\\15086\\anaconda3\\envs\\wenqu_gdal\\lib\\site-packages\\sklearn\\cross_decomposition\\_pls.py:300: UserWarning: Y residual is constant at iteration 48\n",
      "  warnings.warn(f\"Y residual is constant at iteration {k}\")\n",
      "C:\\Users\\15086\\anaconda3\\envs\\wenqu_gdal\\lib\\site-packages\\sklearn\\cross_decomposition\\_pls.py:300: UserWarning: Y residual is constant at iteration 49\n",
      "  warnings.warn(f\"Y residual is constant at iteration {k}\")\n",
      "C:\\Users\\15086\\anaconda3\\envs\\wenqu_gdal\\lib\\site-packages\\sklearn\\cross_decomposition\\_pls.py:300: UserWarning: Y residual is constant at iteration 49\n",
      "  warnings.warn(f\"Y residual is constant at iteration {k}\")\n",
      "C:\\Users\\15086\\anaconda3\\envs\\wenqu_gdal\\lib\\site-packages\\sklearn\\cross_decomposition\\_pls.py:300: UserWarning: Y residual is constant at iteration 49\n",
      "  warnings.warn(f\"Y residual is constant at iteration {k}\")\n",
      "C:\\Users\\15086\\anaconda3\\envs\\wenqu_gdal\\lib\\site-packages\\sklearn\\cross_decomposition\\_pls.py:300: UserWarning: Y residual is constant at iteration 49\n",
      "  warnings.warn(f\"Y residual is constant at iteration {k}\")\n",
      "C:\\Users\\15086\\anaconda3\\envs\\wenqu_gdal\\lib\\site-packages\\sklearn\\cross_decomposition\\_pls.py:300: UserWarning: Y residual is constant at iteration 49\n",
      "  warnings.warn(f\"Y residual is constant at iteration {k}\")\n",
      "C:\\Users\\15086\\anaconda3\\envs\\wenqu_gdal\\lib\\site-packages\\sklearn\\cross_decomposition\\_pls.py:300: UserWarning: Y residual is constant at iteration 49\n",
      "  warnings.warn(f\"Y residual is constant at iteration {k}\")\n",
      "C:\\Users\\15086\\anaconda3\\envs\\wenqu_gdal\\lib\\site-packages\\sklearn\\cross_decomposition\\_pls.py:300: UserWarning: Y residual is constant at iteration 49\n",
      "  warnings.warn(f\"Y residual is constant at iteration {k}\")\n",
      "C:\\Users\\15086\\anaconda3\\envs\\wenqu_gdal\\lib\\site-packages\\sklearn\\cross_decomposition\\_pls.py:300: UserWarning: Y residual is constant at iteration 49\n",
      "  warnings.warn(f\"Y residual is constant at iteration {k}\")\n",
      "C:\\Users\\15086\\anaconda3\\envs\\wenqu_gdal\\lib\\site-packages\\sklearn\\cross_decomposition\\_pls.py:300: UserWarning: Y residual is constant at iteration 49\n",
      "  warnings.warn(f\"Y residual is constant at iteration {k}\")\n",
      "C:\\Users\\15086\\anaconda3\\envs\\wenqu_gdal\\lib\\site-packages\\sklearn\\cross_decomposition\\_pls.py:300: UserWarning: Y residual is constant at iteration 49\n",
      "  warnings.warn(f\"Y residual is constant at iteration {k}\")\n",
      "C:\\Users\\15086\\anaconda3\\envs\\wenqu_gdal\\lib\\site-packages\\sklearn\\cross_decomposition\\_pls.py:300: UserWarning: Y residual is constant at iteration 49\n",
      "  warnings.warn(f\"Y residual is constant at iteration {k}\")\n",
      "C:\\Users\\15086\\anaconda3\\envs\\wenqu_gdal\\lib\\site-packages\\sklearn\\cross_decomposition\\_pls.py:300: UserWarning: Y residual is constant at iteration 47\n",
      "  warnings.warn(f\"Y residual is constant at iteration {k}\")\n",
      "C:\\Users\\15086\\anaconda3\\envs\\wenqu_gdal\\lib\\site-packages\\sklearn\\cross_decomposition\\_pls.py:300: UserWarning: Y residual is constant at iteration 49\n",
      "  warnings.warn(f\"Y residual is constant at iteration {k}\")\n",
      "C:\\Users\\15086\\anaconda3\\envs\\wenqu_gdal\\lib\\site-packages\\sklearn\\cross_decomposition\\_pls.py:300: UserWarning: Y residual is constant at iteration 49\n",
      "  warnings.warn(f\"Y residual is constant at iteration {k}\")\n",
      "C:\\Users\\15086\\anaconda3\\envs\\wenqu_gdal\\lib\\site-packages\\sklearn\\cross_decomposition\\_pls.py:300: UserWarning: Y residual is constant at iteration 49\n",
      "  warnings.warn(f\"Y residual is constant at iteration {k}\")\n",
      "C:\\Users\\15086\\anaconda3\\envs\\wenqu_gdal\\lib\\site-packages\\sklearn\\cross_decomposition\\_pls.py:300: UserWarning: Y residual is constant at iteration 49\n",
      "  warnings.warn(f\"Y residual is constant at iteration {k}\")\n",
      "C:\\Users\\15086\\anaconda3\\envs\\wenqu_gdal\\lib\\site-packages\\sklearn\\cross_decomposition\\_pls.py:300: UserWarning: Y residual is constant at iteration 48\n",
      "  warnings.warn(f\"Y residual is constant at iteration {k}\")\n",
      "C:\\Users\\15086\\anaconda3\\envs\\wenqu_gdal\\lib\\site-packages\\sklearn\\cross_decomposition\\_pls.py:300: UserWarning: Y residual is constant at iteration 49\n",
      "  warnings.warn(f\"Y residual is constant at iteration {k}\")\n",
      "C:\\Users\\15086\\anaconda3\\envs\\wenqu_gdal\\lib\\site-packages\\sklearn\\cross_decomposition\\_pls.py:300: UserWarning: Y residual is constant at iteration 49\n",
      "  warnings.warn(f\"Y residual is constant at iteration {k}\")\n",
      "C:\\Users\\15086\\anaconda3\\envs\\wenqu_gdal\\lib\\site-packages\\sklearn\\cross_decomposition\\_pls.py:300: UserWarning: Y residual is constant at iteration 49\n",
      "  warnings.warn(f\"Y residual is constant at iteration {k}\")\n"
     ]
    },
    {
     "name": "stderr",
     "output_type": "stream",
     "text": [
      "C:\\Users\\15086\\anaconda3\\envs\\wenqu_gdal\\lib\\site-packages\\sklearn\\cross_decomposition\\_pls.py:300: UserWarning: Y residual is constant at iteration 49\n",
      "  warnings.warn(f\"Y residual is constant at iteration {k}\")\n",
      "C:\\Users\\15086\\anaconda3\\envs\\wenqu_gdal\\lib\\site-packages\\sklearn\\cross_decomposition\\_pls.py:300: UserWarning: Y residual is constant at iteration 48\n",
      "  warnings.warn(f\"Y residual is constant at iteration {k}\")\n",
      "C:\\Users\\15086\\anaconda3\\envs\\wenqu_gdal\\lib\\site-packages\\sklearn\\cross_decomposition\\_pls.py:300: UserWarning: Y residual is constant at iteration 49\n",
      "  warnings.warn(f\"Y residual is constant at iteration {k}\")\n",
      "C:\\Users\\15086\\anaconda3\\envs\\wenqu_gdal\\lib\\site-packages\\sklearn\\cross_decomposition\\_pls.py:300: UserWarning: Y residual is constant at iteration 49\n",
      "  warnings.warn(f\"Y residual is constant at iteration {k}\")\n",
      "C:\\Users\\15086\\anaconda3\\envs\\wenqu_gdal\\lib\\site-packages\\sklearn\\cross_decomposition\\_pls.py:300: UserWarning: Y residual is constant at iteration 49\n",
      "  warnings.warn(f\"Y residual is constant at iteration {k}\")\n",
      "C:\\Users\\15086\\anaconda3\\envs\\wenqu_gdal\\lib\\site-packages\\sklearn\\cross_decomposition\\_pls.py:300: UserWarning: Y residual is constant at iteration 49\n",
      "  warnings.warn(f\"Y residual is constant at iteration {k}\")\n",
      "C:\\Users\\15086\\anaconda3\\envs\\wenqu_gdal\\lib\\site-packages\\sklearn\\cross_decomposition\\_pls.py:300: UserWarning: Y residual is constant at iteration 49\n",
      "  warnings.warn(f\"Y residual is constant at iteration {k}\")\n",
      "C:\\Users\\15086\\anaconda3\\envs\\wenqu_gdal\\lib\\site-packages\\sklearn\\cross_decomposition\\_pls.py:300: UserWarning: Y residual is constant at iteration 49\n",
      "  warnings.warn(f\"Y residual is constant at iteration {k}\")\n",
      "C:\\Users\\15086\\anaconda3\\envs\\wenqu_gdal\\lib\\site-packages\\sklearn\\cross_decomposition\\_pls.py:300: UserWarning: Y residual is constant at iteration 49\n",
      "  warnings.warn(f\"Y residual is constant at iteration {k}\")\n",
      "C:\\Users\\15086\\anaconda3\\envs\\wenqu_gdal\\lib\\site-packages\\sklearn\\cross_decomposition\\_pls.py:300: UserWarning: Y residual is constant at iteration 47\n",
      "  warnings.warn(f\"Y residual is constant at iteration {k}\")\n",
      "C:\\Users\\15086\\anaconda3\\envs\\wenqu_gdal\\lib\\site-packages\\sklearn\\cross_decomposition\\_pls.py:300: UserWarning: Y residual is constant at iteration 49\n",
      "  warnings.warn(f\"Y residual is constant at iteration {k}\")\n",
      "C:\\Users\\15086\\anaconda3\\envs\\wenqu_gdal\\lib\\site-packages\\sklearn\\cross_decomposition\\_pls.py:300: UserWarning: Y residual is constant at iteration 49\n",
      "  warnings.warn(f\"Y residual is constant at iteration {k}\")\n",
      "C:\\Users\\15086\\anaconda3\\envs\\wenqu_gdal\\lib\\site-packages\\sklearn\\cross_decomposition\\_pls.py:300: UserWarning: Y residual is constant at iteration 49\n",
      "  warnings.warn(f\"Y residual is constant at iteration {k}\")\n",
      "C:\\Users\\15086\\anaconda3\\envs\\wenqu_gdal\\lib\\site-packages\\sklearn\\cross_decomposition\\_pls.py:300: UserWarning: Y residual is constant at iteration 49\n",
      "  warnings.warn(f\"Y residual is constant at iteration {k}\")\n",
      "C:\\Users\\15086\\anaconda3\\envs\\wenqu_gdal\\lib\\site-packages\\sklearn\\cross_decomposition\\_pls.py:300: UserWarning: Y residual is constant at iteration 49\n",
      "  warnings.warn(f\"Y residual is constant at iteration {k}\")\n",
      "C:\\Users\\15086\\anaconda3\\envs\\wenqu_gdal\\lib\\site-packages\\sklearn\\cross_decomposition\\_pls.py:300: UserWarning: Y residual is constant at iteration 49\n",
      "  warnings.warn(f\"Y residual is constant at iteration {k}\")\n",
      "C:\\Users\\15086\\anaconda3\\envs\\wenqu_gdal\\lib\\site-packages\\sklearn\\cross_decomposition\\_pls.py:300: UserWarning: Y residual is constant at iteration 49\n",
      "  warnings.warn(f\"Y residual is constant at iteration {k}\")\n",
      "C:\\Users\\15086\\anaconda3\\envs\\wenqu_gdal\\lib\\site-packages\\sklearn\\cross_decomposition\\_pls.py:300: UserWarning: Y residual is constant at iteration 49\n",
      "  warnings.warn(f\"Y residual is constant at iteration {k}\")\n",
      "C:\\Users\\15086\\anaconda3\\envs\\wenqu_gdal\\lib\\site-packages\\sklearn\\cross_decomposition\\_pls.py:300: UserWarning: Y residual is constant at iteration 48\n",
      "  warnings.warn(f\"Y residual is constant at iteration {k}\")\n",
      "C:\\Users\\15086\\anaconda3\\envs\\wenqu_gdal\\lib\\site-packages\\sklearn\\cross_decomposition\\_pls.py:300: UserWarning: Y residual is constant at iteration 49\n",
      "  warnings.warn(f\"Y residual is constant at iteration {k}\")\n",
      "C:\\Users\\15086\\anaconda3\\envs\\wenqu_gdal\\lib\\site-packages\\sklearn\\cross_decomposition\\_pls.py:300: UserWarning: Y residual is constant at iteration 48\n",
      "  warnings.warn(f\"Y residual is constant at iteration {k}\")\n",
      "C:\\Users\\15086\\anaconda3\\envs\\wenqu_gdal\\lib\\site-packages\\sklearn\\cross_decomposition\\_pls.py:300: UserWarning: Y residual is constant at iteration 48\n",
      "  warnings.warn(f\"Y residual is constant at iteration {k}\")\n",
      "C:\\Users\\15086\\anaconda3\\envs\\wenqu_gdal\\lib\\site-packages\\sklearn\\cross_decomposition\\_pls.py:300: UserWarning: Y residual is constant at iteration 49\n",
      "  warnings.warn(f\"Y residual is constant at iteration {k}\")\n",
      "C:\\Users\\15086\\anaconda3\\envs\\wenqu_gdal\\lib\\site-packages\\sklearn\\cross_decomposition\\_pls.py:300: UserWarning: Y residual is constant at iteration 49\n",
      "  warnings.warn(f\"Y residual is constant at iteration {k}\")\n",
      "C:\\Users\\15086\\anaconda3\\envs\\wenqu_gdal\\lib\\site-packages\\sklearn\\cross_decomposition\\_pls.py:300: UserWarning: Y residual is constant at iteration 49\n",
      "  warnings.warn(f\"Y residual is constant at iteration {k}\")\n",
      "C:\\Users\\15086\\anaconda3\\envs\\wenqu_gdal\\lib\\site-packages\\sklearn\\cross_decomposition\\_pls.py:300: UserWarning: Y residual is constant at iteration 49\n",
      "  warnings.warn(f\"Y residual is constant at iteration {k}\")\n",
      "C:\\Users\\15086\\anaconda3\\envs\\wenqu_gdal\\lib\\site-packages\\sklearn\\cross_decomposition\\_pls.py:300: UserWarning: Y residual is constant at iteration 49\n",
      "  warnings.warn(f\"Y residual is constant at iteration {k}\")\n",
      "C:\\Users\\15086\\anaconda3\\envs\\wenqu_gdal\\lib\\site-packages\\sklearn\\cross_decomposition\\_pls.py:300: UserWarning: Y residual is constant at iteration 49\n",
      "  warnings.warn(f\"Y residual is constant at iteration {k}\")\n",
      "C:\\Users\\15086\\anaconda3\\envs\\wenqu_gdal\\lib\\site-packages\\sklearn\\cross_decomposition\\_pls.py:300: UserWarning: Y residual is constant at iteration 49\n",
      "  warnings.warn(f\"Y residual is constant at iteration {k}\")\n",
      "C:\\Users\\15086\\anaconda3\\envs\\wenqu_gdal\\lib\\site-packages\\sklearn\\cross_decomposition\\_pls.py:300: UserWarning: Y residual is constant at iteration 49\n",
      "  warnings.warn(f\"Y residual is constant at iteration {k}\")\n",
      "C:\\Users\\15086\\anaconda3\\envs\\wenqu_gdal\\lib\\site-packages\\sklearn\\cross_decomposition\\_pls.py:300: UserWarning: Y residual is constant at iteration 49\n",
      "  warnings.warn(f\"Y residual is constant at iteration {k}\")\n",
      "C:\\Users\\15086\\anaconda3\\envs\\wenqu_gdal\\lib\\site-packages\\sklearn\\cross_decomposition\\_pls.py:300: UserWarning: Y residual is constant at iteration 49\n",
      "  warnings.warn(f\"Y residual is constant at iteration {k}\")\n",
      "C:\\Users\\15086\\anaconda3\\envs\\wenqu_gdal\\lib\\site-packages\\sklearn\\cross_decomposition\\_pls.py:300: UserWarning: Y residual is constant at iteration 49\n",
      "  warnings.warn(f\"Y residual is constant at iteration {k}\")\n",
      "C:\\Users\\15086\\anaconda3\\envs\\wenqu_gdal\\lib\\site-packages\\sklearn\\cross_decomposition\\_pls.py:300: UserWarning: Y residual is constant at iteration 49\n",
      "  warnings.warn(f\"Y residual is constant at iteration {k}\")\n",
      "C:\\Users\\15086\\anaconda3\\envs\\wenqu_gdal\\lib\\site-packages\\sklearn\\cross_decomposition\\_pls.py:300: UserWarning: Y residual is constant at iteration 48\n",
      "  warnings.warn(f\"Y residual is constant at iteration {k}\")\n",
      "C:\\Users\\15086\\anaconda3\\envs\\wenqu_gdal\\lib\\site-packages\\sklearn\\cross_decomposition\\_pls.py:300: UserWarning: Y residual is constant at iteration 48\n",
      "  warnings.warn(f\"Y residual is constant at iteration {k}\")\n",
      "C:\\Users\\15086\\anaconda3\\envs\\wenqu_gdal\\lib\\site-packages\\sklearn\\cross_decomposition\\_pls.py:300: UserWarning: Y residual is constant at iteration 49\n",
      "  warnings.warn(f\"Y residual is constant at iteration {k}\")\n",
      "C:\\Users\\15086\\anaconda3\\envs\\wenqu_gdal\\lib\\site-packages\\sklearn\\cross_decomposition\\_pls.py:300: UserWarning: Y residual is constant at iteration 47\n",
      "  warnings.warn(f\"Y residual is constant at iteration {k}\")\n",
      "C:\\Users\\15086\\anaconda3\\envs\\wenqu_gdal\\lib\\site-packages\\sklearn\\cross_decomposition\\_pls.py:300: UserWarning: Y residual is constant at iteration 49\n",
      "  warnings.warn(f\"Y residual is constant at iteration {k}\")\n"
     ]
    },
    {
     "name": "stderr",
     "output_type": "stream",
     "text": [
      "C:\\Users\\15086\\anaconda3\\envs\\wenqu_gdal\\lib\\site-packages\\sklearn\\cross_decomposition\\_pls.py:300: UserWarning: Y residual is constant at iteration 48\n",
      "  warnings.warn(f\"Y residual is constant at iteration {k}\")\n",
      "C:\\Users\\15086\\anaconda3\\envs\\wenqu_gdal\\lib\\site-packages\\sklearn\\cross_decomposition\\_pls.py:300: UserWarning: Y residual is constant at iteration 49\n",
      "  warnings.warn(f\"Y residual is constant at iteration {k}\")\n",
      "C:\\Users\\15086\\anaconda3\\envs\\wenqu_gdal\\lib\\site-packages\\sklearn\\cross_decomposition\\_pls.py:300: UserWarning: Y residual is constant at iteration 48\n",
      "  warnings.warn(f\"Y residual is constant at iteration {k}\")\n",
      "C:\\Users\\15086\\anaconda3\\envs\\wenqu_gdal\\lib\\site-packages\\sklearn\\cross_decomposition\\_pls.py:300: UserWarning: Y residual is constant at iteration 49\n",
      "  warnings.warn(f\"Y residual is constant at iteration {k}\")\n",
      "C:\\Users\\15086\\anaconda3\\envs\\wenqu_gdal\\lib\\site-packages\\sklearn\\cross_decomposition\\_pls.py:300: UserWarning: Y residual is constant at iteration 49\n",
      "  warnings.warn(f\"Y residual is constant at iteration {k}\")\n",
      "C:\\Users\\15086\\anaconda3\\envs\\wenqu_gdal\\lib\\site-packages\\sklearn\\cross_decomposition\\_pls.py:300: UserWarning: Y residual is constant at iteration 48\n",
      "  warnings.warn(f\"Y residual is constant at iteration {k}\")\n",
      "C:\\Users\\15086\\anaconda3\\envs\\wenqu_gdal\\lib\\site-packages\\sklearn\\cross_decomposition\\_pls.py:300: UserWarning: Y residual is constant at iteration 49\n",
      "  warnings.warn(f\"Y residual is constant at iteration {k}\")\n",
      "C:\\Users\\15086\\anaconda3\\envs\\wenqu_gdal\\lib\\site-packages\\sklearn\\cross_decomposition\\_pls.py:300: UserWarning: Y residual is constant at iteration 49\n",
      "  warnings.warn(f\"Y residual is constant at iteration {k}\")\n",
      "C:\\Users\\15086\\anaconda3\\envs\\wenqu_gdal\\lib\\site-packages\\sklearn\\cross_decomposition\\_pls.py:300: UserWarning: Y residual is constant at iteration 49\n",
      "  warnings.warn(f\"Y residual is constant at iteration {k}\")\n",
      "C:\\Users\\15086\\anaconda3\\envs\\wenqu_gdal\\lib\\site-packages\\sklearn\\cross_decomposition\\_pls.py:300: UserWarning: Y residual is constant at iteration 49\n",
      "  warnings.warn(f\"Y residual is constant at iteration {k}\")\n",
      "C:\\Users\\15086\\anaconda3\\envs\\wenqu_gdal\\lib\\site-packages\\sklearn\\cross_decomposition\\_pls.py:300: UserWarning: Y residual is constant at iteration 49\n",
      "  warnings.warn(f\"Y residual is constant at iteration {k}\")\n",
      "C:\\Users\\15086\\anaconda3\\envs\\wenqu_gdal\\lib\\site-packages\\sklearn\\cross_decomposition\\_pls.py:300: UserWarning: Y residual is constant at iteration 49\n",
      "  warnings.warn(f\"Y residual is constant at iteration {k}\")\n",
      "C:\\Users\\15086\\anaconda3\\envs\\wenqu_gdal\\lib\\site-packages\\sklearn\\cross_decomposition\\_pls.py:300: UserWarning: Y residual is constant at iteration 49\n",
      "  warnings.warn(f\"Y residual is constant at iteration {k}\")\n",
      "C:\\Users\\15086\\anaconda3\\envs\\wenqu_gdal\\lib\\site-packages\\sklearn\\cross_decomposition\\_pls.py:300: UserWarning: Y residual is constant at iteration 47\n",
      "  warnings.warn(f\"Y residual is constant at iteration {k}\")\n",
      "C:\\Users\\15086\\anaconda3\\envs\\wenqu_gdal\\lib\\site-packages\\sklearn\\cross_decomposition\\_pls.py:300: UserWarning: Y residual is constant at iteration 49\n",
      "  warnings.warn(f\"Y residual is constant at iteration {k}\")\n",
      "C:\\Users\\15086\\anaconda3\\envs\\wenqu_gdal\\lib\\site-packages\\sklearn\\cross_decomposition\\_pls.py:300: UserWarning: Y residual is constant at iteration 48\n",
      "  warnings.warn(f\"Y residual is constant at iteration {k}\")\n",
      "C:\\Users\\15086\\anaconda3\\envs\\wenqu_gdal\\lib\\site-packages\\sklearn\\cross_decomposition\\_pls.py:300: UserWarning: Y residual is constant at iteration 49\n",
      "  warnings.warn(f\"Y residual is constant at iteration {k}\")\n",
      "C:\\Users\\15086\\anaconda3\\envs\\wenqu_gdal\\lib\\site-packages\\sklearn\\cross_decomposition\\_pls.py:300: UserWarning: Y residual is constant at iteration 49\n",
      "  warnings.warn(f\"Y residual is constant at iteration {k}\")\n",
      "C:\\Users\\15086\\anaconda3\\envs\\wenqu_gdal\\lib\\site-packages\\sklearn\\cross_decomposition\\_pls.py:300: UserWarning: Y residual is constant at iteration 48\n",
      "  warnings.warn(f\"Y residual is constant at iteration {k}\")\n",
      "C:\\Users\\15086\\anaconda3\\envs\\wenqu_gdal\\lib\\site-packages\\sklearn\\cross_decomposition\\_pls.py:300: UserWarning: Y residual is constant at iteration 49\n",
      "  warnings.warn(f\"Y residual is constant at iteration {k}\")\n",
      "C:\\Users\\15086\\anaconda3\\envs\\wenqu_gdal\\lib\\site-packages\\sklearn\\cross_decomposition\\_pls.py:300: UserWarning: Y residual is constant at iteration 49\n",
      "  warnings.warn(f\"Y residual is constant at iteration {k}\")\n",
      "C:\\Users\\15086\\anaconda3\\envs\\wenqu_gdal\\lib\\site-packages\\sklearn\\cross_decomposition\\_pls.py:300: UserWarning: Y residual is constant at iteration 49\n",
      "  warnings.warn(f\"Y residual is constant at iteration {k}\")\n",
      "C:\\Users\\15086\\anaconda3\\envs\\wenqu_gdal\\lib\\site-packages\\sklearn\\cross_decomposition\\_pls.py:300: UserWarning: Y residual is constant at iteration 49\n",
      "  warnings.warn(f\"Y residual is constant at iteration {k}\")\n",
      "C:\\Users\\15086\\anaconda3\\envs\\wenqu_gdal\\lib\\site-packages\\sklearn\\cross_decomposition\\_pls.py:300: UserWarning: Y residual is constant at iteration 49\n",
      "  warnings.warn(f\"Y residual is constant at iteration {k}\")\n",
      "C:\\Users\\15086\\anaconda3\\envs\\wenqu_gdal\\lib\\site-packages\\sklearn\\cross_decomposition\\_pls.py:300: UserWarning: Y residual is constant at iteration 49\n",
      "  warnings.warn(f\"Y residual is constant at iteration {k}\")\n",
      "C:\\Users\\15086\\anaconda3\\envs\\wenqu_gdal\\lib\\site-packages\\sklearn\\cross_decomposition\\_pls.py:300: UserWarning: Y residual is constant at iteration 49\n",
      "  warnings.warn(f\"Y residual is constant at iteration {k}\")\n",
      "C:\\Users\\15086\\anaconda3\\envs\\wenqu_gdal\\lib\\site-packages\\sklearn\\cross_decomposition\\_pls.py:300: UserWarning: Y residual is constant at iteration 49\n",
      "  warnings.warn(f\"Y residual is constant at iteration {k}\")\n",
      "C:\\Users\\15086\\anaconda3\\envs\\wenqu_gdal\\lib\\site-packages\\sklearn\\cross_decomposition\\_pls.py:300: UserWarning: Y residual is constant at iteration 49\n",
      "  warnings.warn(f\"Y residual is constant at iteration {k}\")\n",
      "C:\\Users\\15086\\anaconda3\\envs\\wenqu_gdal\\lib\\site-packages\\sklearn\\cross_decomposition\\_pls.py:300: UserWarning: Y residual is constant at iteration 49\n",
      "  warnings.warn(f\"Y residual is constant at iteration {k}\")\n",
      "C:\\Users\\15086\\anaconda3\\envs\\wenqu_gdal\\lib\\site-packages\\sklearn\\cross_decomposition\\_pls.py:300: UserWarning: Y residual is constant at iteration 49\n",
      "  warnings.warn(f\"Y residual is constant at iteration {k}\")\n",
      "C:\\Users\\15086\\anaconda3\\envs\\wenqu_gdal\\lib\\site-packages\\sklearn\\cross_decomposition\\_pls.py:300: UserWarning: Y residual is constant at iteration 49\n",
      "  warnings.warn(f\"Y residual is constant at iteration {k}\")\n",
      "C:\\Users\\15086\\anaconda3\\envs\\wenqu_gdal\\lib\\site-packages\\sklearn\\cross_decomposition\\_pls.py:300: UserWarning: Y residual is constant at iteration 49\n",
      "  warnings.warn(f\"Y residual is constant at iteration {k}\")\n",
      "C:\\Users\\15086\\anaconda3\\envs\\wenqu_gdal\\lib\\site-packages\\sklearn\\cross_decomposition\\_pls.py:300: UserWarning: Y residual is constant at iteration 49\n",
      "  warnings.warn(f\"Y residual is constant at iteration {k}\")\n",
      "C:\\Users\\15086\\anaconda3\\envs\\wenqu_gdal\\lib\\site-packages\\sklearn\\cross_decomposition\\_pls.py:300: UserWarning: Y residual is constant at iteration 48\n",
      "  warnings.warn(f\"Y residual is constant at iteration {k}\")\n",
      "C:\\Users\\15086\\anaconda3\\envs\\wenqu_gdal\\lib\\site-packages\\sklearn\\cross_decomposition\\_pls.py:300: UserWarning: Y residual is constant at iteration 49\n",
      "  warnings.warn(f\"Y residual is constant at iteration {k}\")\n",
      "C:\\Users\\15086\\anaconda3\\envs\\wenqu_gdal\\lib\\site-packages\\sklearn\\cross_decomposition\\_pls.py:300: UserWarning: Y residual is constant at iteration 49\n",
      "  warnings.warn(f\"Y residual is constant at iteration {k}\")\n",
      "C:\\Users\\15086\\anaconda3\\envs\\wenqu_gdal\\lib\\site-packages\\sklearn\\cross_decomposition\\_pls.py:300: UserWarning: Y residual is constant at iteration 49\n",
      "  warnings.warn(f\"Y residual is constant at iteration {k}\")\n",
      "C:\\Users\\15086\\anaconda3\\envs\\wenqu_gdal\\lib\\site-packages\\sklearn\\cross_decomposition\\_pls.py:300: UserWarning: Y residual is constant at iteration 48\n",
      "  warnings.warn(f\"Y residual is constant at iteration {k}\")\n",
      "C:\\Users\\15086\\anaconda3\\envs\\wenqu_gdal\\lib\\site-packages\\sklearn\\cross_decomposition\\_pls.py:300: UserWarning: Y residual is constant at iteration 48\n",
      "  warnings.warn(f\"Y residual is constant at iteration {k}\")\n",
      "C:\\Users\\15086\\anaconda3\\envs\\wenqu_gdal\\lib\\site-packages\\sklearn\\cross_decomposition\\_pls.py:300: UserWarning: Y residual is constant at iteration 49\n",
      "  warnings.warn(f\"Y residual is constant at iteration {k}\")\n"
     ]
    },
    {
     "name": "stderr",
     "output_type": "stream",
     "text": [
      "C:\\Users\\15086\\anaconda3\\envs\\wenqu_gdal\\lib\\site-packages\\sklearn\\cross_decomposition\\_pls.py:300: UserWarning: Y residual is constant at iteration 49\n",
      "  warnings.warn(f\"Y residual is constant at iteration {k}\")\n",
      "C:\\Users\\15086\\anaconda3\\envs\\wenqu_gdal\\lib\\site-packages\\sklearn\\cross_decomposition\\_pls.py:300: UserWarning: Y residual is constant at iteration 48\n",
      "  warnings.warn(f\"Y residual is constant at iteration {k}\")\n",
      "C:\\Users\\15086\\anaconda3\\envs\\wenqu_gdal\\lib\\site-packages\\sklearn\\cross_decomposition\\_pls.py:300: UserWarning: Y residual is constant at iteration 49\n",
      "  warnings.warn(f\"Y residual is constant at iteration {k}\")\n",
      "C:\\Users\\15086\\anaconda3\\envs\\wenqu_gdal\\lib\\site-packages\\sklearn\\cross_decomposition\\_pls.py:300: UserWarning: Y residual is constant at iteration 49\n",
      "  warnings.warn(f\"Y residual is constant at iteration {k}\")\n",
      "C:\\Users\\15086\\anaconda3\\envs\\wenqu_gdal\\lib\\site-packages\\sklearn\\cross_decomposition\\_pls.py:300: UserWarning: Y residual is constant at iteration 49\n",
      "  warnings.warn(f\"Y residual is constant at iteration {k}\")\n",
      "C:\\Users\\15086\\anaconda3\\envs\\wenqu_gdal\\lib\\site-packages\\sklearn\\cross_decomposition\\_pls.py:300: UserWarning: Y residual is constant at iteration 49\n",
      "  warnings.warn(f\"Y residual is constant at iteration {k}\")\n",
      "C:\\Users\\15086\\anaconda3\\envs\\wenqu_gdal\\lib\\site-packages\\sklearn\\cross_decomposition\\_pls.py:300: UserWarning: Y residual is constant at iteration 49\n",
      "  warnings.warn(f\"Y residual is constant at iteration {k}\")\n",
      "C:\\Users\\15086\\anaconda3\\envs\\wenqu_gdal\\lib\\site-packages\\sklearn\\cross_decomposition\\_pls.py:300: UserWarning: Y residual is constant at iteration 49\n",
      "  warnings.warn(f\"Y residual is constant at iteration {k}\")\n",
      "C:\\Users\\15086\\anaconda3\\envs\\wenqu_gdal\\lib\\site-packages\\sklearn\\cross_decomposition\\_pls.py:300: UserWarning: Y residual is constant at iteration 49\n",
      "  warnings.warn(f\"Y residual is constant at iteration {k}\")\n",
      "C:\\Users\\15086\\anaconda3\\envs\\wenqu_gdal\\lib\\site-packages\\sklearn\\cross_decomposition\\_pls.py:300: UserWarning: Y residual is constant at iteration 49\n",
      "  warnings.warn(f\"Y residual is constant at iteration {k}\")\n",
      "C:\\Users\\15086\\anaconda3\\envs\\wenqu_gdal\\lib\\site-packages\\sklearn\\cross_decomposition\\_pls.py:300: UserWarning: Y residual is constant at iteration 49\n",
      "  warnings.warn(f\"Y residual is constant at iteration {k}\")\n",
      "C:\\Users\\15086\\anaconda3\\envs\\wenqu_gdal\\lib\\site-packages\\sklearn\\cross_decomposition\\_pls.py:300: UserWarning: Y residual is constant at iteration 47\n",
      "  warnings.warn(f\"Y residual is constant at iteration {k}\")\n",
      "C:\\Users\\15086\\anaconda3\\envs\\wenqu_gdal\\lib\\site-packages\\sklearn\\cross_decomposition\\_pls.py:300: UserWarning: Y residual is constant at iteration 49\n",
      "  warnings.warn(f\"Y residual is constant at iteration {k}\")\n",
      "C:\\Users\\15086\\anaconda3\\envs\\wenqu_gdal\\lib\\site-packages\\sklearn\\cross_decomposition\\_pls.py:300: UserWarning: Y residual is constant at iteration 49\n",
      "  warnings.warn(f\"Y residual is constant at iteration {k}\")\n",
      "C:\\Users\\15086\\anaconda3\\envs\\wenqu_gdal\\lib\\site-packages\\sklearn\\cross_decomposition\\_pls.py:300: UserWarning: Y residual is constant at iteration 49\n",
      "  warnings.warn(f\"Y residual is constant at iteration {k}\")\n",
      "C:\\Users\\15086\\anaconda3\\envs\\wenqu_gdal\\lib\\site-packages\\sklearn\\cross_decomposition\\_pls.py:300: UserWarning: Y residual is constant at iteration 49\n",
      "  warnings.warn(f\"Y residual is constant at iteration {k}\")\n",
      "C:\\Users\\15086\\anaconda3\\envs\\wenqu_gdal\\lib\\site-packages\\sklearn\\cross_decomposition\\_pls.py:300: UserWarning: Y residual is constant at iteration 49\n",
      "  warnings.warn(f\"Y residual is constant at iteration {k}\")\n",
      "C:\\Users\\15086\\anaconda3\\envs\\wenqu_gdal\\lib\\site-packages\\sklearn\\cross_decomposition\\_pls.py:300: UserWarning: Y residual is constant at iteration 49\n",
      "  warnings.warn(f\"Y residual is constant at iteration {k}\")\n",
      "C:\\Users\\15086\\anaconda3\\envs\\wenqu_gdal\\lib\\site-packages\\sklearn\\cross_decomposition\\_pls.py:300: UserWarning: Y residual is constant at iteration 49\n",
      "  warnings.warn(f\"Y residual is constant at iteration {k}\")\n",
      "C:\\Users\\15086\\anaconda3\\envs\\wenqu_gdal\\lib\\site-packages\\sklearn\\cross_decomposition\\_pls.py:300: UserWarning: Y residual is constant at iteration 49\n",
      "  warnings.warn(f\"Y residual is constant at iteration {k}\")\n"
     ]
    },
    {
     "name": "stdout",
     "output_type": "stream",
     "text": [
      "100% completed\n",
      "Optimised number of PLS components:  22\n",
      "Wavelengths to be keeped  26\n",
      "Optimised MSEP  0.29117182731243685\n",
      "\n",
      "R2 calib: 0.867\n",
      "R2 CV: 0.477\n",
      "RMSE calib: 0.155\n",
      "RMSE CV: 0.308\n",
      "[-0.09062355] [0.80623995]\n",
      "0 site2a [-0.4962851] -0.8400546733818541\n",
      "1 site2a [-0.16609713] -0.6281332243345488\n",
      "2 site2a [-0.44928281] -0.27934189264188575\n",
      "3 site2a [-0.89891703] -0.6983870185650685\n",
      "4 site2a [0.21418522] -0.5343744161848074\n",
      "5 site2a [-0.61185131] -0.21647660611469058\n",
      "6 site2a [-0.53384053] -0.2167898252991496\n",
      "7 site2a [-0.86030192] -0.36857314188241097\n",
      "8 site2a [-1.21890188] -0.6942240461716448\n",
      "9 site2a [0.11483859] -0.6078965450996374\n",
      "10 site2a [0.00501215] 0.3935791322690429\n",
      "11 site2a [-0.15365383] 0.32185538909601774\n",
      "12 site2a [0.04066473] 0.06038465890999225\n",
      "13 site2a [-0.43766311] -0.5834753932040008\n",
      "14 site2a [-0.61931381] -0.8380249381313605\n",
      "15 site2a [-0.09778668] 0.10578779196230385\n",
      "16 site2a [-0.14994636] -0.639776384474245\n",
      "17 site2a [-0.78726547] -0.812539884036738\n",
      "18 site2a [-1.69723008] -1.1629376677220686\n",
      "19 site2a [0.32487664] 0.29285727321939187\n",
      "20 site2a [-0.26446857] -0.6187379480753885\n",
      "21 site2a [-0.34572625] -0.3883076792077012\n",
      "22 site2a [-0.47885353] -0.6716577531818567\n",
      "23 site1b [-0.90665351] -0.9184397819289111\n",
      "24 site1b [-0.82331533] -0.97227151645054\n",
      "25 site1b [-0.76333874] -0.9300334113999604\n",
      "26 site1b [-0.98817056] -0.7890678740898547\n",
      "27 site1b [-0.93286101] -0.8479271963775616\n",
      "28 site1b [-1.23824243] -0.9314015168963943\n",
      "29 site1b [-0.86850287] -0.944461353983741\n",
      "30 site1b [-0.93741164] -1.0373097291739493\n",
      "31 site1b [-0.60116834] -0.8080338619527949\n",
      "32 site1b [-0.86891231] -0.778369253854089\n",
      "33 site1b [-0.54782654] -0.9022429481473144\n",
      "34 site1b [-0.89593961] -0.808654416065107\n",
      "35 site1b [-1.23581058] -0.9135200487640038\n",
      "36 site1b [-0.73498044] -0.8999872980521808\n",
      "37 site1b [-1.01949082] -0.8923065140385492\n",
      "38 site1b [-0.58806497] -0.7051586523254038\n",
      "39 site1b [-1.06307653] -0.853767692017632\n",
      "40 site1b [-1.04359737] -0.9492762153374407\n",
      "41 site1b [-1.25778847] -0.9100199096425408\n",
      "42 site1b [-1.09330229] -0.9285608731079459\n",
      "43 site1b [-0.77848023] -0.9832627609250457\n",
      "44 site1b [-0.93703264] -1.1109169788213757\n",
      "45 site1b [-0.84258583] -0.9843023251506596\n",
      "46 site1b [-1.03775135] -1.1021619663260096\n",
      "47 site1b [-0.70943646] -0.8785671123642271\n",
      "48 site2c [-0.50552333] -0.014592428485564782\n",
      "49 site2c [-0.26327118] -0.4058931957245942\n",
      "50 site2c [0.17184188] 0.08697524508688041\n",
      "51 site2c [-0.00194437] 0.15239463888948596\n",
      "52 site2c [-0.4786549] -0.4762272567003308\n",
      "53 site6 [-0.54655899] -0.15594154213097688\n",
      "54 site6 [0.2941652] 0.2564902430569187\n",
      "55 site6 [-0.0857828] -0.7080045364921873\n",
      "56 site6 [-0.70042658] -0.9653322660093698\n",
      "57 site6 [-0.61957762] -0.9877994189443241\n",
      "58 site6 [-0.29033109] -0.7756444632394461\n",
      "59 site6 [0.50851485] 0.4746204322656329\n",
      "60 site6 [-0.27081732] -0.7173258427454553\n"
     ]
    },
    {
     "name": "stderr",
     "output_type": "stream",
     "text": [
      "C:\\Users\\15086\\anaconda3\\envs\\wenqu_gdal\\lib\\site-packages\\sklearn\\cross_decomposition\\_pls.py:503: FutureWarning: The attribute `coef_` will be transposed in version 1.3 to be consistent with other linear models in scikit-learn. Currently, `coef_` has a shape of (n_features, n_targets) and in the future it will have a shape of (n_targets, n_features).\n",
      "  warnings.warn(\n"
     ]
    },
    {
     "data": {
      "image/png": "[encoded data removed]",
      "text/plain": [
       "<Figure size 900x500 with 1 Axes>"
      ]
     },
     "metadata": {},
     "output_type": "display_data"
    }
   ],
   "source": [
    "opt_Xc_ldmc, ncomp_ldmc, wav_ldmc, sorted_ind_ldmc = pls_variable_selection(x_ldmc, log_y_weighted_LDMC, 50)\n",
    "file_name = 'F:/wenqu/result/ldmc.csv'\n",
    "simple_pls_cv(opt_Xc_ldmc, log_y_weighted_LDMC, ncomp_ldmc, labels_ldmc,file_name)"
   ]
  },
  {
   "cell_type": "code",
   "execution_count": 62,
   "id": "e45a93fb",
   "metadata": {},
   "outputs": [
    {
     "name": "stdout",
     "output_type": "stream",
     "text": [
      "(26,) (26,)\n"
     ]
    },
    {
     "name": "stderr",
     "output_type": "stream",
     "text": [
      "C:\\Users\\15086\\anaconda3\\envs\\wenqu_gdal\\lib\\site-packages\\sklearn\\cross_decomposition\\_pls.py:503: FutureWarning: The attribute `coef_` will be transposed in version 1.3 to be consistent with other linear models in scikit-learn. Currently, `coef_` has a shape of (n_features, n_targets) and in the future it will have a shape of (n_targets, n_features).\n",
      "  warnings.warn(\n"
     ]
    }
   ],
   "source": [
    "optimal_pls_ldmc  = PLSRegression(n_components=22)\n",
    "optimal_pls_ldmc.fit(opt_Xc_ldmc, log_y_weighted_LDMC)\n",
    "\n",
    "coefficients_ldmc = optimal_pls_ldmc.coef_[:,0]\n",
    "\n",
    "bands_ldmc = band_name[sorted_ind_ldmc][wav_ldmc:]\n",
    "print(coefficients_ldmc.shape, bands_ldmc.shape)"
   ]
  },
  {
   "cell_type": "code",
   "execution_count": 66,
   "id": "6a2a1a92",
   "metadata": {},
   "outputs": [
    {
     "name": "stdout",
     "output_type": "stream",
     "text": [
      "ldmc_trait = -0.877840*data_dict['b101_mean'] + -0.252667*data_dict['b17_std'] + -1.884298*data_dict['b121_std'] + 0.979649*data_dict['b75_mean'] + 0.067928*data_dict['b66_std'] + 1.656004*data_dict['b23_std'] + -0.412828*data_dict['b57_std'] + 0.407395*data_dict['b110_mean'] + -2.708014*data_dict['b19_std'] + 1.539891*data_dict['b117_mean'] + 0.113890*data_dict['b64_std'] + -0.847994*data_dict['b34_std'] + -1.552175*data_dict['b41_std'] + 1.439484*data_dict['b112_std'] + 0.215432*data_dict['b7_mean'] + -1.042146*data_dict['b2_std'] + -0.015708*data_dict['b32_std'] + -1.459178*data_dict['b65_std'] + 0.137805*data_dict['b1_std'] + 2.080908*data_dict['b2_mean'] + 1.196160*data_dict['b15_mean'] + -0.254786*data_dict['b24_std'] + -0.558396*data_dict['b116_std'] + 0.898772*data_dict['b105_std'] + -0.247770*data_dict['b56_std'] + 1.447518*data_dict['b108_mean'] + -0.600681\n"
     ]
    }
   ],
   "source": [
    "\n",
    "intercept_ldmc = optimal_pls_ldmc.intercept_\n",
    "\n",
    "linear_equation = \"ldmc_trait = \"\n",
    "\n",
    "for coef, predictor in zip(coefficients_ldmc, bands):\n",
    "    linear_equation += \"{:.6f}*data_dict['{}'] + \".format(coef, predictor)\n",
    "\n",
    "# Adding the intercept to the end\n",
    "linear_equation += \"{:.6f}\".format(intercept_ldmc[0])\n",
    "\n",
    "print(linear_equation)\n",
    "\n"
   ]
  },
  {
   "cell_type": "code",
   "execution_count": null,
   "id": "e78adf7d",
   "metadata": {},
   "outputs": [],
   "source": []
  },
  {
   "cell_type": "code",
   "execution_count": null,
   "id": "12dc5c82",
   "metadata": {},
   "outputs": [],
   "source": []
  },
  {
   "cell_type": "code",
   "execution_count": null,
   "id": "42e4cce9",
   "metadata": {},
   "outputs": [],
   "source": []
  },
  {
   "cell_type": "code",
   "execution_count": null,
   "id": "e005e443",
   "metadata": {},
   "outputs": [],
   "source": []
  },
  {
   "cell_type": "code",
   "execution_count": null,
   "id": "a8e82322",
   "metadata": {},
   "outputs": [],
   "source": []
  },
  {
   "cell_type": "code",
   "execution_count": null,
   "id": "fc9561fd",
   "metadata": {},
   "outputs": [],
   "source": []
  },
  {
   "cell_type": "code",
   "execution_count": null,
   "id": "b4ccb409",
   "metadata": {},
   "outputs": [],
   "source": []
  },
  {
   "cell_type": "code",
   "execution_count": null,
   "id": "ac8ff950",
   "metadata": {},
   "outputs": [],
   "source": []
  },
  {
   "cell_type": "code",
   "execution_count": null,
   "id": "7b6fce83",
   "metadata": {},
   "outputs": [],
   "source": []
  },
  {
   "cell_type": "code",
   "execution_count": null,
   "id": "96160866",
   "metadata": {},
   "outputs": [],
   "source": []
  },
  {
   "cell_type": "code",
   "execution_count": null,
   "id": "ac92b34e",
   "metadata": {},
   "outputs": [],
   "source": []
  },
  {
   "cell_type": "code",
   "execution_count": null,
   "id": "38f51c25",
   "metadata": {},
   "outputs": [],
   "source": []
  },
  {
   "cell_type": "code",
   "execution_count": null,
   "id": "6c66b69c",
   "metadata": {},
   "outputs": [],
   "source": []
  },
  {
   "cell_type": "code",
   "execution_count": null,
   "id": "a83c3102",
   "metadata": {},
   "outputs": [],
   "source": []
  },
  {
   "cell_type": "code",
   "execution_count": null,
   "id": "c7c5f761",
   "metadata": {},
   "outputs": [],
   "source": []
  }
 ],
 "metadata": {
  "kernelspec": {
   "display_name": "wenqu_gdal",
   "language": "python",
   "name": "wenqu_gdal"
  },
  "language_info": {
   "codemirror_mode": {
    "name": "ipython",
    "version": 3
   },
   "file_extension": ".py",
   "mimetype": "text/x-python",
   "name": "python",
   "nbconvert_exporter": "python",
   "pygments_lexer": "ipython3",
   "version": "3.9.15"
  }
 },
 "nbformat": 4,
 "nbformat_minor": 5
}
