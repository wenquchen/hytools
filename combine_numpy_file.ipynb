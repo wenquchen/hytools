{
 "cells": [
  {
   "cell_type": "code",
   "execution_count": 2,
   "id": "7af8657d",
   "metadata": {},
   "outputs": [],
   "source": [
    "import os, glob\n",
    "import numpy as np\n",
    "from tqdm import tqdm\n",
    "import rasterio"
   ]
  },
  {
   "cell_type": "code",
   "execution_count": 3,
   "id": "b69ee1dc",
   "metadata": {},
   "outputs": [],
   "source": [
    "path = 'C:/Users/laral/OneDrive/Documents/GitHub/hytools/pixel_all/'\n",
    "file_name = []\n",
    "for a in glob.glob(os.path.join(path, '*.npy')):\n",
    "    file_name.append(a)"
   ]
  },
  {
   "cell_type": "code",
   "execution_count": 4,
   "id": "bde0167d",
   "metadata": {},
   "outputs": [
    {
     "data": {
      "text/plain": [
       "'C:/Users/laral/OneDrive/Documents/GitHub/hytools/pixel_all\\\\   1999999.npy'"
      ]
     },
     "execution_count": 4,
     "metadata": {},
     "output_type": "execute_result"
    }
   ],
   "source": [
    "file_name[1]"
   ]
  },
  {
   "cell_type": "code",
   "execution_count": 5,
   "id": "725d55fd",
   "metadata": {},
   "outputs": [
    {
     "data": {
      "text/plain": [
       "4"
      ]
     },
     "execution_count": 5,
     "metadata": {},
     "output_type": "execute_result"
    }
   ],
   "source": [
    "len(file_name)"
   ]
  },
  {
   "cell_type": "code",
   "execution_count": 6,
   "id": "e68d9c6d",
   "metadata": {},
   "outputs": [
    {
     "data": {
      "text/plain": [
       "['np_0', 'np_1', 'np_2', 'np_3']"
      ]
     },
     "execution_count": 6,
     "metadata": {},
     "output_type": "execute_result"
    }
   ],
   "source": [
    "np_list = []\n",
    "for i in range(4):\n",
    "    np_name = 'np_' + str(i)\n",
    "    np_list.append(np_name)\n",
    "np_list"
   ]
  },
  {
   "cell_type": "code",
   "execution_count": 7,
   "id": "22bba742",
   "metadata": {},
   "outputs": [
    {
     "name": "stderr",
     "output_type": "stream",
     "text": [
      "100%|████████████████████████████████████████████████████████████████████████████████████| 4/4 [00:02<00:00,  1.81it/s]\n"
     ]
    }
   ],
   "source": [
    "# for i in tqdm(range(high_res_img_flatten.shape[1])):\n",
    "concate_list = []\n",
    "for i in tqdm(range(4)):\n",
    "    np_list[i] = np.load(file_name[i])\n",
    "    concate_list.append(np_list[i])"
   ]
  },
  {
   "cell_type": "code",
   "execution_count": 8,
   "id": "a4af6cbd",
   "metadata": {},
   "outputs": [],
   "source": [
    "concate_file = np.concatenate(concate_list)"
   ]
  },
  {
   "cell_type": "code",
   "execution_count": 9,
   "id": "a3904352",
   "metadata": {},
   "outputs": [
    {
     "data": {
      "text/plain": [
       "(3327632, 425)"
      ]
     },
     "execution_count": 9,
     "metadata": {},
     "output_type": "execute_result"
    }
   ],
   "source": [
    "concate_file.shape"
   ]
  },
  {
   "cell_type": "code",
   "execution_count": 10,
   "id": "64a70645",
   "metadata": {},
   "outputs": [],
   "source": [
    "concate_file2 = concate_file.reshape(1022, 3256,425)"
   ]
  },
  {
   "cell_type": "code",
   "execution_count": 11,
   "id": "b0f24824",
   "metadata": {},
   "outputs": [
    {
     "name": "stdout",
     "output_type": "stream",
     "text": [
      "[[nan nan nan ... nan nan nan]\n",
      " [nan nan nan ... nan nan nan]\n",
      " [nan nan nan ... nan nan nan]\n",
      " ...\n",
      " [nan nan nan ... nan nan nan]\n",
      " [nan nan nan ... nan nan nan]\n",
      " [nan nan nan ... nan nan nan]]\n"
     ]
    }
   ],
   "source": [
    "print(concate_file2[:, :, 1])\n"
   ]
  },
  {
   "cell_type": "code",
   "execution_count": 16,
   "id": "8f46062f",
   "metadata": {},
   "outputs": [],
   "source": [
    "normalize_num = []\n",
    "for i in range(425):\n",
    "    file_array = concate_file2[:, :, i]\n",
    "# \n",
    "\n",
    "    a = np.isnan(file_array).all()\n",
    "#     print(a, type(a))\n",
    "    if str(np.isnan(file_array).all()) == 'False':\n",
    "#         print(i)\n",
    "        normalize_num.append(i)\n",
    "        \n",
    "#         print\n"
   ]
  },
  {
   "cell_type": "code",
   "execution_count": 17,
   "id": "06a23eaf",
   "metadata": {},
   "outputs": [
    {
     "data": {
      "text/plain": [
       "[4,\n",
       " 5,\n",
       " 6,\n",
       " 7,\n",
       " 8,\n",
       " 9,\n",
       " 10,\n",
       " 11,\n",
       " 12,\n",
       " 13,\n",
       " 14,\n",
       " 15,\n",
       " 16,\n",
       " 17,\n",
       " 18,\n",
       " 19,\n",
       " 20,\n",
       " 21,\n",
       " 22,\n",
       " 23,\n",
       " 24,\n",
       " 25,\n",
       " 26,\n",
       " 27,\n",
       " 28,\n",
       " 29,\n",
       " 30,\n",
       " 31,\n",
       " 32,\n",
       " 33,\n",
       " 34,\n",
       " 35,\n",
       " 36,\n",
       " 37,\n",
       " 38,\n",
       " 39,\n",
       " 40,\n",
       " 41,\n",
       " 42,\n",
       " 43,\n",
       " 44,\n",
       " 45,\n",
       " 46,\n",
       " 47,\n",
       " 48,\n",
       " 49,\n",
       " 50,\n",
       " 51,\n",
       " 52,\n",
       " 53,\n",
       " 54,\n",
       " 55,\n",
       " 56,\n",
       " 57,\n",
       " 58,\n",
       " 59,\n",
       " 60,\n",
       " 61,\n",
       " 62,\n",
       " 63,\n",
       " 64,\n",
       " 65,\n",
       " 66,\n",
       " 67,\n",
       " 68,\n",
       " 69,\n",
       " 70,\n",
       " 71,\n",
       " 72,\n",
       " 73,\n",
       " 74,\n",
       " 75,\n",
       " 76,\n",
       " 77,\n",
       " 78,\n",
       " 79,\n",
       " 80,\n",
       " 81,\n",
       " 82,\n",
       " 83,\n",
       " 84,\n",
       " 85,\n",
       " 86,\n",
       " 87,\n",
       " 88,\n",
       " 89,\n",
       " 90,\n",
       " 91,\n",
       " 92,\n",
       " 93,\n",
       " 94,\n",
       " 95,\n",
       " 96,\n",
       " 97,\n",
       " 98,\n",
       " 99,\n",
       " 100,\n",
       " 101,\n",
       " 102,\n",
       " 103,\n",
       " 104,\n",
       " 105,\n",
       " 106,\n",
       " 107,\n",
       " 108,\n",
       " 109,\n",
       " 110,\n",
       " 111,\n",
       " 112,\n",
       " 113,\n",
       " 114,\n",
       " 115,\n",
       " 116,\n",
       " 117,\n",
       " 118,\n",
       " 119,\n",
       " 120,\n",
       " 121,\n",
       " 122,\n",
       " 123,\n",
       " 124,\n",
       " 125]"
      ]
     },
     "execution_count": 17,
     "metadata": {},
     "output_type": "execute_result"
    }
   ],
   "source": [
    "normalize_num"
   ]
  },
  {
   "cell_type": "code",
   "execution_count": 31,
   "id": "14a3c1dd",
   "metadata": {},
   "outputs": [
    {
     "data": {
      "text/plain": [
       "122"
      ]
     },
     "execution_count": 31,
     "metadata": {},
     "output_type": "execute_result"
    }
   ],
   "source": [
    "len(normalize_num)"
   ]
  },
  {
   "cell_type": "code",
   "execution_count": 20,
   "id": "4303a0e4",
   "metadata": {},
   "outputs": [
    {
     "name": "stdout",
     "output_type": "stream",
     "text": [
      "4\n",
      "5\n",
      "6\n",
      "7\n",
      "8\n",
      "9\n",
      "10\n",
      "11\n",
      "12\n",
      "13\n",
      "14\n",
      "15\n",
      "16\n",
      "17\n",
      "18\n",
      "19\n",
      "20\n",
      "21\n",
      "22\n",
      "23\n",
      "24\n",
      "25\n",
      "26\n",
      "27\n",
      "28\n",
      "29\n",
      "30\n",
      "31\n",
      "32\n",
      "33\n",
      "34\n",
      "35\n",
      "36\n",
      "37\n",
      "38\n",
      "39\n",
      "40\n",
      "41\n",
      "42\n",
      "43\n",
      "44\n",
      "45\n",
      "46\n",
      "47\n",
      "48\n",
      "49\n",
      "50\n",
      "51\n",
      "52\n",
      "53\n",
      "54\n",
      "55\n",
      "56\n",
      "57\n",
      "58\n",
      "59\n",
      "60\n",
      "61\n",
      "62\n",
      "63\n",
      "64\n",
      "65\n",
      "66\n",
      "67\n",
      "68\n",
      "69\n",
      "70\n",
      "71\n",
      "72\n",
      "73\n",
      "74\n",
      "75\n",
      "76\n",
      "77\n",
      "78\n",
      "79\n",
      "80\n",
      "81\n",
      "82\n",
      "83\n",
      "84\n",
      "85\n",
      "86\n",
      "87\n",
      "88\n",
      "89\n",
      "90\n",
      "91\n",
      "92\n",
      "93\n",
      "94\n",
      "95\n",
      "96\n",
      "97\n",
      "98\n",
      "99\n",
      "100\n",
      "101\n",
      "102\n",
      "103\n",
      "104\n",
      "105\n",
      "106\n",
      "107\n",
      "108\n",
      "109\n",
      "110\n",
      "111\n",
      "112\n",
      "113\n",
      "114\n",
      "115\n",
      "116\n",
      "117\n",
      "118\n",
      "119\n",
      "120\n",
      "121\n",
      "122\n",
      "123\n",
      "124\n",
      "125\n"
     ]
    }
   ],
   "source": [
    "concate_new = []\n",
    "for i in normalize_num:\n",
    "    print(i)    \n",
    "    concate_new.append(concate_file2[:, :, i])\n"
   ]
  },
  {
   "cell_type": "code",
   "execution_count": 21,
   "id": "a45316ab",
   "metadata": {},
   "outputs": [
    {
     "data": {
      "text/plain": [
       "122"
      ]
     },
     "execution_count": 21,
     "metadata": {},
     "output_type": "execute_result"
    }
   ],
   "source": [
    "len(concate_new)"
   ]
  },
  {
   "cell_type": "code",
   "execution_count": 24,
   "id": "cc3146d8",
   "metadata": {},
   "outputs": [],
   "source": [
    "concate_new_array = np.array(concate_new)"
   ]
  },
  {
   "cell_type": "code",
   "execution_count": 22,
   "id": "b8c316fd",
   "metadata": {},
   "outputs": [],
   "source": [
    "src1 = rasterio.open(r'D:\\wenqu\\site1b\\uav\\site1b_multi_or_radiance')"
   ]
  },
  {
   "cell_type": "code",
   "execution_count": 23,
   "id": "74ac5e2d",
   "metadata": {},
   "outputs": [],
   "source": [
    "with rasterio.open(r'D:\\wenqu\\site1b\\uav\\site1b_multi_or_radiance') as src:\n",
    "    meta = src.meta.copy()"
   ]
  },
  {
   "cell_type": "code",
   "execution_count": 31,
   "id": "8ca29714",
   "metadata": {},
   "outputs": [],
   "source": [
    "meta.update({\n",
    "    \"driver\": \"envi\",\n",
    "    \"height\": concate_new_array.shape[1],\n",
    "    \"width\": concate_new_array.shape[2],\n",
    "    \"count\": 122,\n",
    "    \"transform\": src.transform\n",
    "\n",
    "})"
   ]
  },
  {
   "cell_type": "code",
   "execution_count": 32,
   "id": "4899ba95",
   "metadata": {},
   "outputs": [],
   "source": [
    "output = 'D:/wenqu/simulation/site1b_simulation_test'"
   ]
  },
  {
   "cell_type": "code",
   "execution_count": 33,
   "id": "56dcbee1",
   "metadata": {},
   "outputs": [],
   "source": [
    "with rasterio.open(output, \"w\", **meta) as dest:\n",
    "    dest.write(concate_new_array)"
   ]
  },
  {
   "cell_type": "code",
   "execution_count": null,
   "id": "b884ac33",
   "metadata": {},
   "outputs": [],
   "source": []
  }
 ],
 "metadata": {
  "kernelspec": {
   "display_name": "wq_gdal",
   "language": "python",
   "name": "wq_gdal"
  },
  "language_info": {
   "codemirror_mode": {
    "name": "ipython",
    "version": 3
   },
   "file_extension": ".py",
   "mimetype": "text/x-python",
   "name": "python",
   "nbconvert_exporter": "python",
   "pygments_lexer": "ipython3",
   "version": "3.7.16"
  }
 },
 "nbformat": 4,
 "nbformat_minor": 5
}
