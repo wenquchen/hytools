{
 "cells": [
  {
   "cell_type": "code",
   "execution_count": 1,
   "id": "7af8657d",
   "metadata": {},
   "outputs": [],
   "source": [
    "import os, glob\n",
    "import numpy as np\n",
    "from tqdm import tqdm\n",
    "import rasterio\n",
    "from osgeo import gdal,ogr,osr\n",
    "from matplotlib import pyplot as plt\n",
    "from arsf_envi_reader import envi_header"
   ]
  },
  {
   "cell_type": "code",
   "execution_count": 16,
   "id": "3f2bfad1",
   "metadata": {},
   "outputs": [
    {
     "data": {
      "text/plain": [
       "(273, 9092, 3606)"
      ]
     },
     "execution_count": 16,
     "metadata": {},
     "output_type": "execute_result"
    }
   ],
   "source": [
    "# high_res_img = gdal.Open(r'D:\\wenqu\\site1b\\radiance\\site1b_all_radiance_final')\n",
    "high_res_radiance = gdal.Open(r'D:\\wenqu\\100207_ortho_mosaic\\100207_multi_or_2').ReadAsArray() \n",
    "\n",
    "high_res_radiance.shape"
   ]
  },
  {
   "cell_type": "code",
   "execution_count": 3,
   "id": "76a3afc7",
   "metadata": {},
   "outputs": [],
   "source": [
    "def remove_nan(numpy_file):\n",
    "    dimension_list = []\n",
    "    for i in range(numpy_file.shape[1]):\n",
    "        numpy_file_channel = numpy_file[:, i]\n",
    "        chech_nan = np.isnan(numpy_file_channel).all()\n",
    "        if chech_nan == False:\n",
    "            dimension_list.append(i)\n",
    "            \n",
    "    numpy_filter = numpy_file[:, dimension_list[0] : dimension_list[-1]+1]\n",
    "    \n",
    "    return numpy_filter, dimension_list"
   ]
  },
  {
   "cell_type": "code",
   "execution_count": 4,
   "id": "d3171479",
   "metadata": {},
   "outputs": [],
   "source": [
    "def load_numpy(file_path):\n",
    "    path = file_path\n",
    "    concate_list = []\n",
    "    for filename in sorted(glob.glob(os.path.join(path, '*.npy'))):\n",
    "        np_file = np.load(filename)\n",
    "        np_file_filter, dimension_list = remove_nan(np_file)\n",
    "        concate_list.append(np_file_filter)\n",
    "    concate_file_array = np.concatenate(concate_list)\n",
    "    \n",
    "    return concate_file_array, dimension_list\n",
    "\n",
    "    "
   ]
  },
  {
   "cell_type": "code",
   "execution_count": 5,
   "id": "7fd793d0",
   "metadata": {},
   "outputs": [],
   "source": [
    "# for filename in sorted(glob.glob(os.path.join('C:/Users/laral/pixel_all', '*.npy'))):\n",
    "#     print(filename)"
   ]
  },
  {
   "cell_type": "code",
   "execution_count": 6,
   "id": "f1898369",
   "metadata": {},
   "outputs": [],
   "source": [
    "# from pathlib import Path"
   ]
  },
  {
   "cell_type": "code",
   "execution_count": 7,
   "id": "bebf499e",
   "metadata": {},
   "outputs": [],
   "source": [
    "# for filename in sorted(Path('C:\\Users\\laral\\pixel_all').glob(\"*.npy\")):\n",
    "#     print(filename)"
   ]
  },
  {
   "cell_type": "code",
   "execution_count": 9,
   "id": "39c9ff48",
   "metadata": {},
   "outputs": [
    {
     "data": {
      "text/plain": [
       "(32785752, 122)"
      ]
     },
     "execution_count": 9,
     "metadata": {},
     "output_type": "execute_result"
    }
   ],
   "source": [
    "concate_test_array, band_number = load_numpy(file_path = 'C:/Users/laral/site1b_pixel_100207_2')\n",
    "concate_test_array.shape"
   ]
  },
  {
   "cell_type": "code",
   "execution_count": 10,
   "id": "de6af488",
   "metadata": {},
   "outputs": [
    {
     "data": {
      "text/plain": [
       "122"
      ]
     },
     "execution_count": 10,
     "metadata": {},
     "output_type": "execute_result"
    }
   ],
   "source": [
    "len(band_number)"
   ]
  },
  {
   "cell_type": "code",
   "execution_count": 11,
   "id": "c4842035",
   "metadata": {},
   "outputs": [
    {
     "data": {
      "text/plain": [
       "[396.749576,\n",
       " 401.759576,\n",
       " 406.76957600000003,\n",
       " 411.77957599999996,\n",
       " 416.789576,\n",
       " 421.799576,\n",
       " 426.80957600000005,\n",
       " 431.819576,\n",
       " 436.819576,\n",
       " 441.829576,\n",
       " 446.839576,\n",
       " 451.84957599999996,\n",
       " 456.859576,\n",
       " 461.869576,\n",
       " 466.87957600000004,\n",
       " 471.87957600000004,\n",
       " 476.889576,\n",
       " 481.899576,\n",
       " 486.909576,\n",
       " 491.919576,\n",
       " 496.929576,\n",
       " 501.93957600000005,\n",
       " 506.94957600000004,\n",
       " 511.94957600000004,\n",
       " 516.959576,\n",
       " 521.9695760000001,\n",
       " 526.979576,\n",
       " 531.9895759999999,\n",
       " 536.999576,\n",
       " 542.009576,\n",
       " 547.009576,\n",
       " 552.0195759999999,\n",
       " 557.029576,\n",
       " 562.039576,\n",
       " 567.049576,\n",
       " 572.059576,\n",
       " 577.069576,\n",
       " 582.0795760000001,\n",
       " 587.0795760000001,\n",
       " 592.089576,\n",
       " 597.099576,\n",
       " 602.1095760000001,\n",
       " 607.1195759999999,\n",
       " 612.1295759999999,\n",
       " 617.139576,\n",
       " 622.139576,\n",
       " 627.149576,\n",
       " 632.1595759999999,\n",
       " 637.169576,\n",
       " 642.179576,\n",
       " 647.189576,\n",
       " 652.199576,\n",
       " 657.209576,\n",
       " 662.209576,\n",
       " 667.2195760000001,\n",
       " 672.229576,\n",
       " 677.2395759999999,\n",
       " 682.249576,\n",
       " 687.259576,\n",
       " 692.269576,\n",
       " 697.2695759999999,\n",
       " 702.279576,\n",
       " 707.289576,\n",
       " 712.299576,\n",
       " 717.309576,\n",
       " 722.319576,\n",
       " 727.3295760000001,\n",
       " 732.339576,\n",
       " 737.339576,\n",
       " 742.349576,\n",
       " 747.3595760000001,\n",
       " 752.3695759999999,\n",
       " 757.379576,\n",
       " 762.389576,\n",
       " 767.399576,\n",
       " 772.399576,\n",
       " 777.409576,\n",
       " 782.419576,\n",
       " 787.429576,\n",
       " 792.439576,\n",
       " 797.449576,\n",
       " 802.459576,\n",
       " 807.4695760000001,\n",
       " 812.4695760000001,\n",
       " 817.479576,\n",
       " 822.4895759999999,\n",
       " 827.499576,\n",
       " 832.5095759999999,\n",
       " 837.519576,\n",
       " 842.529576,\n",
       " 847.529576,\n",
       " 852.539576,\n",
       " 857.549576,\n",
       " 862.559576,\n",
       " 867.569576,\n",
       " 872.579576,\n",
       " 877.589576,\n",
       " 882.5995760000001,\n",
       " 887.599576,\n",
       " 892.6095760000001,\n",
       " 897.6195759999999,\n",
       " 902.629576,\n",
       " 907.639576,\n",
       " 912.6495759999999,\n",
       " 917.659576,\n",
       " 922.669576,\n",
       " 927.669576,\n",
       " 932.679576,\n",
       " 937.689576,\n",
       " 942.699576,\n",
       " 947.7095760000001,\n",
       " 952.719576,\n",
       " 957.729576,\n",
       " 962.729576,\n",
       " 967.739576,\n",
       " 972.749576,\n",
       " 977.7595759999999,\n",
       " 982.769576,\n",
       " 987.779576,\n",
       " 992.7895759999999,\n",
       " 997.799576,\n",
       " 1002.7995759999999]"
      ]
     },
     "execution_count": 11,
     "metadata": {},
     "output_type": "execute_result"
    }
   ],
   "source": [
    "in_header = envi_header.find_hdr_file(r\"D:\\wenqu\\aviris\\ang20190704t193319rfl\\ang20190704t193319_rfl_v2v2_img.hdr\")\n",
    "header_data = envi_header.read_hdr_file(in_header)\n",
    "# Get wavelengths and convert to NumPy array\n",
    "low_res_wavelengths = header_data['wavelength'].split(',')\n",
    "low_res_wavelengths = [float(w) for w in low_res_wavelengths]\n",
    "normalized_wavelength = low_res_wavelengths[band_number[0]: band_number[-1]+1]\n",
    "normalized_wavelength"
   ]
  },
  {
   "cell_type": "code",
   "execution_count": 12,
   "id": "09088601",
   "metadata": {},
   "outputs": [
    {
     "data": {
      "text/plain": [
       "(122, 32785752)"
      ]
     },
     "execution_count": 12,
     "metadata": {},
     "output_type": "execute_result"
    }
   ],
   "source": [
    "concate_test_array.transpose(1,0).shape"
   ]
  },
  {
   "cell_type": "code",
   "execution_count": 17,
   "id": "ff118e75",
   "metadata": {},
   "outputs": [
    {
     "data": {
      "text/plain": [
       "(122, 9092, 3606)"
      ]
     },
     "execution_count": 17,
     "metadata": {},
     "output_type": "execute_result"
    }
   ],
   "source": [
    "concate_test_array_reshape = concate_test_array.transpose(1,0).reshape(concate_test_array.shape[1], high_res_radiance.shape[1], high_res_radiance.shape[2] )\n",
    "concate_test_array_reshape.shape"
   ]
  },
  {
   "cell_type": "code",
   "execution_count": 18,
   "id": "30f85c75",
   "metadata": {},
   "outputs": [
    {
     "data": {
      "image/png": "[encoded data removed]",
      "text/plain": [
       "<Figure size 432x288 with 1 Axes>"
      ]
     },
     "metadata": {
      "needs_background": "light"
     },
     "output_type": "display_data"
    }
   ],
   "source": [
    "plt.imshow(concate_test_array_reshape[121,:, :], interpolation='nearest')\n",
    "plt.show()"
   ]
  },
  {
   "cell_type": "code",
   "execution_count": 20,
   "id": "3d78044c",
   "metadata": {},
   "outputs": [],
   "source": [
    "with rasterio.open(r'D:\\wenqu\\100207_ortho_mosaic\\100207_multi_or_2') as src:\n",
    "    meta = src.meta.copy()    "
   ]
  },
  {
   "cell_type": "code",
   "execution_count": 21,
   "id": "c521683e",
   "metadata": {},
   "outputs": [
    {
     "data": {
      "text/plain": [
       "{'driver': 'ENVI',\n",
       " 'dtype': 'float32',\n",
       " 'nodata': None,\n",
       " 'width': 3606,\n",
       " 'height': 9092,\n",
       " 'count': 273,\n",
       " 'crs': CRS.from_wkt('GEOGCS[\"WGS 84\",DATUM[\"WGS_1984\",SPHEROID[\"WGS 84\",6378137,298.257223563,AUTHORITY[\"EPSG\",\"7030\"]],AUTHORITY[\"EPSG\",\"6326\"]],PRIMEM[\"Greenwich\",0,AUTHORITY[\"EPSG\",\"8901\"]],UNIT[\"degree\",0.0174532925199433,AUTHORITY[\"EPSG\",\"9122\"]],AXIS[\"Latitude\",NORTH],AXIS[\"Longitude\",EAST]]'),\n",
       " 'transform': Affine(5.981049368929578e-07, -0.0, -150.3736338932893,\n",
       "        -0.0, -2.33135898350884e-07, 67.08432306443892)}"
      ]
     },
     "execution_count": 21,
     "metadata": {},
     "output_type": "execute_result"
    }
   ],
   "source": [
    "meta"
   ]
  },
  {
   "cell_type": "code",
   "execution_count": 23,
   "id": "c43708ac",
   "metadata": {},
   "outputs": [],
   "source": [
    "meta.update({\n",
    "    \"driver\": \"envi\",\n",
    "    \"height\": concate_test_array_reshape.shape[1],\n",
    "    \"width\": concate_test_array_reshape.shape[2],\n",
    "    \"count\": concate_test_array_reshape.shape[0],\n",
    "    \"transform\": src.transform\n",
    "\n",
    "\n",
    "})"
   ]
  },
  {
   "cell_type": "code",
   "execution_count": 24,
   "id": "8dbcebdc",
   "metadata": {},
   "outputs": [],
   "source": [
    "output = 'D:/wenqu/simulation/100207/100207_simulation_2'\n",
    "with rasterio.open(output, \"w\", **meta) as dest:\n",
    "    dest.write(concate_test_array_reshape)"
   ]
  },
  {
   "cell_type": "code",
   "execution_count": null,
   "id": "699b72c0",
   "metadata": {},
   "outputs": [],
   "source": []
  },
  {
   "cell_type": "code",
   "execution_count": null,
   "id": "004d4193",
   "metadata": {},
   "outputs": [],
   "source": []
  },
  {
   "cell_type": "code",
   "execution_count": null,
   "id": "82ab7deb",
   "metadata": {},
   "outputs": [],
   "source": []
  },
  {
   "cell_type": "code",
   "execution_count": null,
   "id": "88d8f743",
   "metadata": {},
   "outputs": [],
   "source": []
  },
  {
   "cell_type": "code",
   "execution_count": null,
   "id": "4e998b95",
   "metadata": {},
   "outputs": [],
   "source": []
  },
  {
   "cell_type": "code",
   "execution_count": null,
   "id": "ed54d137",
   "metadata": {},
   "outputs": [],
   "source": []
  },
  {
   "cell_type": "code",
   "execution_count": null,
   "id": "969c07ae",
   "metadata": {},
   "outputs": [],
   "source": []
  },
  {
   "cell_type": "code",
   "execution_count": null,
   "id": "224f4a73",
   "metadata": {},
   "outputs": [],
   "source": []
  },
  {
   "cell_type": "code",
   "execution_count": null,
   "id": "bf54364d",
   "metadata": {},
   "outputs": [],
   "source": []
  },
  {
   "cell_type": "code",
   "execution_count": null,
   "id": "ec869c5b",
   "metadata": {},
   "outputs": [],
   "source": []
  },
  {
   "cell_type": "code",
   "execution_count": null,
   "id": "054d4464",
   "metadata": {},
   "outputs": [],
   "source": []
  },
  {
   "cell_type": "code",
   "execution_count": null,
   "id": "d61e5354",
   "metadata": {},
   "outputs": [],
   "source": []
  },
  {
   "cell_type": "code",
   "execution_count": null,
   "id": "4afbbba8",
   "metadata": {},
   "outputs": [],
   "source": []
  },
  {
   "cell_type": "code",
   "execution_count": null,
   "id": "0ddaab49",
   "metadata": {},
   "outputs": [],
   "source": []
  },
  {
   "cell_type": "code",
   "execution_count": null,
   "id": "756c25f0",
   "metadata": {},
   "outputs": [],
   "source": []
  },
  {
   "cell_type": "code",
   "execution_count": null,
   "id": "eaf07ca8",
   "metadata": {},
   "outputs": [],
   "source": [
    "f_np1_filter = "
   ]
  },
  {
   "cell_type": "code",
   "execution_count": 8,
   "id": "76e105f5",
   "metadata": {},
   "outputs": [
    {
     "data": {
      "text/plain": [
       "(numpy.ndarray, (1000000, 425))"
      ]
     },
     "execution_count": 8,
     "metadata": {},
     "output_type": "execute_result"
    }
   ],
   "source": [
    "type(f_np1), f_np1.shape"
   ]
  },
  {
   "cell_type": "code",
   "execution_count": 39,
   "id": "bac48918",
   "metadata": {},
   "outputs": [
    {
     "data": {
      "text/plain": [
       "425"
      ]
     },
     "execution_count": 39,
     "metadata": {},
     "output_type": "execute_result"
    }
   ],
   "source": [
    "f_np1.shape[1]"
   ]
  },
  {
   "cell_type": "code",
   "execution_count": 16,
   "id": "0f853fb6",
   "metadata": {},
   "outputs": [
    {
     "data": {
      "text/plain": [
       "(1000000,)"
      ]
     },
     "execution_count": 16,
     "metadata": {},
     "output_type": "execute_result"
    }
   ],
   "source": [
    "f_np1[:, 1].shape"
   ]
  },
  {
   "cell_type": "code",
   "execution_count": 28,
   "id": "8d0870b6",
   "metadata": {},
   "outputs": [],
   "source": [
    "channel_list_1 = []\n",
    "for i in range(425):\n",
    "    f_np1_channel = f_np1[:, i]\n",
    "    a = np.isnan(f_np1_channel).all()\n",
    "    if a == False:\n",
    "        channel_list_1.append(i)\n",
    "\n"
   ]
  },
  {
   "cell_type": "code",
   "execution_count": 55,
   "id": "fb5ec221",
   "metadata": {},
   "outputs": [],
   "source": [
    "def remove_nan(numpy_file):\n",
    "    dimension_list = []\n",
    "    for i in range(numpy_file.shape[1]):\n",
    "        numpy_file_channel = numpy_file[:, i]\n",
    "        chech_nan = np.isnan(numpy_file_channel).all()\n",
    "        if chech_nan == False:\n",
    "            dimension_list.append(i)\n",
    "            \n",
    "    numpy_filter = numpy_file[:, dimension_list[0] : dimension_list[-1]+1]\n",
    "    \n",
    "    return numpy_filter\n",
    "        \n",
    "    "
   ]
  },
  {
   "cell_type": "code",
   "execution_count": 21,
   "id": "96bacf6e",
   "metadata": {},
   "outputs": [],
   "source": [
    "f_np2 = np.load('D:/wenqu/pixel_site1b_test/1999999.npy')\n",
    "f_np3 = np.load('D:/wenqu/pixel_site1b_test/2999999.npy')\n",
    "f_np4 = np.load('D:/wenqu/pixel_site1b_test/3327631.npy')"
   ]
  },
  {
   "cell_type": "code",
   "execution_count": 44,
   "id": "3af36d14",
   "metadata": {},
   "outputs": [
    {
     "data": {
      "text/plain": [
       "((1000000, 122), 122)"
      ]
     },
     "execution_count": 44,
     "metadata": {},
     "output_type": "execute_result"
    }
   ],
   "source": [
    "f_np1_filter, f_np1_dimension = remove_nan(f_np1)\n",
    "f_np1_filter.shape, len(f_np1_dimension)"
   ]
  },
  {
   "cell_type": "code",
   "execution_count": 22,
   "id": "887d2efc",
   "metadata": {},
   "outputs": [],
   "source": [
    "channel_list_2 = []\n",
    "for i in range(425):\n",
    "    f_np2_channel = f_np2[:, i]\n",
    "    a = np.isnan(f_np2_channel).all()\n",
    "    if a == False:\n",
    "        channel_list_2.append(i)"
   ]
  },
  {
   "cell_type": "code",
   "execution_count": 29,
   "id": "21af4de9",
   "metadata": {},
   "outputs": [
    {
     "name": "stdout",
     "output_type": "stream",
     "text": [
      "The lists l1 and l2 are the same\n"
     ]
    }
   ],
   "source": [
    "channel_list_1.sort() \n",
    "channel_list_2.sort() \n",
    "# l3.sort() \n",
    "\n",
    "if channel_list_1 == channel_list_2: \n",
    "    print (\"The lists l1 and l2 are the same\") \n",
    "else: \n",
    "    print (\"The lists l1 and l2 are not the same\")"
   ]
  },
  {
   "cell_type": "code",
   "execution_count": 27,
   "id": "8a6e8476",
   "metadata": {},
   "outputs": [
    {
     "data": {
      "text/plain": [
       "(0, 122)"
      ]
     },
     "execution_count": 27,
     "metadata": {},
     "output_type": "execute_result"
    }
   ],
   "source": [
    "len(channel_list_1), len(channel_list_2)"
   ]
  },
  {
   "cell_type": "code",
   "execution_count": 42,
   "id": "7d8bd184",
   "metadata": {},
   "outputs": [
    {
     "data": {
      "text/plain": [
       "122"
      ]
     },
     "execution_count": 42,
     "metadata": {},
     "output_type": "execute_result"
    }
   ],
   "source": [
    "len(channel_list_1)"
   ]
  },
  {
   "cell_type": "code",
   "execution_count": 31,
   "id": "1c90e282",
   "metadata": {},
   "outputs": [
    {
     "name": "stdout",
     "output_type": "stream",
     "text": [
      "True\n"
     ]
    }
   ],
   "source": [
    "def checkConsecutive(l):\n",
    "    n = len(l) - 1\n",
    "    return (sum(np.diff(sorted(l)) == 1) >= n)\n",
    "     \n",
    "\n",
    "print(checkConsecutive(channel_list_1))"
   ]
  },
  {
   "cell_type": "code",
   "execution_count": 33,
   "id": "80d59bf2",
   "metadata": {},
   "outputs": [
    {
     "data": {
      "text/plain": [
       "(1000000, 121)"
      ]
     },
     "execution_count": 33,
     "metadata": {},
     "output_type": "execute_result"
    }
   ],
   "source": [
    "f_np1_filter = f_np1[:, channel_list_1[0]: channel_list_1[-1]]\n",
    "f_np1_filter.shape"
   ]
  },
  {
   "cell_type": "code",
   "execution_count": 49,
   "id": "b69ee1dc",
   "metadata": {},
   "outputs": [],
   "source": [
    "path = 'D:/wenqu/pixel_site1b_test/'\n",
    "file_name = []\n",
    "for a in glob.glob(os.path.join(path, '*.npy')):\n",
    "    file_name.append(a)"
   ]
  },
  {
   "cell_type": "code",
   "execution_count": 50,
   "id": "bde0167d",
   "metadata": {},
   "outputs": [
    {
     "data": {
      "text/plain": [
       "'D:/wenqu/pixel_site1b_test\\\\2999999.npy'"
      ]
     },
     "execution_count": 50,
     "metadata": {},
     "output_type": "execute_result"
    }
   ],
   "source": [
    "file_name[1]"
   ]
  },
  {
   "cell_type": "code",
   "execution_count": 51,
   "id": "725d55fd",
   "metadata": {},
   "outputs": [
    {
     "data": {
      "text/plain": [
       "4"
      ]
     },
     "execution_count": 51,
     "metadata": {},
     "output_type": "execute_result"
    }
   ],
   "source": [
    "len(file_name)"
   ]
  },
  {
   "cell_type": "code",
   "execution_count": 57,
   "id": "e68d9c6d",
   "metadata": {},
   "outputs": [
    {
     "data": {
      "text/plain": [
       "(['np_0', 'np_1', 'np_2', 'np_3'],\n",
       " ['np_0_filter', 'np_1_filter', 'np_2_filter', 'np_3_filter'])"
      ]
     },
     "execution_count": 57,
     "metadata": {},
     "output_type": "execute_result"
    }
   ],
   "source": [
    "np_list = []\n",
    "np_list_filter = []\n",
    "for i in range(4):\n",
    "    np_name = 'np_' + str(i)\n",
    "    np_list.append(np_name)\n",
    "    np_name_filter = 'np_' + str(i) + '_filter'\n",
    "    np_list_filter.append(np_name_filter)\n",
    "np_list, np_list_filter"
   ]
  },
  {
   "cell_type": "code",
   "execution_count": null,
   "id": "f280cf30",
   "metadata": {},
   "outputs": [],
   "source": []
  },
  {
   "cell_type": "code",
   "execution_count": 54,
   "id": "6a15fe49",
   "metadata": {},
   "outputs": [
    {
     "data": {
      "text/plain": [
       "str"
      ]
     },
     "execution_count": 54,
     "metadata": {},
     "output_type": "execute_result"
    }
   ],
   "source": [
    "type(np_list[1])"
   ]
  },
  {
   "cell_type": "code",
   "execution_count": 61,
   "id": "22bba742",
   "metadata": {},
   "outputs": [
    {
     "name": "stderr",
     "output_type": "stream",
     "text": [
      "100%|████████████████████████████████████████████████████████████████████████████████████| 4/4 [00:10<00:00,  2.72s/it]\n"
     ]
    }
   ],
   "source": [
    "# for i in tqdm(range(high_res_img_flatten.shape[1])):\n",
    "concate_list = []\n",
    "for i in tqdm(range(4)):\n",
    "    np_list[i] = np.load(file_name[i])\n",
    "    np_list_filter[i] = remove_nan(np_list[i])\n",
    "    concate_list.append(np_list_filter[i])"
   ]
  },
  {
   "cell_type": "code",
   "execution_count": 62,
   "id": "25e69462",
   "metadata": {},
   "outputs": [
    {
     "name": "stderr",
     "output_type": "stream",
     "text": [
      "C:\\Users\\laral\\AppData\\Local\\Temp\\ipykernel_1548\\3616178396.py:1: VisibleDeprecationWarning: Creating an ndarray from ragged nested sequences (which is a list-or-tuple of lists-or-tuples-or ndarrays with different lengths or shapes) is deprecated. If you meant to do this, you must specify 'dtype=object' when creating the ndarray.\n",
      "  concate_list_array = np.asarray(concate_list)\n"
     ]
    },
    {
     "data": {
      "text/plain": [
       "(4,)"
      ]
     },
     "execution_count": 62,
     "metadata": {},
     "output_type": "execute_result"
    }
   ],
   "source": [
    "concate_list_array = np.asarray(concate_list)\n",
    "concate_list_array.shape"
   ]
  },
  {
   "cell_type": "code",
   "execution_count": 8,
   "id": "a4af6cbd",
   "metadata": {},
   "outputs": [],
   "source": [
    "concate_file = np.concatenate(concate_list)"
   ]
  },
  {
   "cell_type": "code",
   "execution_count": 9,
   "id": "a3904352",
   "metadata": {},
   "outputs": [
    {
     "data": {
      "text/plain": [
       "(3327632, 425)"
      ]
     },
     "execution_count": 9,
     "metadata": {},
     "output_type": "execute_result"
    }
   ],
   "source": [
    "concate_file.shape"
   ]
  },
  {
   "cell_type": "code",
   "execution_count": 10,
   "id": "64a70645",
   "metadata": {},
   "outputs": [],
   "source": [
    "concate_file2 = concate_file.reshape(1022, 3256,425)"
   ]
  },
  {
   "cell_type": "code",
   "execution_count": 11,
   "id": "b0f24824",
   "metadata": {},
   "outputs": [
    {
     "name": "stdout",
     "output_type": "stream",
     "text": [
      "[[nan nan nan ... nan nan nan]\n",
      " [nan nan nan ... nan nan nan]\n",
      " [nan nan nan ... nan nan nan]\n",
      " ...\n",
      " [nan nan nan ... nan nan nan]\n",
      " [nan nan nan ... nan nan nan]\n",
      " [nan nan nan ... nan nan nan]]\n"
     ]
    }
   ],
   "source": [
    "print(concate_file2[:, :, 1])\n"
   ]
  },
  {
   "cell_type": "code",
   "execution_count": 16,
   "id": "8f46062f",
   "metadata": {},
   "outputs": [],
   "source": [
    "normalize_num = []\n",
    "for i in range(425):\n",
    "    file_array = concate_file2[:, :, i]\n",
    "# \n",
    "\n",
    "    a = np.isnan(file_array).all()\n",
    "#     print(a, type(a))\n",
    "    if str(np.isnan(file_array).all()) == 'False':\n",
    "#         print(i)\n",
    "        normalize_num.append(i)\n",
    "        \n",
    "#         print\n"
   ]
  },
  {
   "cell_type": "code",
   "execution_count": 17,
   "id": "06a23eaf",
   "metadata": {},
   "outputs": [
    {
     "data": {
      "text/plain": [
       "[4,\n",
       " 5,\n",
       " 6,\n",
       " 7,\n",
       " 8,\n",
       " 9,\n",
       " 10,\n",
       " 11,\n",
       " 12,\n",
       " 13,\n",
       " 14,\n",
       " 15,\n",
       " 16,\n",
       " 17,\n",
       " 18,\n",
       " 19,\n",
       " 20,\n",
       " 21,\n",
       " 22,\n",
       " 23,\n",
       " 24,\n",
       " 25,\n",
       " 26,\n",
       " 27,\n",
       " 28,\n",
       " 29,\n",
       " 30,\n",
       " 31,\n",
       " 32,\n",
       " 33,\n",
       " 34,\n",
       " 35,\n",
       " 36,\n",
       " 37,\n",
       " 38,\n",
       " 39,\n",
       " 40,\n",
       " 41,\n",
       " 42,\n",
       " 43,\n",
       " 44,\n",
       " 45,\n",
       " 46,\n",
       " 47,\n",
       " 48,\n",
       " 49,\n",
       " 50,\n",
       " 51,\n",
       " 52,\n",
       " 53,\n",
       " 54,\n",
       " 55,\n",
       " 56,\n",
       " 57,\n",
       " 58,\n",
       " 59,\n",
       " 60,\n",
       " 61,\n",
       " 62,\n",
       " 63,\n",
       " 64,\n",
       " 65,\n",
       " 66,\n",
       " 67,\n",
       " 68,\n",
       " 69,\n",
       " 70,\n",
       " 71,\n",
       " 72,\n",
       " 73,\n",
       " 74,\n",
       " 75,\n",
       " 76,\n",
       " 77,\n",
       " 78,\n",
       " 79,\n",
       " 80,\n",
       " 81,\n",
       " 82,\n",
       " 83,\n",
       " 84,\n",
       " 85,\n",
       " 86,\n",
       " 87,\n",
       " 88,\n",
       " 89,\n",
       " 90,\n",
       " 91,\n",
       " 92,\n",
       " 93,\n",
       " 94,\n",
       " 95,\n",
       " 96,\n",
       " 97,\n",
       " 98,\n",
       " 99,\n",
       " 100,\n",
       " 101,\n",
       " 102,\n",
       " 103,\n",
       " 104,\n",
       " 105,\n",
       " 106,\n",
       " 107,\n",
       " 108,\n",
       " 109,\n",
       " 110,\n",
       " 111,\n",
       " 112,\n",
       " 113,\n",
       " 114,\n",
       " 115,\n",
       " 116,\n",
       " 117,\n",
       " 118,\n",
       " 119,\n",
       " 120,\n",
       " 121,\n",
       " 122,\n",
       " 123,\n",
       " 124,\n",
       " 125]"
      ]
     },
     "execution_count": 17,
     "metadata": {},
     "output_type": "execute_result"
    }
   ],
   "source": [
    "normalize_num"
   ]
  },
  {
   "cell_type": "code",
   "execution_count": 31,
   "id": "14a3c1dd",
   "metadata": {},
   "outputs": [
    {
     "data": {
      "text/plain": [
       "122"
      ]
     },
     "execution_count": 31,
     "metadata": {},
     "output_type": "execute_result"
    }
   ],
   "source": [
    "len(normalize_num)"
   ]
  },
  {
   "cell_type": "code",
   "execution_count": 20,
   "id": "4303a0e4",
   "metadata": {},
   "outputs": [
    {
     "name": "stdout",
     "output_type": "stream",
     "text": [
      "4\n",
      "5\n",
      "6\n",
      "7\n",
      "8\n",
      "9\n",
      "10\n",
      "11\n",
      "12\n",
      "13\n",
      "14\n",
      "15\n",
      "16\n",
      "17\n",
      "18\n",
      "19\n",
      "20\n",
      "21\n",
      "22\n",
      "23\n",
      "24\n",
      "25\n",
      "26\n",
      "27\n",
      "28\n",
      "29\n",
      "30\n",
      "31\n",
      "32\n",
      "33\n",
      "34\n",
      "35\n",
      "36\n",
      "37\n",
      "38\n",
      "39\n",
      "40\n",
      "41\n",
      "42\n",
      "43\n",
      "44\n",
      "45\n",
      "46\n",
      "47\n",
      "48\n",
      "49\n",
      "50\n",
      "51\n",
      "52\n",
      "53\n",
      "54\n",
      "55\n",
      "56\n",
      "57\n",
      "58\n",
      "59\n",
      "60\n",
      "61\n",
      "62\n",
      "63\n",
      "64\n",
      "65\n",
      "66\n",
      "67\n",
      "68\n",
      "69\n",
      "70\n",
      "71\n",
      "72\n",
      "73\n",
      "74\n",
      "75\n",
      "76\n",
      "77\n",
      "78\n",
      "79\n",
      "80\n",
      "81\n",
      "82\n",
      "83\n",
      "84\n",
      "85\n",
      "86\n",
      "87\n",
      "88\n",
      "89\n",
      "90\n",
      "91\n",
      "92\n",
      "93\n",
      "94\n",
      "95\n",
      "96\n",
      "97\n",
      "98\n",
      "99\n",
      "100\n",
      "101\n",
      "102\n",
      "103\n",
      "104\n",
      "105\n",
      "106\n",
      "107\n",
      "108\n",
      "109\n",
      "110\n",
      "111\n",
      "112\n",
      "113\n",
      "114\n",
      "115\n",
      "116\n",
      "117\n",
      "118\n",
      "119\n",
      "120\n",
      "121\n",
      "122\n",
      "123\n",
      "124\n",
      "125\n"
     ]
    }
   ],
   "source": [
    "concate_new = []\n",
    "for i in normalize_num:\n",
    "    print(i)    \n",
    "    concate_new.append(concate_file2[:, :, i])\n"
   ]
  },
  {
   "cell_type": "code",
   "execution_count": 21,
   "id": "a45316ab",
   "metadata": {},
   "outputs": [
    {
     "data": {
      "text/plain": [
       "122"
      ]
     },
     "execution_count": 21,
     "metadata": {},
     "output_type": "execute_result"
    }
   ],
   "source": [
    "len(concate_new)"
   ]
  },
  {
   "cell_type": "code",
   "execution_count": 24,
   "id": "cc3146d8",
   "metadata": {},
   "outputs": [],
   "source": [
    "concate_new_array = np.array(concate_new)"
   ]
  },
  {
   "cell_type": "code",
   "execution_count": 22,
   "id": "b8c316fd",
   "metadata": {},
   "outputs": [],
   "source": [
    "src1 = rasterio.open(r'D:\\wenqu\\site1b\\uav\\site1b_multi_or_radiance')"
   ]
  },
  {
   "cell_type": "code",
   "execution_count": 23,
   "id": "74ac5e2d",
   "metadata": {},
   "outputs": [],
   "source": [
    "with rasterio.open(r'D:\\wenqu\\site1b\\uav\\site1b_multi_or_radiance') as src:\n",
    "    meta = src.meta.copy()"
   ]
  },
  {
   "cell_type": "code",
   "execution_count": 31,
   "id": "8ca29714",
   "metadata": {},
   "outputs": [],
   "source": [
    "meta.update({\n",
    "    \"driver\": \"envi\",\n",
    "    \"height\": concate_new_array.shape[1],\n",
    "    \"width\": concate_new_array.shape[2],\n",
    "    \"count\": 122,\n",
    "    \"transform\": src.transform\n",
    "\n",
    "})"
   ]
  },
  {
   "cell_type": "code",
   "execution_count": 32,
   "id": "4899ba95",
   "metadata": {},
   "outputs": [],
   "source": [
    "output = 'D:/wenqu/simulation/site1b_simulation_test'"
   ]
  },
  {
   "cell_type": "code",
   "execution_count": 33,
   "id": "56dcbee1",
   "metadata": {},
   "outputs": [],
   "source": [
    "with rasterio.open(output, \"w\", **meta) as dest:\n",
    "    dest.write(concate_new_array)"
   ]
  },
  {
   "cell_type": "code",
   "execution_count": null,
   "id": "b884ac33",
   "metadata": {},
   "outputs": [],
   "source": []
  }
 ],
 "metadata": {
  "kernelspec": {
   "display_name": "wenqu_gpu",
   "language": "python",
   "name": "wenqu_gpu"
  },
  "language_info": {
   "codemirror_mode": {
    "name": "ipython",
    "version": 3
   },
   "file_extension": ".py",
   "mimetype": "text/x-python",
   "name": "python",
   "nbconvert_exporter": "python",
   "pygments_lexer": "ipython3",
   "version": "3.9.15"
  }
 },
 "nbformat": 4,
 "nbformat_minor": 5
}
