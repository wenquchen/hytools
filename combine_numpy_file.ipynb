{
 "cells": [
  {
   "cell_type": "code",
   "execution_count": 1,
   "id": "7af8657d",
   "metadata": {},
   "outputs": [],
   "source": [
    "import os, glob\n",
    "import numpy as np\n",
    "from tqdm import tqdm"
   ]
  },
  {
   "cell_type": "code",
   "execution_count": 2,
   "id": "b69ee1dc",
   "metadata": {},
   "outputs": [],
   "source": [
    "path = 'D:/wenqu/pixel_all/'\n",
    "file_name = []\n",
    "for a in glob.glob(os.path.join(path, '*.npy')):\n",
    "    file_name.append(a)"
   ]
  },
  {
   "cell_type": "code",
   "execution_count": 3,
   "id": "bde0167d",
   "metadata": {},
   "outputs": [
    {
     "data": {
      "text/plain": [
       "'D:/wenqu/pixel_all\\\\101999999.npy'"
      ]
     },
     "execution_count": 3,
     "metadata": {},
     "output_type": "execute_result"
    }
   ],
   "source": [
    "file_name[1]"
   ]
  },
  {
   "cell_type": "code",
   "execution_count": 4,
   "id": "725d55fd",
   "metadata": {},
   "outputs": [
    {
     "data": {
      "text/plain": [
       "136"
      ]
     },
     "execution_count": 4,
     "metadata": {},
     "output_type": "execute_result"
    }
   ],
   "source": [
    "len(file_name)"
   ]
  },
  {
   "cell_type": "code",
   "execution_count": 5,
   "id": "e68d9c6d",
   "metadata": {},
   "outputs": [
    {
     "data": {
      "text/plain": [
       "['np_0',\n",
       " 'np_1',\n",
       " 'np_2',\n",
       " 'np_3',\n",
       " 'np_4',\n",
       " 'np_5',\n",
       " 'np_6',\n",
       " 'np_7',\n",
       " 'np_8',\n",
       " 'np_9',\n",
       " 'np_10',\n",
       " 'np_11',\n",
       " 'np_12',\n",
       " 'np_13',\n",
       " 'np_14',\n",
       " 'np_15',\n",
       " 'np_16',\n",
       " 'np_17',\n",
       " 'np_18',\n",
       " 'np_19',\n",
       " 'np_20',\n",
       " 'np_21',\n",
       " 'np_22',\n",
       " 'np_23',\n",
       " 'np_24',\n",
       " 'np_25',\n",
       " 'np_26',\n",
       " 'np_27',\n",
       " 'np_28',\n",
       " 'np_29',\n",
       " 'np_30',\n",
       " 'np_31',\n",
       " 'np_32',\n",
       " 'np_33',\n",
       " 'np_34',\n",
       " 'np_35',\n",
       " 'np_36',\n",
       " 'np_37',\n",
       " 'np_38',\n",
       " 'np_39',\n",
       " 'np_40',\n",
       " 'np_41',\n",
       " 'np_42',\n",
       " 'np_43',\n",
       " 'np_44',\n",
       " 'np_45',\n",
       " 'np_46',\n",
       " 'np_47',\n",
       " 'np_48',\n",
       " 'np_49',\n",
       " 'np_50',\n",
       " 'np_51',\n",
       " 'np_52',\n",
       " 'np_53',\n",
       " 'np_54',\n",
       " 'np_55',\n",
       " 'np_56',\n",
       " 'np_57',\n",
       " 'np_58',\n",
       " 'np_59',\n",
       " 'np_60',\n",
       " 'np_61',\n",
       " 'np_62',\n",
       " 'np_63',\n",
       " 'np_64',\n",
       " 'np_65',\n",
       " 'np_66',\n",
       " 'np_67',\n",
       " 'np_68',\n",
       " 'np_69',\n",
       " 'np_70',\n",
       " 'np_71',\n",
       " 'np_72',\n",
       " 'np_73',\n",
       " 'np_74',\n",
       " 'np_75',\n",
       " 'np_76',\n",
       " 'np_77',\n",
       " 'np_78',\n",
       " 'np_79',\n",
       " 'np_80',\n",
       " 'np_81',\n",
       " 'np_82',\n",
       " 'np_83',\n",
       " 'np_84',\n",
       " 'np_85',\n",
       " 'np_86',\n",
       " 'np_87',\n",
       " 'np_88',\n",
       " 'np_89',\n",
       " 'np_90',\n",
       " 'np_91',\n",
       " 'np_92',\n",
       " 'np_93',\n",
       " 'np_94',\n",
       " 'np_95',\n",
       " 'np_96',\n",
       " 'np_97',\n",
       " 'np_98',\n",
       " 'np_99',\n",
       " 'np_100',\n",
       " 'np_101',\n",
       " 'np_102',\n",
       " 'np_103',\n",
       " 'np_104',\n",
       " 'np_105',\n",
       " 'np_106',\n",
       " 'np_107',\n",
       " 'np_108',\n",
       " 'np_109',\n",
       " 'np_110',\n",
       " 'np_111',\n",
       " 'np_112',\n",
       " 'np_113',\n",
       " 'np_114',\n",
       " 'np_115',\n",
       " 'np_116',\n",
       " 'np_117',\n",
       " 'np_118',\n",
       " 'np_119',\n",
       " 'np_120',\n",
       " 'np_121',\n",
       " 'np_122',\n",
       " 'np_123',\n",
       " 'np_124',\n",
       " 'np_125',\n",
       " 'np_126',\n",
       " 'np_127',\n",
       " 'np_128',\n",
       " 'np_129',\n",
       " 'np_130',\n",
       " 'np_131',\n",
       " 'np_132',\n",
       " 'np_133',\n",
       " 'np_134',\n",
       " 'np_135']"
      ]
     },
     "execution_count": 5,
     "metadata": {},
     "output_type": "execute_result"
    }
   ],
   "source": [
    "np_list = []\n",
    "for i in range(136):\n",
    "    np_name = 'np_' + str(i)\n",
    "    np_list.append(np_name)\n",
    "np_list"
   ]
  },
  {
   "cell_type": "code",
   "execution_count": 7,
   "id": "22bba742",
   "metadata": {},
   "outputs": [
    {
     "name": "stderr",
     "output_type": "stream",
     "text": [
      " 68%|██████████████████████████████████████████████████████▊                          | 92/136 [25:34<12:13, 16.68s/it]\n"
     ]
    },
    {
     "ename": "MemoryError",
     "evalue": "Unable to allocate 3.17 GiB for an array with shape (425000000,) and data type float64",
     "output_type": "error",
     "traceback": [
      "\u001b[1;31m---------------------------------------------------------------------------\u001b[0m",
      "\u001b[1;31mMemoryError\u001b[0m                               Traceback (most recent call last)",
      "Cell \u001b[1;32mIn [7], line 4\u001b[0m\n\u001b[0;32m      2\u001b[0m concate_list \u001b[38;5;241m=\u001b[39m []\n\u001b[0;32m      3\u001b[0m \u001b[38;5;28;01mfor\u001b[39;00m i \u001b[38;5;129;01min\u001b[39;00m tqdm(\u001b[38;5;28mrange\u001b[39m(\u001b[38;5;241m136\u001b[39m)):\n\u001b[1;32m----> 4\u001b[0m     np_list[i] \u001b[38;5;241m=\u001b[39m \u001b[43mnp\u001b[49m\u001b[38;5;241;43m.\u001b[39;49m\u001b[43mload\u001b[49m\u001b[43m(\u001b[49m\u001b[43mfile_name\u001b[49m\u001b[43m[\u001b[49m\u001b[43mi\u001b[49m\u001b[43m]\u001b[49m\u001b[43m)\u001b[49m\n\u001b[0;32m      5\u001b[0m     concate_list\u001b[38;5;241m.\u001b[39mappend(np_list[i])\n",
      "File \u001b[1;32m~\\Anaconda3\\envs\\wenqu\\lib\\site-packages\\numpy\\lib\\npyio.py:413\u001b[0m, in \u001b[0;36mload\u001b[1;34m(file, mmap_mode, allow_pickle, fix_imports, encoding)\u001b[0m\n\u001b[0;32m    411\u001b[0m         \u001b[38;5;28;01mreturn\u001b[39;00m \u001b[38;5;28mformat\u001b[39m\u001b[38;5;241m.\u001b[39mopen_memmap(file, mode\u001b[38;5;241m=\u001b[39mmmap_mode)\n\u001b[0;32m    412\u001b[0m     \u001b[38;5;28;01melse\u001b[39;00m:\n\u001b[1;32m--> 413\u001b[0m         \u001b[38;5;28;01mreturn\u001b[39;00m \u001b[38;5;28;43mformat\u001b[39;49m\u001b[38;5;241;43m.\u001b[39;49m\u001b[43mread_array\u001b[49m\u001b[43m(\u001b[49m\u001b[43mfid\u001b[49m\u001b[43m,\u001b[49m\u001b[43m \u001b[49m\u001b[43mallow_pickle\u001b[49m\u001b[38;5;241;43m=\u001b[39;49m\u001b[43mallow_pickle\u001b[49m\u001b[43m,\u001b[49m\n\u001b[0;32m    414\u001b[0m \u001b[43m                                 \u001b[49m\u001b[43mpickle_kwargs\u001b[49m\u001b[38;5;241;43m=\u001b[39;49m\u001b[43mpickle_kwargs\u001b[49m\u001b[43m)\u001b[49m\n\u001b[0;32m    415\u001b[0m \u001b[38;5;28;01melse\u001b[39;00m:\n\u001b[0;32m    416\u001b[0m     \u001b[38;5;66;03m# Try a pickle\u001b[39;00m\n\u001b[0;32m    417\u001b[0m     \u001b[38;5;28;01mif\u001b[39;00m \u001b[38;5;129;01mnot\u001b[39;00m allow_pickle:\n",
      "File \u001b[1;32m~\\Anaconda3\\envs\\wenqu\\lib\\site-packages\\numpy\\lib\\format.py:755\u001b[0m, in \u001b[0;36mread_array\u001b[1;34m(fp, allow_pickle, pickle_kwargs)\u001b[0m\n\u001b[0;32m    752\u001b[0m \u001b[38;5;28;01melse\u001b[39;00m:\n\u001b[0;32m    753\u001b[0m     \u001b[38;5;28;01mif\u001b[39;00m isfileobj(fp):\n\u001b[0;32m    754\u001b[0m         \u001b[38;5;66;03m# We can use the fast fromfile() function.\u001b[39;00m\n\u001b[1;32m--> 755\u001b[0m         array \u001b[38;5;241m=\u001b[39m \u001b[43mnumpy\u001b[49m\u001b[38;5;241;43m.\u001b[39;49m\u001b[43mfromfile\u001b[49m\u001b[43m(\u001b[49m\u001b[43mfp\u001b[49m\u001b[43m,\u001b[49m\u001b[43m \u001b[49m\u001b[43mdtype\u001b[49m\u001b[38;5;241;43m=\u001b[39;49m\u001b[43mdtype\u001b[49m\u001b[43m,\u001b[49m\u001b[43m \u001b[49m\u001b[43mcount\u001b[49m\u001b[38;5;241;43m=\u001b[39;49m\u001b[43mcount\u001b[49m\u001b[43m)\u001b[49m\n\u001b[0;32m    756\u001b[0m     \u001b[38;5;28;01melse\u001b[39;00m:\n\u001b[0;32m    757\u001b[0m         \u001b[38;5;66;03m# This is not a real file. We have to read it the\u001b[39;00m\n\u001b[0;32m    758\u001b[0m         \u001b[38;5;66;03m# memory-intensive way.\u001b[39;00m\n\u001b[1;32m   (...)\u001b[0m\n\u001b[0;32m    766\u001b[0m         \u001b[38;5;66;03m# not correctly instantiate zero-width string dtypes; see\u001b[39;00m\n\u001b[0;32m    767\u001b[0m         \u001b[38;5;66;03m# https://github.com/numpy/numpy/pull/6430\u001b[39;00m\n\u001b[0;32m    768\u001b[0m         array \u001b[38;5;241m=\u001b[39m numpy\u001b[38;5;241m.\u001b[39mndarray(count, dtype\u001b[38;5;241m=\u001b[39mdtype)\n",
      "\u001b[1;31mMemoryError\u001b[0m: Unable to allocate 3.17 GiB for an array with shape (425000000,) and data type float64"
     ]
    }
   ],
   "source": [
    "# for i in tqdm(range(high_res_img_flatten.shape[1])):\n",
    "concate_list = []\n",
    "for i in tqdm(range(136)):\n",
    "    np_list[i] = np.load(file_name[i])\n",
    "    concate_list.append(np_list[i])"
   ]
  },
  {
   "cell_type": "code",
   "execution_count": null,
   "id": "a4af6cbd",
   "metadata": {},
   "outputs": [],
   "source": [
    "concate_file = np.concatenate(concate_list)"
   ]
  },
  {
   "cell_type": "code",
   "execution_count": null,
   "id": "a3904352",
   "metadata": {},
   "outputs": [],
   "source": [
    "concate_file.shape"
   ]
  },
  {
   "cell_type": "code",
   "execution_count": null,
   "id": "64a70645",
   "metadata": {},
   "outputs": [],
   "source": []
  },
  {
   "cell_type": "code",
   "execution_count": null,
   "id": "8f46062f",
   "metadata": {},
   "outputs": [],
   "source": []
  },
  {
   "cell_type": "code",
   "execution_count": null,
   "id": "14a3c1dd",
   "metadata": {},
   "outputs": [],
   "source": []
  },
  {
   "cell_type": "code",
   "execution_count": null,
   "id": "b8c316fd",
   "metadata": {},
   "outputs": [],
   "source": []
  },
  {
   "cell_type": "code",
   "execution_count": null,
   "id": "74ac5e2d",
   "metadata": {},
   "outputs": [],
   "source": []
  },
  {
   "cell_type": "code",
   "execution_count": 4,
   "id": "3f0f8588",
   "metadata": {},
   "outputs": [],
   "source": [
    "x1 = np.load(file_name[0])"
   ]
  },
  {
   "cell_type": "code",
   "execution_count": 8,
   "id": "9d5deac4",
   "metadata": {},
   "outputs": [
    {
     "data": {
      "text/plain": [
       "(array([[nan, nan, nan, ..., nan, nan, nan],\n",
       "        [nan, nan, nan, ..., nan, nan, nan],\n",
       "        [nan, nan, nan, ..., nan, nan, nan],\n",
       "        ...,\n",
       "        [nan, nan, nan, ..., nan, nan, nan],\n",
       "        [nan, nan, nan, ..., nan, nan, nan],\n",
       "        [nan, nan, nan, ..., nan, nan, nan]]),\n",
       " (1000000, 425))"
      ]
     },
     "execution_count": 8,
     "metadata": {},
     "output_type": "execute_result"
    }
   ],
   "source": [
    "x1, x1.shape"
   ]
  },
  {
   "cell_type": "code",
   "execution_count": 5,
   "id": "9a0d1e7f",
   "metadata": {},
   "outputs": [],
   "source": [
    "x2 = np.load(file_name[1])"
   ]
  },
  {
   "cell_type": "code",
   "execution_count": 9,
   "id": "1ba28e98",
   "metadata": {},
   "outputs": [
    {
     "data": {
      "text/plain": [
       "(array([[nan, nan, nan, ..., nan, nan, nan],\n",
       "        [nan, nan, nan, ..., nan, nan, nan],\n",
       "        [nan, nan, nan, ..., nan, nan, nan],\n",
       "        ...,\n",
       "        [nan, nan, nan, ..., nan, nan, nan],\n",
       "        [nan, nan, nan, ..., nan, nan, nan],\n",
       "        [nan, nan, nan, ..., nan, nan, nan]]),\n",
       " (1000000, 425))"
      ]
     },
     "execution_count": 9,
     "metadata": {},
     "output_type": "execute_result"
    }
   ],
   "source": [
    "x2, x2.shape"
   ]
  },
  {
   "cell_type": "code",
   "execution_count": 12,
   "id": "7984abb7",
   "metadata": {},
   "outputs": [
    {
     "data": {
      "text/plain": [
       "(array([[nan, nan, nan, ..., nan, nan, nan],\n",
       "        [nan, nan, nan, ..., nan, nan, nan],\n",
       "        [nan, nan, nan, ..., nan, nan, nan],\n",
       "        ...,\n",
       "        [nan, nan, nan, ..., nan, nan, nan],\n",
       "        [nan, nan, nan, ..., nan, nan, nan],\n",
       "        [nan, nan, nan, ..., nan, nan, nan]]),\n",
       " (1000000, 425))"
      ]
     },
     "execution_count": 12,
     "metadata": {},
     "output_type": "execute_result"
    }
   ],
   "source": [
    "x3 = np.load(file_name[2])\n",
    "x3, x3.shape"
   ]
  },
  {
   "cell_type": "code",
   "execution_count": 13,
   "id": "9ceab5ec",
   "metadata": {},
   "outputs": [],
   "source": [
    "x = np.concatenate([x1, x2, x3])"
   ]
  },
  {
   "cell_type": "code",
   "execution_count": 14,
   "id": "78da74cd",
   "metadata": {},
   "outputs": [
    {
     "data": {
      "text/plain": [
       "(array([[nan, nan, nan, ..., nan, nan, nan],\n",
       "        [nan, nan, nan, ..., nan, nan, nan],\n",
       "        [nan, nan, nan, ..., nan, nan, nan],\n",
       "        ...,\n",
       "        [nan, nan, nan, ..., nan, nan, nan],\n",
       "        [nan, nan, nan, ..., nan, nan, nan],\n",
       "        [nan, nan, nan, ..., nan, nan, nan]]),\n",
       " (3000000, 425))"
      ]
     },
     "execution_count": 14,
     "metadata": {},
     "output_type": "execute_result"
    }
   ],
   "source": [
    "x, x.shape"
   ]
  },
  {
   "cell_type": "code",
   "execution_count": null,
   "id": "4899ba95",
   "metadata": {},
   "outputs": [],
   "source": []
  }
 ],
 "metadata": {
  "kernelspec": {
   "display_name": "wenqu",
   "language": "python",
   "name": "wenqu"
  },
  "language_info": {
   "codemirror_mode": {
    "name": "ipython",
    "version": 3
   },
   "file_extension": ".py",
   "mimetype": "text/x-python",
   "name": "python",
   "nbconvert_exporter": "python",
   "pygments_lexer": "ipython3",
   "version": "3.9.12"
  }
 },
 "nbformat": 4,
 "nbformat_minor": 5
}
