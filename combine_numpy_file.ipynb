{
 "cells": [
  {
   "cell_type": "code",
   "execution_count": 1,
   "id": "7af8657d",
   "metadata": {},
   "outputs": [],
   "source": [
    "import os, glob\n",
    "import numpy as np\n",
    "from tqdm import tqdm\n",
    "import rasterio\n",
    "from osgeo import gdal,ogr,osr\n",
    "from matplotlib import pyplot as plt\n",
    "from arsf_envi_reader import envi_header"
   ]
  },
  {
   "cell_type": "code",
   "execution_count": 3,
   "id": "3f2bfad1",
   "metadata": {
    "scrolled": true
   },
   "outputs": [
    {
     "data": {
      "text/plain": [
       "(273, 5470, 4744)"
      ]
     },
     "execution_count": 3,
     "metadata": {},
     "output_type": "execute_result"
    }
   ],
   "source": [
    "# high_res_img = gdal.Open(r'D:\\wenqu\\site1b\\radiance\\site1b_all_radiance_final')\n",
    "high_res_radiance = gdal.Open(r'D:\\wenqu\\multi_ortho\\site2c\\site2c_multi_or').ReadAsArray() \n",
    "\n",
    "high_res_radiance.shape"
   ]
  },
  {
   "cell_type": "code",
   "execution_count": 4,
   "id": "76a3afc7",
   "metadata": {},
   "outputs": [],
   "source": [
    "def remove_nan(numpy_file):\n",
    "    dimension_list = []\n",
    "    for i in range(numpy_file.shape[1]):\n",
    "        numpy_file_channel = numpy_file[:, i]\n",
    "        chech_nan = np.isnan(numpy_file_channel).all()\n",
    "        if chech_nan == False:\n",
    "            dimension_list.append(i)\n",
    "            \n",
    "    numpy_filter = numpy_file[:, dimension_list[0] : dimension_list[-1]+1]\n",
    "    \n",
    "    return numpy_filter, dimension_list"
   ]
  },
  {
   "cell_type": "code",
   "execution_count": 5,
   "id": "d3171479",
   "metadata": {},
   "outputs": [],
   "source": [
    "def load_numpy(file_path):\n",
    "    path = file_path\n",
    "    concate_list = []\n",
    "    for filename in sorted(glob.glob(os.path.join(path, '*.npy'))):\n",
    "        np_file = np.load(filename)\n",
    "        np_file_filter, dimension_list = remove_nan(np_file)\n",
    "        concate_list.append(np_file_filter)\n",
    "    concate_file_array = np.concatenate(concate_list)\n",
    "    \n",
    "    return concate_file_array, dimension_list\n",
    "\n",
    "    "
   ]
  },
  {
   "cell_type": "code",
   "execution_count": 6,
   "id": "7fd793d0",
   "metadata": {},
   "outputs": [],
   "source": [
    "# for filename in sorted(glob.glob(os.path.join(r'C:\\Users\\laral\\site6_pixel_2', '*.npy'))):\n",
    "#     print(filename)"
   ]
  },
  {
   "cell_type": "code",
   "execution_count": 7,
   "id": "f1898369",
   "metadata": {},
   "outputs": [],
   "source": [
    "# from pathlib import Path"
   ]
  },
  {
   "cell_type": "code",
   "execution_count": 8,
   "id": "bebf499e",
   "metadata": {},
   "outputs": [],
   "source": [
    "# for filename in sorted(Path('D:/wenqu/pixel_all/100207/site1b_pixel_100207_1').glob(\"*.npy\")):\n",
    "#     print(filename)"
   ]
  },
  {
   "cell_type": "code",
   "execution_count": 9,
   "id": "39c9ff48",
   "metadata": {},
   "outputs": [
    {
     "data": {
      "text/plain": [
       "(25949680, 122)"
      ]
     },
     "execution_count": 9,
     "metadata": {},
     "output_type": "execute_result"
    }
   ],
   "source": [
    "concate_test_array, band_number = load_numpy(file_path = 'D:/wenqu/pixel_all/site2c_pixel')\n",
    "concate_test_array.shape"
   ]
  },
  {
   "cell_type": "code",
   "execution_count": 10,
   "id": "de6af488",
   "metadata": {},
   "outputs": [],
   "source": [
    "# band_number"
   ]
  },
  {
   "cell_type": "code",
   "execution_count": 11,
   "id": "c4842035",
   "metadata": {},
   "outputs": [
    {
     "data": {
      "text/plain": [
       "[396.749576,\n",
       " 401.759576,\n",
       " 406.76957600000003,\n",
       " 411.77957599999996,\n",
       " 416.789576,\n",
       " 421.799576,\n",
       " 426.80957600000005,\n",
       " 431.819576,\n",
       " 436.819576,\n",
       " 441.829576,\n",
       " 446.839576,\n",
       " 451.84957599999996,\n",
       " 456.859576,\n",
       " 461.869576,\n",
       " 466.87957600000004,\n",
       " 471.87957600000004,\n",
       " 476.889576,\n",
       " 481.899576,\n",
       " 486.909576,\n",
       " 491.919576,\n",
       " 496.929576,\n",
       " 501.93957600000005,\n",
       " 506.94957600000004,\n",
       " 511.94957600000004,\n",
       " 516.959576,\n",
       " 521.9695760000001,\n",
       " 526.979576,\n",
       " 531.9895759999999,\n",
       " 536.999576,\n",
       " 542.009576,\n",
       " 547.009576,\n",
       " 552.0195759999999,\n",
       " 557.029576,\n",
       " 562.039576,\n",
       " 567.049576,\n",
       " 572.059576,\n",
       " 577.069576,\n",
       " 582.0795760000001,\n",
       " 587.0795760000001,\n",
       " 592.089576,\n",
       " 597.099576,\n",
       " 602.1095760000001,\n",
       " 607.1195759999999,\n",
       " 612.1295759999999,\n",
       " 617.139576,\n",
       " 622.139576,\n",
       " 627.149576,\n",
       " 632.1595759999999,\n",
       " 637.169576,\n",
       " 642.179576,\n",
       " 647.189576,\n",
       " 652.199576,\n",
       " 657.209576,\n",
       " 662.209576,\n",
       " 667.2195760000001,\n",
       " 672.229576,\n",
       " 677.2395759999999,\n",
       " 682.249576,\n",
       " 687.259576,\n",
       " 692.269576,\n",
       " 697.2695759999999,\n",
       " 702.279576,\n",
       " 707.289576,\n",
       " 712.299576,\n",
       " 717.309576,\n",
       " 722.319576,\n",
       " 727.3295760000001,\n",
       " 732.339576,\n",
       " 737.339576,\n",
       " 742.349576,\n",
       " 747.3595760000001,\n",
       " 752.3695759999999,\n",
       " 757.379576,\n",
       " 762.389576,\n",
       " 767.399576,\n",
       " 772.399576,\n",
       " 777.409576,\n",
       " 782.419576,\n",
       " 787.429576,\n",
       " 792.439576,\n",
       " 797.449576,\n",
       " 802.459576,\n",
       " 807.4695760000001,\n",
       " 812.4695760000001,\n",
       " 817.479576,\n",
       " 822.4895759999999,\n",
       " 827.499576,\n",
       " 832.5095759999999,\n",
       " 837.519576,\n",
       " 842.529576,\n",
       " 847.529576,\n",
       " 852.539576,\n",
       " 857.549576,\n",
       " 862.559576,\n",
       " 867.569576,\n",
       " 872.579576,\n",
       " 877.589576,\n",
       " 882.5995760000001,\n",
       " 887.599576,\n",
       " 892.6095760000001,\n",
       " 897.6195759999999,\n",
       " 902.629576,\n",
       " 907.639576,\n",
       " 912.6495759999999,\n",
       " 917.659576,\n",
       " 922.669576,\n",
       " 927.669576,\n",
       " 932.679576,\n",
       " 937.689576,\n",
       " 942.699576,\n",
       " 947.7095760000001,\n",
       " 952.719576,\n",
       " 957.729576,\n",
       " 962.729576,\n",
       " 967.739576,\n",
       " 972.749576,\n",
       " 977.7595759999999,\n",
       " 982.769576,\n",
       " 987.779576,\n",
       " 992.7895759999999,\n",
       " 997.799576,\n",
       " 1002.7995759999999]"
      ]
     },
     "execution_count": 11,
     "metadata": {},
     "output_type": "execute_result"
    }
   ],
   "source": [
    "in_header = envi_header.find_hdr_file(r\"D:\\wenqu\\aviris\\ang20190704t193319rfl\\ang20190704t193319_rfl_v2v2_img.hdr\")\n",
    "header_data = envi_header.read_hdr_file(in_header)\n",
    "# Get wavelengths and convert to NumPy array\n",
    "low_res_wavelengths = header_data['wavelength'].split(',')\n",
    "low_res_wavelengths = [float(w) for w in low_res_wavelengths]\n",
    "normalized_wavelength = low_res_wavelengths[band_number[0]: band_number[-1]+1]\n",
    "normalized_wavelength"
   ]
  },
  {
   "cell_type": "code",
   "execution_count": 12,
   "id": "09088601",
   "metadata": {},
   "outputs": [
    {
     "data": {
      "text/plain": [
       "(122, 25949680)"
      ]
     },
     "execution_count": 12,
     "metadata": {},
     "output_type": "execute_result"
    }
   ],
   "source": [
    "concate_test_array.transpose(1,0).shape"
   ]
  },
  {
   "cell_type": "code",
   "execution_count": 13,
   "id": "ff118e75",
   "metadata": {},
   "outputs": [
    {
     "data": {
      "text/plain": [
       "(122, 5470, 4744)"
      ]
     },
     "execution_count": 13,
     "metadata": {},
     "output_type": "execute_result"
    }
   ],
   "source": [
    "concate_test_array_reshape = concate_test_array.transpose(1,0).reshape(concate_test_array.shape[1], high_res_radiance.shape[1], high_res_radiance.shape[2] )\n",
    "concate_test_array_reshape.shape"
   ]
  },
  {
   "cell_type": "code",
   "execution_count": 14,
   "id": "30f85c75",
   "metadata": {},
   "outputs": [
    {
     "data": {
      "image/png": "[encoded data removed]",
      "text/plain": [
       "<Figure size 432x288 with 1 Axes>"
      ]
     },
     "metadata": {
      "needs_background": "light"
     },
     "output_type": "display_data"
    }
   ],
   "source": [
    "plt.imshow(concate_test_array_reshape[121,:, :], interpolation='nearest')\n",
    "plt.show()"
   ]
  },
  {
   "cell_type": "code",
   "execution_count": 15,
   "id": "753557c3",
   "metadata": {},
   "outputs": [
    {
     "data": {
      "image/png": "[encoded data removed]",
      "text/plain": [
       "<Figure size 432x288 with 1 Axes>"
      ]
     },
     "metadata": {
      "needs_background": "light"
     },
     "output_type": "display_data"
    }
   ],
   "source": [
    "plt.imshow(high_res_radiance[272,:, :], interpolation='nearest')\n",
    "plt.show()"
   ]
  },
  {
   "cell_type": "code",
   "execution_count": 16,
   "id": "a9528c46",
   "metadata": {},
   "outputs": [
    {
     "data": {
      "text/plain": [
       "{'Band_1': '398.697 nm',\n",
       " 'Band_10': '418.63 nm',\n",
       " 'Band_100': '617.953 nm',\n",
       " 'Band_101': '620.168 nm',\n",
       " 'Band_102': '622.383 nm',\n",
       " 'Band_103': '624.598 nm',\n",
       " 'Band_104': '626.812 nm',\n",
       " 'Band_105': '629.027 nm',\n",
       " 'Band_106': '631.242 nm',\n",
       " 'Band_107': '633.456 nm',\n",
       " 'Band_108': '635.671 nm',\n",
       " 'Band_109': '637.886 nm',\n",
       " 'Band_11': '420.844 nm',\n",
       " 'Band_110': '640.101 nm',\n",
       " 'Band_111': '642.315 nm',\n",
       " 'Band_112': '644.53 nm',\n",
       " 'Band_113': '646.745 nm',\n",
       " 'Band_114': '648.959 nm',\n",
       " 'Band_115': '651.174 nm',\n",
       " 'Band_116': '653.389 nm',\n",
       " 'Band_117': '655.603 nm',\n",
       " 'Band_118': '657.818 nm',\n",
       " 'Band_119': '660.033 nm',\n",
       " 'Band_12': '423.059 nm',\n",
       " 'Band_120': '662.248 nm',\n",
       " 'Band_121': '664.462 nm',\n",
       " 'Band_122': '666.677 nm',\n",
       " 'Band_123': '668.892 nm',\n",
       " 'Band_124': '671.106 nm',\n",
       " 'Band_125': '673.321 nm',\n",
       " 'Band_126': '675.536 nm',\n",
       " 'Band_127': '677.751 nm',\n",
       " 'Band_128': '679.965 nm',\n",
       " 'Band_129': '682.18 nm',\n",
       " 'Band_13': '425.274 nm',\n",
       " 'Band_130': '684.395 nm',\n",
       " 'Band_131': '686.609 nm',\n",
       " 'Band_132': '688.824 nm',\n",
       " 'Band_133': '691.039 nm',\n",
       " 'Band_134': '693.254 nm',\n",
       " 'Band_135': '695.468 nm',\n",
       " 'Band_136': '697.683 nm',\n",
       " 'Band_137': '699.898 nm',\n",
       " 'Band_138': '702.112 nm',\n",
       " 'Band_139': '704.327 nm',\n",
       " 'Band_14': '427.488 nm',\n",
       " 'Band_140': '706.542 nm',\n",
       " 'Band_141': '708.757 nm',\n",
       " 'Band_142': '710.971 nm',\n",
       " 'Band_143': '713.186 nm',\n",
       " 'Band_144': '715.401 nm',\n",
       " 'Band_145': '717.615 nm',\n",
       " 'Band_146': '719.83 nm',\n",
       " 'Band_147': '722.045 nm',\n",
       " 'Band_148': '724.259 nm',\n",
       " 'Band_149': '726.474 nm',\n",
       " 'Band_15': '429.703 nm',\n",
       " 'Band_150': '728.689 nm',\n",
       " 'Band_151': '730.904 nm',\n",
       " 'Band_152': '733.118 nm',\n",
       " 'Band_153': '735.333 nm',\n",
       " 'Band_154': '737.548 nm',\n",
       " 'Band_155': '739.762 nm',\n",
       " 'Band_156': '741.977 nm',\n",
       " 'Band_157': '744.192 nm',\n",
       " 'Band_158': '746.407 nm',\n",
       " 'Band_159': '748.621 nm',\n",
       " 'Band_16': '431.918 nm',\n",
       " 'Band_160': '750.836 nm',\n",
       " 'Band_161': '753.051 nm',\n",
       " 'Band_162': '755.265 nm',\n",
       " 'Band_163': '757.48 nm',\n",
       " 'Band_164': '759.695 nm',\n",
       " 'Band_165': '761.91 nm',\n",
       " 'Band_166': '764.124 nm',\n",
       " 'Band_167': '766.339 nm',\n",
       " 'Band_168': '768.554 nm',\n",
       " 'Band_169': '770.768 nm',\n",
       " 'Band_17': '434.133 nm',\n",
       " 'Band_170': '772.983 nm',\n",
       " 'Band_171': '775.198 nm',\n",
       " 'Band_172': '777.412 nm',\n",
       " 'Band_173': '779.627 nm',\n",
       " 'Band_174': '781.842 nm',\n",
       " 'Band_175': '784.057 nm',\n",
       " 'Band_176': '786.271 nm',\n",
       " 'Band_177': '788.486 nm',\n",
       " 'Band_178': '790.701 nm',\n",
       " 'Band_179': '792.915 nm',\n",
       " 'Band_18': '436.347 nm',\n",
       " 'Band_180': '795.13 nm',\n",
       " 'Band_181': '797.345 nm',\n",
       " 'Band_182': '799.56 nm',\n",
       " 'Band_183': '801.774 nm',\n",
       " 'Band_184': '803.989 nm',\n",
       " 'Band_185': '806.204 nm',\n",
       " 'Band_186': '808.418 nm',\n",
       " 'Band_187': '810.633 nm',\n",
       " 'Band_188': '812.848 nm',\n",
       " 'Band_189': '815.063 nm',\n",
       " 'Band_19': '438.562 nm',\n",
       " 'Band_190': '817.277 nm',\n",
       " 'Band_191': '819.492 nm',\n",
       " 'Band_192': '821.707 nm',\n",
       " 'Band_193': '823.921 nm',\n",
       " 'Band_194': '826.136 nm',\n",
       " 'Band_195': '828.351 nm',\n",
       " 'Band_196': '830.566 nm',\n",
       " 'Band_197': '832.78 nm',\n",
       " 'Band_198': '834.995 nm',\n",
       " 'Band_199': '837.21 nm',\n",
       " 'Band_2': '400.912 nm',\n",
       " 'Band_20': '440.777 nm',\n",
       " 'Band_200': '839.424 nm',\n",
       " 'Band_201': '841.639 nm',\n",
       " 'Band_202': '843.854 nm',\n",
       " 'Band_203': '846.068 nm',\n",
       " 'Band_204': '848.283 nm',\n",
       " 'Band_205': '850.498 nm',\n",
       " 'Band_206': '852.713 nm',\n",
       " 'Band_207': '854.927 nm',\n",
       " 'Band_208': '857.142 nm',\n",
       " 'Band_209': '859.357 nm',\n",
       " 'Band_21': '442.991 nm',\n",
       " 'Band_210': '861.571 nm',\n",
       " 'Band_211': '863.786 nm',\n",
       " 'Band_212': '866.001 nm',\n",
       " 'Band_213': '868.216 nm',\n",
       " 'Band_214': '870.43 nm',\n",
       " 'Band_215': '872.645 nm',\n",
       " 'Band_216': '874.86 nm',\n",
       " 'Band_217': '877.074 nm',\n",
       " 'Band_218': '879.289 nm',\n",
       " 'Band_219': '881.504 nm',\n",
       " 'Band_22': '445.206 nm',\n",
       " 'Band_220': '883.719 nm',\n",
       " 'Band_221': '885.933 nm',\n",
       " 'Band_222': '888.148 nm',\n",
       " 'Band_223': '890.363 nm',\n",
       " 'Band_224': '892.577 nm',\n",
       " 'Band_225': '894.792 nm',\n",
       " 'Band_226': '897.007 nm',\n",
       " 'Band_227': '899.221 nm',\n",
       " 'Band_228': '901.436 nm',\n",
       " 'Band_229': '903.651 nm',\n",
       " 'Band_23': '447.421 nm',\n",
       " 'Band_230': '905.866 nm',\n",
       " 'Band_231': '908.08 nm',\n",
       " 'Band_232': '910.295 nm',\n",
       " 'Band_233': '912.51 nm',\n",
       " 'Band_234': '914.724 nm',\n",
       " 'Band_235': '916.939 nm',\n",
       " 'Band_236': '919.154 nm',\n",
       " 'Band_237': '921.369 nm',\n",
       " 'Band_238': '923.583 nm',\n",
       " 'Band_239': '925.798 nm',\n",
       " 'Band_24': '449.636 nm',\n",
       " 'Band_240': '928.013 nm',\n",
       " 'Band_241': '930.227 nm',\n",
       " 'Band_242': '932.442 nm',\n",
       " 'Band_243': '934.657 nm',\n",
       " 'Band_244': '936.872 nm',\n",
       " 'Band_245': '939.086 nm',\n",
       " 'Band_246': '941.301 nm',\n",
       " 'Band_247': '943.516 nm',\n",
       " 'Band_248': '945.73 nm',\n",
       " 'Band_249': '947.945 nm',\n",
       " 'Band_25': '451.85 nm',\n",
       " 'Band_250': '950.16 nm',\n",
       " 'Band_251': '952.375 nm',\n",
       " 'Band_252': '954.589 nm',\n",
       " 'Band_253': '956.804 nm',\n",
       " 'Band_254': '959.019 nm',\n",
       " 'Band_255': '961.233 nm',\n",
       " 'Band_256': '963.448 nm',\n",
       " 'Band_257': '965.663 nm',\n",
       " 'Band_258': '967.877 nm',\n",
       " 'Band_259': '970.092 nm',\n",
       " 'Band_26': '454.065 nm',\n",
       " 'Band_260': '972.307 nm',\n",
       " 'Band_261': '974.522 nm',\n",
       " 'Band_262': '976.736 nm',\n",
       " 'Band_263': '978.951 nm',\n",
       " 'Band_264': '981.166 nm',\n",
       " 'Band_265': '983.38 nm',\n",
       " 'Band_266': '985.595 nm',\n",
       " 'Band_267': '987.81 nm',\n",
       " 'Band_268': '990.025 nm',\n",
       " 'Band_269': '992.239 nm',\n",
       " 'Band_27': '456.28 nm',\n",
       " 'Band_270': '994.454 nm',\n",
       " 'Band_271': '996.669 nm',\n",
       " 'Band_272': '998.883 nm',\n",
       " 'Band_273': '1001.1 nm',\n",
       " 'Band_28': '458.494 nm',\n",
       " 'Band_29': '460.709 nm',\n",
       " 'Band_3': '403.127 nm',\n",
       " 'Band_30': '462.924 nm',\n",
       " 'Band_31': '465.138 nm',\n",
       " 'Band_32': '467.353 nm',\n",
       " 'Band_33': '469.568 nm',\n",
       " 'Band_34': '471.783 nm',\n",
       " 'Band_35': '473.997 nm',\n",
       " 'Band_36': '476.212 nm',\n",
       " 'Band_37': '478.427 nm',\n",
       " 'Band_38': '480.641 nm',\n",
       " 'Band_39': '482.856 nm',\n",
       " 'Band_4': '405.341 nm',\n",
       " 'Band_40': '485.071 nm',\n",
       " 'Band_41': '487.286 nm',\n",
       " 'Band_42': '489.5 nm',\n",
       " 'Band_43': '491.715 nm',\n",
       " 'Band_44': '493.93 nm',\n",
       " 'Band_45': '496.144 nm',\n",
       " 'Band_46': '498.359 nm',\n",
       " 'Band_47': '500.574 nm',\n",
       " 'Band_48': '502.789 nm',\n",
       " 'Band_49': '505.003 nm',\n",
       " 'Band_5': '407.556 nm',\n",
       " 'Band_50': '507.218 nm',\n",
       " 'Band_51': '509.433 nm',\n",
       " 'Band_52': '511.647 nm',\n",
       " 'Band_53': '513.862 nm',\n",
       " 'Band_54': '516.077 nm',\n",
       " 'Band_55': '518.292 nm',\n",
       " 'Band_56': '520.506 nm',\n",
       " 'Band_57': '522.721 nm',\n",
       " 'Band_58': '524.936 nm',\n",
       " 'Band_59': '527.15 nm',\n",
       " 'Band_6': '409.771 nm',\n",
       " 'Band_60': '529.365 nm',\n",
       " 'Band_61': '531.58 nm',\n",
       " 'Band_62': '533.794 nm',\n",
       " 'Band_63': '536.009 nm',\n",
       " 'Band_64': '538.224 nm',\n",
       " 'Band_65': '540.439 nm',\n",
       " 'Band_66': '542.653 nm',\n",
       " 'Band_67': '544.868 nm',\n",
       " 'Band_68': '547.083 nm',\n",
       " 'Band_69': '549.297 nm',\n",
       " 'Band_7': '411.985 nm',\n",
       " 'Band_70': '551.512 nm',\n",
       " 'Band_71': '553.727 nm',\n",
       " 'Band_72': '555.942 nm',\n",
       " 'Band_73': '558.156 nm',\n",
       " 'Band_74': '560.371 nm',\n",
       " 'Band_75': '562.586 nm',\n",
       " 'Band_76': '564.8 nm',\n",
       " 'Band_77': '567.015 nm',\n",
       " 'Band_78': '569.23 nm',\n",
       " 'Band_79': '571.445 nm',\n",
       " 'Band_8': '414.2 nm',\n",
       " 'Band_80': '573.659 nm',\n",
       " 'Band_81': '575.874 nm',\n",
       " 'Band_82': '578.089 nm',\n",
       " 'Band_83': '580.303 nm',\n",
       " 'Band_84': '582.518 nm',\n",
       " 'Band_85': '584.733 nm',\n",
       " 'Band_86': '586.947 nm',\n",
       " 'Band_87': '589.162 nm',\n",
       " 'Band_88': '591.377 nm',\n",
       " 'Band_89': '593.592 nm',\n",
       " 'Band_9': '416.415 nm',\n",
       " 'Band_90': '595.806 nm',\n",
       " 'Band_91': '598.021 nm',\n",
       " 'Band_92': '600.236 nm',\n",
       " 'Band_93': '602.45 nm',\n",
       " 'Band_94': '604.665 nm',\n",
       " 'Band_95': '606.88 nm',\n",
       " 'Band_96': '609.095 nm',\n",
       " 'Band_97': '611.309 nm',\n",
       " 'Band_98': '613.524 nm',\n",
       " 'Band_99': '615.739 nm',\n",
       " 'wavelength_units': 'nm'}"
      ]
     },
     "execution_count": 16,
     "metadata": {},
     "output_type": "execute_result"
    }
   ],
   "source": [
    "src = rasterio.open(r'D:\\wenqu\\multi_ortho\\site2c\\site2c_multi_or')\n",
    "src.tags()"
   ]
  },
  {
   "cell_type": "code",
   "execution_count": 17,
   "id": "3d78044c",
   "metadata": {},
   "outputs": [],
   "source": [
    "with rasterio.open(r'D:\\wenqu\\multi_ortho\\site2c\\site2c_multi_or') as src:\n",
    "    meta = src.meta.copy()    "
   ]
  },
  {
   "cell_type": "code",
   "execution_count": 18,
   "id": "c521683e",
   "metadata": {},
   "outputs": [
    {
     "data": {
      "text/plain": [
       "{'driver': 'ENVI',\n",
       " 'dtype': 'float32',\n",
       " 'nodata': None,\n",
       " 'width': 4744,\n",
       " 'height': 5470,\n",
       " 'count': 273,\n",
       " 'crs': CRS.from_wkt('GEOGCS[\"WGS 84\",DATUM[\"WGS_1984\",SPHEROID[\"WGS 84\",6378137,298.257223563,AUTHORITY[\"EPSG\",\"7030\"]],AUTHORITY[\"EPSG\",\"6326\"]],PRIMEM[\"Greenwich\",0,AUTHORITY[\"EPSG\",\"8901\"]],UNIT[\"degree\",0.0174532925199433,AUTHORITY[\"EPSG\",\"9122\"]],AXIS[\"Latitude\",NORTH],AXIS[\"Longitude\",EAST]]'),\n",
       " 'transform': Affine(6.515209808597314e-07, -0.0, -150.1274412901464,\n",
       "        -0.0, -2.510607278128304e-07, 67.35936318694638)}"
      ]
     },
     "execution_count": 18,
     "metadata": {},
     "output_type": "execute_result"
    }
   ],
   "source": [
    "meta"
   ]
  },
  {
   "cell_type": "code",
   "execution_count": 19,
   "id": "dc050b10",
   "metadata": {},
   "outputs": [],
   "source": [
    "meta.update({\n",
    "    \"count\": concate_test_array_reshape.shape[0]\n",
    "})"
   ]
  },
  {
   "cell_type": "code",
   "execution_count": 20,
   "id": "de3e7cca",
   "metadata": {},
   "outputs": [
    {
     "data": {
      "text/plain": [
       "{'driver': 'ENVI',\n",
       " 'dtype': 'float32',\n",
       " 'nodata': None,\n",
       " 'width': 4744,\n",
       " 'height': 5470,\n",
       " 'count': 122,\n",
       " 'crs': CRS.from_wkt('GEOGCS[\"WGS 84\",DATUM[\"WGS_1984\",SPHEROID[\"WGS 84\",6378137,298.257223563,AUTHORITY[\"EPSG\",\"7030\"]],AUTHORITY[\"EPSG\",\"6326\"]],PRIMEM[\"Greenwich\",0,AUTHORITY[\"EPSG\",\"8901\"]],UNIT[\"degree\",0.0174532925199433,AUTHORITY[\"EPSG\",\"9122\"]],AXIS[\"Latitude\",NORTH],AXIS[\"Longitude\",EAST]]'),\n",
       " 'transform': Affine(6.515209808597314e-07, -0.0, -150.1274412901464,\n",
       "        -0.0, -2.510607278128304e-07, 67.35936318694638)}"
      ]
     },
     "execution_count": 20,
     "metadata": {},
     "output_type": "execute_result"
    }
   ],
   "source": [
    "meta"
   ]
  },
  {
   "cell_type": "code",
   "execution_count": 21,
   "id": "8dbcebdc",
   "metadata": {},
   "outputs": [],
   "source": [
    "output = 'D:/wenqu/simulation/site2c/site2c_simulation_update1'\n",
    "with rasterio.open(output, \"w\", **meta) as dest:\n",
    "    dest.write(concate_test_array_reshape)"
   ]
  },
  {
   "cell_type": "code",
   "execution_count": null,
   "id": "f40036af",
   "metadata": {},
   "outputs": [],
   "source": []
  },
  {
   "cell_type": "code",
   "execution_count": null,
   "id": "2d01ce1b",
   "metadata": {},
   "outputs": [],
   "source": []
  },
  {
   "cell_type": "code",
   "execution_count": null,
   "id": "7607e409",
   "metadata": {},
   "outputs": [],
   "source": []
  },
  {
   "cell_type": "code",
   "execution_count": null,
   "id": "311f1565",
   "metadata": {},
   "outputs": [],
   "source": []
  },
  {
   "cell_type": "code",
   "execution_count": null,
   "id": "f5eac993",
   "metadata": {},
   "outputs": [],
   "source": []
  },
  {
   "cell_type": "code",
   "execution_count": null,
   "id": "3548079c",
   "metadata": {},
   "outputs": [],
   "source": []
  },
  {
   "cell_type": "code",
   "execution_count": null,
   "id": "d10d0991",
   "metadata": {},
   "outputs": [],
   "source": []
  },
  {
   "cell_type": "code",
   "execution_count": null,
   "id": "7276679f",
   "metadata": {},
   "outputs": [],
   "source": []
  },
  {
   "cell_type": "code",
   "execution_count": null,
   "id": "699b72c0",
   "metadata": {},
   "outputs": [],
   "source": []
  },
  {
   "cell_type": "code",
   "execution_count": null,
   "id": "004d4193",
   "metadata": {},
   "outputs": [],
   "source": []
  },
  {
   "cell_type": "code",
   "execution_count": null,
   "id": "82ab7deb",
   "metadata": {},
   "outputs": [],
   "source": []
  },
  {
   "cell_type": "code",
   "execution_count": null,
   "id": "88d8f743",
   "metadata": {},
   "outputs": [],
   "source": []
  },
  {
   "cell_type": "code",
   "execution_count": null,
   "id": "4e998b95",
   "metadata": {},
   "outputs": [],
   "source": []
  },
  {
   "cell_type": "code",
   "execution_count": null,
   "id": "ed54d137",
   "metadata": {},
   "outputs": [],
   "source": []
  },
  {
   "cell_type": "code",
   "execution_count": null,
   "id": "969c07ae",
   "metadata": {},
   "outputs": [],
   "source": []
  },
  {
   "cell_type": "code",
   "execution_count": null,
   "id": "224f4a73",
   "metadata": {},
   "outputs": [],
   "source": []
  },
  {
   "cell_type": "code",
   "execution_count": null,
   "id": "bf54364d",
   "metadata": {},
   "outputs": [],
   "source": []
  },
  {
   "cell_type": "code",
   "execution_count": null,
   "id": "ec869c5b",
   "metadata": {},
   "outputs": [],
   "source": []
  },
  {
   "cell_type": "code",
   "execution_count": null,
   "id": "054d4464",
   "metadata": {},
   "outputs": [],
   "source": []
  },
  {
   "cell_type": "code",
   "execution_count": null,
   "id": "d61e5354",
   "metadata": {},
   "outputs": [],
   "source": []
  },
  {
   "cell_type": "code",
   "execution_count": null,
   "id": "4afbbba8",
   "metadata": {},
   "outputs": [],
   "source": []
  },
  {
   "cell_type": "code",
   "execution_count": null,
   "id": "0ddaab49",
   "metadata": {},
   "outputs": [],
   "source": []
  },
  {
   "cell_type": "code",
   "execution_count": null,
   "id": "756c25f0",
   "metadata": {},
   "outputs": [],
   "source": []
  },
  {
   "cell_type": "code",
   "execution_count": null,
   "id": "eaf07ca8",
   "metadata": {},
   "outputs": [],
   "source": [
    "f_np1_filter = "
   ]
  },
  {
   "cell_type": "code",
   "execution_count": 8,
   "id": "76e105f5",
   "metadata": {},
   "outputs": [
    {
     "data": {
      "text/plain": [
       "(numpy.ndarray, (1000000, 425))"
      ]
     },
     "execution_count": 8,
     "metadata": {},
     "output_type": "execute_result"
    }
   ],
   "source": [
    "type(f_np1), f_np1.shape"
   ]
  },
  {
   "cell_type": "code",
   "execution_count": 39,
   "id": "bac48918",
   "metadata": {},
   "outputs": [
    {
     "data": {
      "text/plain": [
       "425"
      ]
     },
     "execution_count": 39,
     "metadata": {},
     "output_type": "execute_result"
    }
   ],
   "source": [
    "f_np1.shape[1]"
   ]
  },
  {
   "cell_type": "code",
   "execution_count": 16,
   "id": "0f853fb6",
   "metadata": {},
   "outputs": [
    {
     "data": {
      "text/plain": [
       "(1000000,)"
      ]
     },
     "execution_count": 16,
     "metadata": {},
     "output_type": "execute_result"
    }
   ],
   "source": [
    "f_np1[:, 1].shape"
   ]
  },
  {
   "cell_type": "code",
   "execution_count": 28,
   "id": "8d0870b6",
   "metadata": {},
   "outputs": [],
   "source": [
    "channel_list_1 = []\n",
    "for i in range(425):\n",
    "    f_np1_channel = f_np1[:, i]\n",
    "    a = np.isnan(f_np1_channel).all()\n",
    "    if a == False:\n",
    "        chan          nel_list_1.append(i)\n",
    "\n"
   ]
  },
  {
   "cell_type": "code",
   "execution_count": 55,
   "id": "fb5ec221",
   "metadata": {},
   "outputs": [],
   "source": [
    "def remove_nan(numpy_file):\n",
    "    dimension_list = []\n",
    "    for i in range(numpy_file.shape[1]):\n",
    "        numpy_file_channel = numpy_file[:, i]\n",
    "        chech_nan = np.isnan(numpy_file_channel).all()\n",
    "        if chech_nan == False:\n",
    "            dimension_list.append(i)\n",
    "            \n",
    "    numpy_filter = numpy_file[:, dimension_list[0] : dimension_list[-1]+1]\n",
    "    \n",
    "    return numpy_filter\n",
    "        \n",
    "    "
   ]
  },
  {
   "cell_type": "code",
   "execution_count": 21,
   "id": "96bacf6e",
   "metadata": {},
   "outputs": [],
   "source": [
    "f_np2 = np.load('D:/wenqu/pixel_site1b_test/1999999.npy')\n",
    "f_np3 = np.load('D:/wenqu/pixel_site1b_test/2999999.npy')\n",
    "f_np4 = np.load('D:/wenqu/pixel_site1b_test/3327631.npy')"
   ]
  },
  {
   "cell_type": "code",
   "execution_count": 44,
   "id": "3af36d14",
   "metadata": {},
   "outputs": [
    {
     "data": {
      "text/plain": [
       "((1000000, 122), 122)"
      ]
     },
     "execution_count": 44,
     "metadata": {},
     "output_type": "execute_result"
    }
   ],
   "source": [
    "f_np1_filter, f_np1_dimension = remove_nan(f_np1)\n",
    "f_np1_filter.shape, len(f_np1_dimension)"
   ]
  },
  {
   "cell_type": "code",
   "execution_count": 22,
   "id": "887d2efc",
   "metadata": {},
   "outputs": [],
   "source": [
    "channel_list_2 = []\n",
    "for i in range(425):\n",
    "    f_np2_channel = f_np2[:, i]\n",
    "    a = np.isnan(f_np2_channel).all()\n",
    "    if a == False:\n",
    "        channel_list_2.append(i)"
   ]
  },
  {
   "cell_type": "code",
   "execution_count": 29,
   "id": "21af4de9",
   "metadata": {},
   "outputs": [
    {
     "name": "stdout",
     "output_type": "stream",
     "text": [
      "The lists l1 and l2 are the same\n"
     ]
    }
   ],
   "source": [
    "channel_list_1.sort() \n",
    "channel_list_2.sort() \n",
    "# l3.sort() \n",
    "\n",
    "if channel_list_1 == channel_list_2: \n",
    "    print (\"The lists l1 and l2 are the same\") \n",
    "else: \n",
    "    print (\"The lists l1 and l2 are not the same\")"
   ]
  },
  {
   "cell_type": "code",
   "execution_count": 27,
   "id": "8a6e8476",
   "metadata": {},
   "outputs": [
    {
     "data": {
      "text/plain": [
       "(0, 122)"
      ]
     },
     "execution_count": 27,
     "metadata": {},
     "output_type": "execute_result"
    }
   ],
   "source": [
    "len(channel_list_1), len(channel_list_2)"
   ]
  },
  {
   "cell_type": "code",
   "execution_count": 42,
   "id": "7d8bd184",
   "metadata": {},
   "outputs": [
    {
     "data": {
      "text/plain": [
       "122"
      ]
     },
     "execution_count": 42,
     "metadata": {},
     "output_type": "execute_result"
    }
   ],
   "source": [
    "len(channel_list_1)"
   ]
  },
  {
   "cell_type": "code",
   "execution_count": 31,
   "id": "1c90e282",
   "metadata": {},
   "outputs": [
    {
     "name": "stdout",
     "output_type": "stream",
     "text": [
      "True\n"
     ]
    }
   ],
   "source": [
    "def checkConsecutive(l):\n",
    "    n = len(l) - 1\n",
    "    return (sum(np.diff(sorted(l)) == 1) >= n)\n",
    "     \n",
    "\n",
    "print(checkConsecutive(channel_list_1))"
   ]
  },
  {
   "cell_type": "code",
   "execution_count": 33,
   "id": "80d59bf2",
   "metadata": {},
   "outputs": [
    {
     "data": {
      "text/plain": [
       "(1000000, 121)"
      ]
     },
     "execution_count": 33,
     "metadata": {},
     "output_type": "execute_result"
    }
   ],
   "source": [
    "f_np1_filter = f_np1[:, channel_list_1[0]: channel_list_1[-1]]\n",
    "f_np1_filter.shape"
   ]
  },
  {
   "cell_type": "code",
   "execution_count": 49,
   "id": "b69ee1dc",
   "metadata": {},
   "outputs": [],
   "source": [
    "path = 'D:/wenqu/pixel_site1b_test/'\n",
    "file_name = []\n",
    "for a in glob.glob(os.path.join(path, '*.npy')):\n",
    "    file_name.append(a)"
   ]
  },
  {
   "cell_type": "code",
   "execution_count": 50,
   "id": "bde0167d",
   "metadata": {},
   "outputs": [
    {
     "data": {
      "text/plain": [
       "'D:/wenqu/pixel_site1b_test\\\\2999999.npy'"
      ]
     },
     "execution_count": 50,
     "metadata": {},
     "output_type": "execute_result"
    }
   ],
   "source": [
    "file_name[1]"
   ]
  },
  {
   "cell_type": "code",
   "execution_count": 51,
   "id": "725d55fd",
   "metadata": {},
   "outputs": [
    {
     "data": {
      "text/plain": [
       "4"
      ]
     },
     "execution_count": 51,
     "metadata": {},
     "output_type": "execute_result"
    }
   ],
   "source": [
    "len(file_name)"
   ]
  },
  {
   "cell_type": "code",
   "execution_count": 57,
   "id": "e68d9c6d",
   "metadata": {},
   "outputs": [
    {
     "data": {
      "text/plain": [
       "(['np_0', 'np_1', 'np_2', 'np_3'],\n",
       " ['np_0_filter', 'np_1_filter', 'np_2_filter', 'np_3_filter'])"
      ]
     },
     "execution_count": 57,
     "metadata": {},
     "output_type": "execute_result"
    }
   ],
   "source": [
    "np_list = []\n",
    "np_list_filter = []\n",
    "for i in range(4):\n",
    "    np_name = 'np_' + str(i)\n",
    "    np_list.append(np_name)\n",
    "    np_name_filter = 'np_' + str(i) + '_filter'\n",
    "    np_list_filter.append(np_name_filter)\n",
    "np_list, np_list_filter"
   ]
  },
  {
   "cell_type": "code",
   "execution_count": null,
   "id": "f280cf30",
   "metadata": {},
   "outputs": [],
   "source": []
  },
  {
   "cell_type": "code",
   "execution_count": 54,
   "id": "6a15fe49",
   "metadata": {},
   "outputs": [
    {
     "data": {
      "text/plain": [
       "str"
      ]
     },
     "execution_count": 54,
     "metadata": {},
     "output_type": "execute_result"
    }
   ],
   "source": [
    "type(np_list[1])"
   ]
  },
  {
   "cell_type": "code",
   "execution_count": 61,
   "id": "22bba742",
   "metadata": {},
   "outputs": [
    {
     "name": "stderr",
     "output_type": "stream",
     "text": [
      "100%|████████████████████████████████████████████████████████████████████████████████████| 4/4 [00:10<00:00,  2.72s/it]\n"
     ]
    }
   ],
   "source": [
    "# for i in tqdm(range(high_res_img_flatten.shape[1])):\n",
    "concate_list = []\n",
    "for i in tqdm(range(4)):\n",
    "    np_list[i] = np.load(file_name[i])\n",
    "    np_list_filter[i] = remove_nan(np_list[i])\n",
    "    concate_list.append(np_list_filter[i])"
   ]
  },
  {
   "cell_type": "code",
   "execution_count": 62,
   "id": "25e69462",
   "metadata": {},
   "outputs": [
    {
     "name": "stderr",
     "output_type": "stream",
     "text": [
      "C:\\Users\\laral\\AppData\\Local\\Temp\\ipykernel_1548\\3616178396.py:1: VisibleDeprecationWarning: Creating an ndarray from ragged nested sequences (which is a list-or-tuple of lists-or-tuples-or ndarrays with different lengths or shapes) is deprecated. If you meant to do this, you must specify 'dtype=object' when creating the ndarray.\n",
      "  concate_list_array = np.asarray(concate_list)\n"
     ]
    },
    {
     "data": {
      "text/plain": [
       "(4,)"
      ]
     },
     "execution_count": 62,
     "metadata": {},
     "output_type": "execute_result"
    }
   ],
   "source": [
    "concate_list_array = np.asarray(concate_list)\n",
    "concate_list_array.shape"
   ]
  },
  {
   "cell_type": "code",
   "execution_count": 8,
   "id": "a4af6cbd",
   "metadata": {},
   "outputs": [],
   "source": [
    "concate_file = np.concatenate(concate_list)"
   ]
  },
  {
   "cell_type": "code",
   "execution_count": 9,
   "id": "a3904352",
   "metadata": {},
   "outputs": [
    {
     "data": {
      "text/plain": [
       "(3327632, 425)"
      ]
     },
     "execution_count": 9,
     "metadata": {},
     "output_type": "execute_result"
    }
   ],
   "source": [
    "concate_file.shape"
   ]
  },
  {
   "cell_type": "code",
   "execution_count": 10,
   "id": "64a70645",
   "metadata": {},
   "outputs": [],
   "source": [
    "concate_file2 = concate_file.reshape(1022, 3256,425)"
   ]
  },
  {
   "cell_type": "code",
   "execution_count": 11,
   "id": "b0f24824",
   "metadata": {},
   "outputs": [
    {
     "name": "stdout",
     "output_type": "stream",
     "text": [
      "[[nan nan nan ... nan nan nan]\n",
      " [nan nan nan ... nan nan nan]\n",
      " [nan nan nan ... nan nan nan]\n",
      " ...\n",
      " [nan nan nan ... nan nan nan]\n",
      " [nan nan nan ... nan nan nan]\n",
      " [nan nan nan ... nan nan nan]]\n"
     ]
    }
   ],
   "source": [
    "print(concate_file2[:, :, 1])\n"
   ]
  },
  {
   "cell_type": "code",
   "execution_count": 16,
   "id": "8f46062f",
   "metadata": {},
   "outputs": [],
   "source": [
    "normalize_num = []\n",
    "for i in range(425):\n",
    "    file_array = concate_file2[:, :, i]\n",
    "# \n",
    "\n",
    "    a = np.isnan(file_array).all()\n",
    "#     print(a, type(a))\n",
    "    if str(np.isnan(file_array).all()) == 'False':\n",
    "#         print(i)\n",
    "        normalize_num.append(i)\n",
    "        \n",
    "#         print\n"
   ]
  },
  {
   "cell_type": "code",
   "execution_count": 17,
   "id": "06a23eaf",
   "metadata": {},
   "outputs": [
    {
     "data": {
      "text/plain": [
       "[4,\n",
       " 5,\n",
       " 6,\n",
       " 7,\n",
       " 8,\n",
       " 9,\n",
       " 10,\n",
       " 11,\n",
       " 12,\n",
       " 13,\n",
       " 14,\n",
       " 15,\n",
       " 16,\n",
       " 17,\n",
       " 18,\n",
       " 19,\n",
       " 20,\n",
       " 21,\n",
       " 22,\n",
       " 23,\n",
       " 24,\n",
       " 25,\n",
       " 26,\n",
       " 27,\n",
       " 28,\n",
       " 29,\n",
       " 30,\n",
       " 31,\n",
       " 32,\n",
       " 33,\n",
       " 34,\n",
       " 35,\n",
       " 36,\n",
       " 37,\n",
       " 38,\n",
       " 39,\n",
       " 40,\n",
       " 41,\n",
       " 42,\n",
       " 43,\n",
       " 44,\n",
       " 45,\n",
       " 46,\n",
       " 47,\n",
       " 48,\n",
       " 49,\n",
       " 50,\n",
       " 51,\n",
       " 52,\n",
       " 53,\n",
       " 54,\n",
       " 55,\n",
       " 56,\n",
       " 57,\n",
       " 58,\n",
       " 59,\n",
       " 60,\n",
       " 61,\n",
       " 62,\n",
       " 63,\n",
       " 64,\n",
       " 65,\n",
       " 66,\n",
       " 67,\n",
       " 68,\n",
       " 69,\n",
       " 70,\n",
       " 71,\n",
       " 72,\n",
       " 73,\n",
       " 74,\n",
       " 75,\n",
       " 76,\n",
       " 77,\n",
       " 78,\n",
       " 79,\n",
       " 80,\n",
       " 81,\n",
       " 82,\n",
       " 83,\n",
       " 84,\n",
       " 85,\n",
       " 86,\n",
       " 87,\n",
       " 88,\n",
       " 89,\n",
       " 90,\n",
       " 91,\n",
       " 92,\n",
       " 93,\n",
       " 94,\n",
       " 95,\n",
       " 96,\n",
       " 97,\n",
       " 98,\n",
       " 99,\n",
       " 100,\n",
       " 101,\n",
       " 102,\n",
       " 103,\n",
       " 104,\n",
       " 105,\n",
       " 106,\n",
       " 107,\n",
       " 108,\n",
       " 109,\n",
       " 110,\n",
       " 111,\n",
       " 112,\n",
       " 113,\n",
       " 114,\n",
       " 115,\n",
       " 116,\n",
       " 117,\n",
       " 118,\n",
       " 119,\n",
       " 120,\n",
       " 121,\n",
       " 122,\n",
       " 123,\n",
       " 124,\n",
       " 125]"
      ]
     },
     "execution_count": 17,
     "metadata": {},
     "output_type": "execute_result"
    }
   ],
   "source": [
    "normalize_num"
   ]
  },
  {
   "cell_type": "code",
   "execution_count": 31,
   "id": "14a3c1dd",
   "metadata": {},
   "outputs": [
    {
     "data": {
      "text/plain": [
       "122"
      ]
     },
     "execution_count": 31,
     "metadata": {},
     "output_type": "execute_result"
    }
   ],
   "source": [
    "len(normalize_num)"
   ]
  },
  {
   "cell_type": "code",
   "execution_count": 20,
   "id": "4303a0e4",
   "metadata": {},
   "outputs": [
    {
     "name": "stdout",
     "output_type": "stream",
     "text": [
      "4\n",
      "5\n",
      "6\n",
      "7\n",
      "8\n",
      "9\n",
      "10\n",
      "11\n",
      "12\n",
      "13\n",
      "14\n",
      "15\n",
      "16\n",
      "17\n",
      "18\n",
      "19\n",
      "20\n",
      "21\n",
      "22\n",
      "23\n",
      "24\n",
      "25\n",
      "26\n",
      "27\n",
      "28\n",
      "29\n",
      "30\n",
      "31\n",
      "32\n",
      "33\n",
      "34\n",
      "35\n",
      "36\n",
      "37\n",
      "38\n",
      "39\n",
      "40\n",
      "41\n",
      "42\n",
      "43\n",
      "44\n",
      "45\n",
      "46\n",
      "47\n",
      "48\n",
      "49\n",
      "50\n",
      "51\n",
      "52\n",
      "53\n",
      "54\n",
      "55\n",
      "56\n",
      "57\n",
      "58\n",
      "59\n",
      "60\n",
      "61\n",
      "62\n",
      "63\n",
      "64\n",
      "65\n",
      "66\n",
      "67\n",
      "68\n",
      "69\n",
      "70\n",
      "71\n",
      "72\n",
      "73\n",
      "74\n",
      "75\n",
      "76\n",
      "77\n",
      "78\n",
      "79\n",
      "80\n",
      "81\n",
      "82\n",
      "83\n",
      "84\n",
      "85\n",
      "86\n",
      "87\n",
      "88\n",
      "89\n",
      "90\n",
      "91\n",
      "92\n",
      "93\n",
      "94\n",
      "95\n",
      "96\n",
      "97\n",
      "98\n",
      "99\n",
      "100\n",
      "101\n",
      "102\n",
      "103\n",
      "104\n",
      "105\n",
      "106\n",
      "107\n",
      "108\n",
      "109\n",
      "110\n",
      "111\n",
      "112\n",
      "113\n",
      "114\n",
      "115\n",
      "116\n",
      "117\n",
      "118\n",
      "119\n",
      "120\n",
      "121\n",
      "122\n",
      "123\n",
      "124\n",
      "125\n"
     ]
    }
   ],
   "source": [
    "concate_new = []\n",
    "for i in normalize_num:\n",
    "    print(i)    \n",
    "    concate_new.append(concate_file2[:, :, i])\n"
   ]
  },
  {
   "cell_type": "code",
   "execution_count": 21,
   "id": "a45316ab",
   "metadata": {},
   "outputs": [
    {
     "data": {
      "text/plain": [
       "122"
      ]
     },
     "execution_count": 21,
     "metadata": {},
     "output_type": "execute_result"
    }
   ],
   "source": [
    "len(concate_new)"
   ]
  },
  {
   "cell_type": "code",
   "execution_count": 24,
   "id": "cc3146d8",
   "metadata": {},
   "outputs": [],
   "source": [
    "concate_new_array = np.array(concate_new)"
   ]
  },
  {
   "cell_type": "code",
   "execution_count": 22,
   "id": "b8c316fd",
   "metadata": {},
   "outputs": [],
   "source": [
    "src1 = rasterio.open(r'D:\\wenqu\\site1b\\uav\\site1b_multi_or_radiance')"
   ]
  },
  {
   "cell_type": "code",
   "execution_count": 23,
   "id": "74ac5e2d",
   "metadata": {},
   "outputs": [],
   "source": [
    "with rasterio.open(r'D:\\wenqu\\site1b\\uav\\site1b_multi_or_radiance') as src:\n",
    "    meta = src.meta.copy()"
   ]
  },
  {
   "cell_type": "code",
   "execution_count": 31,
   "id": "8ca29714",
   "metadata": {},
   "outputs": [],
   "source": [
    "meta.update({\n",
    "    \"driver\": \"envi\",\n",
    "    \"height\": concate_new_array.shape[1],\n",
    "    \"width\": concate_new_array.shape[2],\n",
    "    \"count\": 122,\n",
    "    \"transform\": src.transform\n",
    "\n",
    "})"
   ]
  },
  {
   "cell_type": "code",
   "execution_count": 32,
   "id": "4899ba95",
   "metadata": {},
   "outputs": [],
   "source": [
    "output = 'D:/wenqu/simulation/site1b_simulation_test'"
   ]
  },
  {
   "cell_type": "code",
   "execution_count": 33,
   "id": "56dcbee1",
   "metadata": {},
   "outputs": [],
   "source": [
    "with rasterio.open(output, \"w\", **meta) as dest:\n",
    "    dest.write(concate_new_array)"
   ]
  },
  {
   "cell_type": "code",
   "execution_count": null,
   "id": "b884ac33",
   "metadata": {},
   "outputs": [],
   "source": []
  }
 ],
 "metadata": {
  "kernelspec": {
   "display_name": "wenqu_gpu",
   "language": "python",
   "name": "wenqu_gpu"
  },
  "language_info": {
   "codemirror_mode": {
    "name": "ipython",
    "version": 3
   },
   "file_extension": ".py",
   "mimetype": "text/x-python",
   "name": "python",
   "nbconvert_exporter": "python",
   "pygments_lexer": "ipython3",
   "version": "3.9.15"
  }
 },
 "nbformat": 4,
 "nbformat_minor": 5
}
