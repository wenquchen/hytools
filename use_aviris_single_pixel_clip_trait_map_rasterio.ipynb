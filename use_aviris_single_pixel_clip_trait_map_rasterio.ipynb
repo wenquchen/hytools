{
 "cells": [
  {
   "cell_type": "code",
   "execution_count": 1,
   "id": "3f3d85a0",
   "metadata": {},
   "outputs": [],
   "source": [
    "import rasterio\n",
    "from rasterio.mask import mask\n",
    "from rasterio import Affine\n",
    "import geopandas as gpd\n",
    "from shapely.geometry import box\n",
    "from rasterio.features import geometry_mask\n",
    "import numpy as np\n",
    "from shapely.geometry import mapping\n",
    "from shapely.geometry import Polygon\n",
    "import os\n",
    "from osgeo import gdal,ogr,osr"
   ]
  },
  {
   "cell_type": "code",
   "execution_count": 7,
   "id": "79b18bf0",
   "metadata": {},
   "outputs": [],
   "source": [
    "raster1 = rasterio.open(r'F:\\wenqu\\trait_map\\trait_proj\\site2c_d13c_trait_project_to_aviris.tif')\n",
    "raster2 = rasterio.open(r'F:/wenqu/trait_map/trait_clip/site2c_d13c/26_14.tif')\n",
    "shapefile = gpd.read_file('F:/wenqu/trait_map/output.shp')\n",
    "geom = shapefile.geometry\n",
    "\n",
    "out_img, out_transform = mask(raster1, geom, crop=True)\n",
    "\n",
    "\n",
    "\n",
    "# Update the metadata of the output image:\n",
    "out_meta = raster1.meta.copy()\n",
    "out_meta.update({\n",
    "    \"driver\": \"GTiff\",\n",
    "    \"height\": out_img.shape[1],\n",
    "    \"width\": out_img.shape[2],\n",
    "    \"transform\": out_transform\n",
    "})\n",
    "\n",
    "output = 'F:/wenqu/trait_map/trait_clip/site2c_d13c/' + '26_14_1.tif'\n",
    "\n",
    "# Write the clipped raster to a new tif file:\n",
    "with rasterio.open(output, \"w\", **out_meta) as dest:\n",
    "    for band in range(1, raster1.count + 1):\n",
    "        dest.write(out_img[band-1], indexes=band)"
   ]
  },
  {
   "cell_type": "code",
   "execution_count": null,
   "id": "9a6c6b22",
   "metadata": {},
   "outputs": [],
   "source": [
    "raster1 = rasterio.open(r'F:\\wenqu\\trait_map\\site2a_la_trait_map_project3.tif')"
   ]
  },
  {
   "cell_type": "markdown",
   "id": "e26221fa",
   "metadata": {},
   "source": [
    "## use shp file to clip trait image to the exactly same extent as the aviris pixel"
   ]
  },
  {
   "cell_type": "code",
   "execution_count": 2,
   "id": "2b77414a",
   "metadata": {},
   "outputs": [],
   "source": [
    "folder_path = r'F:\\wenqu\\Aviris\\site6\\site6_aviris_single_pixel_shp'\n",
    "extension = \".shp\"\n",
    "raster1 = rasterio.open(r'F:\\chm\\resample\\site6_b123_mean_project_to_aviris.tif')\n",
    "for filename in os.listdir(folder_path):\n",
    "    # Check if the current item is a file\n",
    "    if filename.endswith(extension) and os.path.isfile(os.path.join(folder_path, filename)):\n",
    "        #output trait name\n",
    "        trait_name = os.path.splitext(filename)[0] + '.tif'\n",
    "        #open shapefile \n",
    "        shapefile = gpd.read_file(os.path.join(folder_path, filename))\n",
    "        geom = shapefile.geometry\n",
    "        out_img, out_transform = mask(raster1, geom, crop=True)\n",
    "        \n",
    "        # Update the metadata of the output image:\n",
    "        out_meta = raster1.meta.copy()\n",
    "        out_meta.update({\n",
    "            \"driver\": \"GTiff\",\n",
    "            \"height\": out_img.shape[1],\n",
    "            \"width\": out_img.shape[2],\n",
    "            \"transform\": out_transform\n",
    "        })\n",
    "        output = 'F:/chm/resample/clip/site6_mean_' + str(trait_name)\n",
    "        \n",
    "        # Write the clipped raster to a new tif file:\n",
    "        with rasterio.open(output, \"w\", **out_meta) as dest:\n",
    "            for band in range(1, raster1.count + 1):\n",
    "                dest.write(out_img[band-1], indexes=band)\n",
    "        "
   ]
  },
  {
   "cell_type": "code",
   "execution_count": 3,
   "id": "ed392af1",
   "metadata": {},
   "outputs": [],
   "source": [
    "folder_path = r'F:\\wenqu\\Aviris\\site6\\site6_aviris_single_pixel_shp'\n",
    "extension = \".shp\"\n",
    "raster1 = rasterio.open(r'F:\\chm\\resample\\site6_b123_std_project_to_aviris.tif')\n",
    "for filename in os.listdir(folder_path):\n",
    "    # Check if the current item is a file\n",
    "    if filename.endswith(extension) and os.path.isfile(os.path.join(folder_path, filename)):\n",
    "        #output trait name\n",
    "        trait_name = os.path.splitext(filename)[0] + '.tif'\n",
    "        #open shapefile \n",
    "        shapefile = gpd.read_file(os.path.join(folder_path, filename))\n",
    "        geom = shapefile.geometry\n",
    "        out_img, out_transform = mask(raster1, geom, crop=True)\n",
    "        \n",
    "        # Update the metadata of the output image:\n",
    "        out_meta = raster1.meta.copy()\n",
    "        out_meta.update({\n",
    "            \"driver\": \"GTiff\",\n",
    "            \"height\": out_img.shape[1],\n",
    "            \"width\": out_img.shape[2],\n",
    "            \"transform\": out_transform\n",
    "        })\n",
    "        output = 'F:/chm/resample/clip_std/site6_std_' + str(trait_name)\n",
    "        \n",
    "        # Write the clipped raster to a new tif file:\n",
    "        with rasterio.open(output, \"w\", **out_meta) as dest:\n",
    "            for band in range(1, raster1.count + 1):\n",
    "                dest.write(out_img[band-1], indexes=band)"
   ]
  },
  {
   "cell_type": "markdown",
   "id": "f2d72a45",
   "metadata": {},
   "source": [
    "## this is to use the aviris pixel bounding box to clip the trait image"
   ]
  },
  {
   "cell_type": "code",
   "execution_count": 5,
   "id": "633b2fbf",
   "metadata": {},
   "outputs": [
    {
     "name": "stdout",
     "output_type": "stream",
     "text": [
      "<class 'shapely.geometry.polygon.Polygon'>\n"
     ]
    }
   ],
   "source": [
    "# Define the mask based on the non-zero values of raster1\n",
    "# mask = data1 != 0\n",
    "# print(type(mask), mask.shape)\n",
    "# Define the extent of raster2 as a bounding box:\n",
    "xmin, ymin, xmax, ymax = raster2.bounds\n",
    "bbox = box(xmin, ymin, xmax, ymax)\n",
    "print(type(bbox))"
   ]
  },
  {
   "cell_type": "code",
   "execution_count": 6,
   "id": "a1b6904f",
   "metadata": {},
   "outputs": [
    {
     "name": "stdout",
     "output_type": "stream",
     "text": [
      "<class 'geopandas.geodataframe.GeoDataFrame'>\n"
     ]
    }
   ],
   "source": [
    "geo = gpd.GeoDataFrame({'geometry': bbox}, index=[0])\n",
    "geo = geo.set_crs(raster2.crs)\n",
    "# geo = geo.to_crs(raster1.crs)\n",
    "print(type(geo))"
   ]
  },
  {
   "cell_type": "code",
   "execution_count": 7,
   "id": "f089c957",
   "metadata": {},
   "outputs": [
    {
     "name": "stdout",
     "output_type": "stream",
     "text": [
      "                                            geometry\n",
      "0  POLYGON ((624296.718 7476874.861, 624296.718 7...\n"
     ]
    }
   ],
   "source": [
    "print(geo)"
   ]
  },
  {
   "cell_type": "code",
   "execution_count": 7,
   "id": "f478b9f4",
   "metadata": {},
   "outputs": [],
   "source": [
    "# Clip raster1 using the extent of raster2:\n",
    "out_img, out_transform = mask(raster1, shapes=geo.geometry, crop=True)\n",
    "\n",
    "# Update the metadata of the output image:\n",
    "out_meta = raster1.meta.copy()\n",
    "out_meta.update({\n",
    "    \"driver\": \"GTiff\",\n",
    "    \"height\": out_img.shape[1],\n",
    "    \"width\": out_img.shape[2],\n",
    "    \"transform\": out_transform\n",
    "})\n",
    "\n",
    "output = 'F:/wenqu/trait_map/' + '26_14_1.tif'\n",
    "\n",
    "# Write the clipped raster to a new tif file:\n",
    "with rasterio.open(output, \"w\", **out_meta) as dest:\n",
    "    for band in range(1, raster1.count + 1):\n",
    "        dest.write(out_img[band-1], indexes=band)"
   ]
  },
  {
   "cell_type": "code",
   "execution_count": 3,
   "id": "09f2e2ce",
   "metadata": {
    "scrolled": true
   },
   "outputs": [
    {
     "name": "stdout",
     "output_type": "stream",
     "text": [
      "site2a_0_11.tif\n"
     ]
    },
    {
     "ename": "RasterioIOError",
     "evalue": "Attempt to create new tiff file 'F:/wenqu/trait_map/clipped_trait_map/site2a_0_11.tif' failed: No such file or directory",
     "output_type": "error",
     "traceback": [
      "\u001b[1;31m---------------------------------------------------------------------------\u001b[0m",
      "\u001b[1;31mCPLE_OpenFailedError\u001b[0m                      Traceback (most recent call last)",
      "File \u001b[1;32mrasterio\\_io.pyx:1450\u001b[0m, in \u001b[0;36mrasterio._io.DatasetWriterBase.__init__\u001b[1;34m()\u001b[0m\n",
      "File \u001b[1;32mrasterio\\_err.pyx:221\u001b[0m, in \u001b[0;36mrasterio._err.exc_wrap_pointer\u001b[1;34m()\u001b[0m\n",
      "\u001b[1;31mCPLE_OpenFailedError\u001b[0m: Attempt to create new tiff file 'F:/wenqu/trait_map/clipped_trait_map/site2a_0_11.tif' failed: No such file or directory",
      "\nDuring handling of the above exception, another exception occurred:\n",
      "\u001b[1;31mRasterioIOError\u001b[0m                           Traceback (most recent call last)",
      "Cell \u001b[1;32mIn[3], line 36\u001b[0m\n\u001b[0;32m     33\u001b[0m output \u001b[38;5;241m=\u001b[39m \u001b[38;5;124m'\u001b[39m\u001b[38;5;124mF:/wenqu/trait_map/clipped_trait_map/\u001b[39m\u001b[38;5;124m'\u001b[39m \u001b[38;5;241m+\u001b[39m filename\n\u001b[0;32m     35\u001b[0m \u001b[38;5;66;03m# Write the clipped raster to a new tif file:\u001b[39;00m\n\u001b[1;32m---> 36\u001b[0m \u001b[38;5;28;01mwith\u001b[39;00m rasterio\u001b[38;5;241m.\u001b[39mopen(output, \u001b[38;5;124m\"\u001b[39m\u001b[38;5;124mw\u001b[39m\u001b[38;5;124m\"\u001b[39m, \u001b[38;5;241m*\u001b[39m\u001b[38;5;241m*\u001b[39mout_meta) \u001b[38;5;28;01mas\u001b[39;00m dest:\n\u001b[0;32m     37\u001b[0m     dest\u001b[38;5;241m.\u001b[39mwrite(out_img)\n",
      "File \u001b[1;32m~\\anaconda3\\envs\\wenqu_gdal\\lib\\site-packages\\rasterio\\env.py:451\u001b[0m, in \u001b[0;36mensure_env_with_credentials.<locals>.wrapper\u001b[1;34m(*args, **kwds)\u001b[0m\n\u001b[0;32m    448\u001b[0m     session \u001b[38;5;241m=\u001b[39m DummySession()\n\u001b[0;32m    450\u001b[0m \u001b[38;5;28;01mwith\u001b[39;00m env_ctor(session\u001b[38;5;241m=\u001b[39msession):\n\u001b[1;32m--> 451\u001b[0m     \u001b[38;5;28;01mreturn\u001b[39;00m f(\u001b[38;5;241m*\u001b[39margs, \u001b[38;5;241m*\u001b[39m\u001b[38;5;241m*\u001b[39mkwds)\n",
      "File \u001b[1;32m~\\anaconda3\\envs\\wenqu_gdal\\lib\\site-packages\\rasterio\\__init__.py:344\u001b[0m, in \u001b[0;36mopen\u001b[1;34m(fp, mode, driver, width, height, count, crs, transform, dtype, nodata, sharing, **kwargs)\u001b[0m\n\u001b[0;32m    342\u001b[0m writer \u001b[38;5;241m=\u001b[39m get_writer_for_driver(driver)\n\u001b[0;32m    343\u001b[0m \u001b[38;5;28;01mif\u001b[39;00m writer \u001b[38;5;129;01mis\u001b[39;00m \u001b[38;5;129;01mnot\u001b[39;00m \u001b[38;5;28;01mNone\u001b[39;00m:\n\u001b[1;32m--> 344\u001b[0m     dataset \u001b[38;5;241m=\u001b[39m writer(\n\u001b[0;32m    345\u001b[0m         path,\n\u001b[0;32m    346\u001b[0m         mode,\n\u001b[0;32m    347\u001b[0m         driver\u001b[38;5;241m=\u001b[39mdriver,\n\u001b[0;32m    348\u001b[0m         width\u001b[38;5;241m=\u001b[39mwidth,\n\u001b[0;32m    349\u001b[0m         height\u001b[38;5;241m=\u001b[39mheight,\n\u001b[0;32m    350\u001b[0m         count\u001b[38;5;241m=\u001b[39mcount,\n\u001b[0;32m    351\u001b[0m         crs\u001b[38;5;241m=\u001b[39mcrs,\n\u001b[0;32m    352\u001b[0m         transform\u001b[38;5;241m=\u001b[39mtransform,\n\u001b[0;32m    353\u001b[0m         dtype\u001b[38;5;241m=\u001b[39mdtype,\n\u001b[0;32m    354\u001b[0m         nodata\u001b[38;5;241m=\u001b[39mnodata,\n\u001b[0;32m    355\u001b[0m         sharing\u001b[38;5;241m=\u001b[39msharing,\n\u001b[0;32m    356\u001b[0m         \u001b[38;5;241m*\u001b[39m\u001b[38;5;241m*\u001b[39mkwargs\n\u001b[0;32m    357\u001b[0m     )\n\u001b[0;32m    358\u001b[0m \u001b[38;5;28;01melse\u001b[39;00m:\n\u001b[0;32m    359\u001b[0m     \u001b[38;5;28;01mraise\u001b[39;00m DriverCapabilityError(\n\u001b[0;32m    360\u001b[0m         \u001b[38;5;124m\"\u001b[39m\u001b[38;5;124mWriter does not exist for driver: \u001b[39m\u001b[38;5;132;01m%s\u001b[39;00m\u001b[38;5;124m\"\u001b[39m \u001b[38;5;241m%\u001b[39m \u001b[38;5;28mstr\u001b[39m(driver)\n\u001b[0;32m    361\u001b[0m     )\n",
      "File \u001b[1;32mrasterio\\_io.pyx:1455\u001b[0m, in \u001b[0;36mrasterio._io.DatasetWriterBase.__init__\u001b[1;34m()\u001b[0m\n",
      "\u001b[1;31mRasterioIOError\u001b[0m: Attempt to create new tiff file 'F:/wenqu/trait_map/clipped_trait_map/site2a_0_11.tif' failed: No such file or directory"
     ]
    }
   ],
   "source": [
    "import os\n",
    "\n",
    "folder_path = \"F:/wenqu/Aviris/site2a/PLSR/aviris_single_pixel\"\n",
    "extension = \".tif\"\n",
    "\n",
    "for filename in os.listdir(folder_path):\n",
    "    # Check if the current item is a file\n",
    "    if filename.endswith(extension) and os.path.isfile(os.path.join(folder_path, filename)):\n",
    "        # Do something with the file, e.g. print its name\n",
    "        print(filename)\n",
    "        raster1 = rasterio.open(r'F:\\wenqu\\trait_map\\site2a_la_trait_map_project3.tif')\n",
    "        \n",
    "        raster2 = rasterio.open('F:/wenqu/Aviris/site2a/PLSR/aviris_single_pixel/' + filename) \n",
    "        xmin, ymin, xmax, ymax = raster2.bounds\n",
    "        bbox = box(xmin, ymin, xmax, ymax)\n",
    "        # Reproject the bounding box of raster2 to the coordinate system of raster1:\n",
    "        geo = gpd.GeoDataFrame({'geometry': bbox}, index=[0])\n",
    "        geo = geo.set_crs(raster2.crs)\n",
    "#         geo = geo.to_crs(raster1.crs)\n",
    "        \n",
    "        # Clip raster1 using the extent of raster2:\n",
    "        out_img, out_transform = mask(raster1, shapes=geo.geometry, crop=True)\n",
    "\n",
    "        # Update the metadata of the output image:\n",
    "        out_meta = raster1.meta.copy()\n",
    "        out_meta.update({\n",
    "            \"driver\": \"GTiff\",\n",
    "            \"height\": out_img.shape[1],\n",
    "            \"width\": out_img.shape[2],\n",
    "            \"transform\": out_transform\n",
    "        })\n",
    "        \n",
    "        output = 'F:/wenqu/trait_map/clipped_trait_map/' + filename\n",
    "\n",
    "        # Write the clipped raster to a new tif file:\n",
    "        with rasterio.open(output, \"w\", **out_meta) as dest:\n",
    "            dest.write(out_img)\n"
   ]
  },
  {
   "cell_type": "code",
   "execution_count": null,
   "id": "c876cf80",
   "metadata": {},
   "outputs": [],
   "source": []
  }
 ],
 "metadata": {
  "kernelspec": {
   "display_name": "wenqu_gdal",
   "language": "python",
   "name": "wenqu_gdal"
  },
  "language_info": {
   "codemirror_mode": {
    "name": "ipython",
    "version": 3
   },
   "file_extension": ".py",
   "mimetype": "text/x-python",
   "name": "python",
   "nbconvert_exporter": "python",
   "pygments_lexer": "ipython3",
   "version": "3.9.15"
  }
 },
 "nbformat": 4,
 "nbformat_minor": 5
}
