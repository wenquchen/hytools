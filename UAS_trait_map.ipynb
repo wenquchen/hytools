{
 "cells": [
  {
   "cell_type": "code",
   "execution_count": 1,
   "id": "80fcdd9d-fa25-4223-b749-aebc2dae638b",
   "metadata": {},
   "outputs": [],
   "source": [
    "import os\n",
    "import numpy as np\n",
    "import numpy as np\n",
    "# import torch\n",
    "# from arsf_envi_reader import envi_header\n",
    "import shutil\n",
    "import os\n",
    "import json\n",
    "import math\n",
    "import matplotlib.pyplot as plt\n",
    "import pandas as pd\n",
    "import matplotlib.pyplot as plt\n",
    "import matplotlib.gridspec as gridspec\n",
    "from osgeo import gdal,ogr,osr\n",
    "from scipy.optimize import curve_fit\n",
    "# from tqdm import tqdm\n",
    "# import multiprocess as mp\n",
    "from scipy import ndimage\n",
    "from numpy import trapz\n",
    "from scipy import stats\n",
    "import rasterio"
   ]
  },
  {
   "cell_type": "markdown",
   "id": "c5b75eb1-d19c-4f23-b136-b4fbef6de360",
   "metadata": {},
   "source": [
    "# La"
   ]
  },
  {
   "cell_type": "code",
   "execution_count": 2,
   "id": "bd85e207-1753-4fc5-8a12-ac2a7b8c0e3b",
   "metadata": {},
   "outputs": [],
   "source": [
    "wavelengths_to_keep = [18, 215, 148, 7, 171, 28, 199, 151, 165, 13, 67, 38, 85, 112, 61, 240, 166, 200, 35, 51, 6, 52, 93, 71, 91, 43, 83, 111, 185, 212, 45, 228, 195, 131, 210, 126, 129, 209, 121, 33, 54, 49, 1, 77, 4, 234, 242, 0, 227, 103, 22, 127, 29, 226, 113, 73, 224, 31, 15, 221, 8, 205, 2, 63, 214, 239, 19, 213, 23, 16, 21]"
   ]
  },
  {
   "cell_type": "code",
   "execution_count": 2,
   "id": "4810010b-5456-4945-8985-4a1708db2726",
   "metadata": {},
   "outputs": [],
   "source": [
    "wavelength_list =['b1_mean', 'b2_mean', 'b3_mean', 'b4_mean', 'b5_mean', 'b6_mean',\n",
    "       'b7_mean', 'b8_mean', 'b9_mean', 'b10_mean', 'b11_mean',\n",
    "       'b12_mean', 'b13_mean', 'b14_mean', 'b15_mean', 'b16_mean',\n",
    "       'b17_mean', 'b18_mean', 'b19_mean', 'b20_mean', 'b21_mean',\n",
    "       'b22_mean', 'b23_mean', 'b24_mean', 'b25_mean', 'b26_mean',\n",
    "       'b27_mean', 'b28_mean', 'b29_mean', 'b30_mean', 'b31_mean',\n",
    "       'b32_mean', 'b33_mean', 'b34_mean', 'b35_mean', 'b36_mean',\n",
    "       'b37_mean', 'b38_mean', 'b39_mean', 'b40_mean', 'b41_mean',\n",
    "       'b42_mean', 'b43_mean', 'b44_mean', 'b45_mean', 'b46_mean',\n",
    "       'b47_mean', 'b48_mean', 'b49_mean', 'b50_mean', 'b51_mean',\n",
    "       'b52_mean', 'b53_mean', 'b54_mean', 'b55_mean', 'b56_mean',\n",
    "       'b57_mean', 'b58_mean', 'b59_mean', 'b60_mean', 'b61_mean',\n",
    "       'b62_mean', 'b63_mean', 'b64_mean', 'b65_mean', 'b66_mean',\n",
    "       'b67_mean', 'b68_mean', 'b69_mean', 'b70_mean', 'b71_mean',\n",
    "       'b72_mean', 'b73_mean', 'b74_mean', 'b75_mean', 'b76_mean',\n",
    "       'b77_mean', 'b78_mean', 'b79_mean', 'b80_mean', 'b81_mean',\n",
    "       'b82_mean', 'b83_mean', 'b84_mean', 'b85_mean', 'b86_mean',\n",
    "       'b87_mean', 'b88_mean', 'b89_mean', 'b90_mean', 'b91_mean',\n",
    "       'b92_mean', 'b93_mean', 'b94_mean', 'b95_mean', 'b96_mean',\n",
    "       'b97_mean', 'b98_mean', 'b99_mean', 'b100_mean', 'b101_mean',\n",
    "       'b102_mean', 'b103_mean', 'b104_mean', 'b105_mean', 'b106_mean',\n",
    "       'b107_mean', 'b108_mean', 'b109_mean', 'b110_mean', 'b111_mean',\n",
    "       'b112_mean', 'b113_mean', 'b114_mean', 'b115_mean', 'b116_mean',\n",
    "       'b117_mean', 'b118_mean', 'b119_mean', 'b120_mean', 'b121_mean',\n",
    "       'b122_mean', 'b1_std', 'b2_std', 'b3_std', 'b4_std', 'b5_std',\n",
    "       'b6_std', 'b7_std', 'b8_std', 'b9_std', 'b10_std', 'b11_std',\n",
    "       'b12_std', 'b13_std', 'b14_std', 'b15_std', 'b16_std', 'b17_std',\n",
    "       'b18_std', 'b19_std', 'b20_std', 'b21_std', 'b22_std', 'b23_std',\n",
    "       'b24_std', 'b25_std', 'b26_std', 'b27_std', 'b28_std', 'b29_std',\n",
    "       'b30_std', 'b31_std', 'b32_std', 'b33_std', 'b34_std', 'b35_std',\n",
    "       'b36_std', 'b37_std', 'b38_std', 'b39_std', 'b40_std', 'b41_std',\n",
    "       'b42_std', 'b43_std', 'b44_std', 'b45_std', 'b46_std', 'b47_std',\n",
    "       'b48_std', 'b49_std', 'b50_std', 'b51_std', 'b52_std', 'b53_std',\n",
    "       'b54_std', 'b55_std', 'b56_std', 'b57_std', 'b58_std', 'b59_std',\n",
    "       'b60_std', 'b61_std', 'b62_std', 'b63_std', 'b64_std', 'b65_std',\n",
    "       'b66_std', 'b67_std', 'b68_std', 'b69_std', 'b70_std', 'b71_std',\n",
    "       'b72_std', 'b73_std', 'b74_std', 'b75_std', 'b76_std', 'b77_std',\n",
    "       'b78_std', 'b79_std', 'b80_std', 'b81_std', 'b82_std', 'b83_std',\n",
    "       'b84_std', 'b85_std', 'b86_std', 'b87_std', 'b88_std', 'b89_std',\n",
    "       'b90_std', 'b91_std', 'b92_std', 'b93_std', 'b94_std', 'b95_std',\n",
    "       'b96_std', 'b97_std', 'b98_std', 'b99_std', 'b100_std', 'b101_std',\n",
    "       'b102_std', 'b103_std', 'b104_std', 'b105_std', 'b106_std',\n",
    "       'b107_std', 'b108_std', 'b109_std', 'b110_std', 'b111_std',\n",
    "       'b112_std', 'b113_std', 'b114_std', 'b115_std', 'b116_std',\n",
    "       'b117_std', 'b118_std', 'b119_std', 'b120_std', 'b121_std',\n",
    "       'b122_std']"
   ]
  },
  {
   "cell_type": "code",
   "execution_count": 4,
   "id": "afc97e8f-5498-4a11-87cc-27f757f2d1bb",
   "metadata": {
    "scrolled": true
   },
   "outputs": [
    {
     "name": "stdout",
     "output_type": "stream",
     "text": [
      "Index 18: b19_mean\n",
      "Index 215: b94_std\n",
      "Index 148: b27_std\n",
      "Index 7: b8_mean\n",
      "Index 171: b50_std\n",
      "Index 28: b29_mean\n",
      "Index 199: b78_std\n",
      "Index 151: b30_std\n",
      "Index 165: b44_std\n",
      "Index 13: b14_mean\n",
      "Index 67: b68_mean\n",
      "Index 38: b39_mean\n",
      "Index 85: b86_mean\n",
      "Index 112: b113_mean\n",
      "Index 61: b62_mean\n",
      "Index 240: b119_std\n",
      "Index 166: b45_std\n",
      "Index 200: b79_std\n",
      "Index 35: b36_mean\n",
      "Index 51: b52_mean\n",
      "Index 6: b7_mean\n",
      "Index 52: b53_mean\n",
      "Index 93: b94_mean\n",
      "Index 71: b72_mean\n",
      "Index 91: b92_mean\n",
      "Index 43: b44_mean\n",
      "Index 83: b84_mean\n",
      "Index 111: b112_mean\n",
      "Index 185: b64_std\n",
      "Index 212: b91_std\n",
      "Index 45: b46_mean\n",
      "Index 228: b107_std\n",
      "Index 195: b74_std\n",
      "Index 131: b10_std\n",
      "Index 210: b89_std\n",
      "Index 126: b5_std\n",
      "Index 129: b8_std\n",
      "Index 209: b88_std\n",
      "Index 121: b122_mean\n",
      "Index 33: b34_mean\n",
      "Index 54: b55_mean\n",
      "Index 49: b50_mean\n",
      "Index 1: b2_mean\n",
      "Index 77: b78_mean\n",
      "Index 4: b5_mean\n",
      "Index 234: b113_std\n",
      "Index 242: b121_std\n",
      "Index 0: b1_mean\n",
      "Index 227: b106_std\n",
      "Index 103: b104_mean\n",
      "Index 22: b23_mean\n",
      "Index 127: b6_std\n",
      "Index 29: b30_mean\n",
      "Index 226: b105_std\n",
      "Index 113: b114_mean\n",
      "Index 73: b74_mean\n",
      "Index 224: b103_std\n",
      "Index 31: b32_mean\n",
      "Index 15: b16_mean\n",
      "Index 221: b100_std\n",
      "Index 8: b9_mean\n",
      "Index 205: b84_std\n",
      "Index 2: b3_mean\n",
      "Index 63: b64_mean\n",
      "Index 214: b93_std\n",
      "Index 239: b118_std\n",
      "Index 19: b20_mean\n",
      "Index 213: b92_std\n",
      "Index 23: b24_mean\n",
      "Index 16: b17_mean\n",
      "Index 21: b22_mean\n"
     ]
    }
   ],
   "source": [
    "# Get corresponding names\n",
    "wavelength_names_to_keep = [wavelength_list[i] for i in wavelengths_to_keep]\n",
    "\n",
    "# Optional: print or save\n",
    "for i, name in zip(wavelengths_to_keep, wavelength_names_to_keep):\n",
    "    print(f\"Index {i}: {name}\")"
   ]
  },
  {
   "cell_type": "code",
   "execution_count": 3,
   "id": "5c3f892e-5a4a-46f2-b823-b744e8d04f7a",
   "metadata": {},
   "outputs": [],
   "source": [
    "npy_folder = r'E:\\wenqu\\numpy_file\\npy_file\\site6'\n",
    "trait_map = None\n",
    "valid_mask = None"
   ]
  },
  {
   "cell_type": "code",
   "execution_count": 4,
   "id": "d483b220-9411-47d8-8b15-08d898b7223c",
   "metadata": {},
   "outputs": [],
   "source": [
    "# reference_tif = r'E:\\wenqu\\trait_map\\trait_map_without_chm\\site6_ldmc_trait.tif'\n",
    "# output_trait_tif = r'E:\\wenqu\\trait_map\\version2\\UAS_trait\\site6_la.tif'"
   ]
  },
  {
   "cell_type": "code",
   "execution_count": 7,
   "id": "4b478e72-617a-4f2f-94ca-2d6296802789",
   "metadata": {},
   "outputs": [],
   "source": [
    "plsr_coefficients  = [ 0.56786555,  0.05194805, -0.39559405, -0.29076385,  0.35353761,\n",
    "        0.05978252, -0.53879029, -1.13466388,  0.81441096, -0.34979387,\n",
    "       -0.83450785,  0.74763121,  0.34439339, -0.6461688 , -1.00535734,\n",
    "       -0.78597565,  0.67837411,  0.53770781,  0.77422209,  0.92289206,\n",
    "        0.34953175, -1.0660872 , -1.10863381,  0.64460311, -1.44996207,\n",
    "       -0.33316462, -0.27860157, -0.75152734,  1.24892248,  0.73424485,\n",
    "       -0.16067522,  0.11707265, -0.64385911,  0.76019525, -0.13406202,\n",
    "        1.0208862 ,  0.68252612, -1.3135531 , -1.81150749, -0.86165108,\n",
    "       -0.20503702,  1.05591304,  0.39660574,  0.91634081, -0.9469902 ,\n",
    "       -0.64167427, -0.53147002, -0.5425204 , -0.75110487,  1.26314728,\n",
    "       -1.71715953,  1.23932331, -0.86671511, -0.53083359,  1.28001729,\n",
    "        0.76667299,  0.04964748,  1.45164699, -0.86992002, -1.44037181,\n",
    "        1.11545423, -0.75482202, -0.73738563, -0.65760026,  1.02462773,\n",
    "        1.11381964,  1.34460306,  1.35654698,  1.45969124,  1.71353191,\n",
    "       -2.06551544]"
   ]
  },
  {
   "cell_type": "code",
   "execution_count": 8,
   "id": "46155130-1ea3-401f-94b4-bb531f8321e4",
   "metadata": {},
   "outputs": [
    {
     "name": "stdout",
     "output_type": "stream",
     "text": [
      "✅ Trait map saved with intercept: E:\\wenqu\\trait_map\\version2\\UAS_trait\\site6_la.tif\n"
     ]
    }
   ],
   "source": [
    "plsr_intercept = 3.11587854526234\n",
    "for i, idx in enumerate(wavelengths_to_keep):\n",
    "    band_name = wavelength_list[idx]\n",
    "    coef = plsr_coefficients[i]\n",
    "    band_path = os.path.join(npy_folder, f\"{band_name}.npy\")\n",
    "\n",
    "    band = np.load(band_path)\n",
    "\n",
    "    if trait_map is None:\n",
    "        trait_map = np.zeros_like(band, dtype=np.float32)\n",
    "        valid_mask = band != 0  # Assume background = 0\n",
    "\n",
    "    valid_mask &= (band != 0)\n",
    "    trait_map += np.where(band != 0, band * coef, 0)\n",
    "\n",
    "# --- Step 2: Add Intercept ---\n",
    "trait_map += plsr_intercept\n",
    "\n",
    "# Mask invalid pixels\n",
    "trait_map[~valid_mask] = np.nan  # Or use -9999\n",
    "\n",
    "# --- Step 3: Save as GeoTIFF ---\n",
    "with rasterio.open(reference_tif) as src:\n",
    "    meta = src.meta.copy()\n",
    "    meta.update({\n",
    "        'count': 1,\n",
    "        'dtype': 'float32',\n",
    "        'nodata': np.nan  # or -9999\n",
    "    })\n",
    "\n",
    "    with rasterio.open(output_trait_tif, 'w', **meta) as dst:\n",
    "        dst.write(trait_map, 1)\n",
    "\n",
    "print(\"✅ Trait map saved with intercept:\", output_trait_tif)"
   ]
  },
  {
   "cell_type": "markdown",
   "id": "3e05299c-b4b8-43ea-b243-444f747df8da",
   "metadata": {},
   "source": [
    "# PC"
   ]
  },
  {
   "cell_type": "code",
   "execution_count": 5,
   "id": "cc4059de-bfbb-4db1-b2bf-2395d1973d83",
   "metadata": {},
   "outputs": [],
   "source": [
    "wavelengths_to_keep = [234, 49, 17, 35, 26, 195, 165, 230, 62, 203, 113, 23, 32, 12, 214, 61, 208, 63, 235, 18, 45, 171, 213, 201, 2, 57, 4, 224, 7, 9, 10, 22, 215, 211, 219, 221, 233, 225, 8, 237]\n",
    "plsr_coefficients = [-0.14029594,  0.04361347, -0.07921677, -0.02548277,  0.033366  ,\n",
    "       -0.12349291,  0.13914109,  0.09753119,  0.03244548, -0.05938042,\n",
    "       -0.00503265,  0.0311081 ,  0.01611506, -0.05383731,  0.1580309 ,\n",
    "        0.05521491, -0.23640053, -0.04345791,  0.08235826,  0.05776768,\n",
    "        0.0863421 ,  0.14607396,  0.07103625,  0.03072268, -0.10720656,\n",
    "       -0.10494232,  0.0348562 ,  0.08515448, -0.06323376,  0.06555178,\n",
    "        0.10360474, -0.12651168, -0.02308629, -0.20576315,  0.13463771,\n",
    "        0.00407242, -0.1284442 ,  0.11267065,  0.05051644, -0.12708732]"
   ]
  },
  {
   "cell_type": "code",
   "execution_count": 6,
   "id": "adbdb863-3d4c-4c9c-bcec-20a9c89f89da",
   "metadata": {
    "scrolled": true
   },
   "outputs": [
    {
     "name": "stdout",
     "output_type": "stream",
     "text": [
      "Index 234: b113_std\n",
      "Index 49: b50_mean\n",
      "Index 17: b18_mean\n",
      "Index 35: b36_mean\n",
      "Index 26: b27_mean\n",
      "Index 195: b74_std\n",
      "Index 165: b44_std\n",
      "Index 230: b109_std\n",
      "Index 62: b63_mean\n",
      "Index 203: b82_std\n",
      "Index 113: b114_mean\n",
      "Index 23: b24_mean\n",
      "Index 32: b33_mean\n",
      "Index 12: b13_mean\n",
      "Index 214: b93_std\n",
      "Index 61: b62_mean\n",
      "Index 208: b87_std\n",
      "Index 63: b64_mean\n",
      "Index 235: b114_std\n",
      "Index 18: b19_mean\n",
      "Index 45: b46_mean\n",
      "Index 171: b50_std\n",
      "Index 213: b92_std\n",
      "Index 201: b80_std\n",
      "Index 2: b3_mean\n",
      "Index 57: b58_mean\n",
      "Index 4: b5_mean\n",
      "Index 224: b103_std\n",
      "Index 7: b8_mean\n",
      "Index 9: b10_mean\n",
      "Index 10: b11_mean\n",
      "Index 22: b23_mean\n",
      "Index 215: b94_std\n",
      "Index 211: b90_std\n",
      "Index 219: b98_std\n",
      "Index 221: b100_std\n",
      "Index 233: b112_std\n",
      "Index 225: b104_std\n",
      "Index 8: b9_mean\n",
      "Index 237: b116_std\n"
     ]
    }
   ],
   "source": [
    "# Get corresponding names\n",
    "wavelength_names_to_keep = [wavelength_list[i] for i in wavelengths_to_keep]\n",
    "\n",
    "# Optional: print or save\n",
    "for i, name in zip(wavelengths_to_keep, wavelength_names_to_keep):\n",
    "    print(f\"Index {i}: {name}\")"
   ]
  },
  {
   "cell_type": "code",
   "execution_count": 11,
   "id": "873286b9-4ff1-415e-ae00-1d955c657c2e",
   "metadata": {},
   "outputs": [],
   "source": [
    "reference_tif = r'E:\\wenqu\\trait_map\\version2\\UAS_trait\\site6_d13c.tif'\n",
    "trait_map = None\n",
    "valid_mask = None\n",
    "output_trait_tif = r'D:\\wenqu\\chapter1_2\\updated_aviris\\version2\\UAS_trait_map\\site6_pc.tif'"
   ]
  },
  {
   "cell_type": "code",
   "execution_count": 12,
   "id": "4dc07e0a-b75f-4378-9adc-144fbf35de97",
   "metadata": {},
   "outputs": [
    {
     "name": "stdout",
     "output_type": "stream",
     "text": [
      "✅ Trait map saved with intercept: D:\\wenqu\\chapter1_2\\updated_aviris\\version2\\UAS_trait_map\\site6_pc.tif\n"
     ]
    }
   ],
   "source": [
    "plsr_intercept = 3.807409192842357\n",
    "for i, idx in enumerate(wavelengths_to_keep):\n",
    "    band_name = wavelength_list[idx]\n",
    "    coef = plsr_coefficients[i]\n",
    "    band_path = os.path.join(npy_folder, f\"{band_name}.npy\")\n",
    "\n",
    "    band = np.load(band_path)\n",
    "\n",
    "    if trait_map is None:\n",
    "        trait_map = np.zeros_like(band, dtype=np.float32)\n",
    "        valid_mask = band != 0  # Assume background = 0\n",
    "\n",
    "    valid_mask &= (band != 0)\n",
    "    trait_map += np.where(band != 0, band * coef, 0)\n",
    "\n",
    "# --- Step 2: Add Intercept ---\n",
    "trait_map += plsr_intercept\n",
    "\n",
    "# Mask invalid pixels\n",
    "trait_map[~valid_mask] = np.nan  # Or use -9999\n",
    "\n",
    "# --- Step 3: Save as GeoTIFF ---\n",
    "with rasterio.open(reference_tif) as src:\n",
    "    meta = src.meta.copy()\n",
    "    meta.update({\n",
    "        'count': 1,\n",
    "        'dtype': 'float32',\n",
    "        'nodata': np.nan  # or -9999\n",
    "    })\n",
    "\n",
    "    with rasterio.open(output_trait_tif, 'w', **meta) as dst:\n",
    "        dst.write(trait_map, 1)\n",
    "\n",
    "print(\"✅ Trait map saved with intercept:\", output_trait_tif)"
   ]
  },
  {
   "cell_type": "markdown",
   "id": "49395ef2-bf0b-4216-ad6c-3560a4d325b2",
   "metadata": {},
   "source": [
    "# d13c"
   ]
  },
  {
   "cell_type": "code",
   "execution_count": 13,
   "id": "1ad63d90-8916-466e-846e-afac8bdfdef2",
   "metadata": {},
   "outputs": [],
   "source": [
    "wavelengths_to_keep = [86, 96, 181, 95, 169, 171, 209, 146, 0, 228, 87, 40, 58, 98, 18, 183, 117, 61, 89, 222, 210, 79, 241, 237, 223, 92, 218, 224, 194, 38, 57, 242, 52, 233, 55, 112, 238, 197, 41, 110, 1, 15, 39, 108, 10, 225, 219, 8, 243, 50, 235, 12, 51, 7, 213, 27, 232, 5, 221, 14, 25, 33]\n",
    "plsr_coefficients = [-0.30803478125654393, -0.3091901585795726, -0.309430307443297, -0.3186082539644484, 0.31861810410169883, 0.32011048449382334, 0.32087559600944077, 0.3214428815427355, 0.32257676567662485, -0.3250216776180995, 0.3296310954531033, -0.3321274195346008, 0.335173624098908, -0.34302384850011997, -0.3540285835121761, 0.3551179825897131, -0.35994064927755504, -0.3644130454609374, -0.36726700339159685, -0.3700001897962956, -0.37500577351779846, 0.3762505894791036, -0.37889895821165537, -0.39029480738501543, -0.39605326431519705, -0.3963664397261505, -0.40824861896071035, -0.41610156514200514, 0.41751602351950867, -0.42010865636488026, -0.4241552142453665, -0.43767880053138153, 0.4401628255178513, -0.4445059984510955, -0.4691323467652969, 0.48334984888288923, -0.4834522874604301, -0.4951923275623913, 0.5123505529023916, 0.5209335280751927, 0.5263868360997597, 0.526578258540661, -0.538562310670475, 0.5480678521122199, 0.5513427971301622, -0.57653406657651, 0.6284577511930082, 0.6626608688827491, 0.6916679919642715, 0.723008812307664, -0.7578302198029001, -0.773629015675839, 0.7909497238572211, -0.7922916878102046, 0.8088767938732269, 0.848852884361944, -0.8671417020910048, -0.9649026668342744, -0.9877615292360339, 1.0204389745326816, 1.0275441363802345, -1.1552040777362806]"
   ]
  },
  {
   "cell_type": "code",
   "execution_count": 14,
   "id": "7d9eedc0-5972-44ff-afa4-f0a1dcded884",
   "metadata": {
    "scrolled": true
   },
   "outputs": [
    {
     "name": "stdout",
     "output_type": "stream",
     "text": [
      "Index 86: b87_mean\n",
      "Index 96: b97_mean\n",
      "Index 181: b60_std\n",
      "Index 95: b96_mean\n",
      "Index 169: b48_std\n",
      "Index 171: b50_std\n",
      "Index 209: b88_std\n",
      "Index 146: b25_std\n",
      "Index 0: b1_mean\n",
      "Index 228: b107_std\n",
      "Index 87: b88_mean\n",
      "Index 40: b41_mean\n",
      "Index 58: b59_mean\n",
      "Index 98: b99_mean\n",
      "Index 18: b19_mean\n",
      "Index 183: b62_std\n",
      "Index 117: b118_mean\n",
      "Index 61: b62_mean\n",
      "Index 89: b90_mean\n",
      "Index 222: b101_std\n",
      "Index 210: b89_std\n",
      "Index 79: b80_mean\n",
      "Index 241: b120_std\n",
      "Index 237: b116_std\n",
      "Index 223: b102_std\n",
      "Index 92: b93_mean\n",
      "Index 218: b97_std\n",
      "Index 224: b103_std\n",
      "Index 194: b73_std\n",
      "Index 38: b39_mean\n",
      "Index 57: b58_mean\n",
      "Index 242: b121_std\n",
      "Index 52: b53_mean\n",
      "Index 233: b112_std\n",
      "Index 55: b56_mean\n",
      "Index 112: b113_mean\n",
      "Index 238: b117_std\n",
      "Index 197: b76_std\n",
      "Index 41: b42_mean\n",
      "Index 110: b111_mean\n",
      "Index 1: b2_mean\n",
      "Index 15: b16_mean\n",
      "Index 39: b40_mean\n",
      "Index 108: b109_mean\n",
      "Index 10: b11_mean\n",
      "Index 225: b104_std\n",
      "Index 219: b98_std\n",
      "Index 8: b9_mean\n",
      "Index 243: b122_std\n",
      "Index 50: b51_mean\n",
      "Index 235: b114_std\n",
      "Index 12: b13_mean\n",
      "Index 51: b52_mean\n",
      "Index 7: b8_mean\n",
      "Index 213: b92_std\n",
      "Index 27: b28_mean\n",
      "Index 232: b111_std\n",
      "Index 5: b6_mean\n",
      "Index 221: b100_std\n",
      "Index 14: b15_mean\n",
      "Index 25: b26_mean\n",
      "Index 33: b34_mean\n"
     ]
    }
   ],
   "source": [
    "# Get corresponding names\n",
    "wavelength_names_to_keep = [wavelength_list[i] for i in wavelengths_to_keep]\n",
    "\n",
    "# Optional: print or save\n",
    "for i, name in zip(wavelengths_to_keep, wavelength_names_to_keep):\n",
    "    print(f\"Index {i}: {name}\")"
   ]
  },
  {
   "cell_type": "code",
   "execution_count": 15,
   "id": "1a2ea71d-79a2-4d7e-ab08-f5dbfbebd163",
   "metadata": {},
   "outputs": [],
   "source": [
    "trait_map = None\n",
    "valid_mask = None\n",
    "output_trait_tif = r'E:\\wenqu\\trait_map\\version2\\UAS_trait\\site6_d13c.tif'"
   ]
  },
  {
   "cell_type": "code",
   "execution_count": 16,
   "id": "875d094c-fb9a-4ead-a65f-e58e73b6add3",
   "metadata": {},
   "outputs": [
    {
     "name": "stdout",
     "output_type": "stream",
     "text": [
      "✅ Trait map saved with intercept: E:\\wenqu\\trait_map\\version2\\UAS_trait\\site6_d13c.tif\n"
     ]
    }
   ],
   "source": [
    "plsr_intercept = -28.112881077037038\n",
    "for i, idx in enumerate(wavelengths_to_keep):\n",
    "    band_name = wavelength_list[idx]\n",
    "    coef = plsr_coefficients[i]\n",
    "    band_path = os.path.join(npy_folder, f\"{band_name}.npy\")\n",
    "\n",
    "    band = np.load(band_path)\n",
    "\n",
    "    if trait_map is None:\n",
    "        trait_map = np.zeros_like(band, dtype=np.float32)\n",
    "        valid_mask = band != 0  # Assume background = 0\n",
    "\n",
    "    valid_mask &= (band != 0)\n",
    "    trait_map += np.where(band != 0, band * coef, 0)\n",
    "\n",
    "# --- Step 2: Add Intercept ---\n",
    "trait_map += plsr_intercept\n",
    "\n",
    "# Mask invalid pixels\n",
    "trait_map[~valid_mask] = np.nan  # Or use -9999\n",
    "\n",
    "# --- Step 3: Save as GeoTIFF ---\n",
    "with rasterio.open(reference_tif) as src:\n",
    "    meta = src.meta.copy()\n",
    "    meta.update({\n",
    "        'count': 1,\n",
    "        'dtype': 'float32',\n",
    "        'nodata': np.nan  # or -9999\n",
    "    })\n",
    "\n",
    "    with rasterio.open(output_trait_tif, 'w', **meta) as dst:\n",
    "        dst.write(trait_map, 1)\n",
    "\n",
    "print(\"✅ Trait map saved with intercept:\", output_trait_tif)"
   ]
  },
  {
   "cell_type": "markdown",
   "id": "75e0e217-c24b-456b-a1d7-c8a511cad5ad",
   "metadata": {},
   "source": [
    "# d15n"
   ]
  },
  {
   "cell_type": "code",
   "execution_count": 17,
   "id": "06abaf87-543f-428c-a573-48fbb52f5eac",
   "metadata": {},
   "outputs": [
    {
     "name": "stdout",
     "output_type": "stream",
     "text": [
      "✅ Trait map saved with intercept: E:\\wenqu\\trait_map\\version2\\UAS_trait\\site6_d15n.tif\n"
     ]
    }
   ],
   "source": [
    "wavelengths_to_keep = [85, 128, 153, 174, 26, 87, 215, 30, 97, 120, 111, 157, 143, 213, 122, 83, 69, 226, 210, 110, 19, 9, 93, 129, 123, 38, 112, 121, 45, 51, 222, 35, 211, 146, 2, 118, 209, 227, 189, 24, 10, 107, 239, 221, 114, 217, 220, 224, 119, 4, 212, 117, 42, 29, 31, 195, 201, 234, 23, 8, 237, 53, 27, 6, 197, 242, 17, 243, 214, 14, 235, 225]\n",
    "plsr_coefficients = [0.9140980102979295, 0.9144476096231873, -0.9146082273910064, -0.9485412710424151, -0.9499227021237059, 0.9532249271817974, 0.9580586643090439, 0.9639256626778836, 0.9686697011951236, -1.063151402494176, 1.066743539420401, 1.0896607739309245, -1.0958057470832208, -1.1313343532227167, -1.1767387663641702, 1.2196142367224654, 1.2426509949026965, -1.2629582984561536, 1.2646205400476196, 1.2664101996291226, -1.2859642906547626, -1.2875420357408491, 1.3273643113163398, -1.3678415655249423, -1.3799527788444013, -1.4023697428932382, 1.4075116732211248, -1.4214836182388721, -1.430111926219344, 1.4344487259526213, 1.434681667184215, -1.4413124176516026, -1.4587181792426704, 1.486321490159718, 1.5009985382548123, -1.5395131335273597, -1.554230637301919, 1.5780082819892844, 1.580558996311194, -1.59052566334428, -1.6393693338458393, -1.641404475121805, 1.6862954380232402, 1.7557238429576354, 1.7636303751372873, 1.8192504625646828, -1.8607135694554549, -1.8958032893594179, -1.938196017013042, -2.06969541340216, 2.0791720844999024, -2.100547233520778, -2.1859326129431174, -2.223742059810821, -2.29816072210745, 2.32368142005088, 2.384676696034253, -2.3955866256693032, 2.4600239930065064, -2.4749503743605596, 2.50807674862874, -2.5119560793144093, 2.718707803885946, 2.8090195443414174, -2.837804974188141, -3.13055191670304, 3.4886722209292964, 3.7096269545291563, 3.7550667253248893, 4.206297853434681, -4.35819555003968, -6.027581384943627]\n",
    "trait_map = None\n",
    "valid_mask = None\n",
    "output_trait_tif = r'E:\\wenqu\\trait_map\\version2\\UAS_trait\\site6_d15n.tif'\n",
    "plsr_intercept = -0.5962163170721928\n",
    "for i, idx in enumerate(wavelengths_to_keep):\n",
    "    band_name = wavelength_list[idx]\n",
    "    coef = plsr_coefficients[i]\n",
    "    band_path = os.path.join(npy_folder, f\"{band_name}.npy\")\n",
    "\n",
    "    band = np.load(band_path)\n",
    "\n",
    "    if trait_map is None:\n",
    "        trait_map = np.zeros_like(band, dtype=np.float32)\n",
    "        valid_mask = band != 0  # Assume background = 0\n",
    "\n",
    "    valid_mask &= (band != 0)\n",
    "    trait_map += np.where(band != 0, band * coef, 0)\n",
    "\n",
    "# --- Step 2: Add Intercept ---\n",
    "trait_map += plsr_intercept\n",
    "\n",
    "# Mask invalid pixels\n",
    "trait_map[~valid_mask] = np.nan  # Or use -9999\n",
    "\n",
    "# --- Step 3: Save as GeoTIFF ---\n",
    "with rasterio.open(reference_tif) as src:\n",
    "    meta = src.meta.copy()\n",
    "    meta.update({\n",
    "        'count': 1,\n",
    "        'dtype': 'float32',\n",
    "        'nodata': np.nan  # or -9999\n",
    "    })\n",
    "\n",
    "    with rasterio.open(output_trait_tif, 'w', **meta) as dst:\n",
    "        dst.write(trait_map, 1)\n",
    "\n",
    "print(\"✅ Trait map saved with intercept:\", output_trait_tif)"
   ]
  },
  {
   "cell_type": "markdown",
   "id": "8dcc23c4-ae25-4326-9b96-940b7810186d",
   "metadata": {},
   "source": [
    "# sla"
   ]
  },
  {
   "cell_type": "code",
   "execution_count": 18,
   "id": "4e84869c-c30f-4a0f-a8e1-c81697ab3f65",
   "metadata": {},
   "outputs": [
    {
     "name": "stdout",
     "output_type": "stream",
     "text": [
      "✅ Trait map saved with intercept: E:\\wenqu\\trait_map\\version2\\UAS_trait\\site6_sla.tif\n"
     ]
    }
   ],
   "source": [
    "wavelengths_to_keep = [16, 198, 31, 124, 213, 67, 196, 240, 241, 221, 243, 209, 12, 127, 210, 237, 231, 203, 0, 215, 15, 2, 47, 45, 205, 19, 35, 6, 27, 14, 233, 33, 11]\n",
    "plsr_coefficients =  [0.14527055060882854, 0.14672140218949575, 0.14793716132838355, -0.1551097419443583, -0.15675251260003448, 0.15675313180961978, 0.15702266494578385, -0.16748079009633743, 0.17161429529473965, -0.1748928929626924, -0.17608692658743233, -0.1828690879555462, 0.19491823727218982, 0.199302335145486, 0.2005582604547196, 0.20165963902424275, 0.2063458836037606, -0.20888763386798792, -0.21146808546751905, 0.22504753973452754, -0.24861414192837858, 0.284880535946116, -0.29231281597964487, -0.2975407425595558, -0.300832036014941, -0.302807300127804, 0.30718346535192903, -0.3161054421344861, 0.3239438166241627, -0.3553645443576455, 0.3621091235018669, 0.5349409452075634, 0.6136268198355564]\n",
    "wavelength_names_to_keep = [wavelength_list[i] for i in wavelengths_to_keep]\n",
    "trait_map = None\n",
    "valid_mask = None\n",
    "output_trait_tif = r'E:\\wenqu\\trait_map\\version2\\UAS_trait\\site6_sla.tif'\n",
    "plsr_intercept = 4.600539810210465\n",
    "for i, idx in enumerate(wavelengths_to_keep):\n",
    "    band_name = wavelength_list[idx]\n",
    "    coef = plsr_coefficients[i]\n",
    "    band_path = os.path.join(npy_folder, f\"{band_name}.npy\")\n",
    "\n",
    "    band = np.load(band_path)\n",
    "\n",
    "    if trait_map is None:\n",
    "        trait_map = np.zeros_like(band, dtype=np.float32)\n",
    "        valid_mask = band != 0  # Assume background = 0\n",
    "\n",
    "    valid_mask &= (band != 0)\n",
    "    trait_map += np.where(band != 0, band * coef, 0)\n",
    "\n",
    "# --- Step 2: Add Intercept ---\n",
    "trait_map += plsr_intercept\n",
    "\n",
    "# Mask invalid pixels\n",
    "trait_map[~valid_mask] = np.nan  # Or use -9999\n",
    "\n",
    "# --- Step 3: Save as GeoTIFF ---\n",
    "with rasterio.open(reference_tif) as src:\n",
    "    meta = src.meta.copy()\n",
    "    meta.update({\n",
    "        'count': 1,\n",
    "        'dtype': 'float32',\n",
    "        'nodata': np.nan  # or -9999\n",
    "    })\n",
    "\n",
    "    with rasterio.open(output_trait_tif, 'w', **meta) as dst:\n",
    "        dst.write(trait_map, 1)\n",
    "\n",
    "print(\"✅ Trait map saved with intercept:\", output_trait_tif)"
   ]
  },
  {
   "cell_type": "markdown",
   "id": "ba6aa625-f07a-4eba-8c15-420bf7f25068",
   "metadata": {},
   "source": [
    "# LDMC"
   ]
  },
  {
   "cell_type": "code",
   "execution_count": 19,
   "id": "a127610a-12bd-47e1-832d-8d5207b669a5",
   "metadata": {},
   "outputs": [
    {
     "name": "stdout",
     "output_type": "stream",
     "text": [
      "✅ Trait map saved with intercept: E:\\wenqu\\trait_map\\version2\\UAS_trait\\site6_LDMC.tif\n"
     ]
    }
   ],
   "source": [
    "wavelengths_to_keep = [65, 107, 228, 93, 41, 227, 235, 229, 212, 122, 165, 56, 116, 11, 207, 193, 47, 146, 48, 42, 73, 10, 104, 69, 242, 231, 118, 209, 83, 44, 234, 120, 20, 1, 31, 27, 232, 6, 187, 23, 15, 205, 57, 36, 213, 19, 4, 222, 0, 7, 9, 223]\n",
    "plsr_coefficients = [ 0.98383682, -0.12276518, -1.33804496,  1.6800128 ,  1.41423689,\n",
    "       -0.42758828,  0.19274206, -1.25004019, -1.4323122 ,  0.56629747,\n",
    "        0.48072745,  1.01165435, -0.17025011,  0.29359913,  1.20231314,\n",
    "       -0.68542141, -0.54429823, -0.89477865, -0.32720387,  0.88305026,\n",
    "       -1.34375385, -0.37061854,  0.70312415, -0.07807732,  0.60616969,\n",
    "       -0.58433385, -0.88241155, -1.24661389, -0.95657304, -1.09625684,\n",
    "        0.91355877, -0.20695696, -0.51420475, -0.33842043, -1.73189443,\n",
    "       -0.3539801 ,  0.60506447, -0.01447386, -1.56018434,  0.89910559,\n",
    "        0.84756275,  1.76144961,  0.36011081,  0.61153639,  1.1109495 ,\n",
    "       -0.86442866,  0.21789   ,  1.142534  ,  0.3686049 , -0.74180952,\n",
    "        0.35986758,  0.95343259]\n",
    "trait_map = None\n",
    "valid_mask = None\n",
    "output_trait_tif = r'E:\\wenqu\\trait_map\\version2\\UAS_trait\\site6_LDMC.tif'\n",
    "plsr_intercept = -0.5374162809831838\n",
    "for i, idx in enumerate(wavelengths_to_keep):\n",
    "    band_name = wavelength_list[idx]\n",
    "    coef = plsr_coefficients[i]\n",
    "    band_path = os.path.join(npy_folder, f\"{band_name}.npy\")\n",
    "\n",
    "    band = np.load(band_path)\n",
    "\n",
    "    if trait_map is None:\n",
    "        trait_map = np.zeros_like(band, dtype=np.float32)\n",
    "        valid_mask = band != 0  # Assume background = 0\n",
    "\n",
    "    valid_mask &= (band != 0)\n",
    "    trait_map += np.where(band != 0, band * coef, 0)\n",
    "\n",
    "# --- Step 2: Add Intercept ---\n",
    "trait_map += plsr_intercept\n",
    "\n",
    "# Mask invalid pixels\n",
    "trait_map[~valid_mask] = np.nan  # Or use -9999\n",
    "\n",
    "# --- Step 3: Save as GeoTIFF ---\n",
    "with rasterio.open(reference_tif) as src:\n",
    "    meta = src.meta.copy()\n",
    "    meta.update({\n",
    "        'count': 1,\n",
    "        'dtype': 'float32',\n",
    "        'nodata': np.nan  # or -9999\n",
    "    })\n",
    "\n",
    "    with rasterio.open(output_trait_tif, 'w', **meta) as dst:\n",
    "        dst.write(trait_map, 1)\n",
    "\n",
    "print(\"✅ Trait map saved with intercept:\", output_trait_tif)"
   ]
  },
  {
   "cell_type": "code",
   "execution_count": null,
   "id": "a514b54c-2c59-4ef7-9a3f-d83017b8d3bc",
   "metadata": {},
   "outputs": [],
   "source": []
  },
  {
   "cell_type": "code",
   "execution_count": null,
   "id": "ab515d72-edb0-4fdc-99eb-2e5b008b19ab",
   "metadata": {},
   "outputs": [],
   "source": []
  },
  {
   "cell_type": "code",
   "execution_count": null,
   "id": "d6613a6e-beda-4bd3-946d-0f0c0ce2ace9",
   "metadata": {},
   "outputs": [],
   "source": []
  },
  {
   "cell_type": "code",
   "execution_count": null,
   "id": "471e71f2-7105-4c6b-bc7f-8e3945e91e16",
   "metadata": {},
   "outputs": [],
   "source": []
  },
  {
   "cell_type": "code",
   "execution_count": null,
   "id": "78893b6f-cbff-443e-9496-a8e2479e3c63",
   "metadata": {},
   "outputs": [],
   "source": []
  },
  {
   "cell_type": "code",
   "execution_count": null,
   "id": "fe0aebce-527d-4150-b683-222ed99af6c4",
   "metadata": {},
   "outputs": [],
   "source": []
  },
  {
   "cell_type": "markdown",
   "id": "8b276df3-a2df-4709-be0b-f24daaa3d7f7",
   "metadata": {},
   "source": [
    "# stack each PFT layer"
   ]
  },
  {
   "cell_type": "code",
   "execution_count": 24,
   "id": "c1fedebb-e9fb-4c63-b11c-f80e6ce3b3d1",
   "metadata": {},
   "outputs": [],
   "source": [
    "# List your input .tif files\n",
    "tif_files = [\n",
    "    r'D:\\wenqu\\chapter1_2\\chapter2\\UAS_PFT\\site2c_graminoid.tif',\n",
    "    r'D:\\wenqu\\chapter1_2\\chapter2\\UAS_PFT\\site2c_lichen.tif',\n",
    "    r'D:\\wenqu\\chapter1_2\\chapter2\\UAS_PFT\\site2c_non_veg.tif',\n",
    "    r'D:\\wenqu\\chapter1_2\\chapter2\\UAS_PFT\\site2c_forbs.tif',\n",
    "    r'D:\\wenqu\\chapter1_2\\chapter2\\UAS_PFT\\site2c_evergreen.tif',\n",
    "    r'D:\\wenqu\\chapter1_2\\chapter2\\UAS_PFT\\site2c_deciduous_shrub.tif'\n",
    "]\n",
    "\n",
    "# Open the first file to use as reference for metadata\n",
    "with rasterio.open(tif_files[0]) as src0:\n",
    "    meta = src0.meta.copy()\n",
    "    width = src0.width\n",
    "    height = src0.height\n",
    "    dtype = src0.dtypes[0]\n",
    "    crs = src0.crs\n",
    "    transform = src0.transform\n",
    "\n",
    "# Update metadata for multi-band output\n",
    "meta.update({\n",
    "    \"count\": len(tif_files),\n",
    "    \"dtype\": dtype\n",
    "})\n",
    "\n",
    "# Output file path\n",
    "output_path = 'D:\\wenqu\\chapter1_2\\chapter2\\stack\\site2c_PFT_stack.tif'\n",
    "\n",
    "# Write stacked output\n",
    "with rasterio.open(output_path, 'w', **meta) as dst:\n",
    "    for i, path in enumerate(tif_files):\n",
    "        with rasterio.open(path) as src:\n",
    "            band = src.read(1)  # Read first band\n",
    "            dst.write(band, i + 1)  # Write as band i+1"
   ]
  },
  {
   "cell_type": "code",
   "execution_count": null,
   "id": "21bdd085-62c7-4f56-a7b8-b36ca4c20b48",
   "metadata": {},
   "outputs": [],
   "source": []
  },
  {
   "cell_type": "code",
   "execution_count": null,
   "id": "2d5a9aef-5a01-419b-a9e8-2f4f6356fba1",
   "metadata": {},
   "outputs": [],
   "source": []
  },
  {
   "cell_type": "code",
   "execution_count": 22,
   "id": "59a1197b-4157-421e-a9cf-d36ef62250cf",
   "metadata": {},
   "outputs": [
    {
     "name": "stdout",
     "output_type": "stream",
     "text": [
      "❌ Missing .npy files:\n",
      " - b35_mean.npy\n"
     ]
    }
   ],
   "source": [
    "import os\n",
    "\n",
    "# # Folder where .npy files are stored\n",
    "# npy_folder = r'D:\\your_folder_path\\band_npy'\n",
    "\n",
    "# # List of selected band names from your wavelength selection\n",
    "# wavelength_names_to_keep = [\n",
    "#     'b55_std', 'b72_mean', 'b62_std', 'b30_mean', 'b42_mean',\n",
    "#     'b63_mean', 'b117_std', 'b113_std', 'b11_std', 'b90_mean',\n",
    "#     'b1_mean', 'b81_std', 'b2_mean', 'b8_mean', 'b99_mean',\n",
    "#     # ... include your full list here\n",
    "# ]\n",
    "\n",
    "# Check which files are missing\n",
    "missing_files = []\n",
    "for name in wavelength_names_to_keep:\n",
    "    file_path = os.path.join(npy_folder, f\"{name}.npy\")\n",
    "    if not os.path.exists(file_path):\n",
    "        missing_files.append(name)\n",
    "\n",
    "# Output results\n",
    "if missing_files:\n",
    "    print(\"❌ Missing .npy files:\")\n",
    "    for name in missing_files:\n",
    "        print(f\" - {name}.npy\")\n",
    "else:\n",
    "    print(\"✅ All .npy files are present.\")\n"
   ]
  },
  {
   "cell_type": "code",
   "execution_count": null,
   "id": "75ab0f24-d664-4ba9-950c-8d27fc916208",
   "metadata": {},
   "outputs": [],
   "source": [
    "b85_mean\n",
    "b35_mean"
   ]
  },
  {
   "cell_type": "code",
   "execution_count": null,
   "id": "37a0ca03-2b2b-472b-8004-017c4b0448ae",
   "metadata": {},
   "outputs": [],
   "source": []
  }
 ],
 "metadata": {
  "kernelspec": {
   "display_name": "WChen_2025",
   "language": "python",
   "name": "wchen_2025"
  },
  "language_info": {
   "codemirror_mode": {
    "name": "ipython",
    "version": 3
   },
   "file_extension": ".py",
   "mimetype": "text/x-python",
   "name": "python",
   "nbconvert_exporter": "python",
   "pygments_lexer": "ipython3",
   "version": "3.9.15"
  }
 },
 "nbformat": 4,
 "nbformat_minor": 5
}
