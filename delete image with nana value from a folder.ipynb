{
 "cells": [
  {
   "cell_type": "markdown",
   "id": "a9f17843",
   "metadata": {},
   "source": [
    "## rename the file which prefix starts with site2a to site1b"
   ]
  },
  {
   "cell_type": "code",
   "execution_count": 10,
   "id": "2d803488",
   "metadata": {},
   "outputs": [],
   "source": [
    "import os\n",
    "\n",
    "# Set the directory path where the files are located\n",
    "directory = r\"F:\\wenqu\\Aviris\\site1b\\aviris_single_pixel_copy\"\n",
    "\n",
    "# Iterate through all files in the directory\n",
    "for filename in os.listdir(directory):\n",
    "    \n",
    "    # Check if the file has the prefix \"site2a\"\n",
    "    if filename.startswith(\"site2a\"):\n",
    "        \n",
    "        # Construct the new filename by replacing \"site2a\" with \"site1b\"\n",
    "        new_filename = filename.replace(\"site2a\", \"site1b\")\n",
    "        \n",
    "        # Rename the file\n",
    "        os.rename(os.path.join(directory, filename), os.path.join(directory, new_filename))\n"
   ]
  },
  {
   "cell_type": "markdown",
   "id": "67205235",
   "metadata": {},
   "source": [
    "## delete na aviris img first"
   ]
  },
  {
   "cell_type": "code",
   "execution_count": 1,
   "id": "35a6f2ee",
   "metadata": {},
   "outputs": [],
   "source": [
    "import os\n",
    "from osgeo import gdal, gdal_array\n",
    "import numpy as np\n",
    "\n",
    "na_aviris = []\n",
    "keep_aviris = []\n",
    "\n",
    "folder_path = r\"F:\\wenqu\\Aviris\\site6\\site6_aviris_single_pixel\"\n",
    "\n",
    "for filename in os.listdir(folder_path):\n",
    "    file_path = os.path.join(folder_path, filename)\n",
    "    if os.path.isfile(file_path) and filename.endswith('.tif'):\n",
    "        ds = gdal.Open(file_path).ReadAsArray()\n",
    "        if ds.max() > 0:\n",
    "            keep_aviris.append(filename)\n",
    "        else:\n",
    "            na_aviris.append(filename)\n",
    "            "
   ]
  },
  {
   "cell_type": "code",
   "execution_count": 2,
   "id": "01202be4",
   "metadata": {},
   "outputs": [
    {
     "data": {
      "text/plain": [
       "696"
      ]
     },
     "execution_count": 2,
     "metadata": {},
     "output_type": "execute_result"
    }
   ],
   "source": [
    "len(na_aviris)"
   ]
  },
  {
   "cell_type": "code",
   "execution_count": 3,
   "id": "97cb9539",
   "metadata": {},
   "outputs": [],
   "source": [
    "# Iterate over all files in the folder\n",
    "for filename in os.listdir(folder_path):\n",
    "    # Check if the file has the desired extension\n",
    "    if filename in na_aviris:\n",
    "        # Create the file path and remove the file\n",
    "        file_path = os.path.join(folder_path, filename)\n",
    "        os.remove(file_path)"
   ]
  },
  {
   "cell_type": "markdown",
   "id": "26ae81ff",
   "metadata": {},
   "source": [
    "## delete  the total balck trait img"
   ]
  },
  {
   "cell_type": "code",
   "execution_count": 1,
   "id": "97d6948c",
   "metadata": {},
   "outputs": [],
   "source": [
    "from osgeo import gdal\n",
    "import os"
   ]
  },
  {
   "cell_type": "code",
   "execution_count": 2,
   "id": "7e8fd095",
   "metadata": {},
   "outputs": [],
   "source": [
    "\n",
    "keep_file = []\n",
    "na_files = []"
   ]
  },
  {
   "cell_type": "code",
   "execution_count": 3,
   "id": "5f60fd0c",
   "metadata": {},
   "outputs": [],
   "source": [
    "import os\n",
    "from osgeo import gdal, gdal_array\n",
    "import numpy as np\n",
    "\n",
    "folder_path = r\"F:\\wenqu\\Aviris\\site6\\site6_clipped_trait\"\n",
    "\n",
    "for filename in os.listdir(folder_path):\n",
    "    file_path = os.path.join(folder_path, filename)\n",
    "    if os.path.isfile(file_path) and filename.endswith('.tif'):\n",
    "        ds = gdal.Open(file_path).ReadAsArray()\n",
    "        if ds.max() > 0:\n",
    "            keep_file.append(filename)\n",
    "        else:\n",
    "            na_files.append(filename)\n",
    "            \n",
    "\n",
    "\n"
   ]
  },
  {
   "cell_type": "code",
   "execution_count": 4,
   "id": "f3193373",
   "metadata": {},
   "outputs": [
    {
     "data": {
      "text/plain": [
       "2668"
      ]
     },
     "execution_count": 4,
     "metadata": {},
     "output_type": "execute_result"
    }
   ],
   "source": [
    "len(na_files)"
   ]
  },
  {
   "cell_type": "code",
   "execution_count": 5,
   "id": "abc765c5",
   "metadata": {},
   "outputs": [],
   "source": [
    "# Iterate over all files in the folder\n",
    "for filename in os.listdir(folder_path):\n",
    "    # Check if the file has the desired extension\n",
    "    if filename in na_files:\n",
    "        # Create the file path and remove the file\n",
    "        file_path = os.path.join(folder_path, filename)\n",
    "        os.remove(file_path)"
   ]
  },
  {
   "cell_type": "markdown",
   "id": "ca4f3316",
   "metadata": {},
   "source": [
    "## remove the corresponding aivirs as well because there is no trait data"
   ]
  },
  {
   "cell_type": "code",
   "execution_count": 6,
   "id": "c034d5b4",
   "metadata": {},
   "outputs": [],
   "source": [
    "aviris_folder = r'F:\\wenqu\\Aviris\\site6\\site6_aviris_single_pixel'\n",
    "# Iterate over all files in the folder\n",
    "for filename in os.listdir(aviris_folder):\n",
    "    # Check if the file has the desired extension\n",
    "    if filename in na_files:\n",
    "        # Create the file path and remove the file\n",
    "        file_path = os.path.join(aviris_folder, filename)\n",
    "        os.remove(file_path)"
   ]
  },
  {
   "cell_type": "markdown",
   "id": "38039059",
   "metadata": {},
   "source": [
    "## make sure the number is match after delete"
   ]
  },
  {
   "cell_type": "code",
   "execution_count": 7,
   "id": "5d58eec5",
   "metadata": {},
   "outputs": [],
   "source": [
    "aviris_after_deldete = []\n",
    "trait_after_delete = []\n",
    "trait_folder_path = r\"F:\\wenqu\\Aviris\\site6\\site6_clipped_trait\"\n",
    "aviris_folder_path = r'F:\\wenqu\\Aviris\\site6\\site6_aviris_single_pixel'\n"
   ]
  },
  {
   "cell_type": "code",
   "execution_count": 8,
   "id": "626f4912",
   "metadata": {},
   "outputs": [],
   "source": [
    "for trait_filename in os.listdir(trait_folder_path):\n",
    "    if trait_filename.endswith('.tif'):\n",
    "        trait_after_delete.append(trait_filename)"
   ]
  },
  {
   "cell_type": "code",
   "execution_count": 9,
   "id": "99afe8e2",
   "metadata": {},
   "outputs": [],
   "source": [
    "for aviris_filename in os.listdir(aviris_folder_path):\n",
    "    if aviris_filename.endswith('.tif'):\n",
    "        aviris_after_deldete.append(aviris_filename)"
   ]
  },
  {
   "cell_type": "code",
   "execution_count": 10,
   "id": "bcdc6ab1",
   "metadata": {},
   "outputs": [
    {
     "name": "stdout",
     "output_type": "stream",
     "text": [
      "479 479\n"
     ]
    }
   ],
   "source": [
    "print(len(aviris_after_deldete), len(trait_after_delete))"
   ]
  },
  {
   "cell_type": "code",
   "execution_count": null,
   "id": "c1597c9d",
   "metadata": {},
   "outputs": [],
   "source": []
  }
 ],
 "metadata": {
  "kernelspec": {
   "display_name": "wenqu_gdal",
   "language": "python",
   "name": "wenqu_gdal"
  },
  "language_info": {
   "codemirror_mode": {
    "name": "ipython",
    "version": 3
   },
   "file_extension": ".py",
   "mimetype": "text/x-python",
   "name": "python",
   "nbconvert_exporter": "python",
   "pygments_lexer": "ipython3",
   "version": "3.9.15"
  }
 },
 "nbformat": 4,
 "nbformat_minor": 5
}
