{
 "cells": [
  {
   "cell_type": "code",
   "execution_count": 1,
   "id": "345dee15",
   "metadata": {},
   "outputs": [
    {
     "name": "stdout",
     "output_type": "stream",
     "text": [
      "['b101_mean.npy', 'b103_mean.npy', 'b103_std.npy', 'b104_mean.npy', 'b104_std.npy', 'b105_mean.npy', 'b105_std.npy', 'b106_mean.npy', 'b106_std.npy', 'b107_std.npy', 'b108_mean.npy', 'b108_std.npy', 'b109_mean.npy', 'b109_std.npy', 'b10_mean.npy', 'b10_std.npy', 'b110_mean.npy', 'b110_std.npy', 'b111_std.npy', 'b113_mean.npy', 'b113_std.npy', 'b114_mean.npy', 'b115_std.npy', 'b116_std.npy', 'b117_mean.npy', 'b117_std.npy', 'b118_std.npy', 'b119_std.npy', 'b11_mean.npy', 'b11_std.npy', 'b120_mean.npy', 'b121_std.npy', 'b122_mean.npy', 'b122_std.npy', 'b12_std.npy', 'b14_mean.npy', 'b14_std.npy', 'b15_std.npy', 'b16_mean.npy', 'b16_std.npy', 'b17_std.npy', 'b19_mean.npy', 'b19_std.npy', 'b1_mean.npy', 'b1_std.npy', 'b20_mean.npy', 'b20_std.npy', 'b21_std.npy', 'b23_std.npy', 'b24_mean.npy', 'b24_std.npy', 'b25_mean.npy', 'b25_std.npy', 'b26_mean.npy', 'b26_std.npy', 'b27_mean.npy', 'b28_mean.npy', 'b28_std.npy', 'b29_std.npy', 'b30_mean.npy', 'b30_std.npy', 'b31_std.npy', 'b32_std.npy', 'b33_std.npy', 'b35_std.npy', 'b37_std.npy', 'b39_std.npy', 'b3_mean.npy', 'b3_std.npy', 'b40_std.npy', 'b41_mean.npy', 'b41_std.npy', 'b42_std.npy', 'b43_std.npy', 'b45_std.npy', 'b46_mean.npy', 'b46_std.npy', 'b47_mean.npy', 'b47_std.npy', 'b48_mean.npy', 'b49_mean.npy', 'b4_mean.npy', 'b4_std.npy', 'b50_mean.npy', 'b53_std.npy', 'b54_mean.npy', 'b55_mean.npy', 'b56_mean.npy', 'b57_mean.npy', 'b57_std.npy', 'b59_std.npy', 'b5_mean.npy', 'b5_std.npy', 'b60_std.npy', 'b62_mean.npy', 'b63_std.npy', 'b67_mean.npy', 'b67_std.npy', 'b68_mean.npy', 'b68_std.npy', 'b69_mean.npy', 'b69_std.npy', 'b6_mean.npy', 'b6_std.npy', 'b75_std.npy', 'b7_mean.npy', 'b84_std.npy', 'b85_std.npy', 'b86_std.npy', 'b89_std.npy', 'b8_mean.npy', 'b8_std.npy', 'b91_std.npy', 'b93_std.npy', 'b96_std.npy', 'b97_std.npy', 'b98_std.npy', 'b99_std.npy', 'b9_mean.npy', 'b9_std.npy']\n"
     ]
    }
   ],
   "source": [
    "import os\n",
    "\n",
    "folder_path = r'D:\\wenqu\\simulation\\npy_file\\site2a'  # Replace with the actual folder path\n",
    "\n",
    "file_list = os.listdir(folder_path)\n",
    "\n",
    "print(file_list)\n"
   ]
  },
  {
   "cell_type": "code",
   "execution_count": 2,
   "id": "5e4f5015",
   "metadata": {},
   "outputs": [
    {
     "name": "stdout",
     "output_type": "stream",
     "text": [
      "['b101_mean', 'b103_mean', 'b103_std', 'b104_mean', 'b104_std', 'b105_mean', 'b105_std', 'b106_mean', 'b106_std', 'b107_std', 'b108_mean', 'b108_std', 'b109_mean', 'b109_std', 'b10_mean', 'b10_std', 'b110_mean', 'b110_std', 'b111_std', 'b113_mean', 'b113_std', 'b114_mean', 'b115_std', 'b116_std', 'b117_mean', 'b117_std', 'b118_std', 'b119_std', 'b11_mean', 'b11_std', 'b120_mean', 'b121_std', 'b122_mean', 'b122_std', 'b12_std', 'b14_mean', 'b14_std', 'b15_std', 'b16_mean', 'b16_std', 'b17_std', 'b19_mean', 'b19_std', 'b1_mean', 'b1_std', 'b20_mean', 'b20_std', 'b21_std', 'b23_std', 'b24_mean', 'b24_std', 'b25_mean', 'b25_std', 'b26_mean', 'b26_std', 'b27_mean', 'b28_mean', 'b28_std', 'b29_std', 'b30_mean', 'b30_std', 'b31_std', 'b32_std', 'b33_std', 'b35_std', 'b37_std', 'b39_std', 'b3_mean', 'b3_std', 'b40_std', 'b41_mean', 'b41_std', 'b42_std', 'b43_std', 'b45_std', 'b46_mean', 'b46_std', 'b47_mean', 'b47_std', 'b48_mean', 'b49_mean', 'b4_mean', 'b4_std', 'b50_mean', 'b53_std', 'b54_mean', 'b55_mean', 'b56_mean', 'b57_mean', 'b57_std', 'b59_std', 'b5_mean', 'b5_std', 'b60_std', 'b62_mean', 'b63_std', 'b67_mean', 'b67_std', 'b68_mean', 'b68_std', 'b69_mean', 'b69_std', 'b6_mean', 'b6_std', 'b75_std', 'b7_mean', 'b84_std', 'b85_std', 'b86_std', 'b89_std', 'b8_mean', 'b8_std', 'b91_std', 'b93_std', 'b96_std', 'b97_std', 'b98_std', 'b99_std', 'b9_mean', 'b9_std'] 120\n"
     ]
    }
   ],
   "source": [
    "\n",
    "\n",
    "new_list = [file_name[:-4] for file_name in file_list if file_name.endswith('.npy')]\n",
    "\n",
    "print(new_list, len(new_list))\n"
   ]
  },
  {
   "cell_type": "code",
   "execution_count": 3,
   "id": "54b2a257",
   "metadata": {},
   "outputs": [],
   "source": [
    "pc_list = ['b117_std', 'b119_std', 'b107_std', 'b111_std', 'b17_std', 'b5_mean',\n",
    "            'b121_std', 'b9_std', 'b23_std', 'b1_std', 'b9_mean', 'b6_mean', 'b46_std',\n",
    "            'b109_std', 'b37_std', 'b108_std', 'b42_std', 'b1_mean', 'b108_mean', 'b15_std',\n",
    "            'b97_std', 'b45_std', 'b10_mean', 'b85_std', 'b48_mean', 'b25_std', 'b109_mean',\n",
    "            'b24_std', 'b113_std', 'b86_std', 'b46_mean', 'b39_std', 'b84_std', 'b29_std',\n",
    "            'b20_mean', 'b16_mean', 'b68_std', 'b67_std', 'b19_std', 'b11_std', 'b11_mean',\n",
    "            'b14_mean', 'b60_std', 'b114_mean', 'b31_std', 'b104_std', 'b47_std', 'b32_std',\n",
    "            'b123_mean', 'b122_mean', 'b20_std', 'b47_mean', 'b12_std', 'b24_mean',\n",
    "            'b8_std', 'b105_mean', 'b30_std', 'b113_mean', 'b98_std', 'b103_mean',\n",
    "           'b8_mean', 'b63_std', 'b62_mean', 'b40_std', 'b19_mean', 'b104_mean']"
   ]
  },
  {
   "cell_type": "code",
   "execution_count": 4,
   "id": "827823bd",
   "metadata": {},
   "outputs": [
    {
     "name": "stdout",
     "output_type": "stream",
     "text": [
      "['b29_std', 'b1_mean', 'b8_mean', 'b26_std', 'b10_std', 'b26_mean', 'b107_std', 'b108_mean', 'b114_mean', 'b49_mean', 'b14_mean', 'b42_std', 'b43_std', 'b113_std', 'b89_std', 'b33_std', 'b105_std', 'b46_std', 'b20_std', 'b55_mean', 'b54_mean', 'b47_std', 'b120_mean', 'b16_mean', 'b117_mean', 'b30_mean', 'b27_mean', 'b85_std', 'b68_mean', 'b108_std', 'b115_std', 'b93_std', 'b25_mean', 'b12_std', 'b45_std', 'b32_std', 'b69_mean', 'b3_mean', 'b106_mean', 'b24_mean', 'b56_mean', 'b4_std', 'b53_std', 'b41_mean', 'b103_std', 'b6_mean', 'b109_std', 'b96_std', 'b37_std', 'b121_std', 'b40_std', 'b4_mean', 'b17_std', 'b99_std', 'b9_std', 'b57_mean', 'b28_std', 'b9_mean', 'b10_mean', 'b47_mean', 'b122_mean', 'b5_std', 'b14_std', 'b69_std', 'b62_mean', 'b119_std', 'b5_mean', 'b19_mean', 'b59_std', 'b67_mean', 'b118_std', 'b50_mean', 'b122_std', 'b111_std']\n"
     ]
    }
   ],
   "source": [
    "set1 = set(new_list)\n",
    "set2 = set(d13c)\n",
    "\n",
    "common_items = set1.intersection(set2)\n",
    "\n",
    "common_list = list(common_items)\n",
    "\n",
    "print(common_list) "
   ]
  },
  {
   "cell_type": "code",
   "execution_count": 5,
   "id": "bb2ab106",
   "metadata": {},
   "outputs": [
    {
     "name": "stdout",
     "output_type": "stream",
     "text": [
      "['b7_std', 'b101_mean', 'b43_mean', 'b16_std', 'b15_std', 'b30_std', 'b41_std', 'b112_std', 'b104_mean', 'b68_std', 'b46_mean', 'b33_mean', 'b115_mean', 'b11_std', 'b105_mean', 'b61_std', 'b67_std', 'b20_mean', 'b6_std', 'b60_std', 'b97_std', 'b110_mean', 'b110_std', 'b28_mean', 'b31_std', 'b31_mean', 'b70_mean', 'b34_std', 'b79_std', 'b109_mean', 'b86_std', 'b57_std', 'b7_mean', 'b8_std', 'b1_std', 'b56_std', 'b39_std', 'b66_mean', 'b116_std', 'b103_mean', 'b48_mean', 'b101_std', 'b23_std', 'b113_mean', 'b35_std', 'b21_std', 'b91_std', 'b24_std', 'b99_mean', 'b106_std', 'b63_std', 'b13_std', 'b98_std', 'b117_std', 'b11_mean', 'b25_std', 'b19_std', 'b15_mean', 'b104_std', 'b75_std', 'b3_std', 'b84_std']\n"
     ]
    }
   ],
   "source": [
    "different_items = set1.symmetric_difference(set2)\n",
    "\n",
    "different_list = list(different_items)\n",
    "\n",
    "print(different_list)"
   ]
  },
  {
   "cell_type": "code",
   "execution_count": 6,
   "id": "8f739e77",
   "metadata": {},
   "outputs": [
    {
     "data": {
      "text/plain": [
       "90"
      ]
     },
     "execution_count": 6,
     "metadata": {},
     "output_type": "execute_result"
    }
   ],
   "source": [
    "d13c = ['b111_std', 'b26_std', 'b108_mean', 'b17_std', 'b26_mean', 'b10_mean',\n",
    " 'b109_std', 'b122_mean', 'b6_mean', 'b3_mean', 'b121_std', 'b118_std',\n",
    " 'b1_mean', 'b107_std', 'b9_mean', 'b14_std', 'b119_std', 'b32_std', 'b29_std',\n",
    " 'b93_std', 'b8_mean', 'b54_mean', 'b99_std', 'b45_std', 'b55_mean', 'b50_mean',\n",
    " 'b13_std', 'b40_std', 'b117_mean', 'b37_std', 'b7_std', 'b61_std', 'b4_mean',\n",
    " 'b59_std', 'b47_mean', 'b89_std', 'b42_std', 'b56_mean', 'b115_std', 'b16_mean',\n",
    " 'b33_mean', 'b27_mean', 'b12_std', 'b57_mean', 'b34_std', 'b68_mean',\n",
    " 'b99_mean', 'b5_std','b105_std', 'b41_mean', 'b33_std', 'b85_std', 'b19_mean',\n",
    " 'b67_mean', 'b79_std', 'b69_std', 'b69_mean', 'b20_std', 'b4_std', 'b25_mean',\n",
    " 'b5_mean', 'b53_std', 'b122_std', 'b49_mean', 'b14_mean', 'b103_std',\n",
    " 'b106_mean', 'b31_mean', 'b28_std', 'b43_mean', 'b114_mean', 'b30_mean',\n",
    " 'b115_mean', 'b9_std', 'b47_std', 'b96_std', 'b56_std', 'b10_std', 'b46_std',\n",
    " 'b43_std', 'b62_mean', 'b24_mean', 'b15_mean', 'b112_std', 'b113_std',\n",
    " 'b120_mean', 'b70_mean', 'b108_std' ,'b101_std', 'b66_mean']\n",
    "len(d13c)"
   ]
  },
  {
   "cell_type": "code",
   "execution_count": null,
   "id": "4f79df5d",
   "metadata": {},
   "outputs": [],
   "source": [
    "pn = ['b7_mean', 'b52_std', 'b120_std' ,'b118_mean', 'b13_mean','b61_std', 'b59_std',\n",
    " 'b109_std', 'b29_std', 'b103_std', 'b60_std', 'b37_std', 'b34_std', 'b101_std',\n",
    " 'b15_std', 'b122_mean', 'b57_mean', 'b17_std', 'b6_std', 'b22_std', 'b114_std',\n",
    " 'b56_std', 'b2_std', 'b7_std', 'b111_mean', 'b111_std', 'b113_mean', 'b15_mean',\n",
    " 'b101_mean', 'b63_std', 'b41_std', 'b117_std', 'b26_std', 'b21_mean', 'b65_std',\n",
    " 'b93_std', 'b58_std', 'b11_std', 'b56_mean', 'b28_std', 'b32_std', 'b9_std',\n",
    " 'b5_std', 'b24_std', 'b99_std', 'b48_std', 'b13_std', 'b64_std', 'b9_mean',\n",
    " 'b8_mean' 'b1_mean' 'b118_std' 'b83_std' 'b78_std' 'b50_std' 'b12_mean',\n",
    " 'b16_std', 'b66_std', 'b8_std', 'b27_std', 'b104_mean', 'b53_std', 'b109_mean',\n",
    " 'b18_std', 'b35_std', 'b16_mean', 'b3_mean', 'b31_std', 'b72_std', 'b82_std',\n",
    " 'b95_std', 'b23_mean', 'b61_mean', 'b67_std', 'b108_std', 'b89_std', 'b110_std',\n",
    " 'b117_mean', 'b59_mean', 'b116_std', 'b85_std', 'b66_mean', 'b102_std',\n",
    " 'b107_std']"
   ]
  },
  {
   "cell_type": "code",
   "execution_count": null,
   "id": "8b829dc0",
   "metadata": {},
   "outputs": [],
   "source": [
    "d15n = ['b118_std', 'b108_mean', 'b120_std', 'b113_std', 'b99_std', 'b8_mean',\n",
    " 'b3_mean', 'b15_std', 'b101_std', 'b7_mean', 'b9_std', 'b98_std', 'b11_std',\n",
    " 'b18_std', 'b109_std', 'b107_mean', 'b23_std', 'b14_std', 'b25_std', 'b91_std',\n",
    " 'b13_std', 'b14_mean', 'b122_mean', 'b111_mean', 'b26_mean', 'b10_std',\n",
    " 'b38_std']"
   ]
  },
  {
   "cell_type": "code",
   "execution_count": null,
   "id": "1068e143",
   "metadata": {},
   "outputs": [],
   "source": [
    "sla = ['b12_std', 'b107_std', 'b3_mean', 'b2_mean', 'b25_std', 'b103_std', 'b8_mean',\n",
    " 'b8_std', 'b98_std', 'b7_std', 'b9_std', 'b116_std', 'b7_mean', 'b113_std',\n",
    " 'b17_std', 'b59_std', 'b60_mean', 'b108_std', 'b52_std', 'b112_mean',\n",
    " 'b121_mean', 'b16_std', 'b59_mean', 'b86_std', 'b97_std', 'b91_std', 'b119_std',\n",
    " 'b48_std', 'b1_mean', 'b29_std', 'b5_std', 'b6_mean', 'b41_std', 'b117_mean',\n",
    " 'b102_std', 'b14_std', 'b46_std' 'b13_std', 'b117_std', 'b90_mean', 'b96_std',\n",
    " 'b18_std']"
   ]
  },
  {
   "cell_type": "code",
   "execution_count": null,
   "id": "24ecf0e3",
   "metadata": {},
   "outputs": [],
   "source": [
    "la = ['b120_std' 'b4_mean' 'b12_std' 'b103_std' 'b7_std' 'b8_std' 'b107_std'\n",
    " 'b108_mean' 'b122_std' 'b10_std' 'b5_mean' 'b2_mean' 'b52_std'\n",
    " 'b110_mean' 'b1_mean' 'b15_mean' 'b11_std' 'b56_std' 'b65_std' 'b105_std'\n",
    " 'b116_std' 'b32_std' 'b108_std' 'b6_std' 'b24_std' 'b64_std' 'b75_mean'\n",
    " 'b42_std']"
   ]
  },
  {
   "cell_type": "code",
   "execution_count": null,
   "id": "2a48bf29",
   "metadata": {},
   "outputs": [],
   "source": [
    "ldmc = ['b12_std' 'b107_std' 'b114_std' 'b122_mean' 'b104_std' 'b118_std'\n",
    " 'b29_std' 'b103_std' 'b7_mean' 'b49_std' 'b100_std' 'b22_std' 'b19_mean'\n",
    " 'b4_mean' 'b106_std' 'b117_std' 'b10_mean' 'b11_std' 'b118_mean'\n",
    " 'b33_std' 'b111_mean' 'b2_std' 'b3_mean' 'b113_std' 'b25_std' 'b41_std'\n",
    " 'b6_std' 'b16_std' 'b51_std' 'b16_mean']"
   ]
  }
 ],
 "metadata": {
  "kernelspec": {
   "display_name": "wenqu_gpu",
   "language": "python",
   "name": "wenqu_gpu"
  },
  "language_info": {
   "codemirror_mode": {
    "name": "ipython",
    "version": 3
   },
   "file_extension": ".py",
   "mimetype": "text/x-python",
   "name": "python",
   "nbconvert_exporter": "python",
   "pygments_lexer": "ipython3",
   "version": "3.9.15"
  }
 },
 "nbformat": 4,
 "nbformat_minor": 5
}
