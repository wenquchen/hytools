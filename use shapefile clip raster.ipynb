{
 "cells": [
  {
   "cell_type": "code",
   "execution_count": 2,
   "id": "a5017d1b",
   "metadata": {},
   "outputs": [],
   "source": [
    "import rasterio\n",
    "from rasterio.mask import mask\n",
    "import geopandas as gpd\n",
    "import numpy\n",
    "# Load the shapefile\n",
    "shapefile_path = r'E:\\wenqu\\aviris\\arctic_region\\NDVI\\shapefile_final\\site2a_mask1.shp'\n",
    "shapes = gpd.read_file(shapefile_path)\n",
    "\n",
    "# Load the raster file\n",
    "raster_path = r'E:\\wenqu\\segmentationn\\tasseled_cap_greeness\\MASKED\\site2a_TP.tif'\n",
    "with rasterio.open(raster_path) as src:\n",
    "    # Define a nodata value. This should be a value that's not in your dataset\n",
    "    nodata_value = 0\n",
    "#     nodata_value = numpy.nan  # You can change this value based on your data\n",
    "\n",
    "\n",
    "    # Clip the raster with the polygon\n",
    "    out_image, out_transform = mask(src, shapes.geometry, crop=True, nodata=nodata_value, filled=True)\n",
    "\n",
    "\n",
    "    # Copy the metadata\n",
    "    out_meta = src.meta.copy()\n",
    "\n",
    "# Update the metadata with new shape, transform, CRS, and nodata value\n",
    "out_meta.update({\"driver\": \"GTiff\",\n",
    "                 \"height\": out_image.shape[1],\n",
    "                 \"width\": out_image.shape[2],\n",
    "                 \"transform\": out_transform,\n",
    "                 \"nodata\": nodata_value})  # Set the nodata value in the metadata\n",
    "\n",
    "# Write the clipped raster to a new file\n",
    "clipped_raster_path = r'E:\\wenqu\\segmentationn\\tasseled_cap_greeness\\MASKED\\site2a_TP1.tif'\n",
    "with rasterio.open(clipped_raster_path, \"w\", **out_meta) as dest:\n",
    "    dest.write(out_image)\n"
   ]
  },
  {
   "cell_type": "code",
   "execution_count": null,
   "id": "643c3e0b",
   "metadata": {},
   "outputs": [],
   "source": []
  },
  {
   "cell_type": "code",
   "execution_count": null,
   "id": "c2e9df56",
   "metadata": {},
   "outputs": [],
   "source": []
  }
 ],
 "metadata": {
  "kernelspec": {
   "display_name": "wenqu_gpu",
   "language": "python",
   "name": "wenqu_gpu"
  },
  "language_info": {
   "codemirror_mode": {
    "name": "ipython",
    "version": 3
   },
   "file_extension": ".py",
   "mimetype": "text/x-python",
   "name": "python",
   "nbconvert_exporter": "python",
   "pygments_lexer": "ipython3",
   "version": "3.9.15"
  }
 },
 "nbformat": 4,
 "nbformat_minor": 5
}
