{
 "cells": [
  {
   "cell_type": "code",
   "execution_count": 1,
   "id": "bd46d4f3",
   "metadata": {},
   "outputs": [
    {
     "name": "stdout",
     "output_type": "stream",
     "text": [
      "Unique categories: [0 1 2 3]\n",
      "Number of unique categories: 4\n"
     ]
    }
   ],
   "source": [
    "import rasterio\n",
    "import numpy as np\n",
    "\n",
    "# Path to your raster TIFF file\n",
    "tif_path = r'F:\\wenqu\\Aviris\\classification\\site4a_classified_image_svm.tif'\n",
    "\n",
    "# Open the raster file\n",
    "with rasterio.open(tif_path) as src:\n",
    "    # Assuming you're interested in the first band\n",
    "    band1 = src.read(1)\n",
    "    \n",
    "    # Find the unique values (categories) in the band\n",
    "    unique_values = np.unique(band1)\n",
    "    \n",
    "    # Print the unique values and their count\n",
    "    print(f\"Unique categories: {unique_values}\")\n",
    "    print(f\"Number of unique categories: {len(unique_values)}\")\n"
   ]
  },
  {
   "cell_type": "code",
   "execution_count": 9,
   "id": "3b7d0c44",
   "metadata": {},
   "outputs": [],
   "source": [
    "import rasterio\n",
    "from rasterio.enums import Resampling\n",
    "\n",
    "# Path to your original raster TIFF file\n",
    "input_tif_path = r'F:\\wenqu\\Aviris\\classification\\site7_classified_image_svm.tif'\n",
    "\n",
    "# Path where you want to save the new TIFF file\n",
    "output_tif_path = r'F:\\wenqu\\Aviris\\classification\\veg_maks\\site7_veg.tif'\n",
    "\n",
    "# Open the original TIFF file\n",
    "with rasterio.open(input_tif_path) as src:\n",
    "    # Read the first band\n",
    "    band1 = src.read(1)\n",
    "    \n",
    "    # Create a mask where pixel values are equal to 2\n",
    "    mask = (band1 == 1) \n",
    "    \n",
    "    # Prepare metadata for the new TIFF file\n",
    "    out_meta = src.meta.copy()\n",
    "    out_meta.update({\n",
    "        'dtype': 'uint8',  # Change data type to uint8 if it's not already\n",
    "        'count': 1,  # Number of bands\n",
    "        'nodata': 0  # Set no-data value to 0\n",
    "    })\n",
    "    \n",
    "    # Write the mask as a new TIFF file\n",
    "    with rasterio.open(output_tif_path, 'w', **out_meta) as out_dataset:\n",
    "        out_dataset.write(mask.astype(rasterio.uint8), 1)\n"
   ]
  },
  {
   "cell_type": "code",
   "execution_count": 8,
   "id": "060c73b3",
   "metadata": {},
   "outputs": [
    {
     "name": "stdout",
     "output_type": "stream",
     "text": [
      "Shapefile saved to F:/wenqu/Aviris/classification/veg_maks/shapefile/site7_veg.shp\n"
     ]
    }
   ],
   "source": [
    "import rasterio\n",
    "from rasterio.features import shapes\n",
    "import geopandas as gpd\n",
    "from shapely.geometry import shape\n",
    "\n",
    "# Path to your mask raster\n",
    "mask_raster_path = 'F:/wenqu/Aviris/classification/veg_maks/site7_veg.tif'\n",
    "# Output path for the shapefile\n",
    "output_shapefile_path = 'F:/wenqu/Aviris/classification/veg_maks/shapefile/site7_veg.shp'\n",
    "\n",
    "# Open the raster file\n",
    "with rasterio.open(mask_raster_path) as src:\n",
    "    # Read the raster data\n",
    "    image = src.read(1)  # Read the first band\n",
    "    \n",
    "    # Masking condition, assuming 1 for mask and 0 for no mask\n",
    "    mask = image == 1\n",
    "    \n",
    "    # Extract shapes and values from the raster\n",
    "    results = list(shapes(src.read(1), mask=mask, transform=src.transform))\n",
    "    \n",
    "    # Convert results to GeoDataFrame\n",
    "    geoms = [shape(geom) for geom, _ in results]\n",
    "    gdf = gpd.GeoDataFrame({'geometry': geoms})\n",
    "    \n",
    "    # Set the CRS (Coordinate Reference System) from the raster\n",
    "    gdf.crs = src.crs\n",
    "    \n",
    "    # Save to shapefile\n",
    "    gdf.to_file(output_shapefile_path)\n",
    "\n",
    "print(f\"Shapefile saved to {output_shapefile_path}\")\n"
   ]
  },
  {
   "cell_type": "code",
   "execution_count": 12,
   "id": "4274cf63",
   "metadata": {},
   "outputs": [],
   "source": [
    "import rasterio\n",
    "from rasterio.mask import mask\n",
    "import geopandas as gpd\n",
    "import numpy\n",
    "# Load the shapefile\n",
    "shapefile_path = r'F:\\wenqu\\Aviris\\classification\\veg_maks\\shapefile\\site7_veg.shp'\n",
    "shapes = gpd.read_file(shapefile_path)\n",
    "\n",
    "# Load the raster file\n",
    "raster_path = r'F:\\wenqu\\Aviris\\seven_sites_trait_map\\site7_sla_ymax.tif'\n",
    "with rasterio.open(raster_path) as src:\n",
    "    # Define a nodata value. This should be a value that's not in your dataset\n",
    "    nodata_value = 0\n",
    "#     nodata_value = numpy.nan  # You can change this value based on your data\n",
    "\n",
    "\n",
    "    # Clip the raster with the polygon\n",
    "    out_image, out_transform = mask(src, shapes.geometry, crop=True, nodata=nodata_value, filled=True)\n",
    "\n",
    "\n",
    "    # Copy the metadata\n",
    "    out_meta = src.meta.copy()\n",
    "\n",
    "# Update the metadata with new shape, transform, CRS, and nodata value\n",
    "out_meta.update({\"driver\": \"GTiff\",\n",
    "                 \"height\": out_image.shape[1],\n",
    "                 \"width\": out_image.shape[2],\n",
    "                 \"transform\": out_transform,\n",
    "                 \"nodata\": nodata_value})  # Set the nodata value in the metadata\n",
    "\n",
    "# Write the clipped raster to a new file\n",
    "clipped_raster_path = r'F:\\wenqu\\Aviris\\classification\\masked_aviris_trait\\site7_sla_ymax.tif'\n",
    "with rasterio.open(clipped_raster_path, \"w\", **out_meta) as dest:\n",
    "    dest.write(out_image)\n"
   ]
  },
  {
   "cell_type": "code",
   "execution_count": null,
   "id": "d9c487f4",
   "metadata": {},
   "outputs": [],
   "source": []
  }
 ],
 "metadata": {
  "kernelspec": {
   "display_name": "wenqu_gdal",
   "language": "python",
   "name": "wenqu_gdal"
  },
  "language_info": {
   "codemirror_mode": {
    "name": "ipython",
    "version": 3
   },
   "file_extension": ".py",
   "mimetype": "text/x-python",
   "name": "python",
   "nbconvert_exporter": "python",
   "pygments_lexer": "ipython3",
   "version": "3.9.15"
  }
 },
 "nbformat": 4,
 "nbformat_minor": 5
}
