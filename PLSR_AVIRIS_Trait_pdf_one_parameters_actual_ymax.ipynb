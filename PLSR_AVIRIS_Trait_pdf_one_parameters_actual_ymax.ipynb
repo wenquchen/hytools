{
 "cells": [
  {
   "cell_type": "code",
   "execution_count": 3,
   "id": "53939478",
   "metadata": {},
   "outputs": [],
   "source": [
    "import numpy as np\n",
    "import pandas as pd\n",
    "import matplotlib.pyplot as plt\n",
    "from sklearn.preprocessing import scale \n",
    "from sklearn import model_selection\n",
    "from sklearn.model_selection import RepeatedKFold\n",
    "from sklearn.model_selection import train_test_split\n",
    "from sklearn.cross_decomposition import PLSRegression\n",
    "from sklearn.metrics import mean_squared_error\n",
    "from sklearn import model_selection\n",
    "from sklearn.model_selection import train_test_split, cross_val_score, cross_val_predict\n",
    "from sys import stdout\n",
    "import numpy as np\n",
    "import pandas as pd\n",
    "import matplotlib.pyplot as plt\n",
    "from osgeo import gdal,ogr,osr\n",
    "from scipy.signal import savgol_filter\n",
    "from scipy.stats import pearsonr\n",
    "from sklearn.cross_decomposition import PLSRegression\n",
    "from sklearn.model_selection import cross_val_predict\n",
    "from sklearn.metrics import mean_squared_error, r2_score\n",
    "import numpy as np\n",
    "import matplotlib.pyplot as plt\n",
    "import seaborn as sns\n",
    "from scipy.optimize import curve_fit\n",
    "import pandas as pd\n",
    "from osgeo import gdal,ogr,osr\n",
    "from scipy import stats\n",
    "from scipy.optimize import curve_fit\n",
    "from scipy import asarray as ar,exp"
   ]
  },
  {
   "cell_type": "code",
   "execution_count": 4,
   "id": "503090b0",
   "metadata": {},
   "outputs": [
    {
     "data": {
      "text/html": [
       "<div>\n",
       "<style scoped>\n",
       "    .dataframe tbody tr th:only-of-type {\n",
       "        vertical-align: middle;\n",
       "    }\n",
       "\n",
       "    .dataframe tbody tr th {\n",
       "        vertical-align: top;\n",
       "    }\n",
       "\n",
       "    .dataframe thead th {\n",
       "        text-align: right;\n",
       "    }\n",
       "</style>\n",
       "<table border=\"1\" class=\"dataframe\">\n",
       "  <thead>\n",
       "    <tr style=\"text-align: right;\">\n",
       "      <th></th>\n",
       "      <th>file_name</th>\n",
       "      <th>band_1</th>\n",
       "      <th>band_2</th>\n",
       "      <th>band_3</th>\n",
       "      <th>band_4</th>\n",
       "      <th>band_5</th>\n",
       "      <th>band_6</th>\n",
       "      <th>band_7</th>\n",
       "      <th>band_8</th>\n",
       "      <th>band_9</th>\n",
       "      <th>...</th>\n",
       "      <th>band_416</th>\n",
       "      <th>band_417</th>\n",
       "      <th>band_418</th>\n",
       "      <th>band_419</th>\n",
       "      <th>band_420</th>\n",
       "      <th>band_421</th>\n",
       "      <th>band_422</th>\n",
       "      <th>band_423</th>\n",
       "      <th>band_424</th>\n",
       "      <th>band_425</th>\n",
       "    </tr>\n",
       "  </thead>\n",
       "  <tbody>\n",
       "    <tr>\n",
       "      <th>0</th>\n",
       "      <td>10_11.tif</td>\n",
       "      <td>-0.007764</td>\n",
       "      <td>-0.004129</td>\n",
       "      <td>-0.004153</td>\n",
       "      <td>-0.005374</td>\n",
       "      <td>-0.003882</td>\n",
       "      <td>-0.002153</td>\n",
       "      <td>0.001810</td>\n",
       "      <td>0.003309</td>\n",
       "      <td>0.006629</td>\n",
       "      <td>...</td>\n",
       "      <td>0.037847</td>\n",
       "      <td>0.028914</td>\n",
       "      <td>0.037138</td>\n",
       "      <td>0.037853</td>\n",
       "      <td>0.039864</td>\n",
       "      <td>0.058309</td>\n",
       "      <td>0.244313</td>\n",
       "      <td>0.350114</td>\n",
       "      <td>0.131108</td>\n",
       "      <td>0.072793</td>\n",
       "    </tr>\n",
       "    <tr>\n",
       "      <th>1</th>\n",
       "      <td>10_12.tif</td>\n",
       "      <td>-0.013384</td>\n",
       "      <td>-0.007108</td>\n",
       "      <td>-0.001837</td>\n",
       "      <td>-0.005190</td>\n",
       "      <td>0.000347</td>\n",
       "      <td>-0.000682</td>\n",
       "      <td>0.002832</td>\n",
       "      <td>0.004673</td>\n",
       "      <td>0.007931</td>\n",
       "      <td>...</td>\n",
       "      <td>0.035451</td>\n",
       "      <td>0.031084</td>\n",
       "      <td>0.034167</td>\n",
       "      <td>0.029922</td>\n",
       "      <td>0.029088</td>\n",
       "      <td>0.058289</td>\n",
       "      <td>0.248441</td>\n",
       "      <td>0.163818</td>\n",
       "      <td>0.112858</td>\n",
       "      <td>0.081993</td>\n",
       "    </tr>\n",
       "    <tr>\n",
       "      <th>2</th>\n",
       "      <td>10_13.tif</td>\n",
       "      <td>-0.009725</td>\n",
       "      <td>-0.004595</td>\n",
       "      <td>-0.003951</td>\n",
       "      <td>-0.006703</td>\n",
       "      <td>-0.006815</td>\n",
       "      <td>-0.005620</td>\n",
       "      <td>-0.001323</td>\n",
       "      <td>0.002428</td>\n",
       "      <td>0.004325</td>\n",
       "      <td>...</td>\n",
       "      <td>0.032463</td>\n",
       "      <td>0.027628</td>\n",
       "      <td>0.031311</td>\n",
       "      <td>0.031614</td>\n",
       "      <td>0.034893</td>\n",
       "      <td>0.057298</td>\n",
       "      <td>0.164780</td>\n",
       "      <td>0.158667</td>\n",
       "      <td>0.154157</td>\n",
       "      <td>0.125448</td>\n",
       "    </tr>\n",
       "    <tr>\n",
       "      <th>3</th>\n",
       "      <td>10_14.tif</td>\n",
       "      <td>-0.014089</td>\n",
       "      <td>-0.007383</td>\n",
       "      <td>-0.008866</td>\n",
       "      <td>-0.004287</td>\n",
       "      <td>-0.004378</td>\n",
       "      <td>-0.002558</td>\n",
       "      <td>-0.000270</td>\n",
       "      <td>0.002372</td>\n",
       "      <td>0.004722</td>\n",
       "      <td>...</td>\n",
       "      <td>0.033175</td>\n",
       "      <td>0.027670</td>\n",
       "      <td>0.036881</td>\n",
       "      <td>0.030894</td>\n",
       "      <td>0.036617</td>\n",
       "      <td>0.051019</td>\n",
       "      <td>0.213614</td>\n",
       "      <td>0.069901</td>\n",
       "      <td>0.150493</td>\n",
       "      <td>0.063400</td>\n",
       "    </tr>\n",
       "    <tr>\n",
       "      <th>4</th>\n",
       "      <td>10_15.tif</td>\n",
       "      <td>-0.008839</td>\n",
       "      <td>-0.011456</td>\n",
       "      <td>-0.003618</td>\n",
       "      <td>-0.007687</td>\n",
       "      <td>-0.002511</td>\n",
       "      <td>-0.003051</td>\n",
       "      <td>-0.000200</td>\n",
       "      <td>0.000226</td>\n",
       "      <td>0.004567</td>\n",
       "      <td>...</td>\n",
       "      <td>0.038862</td>\n",
       "      <td>0.032000</td>\n",
       "      <td>0.035872</td>\n",
       "      <td>0.032890</td>\n",
       "      <td>0.039173</td>\n",
       "      <td>0.036478</td>\n",
       "      <td>0.248044</td>\n",
       "      <td>0.206283</td>\n",
       "      <td>0.094222</td>\n",
       "      <td>0.086400</td>\n",
       "    </tr>\n",
       "    <tr>\n",
       "      <th>...</th>\n",
       "      <td>...</td>\n",
       "      <td>...</td>\n",
       "      <td>...</td>\n",
       "      <td>...</td>\n",
       "      <td>...</td>\n",
       "      <td>...</td>\n",
       "      <td>...</td>\n",
       "      <td>...</td>\n",
       "      <td>...</td>\n",
       "      <td>...</td>\n",
       "      <td>...</td>\n",
       "      <td>...</td>\n",
       "      <td>...</td>\n",
       "      <td>...</td>\n",
       "      <td>...</td>\n",
       "      <td>...</td>\n",
       "      <td>...</td>\n",
       "      <td>...</td>\n",
       "      <td>...</td>\n",
       "      <td>...</td>\n",
       "      <td>...</td>\n",
       "    </tr>\n",
       "    <tr>\n",
       "      <th>696</th>\n",
       "      <td>9_29.tif</td>\n",
       "      <td>-0.013024</td>\n",
       "      <td>-0.012314</td>\n",
       "      <td>-0.019442</td>\n",
       "      <td>-0.008505</td>\n",
       "      <td>-0.004881</td>\n",
       "      <td>-0.004946</td>\n",
       "      <td>0.000146</td>\n",
       "      <td>0.001335</td>\n",
       "      <td>0.004534</td>\n",
       "      <td>...</td>\n",
       "      <td>0.030609</td>\n",
       "      <td>0.026390</td>\n",
       "      <td>0.028482</td>\n",
       "      <td>0.032445</td>\n",
       "      <td>0.031146</td>\n",
       "      <td>0.027879</td>\n",
       "      <td>0.129168</td>\n",
       "      <td>0.115349</td>\n",
       "      <td>0.076738</td>\n",
       "      <td>0.058579</td>\n",
       "    </tr>\n",
       "    <tr>\n",
       "      <th>697</th>\n",
       "      <td>9_30.tif</td>\n",
       "      <td>-0.001519</td>\n",
       "      <td>-0.003554</td>\n",
       "      <td>-0.010393</td>\n",
       "      <td>-0.004769</td>\n",
       "      <td>0.002359</td>\n",
       "      <td>0.001205</td>\n",
       "      <td>0.004708</td>\n",
       "      <td>0.005122</td>\n",
       "      <td>0.008894</td>\n",
       "      <td>...</td>\n",
       "      <td>0.027895</td>\n",
       "      <td>0.026362</td>\n",
       "      <td>0.027060</td>\n",
       "      <td>0.024566</td>\n",
       "      <td>0.032227</td>\n",
       "      <td>0.050655</td>\n",
       "      <td>0.136157</td>\n",
       "      <td>0.207986</td>\n",
       "      <td>0.057718</td>\n",
       "      <td>0.077317</td>\n",
       "    </tr>\n",
       "    <tr>\n",
       "      <th>698</th>\n",
       "      <td>9_31.tif</td>\n",
       "      <td>-0.015849</td>\n",
       "      <td>-0.007909</td>\n",
       "      <td>-0.009244</td>\n",
       "      <td>-0.008092</td>\n",
       "      <td>-0.000667</td>\n",
       "      <td>-0.003096</td>\n",
       "      <td>0.000886</td>\n",
       "      <td>0.001731</td>\n",
       "      <td>0.005400</td>\n",
       "      <td>...</td>\n",
       "      <td>0.029747</td>\n",
       "      <td>0.025295</td>\n",
       "      <td>0.020071</td>\n",
       "      <td>0.020943</td>\n",
       "      <td>0.025327</td>\n",
       "      <td>0.044136</td>\n",
       "      <td>0.159366</td>\n",
       "      <td>0.208852</td>\n",
       "      <td>0.122430</td>\n",
       "      <td>0.052972</td>\n",
       "    </tr>\n",
       "    <tr>\n",
       "      <th>699</th>\n",
       "      <td>9_32.tif</td>\n",
       "      <td>-0.006774</td>\n",
       "      <td>-0.010116</td>\n",
       "      <td>-0.014389</td>\n",
       "      <td>-0.006916</td>\n",
       "      <td>-0.002179</td>\n",
       "      <td>-0.001609</td>\n",
       "      <td>0.002549</td>\n",
       "      <td>0.001670</td>\n",
       "      <td>0.003892</td>\n",
       "      <td>...</td>\n",
       "      <td>0.029118</td>\n",
       "      <td>0.027441</td>\n",
       "      <td>0.016149</td>\n",
       "      <td>0.020943</td>\n",
       "      <td>0.028174</td>\n",
       "      <td>0.029673</td>\n",
       "      <td>0.153037</td>\n",
       "      <td>0.327634</td>\n",
       "      <td>0.144022</td>\n",
       "      <td>0.053778</td>\n",
       "    </tr>\n",
       "    <tr>\n",
       "      <th>700</th>\n",
       "      <td>9_33.tif</td>\n",
       "      <td>-0.010904</td>\n",
       "      <td>-0.007817</td>\n",
       "      <td>-0.011549</td>\n",
       "      <td>-0.008744</td>\n",
       "      <td>-0.003291</td>\n",
       "      <td>-0.002401</td>\n",
       "      <td>0.001736</td>\n",
       "      <td>0.001491</td>\n",
       "      <td>0.005573</td>\n",
       "      <td>...</td>\n",
       "      <td>0.027110</td>\n",
       "      <td>0.023621</td>\n",
       "      <td>0.021705</td>\n",
       "      <td>0.026033</td>\n",
       "      <td>0.027467</td>\n",
       "      <td>0.041305</td>\n",
       "      <td>0.098118</td>\n",
       "      <td>0.246791</td>\n",
       "      <td>0.109237</td>\n",
       "      <td>0.056495</td>\n",
       "    </tr>\n",
       "  </tbody>\n",
       "</table>\n",
       "<p>701 rows × 426 columns</p>\n",
       "</div>"
      ],
      "text/plain": [
       "     file_name    band_1    band_2    band_3    band_4    band_5    band_6  \\\n",
       "0    10_11.tif -0.007764 -0.004129 -0.004153 -0.005374 -0.003882 -0.002153   \n",
       "1    10_12.tif -0.013384 -0.007108 -0.001837 -0.005190  0.000347 -0.000682   \n",
       "2    10_13.tif -0.009725 -0.004595 -0.003951 -0.006703 -0.006815 -0.005620   \n",
       "3    10_14.tif -0.014089 -0.007383 -0.008866 -0.004287 -0.004378 -0.002558   \n",
       "4    10_15.tif -0.008839 -0.011456 -0.003618 -0.007687 -0.002511 -0.003051   \n",
       "..         ...       ...       ...       ...       ...       ...       ...   \n",
       "696   9_29.tif -0.013024 -0.012314 -0.019442 -0.008505 -0.004881 -0.004946   \n",
       "697   9_30.tif -0.001519 -0.003554 -0.010393 -0.004769  0.002359  0.001205   \n",
       "698   9_31.tif -0.015849 -0.007909 -0.009244 -0.008092 -0.000667 -0.003096   \n",
       "699   9_32.tif -0.006774 -0.010116 -0.014389 -0.006916 -0.002179 -0.001609   \n",
       "700   9_33.tif -0.010904 -0.007817 -0.011549 -0.008744 -0.003291 -0.002401   \n",
       "\n",
       "       band_7    band_8    band_9  ...  band_416  band_417  band_418  \\\n",
       "0    0.001810  0.003309  0.006629  ...  0.037847  0.028914  0.037138   \n",
       "1    0.002832  0.004673  0.007931  ...  0.035451  0.031084  0.034167   \n",
       "2   -0.001323  0.002428  0.004325  ...  0.032463  0.027628  0.031311   \n",
       "3   -0.000270  0.002372  0.004722  ...  0.033175  0.027670  0.036881   \n",
       "4   -0.000200  0.000226  0.004567  ...  0.038862  0.032000  0.035872   \n",
       "..        ...       ...       ...  ...       ...       ...       ...   \n",
       "696  0.000146  0.001335  0.004534  ...  0.030609  0.026390  0.028482   \n",
       "697  0.004708  0.005122  0.008894  ...  0.027895  0.026362  0.027060   \n",
       "698  0.000886  0.001731  0.005400  ...  0.029747  0.025295  0.020071   \n",
       "699  0.002549  0.001670  0.003892  ...  0.029118  0.027441  0.016149   \n",
       "700  0.001736  0.001491  0.005573  ...  0.027110  0.023621  0.021705   \n",
       "\n",
       "     band_419  band_420  band_421  band_422  band_423  band_424  band_425  \n",
       "0    0.037853  0.039864  0.058309  0.244313  0.350114  0.131108  0.072793  \n",
       "1    0.029922  0.029088  0.058289  0.248441  0.163818  0.112858  0.081993  \n",
       "2    0.031614  0.034893  0.057298  0.164780  0.158667  0.154157  0.125448  \n",
       "3    0.030894  0.036617  0.051019  0.213614  0.069901  0.150493  0.063400  \n",
       "4    0.032890  0.039173  0.036478  0.248044  0.206283  0.094222  0.086400  \n",
       "..        ...       ...       ...       ...       ...       ...       ...  \n",
       "696  0.032445  0.031146  0.027879  0.129168  0.115349  0.076738  0.058579  \n",
       "697  0.024566  0.032227  0.050655  0.136157  0.207986  0.057718  0.077317  \n",
       "698  0.020943  0.025327  0.044136  0.159366  0.208852  0.122430  0.052972  \n",
       "699  0.020943  0.028174  0.029673  0.153037  0.327634  0.144022  0.053778  \n",
       "700  0.026033  0.027467  0.041305  0.098118  0.246791  0.109237  0.056495  \n",
       "\n",
       "[701 rows x 426 columns]"
      ]
     },
     "execution_count": 4,
     "metadata": {},
     "output_type": "execute_result"
    }
   ],
   "source": [
    "df_spectral = pd.read_csv(r\"F:\\wenqu\\Aviris\\site2a\\PLSR\\aviris_single_pixel_band.csv\")\n",
    "df_spectral"
   ]
  },
  {
   "cell_type": "code",
   "execution_count": 5,
   "id": "e8e28dd4",
   "metadata": {},
   "outputs": [
    {
     "data": {
      "text/plain": [
       "0      10_11.tif\n",
       "1      10_12.tif\n",
       "2      10_13.tif\n",
       "3      10_14.tif\n",
       "4      10_15.tif\n",
       "         ...    \n",
       "696     9_29.tif\n",
       "697     9_30.tif\n",
       "698     9_31.tif\n",
       "699     9_32.tif\n",
       "700     9_33.tif\n",
       "Name: file_name, Length: 701, dtype: object"
      ]
     },
     "execution_count": 5,
     "metadata": {},
     "output_type": "execute_result"
    }
   ],
   "source": [
    "df_spectral['file_name']"
   ]
  },
  {
   "cell_type": "code",
   "execution_count": 7,
   "id": "5267f81c",
   "metadata": {},
   "outputs": [],
   "source": [
    "band_name = []\n",
    "for i in range(1, 426):\n",
    "    b_name = 'band_' + str(i) \n",
    "    band_name.append(b_name)"
   ]
  },
  {
   "cell_type": "code",
   "execution_count": 8,
   "id": "98474bee",
   "metadata": {},
   "outputs": [
    {
     "data": {
      "text/plain": [
       "['band_1',\n",
       " 'band_2',\n",
       " 'band_3',\n",
       " 'band_4',\n",
       " 'band_5',\n",
       " 'band_6',\n",
       " 'band_7',\n",
       " 'band_8',\n",
       " 'band_9',\n",
       " 'band_10',\n",
       " 'band_11',\n",
       " 'band_12',\n",
       " 'band_13',\n",
       " 'band_14',\n",
       " 'band_15',\n",
       " 'band_16',\n",
       " 'band_17',\n",
       " 'band_18',\n",
       " 'band_19',\n",
       " 'band_20',\n",
       " 'band_21',\n",
       " 'band_22',\n",
       " 'band_23',\n",
       " 'band_24',\n",
       " 'band_25',\n",
       " 'band_26',\n",
       " 'band_27',\n",
       " 'band_28',\n",
       " 'band_29',\n",
       " 'band_30',\n",
       " 'band_31',\n",
       " 'band_32',\n",
       " 'band_33',\n",
       " 'band_34',\n",
       " 'band_35',\n",
       " 'band_36',\n",
       " 'band_37',\n",
       " 'band_38',\n",
       " 'band_39',\n",
       " 'band_40',\n",
       " 'band_41',\n",
       " 'band_42',\n",
       " 'band_43',\n",
       " 'band_44',\n",
       " 'band_45',\n",
       " 'band_46',\n",
       " 'band_47',\n",
       " 'band_48',\n",
       " 'band_49',\n",
       " 'band_50',\n",
       " 'band_51',\n",
       " 'band_52',\n",
       " 'band_53',\n",
       " 'band_54',\n",
       " 'band_55',\n",
       " 'band_56',\n",
       " 'band_57',\n",
       " 'band_58',\n",
       " 'band_59',\n",
       " 'band_60',\n",
       " 'band_61',\n",
       " 'band_62',\n",
       " 'band_63',\n",
       " 'band_64',\n",
       " 'band_65',\n",
       " 'band_66',\n",
       " 'band_67',\n",
       " 'band_68',\n",
       " 'band_69',\n",
       " 'band_70',\n",
       " 'band_71',\n",
       " 'band_72',\n",
       " 'band_73',\n",
       " 'band_74',\n",
       " 'band_75',\n",
       " 'band_76',\n",
       " 'band_77',\n",
       " 'band_78',\n",
       " 'band_79',\n",
       " 'band_80',\n",
       " 'band_81',\n",
       " 'band_82',\n",
       " 'band_83',\n",
       " 'band_84',\n",
       " 'band_85',\n",
       " 'band_86',\n",
       " 'band_87',\n",
       " 'band_88',\n",
       " 'band_89',\n",
       " 'band_90',\n",
       " 'band_91',\n",
       " 'band_92',\n",
       " 'band_93',\n",
       " 'band_94',\n",
       " 'band_95',\n",
       " 'band_96',\n",
       " 'band_97',\n",
       " 'band_98',\n",
       " 'band_99',\n",
       " 'band_100',\n",
       " 'band_101',\n",
       " 'band_102',\n",
       " 'band_103',\n",
       " 'band_104',\n",
       " 'band_105',\n",
       " 'band_106',\n",
       " 'band_107',\n",
       " 'band_108',\n",
       " 'band_109',\n",
       " 'band_110',\n",
       " 'band_111',\n",
       " 'band_112',\n",
       " 'band_113',\n",
       " 'band_114',\n",
       " 'band_115',\n",
       " 'band_116',\n",
       " 'band_117',\n",
       " 'band_118',\n",
       " 'band_119',\n",
       " 'band_120',\n",
       " 'band_121',\n",
       " 'band_122',\n",
       " 'band_123',\n",
       " 'band_124',\n",
       " 'band_125',\n",
       " 'band_126',\n",
       " 'band_127',\n",
       " 'band_128',\n",
       " 'band_129',\n",
       " 'band_130',\n",
       " 'band_131',\n",
       " 'band_132',\n",
       " 'band_133',\n",
       " 'band_134',\n",
       " 'band_135',\n",
       " 'band_136',\n",
       " 'band_137',\n",
       " 'band_138',\n",
       " 'band_139',\n",
       " 'band_140',\n",
       " 'band_141',\n",
       " 'band_142',\n",
       " 'band_143',\n",
       " 'band_144',\n",
       " 'band_145',\n",
       " 'band_146',\n",
       " 'band_147',\n",
       " 'band_148',\n",
       " 'band_149',\n",
       " 'band_150',\n",
       " 'band_151',\n",
       " 'band_152',\n",
       " 'band_153',\n",
       " 'band_154',\n",
       " 'band_155',\n",
       " 'band_156',\n",
       " 'band_157',\n",
       " 'band_158',\n",
       " 'band_159',\n",
       " 'band_160',\n",
       " 'band_161',\n",
       " 'band_162',\n",
       " 'band_163',\n",
       " 'band_164',\n",
       " 'band_165',\n",
       " 'band_166',\n",
       " 'band_167',\n",
       " 'band_168',\n",
       " 'band_169',\n",
       " 'band_170',\n",
       " 'band_171',\n",
       " 'band_172',\n",
       " 'band_173',\n",
       " 'band_174',\n",
       " 'band_175',\n",
       " 'band_176',\n",
       " 'band_177',\n",
       " 'band_178',\n",
       " 'band_179',\n",
       " 'band_180',\n",
       " 'band_181',\n",
       " 'band_182',\n",
       " 'band_183',\n",
       " 'band_184',\n",
       " 'band_185',\n",
       " 'band_186',\n",
       " 'band_187',\n",
       " 'band_188',\n",
       " 'band_189',\n",
       " 'band_190',\n",
       " 'band_191',\n",
       " 'band_192',\n",
       " 'band_193',\n",
       " 'band_194',\n",
       " 'band_195',\n",
       " 'band_196',\n",
       " 'band_197',\n",
       " 'band_198',\n",
       " 'band_199',\n",
       " 'band_200',\n",
       " 'band_201',\n",
       " 'band_202',\n",
       " 'band_203',\n",
       " 'band_204',\n",
       " 'band_205',\n",
       " 'band_206',\n",
       " 'band_207',\n",
       " 'band_208',\n",
       " 'band_209',\n",
       " 'band_210',\n",
       " 'band_211',\n",
       " 'band_212',\n",
       " 'band_213',\n",
       " 'band_214',\n",
       " 'band_215',\n",
       " 'band_216',\n",
       " 'band_217',\n",
       " 'band_218',\n",
       " 'band_219',\n",
       " 'band_220',\n",
       " 'band_221',\n",
       " 'band_222',\n",
       " 'band_223',\n",
       " 'band_224',\n",
       " 'band_225',\n",
       " 'band_226',\n",
       " 'band_227',\n",
       " 'band_228',\n",
       " 'band_229',\n",
       " 'band_230',\n",
       " 'band_231',\n",
       " 'band_232',\n",
       " 'band_233',\n",
       " 'band_234',\n",
       " 'band_235',\n",
       " 'band_236',\n",
       " 'band_237',\n",
       " 'band_238',\n",
       " 'band_239',\n",
       " 'band_240',\n",
       " 'band_241',\n",
       " 'band_242',\n",
       " 'band_243',\n",
       " 'band_244',\n",
       " 'band_245',\n",
       " 'band_246',\n",
       " 'band_247',\n",
       " 'band_248',\n",
       " 'band_249',\n",
       " 'band_250',\n",
       " 'band_251',\n",
       " 'band_252',\n",
       " 'band_253',\n",
       " 'band_254',\n",
       " 'band_255',\n",
       " 'band_256',\n",
       " 'band_257',\n",
       " 'band_258',\n",
       " 'band_259',\n",
       " 'band_260',\n",
       " 'band_261',\n",
       " 'band_262',\n",
       " 'band_263',\n",
       " 'band_264',\n",
       " 'band_265',\n",
       " 'band_266',\n",
       " 'band_267',\n",
       " 'band_268',\n",
       " 'band_269',\n",
       " 'band_270',\n",
       " 'band_271',\n",
       " 'band_272',\n",
       " 'band_273',\n",
       " 'band_274',\n",
       " 'band_275',\n",
       " 'band_276',\n",
       " 'band_277',\n",
       " 'band_278',\n",
       " 'band_279',\n",
       " 'band_280',\n",
       " 'band_281',\n",
       " 'band_282',\n",
       " 'band_283',\n",
       " 'band_284',\n",
       " 'band_285',\n",
       " 'band_286',\n",
       " 'band_287',\n",
       " 'band_288',\n",
       " 'band_289',\n",
       " 'band_290',\n",
       " 'band_291',\n",
       " 'band_292',\n",
       " 'band_293',\n",
       " 'band_294',\n",
       " 'band_295',\n",
       " 'band_296',\n",
       " 'band_297',\n",
       " 'band_298',\n",
       " 'band_299',\n",
       " 'band_300',\n",
       " 'band_301',\n",
       " 'band_302',\n",
       " 'band_303',\n",
       " 'band_304',\n",
       " 'band_305',\n",
       " 'band_306',\n",
       " 'band_307',\n",
       " 'band_308',\n",
       " 'band_309',\n",
       " 'band_310',\n",
       " 'band_311',\n",
       " 'band_312',\n",
       " 'band_313',\n",
       " 'band_314',\n",
       " 'band_315',\n",
       " 'band_316',\n",
       " 'band_317',\n",
       " 'band_318',\n",
       " 'band_319',\n",
       " 'band_320',\n",
       " 'band_321',\n",
       " 'band_322',\n",
       " 'band_323',\n",
       " 'band_324',\n",
       " 'band_325',\n",
       " 'band_326',\n",
       " 'band_327',\n",
       " 'band_328',\n",
       " 'band_329',\n",
       " 'band_330',\n",
       " 'band_331',\n",
       " 'band_332',\n",
       " 'band_333',\n",
       " 'band_334',\n",
       " 'band_335',\n",
       " 'band_336',\n",
       " 'band_337',\n",
       " 'band_338',\n",
       " 'band_339',\n",
       " 'band_340',\n",
       " 'band_341',\n",
       " 'band_342',\n",
       " 'band_343',\n",
       " 'band_344',\n",
       " 'band_345',\n",
       " 'band_346',\n",
       " 'band_347',\n",
       " 'band_348',\n",
       " 'band_349',\n",
       " 'band_350',\n",
       " 'band_351',\n",
       " 'band_352',\n",
       " 'band_353',\n",
       " 'band_354',\n",
       " 'band_355',\n",
       " 'band_356',\n",
       " 'band_357',\n",
       " 'band_358',\n",
       " 'band_359',\n",
       " 'band_360',\n",
       " 'band_361',\n",
       " 'band_362',\n",
       " 'band_363',\n",
       " 'band_364',\n",
       " 'band_365',\n",
       " 'band_366',\n",
       " 'band_367',\n",
       " 'band_368',\n",
       " 'band_369',\n",
       " 'band_370',\n",
       " 'band_371',\n",
       " 'band_372',\n",
       " 'band_373',\n",
       " 'band_374',\n",
       " 'band_375',\n",
       " 'band_376',\n",
       " 'band_377',\n",
       " 'band_378',\n",
       " 'band_379',\n",
       " 'band_380',\n",
       " 'band_381',\n",
       " 'band_382',\n",
       " 'band_383',\n",
       " 'band_384',\n",
       " 'band_385',\n",
       " 'band_386',\n",
       " 'band_387',\n",
       " 'band_388',\n",
       " 'band_389',\n",
       " 'band_390',\n",
       " 'band_391',\n",
       " 'band_392',\n",
       " 'band_393',\n",
       " 'band_394',\n",
       " 'band_395',\n",
       " 'band_396',\n",
       " 'band_397',\n",
       " 'band_398',\n",
       " 'band_399',\n",
       " 'band_400',\n",
       " 'band_401',\n",
       " 'band_402',\n",
       " 'band_403',\n",
       " 'band_404',\n",
       " 'band_405',\n",
       " 'band_406',\n",
       " 'band_407',\n",
       " 'band_408',\n",
       " 'band_409',\n",
       " 'band_410',\n",
       " 'band_411',\n",
       " 'band_412',\n",
       " 'band_413',\n",
       " 'band_414',\n",
       " 'band_415',\n",
       " 'band_416',\n",
       " 'band_417',\n",
       " 'band_418',\n",
       " 'band_419',\n",
       " 'band_420',\n",
       " 'band_421',\n",
       " 'band_422',\n",
       " 'band_423',\n",
       " 'band_424',\n",
       " 'band_425']"
      ]
     },
     "execution_count": 8,
     "metadata": {},
     "output_type": "execute_result"
    }
   ],
   "source": [
    "band_name"
   ]
  },
  {
   "cell_type": "code",
   "execution_count": 9,
   "id": "343f0948",
   "metadata": {},
   "outputs": [],
   "source": [
    "x_spectra = df_spectral[band_name]\n",
    "x = x_spectra.to_numpy()"
   ]
  },
  {
   "cell_type": "code",
   "execution_count": 10,
   "id": "8373041d",
   "metadata": {},
   "outputs": [
    {
     "data": {
      "text/plain": [
       "(701, 425)"
      ]
     },
     "execution_count": 10,
     "metadata": {},
     "output_type": "execute_result"
    }
   ],
   "source": [
    "x.shape"
   ]
  },
  {
   "cell_type": "code",
   "execution_count": 11,
   "id": "5e75b2d5",
   "metadata": {},
   "outputs": [],
   "source": [
    "def gaus(X,C,X_mean,sigma):\n",
    "    return C*exp(-(X-X_mean)**2/(2*sigma**2))"
   ]
  },
  {
   "cell_type": "code",
   "execution_count": 12,
   "id": "69da1347",
   "metadata": {},
   "outputs": [
    {
     "name": "stdout",
     "output_type": "stream",
     "text": [
      "10_11.tif\n"
     ]
    },
    {
     "ename": "AttributeError",
     "evalue": "'NoneType' object has no attribute 'ReadAsArray'",
     "output_type": "error",
     "traceback": [
      "\u001b[1;31m---------------------------------------------------------------------------\u001b[0m",
      "\u001b[1;31mAttributeError\u001b[0m                            Traceback (most recent call last)",
      "Cell \u001b[1;32mIn[12], line 5\u001b[0m\n\u001b[0;32m      3\u001b[0m \u001b[38;5;28mprint\u001b[39m(file_name)\n\u001b[0;32m      4\u001b[0m file_name \u001b[38;5;241m=\u001b[39m \u001b[38;5;124m'\u001b[39m\u001b[38;5;124mF:/wenqu/Aviris/site2a/PLSR/trait_clip_img/\u001b[39m\u001b[38;5;124m'\u001b[39m \u001b[38;5;241m+\u001b[39m file_name \u001b[38;5;241m+\u001b[39m \u001b[38;5;124m'\u001b[39m\u001b[38;5;124m.tif\u001b[39m\u001b[38;5;124m'\u001b[39m\n\u001b[1;32m----> 5\u001b[0m x_data \u001b[38;5;241m=\u001b[39m \u001b[43mgdal\u001b[49m\u001b[38;5;241;43m.\u001b[39;49m\u001b[43mOpen\u001b[49m\u001b[43m(\u001b[49m\u001b[43mfile_name\u001b[49m\u001b[43m)\u001b[49m\u001b[38;5;241;43m.\u001b[39;49m\u001b[43mReadAsArray\u001b[49m()\u001b[38;5;241m.\u001b[39mflatten()\n\u001b[0;32m      6\u001b[0m hist, bin_edges \u001b[38;5;241m=\u001b[39m np\u001b[38;5;241m.\u001b[39mhistogram(x_data)\n\u001b[0;32m      7\u001b[0m hist\u001b[38;5;241m=\u001b[39mhist\u001b[38;5;241m/\u001b[39m\u001b[38;5;28msum\u001b[39m(hist)\n",
      "\u001b[1;31mAttributeError\u001b[0m: 'NoneType' object has no attribute 'ReadAsArray'"
     ]
    }
   ],
   "source": [
    "la_trait_pdf = []\n",
    "for file_name in df_spectral['file_name']:\n",
    "    print(file_name)\n",
    "    file_name = 'F:/wenqu/Aviris/site2a/PLSR/trait_clip_img/' + file_name + '.tif'\n",
    "    x_data = gdal.Open(file_name).ReadAsArray().flatten()\n",
    "    hist, bin_edges = np.histogram(x_data)\n",
    "    hist=hist/sum(hist)\n",
    "    n = len(hist)\n",
    "    x_hist=np.zeros((n),dtype=float) \n",
    "    # middle value for each bin, has the same shape as y_hist\n",
    "    for ii in range(n):\n",
    "        x_hist[ii]=(bin_edges[ii+1]+bin_edges[ii])/2\n",
    "    # number of values falling into each bins - probability     \n",
    "    y_hist=hist\n",
    "    mean = sum(x_hist*y_hist)/sum(y_hist)                  \n",
    "    sigma = sum(y_hist*(x_hist-mean)**2)/sum(y_hist) \n",
    "    p0=[max(y_hist),mean,sigma]\n",
    "#     param_optimised,param_covariance_matrix = curve_fit(gaus,x_hist,y_hist,p0=[max(y_hist),mean,sigma],maxfev=5000)\n",
    "\n",
    "#     x_hist_2=np.linspace(np.min(x_hist),np.max(x_hist),500)\n",
    "    la_trait_pdf.append(p0)\n"
   ]
  },
  {
   "cell_type": "code",
   "execution_count": 10,
   "id": "c101980d",
   "metadata": {},
   "outputs": [
    {
     "data": {
      "text/plain": [
       "726"
      ]
     },
     "execution_count": 10,
     "metadata": {},
     "output_type": "execute_result"
    }
   ],
   "source": [
    "len(la_trait_pdf)"
   ]
  },
  {
   "cell_type": "code",
   "execution_count": 11,
   "id": "41015a0e",
   "metadata": {},
   "outputs": [],
   "source": [
    "y = la_trait_pdf\n",
    "y = np.array(y)\n"
   ]
  },
  {
   "cell_type": "code",
   "execution_count": 12,
   "id": "c97d40cb",
   "metadata": {},
   "outputs": [
    {
     "data": {
      "text/plain": [
       "(726, 3)"
      ]
     },
     "execution_count": 12,
     "metadata": {},
     "output_type": "execute_result"
    }
   ],
   "source": [
    "y.shape"
   ]
  },
  {
   "cell_type": "code",
   "execution_count": 13,
   "id": "46977b02",
   "metadata": {},
   "outputs": [
    {
     "name": "stdout",
     "output_type": "stream",
     "text": [
      "float64\n"
     ]
    }
   ],
   "source": [
    "print(y.dtype)"
   ]
  },
  {
   "cell_type": "code",
   "execution_count": 14,
   "id": "cc77527d",
   "metadata": {},
   "outputs": [
    {
     "data": {
      "text/plain": [
       "((726, 3), (726, 122))"
      ]
     },
     "execution_count": 14,
     "metadata": {},
     "output_type": "execute_result"
    }
   ],
   "source": [
    "y.shape, x.shape"
   ]
  },
  {
   "cell_type": "code",
   "execution_count": 15,
   "id": "e829229b",
   "metadata": {},
   "outputs": [],
   "source": [
    "band_name = np.array(band_name)"
   ]
  },
  {
   "cell_type": "code",
   "execution_count": 16,
   "id": "91c54a5f",
   "metadata": {},
   "outputs": [],
   "source": [
    "# Python\n",
    "def pls_variable_selection(X, y, max_comp):\n",
    "    \n",
    "    # Define MSE array to be populated\n",
    "    mse = np.zeros((max_comp,X.shape[1]))\n",
    " \n",
    "    # Loop over the number of PLS components\n",
    "    for i in range(max_comp):\n",
    "        \n",
    "        # Regression with specified number of components, using full spectrum\n",
    "        pls1 = PLSRegression(n_components=i+1)\n",
    "        pls1.fit(X, y)\n",
    "        \n",
    "        # Indices of sort spectra according to ascending absolute value of PLS coefficients\n",
    "        sorted_ind = np.argsort(np.abs(pls1.coef_[:,0]))\n",
    " \n",
    "        # Sort spectra accordingly \n",
    "        Xc = X[:,sorted_ind]\n",
    " \n",
    "        # Discard one wavelength at a time of the sorted spectra,\n",
    "        # regress, and calculate the MSE cross-validation\n",
    "        for j in range(Xc.shape[1]-(i+1)):\n",
    " \n",
    "            pls2 = PLSRegression(n_components=i+1)\n",
    "            pls2.fit(Xc[:, j:], y)\n",
    "            \n",
    "            y_cv = cross_val_predict(pls2, Xc[:, j:], y, cv=5)\n",
    " \n",
    "            mse[i,j] = mean_squared_error(y, y_cv)\n",
    "    \n",
    "        comp = 100*(i+1)/(max_comp)\n",
    "        stdout.write(\"\\r%d%% completed\" % comp)\n",
    "        stdout.flush()\n",
    "    stdout.write(\"\\n\")\n",
    " \n",
    "    # # Calculate and print the position of minimum in MSE\n",
    "    mseminx,mseminy = np.where(mse==np.min(mse[np.nonzero(mse)]))\n",
    " \n",
    "    print(\"Optimised number of PLS components: \", mseminx[0]+1)\n",
    "    print(\"Wavelengths to be discarded \",mseminy[0])\n",
    "    print('Optimised MSEP ', mse[mseminx,mseminy][0])\n",
    "    stdout.write(\"\\n\")\n",
    "    # plt.imshow(mse, interpolation=None)\n",
    "    # plt.show()\n",
    " \n",
    " \n",
    "    # Calculate PLS with optimal components and export values\n",
    "    pls = PLSRegression(n_components=mseminx[0]+1)\n",
    "    pls.fit(X, y)\n",
    "        \n",
    "    sorted_ind = np.argsort(np.abs(pls.coef_[:,0]))\n",
    " \n",
    "    Xc = X[:,sorted_ind]\n",
    " \n",
    "    return(Xc[:,mseminy[0]:],mseminx[0]+1,mseminy[0], sorted_ind)"
   ]
  },
  {
   "cell_type": "code",
   "execution_count": 17,
   "id": "fe726855",
   "metadata": {},
   "outputs": [],
   "source": [
    "def simple_pls_cv(X, y, n_comp):\n",
    "    # Run PLS with suggested number of components\n",
    "    pls = PLSRegression(n_components=n_comp)\n",
    "    pls.fit(X, y)\n",
    "    y_c = pls.predict(X)\n",
    " \n",
    "    # Cross-validation\n",
    "    y_cv = cross_val_predict(pls, X, y, cv=10)    \n",
    " \n",
    "    # Calculate scores for calibration and cross-validation\n",
    "    score_c = r2_score(y, y_c)\n",
    "    score_cv = r2_score(y, y_cv)\n",
    " \n",
    "    # Calculate mean square error for calibration and cross validation\n",
    "    mse_c = mean_squared_error(y, y_c)\n",
    "    mse_cv = mean_squared_error(y, y_cv)\n",
    " \n",
    "    print('R2 calib: %5.3f'  % score_c)\n",
    "    print('R2 CV: %5.3f'  % score_cv)\n",
    "    print('MSE calib: %5.3f' % mse_c)\n",
    "    print('MSE CV: %5.3f' % mse_cv)\n",
    "        # Plot regression \n",
    " \n",
    "    z = np.polyfit(y, y_cv, 1)\n",
    "    with plt.style.context(('ggplot')):\n",
    "        fig, ax = plt.subplots(figsize=(9, 5))\n",
    "        ax.scatter(y_cv, y, c='red', edgecolors='k')\n",
    "        ax.plot(z[1]+z[0]*y, y, c='blue', linewidth=1)\n",
    "        ax.plot(y, y, color='green', linewidth=1)\n",
    "        plt.title('$R^{2}$ (CV): '+str(score_cv))\n",
    "        plt.xlabel('Predicted $^{\\circ}$Brix')\n",
    "        plt.ylabel('Measured $^{\\circ}$Brix')\n",
    "        \n",
    "        plt.show()"
   ]
  },
  {
   "cell_type": "code",
   "execution_count": 18,
   "id": "1b73a560",
   "metadata": {},
   "outputs": [
    {
     "name": "stderr",
     "output_type": "stream",
     "text": [
      "C:\\Users\\laral\\Anaconda3\\envs\\wenqu_gpu\\lib\\site-packages\\sklearn\\cross_decomposition\\_pls.py:503: FutureWarning: The attribute `coef_` will be transposed in version 1.3 to be consistent with other linear models in scikit-learn. Currently, `coef_` has a shape of (n_features, n_targets) and in the future it will have a shape of (n_targets, n_features).\n",
      "  warnings.warn(\n"
     ]
    },
    {
     "name": "stdout",
     "output_type": "stream",
     "text": [
      "\r",
      "3% completed"
     ]
    },
    {
     "name": "stderr",
     "output_type": "stream",
     "text": [
      "C:\\Users\\laral\\Anaconda3\\envs\\wenqu_gpu\\lib\\site-packages\\sklearn\\cross_decomposition\\_pls.py:503: FutureWarning: The attribute `coef_` will be transposed in version 1.3 to be consistent with other linear models in scikit-learn. Currently, `coef_` has a shape of (n_features, n_targets) and in the future it will have a shape of (n_targets, n_features).\n",
      "  warnings.warn(\n"
     ]
    },
    {
     "name": "stdout",
     "output_type": "stream",
     "text": [
      "\r",
      "6% completed"
     ]
    },
    {
     "name": "stderr",
     "output_type": "stream",
     "text": [
      "C:\\Users\\laral\\Anaconda3\\envs\\wenqu_gpu\\lib\\site-packages\\sklearn\\cross_decomposition\\_pls.py:503: FutureWarning: The attribute `coef_` will be transposed in version 1.3 to be consistent with other linear models in scikit-learn. Currently, `coef_` has a shape of (n_features, n_targets) and in the future it will have a shape of (n_targets, n_features).\n",
      "  warnings.warn(\n"
     ]
    },
    {
     "name": "stdout",
     "output_type": "stream",
     "text": [
      "\r",
      "10% completed"
     ]
    },
    {
     "name": "stderr",
     "output_type": "stream",
     "text": [
      "C:\\Users\\laral\\Anaconda3\\envs\\wenqu_gpu\\lib\\site-packages\\sklearn\\cross_decomposition\\_pls.py:503: FutureWarning: The attribute `coef_` will be transposed in version 1.3 to be consistent with other linear models in scikit-learn. Currently, `coef_` has a shape of (n_features, n_targets) and in the future it will have a shape of (n_targets, n_features).\n",
      "  warnings.warn(\n"
     ]
    },
    {
     "name": "stdout",
     "output_type": "stream",
     "text": [
      "\r",
      "13% completed"
     ]
    },
    {
     "name": "stderr",
     "output_type": "stream",
     "text": [
      "C:\\Users\\laral\\Anaconda3\\envs\\wenqu_gpu\\lib\\site-packages\\sklearn\\cross_decomposition\\_pls.py:503: FutureWarning: The attribute `coef_` will be transposed in version 1.3 to be consistent with other linear models in scikit-learn. Currently, `coef_` has a shape of (n_features, n_targets) and in the future it will have a shape of (n_targets, n_features).\n",
      "  warnings.warn(\n"
     ]
    },
    {
     "name": "stdout",
     "output_type": "stream",
     "text": [
      "\r",
      "16% completed"
     ]
    },
    {
     "name": "stderr",
     "output_type": "stream",
     "text": [
      "C:\\Users\\laral\\Anaconda3\\envs\\wenqu_gpu\\lib\\site-packages\\sklearn\\cross_decomposition\\_pls.py:503: FutureWarning: The attribute `coef_` will be transposed in version 1.3 to be consistent with other linear models in scikit-learn. Currently, `coef_` has a shape of (n_features, n_targets) and in the future it will have a shape of (n_targets, n_features).\n",
      "  warnings.warn(\n"
     ]
    },
    {
     "name": "stdout",
     "output_type": "stream",
     "text": [
      "\r",
      "20% completed"
     ]
    },
    {
     "name": "stderr",
     "output_type": "stream",
     "text": [
      "C:\\Users\\laral\\Anaconda3\\envs\\wenqu_gpu\\lib\\site-packages\\sklearn\\cross_decomposition\\_pls.py:503: FutureWarning: The attribute `coef_` will be transposed in version 1.3 to be consistent with other linear models in scikit-learn. Currently, `coef_` has a shape of (n_features, n_targets) and in the future it will have a shape of (n_targets, n_features).\n",
      "  warnings.warn(\n"
     ]
    },
    {
     "name": "stdout",
     "output_type": "stream",
     "text": [
      "\r",
      "23% completed"
     ]
    },
    {
     "name": "stderr",
     "output_type": "stream",
     "text": [
      "C:\\Users\\laral\\Anaconda3\\envs\\wenqu_gpu\\lib\\site-packages\\sklearn\\cross_decomposition\\_pls.py:503: FutureWarning: The attribute `coef_` will be transposed in version 1.3 to be consistent with other linear models in scikit-learn. Currently, `coef_` has a shape of (n_features, n_targets) and in the future it will have a shape of (n_targets, n_features).\n",
      "  warnings.warn(\n"
     ]
    },
    {
     "name": "stdout",
     "output_type": "stream",
     "text": [
      "\r",
      "26% completed"
     ]
    },
    {
     "name": "stderr",
     "output_type": "stream",
     "text": [
      "C:\\Users\\laral\\Anaconda3\\envs\\wenqu_gpu\\lib\\site-packages\\sklearn\\cross_decomposition\\_pls.py:503: FutureWarning: The attribute `coef_` will be transposed in version 1.3 to be consistent with other linear models in scikit-learn. Currently, `coef_` has a shape of (n_features, n_targets) and in the future it will have a shape of (n_targets, n_features).\n",
      "  warnings.warn(\n"
     ]
    },
    {
     "name": "stdout",
     "output_type": "stream",
     "text": [
      "\r",
      "30% completed"
     ]
    },
    {
     "name": "stderr",
     "output_type": "stream",
     "text": [
      "C:\\Users\\laral\\Anaconda3\\envs\\wenqu_gpu\\lib\\site-packages\\sklearn\\cross_decomposition\\_pls.py:503: FutureWarning: The attribute `coef_` will be transposed in version 1.3 to be consistent with other linear models in scikit-learn. Currently, `coef_` has a shape of (n_features, n_targets) and in the future it will have a shape of (n_targets, n_features).\n",
      "  warnings.warn(\n"
     ]
    },
    {
     "name": "stdout",
     "output_type": "stream",
     "text": [
      "\r",
      "33% completed"
     ]
    },
    {
     "name": "stderr",
     "output_type": "stream",
     "text": [
      "C:\\Users\\laral\\Anaconda3\\envs\\wenqu_gpu\\lib\\site-packages\\sklearn\\cross_decomposition\\_pls.py:503: FutureWarning: The attribute `coef_` will be transposed in version 1.3 to be consistent with other linear models in scikit-learn. Currently, `coef_` has a shape of (n_features, n_targets) and in the future it will have a shape of (n_targets, n_features).\n",
      "  warnings.warn(\n"
     ]
    },
    {
     "name": "stdout",
     "output_type": "stream",
     "text": [
      "\r",
      "36% completed"
     ]
    },
    {
     "name": "stderr",
     "output_type": "stream",
     "text": [
      "C:\\Users\\laral\\Anaconda3\\envs\\wenqu_gpu\\lib\\site-packages\\sklearn\\cross_decomposition\\_pls.py:503: FutureWarning: The attribute `coef_` will be transposed in version 1.3 to be consistent with other linear models in scikit-learn. Currently, `coef_` has a shape of (n_features, n_targets) and in the future it will have a shape of (n_targets, n_features).\n",
      "  warnings.warn(\n"
     ]
    },
    {
     "name": "stdout",
     "output_type": "stream",
     "text": [
      "\r",
      "40% completed"
     ]
    },
    {
     "name": "stderr",
     "output_type": "stream",
     "text": [
      "C:\\Users\\laral\\Anaconda3\\envs\\wenqu_gpu\\lib\\site-packages\\sklearn\\cross_decomposition\\_pls.py:503: FutureWarning: The attribute `coef_` will be transposed in version 1.3 to be consistent with other linear models in scikit-learn. Currently, `coef_` has a shape of (n_features, n_targets) and in the future it will have a shape of (n_targets, n_features).\n",
      "  warnings.warn(\n"
     ]
    },
    {
     "name": "stdout",
     "output_type": "stream",
     "text": [
      "\r",
      "43% completed"
     ]
    },
    {
     "name": "stderr",
     "output_type": "stream",
     "text": [
      "C:\\Users\\laral\\Anaconda3\\envs\\wenqu_gpu\\lib\\site-packages\\sklearn\\cross_decomposition\\_pls.py:503: FutureWarning: The attribute `coef_` will be transposed in version 1.3 to be consistent with other linear models in scikit-learn. Currently, `coef_` has a shape of (n_features, n_targets) and in the future it will have a shape of (n_targets, n_features).\n",
      "  warnings.warn(\n"
     ]
    },
    {
     "name": "stdout",
     "output_type": "stream",
     "text": [
      "\r",
      "46% completed"
     ]
    },
    {
     "name": "stderr",
     "output_type": "stream",
     "text": [
      "C:\\Users\\laral\\Anaconda3\\envs\\wenqu_gpu\\lib\\site-packages\\sklearn\\cross_decomposition\\_pls.py:503: FutureWarning: The attribute `coef_` will be transposed in version 1.3 to be consistent with other linear models in scikit-learn. Currently, `coef_` has a shape of (n_features, n_targets) and in the future it will have a shape of (n_targets, n_features).\n",
      "  warnings.warn(\n"
     ]
    },
    {
     "name": "stdout",
     "output_type": "stream",
     "text": [
      "\r",
      "50% completed"
     ]
    },
    {
     "name": "stderr",
     "output_type": "stream",
     "text": [
      "C:\\Users\\laral\\Anaconda3\\envs\\wenqu_gpu\\lib\\site-packages\\sklearn\\cross_decomposition\\_pls.py:503: FutureWarning: The attribute `coef_` will be transposed in version 1.3 to be consistent with other linear models in scikit-learn. Currently, `coef_` has a shape of (n_features, n_targets) and in the future it will have a shape of (n_targets, n_features).\n",
      "  warnings.warn(\n"
     ]
    },
    {
     "name": "stdout",
     "output_type": "stream",
     "text": [
      "\r",
      "53% completed"
     ]
    },
    {
     "name": "stderr",
     "output_type": "stream",
     "text": [
      "C:\\Users\\laral\\Anaconda3\\envs\\wenqu_gpu\\lib\\site-packages\\sklearn\\cross_decomposition\\_pls.py:503: FutureWarning: The attribute `coef_` will be transposed in version 1.3 to be consistent with other linear models in scikit-learn. Currently, `coef_` has a shape of (n_features, n_targets) and in the future it will have a shape of (n_targets, n_features).\n",
      "  warnings.warn(\n",
      "C:\\Users\\laral\\Anaconda3\\envs\\wenqu_gpu\\lib\\site-packages\\sklearn\\cross_decomposition\\_pls.py:110: ConvergenceWarning: Maximum number of iterations reached\n",
      "  warnings.warn(\"Maximum number of iterations reached\", ConvergenceWarning)\n"
     ]
    },
    {
     "name": "stdout",
     "output_type": "stream",
     "text": [
      "\r",
      "56% completed"
     ]
    },
    {
     "name": "stderr",
     "output_type": "stream",
     "text": [
      "C:\\Users\\laral\\Anaconda3\\envs\\wenqu_gpu\\lib\\site-packages\\sklearn\\cross_decomposition\\_pls.py:503: FutureWarning: The attribute `coef_` will be transposed in version 1.3 to be consistent with other linear models in scikit-learn. Currently, `coef_` has a shape of (n_features, n_targets) and in the future it will have a shape of (n_targets, n_features).\n",
      "  warnings.warn(\n"
     ]
    },
    {
     "name": "stdout",
     "output_type": "stream",
     "text": [
      "\r",
      "60% completed"
     ]
    },
    {
     "name": "stderr",
     "output_type": "stream",
     "text": [
      "C:\\Users\\laral\\Anaconda3\\envs\\wenqu_gpu\\lib\\site-packages\\sklearn\\cross_decomposition\\_pls.py:503: FutureWarning: The attribute `coef_` will be transposed in version 1.3 to be consistent with other linear models in scikit-learn. Currently, `coef_` has a shape of (n_features, n_targets) and in the future it will have a shape of (n_targets, n_features).\n",
      "  warnings.warn(\n"
     ]
    },
    {
     "name": "stdout",
     "output_type": "stream",
     "text": [
      "\r",
      "63% completed"
     ]
    },
    {
     "name": "stderr",
     "output_type": "stream",
     "text": [
      "C:\\Users\\laral\\Anaconda3\\envs\\wenqu_gpu\\lib\\site-packages\\sklearn\\cross_decomposition\\_pls.py:503: FutureWarning: The attribute `coef_` will be transposed in version 1.3 to be consistent with other linear models in scikit-learn. Currently, `coef_` has a shape of (n_features, n_targets) and in the future it will have a shape of (n_targets, n_features).\n",
      "  warnings.warn(\n"
     ]
    },
    {
     "name": "stdout",
     "output_type": "stream",
     "text": [
      "\r",
      "66% completed"
     ]
    },
    {
     "name": "stderr",
     "output_type": "stream",
     "text": [
      "C:\\Users\\laral\\Anaconda3\\envs\\wenqu_gpu\\lib\\site-packages\\sklearn\\cross_decomposition\\_pls.py:503: FutureWarning: The attribute `coef_` will be transposed in version 1.3 to be consistent with other linear models in scikit-learn. Currently, `coef_` has a shape of (n_features, n_targets) and in the future it will have a shape of (n_targets, n_features).\n",
      "  warnings.warn(\n"
     ]
    },
    {
     "name": "stdout",
     "output_type": "stream",
     "text": [
      "\r",
      "70% completed"
     ]
    },
    {
     "name": "stderr",
     "output_type": "stream",
     "text": [
      "C:\\Users\\laral\\Anaconda3\\envs\\wenqu_gpu\\lib\\site-packages\\sklearn\\cross_decomposition\\_pls.py:503: FutureWarning: The attribute `coef_` will be transposed in version 1.3 to be consistent with other linear models in scikit-learn. Currently, `coef_` has a shape of (n_features, n_targets) and in the future it will have a shape of (n_targets, n_features).\n",
      "  warnings.warn(\n"
     ]
    },
    {
     "name": "stdout",
     "output_type": "stream",
     "text": [
      "\r",
      "73% completed"
     ]
    },
    {
     "name": "stderr",
     "output_type": "stream",
     "text": [
      "C:\\Users\\laral\\Anaconda3\\envs\\wenqu_gpu\\lib\\site-packages\\sklearn\\cross_decomposition\\_pls.py:503: FutureWarning: The attribute `coef_` will be transposed in version 1.3 to be consistent with other linear models in scikit-learn. Currently, `coef_` has a shape of (n_features, n_targets) and in the future it will have a shape of (n_targets, n_features).\n",
      "  warnings.warn(\n"
     ]
    },
    {
     "name": "stdout",
     "output_type": "stream",
     "text": [
      "\r",
      "76% completed"
     ]
    },
    {
     "name": "stderr",
     "output_type": "stream",
     "text": [
      "C:\\Users\\laral\\Anaconda3\\envs\\wenqu_gpu\\lib\\site-packages\\sklearn\\cross_decomposition\\_pls.py:503: FutureWarning: The attribute `coef_` will be transposed in version 1.3 to be consistent with other linear models in scikit-learn. Currently, `coef_` has a shape of (n_features, n_targets) and in the future it will have a shape of (n_targets, n_features).\n",
      "  warnings.warn(\n"
     ]
    },
    {
     "name": "stdout",
     "output_type": "stream",
     "text": [
      "\r",
      "80% completed"
     ]
    },
    {
     "name": "stderr",
     "output_type": "stream",
     "text": [
      "C:\\Users\\laral\\Anaconda3\\envs\\wenqu_gpu\\lib\\site-packages\\sklearn\\cross_decomposition\\_pls.py:503: FutureWarning: The attribute `coef_` will be transposed in version 1.3 to be consistent with other linear models in scikit-learn. Currently, `coef_` has a shape of (n_features, n_targets) and in the future it will have a shape of (n_targets, n_features).\n",
      "  warnings.warn(\n"
     ]
    },
    {
     "name": "stdout",
     "output_type": "stream",
     "text": [
      "\r",
      "83% completed"
     ]
    },
    {
     "name": "stderr",
     "output_type": "stream",
     "text": [
      "C:\\Users\\laral\\Anaconda3\\envs\\wenqu_gpu\\lib\\site-packages\\sklearn\\cross_decomposition\\_pls.py:503: FutureWarning: The attribute `coef_` will be transposed in version 1.3 to be consistent with other linear models in scikit-learn. Currently, `coef_` has a shape of (n_features, n_targets) and in the future it will have a shape of (n_targets, n_features).\n",
      "  warnings.warn(\n"
     ]
    },
    {
     "name": "stdout",
     "output_type": "stream",
     "text": [
      "\r",
      "86% completed"
     ]
    },
    {
     "name": "stderr",
     "output_type": "stream",
     "text": [
      "C:\\Users\\laral\\Anaconda3\\envs\\wenqu_gpu\\lib\\site-packages\\sklearn\\cross_decomposition\\_pls.py:503: FutureWarning: The attribute `coef_` will be transposed in version 1.3 to be consistent with other linear models in scikit-learn. Currently, `coef_` has a shape of (n_features, n_targets) and in the future it will have a shape of (n_targets, n_features).\n",
      "  warnings.warn(\n"
     ]
    },
    {
     "name": "stdout",
     "output_type": "stream",
     "text": [
      "\r",
      "90% completed"
     ]
    },
    {
     "name": "stderr",
     "output_type": "stream",
     "text": [
      "C:\\Users\\laral\\Anaconda3\\envs\\wenqu_gpu\\lib\\site-packages\\sklearn\\cross_decomposition\\_pls.py:503: FutureWarning: The attribute `coef_` will be transposed in version 1.3 to be consistent with other linear models in scikit-learn. Currently, `coef_` has a shape of (n_features, n_targets) and in the future it will have a shape of (n_targets, n_features).\n",
      "  warnings.warn(\n"
     ]
    },
    {
     "name": "stdout",
     "output_type": "stream",
     "text": [
      "\r",
      "93% completed"
     ]
    },
    {
     "name": "stderr",
     "output_type": "stream",
     "text": [
      "C:\\Users\\laral\\Anaconda3\\envs\\wenqu_gpu\\lib\\site-packages\\sklearn\\cross_decomposition\\_pls.py:503: FutureWarning: The attribute `coef_` will be transposed in version 1.3 to be consistent with other linear models in scikit-learn. Currently, `coef_` has a shape of (n_features, n_targets) and in the future it will have a shape of (n_targets, n_features).\n",
      "  warnings.warn(\n",
      "C:\\Users\\laral\\Anaconda3\\envs\\wenqu_gpu\\lib\\site-packages\\sklearn\\cross_decomposition\\_pls.py:110: ConvergenceWarning: Maximum number of iterations reached\n",
      "  warnings.warn(\"Maximum number of iterations reached\", ConvergenceWarning)\n"
     ]
    },
    {
     "name": "stdout",
     "output_type": "stream",
     "text": [
      "\r",
      "96% completed"
     ]
    },
    {
     "name": "stderr",
     "output_type": "stream",
     "text": [
      "C:\\Users\\laral\\Anaconda3\\envs\\wenqu_gpu\\lib\\site-packages\\sklearn\\cross_decomposition\\_pls.py:503: FutureWarning: The attribute `coef_` will be transposed in version 1.3 to be consistent with other linear models in scikit-learn. Currently, `coef_` has a shape of (n_features, n_targets) and in the future it will have a shape of (n_targets, n_features).\n",
      "  warnings.warn(\n"
     ]
    },
    {
     "name": "stdout",
     "output_type": "stream",
     "text": [
      "100% completed\n",
      "Optimised number of PLS components:  10\n",
      "Wavelengths to be discarded  101\n",
      "Optimised MSEP  0.007261072825695709\n",
      "\n",
      "R2 calib: 0.122\n",
      "R2 CV: 0.014\n",
      "MSE calib: 0.007\n",
      "MSE CV: 0.007\n"
     ]
    },
    {
     "name": "stderr",
     "output_type": "stream",
     "text": [
      "C:\\Users\\laral\\Anaconda3\\envs\\wenqu_gpu\\lib\\site-packages\\sklearn\\cross_decomposition\\_pls.py:503: FutureWarning: The attribute `coef_` will be transposed in version 1.3 to be consistent with other linear models in scikit-learn. Currently, `coef_` has a shape of (n_features, n_targets) and in the future it will have a shape of (n_targets, n_features).\n",
      "  warnings.warn(\n"
     ]
    },
    {
     "ename": "TypeError",
     "evalue": "expected 1D vector for x",
     "output_type": "error",
     "traceback": [
      "\u001b[1;31m---------------------------------------------------------------------------\u001b[0m",
      "\u001b[1;31mTypeError\u001b[0m                                 Traceback (most recent call last)",
      "Input \u001b[1;32mIn [18]\u001b[0m, in \u001b[0;36m<cell line: 2>\u001b[1;34m()\u001b[0m\n\u001b[0;32m      1\u001b[0m opt_Xc, ncomp, wav, sorted_ind \u001b[38;5;241m=\u001b[39m pls_variable_selection(x, y, \u001b[38;5;241m30\u001b[39m)\n\u001b[1;32m----> 2\u001b[0m \u001b[43msimple_pls_cv\u001b[49m\u001b[43m(\u001b[49m\u001b[43mopt_Xc\u001b[49m\u001b[43m,\u001b[49m\u001b[43m \u001b[49m\u001b[43my\u001b[49m\u001b[43m,\u001b[49m\u001b[43m \u001b[49m\u001b[43mncomp\u001b[49m\u001b[43m)\u001b[49m\n",
      "Input \u001b[1;32mIn [17]\u001b[0m, in \u001b[0;36msimple_pls_cv\u001b[1;34m(X, y, n_comp)\u001b[0m\n\u001b[0;32m     21\u001b[0m \u001b[38;5;28mprint\u001b[39m(\u001b[38;5;124m'\u001b[39m\u001b[38;5;124mMSE CV: \u001b[39m\u001b[38;5;132;01m%5.3f\u001b[39;00m\u001b[38;5;124m'\u001b[39m \u001b[38;5;241m%\u001b[39m mse_cv)\n\u001b[0;32m     22\u001b[0m     \u001b[38;5;66;03m# Plot regression \u001b[39;00m\n\u001b[1;32m---> 24\u001b[0m z \u001b[38;5;241m=\u001b[39m \u001b[43mnp\u001b[49m\u001b[38;5;241;43m.\u001b[39;49m\u001b[43mpolyfit\u001b[49m\u001b[43m(\u001b[49m\u001b[43my\u001b[49m\u001b[43m,\u001b[49m\u001b[43m \u001b[49m\u001b[43my_cv\u001b[49m\u001b[43m,\u001b[49m\u001b[43m \u001b[49m\u001b[38;5;241;43m1\u001b[39;49m\u001b[43m)\u001b[49m\n\u001b[0;32m     25\u001b[0m \u001b[38;5;28;01mwith\u001b[39;00m plt\u001b[38;5;241m.\u001b[39mstyle\u001b[38;5;241m.\u001b[39mcontext((\u001b[38;5;124m'\u001b[39m\u001b[38;5;124mggplot\u001b[39m\u001b[38;5;124m'\u001b[39m)):\n\u001b[0;32m     26\u001b[0m     fig, ax \u001b[38;5;241m=\u001b[39m plt\u001b[38;5;241m.\u001b[39msubplots(figsize\u001b[38;5;241m=\u001b[39m(\u001b[38;5;241m9\u001b[39m, \u001b[38;5;241m5\u001b[39m))\n",
      "File \u001b[1;32m<__array_function__ internals>:180\u001b[0m, in \u001b[0;36mpolyfit\u001b[1;34m(*args, **kwargs)\u001b[0m\n",
      "File \u001b[1;32m~\\Anaconda3\\envs\\wenqu_gpu\\lib\\site-packages\\numpy\\lib\\polynomial.py:636\u001b[0m, in \u001b[0;36mpolyfit\u001b[1;34m(x, y, deg, rcond, full, w, cov)\u001b[0m\n\u001b[0;32m    634\u001b[0m     \u001b[38;5;28;01mraise\u001b[39;00m \u001b[38;5;167;01mValueError\u001b[39;00m(\u001b[38;5;124m\"\u001b[39m\u001b[38;5;124mexpected deg >= 0\u001b[39m\u001b[38;5;124m\"\u001b[39m)\n\u001b[0;32m    635\u001b[0m \u001b[38;5;28;01mif\u001b[39;00m x\u001b[38;5;241m.\u001b[39mndim \u001b[38;5;241m!=\u001b[39m \u001b[38;5;241m1\u001b[39m:\n\u001b[1;32m--> 636\u001b[0m     \u001b[38;5;28;01mraise\u001b[39;00m \u001b[38;5;167;01mTypeError\u001b[39;00m(\u001b[38;5;124m\"\u001b[39m\u001b[38;5;124mexpected 1D vector for x\u001b[39m\u001b[38;5;124m\"\u001b[39m)\n\u001b[0;32m    637\u001b[0m \u001b[38;5;28;01mif\u001b[39;00m x\u001b[38;5;241m.\u001b[39msize \u001b[38;5;241m==\u001b[39m \u001b[38;5;241m0\u001b[39m:\n\u001b[0;32m    638\u001b[0m     \u001b[38;5;28;01mraise\u001b[39;00m \u001b[38;5;167;01mTypeError\u001b[39;00m(\u001b[38;5;124m\"\u001b[39m\u001b[38;5;124mexpected non-empty vector for x\u001b[39m\u001b[38;5;124m\"\u001b[39m)\n",
      "\u001b[1;31mTypeError\u001b[0m: expected 1D vector for x"
     ]
    }
   ],
   "source": [
    "opt_Xc, ncomp, wav, sorted_ind = pls_variable_selection(x, y, 30)\n",
    "simple_pls_cv(opt_Xc, y, ncomp)"
   ]
  },
  {
   "cell_type": "code",
   "execution_count": null,
   "id": "a4196a9f",
   "metadata": {},
   "outputs": [],
   "source": []
  },
  {
   "cell_type": "code",
   "execution_count": null,
   "id": "0d2f8e37",
   "metadata": {},
   "outputs": [],
   "source": []
  }
 ],
 "metadata": {
  "kernelspec": {
   "display_name": "wenqu_gdal",
   "language": "python",
   "name": "wenqu_gdal"
  },
  "language_info": {
   "codemirror_mode": {
    "name": "ipython",
    "version": 3
   },
   "file_extension": ".py",
   "mimetype": "text/x-python",
   "name": "python",
   "nbconvert_exporter": "python",
   "pygments_lexer": "ipython3",
   "version": "3.9.15"
  }
 },
 "nbformat": 4,
 "nbformat_minor": 5
}
