{
 "cells": [
  {
   "cell_type": "code",
   "execution_count": 1,
   "id": "339a3834",
   "metadata": {},
   "outputs": [],
   "source": [
    "import numpy as np\n",
    "# import torch\n",
    "# from arsf_envi_reader import envi_header\n",
    "import shutil\n",
    "import os\n",
    "import json\n",
    "import math\n",
    "import matplotlib.pyplot as plt\n",
    "import pandas as pd\n",
    "import matplotlib.pyplot as plt\n",
    "import matplotlib.gridspec as gridspec\n",
    "from osgeo import gdal,ogr,osr\n",
    "from scipy.optimize import curve_fit\n",
    "# from tqdm import tqdm\n",
    "# import multiprocess as mp\n",
    "from scipy import ndimage\n",
    "from numpy import trapz"
   ]
  },
  {
   "cell_type": "code",
   "execution_count": 2,
   "id": "1fee43f7",
   "metadata": {},
   "outputs": [],
   "source": [
    "# torch.cuda.is_available()"
   ]
  },
  {
   "cell_type": "code",
   "execution_count": null,
   "id": "6e7f42bd",
   "metadata": {},
   "outputs": [],
   "source": [
    "high_res_img = gdal.Open(r'D:\\wenqu\\mosaic\\site2a\\site2a_simulation_mosaic')\n",
    "high_res_radiance = gdal.Open(r'D:\\wenqu\\mosaic\\site2a\\site2a_simulation_mosaic').ReadAsArray() \n",
    "\n",
    "high_res_radiance.shape"
   ]
  },
  {
   "cell_type": "code",
   "execution_count": null,
   "id": "812e7068",
   "metadata": {},
   "outputs": [],
   "source": [
    "fig = plt.figure(figsize = (10,10))\n",
    "plt.imshow(high_res_radiance[121,:,:], interpolation='nearest')\n",
    "plt.show()"
   ]
  },
  {
   "cell_type": "code",
   "execution_count": null,
   "id": "402da75c-f9cc-4e17-aa43-72baa63b053b",
   "metadata": {},
   "outputs": [],
   "source": [
    "b74 = high_res_radiance[2, :, :]\n",
    "b74_mean = ndimage.generic_filter(b74, np.nanmean, size=9, mode='constant', cval=np.NaN)\n",
    "np.save('E:/wenqu/numpy_file/npy_file/site2a/b3_mean.npy', b74_mean)"
   ]
  },
  {
   "cell_type": "code",
   "execution_count": null,
   "id": "5b4234e4-9056-489e-9b1e-6ba17fe28cfc",
   "metadata": {},
   "outputs": [],
   "source": []
  },
  {
   "cell_type": "code",
   "execution_count": null,
   "id": "11f7e74b-e327-494f-be16-b2a95cbd2870",
   "metadata": {},
   "outputs": [],
   "source": []
  },
  {
   "cell_type": "code",
   "execution_count": null,
   "id": "1d33254d-f1ec-422b-82f9-c0faef7859e1",
   "metadata": {},
   "outputs": [],
   "source": []
  },
  {
   "cell_type": "code",
   "execution_count": null,
   "id": "1ba95875-e8c8-4029-b3c5-7c2d5cac60cc",
   "metadata": {},
   "outputs": [],
   "source": []
  },
  {
   "cell_type": "code",
   "execution_count": null,
   "id": "2a2ed191-fd85-4026-be52-4b89e1f41342",
   "metadata": {},
   "outputs": [],
   "source": []
  },
  {
   "cell_type": "code",
   "execution_count": null,
   "id": "c9e3c47c-d6b8-45f7-ba03-0d3796491117",
   "metadata": {},
   "outputs": [],
   "source": []
  },
  {
   "cell_type": "code",
   "execution_count": null,
   "id": "6e28451a-ec07-4c45-8142-c038ddbc14ec",
   "metadata": {},
   "outputs": [],
   "source": []
  },
  {
   "cell_type": "code",
   "execution_count": null,
   "id": "0e2a9988",
   "metadata": {},
   "outputs": [],
   "source": []
  },
  {
   "cell_type": "code",
   "execution_count": 5,
   "id": "2b08add0",
   "metadata": {},
   "outputs": [],
   "source": [
    "b74 = high_res_radiance[73, :, :]\n",
    "b74_mean = ndimage.generic_filter(b74, np.nanmean, size=9, mode='constant', cval=np.NaN)\n",
    "np.save('E:/wenqu/numpy_file/npy_file/site2a/b74_mean.npy', b74_mean)\n",
    "\n",
    "b58 = high_res_radiance[57, :, :]\n",
    "b58_mean = ndimage.generic_filter(b58, np.nanmean, size=9, mode='constant', cval=np.NaN)\n",
    "np.save('E:/wenqu/numpy_file/npy_file/site2a/b58_mean.npy', b58_mean)\n",
    "\n",
    "\n",
    "b29 = high_res_radiance[28, :, :]\n",
    "b29_mean = ndimage.generic_filter(b29, np.nanmean, size=9, mode='constant', cval=np.NaN)\n",
    "np.save('E:/wenqu/numpy_file/npy_file/site2a/b29_mean.npy', b29_mean)\n",
    "\n",
    "b86 = high_res_radiance[85, :, :]\n",
    "b86_mean = ndimage.generic_filter(b86, np.nanmean, size=9, mode='constant', cval=np.NaN)\n",
    "np.save('E:/wenqu/numpy_file/npy_file/site2a/b86_mean.npy', b86_mean)\n",
    "\n",
    "b88 = high_res_radiance[87, :, :]\n",
    "b88_mean = ndimage.generic_filter(b88, np.nanmean, size=9, mode='constant', cval=np.NaN)\n",
    "np.save('E:/wenqu/numpy_file/npy_file/site2a/b88_mean.npy', b88_mean)\n",
    "\n",
    "\n",
    "b36 = high_res_radiance[35, :, :]\n",
    "b36_mean = ndimage.generic_filter(b36, np.nanmean, size=9, mode='constant', cval=np.NaN)\n",
    "np.save('E:/wenqu/numpy_file/npy_file/site2a/b36_mean.npy', b36_mean)\n",
    "\n",
    "\n",
    "b90= high_res_radiance[89, :, :]\n",
    "b90_std = ndimage.generic_filter(b90, np.nanstd, size=9, mode='constant', cval=np.NaN)\n",
    "np.save('E:/wenqu/numpy_file/npy_file/site2a/b90_std.npy', b90_std)\n",
    "\n",
    "\n",
    "b73= high_res_radiance[72, :, :]\n",
    "b73_std = ndimage.generic_filter(b73, np.nanstd, size=9, mode='constant', cval=np.NaN)\n",
    "np.save('E:/wenqu/numpy_file/npy_file/site2a/b73_std.npy', b73_std)\n",
    "\n",
    "b97 = high_res_radiance[96, :, :]\n",
    "b97_mean = ndimage.generic_filter(b97, np.nanmean, size=9, mode='constant', cval=np.NaN)\n",
    "np.save('E:/wenqu/numpy_file/npy_file/site2a/b97_mean.npy', b97_mean)\n",
    "\n",
    "\n",
    "b80 = high_res_radiance[79, :, :]\n",
    "b80_mean = ndimage.generic_filter(b80, np.nanmean, size=9, mode='constant', cval=np.NaN)\n",
    "np.save('E:/wenqu/numpy_file/npy_file/site2a/b80_mean.npy', b80_mean)\n",
    "\n",
    "\n",
    "\n",
    "b76 = high_res_radiance[75, :, :]\n",
    "b76_mean = ndimage.generic_filter(b76, np.nanmean, size=9, mode='constant', cval=np.NaN)\n",
    "np.save('E:/wenqu/numpy_file/npy_file/site2a/b76_mean.npy', b76_mean)\n",
    "\n",
    "\n",
    "\n",
    "b82 = high_res_radiance[81, :, :]\n",
    "b82_mean = ndimage.generic_filter(b82, np.nanmean, size=9, mode='constant', cval=np.NaN)\n",
    "np.save('E:/wenqu/numpy_file/npy_file/site2a/b82_mean.npy', b82_mean)\n",
    "\n",
    "\n"
   ]
  },
  {
   "cell_type": "code",
   "execution_count": null,
   "id": "0fb24f2b",
   "metadata": {},
   "outputs": [],
   "source": []
  },
  {
   "cell_type": "code",
   "execution_count": null,
   "id": "62d2f126",
   "metadata": {},
   "outputs": [],
   "source": []
  },
  {
   "cell_type": "code",
   "execution_count": 6,
   "id": "c4968915",
   "metadata": {},
   "outputs": [],
   "source": [
    "b94= high_res_radiance[93, :, :]\n",
    "b94_mean = ndimage.generic_filter(b94, np.nanmean, size=9, mode='constant', cval=np.NaN)\n",
    "np.save('E:/wenqu/numpy_file/npy_file/site2a/b94_mean.npy', b94_mean)\n",
    "\n",
    "b40= high_res_radiance[39, :, :]\n",
    "b40_mean = ndimage.generic_filter(b40, np.nanmean, size=9, mode='constant', cval=np.NaN)\n",
    "np.save('E:/wenqu/numpy_file/npy_file/site2a/b40_mean.npy', b40_mean)\n",
    "\n",
    "\n",
    "b65= high_res_radiance[64, :, :]\n",
    "b65_mean = ndimage.generic_filter(b65, np.nanmean, size=9, mode='constant', cval=np.NaN)\n",
    "np.save('E:/wenqu/numpy_file/npy_file/site2a/b65_mean.npy', b65_mean)\n",
    "\n",
    "b93= high_res_radiance[92, :, :]\n",
    "b93_mean = ndimage.generic_filter(b93, np.nanmean, size=9, mode='constant', cval=np.NaN)\n",
    "np.save('E:/wenqu/numpy_file/npy_file/site2a/b93_mean.npy', b93_mean)\n",
    "\n",
    "b39= high_res_radiance[38, :, :]\n",
    "b39_mean = ndimage.generic_filter(b39, np.nanmean, size=9, mode='constant', cval=np.NaN)\n",
    "np.save('E:/wenqu/numpy_file/npy_file/site2a/b39_mean.npy', b39_mean)\n",
    "\n",
    "b87= high_res_radiance[86, :, :]\n",
    "b87_std = ndimage.generic_filter(b87, np.nanstd, size=9, mode='constant', cval=np.NaN)\n",
    "np.save('E:/wenqu/numpy_file/npy_file/site2a/b87_std.npy', b87_std)\n",
    "\n",
    "b78= high_res_radiance[77, :, :]\n",
    "b78_mean = ndimage.generic_filter(b78, np.nanmean, size=9, mode='constant', cval=np.NaN)\n",
    "np.save('E:/wenqu/numpy_file/npy_file/site2a/b78_mean.npy', b78_mean)\n",
    "\n",
    "b92= high_res_radiance[91, :, :]\n",
    "b92_mean = ndimage.generic_filter(b92, np.nanmean, size=9, mode='constant', cval=np.NaN)\n",
    "np.save('E:/wenqu/numpy_file/npy_file/site2a/b92_mean.npy', b92_mean)\n",
    "\n",
    "b95= high_res_radiance[94, :, :]\n",
    "b95_mean = ndimage.generic_filter(b95, np.nanmean, size=9, mode='constant', cval=np.NaN)\n",
    "np.save('E:/wenqu/numpy_file/npy_file/site2a/b95_mean.npy', b95_mean)\n",
    "\n",
    "b72 = high_res_radiance[71, :, :]\n",
    "b72_mean = ndimage.generic_filter(b72, np.nanmean, size=9, mode='constant', cval=np.NaN)\n",
    "np.save('E:/wenqu/numpy_file/npy_file/site2a/b72_mean.npy', b72_mean)\n",
    "\n",
    "b74= high_res_radiance[73, :, :]\n",
    "b74_std = ndimage.generic_filter(b74, np.nanstd, size=9, mode='constant', cval=np.NaN)\n",
    "np.save('E:/wenqu/numpy_file/npy_file/site2a/b74_std.npy', b74_std)\n",
    "\n",
    "b80= high_res_radiance[79, :, :]\n",
    "b80_std = ndimage.generic_filter(b80, np.nanstd, size=9, mode='constant', cval=np.NaN)\n",
    "np.save('E:/wenqu/numpy_file/npy_file/site2a/b80_std.npy', b80_std)\n",
    "\n",
    "b18 = high_res_radiance[17, :, :]\n",
    "b18_mean = ndimage.generic_filter(b18, np.nanmean, size=9, mode='constant', cval=np.NaN)\n",
    "np.save('E:/wenqu/numpy_file/npy_file/site2a/b18_mean.npy', b18_mean)"
   ]
  },
  {
   "cell_type": "code",
   "execution_count": null,
   "id": "12982266",
   "metadata": {},
   "outputs": [],
   "source": []
  },
  {
   "cell_type": "code",
   "execution_count": null,
   "id": "71a3e691",
   "metadata": {},
   "outputs": [],
   "source": []
  },
  {
   "cell_type": "code",
   "execution_count": null,
   "id": "61551f8d",
   "metadata": {},
   "outputs": [],
   "source": []
  },
  {
   "cell_type": "code",
   "execution_count": null,
   "id": "9a5a43e3",
   "metadata": {},
   "outputs": [],
   "source": []
  },
  {
   "cell_type": "code",
   "execution_count": null,
   "id": "21576684",
   "metadata": {},
   "outputs": [],
   "source": []
  },
  {
   "cell_type": "code",
   "execution_count": 6,
   "id": "997e9873",
   "metadata": {},
   "outputs": [],
   "source": [
    "b94= high_res_radiance[93, :, :]\n",
    "b94_std = ndimage.generic_filter(b94, np.nanstd, size=9, mode='constant', cval=np.NaN)\n",
    "np.save('E:/wenqu/numpy_file/npy_file/site2a/b94_std.npy', b94_std)"
   ]
  },
  {
   "cell_type": "code",
   "execution_count": 7,
   "id": "a15ae3cd",
   "metadata": {},
   "outputs": [],
   "source": [
    "# b77_std\n",
    "b77= high_res_radiance[76, :, :]\n",
    "b77_std = ndimage.generic_filter(b77, np.nanstd, size=9, mode='constant', cval=np.NaN)\n",
    "np.save('E:/wenqu/numpy_file/npy_file/site2a/b77_std.npy', b77_std)\n",
    "# b34_mean\n",
    "b34= high_res_radiance[33, :, :]\n",
    "b34_mean = ndimage.generic_filter(b34, np.nanmean, size=9, mode='constant', cval=np.NaN)\n",
    "np.save('E:/wenqu/numpy_file/npy_file/site2a/b34_mean.npy', b34_mean)\n",
    "# b55_std\n",
    "b55= high_res_radiance[54, :, :]\n",
    "b55_std = ndimage.generic_filter(b55, np.nanstd, size=9, mode='constant', cval=np.NaN)\n",
    "np.save('E:/wenqu/numpy_file/npy_file/site2a/b55_std.npy', b55_std)"
   ]
  },
  {
   "cell_type": "code",
   "execution_count": 8,
   "id": "892e8324",
   "metadata": {},
   "outputs": [],
   "source": [
    "# b37_mean\n",
    "b37= high_res_radiance[36, :, :]\n",
    "b37_mean = ndimage.generic_filter(b37, np.nanmean, size=9, mode='constant', cval=np.NaN)\n",
    "np.save('E:/wenqu/numpy_file/npy_file/site2a/b37_mean.npy', b37_mean)"
   ]
  },
  {
   "cell_type": "code",
   "execution_count": 5,
   "id": "a5297ec6",
   "metadata": {},
   "outputs": [],
   "source": [
    "b32= high_res_radiance[31, :, :]\n",
    "b32_mean = ndimage.generic_filter(b32, np.nanmean, size=9, mode='constant', cval=np.NaN)\n",
    "np.save('E:/wenqu/numpy_file/npy_file/site2a/b32_mean.npy', b32_mean)\n",
    "\n",
    "\n",
    "b51 = high_res_radiance[50, :, :]\n",
    "b51_mean = ndimage.generic_filter(b51, np.nanmean, size=9, mode='constant', cval=np.NaN)\n",
    "np.save('E:/wenqu/numpy_file/npy_file/site2a/b51_mean.npy', b51_mean)\n",
    "\n",
    "\n",
    "b87 = high_res_radiance[86, :, :]\n",
    "b87_mean = ndimage.generic_filter(b87, np.nanmean, size=9, mode='constant', cval=np.NaN)\n",
    "np.save('E:/wenqu/numpy_file/npy_file/site2a/b87_mean.npy', b87_mean)\n",
    "\n",
    "b42 = high_res_radiance[41, :, :]\n",
    "b42_mean = ndimage.generic_filter(b42, np.nanmean, size=9, mode='constant', cval=np.NaN)\n",
    "np.save('E:/wenqu/numpy_file/npy_file/site2a/b42_mean.npy', b42_mean)\n",
    "\n",
    "b38 = high_res_radiance[37, :, :]\n",
    "b38_mean = ndimage.generic_filter(b38, np.nanmean, size=9, mode='constant', cval=np.NaN)\n",
    "np.save('E:/wenqu/numpy_file/npy_file/site2a/b38_mean.npy', b38_mean)\n",
    "\n",
    "\n",
    "b119 = high_res_radiance[118, :, :]\n",
    "b119_mean = ndimage.generic_filter(b119, np.nanmean, size=9, mode='constant', cval=np.NaN)\n",
    "np.save('E:/wenqu/numpy_file/npy_file/site2a/b119_mean.npy', b119_mean)\n",
    "\n",
    "\n",
    "b76= high_res_radiance[75, :, :]\n",
    "b76_std = ndimage.generic_filter(b76, np.nanstd, size=9, mode='constant', cval=np.NaN)\n",
    "np.save('E:/wenqu/numpy_file/npy_file/site2a/b76_std.npy', b76_std)\n",
    "\n",
    "b64 = high_res_radiance[63, :, :]\n",
    "b64_mean = ndimage.generic_filter(b64, np.nanmean, size=9, mode='constant', cval=np.NaN)\n",
    "np.save('E:/wenqu/numpy_file/npy_file/site2a/b64_mean.npy', b64_mean)\n"
   ]
  },
  {
   "cell_type": "code",
   "execution_count": 6,
   "id": "159e8df6",
   "metadata": {},
   "outputs": [],
   "source": [
    "b116 = high_res_radiance[115, :, :]\n",
    "b116_mean = ndimage.generic_filter(b116, np.nanmean, size=9, mode='constant', cval=np.NaN)\n",
    "np.save('E:/wenqu/numpy_file/npy_file/site2a/b116_mean.npy', b116_mean)"
   ]
  },
  {
   "cell_type": "code",
   "execution_count": null,
   "id": "18ddcbc2",
   "metadata": {},
   "outputs": [],
   "source": []
  },
  {
   "cell_type": "code",
   "execution_count": null,
   "id": "7a81ca92",
   "metadata": {},
   "outputs": [],
   "source": []
  },
  {
   "cell_type": "code",
   "execution_count": null,
   "id": "f77d5bea",
   "metadata": {},
   "outputs": [],
   "source": []
  },
  {
   "cell_type": "code",
   "execution_count": null,
   "id": "2e2a300a",
   "metadata": {},
   "outputs": [],
   "source": []
  },
  {
   "cell_type": "code",
   "execution_count": null,
   "id": "30a43204",
   "metadata": {},
   "outputs": [],
   "source": []
  },
  {
   "cell_type": "code",
   "execution_count": null,
   "id": "65ec2a1c",
   "metadata": {},
   "outputs": [],
   "source": []
  },
  {
   "cell_type": "code",
   "execution_count": null,
   "id": "0c0bd3cb",
   "metadata": {},
   "outputs": [],
   "source": []
  },
  {
   "cell_type": "code",
   "execution_count": null,
   "id": "cfb58bc9",
   "metadata": {},
   "outputs": [],
   "source": []
  },
  {
   "cell_type": "code",
   "execution_count": null,
   "id": "bd1e9d7c",
   "metadata": {},
   "outputs": [],
   "source": []
  },
  {
   "cell_type": "code",
   "execution_count": null,
   "id": "1135a75e",
   "metadata": {},
   "outputs": [],
   "source": []
  },
  {
   "cell_type": "code",
   "execution_count": null,
   "id": "78e6a629",
   "metadata": {},
   "outputs": [],
   "source": []
  }
 ],
 "metadata": {
  "kernelspec": {
   "display_name": "WChen_2025",
   "language": "python",
   "name": "wchen_2025"
  },
  "language_info": {
   "codemirror_mode": {
    "name": "ipython",
    "version": 3
   },
   "file_extension": ".py",
   "mimetype": "text/x-python",
   "name": "python",
   "nbconvert_exporter": "python",
   "pygments_lexer": "ipython3",
   "version": "3.9.15"
  }
 },
 "nbformat": 4,
 "nbformat_minor": 5
}
