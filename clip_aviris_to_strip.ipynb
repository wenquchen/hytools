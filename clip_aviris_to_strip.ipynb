{
 "cells": [
  {
   "cell_type": "code",
   "execution_count": 15,
   "id": "eadfd5c9",
   "metadata": {},
   "outputs": [],
   "source": [
    "import rasterio\n",
    "from rasterio.windows import Window\n",
    "\n",
    "# 打开TIFF图像\n",
    "input_tif =r\"D:\\wenqu\\chapter1_2\\aviris\\arctic_region\\masked_95_value_map\\site2a_c_1b_ldmc_std.tif\"\n",
    "output_folder = r\"D:\\wenqu\\chapter1_2\\aviris\\arctic_region\\aviris_clip_strip\\site2a\\ldmc\\ldmc_std/\"\n",
    "\n",
    "with rasterio.open(input_tif) as src:\n",
    "    # 获取图像的宽度和高度\n",
    "    width = src.width\n",
    "    height = src.height\n",
    "\n",
    "    # 设定条状切割的宽度（例如每条宽度为100像素）\n",
    "    stripe_width = 120\n",
    "\n",
    "    # 计算所需的条数\n",
    "    num_stripes = width // stripe_width\n",
    "\n",
    "    for i in range(num_stripes):\n",
    "        # 设定当前窗口的切割区域\n",
    "        window = Window(i * stripe_width, 0, stripe_width, height)\n",
    "\n",
    "        # 读取切割后的图像数据\n",
    "        stripe_data = src.read(window=window)\n",
    "\n",
    "        # 定义输出的TIFF文件路径\n",
    "        output_tif = f\"{output_folder}ldmc_std_{i+1}.tif\"\n",
    "\n",
    "        # 保存切割后的TIFF图像\n",
    "        profile = src.profile\n",
    "        profile.update({\n",
    "            'width': stripe_width,\n",
    "            'height': height,\n",
    "            'transform': rasterio.windows.transform(window, src.transform)\n",
    "        })\n",
    "\n",
    "        with rasterio.open(output_tif, 'w', **profile) as dst:\n",
    "            dst.write(stripe_data)\n"
   ]
  },
  {
   "cell_type": "code",
   "execution_count": null,
   "id": "eb6c914e",
   "metadata": {},
   "outputs": [],
   "source": []
  }
 ],
 "metadata": {
  "kernelspec": {
   "display_name": "wenqu_gpu",
   "language": "python",
   "name": "wenqu_gpu"
  },
  "language_info": {
   "codemirror_mode": {
    "name": "ipython",
    "version": 3
   },
   "file_extension": ".py",
   "mimetype": "text/x-python",
   "name": "python",
   "nbconvert_exporter": "python",
   "pygments_lexer": "ipython3",
   "version": "3.9.15"
  }
 },
 "nbformat": 4,
 "nbformat_minor": 5
}
