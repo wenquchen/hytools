{
 "cells": [
  {
   "cell_type": "code",
   "execution_count": 1,
   "id": "0375faa2",
   "metadata": {},
   "outputs": [
    {
     "name": "stderr",
     "output_type": "stream",
     "text": [
      "C:\\Users\\laral\\AppData\\Roaming\\Python\\Python39\\site-packages\\pandas\\core\\arrays\\masked.py:60: UserWarning: Pandas requires version '1.3.6' or newer of 'bottleneck' (version '1.3.5' currently installed).\n",
      "  from pandas.core import (\n"
     ]
    }
   ],
   "source": [
    "import numpy as np\n",
    "import pandas as pd\n",
    "import matplotlib.pyplot as plt\n",
    "from sklearn.preprocessing import scale \n",
    "from sklearn import model_selection\n",
    "from sklearn.model_selection import RepeatedKFold\n",
    "from sklearn.model_selection import train_test_split\n",
    "from sklearn.cross_decomposition import PLSRegression\n",
    "from sklearn.metrics import mean_squared_error\n",
    "from sklearn import model_selection\n",
    "from sklearn.model_selection import train_test_split, cross_val_score, cross_val_predict\n",
    "from sys import stdout\n",
    "import numpy as np\n",
    "import pandas as pd\n",
    "import matplotlib.pyplot as plt\n",
    "import sys\n",
    "from scipy.signal import savgol_filter\n",
    "from scipy.stats import pearsonr\n",
    "from sklearn.cross_decomposition import PLSRegression\n",
    "from sklearn.model_selection import cross_val_predict\n",
    "import numpy as np\n",
    "import matplotlib.pyplot as plt\n",
    "from sklearn.cross_decomposition import PLSRegression\n",
    "from sklearn.metrics import r2_score, mean_squared_error\n",
    "from sklearn.model_selection import cross_val_predict\n",
    "import csv\n",
    "from sklearn.metrics import mean_squared_error, r2_score"
   ]
  },
  {
   "cell_type": "code",
   "execution_count": 2,
   "id": "55dac769",
   "metadata": {},
   "outputs": [],
   "source": [
    "df_LA = pd.read_csv(r\"E:\\wenqu\\UAS_csv\\grouped_la.csv\")\n",
    "df_SLA = pd.read_csv(r\"E:\\wenqu\\UAS_csv\\grouped_sla.csv\")\n",
    "df_LDMC = pd.read_csv(r\"E:\\wenqu\\UAS_csv\\grouped_ldmc.csv\")\n",
    "\n",
    "df_new = pd.read_csv(r\"E:\\wenqu\\UAS_csv\\grouped_newtraits.csv\")\n",
    "df_pc = pd.read_csv(r\"E:\\wenqu\\UAS_csv\\grouped_pc.csv\")"
   ]
  },
  {
   "cell_type": "code",
   "execution_count": 3,
   "id": "ebeb66c1",
   "metadata": {},
   "outputs": [],
   "source": [
    "b_name_mean = []\n",
    "b_name_std = []\n",
    "for i in range(1, 123):\n",
    "    b_mean = 'b' + str(i) + '_mean'\n",
    "    b_name_mean.append(b_mean)\n",
    "    b_std = 'b' + str(i) + '_std'\n",
    "    b_name_std.append(b_std)\n",
    "band_name = b_name_mean + b_name_std\n",
    "band_name = np.array(band_name)"
   ]
  },
  {
   "cell_type": "code",
   "execution_count": 4,
   "id": "9148e33b",
   "metadata": {},
   "outputs": [],
   "source": [
    "y_weighted_sla = df_SLA['summed_sla_cover'].to_numpy()\n",
    "y_weighted_la = df_LA['la_cover'].to_numpy()\n",
    "y_weighted_LDMC = df_LDMC['LDMC_cover'].to_numpy()\n",
    "\n",
    "x_sla = np.array(df_SLA[band_name])\n",
    "x_la = np.array(df_LA[band_name])\n",
    "x_ldmc = np.array(df_LDMC[band_name])\n"
   ]
  },
  {
   "cell_type": "code",
   "execution_count": 5,
   "id": "af623358",
   "metadata": {},
   "outputs": [],
   "source": [
    "y_weighted_pc = df_pc['weighted_pc'].to_numpy()\n",
    "y_weighted_d13c = df_new['weighted_d13c'].to_numpy()\n",
    "y_weighted_pn = df_new['weighted_pn'].to_numpy()\n",
    "y_weighted_d15n = df_new['weighted_d15n'].to_numpy()\n",
    "\n",
    "x_pc = np.array(df_pc[band_name])\n",
    "x_new_traits = np.array(df_new[band_name])"
   ]
  },
  {
   "cell_type": "code",
   "execution_count": 6,
   "id": "43c4e36c",
   "metadata": {},
   "outputs": [],
   "source": [
    "labels_sla = [] \n",
    "for i in range(len(df_SLA['site_quadrat'])):\n",
    "    \n",
    "    site_name = df_SLA['site_quadrat'][i].split(\"_\")[0]\n",
    "\n",
    "    labels_sla.append(site_name)"
   ]
  },
  {
   "cell_type": "code",
   "execution_count": 7,
   "id": "34921d1c",
   "metadata": {},
   "outputs": [],
   "source": [
    "labels_la = [] \n",
    "for i in range(len(df_LA['site_quadrat'])):    \n",
    "    site_name = df_LA['site_quadrat'][i].split(\"_\")[0]\n",
    "    labels_la.append(site_name)"
   ]
  },
  {
   "cell_type": "code",
   "execution_count": 8,
   "id": "44183b60",
   "metadata": {},
   "outputs": [],
   "source": [
    "labels_ldmc = []\n",
    "for i in range(len(df_LDMC['site_quadrat'])):    \n",
    "    site_name = df_LDMC['site_quadrat'][i].split(\"_\")[0]\n",
    "    labels_ldmc.append(site_name)"
   ]
  },
  {
   "cell_type": "code",
   "execution_count": 9,
   "id": "8794338a",
   "metadata": {},
   "outputs": [],
   "source": [
    "labels_pc = []\n",
    "for i in range(len(df_pc['site_quadrat'])):\n",
    "    \n",
    "    site_name = df_pc['site_quadrat'][i].split(\"_\")[0]\n",
    "\n",
    "    labels_pc.append(site_name)"
   ]
  },
  {
   "cell_type": "code",
   "execution_count": 10,
   "id": "08e0308e",
   "metadata": {},
   "outputs": [],
   "source": [
    "labels_d13c = []\n",
    "for i in range(len(df_new['site_quadrat'])):    \n",
    "    site_name = df_new['site_quadrat'][i].split(\"_\")[0]\n",
    "    labels_d13c.append(site_name)"
   ]
  },
  {
   "cell_type": "code",
   "execution_count": 11,
   "id": "34b2c918",
   "metadata": {},
   "outputs": [],
   "source": [
    "labels_pn = []\n",
    "for i in range(len(df_new['site_quadrat'])):    \n",
    "    site_name = df_new['site_quadrat'][i].split(\"_\")[0]\n",
    "    labels_pn.append(site_name)"
   ]
  },
  {
   "cell_type": "code",
   "execution_count": 12,
   "id": "22dcfa27",
   "metadata": {},
   "outputs": [],
   "source": [
    "labels_d15n = labels_d13c"
   ]
  },
  {
   "cell_type": "code",
   "execution_count": 13,
   "id": "ce5063b1",
   "metadata": {},
   "outputs": [],
   "source": [
    "log_y_weighted_sla = np.log(y_weighted_sla)\n",
    "log_y_weighted_la = np.log(y_weighted_la)\n",
    "log_y_weighted_LDMC = np.log(y_weighted_LDMC)\n",
    "log_y_weighted_pc = np.log(y_weighted_pc)\n",
    "# log_y_weighted_d13c = np.log(y_weighted_d13c)\n",
    "log_y_weighted_pn = np.log(y_weighted_pn)"
   ]
  },
  {
   "cell_type": "code",
   "execution_count": 14,
   "id": "80da4862",
   "metadata": {},
   "outputs": [],
   "source": [
    "def pls_variable_selection(X, y, max_comp):\n",
    "    \n",
    "    # Define MSE array to be populated\n",
    "    mse = np.zeros((max_comp,X.shape[1]))\n",
    " \n",
    "    # Loop over the number of PLS components\n",
    "    for i in range(max_comp):\n",
    "        \n",
    "        # Regression with specified number of components, using full spectrum\n",
    "        pls1 = PLSRegression(n_components=i+1)\n",
    "        pls1.fit(X, y)\n",
    "        \n",
    "        # Indices of sort spectra according to ascending absolute value of PLS coefficients\n",
    "        sorted_ind = np.argsort(np.abs(pls1.coef_[:,0]))\n",
    " \n",
    "        # Sort spectra accordingly \n",
    "        Xc = X[:,sorted_ind]\n",
    " \n",
    "        # Discard one wavelength at a time of the sorted spectra,\n",
    "        # regress, and calculate the MSE cross-validation\n",
    "        for j in range(Xc.shape[1]-(i+1)):\n",
    " \n",
    "            pls2 = PLSRegression(n_components=i+1)\n",
    "            pls2.fit(Xc[:, j:], y)\n",
    "            \n",
    "            y_cv = cross_val_predict(pls2, Xc[:, j:], y, cv=5)\n",
    " \n",
    "            mse[i,j] = np.sqrt(mean_squared_error(y, y_cv))\n",
    "    \n",
    "        comp = 100*(i+1)/(max_comp)\n",
    "        stdout.write(\"\\r%d%% completed\" % comp)\n",
    "        stdout.flush()\n",
    "    stdout.write(\"\\n\")\n",
    " \n",
    "    # # Calculate and print the position of minimum in MSE\n",
    "        # Find the indices of the minimum non-NaN MSE values\n",
    "    # valid_mse_mask = ~np.isnan(mse)\n",
    "    # min_mse_value = np.nanmin(mse[valid_mse_mask])\n",
    "    # mseminx, mseminy = np.where(mse == min_mse_value)\n",
    "    \n",
    "    mseminx,mseminy = np.where(mse==np.min(mse[np.nonzero(mse)]))\n",
    " \n",
    "    print(\"Optimised number of PLS components: \", mseminx[0]+1)\n",
    "    print(\"Wavelengths to be keeped \",(X.shape[1]-mseminy[0]))\n",
    "    print('Optimised MSEP ', mse[mseminx,mseminy][0])\n",
    "    stdout.write(\"\\n\")\n",
    "#     plt.imshow(mse, interpolation=None)\n",
    "#     plt.show()\n",
    " \n",
    " \n",
    "    # Calculate PLS with optimal components and export values\n",
    "    optimal_pls  = PLSRegression(n_components=mseminx[0]+1)\n",
    "    optimal_pls .fit(X, y)\n",
    "#     important_coefficients = optimal_pls.coef_\n",
    "        \n",
    "    sorted_ind = np.argsort(np.abs(optimal_pls.coef_[:,0]))\n",
    " \n",
    "    Xc = X[:,sorted_ind]\n",
    " \n",
    "    return(Xc[:,mseminy[0]:],mseminx[0]+1,mseminy[0], sorted_ind)"
   ]
  },
  {
   "cell_type": "code",
   "execution_count": 15,
   "id": "765039a5",
   "metadata": {},
   "outputs": [
    {
     "name": "stdout",
     "output_type": "stream",
     "text": [
      "100% completed\n"
     ]
    },
    {
     "ename": "ValueError",
     "evalue": "zero-size array to reduction operation minimum which has no identity",
     "output_type": "error",
     "traceback": [
      "\u001b[1;31m---------------------------------------------------------------------------\u001b[0m",
      "\u001b[1;31mValueError\u001b[0m                                Traceback (most recent call last)",
      "Input \u001b[1;32mIn [15]\u001b[0m, in \u001b[0;36m<cell line: 1>\u001b[1;34m()\u001b[0m\n\u001b[1;32m----> 1\u001b[0m opt_Xc_PN, ncomp_PN, wav_PN, sorted_ind_PN \u001b[38;5;241m=\u001b[39m \u001b[43mpls_variable_selection\u001b[49m\u001b[43m(\u001b[49m\u001b[43mx_new_traits\u001b[49m\u001b[43m,\u001b[49m\u001b[43m \u001b[49m\u001b[43mlog_y_weighted_pn\u001b[49m\u001b[43m,\u001b[49m\u001b[43m \u001b[49m\u001b[38;5;241;43m50\u001b[39;49m\u001b[43m)\u001b[49m\n",
      "Input \u001b[1;32mIn [14]\u001b[0m, in \u001b[0;36mpls_variable_selection\u001b[1;34m(X, y, max_comp)\u001b[0m\n\u001b[0;32m     33\u001b[0m stdout\u001b[38;5;241m.\u001b[39mwrite(\u001b[38;5;124m\"\u001b[39m\u001b[38;5;130;01m\\n\u001b[39;00m\u001b[38;5;124m\"\u001b[39m)\n\u001b[0;32m     35\u001b[0m \u001b[38;5;66;03m# # Calculate and print the position of minimum in MSE\u001b[39;00m\n\u001b[0;32m     36\u001b[0m     \u001b[38;5;66;03m# Find the indices of the minimum non-NaN MSE values\u001b[39;00m\n\u001b[0;32m     37\u001b[0m \u001b[38;5;66;03m# valid_mse_mask = ~np.isnan(mse)\u001b[39;00m\n\u001b[0;32m     38\u001b[0m \u001b[38;5;66;03m# min_mse_value = np.nanmin(mse[valid_mse_mask])\u001b[39;00m\n\u001b[0;32m     39\u001b[0m \u001b[38;5;66;03m# mseminx, mseminy = np.where(mse == min_mse_value)\u001b[39;00m\n\u001b[1;32m---> 41\u001b[0m mseminx,mseminy \u001b[38;5;241m=\u001b[39m np\u001b[38;5;241m.\u001b[39mwhere(mse\u001b[38;5;241m==\u001b[39m\u001b[43mnp\u001b[49m\u001b[38;5;241;43m.\u001b[39;49m\u001b[43mmin\u001b[49m\u001b[43m(\u001b[49m\u001b[43mmse\u001b[49m\u001b[43m[\u001b[49m\u001b[43mnp\u001b[49m\u001b[38;5;241;43m.\u001b[39;49m\u001b[43mnonzero\u001b[49m\u001b[43m(\u001b[49m\u001b[43mmse\u001b[49m\u001b[43m)\u001b[49m\u001b[43m]\u001b[49m\u001b[43m)\u001b[49m)\n\u001b[0;32m     43\u001b[0m \u001b[38;5;28mprint\u001b[39m(\u001b[38;5;124m\"\u001b[39m\u001b[38;5;124mOptimised number of PLS components: \u001b[39m\u001b[38;5;124m\"\u001b[39m, mseminx[\u001b[38;5;241m0\u001b[39m]\u001b[38;5;241m+\u001b[39m\u001b[38;5;241m1\u001b[39m)\n\u001b[0;32m     44\u001b[0m \u001b[38;5;28mprint\u001b[39m(\u001b[38;5;124m\"\u001b[39m\u001b[38;5;124mWavelengths to be keeped \u001b[39m\u001b[38;5;124m\"\u001b[39m,(X\u001b[38;5;241m.\u001b[39mshape[\u001b[38;5;241m1\u001b[39m]\u001b[38;5;241m-\u001b[39mmseminy[\u001b[38;5;241m0\u001b[39m]))\n",
      "File \u001b[1;32m<__array_function__ internals>:180\u001b[0m, in \u001b[0;36mamin\u001b[1;34m(*args, **kwargs)\u001b[0m\n",
      "File \u001b[1;32m~\\Anaconda3\\envs\\wenqu_gpu\\lib\\site-packages\\numpy\\core\\fromnumeric.py:2918\u001b[0m, in \u001b[0;36mamin\u001b[1;34m(a, axis, out, keepdims, initial, where)\u001b[0m\n\u001b[0;32m   2802\u001b[0m \u001b[38;5;129m@array_function_dispatch\u001b[39m(_amin_dispatcher)\n\u001b[0;32m   2803\u001b[0m \u001b[38;5;28;01mdef\u001b[39;00m \u001b[38;5;21mamin\u001b[39m(a, axis\u001b[38;5;241m=\u001b[39m\u001b[38;5;28;01mNone\u001b[39;00m, out\u001b[38;5;241m=\u001b[39m\u001b[38;5;28;01mNone\u001b[39;00m, keepdims\u001b[38;5;241m=\u001b[39mnp\u001b[38;5;241m.\u001b[39m_NoValue, initial\u001b[38;5;241m=\u001b[39mnp\u001b[38;5;241m.\u001b[39m_NoValue,\n\u001b[0;32m   2804\u001b[0m          where\u001b[38;5;241m=\u001b[39mnp\u001b[38;5;241m.\u001b[39m_NoValue):\n\u001b[0;32m   2805\u001b[0m     \u001b[38;5;124;03m\"\"\"\u001b[39;00m\n\u001b[0;32m   2806\u001b[0m \u001b[38;5;124;03m    Return the minimum of an array or minimum along an axis.\u001b[39;00m\n\u001b[0;32m   2807\u001b[0m \n\u001b[1;32m   (...)\u001b[0m\n\u001b[0;32m   2916\u001b[0m \u001b[38;5;124;03m    6\u001b[39;00m\n\u001b[0;32m   2917\u001b[0m \u001b[38;5;124;03m    \"\"\"\u001b[39;00m\n\u001b[1;32m-> 2918\u001b[0m     \u001b[38;5;28;01mreturn\u001b[39;00m \u001b[43m_wrapreduction\u001b[49m\u001b[43m(\u001b[49m\u001b[43ma\u001b[49m\u001b[43m,\u001b[49m\u001b[43m \u001b[49m\u001b[43mnp\u001b[49m\u001b[38;5;241;43m.\u001b[39;49m\u001b[43mminimum\u001b[49m\u001b[43m,\u001b[49m\u001b[43m \u001b[49m\u001b[38;5;124;43m'\u001b[39;49m\u001b[38;5;124;43mmin\u001b[39;49m\u001b[38;5;124;43m'\u001b[39;49m\u001b[43m,\u001b[49m\u001b[43m \u001b[49m\u001b[43maxis\u001b[49m\u001b[43m,\u001b[49m\u001b[43m \u001b[49m\u001b[38;5;28;43;01mNone\u001b[39;49;00m\u001b[43m,\u001b[49m\u001b[43m \u001b[49m\u001b[43mout\u001b[49m\u001b[43m,\u001b[49m\n\u001b[0;32m   2919\u001b[0m \u001b[43m                          \u001b[49m\u001b[43mkeepdims\u001b[49m\u001b[38;5;241;43m=\u001b[39;49m\u001b[43mkeepdims\u001b[49m\u001b[43m,\u001b[49m\u001b[43m \u001b[49m\u001b[43minitial\u001b[49m\u001b[38;5;241;43m=\u001b[39;49m\u001b[43minitial\u001b[49m\u001b[43m,\u001b[49m\u001b[43m \u001b[49m\u001b[43mwhere\u001b[49m\u001b[38;5;241;43m=\u001b[39;49m\u001b[43mwhere\u001b[49m\u001b[43m)\u001b[49m\n",
      "File \u001b[1;32m~\\Anaconda3\\envs\\wenqu_gpu\\lib\\site-packages\\numpy\\core\\fromnumeric.py:86\u001b[0m, in \u001b[0;36m_wrapreduction\u001b[1;34m(obj, ufunc, method, axis, dtype, out, **kwargs)\u001b[0m\n\u001b[0;32m     83\u001b[0m         \u001b[38;5;28;01melse\u001b[39;00m:\n\u001b[0;32m     84\u001b[0m             \u001b[38;5;28;01mreturn\u001b[39;00m reduction(axis\u001b[38;5;241m=\u001b[39maxis, out\u001b[38;5;241m=\u001b[39mout, \u001b[38;5;241m*\u001b[39m\u001b[38;5;241m*\u001b[39mpasskwargs)\n\u001b[1;32m---> 86\u001b[0m \u001b[38;5;28;01mreturn\u001b[39;00m ufunc\u001b[38;5;241m.\u001b[39mreduce(obj, axis, dtype, out, \u001b[38;5;241m*\u001b[39m\u001b[38;5;241m*\u001b[39mpasskwargs)\n",
      "\u001b[1;31mValueError\u001b[0m: zero-size array to reduction operation minimum which has no identity"
     ]
    }
   ],
   "source": [
    "opt_Xc_PN, ncomp_PN, wav_PN, sorted_ind_PN = pls_variable_selection(x_new_traits, log_y_weighted_pn, 50)"
   ]
  },
  {
   "cell_type": "code",
   "execution_count": null,
   "id": "0e75f257",
   "metadata": {},
   "outputs": [],
   "source": []
  }
 ],
 "metadata": {
  "kernelspec": {
   "display_name": "wenqu_gpu",
   "language": "python",
   "name": "wenqu_gpu"
  },
  "language_info": {
   "codemirror_mode": {
    "name": "ipython",
    "version": 3
   },
   "file_extension": ".py",
   "mimetype": "text/x-python",
   "name": "python",
   "nbconvert_exporter": "python",
   "pygments_lexer": "ipython3",
   "version": "3.9.15"
  }
 },
 "nbformat": 4,
 "nbformat_minor": 5
}
