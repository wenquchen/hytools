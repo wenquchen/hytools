{
 "cells": [
  {
   "cell_type": "code",
   "execution_count": 6,
   "id": "8382b254",
   "metadata": {},
   "outputs": [],
   "source": [
    "import rasterio\n",
    "import numpy as np\n",
    "from rasterio.merge import merge\n",
    "from rasterio.plot import show\n",
    "from osgeo import gdal,ogr,osr\n",
    "import os"
   ]
  },
  {
   "cell_type": "code",
   "execution_count": 4,
   "id": "9cc73b1b",
   "metadata": {},
   "outputs": [
    {
     "data": {
      "text/plain": [
       "(122, 11, 11)"
      ]
     },
     "execution_count": 4,
     "metadata": {},
     "output_type": "execute_result"
    }
   ],
   "source": [
    "src1 = gdal.Open(r'F:\\wenqu\\Hyperspectral_site\\simulation_clip\\site2a\\site2a_qu_9.tif').ReadAsArray() \n",
    "src1.shape"
   ]
  },
  {
   "cell_type": "code",
   "execution_count": 8,
   "id": "f26253dd",
   "metadata": {},
   "outputs": [],
   "source": [
    "path = 'D:/wenqu/clip/simulation_clip/site2a'\n",
    "hdr_files = []\n",
    "for f in os.listdir(path):\n",
    "    if f.endswith('.tif'):\n",
    "        hdr_files.append(f.replace('.tif', ''))\n",
    "        \n",
    "\n",
    "# hdr_files"
   ]
  },
  {
   "cell_type": "code",
   "execution_count": 20,
   "id": "ff7fbc10",
   "metadata": {},
   "outputs": [],
   "source": [
    "band_statistic = []\n",
    "for i in range(len(hdr_files)):\n",
    "    dst_hdr = gdal.Open('F:/wenqu/Hyperspectral_site/simulation_clip/site2a/'+ hdr_files[i]+'.tif').ReadAsArray() \n",
    "#     print(dst_hdr.shape)\n",
    "    band_mean = np.mean(dst_hdr, axis=(1,2))\n",
    "    band_std = np.std(dst_hdr, axis=(1,2))\n",
    "    band_statistic.append([band_mean, band_std])\n",
    "\n",
    "\n",
    "#        "
   ]
  },
  {
   "cell_type": "code",
   "execution_count": 21,
   "id": "8b45338f",
   "metadata": {},
   "outputs": [
    {
     "name": "stdout",
     "output_type": "stream",
     "text": [
      "(28, 2, 122)\n"
     ]
    }
   ],
   "source": [
    "band_statistic = np.array(band_statistic)\n",
    "print(band_statistic.shape)"
   ]
  },
  {
   "cell_type": "code",
   "execution_count": 23,
   "id": "aa293e34",
   "metadata": {},
   "outputs": [],
   "source": [
    "band_name = []\n",
    "for i in range(1, 123):\n",
    "    b_mean = 'b' + str(i) + '_mean'\n",
    "    b_std = 'b' + str(i) + '_std'\n",
    "    band_name.append([b_mean, b_std])"
   ]
  },
  {
   "cell_type": "code",
   "execution_count": 24,
   "id": "3a716229",
   "metadata": {},
   "outputs": [
    {
     "data": {
      "text/plain": [
       "[['b1_mean', 'b1_std'],\n",
       " ['b2_mean', 'b2_std'],\n",
       " ['b3_mean', 'b3_std'],\n",
       " ['b4_mean', 'b4_std'],\n",
       " ['b5_mean', 'b5_std'],\n",
       " ['b6_mean', 'b6_std'],\n",
       " ['b7_mean', 'b7_std'],\n",
       " ['b8_mean', 'b8_std'],\n",
       " ['b9_mean', 'b9_std'],\n",
       " ['b10_mean', 'b10_std'],\n",
       " ['b11_mean', 'b11_std'],\n",
       " ['b12_mean', 'b12_std'],\n",
       " ['b13_mean', 'b13_std'],\n",
       " ['b14_mean', 'b14_std'],\n",
       " ['b15_mean', 'b15_std'],\n",
       " ['b16_mean', 'b16_std'],\n",
       " ['b17_mean', 'b17_std'],\n",
       " ['b18_mean', 'b18_std'],\n",
       " ['b19_mean', 'b19_std'],\n",
       " ['b20_mean', 'b20_std'],\n",
       " ['b21_mean', 'b21_std'],\n",
       " ['b22_mean', 'b22_std'],\n",
       " ['b23_mean', 'b23_std'],\n",
       " ['b24_mean', 'b24_std'],\n",
       " ['b25_mean', 'b25_std'],\n",
       " ['b26_mean', 'b26_std'],\n",
       " ['b27_mean', 'b27_std'],\n",
       " ['b28_mean', 'b28_std'],\n",
       " ['b29_mean', 'b29_std'],\n",
       " ['b30_mean', 'b30_std'],\n",
       " ['b31_mean', 'b31_std'],\n",
       " ['b32_mean', 'b32_std'],\n",
       " ['b33_mean', 'b33_std'],\n",
       " ['b34_mean', 'b34_std'],\n",
       " ['b35_mean', 'b35_std'],\n",
       " ['b36_mean', 'b36_std'],\n",
       " ['b37_mean', 'b37_std'],\n",
       " ['b38_mean', 'b38_std'],\n",
       " ['b39_mean', 'b39_std'],\n",
       " ['b40_mean', 'b40_std'],\n",
       " ['b41_mean', 'b41_std'],\n",
       " ['b42_mean', 'b42_std'],\n",
       " ['b43_mean', 'b43_std'],\n",
       " ['b44_mean', 'b44_std'],\n",
       " ['b45_mean', 'b45_std'],\n",
       " ['b46_mean', 'b46_std'],\n",
       " ['b47_mean', 'b47_std'],\n",
       " ['b48_mean', 'b48_std'],\n",
       " ['b49_mean', 'b49_std'],\n",
       " ['b50_mean', 'b50_std'],\n",
       " ['b51_mean', 'b51_std'],\n",
       " ['b52_mean', 'b52_std'],\n",
       " ['b53_mean', 'b53_std'],\n",
       " ['b54_mean', 'b54_std'],\n",
       " ['b55_mean', 'b55_std'],\n",
       " ['b56_mean', 'b56_std'],\n",
       " ['b57_mean', 'b57_std'],\n",
       " ['b58_mean', 'b58_std'],\n",
       " ['b59_mean', 'b59_std'],\n",
       " ['b60_mean', 'b60_std'],\n",
       " ['b61_mean', 'b61_std'],\n",
       " ['b62_mean', 'b62_std'],\n",
       " ['b63_mean', 'b63_std'],\n",
       " ['b64_mean', 'b64_std'],\n",
       " ['b65_mean', 'b65_std'],\n",
       " ['b66_mean', 'b66_std'],\n",
       " ['b67_mean', 'b67_std'],\n",
       " ['b68_mean', 'b68_std'],\n",
       " ['b69_mean', 'b69_std'],\n",
       " ['b70_mean', 'b70_std'],\n",
       " ['b71_mean', 'b71_std'],\n",
       " ['b72_mean', 'b72_std'],\n",
       " ['b73_mean', 'b73_std'],\n",
       " ['b74_mean', 'b74_std'],\n",
       " ['b75_mean', 'b75_std'],\n",
       " ['b76_mean', 'b76_std'],\n",
       " ['b77_mean', 'b77_std'],\n",
       " ['b78_mean', 'b78_std'],\n",
       " ['b79_mean', 'b79_std'],\n",
       " ['b80_mean', 'b80_std'],\n",
       " ['b81_mean', 'b81_std'],\n",
       " ['b82_mean', 'b82_std'],\n",
       " ['b83_mean', 'b83_std'],\n",
       " ['b84_mean', 'b84_std'],\n",
       " ['b85_mean', 'b85_std'],\n",
       " ['b86_mean', 'b86_std'],\n",
       " ['b87_mean', 'b87_std'],\n",
       " ['b88_mean', 'b88_std'],\n",
       " ['b89_mean', 'b89_std'],\n",
       " ['b90_mean', 'b90_std'],\n",
       " ['b91_mean', 'b91_std'],\n",
       " ['b92_mean', 'b92_std'],\n",
       " ['b93_mean', 'b93_std'],\n",
       " ['b94_mean', 'b94_std'],\n",
       " ['b95_mean', 'b95_std'],\n",
       " ['b96_mean', 'b96_std'],\n",
       " ['b97_mean', 'b97_std'],\n",
       " ['b98_mean', 'b98_std'],\n",
       " ['b99_mean', 'b99_std'],\n",
       " ['b100_mean', 'b100_std'],\n",
       " ['b101_mean', 'b101_std'],\n",
       " ['b102_mean', 'b102_std'],\n",
       " ['b103_mean', 'b103_std'],\n",
       " ['b104_mean', 'b104_std'],\n",
       " ['b105_mean', 'b105_std'],\n",
       " ['b106_mean', 'b106_std'],\n",
       " ['b107_mean', 'b107_std'],\n",
       " ['b108_mean', 'b108_std'],\n",
       " ['b109_mean', 'b109_std'],\n",
       " ['b110_mean', 'b110_std'],\n",
       " ['b111_mean', 'b111_std'],\n",
       " ['b112_mean', 'b112_std'],\n",
       " ['b113_mean', 'b113_std'],\n",
       " ['b114_mean', 'b114_std'],\n",
       " ['b115_mean', 'b115_std'],\n",
       " ['b116_mean', 'b116_std'],\n",
       " ['b117_mean', 'b117_std'],\n",
       " ['b118_mean', 'b118_std'],\n",
       " ['b119_mean', 'b119_std'],\n",
       " ['b120_mean', 'b120_std'],\n",
       " ['b121_mean', 'b121_std'],\n",
       " ['b122_mean', 'b122_std']]"
      ]
     },
     "execution_count": 24,
     "metadata": {},
     "output_type": "execute_result"
    }
   ],
   "source": [
    "band_name"
   ]
  }
 ],
 "metadata": {
  "kernelspec": {
   "display_name": "wenqu_gdal",
   "language": "python",
   "name": "wenqu_gdal"
  },
  "language_info": {
   "codemirror_mode": {
    "name": "ipython",
    "version": 3
   },
   "file_extension": ".py",
   "mimetype": "text/x-python",
   "name": "python",
   "nbconvert_exporter": "python",
   "pygments_lexer": "ipython3",
   "version": "3.9.15"
  }
 },
 "nbformat": 4,
 "nbformat_minor": 5
}
