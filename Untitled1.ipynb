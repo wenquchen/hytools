{
 "cells": [
  {
   "cell_type": "code",
   "execution_count": 1,
   "id": "4c72b75c",
   "metadata": {},
   "outputs": [],
   "source": [
    "from sklearn.model_selection import KFold\n",
    "from sklearn.linear_model import LinearRegression\n",
    "from sklearn.datasets import load_diabetes\n",
    "from sklearn.metrics import r2_score\n",
    "import numpy as np\n",
    "import statsmodels.api as sm\n",
    "import pandas as pd\n",
    "import matplotlib.pyplot as plt"
   ]
  },
  {
   "cell_type": "code",
   "execution_count": 2,
   "id": "e6e6a835",
   "metadata": {},
   "outputs": [
    {
     "data": {
      "text/html": [
       "<div>\n",
       "<style scoped>\n",
       "    .dataframe tbody tr th:only-of-type {\n",
       "        vertical-align: middle;\n",
       "    }\n",
       "\n",
       "    .dataframe tbody tr th {\n",
       "        vertical-align: top;\n",
       "    }\n",
       "\n",
       "    .dataframe thead th {\n",
       "        text-align: right;\n",
       "    }\n",
       "</style>\n",
       "<table border=\"1\" class=\"dataframe\">\n",
       "  <thead>\n",
       "    <tr style=\"text-align: right;\">\n",
       "      <th></th>\n",
       "      <th>d13c_std_MEAN</th>\n",
       "      <th>d13c_ymax</th>\n",
       "      <th>d15n_ymax</th>\n",
       "      <th>d15n_std</th>\n",
       "      <th>la_std</th>\n",
       "      <th>la_ymax</th>\n",
       "      <th>ldmc_std</th>\n",
       "      <th>ldmc_ymax</th>\n",
       "      <th>pc_std</th>\n",
       "      <th>pc_ymax</th>\n",
       "      <th>...</th>\n",
       "      <th>snow_mean</th>\n",
       "      <th>TWI_mean</th>\n",
       "      <th>ecoregion</th>\n",
       "      <th>soil_type</th>\n",
       "      <th>latitude</th>\n",
       "      <th>SWI_Mean</th>\n",
       "      <th>summer_precipitation</th>\n",
       "      <th>summer_temperature</th>\n",
       "      <th>annnual_precp</th>\n",
       "      <th>annual_temp</th>\n",
       "    </tr>\n",
       "  </thead>\n",
       "  <tbody>\n",
       "    <tr>\n",
       "      <th>0</th>\n",
       "      <td>2.225394</td>\n",
       "      <td>-28.751371</td>\n",
       "      <td>-4.220121</td>\n",
       "      <td>4.243346</td>\n",
       "      <td>2.678467</td>\n",
       "      <td>2.357788</td>\n",
       "      <td>0.844230</td>\n",
       "      <td>-0.056682</td>\n",
       "      <td>0.147212</td>\n",
       "      <td>3.842816</td>\n",
       "      <td>...</td>\n",
       "      <td>133.595238</td>\n",
       "      <td>3.600357</td>\n",
       "      <td>Kobuk Ridges and Valley</td>\n",
       "      <td>Gravelly Riverine</td>\n",
       "      <td>67.116250</td>\n",
       "      <td>11.250460</td>\n",
       "      <td>48.000000</td>\n",
       "      <td>12.966667</td>\n",
       "      <td>309.000000</td>\n",
       "      <td>-5.129167</td>\n",
       "    </tr>\n",
       "    <tr>\n",
       "      <th>1</th>\n",
       "      <td>2.508216</td>\n",
       "      <td>-28.345809</td>\n",
       "      <td>-0.965232</td>\n",
       "      <td>4.370819</td>\n",
       "      <td>2.716024</td>\n",
       "      <td>1.506561</td>\n",
       "      <td>0.882076</td>\n",
       "      <td>-1.426126</td>\n",
       "      <td>0.160897</td>\n",
       "      <td>3.816374</td>\n",
       "      <td>...</td>\n",
       "      <td>132.930417</td>\n",
       "      <td>1.846235</td>\n",
       "      <td>Southern Brooks Range</td>\n",
       "      <td>Gravelly Riverine</td>\n",
       "      <td>67.246138</td>\n",
       "      <td>13.248380</td>\n",
       "      <td>47.831579</td>\n",
       "      <td>12.480702</td>\n",
       "      <td>298.505263</td>\n",
       "      <td>-5.505175</td>\n",
       "    </tr>\n",
       "    <tr>\n",
       "      <th>2</th>\n",
       "      <td>2.449470</td>\n",
       "      <td>-28.597206</td>\n",
       "      <td>-2.260603</td>\n",
       "      <td>4.353404</td>\n",
       "      <td>2.756188</td>\n",
       "      <td>1.874066</td>\n",
       "      <td>0.856766</td>\n",
       "      <td>-0.726720</td>\n",
       "      <td>0.157434</td>\n",
       "      <td>3.837215</td>\n",
       "      <td>...</td>\n",
       "      <td>133.834475</td>\n",
       "      <td>3.463253</td>\n",
       "      <td>Southern Brooks Range</td>\n",
       "      <td>Rocky Glaciated Upland</td>\n",
       "      <td>67.343080</td>\n",
       "      <td>13.514382</td>\n",
       "      <td>47.438127</td>\n",
       "      <td>12.202564</td>\n",
       "      <td>294.782609</td>\n",
       "      <td>-5.764130</td>\n",
       "    </tr>\n",
       "    <tr>\n",
       "      <th>3</th>\n",
       "      <td>2.298034</td>\n",
       "      <td>-28.787159</td>\n",
       "      <td>-3.146260</td>\n",
       "      <td>4.334142</td>\n",
       "      <td>2.632870</td>\n",
       "      <td>1.808981</td>\n",
       "      <td>0.897468</td>\n",
       "      <td>-0.269153</td>\n",
       "      <td>0.147040</td>\n",
       "      <td>3.831520</td>\n",
       "      <td>...</td>\n",
       "      <td>134.515462</td>\n",
       "      <td>3.820470</td>\n",
       "      <td>Southern Brooks Range</td>\n",
       "      <td>Rocky Acidic Alpine</td>\n",
       "      <td>67.358854</td>\n",
       "      <td>11.594050</td>\n",
       "      <td>49.306748</td>\n",
       "      <td>11.498978</td>\n",
       "      <td>305.822086</td>\n",
       "      <td>-6.291104</td>\n",
       "    </tr>\n",
       "    <tr>\n",
       "      <th>4</th>\n",
       "      <td>2.452765</td>\n",
       "      <td>-28.790313</td>\n",
       "      <td>-2.725679</td>\n",
       "      <td>4.775339</td>\n",
       "      <td>2.859762</td>\n",
       "      <td>1.837098</td>\n",
       "      <td>0.946536</td>\n",
       "      <td>-0.419542</td>\n",
       "      <td>0.159127</td>\n",
       "      <td>3.839232</td>\n",
       "      <td>...</td>\n",
       "      <td>135.589258</td>\n",
       "      <td>4.040876</td>\n",
       "      <td>Southern Brooks Range</td>\n",
       "      <td>Rocky Acidic Alpine</td>\n",
       "      <td>67.502130</td>\n",
       "      <td>15.046018</td>\n",
       "      <td>47.945946</td>\n",
       "      <td>11.106306</td>\n",
       "      <td>296.337838</td>\n",
       "      <td>-6.762613</td>\n",
       "    </tr>\n",
       "  </tbody>\n",
       "</table>\n",
       "<p>5 rows × 24 columns</p>\n",
       "</div>"
      ],
      "text/plain": [
       "   d13c_std_MEAN  d13c_ymax  d15n_ymax  d15n_std    la_std   la_ymax  \\\n",
       "0       2.225394 -28.751371  -4.220121  4.243346  2.678467  2.357788   \n",
       "1       2.508216 -28.345809  -0.965232  4.370819  2.716024  1.506561   \n",
       "2       2.449470 -28.597206  -2.260603  4.353404  2.756188  1.874066   \n",
       "3       2.298034 -28.787159  -3.146260  4.334142  2.632870  1.808981   \n",
       "4       2.452765 -28.790313  -2.725679  4.775339  2.859762  1.837098   \n",
       "\n",
       "   ldmc_std  ldmc_ymax    pc_std   pc_ymax  ...   snow_mean  TWI_mean  \\\n",
       "0  0.844230  -0.056682  0.147212  3.842816  ...  133.595238  3.600357   \n",
       "1  0.882076  -1.426126  0.160897  3.816374  ...  132.930417  1.846235   \n",
       "2  0.856766  -0.726720  0.157434  3.837215  ...  133.834475  3.463253   \n",
       "3  0.897468  -0.269153  0.147040  3.831520  ...  134.515462  3.820470   \n",
       "4  0.946536  -0.419542  0.159127  3.839232  ...  135.589258  4.040876   \n",
       "\n",
       "                 ecoregion               soil_type   latitude   SWI_Mean  \\\n",
       "0  Kobuk Ridges and Valley       Gravelly Riverine  67.116250  11.250460   \n",
       "1    Southern Brooks Range       Gravelly Riverine  67.246138  13.248380   \n",
       "2    Southern Brooks Range  Rocky Glaciated Upland  67.343080  13.514382   \n",
       "3    Southern Brooks Range     Rocky Acidic Alpine  67.358854  11.594050   \n",
       "4    Southern Brooks Range     Rocky Acidic Alpine  67.502130  15.046018   \n",
       "\n",
       "  summer_precipitation summer_temperature  annnual_precp  annual_temp  \n",
       "0            48.000000          12.966667     309.000000    -5.129167  \n",
       "1            47.831579          12.480702     298.505263    -5.505175  \n",
       "2            47.438127          12.202564     294.782609    -5.764130  \n",
       "3            49.306748          11.498978     305.822086    -6.291104  \n",
       "4            47.945946          11.106306     296.337838    -6.762613  \n",
       "\n",
       "[5 rows x 24 columns]"
      ]
     },
     "execution_count": 2,
     "metadata": {},
     "output_type": "execute_result"
    }
   ],
   "source": [
    "# Read in data and display first 5 rows\n",
    "features = pd.read_csv(r'F:\\wenqu\\environment_factors\\zonal_statistics\\combine\\environment_traits.csv')\n",
    "features.head(5)"
   ]
  },
  {
   "cell_type": "code",
   "execution_count": 5,
   "id": "bbd45b24",
   "metadata": {},
   "outputs": [
    {
     "data": {
      "text/plain": [
       "<matplotlib.collections.PathCollection at 0x226309b7610>"
      ]
     },
     "execution_count": 5,
     "metadata": {},
     "output_type": "execute_result"
    },
    {
     "data": {
      "image/png": "[encoded data removed]",
      "text/plain": [
       "<Figure size 640x480 with 1 Axes>"
      ]
     },
     "metadata": {},
     "output_type": "display_data"
    }
   ],
   "source": [
    "y = features['d13c_ymax'].tolist()\n",
    "# Remove the labels from the features\n",
    "# axis 1 refers to the columns\n",
    "# x = features.drop(['la_ymax', 'd13c_std_MEAN', 'd13c_ymax', 'd15n_ymax', \n",
    "#                           'd15n_std', 'la_std', 'ldmc_std','ldmc_ymax', 'pc_std', \n",
    "#                           'pc_ymax', 'sla_std', 'sla_ymax', 'site'], axis=1)\n",
    "X = features['snow_mean'].tolist()\n",
    "# X = sm.add_constant(X)\n",
    "plt.scatter(X, y)"
   ]
  },
  {
   "cell_type": "code",
   "execution_count": 6,
   "id": "f42c745b",
   "metadata": {},
   "outputs": [
    {
     "data": {
      "text/html": [
       "<table class=\"simpletable\">\n",
       "<caption>OLS Regression Results</caption>\n",
       "<tr>\n",
       "  <th>Dep. Variable:</th>            <td>y</td>        <th>  R-squared (uncentered):</th>      <td>   0.998</td> \n",
       "</tr>\n",
       "<tr>\n",
       "  <th>Model:</th>                   <td>OLS</td>       <th>  Adj. R-squared (uncentered):</th> <td>   0.998</td> \n",
       "</tr>\n",
       "<tr>\n",
       "  <th>Method:</th>             <td>Least Squares</td>  <th>  F-statistic:       </th>          <td>1.631e+04</td>\n",
       "</tr>\n",
       "<tr>\n",
       "  <th>Date:</th>             <td>Tue, 30 Jan 2024</td> <th>  Prob (F-statistic):</th>          <td>4.75e-46</td> \n",
       "</tr>\n",
       "<tr>\n",
       "  <th>Time:</th>                 <td>16:07:47</td>     <th>  Log-Likelihood:    </th>          <td> -56.850</td> \n",
       "</tr>\n",
       "<tr>\n",
       "  <th>No. Observations:</th>      <td>    34</td>      <th>  AIC:               </th>          <td>   115.7</td> \n",
       "</tr>\n",
       "<tr>\n",
       "  <th>Df Residuals:</th>          <td>    33</td>      <th>  BIC:               </th>          <td>   117.2</td> \n",
       "</tr>\n",
       "<tr>\n",
       "  <th>Df Model:</th>              <td>     1</td>      <th>                     </th>              <td> </td>    \n",
       "</tr>\n",
       "<tr>\n",
       "  <th>Covariance Type:</th>      <td>nonrobust</td>    <th>                     </th>              <td> </td>    \n",
       "</tr>\n",
       "</table>\n",
       "<table class=\"simpletable\">\n",
       "<tr>\n",
       "   <td></td>     <th>coef</th>     <th>std err</th>      <th>t</th>      <th>P>|t|</th>  <th>[0.025</th>    <th>0.975]</th>  \n",
       "</tr>\n",
       "<tr>\n",
       "  <th>x1</th> <td>   -0.2034</td> <td>    0.002</td> <td> -127.700</td> <td> 0.000</td> <td>   -0.207</td> <td>   -0.200</td>\n",
       "</tr>\n",
       "</table>\n",
       "<table class=\"simpletable\">\n",
       "<tr>\n",
       "  <th>Omnibus:</th>       <td> 0.727</td> <th>  Durbin-Watson:     </th> <td>   0.682</td>\n",
       "</tr>\n",
       "<tr>\n",
       "  <th>Prob(Omnibus):</th> <td> 0.695</td> <th>  Jarque-Bera (JB):  </th> <td>   0.741</td>\n",
       "</tr>\n",
       "<tr>\n",
       "  <th>Skew:</th>          <td> 0.116</td> <th>  Prob(JB):          </th> <td>   0.690</td>\n",
       "</tr>\n",
       "<tr>\n",
       "  <th>Kurtosis:</th>      <td> 2.315</td> <th>  Cond. No.          </th> <td>    1.00</td>\n",
       "</tr>\n",
       "</table><br/><br/>Notes:<br/>[1] R² is computed without centering (uncentered) since the model does not contain a constant.<br/>[2] Standard Errors assume that the covariance matrix of the errors is correctly specified."
      ],
      "text/latex": [
       "\\begin{center}\n",
       "\\begin{tabular}{lclc}\n",
       "\\toprule\n",
       "\\textbf{Dep. Variable:}    &        y         & \\textbf{  R-squared (uncentered):}      &     0.998   \\\\\n",
       "\\textbf{Model:}            &       OLS        & \\textbf{  Adj. R-squared (uncentered):} &     0.998   \\\\\n",
       "\\textbf{Method:}           &  Least Squares   & \\textbf{  F-statistic:       }          & 1.631e+04   \\\\\n",
       "\\textbf{Date:}             & Tue, 30 Jan 2024 & \\textbf{  Prob (F-statistic):}          &  4.75e-46   \\\\\n",
       "\\textbf{Time:}             &     16:07:47     & \\textbf{  Log-Likelihood:    }          &   -56.850   \\\\\n",
       "\\textbf{No. Observations:} &          34      & \\textbf{  AIC:               }          &     115.7   \\\\\n",
       "\\textbf{Df Residuals:}     &          33      & \\textbf{  BIC:               }          &     117.2   \\\\\n",
       "\\textbf{Df Model:}         &           1      & \\textbf{                     }          &             \\\\\n",
       "\\textbf{Covariance Type:}  &    nonrobust     & \\textbf{                     }          &             \\\\\n",
       "\\bottomrule\n",
       "\\end{tabular}\n",
       "\\begin{tabular}{lcccccc}\n",
       "            & \\textbf{coef} & \\textbf{std err} & \\textbf{t} & \\textbf{P$> |$t$|$} & \\textbf{[0.025} & \\textbf{0.975]}  \\\\\n",
       "\\midrule\n",
       "\\textbf{x1} &      -0.2034  &        0.002     &  -127.700  &         0.000        &       -0.207    &       -0.200     \\\\\n",
       "\\bottomrule\n",
       "\\end{tabular}\n",
       "\\begin{tabular}{lclc}\n",
       "\\textbf{Omnibus:}       &  0.727 & \\textbf{  Durbin-Watson:     } &    0.682  \\\\\n",
       "\\textbf{Prob(Omnibus):} &  0.695 & \\textbf{  Jarque-Bera (JB):  } &    0.741  \\\\\n",
       "\\textbf{Skew:}          &  0.116 & \\textbf{  Prob(JB):          } &    0.690  \\\\\n",
       "\\textbf{Kurtosis:}      &  2.315 & \\textbf{  Cond. No.          } &     1.00  \\\\\n",
       "\\bottomrule\n",
       "\\end{tabular}\n",
       "%\\caption{OLS Regression Results}\n",
       "\\end{center}\n",
       "\n",
       "Notes: \\newline\n",
       " [1] R² is computed without centering (uncentered) since the model does not contain a constant. \\newline\n",
       " [2] Standard Errors assume that the covariance matrix of the errors is correctly specified."
      ],
      "text/plain": [
       "<class 'statsmodels.iolib.summary.Summary'>\n",
       "\"\"\"\n",
       "                                 OLS Regression Results                                \n",
       "=======================================================================================\n",
       "Dep. Variable:                      y   R-squared (uncentered):                   0.998\n",
       "Model:                            OLS   Adj. R-squared (uncentered):              0.998\n",
       "Method:                 Least Squares   F-statistic:                          1.631e+04\n",
       "Date:                Tue, 30 Jan 2024   Prob (F-statistic):                    4.75e-46\n",
       "Time:                        16:07:47   Log-Likelihood:                         -56.850\n",
       "No. Observations:                  34   AIC:                                      115.7\n",
       "Df Residuals:                      33   BIC:                                      117.2\n",
       "Df Model:                           1                                                  \n",
       "Covariance Type:            nonrobust                                                  \n",
       "==============================================================================\n",
       "                 coef    std err          t      P>|t|      [0.025      0.975]\n",
       "------------------------------------------------------------------------------\n",
       "x1            -0.2034      0.002   -127.700      0.000      -0.207      -0.200\n",
       "==============================================================================\n",
       "Omnibus:                        0.727   Durbin-Watson:                   0.682\n",
       "Prob(Omnibus):                  0.695   Jarque-Bera (JB):                0.741\n",
       "Skew:                           0.116   Prob(JB):                        0.690\n",
       "Kurtosis:                       2.315   Cond. No.                         1.00\n",
       "==============================================================================\n",
       "\n",
       "Notes:\n",
       "[1] R² is computed without centering (uncentered) since the model does not contain a constant.\n",
       "[2] Standard Errors assume that the covariance matrix of the errors is correctly specified.\n",
       "\"\"\""
      ]
     },
     "execution_count": 6,
     "metadata": {},
     "output_type": "execute_result"
    }
   ],
   "source": [
    "model = sm.OLS(y, X, missing='drop')\n",
    "model_result = model.fit()\n",
    "model_result.summary()"
   ]
  },
  {
   "cell_type": "code",
   "execution_count": 7,
   "id": "841043bd",
   "metadata": {},
   "outputs": [
    {
     "data": {
      "text/plain": [
       "array([-28.69963701])"
      ]
     },
     "execution_count": 7,
     "metadata": {},
     "output_type": "execute_result"
    }
   ],
   "source": [
    "model_result.tvalues"
   ]
  },
  {
   "cell_type": "code",
   "execution_count": 6,
   "id": "dabc3ce9",
   "metadata": {},
   "outputs": [
    {
     "data": {
      "image/png": "[encoded data removed]",
      "text/plain": [
       "<Figure size 640x480 with 1 Axes>"
      ]
     },
     "metadata": {},
     "output_type": "display_data"
    }
   ],
   "source": [
    "import seaborn as sns\n",
    "sns.histplot(model_result.resid);"
   ]
  },
  {
   "cell_type": "code",
   "execution_count": 7,
   "id": "95a458c4",
   "metadata": {},
   "outputs": [
    {
     "data": {
      "image/png": "[encoded data removed]",
      "text/plain": [
       "<Figure size 640x480 with 1 Axes>"
      ]
     },
     "metadata": {},
     "output_type": "display_data"
    }
   ],
   "source": [
    "sns.boxplot(x=model_result.resid, showmeans=True);"
   ]
  },
  {
   "cell_type": "code",
   "execution_count": 8,
   "id": "36bc9eec",
   "metadata": {},
   "outputs": [
    {
     "data": {
      "image/png": "[encoded data removed]",
      "text/plain": [
       "<Figure size 640x480 with 1 Axes>"
      ]
     },
     "metadata": {},
     "output_type": "display_data"
    }
   ],
   "source": [
    "sm.qqplot(model_result.resid, line='s');"
   ]
  },
  {
   "cell_type": "code",
   "execution_count": null,
   "id": "fbbf0892",
   "metadata": {},
   "outputs": [],
   "source": []
  }
 ],
 "metadata": {
  "kernelspec": {
   "display_name": "wenqu_gdal",
   "language": "python",
   "name": "wenqu_gdal"
  },
  "language_info": {
   "codemirror_mode": {
    "name": "ipython",
    "version": 3
   },
   "file_extension": ".py",
   "mimetype": "text/x-python",
   "name": "python",
   "nbconvert_exporter": "python",
   "pygments_lexer": "ipython3",
   "version": "3.9.15"
  }
 },
 "nbformat": 4,
 "nbformat_minor": 5
}
