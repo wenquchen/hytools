{
 "cells": [
  {
   "cell_type": "code",
   "execution_count": 1,
   "id": "53939478",
   "metadata": {},
   "outputs": [],
   "source": [
    "import numpy as np\n",
    "import pandas as pd\n",
    "import matplotlib.pyplot as plt\n",
    "from sklearn.preprocessing import scale \n",
    "from sklearn import model_selection\n",
    "from sklearn.model_selection import RepeatedKFold\n",
    "from sklearn.model_selection import train_test_split\n",
    "from sklearn.cross_decomposition import PLSRegression\n",
    "from sklearn.metrics import mean_squared_error\n",
    "from sklearn import model_selection\n",
    "from sklearn.model_selection import train_test_split, cross_val_score, cross_val_predict\n",
    "from sys import stdout\n",
    "import numpy as np\n",
    "import pandas as pd\n",
    "import matplotlib.pyplot as plt\n",
    "from osgeo import gdal,ogr,osr\n",
    "from scipy.signal import savgol_filter\n",
    "from scipy.stats import pearsonr\n",
    "from sklearn.cross_decomposition import PLSRegression\n",
    "from sklearn.model_selection import cross_val_predict\n",
    "from sklearn.metrics import mean_squared_error, r2_score\n",
    "import numpy as np\n",
    "import matplotlib.pyplot as plt\n",
    "import seaborn as sns\n",
    "from scipy.optimize import curve_fit\n",
    "import pandas as pd\n",
    "from osgeo import gdal,ogr,osr\n",
    "from scipy import stats\n",
    "from scipy.optimize import curve_fit\n",
    "from scipy import asarray as ar,exp"
   ]
  },
  {
   "cell_type": "code",
   "execution_count": 2,
   "id": "503090b0",
   "metadata": {},
   "outputs": [
    {
     "data": {
      "text/html": [
       "<div>\n",
       "<style scoped>\n",
       "    .dataframe tbody tr th:only-of-type {\n",
       "        vertical-align: middle;\n",
       "    }\n",
       "\n",
       "    .dataframe tbody tr th {\n",
       "        vertical-align: top;\n",
       "    }\n",
       "\n",
       "    .dataframe thead th {\n",
       "        text-align: right;\n",
       "    }\n",
       "</style>\n",
       "<table border=\"1\" class=\"dataframe\">\n",
       "  <thead>\n",
       "    <tr style=\"text-align: right;\">\n",
       "      <th></th>\n",
       "      <th>file_name</th>\n",
       "      <th>band_1</th>\n",
       "      <th>band_2</th>\n",
       "      <th>band_3</th>\n",
       "      <th>band_4</th>\n",
       "      <th>band_5</th>\n",
       "      <th>band_6</th>\n",
       "      <th>band_7</th>\n",
       "      <th>band_8</th>\n",
       "      <th>band_9</th>\n",
       "      <th>...</th>\n",
       "      <th>band_113</th>\n",
       "      <th>band_114</th>\n",
       "      <th>band_115</th>\n",
       "      <th>band_116</th>\n",
       "      <th>band_117</th>\n",
       "      <th>band_118</th>\n",
       "      <th>band_119</th>\n",
       "      <th>band_120</th>\n",
       "      <th>band_121</th>\n",
       "      <th>band_122</th>\n",
       "    </tr>\n",
       "  </thead>\n",
       "  <tbody>\n",
       "    <tr>\n",
       "      <th>0</th>\n",
       "      <td>9_9</td>\n",
       "      <td>-0.007408</td>\n",
       "      <td>-0.001187</td>\n",
       "      <td>0.002304</td>\n",
       "      <td>0.004542</td>\n",
       "      <td>0.005452</td>\n",
       "      <td>0.006617</td>\n",
       "      <td>0.009321</td>\n",
       "      <td>0.010906</td>\n",
       "      <td>0.010206</td>\n",
       "      <td>...</td>\n",
       "      <td>0.165042</td>\n",
       "      <td>0.167003</td>\n",
       "      <td>0.163492</td>\n",
       "      <td>0.165492</td>\n",
       "      <td>0.165300</td>\n",
       "      <td>0.161843</td>\n",
       "      <td>0.165384</td>\n",
       "      <td>0.168709</td>\n",
       "      <td>0.167595</td>\n",
       "      <td>0.170170</td>\n",
       "    </tr>\n",
       "    <tr>\n",
       "      <th>1</th>\n",
       "      <td>9_8</td>\n",
       "      <td>-0.012122</td>\n",
       "      <td>-0.008056</td>\n",
       "      <td>-0.003529</td>\n",
       "      <td>0.000230</td>\n",
       "      <td>0.000568</td>\n",
       "      <td>0.000611</td>\n",
       "      <td>0.005055</td>\n",
       "      <td>0.008242</td>\n",
       "      <td>0.006994</td>\n",
       "      <td>...</td>\n",
       "      <td>0.176659</td>\n",
       "      <td>0.176466</td>\n",
       "      <td>0.173304</td>\n",
       "      <td>0.175908</td>\n",
       "      <td>0.173966</td>\n",
       "      <td>0.173316</td>\n",
       "      <td>0.175109</td>\n",
       "      <td>0.178707</td>\n",
       "      <td>0.175427</td>\n",
       "      <td>0.179748</td>\n",
       "    </tr>\n",
       "    <tr>\n",
       "      <th>2</th>\n",
       "      <td>9_7</td>\n",
       "      <td>-0.012122</td>\n",
       "      <td>-0.008056</td>\n",
       "      <td>-0.003529</td>\n",
       "      <td>0.000230</td>\n",
       "      <td>0.000568</td>\n",
       "      <td>0.000611</td>\n",
       "      <td>0.005055</td>\n",
       "      <td>0.008242</td>\n",
       "      <td>0.006994</td>\n",
       "      <td>...</td>\n",
       "      <td>0.176659</td>\n",
       "      <td>0.176466</td>\n",
       "      <td>0.173304</td>\n",
       "      <td>0.175908</td>\n",
       "      <td>0.173966</td>\n",
       "      <td>0.173316</td>\n",
       "      <td>0.175109</td>\n",
       "      <td>0.178707</td>\n",
       "      <td>0.175427</td>\n",
       "      <td>0.179748</td>\n",
       "    </tr>\n",
       "    <tr>\n",
       "      <th>3</th>\n",
       "      <td>9_6</td>\n",
       "      <td>-0.001092</td>\n",
       "      <td>-0.003444</td>\n",
       "      <td>0.000763</td>\n",
       "      <td>0.003271</td>\n",
       "      <td>0.004058</td>\n",
       "      <td>0.007828</td>\n",
       "      <td>0.009567</td>\n",
       "      <td>0.011485</td>\n",
       "      <td>0.010938</td>\n",
       "      <td>...</td>\n",
       "      <td>0.180520</td>\n",
       "      <td>0.175171</td>\n",
       "      <td>0.175264</td>\n",
       "      <td>0.178075</td>\n",
       "      <td>0.176523</td>\n",
       "      <td>0.177661</td>\n",
       "      <td>0.175174</td>\n",
       "      <td>0.178987</td>\n",
       "      <td>0.177515</td>\n",
       "      <td>0.181104</td>\n",
       "    </tr>\n",
       "    <tr>\n",
       "      <th>4</th>\n",
       "      <td>9_5</td>\n",
       "      <td>-0.005341</td>\n",
       "      <td>-0.009759</td>\n",
       "      <td>-0.004499</td>\n",
       "      <td>0.000391</td>\n",
       "      <td>0.001929</td>\n",
       "      <td>0.005225</td>\n",
       "      <td>0.006398</td>\n",
       "      <td>0.007666</td>\n",
       "      <td>0.009711</td>\n",
       "      <td>...</td>\n",
       "      <td>0.174059</td>\n",
       "      <td>0.167857</td>\n",
       "      <td>0.168702</td>\n",
       "      <td>0.173387</td>\n",
       "      <td>0.170735</td>\n",
       "      <td>0.171412</td>\n",
       "      <td>0.170000</td>\n",
       "      <td>0.174250</td>\n",
       "      <td>0.173621</td>\n",
       "      <td>0.175200</td>\n",
       "    </tr>\n",
       "    <tr>\n",
       "      <th>...</th>\n",
       "      <td>...</td>\n",
       "      <td>...</td>\n",
       "      <td>...</td>\n",
       "      <td>...</td>\n",
       "      <td>...</td>\n",
       "      <td>...</td>\n",
       "      <td>...</td>\n",
       "      <td>...</td>\n",
       "      <td>...</td>\n",
       "      <td>...</td>\n",
       "      <td>...</td>\n",
       "      <td>...</td>\n",
       "      <td>...</td>\n",
       "      <td>...</td>\n",
       "      <td>...</td>\n",
       "      <td>...</td>\n",
       "      <td>...</td>\n",
       "      <td>...</td>\n",
       "      <td>...</td>\n",
       "      <td>...</td>\n",
       "      <td>...</td>\n",
       "    </tr>\n",
       "    <tr>\n",
       "      <th>721</th>\n",
       "      <td>10_14</td>\n",
       "      <td>-0.003952</td>\n",
       "      <td>-0.006941</td>\n",
       "      <td>0.000130</td>\n",
       "      <td>0.000681</td>\n",
       "      <td>0.004079</td>\n",
       "      <td>0.007794</td>\n",
       "      <td>0.007171</td>\n",
       "      <td>0.007492</td>\n",
       "      <td>0.009364</td>\n",
       "      <td>...</td>\n",
       "      <td>0.184671</td>\n",
       "      <td>0.182148</td>\n",
       "      <td>0.180551</td>\n",
       "      <td>0.184807</td>\n",
       "      <td>0.182426</td>\n",
       "      <td>0.179681</td>\n",
       "      <td>0.179483</td>\n",
       "      <td>0.182284</td>\n",
       "      <td>0.183629</td>\n",
       "      <td>0.188575</td>\n",
       "    </tr>\n",
       "    <tr>\n",
       "      <th>722</th>\n",
       "      <td>10_13</td>\n",
       "      <td>-0.002772</td>\n",
       "      <td>-0.003981</td>\n",
       "      <td>0.001905</td>\n",
       "      <td>0.004149</td>\n",
       "      <td>0.005854</td>\n",
       "      <td>0.009877</td>\n",
       "      <td>0.010416</td>\n",
       "      <td>0.010586</td>\n",
       "      <td>0.012591</td>\n",
       "      <td>...</td>\n",
       "      <td>0.170736</td>\n",
       "      <td>0.168617</td>\n",
       "      <td>0.170126</td>\n",
       "      <td>0.175361</td>\n",
       "      <td>0.171327</td>\n",
       "      <td>0.169458</td>\n",
       "      <td>0.168707</td>\n",
       "      <td>0.171626</td>\n",
       "      <td>0.171940</td>\n",
       "      <td>0.176962</td>\n",
       "    </tr>\n",
       "    <tr>\n",
       "      <th>723</th>\n",
       "      <td>10_12</td>\n",
       "      <td>-0.001224</td>\n",
       "      <td>-0.005744</td>\n",
       "      <td>0.002050</td>\n",
       "      <td>0.003515</td>\n",
       "      <td>0.005537</td>\n",
       "      <td>0.008080</td>\n",
       "      <td>0.009855</td>\n",
       "      <td>0.009020</td>\n",
       "      <td>0.012530</td>\n",
       "      <td>...</td>\n",
       "      <td>0.174656</td>\n",
       "      <td>0.170958</td>\n",
       "      <td>0.173822</td>\n",
       "      <td>0.178146</td>\n",
       "      <td>0.174309</td>\n",
       "      <td>0.172389</td>\n",
       "      <td>0.173318</td>\n",
       "      <td>0.174330</td>\n",
       "      <td>0.175925</td>\n",
       "      <td>0.180592</td>\n",
       "    </tr>\n",
       "    <tr>\n",
       "      <th>724</th>\n",
       "      <td>10_11</td>\n",
       "      <td>-0.002536</td>\n",
       "      <td>-0.003103</td>\n",
       "      <td>0.003378</td>\n",
       "      <td>0.003068</td>\n",
       "      <td>0.006684</td>\n",
       "      <td>0.010022</td>\n",
       "      <td>0.010580</td>\n",
       "      <td>0.009642</td>\n",
       "      <td>0.012815</td>\n",
       "      <td>...</td>\n",
       "      <td>0.173443</td>\n",
       "      <td>0.171171</td>\n",
       "      <td>0.173736</td>\n",
       "      <td>0.176453</td>\n",
       "      <td>0.173867</td>\n",
       "      <td>0.172495</td>\n",
       "      <td>0.171962</td>\n",
       "      <td>0.173861</td>\n",
       "      <td>0.175423</td>\n",
       "      <td>0.179656</td>\n",
       "    </tr>\n",
       "    <tr>\n",
       "      <th>725</th>\n",
       "      <td>10_10</td>\n",
       "      <td>-0.000649</td>\n",
       "      <td>0.000353</td>\n",
       "      <td>0.006645</td>\n",
       "      <td>0.007025</td>\n",
       "      <td>0.010735</td>\n",
       "      <td>0.011466</td>\n",
       "      <td>0.013770</td>\n",
       "      <td>0.013452</td>\n",
       "      <td>0.014826</td>\n",
       "      <td>...</td>\n",
       "      <td>0.169097</td>\n",
       "      <td>0.165616</td>\n",
       "      <td>0.167647</td>\n",
       "      <td>0.172024</td>\n",
       "      <td>0.168152</td>\n",
       "      <td>0.166994</td>\n",
       "      <td>0.166492</td>\n",
       "      <td>0.166927</td>\n",
       "      <td>0.169783</td>\n",
       "      <td>0.173496</td>\n",
       "    </tr>\n",
       "  </tbody>\n",
       "</table>\n",
       "<p>726 rows × 123 columns</p>\n",
       "</div>"
      ],
      "text/plain": [
       "    file_name    band_1    band_2    band_3    band_4    band_5    band_6  \\\n",
       "0         9_9 -0.007408 -0.001187  0.002304  0.004542  0.005452  0.006617   \n",
       "1         9_8 -0.012122 -0.008056 -0.003529  0.000230  0.000568  0.000611   \n",
       "2         9_7 -0.012122 -0.008056 -0.003529  0.000230  0.000568  0.000611   \n",
       "3         9_6 -0.001092 -0.003444  0.000763  0.003271  0.004058  0.007828   \n",
       "4         9_5 -0.005341 -0.009759 -0.004499  0.000391  0.001929  0.005225   \n",
       "..        ...       ...       ...       ...       ...       ...       ...   \n",
       "721     10_14 -0.003952 -0.006941  0.000130  0.000681  0.004079  0.007794   \n",
       "722     10_13 -0.002772 -0.003981  0.001905  0.004149  0.005854  0.009877   \n",
       "723     10_12 -0.001224 -0.005744  0.002050  0.003515  0.005537  0.008080   \n",
       "724     10_11 -0.002536 -0.003103  0.003378  0.003068  0.006684  0.010022   \n",
       "725     10_10 -0.000649  0.000353  0.006645  0.007025  0.010735  0.011466   \n",
       "\n",
       "       band_7    band_8    band_9  ...  band_113  band_114  band_115  \\\n",
       "0    0.009321  0.010906  0.010206  ...  0.165042  0.167003  0.163492   \n",
       "1    0.005055  0.008242  0.006994  ...  0.176659  0.176466  0.173304   \n",
       "2    0.005055  0.008242  0.006994  ...  0.176659  0.176466  0.173304   \n",
       "3    0.009567  0.011485  0.010938  ...  0.180520  0.175171  0.175264   \n",
       "4    0.006398  0.007666  0.009711  ...  0.174059  0.167857  0.168702   \n",
       "..        ...       ...       ...  ...       ...       ...       ...   \n",
       "721  0.007171  0.007492  0.009364  ...  0.184671  0.182148  0.180551   \n",
       "722  0.010416  0.010586  0.012591  ...  0.170736  0.168617  0.170126   \n",
       "723  0.009855  0.009020  0.012530  ...  0.174656  0.170958  0.173822   \n",
       "724  0.010580  0.009642  0.012815  ...  0.173443  0.171171  0.173736   \n",
       "725  0.013770  0.013452  0.014826  ...  0.169097  0.165616  0.167647   \n",
       "\n",
       "     band_116  band_117  band_118  band_119  band_120  band_121  band_122  \n",
       "0    0.165492  0.165300  0.161843  0.165384  0.168709  0.167595  0.170170  \n",
       "1    0.175908  0.173966  0.173316  0.175109  0.178707  0.175427  0.179748  \n",
       "2    0.175908  0.173966  0.173316  0.175109  0.178707  0.175427  0.179748  \n",
       "3    0.178075  0.176523  0.177661  0.175174  0.178987  0.177515  0.181104  \n",
       "4    0.173387  0.170735  0.171412  0.170000  0.174250  0.173621  0.175200  \n",
       "..        ...       ...       ...       ...       ...       ...       ...  \n",
       "721  0.184807  0.182426  0.179681  0.179483  0.182284  0.183629  0.188575  \n",
       "722  0.175361  0.171327  0.169458  0.168707  0.171626  0.171940  0.176962  \n",
       "723  0.178146  0.174309  0.172389  0.173318  0.174330  0.175925  0.180592  \n",
       "724  0.176453  0.173867  0.172495  0.171962  0.173861  0.175423  0.179656  \n",
       "725  0.172024  0.168152  0.166994  0.166492  0.166927  0.169783  0.173496  \n",
       "\n",
       "[726 rows x 123 columns]"
      ]
     },
     "execution_count": 2,
     "metadata": {},
     "output_type": "execute_result"
    }
   ],
   "source": [
    "df_spectral = pd.read_csv(r\"D:\\wenqu\\aviris\\PLSR\\output.csv\")\n",
    "df_spectral"
   ]
  },
  {
   "cell_type": "code",
   "execution_count": 3,
   "id": "e8e28dd4",
   "metadata": {},
   "outputs": [
    {
     "data": {
      "text/plain": [
       "0        9_9\n",
       "1        9_8\n",
       "2        9_7\n",
       "3        9_6\n",
       "4        9_5\n",
       "       ...  \n",
       "721    10_14\n",
       "722    10_13\n",
       "723    10_12\n",
       "724    10_11\n",
       "725    10_10\n",
       "Name: file_name, Length: 726, dtype: object"
      ]
     },
     "execution_count": 3,
     "metadata": {},
     "output_type": "execute_result"
    }
   ],
   "source": [
    "df_spectral['file_name']"
   ]
  },
  {
   "cell_type": "code",
   "execution_count": 4,
   "id": "5267f81c",
   "metadata": {},
   "outputs": [],
   "source": [
    "band_name = []\n",
    "for i in range(1, 123):\n",
    "    b_name = 'band_' + str(i) \n",
    "    band_name.append(b_name)"
   ]
  },
  {
   "cell_type": "code",
   "execution_count": 5,
   "id": "98474bee",
   "metadata": {},
   "outputs": [
    {
     "data": {
      "text/plain": [
       "['band_1',\n",
       " 'band_2',\n",
       " 'band_3',\n",
       " 'band_4',\n",
       " 'band_5',\n",
       " 'band_6',\n",
       " 'band_7',\n",
       " 'band_8',\n",
       " 'band_9',\n",
       " 'band_10',\n",
       " 'band_11',\n",
       " 'band_12',\n",
       " 'band_13',\n",
       " 'band_14',\n",
       " 'band_15',\n",
       " 'band_16',\n",
       " 'band_17',\n",
       " 'band_18',\n",
       " 'band_19',\n",
       " 'band_20',\n",
       " 'band_21',\n",
       " 'band_22',\n",
       " 'band_23',\n",
       " 'band_24',\n",
       " 'band_25',\n",
       " 'band_26',\n",
       " 'band_27',\n",
       " 'band_28',\n",
       " 'band_29',\n",
       " 'band_30',\n",
       " 'band_31',\n",
       " 'band_32',\n",
       " 'band_33',\n",
       " 'band_34',\n",
       " 'band_35',\n",
       " 'band_36',\n",
       " 'band_37',\n",
       " 'band_38',\n",
       " 'band_39',\n",
       " 'band_40',\n",
       " 'band_41',\n",
       " 'band_42',\n",
       " 'band_43',\n",
       " 'band_44',\n",
       " 'band_45',\n",
       " 'band_46',\n",
       " 'band_47',\n",
       " 'band_48',\n",
       " 'band_49',\n",
       " 'band_50',\n",
       " 'band_51',\n",
       " 'band_52',\n",
       " 'band_53',\n",
       " 'band_54',\n",
       " 'band_55',\n",
       " 'band_56',\n",
       " 'band_57',\n",
       " 'band_58',\n",
       " 'band_59',\n",
       " 'band_60',\n",
       " 'band_61',\n",
       " 'band_62',\n",
       " 'band_63',\n",
       " 'band_64',\n",
       " 'band_65',\n",
       " 'band_66',\n",
       " 'band_67',\n",
       " 'band_68',\n",
       " 'band_69',\n",
       " 'band_70',\n",
       " 'band_71',\n",
       " 'band_72',\n",
       " 'band_73',\n",
       " 'band_74',\n",
       " 'band_75',\n",
       " 'band_76',\n",
       " 'band_77',\n",
       " 'band_78',\n",
       " 'band_79',\n",
       " 'band_80',\n",
       " 'band_81',\n",
       " 'band_82',\n",
       " 'band_83',\n",
       " 'band_84',\n",
       " 'band_85',\n",
       " 'band_86',\n",
       " 'band_87',\n",
       " 'band_88',\n",
       " 'band_89',\n",
       " 'band_90',\n",
       " 'band_91',\n",
       " 'band_92',\n",
       " 'band_93',\n",
       " 'band_94',\n",
       " 'band_95',\n",
       " 'band_96',\n",
       " 'band_97',\n",
       " 'band_98',\n",
       " 'band_99',\n",
       " 'band_100',\n",
       " 'band_101',\n",
       " 'band_102',\n",
       " 'band_103',\n",
       " 'band_104',\n",
       " 'band_105',\n",
       " 'band_106',\n",
       " 'band_107',\n",
       " 'band_108',\n",
       " 'band_109',\n",
       " 'band_110',\n",
       " 'band_111',\n",
       " 'band_112',\n",
       " 'band_113',\n",
       " 'band_114',\n",
       " 'band_115',\n",
       " 'band_116',\n",
       " 'band_117',\n",
       " 'band_118',\n",
       " 'band_119',\n",
       " 'band_120',\n",
       " 'band_121',\n",
       " 'band_122']"
      ]
     },
     "execution_count": 5,
     "metadata": {},
     "output_type": "execute_result"
    }
   ],
   "source": [
    "band_name"
   ]
  },
  {
   "cell_type": "code",
   "execution_count": 6,
   "id": "343f0948",
   "metadata": {},
   "outputs": [],
   "source": [
    "x_spectra = df_spectral[band_name]\n",
    "x = x_spectra.to_numpy()"
   ]
  },
  {
   "cell_type": "code",
   "execution_count": 7,
   "id": "8373041d",
   "metadata": {},
   "outputs": [
    {
     "data": {
      "text/plain": [
       "(726, 122)"
      ]
     },
     "execution_count": 7,
     "metadata": {},
     "output_type": "execute_result"
    }
   ],
   "source": [
    "x.shape"
   ]
  },
  {
   "cell_type": "code",
   "execution_count": 8,
   "id": "98207412",
   "metadata": {},
   "outputs": [],
   "source": [
    "def gaus(X,C,X_mean,sigma):\n",
    "    return C*exp(-(X-X_mean)**2/(2*sigma**2))"
   ]
  },
  {
   "cell_type": "code",
   "execution_count": 9,
   "id": "69da1347",
   "metadata": {},
   "outputs": [
    {
     "name": "stdout",
     "output_type": "stream",
     "text": [
      "9_9\n",
      "9_8\n",
      "9_7\n",
      "9_6\n",
      "9_5\n",
      "9_4\n",
      "9_3\n",
      "9_27\n",
      "9_26\n",
      "9_25\n",
      "9_24\n",
      "9_23\n",
      "9_22\n"
     ]
    },
    {
     "name": "stderr",
     "output_type": "stream",
     "text": [
      "C:\\Users\\laral\\AppData\\Local\\Temp\\ipykernel_16020\\1587569527.py:2: DeprecationWarning: scipy.exp is deprecated and will be removed in SciPy 2.0.0, use numpy.exp instead\n",
      "  return C*exp(-(X-X_mean)**2/(2*sigma**2))\n",
      "C:\\Users\\laral\\Anaconda3\\envs\\wenqu_gpu\\lib\\site-packages\\scipy\\optimize\\_minpack_py.py:881: OptimizeWarning: Covariance of the parameters could not be estimated\n",
      "  warnings.warn('Covariance of the parameters could not be estimated',\n"
     ]
    },
    {
     "name": "stdout",
     "output_type": "stream",
     "text": [
      "9_21\n",
      "9_20\n",
      "9_2\n",
      "9_19\n",
      "9_18\n",
      "9_17\n",
      "9_16\n",
      "9_15\n",
      "9_14\n",
      "9_13\n",
      "9_12\n",
      "9_11\n",
      "9_10\n",
      "8_9\n",
      "8_8\n",
      "8_7\n",
      "8_6\n",
      "8_5\n",
      "8_4\n",
      "8_3\n",
      "8_27\n",
      "8_26\n",
      "8_25\n",
      "8_24\n",
      "8_23\n",
      "8_22\n",
      "8_21\n",
      "8_20\n",
      "8_19\n",
      "8_18\n",
      "8_17\n",
      "8_16\n",
      "8_15\n",
      "8_14\n",
      "8_13\n",
      "8_12\n",
      "8_11\n",
      "8_10\n",
      "7_9\n",
      "7_8\n",
      "7_7\n",
      "7_6\n",
      "7_26\n",
      "7_25\n",
      "7_24\n",
      "7_23\n",
      "7_22\n",
      "7_21\n",
      "7_20\n",
      "7_19\n",
      "7_18\n",
      "7_17\n",
      "7_16\n",
      "7_15\n",
      "7_14\n",
      "7_13\n",
      "7_12\n",
      "7_11\n",
      "7_10\n",
      "6_9\n",
      "6_25\n",
      "6_24\n",
      "6_23\n",
      "6_22\n",
      "6_21\n",
      "6_20\n",
      "6_19\n",
      "6_18\n",
      "6_17\n",
      "6_16\n",
      "6_15\n",
      "6_14\n",
      "6_13\n",
      "6_12\n",
      "6_11\n",
      "6_10\n",
      "5_25\n",
      "5_24\n",
      "5_23\n",
      "5_22\n",
      "5_21\n",
      "5_20\n",
      "5_19\n",
      "5_18\n",
      "5_17\n",
      "5_16\n",
      "5_15\n",
      "5_14\n",
      "5_13\n",
      "5_12\n",
      "4_25\n",
      "4_24\n",
      "4_23\n",
      "4_22\n",
      "4_21\n",
      "4_20\n",
      "4_19\n",
      "4_18\n",
      "4_17\n",
      "34_9\n",
      "34_8\n",
      "34_7\n",
      "34_11\n",
      "34_10\n",
      "33_9\n",
      "33_8\n",
      "33_7\n",
      "33_6\n",
      "33_13\n",
      "33_12\n",
      "33_11\n",
      "33_10\n",
      "32_9\n",
      "32_8\n",
      "32_7\n",
      "32_6\n",
      "32_17\n",
      "32_16\n",
      "32_15\n",
      "32_14\n",
      "32_13\n",
      "32_12\n",
      "32_11\n",
      "32_10\n",
      "31_9\n",
      "31_8\n",
      "31_7\n",
      "31_6\n",
      "31_5\n",
      "31_20\n",
      "31_19\n",
      "31_18\n",
      "31_17\n",
      "31_16\n",
      "31_15\n",
      "31_14\n",
      "31_13\n",
      "31_12\n",
      "31_11\n",
      "31_10\n",
      "30_9\n",
      "30_8\n",
      "30_7\n",
      "30_6\n",
      "30_22\n",
      "30_21\n",
      "30_20\n",
      "30_19\n",
      "30_18\n",
      "30_17\n",
      "30_16\n",
      "30_15\n",
      "30_14\n",
      "30_13\n",
      "30_12\n",
      "30_11\n",
      "30_10\n",
      "3_24\n",
      "3_23\n",
      "3_22\n",
      "3_21\n",
      "3_20\n",
      "3_19\n",
      "3_18\n",
      "29_9\n",
      "29_8\n",
      "29_7\n",
      "29_25\n",
      "29_24\n",
      "29_23\n",
      "29_22\n",
      "29_21\n",
      "29_20\n",
      "29_19\n",
      "29_18\n",
      "29_17\n",
      "29_16\n",
      "29_15\n",
      "29_14\n",
      "29_13\n",
      "29_12\n",
      "29_11\n",
      "29_10\n",
      "28_9\n",
      "28_8\n",
      "28_7\n",
      "28_6\n",
      "28_5\n",
      "28_4\n",
      "28_27\n",
      "28_26\n",
      "28_25\n",
      "28_24\n",
      "28_23\n",
      "28_22\n",
      "28_21\n",
      "28_20\n",
      "28_19\n",
      "28_18\n",
      "28_17\n",
      "28_16\n",
      "28_15\n",
      "28_14\n",
      "28_13\n",
      "28_12\n",
      "28_11\n",
      "28_10\n",
      "27_9\n",
      "27_8\n",
      "27_7\n",
      "27_6\n",
      "27_5\n",
      "27_4\n",
      "27_30\n",
      "27_29\n",
      "27_28\n",
      "27_27\n",
      "27_26\n",
      "27_25\n",
      "27_24\n",
      "27_23\n",
      "27_22\n",
      "27_21\n",
      "27_20\n",
      "27_19\n",
      "27_18\n",
      "27_17\n",
      "27_16\n",
      "27_15\n",
      "27_14\n",
      "27_13\n",
      "27_12\n",
      "27_11\n",
      "27_10\n",
      "26_9\n",
      "26_8\n",
      "26_7\n",
      "26_6\n",
      "26_5\n",
      "26_4\n",
      "26_31\n",
      "26_30\n",
      "26_29\n",
      "26_28\n",
      "26_27\n",
      "26_26\n",
      "26_25\n",
      "26_24\n",
      "26_23\n",
      "26_22\n",
      "26_21\n",
      "26_20\n",
      "26_19\n",
      "26_18\n",
      "26_17\n",
      "26_16\n",
      "26_15\n",
      "26_14\n",
      "26_13\n",
      "26_12\n",
      "26_11\n",
      "26_10\n",
      "25_9\n",
      "25_8\n",
      "25_7\n",
      "25_6\n",
      "25_5\n",
      "25_31\n",
      "25_30\n",
      "25_29\n",
      "25_28\n",
      "25_27\n",
      "25_26\n",
      "25_25\n",
      "25_24\n",
      "25_23\n",
      "25_22\n",
      "25_21\n",
      "25_20\n",
      "25_19\n",
      "25_18\n",
      "25_17\n",
      "25_16\n",
      "25_15\n",
      "25_14\n",
      "25_13\n",
      "25_12\n",
      "25_11\n",
      "25_10\n",
      "24_9\n",
      "24_8\n",
      "24_7\n",
      "24_6\n",
      "24_31\n",
      "24_30\n",
      "24_3\n",
      "24_29\n",
      "24_28\n",
      "24_27\n",
      "24_26\n",
      "24_25\n",
      "24_24\n",
      "24_23\n",
      "24_22\n",
      "24_21\n",
      "24_20\n",
      "24_2\n",
      "24_19\n",
      "24_18\n",
      "24_17\n",
      "24_16\n",
      "24_15\n",
      "24_14\n",
      "24_13\n",
      "24_12\n",
      "24_11\n",
      "24_10\n",
      "23_9\n",
      "23_8\n",
      "23_7\n",
      "23_6\n",
      "23_5\n",
      "23_4\n",
      "23_31\n",
      "23_30\n",
      "23_3\n",
      "23_29\n",
      "23_28\n",
      "23_27\n",
      "23_26\n",
      "23_25\n",
      "23_24\n",
      "23_23\n",
      "23_22\n",
      "23_21\n",
      "23_20\n",
      "23_2\n",
      "23_19\n",
      "23_18\n",
      "23_17\n",
      "23_16\n",
      "23_15\n",
      "23_14\n",
      "23_13\n",
      "23_12\n",
      "23_11\n",
      "23_10\n",
      "22_9\n",
      "22_8\n",
      "22_7\n",
      "22_6\n",
      "22_5\n",
      "22_4\n",
      "22_31\n",
      "22_30\n",
      "22_3\n",
      "22_29\n",
      "22_28\n",
      "22_27\n",
      "22_26\n",
      "22_25\n",
      "22_24\n",
      "22_23\n",
      "22_22\n",
      "22_21\n",
      "22_20\n",
      "22_2\n",
      "22_19\n",
      "22_18\n",
      "22_17\n",
      "22_16\n",
      "22_15\n",
      "22_14\n",
      "22_13\n",
      "22_12\n",
      "22_11\n",
      "22_10\n",
      "22_1\n",
      "21_9\n",
      "21_8\n",
      "21_7\n",
      "21_6\n",
      "21_5\n",
      "21_4\n",
      "21_31\n",
      "21_30\n",
      "21_3\n",
      "21_29\n",
      "21_28\n",
      "21_27\n",
      "21_26\n",
      "21_25\n",
      "21_24\n",
      "21_23\n",
      "21_22\n",
      "21_21\n",
      "21_20\n",
      "21_2\n",
      "21_19\n",
      "21_18\n",
      "21_17\n",
      "21_16\n",
      "21_15\n",
      "21_14\n",
      "21_13\n",
      "21_12\n",
      "21_11\n",
      "21_10\n",
      "21_1\n",
      "20_9\n",
      "20_8\n",
      "20_7\n",
      "20_6\n",
      "20_5\n",
      "20_4\n",
      "20_31\n",
      "20_30\n",
      "20_3\n",
      "20_29\n",
      "20_28\n",
      "20_27\n",
      "20_26\n",
      "20_25\n",
      "20_24\n",
      "20_23\n",
      "20_22\n",
      "20_21\n",
      "20_20\n",
      "20_2\n",
      "20_19\n",
      "20_18\n",
      "20_17\n",
      "20_16\n",
      "20_15\n",
      "20_14\n",
      "20_13\n",
      "20_12\n",
      "20_11\n",
      "20_10\n",
      "20_1\n",
      "2_24\n",
      "2_23\n",
      "2_22\n",
      "2_21\n",
      "2_20\n",
      "2_19\n",
      "19_9\n",
      "19_8\n",
      "19_7\n",
      "19_6\n",
      "19_5\n",
      "19_4\n",
      "19_30\n",
      "19_3\n",
      "19_29\n",
      "19_28\n",
      "19_27\n",
      "19_26\n",
      "19_25\n",
      "19_24\n",
      "19_23\n",
      "19_22\n",
      "19_21\n",
      "19_20\n",
      "19_2\n",
      "19_19\n",
      "19_18\n",
      "19_17\n",
      "19_16\n",
      "19_15\n",
      "19_14\n",
      "19_13\n",
      "19_12\n",
      "19_11\n",
      "19_10\n",
      "18_9\n",
      "18_8\n",
      "18_7\n",
      "18_6\n",
      "18_5\n",
      "18_4\n",
      "18_3\n",
      "18_29\n",
      "18_28\n",
      "18_27\n",
      "18_26\n",
      "18_25\n",
      "18_24\n",
      "18_23\n",
      "18_22\n",
      "18_21\n",
      "18_20\n",
      "18_2\n",
      "18_19\n",
      "18_18\n",
      "18_17\n",
      "18_16\n",
      "18_15\n",
      "18_14\n",
      "18_13\n",
      "18_12\n",
      "18_11\n",
      "18_10\n",
      "18_1\n",
      "17_9\n",
      "17_8\n",
      "17_7\n",
      "17_6\n",
      "17_5\n",
      "17_4\n",
      "17_3\n",
      "17_29\n",
      "17_28\n",
      "17_27\n",
      "17_26\n",
      "17_25\n",
      "17_24\n",
      "17_23\n",
      "17_22\n",
      "17_21\n",
      "17_20\n",
      "17_2\n",
      "17_19\n",
      "17_18\n",
      "17_17\n",
      "17_16\n",
      "17_15\n",
      "17_14\n",
      "17_13\n",
      "17_12\n",
      "17_11\n",
      "17_10\n",
      "17_1\n",
      "16_9\n",
      "16_8\n",
      "16_7\n",
      "16_6\n",
      "16_5\n",
      "16_4\n",
      "16_3\n",
      "16_29\n",
      "16_28\n",
      "16_27\n",
      "16_26\n",
      "16_25\n",
      "16_24\n",
      "16_23\n",
      "16_22\n",
      "16_21\n",
      "16_20\n",
      "16_2\n",
      "16_19\n",
      "16_18\n",
      "16_17\n",
      "16_16\n",
      "16_15\n",
      "16_14\n",
      "16_13\n",
      "16_12\n",
      "16_11\n",
      "16_10\n",
      "16_1\n",
      "15_9\n",
      "15_8\n",
      "15_7\n",
      "15_6\n",
      "15_5\n",
      "15_4\n",
      "15_3\n",
      "15_28\n",
      "15_27\n",
      "15_26\n",
      "15_25\n",
      "15_24\n",
      "15_23\n",
      "15_22\n",
      "15_21\n",
      "15_20\n",
      "15_2\n",
      "15_19\n",
      "15_18\n",
      "15_17\n",
      "15_16\n",
      "15_15\n",
      "15_14\n",
      "15_13\n",
      "15_12\n",
      "15_11\n",
      "15_10\n",
      "15_1\n",
      "14_9\n",
      "14_8\n",
      "14_7\n",
      "14_4\n",
      "14_3\n",
      "14_28\n",
      "14_27\n",
      "14_26\n",
      "14_25\n",
      "14_24\n",
      "14_23\n",
      "14_22\n",
      "14_21\n",
      "14_20\n",
      "14_2\n",
      "14_19\n",
      "14_18\n",
      "14_17\n",
      "14_16\n",
      "14_15\n",
      "14_14\n",
      "14_13\n",
      "14_12\n",
      "14_11\n",
      "14_10\n",
      "14_1\n",
      "13_9\n",
      "13_6\n",
      "13_5\n",
      "13_4\n",
      "13_3\n",
      "13_28\n",
      "13_27\n",
      "13_26\n",
      "13_25\n",
      "13_24\n",
      "13_23\n",
      "13_22\n",
      "13_21\n",
      "13_20\n",
      "13_2\n",
      "13_19\n",
      "13_18\n",
      "13_17\n",
      "13_16\n",
      "13_15\n",
      "13_14\n",
      "13_13\n",
      "13_12\n",
      "13_11\n",
      "13_10\n",
      "13_1\n",
      "12_7\n",
      "12_6\n",
      "12_5\n",
      "12_4\n",
      "12_3\n",
      "12_28\n",
      "12_27\n",
      "12_26\n",
      "12_25\n",
      "12_24\n",
      "12_23\n",
      "12_22\n",
      "12_21\n",
      "12_20\n",
      "12_2\n",
      "12_19\n",
      "12_18\n",
      "12_17\n",
      "12_16\n",
      "12_15\n",
      "12_14\n",
      "12_13\n",
      "12_12\n",
      "11_8\n",
      "11_7\n",
      "11_6\n",
      "11_5\n",
      "11_4\n",
      "11_3\n",
      "11_27\n",
      "11_26\n",
      "11_25\n",
      "11_24\n",
      "11_23\n",
      "11_22\n",
      "11_21\n",
      "11_20\n",
      "11_2\n",
      "11_19\n",
      "11_18\n",
      "11_17\n",
      "11_16\n",
      "11_14\n",
      "11_13\n",
      "11_12\n",
      "11_10\n",
      "10_9\n",
      "10_8\n",
      "10_7\n",
      "10_6\n",
      "10_5\n",
      "10_4\n",
      "10_3\n",
      "10_27\n",
      "10_26\n",
      "10_25\n",
      "10_24\n",
      "10_23\n",
      "10_22\n",
      "10_21\n",
      "10_20\n",
      "10_2\n",
      "10_19\n",
      "10_18\n",
      "10_17\n",
      "10_16\n",
      "10_14\n",
      "10_13\n",
      "10_12\n",
      "10_11\n",
      "10_10\n"
     ]
    }
   ],
   "source": [
    "la_trait_pdf = []\n",
    "for file_name in df_spectral['file_name']:\n",
    "    print(file_name)\n",
    "    file_name = 'D:/wenqu/aviris/PLSR/site2a_clip/' + file_name + '.tif'\n",
    "    x_data = gdal.Open(file_name).ReadAsArray().flatten()\n",
    "    hist, bin_edges = np.histogram(x_data)\n",
    "    hist=hist/sum(hist)\n",
    "    n = len(hist)\n",
    "    x_hist=np.zeros((n),dtype=float) \n",
    "    # middle value for each bin, has the same shape as y_hist\n",
    "    for ii in range(n):\n",
    "        x_hist[ii]=(bin_edges[ii+1]+bin_edges[ii])/2\n",
    "    # number of values falling into each bins - probability     \n",
    "    y_hist=hist\n",
    "    mean = sum(x_hist*y_hist)/sum(y_hist)                  \n",
    "    sigma = sum(y_hist*(x_hist-mean)**2)/sum(y_hist) \n",
    "    param_optimised,param_covariance_matrix = curve_fit(gaus,x_hist,y_hist,p0=[max(y_hist),mean,sigma],maxfev=5000)\n",
    "#     x_hist_2=np.linspace(np.min(x_hist),np.max(x_hist),500)\n",
    "    la_trait_pdf.append(param_optimised)\n"
   ]
  },
  {
   "cell_type": "code",
   "execution_count": 10,
   "id": "c101980d",
   "metadata": {},
   "outputs": [
    {
     "data": {
      "text/plain": [
       "726"
      ]
     },
     "execution_count": 10,
     "metadata": {},
     "output_type": "execute_result"
    }
   ],
   "source": [
    "len(la_trait_pdf)"
   ]
  },
  {
   "cell_type": "code",
   "execution_count": 11,
   "id": "41015a0e",
   "metadata": {},
   "outputs": [],
   "source": [
    "y = la_trait_pdf\n",
    "y = np.array(y)\n"
   ]
  },
  {
   "cell_type": "code",
   "execution_count": 12,
   "id": "c97d40cb",
   "metadata": {},
   "outputs": [
    {
     "data": {
      "text/plain": [
       "(726, 3)"
      ]
     },
     "execution_count": 12,
     "metadata": {},
     "output_type": "execute_result"
    }
   ],
   "source": [
    "y.shape"
   ]
  },
  {
   "cell_type": "code",
   "execution_count": 13,
   "id": "46977b02",
   "metadata": {},
   "outputs": [
    {
     "name": "stdout",
     "output_type": "stream",
     "text": [
      "float64\n"
     ]
    }
   ],
   "source": [
    "print(y.dtype)"
   ]
  },
  {
   "cell_type": "code",
   "execution_count": 14,
   "id": "cc77527d",
   "metadata": {},
   "outputs": [
    {
     "data": {
      "text/plain": [
       "((726, 3), (726, 122))"
      ]
     },
     "execution_count": 14,
     "metadata": {},
     "output_type": "execute_result"
    }
   ],
   "source": [
    "y.shape, x.shape"
   ]
  },
  {
   "cell_type": "code",
   "execution_count": 15,
   "id": "e829229b",
   "metadata": {},
   "outputs": [],
   "source": [
    "band_name = np.array(band_name)"
   ]
  },
  {
   "cell_type": "code",
   "execution_count": 16,
   "id": "91c54a5f",
   "metadata": {},
   "outputs": [],
   "source": [
    "# Python\n",
    "def pls_variable_selection(X, y, max_comp):\n",
    "    \n",
    "    # Define MSE array to be populated\n",
    "    mse = np.zeros((max_comp,X.shape[1]))\n",
    " \n",
    "    # Loop over the number of PLS components\n",
    "    for i in range(max_comp):\n",
    "        \n",
    "        # Regression with specified number of components, using full spectrum\n",
    "        pls1 = PLSRegression(n_components=i+1)\n",
    "        pls1.fit(X, y)\n",
    "        \n",
    "        # Indices of sort spectra according to ascending absolute value of PLS coefficients\n",
    "        sorted_ind = np.argsort(np.abs(pls1.coef_[:,0]))\n",
    " \n",
    "        # Sort spectra accordingly \n",
    "        Xc = X[:,sorted_ind]\n",
    " \n",
    "        # Discard one wavelength at a time of the sorted spectra,\n",
    "        # regress, and calculate the MSE cross-validation\n",
    "        for j in range(Xc.shape[1]-(i+1)):\n",
    " \n",
    "            pls2 = PLSRegression(n_components=i+1)\n",
    "            pls2.fit(Xc[:, j:], y)\n",
    "            \n",
    "            y_cv = cross_val_predict(pls2, Xc[:, j:], y, cv=5)\n",
    " \n",
    "            mse[i,j] = mean_squared_error(y, y_cv)\n",
    "    \n",
    "        comp = 100*(i+1)/(max_comp)\n",
    "        stdout.write(\"\\r%d%% completed\" % comp)\n",
    "        stdout.flush()\n",
    "    stdout.write(\"\\n\")\n",
    " \n",
    "    # # Calculate and print the position of minimum in MSE\n",
    "    mseminx,mseminy = np.where(mse==np.min(mse[np.nonzero(mse)]))\n",
    " \n",
    "    print(\"Optimised number of PLS components: \", mseminx[0]+1)\n",
    "    print(\"Wavelengths to be discarded \",mseminy[0])\n",
    "    print('Optimised MSEP ', mse[mseminx,mseminy][0])\n",
    "    stdout.write(\"\\n\")\n",
    "    # plt.imshow(mse, interpolation=None)\n",
    "    # plt.show()\n",
    " \n",
    " \n",
    "    # Calculate PLS with optimal components and export values\n",
    "    pls = PLSRegression(n_components=mseminx[0]+1)\n",
    "    pls.fit(X, y)\n",
    "        \n",
    "    sorted_ind = np.argsort(np.abs(pls.coef_[:,0]))\n",
    " \n",
    "    Xc = X[:,sorted_ind]\n",
    " \n",
    "    return(Xc[:,mseminy[0]:],mseminx[0]+1,mseminy[0], sorted_ind)"
   ]
  },
  {
   "cell_type": "code",
   "execution_count": 17,
   "id": "fe726855",
   "metadata": {},
   "outputs": [],
   "source": [
    "def simple_pls_cv(X, y, n_comp):\n",
    "    # Run PLS with suggested number of components\n",
    "    pls = PLSRegression(n_components=n_comp)\n",
    "    pls.fit(X, y)\n",
    "    y_c = pls.predict(X)\n",
    " \n",
    "    # Cross-validation\n",
    "    y_cv = cross_val_predict(pls, X, y, cv=10)    \n",
    " \n",
    "    # Calculate scores for calibration and cross-validation\n",
    "    score_c = r2_score(y, y_c)\n",
    "    score_cv = r2_score(y, y_cv)\n",
    " \n",
    "    # Calculate mean square error for calibration and cross validation\n",
    "    mse_c = mean_squared_error(y, y_c)\n",
    "    mse_cv = mean_squared_error(y, y_cv)\n",
    " \n",
    "    print('R2 calib: %5.3f'  % score_c)\n",
    "    print('R2 CV: %5.3f'  % score_cv)\n",
    "    print('MSE calib: %5.3f' % mse_c)\n",
    "    print('MSE CV: %5.3f' % mse_cv)\n",
    "        # Plot regression \n",
    " \n",
    "    z = np.polyfit(y, y_cv, 1)\n",
    "    with plt.style.context(('ggplot')):\n",
    "        fig, ax = plt.subplots(figsize=(9, 5))\n",
    "        ax.scatter(y_cv, y, c='red', edgecolors='k')\n",
    "        ax.plot(z[1]+z[0]*y, y, c='blue', linewidth=1)\n",
    "        ax.plot(y, y, color='green', linewidth=1)\n",
    "        plt.title('$R^{2}$ (CV): '+str(score_cv))\n",
    "        plt.xlabel('Predicted $^{\\circ}$Brix')\n",
    "        plt.ylabel('Measured $^{\\circ}$Brix')\n",
    "        \n",
    "        plt.show()"
   ]
  },
  {
   "cell_type": "code",
   "execution_count": 18,
   "id": "1b73a560",
   "metadata": {},
   "outputs": [
    {
     "name": "stderr",
     "output_type": "stream",
     "text": [
      "C:\\Users\\laral\\Anaconda3\\envs\\wenqu_gpu\\lib\\site-packages\\sklearn\\cross_decomposition\\_pls.py:503: FutureWarning: The attribute `coef_` will be transposed in version 1.3 to be consistent with other linear models in scikit-learn. Currently, `coef_` has a shape of (n_features, n_targets) and in the future it will have a shape of (n_targets, n_features).\n",
      "  warnings.warn(\n"
     ]
    },
    {
     "name": "stdout",
     "output_type": "stream",
     "text": [
      "\r",
      "2% completed"
     ]
    },
    {
     "name": "stderr",
     "output_type": "stream",
     "text": [
      "C:\\Users\\laral\\Anaconda3\\envs\\wenqu_gpu\\lib\\site-packages\\sklearn\\cross_decomposition\\_pls.py:503: FutureWarning: The attribute `coef_` will be transposed in version 1.3 to be consistent with other linear models in scikit-learn. Currently, `coef_` has a shape of (n_features, n_targets) and in the future it will have a shape of (n_targets, n_features).\n",
      "  warnings.warn(\n"
     ]
    },
    {
     "name": "stdout",
     "output_type": "stream",
     "text": [
      "\r",
      "4% completed"
     ]
    },
    {
     "name": "stderr",
     "output_type": "stream",
     "text": [
      "C:\\Users\\laral\\Anaconda3\\envs\\wenqu_gpu\\lib\\site-packages\\sklearn\\cross_decomposition\\_pls.py:503: FutureWarning: The attribute `coef_` will be transposed in version 1.3 to be consistent with other linear models in scikit-learn. Currently, `coef_` has a shape of (n_features, n_targets) and in the future it will have a shape of (n_targets, n_features).\n",
      "  warnings.warn(\n"
     ]
    },
    {
     "name": "stdout",
     "output_type": "stream",
     "text": [
      "\r",
      "6% completed"
     ]
    },
    {
     "name": "stderr",
     "output_type": "stream",
     "text": [
      "C:\\Users\\laral\\Anaconda3\\envs\\wenqu_gpu\\lib\\site-packages\\sklearn\\cross_decomposition\\_pls.py:503: FutureWarning: The attribute `coef_` will be transposed in version 1.3 to be consistent with other linear models in scikit-learn. Currently, `coef_` has a shape of (n_features, n_targets) and in the future it will have a shape of (n_targets, n_features).\n",
      "  warnings.warn(\n"
     ]
    },
    {
     "name": "stdout",
     "output_type": "stream",
     "text": [
      "\r",
      "8% completed"
     ]
    },
    {
     "name": "stderr",
     "output_type": "stream",
     "text": [
      "C:\\Users\\laral\\Anaconda3\\envs\\wenqu_gpu\\lib\\site-packages\\sklearn\\cross_decomposition\\_pls.py:503: FutureWarning: The attribute `coef_` will be transposed in version 1.3 to be consistent with other linear models in scikit-learn. Currently, `coef_` has a shape of (n_features, n_targets) and in the future it will have a shape of (n_targets, n_features).\n",
      "  warnings.warn(\n"
     ]
    },
    {
     "name": "stdout",
     "output_type": "stream",
     "text": [
      "\r",
      "10% completed"
     ]
    },
    {
     "name": "stderr",
     "output_type": "stream",
     "text": [
      "C:\\Users\\laral\\Anaconda3\\envs\\wenqu_gpu\\lib\\site-packages\\sklearn\\cross_decomposition\\_pls.py:503: FutureWarning: The attribute `coef_` will be transposed in version 1.3 to be consistent with other linear models in scikit-learn. Currently, `coef_` has a shape of (n_features, n_targets) and in the future it will have a shape of (n_targets, n_features).\n",
      "  warnings.warn(\n"
     ]
    },
    {
     "name": "stdout",
     "output_type": "stream",
     "text": [
      "\r",
      "12% completed"
     ]
    },
    {
     "name": "stderr",
     "output_type": "stream",
     "text": [
      "C:\\Users\\laral\\Anaconda3\\envs\\wenqu_gpu\\lib\\site-packages\\sklearn\\cross_decomposition\\_pls.py:503: FutureWarning: The attribute `coef_` will be transposed in version 1.3 to be consistent with other linear models in scikit-learn. Currently, `coef_` has a shape of (n_features, n_targets) and in the future it will have a shape of (n_targets, n_features).\n",
      "  warnings.warn(\n"
     ]
    },
    {
     "name": "stdout",
     "output_type": "stream",
     "text": [
      "\r",
      "14% completed"
     ]
    },
    {
     "name": "stderr",
     "output_type": "stream",
     "text": [
      "C:\\Users\\laral\\Anaconda3\\envs\\wenqu_gpu\\lib\\site-packages\\sklearn\\cross_decomposition\\_pls.py:503: FutureWarning: The attribute `coef_` will be transposed in version 1.3 to be consistent with other linear models in scikit-learn. Currently, `coef_` has a shape of (n_features, n_targets) and in the future it will have a shape of (n_targets, n_features).\n",
      "  warnings.warn(\n"
     ]
    },
    {
     "name": "stdout",
     "output_type": "stream",
     "text": [
      "\r",
      "16% completed"
     ]
    },
    {
     "name": "stderr",
     "output_type": "stream",
     "text": [
      "C:\\Users\\laral\\Anaconda3\\envs\\wenqu_gpu\\lib\\site-packages\\sklearn\\cross_decomposition\\_pls.py:503: FutureWarning: The attribute `coef_` will be transposed in version 1.3 to be consistent with other linear models in scikit-learn. Currently, `coef_` has a shape of (n_features, n_targets) and in the future it will have a shape of (n_targets, n_features).\n",
      "  warnings.warn(\n"
     ]
    },
    {
     "name": "stdout",
     "output_type": "stream",
     "text": [
      "\r",
      "18% completed"
     ]
    },
    {
     "name": "stderr",
     "output_type": "stream",
     "text": [
      "C:\\Users\\laral\\Anaconda3\\envs\\wenqu_gpu\\lib\\site-packages\\sklearn\\cross_decomposition\\_pls.py:503: FutureWarning: The attribute `coef_` will be transposed in version 1.3 to be consistent with other linear models in scikit-learn. Currently, `coef_` has a shape of (n_features, n_targets) and in the future it will have a shape of (n_targets, n_features).\n",
      "  warnings.warn(\n"
     ]
    },
    {
     "name": "stdout",
     "output_type": "stream",
     "text": [
      "\r",
      "20% completed"
     ]
    },
    {
     "name": "stderr",
     "output_type": "stream",
     "text": [
      "C:\\Users\\laral\\Anaconda3\\envs\\wenqu_gpu\\lib\\site-packages\\sklearn\\cross_decomposition\\_pls.py:503: FutureWarning: The attribute `coef_` will be transposed in version 1.3 to be consistent with other linear models in scikit-learn. Currently, `coef_` has a shape of (n_features, n_targets) and in the future it will have a shape of (n_targets, n_features).\n",
      "  warnings.warn(\n"
     ]
    },
    {
     "name": "stdout",
     "output_type": "stream",
     "text": [
      "\r",
      "22% completed"
     ]
    },
    {
     "name": "stderr",
     "output_type": "stream",
     "text": [
      "C:\\Users\\laral\\Anaconda3\\envs\\wenqu_gpu\\lib\\site-packages\\sklearn\\cross_decomposition\\_pls.py:503: FutureWarning: The attribute `coef_` will be transposed in version 1.3 to be consistent with other linear models in scikit-learn. Currently, `coef_` has a shape of (n_features, n_targets) and in the future it will have a shape of (n_targets, n_features).\n",
      "  warnings.warn(\n"
     ]
    },
    {
     "name": "stdout",
     "output_type": "stream",
     "text": [
      "\r",
      "24% completed"
     ]
    },
    {
     "name": "stderr",
     "output_type": "stream",
     "text": [
      "C:\\Users\\laral\\Anaconda3\\envs\\wenqu_gpu\\lib\\site-packages\\sklearn\\cross_decomposition\\_pls.py:503: FutureWarning: The attribute `coef_` will be transposed in version 1.3 to be consistent with other linear models in scikit-learn. Currently, `coef_` has a shape of (n_features, n_targets) and in the future it will have a shape of (n_targets, n_features).\n",
      "  warnings.warn(\n",
      "C:\\Users\\laral\\Anaconda3\\envs\\wenqu_gpu\\lib\\site-packages\\sklearn\\cross_decomposition\\_pls.py:110: ConvergenceWarning: Maximum number of iterations reached\n",
      "  warnings.warn(\"Maximum number of iterations reached\", ConvergenceWarning)\n"
     ]
    },
    {
     "name": "stdout",
     "output_type": "stream",
     "text": [
      "\r",
      "26% completed"
     ]
    },
    {
     "name": "stderr",
     "output_type": "stream",
     "text": [
      "C:\\Users\\laral\\Anaconda3\\envs\\wenqu_gpu\\lib\\site-packages\\sklearn\\cross_decomposition\\_pls.py:503: FutureWarning: The attribute `coef_` will be transposed in version 1.3 to be consistent with other linear models in scikit-learn. Currently, `coef_` has a shape of (n_features, n_targets) and in the future it will have a shape of (n_targets, n_features).\n",
      "  warnings.warn(\n",
      "C:\\Users\\laral\\Anaconda3\\envs\\wenqu_gpu\\lib\\site-packages\\sklearn\\cross_decomposition\\_pls.py:110: ConvergenceWarning: Maximum number of iterations reached\n",
      "  warnings.warn(\"Maximum number of iterations reached\", ConvergenceWarning)\n"
     ]
    },
    {
     "name": "stdout",
     "output_type": "stream",
     "text": [
      "\r",
      "28% completed"
     ]
    },
    {
     "name": "stderr",
     "output_type": "stream",
     "text": [
      "C:\\Users\\laral\\Anaconda3\\envs\\wenqu_gpu\\lib\\site-packages\\sklearn\\cross_decomposition\\_pls.py:503: FutureWarning: The attribute `coef_` will be transposed in version 1.3 to be consistent with other linear models in scikit-learn. Currently, `coef_` has a shape of (n_features, n_targets) and in the future it will have a shape of (n_targets, n_features).\n",
      "  warnings.warn(\n"
     ]
    },
    {
     "name": "stdout",
     "output_type": "stream",
     "text": [
      "\r",
      "30% completed"
     ]
    },
    {
     "name": "stderr",
     "output_type": "stream",
     "text": [
      "C:\\Users\\laral\\Anaconda3\\envs\\wenqu_gpu\\lib\\site-packages\\sklearn\\cross_decomposition\\_pls.py:503: FutureWarning: The attribute `coef_` will be transposed in version 1.3 to be consistent with other linear models in scikit-learn. Currently, `coef_` has a shape of (n_features, n_targets) and in the future it will have a shape of (n_targets, n_features).\n",
      "  warnings.warn(\n"
     ]
    },
    {
     "name": "stdout",
     "output_type": "stream",
     "text": [
      "\r",
      "32% completed"
     ]
    },
    {
     "name": "stderr",
     "output_type": "stream",
     "text": [
      "C:\\Users\\laral\\Anaconda3\\envs\\wenqu_gpu\\lib\\site-packages\\sklearn\\cross_decomposition\\_pls.py:503: FutureWarning: The attribute `coef_` will be transposed in version 1.3 to be consistent with other linear models in scikit-learn. Currently, `coef_` has a shape of (n_features, n_targets) and in the future it will have a shape of (n_targets, n_features).\n",
      "  warnings.warn(\n"
     ]
    },
    {
     "name": "stdout",
     "output_type": "stream",
     "text": [
      "\r",
      "34% completed"
     ]
    },
    {
     "name": "stderr",
     "output_type": "stream",
     "text": [
      "C:\\Users\\laral\\Anaconda3\\envs\\wenqu_gpu\\lib\\site-packages\\sklearn\\cross_decomposition\\_pls.py:503: FutureWarning: The attribute `coef_` will be transposed in version 1.3 to be consistent with other linear models in scikit-learn. Currently, `coef_` has a shape of (n_features, n_targets) and in the future it will have a shape of (n_targets, n_features).\n",
      "  warnings.warn(\n"
     ]
    },
    {
     "name": "stdout",
     "output_type": "stream",
     "text": [
      "\r",
      "36% completed"
     ]
    },
    {
     "name": "stderr",
     "output_type": "stream",
     "text": [
      "C:\\Users\\laral\\Anaconda3\\envs\\wenqu_gpu\\lib\\site-packages\\sklearn\\cross_decomposition\\_pls.py:503: FutureWarning: The attribute `coef_` will be transposed in version 1.3 to be consistent with other linear models in scikit-learn. Currently, `coef_` has a shape of (n_features, n_targets) and in the future it will have a shape of (n_targets, n_features).\n",
      "  warnings.warn(\n"
     ]
    },
    {
     "name": "stdout",
     "output_type": "stream",
     "text": [
      "\r",
      "38% completed"
     ]
    },
    {
     "name": "stderr",
     "output_type": "stream",
     "text": [
      "C:\\Users\\laral\\Anaconda3\\envs\\wenqu_gpu\\lib\\site-packages\\sklearn\\cross_decomposition\\_pls.py:503: FutureWarning: The attribute `coef_` will be transposed in version 1.3 to be consistent with other linear models in scikit-learn. Currently, `coef_` has a shape of (n_features, n_targets) and in the future it will have a shape of (n_targets, n_features).\n",
      "  warnings.warn(\n"
     ]
    },
    {
     "name": "stdout",
     "output_type": "stream",
     "text": [
      "\r",
      "40% completed"
     ]
    },
    {
     "name": "stderr",
     "output_type": "stream",
     "text": [
      "C:\\Users\\laral\\Anaconda3\\envs\\wenqu_gpu\\lib\\site-packages\\sklearn\\cross_decomposition\\_pls.py:503: FutureWarning: The attribute `coef_` will be transposed in version 1.3 to be consistent with other linear models in scikit-learn. Currently, `coef_` has a shape of (n_features, n_targets) and in the future it will have a shape of (n_targets, n_features).\n",
      "  warnings.warn(\n",
      "C:\\Users\\laral\\Anaconda3\\envs\\wenqu_gpu\\lib\\site-packages\\sklearn\\cross_decomposition\\_pls.py:110: ConvergenceWarning: Maximum number of iterations reached\n",
      "  warnings.warn(\"Maximum number of iterations reached\", ConvergenceWarning)\n"
     ]
    },
    {
     "name": "stdout",
     "output_type": "stream",
     "text": [
      "\r",
      "42% completed"
     ]
    },
    {
     "name": "stderr",
     "output_type": "stream",
     "text": [
      "C:\\Users\\laral\\Anaconda3\\envs\\wenqu_gpu\\lib\\site-packages\\sklearn\\cross_decomposition\\_pls.py:503: FutureWarning: The attribute `coef_` will be transposed in version 1.3 to be consistent with other linear models in scikit-learn. Currently, `coef_` has a shape of (n_features, n_targets) and in the future it will have a shape of (n_targets, n_features).\n",
      "  warnings.warn(\n"
     ]
    },
    {
     "name": "stdout",
     "output_type": "stream",
     "text": [
      "\r",
      "44% completed"
     ]
    },
    {
     "name": "stderr",
     "output_type": "stream",
     "text": [
      "C:\\Users\\laral\\Anaconda3\\envs\\wenqu_gpu\\lib\\site-packages\\sklearn\\cross_decomposition\\_pls.py:503: FutureWarning: The attribute `coef_` will be transposed in version 1.3 to be consistent with other linear models in scikit-learn. Currently, `coef_` has a shape of (n_features, n_targets) and in the future it will have a shape of (n_targets, n_features).\n",
      "  warnings.warn(\n"
     ]
    },
    {
     "name": "stdout",
     "output_type": "stream",
     "text": [
      "\r",
      "46% completed"
     ]
    },
    {
     "name": "stderr",
     "output_type": "stream",
     "text": [
      "C:\\Users\\laral\\Anaconda3\\envs\\wenqu_gpu\\lib\\site-packages\\sklearn\\cross_decomposition\\_pls.py:503: FutureWarning: The attribute `coef_` will be transposed in version 1.3 to be consistent with other linear models in scikit-learn. Currently, `coef_` has a shape of (n_features, n_targets) and in the future it will have a shape of (n_targets, n_features).\n",
      "  warnings.warn(\n",
      "C:\\Users\\laral\\Anaconda3\\envs\\wenqu_gpu\\lib\\site-packages\\sklearn\\cross_decomposition\\_pls.py:110: ConvergenceWarning: Maximum number of iterations reached\n",
      "  warnings.warn(\"Maximum number of iterations reached\", ConvergenceWarning)\n"
     ]
    },
    {
     "name": "stdout",
     "output_type": "stream",
     "text": [
      "\r",
      "48% completed"
     ]
    },
    {
     "name": "stderr",
     "output_type": "stream",
     "text": [
      "C:\\Users\\laral\\Anaconda3\\envs\\wenqu_gpu\\lib\\site-packages\\sklearn\\cross_decomposition\\_pls.py:503: FutureWarning: The attribute `coef_` will be transposed in version 1.3 to be consistent with other linear models in scikit-learn. Currently, `coef_` has a shape of (n_features, n_targets) and in the future it will have a shape of (n_targets, n_features).\n",
      "  warnings.warn(\n"
     ]
    },
    {
     "name": "stdout",
     "output_type": "stream",
     "text": [
      "\r",
      "50% completed"
     ]
    },
    {
     "name": "stderr",
     "output_type": "stream",
     "text": [
      "C:\\Users\\laral\\Anaconda3\\envs\\wenqu_gpu\\lib\\site-packages\\sklearn\\cross_decomposition\\_pls.py:503: FutureWarning: The attribute `coef_` will be transposed in version 1.3 to be consistent with other linear models in scikit-learn. Currently, `coef_` has a shape of (n_features, n_targets) and in the future it will have a shape of (n_targets, n_features).\n",
      "  warnings.warn(\n"
     ]
    },
    {
     "name": "stdout",
     "output_type": "stream",
     "text": [
      "\r",
      "52% completed"
     ]
    },
    {
     "name": "stderr",
     "output_type": "stream",
     "text": [
      "C:\\Users\\laral\\Anaconda3\\envs\\wenqu_gpu\\lib\\site-packages\\sklearn\\cross_decomposition\\_pls.py:503: FutureWarning: The attribute `coef_` will be transposed in version 1.3 to be consistent with other linear models in scikit-learn. Currently, `coef_` has a shape of (n_features, n_targets) and in the future it will have a shape of (n_targets, n_features).\n",
      "  warnings.warn(\n"
     ]
    },
    {
     "name": "stdout",
     "output_type": "stream",
     "text": [
      "\r",
      "54% completed"
     ]
    },
    {
     "name": "stderr",
     "output_type": "stream",
     "text": [
      "C:\\Users\\laral\\Anaconda3\\envs\\wenqu_gpu\\lib\\site-packages\\sklearn\\cross_decomposition\\_pls.py:503: FutureWarning: The attribute `coef_` will be transposed in version 1.3 to be consistent with other linear models in scikit-learn. Currently, `coef_` has a shape of (n_features, n_targets) and in the future it will have a shape of (n_targets, n_features).\n",
      "  warnings.warn(\n"
     ]
    },
    {
     "name": "stdout",
     "output_type": "stream",
     "text": [
      "\r",
      "56% completed"
     ]
    },
    {
     "name": "stderr",
     "output_type": "stream",
     "text": [
      "C:\\Users\\laral\\Anaconda3\\envs\\wenqu_gpu\\lib\\site-packages\\sklearn\\cross_decomposition\\_pls.py:503: FutureWarning: The attribute `coef_` will be transposed in version 1.3 to be consistent with other linear models in scikit-learn. Currently, `coef_` has a shape of (n_features, n_targets) and in the future it will have a shape of (n_targets, n_features).\n",
      "  warnings.warn(\n"
     ]
    },
    {
     "name": "stdout",
     "output_type": "stream",
     "text": [
      "\r",
      "58% completed"
     ]
    },
    {
     "name": "stderr",
     "output_type": "stream",
     "text": [
      "C:\\Users\\laral\\Anaconda3\\envs\\wenqu_gpu\\lib\\site-packages\\sklearn\\cross_decomposition\\_pls.py:503: FutureWarning: The attribute `coef_` will be transposed in version 1.3 to be consistent with other linear models in scikit-learn. Currently, `coef_` has a shape of (n_features, n_targets) and in the future it will have a shape of (n_targets, n_features).\n",
      "  warnings.warn(\n"
     ]
    },
    {
     "name": "stdout",
     "output_type": "stream",
     "text": [
      "\r",
      "60% completed"
     ]
    },
    {
     "name": "stderr",
     "output_type": "stream",
     "text": [
      "C:\\Users\\laral\\Anaconda3\\envs\\wenqu_gpu\\lib\\site-packages\\sklearn\\cross_decomposition\\_pls.py:503: FutureWarning: The attribute `coef_` will be transposed in version 1.3 to be consistent with other linear models in scikit-learn. Currently, `coef_` has a shape of (n_features, n_targets) and in the future it will have a shape of (n_targets, n_features).\n",
      "  warnings.warn(\n"
     ]
    },
    {
     "name": "stdout",
     "output_type": "stream",
     "text": [
      "\r",
      "62% completed"
     ]
    },
    {
     "name": "stderr",
     "output_type": "stream",
     "text": [
      "C:\\Users\\laral\\Anaconda3\\envs\\wenqu_gpu\\lib\\site-packages\\sklearn\\cross_decomposition\\_pls.py:503: FutureWarning: The attribute `coef_` will be transposed in version 1.3 to be consistent with other linear models in scikit-learn. Currently, `coef_` has a shape of (n_features, n_targets) and in the future it will have a shape of (n_targets, n_features).\n",
      "  warnings.warn(\n",
      "C:\\Users\\laral\\Anaconda3\\envs\\wenqu_gpu\\lib\\site-packages\\sklearn\\cross_decomposition\\_pls.py:110: ConvergenceWarning: Maximum number of iterations reached\n",
      "  warnings.warn(\"Maximum number of iterations reached\", ConvergenceWarning)\n"
     ]
    },
    {
     "name": "stdout",
     "output_type": "stream",
     "text": [
      "\r",
      "64% completed"
     ]
    },
    {
     "name": "stderr",
     "output_type": "stream",
     "text": [
      "C:\\Users\\laral\\Anaconda3\\envs\\wenqu_gpu\\lib\\site-packages\\sklearn\\cross_decomposition\\_pls.py:503: FutureWarning: The attribute `coef_` will be transposed in version 1.3 to be consistent with other linear models in scikit-learn. Currently, `coef_` has a shape of (n_features, n_targets) and in the future it will have a shape of (n_targets, n_features).\n",
      "  warnings.warn(\n"
     ]
    },
    {
     "name": "stdout",
     "output_type": "stream",
     "text": [
      "\r",
      "66% completed"
     ]
    },
    {
     "name": "stderr",
     "output_type": "stream",
     "text": [
      "C:\\Users\\laral\\Anaconda3\\envs\\wenqu_gpu\\lib\\site-packages\\sklearn\\cross_decomposition\\_pls.py:503: FutureWarning: The attribute `coef_` will be transposed in version 1.3 to be consistent with other linear models in scikit-learn. Currently, `coef_` has a shape of (n_features, n_targets) and in the future it will have a shape of (n_targets, n_features).\n",
      "  warnings.warn(\n",
      "C:\\Users\\laral\\Anaconda3\\envs\\wenqu_gpu\\lib\\site-packages\\sklearn\\cross_decomposition\\_pls.py:110: ConvergenceWarning: Maximum number of iterations reached\n",
      "  warnings.warn(\"Maximum number of iterations reached\", ConvergenceWarning)\n"
     ]
    },
    {
     "name": "stdout",
     "output_type": "stream",
     "text": [
      "\r",
      "68% completed"
     ]
    },
    {
     "name": "stderr",
     "output_type": "stream",
     "text": [
      "C:\\Users\\laral\\Anaconda3\\envs\\wenqu_gpu\\lib\\site-packages\\sklearn\\cross_decomposition\\_pls.py:503: FutureWarning: The attribute `coef_` will be transposed in version 1.3 to be consistent with other linear models in scikit-learn. Currently, `coef_` has a shape of (n_features, n_targets) and in the future it will have a shape of (n_targets, n_features).\n",
      "  warnings.warn(\n"
     ]
    },
    {
     "name": "stdout",
     "output_type": "stream",
     "text": [
      "\r",
      "70% completed"
     ]
    },
    {
     "name": "stderr",
     "output_type": "stream",
     "text": [
      "C:\\Users\\laral\\Anaconda3\\envs\\wenqu_gpu\\lib\\site-packages\\sklearn\\cross_decomposition\\_pls.py:503: FutureWarning: The attribute `coef_` will be transposed in version 1.3 to be consistent with other linear models in scikit-learn. Currently, `coef_` has a shape of (n_features, n_targets) and in the future it will have a shape of (n_targets, n_features).\n",
      "  warnings.warn(\n"
     ]
    },
    {
     "name": "stdout",
     "output_type": "stream",
     "text": [
      "\r",
      "72% completed"
     ]
    },
    {
     "name": "stderr",
     "output_type": "stream",
     "text": [
      "C:\\Users\\laral\\Anaconda3\\envs\\wenqu_gpu\\lib\\site-packages\\sklearn\\cross_decomposition\\_pls.py:503: FutureWarning: The attribute `coef_` will be transposed in version 1.3 to be consistent with other linear models in scikit-learn. Currently, `coef_` has a shape of (n_features, n_targets) and in the future it will have a shape of (n_targets, n_features).\n",
      "  warnings.warn(\n"
     ]
    },
    {
     "name": "stdout",
     "output_type": "stream",
     "text": [
      "\r",
      "74% completed"
     ]
    },
    {
     "name": "stderr",
     "output_type": "stream",
     "text": [
      "C:\\Users\\laral\\Anaconda3\\envs\\wenqu_gpu\\lib\\site-packages\\sklearn\\cross_decomposition\\_pls.py:503: FutureWarning: The attribute `coef_` will be transposed in version 1.3 to be consistent with other linear models in scikit-learn. Currently, `coef_` has a shape of (n_features, n_targets) and in the future it will have a shape of (n_targets, n_features).\n",
      "  warnings.warn(\n"
     ]
    },
    {
     "name": "stdout",
     "output_type": "stream",
     "text": [
      "\r",
      "76% completed"
     ]
    },
    {
     "name": "stderr",
     "output_type": "stream",
     "text": [
      "C:\\Users\\laral\\Anaconda3\\envs\\wenqu_gpu\\lib\\site-packages\\sklearn\\cross_decomposition\\_pls.py:503: FutureWarning: The attribute `coef_` will be transposed in version 1.3 to be consistent with other linear models in scikit-learn. Currently, `coef_` has a shape of (n_features, n_targets) and in the future it will have a shape of (n_targets, n_features).\n",
      "  warnings.warn(\n",
      "C:\\Users\\laral\\Anaconda3\\envs\\wenqu_gpu\\lib\\site-packages\\sklearn\\cross_decomposition\\_pls.py:110: ConvergenceWarning: Maximum number of iterations reached\n",
      "  warnings.warn(\"Maximum number of iterations reached\", ConvergenceWarning)\n"
     ]
    },
    {
     "name": "stdout",
     "output_type": "stream",
     "text": [
      "\r",
      "78% completed"
     ]
    },
    {
     "name": "stderr",
     "output_type": "stream",
     "text": [
      "C:\\Users\\laral\\Anaconda3\\envs\\wenqu_gpu\\lib\\site-packages\\sklearn\\cross_decomposition\\_pls.py:503: FutureWarning: The attribute `coef_` will be transposed in version 1.3 to be consistent with other linear models in scikit-learn. Currently, `coef_` has a shape of (n_features, n_targets) and in the future it will have a shape of (n_targets, n_features).\n",
      "  warnings.warn(\n",
      "C:\\Users\\laral\\Anaconda3\\envs\\wenqu_gpu\\lib\\site-packages\\sklearn\\cross_decomposition\\_pls.py:110: ConvergenceWarning: Maximum number of iterations reached\n",
      "  warnings.warn(\"Maximum number of iterations reached\", ConvergenceWarning)\n"
     ]
    },
    {
     "name": "stdout",
     "output_type": "stream",
     "text": [
      "\r",
      "80% completed"
     ]
    },
    {
     "name": "stderr",
     "output_type": "stream",
     "text": [
      "C:\\Users\\laral\\Anaconda3\\envs\\wenqu_gpu\\lib\\site-packages\\sklearn\\cross_decomposition\\_pls.py:503: FutureWarning: The attribute `coef_` will be transposed in version 1.3 to be consistent with other linear models in scikit-learn. Currently, `coef_` has a shape of (n_features, n_targets) and in the future it will have a shape of (n_targets, n_features).\n",
      "  warnings.warn(\n",
      "C:\\Users\\laral\\Anaconda3\\envs\\wenqu_gpu\\lib\\site-packages\\sklearn\\cross_decomposition\\_pls.py:110: ConvergenceWarning: Maximum number of iterations reached\n",
      "  warnings.warn(\"Maximum number of iterations reached\", ConvergenceWarning)\n"
     ]
    },
    {
     "name": "stdout",
     "output_type": "stream",
     "text": [
      "\r",
      "82% completed"
     ]
    },
    {
     "name": "stderr",
     "output_type": "stream",
     "text": [
      "C:\\Users\\laral\\Anaconda3\\envs\\wenqu_gpu\\lib\\site-packages\\sklearn\\cross_decomposition\\_pls.py:503: FutureWarning: The attribute `coef_` will be transposed in version 1.3 to be consistent with other linear models in scikit-learn. Currently, `coef_` has a shape of (n_features, n_targets) and in the future it will have a shape of (n_targets, n_features).\n",
      "  warnings.warn(\n"
     ]
    },
    {
     "name": "stdout",
     "output_type": "stream",
     "text": [
      "\r",
      "84% completed"
     ]
    },
    {
     "name": "stderr",
     "output_type": "stream",
     "text": [
      "C:\\Users\\laral\\Anaconda3\\envs\\wenqu_gpu\\lib\\site-packages\\sklearn\\cross_decomposition\\_pls.py:503: FutureWarning: The attribute `coef_` will be transposed in version 1.3 to be consistent with other linear models in scikit-learn. Currently, `coef_` has a shape of (n_features, n_targets) and in the future it will have a shape of (n_targets, n_features).\n",
      "  warnings.warn(\n"
     ]
    },
    {
     "name": "stdout",
     "output_type": "stream",
     "text": [
      "\r",
      "86% completed"
     ]
    },
    {
     "name": "stderr",
     "output_type": "stream",
     "text": [
      "C:\\Users\\laral\\Anaconda3\\envs\\wenqu_gpu\\lib\\site-packages\\sklearn\\cross_decomposition\\_pls.py:503: FutureWarning: The attribute `coef_` will be transposed in version 1.3 to be consistent with other linear models in scikit-learn. Currently, `coef_` has a shape of (n_features, n_targets) and in the future it will have a shape of (n_targets, n_features).\n",
      "  warnings.warn(\n"
     ]
    },
    {
     "name": "stdout",
     "output_type": "stream",
     "text": [
      "\r",
      "88% completed"
     ]
    },
    {
     "name": "stderr",
     "output_type": "stream",
     "text": [
      "C:\\Users\\laral\\Anaconda3\\envs\\wenqu_gpu\\lib\\site-packages\\sklearn\\cross_decomposition\\_pls.py:503: FutureWarning: The attribute `coef_` will be transposed in version 1.3 to be consistent with other linear models in scikit-learn. Currently, `coef_` has a shape of (n_features, n_targets) and in the future it will have a shape of (n_targets, n_features).\n",
      "  warnings.warn(\n"
     ]
    },
    {
     "name": "stdout",
     "output_type": "stream",
     "text": [
      "\r",
      "90% completed"
     ]
    },
    {
     "name": "stderr",
     "output_type": "stream",
     "text": [
      "C:\\Users\\laral\\Anaconda3\\envs\\wenqu_gpu\\lib\\site-packages\\sklearn\\cross_decomposition\\_pls.py:503: FutureWarning: The attribute `coef_` will be transposed in version 1.3 to be consistent with other linear models in scikit-learn. Currently, `coef_` has a shape of (n_features, n_targets) and in the future it will have a shape of (n_targets, n_features).\n",
      "  warnings.warn(\n"
     ]
    },
    {
     "name": "stdout",
     "output_type": "stream",
     "text": [
      "\r",
      "92% completed"
     ]
    },
    {
     "name": "stderr",
     "output_type": "stream",
     "text": [
      "C:\\Users\\laral\\Anaconda3\\envs\\wenqu_gpu\\lib\\site-packages\\sklearn\\cross_decomposition\\_pls.py:503: FutureWarning: The attribute `coef_` will be transposed in version 1.3 to be consistent with other linear models in scikit-learn. Currently, `coef_` has a shape of (n_features, n_targets) and in the future it will have a shape of (n_targets, n_features).\n",
      "  warnings.warn(\n"
     ]
    },
    {
     "name": "stdout",
     "output_type": "stream",
     "text": [
      "\r",
      "94% completed"
     ]
    },
    {
     "name": "stderr",
     "output_type": "stream",
     "text": [
      "C:\\Users\\laral\\Anaconda3\\envs\\wenqu_gpu\\lib\\site-packages\\sklearn\\cross_decomposition\\_pls.py:503: FutureWarning: The attribute `coef_` will be transposed in version 1.3 to be consistent with other linear models in scikit-learn. Currently, `coef_` has a shape of (n_features, n_targets) and in the future it will have a shape of (n_targets, n_features).\n",
      "  warnings.warn(\n"
     ]
    },
    {
     "name": "stdout",
     "output_type": "stream",
     "text": [
      "\r",
      "96% completed"
     ]
    },
    {
     "name": "stderr",
     "output_type": "stream",
     "text": [
      "C:\\Users\\laral\\Anaconda3\\envs\\wenqu_gpu\\lib\\site-packages\\sklearn\\cross_decomposition\\_pls.py:503: FutureWarning: The attribute `coef_` will be transposed in version 1.3 to be consistent with other linear models in scikit-learn. Currently, `coef_` has a shape of (n_features, n_targets) and in the future it will have a shape of (n_targets, n_features).\n",
      "  warnings.warn(\n",
      "C:\\Users\\laral\\Anaconda3\\envs\\wenqu_gpu\\lib\\site-packages\\sklearn\\cross_decomposition\\_pls.py:110: ConvergenceWarning: Maximum number of iterations reached\n",
      "  warnings.warn(\"Maximum number of iterations reached\", ConvergenceWarning)\n"
     ]
    },
    {
     "name": "stdout",
     "output_type": "stream",
     "text": [
      "\r",
      "98% completed"
     ]
    },
    {
     "name": "stderr",
     "output_type": "stream",
     "text": [
      "C:\\Users\\laral\\Anaconda3\\envs\\wenqu_gpu\\lib\\site-packages\\sklearn\\cross_decomposition\\_pls.py:503: FutureWarning: The attribute `coef_` will be transposed in version 1.3 to be consistent with other linear models in scikit-learn. Currently, `coef_` has a shape of (n_features, n_targets) and in the future it will have a shape of (n_targets, n_features).\n",
      "  warnings.warn(\n",
      "C:\\Users\\laral\\Anaconda3\\envs\\wenqu_gpu\\lib\\site-packages\\sklearn\\cross_decomposition\\_pls.py:110: ConvergenceWarning: Maximum number of iterations reached\n",
      "  warnings.warn(\"Maximum number of iterations reached\", ConvergenceWarning)\n",
      "C:\\Users\\laral\\Anaconda3\\envs\\wenqu_gpu\\lib\\site-packages\\sklearn\\cross_decomposition\\_pls.py:110: ConvergenceWarning: Maximum number of iterations reached\n",
      "  warnings.warn(\"Maximum number of iterations reached\", ConvergenceWarning)\n"
     ]
    },
    {
     "name": "stdout",
     "output_type": "stream",
     "text": [
      "100% completed\n",
      "Optimised number of PLS components:  1\n",
      "Wavelengths to be discarded  113\n",
      "Optimised MSEP  13293235.04634367\n",
      "\n",
      "R2 calib: 0.001\n",
      "R2 CV: -0.006\n",
      "MSE calib: 13248949.766\n",
      "MSE CV: 13291055.180\n"
     ]
    },
    {
     "name": "stderr",
     "output_type": "stream",
     "text": [
      "C:\\Users\\laral\\Anaconda3\\envs\\wenqu_gpu\\lib\\site-packages\\sklearn\\cross_decomposition\\_pls.py:503: FutureWarning: The attribute `coef_` will be transposed in version 1.3 to be consistent with other linear models in scikit-learn. Currently, `coef_` has a shape of (n_features, n_targets) and in the future it will have a shape of (n_targets, n_features).\n",
      "  warnings.warn(\n"
     ]
    },
    {
     "ename": "TypeError",
     "evalue": "expected 1D vector for x",
     "output_type": "error",
     "traceback": [
      "\u001b[1;31m---------------------------------------------------------------------------\u001b[0m",
      "\u001b[1;31mTypeError\u001b[0m                                 Traceback (most recent call last)",
      "Input \u001b[1;32mIn [18]\u001b[0m, in \u001b[0;36m<cell line: 2>\u001b[1;34m()\u001b[0m\n\u001b[0;32m      1\u001b[0m opt_Xc, ncomp, wav, sorted_ind \u001b[38;5;241m=\u001b[39m pls_variable_selection(x, y, \u001b[38;5;241m50\u001b[39m)\n\u001b[1;32m----> 2\u001b[0m \u001b[43msimple_pls_cv\u001b[49m\u001b[43m(\u001b[49m\u001b[43mopt_Xc\u001b[49m\u001b[43m,\u001b[49m\u001b[43m \u001b[49m\u001b[43my\u001b[49m\u001b[43m,\u001b[49m\u001b[43m \u001b[49m\u001b[43mncomp\u001b[49m\u001b[43m)\u001b[49m\n",
      "Input \u001b[1;32mIn [17]\u001b[0m, in \u001b[0;36msimple_pls_cv\u001b[1;34m(X, y, n_comp)\u001b[0m\n\u001b[0;32m     21\u001b[0m \u001b[38;5;28mprint\u001b[39m(\u001b[38;5;124m'\u001b[39m\u001b[38;5;124mMSE CV: \u001b[39m\u001b[38;5;132;01m%5.3f\u001b[39;00m\u001b[38;5;124m'\u001b[39m \u001b[38;5;241m%\u001b[39m mse_cv)\n\u001b[0;32m     22\u001b[0m     \u001b[38;5;66;03m# Plot regression \u001b[39;00m\n\u001b[1;32m---> 24\u001b[0m z \u001b[38;5;241m=\u001b[39m \u001b[43mnp\u001b[49m\u001b[38;5;241;43m.\u001b[39;49m\u001b[43mpolyfit\u001b[49m\u001b[43m(\u001b[49m\u001b[43my\u001b[49m\u001b[43m,\u001b[49m\u001b[43m \u001b[49m\u001b[43my_cv\u001b[49m\u001b[43m,\u001b[49m\u001b[43m \u001b[49m\u001b[38;5;241;43m1\u001b[39;49m\u001b[43m)\u001b[49m\n\u001b[0;32m     25\u001b[0m \u001b[38;5;28;01mwith\u001b[39;00m plt\u001b[38;5;241m.\u001b[39mstyle\u001b[38;5;241m.\u001b[39mcontext((\u001b[38;5;124m'\u001b[39m\u001b[38;5;124mggplot\u001b[39m\u001b[38;5;124m'\u001b[39m)):\n\u001b[0;32m     26\u001b[0m     fig, ax \u001b[38;5;241m=\u001b[39m plt\u001b[38;5;241m.\u001b[39msubplots(figsize\u001b[38;5;241m=\u001b[39m(\u001b[38;5;241m9\u001b[39m, \u001b[38;5;241m5\u001b[39m))\n",
      "File \u001b[1;32m<__array_function__ internals>:180\u001b[0m, in \u001b[0;36mpolyfit\u001b[1;34m(*args, **kwargs)\u001b[0m\n",
      "File \u001b[1;32m~\\Anaconda3\\envs\\wenqu_gpu\\lib\\site-packages\\numpy\\lib\\polynomial.py:636\u001b[0m, in \u001b[0;36mpolyfit\u001b[1;34m(x, y, deg, rcond, full, w, cov)\u001b[0m\n\u001b[0;32m    634\u001b[0m     \u001b[38;5;28;01mraise\u001b[39;00m \u001b[38;5;167;01mValueError\u001b[39;00m(\u001b[38;5;124m\"\u001b[39m\u001b[38;5;124mexpected deg >= 0\u001b[39m\u001b[38;5;124m\"\u001b[39m)\n\u001b[0;32m    635\u001b[0m \u001b[38;5;28;01mif\u001b[39;00m x\u001b[38;5;241m.\u001b[39mndim \u001b[38;5;241m!=\u001b[39m \u001b[38;5;241m1\u001b[39m:\n\u001b[1;32m--> 636\u001b[0m     \u001b[38;5;28;01mraise\u001b[39;00m \u001b[38;5;167;01mTypeError\u001b[39;00m(\u001b[38;5;124m\"\u001b[39m\u001b[38;5;124mexpected 1D vector for x\u001b[39m\u001b[38;5;124m\"\u001b[39m)\n\u001b[0;32m    637\u001b[0m \u001b[38;5;28;01mif\u001b[39;00m x\u001b[38;5;241m.\u001b[39msize \u001b[38;5;241m==\u001b[39m \u001b[38;5;241m0\u001b[39m:\n\u001b[0;32m    638\u001b[0m     \u001b[38;5;28;01mraise\u001b[39;00m \u001b[38;5;167;01mTypeError\u001b[39;00m(\u001b[38;5;124m\"\u001b[39m\u001b[38;5;124mexpected non-empty vector for x\u001b[39m\u001b[38;5;124m\"\u001b[39m)\n",
      "\u001b[1;31mTypeError\u001b[0m: expected 1D vector for x"
     ]
    }
   ],
   "source": [
    "opt_Xc, ncomp, wav, sorted_ind = pls_variable_selection(x, y, 50)\n",
    "simple_pls_cv(opt_Xc, y, ncomp)"
   ]
  },
  {
   "cell_type": "code",
   "execution_count": null,
   "id": "a4196a9f",
   "metadata": {},
   "outputs": [],
   "source": []
  },
  {
   "cell_type": "code",
   "execution_count": null,
   "id": "9d57a798",
   "metadata": {},
   "outputs": [],
   "source": []
  }
 ],
 "metadata": {
  "kernelspec": {
   "display_name": "wenqu_gpu",
   "language": "python",
   "name": "wenqu_gpu"
  },
  "language_info": {
   "codemirror_mode": {
    "name": "ipython",
    "version": 3
   },
   "file_extension": ".py",
   "mimetype": "text/x-python",
   "name": "python",
   "nbconvert_exporter": "python",
   "pygments_lexer": "ipython3",
   "version": "3.9.15"
  }
 },
 "nbformat": 4,
 "nbformat_minor": 5
}
