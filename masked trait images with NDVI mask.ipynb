{
 "cells": [
  {
   "cell_type": "code",
   "execution_count": 4,
   "id": "bef70a24",
   "metadata": {},
   "outputs": [],
   "source": [
    "import rasterio\n",
    "from rasterio.mask import mask\n",
    "from rasterio.enums import Resampling\n",
    "import geopandas as gpd\n",
    "\n"
   ]
  },
  {
   "cell_type": "code",
   "execution_count": 6,
   "id": "ddd098c3",
   "metadata": {},
   "outputs": [],
   "source": [
    "# Load the shapefile\n",
    "shapefile_path = r'E:\\wenqu\\aviris\\arctic_region\\NDVI\\site2a_MASK.shp'\n",
    "shapes = gpd.read_file(shapefile_path)\n",
    "\n",
    "# Load the raster file\n",
    "raster_path = r'E:\\wenqu\\aviris\\arctic_region\\site2a_c_1b\\trait_map\\site2a_c_1b_d13c_std.tif'\n",
    "with rasterio.open(raster_path) as src:\n",
    "    # Define a nodata value. This should be a value that's not in your dataset\n",
    "    nodata_value = None  # You can change this value based on your data\n",
    "\n",
    "    # Clip the raster with the polygon\n",
    "    out_image, out_transform = mask(src, shapes.geometry, crop=True, nodata=nodata_value, filled=True)\n",
    "\n",
    "    # Copy the metadata\n",
    "    out_meta = src.meta.copy()\n",
    "\n",
    "# Update the metadata to have the new shape, transform, and CRS\n",
    "out_meta.update({\"driver\": \"GTiff\",\n",
    "                 \"height\": out_image.shape[1],\n",
    "                 \"width\": out_image.shape[2],\n",
    "                 \"transform\": out_transform})\n",
    "\n",
    "# Write the clipped raster to a new file\n",
    "clipped_raster_path = 'E:/wenqu/aviris/arctic_region/site2a_c_1b/trait_masked/site2a_d13c_std_masked.tif'\n",
    "with rasterio.open(clipped_raster_path, \"w\", **out_meta) as dest:\n",
    "    dest.write(out_image)\n"
   ]
  },
  {
   "cell_type": "code",
   "execution_count": null,
   "id": "ec70685d",
   "metadata": {},
   "outputs": [],
   "source": []
  }
 ],
 "metadata": {
  "kernelspec": {
   "display_name": "wenqu_gpu",
   "language": "python",
   "name": "wenqu_gpu"
  },
  "language_info": {
   "codemirror_mode": {
    "name": "ipython",
    "version": 3
   },
   "file_extension": ".py",
   "mimetype": "text/x-python",
   "name": "python",
   "nbconvert_exporter": "python",
   "pygments_lexer": "ipython3",
   "version": "3.9.15"
  }
 },
 "nbformat": 4,
 "nbformat_minor": 5
}
