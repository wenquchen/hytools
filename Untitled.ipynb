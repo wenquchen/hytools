{
 "cells": [
  {
   "cell_type": "code",
   "execution_count": 1,
   "id": "15407c35",
   "metadata": {},
   "outputs": [],
   "source": [
    "import numpy as np\n",
    "from scipy import ndimage"
   ]
  },
  {
   "cell_type": "code",
   "execution_count": 4,
   "id": "1f0f610c",
   "metadata": {},
   "outputs": [],
   "source": [
    "m = np.array([[13, 21, 13,  8],\n",
    "              [ 5, 10, 22, 14],\n",
    "              [ 0,  0,  0,  0]])"
   ]
  },
  {
   "cell_type": "code",
   "execution_count": 7,
   "id": "d4e779ec",
   "metadata": {},
   "outputs": [
    {
     "data": {
      "text/plain": [
       "(3, 4)"
      ]
     },
     "execution_count": 7,
     "metadata": {},
     "output_type": "execute_result"
    }
   ],
   "source": [
    "m.shape"
   ]
  },
  {
   "cell_type": "code",
   "execution_count": 6,
   "id": "4941368c",
   "metadata": {},
   "outputs": [
    {
     "data": {
      "text/plain": [
       "array([[12, 14, 14, 14],\n",
       "       [ 8,  9,  9,  9],\n",
       "       [ 3,  6,  7,  9]])"
      ]
     },
     "execution_count": 6,
     "metadata": {},
     "output_type": "execute_result"
    }
   ],
   "source": [
    "result = ndimage.generic_filter(m, np.nanmean, size=3, mode='constant', cval=np.NaN)\n",
    "result"
   ]
  },
  {
   "cell_type": "code",
   "execution_count": 8,
   "id": "97f24275",
   "metadata": {},
   "outputs": [
    {
     "data": {
      "text/plain": [
       "(3, 4)"
      ]
     },
     "execution_count": 8,
     "metadata": {},
     "output_type": "execute_result"
    }
   ],
   "source": [
    "result.shape"
   ]
  }
 ],
 "metadata": {
  "kernelspec": {
   "display_name": "wenqu_gdal",
   "language": "python",
   "name": "wenqu_gdal"
  },
  "language_info": {
   "codemirror_mode": {
    "name": "ipython",
    "version": 3
   },
   "file_extension": ".py",
   "mimetype": "text/x-python",
   "name": "python",
   "nbconvert_exporter": "python",
   "pygments_lexer": "ipython3",
   "version": "3.9.15"
  }
 },
 "nbformat": 4,
 "nbformat_minor": 5
}
