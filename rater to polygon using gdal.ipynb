{
 "cells": [
  {
   "cell_type": "code",
   "execution_count": 5,
   "id": "92c0dc4a",
   "metadata": {},
   "outputs": [],
   "source": [
    "from osgeo import gdal,ogr,osr\n",
    "\n",
    "# Input raster file\n",
    "raster_file = r'F:\\wenqu\\Aviris\\site2a\\PLSR\\aviris_single_pixel\\9_23.tif'\n",
    "\n",
    "# Output polygon file\n",
    "polygon_file = 'F:/wenqu/trait_map/output.shp'"
   ]
  },
  {
   "cell_type": "code",
   "execution_count": 6,
   "id": "5192b557",
   "metadata": {},
   "outputs": [],
   "source": [
    "# Open the input raster file\n",
    "raster_ds = gdal.Open(raster_file)\n",
    "\n",
    "# Get the raster band and its data type\n",
    "band = raster_ds.GetRasterBand(1)\n",
    "data_type = band.DataType\n",
    "\n",
    "# Get the raster's geotransform and projection\n",
    "geotransform = raster_ds.GetGeoTransform()\n",
    "projection = raster_ds.GetProjection()\n"
   ]
  },
  {
   "cell_type": "code",
   "execution_count": 7,
   "id": "67cf9ddc",
   "metadata": {},
   "outputs": [
    {
     "data": {
      "text/plain": [
       "0"
      ]
     },
     "execution_count": 7,
     "metadata": {},
     "output_type": "execute_result"
    }
   ],
   "source": [
    "# Create a memory layer to hold the polygon features\n",
    "driver = ogr.GetDriverByName(\"Memory\")\n",
    "mem_ds = driver.CreateDataSource(\"\")\n",
    "\n",
    "# Create a new layer in the memory dataset\n",
    "mem_layer = mem_ds.CreateLayer(\"polygon\", srs=osr.SpatialReference(wkt=projection), geom_type=ogr.wkbPolygon)\n",
    "\n",
    "# Use gdal.Polygonize() to convert the raster to polygons\n",
    "gdal.Polygonize(band, None, mem_layer, 0, [], callback=None)\n"
   ]
  },
  {
   "cell_type": "code",
   "execution_count": 8,
   "id": "c457085f",
   "metadata": {},
   "outputs": [
    {
     "name": "stdout",
     "output_type": "stream",
     "text": [
      "<osgeo.ogr.Layer; proxy of <Swig Object of type 'OGRLayerShadow *' at 0x00000243B4D28B70> >\n"
     ]
    }
   ],
   "source": [
    "print(mem_layer)"
   ]
  },
  {
   "cell_type": "code",
   "execution_count": 8,
   "id": "44565862",
   "metadata": {},
   "outputs": [],
   "source": [
    "# Create the output shapefile\n",
    "driver = ogr.GetDriverByName(\"ESRI Shapefile\")\n",
    "out_ds = driver.CreateDataSource(polygon_file)\n",
    "\n",
    "# Copy the memory layer to the output shapefile\n",
    "out_layer = out_ds.CopyLayer(mem_layer, \"polygon\")\n"
   ]
  },
  {
   "cell_type": "code",
   "execution_count": 9,
   "id": "8e32b7e8",
   "metadata": {},
   "outputs": [],
   "source": [
    "# Clean up the memory layer\n",
    "mem_ds.Destroy()\n",
    "\n",
    "# Close the input and output files\n",
    "raster_ds = None\n",
    "out_ds = None\n"
   ]
  },
  {
   "cell_type": "code",
   "execution_count": 3,
   "id": "8fed05e4",
   "metadata": {},
   "outputs": [],
   "source": [
    "from osgeo import gdal, ogr\n",
    "\n",
    "# Path to the input raster file\n",
    "input_raster_path = 'F:/wenqu/trait_map/site2a_la_trait_map_project3.tif'\n",
    "\n",
    "# Path to the shapefile used for clipping\n",
    "shapefile_path = 'F:/wenqu/trait_map/output.shp'\n",
    "\n",
    "# Path to the output clipped raster file\n",
    "output_raster_path = 'F:/wenqu/trait_map/output_clipped_raster2.tif'\n",
    "\n",
    "# Open the raster file\n",
    "raster_dataset = gdal.Open(input_raster_path)\n",
    "\n",
    "# Open the shapefile\n",
    "shapefile_dataset = ogr.Open(shapefile_path)\n",
    "shapefile_layer = shapefile_dataset.GetLayer()\n",
    "\n",
    "# Clip the raster using the shapefile\n",
    "outputBounds = shapefile_layer.GetExtent()\n",
    "clipped_raster = gdal.Warp(output_raster_path, raster_dataset, cutlineLayer=shapefile_layer, cropToCutline=True, dstNodata=0, outputBounds=outputBounds)\n",
    "\n",
    "\n",
    "# Close the datasets\n",
    "raster_dataset = None\n",
    "shapefile_dataset = None\n",
    "clipped_raster = None"
   ]
  },
  {
   "cell_type": "code",
   "execution_count": 13,
   "id": "0b1eff8b",
   "metadata": {},
   "outputs": [
    {
     "ename": "AttributeError",
     "evalue": "'SpatialReference' object has no attribute 'GetGeoTransform'",
     "output_type": "error",
     "traceback": [
      "\u001b[1;31m---------------------------------------------------------------------------\u001b[0m",
      "\u001b[1;31mAttributeError\u001b[0m                            Traceback (most recent call last)",
      "Cell \u001b[1;32mIn[13], line 19\u001b[0m\n\u001b[0;32m     16\u001b[0m ysize \u001b[38;5;241m=\u001b[39m \u001b[38;5;28mint\u001b[39m((ymax \u001b[38;5;241m-\u001b[39m ymin) \u001b[38;5;241m/\u001b[39m pixel_size)\n\u001b[0;32m     18\u001b[0m \u001b[38;5;66;03m# Get the geotransform of the output raster\u001b[39;00m\n\u001b[1;32m---> 19\u001b[0m gt \u001b[38;5;241m=\u001b[39m gdal\u001b[38;5;241m.\u001b[39mApplyGeoTransform(\u001b[43mvector_layer\u001b[49m\u001b[38;5;241;43m.\u001b[39;49m\u001b[43mGetSpatialRef\u001b[49m\u001b[43m(\u001b[49m\u001b[43m)\u001b[49m\u001b[38;5;241;43m.\u001b[39;49m\u001b[43mGetGeoTransform\u001b[49m(), [xmin, pixel_size, \u001b[38;5;241m0\u001b[39m, ymax, \u001b[38;5;241m0\u001b[39m, \u001b[38;5;241m-\u001b[39mpixel_size])\n\u001b[0;32m     21\u001b[0m \u001b[38;5;66;03m# Open the raster file to be clipped\u001b[39;00m\n\u001b[0;32m     22\u001b[0m raster_ds \u001b[38;5;241m=\u001b[39m gdal\u001b[38;5;241m.\u001b[39mOpen(\u001b[38;5;124mr\u001b[39m\u001b[38;5;124m'\u001b[39m\u001b[38;5;124mF:\u001b[39m\u001b[38;5;124m\\\u001b[39m\u001b[38;5;124mwenqu\u001b[39m\u001b[38;5;124m\\\u001b[39m\u001b[38;5;124mtrait_map\u001b[39m\u001b[38;5;124m\\\u001b[39m\u001b[38;5;124msite2a_la_trait_map_project3.tif\u001b[39m\u001b[38;5;124m'\u001b[39m)\n",
      "\u001b[1;31mAttributeError\u001b[0m: 'SpatialReference' object has no attribute 'GetGeoTransform'"
     ]
    }
   ],
   "source": [
    "# Open the vector layer containing the polygons\n",
    "vector_ds = ogr.Open('F:/wenqu/trait_map/output.shp')\n",
    "vector_layer = vector_ds.GetLayer()\n",
    "\n",
    "# Get the projection and geotransform information\n",
    "proj = osr.SpatialReference(wkt=vector_layer.GetSpatialRef().ExportToWkt())\n",
    "\n",
    "# Get the extent of the shapefile\n",
    "xmin, xmax, ymin, ymax = vector_layer.GetExtent()\n",
    "\n",
    "# Get the pixel size of the output raster\n",
    "pixel_size = 30 # Replace with the actual pixel size of the output raster\n",
    "\n",
    "# Calculate the number of pixels and lines in the output raster\n",
    "xsize = int((xmax - xmin) / pixel_size)\n",
    "ysize = int((ymax - ymin) / pixel_size)\n",
    "\n",
    "# Get the geotransform of the output raster\n",
    "gt = gdal.ApplyGeoTransform(vector_layer.GetSpatialRef().GetGeoTransform(), [xmin, pixel_size, 0, ymax, 0, -pixel_size])\n",
    "\n",
    "# Open the raster file to be clipped\n",
    "raster_ds = gdal.Open(r'F:\\wenqu\\trait_map\\site2a_la_trait_map_project3.tif')"
   ]
  },
  {
   "cell_type": "code",
   "execution_count": 14,
   "id": "1a55aa27",
   "metadata": {},
   "outputs": [
    {
     "ename": "TypeError",
     "evalue": "sequence must have length ##size",
     "output_type": "error",
     "traceback": [
      "\u001b[1;31m---------------------------------------------------------------------------\u001b[0m",
      "\u001b[1;31mTypeError\u001b[0m                                 Traceback (most recent call last)",
      "Cell \u001b[1;32mIn[14], line 5\u001b[0m\n\u001b[0;32m      3\u001b[0m clipped_ds \u001b[38;5;241m=\u001b[39m driver\u001b[38;5;241m.\u001b[39mCreate(\u001b[38;5;124mr\u001b[39m\u001b[38;5;124m'\u001b[39m\u001b[38;5;124mF:\u001b[39m\u001b[38;5;124m\\\u001b[39m\u001b[38;5;124mwenqu\u001b[39m\u001b[38;5;124m\\\u001b[39m\u001b[38;5;124mtrait_map\u001b[39m\u001b[38;5;124m\\\u001b[39m\u001b[38;5;124mclipped_output.tif\u001b[39m\u001b[38;5;124m'\u001b[39m, xsize\u001b[38;5;241m=\u001b[39mraster_ds\u001b[38;5;241m.\u001b[39mRasterXSize, ysize\u001b[38;5;241m=\u001b[39mraster_ds\u001b[38;5;241m.\u001b[39mRasterYSize, bands\u001b[38;5;241m=\u001b[39m\u001b[38;5;241m1\u001b[39m, eType\u001b[38;5;241m=\u001b[39mraster_ds\u001b[38;5;241m.\u001b[39mGetRasterBand(\u001b[38;5;241m1\u001b[39m)\u001b[38;5;241m.\u001b[39mDataType)\n\u001b[0;32m      4\u001b[0m clipped_ds\u001b[38;5;241m.\u001b[39mSetProjection(proj\u001b[38;5;241m.\u001b[39mExportToWkt())\n\u001b[1;32m----> 5\u001b[0m \u001b[43mclipped_ds\u001b[49m\u001b[38;5;241;43m.\u001b[39;49m\u001b[43mSetGeoTransform\u001b[49m\u001b[43m(\u001b[49m\u001b[43mgt\u001b[49m\u001b[43m)\u001b[49m\n\u001b[0;32m      7\u001b[0m \u001b[38;5;66;03m# Clip the raster using the vector layer\u001b[39;00m\n\u001b[0;32m      8\u001b[0m gdal\u001b[38;5;241m.\u001b[39mRasterizeLayer(clipped_ds, [\u001b[38;5;241m1\u001b[39m], vector_layer, options\u001b[38;5;241m=\u001b[39m[\u001b[38;5;124m'\u001b[39m\u001b[38;5;124mATTRIBUTE=pixel_value\u001b[39m\u001b[38;5;124m'\u001b[39m])\n",
      "File \u001b[1;32m~\\anaconda3\\envs\\wenqu_gdal\\lib\\site-packages\\osgeo\\gdal.py:2176\u001b[0m, in \u001b[0;36mDataset.SetGeoTransform\u001b[1;34m(self, *args)\u001b[0m\n\u001b[0;32m   2174\u001b[0m \u001b[38;5;28;01mdef\u001b[39;00m \u001b[38;5;21mSetGeoTransform\u001b[39m(\u001b[38;5;28mself\u001b[39m, \u001b[38;5;241m*\u001b[39margs):\n\u001b[0;32m   2175\u001b[0m \u001b[38;5;250m    \u001b[39m\u001b[38;5;124;03m\"\"\"SetGeoTransform(Dataset self, double [6] argin) -> CPLErr\"\"\"\u001b[39;00m\n\u001b[1;32m-> 2176\u001b[0m     \u001b[38;5;28;01mreturn\u001b[39;00m \u001b[43m_gdal\u001b[49m\u001b[38;5;241;43m.\u001b[39;49m\u001b[43mDataset_SetGeoTransform\u001b[49m\u001b[43m(\u001b[49m\u001b[38;5;28;43mself\u001b[39;49m\u001b[43m,\u001b[49m\u001b[43m \u001b[49m\u001b[38;5;241;43m*\u001b[39;49m\u001b[43margs\u001b[49m\u001b[43m)\u001b[49m\n",
      "\u001b[1;31mTypeError\u001b[0m: sequence must have length ##size"
     ]
    }
   ],
   "source": [
    "# Create a new raster file to store the clipped result\n",
    "driver = gdal.GetDriverByName('GTiff')\n",
    "clipped_ds = driver.Create(r'F:\\wenqu\\trait_map\\clipped_output.tif', xsize=raster_ds.RasterXSize, ysize=raster_ds.RasterYSize, bands=1, eType=raster_ds.GetRasterBand(1).DataType)\n",
    "clipped_ds.SetProjection(proj.ExportToWkt())\n",
    "clipped_ds.SetGeoTransform(gt)\n",
    "\n",
    "# Clip the raster using the vector layer\n",
    "gdal.RasterizeLayer(clipped_ds, [1], vector_layer, options=['ATTRIBUTE=pixel_value'])\n",
    "\n",
    "# Close the raster and vector files\n",
    "raster_ds = None\n",
    "clipped_ds = None\n",
    "vector_ds = None\n"
   ]
  },
  {
   "cell_type": "code",
   "execution_count": null,
   "id": "4d11dd12",
   "metadata": {},
   "outputs": [],
   "source": []
  }
 ],
 "metadata": {
  "kernelspec": {
   "display_name": "wenqu_gdal",
   "language": "python",
   "name": "wenqu_gdal"
  },
  "language_info": {
   "codemirror_mode": {
    "name": "ipython",
    "version": 3
   },
   "file_extension": ".py",
   "mimetype": "text/x-python",
   "name": "python",
   "nbconvert_exporter": "python",
   "pygments_lexer": "ipython3",
   "version": "3.9.15"
  }
 },
 "nbformat": 4,
 "nbformat_minor": 5
}
