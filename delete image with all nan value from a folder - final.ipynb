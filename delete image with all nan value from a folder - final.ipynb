{
 "cells": [
  {
   "cell_type": "code",
   "execution_count": 1,
   "id": "c034d5b4",
   "metadata": {},
   "outputs": [],
   "source": [
    "import os\n",
    "from osgeo import gdal\n"
   ]
  },
  {
   "cell_type": "code",
   "execution_count": 2,
   "id": "71cf2a84",
   "metadata": {},
   "outputs": [
    {
     "name": "stdout",
     "output_type": "stream",
     "text": [
      "Number of .tif files with all bands having NoData values: 0\n"
     ]
    }
   ],
   "source": [
    "folder_path = r'E:\\wenqu\\trait_map\\update6\\clip\\site2a\\pn'\n",
    "files_with_nodata = []\n",
    "\n",
    "for root, dirs, files in os.walk(folder_path):\n",
    "    for file in files:\n",
    "        if file.endswith('.tif'):\n",
    "            file_path = os.path.join(root, file)\n",
    "            try:\n",
    "                dataset = gdal.Open(file_path, gdal.GA_ReadOnly)\n",
    "                all_bands_nodata = True  # Assume all bands have NoData initially\n",
    "                for band_num in range(1, dataset.RasterCount + 1):  # Iterate through all bands\n",
    "                    band = dataset.GetRasterBand(band_num)\n",
    "                    nodata_value = band.GetNoDataValue()\n",
    "                    if nodata_value is None:\n",
    "                        # If there is no NoData value defined for the band, skip\n",
    "                        all_bands_nodata = False\n",
    "                        break\n",
    "                    band_array = band.ReadAsArray()\n",
    "                    if not (band_array == nodata_value).all():\n",
    "                        # If any band has non-NoData values, skip\n",
    "                        all_bands_nodata = False\n",
    "                        break\n",
    "                if all_bands_nodata:\n",
    "                    # All bands have NoData values; add the file to the list\n",
    "                    files_with_nodata.append(file_path)\n",
    "                else:\n",
    "                    # Do something with files that have non-NoData bands\n",
    "                    pass\n",
    "            except Exception as e:\n",
    "                print(f\"Error processing {file_path}: {str(e)}\")\n",
    "\n",
    "# Count the number of files with NoData values\n",
    "num_files_with_nodata = len(files_with_nodata)\n",
    "print(f\"Number of .tif files with all bands having NoData values: {num_files_with_nodata}\")\n",
    "\n",
    "\n"
   ]
  },
  {
   "cell_type": "code",
   "execution_count": 3,
   "id": "8593274b",
   "metadata": {},
   "outputs": [],
   "source": [
    "# Delete the files with NoData values\n",
    "for file_path in files_with_nodata:\n",
    "    os.remove(file_path)\n",
    "    print(f\"Deleted {file_path}\")"
   ]
  },
  {
   "cell_type": "code",
   "execution_count": null,
   "id": "a7728924",
   "metadata": {},
   "outputs": [],
   "source": []
  }
 ],
 "metadata": {
  "kernelspec": {
   "display_name": "wenqu_gpu",
   "language": "python",
   "name": "wenqu_gpu"
  },
  "language_info": {
   "codemirror_mode": {
    "name": "ipython",
    "version": 3
   },
   "file_extension": ".py",
   "mimetype": "text/x-python",
   "name": "python",
   "nbconvert_exporter": "python",
   "pygments_lexer": "ipython3",
   "version": "3.9.15"
  }
 },
 "nbformat": 4,
 "nbformat_minor": 5
}
