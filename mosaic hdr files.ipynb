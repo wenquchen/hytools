{
 "cells": [
  {
   "cell_type": "code",
   "execution_count": 1,
   "id": "0fbf3f77",
   "metadata": {},
   "outputs": [],
   "source": [
    "import rasterio\n",
    "import numpy as np\n",
    "from rasterio.merge import merge\n",
    "from rasterio.plot import show"
   ]
  },
  {
   "cell_type": "code",
   "execution_count": 2,
   "id": "704e8f7c",
   "metadata": {},
   "outputs": [],
   "source": [
    "src1 = rasterio.open(r\"E:\\wenqu\\environmental_factors\\environment_update1\\soil\\soil_ph1.tif\")\n",
    "src2 = rasterio.open(r\"E:\\wenqu\\environmental_factors\\environment_update1\\soil\\soil_ph3.tif\")\n",
    "# src3 = rasterio.open(\"D:/wenqu/mosaic/site6/site6_simulation_3\")\n",
    "# src4 = rasterio.open(\"D:/wenqu/mosaic/site6/site6_simulation_4\")\n"
   ]
  },
  {
   "cell_type": "code",
   "execution_count": 3,
   "id": "eb99ad95",
   "metadata": {},
   "outputs": [],
   "source": [
    "srcs_to_mosaic = [src1, src2]"
   ]
  },
  {
   "cell_type": "code",
   "execution_count": 4,
   "id": "ff34289a",
   "metadata": {},
   "outputs": [],
   "source": [
    "arr, out_trans = merge(srcs_to_mosaic)"
   ]
  },
  {
   "cell_type": "code",
   "execution_count": 5,
   "id": "6c0f695f",
   "metadata": {},
   "outputs": [
    {
     "data": {
      "text/plain": [
       "(1, 1601, 1522)"
      ]
     },
     "execution_count": 5,
     "metadata": {},
     "output_type": "execute_result"
    }
   ],
   "source": [
    "arr.shape"
   ]
  },
  {
   "cell_type": "code",
   "execution_count": 6,
   "id": "17d9755d",
   "metadata": {},
   "outputs": [],
   "source": [
    "with rasterio.open(r\"E:\\wenqu\\environmental_factors\\environment_update1\\soil\\soil_nitrogen_1.tif\") as src:\n",
    "    meta = src.meta.copy()"
   ]
  },
  {
   "cell_type": "code",
   "execution_count": 7,
   "id": "df65d20b",
   "metadata": {},
   "outputs": [],
   "source": [
    "meta.update({\n",
    "    \"driver\": \"GTIFF\",\n",
    "    \"height\": arr.shape[1],\n",
    "    \"width\": arr.shape[2],\n",
    "    \"count\":arr.shape[0],\n",
    "    \"transform\": out_trans\n",
    "})"
   ]
  },
  {
   "cell_type": "code",
   "execution_count": 8,
   "id": "3a3f8698",
   "metadata": {},
   "outputs": [],
   "source": [
    "output = r'E:\\wenqu\\environmental_factors\\environment_update1\\soil\\soil_ph.tif'\n",
    "with rasterio.open(output, \"w\", **meta) as dest:\n",
    "    dest.write(arr)"
   ]
  },
  {
   "cell_type": "code",
   "execution_count": null,
   "id": "464ff327",
   "metadata": {},
   "outputs": [],
   "source": []
  },
  {
   "cell_type": "code",
   "execution_count": null,
   "id": "f1841c54",
   "metadata": {},
   "outputs": [],
   "source": []
  }
 ],
 "metadata": {
  "kernelspec": {
   "display_name": "wenqu_gpu",
   "language": "python",
   "name": "wenqu_gpu"
  },
  "language_info": {
   "codemirror_mode": {
    "name": "ipython",
    "version": 3
   },
   "file_extension": ".py",
   "mimetype": "text/x-python",
   "name": "python",
   "nbconvert_exporter": "python",
   "pygments_lexer": "ipython3",
   "version": "3.9.15"
  }
 },
 "nbformat": 4,
 "nbformat_minor": 5
}
