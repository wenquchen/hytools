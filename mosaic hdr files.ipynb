{
 "cells": [
  {
   "cell_type": "code",
   "execution_count": 1,
   "id": "0fbf3f77",
   "metadata": {},
   "outputs": [],
   "source": [
    "import rasterio\n",
    "import numpy as np\n",
    "from rasterio.merge import merge\n",
    "from rasterio.plot import show"
   ]
  },
  {
   "cell_type": "code",
   "execution_count": 2,
   "id": "704e8f7c",
   "metadata": {},
   "outputs": [],
   "source": [
    "src1 = rasterio.open(\"D:/wenqu/simulation/mosaic/site2a/site2a_100182_simulation\")\n",
    "src2 = rasterio.open(\"D:/wenqu/simulation/mosaic/site2a/site2a_100183_simulation\")\n",
    "# src3 = rasterio.open(\"D:/wenqu/simulation/100207/100207_simulation_3\")\n",
    "# src4 = rasterio.open(\"D:/wenqu/simulation/100207/100207_simulation_4\")\n",
    "# src5 = rasterio.open(\"D:/wenqu/simulation/100207/100207_simulation_5\")\n",
    "# src6 = rasterio.open(\"D:/wenqu/simulation/100207/100207_simulation_6\")\n",
    "\n",
    "\n",
    "\n",
    "# src7 = rasterio.open(\"D:/wenqu/simulation/100205/100205_simulation_1\")\n",
    "# src8 = rasterio.open(\"D:/wenqu/simulation/100205/100205_simulation_2\")\n",
    "# src9 = rasterio.open(\"D:/wenqu/simulation/100205/100205_simulation_3\")\n",
    "# src10 = rasterio.open(\"D:/wenqu/simulation/100205/100205_simulation_4\")\n",
    "# src11 = rasterio.open(\"D:/wenqu/simulation/100205/100205_simulation_5\")\n",
    "# src7 = rasterio.open(\"D:/wenqu/simulation/100207/multi_or_4\")"
   ]
  },
  {
   "cell_type": "code",
   "execution_count": 3,
   "id": "eb99ad95",
   "metadata": {},
   "outputs": [],
   "source": [
    "srcs_to_mosaic = [src1, src2]"
   ]
  },
  {
   "cell_type": "code",
   "execution_count": 4,
   "id": "ff34289a",
   "metadata": {},
   "outputs": [],
   "source": [
    "arr, out_trans = merge(srcs_to_mosaic)"
   ]
  },
  {
   "cell_type": "code",
   "execution_count": 5,
   "id": "6c0f695f",
   "metadata": {},
   "outputs": [
    {
     "data": {
      "text/plain": [
       "(122, 5218, 5519)"
      ]
     },
     "execution_count": 5,
     "metadata": {},
     "output_type": "execute_result"
    }
   ],
   "source": [
    "arr.shape"
   ]
  },
  {
   "cell_type": "code",
   "execution_count": 6,
   "id": "17d9755d",
   "metadata": {},
   "outputs": [],
   "source": [
    "with rasterio.open(\"D:/wenqu/simulation/mosaic/site2a/site2a_100182_simulation\") as src:\n",
    "    meta = src.meta.copy()"
   ]
  },
  {
   "cell_type": "code",
   "execution_count": 7,
   "id": "df65d20b",
   "metadata": {},
   "outputs": [],
   "source": [
    "meta.update({\n",
    "    \"driver\": \"envi\",\n",
    "    \"height\": arr.shape[1],\n",
    "    \"width\": arr.shape[2],\n",
    "    \"count\":arr.shape[0],\n",
    "    \"transform\": out_trans\n",
    "})"
   ]
  },
  {
   "cell_type": "code",
   "execution_count": 8,
   "id": "3a3f8698",
   "metadata": {},
   "outputs": [],
   "source": [
    "output = 'D:/wenqu/simulation/mosaic/site2a/site2a_simulation_mosaic'\n",
    "with rasterio.open(output, \"w\", **meta) as dest:\n",
    "    dest.write(arr)"
   ]
  },
  {
   "cell_type": "code",
   "execution_count": null,
   "id": "464ff327",
   "metadata": {},
   "outputs": [],
   "source": []
  }
 ],
 "metadata": {
  "kernelspec": {
   "display_name": "wenqu_gpu",
   "language": "python",
   "name": "wenqu_gpu"
  },
  "language_info": {
   "codemirror_mode": {
    "name": "ipython",
    "version": 3
   },
   "file_extension": ".py",
   "mimetype": "text/x-python",
   "name": "python",
   "nbconvert_exporter": "python",
   "pygments_lexer": "ipython3",
   "version": "3.9.15"
  }
 },
 "nbformat": 4,
 "nbformat_minor": 5
}
