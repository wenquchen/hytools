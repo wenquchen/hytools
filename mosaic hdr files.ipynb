{
 "cells": [
  {
   "cell_type": "code",
   "execution_count": 1,
   "id": "953fed51",
   "metadata": {},
   "outputs": [],
   "source": [
    "import rasterio\n",
    "import numpy as np\n",
    "from rasterio.merge import merge\n",
    "from rasterio.plot import show"
   ]
  },
  {
   "cell_type": "code",
   "execution_count": 2,
   "id": "7e4bcb90",
   "metadata": {},
   "outputs": [],
   "source": [
    "src1 = rasterio.open(\"D:/wenqu/simulation/100207/100207_simulation_1\")\n",
    "src2 = rasterio.open(\"D:/wenqu/simulation/100207/100207_simulation_2\")\n",
    "src3 = rasterio.open(\"D:/wenqu/simulation/100207/100207_simulation_3\")\n",
    "src4 = rasterio.open(\"D:/wenqu/simulation/100207/100207_simulation_4\")\n",
    "src5 = rasterio.open(\"D:/wenqu/simulation/100207/100207_simulation_5\")\n",
    "src6 = rasterio.open(\"D:/wenqu/simulation/100207/100207_simulation_6\")\n",
    "# src7 = rasterio.open(\"D:/wenqu/simulation/100207/multi_or_4\")"
   ]
  },
  {
   "cell_type": "code",
   "execution_count": 3,
   "id": "2747e1cb",
   "metadata": {},
   "outputs": [],
   "source": [
    "srcs_to_mosaic = [src1, src2, src3, src4, src5, src6]"
   ]
  },
  {
   "cell_type": "code",
   "execution_count": null,
   "id": "c1692247",
   "metadata": {},
   "outputs": [],
   "source": [
    "arr, out_trans = merge(srcs_to_mosaic)"
   ]
  },
  {
   "cell_type": "code",
   "execution_count": null,
   "id": "571593c1",
   "metadata": {},
   "outputs": [],
   "source": []
  },
  {
   "cell_type": "code",
   "execution_count": null,
   "id": "e95be682",
   "metadata": {},
   "outputs": [],
   "source": []
  },
  {
   "cell_type": "code",
   "execution_count": null,
   "id": "853b47ec",
   "metadata": {},
   "outputs": [],
   "source": []
  }
 ],
 "metadata": {
  "kernelspec": {
   "display_name": "wenqu_gpu",
   "language": "python",
   "name": "wenqu_gpu"
  },
  "language_info": {
   "codemirror_mode": {
    "name": "ipython",
    "version": 3
   },
   "file_extension": ".py",
   "mimetype": "text/x-python",
   "name": "python",
   "nbconvert_exporter": "python",
   "pygments_lexer": "ipython3",
   "version": "3.9.15"
  }
 },
 "nbformat": 4,
 "nbformat_minor": 5
}
