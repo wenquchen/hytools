{
 "cells": [
  {
   "cell_type": "code",
   "execution_count": 2,
   "id": "794d786d",
   "metadata": {},
   "outputs": [],
   "source": [
    "import rasterio\n",
    "from rasterio.mask import mask\n",
    "from rasterio import Affine\n",
    "import geopandas as gpd\n",
    "from shapely.geometry import box\n",
    "from rasterio.warp import calculate_default_transform, reproject"
   ]
  },
  {
   "cell_type": "markdown",
   "id": "7c430b10",
   "metadata": {},
   "source": [
    "## Check a raster coordinates reference system and projected coordinates system\n"
   ]
  },
  {
   "cell_type": "markdown",
   "id": "ca47cd51",
   "metadata": {},
   "source": [
    "## check aviris brdf reference system"
   ]
  },
  {
   "cell_type": "code",
   "execution_count": 2,
   "id": "30ac829c",
   "metadata": {},
   "outputs": [
    {
     "name": "stdout",
     "output_type": "stream",
     "text": [
      "Coordinate Reference System (CRS): EPSG:32605\n",
      "Extent: BoundingBox(left=605358.0277387538, bottom=7422732.916863624, right=631296.8785462636, top=7493428.59956)\n",
      "The CRS is not a geographic coordinate system.\n",
      "Projected Coordinate System (PCS): EPSG:32605\n"
     ]
    }
   ],
   "source": [
    "\n",
    "\n",
    "# Open the image file\n",
    "with rasterio.open(r\"F:\\wenqu\\Aviris\\site2a\\output\\ang20170709t012605_corr_v2p9_img_brdf\") as dataset:\n",
    "    # Print the coordinate reference system (CRS)\n",
    "    print(\"Coordinate Reference System (CRS):\", dataset.crs)\n",
    "    print(f\"Extent: {dataset.bounds}\")\n",
    "    \n",
    "    # Print the geographic coordinate system (GCS)\n",
    "    if dataset.crs.is_geographic:\n",
    "        print(\"Geographic Coordinate System (GCS):\", dataset.crs)\n",
    "    else:\n",
    "        print(\"The CRS is not a geographic coordinate system.\")\n",
    "        \n",
    "    # Print the projected coordinate system (PCS)\n",
    "    if dataset.crs.is_projected:\n",
    "        print(\"Projected Coordinate System (PCS):\", dataset.crs)\n",
    "    else:\n",
    "        print(\"The CRS is not a projected coordinate system.\")\n",
    "        \n",
    "        \n",
    "        \n",
    "        \n",
    "        \n",
    "        "
   ]
  },
  {
   "cell_type": "markdown",
   "id": "4bf25c26",
   "metadata": {},
   "source": [
    "## check trait img reference system"
   ]
  },
  {
   "cell_type": "code",
   "execution_count": 3,
   "id": "4c519a4d",
   "metadata": {},
   "outputs": [
    {
     "name": "stdout",
     "output_type": "stream",
     "text": [
      "Coordinate Reference System (CRS): EPSG:4326\n",
      "Extent: BoundingBox(left=-150.37703026253, bottom=67.08205680203756, right=-150.37066834880534, top=67.0865672825422)\n",
      "Geographic Coordinate System (GCS): EPSG:4326\n",
      "The CRS is not a projected coordinate system.\n"
     ]
    }
   ],
   "source": [
    "# Open the image file\n",
    "with rasterio.open(r'F:\\wenqu\\trait_map\\site1b_la_trait_map.tiff') as dataset:\n",
    "    # Print the coordinate reference system (CRS)\n",
    "    print(\"Coordinate Reference System (CRS):\", dataset.crs)\n",
    "    print(f\"Extent: {dataset.bounds}\")\n",
    "    \n",
    "    # Print the geographic coordinate system (GCS)\n",
    "    if dataset.crs.is_geographic:\n",
    "        print(\"Geographic Coordinate System (GCS):\", dataset.crs)\n",
    "    else:\n",
    "        print(\"The CRS is not a geographic coordinate system.\")\n",
    "        \n",
    "    # Print the projected coordinate system (PCS)\n",
    "    if dataset.crs.is_projected:\n",
    "        print(\"Projected Coordinate System (PCS):\", dataset.crs)\n",
    "    else:\n",
    "        print(\"The CRS is not a projected coordinate system.\")"
   ]
  },
  {
   "cell_type": "markdown",
   "id": "9cce9c1a",
   "metadata": {},
   "source": [
    "## project raster 2 using raster 1"
   ]
  },
  {
   "cell_type": "code",
   "execution_count": 5,
   "id": "963dae87",
   "metadata": {},
   "outputs": [],
   "source": [
    "# Open raster1 and raster2\n",
    "with rasterio.open(r\"F:\\wenqu\\Aviris\\site6\\output\\ang20170709t004846_corr_v2p9_img_brdf\") as src1:\n",
    "    with rasterio.open(r\"F:\\wenqu\\DEM\\CHM\\CHM_whole_site\\site6_chm.tif\") as src2:\n",
    "        \n",
    "        # Get the CRS and bounds of raster1\n",
    "        dst_crs = src1.crs\n",
    "        dst_bounds = src1.bounds\n",
    "        \n",
    "        # Calculate the transform for raster2 to match raster1\n",
    "        transform, width, height = calculate_default_transform(\n",
    "            src2.crs, dst_crs, src2.width, src2.height, *src2.bounds)\n",
    "        \n",
    "        # Update the metadata of raster2 to match the new CRS and bounds\n",
    "        dst_profile = src2.profile.copy()\n",
    "        dst_profile.update({\n",
    "            'crs': dst_crs,\n",
    "            'transform': transform,\n",
    "            'width': width,\n",
    "            'height': height,\n",
    "            'bounds': dst_bounds\n",
    "        })\n",
    "        \n",
    "        # Reproject raster2 to match raster1\n",
    "        with rasterio.open(r\"F:\\wenqu\\DEM\\CHM\\CHM_whole_site\\site6_chm_project_to_aviris.tif\", 'w', **dst_profile) as dst:\n",
    "            for i in range(1, src2.count + 1):\n",
    "                reproject(\n",
    "                    source=rasterio.band(src2, i),\n",
    "                    destination=rasterio.band(dst, i),\n",
    "                    src_transform=src2.transform,\n",
    "                    src_crs=src2.crs,\n",
    "                    dst_transform=transform,\n",
    "                    dst_crs=dst_crs,\n",
    "                    resampling=rasterio.warp.Resampling.bilinear\n",
    "                )\n"
   ]
  },
  {
   "cell_type": "code",
   "execution_count": null,
   "id": "24452818",
   "metadata": {},
   "outputs": [],
   "source": []
  }
 ],
 "metadata": {
  "kernelspec": {
   "display_name": "wenqu_gdal",
   "language": "python",
   "name": "wenqu_gdal"
  },
  "language_info": {
   "codemirror_mode": {
    "name": "ipython",
    "version": 3
   },
   "file_extension": ".py",
   "mimetype": "text/x-python",
   "name": "python",
   "nbconvert_exporter": "python",
   "pygments_lexer": "ipython3",
   "version": "3.9.15"
  }
 },
 "nbformat": 4,
 "nbformat_minor": 5
}
