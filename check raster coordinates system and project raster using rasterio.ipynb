{
 "cells": [
  {
   "cell_type": "code",
   "execution_count": 2,
   "id": "794d786d",
   "metadata": {},
   "outputs": [
    {
     "name": "stderr",
     "output_type": "stream",
     "text": [
      "C:\\Users\\laral\\AppData\\Roaming\\Python\\Python39\\site-packages\\pandas\\core\\arrays\\masked.py:60: UserWarning: Pandas requires version '1.3.6' or newer of 'bottleneck' (version '1.3.5' currently installed).\n",
      "  from pandas.core import (\n"
     ]
    }
   ],
   "source": [
    "import rasterio\n",
    "from rasterio.mask import mask\n",
    "from rasterio import Affine\n",
    "import geopandas as gpd\n",
    "from shapely.geometry import box\n",
    "from rasterio.warp import calculate_default_transform, reproject"
   ]
  },
  {
   "cell_type": "markdown",
   "id": "7c430b10",
   "metadata": {},
   "source": [
    "## Check a raster coordinates reference system and projected coordinates system\n"
   ]
  },
  {
   "cell_type": "markdown",
   "id": "ca47cd51",
   "metadata": {},
   "source": [
    "## check aviris brdf reference system"
   ]
  },
  {
   "cell_type": "code",
   "execution_count": 4,
   "id": "30ac829c",
   "metadata": {},
   "outputs": [
    {
     "name": "stdout",
     "output_type": "stream",
     "text": [
      "Coordinate Reference System (CRS): PROJCS[\"unnamed\",GEOGCS[\"WGS 84\",DATUM[\"WGS_1984\",SPHEROID[\"WGS 84\",6378137,298.257223563,AUTHORITY[\"EPSG\",\"7030\"]],AUTHORITY[\"EPSG\",\"6326\"]],PRIMEM[\"Greenwich\",0],UNIT[\"Degree\",0.0174532925199433]],PROJECTION[\"Transverse_Mercator\"],PARAMETER[\"latitude_of_origin\",0],PARAMETER[\"central_meridian\",-153],PARAMETER[\"scale_factor\",0.9996],PARAMETER[\"false_easting\",500000],PARAMETER[\"false_northing\",0],UNIT[\"Meter\",1],AXIS[\"Easting\",EAST],AXIS[\"Northing\",NORTH]]\n",
      "Extent: BoundingBox(left=613781.2757715969, bottom=7442840.499244109, right=614386.7877523771, top=7443535.38312634)\n",
      "The CRS is not a geographic coordinate system.\n",
      "Projected Coordinate System (PCS): PROJCS[\"unnamed\",GEOGCS[\"WGS 84\",DATUM[\"WGS_1984\",SPHEROID[\"WGS 84\",6378137,298.257223563,AUTHORITY[\"EPSG\",\"7030\"]],AUTHORITY[\"EPSG\",\"6326\"]],PRIMEM[\"Greenwich\",0],UNIT[\"Degree\",0.0174532925199433]],PROJECTION[\"Transverse_Mercator\"],PARAMETER[\"latitude_of_origin\",0],PARAMETER[\"central_meridian\",-153],PARAMETER[\"scale_factor\",0.9996],PARAMETER[\"false_easting\",500000],PARAMETER[\"false_northing\",0],UNIT[\"Meter\",1],AXIS[\"Easting\",EAST],AXIS[\"Northing\",NORTH]]\n"
     ]
    }
   ],
   "source": [
    "\n",
    "\n",
    "# Open the image file\n",
    "with rasterio.open(r\"D:\\wenqu\\chapter1_2\\aviris\\clipped_aviris\\site1b\\site1b_aviris_clip\") as dataset:\n",
    "    # Print the coordinate reference system (CRS)\n",
    "    print(\"Coordinate Reference System (CRS):\", dataset.crs)\n",
    "    print(f\"Extent: {dataset.bounds}\")\n",
    "    \n",
    "    # Print the geographic coordinate system (GCS)\n",
    "    if dataset.crs.is_geographic:\n",
    "        print(\"Geographic Coordinate System (GCS):\", dataset.crs)\n",
    "    else:\n",
    "        print(\"The CRS is not a geographic coordinate system.\")\n",
    "        \n",
    "    # Print the projected coordinate system (PCS)\n",
    "    if dataset.crs.is_projected:\n",
    "        print(\"Projected Coordinate System (PCS):\", dataset.crs)\n",
    "    else:\n",
    "        print(\"The CRS is not a projected coordinate system.\")\n",
    "        \n",
    "        \n",
    "        \n",
    "        \n",
    "        \n",
    "        "
   ]
  },
  {
   "cell_type": "markdown",
   "id": "4bf25c26",
   "metadata": {},
   "source": [
    "## check trait img reference system"
   ]
  },
  {
   "cell_type": "code",
   "execution_count": 3,
   "id": "4c519a4d",
   "metadata": {},
   "outputs": [
    {
     "name": "stdout",
     "output_type": "stream",
     "text": [
      "Coordinate Reference System (CRS): GEOGCS[\"WGS 84\",DATUM[\"World Geodetic System 1984\",SPHEROID[\"WGS 84\",6378137,298.257223563]],PRIMEM[\"Greenwich\",0],UNIT[\"degree\",0.0174532925199433,AUTHORITY[\"EPSG\",\"9122\"]],AXIS[\"Latitude\",NORTH],AXIS[\"Longitude\",EAST]]\n",
      "Extent: BoundingBox(left=-150.37703026253, bottom=67.08205680203756, right=-150.37066834880534, top=67.0865672825422)\n",
      "Geographic Coordinate System (GCS): GEOGCS[\"WGS 84\",DATUM[\"World Geodetic System 1984\",SPHEROID[\"WGS 84\",6378137,298.257223563]],PRIMEM[\"Greenwich\",0],UNIT[\"degree\",0.0174532925199433,AUTHORITY[\"EPSG\",\"9122\"]],AXIS[\"Latitude\",NORTH],AXIS[\"Longitude\",EAST]]\n",
      "The CRS is not a projected coordinate system.\n"
     ]
    }
   ],
   "source": [
    "# Open the image file\n",
    "with rasterio.open(r'E:\\wenqu\\trait_map\\trait_map_without_chm\\site1b_PN_trait_scaled.tif') as dataset:\n",
    "    # Print the coordinate reference system (CRS)\n",
    "    print(\"Coordinate Reference System (CRS):\", dataset.crs)\n",
    "    print(f\"Extent: {dataset.bounds}\")\n",
    "    \n",
    "    # Print the geographic coordinate system (GCS)\n",
    "    if dataset.crs.is_geographic:\n",
    "        print(\"Geographic Coordinate System (GCS):\", dataset.crs)\n",
    "    else:\n",
    "        print(\"The CRS is not a geographic coordinate system.\")\n",
    "        \n",
    "    # Print the projected coordinate system (PCS)\n",
    "    if dataset.crs.is_projected:\n",
    "        print(\"Projected Coordinate System (PCS):\", dataset.crs)\n",
    "    else:\n",
    "        print(\"The CRS is not a projected coordinate system.\")"
   ]
  },
  {
   "cell_type": "markdown",
   "id": "9cce9c1a",
   "metadata": {},
   "source": [
    "## project raster 2 using raster 1"
   ]
  },
  {
   "cell_type": "code",
<<<<<<< HEAD
   "execution_count": 10,
=======
   "execution_count": 3,
>>>>>>> f79329447517f32ec74a9acbf7226d95eec87b2a
   "id": "963dae87",
   "metadata": {},
   "outputs": [],
   "source": [
    "# Open raster1 and raster2\n",
<<<<<<< HEAD
    "with rasterio.open(r\"D:\\wenqu\\chapter1_2\\aviris\\clipped_aviris\\site2c\\site2c_aviris\") as src1:\n",
    "    with rasterio.open(r'E:\\wenqu\\trait_map\\trait_map_without_chm\\site2c_PN_trait.tif') as src2:\n",
=======
    "with rasterio.open(r\"F:\\wenqu\\Aviris\\2022\\output\\ang20220706t194511_rfl_v2aa2_img_brdf\") as src1:\n",
    "    with rasterio.open(r'F:\\wenqu\\trait_map\\site1b_d15n_trait.tif') as src2:\n",
>>>>>>> f79329447517f32ec74a9acbf7226d95eec87b2a
    "        \n",
    "        # Get the CRS and bounds of raster1\n",
    "        dst_crs = src1.crs\n",
    "        dst_bounds = src1.bounds\n",
    "        \n",
    "        # Calculate the transform for raster2 to match raster1\n",
    "        transform, width, height = calculate_default_transform(\n",
    "            src2.crs, dst_crs, src2.width, src2.height, *src2.bounds)\n",
    "        \n",
    "        # Update the metadata of raster2 to match the new CRS and bounds\n",
    "        dst_profile = src2.profile.copy()\n",
    "        dst_profile.update({\n",
    "            'crs': dst_crs,\n",
    "            'transform': transform,\n",
    "            'width': width,\n",
    "            'height': height,\n",
    "            'bounds': dst_bounds\n",
    "        })\n",
    "        \n",
    "        # Reproject raster2 to match raster1\n",
<<<<<<< HEAD
    "        with rasterio.open(r\"E:\\wenqu\\trait_map\\trait_map_without_chm\\projection\\site2c_pn_proj.tif\", 'w', **dst_profile) as dst:\n",
=======
    "        with rasterio.open(r\"F:\\wenqu\\Aviris\\2022\\trait_map\\trait_map_projection\\site1b_d15n_trait_proj.tif\", 'w', **dst_profile) as dst:\n",
>>>>>>> f79329447517f32ec74a9acbf7226d95eec87b2a
    "            for i in range(1, src2.count + 1):\n",
    "                reproject(\n",
    "                    source=rasterio.band(src2, i),\n",
    "                    destination=rasterio.band(dst, i),\n",
    "                    src_transform=src2.transform,\n",
    "                    src_crs=src2.crs,\n",
    "                    dst_transform=transform,\n",
    "                    dst_crs=dst_crs,\n",
    "                    resampling=rasterio.warp.Resampling.bilinear\n",
    "                )\n"
   ]
  },
  {
   "cell_type": "code",
   "execution_count": null,
   "id": "24452818",
   "metadata": {},
   "outputs": [],
   "source": []
  }
 ],
 "metadata": {
  "kernelspec": {
   "display_name": "wenqu_gdal",
   "language": "python",
   "name": "wenqu_gdal"
  },
  "language_info": {
   "codemirror_mode": {
    "name": "ipython",
    "version": 3
   },
   "file_extension": ".py",
   "mimetype": "text/x-python",
   "name": "python",
   "nbconvert_exporter": "python",
   "pygments_lexer": "ipython3",
   "version": "3.9.15"
  }
 },
 "nbformat": 4,
 "nbformat_minor": 5
}
