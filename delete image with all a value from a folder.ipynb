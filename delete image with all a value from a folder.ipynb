{
 "cells": [
  {
   "cell_type": "code",
   "execution_count": 1,
   "id": "97d6948c",
   "metadata": {},
   "outputs": [],
   "source": [
    "from osgeo import gdal\n",
    "import os"
   ]
  },
  {
   "cell_type": "code",
   "execution_count": 2,
   "id": "7e8fd095",
   "metadata": {},
   "outputs": [],
   "source": [
    "# Define the directory path\n",
    "folder_path = \"F:/wenqu/trait_map/site2a_clip\"\n",
    "keep_file = []\n",
    "na_files = []"
   ]
  },
  {
   "cell_type": "code",
   "execution_count": 3,
   "id": "5f60fd0c",
   "metadata": {},
   "outputs": [
    {
     "name": "stderr",
     "output_type": "stream",
     "text": [
      "C:\\Users\\15086\\anaconda3\\envs\\wenqu_gdal\\lib\\site-packages\\numpy\\core\\_methods.py:181: RuntimeWarning: overflow encountered in reduce\n",
      "  ret = umr_sum(arr, axis, dtype, out, keepdims, where=where)\n"
     ]
    }
   ],
   "source": [
    "for filename in os.listdir(folder_path):\n",
    "    if filename.endswith('.tif'): # assuming you have TIFF images in the folder\n",
    "        filepath = os.path.join(folder_path, filename)\n",
    "        raster = gdal.Open(filepath).ReadAsArray().mean()\n",
    "        if (raster > 0): # check if any non-'na' value is present\n",
    "            keep_file.append(filename)\n",
    "        else:\n",
    "            na_files.append(filename)\n",
    "            \n",
    "#                 all_bands_na = False # set the flag to False\n",
    "#                 break # break the loop and move to the next file\n",
    "#         else all_bands_na:\n",
    "#             na_files.append(filename) # add the file name to the list\n",
    "\n",
    "# print(na_files)"
   ]
  },
  {
   "cell_type": "code",
   "execution_count": 4,
   "id": "f3193373",
   "metadata": {},
   "outputs": [
    {
     "data": {
      "text/plain": [
       "['0_0.tif',\n",
       " '0_1.tif',\n",
       " '0_2.tif',\n",
       " '0_3.tif',\n",
       " '0_4.tif',\n",
       " '0_5.tif',\n",
       " '10_1.tif',\n",
       " '11_1.tif',\n",
       " '12_1.tif',\n",
       " '14_5.tif',\n",
       " '19_1.tif',\n",
       " '1_0.tif',\n",
       " '1_1.tif',\n",
       " '1_2.tif',\n",
       " '1_3.tif',\n",
       " '1_4.tif',\n",
       " '1_5.tif',\n",
       " '23_1.tif',\n",
       " '24_1.tif',\n",
       " '24_4.tif',\n",
       " '24_5.tif',\n",
       " '25_1.tif',\n",
       " '25_2.tif',\n",
       " '25_3.tif',\n",
       " '25_4.tif',\n",
       " '26_1.tif',\n",
       " '26_2.tif',\n",
       " '26_3.tif',\n",
       " '27_1.tif',\n",
       " '27_2.tif',\n",
       " '27_3.tif',\n",
       " '28_1.tif',\n",
       " '28_2.tif',\n",
       " '28_3.tif',\n",
       " '29_1.tif',\n",
       " '29_2.tif',\n",
       " '29_3.tif',\n",
       " '29_4.tif',\n",
       " '29_5.tif',\n",
       " '2_0.tif',\n",
       " '2_1.tif',\n",
       " '2_2.tif',\n",
       " '2_3.tif',\n",
       " '2_4.tif',\n",
       " '2_5.tif',\n",
       " '30_1.tif',\n",
       " '30_2.tif',\n",
       " '30_3.tif',\n",
       " '30_4.tif',\n",
       " '30_5.tif',\n",
       " '31_1.tif',\n",
       " '31_2.tif',\n",
       " '31_3.tif',\n",
       " '31_4.tif',\n",
       " '32_1.tif',\n",
       " '32_2.tif',\n",
       " '32_3.tif',\n",
       " '32_4.tif',\n",
       " '33_1.tif',\n",
       " '33_2.tif',\n",
       " '33_3.tif',\n",
       " '33_4.tif',\n",
       " '34_1.tif',\n",
       " '34_2.tif',\n",
       " '34_3.tif',\n",
       " '34_4.tif',\n",
       " '35_0.tif',\n",
       " '35_1.tif',\n",
       " '35_2.tif',\n",
       " '35_3.tif',\n",
       " '35_4.tif',\n",
       " '3_0.tif',\n",
       " '3_1.tif',\n",
       " '3_2.tif',\n",
       " '3_3.tif',\n",
       " '3_4.tif',\n",
       " '3_5.tif',\n",
       " '4_0.tif',\n",
       " '4_1.tif',\n",
       " '4_2.tif',\n",
       " '4_3.tif',\n",
       " '4_4.tif',\n",
       " '4_5.tif',\n",
       " '5_0.tif',\n",
       " '5_1.tif',\n",
       " '5_2.tif',\n",
       " '5_3.tif',\n",
       " '5_4.tif',\n",
       " '5_5.tif',\n",
       " '6_0.tif',\n",
       " '6_1.tif',\n",
       " '6_2.tif',\n",
       " '6_3.tif',\n",
       " '6_4.tif',\n",
       " '6_5.tif',\n",
       " '7_0.tif',\n",
       " '7_1.tif',\n",
       " '7_2.tif',\n",
       " '7_3.tif',\n",
       " '7_4.tif',\n",
       " '7_5.tif',\n",
       " '8_1.tif',\n",
       " '8_2.tif',\n",
       " '9_1.tif']"
      ]
     },
     "execution_count": 4,
     "metadata": {},
     "output_type": "execute_result"
    }
   ],
   "source": [
    "na_files"
   ]
  },
  {
   "cell_type": "code",
   "execution_count": 5,
   "id": "abc765c5",
   "metadata": {},
   "outputs": [],
   "source": [
    "# Iterate over all files in the folder\n",
    "for filename in os.listdir(folder_path):\n",
    "    # Check if the file has the desired extension\n",
    "    if filename in na_files:\n",
    "        # Create the file path and remove the file\n",
    "        file_path = os.path.join(folder_path, filename)\n",
    "        os.remove(file_path)"
   ]
  },
  {
   "cell_type": "code",
   "execution_count": null,
   "id": "c034d5b4",
   "metadata": {},
   "outputs": [],
   "source": []
  }
 ],
 "metadata": {
  "kernelspec": {
   "display_name": "Python 3 (ipykernel)",
   "language": "python",
   "name": "python3"
  },
  "language_info": {
   "codemirror_mode": {
    "name": "ipython",
    "version": 3
   },
   "file_extension": ".py",
   "mimetype": "text/x-python",
   "name": "python",
   "nbconvert_exporter": "python",
   "pygments_lexer": "ipython3",
   "version": "3.9.15"
  }
 },
 "nbformat": 4,
 "nbformat_minor": 5
}
