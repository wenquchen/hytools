{
 "cells": [
  {
   "cell_type": "code",
   "execution_count": 4,
   "id": "b95d13d5",
   "metadata": {},
   "outputs": [],
   "source": [
    "import geopandas as gpd\n",
    "import rasterio\n",
    "from rasterio.features import rasterize\n",
    "from rasterio.mask import mask\n",
    "import numpy as np\n",
    "from rasterstats import zonal_stats\n",
    "from shapely.geometry import box"
   ]
  },
  {
   "cell_type": "code",
   "execution_count": 2,
   "id": "0ece5a8b",
   "metadata": {},
   "outputs": [],
   "source": [
    "# Path to your raster and vector data\n",
    "raster_path = r'F:\\wenqu\\Aviris\\seven_sites_trait_map\\site3b_d13c_std.tif'\n",
    "vector_path = r'F:\\wenqu\\environment_factors\\veg\\veg_shapefiles.shp'"
   ]
  },
  {
   "cell_type": "code",
   "execution_count": 5,
   "id": "8d3ac8a6",
   "metadata": {},
   "outputs": [
    {
     "name": "stderr",
     "output_type": "stream",
     "text": [
      "C:\\Users\\15086\\anaconda3\\envs\\wenqu_gdal\\lib\\site-packages\\rasterstats\\io.py:328: NodataWarning: Setting nodata to -999; specify nodata explicitly\n",
      "  warnings.warn(\n"
     ]
    },
    {
     "name": "stdout",
     "output_type": "stream",
     "text": [
      "    FID_NOAK_S              ECOREGION        PHYSIOGRAP  \\\n",
      "4         1255  Southern Brooks Range        Floodplain   \n",
      "8          103  Northern Brooks Range  Glaciated Valley   \n",
      "27        1374  Northern Brooks Range        Floodplain   \n",
      "28        1375  Northern Brooks Range  Mountain, Rugged   \n",
      "29        1376  Northern Brooks Range  Glaciated Valley   \n",
      "30        1384  Northern Brooks Range  Mountain, Rugged   \n",
      "32        2229  Southern Brooks Range  Glaciated Valley   \n",
      "35        1027  Southern Brooks Range  Mountain, Rugged   \n",
      "38        1098  Southern Brooks Range  Mountain, Rugged   \n",
      "43        1009  Southern Brooks Range  Mountain, Rugged   \n",
      "\n",
      "                    LITHOLOGY                             SUBSECTION  \\\n",
      "4          Silt, sand, gravel           Koyukuk Mountain Floodplains   \n",
      "8                   Diamicton  Sagavanirktok Young Glaciated Valleys   \n",
      "27         Silt, sand, gravel         Chandalar Mountain Floodplains   \n",
      "28  Sedimentary, noncarbonate                Koyukuk Crest Mountains   \n",
      "29                  Diamicton      Chandalar Young Glaciated Valleys   \n",
      "30  Sedimentary, noncarbonate                Koyukuk Crest Mountains   \n",
      "32                  Diamicton        Koyukuk Young Glaciated Valleys   \n",
      "35  Sedimentary, noncarbonate                     Dietrich Mountains   \n",
      "38  Sedimentary, noncarbonate                     Dietrich Mountains   \n",
      "43     Sedimentary, carbonate                      Snowden Mountains   \n",
      "\n",
      "                           SECTION_                   GEN_GEOL SUBSECT_CO  \\\n",
      "4       Endicott Southern Mountains             Fluvial, young       KYMF   \n",
      "8   Philip Smith Northern Mountains             Glacial, young       SGYG   \n",
      "27  Philip Smith Northern Mountains             Fluvial, young       CHMF   \n",
      "28  Philip Smith Northern Mountains  Sedimentary, noncarbonate       CHHM   \n",
      "29  Philip Smith Northern Mountains             Glacial, young       CHYG   \n",
      "30  Philip Smith Northern Mountains  Sedimentary, noncarbonate       KYCM   \n",
      "32      Endicott Southern Mountains             Glacial, young       KYYV   \n",
      "35      Endicott Southern Mountains  Sedimentary, noncarbonate       DIEM   \n",
      "38      Endicott Southern Mountains  Sedimentary, noncarbonate       DIEM   \n",
      "43      Endicott Southern Mountains     Sedimentary, carbonate       SNWM   \n",
      "\n",
      "                Soil_Lands  Elev_ave_N  PRISM_ave_   Biome  \\\n",
      "4        Gravelly Riverine         461        -8.4  Boreal   \n",
      "8   Rocky Glaciated Upland         916       -10.7  Arctic   \n",
      "27       Gravelly Riverine         874       -10.1  Arctic   \n",
      "28     Rocky Acidic Alpine        1389       -11.2  Arctic   \n",
      "29  Rocky Glaciated Upland         888       -10.0  Arctic   \n",
      "30     Rocky Acidic Alpine        1463       -11.5  Arctic   \n",
      "32  Rocky Glaciated Upland         600        -8.5  Boreal   \n",
      "35     Rocky Acidic Alpine        1157       -10.3  Boreal   \n",
      "38     Rocky Acidic Alpine         935        -9.2  Boreal   \n",
      "43   Rocky Alkaline Alpine        1191       -10.5  Boreal   \n",
      "\n",
      "                       Eco_Landsc  FID_noak2  flag  ORIG_FID    Shape_Leng  \\\n",
      "4        Boreal Gravelly Riverine          1     1       593  4.998937e+05   \n",
      "8   Arctic Rocky Glaciated Upland          1     1       108  5.528825e+05   \n",
      "27       Arctic Gravelly Riverine          1     1       798  1.295964e+05   \n",
      "28     Arctic Rocky Acidic Alpine          1     1       799  6.120861e+05   \n",
      "29  Arctic Rocky Glaciated Upland          1     1       800  4.104531e+05   \n",
      "30     Arctic Rocky Acidic Alpine          1     1       807  5.783217e+05   \n",
      "32  Boreal Rocky Glaciated Upland          1     1       818  1.258482e+06   \n",
      "35     Boreal Rocky Acidic Alpine          1     1       827  8.405427e+04   \n",
      "38     Boreal Rocky Acidic Alpine          1     1       838  1.256991e+05   \n",
      "43   Boreal Rocky Alkaline Alpine          1     1      1008  9.665593e+04   \n",
      "\n",
      "      Shape_Area                                           geometry  mean  \n",
      "4   1.032116e+08  POLYGON ((630700.024 7538636.900, 630944.419 7...  None  \n",
      "8   3.302890e+08  POLYGON ((669526.305 7608714.161, 668662.986 7...  None  \n",
      "27  8.610750e+06  POLYGON ((660157.180 7538161.538, 660145.199 7...  None  \n",
      "28  1.370569e+09  POLYGON ((740727.214 7613062.920, 740338.887 7...  None  \n",
      "29  2.069054e+08  POLYGON ((679104.848 7545034.756, 678994.962 7...  None  \n",
      "30  2.237892e+09  POLYGON ((725567.993 7612614.084, 726237.088 7...  None  \n",
      "32  7.075827e+08  POLYGON ((639236.481 7550270.420, 639069.219 7...  None  \n",
      "35  3.720118e+08  POLYGON ((651923.447 7539195.313, 652383.474 7...  None  \n",
      "38  3.976175e+08  POLYGON ((621024.368 7528027.864, 621968.288 7...  None  \n",
      "43  2.875467e+08  POLYGON ((651923.447 7539195.313, 651163.887 7...  None  \n"
     ]
    }
   ],
   "source": [
    "# 读取栅格数据\n",
    "with rasterio.open(raster_path) as src:\n",
    "    raster = src.read(1)  # 读取第一个波段\n",
    "    raster_bounds = src.bounds  # 获取栅格数据的边界\n",
    "\n",
    "    # 创建一个代表栅格边界的多边形\n",
    "    raster_boundary = box(*raster_bounds)\n",
    "\n",
    "    # 读取矢量数据\n",
    "    gdf = gpd.read_file(vector_path)\n",
    "\n",
    "    # 确保栅格和矢量数据在同一个坐标参考系统\n",
    "    if gdf.crs != src.crs:\n",
    "        gdf = gdf.to_crs(src.crs)\n",
    "\n",
    "    # 筛选与栅格有交集的多边形\n",
    "    gdf = gdf[gdf.intersects(raster_boundary)]\n",
    "\n",
    "    # 为筛选后的多边形计算区域统计\n",
    "    stats = zonal_stats(gdf, raster, affine=src.transform, stats=\"mean\")\n",
    "\n",
    "# 将均值添加到 GeoDataFrame\n",
    "gdf['mean'] = [stat['mean'] for stat in stats]\n",
    "\n",
    "# 查看结果\n",
    "print(gdf)"
   ]
  },
  {
   "cell_type": "code",
   "execution_count": 6,
   "id": "b9c13d0e",
   "metadata": {},
   "outputs": [],
   "source": [
    "# Specify the path for your output CSV file\n",
    "output_csv_path = r'F:\\wenqu\\Aviris\\zonal_statistics\\site3b_d13c_std.csv'\n",
    "\n",
    "# Export the Geopandas DataFrame to a CSV\n",
    "gdf.to_csv(output_csv_path, index=False)\n"
   ]
  },
  {
   "cell_type": "code",
   "execution_count": null,
   "id": "fabdbcb2",
   "metadata": {},
   "outputs": [],
   "source": []
  },
  {
   "cell_type": "code",
   "execution_count": null,
   "id": "95c10109",
   "metadata": {},
   "outputs": [],
   "source": []
  },
  {
   "cell_type": "code",
   "execution_count": null,
   "id": "0a6ebe54",
   "metadata": {},
   "outputs": [],
   "source": []
  },
  {
   "cell_type": "code",
   "execution_count": null,
   "id": "be98799f",
   "metadata": {},
   "outputs": [],
   "source": []
  },
  {
   "cell_type": "code",
   "execution_count": 2,
   "id": "371bd98d",
   "metadata": {},
   "outputs": [
    {
     "name": "stdout",
     "output_type": "stream",
     "text": [
      "Original CRS of shapefile: EPSG:32605\n"
     ]
    }
   ],
   "source": [
    "shapefile = gpd.read_file(r'F:\\wenqu\\environment_factors\\veg\\veg_shapefiles.shp')\n",
    "print(\"Original CRS of shapefile:\", shapefile.crs)"
   ]
  },
  {
   "cell_type": "code",
   "execution_count": 3,
   "id": "1fd331f5",
   "metadata": {},
   "outputs": [],
   "source": [
    "# Open the raster file\n",
    "with rasterio.open(r'F:\\wenqu\\Aviris\\seven_sites_trait_map\\site3b_d13c_std.tif') as raster:\n",
    "    raster_crs = raster.crs"
   ]
  },
  {
   "cell_type": "code",
   "execution_count": 4,
   "id": "54d3d459",
   "metadata": {},
   "outputs": [
    {
     "data": {
      "text/plain": [
       "CRS.from_epsg(32605)"
      ]
     },
     "execution_count": 4,
     "metadata": {},
     "output_type": "execute_result"
    }
   ],
   "source": [
    "raster_crs"
   ]
  },
  {
   "cell_type": "code",
   "execution_count": null,
   "id": "bb02ccdb",
   "metadata": {},
   "outputs": [],
   "source": []
  },
  {
   "cell_type": "code",
   "execution_count": null,
   "id": "d200244b",
   "metadata": {},
   "outputs": [],
   "source": []
  },
  {
   "cell_type": "code",
   "execution_count": 3,
   "id": "0079c435",
   "metadata": {},
   "outputs": [],
   "source": [
    "zones = zones.to_crs(raster.crs)"
   ]
  },
  {
   "cell_type": "code",
   "execution_count": 4,
   "id": "9f71fafd",
   "metadata": {},
   "outputs": [
    {
     "name": "stdout",
     "output_type": "stream",
     "text": [
      "BoundingBox(left=629869.750749821, bottom=7534979.225544035, right=645434.0635935275, top=7563798.51777)\n",
      "[ 533390.42305868 7396099.04647997  740727.21380095 7827544.18449133]\n"
     ]
    }
   ],
   "source": [
    "print(raster.bounds)\n",
    "print(zones.total_bounds)\n"
   ]
  },
  {
   "cell_type": "code",
   "execution_count": 5,
   "id": "847d573f",
   "metadata": {},
   "outputs": [
    {
     "name": "stdout",
     "output_type": "stream",
     "text": [
      "The no-data value is: None\n"
     ]
    }
   ],
   "source": [
    "\n",
    "# Open the raster dataset\n",
    "with rasterio.open(r'F:\\wenqu\\Aviris\\seven_sites_trait_map\\site3b_d13c_std.tif') as dataset:\n",
    "    # Get the no-data value\n",
    "    no_data_value = dataset.nodata\n",
    "\n",
    "print(f\"The no-data value is: {no_data_value}\")\n"
   ]
  },
  {
   "cell_type": "code",
   "execution_count": 3,
   "id": "dab5ea03",
   "metadata": {},
   "outputs": [],
   "source": [
    "transform = raster.transform\n",
    "rasterized_zones = rasterize(\n",
    "    [(geom, value) for geom, value in zip(zones.geometry, zones['FID_NOAK_S'])],\n",
    "    out_shape=raster.shape,\n",
    "    transform=transform\n",
    ")\n"
   ]
  },
  {
   "cell_type": "code",
   "execution_count": 4,
   "id": "00e3b997",
   "metadata": {},
   "outputs": [
    {
     "ename": "ValueError",
     "evalue": "Input shapes do not overlap raster.",
     "output_type": "error",
     "traceback": [
      "\u001b[1;31m---------------------------------------------------------------------------\u001b[0m",
      "\u001b[1;31mWindowError\u001b[0m                               Traceback (most recent call last)",
      "File \u001b[1;32m~\\anaconda3\\envs\\wenqu_gdal\\lib\\site-packages\\rasterio\\mask.py:80\u001b[0m, in \u001b[0;36mraster_geometry_mask\u001b[1;34m(dataset, shapes, all_touched, invert, crop, pad, pad_width)\u001b[0m\n\u001b[0;32m     79\u001b[0m \u001b[38;5;28;01mtry\u001b[39;00m:\n\u001b[1;32m---> 80\u001b[0m     window \u001b[38;5;241m=\u001b[39m \u001b[43mgeometry_window\u001b[49m\u001b[43m(\u001b[49m\u001b[43mdataset\u001b[49m\u001b[43m,\u001b[49m\u001b[43m \u001b[49m\u001b[43mshapes\u001b[49m\u001b[43m,\u001b[49m\u001b[43m \u001b[49m\u001b[43mpad_x\u001b[49m\u001b[38;5;241;43m=\u001b[39;49m\u001b[43mpad_x\u001b[49m\u001b[43m,\u001b[49m\u001b[43m \u001b[49m\u001b[43mpad_y\u001b[49m\u001b[38;5;241;43m=\u001b[39;49m\u001b[43mpad_y\u001b[49m\u001b[43m)\u001b[49m\n\u001b[0;32m     82\u001b[0m \u001b[38;5;28;01mexcept\u001b[39;00m WindowError:\n\u001b[0;32m     83\u001b[0m     \u001b[38;5;66;03m# If shapes do not overlap raster, raise Exception or UserWarning\u001b[39;00m\n\u001b[0;32m     84\u001b[0m     \u001b[38;5;66;03m# depending on value of crop\u001b[39;00m\n",
      "File \u001b[1;32m~\\anaconda3\\envs\\wenqu_gdal\\lib\\site-packages\\rasterio\\features.py:473\u001b[0m, in \u001b[0;36mgeometry_window\u001b[1;34m(dataset, shapes, pad_x, pad_y, north_up, rotated, pixel_precision, boundless)\u001b[0m\n\u001b[0;32m    472\u001b[0m \u001b[38;5;28;01mif\u001b[39;00m \u001b[38;5;129;01mnot\u001b[39;00m boundless:\n\u001b[1;32m--> 473\u001b[0m     window \u001b[38;5;241m=\u001b[39m \u001b[43mwindow\u001b[49m\u001b[38;5;241;43m.\u001b[39;49m\u001b[43mintersection\u001b[49m\u001b[43m(\u001b[49m\u001b[43mraster_window\u001b[49m\u001b[43m)\u001b[49m\n\u001b[0;32m    475\u001b[0m \u001b[38;5;28;01mreturn\u001b[39;00m window\n",
      "File \u001b[1;32m~\\anaconda3\\envs\\wenqu_gdal\\lib\\site-packages\\rasterio\\windows.py:775\u001b[0m, in \u001b[0;36mWindow.intersection\u001b[1;34m(self, other)\u001b[0m\n\u001b[0;32m    763\u001b[0m \u001b[38;5;250m\u001b[39m\u001b[38;5;124;03m\"\"\"Return the intersection of this window and another\u001b[39;00m\n\u001b[0;32m    764\u001b[0m \n\u001b[0;32m    765\u001b[0m \u001b[38;5;124;03mParameters\u001b[39;00m\n\u001b[1;32m   (...)\u001b[0m\n\u001b[0;32m    773\u001b[0m \u001b[38;5;124;03mWindow\u001b[39;00m\n\u001b[0;32m    774\u001b[0m \u001b[38;5;124;03m\"\"\"\u001b[39;00m\n\u001b[1;32m--> 775\u001b[0m \u001b[38;5;28;01mreturn\u001b[39;00m \u001b[43mintersection\u001b[49m\u001b[43m(\u001b[49m\u001b[43m[\u001b[49m\u001b[38;5;28;43mself\u001b[39;49m\u001b[43m,\u001b[49m\u001b[43m \u001b[49m\u001b[43mother\u001b[49m\u001b[43m]\u001b[49m\u001b[43m)\u001b[49m\n",
      "File \u001b[1;32m~\\anaconda3\\envs\\wenqu_gdal\\lib\\site-packages\\rasterio\\windows.py:125\u001b[0m, in \u001b[0;36miter_args.<locals>.wrapper\u001b[1;34m(*args, **kwargs)\u001b[0m\n\u001b[0;32m    124\u001b[0m \u001b[38;5;28;01mif\u001b[39;00m \u001b[38;5;28mlen\u001b[39m(args) \u001b[38;5;241m==\u001b[39m \u001b[38;5;241m1\u001b[39m \u001b[38;5;129;01mand\u001b[39;00m \u001b[38;5;28misinstance\u001b[39m(args[\u001b[38;5;241m0\u001b[39m], Iterable):\n\u001b[1;32m--> 125\u001b[0m     \u001b[38;5;28;01mreturn\u001b[39;00m \u001b[43mfunction\u001b[49m\u001b[43m(\u001b[49m\u001b[38;5;241;43m*\u001b[39;49m\u001b[43margs\u001b[49m\u001b[43m[\u001b[49m\u001b[38;5;241;43m0\u001b[39;49m\u001b[43m]\u001b[49m\u001b[43m)\u001b[49m\n\u001b[0;32m    126\u001b[0m \u001b[38;5;28;01melse\u001b[39;00m:\n",
      "File \u001b[1;32m~\\anaconda3\\envs\\wenqu_gdal\\lib\\site-packages\\rasterio\\windows.py:239\u001b[0m, in \u001b[0;36mintersection\u001b[1;34m(*windows)\u001b[0m\n\u001b[0;32m    226\u001b[0m \u001b[38;5;250m\u001b[39m\u001b[38;5;124;03m\"\"\"Innermost extent of window intersections.\u001b[39;00m\n\u001b[0;32m    227\u001b[0m \n\u001b[0;32m    228\u001b[0m \u001b[38;5;124;03mWill raise WindowError if windows do not intersect.\u001b[39;00m\n\u001b[1;32m   (...)\u001b[0m\n\u001b[0;32m    237\u001b[0m \u001b[38;5;124;03mWindow\u001b[39;00m\n\u001b[0;32m    238\u001b[0m \u001b[38;5;124;03m\"\"\"\u001b[39;00m\n\u001b[1;32m--> 239\u001b[0m \u001b[38;5;28;01mreturn\u001b[39;00m \u001b[43mfunctools\u001b[49m\u001b[38;5;241;43m.\u001b[39;49m\u001b[43mreduce\u001b[49m\u001b[43m(\u001b[49m\u001b[43m_intersection\u001b[49m\u001b[43m,\u001b[49m\u001b[43m \u001b[49m\u001b[43mwindows\u001b[49m\u001b[43m)\u001b[49m\n",
      "File \u001b[1;32m~\\anaconda3\\envs\\wenqu_gdal\\lib\\site-packages\\rasterio\\windows.py:257\u001b[0m, in \u001b[0;36m_intersection\u001b[1;34m(w1, w2)\u001b[0m\n\u001b[0;32m    256\u001b[0m \u001b[38;5;28;01melse\u001b[39;00m:\n\u001b[1;32m--> 257\u001b[0m     \u001b[38;5;28;01mraise\u001b[39;00m WindowError(\u001b[38;5;124mf\u001b[39m\u001b[38;5;124m\"\u001b[39m\u001b[38;5;124mIntersection is empty \u001b[39m\u001b[38;5;132;01m{\u001b[39;00mw1\u001b[38;5;132;01m}\u001b[39;00m\u001b[38;5;124m \u001b[39m\u001b[38;5;132;01m{\u001b[39;00mw2\u001b[38;5;132;01m}\u001b[39;00m\u001b[38;5;124m\"\u001b[39m)\n",
      "\u001b[1;31mWindowError\u001b[0m: Intersection is empty Window(col_off=-50343, row_off=29311, width=9594, height=11348) Window(col_off=0, row_off=0, width=697, height=7070)",
      "\nDuring handling of the above exception, another exception occurred:\n",
      "\u001b[1;31mValueError\u001b[0m                                Traceback (most recent call last)",
      "Cell \u001b[1;32mIn[4], line 4\u001b[0m\n\u001b[0;32m      1\u001b[0m stats \u001b[38;5;241m=\u001b[39m {}\n\u001b[0;32m      2\u001b[0m \u001b[38;5;28;01mfor\u001b[39;00m fid \u001b[38;5;129;01min\u001b[39;00m zones[\u001b[38;5;124m'\u001b[39m\u001b[38;5;124mFID_NOAK_S\u001b[39m\u001b[38;5;124m'\u001b[39m]\u001b[38;5;241m.\u001b[39munique():\n\u001b[0;32m      3\u001b[0m     \u001b[38;5;66;03m# Mask the raster data with each zone\u001b[39;00m\n\u001b[1;32m----> 4\u001b[0m     masked_data, _ \u001b[38;5;241m=\u001b[39m \u001b[43mmask\u001b[49m\u001b[43m(\u001b[49m\u001b[43mraster\u001b[49m\u001b[43m,\u001b[49m\u001b[43m \u001b[49m\u001b[43mzones\u001b[49m\u001b[43m[\u001b[49m\u001b[43mzones\u001b[49m\u001b[43m[\u001b[49m\u001b[38;5;124;43m'\u001b[39;49m\u001b[38;5;124;43mFID_NOAK_S\u001b[39;49m\u001b[38;5;124;43m'\u001b[39;49m\u001b[43m]\u001b[49m\u001b[43m \u001b[49m\u001b[38;5;241;43m==\u001b[39;49m\u001b[43m \u001b[49m\u001b[43mfid\u001b[49m\u001b[43m]\u001b[49m\u001b[38;5;241;43m.\u001b[39;49m\u001b[43mgeometry\u001b[49m\u001b[43m,\u001b[49m\u001b[43m \u001b[49m\u001b[43mcrop\u001b[49m\u001b[38;5;241;43m=\u001b[39;49m\u001b[38;5;28;43;01mTrue\u001b[39;49;00m\u001b[43m)\u001b[49m\n\u001b[0;32m      5\u001b[0m     stats[value] \u001b[38;5;241m=\u001b[39m masked_data\u001b[38;5;241m.\u001b[39mmean()\n",
      "File \u001b[1;32m~\\anaconda3\\envs\\wenqu_gdal\\lib\\site-packages\\rasterio\\mask.py:178\u001b[0m, in \u001b[0;36mmask\u001b[1;34m(dataset, shapes, all_touched, invert, nodata, filled, crop, pad, pad_width, indexes)\u001b[0m\n\u001b[0;32m    175\u001b[0m     \u001b[38;5;28;01melse\u001b[39;00m:\n\u001b[0;32m    176\u001b[0m         nodata \u001b[38;5;241m=\u001b[39m \u001b[38;5;241m0\u001b[39m\n\u001b[1;32m--> 178\u001b[0m shape_mask, transform, window \u001b[38;5;241m=\u001b[39m \u001b[43mraster_geometry_mask\u001b[49m\u001b[43m(\u001b[49m\n\u001b[0;32m    179\u001b[0m \u001b[43m    \u001b[49m\u001b[43mdataset\u001b[49m\u001b[43m,\u001b[49m\u001b[43m \u001b[49m\u001b[43mshapes\u001b[49m\u001b[43m,\u001b[49m\u001b[43m \u001b[49m\u001b[43mall_touched\u001b[49m\u001b[38;5;241;43m=\u001b[39;49m\u001b[43mall_touched\u001b[49m\u001b[43m,\u001b[49m\u001b[43m \u001b[49m\u001b[43minvert\u001b[49m\u001b[38;5;241;43m=\u001b[39;49m\u001b[43minvert\u001b[49m\u001b[43m,\u001b[49m\u001b[43m \u001b[49m\u001b[43mcrop\u001b[49m\u001b[38;5;241;43m=\u001b[39;49m\u001b[43mcrop\u001b[49m\u001b[43m,\u001b[49m\n\u001b[0;32m    180\u001b[0m \u001b[43m    \u001b[49m\u001b[43mpad\u001b[49m\u001b[38;5;241;43m=\u001b[39;49m\u001b[43mpad\u001b[49m\u001b[43m,\u001b[49m\u001b[43m \u001b[49m\u001b[43mpad_width\u001b[49m\u001b[38;5;241;43m=\u001b[39;49m\u001b[43mpad_width\u001b[49m\u001b[43m)\u001b[49m\n\u001b[0;32m    182\u001b[0m \u001b[38;5;28;01mif\u001b[39;00m indexes \u001b[38;5;129;01mis\u001b[39;00m \u001b[38;5;28;01mNone\u001b[39;00m:\n\u001b[0;32m    183\u001b[0m     out_shape \u001b[38;5;241m=\u001b[39m (dataset\u001b[38;5;241m.\u001b[39mcount, ) \u001b[38;5;241m+\u001b[39m shape_mask\u001b[38;5;241m.\u001b[39mshape\n",
      "File \u001b[1;32m~\\anaconda3\\envs\\wenqu_gdal\\lib\\site-packages\\rasterio\\mask.py:86\u001b[0m, in \u001b[0;36mraster_geometry_mask\u001b[1;34m(dataset, shapes, all_touched, invert, crop, pad, pad_width)\u001b[0m\n\u001b[0;32m     82\u001b[0m \u001b[38;5;28;01mexcept\u001b[39;00m WindowError:\n\u001b[0;32m     83\u001b[0m     \u001b[38;5;66;03m# If shapes do not overlap raster, raise Exception or UserWarning\u001b[39;00m\n\u001b[0;32m     84\u001b[0m     \u001b[38;5;66;03m# depending on value of crop\u001b[39;00m\n\u001b[0;32m     85\u001b[0m     \u001b[38;5;28;01mif\u001b[39;00m crop:\n\u001b[1;32m---> 86\u001b[0m         \u001b[38;5;28;01mraise\u001b[39;00m \u001b[38;5;167;01mValueError\u001b[39;00m(\u001b[38;5;124m'\u001b[39m\u001b[38;5;124mInput shapes do not overlap raster.\u001b[39m\u001b[38;5;124m'\u001b[39m)\n\u001b[0;32m     87\u001b[0m     \u001b[38;5;28;01melse\u001b[39;00m:\n\u001b[0;32m     88\u001b[0m         warnings\u001b[38;5;241m.\u001b[39mwarn(\u001b[38;5;124m'\u001b[39m\u001b[38;5;124mshapes are outside bounds of raster. \u001b[39m\u001b[38;5;124m'\u001b[39m\n\u001b[0;32m     89\u001b[0m                       \u001b[38;5;124m'\u001b[39m\u001b[38;5;124mAre they in different coordinate reference systems?\u001b[39m\u001b[38;5;124m'\u001b[39m)\n",
      "\u001b[1;31mValueError\u001b[0m: Input shapes do not overlap raster."
     ]
    }
   ],
   "source": [
    "stats = {}\n",
    "for fid in zones['FID_NOAK_S'].unique():\n",
    "    # Mask the raster data with each zone\n",
    "    masked_data, _ = mask(raster, zones[zones['FID_NOAK_S'] == fid].geometry, crop=True)\n",
    "    stats[value] = masked_data.mean()\n",
    "\n"
   ]
  },
  {
   "cell_type": "code",
   "execution_count": null,
   "id": "07ac9a43",
   "metadata": {},
   "outputs": [],
   "source": []
  }
 ],
 "metadata": {
  "kernelspec": {
   "display_name": "wenqu_gdal",
   "language": "python",
   "name": "wenqu_gdal"
  },
  "language_info": {
   "codemirror_mode": {
    "name": "ipython",
    "version": 3
   },
   "file_extension": ".py",
   "mimetype": "text/x-python",
   "name": "python",
   "nbconvert_exporter": "python",
   "pygments_lexer": "ipython3",
   "version": "3.9.15"
  }
 },
 "nbformat": 4,
 "nbformat_minor": 5
}
