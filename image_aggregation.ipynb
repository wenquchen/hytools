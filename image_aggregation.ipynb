{
 "cells": [
  {
   "cell_type": "code",
   "execution_count": 10,
   "id": "339a3834",
   "metadata": {},
   "outputs": [],
   "source": [
    "import numpy as np\n",
    "# from arsf_envi_reader import envi_header\n",
    "import shutil\n",
    "import os\n",
    "import json\n",
    "import math\n",
    "# import affine\n",
    "import pandas as pd\n",
    "import matplotlib.pyplot as plt\n",
    "import matplotlib.gridspec as gridspec\n",
    "from osgeo import gdal,ogr,osr\n",
    "from scipy.optimize import curve_fit\n",
    "# from tqdm import tqdm\n",
    "# import multiprocess as mp\n",
    "from scipy import ndimage\n",
    "from numpy import trapz"
   ]
  },
  {
   "cell_type": "code",
   "execution_count": 7,
   "id": "6e7f42bd",
   "metadata": {},
   "outputs": [
    {
     "data": {
      "text/plain": [
       "(122, 19347, 10637)"
      ]
     },
     "execution_count": 7,
     "metadata": {},
     "output_type": "execute_result"
    }
   ],
   "source": [
    "high_res_img = gdal.Open(r'F:\\wenqu\\mosaic\\simulation_mosaic\\site1b\\site1b_simulation_mosaic')\n",
    "high_res_radiance = gdal.Open(r'F:\\wenqu\\mosaic\\simulation_mosaic\\site1b\\site1b_simulation_mosaic').ReadAsArray() \n",
    "\n",
    "high_res_radiance.shape"
   ]
  },
  {
   "cell_type": "code",
   "execution_count": 8,
   "id": "aab2eb9f",
   "metadata": {},
   "outputs": [],
   "source": [
    "b_12 = high_res_radiance[11, :, :]"
   ]
  },
  {
   "cell_type": "code",
   "execution_count": null,
   "id": "1fa0dd19",
   "metadata": {},
   "outputs": [],
   "source": [
    "b_12_mean = ndimage.generic_filter(b_12, np.nanmean, size=19, mode='constant', cval=np.NaN)"
   ]
  },
  {
   "cell_type": "code",
   "execution_count": null,
   "id": "cc183661",
   "metadata": {},
   "outputs": [],
   "source": [
    "b_12_mean.shape"
   ]
  }
 ],
 "metadata": {
  "kernelspec": {
   "display_name": "wenqu_gdal",
   "language": "python",
   "name": "wenqu_gdal"
  },
  "language_info": {
   "codemirror_mode": {
    "name": "ipython",
    "version": 3
   },
   "file_extension": ".py",
   "mimetype": "text/x-python",
   "name": "python",
   "nbconvert_exporter": "python",
   "pygments_lexer": "ipython3",
   "version": "3.9.15"
  }
 },
 "nbformat": 4,
 "nbformat_minor": 5
}
