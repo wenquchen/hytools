{
 "cells": [
  {
   "cell_type": "code",
   "execution_count": 1,
   "id": "d865a25a",
   "metadata": {},
   "outputs": [],
   "source": [
    "import os\n",
    "from osgeo import gdal,ogr,osr\n",
    "import pandas as pd\n",
    "\n",
    "\n",
    "\n",
    "\n",
    "\n"
   ]
  },
  {
   "cell_type": "code",
   "execution_count": 2,
   "id": "a7b61912",
   "metadata": {},
   "outputs": [],
   "source": [
    "tiff_dir = r'F:\\wenqu\\mosaic\\simulation_clip\\simulation_clip\\site6'\n",
    "csv_file = r'F:\\wenqu\\mosaic\\simulation_clip\\simulation_clip\\site6\\site6_statistics.csv'"
   ]
  },
  {
   "cell_type": "code",
   "execution_count": 3,
   "id": "5d1be571",
   "metadata": {},
   "outputs": [],
   "source": [
    "def get_band_statistics(tiff_file, band_count=122):\n",
    "    dataset = gdal.Open(tiff_file)\n",
    "    stats = []\n",
    "    for band_number in range(1, band_count + 1):\n",
    "        band = dataset.GetRasterBand(band_number)\n",
    "        mean, std_dev = band.ComputeStatistics(0)[2:4]\n",
    "        stats.extend([mean, std_dev])\n",
    "    return stats\n",
    "\n",
    "\n",
    "# Create DataFrame with appropriate columns\n",
    "columns = [f'Band_{i}_Mean' for i in range(1, 123)] + [f'Band_{i}_StdDev' for i in range(1, 123)]\n",
    "band_stats_df = pd.DataFrame(columns=columns)\n",
    "\n",
    "# Process each TIFF file\n",
    "for aviris_file in os.listdir(tiff_dir):\n",
    "    if aviris_file.endswith('.tif'):  # Ensure it's a TIFF file\n",
    "        file_path = os.path.join(tiff_dir, aviris_file)\n",
    "        file_stats = get_band_statistics(file_path)\n",
    "        band_stats_df.loc[aviris_file] = file_stats\n",
    "\n",
    "# Write the DataFrame to a CSV file\n",
    "band_stats_df.to_csv(csv_file)"
   ]
  },
  {
   "cell_type": "code",
   "execution_count": null,
   "id": "5b4c7b97",
   "metadata": {},
   "outputs": [],
   "source": []
  }
 ],
 "metadata": {
  "kernelspec": {
   "display_name": "wenqu_gdal",
   "language": "python",
   "name": "wenqu_gdal"
  },
  "language_info": {
   "codemirror_mode": {
    "name": "ipython",
    "version": 3
   },
   "file_extension": ".py",
   "mimetype": "text/x-python",
   "name": "python",
   "nbconvert_exporter": "python",
   "pygments_lexer": "ipython3",
   "version": "3.9.15"
  }
 },
 "nbformat": 4,
 "nbformat_minor": 5
}
